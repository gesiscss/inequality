{
 "cells": [
  {
   "cell_type": "code",
   "execution_count": 1,
   "metadata": {},
   "outputs": [],
   "source": [
    "import pandas as pd"
   ]
  },
  {
   "cell_type": "code",
   "execution_count": 38,
   "metadata": {},
   "outputs": [],
   "source": [
    "author_order = pd.read_csv(\"data/pub_authors_order_2017.tsv\", sep='\\t')"
   ]
  },
  {
   "cell_type": "code",
   "execution_count": 50,
   "metadata": {},
   "outputs": [],
   "source": [
    "author_order = author_order.rename({'title':'year', 'year': 'title'}, axis='columns').drop('title', axis='columns')"
   ]
  },
  {
   "cell_type": "code",
   "execution_count": 51,
   "metadata": {},
   "outputs": [
    {
     "name": "stdout",
     "output_type": "stream",
     "text": [
      "(3079838, 3)\n",
      "(3078230, 3)\n"
     ]
    }
   ],
   "source": [
    "print(author_order.shape)\n",
    "author_order.drop_duplicates(subset='pub_id', inplace=True)\n",
    "print(author_order.shape)\n",
    "print(author_order.columns)"
   ]
  },
  {
   "cell_type": "code",
   "execution_count": 54,
   "metadata": {},
   "outputs": [],
   "source": [
    "# calculate the number of authors\n",
    "author_order['num_authors'] = author_order['authors'].apply(lambda x: len(x.split(',')))"
   ]
  },
  {
   "cell_type": "markdown",
   "metadata": {},
   "source": [
    "### How many papers have alphabetical sorting by last name?\n",
    "If multiple last names are present, i use the most last one"
   ]
  },
  {
   "cell_type": "code",
   "execution_count": 55,
   "metadata": {},
   "outputs": [],
   "source": [
    "def is_alpha(auth_string):\n",
    "    auth_list = auth_string.split(',')\n",
    "    auth_all_names = [auth_full_name.split(' ') for auth_full_name in auth_list]\n",
    "    auth_last_names = [name[-1] if not name[-1].isdigit() else name[-2] for name in auth_all_names]\n",
    "#     print(auth_last_names)\n",
    "    if sorted(auth_last_names) == auth_last_names: return True\n",
    "    return False"
   ]
  },
  {
   "cell_type": "code",
   "execution_count": 56,
   "metadata": {},
   "outputs": [],
   "source": [
    "author_order['is_alpha'] = author_order['authors'].apply(lambda x: is_alpha(x))"
   ]
  },
  {
   "cell_type": "code",
   "execution_count": 57,
   "metadata": {},
   "outputs": [
    {
     "data": {
      "text/plain": [
       "False    0.686127\n",
       "True     0.313873\n",
       "Name: is_alpha, dtype: float64"
      ]
     },
     "execution_count": 57,
     "metadata": {},
     "output_type": "execute_result"
    }
   ],
   "source": [
    "author_order[author_order['num_authors'] > 1]['is_alpha'].value_counts(normalize=True)"
   ]
  },
  {
   "cell_type": "code",
   "execution_count": 58,
   "metadata": {},
   "outputs": [
    {
     "name": "stdout",
     "output_type": "stream",
     "text": [
      "ankita brahmachari,priya singh,avdhesh garg,dipankar das\n",
      "False\n"
     ]
    }
   ],
   "source": [
    "# a = author_order['authors'].iloc[9]\n",
    "# print(a)\n",
    "# print(is_alpha(a))"
   ]
  },
  {
   "cell_type": "markdown",
   "metadata": {},
   "source": [
    "Seventy percent of data is not ordered alphabetically"
   ]
  },
  {
   "cell_type": "markdown",
   "metadata": {},
   "source": [
    "### Find the first author of the paper"
   ]
  },
  {
   "cell_type": "code",
   "execution_count": 59,
   "metadata": {},
   "outputs": [],
   "source": [
    "author_order['first_author'] = author_order['authors'].apply(lambda x: x.split(',')[0])"
   ]
  },
  {
   "cell_type": "markdown",
   "metadata": {},
   "source": [
    "### Save derived data"
   ]
  },
  {
   "cell_type": "code",
   "execution_count": 62,
   "metadata": {},
   "outputs": [
    {
     "name": "stdout",
     "output_type": "stream",
     "text": [
      "(3078230, 6)\n",
      "(3078230, 6)\n",
      "Index(['pub_id', 'year', 'authors', 'num_authors', 'is_alpha', 'first_author'], dtype='object')\n"
     ]
    }
   ],
   "source": [
    "print(author_order.shape)\n",
    "author_order.drop_duplicates(subset='pub_id', inplace=True)\n",
    "print(author_order.shape)\n",
    "print(author_order.columns)"
   ]
  },
  {
   "cell_type": "code",
   "execution_count": 63,
   "metadata": {},
   "outputs": [],
   "source": [
    "author_order.to_csv('derived-data/publication_authors_order_2017.csv', index=False)"
   ]
  },
  {
   "cell_type": "code",
   "execution_count": 64,
   "metadata": {},
   "outputs": [
    {
     "data": {
      "text/html": [
       "<div>\n",
       "<style scoped>\n",
       "    .dataframe tbody tr th:only-of-type {\n",
       "        vertical-align: middle;\n",
       "    }\n",
       "\n",
       "    .dataframe tbody tr th {\n",
       "        vertical-align: top;\n",
       "    }\n",
       "\n",
       "    .dataframe thead th {\n",
       "        text-align: right;\n",
       "    }\n",
       "</style>\n",
       "<table border=\"1\" class=\"dataframe\">\n",
       "  <thead>\n",
       "    <tr style=\"text-align: right;\">\n",
       "      <th></th>\n",
       "      <th>pub_id</th>\n",
       "      <th>year</th>\n",
       "      <th>authors</th>\n",
       "      <th>num_authors</th>\n",
       "      <th>is_alpha</th>\n",
       "      <th>first_author</th>\n",
       "    </tr>\n",
       "  </thead>\n",
       "  <tbody>\n",
       "    <tr>\n",
       "      <th>0</th>\n",
       "      <td>001c58d3-26ad-46b3-ab3a-c1e557d16821</td>\n",
       "      <td>2011</td>\n",
       "      <td>gareth beale,graeme earl</td>\n",
       "      <td>2</td>\n",
       "      <td>True</td>\n",
       "      <td>gareth beale</td>\n",
       "    </tr>\n",
       "    <tr>\n",
       "      <th>1</th>\n",
       "      <td>001c8744-73c4-4b04-9364-22d31a10dbf1</td>\n",
       "      <td>2009</td>\n",
       "      <td>altaf hossain,faisal zaman,m. nasser,m. mufakh...</td>\n",
       "      <td>4</td>\n",
       "      <td>False</td>\n",
       "      <td>altaf hossain</td>\n",
       "    </tr>\n",
       "    <tr>\n",
       "      <th>2</th>\n",
       "      <td>00338203-9eb3-40c5-9f31-cbac73a519ec</td>\n",
       "      <td>2011</td>\n",
       "      <td>jea-bum park,byung-mok kim,jian shen,sun-young...</td>\n",
       "      <td>5</td>\n",
       "      <td>False</td>\n",
       "      <td>jea-bum park</td>\n",
       "    </tr>\n",
       "    <tr>\n",
       "      <th>3</th>\n",
       "      <td>0040b022-1472-4f70-a753-74832df65266</td>\n",
       "      <td>1998</td>\n",
       "      <td>giovanna guerrini,isabella merlo</td>\n",
       "      <td>2</td>\n",
       "      <td>True</td>\n",
       "      <td>giovanna guerrini</td>\n",
       "    </tr>\n",
       "    <tr>\n",
       "      <th>4</th>\n",
       "      <td>005ce28f-ed77-4e97-afdc-a296137186a1</td>\n",
       "      <td>2009</td>\n",
       "      <td>rafael álvarez,leandro tortosa,josé-francisco ...</td>\n",
       "      <td>4</td>\n",
       "      <td>False</td>\n",
       "      <td>rafael álvarez</td>\n",
       "    </tr>\n",
       "  </tbody>\n",
       "</table>\n",
       "</div>"
      ],
      "text/plain": [
       "                                 pub_id  year  \\\n",
       "0  001c58d3-26ad-46b3-ab3a-c1e557d16821  2011   \n",
       "1  001c8744-73c4-4b04-9364-22d31a10dbf1  2009   \n",
       "2  00338203-9eb3-40c5-9f31-cbac73a519ec  2011   \n",
       "3  0040b022-1472-4f70-a753-74832df65266  1998   \n",
       "4  005ce28f-ed77-4e97-afdc-a296137186a1  2009   \n",
       "\n",
       "                                             authors  num_authors  is_alpha  \\\n",
       "0                           gareth beale,graeme earl            2      True   \n",
       "1  altaf hossain,faisal zaman,m. nasser,m. mufakh...            4     False   \n",
       "2  jea-bum park,byung-mok kim,jian shen,sun-young...            5     False   \n",
       "3                   giovanna guerrini,isabella merlo            2      True   \n",
       "4  rafael álvarez,leandro tortosa,josé-francisco ...            4     False   \n",
       "\n",
       "        first_author  \n",
       "0       gareth beale  \n",
       "1      altaf hossain  \n",
       "2       jea-bum park  \n",
       "3  giovanna guerrini  \n",
       "4     rafael álvarez  "
      ]
     },
     "execution_count": 64,
     "metadata": {},
     "output_type": "execute_result"
    }
   ],
   "source": [
    "author_order.head()"
   ]
  },
  {
   "cell_type": "code",
   "execution_count": null,
   "metadata": {},
   "outputs": [],
   "source": [
    "# fraction of first author papers in the early career"
   ]
  }
 ],
 "metadata": {
  "kernelspec": {
   "display_name": "Python 3",
   "language": "python",
   "name": "python3"
  },
  "language_info": {
   "codemirror_mode": {
    "name": "ipython",
    "version": 3
   },
   "file_extension": ".py",
   "mimetype": "text/x-python",
   "name": "python",
   "nbconvert_exporter": "python",
   "pygments_lexer": "ipython3",
   "version": "3.7.3"
  }
 },
 "nbformat": 4,
 "nbformat_minor": 1
}
