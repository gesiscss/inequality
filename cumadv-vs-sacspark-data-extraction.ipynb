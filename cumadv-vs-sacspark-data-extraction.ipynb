{
 "cells": [
  {
   "cell_type": "code",
   "execution_count": 204,
   "metadata": {
    "collapsed": true
   },
   "outputs": [],
   "source": [
    "import pandas as pd\n",
    "import numpy as np\n",
    "import matplotlib.pyplot as plt\n",
    "%matplotlib inline\n",
    "import timeit\n",
    "import time\n",
    "import seaborn as sns\n",
    "\n",
    "#these are user defined modules"
   ]
  },
  {
   "cell_type": "code",
   "execution_count": 219,
   "metadata": {
    "collapsed": false
   },
   "outputs": [
    {
     "name": "stdout",
     "output_type": "stream",
     "text": [
      "                  author  start_year  end_year  total_num_pub  career_length\n",
      "0       'maseka lesaoana        2001      2015              2             14\n",
      "1  (max) zong-ming cheng        2009      2011              2              2\n",
      "2       (zhou) bryan bai        2011      2012              2              1\n",
      "3                  a lun        2010      2010              1              0\n",
      "4             a min tjoa        1979      2015            193             36\n",
      "(1708185, 5)\n",
      "Filter to reduce data for estimate time\n",
      "                 author  start_year  end_year  total_num_pub  career_length\n",
      "23402    abraham berman        1971      2016              7             45\n",
      "27514    adi ben-israel        1971      2016             18             45\n",
      "42497  alain bensoussan        1970      2016             44             46\n",
      "43571        alan bundy        1971      2016            171             45\n",
      "44000   alan g. konheim        1971      2016             29             45\n",
      "(180, 5)\n"
     ]
    }
   ],
   "source": [
    "# Authors with Career length \n",
    "CAREER_LENGTH_LIST = [0,5,10,15,20,25]\n",
    "CAREER_LENGTH = 0\n",
    "\n",
    "authorStartEndCareerData = pd.read_csv('./data/authors-scientific-atleast-'+str(CAREER_LENGTH)+'-year.csv')\n",
    "print(authorStartEndCareerData.head())\n",
    "print(authorStartEndCareerData.shape)\n",
    "\n",
    "print('Filter to reduce data for estimate time')\n",
    "authorStartEndCareerData = authorStartEndCareerData[authorStartEndCareerData['career_length'] >= 45]\n",
    "print(authorStartEndCareerData.head())\n",
    "print(authorStartEndCareerData.shape)"
   ]
  },
  {
   "cell_type": "code",
   "execution_count": 220,
   "metadata": {
    "collapsed": false
   },
   "outputs": [
    {
     "name": "stdout",
     "output_type": "stream",
     "text": [
      "                 author  start_year  career_length\n",
      "23402    abraham berman        1971             46\n",
      "27514    adi ben-israel        1971             46\n",
      "42497  alain bensoussan        1970             47\n",
      "43571        alan bundy        1971             46\n",
      "44000   alan g. konheim        1971             46\n",
      "Empty DataFrame\n",
      "Columns: [author, start_year, career_length]\n",
      "Index: []\n",
      "(180, 3)\n"
     ]
    }
   ],
   "source": [
    "finalData = pd.DataFrame(columns=['author','start_year'], data=authorStartEndCareerData[['author','start_year']])\n",
    "# career length is important because it will help us to filter credible authors\n",
    "# Career length is incremented by 1 because the previous data was calculated by just subtracting start_year from end_year.\n",
    "# so, if author finishes his career on the same year he/she started then it will be 0 (instead value 1 is quite appropriate)\n",
    "finalData['career_length']= authorStartEndCareerData['career_length'] + 1\n",
    "print(finalData.head())\n",
    "print(finalData[finalData['author'] == \"'maseka lesaoana\"])\n",
    "print(finalData.shape)"
   ]
  },
  {
   "cell_type": "code",
   "execution_count": 221,
   "metadata": {
    "collapsed": false
   },
   "outputs": [
    {
     "name": "stdout",
     "output_type": "stream",
     "text": [
      "             author gender\n",
      "0    nima mesgarani      m\n",
      "1    james j. abbas      m\n",
      "2  eberhart zrenner      m\n",
      "3    emery n. brown      m\n",
      "4        ilya rybak      m\n",
      "(5793845, 2)\n"
     ]
    }
   ],
   "source": [
    "genderData = pd.read_csv('./data/name_gender_1970_2016_noAsians.csv')\n",
    "genderData.rename(columns={'name':'author'}, inplace=True)\n",
    "print(genderData.head())\n",
    "print(genderData.shape)"
   ]
  },
  {
   "cell_type": "code",
   "execution_count": 222,
   "metadata": {
    "collapsed": false
   },
   "outputs": [
    {
     "name": "stdout",
     "output_type": "stream",
     "text": [
      "           author  start_year  career_length gender\n",
      "0  abraham berman        1971             46      m\n",
      "1  abraham berman        1971             46      m\n",
      "2  abraham berman        1971             46      m\n",
      "3  abraham berman        1971             46      m\n",
      "4  abraham berman        1971             46      m\n",
      "('finalData with duplicates: %s', 11135)\n",
      "('finalData no duplicates: %s', 180)\n",
      "('Gender  - ', array(['m', 'none', 'f'], dtype=object))\n",
      "                  start_year  career_length gender\n",
      "author                                            \n",
      "abraham berman          1971             46      m\n",
      "adi ben-israel          1971             46      m\n",
      "alain bensoussan        1970             47      m\n",
      "alan bundy              1971             46   none\n",
      "alan g. konheim         1971             46   none\n",
      "(180, 3)\n"
     ]
    }
   ],
   "source": [
    "finalData = pd.merge(finalData, genderData, how=\"left\", on=[\"author\"])\n",
    "# for authors whose gender not found, replace it with none\n",
    "finalData['gender'] = finalData['gender'].fillna('none')\n",
    "print(finalData.head())\n",
    "\n",
    "print(\"finalData with duplicates: %s\", finalData.shape[0])\n",
    "finalData = finalData.drop_duplicates()\n",
    "print(\"finalData no duplicates: %s\", finalData.shape[0])\n",
    "print('Gender  - ',finalData['gender'].unique())\n",
    "\n",
    "finalData = finalData.set_index(['author'])\n",
    "print(finalData.head())\n",
    "print(finalData.shape)"
   ]
  },
  {
   "cell_type": "code",
   "execution_count": 223,
   "metadata": {
    "collapsed": false
   },
   "outputs": [
    {
     "name": "stdout",
     "output_type": "stream",
     "text": [
      "             author  year                    pub_id\n",
      "0  kim l. blackwell  2014  55503da645ce0a409eb273e8\n",
      "1    nima mesgarani  2014  55503da645ce0a409eb273e9\n",
      "2    james j. abbas  2014  55503da645ce0a409eb273ea\n",
      "3  eberhart zrenner  2014  55503da645ce0a409eb273ec\n",
      "4    jonathan rubin  2014  55503da645ce0a409eb273e0\n",
      "(9078240, 3)\n",
      "Filter to reduce data for estimate time\n",
      "                author  year                    pub_id\n",
      "1910    saharon shelah  2001  53e9a488b7602d9702da780a\n",
      "2066   robert schaback  2013  53e9b1bcb7602d9703c4dfa5\n",
      "2126          b. smith  2015  555043a845ce0a409eb48aab\n",
      "2205   thomas s. huang  2012  53e9a5dbb7602d9702f07438\n",
      "2328  its'hak dinstein  1995  53e9ab25b7602d97034b17b3\n",
      "(18291, 3)\n"
     ]
    }
   ],
   "source": [
    "publicationData = pd.read_csv('./data/author_publications_1970_2016_asiansAsNone.txt')\n",
    "print(publicationData.head())\n",
    "print(publicationData.shape)\n",
    "\n",
    "print('Filter to reduce data for estimate time')\n",
    "publicationData = publicationData[publicationData['author'].isin(finalData.index.values)]\n",
    "print(publicationData.head())\n",
    "print(publicationData.shape)"
   ]
  },
  {
   "cell_type": "code",
   "execution_count": 224,
   "metadata": {
    "collapsed": false
   },
   "outputs": [
    {
     "name": "stdout",
     "output_type": "stream",
     "text": [
      "                        id1                       id2  year\n",
      "0  53e9aa9cb7602d97034143d8  53e9aebdb7602d97038e692d  1994\n",
      "1  53e99ca1b7602d9702555df6  53e9be3db7602d9704afc6b4  2006\n",
      "2  53e99ca1b7602d9702555df6  53e9b9a0b7602d970458eee4  2006\n",
      "3  53e99ca1b7602d9702555df6  53e9bc05b7602d9704866048  2006\n",
      "4  53e9b166b7602d9703bebb75  53e9bba1b7602d97047ebb5d  2006\n",
      "(7849398, 3)\n"
     ]
    }
   ],
   "source": [
    "citationData = pd.read_csv('./data/citations_1970_2016_asiansAsNone.txt')\n",
    "print(citationData.head())\n",
    "# publication with id1 cited the publication with id2 in the year 'year'\n",
    "\n",
    "# We cannot use the author citation data which is in 'authors_cite_2016_asiansAsNone.txt' file because we will not know for \n",
    "# what paper the author has cited other author in a certain year\n",
    "print(citationData.shape)\n"
   ]
  },
  {
   "cell_type": "code",
   "execution_count": 225,
   "metadata": {
    "collapsed": false
   },
   "outputs": [
    {
     "name": "stdout",
     "output_type": "stream",
     "text": [
      "            author  year_x                    pub_id  \\\n",
      "0   saharon shelah    2001  53e9a488b7602d9702da780a   \n",
      "1  robert schaback    2013  53e9b1bcb7602d9703c4dfa5   \n",
      "2         b. smith    2015  555043a845ce0a409eb48aab   \n",
      "3  thomas s. huang    2012  53e9a5dbb7602d9702f07438   \n",
      "4  thomas s. huang    2012  53e9a5dbb7602d9702f07438   \n",
      "\n",
      "                        id2  year_y  \n",
      "0                       NaN     NaN  \n",
      "1                       NaN     NaN  \n",
      "2                       NaN     NaN  \n",
      "3  53e9a5dbb7602d9702f07438    2013  \n",
      "4  53e9a5dbb7602d9702f07438    2013  \n",
      "            author  pub_year                    pub_id  cited_year\n",
      "0   saharon shelah      2001  53e9a488b7602d9702da780a         NaN\n",
      "1  robert schaback      2013  53e9b1bcb7602d9703c4dfa5         NaN\n",
      "2         b. smith      2015  555043a845ce0a409eb48aab         NaN\n",
      "3  thomas s. huang      2012  53e9a5dbb7602d9702f07438        2013\n",
      "4  thomas s. huang      2012  53e9a5dbb7602d9702f07438        2013\n",
      "(98579, 4)\n"
     ]
    }
   ],
   "source": [
    "publicationWithCitationData = pd.merge(left=publicationData, right=citationData[['id2', 'year']], how='left', \\\n",
    "                                       left_on='pub_id', right_on='id2')\n",
    "print(publicationWithCitationData.head())\n",
    "publicationWithCitationData.rename(columns={'year_x':'pub_year','year_y':'cited_year'}, inplace=True)\n",
    "#cmpData = publicationWithCitationData['pub_id'] == publicationWithCitationData['id2']\n",
    "#print(cmpData.unique()) \n",
    "## both the columns represent the same and so can be removed\n",
    "publicationWithCitationData = publicationWithCitationData.drop(['id2'],axis=1)\n",
    "print(publicationWithCitationData.head())\n",
    "\n",
    "print(publicationWithCitationData.shape)"
   ]
  },
  {
   "cell_type": "markdown",
   "metadata": {},
   "source": [
    "### Iterative approach to calculate the parameters\n",
    "The estimated time to calculate is 20 days."
   ]
  },
  {
   "cell_type": "code",
   "execution_count": 226,
   "metadata": {
    "collapsed": false
   },
   "outputs": [],
   "source": [
    "# i = 0\n",
    "\n",
    "# # same year and <= next 2 years\n",
    "# PUBLICATION_RECORDING_YEARS = [0, 1, 2]\n",
    "# CAREER_LENGTH = 15\n",
    "# # same year and the next 2 years\n",
    "# # 15 year is also included\n",
    "# CITATION_RECORDING_YEAR_LIST = [0, 1, 2] \n",
    "\n",
    "# NO_OF_TOP_CITATIONS = 3\n",
    "\n",
    "# '''\n",
    "# column_names = ['author', \n",
    "#                 'npub_yr1','ncit_yr1_pub_yr1','ncit_yr2_pub_yr1', 'ncit_yr3_pub_yr1', 'ncit_yr15_pub_yr1',\n",
    "#                 'npub_yr2','ncit_yr1_pub_yr2','ncit_yr2_pub_yr2', 'ncit_yr3_pub_yr2', 'ncit_yr15_pub_yr2',\n",
    "#                 'npub_yr3','ncit_yr1_pub_yr3','ncit_yr2_pub_yr3', 'ncit_yr3_pub_yr3', 'ncit_yr15_pub_yr3',\n",
    "#                 'npub_yr15','ncit_yr15_pub_yr15', 'ncit_yr15_top_3_pub'\n",
    "#                ]\n",
    "# '''\n",
    "\n",
    "# column_names = ['author']\n",
    "# for pub_yr in PUBLICATION_RECORDING_YEARS:\n",
    "#     temp = 'npub_yr'\n",
    "#     column_names.append(temp+str(pub_yr+1))\n",
    "#     for cit_yr in CITATION_RECORDING_YEAR_LIST:\n",
    "#         temp1 = 'ncit_yr'+str(cit_yr+1)+'_pub_yr'+str(pub_yr+1)\n",
    "#         column_names.append(temp1)\n",
    "#     column_names.append('ncit_yr'+str(CAREER_LENGTH)+'_pub_yr'+str(pub_yr+1))\n",
    "\n",
    "# column_names.append('npub_yr'+str(CAREER_LENGTH))\n",
    "# column_names.append('ncit_yr'+str(CAREER_LENGTH)+'_pub_yr'+str(CAREER_LENGTH))\n",
    "# column_names.append('ncit_yr'+str(CAREER_LENGTH)+'_top_'+str(NO_OF_TOP_CITATIONS)+'_pub')\n",
    "\n",
    "# print(column_names)\n",
    "# print(len(finalData.values))\n",
    "\n",
    "# specificAuthorOutputValuesList = []\n",
    "# for specificAuthor in finalData.values: \n",
    "#     authorName = specificAuthor[0] \n",
    "#     startYear = specificAuthor[1] \n",
    "#     #careerLength = specificAuthor[2] \n",
    "#     gender = specificAuthor[3] \n",
    "    \n",
    "#     specificAuthorOutputValues = []\n",
    "#     #'author' name is added\n",
    "#     specificAuthorOutputValues.append(authorName)\n",
    "    \n",
    "#     # filter the data only for the specific author and consider their career only for specified CAREER_LENGTH\n",
    "#     authorSpecificData = publicationWithCitationData[publicationWithCitationData['author'] == authorName]\n",
    "#     authorSpecificData = authorSpecificData[authorSpecificData['pub_year'] <= (startYear + CAREER_LENGTH - 1)]\n",
    "#     #print(authorSpecificData)\n",
    "    \n",
    "#     #go through the required career age (PUBLICATION_RECORDING_YEARS) and consider the papers written\n",
    "#     # look for citations for those papers in the required career age (CITATION_RECORDING_YEAR_LIST)\n",
    "#     for prod_year in PUBLICATION_RECORDING_YEARS:\n",
    "#         authorPublications = authorSpecificData[authorSpecificData['pub_year'] <= \\\n",
    "#                                                 (startYear + prod_year)]['pub_id'].unique()\n",
    "#         tempData = authorSpecificData[authorSpecificData['pub_id'].isin(authorPublications)]\n",
    "#         # no. of publications untill 'prod_year' year\n",
    "#         specificAuthorOutputValues.append(len(authorPublications))\n",
    "        \n",
    "#         for citation_year in CITATION_RECORDING_YEAR_LIST:\n",
    "#             temp1Data = tempData[tempData['cited_year'] <= (startYear + prod_year + citation_year)]\n",
    "#             #print(temp1Data)\n",
    "\n",
    "#             #no. of citations for specified papers untill 'citation_year' year\n",
    "#             #count() - does not count the NaN values - this is important because some publications are not cited by others\n",
    "#             specificAuthorOutputValues.append(temp1Data['cited_year'].count())\n",
    "\n",
    "#         #no. of citations untill CAREER_LENGTH - 15th year is also included\n",
    "#         specificAuthorOutputValues.append(tempData['cited_year'].count())\n",
    "    \n",
    "#     # no. of papers published untill CAREER_LENGTH - 15 years and the citations for it is included\n",
    "#     specificAuthorOutputValues.append(authorSpecificData['pub_id'].nunique())\n",
    "#     specificAuthorOutputValues.append(authorSpecificData['cited_year'].count())\n",
    "    \n",
    "#     temp = authorSpecificData[['author','pub_id','cited_year']].groupby(['author','pub_id']).count().reset_index()\n",
    "#     temp = temp.sort_values(by=['cited_year'], ascending=False).head(NO_OF_TOP_CITATIONS).sum()['cited_year']\n",
    "#     #print(temp)\n",
    "#     #sum of no. of citations for top 'NO_OF_TOP_CITATIONS' - 3 papers are added\n",
    "#     specificAuthorOutputValues.append(temp)\n",
    "\n",
    "#     #print(specificAuthorOutputValues)\n",
    "#     specificAuthorOutputValuesList.append(specificAuthorOutputValues)\n",
    "#     # only for debugging (to reduce the dataset)\n",
    "#     i = i + 1\n",
    "#     if i%100 == 0:\n",
    "#         print(i)\n",
    "# #     if i >= 10:\n",
    "# #         break\n",
    "        \n",
    "# dFrame = pd.DataFrame(columns=column_names, data=specificAuthorOutputValuesList)\n",
    "# #print(dFrame.head())\n",
    "# finalData = pd.merge( left=finalData, right=dFrame, how='inner', on=['author'])\n",
    "# print(finalData.head())\n",
    "\n",
    "# #finalData.to_csv('./data/author-career-short-snapshot.csv', index=False)"
   ]
  },
  {
   "cell_type": "code",
   "execution_count": 227,
   "metadata": {
    "collapsed": false
   },
   "outputs": [
    {
     "data": {
      "text/html": [
       "<div>\n",
       "<table border=\"1\" class=\"dataframe\">\n",
       "  <thead>\n",
       "    <tr style=\"text-align: right;\">\n",
       "      <th></th>\n",
       "      <th>author</th>\n",
       "      <th>pub_year</th>\n",
       "      <th>pub_id</th>\n",
       "      <th>cited_year</th>\n",
       "    </tr>\n",
       "  </thead>\n",
       "  <tbody>\n",
       "    <tr>\n",
       "      <th>5748</th>\n",
       "      <td>abraham berman</td>\n",
       "      <td>2003</td>\n",
       "      <td>53e9aa66b7602d97033da2f6</td>\n",
       "      <td>NaN</td>\n",
       "    </tr>\n",
       "    <tr>\n",
       "      <th>30524</th>\n",
       "      <td>abraham berman</td>\n",
       "      <td>1988</td>\n",
       "      <td>53e9ac12b7602d97035d67d0</td>\n",
       "      <td>2010</td>\n",
       "    </tr>\n",
       "    <tr>\n",
       "      <th>30525</th>\n",
       "      <td>abraham berman</td>\n",
       "      <td>1988</td>\n",
       "      <td>53e9ac12b7602d97035d67d0</td>\n",
       "      <td>2002</td>\n",
       "    </tr>\n",
       "    <tr>\n",
       "      <th>46257</th>\n",
       "      <td>abraham berman</td>\n",
       "      <td>1993</td>\n",
       "      <td>53e9ac54b7602d9703625cc2</td>\n",
       "      <td>2012</td>\n",
       "    </tr>\n",
       "    <tr>\n",
       "      <th>54761</th>\n",
       "      <td>abraham berman</td>\n",
       "      <td>1971</td>\n",
       "      <td>573695d36e3b12023e4eb4d2</td>\n",
       "      <td>NaN</td>\n",
       "    </tr>\n",
       "    <tr>\n",
       "      <th>57675</th>\n",
       "      <td>abraham berman</td>\n",
       "      <td>2009</td>\n",
       "      <td>53e9ae3cb7602d9703851a3d</td>\n",
       "      <td>NaN</td>\n",
       "    </tr>\n",
       "    <tr>\n",
       "      <th>60447</th>\n",
       "      <td>abraham berman</td>\n",
       "      <td>2001</td>\n",
       "      <td>53e99bdcb7602d970248659e</td>\n",
       "      <td>2008</td>\n",
       "    </tr>\n",
       "    <tr>\n",
       "      <th>60448</th>\n",
       "      <td>abraham berman</td>\n",
       "      <td>2001</td>\n",
       "      <td>53e99bdcb7602d970248659e</td>\n",
       "      <td>2005</td>\n",
       "    </tr>\n",
       "    <tr>\n",
       "      <th>60449</th>\n",
       "      <td>abraham berman</td>\n",
       "      <td>2001</td>\n",
       "      <td>53e99bdcb7602d970248659e</td>\n",
       "      <td>2014</td>\n",
       "    </tr>\n",
       "    <tr>\n",
       "      <th>60450</th>\n",
       "      <td>abraham berman</td>\n",
       "      <td>2001</td>\n",
       "      <td>53e99bdcb7602d970248659e</td>\n",
       "      <td>2014</td>\n",
       "    </tr>\n",
       "    <tr>\n",
       "      <th>60451</th>\n",
       "      <td>abraham berman</td>\n",
       "      <td>2001</td>\n",
       "      <td>53e99bdcb7602d970248659e</td>\n",
       "      <td>2008</td>\n",
       "    </tr>\n",
       "    <tr>\n",
       "      <th>86051</th>\n",
       "      <td>abraham berman</td>\n",
       "      <td>2016</td>\n",
       "      <td>573695f66e3b12023e50a930</td>\n",
       "      <td>NaN</td>\n",
       "    </tr>\n",
       "  </tbody>\n",
       "</table>\n",
       "</div>"
      ],
      "text/plain": [
       "               author  pub_year                    pub_id  cited_year\n",
       "5748   abraham berman      2003  53e9aa66b7602d97033da2f6         NaN\n",
       "30524  abraham berman      1988  53e9ac12b7602d97035d67d0        2010\n",
       "30525  abraham berman      1988  53e9ac12b7602d97035d67d0        2002\n",
       "46257  abraham berman      1993  53e9ac54b7602d9703625cc2        2012\n",
       "54761  abraham berman      1971  573695d36e3b12023e4eb4d2         NaN\n",
       "57675  abraham berman      2009  53e9ae3cb7602d9703851a3d         NaN\n",
       "60447  abraham berman      2001  53e99bdcb7602d970248659e        2008\n",
       "60448  abraham berman      2001  53e99bdcb7602d970248659e        2005\n",
       "60449  abraham berman      2001  53e99bdcb7602d970248659e        2014\n",
       "60450  abraham berman      2001  53e99bdcb7602d970248659e        2014\n",
       "60451  abraham berman      2001  53e99bdcb7602d970248659e        2008\n",
       "86051  abraham berman      2016  573695f66e3b12023e50a930         NaN"
      ]
     },
     "execution_count": 227,
     "metadata": {},
     "output_type": "execute_result"
    }
   ],
   "source": [
    "publicationWithCitationData[publicationWithCitationData['author'] == 'abraham berman']"
   ]
  },
  {
   "cell_type": "code",
   "execution_count": 259,
   "metadata": {
    "collapsed": false
   },
   "outputs": [
    {
     "name": "stdout",
     "output_type": "stream",
     "text": [
      "180\n",
      "(2.9321210384368896, 'seconds')\n"
     ]
    }
   ],
   "source": [
    "i = 0\n",
    "\n",
    "# same year and <= next 2 years\n",
    "CAREER_LENGTH = 15\n",
    "PUBLICATION_RECORDING_YEAR_LIST = [3, 2, 1]\n",
    "\n",
    "# same year and the next 2 years\n",
    "# 15 year is also included\n",
    "CITATION_RECORDING_YEAR_LIST = [3, 2, 1] \n",
    "\n",
    "NO_OF_TOP_CITATIONS = 3\n",
    "\n",
    "'''\n",
    "column_names = ['author', \n",
    "                'npub_yr1','ncit_yr1_pub_yr1','ncit_yr2_pub_yr1', 'ncit_yr3_pub_yr1', 'ncit_yr15_pub_yr1',\n",
    "                'npub_yr2','ncit_yr1_pub_yr2','ncit_yr2_pub_yr2', 'ncit_yr3_pub_yr2', 'ncit_yr15_pub_yr2',\n",
    "                'npub_yr3','ncit_yr1_pub_yr3','ncit_yr2_pub_yr3', 'ncit_yr3_pub_yr3', 'ncit_yr15_pub_yr3',\n",
    "                'npub_yr15','ncit_yr15_pub_yr15', 'ncit_yr15_top_3_pub'\n",
    "               ]\n",
    "\n",
    "\n",
    "column_names = ['author']\n",
    "for pub_yr in PUBLICATION_RECORDING_YEARS:\n",
    "    temp = 'npub_yr'\n",
    "    column_names.append(temp+str(pub_yr))\n",
    "    for cit_yr in CITATION_RECORDING_YEAR_LIST:\n",
    "        temp1 = 'ncit_yr'+str(pub_yr+cit_yr-1)+'_pub_yr'+str(pub_yr)\n",
    "        column_names.append(temp1)\n",
    "    column_names.append('ncit_yr'+str(CAREER_LENGTH)+'_pub_yr'+str(pub_yr))\n",
    "\n",
    "column_names.append('npub_yr'+str(CAREER_LENGTH))\n",
    "column_names.append('ncit_yr'+str(CAREER_LENGTH)+'_pub_yr'+str(CAREER_LENGTH))\n",
    "column_names.append('ncit_yr'+str(CAREER_LENGTH)+'_top_'+str(NO_OF_TOP_CITATIONS)+'_pub')\n",
    "\n",
    "print(column_names)\n",
    "'''\n",
    "\n",
    "print(len(finalData.values))\n",
    "start_time = time.time()\n",
    "\n",
    "dataGroupByAuthor = publicationWithCitationData.groupby(['author'], sort=False)\n",
    "pubDataMaxCareerAge = dataGroupByAuthor.apply(lambda group: group[group['pub_year'] <= (group['pub_year'].min() + CAREER_LENGTH - 1)])\n",
    "tmpName = 'npub_yr'+str(CAREER_LENGTH)\n",
    "finalData[tmpName] = pubDataMaxCareerAge[['author','pub_id']].groupby(['author'], sort=False)['pub_id'].nunique()\n",
    "\n",
    "# print('At the beginning')\n",
    "# print(pubDataMaxCareerAge[pubDataMaxCareerAge['author'] == 'abraham berman'])\n",
    "\n",
    "dataGroupByAuthor= pubDataMaxCareerAge.groupby(['author'], sort=False)\n",
    "citDataMaxCareerAge = dataGroupByAuthor.apply(lambda group: group[group['cited_year'] <= (group['pub_year'].min() + CAREER_LENGTH - 1)])\n",
    "tmpName = 'ncit_yr'+str(CAREER_LENGTH)+'_pub_yr'+str(CAREER_LENGTH)\n",
    "finalData[tmpName] = citDataMaxCareerAge[['author','cited_year']].groupby(['author'], sort=False)['cited_year'].count()\n",
    "\n",
    "temp = citDataMaxCareerAge[['author','pub_id','cited_year']].groupby(['author','pub_id']).count()\n",
    "temp = temp.sort_values(by=['cited_year'], ascending=False).reset_index()\n",
    "temp = temp.groupby(['author']).nth(range(NO_OF_TOP_CITATIONS)).reset_index()\n",
    "tmpName = 'ncit_yr'+str(CAREER_LENGTH)+'_top_'+str(NO_OF_TOP_CITATIONS)+'_pub'\n",
    "finalData[tmpName] = temp.groupby(['author']).sum()\n",
    "\n",
    "tmpPubData = pubDataMaxCareerAge\n",
    "\n",
    "# print('At the beginning - after 15yr citations')\n",
    "# print(tmpPubData[tmpPubData['author'] == 'abraham berman'])\n",
    "\n",
    "for pub_yr in PUBLICATION_RECORDING_YEAR_LIST:\n",
    "\n",
    "    tmpGroup = tmpPubData.groupby(['author'], sort=False)\n",
    "    tmpPubData = tmpGroup.apply(lambda group: group[group['pub_year'] <= (group['pub_year'].min() + pub_yr - 1)])\n",
    "    tmpName = 'npub_yr'+str(pub_yr)\n",
    "    finalData[tmpName] = tmpPubData[['author','pub_id']].groupby(['author'], sort=False)['pub_id'].nunique()\n",
    "    \n",
    "#     print('After 1yr publication 15yr citations')\n",
    "#     print(tmpPubData[tmpPubData['author'] == 'abraham berman'])\n",
    "    \n",
    "    tmpGroup= tmpPubData.groupby(['author'], sort=False)\n",
    "    tmpCitData = tmpGroup.apply(lambda group: group[group['cited_year'] <= (group['pub_year'].min() + CAREER_LENGTH - 1)])\n",
    "    tmpName = 'ncit_yr'+str(CAREER_LENGTH)+'_pub_yr'+str(pub_yr)\n",
    "    finalData[tmpName] = tmpCitData[['author','cited_year']].groupby(['author'], sort=False)['cited_year'].count() \n",
    "\n",
    "    for cit_yr in CITATION_RECORDING_YEAR_LIST:\n",
    "    \n",
    "        tmpGroup= tmpCitData.groupby(['author'], sort=False)\n",
    "        tmpCitData = tmpGroup.apply(lambda group: group[group['cited_year'] <= (group['pub_year'].min() + pub_yr - 1 + cit_yr - 1)])\n",
    "        tmpName = 'ncit_yr'+str(cit_yr - 1 + pub_yr)+'_pub_yr'+str(pub_yr)\n",
    "        finalData[tmpName] = tmpCitData[['author','cited_year']].groupby(['author'], sort=False)['cited_year'].count()\n",
    "\n",
    "finalData.fillna(0, inplace=True)\n",
    "#print(finalData.head())\n",
    "end_time = time.time()\n",
    "print((end_time-start_time), 'seconds')"
   ]
  },
  {
   "cell_type": "code",
   "execution_count": 260,
   "metadata": {
    "collapsed": false
   },
   "outputs": [],
   "source": [
    "finalData.to_csv('./data/author-career-short-snapshot.csv', index=False)"
   ]
  },
  {
   "cell_type": "markdown",
   "metadata": {},
   "source": [
    "### The rest (mostly to be deleted)"
   ]
  },
  {
   "cell_type": "code",
   "execution_count": 258,
   "metadata": {
    "collapsed": false
   },
   "outputs": [
    {
     "name": "stdout",
     "output_type": "stream",
     "text": [
      "(98579, 4)\n",
      "180\n",
      "               author  pub_year                    pub_id  cited_year\n",
      "5748   abraham berman      2003  53e9aa66b7602d97033da2f6         NaN\n",
      "30524  abraham berman      1988  53e9ac12b7602d97035d67d0        2010\n",
      "30525  abraham berman      1988  53e9ac12b7602d97035d67d0        2002\n",
      "46257  abraham berman      1993  53e9ac54b7602d9703625cc2        2012\n",
      "54761  abraham berman      1971  573695d36e3b12023e4eb4d2         NaN\n",
      "57675  abraham berman      2009  53e9ae3cb7602d9703851a3d         NaN\n",
      "60447  abraham berman      2001  53e99bdcb7602d970248659e        2008\n",
      "60448  abraham berman      2001  53e99bdcb7602d970248659e        2005\n",
      "60449  abraham berman      2001  53e99bdcb7602d970248659e        2014\n",
      "60450  abraham berman      2001  53e99bdcb7602d970248659e        2014\n",
      "60451  abraham berman      2001  53e99bdcb7602d970248659e        2008\n",
      "86051  abraham berman      2016  573695f66e3b12023e50a930         NaN\n",
      "<class 'pandas.core.frame.DataFrame'>\n",
      "(17694, 3)\n",
      "(539, 3)\n",
      "<class 'pandas.core.frame.DataFrame'>\n",
      "<class 'pandas.core.frame.DataFrame'>\n",
      "           author  cited_year\n",
      "0  abraham berman           8\n"
     ]
    }
   ],
   "source": [
    "print(publicationWithCitationData.shape)\n",
    "print(publicationWithCitationData['author'].nunique())\n",
    "print(publicationWithCitationData[publicationWithCitationData['author'] == 'abraham berman'])\n",
    "\n",
    "\n",
    "temp = publicationWithCitationData[['author','pub_id','cited_year']].groupby(['author','pub_id']).count()\n",
    "print(type(temp))\n",
    "\n",
    "temp = temp.sort_values(by='cited_year', ascending=False).reset_index()\n",
    "print(temp.shape)\n",
    "temp = temp.groupby(['author']).nth(range(NO_OF_TOP_CITATIONS)).reset_index()\n",
    "print(temp.shape)\n",
    "\n",
    "temp = temp.groupby(['author']).sum().reset_index()\n",
    "\n",
    "print(type(temp))\n",
    "print(type(temp))\n",
    "\n",
    "print(temp[temp['author'] == 'abraham berman'])\n"
   ]
  },
  {
   "cell_type": "code",
   "execution_count": null,
   "metadata": {
    "collapsed": true
   },
   "outputs": [],
   "source": [
    "finalData"
   ]
  },
  {
   "cell_type": "code",
   "execution_count": 203,
   "metadata": {
    "collapsed": false
   },
   "outputs": [
    {
     "data": {
      "text/plain": [
       "<matplotlib.axes._subplots.AxesSubplot at 0x7fc7cd57cd50>"
      ]
     },
     "execution_count": 203,
     "metadata": {},
     "output_type": "execute_result"
    },
    {
     "data": {
      "image/png": "[encoded data removed]",
      "text/plain": [
       "<matplotlib.figure.Figure at 0x7fc7c991a090>"
      ]
     },
     "metadata": {},
     "output_type": "display_data"
    }
   ],
   "source": [
    "finalData.drop(['start_year','career_length'],axis=1)['npub_yr1'].plot()"
   ]
  }
 ],
 "metadata": {
  "kernelspec": {
   "display_name": "Python 2",
   "language": "python",
   "name": "python2"
  },
  "language_info": {
   "codemirror_mode": {
    "name": "ipython",
    "version": 2
   },
   "file_extension": ".py",
   "mimetype": "text/x-python",
   "name": "python",
   "nbconvert_exporter": "python",
   "pygments_lexer": "ipython2",
   "version": "2.7.12"
  }
 },
 "nbformat": 4,
 "nbformat_minor": 0
}
