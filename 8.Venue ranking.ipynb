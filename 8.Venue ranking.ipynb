{
 "cells": [
  {
   "cell_type": "code",
   "execution_count": 1,
   "metadata": {},
   "outputs": [],
   "source": [
    "import pandas as pd"
   ]
  },
  {
   "cell_type": "code",
   "execution_count": 65,
   "metadata": {},
   "outputs": [],
   "source": [
    "def create_paper_venue_file():\n",
    "    paper_venue_citations = pd.read_csv('data/paper_venue_citations.csv', delimiter='\\t')\n",
    "\n",
    "    part1 = paper_venue_citations[['paper1', 'venue1']].drop_duplicates()\n",
    "\n",
    "    part2 = paper_venue_citations[['paper2', 'venue2']].drop_duplicates()\n",
    "\n",
    "    part2 = part2.rename(axis='columns', mapper={'paper2' :'paper1', 'venue2':'venue1'})\n",
    "\n",
    "    fixed = part1.append(part2)\n",
    "    \n",
    "    fixed.dropna(subset=['venue1'], inplace=True)\n",
    "    \n",
    "    fixed = fixed.drop_duplicates()\n",
    "\n",
    "    fixed.to_csv('derived-data/venue-paper.csv', index=False)\n",
    "# create_paper_venue_file()"
   ]
  },
  {
   "cell_type": "code",
   "execution_count": null,
   "metadata": {},
   "outputs": [],
   "source": [
    "venue_rankings = pd.read_csv('data/h5_index_rank_quantiles_deciles.tsv', delimiter='\\t')\n",
    "venue_rankings.head()"
   ]
  },
  {
   "cell_type": "code",
   "execution_count": 113,
   "metadata": {},
   "outputs": [
    {
     "name": "stdout",
     "output_type": "stream",
     "text": [
      "                                                   venue  year  h5_index  \\\n",
      "52              international world wide web conferences  2018        59   \n",
      "129                           web search and data mining  2018        41   \n",
      "160                international semantic web conference  2018        36   \n",
      "189    international conference on weblogs and social...  2018        33   \n",
      "289                     european semantic web conference  2018        27   \n",
      "304                                       world wide web  2018        27   \n",
      "441                             journal of web semantics  2018        21   \n",
      "490             international conference on web services  2018        20   \n",
      "701                          acm transactions on the web  2018        15   \n",
      "743          international conference on web engineering  2018        15   \n",
      "773                  web information systems engineering  2018        15   \n",
      "774                                     web intelligence  2018        15   \n",
      "862                       web age information management  2018        13   \n",
      "980       international journal of web and grid services  2018        12   \n",
      "1120                         asia-pacific web conference  2018        10   \n",
      "1199   rules and rule markup languages for the semant...  2018        10   \n",
      "1283   international conference on web information sy...  2018         9   \n",
      "1294   international journal on semantic web and info...  2018         9   \n",
      "1334                      web reasoning and rule systems  2018         9   \n",
      "1395            electronic commerce and web technologies  2018         8   \n",
      "1444      international conference on web-based learning  2018         8   \n",
      "1454      international journal of web services research  2018         8   \n",
      "1593   web and wireless geographical information systems  2018         7   \n",
      "1621       brazilian symposium on multimedia and the web  2018         6   \n",
      "1702    international journal of web information systems  2018         6   \n",
      "1727                          journal of web engineering  2018         6   \n",
      "1785   workshop on algorithms and models for the web ...  2018         6   \n",
      "1851   international journal of information technolog...  2018         5   \n",
      "1877                         latin american web congress  2018         5   \n",
      "1904                               acm sigweb newsletter  2018         4   \n",
      "...                                                  ...   ...       ...   \n",
      "49984    international workshop on the web and databases  2000        25   \n",
      "50127                web information systems engineering  2000        19   \n",
      "50239           electronic commerce and web technologies  2000        14   \n",
      "50394                     web age information management  2000        10   \n",
      "50395                web information and data management  2000        10   \n",
      "50421                             world wide web journal  2000         9   \n",
      "50487                              acm sigweb newsletter  2000         6   \n",
      "50551                     web-age information management  2000         5   \n",
      "50953           international world wide web conferences  1999        89   \n",
      "51579    international workshop on the web and databases  1999        15   \n",
      "51725                web information and data management  1999        10   \n",
      "51727                             world wide web journal  1999        10   \n",
      "51801                              acm sigweb newsletter  1999         6   \n",
      "52237           international world wide web conferences  1998        70   \n",
      "52921                             world wide web journal  1998        10   \n",
      "52984    international workshop on the web and databases  1998         7   \n",
      "53015                web information and data management  1998         6   \n",
      "53043                              acm sigweb newsletter  1998         4   \n",
      "53419           international world wide web conferences  1997        54   \n",
      "54010                             world wide web journal  1997        10   \n",
      "54122                              acm sigweb newsletter  1997         4   \n",
      "54539           international world wide web conferences  1996        39   \n",
      "55014                             world wide web journal  1996         9   \n",
      "55098                              acm sigweb newsletter  1996         4   \n",
      "55583           international world wide web conferences  1995        27   \n",
      "56025                              acm sigweb newsletter  1995         3   \n",
      "56209                             world wide web journal  1995         1   \n",
      "56760           international world wide web conferences  1994         7   \n",
      "56882                              acm sigweb newsletter  1994         1   \n",
      "57608                              acm sigweb newsletter  1993         1   \n",
      "\n",
      "       ranking  deciles  quantiles  \n",
      "52        52.0        1          1  \n",
      "129      128.0        1          1  \n",
      "160      158.0        2          1  \n",
      "189      191.0        2          1  \n",
      "289      293.0        2          1  \n",
      "304      293.0        2          1  \n",
      "441      436.0        3          2  \n",
      "490      485.5        3          2  \n",
      "701      738.0        4          2  \n",
      "743      738.0        4          2  \n",
      "773      738.0        4          2  \n",
      "774      738.0        4          2  \n",
      "862      846.0        5          2  \n",
      "980      959.5        5          2  \n",
      "1120    1161.5        6          3  \n",
      "1199    1161.5        6          3  \n",
      "1283    1277.5        6          3  \n",
      "1294    1277.5        6          3  \n",
      "1334    1277.5        6          3  \n",
      "1395    1428.5        7          3  \n",
      "1444    1428.5        7          3  \n",
      "1454    1428.5        7          3  \n",
      "1593    1558.0        7          3  \n",
      "1621    1693.5        7          3  \n",
      "1702    1693.5        7          3  \n",
      "1727    1693.5        7          3  \n",
      "1785    1693.5        7          3  \n",
      "1851    1845.5        8          3  \n",
      "1877    1845.5        8          3  \n",
      "1904    1997.0        8          4  \n",
      "...        ...      ...        ...  \n",
      "49984    500.5        3          2  \n",
      "50127    637.5        4          2  \n",
      "50239    761.5        5          2  \n",
      "50394    897.5        5          2  \n",
      "50395    897.5        5          2  \n",
      "50421    927.0        5          2  \n",
      "50487   1023.0        5          2  \n",
      "50551   1056.0        6          3  \n",
      "50953     43.0        1          1  \n",
      "51579    668.5        4          2  \n",
      "51725    801.5        5          2  \n",
      "51727    801.5        5          2  \n",
      "51801    908.0        5          2  \n",
      "52237     68.0        1          1  \n",
      "52921    736.5        4          2  \n",
      "52984    813.5        5          2  \n",
      "53015    833.0        5          2  \n",
      "53043    885.5        5          2  \n",
      "53419     97.5        1          1  \n",
      "54010    668.0        4          2  \n",
      "54122    811.5        5          2  \n",
      "54539    163.5        2          1  \n",
      "55014    632.5        4          2  \n",
      "55098    738.0        4          2  \n",
      "55583    249.5        2          1  \n",
      "56025    701.5        4          2  \n",
      "56209    814.5        5          2  \n",
      "56760    545.5        4          2  \n",
      "56882    728.0        4          2  \n",
      "57608    659.5        4          2  \n",
      "\n",
      "[838 rows x 6 columns]\n"
     ]
    }
   ],
   "source": [
    "y2015 = venue_rankings[venue_rankings.year == 2015]\n",
    "#print(y2015)\n",
    "\n",
    "print(venue_rankings[venue_rankings.venue.str.contains(\"web\")])\n",
    "#y2015[\"h5_index\"].plot()"
   ]
  },
  {
   "cell_type": "code",
   "execution_count": 31,
   "metadata": {},
   "outputs": [
    {
     "data": {
      "text/html": [
       "<div>\n",
       "<style scoped>\n",
       "    .dataframe tbody tr th:only-of-type {\n",
       "        vertical-align: middle;\n",
       "    }\n",
       "\n",
       "    .dataframe tbody tr th {\n",
       "        vertical-align: top;\n",
       "    }\n",
       "\n",
       "    .dataframe thead th {\n",
       "        text-align: right;\n",
       "    }\n",
       "</style>\n",
       "<table border=\"1\" class=\"dataframe\">\n",
       "  <thead>\n",
       "    <tr style=\"text-align: right;\">\n",
       "      <th></th>\n",
       "      <th>paper1</th>\n",
       "      <th>venue1</th>\n",
       "    </tr>\n",
       "  </thead>\n",
       "  <tbody>\n",
       "    <tr>\n",
       "      <th>0</th>\n",
       "      <td>16870052-7e2e-4bbc-beeb-21e493bea221</td>\n",
       "      <td>acm journal on computing and cultural heritage</td>\n",
       "    </tr>\n",
       "    <tr>\n",
       "      <th>1</th>\n",
       "      <td>ae0b4e3d-305d-4fb8-9847-60dcc9a9ec44</td>\n",
       "      <td>neurocomputing</td>\n",
       "    </tr>\n",
       "    <tr>\n",
       "      <th>2</th>\n",
       "      <td>6d6b0e6a-ddc6-40c9-8103-f0b31a686a76</td>\n",
       "      <td>international conference on the theory and app...</td>\n",
       "    </tr>\n",
       "    <tr>\n",
       "      <th>3</th>\n",
       "      <td>5d737e23-223d-4a51-8145-301588febcb1</td>\n",
       "      <td>future generation computer systems</td>\n",
       "    </tr>\n",
       "    <tr>\n",
       "      <th>4</th>\n",
       "      <td>4167bbcb-4ce3-4df0-9822-67d4ef340c09</td>\n",
       "      <td>international conference on conceptual structures</td>\n",
       "    </tr>\n",
       "  </tbody>\n",
       "</table>\n",
       "</div>"
      ],
      "text/plain": [
       "                                 paper1  \\\n",
       "0  16870052-7e2e-4bbc-beeb-21e493bea221   \n",
       "1  ae0b4e3d-305d-4fb8-9847-60dcc9a9ec44   \n",
       "2  6d6b0e6a-ddc6-40c9-8103-f0b31a686a76   \n",
       "3  5d737e23-223d-4a51-8145-301588febcb1   \n",
       "4  4167bbcb-4ce3-4df0-9822-67d4ef340c09   \n",
       "\n",
       "                                              venue1  \n",
       "0     acm journal on computing and cultural heritage  \n",
       "1                                     neurocomputing  \n",
       "2  international conference on the theory and app...  \n",
       "3                 future generation computer systems  \n",
       "4  international conference on conceptual structures  "
      ]
     },
     "execution_count": 31,
     "metadata": {},
     "output_type": "execute_result"
    }
   ],
   "source": [
    "paper_venue = pd.read_csv('derived-data/venue-paper.csv')\n",
    "paper_venue.head()"
   ]
  },
  {
   "cell_type": "code",
   "execution_count": 67,
   "metadata": {},
   "outputs": [],
   "source": [
    "paper_venue = paper_venue.drop_duplicates()"
   ]
  },
  {
   "cell_type": "code",
   "execution_count": 54,
   "metadata": {},
   "outputs": [
    {
     "data": {
      "text/html": [
       "<div>\n",
       "<style scoped>\n",
       "    .dataframe tbody tr th:only-of-type {\n",
       "        vertical-align: middle;\n",
       "    }\n",
       "\n",
       "    .dataframe tbody tr th {\n",
       "        vertical-align: top;\n",
       "    }\n",
       "\n",
       "    .dataframe thead th {\n",
       "        text-align: right;\n",
       "    }\n",
       "</style>\n",
       "<table border=\"1\" class=\"dataframe\">\n",
       "  <thead>\n",
       "    <tr style=\"text-align: right;\">\n",
       "      <th></th>\n",
       "      <th>pub_id</th>\n",
       "      <th>year</th>\n",
       "    </tr>\n",
       "  </thead>\n",
       "  <tbody>\n",
       "    <tr>\n",
       "      <th>0</th>\n",
       "      <td>001c58d3-26ad-46b3-ab3a-c1e557d16821</td>\n",
       "      <td>2011</td>\n",
       "    </tr>\n",
       "    <tr>\n",
       "      <th>2</th>\n",
       "      <td>001c8744-73c4-4b04-9364-22d31a10dbf1</td>\n",
       "      <td>2009</td>\n",
       "    </tr>\n",
       "    <tr>\n",
       "      <th>6</th>\n",
       "      <td>00338203-9eb3-40c5-9f31-cbac73a519ec</td>\n",
       "      <td>2011</td>\n",
       "    </tr>\n",
       "    <tr>\n",
       "      <th>11</th>\n",
       "      <td>0040b022-1472-4f70-a753-74832df65266</td>\n",
       "      <td>1998</td>\n",
       "    </tr>\n",
       "    <tr>\n",
       "      <th>13</th>\n",
       "      <td>005ce28f-ed77-4e97-afdc-a296137186a1</td>\n",
       "      <td>2009</td>\n",
       "    </tr>\n",
       "  </tbody>\n",
       "</table>\n",
       "</div>"
      ],
      "text/plain": [
       "                                  pub_id  year\n",
       "0   001c58d3-26ad-46b3-ab3a-c1e557d16821  2011\n",
       "2   001c8744-73c4-4b04-9364-22d31a10dbf1  2009\n",
       "6   00338203-9eb3-40c5-9f31-cbac73a519ec  2011\n",
       "11  0040b022-1472-4f70-a753-74832df65266  1998\n",
       "13  005ce28f-ed77-4e97-afdc-a296137186a1  2009"
      ]
     },
     "execution_count": 54,
     "metadata": {},
     "output_type": "execute_result"
    }
   ],
   "source": [
    "authorPublicationData = pd.read_csv('derived-data/author-publications.csv')\n",
    "authorPublicationData = authorPublicationData[['pub_id', 'year']]\n",
    "authorPublicationData = authorPublicationData.drop_duplicates(subset='pub_id')\n",
    "authorPublicationData.head()"
   ]
  },
  {
   "cell_type": "code",
   "execution_count": 55,
   "metadata": {},
   "outputs": [
    {
     "data": {
      "text/plain": [
       "(3078230, 2)"
      ]
     },
     "execution_count": 55,
     "metadata": {},
     "output_type": "execute_result"
    }
   ],
   "source": [
    "authorPublicationData.shape"
   ]
  },
  {
   "cell_type": "code",
   "execution_count": 73,
   "metadata": {},
   "outputs": [],
   "source": [
    "publication_venues = authorPublicationData.merge(paper_venue, left_on='pub_id', right_on='paper1', how='inner')\n",
    "publication_venues = publication_venues.drop('paper1', axis='columns')\n",
    "publication_venues = publication_venues.rename({\"venue1\": \"venue\"}, axis='columns')"
   ]
  },
  {
   "cell_type": "code",
   "execution_count": 79,
   "metadata": {},
   "outputs": [
    {
     "name": "stdout",
     "output_type": "stream",
     "text": [
      "(2329853, 3)\n"
     ]
    },
    {
     "data": {
      "text/html": [
       "<div>\n",
       "<style scoped>\n",
       "    .dataframe tbody tr th:only-of-type {\n",
       "        vertical-align: middle;\n",
       "    }\n",
       "\n",
       "    .dataframe tbody tr th {\n",
       "        vertical-align: top;\n",
       "    }\n",
       "\n",
       "    .dataframe thead th {\n",
       "        text-align: right;\n",
       "    }\n",
       "</style>\n",
       "<table border=\"1\" class=\"dataframe\">\n",
       "  <thead>\n",
       "    <tr style=\"text-align: right;\">\n",
       "      <th></th>\n",
       "      <th>pub_id</th>\n",
       "      <th>year</th>\n",
       "      <th>venue</th>\n",
       "    </tr>\n",
       "  </thead>\n",
       "  <tbody>\n",
       "    <tr>\n",
       "      <th>0</th>\n",
       "      <td>001c58d3-26ad-46b3-ab3a-c1e557d16821</td>\n",
       "      <td>2011</td>\n",
       "      <td>visual analytics science and technology</td>\n",
       "    </tr>\n",
       "    <tr>\n",
       "      <th>1</th>\n",
       "      <td>001c8744-73c4-4b04-9364-22d31a10dbf1</td>\n",
       "      <td>2009</td>\n",
       "      <td>pattern recognition and machine intelligence</td>\n",
       "    </tr>\n",
       "    <tr>\n",
       "      <th>2</th>\n",
       "      <td>00701b05-684f-45f9-b281-425abfec482c</td>\n",
       "      <td>2011</td>\n",
       "      <td>international symposium on computer and inform...</td>\n",
       "    </tr>\n",
       "    <tr>\n",
       "      <th>3</th>\n",
       "      <td>00964544-cbe2-4da9-bb5a-03333160eb34</td>\n",
       "      <td>2014</td>\n",
       "      <td>international conference on computer vision an...</td>\n",
       "    </tr>\n",
       "    <tr>\n",
       "      <th>4</th>\n",
       "      <td>00bcf2d5-1592-46b0-81fd-933f90b5ecca</td>\n",
       "      <td>2002</td>\n",
       "      <td>international conference on conceptual structures</td>\n",
       "    </tr>\n",
       "  </tbody>\n",
       "</table>\n",
       "</div>"
      ],
      "text/plain": [
       "                                 pub_id  year  \\\n",
       "0  001c58d3-26ad-46b3-ab3a-c1e557d16821  2011   \n",
       "1  001c8744-73c4-4b04-9364-22d31a10dbf1  2009   \n",
       "2  00701b05-684f-45f9-b281-425abfec482c  2011   \n",
       "3  00964544-cbe2-4da9-bb5a-03333160eb34  2014   \n",
       "4  00bcf2d5-1592-46b0-81fd-933f90b5ecca  2002   \n",
       "\n",
       "                                               venue  \n",
       "0            visual analytics science and technology  \n",
       "1       pattern recognition and machine intelligence  \n",
       "2  international symposium on computer and inform...  \n",
       "3  international conference on computer vision an...  \n",
       "4  international conference on conceptual structures  "
      ]
     },
     "execution_count": 79,
     "metadata": {},
     "output_type": "execute_result"
    }
   ],
   "source": [
    "print(publication_venues.shape)\n",
    "publication_venues.head()"
   ]
  },
  {
   "cell_type": "code",
   "execution_count": 83,
   "metadata": {},
   "outputs": [],
   "source": [
    "publication_venues_rank = publication_venues.merge(venue_rankings, on=['venue', 'year'], how='left')"
   ]
  },
  {
   "cell_type": "code",
   "execution_count": 84,
   "metadata": {},
   "outputs": [
    {
     "data": {
      "text/html": [
       "<div>\n",
       "<style scoped>\n",
       "    .dataframe tbody tr th:only-of-type {\n",
       "        vertical-align: middle;\n",
       "    }\n",
       "\n",
       "    .dataframe tbody tr th {\n",
       "        vertical-align: top;\n",
       "    }\n",
       "\n",
       "    .dataframe thead th {\n",
       "        text-align: right;\n",
       "    }\n",
       "</style>\n",
       "<table border=\"1\" class=\"dataframe\">\n",
       "  <thead>\n",
       "    <tr style=\"text-align: right;\">\n",
       "      <th></th>\n",
       "      <th>pub_id</th>\n",
       "      <th>year</th>\n",
       "      <th>venue</th>\n",
       "      <th>h5_index</th>\n",
       "      <th>ranking</th>\n",
       "      <th>deciles</th>\n",
       "      <th>quantiles</th>\n",
       "    </tr>\n",
       "  </thead>\n",
       "  <tbody>\n",
       "    <tr>\n",
       "      <th>0</th>\n",
       "      <td>001c58d3-26ad-46b3-ab3a-c1e557d16821</td>\n",
       "      <td>2011</td>\n",
       "      <td>visual analytics science and technology</td>\n",
       "      <td>62.0</td>\n",
       "      <td>277.5</td>\n",
       "      <td>2.0</td>\n",
       "      <td>1.0</td>\n",
       "    </tr>\n",
       "    <tr>\n",
       "      <th>1</th>\n",
       "      <td>001c8744-73c4-4b04-9364-22d31a10dbf1</td>\n",
       "      <td>2009</td>\n",
       "      <td>pattern recognition and machine intelligence</td>\n",
       "      <td>24.0</td>\n",
       "      <td>1158.5</td>\n",
       "      <td>6.0</td>\n",
       "      <td>3.0</td>\n",
       "    </tr>\n",
       "    <tr>\n",
       "      <th>2</th>\n",
       "      <td>00701b05-684f-45f9-b281-425abfec482c</td>\n",
       "      <td>2011</td>\n",
       "      <td>international symposium on computer and inform...</td>\n",
       "      <td>19.0</td>\n",
       "      <td>1461.0</td>\n",
       "      <td>7.0</td>\n",
       "      <td>3.0</td>\n",
       "    </tr>\n",
       "    <tr>\n",
       "      <th>3</th>\n",
       "      <td>00964544-cbe2-4da9-bb5a-03333160eb34</td>\n",
       "      <td>2014</td>\n",
       "      <td>international conference on computer vision an...</td>\n",
       "      <td>9.0</td>\n",
       "      <td>2076.5</td>\n",
       "      <td>8.0</td>\n",
       "      <td>4.0</td>\n",
       "    </tr>\n",
       "    <tr>\n",
       "      <th>4</th>\n",
       "      <td>00bcf2d5-1592-46b0-81fd-933f90b5ecca</td>\n",
       "      <td>2002</td>\n",
       "      <td>international conference on conceptual structures</td>\n",
       "      <td>45.0</td>\n",
       "      <td>267.5</td>\n",
       "      <td>2.0</td>\n",
       "      <td>1.0</td>\n",
       "    </tr>\n",
       "  </tbody>\n",
       "</table>\n",
       "</div>"
      ],
      "text/plain": [
       "                                 pub_id  year  \\\n",
       "0  001c58d3-26ad-46b3-ab3a-c1e557d16821  2011   \n",
       "1  001c8744-73c4-4b04-9364-22d31a10dbf1  2009   \n",
       "2  00701b05-684f-45f9-b281-425abfec482c  2011   \n",
       "3  00964544-cbe2-4da9-bb5a-03333160eb34  2014   \n",
       "4  00bcf2d5-1592-46b0-81fd-933f90b5ecca  2002   \n",
       "\n",
       "                                               venue  h5_index  ranking  \\\n",
       "0            visual analytics science and technology      62.0    277.5   \n",
       "1       pattern recognition and machine intelligence      24.0   1158.5   \n",
       "2  international symposium on computer and inform...      19.0   1461.0   \n",
       "3  international conference on computer vision an...       9.0   2076.5   \n",
       "4  international conference on conceptual structures      45.0    267.5   \n",
       "\n",
       "   deciles  quantiles  \n",
       "0      2.0        1.0  \n",
       "1      6.0        3.0  \n",
       "2      7.0        3.0  \n",
       "3      8.0        4.0  \n",
       "4      2.0        1.0  "
      ]
     },
     "execution_count": 84,
     "metadata": {},
     "output_type": "execute_result"
    }
   ],
   "source": [
    "publication_venues_rank.head()\n"
   ]
  },
  {
   "cell_type": "code",
   "execution_count": 112,
   "metadata": {},
   "outputs": [
    {
     "data": {
      "text/plain": [
       "<matplotlib.axes._subplots.AxesSubplot at 0x7f7f58062c18>"
      ]
     },
     "execution_count": 112,
     "metadata": {},
     "output_type": "execute_result"
    },
    {
     "data": {
      "image/png": "[encoded data removed]",
      "text/plain": [
       "<Figure size 432x288 with 1 Axes>"
      ]
     },
     "metadata": {
      "needs_background": "light"
     },
     "output_type": "display_data"
    }
   ],
   "source": [
    "publication_venues_rank[\"h5_index\"].max\n",
    "publication_venues_rank[[\"h5_index\", \"year\"]].groupby(\"year\").mean().plot()\n",
    "\n",
    "\n"
   ]
  },
  {
   "cell_type": "code",
   "execution_count": 85,
   "metadata": {},
   "outputs": [],
   "source": [
    "publication_venues_rank.to_csv('derived-data/publication-venues-rank.csv', index=False)"
   ]
  }
 ],
 "metadata": {
  "kernelspec": {
   "display_name": "Python 3",
   "language": "python",
   "name": "python3"
  },
  "language_info": {
   "codemirror_mode": {
    "name": "ipython",
    "version": 3
   },
   "file_extension": ".py",
   "mimetype": "text/x-python",
   "name": "python",
   "nbconvert_exporter": "python",
   "pygments_lexer": "ipython3",
   "version": "3.7.2"
  }
 },
 "nbformat": 4,
 "nbformat_minor": 2
}
