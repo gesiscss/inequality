{
 "cells": [
  {
   "cell_type": "code",
   "execution_count": 32,
   "metadata": {},
   "outputs": [],
   "source": [
    "import pandas as pd\n",
    "import numpy as np\n",
    "import calculate as calc\n",
    "import plot as plo\n",
    "\n",
    "import matplotlib.pyplot as plt\n",
    "import seaborn as sns\n",
    "plt.style.use('ggplot')\n",
    "from plot import get_cohort_careerage_df"
   ]
  },
  {
   "cell_type": "code",
   "execution_count": 33,
   "metadata": {},
   "outputs": [
    {
     "ename": "FileNotFoundError",
     "evalue": "File b'./derived-data/authors-scientific-atleast-1-year.csv' does not exist",
     "output_type": "error",
     "traceback": [
      "\u001b[0;31m---------------------------------------------------------------------------\u001b[0m",
      "\u001b[0;31mFileNotFoundError\u001b[0m                         Traceback (most recent call last)",
      "\u001b[0;32m<ipython-input-33-5eb0887bc299>\u001b[0m in \u001b[0;36m<module>\u001b[0;34m()\u001b[0m\n\u001b[0;32m----> 1\u001b[0;31m \u001b[0mauthorStartEndCareerData\u001b[0m \u001b[0;34m=\u001b[0m \u001b[0mpd\u001b[0m\u001b[0;34m.\u001b[0m\u001b[0mread_csv\u001b[0m\u001b[0;34m(\u001b[0m\u001b[0;34m'./derived-data/authors-scientific-atleast-1-year.csv'\u001b[0m\u001b[0;34m)\u001b[0m\u001b[0;34m\u001b[0m\u001b[0m\n\u001b[0m\u001b[1;32m      2\u001b[0m \u001b[0;31m#authorStartEndCareerData = pd.read_csv('./derived-data/authors-scientific-atleast-10-year.csv')\u001b[0m\u001b[0;34m\u001b[0m\u001b[0;34m\u001b[0m\u001b[0m\n\u001b[1;32m      3\u001b[0m \u001b[0mauthorStartEndCareerData\u001b[0m\u001b[0;34m.\u001b[0m\u001b[0mhead\u001b[0m\u001b[0;34m(\u001b[0m\u001b[0mn\u001b[0m\u001b[0;34m=\u001b[0m\u001b[0;36m20\u001b[0m\u001b[0;34m)\u001b[0m\u001b[0;34m\u001b[0m\u001b[0m\n",
      "\u001b[0;32m~/anaconda3/lib/python3.6/site-packages/pandas/io/parsers.py\u001b[0m in \u001b[0;36mparser_f\u001b[0;34m(filepath_or_buffer, sep, delimiter, header, names, index_col, usecols, squeeze, prefix, mangle_dupe_cols, dtype, engine, converters, true_values, false_values, skipinitialspace, skiprows, nrows, na_values, keep_default_na, na_filter, verbose, skip_blank_lines, parse_dates, infer_datetime_format, keep_date_col, date_parser, dayfirst, iterator, chunksize, compression, thousands, decimal, lineterminator, quotechar, quoting, escapechar, comment, encoding, dialect, tupleize_cols, error_bad_lines, warn_bad_lines, skipfooter, skip_footer, doublequote, delim_whitespace, as_recarray, compact_ints, use_unsigned, low_memory, buffer_lines, memory_map, float_precision)\u001b[0m\n\u001b[1;32m    707\u001b[0m                     skip_blank_lines=skip_blank_lines)\n\u001b[1;32m    708\u001b[0m \u001b[0;34m\u001b[0m\u001b[0m\n\u001b[0;32m--> 709\u001b[0;31m         \u001b[0;32mreturn\u001b[0m \u001b[0m_read\u001b[0m\u001b[0;34m(\u001b[0m\u001b[0mfilepath_or_buffer\u001b[0m\u001b[0;34m,\u001b[0m \u001b[0mkwds\u001b[0m\u001b[0;34m)\u001b[0m\u001b[0;34m\u001b[0m\u001b[0m\n\u001b[0m\u001b[1;32m    710\u001b[0m \u001b[0;34m\u001b[0m\u001b[0m\n\u001b[1;32m    711\u001b[0m     \u001b[0mparser_f\u001b[0m\u001b[0;34m.\u001b[0m\u001b[0m__name__\u001b[0m \u001b[0;34m=\u001b[0m \u001b[0mname\u001b[0m\u001b[0;34m\u001b[0m\u001b[0m\n",
      "\u001b[0;32m~/anaconda3/lib/python3.6/site-packages/pandas/io/parsers.py\u001b[0m in \u001b[0;36m_read\u001b[0;34m(filepath_or_buffer, kwds)\u001b[0m\n\u001b[1;32m    447\u001b[0m \u001b[0;34m\u001b[0m\u001b[0m\n\u001b[1;32m    448\u001b[0m     \u001b[0;31m# Create the parser.\u001b[0m\u001b[0;34m\u001b[0m\u001b[0;34m\u001b[0m\u001b[0m\n\u001b[0;32m--> 449\u001b[0;31m     \u001b[0mparser\u001b[0m \u001b[0;34m=\u001b[0m \u001b[0mTextFileReader\u001b[0m\u001b[0;34m(\u001b[0m\u001b[0mfilepath_or_buffer\u001b[0m\u001b[0;34m,\u001b[0m \u001b[0;34m**\u001b[0m\u001b[0mkwds\u001b[0m\u001b[0;34m)\u001b[0m\u001b[0;34m\u001b[0m\u001b[0m\n\u001b[0m\u001b[1;32m    450\u001b[0m \u001b[0;34m\u001b[0m\u001b[0m\n\u001b[1;32m    451\u001b[0m     \u001b[0;32mif\u001b[0m \u001b[0mchunksize\u001b[0m \u001b[0;32mor\u001b[0m \u001b[0miterator\u001b[0m\u001b[0;34m:\u001b[0m\u001b[0;34m\u001b[0m\u001b[0m\n",
      "\u001b[0;32m~/anaconda3/lib/python3.6/site-packages/pandas/io/parsers.py\u001b[0m in \u001b[0;36m__init__\u001b[0;34m(self, f, engine, **kwds)\u001b[0m\n\u001b[1;32m    816\u001b[0m             \u001b[0mself\u001b[0m\u001b[0;34m.\u001b[0m\u001b[0moptions\u001b[0m\u001b[0;34m[\u001b[0m\u001b[0;34m'has_index_names'\u001b[0m\u001b[0;34m]\u001b[0m \u001b[0;34m=\u001b[0m \u001b[0mkwds\u001b[0m\u001b[0;34m[\u001b[0m\u001b[0;34m'has_index_names'\u001b[0m\u001b[0;34m]\u001b[0m\u001b[0;34m\u001b[0m\u001b[0m\n\u001b[1;32m    817\u001b[0m \u001b[0;34m\u001b[0m\u001b[0m\n\u001b[0;32m--> 818\u001b[0;31m         \u001b[0mself\u001b[0m\u001b[0;34m.\u001b[0m\u001b[0m_make_engine\u001b[0m\u001b[0;34m(\u001b[0m\u001b[0mself\u001b[0m\u001b[0;34m.\u001b[0m\u001b[0mengine\u001b[0m\u001b[0;34m)\u001b[0m\u001b[0;34m\u001b[0m\u001b[0m\n\u001b[0m\u001b[1;32m    819\u001b[0m \u001b[0;34m\u001b[0m\u001b[0m\n\u001b[1;32m    820\u001b[0m     \u001b[0;32mdef\u001b[0m \u001b[0mclose\u001b[0m\u001b[0;34m(\u001b[0m\u001b[0mself\u001b[0m\u001b[0;34m)\u001b[0m\u001b[0;34m:\u001b[0m\u001b[0;34m\u001b[0m\u001b[0m\n",
      "\u001b[0;32m~/anaconda3/lib/python3.6/site-packages/pandas/io/parsers.py\u001b[0m in \u001b[0;36m_make_engine\u001b[0;34m(self, engine)\u001b[0m\n\u001b[1;32m   1047\u001b[0m     \u001b[0;32mdef\u001b[0m \u001b[0m_make_engine\u001b[0m\u001b[0;34m(\u001b[0m\u001b[0mself\u001b[0m\u001b[0;34m,\u001b[0m \u001b[0mengine\u001b[0m\u001b[0;34m=\u001b[0m\u001b[0;34m'c'\u001b[0m\u001b[0;34m)\u001b[0m\u001b[0;34m:\u001b[0m\u001b[0;34m\u001b[0m\u001b[0m\n\u001b[1;32m   1048\u001b[0m         \u001b[0;32mif\u001b[0m \u001b[0mengine\u001b[0m \u001b[0;34m==\u001b[0m \u001b[0;34m'c'\u001b[0m\u001b[0;34m:\u001b[0m\u001b[0;34m\u001b[0m\u001b[0m\n\u001b[0;32m-> 1049\u001b[0;31m             \u001b[0mself\u001b[0m\u001b[0;34m.\u001b[0m\u001b[0m_engine\u001b[0m \u001b[0;34m=\u001b[0m \u001b[0mCParserWrapper\u001b[0m\u001b[0;34m(\u001b[0m\u001b[0mself\u001b[0m\u001b[0;34m.\u001b[0m\u001b[0mf\u001b[0m\u001b[0;34m,\u001b[0m \u001b[0;34m**\u001b[0m\u001b[0mself\u001b[0m\u001b[0;34m.\u001b[0m\u001b[0moptions\u001b[0m\u001b[0;34m)\u001b[0m\u001b[0;34m\u001b[0m\u001b[0m\n\u001b[0m\u001b[1;32m   1050\u001b[0m         \u001b[0;32melse\u001b[0m\u001b[0;34m:\u001b[0m\u001b[0;34m\u001b[0m\u001b[0m\n\u001b[1;32m   1051\u001b[0m             \u001b[0;32mif\u001b[0m \u001b[0mengine\u001b[0m \u001b[0;34m==\u001b[0m \u001b[0;34m'python'\u001b[0m\u001b[0;34m:\u001b[0m\u001b[0;34m\u001b[0m\u001b[0m\n",
      "\u001b[0;32m~/anaconda3/lib/python3.6/site-packages/pandas/io/parsers.py\u001b[0m in \u001b[0;36m__init__\u001b[0;34m(self, src, **kwds)\u001b[0m\n\u001b[1;32m   1693\u001b[0m         \u001b[0mkwds\u001b[0m\u001b[0;34m[\u001b[0m\u001b[0;34m'allow_leading_cols'\u001b[0m\u001b[0;34m]\u001b[0m \u001b[0;34m=\u001b[0m \u001b[0mself\u001b[0m\u001b[0;34m.\u001b[0m\u001b[0mindex_col\u001b[0m \u001b[0;32mis\u001b[0m \u001b[0;32mnot\u001b[0m \u001b[0;32mFalse\u001b[0m\u001b[0;34m\u001b[0m\u001b[0m\n\u001b[1;32m   1694\u001b[0m \u001b[0;34m\u001b[0m\u001b[0m\n\u001b[0;32m-> 1695\u001b[0;31m         \u001b[0mself\u001b[0m\u001b[0;34m.\u001b[0m\u001b[0m_reader\u001b[0m \u001b[0;34m=\u001b[0m \u001b[0mparsers\u001b[0m\u001b[0;34m.\u001b[0m\u001b[0mTextReader\u001b[0m\u001b[0;34m(\u001b[0m\u001b[0msrc\u001b[0m\u001b[0;34m,\u001b[0m \u001b[0;34m**\u001b[0m\u001b[0mkwds\u001b[0m\u001b[0;34m)\u001b[0m\u001b[0;34m\u001b[0m\u001b[0m\n\u001b[0m\u001b[1;32m   1696\u001b[0m \u001b[0;34m\u001b[0m\u001b[0m\n\u001b[1;32m   1697\u001b[0m         \u001b[0;31m# XXX\u001b[0m\u001b[0;34m\u001b[0m\u001b[0;34m\u001b[0m\u001b[0m\n",
      "\u001b[0;32mpandas/_libs/parsers.pyx\u001b[0m in \u001b[0;36mpandas._libs.parsers.TextReader.__cinit__\u001b[0;34m()\u001b[0m\n",
      "\u001b[0;32mpandas/_libs/parsers.pyx\u001b[0m in \u001b[0;36mpandas._libs.parsers.TextReader._setup_parser_source\u001b[0;34m()\u001b[0m\n",
      "\u001b[0;31mFileNotFoundError\u001b[0m: File b'./derived-data/authors-scientific-atleast-1-year.csv' does not exist"
     ]
    }
   ],
   "source": [
    "authorStartEndCareerData = pd.read_csv('./derived-data/authors-scientific-atleast-1-year.csv')\n",
    "#authorStartEndCareerData = pd.read_csv('./derived-data/authors-scientific-atleast-10-year.csv')\n",
    "authorStartEndCareerData.head(n=20)"
   ]
  },
  {
   "cell_type": "code",
   "execution_count": null,
   "metadata": {},
   "outputs": [],
   "source": [
    "END_YEAR = 2018\n",
    "MAX_CAREER_LENGTH_COHORT = 15\n",
    "\n",
    "years = authorStartEndCareerData['start_year'].unique()\n",
    "years = sorted(years)\n",
    "cohort_start_years = [y for y in years if y < (END_YEAR - MAX_CAREER_LENGTH_COHORT)]\n",
    "\n",
    "# smooth out the curve - group 2(or more) cohorts (start years) together\n",
    "# 2 points on the plot get merged into one\n",
    "num_years_in_cohort = 2"
   ]
  },
  {
   "cell_type": "code",
   "execution_count": null,
   "metadata": {},
   "outputs": [],
   "source": [
    "# smooth out the curve - group 2 cohorts (start years) together\n",
    "# 2 points on the plot get merged into one"
   ]
  },
  {
   "cell_type": "code",
   "execution_count": null,
   "metadata": {},
   "outputs": [],
   "source": [
    "replace_dict = {}\n",
    "cohort_start_years = list(range(cohort_start_years[0], cohort_start_years[-1], num_years_in_cohort))\n",
    "for start_year in cohort_start_years:\n",
    "    for i in range (1,num_years_in_cohort):\n",
    "        replace_dict[start_year + i] = start_year\n",
    "authorStartEndCareerData['start_year'] = authorStartEndCareerData['start_year'].replace(replace_dict)"
   ]
  },
  {
   "cell_type": "code",
   "execution_count": null,
   "metadata": {},
   "outputs": [],
   "source": [
    "import scipy.stats as stats\n",
    "\n",
    "average_absence_cohort = authorStartEndCareerData.groupby('start_year')['avg_absence'].mean().loc[cohort_start_years]\n",
    "average_max_absence_cohort = authorStartEndCareerData.groupby('start_year')['max_absence'].mean().loc[cohort_start_years]\n",
    "std_max_absence_cohort = authorStartEndCareerData.groupby('start_year')['max_absence'].apply(lambda x: stats.sem(x)).loc[cohort_start_years]\n",
    "\n",
    "authorStartEndCareerData_f = authorStartEndCareerData[authorStartEndCareerData[\"gender\"]==\"f\"]\n",
    "average_absence_cohort_f = authorStartEndCareerData_f.groupby('start_year')['avg_absence'].mean().loc[cohort_start_years]\n",
    "average_max_absence_cohort_f = authorStartEndCareerData_f.groupby('start_year')['max_absence'].mean().loc[cohort_start_years]\n",
    "std_max_absence_cohort_f = authorStartEndCareerData_f.groupby('start_year')['max_absence'].apply(lambda x: stats.sem(x)).loc[cohort_start_years]\n",
    "\n",
    "authorStartEndCareerData_m = authorStartEndCareerData[authorStartEndCareerData[\"gender\"]==\"m\"]\n",
    "average_absence_cohort_m = authorStartEndCareerData_m.groupby('start_year')['avg_absence'].mean().loc[cohort_start_years]\n",
    "average_max_absence_cohort_m = authorStartEndCareerData_m.groupby('start_year')['max_absence'].mean().loc[cohort_start_years]\n",
    "std_max_absence_cohort_m = authorStartEndCareerData_m.groupby('start_year')['max_absence'].apply(lambda x: stats.sem(x)).loc[cohort_start_years]\n",
    "\n",
    "authorStartEndCareerData_n = authorStartEndCareerData[authorStartEndCareerData[\"gender\"]==\"none\"]\n",
    "average_absence_cohort_n = authorStartEndCareerData_n.groupby('start_year')['avg_absence'].mean().loc[cohort_start_years]\n",
    "average_max_absence_cohort_n = authorStartEndCareerData_n.groupby('start_year')['max_absence'].mean().loc[cohort_start_years]\n",
    "std_max_absence_cohort_n = authorStartEndCareerData_n.groupby('start_year')['max_absence'].apply(lambda x: stats.sem(x)).loc[cohort_start_years]\n"
   ]
  },
  {
   "cell_type": "code",
   "execution_count": null,
   "metadata": {},
   "outputs": [],
   "source": []
  },
  {
   "cell_type": "markdown",
   "metadata": {},
   "source": [
    "## Average waiting time analysis over cohorts"
   ]
  },
  {
   "cell_type": "code",
   "execution_count": null,
   "metadata": {},
   "outputs": [],
   "source": [
    "## We expect to see that average waiting times are decreasing over time since scientists recently form larger collaborations"
   ]
  },
  {
   "cell_type": "code",
   "execution_count": null,
   "metadata": {},
   "outputs": [],
   "source": [
    "x = average_absence_cohort.index\n",
    "y = average_absence_cohort.values\n",
    "plt.plot(x,y)\n",
    "plt.xlabel('Cohort start year')\n",
    "plt.ylabel(\"Average absence time\")\n",
    "plt.show()\n",
    "\n",
    "\n",
    "# print(std_max_absence_cohort)\n",
    "\n",
    "fig = plt.figure()\n",
    "fig.patch.set_facecolor('white')\n",
    "ax = fig.add_subplot(1,1,1) #, axisbg=\"white\"\n",
    "x = average_max_absence_cohort.index\n",
    "y = average_max_absence_cohort.values\n",
    "x_f = average_max_absence_cohort_f.index\n",
    "y_f = average_max_absence_cohort_f.values\n",
    "x_m = average_max_absence_cohort_m.index\n",
    "y_m = average_max_absence_cohort_m.values\n",
    "x_n = average_max_absence_cohort_n.index\n",
    "y_n = average_max_absence_cohort_n.values\n",
    "\n",
    "#plt.plot(x,y)\n",
    "ax.errorbar(x_n, y_n,  yerr=std_max_absence_cohort.values, marker='.', markersize=10, color=\"grey\", label=\"none\")\n",
    "ax.errorbar(x_f, y_f,  yerr=std_max_absence_cohort_f.values, marker='.', markersize=10, color=\"red\", label=\"female\")\n",
    "ax.errorbar(x_m, y_m,  yerr=std_max_absence_cohort_m.values, marker='.', markersize=10, color=\"blue\", label=\"male\")\n",
    "\n",
    "plt.xlabel('Cohort start year')\n",
    "plt.ylabel(\"Average MAX absence time\")\n",
    "plt.legend()\n",
    "plt.show()\n"
   ]
  },
  {
   "cell_type": "code",
   "execution_count": null,
   "metadata": {},
   "outputs": [],
   "source": [
    "# unique_career_ages = np.unique(data[\"age\"])\n",
    "# max_years = np.max(unique_career_ages)\n",
    "# cols = 5   \n",
    "# nrows = int(math.ceil(float(max_years)/float(cols)))"
   ]
  },
  {
   "cell_type": "code",
   "execution_count": null,
   "metadata": {},
   "outputs": [],
   "source": [
    "# fig2, ax2 = plt.subplots(nrows=nrows, ncols=cols, sharex=True, sharey=True, figsize=(16,10))"
   ]
  },
  {
   "cell_type": "code",
   "execution_count": null,
   "metadata": {},
   "outputs": [],
   "source": [
    "# p = get_cohort_careerage_df(cohort_start_years, 15, 'avg_absence', authorStartEndCareerData)"
   ]
  },
  {
   "cell_type": "markdown",
   "metadata": {},
   "source": [
    "## Dropouts"
   ]
  },
  {
   "cell_type": "code",
   "execution_count": null,
   "metadata": {},
   "outputs": [],
   "source": [
    "inactive = authorStartEndCareerData.groupby(['start_year', 'gender'])['dropped_after_10'].sum()"
   ]
  },
  {
   "cell_type": "code",
   "execution_count": null,
   "metadata": {},
   "outputs": [],
   "source": [
    "total = authorStartEndCareerData.groupby(['start_year', 'gender'])['dropped_after_10'].count()"
   ]
  },
  {
   "cell_type": "code",
   "execution_count": null,
   "metadata": {},
   "outputs": [],
   "source": [
    "inactive = inactive.to_frame()\n",
    "inactive['all'] = total"
   ]
  },
  {
   "cell_type": "code",
   "execution_count": null,
   "metadata": {},
   "outputs": [],
   "source": [
    "inactive.head()"
   ]
  },
  {
   "cell_type": "code",
   "execution_count": null,
   "metadata": {},
   "outputs": [],
   "source": [
    "inactive['percent_dropped'] = (inactive['dropped_after_10']*100)/inactive['all']"
   ]
  },
  {
   "cell_type": "code",
   "execution_count": null,
   "metadata": {},
   "outputs": [],
   "source": [
    "inactive = inactive.loc[cohort_start_years]"
   ]
  },
  {
   "cell_type": "code",
   "execution_count": null,
   "metadata": {},
   "outputs": [],
   "source": [
    "inactive.reset_index(inplace=True)"
   ]
  },
  {
   "cell_type": "code",
   "execution_count": null,
   "metadata": {},
   "outputs": [],
   "source": [
    "data_m = inactive[inactive['gender']=='m']\n",
    "data_f = inactive[inactive['gender']=='f']\n",
    "data_n = inactive[inactive['gender']=='none']"
   ]
  },
  {
   "cell_type": "code",
   "execution_count": null,
   "metadata": {},
   "outputs": [],
   "source": [
    "plt.plot(data_m['start_year'], data_m['percent_dropped'], label='Male')\n",
    "plt.plot(data_f['start_year'], data_f['percent_dropped'], label='Female')\n",
    "plt.plot(data_n['start_year'], data_n['percent_dropped'], label='None')\n",
    "plt.title(\"Dropout rate\")\n",
    "plt.ylabel('Percentage dropped out')\n",
    "plt.xlabel('Cohort start year')\n",
    "plt.legend()\n",
    "plt.show()"
   ]
  },
  {
   "cell_type": "markdown",
   "metadata": {},
   "source": [
    "## Cliffs delta analysis"
   ]
  },
  {
   "cell_type": "code",
   "execution_count": null,
   "metadata": {},
   "outputs": [],
   "source": [
    "male = authorStartEndCareerData[authorStartEndCareerData.gender == 'm'].max_absence"
   ]
  },
  {
   "cell_type": "code",
   "execution_count": null,
   "metadata": {},
   "outputs": [],
   "source": [
    "female = authorStartEndCareerData[authorStartEndCareerData.gender == 'f'].max_absence"
   ]
  },
  {
   "cell_type": "code",
   "execution_count": null,
   "metadata": {},
   "outputs": [],
   "source": [
    "print(male.shape)\n",
    "print(female.shape)"
   ]
  },
  {
   "cell_type": "code",
   "execution_count": null,
   "metadata": {},
   "outputs": [],
   "source": []
  },
  {
   "cell_type": "code",
   "execution_count": null,
   "metadata": {},
   "outputs": [],
   "source": [
    "# over whole dataset\n",
    "# do not run, compute heavy\n",
    "# calc.cliffsD(male, female)\n",
    "# -0.056557295548457606"
   ]
  },
  {
   "cell_type": "code",
   "execution_count": null,
   "metadata": {},
   "outputs": [],
   "source": [
    "cd11 = calc.cliffs_delta_cohorts(authorStartEndCareerData, 'gender', 'f', 'm', 'avg_absence', cohort_start_years)\n",
    "plo.plot_cliffs_delta(cd11, 'female', 'male', 'avg_absence')"
   ]
  },
  {
   "cell_type": "code",
   "execution_count": null,
   "metadata": {},
   "outputs": [],
   "source": [
    "cd2 = calc.cliffs_delta_cohorts(authorStartEndCareerData, 'gender', 'f', 'm', 'max_absence', cohort_start_years)\n",
    "plo.plot_cliffs_delta(cd2, 'female', 'male', 'max_absence')"
   ]
  },
  {
   "cell_type": "code",
   "execution_count": null,
   "metadata": {},
   "outputs": [],
   "source": [
    "cd3 = calc.cliffs_delta_cohorts(authorStartEndCareerData, 'gender', 'none', 'm', 'max_absence', cohort_start_years)\n",
    "plo.plot_cliffs_delta(cd3, 'none', 'male', 'max_absence')"
   ]
  },
  {
   "cell_type": "code",
   "execution_count": null,
   "metadata": {},
   "outputs": [],
   "source": [
    "cd4 = calc.cliffs_delta_cohorts(authorStartEndCareerData, 'gender', 'f', 'none', 'max_absence', cohort_start_years)\n",
    "plo.plot_cliffs_delta(cd4, 'female', 'none', 'max_absence')"
   ]
  },
  {
   "cell_type": "code",
   "execution_count": null,
   "metadata": {},
   "outputs": [],
   "source": []
  }
 ],
 "metadata": {
  "kernelspec": {
   "display_name": "Python 3",
   "language": "python",
   "name": "python3"
  },
  "language_info": {
   "codemirror_mode": {
    "name": "ipython",
    "version": 3
   },
   "file_extension": ".py",
   "mimetype": "text/x-python",
   "name": "python",
   "nbconvert_exporter": "python",
   "pygments_lexer": "ipython3",
   "version": "3.6.4"
  }
 },
 "nbformat": 4,
 "nbformat_minor": 2
}
