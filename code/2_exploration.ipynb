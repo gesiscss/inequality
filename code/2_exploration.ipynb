{
 "cells": [
  {
   "cell_type": "markdown",
   "metadata": {},
   "source": [
    "# Individual and gender inequality in computer science: A career study of cohorts from 1970 to 2000\n",
    "\n",
    "## Part 2: Exploration\n",
    "\n",
    "In this notebook, we explore patterns in the field of computer science and produce four figures. Figure 1 of the paper is a basic description of the field. Figure 2 shows individual inequality in productivity and impact as a function of career ages. Figure 3 shows individual inequality in productivity and impact as a function of cohorts. Figure 4 depicts gender inequality for productivity and impact as a function of cohorts and career ages.\n",
    "\n",
    "---"
   ]
  },
  {
   "cell_type": "markdown",
   "metadata": {},
   "source": [
    "### 1. Imports\n",
    "\n",
    "Many of the custom functions we need are stored in a utilities file."
   ]
  },
  {
   "cell_type": "code",
   "execution_count": null,
   "metadata": {},
   "outputs": [],
   "source": [
    "%matplotlib inline\n",
    "\n",
    "import matplotlib.pyplot as plt\n",
    "import numpy as np\n",
    "import os\n",
    "import pandas as pd\n",
    "import powerlaw as pl\n",
    "import scipy as sp\n",
    "\n",
    "from matplotlib.colorbar import ColorbarBase\n",
    "from matplotlib.colors import Normalize\n",
    "from matplotlib.ticker import MultipleLocator, FixedLocator\n",
    "from utils import *"
   ]
  },
  {
   "cell_type": "markdown",
   "metadata": {},
   "source": [
    "### 2. Directories\n",
    "\n",
    "Create directories if they don't exist:"
   ]
  },
  {
   "cell_type": "code",
   "execution_count": null,
   "metadata": {},
   "outputs": [],
   "source": [
    "directory = '../results'\n",
    "if not os.path.exists(directory):\n",
    "    os.makedirs(directory)\n",
    "\n",
    "directory = '../results/fig1'\n",
    "if not os.path.exists(directory):\n",
    "    os.makedirs(directory)\n",
    "\n",
    "directory = '../results/fig2'\n",
    "if not os.path.exists(directory):\n",
    "    os.makedirs(directory)\n",
    "\n",
    "directory = '../results/fig3'\n",
    "if not os.path.exists(directory):\n",
    "    os.makedirs(directory)\n",
    "\n",
    "directory = '../results/fig4'\n",
    "if not os.path.exists(directory):\n",
    "    os.makedirs(directory)"
   ]
  },
  {
   "cell_type": "markdown",
   "metadata": {},
   "source": [
    "### 3. Load data\n",
    "\n",
    "Load files from the 'data' directory:"
   ]
  },
  {
   "cell_type": "code",
   "execution_count": null,
   "metadata": {},
   "outputs": [],
   "source": [
    "authors_publications = pd.read_csv('../data/authors_publications.csv.gz')\n",
    "features = pd.read_csv('../data/features.csv.gz') \n",
    "counts = pd.read_csv('../data/counts.csv.gz')\n",
    "counts_first = pd.read_csv('../data/counts_first.csv.gz')"
   ]
  },
  {
   "cell_type": "markdown",
   "metadata": {},
   "source": [
    "Enrich the `counts` dataframes:"
   ]
  },
  {
   "cell_type": "code",
   "execution_count": null,
   "metadata": {},
   "outputs": [],
   "source": [
    "dropout_cols = ['author', 'dropout']\n",
    "counts = counts.merge(features[dropout_cols], on='author', how='left')\n",
    "counts_first = counts_first.merge(features[dropout_cols], on='author', how='left')"
   ]
  },
  {
   "cell_type": "markdown",
   "metadata": {},
   "source": [
    "### 4. Produce figures\n",
    "\n",
    "#### 4.1. Figure 1\n",
    "\n",
    "(A) The size of cohorts increases exponentially with time for both males and females:"
   ]
  },
  {
   "cell_type": "code",
   "execution_count": null,
   "metadata": {},
   "outputs": [],
   "source": [
    "cohort_sizes = counts.groupby('cohort').agg({'author': 'nunique'})\n",
    "cohort_sizes_m = counts[counts['gender'] == 'm'].groupby(['cohort']).agg({'author': 'nunique'})\n",
    "cohort_sizes_f = counts[counts['gender'] == 'f'].groupby(['cohort']).agg({'author': 'nunique'})"
   ]
  },
  {
   "cell_type": "code",
   "execution_count": null,
   "metadata": {},
   "outputs": [],
   "source": [
    "linewidth = 2\n",
    "fontsize = 18\n",
    "fig = plt.figure(figsize=(4, 4))\n",
    "ax = fig.add_subplot(111)\n",
    "ax.plot(cohort_sizes.index, cohort_sizes.values, linewidth=linewidth, ls=':', color='black', label='Total')\n",
    "ax.plot(cohort_sizes_m.index, cohort_sizes_m.values, linewidth=linewidth, ls='--', color='blue', label='Male')\n",
    "ax.plot(cohort_sizes_f.index, cohort_sizes_f.values, linewidth=linewidth, ls='-', color='red', label='Female')\n",
    "ax.xaxis.set_ticks_position('both')\n",
    "ax.yaxis.set_ticks_position('both')\n",
    "ax.set_yscale('log')\n",
    "ax.set_xlabel('Cohort', fontsize=fontsize)\n",
    "ax.set_ylabel('Number of Authors', fontsize=fontsize)\n",
    "ax.set_xticks([1970, 1980, 1990, 2000])\n",
    "ax.tick_params(axis='x', which='major', direction='in', width=linewidth, size=4*linewidth, labelsize=fontsize)\n",
    "ax.tick_params(axis='x', which='minor', direction='in', width=linewidth, size=2*linewidth, labelsize=fontsize)\n",
    "ax.tick_params(axis='y', which='major', direction='in', width=linewidth, size=4*linewidth, labelsize=fontsize)\n",
    "ax.tick_params(axis='y', which='minor', direction='in', width=linewidth, size=2*linewidth, labelsize=fontsize)\n",
    "ax.spines['left'].set_linewidth(linewidth)\n",
    "ax.spines['right'].set_linewidth(linewidth)\n",
    "ax.spines['bottom'].set_linewidth(linewidth)\n",
    "ax.spines['top'].set_linewidth(linewidth)\n",
    "ax.legend(fontsize=fontsize-6)\n",
    "plt.gcf().text(0., 0.9, 'A', fontsize=fontsize*2)\n",
    "plt.subplots_adjust(left=0.25, right=0.95, bottom=0.2, top=0.9)\n",
    "fig.savefig('../results/fig1/fig1a_authors_per_cohort.pdf')"
   ]
  },
  {
   "cell_type": "markdown",
   "metadata": {},
   "source": [
    "(B) The average team size, measured by the number of authors per paper, increases over time:"
   ]
  },
  {
   "cell_type": "code",
   "execution_count": null,
   "metadata": {},
   "outputs": [],
   "source": [
    "avg_team_size = authors_publications.groupby(['year', 'pub_id']).size().groupby('year').mean().to_frame('avg_team_size')\n",
    "avg_team_size = avg_team_size[avg_team_size.index.isin(list(range(1970, 2015)))]"
   ]
  },
  {
   "cell_type": "code",
   "execution_count": null,
   "metadata": {},
   "outputs": [],
   "source": [
    "linewidth = 2\n",
    "fontsize = 18\n",
    "fig = plt.figure(figsize=(4, 4))\n",
    "ax = fig.add_subplot(111)\n",
    "ax.plot(avg_team_size.index, avg_team_size.avg_team_size, linewidth=linewidth, color='black')\n",
    "ax.xaxis.set_ticks_position('both')\n",
    "ax.yaxis.set_ticks_position('both')\n",
    "ax.set_xlabel('Year', fontsize=fontsize)\n",
    "ax.set_ylabel('Average Team Size', fontsize=fontsize)\n",
    "ax.set_xticks([1970, 1990, 2010])\n",
    "ax.tick_params(axis='x', which='major', direction='in', width=linewidth, size=4*linewidth, labelsize=fontsize)\n",
    "ax.tick_params(axis='x', which='minor', direction='in', width=linewidth, size=2*linewidth, labelsize=fontsize)\n",
    "ax.tick_params(axis='y', which='major', direction='in', width=linewidth, size=4*linewidth, labelsize=fontsize)\n",
    "ax.tick_params(axis='y', which='minor', direction='in', width=linewidth, size=2*linewidth, labelsize=fontsize)\n",
    "ax.spines['left'].set_linewidth(linewidth)\n",
    "ax.spines['right'].set_linewidth(linewidth)\n",
    "ax.spines['bottom'].set_linewidth(linewidth)\n",
    "ax.spines['top'].set_linewidth(linewidth)\n",
    "plt.gcf().text(0., 0.9, 'B', fontsize=fontsize*2)\n",
    "plt.subplots_adjust(left=0.25, right=0.95, bottom=0.2, top=0.9)\n",
    "fig.savefig('../results/fig1/fig1b_average_team_size_per_year.pdf')"
   ]
  },
  {
   "cell_type": "markdown",
   "metadata": {},
   "source": [
    "(C) Distributions of productivity and impact are broad:"
   ]
  },
  {
   "cell_type": "code",
   "execution_count": null,
   "metadata": {},
   "outputs": [],
   "source": [
    "# extract data\n",
    "P_15 = counts[counts['career_age'] == 15]['cum_num_pub'].to_list()\n",
    "P_15 = [int(x) for x in P_15 if x>0]\n",
    "C_15 = counts[counts['career_age'] == 15]['cum_num_cit'].to_list()\n",
    "C_15 = [int(x) for x in C_15 if x>0]\n",
    "\n",
    "# bin data\n",
    "a_bin_P_15 = bin_pdf(pdf(P_15))\n",
    "a_bin_C_15 = bin_pdf(pdf(C_15))\n",
    "\n",
    "# fit data\n",
    "f_P_15 = pl.Fit(P_15, discrete=True, xmin=1)\n",
    "f_C_15 = pl.Fit(C_15, discrete=True, xmin=1)\n",
    "\n",
    "# create discrete x-coordinates \n",
    "space_xmin_P_15 = np.logspace(np.log10(f_P_15.xmin), np.log10(max(f_P_15.data_original)), 100)\n",
    "space_xmin_C_15 = np.logspace(np.log10(f_C_15.xmin), np.log10(max(f_C_15.data_original)), 100)"
   ]
  },
  {
   "cell_type": "code",
   "execution_count": null,
   "metadata": {},
   "outputs": [],
   "source": [
    "fontsize = 18\n",
    "linewidth = 2\n",
    "markersize = 9\n",
    "fig = plt.figure(figsize=(4, 4))\n",
    "ax = fig.add_subplot(111)\n",
    "ax.plot(a_bin_P_15[:, 0], a_bin_P_15[:, 3], marker='^', color='green', ls='', markersize=markersize, label='$x=P(15)$')\n",
    "ax.plot(a_bin_C_15[:, 0], a_bin_C_15[:, 3], marker='v', color='purple', ls='', markersize=markersize, label='$x=C(15)$')\n",
    "ax.plot(space_xmin_P_15, f_P_15.truncated_power_law.pdf(space_xmin_P_15), color='k', ls='-', linewidth=linewidth)\n",
    "ax.plot(space_xmin_C_15, f_C_15.lognormal.pdf(space_xmin_C_15), color='k', ls='--', linewidth=linewidth)\n",
    "ax.xaxis.set_ticks_position('both')\n",
    "ax.yaxis.set_ticks_position('both')\n",
    "ax.set_xscale('log')\n",
    "ax.set_yscale('log')\n",
    "ax.set_xlabel('$x$', fontsize=fontsize)\n",
    "ax.set_ylabel('Probability', fontsize=fontsize)\n",
    "ax.set_xticks([1, 10, 100, 1000, 10000])\n",
    "ax.tick_params(axis='x', which='major', direction='in', width=linewidth, size=4*linewidth, labelsize=fontsize)\n",
    "ax.tick_params(axis='x', which='minor', direction='in', width=linewidth, size=2*linewidth, labelsize=fontsize)\n",
    "ax.tick_params(axis='y', which='major', direction='in', width=linewidth, size=4*linewidth, labelsize=fontsize)\n",
    "ax.tick_params(axis='y', which='minor', direction='in', width=linewidth, size=2*linewidth, labelsize=fontsize)\n",
    "ax.spines['left'].set_linewidth(linewidth)\n",
    "ax.spines['right'].set_linewidth(linewidth)\n",
    "ax.spines['bottom'].set_linewidth(linewidth)\n",
    "ax.spines['top'].set_linewidth(linewidth)\n",
    "ax.legend(fontsize=fontsize-6)\n",
    "plt.gcf().text(0., 0.9, 'C', fontsize=fontsize*2)\n",
    "plt.subplots_adjust(left=0.25, right=0.95, bottom=0.2, top=0.9)\n",
    "fig.savefig('../results/fig1/fig1c_distributions.pdf')"
   ]
  },
  {
   "cell_type": "markdown",
   "metadata": {},
   "source": [
    "(D) The number of authors decreases with the number of years during which they publish persistently after the beginning of their careers:"
   ]
  },
  {
   "cell_type": "code",
   "execution_count": null,
   "metadata": {},
   "outputs": [],
   "source": [
    "authors = features[['author', 'cohort', 'gender', 'last_consec_ca', 'max_absence', 'career_length']]\n",
    "\n",
    "persistence = authors['last_consec_ca'].value_counts().sort_index()\n",
    "persistence_female = authors[authors['gender'] == 'f']['last_consec_ca'].value_counts().sort_index()\n",
    "persistence_female = np.array([persistence_female.index, persistence_female.values, persistence_female.values/sum(persistence_female.values)]).T\n",
    "persistence_male = authors[authors['gender'] == 'm']['last_consec_ca'].value_counts().sort_index()\n",
    "persistence_male = np.array([persistence_male.index, persistence_male.values, persistence_male.values/sum(persistence_male.values)]).T"
   ]
  },
  {
   "cell_type": "code",
   "execution_count": null,
   "metadata": {
    "lines_to_next_cell": 0
   },
   "outputs": [],
   "source": [
    "linewidth = 2\n",
    "fontsize = 18\n",
    "markersize = 9\n",
    "fig = plt.figure(figsize=(4, 4))\n",
    "ax = fig.add_subplot(111)\n",
    "ax.plot(persistence_female[:14, 0], persistence_female[:14, 2], color='red', linewidth=2, ls='-', label='Female')\n",
    "ax.plot(persistence_male[:14, 0], persistence_male[:14, 2], color='blue', linewidth=2, ls='--', label='Male')\n",
    "ax.set_yscale('log')\n",
    "ax.set_ylabel('Probability', fontsize=fontsize)\n",
    "ax.set_xticks([1, 5, 10, 14])\n",
    "ax.set_xlabel('Early Career Persistence', fontsize=fontsize)\n",
    "ax.tick_params(axis='x', which='major', direction='in', width=linewidth, size=4*linewidth, labelsize=fontsize)\n",
    "ax.tick_params(axis='x', which='minor', direction='in', width=linewidth, size=2*linewidth, labelsize=fontsize)\n",
    "ax.tick_params(axis='y', which='major', direction='in', width=linewidth, size=4*linewidth, labelsize=fontsize)\n",
    "ax.tick_params(axis='y', which='minor', direction='in', width=linewidth, size=2*linewidth, labelsize=fontsize)\n",
    "ax.spines['left'].set_linewidth(linewidth)\n",
    "ax.spines['right'].set_linewidth(linewidth)\n",
    "ax.spines['bottom'].set_linewidth(linewidth)\n",
    "ax.spines['top'].set_linewidth(linewidth)\n",
    "plt.legend(fontsize=fontsize-6)\n",
    "plt.gcf().text(0., 0.9, 'D', fontsize=fontsize*2)\n",
    "plt.subplots_adjust(left=0.25, right=0.95, bottom=0.2, top=0.9)\n",
    "fig.savefig('../results/fig1/fig1d_persistence_gender.pdf')"
   ]
  },
  {
   "cell_type": "markdown",
   "metadata": {},
   "source": [
    "(E) The fraction of authors in a cohort that drop out of academia decreases but is more or less constant since the mid-80s:"
   ]
  },
  {
   "cell_type": "code",
   "execution_count": null,
   "metadata": {},
   "outputs": [],
   "source": [
    "cohort_sizes_dropout = counts[counts['dropout'] == True].groupby(['cohort']).agg({'author': 'nunique'})\n",
    "cohort_sizes_m_dropout = counts[(counts['gender'] == 'm') & (counts['dropout'] == True)].groupby(['cohort']).agg({'author': 'nunique'})\n",
    "cohort_sizes_f_dropout = counts[(counts['gender'] == 'f') & (counts['dropout'] == True)].groupby(['cohort']).agg({'author': 'nunique'})\n",
    "\n",
    "cohort_sizes_dropout_rate = cohort_sizes_dropout/cohort_sizes\n",
    "cohort_sizes_m_dropout_rate = cohort_sizes_m_dropout/cohort_sizes_m\n",
    "cohort_sizes_f_dropout_rate = cohort_sizes_f_dropout/cohort_sizes_f"
   ]
  },
  {
   "cell_type": "code",
   "execution_count": null,
   "metadata": {
    "scrolled": false
   },
   "outputs": [],
   "source": [
    "linewidth = 2\n",
    "fontsize = 18\n",
    "fig = plt.figure(figsize=(4, 4))\n",
    "ax = fig.add_subplot(111)\n",
    "ax.plot(cohort_sizes_dropout_rate.index, cohort_sizes_dropout_rate.values, linewidth=linewidth, ls=':', color='black', label='Total')\n",
    "ax.plot(cohort_sizes_m_dropout_rate.index, cohort_sizes_m_dropout_rate.values, linewidth=linewidth, ls='--', color='blue', label='Male')\n",
    "ax.plot(cohort_sizes_f_dropout_rate.index, cohort_sizes_f_dropout_rate.values, linewidth=linewidth, ls='-', color='red', label='Female')\n",
    "ax.xaxis.set_ticks_position('both')\n",
    "ax.yaxis.set_ticks_position('both')\n",
    "ax.set_xlabel('Cohort', fontsize=fontsize)\n",
    "ax.set_ylabel('Dropout Rate', fontsize=fontsize)\n",
    "ax.set_xticks([1970, 1980, 1990, 2000])\n",
    "ax.tick_params(axis='x', which='major', direction='in', width=linewidth, size=4*linewidth, labelsize=fontsize)\n",
    "ax.tick_params(axis='x', which='minor', direction='in', width=linewidth, size=2*linewidth, labelsize=fontsize)\n",
    "ax.tick_params(axis='y', which='major', direction='in', width=linewidth, size=4*linewidth, labelsize=fontsize)\n",
    "ax.tick_params(axis='y', which='minor', direction='in', width=linewidth, size=2*linewidth, labelsize=fontsize)\n",
    "ax.spines['left'].set_linewidth(linewidth)\n",
    "ax.spines['right'].set_linewidth(linewidth)\n",
    "ax.spines['bottom'].set_linewidth(linewidth)\n",
    "ax.spines['top'].set_linewidth(linewidth)\n",
    "ax.legend(fontsize=fontsize-6)\n",
    "plt.gcf().text(0., 0.9, 'E', fontsize=fontsize*2)\n",
    "plt.subplots_adjust(left=0.25, right=0.95, bottom=0.2, top=0.9)\n",
    "fig.savefig('../results/fig1/fig1e_dropout_rate_per_cohort.pdf')"
   ]
  },
  {
   "cell_type": "markdown",
   "metadata": {},
   "source": [
    "#### 4.2. Figures 2 and 6\n",
    "\n",
    "Individual inequality in productivity and impact as a function of career ages:"
   ]
  },
  {
   "cell_type": "code",
   "execution_count": null,
   "metadata": {
    "code_folding": [
     39
    ]
   },
   "outputs": [],
   "source": [
    "def aggregate_career_age_data(counts, func, func_name):#, remove_zero=False):\n",
    "    cohort_counts = counts.groupby(['cohort', 'career_age']).agg({'cum_num_pub':func, 'cum_num_cit':func, 'win_num_pub':func, 'win_num_cit':func})\n",
    "    #if remove_zero:\n",
    "    #    raise Exception('DONT REMOVE ZERO!')\n",
    "    #    cohort_counts_pub_gt0 = counts[counts['win_num_pub']>0].groupby(['cohort', 'career_age']).agg({'win_num_cit':func, 'win_num_pub':func})\n",
    "    #    cohort_counts['win_num_cit'] = cohort_counts_pub_gt0['win_num_cit']\n",
    "    #    cohort_counts['win_num_pub'] = cohort_counts_pub_gt0['win_num_pub']\n",
    "    cohort_counts.reset_index(inplace=True)\n",
    "    cohort_counts = cohort_counts.rename({'cum_num_pub':f'{func_name}_cum_num_pub', 'cum_num_cit':f'{func_name}_cum_num_cit','win_num_pub':f'{func_name}_win_num_pub','win_num_cit': f'{func_name}_win_num_cit'}, axis='columns')\n",
    "    return cohort_counts\n",
    "\n",
    "def plot_criteria_over_career_ages(data, criteria, criteria_name, title, letter, x_start=1, x_end=15, legend=True, name_ext=''):\n",
    "    linewidth = 2\n",
    "    fontsize = 18\n",
    "    fig = plt.figure(figsize=(4, 4))\n",
    "    ax = fig.add_subplot(111)\n",
    "    color = ['#000000', '#e41a1c', '#377eb8', '#4daf4a', '#984ea3', '#ff7f00', '#ffff33', '#a65628', '#f781bf', '#999999']\n",
    "    cohort = [1970, 1975, 1980, 1985, 1990, 1995, 2000]\n",
    "    for i in range(0, 7):\n",
    "        df = data[data['cohort'] == cohort[i]]\n",
    "        df = df[(df['career_age'] >= x_start) & (df['career_age'] <= x_end)]\n",
    "        ax.plot(df['career_age'], df[criteria], linewidth=linewidth, label=cohort[i], color=color[i])\n",
    "    ax.set_ylim([0.16, 1.04])\n",
    "    ax.xaxis.set_ticks_position('bottom')\n",
    "    ax.yaxis.set_ticks_position('both')\n",
    "    ax.xaxis.set_minor_locator(MultipleLocator(1))\n",
    "    ax.set_xlabel('Career Age', fontsize=fontsize)\n",
    "    ax.set_ylabel(f'{criteria_name}', fontsize=fontsize)\n",
    "    ax.set_title(title, fontsize=fontsize)\n",
    "    ax.tick_params(axis='x', which='major', direction='in', width=linewidth, size=4*linewidth, labelsize=fontsize)\n",
    "    ax.tick_params(axis='x', which='minor', direction='in', width=linewidth, size=2*linewidth, labelsize=fontsize)\n",
    "    ax.tick_params(axis='y', which='major', direction='in', width=linewidth, size=4*linewidth, labelsize=fontsize)\n",
    "    ax.tick_params(axis='y', which='minor', direction='in', width=linewidth, size=2*linewidth, labelsize=fontsize)\n",
    "    ax.spines['left'].set_linewidth(linewidth)\n",
    "    ax.spines['right'].set_linewidth(linewidth)\n",
    "    ax.spines['bottom'].set_linewidth(linewidth)\n",
    "    ax.spines['top'].set_linewidth(linewidth)\n",
    "    if x_end == 13:\n",
    "        ax.set_xlim([0.25, 13.75])\n",
    "        ax.set_xticks([])\n",
    "        ax.xaxis.set_major_locator(FixedLocator([1, 7, 13]))\n",
    "        ax.set_xticks([1, 7, 13])\n",
    "        ax.set_xticklabels(['3', '9', '15'])\n",
    "    else:\n",
    "        ax.set_xlim([0.25, 15.75])\n",
    "        ax.set_xticks([1, 5, 10, 15])\n",
    "    if legend: ax.legend(fontsize=fontsize-6)\n",
    "    plt.gcf().text(0., 0.9, letter, fontsize=fontsize*2)\n",
    "    plt.subplots_adjust(left=0.25, right=0.95, bottom=0.2, top=0.9)\n",
    "    fig.savefig(f'../results/fig2/fig2_{criteria}{name_ext}.pdf')\n",
    "\n",
    "def plot_array_configs(data, configs, letters, x_ends, name_ext=''):\n",
    "    for config, letter, x_end in zip(configs, letters, x_ends):\n",
    "        legend = False\n",
    "        if letter == 'A': legend = True\n",
    "        plot_criteria_over_career_ages(data, *config, letter=letter, legend=legend, x_end=x_end, name_ext=name_ext)\n",
    "\n",
    "def get_config(crit, crit_name, size=''):\n",
    "    config = [(f'{crit}_cum_num_pub', crit_name, f'Productivity {size}'), # cumulative\n",
    "              (f'{crit}_win_num_pub', crit_name, f'Productivity {size}'), # window\n",
    "              (f'{crit}_cum_num_cit', crit_name, f'Impact {size}'), # cumulative\n",
    "              (f'{crit}_win_num_cit', crit_name, f'Impact {size}')] # window\n",
    "    return config"
   ]
  },
  {
   "cell_type": "code",
   "execution_count": null,
   "metadata": {
    "code_folding": [],
    "scrolled": true
   },
   "outputs": [],
   "source": [
    "letters11 = ['A', 'A', 'B', 'B']\n",
    "letters12 = ['C', 'C', 'D', 'D']\n",
    "letters21 = ['E', 'E', 'F', 'F']\n",
    "letters22 = ['G', 'G', 'H', 'H']\n",
    "letters31 = ['I', 'I', 'J', 'J']\n",
    "letters32 = ['K', 'K', 'L', 'L']\n",
    "\n",
    "x_ends = [15, 13, 15, 13]\n",
    "\n",
    "# all authors: every-author assignment\n",
    "cohort_counts_gini = aggregate_career_age_data(counts, gini, 'gini')\n",
    "plot_array_configs(cohort_counts_gini, get_config('gini', 'Gini'), letters11, x_ends)\n",
    "\n",
    "# all authors: first-author assignment\n",
    "cohort_counts_gini_first = aggregate_career_age_data(counts_first, gini, 'gini')\n",
    "plot_array_configs(cohort_counts_gini_first, get_config('gini', 'Gini'), letters12, x_ends, name_ext='_first')\n",
    "\n",
    "# dropouts removed: every-author assignment\n",
    "counts_stayed = counts[counts.dropout == False]\n",
    "cohort_counts_stayed_gini = aggregate_career_age_data(counts_stayed, gini, 'gini')\n",
    "plot_array_configs(cohort_counts_stayed_gini, get_config('gini', 'Gini'), letters21, x_ends, name_ext='_stay10')\n",
    "\n",
    "# dropouts removed: first-author assignment\n",
    "counts_stayed_first = counts_first[counts_first.dropout == False]\n",
    "cohort_counts_stayed_gini_first = aggregate_career_age_data(counts_stayed_first, gini, 'gini')\n",
    "plot_array_configs(cohort_counts_stayed_gini_first, get_config('gini', 'Gini'), letters22, x_ends, name_ext='_stay10_first')"
   ]
  },
  {
   "cell_type": "markdown",
   "metadata": {},
   "source": [
    "#### 4.3. Figures 3 and 7\n",
    "\n",
    "Individual inequality in productivity and impact as a function of cohorts:"
   ]
  },
  {
   "cell_type": "code",
   "execution_count": null,
   "metadata": {},
   "outputs": [],
   "source": [
    "def aggregate_cohort_data(citations_window, func):\n",
    "    gini_cohorts_ca = citations_window.groupby(['cohort', 'career_age']).agg({'num_pub': func, 'num_cit': func, 'cum_num_pub': func, 'cum_num_cit': func}).reset_index()\n",
    "    return gini_cohorts_ca\n",
    "\n",
    "def plot_criteria_over_cohorts(data, criteria, criteria_name, title, letter, legend=True, name_ext=''):\n",
    "    linewidth = 2\n",
    "    fontsize = 18\n",
    "    fig = plt.figure(figsize=(4, 4))\n",
    "    ax = fig.add_subplot(111)\n",
    "    color = ['#000000', '#e41a1c', '#377eb8', '#4daf4a', '#984ea3', '#ff7f00', '#ffff33', '#a65628', '#f781bf', '#999999']\n",
    "    career_ages = [15, 10, 5, 3]\n",
    "    for i in range(0, len(career_ages)):\n",
    "        df = data[data['career_age'] == career_ages[i]]\n",
    "        ax.plot(df['cohort'], df[criteria], linewidth=linewidth, label=career_ages[i], color=color[i])\n",
    "    ax.set_ylim([0.16, 1.04])\n",
    "    ax.xaxis.set_ticks_position('bottom')\n",
    "    ax.yaxis.set_ticks_position('both')\n",
    "    ax.set_xlabel('Cohort', fontsize=fontsize)\n",
    "    ax.set_ylabel(f'{criteria_name}', fontsize=fontsize)\n",
    "    ax.set_title(title, fontsize=fontsize)\n",
    "    ax.set_xticks([1970, 1980, 1990, 2000])\n",
    "    ax.tick_params(axis='x', which='major', direction='in', width=linewidth, size=4*linewidth, labelsize=fontsize)\n",
    "    ax.tick_params(axis='x', which='minor', direction='in', width=linewidth, size=2*linewidth, labelsize=fontsize)\n",
    "    ax.tick_params(axis='y', which='major', direction='in', width=linewidth, size=4*linewidth, labelsize=fontsize)\n",
    "    ax.tick_params(axis='y', which='minor', direction='in', width=linewidth, size=2*linewidth, labelsize=fontsize)\n",
    "    ax.spines['left'].set_linewidth(linewidth)\n",
    "    ax.spines['right'].set_linewidth(linewidth)\n",
    "    ax.spines['bottom'].set_linewidth(linewidth)\n",
    "    ax.spines['top'].set_linewidth(linewidth)\n",
    "    if legend: ax.legend(fontsize=fontsize-6)\n",
    "    plt.gcf().text(0., 0.9, letter, fontsize=fontsize*2)\n",
    "    plt.subplots_adjust(left=0.25, right=0.95, bottom=0.2, top=0.9)\n",
    "    fig.savefig(f'../results/fig3/fig3_{criteria}_over_cohorts{name_ext}.pdf')\n",
    "\n",
    "def plot_array_configs2(data, configs, letters, name_ext=''):\n",
    "    for config, letter in zip(configs, letters):\n",
    "        legend = False\n",
    "        if letter in ['A', 'E', 'I']: legend = True\n",
    "        plot_criteria_over_cohorts(data, *config, letter=letter, legend=legend, name_ext=name_ext)\n",
    "\n",
    "def get_config2(crit, crit_name, size=''):\n",
    "    config2 = [('cum_num_pub', crit_name, 'Productivity'), # cumulative\n",
    "               ('num_pub', crit_name, 'Productivity'), # window\n",
    "               ('cum_num_cit', crit_name, 'Impact'), # cumulative\n",
    "               ('num_cit', crit_name, 'Impact')] # window\n",
    "    return config2"
   ]
  },
  {
   "cell_type": "code",
   "execution_count": null,
   "metadata": {
    "scrolled": true
   },
   "outputs": [],
   "source": [
    "# all authors: every-author assignment\n",
    "gini_cohorts_ca = aggregate_cohort_data(counts, gini)\n",
    "plot_array_configs2(gini_cohorts_ca, get_config2('gini', 'Gini'), letters11)\n",
    "\n",
    "# all authors: first-author assignment\n",
    "gini_cohorts_ca_first = aggregate_cohort_data(counts_first, gini)\n",
    "plot_array_configs2(gini_cohorts_ca_first, get_config2('gini', 'Gini'), letters12, name_ext='_first')\n",
    "\n",
    "# dropouts removed: every-author assignment\n",
    "counts_stayed = counts[counts.dropout == False]\n",
    "gini_cohorts_ca_stayed = aggregate_cohort_data(counts_stayed, gini)\n",
    "plot_array_configs2(gini_cohorts_ca_stayed, get_config2('gini', 'Gini'), letters21, name_ext='_stay10')\n",
    "\n",
    "# dropouts removed: first-author assignment\n",
    "counts_stayed_first = counts_first[counts_first.dropout == False]\n",
    "gini_cohorts_ca_stayed_first = aggregate_cohort_data(counts_stayed_first, gini)\n",
    "plot_array_configs2(gini_cohorts_ca_stayed_first, get_config2('gini', 'Gini'), letters22, name_ext='_stay10_first')"
   ]
  },
  {
   "cell_type": "markdown",
   "metadata": {
    "lines_to_next_cell": 2
   },
   "source": [
    "#### 4.4. Figure 4\n",
    "\n",
    "Gender inequality for productivity and impact as a function of cohorts and career ages:"
   ]
  },
  {
   "cell_type": "code",
   "execution_count": null,
   "metadata": {},
   "outputs": [],
   "source": [
    "def get_cohort_effect_size(cohort_careerage_df, metric, gen_a='m', gen_b='f', eff_form='r'):\n",
    "    data = cohort_careerage_df[cohort_careerage_df.gender.isin([gen_a, gen_b])]\n",
    "    data = data.set_index(['cohort', 'career_age', 'gender']).unstack(level=-1)\n",
    "    data.columns = ['_'.join(col) for col in data.columns]\n",
    "    data['cliffd_m_f'] = data.apply(lambda x: cliffsD(x[f'{metric}_{gen_a}'], x[f'{metric}_{gen_b}']), axis=1)\n",
    "    mwu = data.apply(lambda x: mann_whitney_effect_size(x[f'{metric}_{gen_a}'], x[f'{metric}_{gen_b}'], effect_formula=eff_form), axis=1).apply(pd.Series)\n",
    "    mwu.columns = ['effect', 'statistic', 'pvalue']\n",
    "    data = data.join(mwu)\n",
    "    data = data[['cliffd_m_f', 'effect', 'statistic', 'pvalue']]\n",
    "    data = data.reset_index()\n",
    "    return data\n",
    "\n",
    "def horizonal_inequality(df, letter, title):\n",
    "    df = df.copy()\n",
    "    df.loc[df['pvalue'] > 0.05, 'cliffd_m_f'] = 0\n",
    "    df = df.pivot(index='career_age', columns='cohort', values='cliffd_m_f').sort_index(ascending=False)\n",
    "    linewidth = 2\n",
    "    fontsize = 18\n",
    "    fig = plt.figure(figsize=(4, 4))\n",
    "    ax = fig.add_subplot(111)\n",
    "    plot = ax.imshow(df, cmap='bwr', vmin=-0.17490821707496162, vmax=0.17490821707496162, aspect=31/15)\n",
    "    ax.xaxis.set_ticks_position('both')\n",
    "    ax.yaxis.set_ticks_position('both')\n",
    "    ax.set_xticks([0, 10, 20, 30])\n",
    "    ax.set_xticklabels(['1970', '1980', '1990', '2000'])\n",
    "    ax.xaxis.set_minor_locator(MultipleLocator(1))\n",
    "    ax.set_yticks([0, 5, 10, 14])\n",
    "    ax.set_yticklabels(['15', '10', '5', '1'])\n",
    "    ax.yaxis.set_minor_locator(MultipleLocator(1))\n",
    "    ax.set_xlabel('Cohort', fontsize=fontsize)\n",
    "    ax.set_ylabel('Career Age', fontsize=fontsize)\n",
    "    ax.set_title(title, fontsize=fontsize)\n",
    "    ax.tick_params(axis='x', which='major', direction='in', width=linewidth, size=4*linewidth, labelsize=fontsize)\n",
    "    ax.tick_params(axis='x', which='minor', direction='in', width=linewidth, size=2*linewidth, labelsize=fontsize)\n",
    "    ax.tick_params(axis='y', which='major', direction='in', width=linewidth, size=4*linewidth, labelsize=fontsize)\n",
    "    ax.tick_params(axis='y', which='minor', direction='in', width=linewidth, size=2*linewidth, labelsize=fontsize)\n",
    "    ax.spines['left'].set_linewidth(linewidth)\n",
    "    ax.spines['right'].set_linewidth(linewidth)\n",
    "    ax.spines['bottom'].set_linewidth(linewidth)\n",
    "    ax.spines['top'].set_linewidth(linewidth)\n",
    "    plt.gcf().text(0., 0.9, letter, fontsize=fontsize*2)\n",
    "    plt.subplots_adjust(left=0.2, right=0.9, bottom=0.2, top=0.9)\n",
    "    plt.plot()\n",
    "    fig.savefig(f'../results/fig4/fig4_horiz_ineq_{letter}.pdf')"
   ]
  },
  {
   "cell_type": "code",
   "execution_count": null,
   "metadata": {},
   "outputs": [],
   "source": [
    "# all authors: every-author assignment\n",
    "cum_cit_pub_agg = counts.groupby(['cohort', 'career_age', 'gender']).agg({'cum_num_pub': list, 'cum_num_cit': list}).reset_index()\n",
    "mwu_cliff_d_cum_pub = get_cohort_effect_size(cum_cit_pub_agg, 'cum_num_pub')\n",
    "mwu_cliff_d_cum_cit = get_cohort_effect_size(cum_cit_pub_agg, 'cum_num_cit')\n",
    "horizonal_inequality(mwu_cliff_d_cum_pub, 'A', 'Productivity')\n",
    "horizonal_inequality(mwu_cliff_d_cum_cit, 'B', 'Impact')\n",
    "\n",
    "# all authors: first-author assignment\n",
    "cum_cit_pub_agg_first = counts_first.groupby(['cohort', 'career_age', 'gender']).agg({'cum_num_pub': list, 'cum_num_cit': list}).reset_index()\n",
    "mwu_cliff_d_cum_pub_first = get_cohort_effect_size(cum_cit_pub_agg_first, 'cum_num_pub')\n",
    "mwu_cliff_d_cum_cit_first = get_cohort_effect_size(cum_cit_pub_agg_first, 'cum_num_cit')\n",
    "horizonal_inequality(mwu_cliff_d_cum_pub_first, 'C', 'Productivity')\n",
    "horizonal_inequality(mwu_cliff_d_cum_cit_first, 'D', 'Impact')\n",
    "\n",
    "# dropouts removed: every-author assignment\n",
    "cum_cit_pub_agg_stayed = counts[counts.dropout == False].groupby(['cohort', 'career_age', 'gender']).agg({'cum_num_pub': list, 'cum_num_cit': list}).reset_index()\n",
    "mwu_cliff_d_cum_pub_stayed = get_cohort_effect_size(cum_cit_pub_agg_stayed, 'cum_num_pub')\n",
    "mwu_cliff_d_cum_cit_stayed = get_cohort_effect_size(cum_cit_pub_agg_stayed, 'cum_num_cit')\n",
    "horizonal_inequality(mwu_cliff_d_cum_pub_stayed, 'E', 'Productivity')\n",
    "horizonal_inequality(mwu_cliff_d_cum_cit_stayed, 'F', 'Impact')\n",
    "\n",
    "# dropouts removed: first-author assignment\n",
    "cum_cit_pub_agg_stayed_first = counts_first[counts_first.dropout == False].groupby(['cohort', 'career_age', 'gender']).agg({'cum_num_pub': list, 'cum_num_cit': list}).reset_index()\n",
    "mwu_cliff_d_cum_pub_stayed_first = get_cohort_effect_size(cum_cit_pub_agg_stayed_first, 'cum_num_pub')\n",
    "mwu_cliff_d_cum_cit_stayed_first = get_cohort_effect_size(cum_cit_pub_agg_stayed_first, 'cum_num_cit')\n",
    "horizonal_inequality(mwu_cliff_d_cum_pub_stayed_first, 'G', 'Productivity')\n",
    "horizonal_inequality(mwu_cliff_d_cum_cit_stayed_first, 'H', 'Impact')"
   ]
  },
  {
   "cell_type": "code",
   "execution_count": null,
   "metadata": {},
   "outputs": [],
   "source": [
    "linewidth = 2\n",
    "fontsize = 18\n",
    "fig = plt.figure(figsize=(1.5, 4))\n",
    "ax = fig.add_subplot(111)\n",
    "col_map = plt.get_cmap('bwr')\n",
    "cb = ColorbarBase(ax, cmap=col_map, orientation='vertical', norm=Normalize(-.17490821707496162, .17490821707496162))\n",
    "cb.set_label('Cliff\\'s $d$', fontsize=fontsize)\n",
    "cb.outline.set_linewidth(linewidth)\n",
    "ax.tick_params(labelsize=fontsize, width=linewidth, size=4, direction='in')\n",
    "plt.subplots_adjust(left=0.1, right=0.3, bottom=0.2, top=0.9)\n",
    "fig.savefig('../results/fig4/fig4_horiz_ineq_colorbar.pdf')"
   ]
  },
  {
   "cell_type": "markdown",
   "metadata": {},
   "source": [
    "To interprete these results, compute the number of significant differences:"
   ]
  },
  {
   "cell_type": "code",
   "execution_count": null,
   "metadata": {},
   "outputs": [],
   "source": [
    "print('significant differences')\n",
    "print(\n",
    "    '... productivity:', \n",
    "    len(mwu_cliff_d_cum_pub[mwu_cliff_d_cum_pub['pvalue'] <= 0.05])\n",
    ")\n",
    "print(\n",
    "    '... impact:', \n",
    "    len(mwu_cliff_d_cum_cit[mwu_cliff_d_cum_cit['pvalue'] <= 0.05])\n",
    ")\n",
    "print(\n",
    "    '... productivity (first):', \n",
    "    len(mwu_cliff_d_cum_pub_first[mwu_cliff_d_cum_pub_first['pvalue'] <= 0.05])\n",
    ")\n",
    "print(\n",
    "    '... impact (first):', \n",
    "    len(mwu_cliff_d_cum_cit_first[mwu_cliff_d_cum_cit_first['pvalue'] <= 0.05])\n",
    ")\n",
    "print('of', 15*31, 'observations')"
   ]
  },
  {
   "cell_type": "markdown",
   "metadata": {},
   "source": [
    "Also compute how strongly horizontal inequality in productivity and impact is correlated:"
   ]
  },
  {
   "cell_type": "code",
   "execution_count": null,
   "metadata": {
    "lines_to_next_cell": 0
   },
   "outputs": [],
   "source": [
    "mwu_cliff_d_cum = pd.merge(\n",
    "    left=mwu_cliff_d_cum_pub[mwu_cliff_d_cum_pub['pvalue'] <= 0.05][['cohort', 'career_age', 'cliffd_m_f']], \n",
    "    right=mwu_cliff_d_cum_cit[mwu_cliff_d_cum_cit['pvalue'] <= 0.05][['cohort', 'career_age', 'cliffd_m_f']], \n",
    "    on=['cohort', 'career_age']\n",
    ")\n",
    "mwu_cliff_d_cum.columns = ['cohort', 'career_age', 'cliffd_m_f_pub', 'cliffd_m_f_cit']\n",
    "\n",
    "mwu_cliff_d_cum_first = pd.merge(\n",
    "    left=mwu_cliff_d_cum_pub_first[mwu_cliff_d_cum_pub_first['pvalue'] <= 0.05][['cohort', 'career_age', 'cliffd_m_f']], \n",
    "    right=mwu_cliff_d_cum_cit_first[mwu_cliff_d_cum_cit_first['pvalue'] <= 0.05][['cohort', 'career_age', 'cliffd_m_f']], \n",
    "    on=['cohort', 'career_age']\n",
    ")\n",
    "mwu_cliff_d_cum_first.columns = ['cohort', 'career_age', 'cliffd_m_f_pub', 'cliffd_m_f_cit']"
   ]
  },
  {
   "cell_type": "markdown",
   "metadata": {},
   "source": [
    "Set `df = mwu_cliff_d_cum` and `df = mwu_cliff_d_cum_first` to get results for every-author assignment and first-author assignment, respectively:"
   ]
  },
  {
   "cell_type": "code",
   "execution_count": null,
   "metadata": {
    "lines_to_next_cell": 0
   },
   "outputs": [],
   "source": [
    "df = mwu_cliff_d_cum\n",
    "\n",
    "matrix_r = []\n",
    "matrix_p = []\n",
    "for i in range(4):\n",
    "    row_r = []\n",
    "    row_p = []\n",
    "    for j in range(4):\n",
    "        r, p = sp.stats.pearsonr(\n",
    "            df.iloc[:, i], \n",
    "            df.iloc[:, j]\n",
    "        )\n",
    "        row_r.append(r)\n",
    "        row_p.append(p)\n",
    "    matrix_r.append(row_r)\n",
    "    matrix_p.append(row_p)\n",
    "df_r = pd.DataFrame(matrix_r, index=df.columns, columns=df.columns)\n",
    "df_p = pd.DataFrame(matrix_p, index=df.columns, columns=df.columns)\n",
    "df_r = df_r.style.set_caption('Pearson correlation coefficient')\n",
    "df_p = df_p.style.set_caption('Significance')\n",
    "display(df_r)\n",
    "display(df_p)"
   ]
  }
 ],
 "metadata": {
  "jupytext": {
   "cell_metadata_json": true,
   "encoding": "# -*- coding: utf-8 -*-",
   "formats": "ipynb,py:light"
  },
  "kernelspec": {
   "display_name": "Python 3 (ipykernel)",
   "language": "python",
   "name": "python3"
  },
  "language_info": {
   "codemirror_mode": {
    "name": "ipython",
    "version": 3
   },
   "file_extension": ".py",
   "mimetype": "text/x-python",
   "name": "python",
   "nbconvert_exporter": "python",
   "pygments_lexer": "ipython3",
   "version": "3.7.8"
  },
  "pycharm": {
   "stem_cell": {
    "cell_type": "raw",
    "metadata": {
     "collapsed": false
    },
    "source": []
   }
  },
  "toc": {
   "base_numbering": 1,
   "nav_menu": {},
   "number_sections": true,
   "sideBar": true,
   "skip_h1_title": false,
   "title_cell": "Table of Contents",
   "title_sidebar": "Contents",
   "toc_cell": false,
   "toc_position": {},
   "toc_section_display": true,
   "toc_window_display": false
  }
 },
 "nbformat": 4,
 "nbformat_minor": 4
}
