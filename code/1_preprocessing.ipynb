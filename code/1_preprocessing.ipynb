{
 "cells": [
  {
   "cell_type": "markdown",
   "metadata": {},
   "source": [
    "# Individual and gender inequality in computer science: A career study of cohorts from 1970 to 2000\n",
    "\n",
    "## Part 1: Preprocessing\n",
    "\n",
    "In this notebook, we produce three dataframes. First, a `features` dataframe (saved as 'features.csv.gz') that contains all the variables used in the prediction models (plus two more). Second, a `counts` dataframe (saved as 'counts.csv.gz') which contains the information how many publications and citations an author from which cohort has produced and received, respectively, in and until which career age. Second, such a `counts_first` dataframe (saved as 'counts_first.csv.gz') but just for publications produced as a first author. These dataframes will be used in subsequent notebooks.\n",
    "\n",
    "---"
   ]
  },
  {
   "cell_type": "markdown",
   "metadata": {},
   "source": [
    "### 1. Imports\n",
    "\n",
    "Many of the custom functions we need are stored in a utilities file."
   ]
  },
  {
   "cell_type": "code",
   "execution_count": null,
   "metadata": {
    "pycharm": {
     "is_executing": false
    }
   },
   "outputs": [],
   "source": [
    "import numpy as np\n",
    "import pandas as pd\n",
    "\n",
    "from utils import *"
   ]
  },
  {
   "cell_type": "markdown",
   "metadata": {},
   "source": [
    "### 2. Parameters\n",
    "\n",
    "- `COHORT_FIRST` and `COHORT_LAST` sets the interval in which cohort members have published their first paper,\n",
    "- `CAREER_AGES` sets for how many years we study careers,\n",
    "- `WINDOW_SIZE` sets the length of the early career,\n",
    "- `DROPOUT_SIZE` sets the number of consecutive years which define that an author has left academia."
   ]
  },
  {
   "cell_type": "code",
   "execution_count": null,
   "metadata": {},
   "outputs": [],
   "source": [
    "COHORT_FIRST = 1970\n",
    "COHORT_LAST = 2000\n",
    "CAREER_AGES = 15\n",
    "WINDOW_SIZE = 3\n",
    "DROPOUT_SIZE = 10"
   ]
  },
  {
   "cell_type": "markdown",
   "metadata": {},
   "source": [
    "### 3. Load data\n",
    "\n",
    "Download all files from [here](https://doi.org/10.7802/2642) into the 'data' directory and load them:"
   ]
  },
  {
   "cell_type": "code",
   "execution_count": null,
   "metadata": {},
   "outputs": [],
   "source": [
    "# 1,704,919 authors (comma-separated): name (integer), gender (string)\n",
    "authors = pd.read_csv('../data/authors.csv.gz')\n",
    "\n",
    "# 9,471,668 relationships (comma-separated): author (string), year (integer), pub_id (string)\n",
    "authors_publications = pd.read_csv('../data/authors_publications.csv.gz')\n",
    "\n",
    "# 8,938,798 relationships (comma-separated): id1 (string), id2 (string), year (integer)\n",
    "citations = pd.read_csv('../data/citations.csv.gz')\n",
    "\n",
    "# 2,285,112 publications (comma-separated): pub_id (string), year (integer), venue (string), \n",
    "# h5_index (integer), ranking (float), deciles (integer), quantiles (integer)\n",
    "publications = pd.read_csv('../data/publications.csv.gz')\n",
    "\n",
    "# 48,555 publications: pub_id (string)\n",
    "publications_arxiv = pd.read_csv('../data/publications_arxiv.csv.gz')\n",
    "\n",
    "# 3,078,230 relationships (comma-separated): pub_id (string), year (integer), authors (string), \n",
    "# num_authors (integer), is_alpha (boolean), first_author (string)\n",
    "publications_authors = pd.read_csv('../data/publications_authors.csv.gz')"
   ]
  },
  {
   "cell_type": "markdown",
   "metadata": {},
   "source": [
    "Remove duplicates and preprints from arXiv:"
   ]
  },
  {
   "cell_type": "code",
   "execution_count": null,
   "metadata": {},
   "outputs": [],
   "source": [
    "authors_publications.drop_duplicates(subset=['author', 'pub_id'], inplace=True)\n",
    "authors_publications = authors_publications.loc[~authors_publications.pub_id.isin(publications_arxiv['pub_id'])]\n",
    "\n",
    "citations.drop_duplicates(inplace=True)\n",
    "citations = citations.loc[(~citations.id1.isin(publications_arxiv['pub_id']))]\n",
    "citations = citations.loc[(~citations.id2.isin(publications_arxiv['pub_id']))]"
   ]
  },
  {
   "cell_type": "markdown",
   "metadata": {},
   "source": [
    "### 4. Construct dataframes\n",
    "\n",
    "#### 4.1. Feature: Baseline\n",
    "\n",
    "Here, we begin constructing the `features` dataframe. First, we extract the \"Cohort\", the years in which authors had their first publication, plus a 'career_length' variable:"
   ]
  },
  {
   "cell_type": "code",
   "execution_count": null,
   "metadata": {
    "scrolled": true
   },
   "outputs": [],
   "source": [
    "groupByAuthor = authors_publications.groupby(['author'])\n",
    "groupByAuthorMinYearData = groupByAuthor['year'].min()\n",
    "groupByAuthorMaxYearData = groupByAuthor['year'].max()\n",
    "\n",
    "features = groupByAuthorMinYearData.to_frame(name='cohort')\n",
    "features['end_year'] = groupByAuthorMaxYearData\n",
    "features = features.reset_index()\n",
    "features = features.drop_duplicates()\n",
    "features = features.dropna(how='any')\n",
    "features['career_length'] = features['end_year'] - features['cohort'] + 1\n",
    "del features['end_year']"
   ]
  },
  {
   "cell_type": "markdown",
   "metadata": {},
   "source": [
    "#### 4.2. Features: Gender\n",
    "\n",
    "Merge in the gender variable (to be transformed into \"Male\", \"Female\", and \"Undetected\" dummies in part 4):"
   ]
  },
  {
   "cell_type": "code",
   "execution_count": null,
   "metadata": {},
   "outputs": [],
   "source": [
    "features = features.merge(authors, left_on='author', right_on='name', how='left')\n",
    "features.drop('name', axis=1, inplace=True)"
   ]
  },
  {
   "cell_type": "markdown",
   "metadata": {
    "heading_collapsed": true
   },
   "source": [
    "#### 4.3. Temporary dataframes\n",
    "\n",
    "To engineer the remaining features and construct the `counts` dataframes, some temporary dataframes are needed:"
   ]
  },
  {
   "cell_type": "code",
   "execution_count": null,
   "metadata": {
    "hidden": true
   },
   "outputs": [],
   "source": [
    "# citations for every author and paper\n",
    "publications_citations_no_uncited = authors_publications.merge(citations, left_on='pub_id', right_on='id2', how='inner', suffixes=('_pub', '_cit'))\n",
    "publications_citations_no_uncited = publications_citations_no_uncited.merge(features[['author', 'cohort']], on='author', how='inner')\n",
    "publications_citations_no_uncited = publications_citations_no_uncited[publications_citations_no_uncited.year_pub <= publications_citations_no_uncited.year_cit]"
   ]
  },
  {
   "cell_type": "code",
   "execution_count": null,
   "metadata": {
    "hidden": true
   },
   "outputs": [],
   "source": [
    "# citations per paper\n",
    "paper_paper_citations = publications_citations_no_uncited[['id1', 'id2', 'year_pub', 'year_cit']]\n",
    "paper_paper_citations = paper_paper_citations.drop_duplicates(subset=['id1', 'id2'])\n",
    "paper_total_citations = paper_paper_citations.groupby('id2')['id1'].count()"
   ]
  },
  {
   "cell_type": "code",
   "execution_count": null,
   "metadata": {
    "hidden": true
   },
   "outputs": [],
   "source": [
    "# papers per author and cohort\n",
    "publications_start_year = authors_publications.merge(features[['author', 'cohort']], on='author', how='inner')"
   ]
  },
  {
   "cell_type": "code",
   "execution_count": null,
   "metadata": {
    "hidden": true,
    "pycharm": {
     "name": "#%%\n"
    }
   },
   "outputs": [],
   "source": [
    "# publication first-author relationships\n",
    "publications_first_author = publications_authors.merge(features[['author', 'cohort']], left_on='first_author', right_on='author', how='left')\n",
    "publications_first_author = publications_first_author.drop('first_author', axis='columns')"
   ]
  },
  {
   "cell_type": "code",
   "execution_count": null,
   "metadata": {
    "hidden": true
   },
   "outputs": [],
   "source": [
    "# author citations per year\n",
    "authors_yearly_citations = publications_citations_no_uncited.groupby(['author', 'year_cit'])['id1'].count()\n",
    "authors_yearly_citations = authors_yearly_citations.reset_index()\n",
    "authors_yearly_citations = authors_yearly_citations.rename(columns={'id1': 'num_cit', 'year_cit': 'year'})"
   ]
  },
  {
   "cell_type": "code",
   "execution_count": null,
   "metadata": {
    "hidden": true
   },
   "outputs": [],
   "source": [
    "# author publications per year\n",
    "authors_yearly_publications = authors_publications.groupby(['author', 'year'])['pub_id'].count().reset_index()\n",
    "authors_yearly_publications = authors_yearly_publications.rename(columns={'pub_id': 'num_pub'})"
   ]
  },
  {
   "cell_type": "markdown",
   "metadata": {},
   "source": [
    "#### 4.4. Features: Early achievement\n",
    "\n",
    "This set contains four variables. First, \"Productivity\", the cumulative number of publications authored in the early career (set to be the first three career ages):"
   ]
  },
  {
   "cell_type": "code",
   "execution_count": null,
   "metadata": {},
   "outputs": [],
   "source": [
    "early_career_publications_reduced = publications_start_year[publications_start_year.year < publications_start_year['cohort'] + WINDOW_SIZE]\n",
    "early_career_publications_ = early_career_publications_reduced.groupby('author').agg({'pub_id': 'nunique'}).reset_index()\n",
    "early_career_publications_ = early_career_publications_.rename({'pub_id': 'productivity'}, axis='columns')\n",
    "\n",
    "features = features.merge(early_career_publications_, on='author', how='left')"
   ]
  },
  {
   "cell_type": "markdown",
   "metadata": {},
   "source": [
    "Second, \"Productivity (1st author)\", the cumulative number of publications authored in the early career as a first author:"
   ]
  },
  {
   "cell_type": "code",
   "execution_count": null,
   "metadata": {},
   "outputs": [],
   "source": [
    "publications_first_author_early = publications_first_author[(publications_first_author.year < publications_first_author['cohort'] + WINDOW_SIZE)]\n",
    "publications_first_author_early = publications_first_author_early.groupby('author').agg({'pub_id': 'count'}).reset_index()\n",
    "publications_first_author_early.rename({'pub_id': 'productivity_first'}, axis='columns', inplace=True)\n",
    "\n",
    "features = features.merge(publications_first_author_early, on='author', how='left')\n",
    "features['productivity_first'] = features['productivity_first'].fillna(0)\n",
    "features['productivity_first'] = features['productivity_first'].astype(int)"
   ]
  },
  {
   "cell_type": "markdown",
   "metadata": {
    "hidden": true
   },
   "source": [
    "Third, \"Impact\", the cumulative number of citations received in the early career:"
   ]
  },
  {
   "cell_type": "code",
   "execution_count": null,
   "metadata": {},
   "outputs": [],
   "source": [
    "col_name_early = 'impact'\n",
    "early_career_impact = publications_citations_no_uncited[(publications_citations_no_uncited.year_pub < publications_citations_no_uncited['cohort'] + WINDOW_SIZE) & (publications_citations_no_uncited.year_cit < publications_citations_no_uncited['cohort'] + WINDOW_SIZE)]\n",
    "early_career_impact = early_career_impact.groupby('author')['id1'].count()\n",
    "early_career_impact = early_career_impact.rename(col_name_early)\n",
    "early_career_impact = early_career_impact.reset_index()\n",
    "\n",
    "features = features.merge(early_career_impact, on='author', how='left')\n",
    "features[col_name_early] = features[col_name_early].fillna(0)\n",
    "features[col_name_early] = features[col_name_early].astype(int)"
   ]
  },
  {
   "cell_type": "markdown",
   "metadata": {},
   "source": [
    "Fourth, \"Top source\", the smallest h5-index-based quartile rank of all journals and conference proceedings an author has published in in the early career:"
   ]
  },
  {
   "cell_type": "code",
   "execution_count": null,
   "metadata": {},
   "outputs": [],
   "source": [
    "early_career_venues = publications_start_year.merge(publications[['pub_id', 'quantiles']], on='pub_id', how='inner')\n",
    "early_career_venues_ec = early_career_venues[early_career_venues.year < early_career_venues['cohort'] + WINDOW_SIZE]\n",
    "early_career_venues_gr = early_career_venues_ec.groupby('author').agg({'quantiles': 'min'})\n",
    "early_career_venues_gr = early_career_venues_gr.reset_index()\n",
    "\n",
    "features = features.merge(early_career_venues_gr, on='author', how='left')\n",
    "features['quantiles'] = features['quantiles'].fillna(4)\n",
    "features['top_source'] = features['quantiles'].apply(quantile_binary)\n",
    "del features['quantiles']"
   ]
  },
  {
   "cell_type": "markdown",
   "metadata": {},
   "source": [
    "#### 4.5. Features: Social support\n",
    "\n",
    "This set contains three variables. First, \"Collaboration network\", the number of distinct co-authors in the early career:"
   ]
  },
  {
   "cell_type": "code",
   "execution_count": null,
   "metadata": {},
   "outputs": [],
   "source": [
    "combined_early_degree = publications_start_year[(publications_start_year.year < publications_start_year['cohort'] + WINDOW_SIZE)]\n",
    "combined_early_degree = combined_early_degree.drop_duplicates(subset=['author', 'pub_id'])\n",
    "combined_early_degree = combined_early_degree[['author', 'pub_id']]\n",
    "combined_early_degree = combined_early_degree.merge(publications_start_year, on='pub_id')\n",
    "combined_early_degree = combined_early_degree[combined_early_degree.author_x != combined_early_degree.author_y]\n",
    "combined_early_degree = combined_early_degree.drop_duplicates(subset=['author_x', 'author_y'])\n",
    "combined_early_degree = combined_early_degree.groupby('author_x')['author_y'].count().reset_index()\n",
    "combined_early_degree.rename({'author_x': 'author', 'author_y': 'collaboration_network'}, axis='columns', inplace=True)\n",
    "\n",
    "features = features.merge(combined_early_degree, on='author', how='left')\n",
    "features['collaboration_network'] = features['collaboration_network'].fillna(0)\n",
    "features['collaboration_network'] = features['collaboration_network'].astype(int)"
   ]
  },
  {
   "cell_type": "markdown",
   "metadata": {},
   "source": [
    "Second, \"Senior support\", the largest h-index of all co-authors in the early career:"
   ]
  },
  {
   "cell_type": "code",
   "execution_count": null,
   "metadata": {},
   "outputs": [],
   "source": [
    "# h-index of all authors\n",
    "papers_authors = publications_citations_no_uncited[['author', 'year_pub']].drop_duplicates(subset=['author', 'year_pub'])\n",
    "all_authors_hind = pd.DataFrame(columns=['author', 'h-index', 'year_pub'])\n",
    "all_authors_hind['year_pub'] = all_authors_hind['year_pub'].astype('int64')\n",
    "for year_x in papers_authors.year_pub.unique():\n",
    "    authors = papers_authors[papers_authors.year_pub == year_x].author.values\n",
    "    author_hind_at_year = author_h_index_in_year_X(publications_citations_no_uncited, authors, year_x)\n",
    "    all_authors_hind = all_authors_hind.append(author_hind_at_year)\n",
    "papers_authors = papers_authors.merge(all_authors_hind, how='left')\n",
    "papers_authors['h-index'] = papers_authors['h-index'].fillna(0)"
   ]
  },
  {
   "cell_type": "code",
   "execution_count": null,
   "metadata": {},
   "outputs": [],
   "source": [
    "# largest h-index of early-career co-authors\n",
    "combined_early_coauthor = publications_start_year[(publications_start_year.year < publications_start_year['cohort'] + WINDOW_SIZE)]\n",
    "combined_early_coauthor = combined_early_coauthor.drop_duplicates(subset=['author', 'pub_id'])\n",
    "combined_early_coauthor = combined_early_coauthor[['author', 'pub_id']]\n",
    "combined_early_coauthor = combined_early_coauthor.merge(publications_start_year, on='pub_id')\n",
    "combined_early_coauthor = combined_early_coauthor[combined_early_coauthor.author_x != combined_early_coauthor.author_y]\n",
    "combined_early_coauthor = combined_early_coauthor.drop_duplicates(subset=['author_x', 'author_y'])\n",
    "combined_early_coauthor = combined_early_coauthor.merge(papers_authors, left_on=['author_y', 'year'], right_on=['author', 'year_pub'])\n",
    "combined_early_coauthor = combined_early_coauthor.groupby('author_x')['h-index'].max().reset_index()\n",
    "combined_early_coauthor.rename({'author_x': 'author', 'h-index': 'senior_support'}, axis='columns', inplace=True)\n",
    "combined_early_coauthor = combined_early_coauthor[['author', 'senior_support']]\n",
    "\n",
    "features = features.merge(combined_early_coauthor, on='author', how='left')\n",
    "features['senior_support'] = features['senior_support'].fillna(0)\n",
    "features['senior_support'] = features['senior_support'].astype(int)"
   ]
  },
  {
   "cell_type": "markdown",
   "metadata": {},
   "source": [
    "Third, \"Team size\", the median number of authors of all publications produced in the early career:"
   ]
  },
  {
   "cell_type": "code",
   "execution_count": null,
   "metadata": {},
   "outputs": [],
   "source": [
    "publications_early = publications_start_year[(publications_start_year.year < publications_start_year['cohort'] + WINDOW_SIZE)]\n",
    "paper_team_size = publications_early.groupby('pub_id').agg({'author': 'nunique'}).reset_index()\n",
    "paper_team_size = paper_team_size.rename({'author': 'team_size'}, axis='columns')\n",
    "publications_early = publications_early.merge(paper_team_size, on='pub_id', how='left')\n",
    "team_size_median = publications_early.groupby('author').agg({'team_size': 'median'}).reset_index()\n",
    "\n",
    "features = features.merge(team_size_median, on='author', how='left')"
   ]
  },
  {
   "cell_type": "markdown",
   "metadata": {
    "hidden": true
   },
   "source": [
    "#### 4.6. Dependent variable: Dropout\n",
    "\n",
    "\"Dropout\" is a boolean dependent variable if an author has not published for ten consecutive years in the first 15 career ages:"
   ]
  },
  {
   "cell_type": "code",
   "execution_count": null,
   "metadata": {
    "hidden": true,
    "pycharm": {
     "name": "#%%\n"
    }
   },
   "outputs": [],
   "source": [
    "pubs_grouped = publications_start_year[(publications_start_year.year >= publications_start_year.cohort) & (publications_start_year.year < publications_start_year.cohort + CAREER_AGES)]\n",
    "pubs_grouped = pubs_grouped.groupby('author').agg({'year': lambda x: sorted(list(x))})\n",
    "pubs_grouped['year'] = pubs_grouped['year'].apply(lambda x: sorted(list_append(x, x[0] + CAREER_AGES)))\n",
    "pubs_grouped['absence_list'] = pubs_grouped['year'].apply(np.diff)\n",
    "pubs_grouped['last_consec_ca'] = pubs_grouped['absence_list'].apply(get_last_consec)\n",
    "pubs_grouped['absence_list'] = pubs_grouped['absence_list'].apply(lambda x: [e for e in x if e != 0 or e != 1])\n",
    "pubs_grouped['max_absence'] = pubs_grouped['absence_list'].apply(max)\n",
    "pubs_grouped['max_absence'] = pubs_grouped['max_absence'] - 1\n",
    "pubs_grouped.reset_index(inplace=True)\n",
    "\n",
    "features = features.merge(pubs_grouped[['author', 'max_absence', 'last_consec_ca']], on='author', how='left')\n",
    "features['dropout'] = features['max_absence'].apply(lambda x: True if x >= DROPOUT_SIZE else False)"
   ]
  },
  {
   "cell_type": "markdown",
   "metadata": {},
   "source": [
    "#### 4.7. Dependent variable: Success\n",
    "\n",
    "\"Success\" is a numerical dependent variable that measures the increase in the cumulative number of citations received by all publications published until and in career age 15 after the early career period:"
   ]
  },
  {
   "cell_type": "code",
   "execution_count": null,
   "metadata": {},
   "outputs": [],
   "source": [
    "col_name_end = 'end_career_impact'\n",
    "end_career_impact = publications_citations_no_uncited[(publications_citations_no_uncited.year_pub < publications_citations_no_uncited['cohort'] + CAREER_AGES) & (publications_citations_no_uncited.year_cit < publications_citations_no_uncited['cohort'] + CAREER_AGES)]\n",
    "end_career_impact = end_career_impact.groupby('author')['id1'].count()\n",
    "end_career_impact = end_career_impact.rename(col_name_end)\n",
    "end_career_impact = end_career_impact.reset_index()\n",
    "\n",
    "features = features.merge(end_career_impact, on='author', how='left')\n",
    "features[col_name_end] = features[col_name_end].fillna(0)\n",
    "features['success'] = features[col_name_end] - features[col_name_early]\n",
    "features['success'] = features['success'].astype(int)\n",
    "del features[col_name_end]"
   ]
  },
  {
   "cell_type": "markdown",
   "metadata": {},
   "source": [
    "#### 4.8. Counts\n",
    "\n",
    "Here, we construct the `counts` and `counts_first` dataframes:"
   ]
  },
  {
   "cell_type": "code",
   "execution_count": null,
   "metadata": {},
   "outputs": [],
   "source": [
    "start_years = get_start_years(COHORT_FIRST, COHORT_LAST, features)"
   ]
  },
  {
   "cell_type": "code",
   "execution_count": null,
   "metadata": {},
   "outputs": [],
   "source": [
    "# create publication and citation dataframes for first authors\n",
    "author_year_numPub_first = publications_first_author.groupby(['author', 'year'])['pub_id'].count().reset_index()\n",
    "author_year_numPub_first = author_year_numPub_first.rename(columns={'pub_id': 'num_pub'})\n",
    "publications_citations_no_uncited_first = publications_citations_no_uncited.merge(publications_first_author[['author', 'pub_id']], how='inner')\n",
    "citations_year_auth_first = publications_citations_no_uncited_first.groupby(['author', 'year_cit'])['id1'].count()\n",
    "citations_year_auth_first = citations_year_auth_first.reset_index()\n",
    "citations_year_auth_first = citations_year_auth_first.rename(columns={'id1': 'num_cit', 'year_cit': 'year'})"
   ]
  },
  {
   "cell_type": "code",
   "execution_count": null,
   "metadata": {},
   "outputs": [],
   "source": [
    "# construct temporary dataframes\n",
    "temp_df = create_counts(features, authors_yearly_citations, authors_yearly_publications, start_years, CAREER_AGES)\n",
    "temp_df_first = create_counts(features, citations_year_auth_first, author_year_numPub_first, start_years, CAREER_AGES)"
   ]
  },
  {
   "cell_type": "code",
   "execution_count": null,
   "metadata": {},
   "outputs": [],
   "source": [
    "# add window-based counts\n",
    "counts = create_counts_win(temp_df, publications_citations_no_uncited, WINDOW_SIZE, start_years)\n",
    "counts_first = create_counts_win(temp_df_first, publications_citations_no_uncited_first, WINDOW_SIZE, start_years, file_ext='_first')"
   ]
  },
  {
   "cell_type": "markdown",
   "metadata": {},
   "source": [
    "### 5. Save dataframes\n",
    "\n",
    "Dataframes are saved into the 'results' directory:"
   ]
  },
  {
   "cell_type": "code",
   "execution_count": null,
   "metadata": {},
   "outputs": [],
   "source": [
    "features[features['cohort'] >= COHORT_FIRST].to_csv('../data/features.csv.gz', index=False, encoding='utf-8', compression='gzip')\n",
    "counts.to_csv(f'../data/counts.csv.gz', index=False, encoding='utf-8', compression='gzip')\n",
    "counts_first.to_csv(f'../data/counts_first.csv.gz', index=False, encoding='utf-8', compression='gzip')"
   ]
  }
 ],
 "metadata": {
  "jupytext": {
   "cell_metadata_json": true,
   "formats": "ipynb,py:light"
  },
  "kernelspec": {
   "display_name": "Python 3 (ipykernel)",
   "language": "python",
   "name": "python3"
  },
  "language_info": {
   "codemirror_mode": {
    "name": "ipython",
    "version": 3
   },
   "file_extension": ".py",
   "mimetype": "text/x-python",
   "name": "python",
   "nbconvert_exporter": "python",
   "pygments_lexer": "ipython3",
   "version": "3.7.8"
  },
  "pycharm": {
   "stem_cell": {
    "cell_type": "raw",
    "metadata": {
     "collapsed": false
    },
    "source": []
   }
  },
  "toc": {
   "base_numbering": 1,
   "nav_menu": {},
   "number_sections": true,
   "sideBar": true,
   "skip_h1_title": false,
   "title_cell": "Table of Contents",
   "title_sidebar": "Contents",
   "toc_cell": false,
   "toc_position": {},
   "toc_section_display": true,
   "toc_window_display": false
  }
 },
 "nbformat": 4,
 "nbformat_minor": 4
}
