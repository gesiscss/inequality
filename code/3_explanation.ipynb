{
 "cells": [
  {
   "cell_type": "markdown",
   "id": "d9cd8a52",
   "metadata": {},
   "source": [
    "# Individual and gender inequality in computer science: A career study of cohorts from 1970 to 2000\n",
    "\n",
    "## Part 3: Explanation\n",
    "\n",
    "In this notebook, we partially explain the patterns in computer science by the Matthew Effect. First, we infer the parameters of reproductive feedback for all cohorts and career ages. Second, we plot these parameters for average cohorts and average career ages.\n",
    "\n",
    "---"
   ]
  },
  {
   "cell_type": "markdown",
   "id": "819d029c",
   "metadata": {},
   "source": [
    "### 1. Imports\n",
    "\n",
    "Many of the custom functions we need are stored in a utilities file."
   ]
  },
  {
   "cell_type": "code",
   "execution_count": null,
   "id": "af8972fa",
   "metadata": {},
   "outputs": [],
   "source": [
    "%matplotlib inline\n",
    "\n",
    "import matplotlib.pyplot as plt\n",
    "import numpy as np\n",
    "import os\n",
    "import pandas as pd\n",
    "\n",
    "from matplotlib.ticker import MultipleLocator\n",
    "from utils import *"
   ]
  },
  {
   "cell_type": "markdown",
   "id": "7426e1ee",
   "metadata": {},
   "source": [
    "### 2. Directories\n",
    "\n",
    "Create directories if they don't exist:"
   ]
  },
  {
   "cell_type": "code",
   "execution_count": null,
   "id": "8dbe6d84",
   "metadata": {},
   "outputs": [],
   "source": [
    "directory = '../results'\n",
    "if not os.path.exists(directory):\n",
    "    os.makedirs(directory)\n",
    "\n",
    "directory = '../results/fig5'\n",
    "if not os.path.exists(directory):\n",
    "    os.makedirs(directory)"
   ]
  },
  {
   "cell_type": "markdown",
   "id": "25739d2e",
   "metadata": {},
   "source": [
    "### 3. Load data\n",
    "\n",
    "Load files from the 'data' directory:"
   ]
  },
  {
   "cell_type": "code",
   "execution_count": null,
   "id": "9ef56fd8",
   "metadata": {},
   "outputs": [],
   "source": [
    "counts = pd.read_csv('../data/counts.csv.gz')"
   ]
  },
  {
   "cell_type": "markdown",
   "id": "d64a9737",
   "metadata": {},
   "source": [
    "### 4. Produce figures\n",
    "\n",
    "#### 4.1. Figures 5A and F\n",
    "\n",
    "Measurement of the strength of reproductive feedback as the exponent `beta`, and the threshold above which feedback fully unfolds as the lower cutoff `xmin`, for cohorts and career ages, separately for productivity (A) and impact (F):"
   ]
  },
  {
   "cell_type": "code",
   "execution_count": null,
   "id": "acab0fc4",
   "metadata": {
    "scrolled": true
   },
   "outputs": [],
   "source": [
    "a_cum_pub_xmin = np.zeros([31, 14])\n",
    "a_cum_pub_beta = np.zeros([31, 14])\n",
    "a_cum_pub_beta_std = np.zeros([31, 14])\n",
    "a_cum_cit_xmin = np.zeros([31, 14])\n",
    "a_cum_cit_beta = np.zeros([31, 14])\n",
    "a_cum_cit_beta_std = np.zeros([31, 14])\n",
    "\n",
    "start_years = range(1970, 2001)\n",
    "career_ages = range(2, 16)\n",
    "\n",
    "for i in range(31):\n",
    "    for j in range(14):\n",
    "        # prepare data\n",
    "        df_pa_cum = pd.merge(\n",
    "            left = counts[(counts['cohort'] == start_years[i]) & (counts['career_age'] == career_ages[j]-1)][['author', 'cum_num_pub', 'cum_num_cit']], \n",
    "            right = counts[(counts['cohort'] == start_years[i]) & (counts['career_age'] == career_ages[j])][['author', 'num_pub', 'num_cit']], \n",
    "            on = 'author'\n",
    "        )\n",
    "        \n",
    "        # citation analysis\n",
    "        try:\n",
    "            df_pa_cum_cit = df_pa_cum[['cum_num_cit', 'num_cit']]\n",
    "            df_pa_cum_cit = df_pa_cum_cit[(df_pa_cum_cit != 0).all(1)]\n",
    "            stats, _ = fit_bivariate_dblp(\n",
    "                x=df_pa_cum_cit['cum_num_cit'], \n",
    "                y=df_pa_cum_cit['num_cit'], \n",
    "                pdf='../results/fig5/fig5f_pa_cum_cit_'+str(start_years[i])+'_'+str(career_ages[j])+'_alpha.pdf' if i==30 and j==13 else None, \n",
    "                fit='ols', \n",
    "                reduction='bin', \n",
    "                bootstrap=True, \n",
    "                straps=100, \n",
    "                estimate_lower_cutoff=True, \n",
    "                xlabel='C(%.0f)' %(career_ages[j]-1), \n",
    "                ylabel='c(%.0f)' %career_ages[j], \n",
    "                title='Cohort: %.0f' %start_years[i], \n",
    "                letter='F', \n",
    "                marker=0, \n",
    "                color=1\n",
    "            )\n",
    "            a_cum_cit_xmin[i, j] = stats['xmin'][0]\n",
    "            a_cum_cit_beta[i, j] = stats['beta'][0]\n",
    "            a_cum_cit_beta_std[i, j] = stats['beta_std'][0]\n",
    "        except:\n",
    "            a_cum_cit_xmin[i, j] = np.nan\n",
    "            a_cum_cit_beta[i, j] = np.nan\n",
    "            a_cum_cit_beta_std[i, j] = np.nan\n",
    "        \n",
    "        # productivity analysis\n",
    "        try:\n",
    "            df_pa_cum_pub = df_pa_cum[['cum_num_pub', 'num_pub']]\n",
    "            df_pa_cum_pub = df_pa_cum_pub[(df_pa_cum_pub != 0).all(1)]\n",
    "            stats, _ = fit_bivariate_dblp(\n",
    "                x=df_pa_cum_pub['cum_num_pub'], \n",
    "                y=df_pa_cum_pub['num_pub'], \n",
    "                pdf='../results/fig5/fig5a_pa_cum_pub_'+str(start_years[i])+'_'+str(career_ages[j])+'_alpha.pdf' if i==30 and j==13 else None, \n",
    "                fit='ols', \n",
    "                reduction='bin', \n",
    "                bootstrap=True, \n",
    "                straps=100, \n",
    "                estimate_lower_cutoff=True, \n",
    "                xlabel='P(%.0f)' %(career_ages[j]-1), \n",
    "                ylabel='p(%.0f)' %career_ages[j], \n",
    "                title='Cohort: %.0f' %start_years[i], \n",
    "                letter='A', \n",
    "                marker=0, \n",
    "                color=0\n",
    "            )\n",
    "            a_cum_pub_xmin[i, j] = stats['xmin'][0]\n",
    "            a_cum_pub_beta[i, j] = stats['beta'][0]\n",
    "            a_cum_pub_beta_std[i, j] = stats['beta_std'][0]\n",
    "        except:\n",
    "            a_cum_pub_xmin[i, j] = np.nan\n",
    "            a_cum_pub_beta[i, j] = np.nan\n",
    "            a_cum_pub_beta_std[i, j] = np.nan"
   ]
  },
  {
   "cell_type": "markdown",
   "id": "3455fd16",
   "metadata": {},
   "source": [
    "#### 4.2. Figures 5B-E and G-J\n",
    "\n",
    "Plots of the exponent `beta` (B, D, G, and I) and the lower cutoff `xmin` (C, E, H, and J) for an average cohort (B-C and G-H) and an average career age (D-E and I-J):"
   ]
  },
  {
   "cell_type": "code",
   "execution_count": null,
   "id": "aeb0c8a4",
   "metadata": {},
   "outputs": [],
   "source": [
    "l_data = [a_cum_cit_beta, a_cum_cit_xmin, a_cum_cit_beta, a_cum_cit_xmin, a_cum_pub_beta, a_cum_pub_xmin, a_cum_pub_beta, a_cum_pub_xmin]\n",
    "l_across = ['career_ages', 'career_ages', 'cohorts', 'cohorts', 'career_ages', 'career_ages', 'cohorts', 'cohorts']\n",
    "l_title = ['Impact', 'Impact', 'Impact', 'Impact', 'Productivity', 'Productivity', 'Productivity', 'Productivity']\n",
    "l_ylabel = ['Exponent', 'Lower Cutoff', 'Exponent', 'Lower Cutoff', 'Exponent', 'Lower Cutoff', 'Exponent', 'Lower Cutoff']\n",
    "l_ylim = [(0.0584, 1.2041), (.2, 17.8), (0.0584, 1.2041), (.2, 17.8), (0.0584, 1.2041), (.2, 17.8), (0.0584, 1.2041), (.2, 17.8)]\n",
    "l_letter = ['G', 'H', 'I', 'J', 'B', 'C', 'D', 'E']\n",
    "l_color = ['purple', 'purple', 'purple', 'purple', 'green', 'green', 'green', 'green']\n",
    "l_filename = ['../results/fig5/fig5g_pa_cum_cit_beta_career_ages', \n",
    "              '../results/fig5/fig5h_pa_cum_cit_xmin_career_ages', \n",
    "              '../results/fig5/fig5i_pa_cum_cit_beta_cohorts', \n",
    "              '../results/fig5/fig5j_pa_cum_cit_xmin_cohorts', \n",
    "              '../results/fig5/fig5b_pa_cum_pub_beta_career_ages', \n",
    "              '../results/fig5/fig5c_pa_cum_pub_xmin_career_ages', \n",
    "              '../results/fig5/fig5d_pa_cum_pub_beta_cohorts', \n",
    "              '../results/fig5/fig5e_pa_cum_pub_xmin_cohorts'\n",
    "             ]\n",
    "\n",
    "for i in range(8):\n",
    "    data = l_data[i]\n",
    "    across = l_across[i]\n",
    "    title = l_title[i]\n",
    "    ylabel = l_ylabel[i]\n",
    "    ylim = l_ylim[i]\n",
    "    letter = l_letter[i]\n",
    "    color = l_color[i]\n",
    "    filename = l_filename[i]\n",
    "    \n",
    "    linewidth = 2\n",
    "    fontsize = 18\n",
    "    fig = plt.figure(figsize=(4, 4))\n",
    "    ax = fig.add_subplot(111)\n",
    "    if across == 'career_ages':\n",
    "        plt.fill_between(range(2, 16), np.nanmin(data, axis=0), np.nanmax(data, axis=0), linewidth=0, color=color, alpha=.25)\n",
    "        plt.plot(range(2, 16), np.nanmean(data, axis=0), linewidth=linewidth, color=color)\n",
    "        ax.set_xlabel('Career Age', fontsize=fontsize)\n",
    "        ax.set_xlim([1.35, 15.65])\n",
    "        ax.set_xticks([2, 5, 10, 15])\n",
    "    ax.set_ylim(ylim)\n",
    "    if across == 'cohorts':\n",
    "        plt.fill_between(range(0, 31), np.nanmin(data, axis=1), np.nanmax(data, axis=1), linewidth=0, color=color, alpha=.25)\n",
    "        plt.plot(range(0, 31), np.nanmean(data, axis=1), linewidth=linewidth, color=color)\n",
    "        ax.set_xlabel('Cohort', fontsize=fontsize)\n",
    "        ax.set_xticks([0, 10, 20, 30])\n",
    "        ax.set_xticklabels([1970, 1980, 1990, 2000])\n",
    "    ax.set_ylim(ylim)\n",
    "    ax.xaxis.set_ticks_position('bottom')\n",
    "    ax.yaxis.set_ticks_position('both')\n",
    "    ax.set_ylabel(ylabel, fontsize=fontsize)\n",
    "    ax.set_title(title, fontsize=fontsize)\n",
    "    ax.tick_params(axis='x', which='major', direction='in', width=linewidth, size=4*linewidth, labelsize=fontsize)\n",
    "    ax.tick_params(axis='x', which='minor', direction='in', width=linewidth, size=2*linewidth, labelsize=fontsize)\n",
    "    ax.tick_params(axis='y', which='major', direction='in', width=linewidth, size=4*linewidth, labelsize=fontsize)\n",
    "    ax.tick_params(axis='y', which='minor', direction='in', width=linewidth, size=2*linewidth, labelsize=fontsize)\n",
    "    ax.spines['left'].set_linewidth(linewidth)\n",
    "    ax.spines['right'].set_linewidth(linewidth)\n",
    "    ax.spines['bottom'].set_linewidth(linewidth)\n",
    "    ax.spines['top'].set_linewidth(linewidth)\n",
    "    ax.xaxis.set_minor_locator(MultipleLocator(1))\n",
    "    plt.gcf().text(0., 0.9, letter, fontsize=fontsize*2)\n",
    "    plt.subplots_adjust(left=0.25, right=0.95, bottom=0.2, top=0.9)\n",
    "    fig.savefig(filename+'.pdf')"
   ]
  }
 ],
 "metadata": {
  "kernelspec": {
   "display_name": "Python 3 (ipykernel)",
   "language": "python",
   "name": "python3"
  },
  "language_info": {
   "codemirror_mode": {
    "name": "ipython",
    "version": 3
   },
   "file_extension": ".py",
   "mimetype": "text/x-python",
   "name": "python",
   "nbconvert_exporter": "python",
   "pygments_lexer": "ipython3",
   "version": "3.7.8"
  }
 },
 "nbformat": 4,
 "nbformat_minor": 5
}
