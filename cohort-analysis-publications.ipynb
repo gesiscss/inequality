{
 "cells": [
  {
   "cell_type": "code",
   "execution_count": 31,
   "metadata": {
    "collapsed": true
   },
   "outputs": [],
   "source": [
    "import pandas as pd\n",
    "import numpy as np\n",
    "import matplotlib.pyplot as plt\n",
    "%matplotlib inline\n",
    "import timeit\n",
    "import seaborn as sns\n",
    "import scipy.stats as stats"
   ]
  },
  {
   "cell_type": "markdown",
   "metadata": {},
   "source": [
    "### Cumulative Advantage\n",
    "\n",
    "For each (filtered) cohort analyze how the distribution of publications changes in the cohort over time.\n",
    "At the beginning all scientists should be equal (they have zero publications). Over time some scientists become more successful than others which leads to an increase in the Gini coefficient."
   ]
  },
  {
   "cell_type": "code",
   "execution_count": 32,
   "metadata": {
    "collapsed": false
   },
   "outputs": [
    {
     "name": "stdout",
     "output_type": "stream",
     "text": [
      "612303.2750287973\n"
     ]
    }
   ],
   "source": [
    "start_time = timeit.default_timer()\n",
    "print(start_time)"
   ]
  },
  {
   "cell_type": "code",
   "execution_count": 33,
   "metadata": {
    "collapsed": false
   },
   "outputs": [
    {
     "name": "stdout",
     "output_type": "stream",
     "text": [
      "             author gender\n",
      "0    nima mesgarani      m\n",
      "1    james j. abbas      m\n",
      "2  eberhart zrenner      m\n",
      "3    emery n. brown      m\n",
      "4        ilya rybak      m\n",
      "['m' 'none' 'f']\n",
      "1129473\n"
     ]
    }
   ],
   "source": [
    "gender = pd.read_csv('./data/name_gender_1970_2016_noAsians.csv')\n",
    "gender.rename(columns={'name':'author'},inplace=True)\n",
    "print(gender.head())\n",
    "print(gender['gender'].unique())\n",
    "print(gender['author'].nunique())\n",
    "\n",
    "# some names occur multiple times, but the gender assignment should be the same.\n",
    "#counts = gender.groupby('author').size()\n",
    "#df2 = pd.DataFrame(counts, columns = ['size'])\n",
    "#print(df2.head())\n",
    "#print(df2[df2['size'] > 1])"
   ]
  },
  {
   "cell_type": "code",
   "execution_count": 34,
   "metadata": {
    "collapsed": false
   },
   "outputs": [
    {
     "name": "stdout",
     "output_type": "stream",
     "text": [
      "               author  start_year  end_year  pub_count  career_length\n",
      "0          a min tjoa        1979      2015        193             36\n",
      "1    a-imam al-sammak        1992      2008          6             16\n",
      "2          a-xing zhu        1998      2015         16             17\n",
      "3  a. a. (louis) beex        1980      2016         34             36\n",
      "4     a. a. a. nasser        1993      2014          3             21\n",
      "authorStartEndCareerData  %s 110468\n",
      "author unique names  %s 110468\n",
      "       author  start_year  end_year  pub_count  career_length\n",
      "0  a min tjoa        1979      2015        193             36\n",
      "          start_year       end_year      pub_count  career_length\n",
      "count  110468.000000  110468.000000  110468.000000  110468.000000\n",
      "mean     1991.428577    2012.895083      32.668338      21.466506\n",
      "std         7.297041       4.405741      48.993761       6.089202\n",
      "min      1970.000000    1985.000000       2.000000      15.000000\n",
      "25%      1988.000000    2012.000000       7.000000      17.000000\n",
      "50%      1993.000000    2015.000000      16.000000      20.000000\n",
      "75%      1997.000000    2015.000000      39.000000      24.000000\n",
      "max      2001.000000    2016.000000    1199.000000      46.000000\n"
     ]
    }
   ],
   "source": [
    "max_years = 15\n",
    "#authorStartEndCareerData = pd.read_csv('data/authors-scientific-start-end-year-publish-count.csv')\n",
    "authorStartEndCareerData = pd.read_csv('./data/authors-scientific-atleast-15-year.csv')\n",
    "#authorStartEndCareerData = pd.read_csv('data/authors-scientific-atleast-20-year-20-papers.csv')\n",
    "print(authorStartEndCareerData.head())\n",
    "print(\"authorStartEndCareerData  %s\", authorStartEndCareerData.shape[0])\n",
    "print(\"author unique names  %s\", authorStartEndCareerData['author'].nunique())\n",
    "print(authorStartEndCareerData[authorStartEndCareerData['author']=='a min tjoa'])\n",
    "print(authorStartEndCareerData.describe())"
   ]
  },
  {
   "cell_type": "code",
   "execution_count": 35,
   "metadata": {
    "collapsed": false
   },
   "outputs": [
    {
     "name": "stdout",
     "output_type": "stream",
     "text": [
      "             author  start_year  end_year  pub_count  career_length gender\n",
      "0        a min tjoa        1979      2015        193             36   none\n",
      "1  a-imam al-sammak        1992      2008          6             16      m\n",
      "2  a-imam al-sammak        1992      2008          6             16      m\n",
      "3  a-imam al-sammak        1992      2008          6             16      m\n",
      "4  a-imam al-sammak        1992      2008          6             16      m\n",
      "         start_year      end_year     pub_count  career_length\n",
      "count  2.365914e+06  2.365914e+06  2.365914e+06   2.365914e+06\n",
      "mean   1.990932e+03  2.014577e+03  9.068298e+01   2.364505e+01\n",
      "std    7.328825e+00  2.756475e+00  9.495941e+01   6.942496e+00\n",
      "min    1.970000e+03  1.985000e+03  2.000000e+00   1.500000e+01\n",
      "25%    1.987000e+03  2.015000e+03  2.900000e+01   1.800000e+01\n",
      "50%    1.992000e+03  2.015000e+03  6.200000e+01   2.200000e+01\n",
      "75%    1.997000e+03  2.016000e+03  1.170000e+02   2.800000e+01\n",
      "max    2.001000e+03  2.016000e+03  1.199000e+03   4.600000e+01\n"
     ]
    }
   ],
   "source": [
    "authorStartEndCareerData = pd.merge(authorStartEndCareerData, gender, how=\"left\", on=[\"author\"])\n",
    "authorStartEndCareerData['gender'] = authorStartEndCareerData['gender'].fillna('none')\n",
    "\n",
    "print(authorStartEndCareerData.head())\n",
    "print(authorStartEndCareerData.describe())"
   ]
  },
  {
   "cell_type": "code",
   "execution_count": 36,
   "metadata": {
    "collapsed": false
   },
   "outputs": [
    {
     "name": "stdout",
     "output_type": "stream",
     "text": [
      "authorStartEndCareerData no duplicates: %s 110468\n",
      "110468\n",
      "110468\n"
     ]
    },
    {
     "data": {
      "text/plain": [
       "<matplotlib.axes._subplots.AxesSubplot at 0xbf48358>"
      ]
     },
     "execution_count": 36,
     "metadata": {},
     "output_type": "execute_result"
    },
    {
     "data": {
      "image/png": "[encoded data removed]",
      "text/plain": [
       "<matplotlib.figure.Figure at 0xcecfa6d8>"
      ]
     },
     "metadata": {},
     "output_type": "display_data"
    }
   ],
   "source": [
    "\n",
    "# there are no duplicates\n",
    "authorStartEndCareerData = authorStartEndCareerData.drop_duplicates()\n",
    "print(\"authorStartEndCareerData no duplicates: %s\", authorStartEndCareerData.shape[0])\n",
    "print(authorStartEndCareerData['author'].nunique())\n",
    "\n",
    "test = authorStartEndCareerData[[\"pub_count\", \"gender\"]]\n",
    "print(test.shape[0])\n",
    "\n",
    "#print(test.head())\n",
    "#print(authorStartEndCareerData[[\"start_year\", \"gender\", \"pub_count\"]].groupby(['start_year', 'gender']).agg({'count', 'mean', 'std'}))\n",
    "authorStartEndCareerData.boxplot(column='pub_count', by='gender', showfliers=False)"
   ]
  },
  {
   "cell_type": "code",
   "execution_count": 37,
   "metadata": {
    "collapsed": false
   },
   "outputs": [
    {
     "name": "stdout",
     "output_type": "stream",
     "text": [
      "110468\n",
      "             author  year                    pub_id\n",
      "0  kim l. blackwell  2014  55503da645ce0a409eb273e8\n",
      "authorPublicationsData\n",
      "1702516\n",
      "9016289\n",
      "authorStartEndCareerData\n",
      "110468\n",
      "110468\n"
     ]
    }
   ],
   "source": [
    "\n",
    "selectedAuthor = authorStartEndCareerData[\"author\"].unique()\n",
    "print(len(selectedAuthor))\n",
    "\n",
    "authorPublicationsData = pd.read_csv('data/author_publications_1970_2016_asiansAsNone.txt')\n",
    "authorPublicationsData = authorPublicationsData[authorPublicationsData[\"year\"] > 1900]\n",
    "print(authorPublicationsData.head(n=1))\n",
    "\n",
    "print(\"authorPublicationsData\")\n",
    "print(authorPublicationsData['author'].nunique())\n",
    "#print(authorPublicationsData.index)\n",
    "print(authorPublicationsData.shape[0])\n",
    "\n",
    "\n",
    "\n",
    "# contains only authors-scientific-atleast-15-year --> we filter authorPublicationsData that only those authors are inlcuded\n",
    "\n",
    "print(\"authorStartEndCareerData\")\n",
    "print(authorStartEndCareerData['author'].nunique())\n",
    "#print(authorStartEndCareerData.index)\n",
    "print(authorStartEndCareerData.shape[0])\n",
    "\n",
    "#authorPublicationsData = pd.merge(authorPublicationsData, authorStartEndCareerData,  how=\"left\", left_on=\"author\", right_on=\"author\")\n",
    "\n",
    "\n",
    "#authorPublicationsData = authorPublicationsData.dropna(how='any')\n",
    "#print(authorPublicationsData.head(n=2))\n",
    "#print(authorPublicationsData['author'].nunique())\n",
    "#print(authorPublicationsData.shape[0])\n",
    "\n",
    "\n",
    "#get the year list - as it helps to enumerate and find gini co-efficient for each year (irrespective of the dataset)\n",
    "#years = np.sort(authorPublicationsData['year'].unique())\n",
    "#print(years)"
   ]
  },
  {
   "cell_type": "code",
   "execution_count": 38,
   "metadata": {
    "collapsed": false
   },
   "outputs": [
    {
     "name": "stdout",
     "output_type": "stream",
     "text": [
      "             author  year                    pub_id\n",
      "0  kim l. blackwell  2014  55503da645ce0a409eb273e8\n",
      "1    nima mesgarani  2014  55503da645ce0a409eb273e9\n",
      "2    james j. abbas  2014  55503da645ce0a409eb273ea\n"
     ]
    }
   ],
   "source": [
    "print(authorPublicationsData.head(n=3))"
   ]
  },
  {
   "cell_type": "code",
   "execution_count": 39,
   "metadata": {
    "collapsed": true
   },
   "outputs": [],
   "source": [
    "\n",
    "\n",
    "#groupByStartYearScientificCareerData = authorStartEndCareerData[['author','start_year']].groupby(['start_year'])\n",
    "#print(groupByStartYearScientificCareerData.head())\n",
    "#groupByStartYearScientificCareerData.groups"
   ]
  },
  {
   "cell_type": "code",
   "execution_count": 40,
   "metadata": {
    "collapsed": false
   },
   "outputs": [
    {
     "name": "stdout",
     "output_type": "stream",
     "text": [
      "           author  year                    pub_id\n",
      "47504  a min tjoa  2004  53e9ac96b7602d9703671ea0\n",
      "81537  a min tjoa  2008  53e9b403b7602d9703ef2cf3\n",
      "81583  a min tjoa  2007  53e9aad9b7602d970345a7fb\n",
      "81770  a min tjoa  2013  53e9b783b7602d9704329922\n",
      "81790  a min tjoa  2003  53e9ae29b7602d970383a84d\n",
      "   year         author  num_pub\n",
      "0  1970    a. a. afifi        1\n",
      "1  1970    a. a. bährs        1\n",
      "2  1970     a. armenti        1\n",
      "3  1970  a. b. slomson        1\n",
      "4  1970    a. brindley        1\n",
      "        year      author  num_pub\n",
      "33440   1979  a min tjoa        1\n",
      "85309   1985  a min tjoa        1\n",
      "97531   1986  a min tjoa        1\n",
      "174683  1990  a min tjoa        1\n",
      "202845  1991  a min tjoa        3\n"
     ]
    }
   ],
   "source": [
    "#Group by both year and author - multi index and hierarchial indexing\n",
    "#authorPublicationsData\n",
    "\n",
    "print(authorPublicationsData[authorPublicationsData.author==\"a min tjoa\"].head(n=5))\n",
    "\n",
    "groupByAuthorYearData = authorPublicationsData.groupby(['year','author']).count().reset_index()\n",
    "groupByAuthorYearData.rename(columns={'pub_id':'num_pub'}, inplace=True)\n",
    "\n",
    "#remove wrong data\n",
    "groupByAuthorYearData = groupByAuthorYearData[groupByAuthorYearData[\"year\"] > 1900]\n",
    "print(groupByAuthorYearData.head())\n",
    "\n",
    "print(groupByAuthorYearData[groupByAuthorYearData.author==\"a min tjoa\"].head(n=5))\n"
   ]
  },
  {
   "cell_type": "code",
   "execution_count": 41,
   "metadata": {
    "collapsed": false
   },
   "outputs": [
    {
     "name": "stdout",
     "output_type": "stream",
     "text": [
      "   year         author  pub_id\n",
      "0  1970    a. a. afifi       1\n",
      "1  1970    a. a. bährs       1\n",
      "2  1970     a. armenti       1\n",
      "3  1970  a. b. slomson       1\n",
      "4  1970    a. brindley       1\n",
      "         year      author  pub_id\n",
      "33440    1979  a min tjoa       1\n",
      "85309    1985  a min tjoa       1\n",
      "97531    1986  a min tjoa       1\n",
      "174683   1990  a min tjoa       1\n",
      "202845   1991  a min tjoa       3\n",
      "234843   1992  a min tjoa       3\n",
      "272007   1993  a min tjoa       6\n",
      "317066   1994  a min tjoa       2\n",
      "368210   1995  a min tjoa       3\n",
      "422874   1996  a min tjoa       5\n",
      "481284   1997  a min tjoa       2\n",
      "547478   1998  a min tjoa       3\n",
      "704036   2000  a min tjoa       8\n",
      "797455   2001  a min tjoa       5\n",
      "901041   2002  a min tjoa       3\n",
      "1016521  2003  a min tjoa      11\n",
      "1155821  2004  a min tjoa       8\n",
      "1320619  2005  a min tjoa      13\n",
      "1512468  2006  a min tjoa      23\n",
      "1725677  2007  a min tjoa      13\n",
      "1962106  2008  a min tjoa       8\n",
      "2219974  2009  a min tjoa       8\n",
      "2500825  2010  a min tjoa      16\n",
      "2799087  2011  a min tjoa      11\n",
      "3123784  2012  a min tjoa       7\n",
      "3466909  2013  a min tjoa       7\n",
      "3824300  2014  a min tjoa      17\n",
      "4194351  2015  a min tjoa       4\n"
     ]
    },
    {
     "ename": "KeyError",
     "evalue": "'Column not found: num_pub'",
     "output_type": "error",
     "traceback": [
      "\u001b[1;31m\u001b[0m",
      "\u001b[1;31mKeyError\u001b[0mTraceback (most recent call last)",
      "\u001b[1;32m<ipython-input-41-8167c261235b>\u001b[0m in \u001b[0;36m<module>\u001b[1;34m()\u001b[0m\n\u001b[0;32m     12\u001b[0m \u001b[1;31m#print(groupByAuthorYearData.head())\u001b[0m\u001b[1;33m\u001b[0m\u001b[1;33m\u001b[0m\u001b[0m\n\u001b[0;32m     13\u001b[0m \u001b[1;33m\u001b[0m\u001b[0m\n\u001b[1;32m---> 14\u001b[1;33m \u001b[0mgroupByAuthorYearData\u001b[0m\u001b[1;33m[\u001b[0m\u001b[1;34m\"cum_num_pub\"\u001b[0m\u001b[1;33m]\u001b[0m \u001b[1;33m=\u001b[0m \u001b[0mgroupByAuthorYearData\u001b[0m\u001b[1;33m.\u001b[0m\u001b[0mgroupby\u001b[0m\u001b[1;33m(\u001b[0m\u001b[1;33m[\u001b[0m\u001b[1;34m'author'\u001b[0m\u001b[1;33m]\u001b[0m\u001b[1;33m)\u001b[0m\u001b[1;33m[\u001b[0m\u001b[1;34m'num_pub'\u001b[0m\u001b[1;33m]\u001b[0m\u001b[1;33m.\u001b[0m\u001b[0mtransform\u001b[0m\u001b[1;33m(\u001b[0m\u001b[0mpd\u001b[0m\u001b[1;33m.\u001b[0m\u001b[0mSeries\u001b[0m\u001b[1;33m.\u001b[0m\u001b[0mcumsum\u001b[0m\u001b[1;33m)\u001b[0m\u001b[1;33m\u001b[0m\u001b[0m\n\u001b[0m\u001b[0;32m     15\u001b[0m \u001b[0mgroupByAuthorYearData\u001b[0m \u001b[1;33m=\u001b[0m \u001b[0mgroupByAuthorYearData\u001b[0m\u001b[1;33m.\u001b[0m\u001b[0mreset_index\u001b[0m\u001b[1;33m(\u001b[0m\u001b[1;33m)\u001b[0m\u001b[1;33m\u001b[0m\u001b[0m\n\u001b[0;32m     16\u001b[0m \u001b[0mprint\u001b[0m\u001b[1;33m(\u001b[0m\u001b[0mgroupByAuthorYearData\u001b[0m\u001b[1;33m.\u001b[0m\u001b[0mhead\u001b[0m\u001b[1;33m(\u001b[0m\u001b[1;33m)\u001b[0m\u001b[1;33m)\u001b[0m\u001b[1;33m\u001b[0m\u001b[0m\n",
      "\u001b[1;32mC:\\Users\\wagnerca\\AppData\\Local\\Continuum\\Anaconda3\\lib\\site-packages\\pandas\\core\\base.py\u001b[0m in \u001b[0;36m__getitem__\u001b[1;34m(self, key)\u001b[0m\n\u001b[0;32m    341\u001b[0m         \u001b[1;32melse\u001b[0m\u001b[1;33m:\u001b[0m\u001b[1;33m\u001b[0m\u001b[0m\n\u001b[0;32m    342\u001b[0m             \u001b[1;32mif\u001b[0m \u001b[0mkey\u001b[0m \u001b[1;32mnot\u001b[0m \u001b[1;32min\u001b[0m \u001b[0mself\u001b[0m\u001b[1;33m.\u001b[0m\u001b[0mobj\u001b[0m\u001b[1;33m:\u001b[0m\u001b[1;33m\u001b[0m\u001b[0m\n\u001b[1;32m--> 343\u001b[1;33m                 \u001b[1;32mraise\u001b[0m \u001b[0mKeyError\u001b[0m\u001b[1;33m(\u001b[0m\u001b[1;34m\"Column not found: %s\"\u001b[0m \u001b[1;33m%\u001b[0m \u001b[0mkey\u001b[0m\u001b[1;33m)\u001b[0m\u001b[1;33m\u001b[0m\u001b[0m\n\u001b[0m\u001b[0;32m    344\u001b[0m             \u001b[1;32mreturn\u001b[0m \u001b[0mself\u001b[0m\u001b[1;33m.\u001b[0m\u001b[0m_gotitem\u001b[0m\u001b[1;33m(\u001b[0m\u001b[0mkey\u001b[0m\u001b[1;33m,\u001b[0m \u001b[0mndim\u001b[0m\u001b[1;33m=\u001b[0m\u001b[1;36m1\u001b[0m\u001b[1;33m)\u001b[0m\u001b[1;33m\u001b[0m\u001b[0m\n\u001b[0;32m    345\u001b[0m \u001b[1;33m\u001b[0m\u001b[0m\n",
      "\u001b[1;31mKeyError\u001b[0m: 'Column not found: num_pub'"
     ]
    }
   ],
   "source": [
    "#Group by both year and author - multi index and hierarchial indexing\n",
    "groupByAuthorYearData = authorPublicationsData.groupby(['year','author']).count().reset_index()\n",
    "#remove wrong data\n",
    "groupByAuthorYearData = groupByAuthorYearData[groupByAuthorYearData[\"year\"] > 1900]\n",
    "print(groupByAuthorYearData.head())\n",
    "\n",
    "\n",
    "print(groupByAuthorYearData[groupByAuthorYearData.author==\"a min tjoa\"])\n",
    "\n",
    "# cumulative number of publications per author\n",
    "groupByAuthorYearData = groupByAuthorYearData.set_index('year').sort_index()\n",
    "#print(groupByAuthorYearData.head())\n",
    "\n",
    "groupByAuthorYearData[\"cum_num_pub\"] = groupByAuthorYearData.groupby(['author'])['num_pub'].transform(pd.Series.cumsum)\n",
    "groupByAuthorYearData = groupByAuthorYearData.reset_index()\n",
    "print(groupByAuthorYearData.head())\n",
    "\n",
    "\n",
    "\n",
    "\n",
    "groupByAuthorYearData = pd.merge(groupByAuthorYearData, authorStartEndCareerData,  how=\"left\", left_on=\"author\", right_on=\"author\")\n",
    "\n",
    "groupByAuthorYearData = groupByAuthorYearData.dropna(how='any')\n",
    "print(groupByAuthorYearData.head(n=2))\n",
    "print(groupByAuthorYearData['author'].nunique())\n",
    "print(groupByAuthorYearData.shape[0])\n",
    "\n",
    "print(groupByAuthorYearData.head())\n",
    "print(groupByAuthorYearData[groupByAuthorYearData.author==\"a min tjoa\"])\n",
    "\n",
    "\n",
    "groupByAuthorYearData = groupByAuthorYearData.reset_index()\n",
    "print(groupByAuthorYearData.head())\n"
   ]
  },
  {
   "cell_type": "code",
   "execution_count": null,
   "metadata": {
    "collapsed": true
   },
   "outputs": [],
   "source": [
    "#the following snippet is taken from the github project and the license is creative commons\n",
    "#https://github.com/oliviaguest/gini\n",
    "\n",
    "def gini(array):\n",
    "    \"\"\"Calculate the Gini coefficient of a numpy array.\"\"\"\n",
    "    # based on bottom eq:\n",
    "    # http://www.statsdirect.com/help/generatedimages/equations/equation154.svg\n",
    "    # from:\n",
    "    # http://www.statsdirect.com/help/default.htm#nonparametric_methods/gini.htm\n",
    "    # All values are treated equally, arrays must be 1d:\n",
    "    array = array.flatten()\n",
    "    if np.min(array) < 0:\n",
    "        # Values cannot be negative:\n",
    "        array -= np.min(array)\n",
    "    # Values cannot be 0:\n",
    "    array += 0.0000001\n",
    "    # Values must be sorted:\n",
    "    array = np.sort(array)\n",
    "    # Index per array element:\n",
    "    index = np.arange(1,array.shape[0]+1)\n",
    "    # Number of array elements:\n",
    "    n = array.shape[0]\n",
    "    # Gini coefficient:\n",
    "    return ((np.sum((2 * index - n  - 1) * array)) / (n * np.sum(array)))"
   ]
  },
  {
   "cell_type": "markdown",
   "metadata": {},
   "source": [
    "### To check whether GINI calculation works correctly or not"
   ]
  },
  {
   "cell_type": "code",
   "execution_count": null,
   "metadata": {
    "collapsed": true
   },
   "outputs": [],
   "source": [
    "#print(gini[1, 1, 1, 1, 1, 1, 1, 1, 1, 1])\n",
    "#print(gini(range(10)))"
   ]
  },
  {
   "cell_type": "code",
   "execution_count": null,
   "metadata": {
    "collapsed": true
   },
   "outputs": [],
   "source": [
    "def plot_gender_numcumpub2(ax, cohort_duration, selected_cumnumpub_df, year):   \n",
    "    #ax.errorbar(cohort_duration, selected_cumnumpub_df[\"mean_f\"].values,  yerr=selected_cumnumpub_df[\"sem_f\"].values, label='women', color=\"red\" )\n",
    "    #ax.errorbar(cohort_duration, selected_cumnumpub_df[\"mean_m\"].values,  yerr=selected_cumnumpub_df[\"sem_m\"].values, label='men', color=\"blue\")\n",
    "    #ax.errorbar(cohort_duration, selected_cumnumpub_df[\"mean_n\"].values,  yerr=selected_cumnumpub_df[\"sem_n\"].values, label='unknown', color=\"grey\")\n",
    "   \n",
    "    ax.plot(cohort_duration, selected_cumnumpub_df[\"mean_f\"].values,  label='women', color=\"red\")\n",
    "    ax.fill_between(cohort_duration, selected_cumnumpub_df[\"mean_f\"].values-selected_cumnumpub_df[\"sem_f\"].values, \n",
    "                     selected_cumnumpub_df[\"mean_f\"].values+selected_cumnumpub_df[\"sem_f\"].values,\n",
    "    alpha=0.2, edgecolor='red', facecolor='red',\n",
    "    linewidth=4, linestyle='dashdot', antialiased=True)\n",
    "    \n",
    "    #ax.set_title(\"Cohort start-year: \"+str(year))\n",
    "    \n",
    "    return sep\n",
    "\n",
    "\n",
    "\n",
    "# plot num cum publication stats\n",
    "def plot_gender_numcumpub(ax, cohort_duration, selected_cumnumpub_df, year):\n",
    "    ax.plot(cohort_duration, selected_cumnumpub_df[\"mean_f\"].values,  label='women', color=\"red\")\n",
    "    ax.fill_between(cohort_duration, selected_cumnumpub_df[\"mean_f\"].values-selected_cumnumpub_df[\"sem_f\"].values, \n",
    "                     selected_cumnumpub_df[\"mean_f\"].values+selected_cumnumpub_df[\"sem_f\"].values,\n",
    "    alpha=0.2, edgecolor='red', facecolor='red',\n",
    "    linewidth=4, linestyle='dashdot', antialiased=True)\n",
    "    \n",
    "    ax.plot(cohort_duration, selected_cumnumpub_df[\"mean_m\"].values,  label='men', color=\"blue\")\n",
    "    ax.fill_between(cohort_duration, selected_cumnumpub_df[\"mean_m\"].values-selected_cumnumpub_df[\"sem_m\"].values, \n",
    "                     selected_cumnumpub_df[\"mean_m\"].values+selected_cumnumpub_df[\"sem_m\"].values,\n",
    "    alpha=0.2, edgecolor='blue', facecolor='blue',\n",
    "    linewidth=4, linestyle='dashdot', antialiased=True)\n",
    "\n",
    "    ax.plot(cohort_duration, selected_cumnumpub_df[\"mean_n\"].values,  label='unknown', color=\"grey\")\n",
    "    ax.fill_between(cohort_duration, selected_cumnumpub_df[\"mean_n\"].values-selected_cumnumpub_df[\"sem_n\"].values, \n",
    "                     selected_cumnumpub_df[\"mean_n\"].values+selected_cumnumpub_df[\"sem_n\"].values,\n",
    "    alpha=0.2, edgecolor='grey', facecolor='grey',\n",
    "    linewidth=4, linestyle='dashdot', antialiased=True)\n",
    "    \n",
    "    #ax.errorbar(cohort_duration, selected_cumnumpub_df[\"mean_f\"].values,  yerr=selected_cumnumpub_df[\"sem_f\"].values, label='women', color=\"red\" )\n",
    "    #ax.errorbar(cohort_duration, selected_cumnumpub_df[\"mean_m\"].values,  yerr=selected_cumnumpub_df[\"sem_m\"].values, label='men', color=\"blue\")\n",
    "    #ax.errorbar(cohort_duration, selected_cumnumpub_df[\"mean_n\"].values,  yerr=selected_cumnumpub_df[\"sem_n\"].values, label='unknown', color=\"grey\")\n",
    "   \n",
    "  \n",
    "    return ax\n",
    "\n",
    "\n",
    "\n",
    "    \n",
    "  \n",
    "\n",
    "   \n",
    "\n",
    "    # Make one Bar Chart per COHORT\n",
    "    #fig, ax = plt.subplots()\n",
    "    #width = 0.3       # the width of the bars\n",
    "    #Y = len(gini_years)\n",
    "    #ind = np.arange(Y)\n",
    "    #ax.set_title('Inequality for cohort: '+str(year))\n",
    "    #rects = ax.bar(ind, gini_coefs, width, color='b')\n",
    "    #ax.set_xticks(ind + width / 2)\n",
    "    #ax.set_xticklabels(gini_years, rotation=90)\n",
    "    #ax.set_ylabel('Gini')\n",
    "    #plt.show()\n",
    "    "
   ]
  },
  {
   "cell_type": "markdown",
   "metadata": {},
   "source": [
    "### Num-publication distribution of each cohort in each year\n",
    "\n",
    "* We compute the gini coefficient for each cohort in each year separately based on the cumulative number of publications that this group has aggregated. \n",
    "* We compute the mean and std of the cumulative number of publications for men and women in each cohort separately.\n"
   ]
  },
  {
   "cell_type": "code",
   "execution_count": null,
   "metadata": {
    "collapsed": false
   },
   "outputs": [],
   "source": [
    "print(authorStartEndCareerData.head(n=1))\n",
    "gini_per_cohort = pd.DataFrame(index=years)\n",
    "cumnumpub_per_cohort = pd.DataFrame(index=years)\n",
    "\n",
    "\n",
    "#fig2, ax2 = plt.subplots()\n",
    "fig2 = plt.figure()\n",
    "ax2 = fig2.add_subplot(1,1,1)\n",
    "fig3 = plt.figure()\n",
    "ax3 = fig3.add_subplot(1,1,1)\n",
    "\n",
    "\n",
    "max_years = 15\n",
    "# limit plot to the N years during which we follow a cohort\n",
    "cohort_duration = np.arange(max_years)\n",
    "\n",
    "# 30 years\n",
    "fig5 = plt.figure(figsize=(40,20))\n",
    "\n",
    "i=1\n",
    "\n",
    "for year in years: #[1975,1980,1985, 1990]: #\n",
    "    #we cannot follow the cohort for max years; for 2016 we do not have enough data\n",
    "    if year > (2015 - max_years):\n",
    "        break\n",
    "    \n",
    "    ax5 = fig5.add_subplot(6, 6, i)\n",
    "    i = i+1\n",
    "    \n",
    "    fig4 = plt.figure()\n",
    "    ax4 = fig4.add_subplot(1, 1, 1)\n",
    "\n",
    "    #print(\"cohort: \"+str(year))\n",
    "    cohort = authorStartEndCareerData[authorStartEndCareerData[\"start_year\"]==year]\n",
    "    cohort_authors = cohort[\"author\"].values\n",
    "  \n",
    "    gini_over_years = pd.Series(data=0, index=years)\n",
    "    cumnumpub_over_years = pd.DataFrame(data=0, index=years, columns=[\"mean\", \"std\", \"mean_f\", \"std_f\", \"mean_m\", \"std_m\", \"mean_n\", \"std_n\"])\n",
    " \n",
    "    # extract num publications for the cohort in all future years\n",
    "    for y in range(year, max(years)+1):\n",
    "        #print(\"following years: \"+str(y))\n",
    "      \n",
    "        # get all the authors data for each year and filter based on the authors that we are interested in\n",
    "        temp = groupByAuthorYearData[groupByAuthorYearData[\"year\"]==y]\n",
    "        temp = temp[temp[\"author\"].isin(cohort_authors)]\n",
    "        \n",
    "        # gini per year based on cumulative num of publications of all authors in this year\n",
    "        gini_over_years.loc[y] = gini(temp['cum_num_pub'].astype(\"float\").values)\n",
    "        \n",
    "        temp_male = temp[temp[\"gender\"]==\"m\"]\n",
    "        temp_female = temp[temp[\"gender\"]==\"f\"]\n",
    "        temp_none = temp[temp[\"gender\"]==\"none\"]\n",
    "        \n",
    "        cumnumpub_over_years.loc[y] = [np.mean(temp['cum_num_pub'].astype(\"float\").values), \n",
    "                                       np.std(temp['cum_num_pub'].astype(\"float\").values),\n",
    "                                       np.mean(temp_female['cum_num_pub'].astype(\"float\").values), \n",
    "                                       stats.sem(temp_female['cum_num_pub'].astype(\"float\").values),\n",
    "                                       np.mean(temp_male['cum_num_pub'].astype(\"float\").values), \n",
    "                                       stats.sem(temp_male['cum_num_pub'].astype(\"float\").values),\n",
    "                                       np.mean(temp_none['cum_num_pub'].astype(\"float\").values), \n",
    "                                       stats.sem(temp_none['cum_num_pub'].astype(\"float\").values)]\n",
    "        \n",
    "    \n",
    "   \n",
    "    gini_years_df = pd.DataFrame(gini_over_years.reset_index())\n",
    "    gini_years_df.columns = [\"year\", \"gini\"]\n",
    "    #gini_per_cohort[year] = gini_years_df\n",
    "   \n",
    "    gini_years = gini_years_df[\"year\"].values\n",
    "    gini_coefs= gini_years_df[\"gini\"].values\n",
    "    selected_gini_df = gini_years_df[(gini_years_df[\"year\"] >= year) &  (gini_years_df[\"year\"] < (year+max_years))]\n",
    "    ax2.plot(cohort_duration, selected_gini_df[\"gini\"])\n",
    "   \n",
    "    #[\"mean\", \"std\", \"mean_f\", \"std_f\", \"mean_m\", \"std_m\", \"mean_n\", \"std_n\"])\n",
    "    cumnumpub_years_df = pd.DataFrame(cumnumpub_over_years.reset_index())\n",
    "    cumnumpub_years_df.columns = [\"year\", \"mean\", \"std\", \"mean_f\", \"sem_f\", \"mean_m\", \"sem_m\", \"mean_n\", \"sem_n\"]\n",
    "    #cumnumpub_per_cohort[year] = cumnumpub_years_df\n",
    "   \n",
    "    selected_cumnumpub_df = cumnumpub_years_df[(cumnumpub_years_df[\"year\"] >= year) &  (cumnumpub_years_df[\"year\"] < (year+max_years))]\n",
    "    ax3.errorbar(cohort_duration, selected_cumnumpub_df[\"mean\"].values,  yerr=selected_cumnumpub_df[\"std\"].values)\n",
    "    \n",
    "    \n",
    "    ax4 = plot_gender_numcumpub(ax4, cohort_duration, selected_cumnumpub_df, year)\n",
    "    ax4.set_title(\"Cohort start-year: \"+str(year))  \n",
    "    ax4.set_ylabel('Cumulative Publication Count')\n",
    "    ax4.legend()\n",
    "    fig4.savefig(\"fig/cumnumpub_gender_\"+str(year)+\".png\")\n",
    "    \n",
    "    ax5 = plot_gender_numcumpub(ax5, cohort_duration, selected_cumnumpub_df, year)\n",
    "    ax5.set_title(\"Cohort start-year: \"+str(year))\n",
    "\n",
    "\n",
    "\n",
    "ax2.set_ylabel('Gini')\n",
    "ax2.set_title('Inequality of al cohorts over '+str(max_years)+' years')\n",
    "if len(years)<10:\n",
    "    ax2.legend(years)  \n",
    "fig2.savefig(\"fig/gini.png\")\n",
    "\n",
    "ax3.set_ylabel('Cumulative Publication Count')\n",
    "ax3.set_title('Mean/Std of al cohorts over '+str(max_years)+' years')\n",
    "if len(years)<10:\n",
    "    ax3.legend(years)  \n",
    "    \n",
    "fig3.savefig(\"fig/cumnumpub.png\")\n",
    "\n",
    "fig5.savefig(\"fig/cumnumpub_gender.png\")\n",
    "  \n",
    "plt.show()\n",
    "\n",
    "   \n"
   ]
  },
  {
   "cell_type": "markdown",
   "metadata": {},
   "source": [
    "### Ranking of men and women in this distribution\n",
    "\n",
    "Num-publication distribution. What is the mean/median rank of men and women. For which cohorts do we find a significant differnce after 10 or 15 years?\n",
    "\n"
   ]
  },
  {
   "cell_type": "code",
   "execution_count": null,
   "metadata": {
    "collapsed": true
   },
   "outputs": [],
   "source": [
    "end_time = timeit.default_timer()\n",
    "print(end_time)\n",
    "print('Time taken - ',end_time-start_time)"
   ]
  },
  {
   "cell_type": "markdown",
   "metadata": {
    "collapsed": true
   },
   "source": [
    "### Stability of Ranking\n",
    "\n",
    "How stable is the ranking ober time. We expect that at the top the ranking is rather stable.\n",
    "How much rank-increase do men and women achieve over the years?\n",
    "\n"
   ]
  }
 ],
 "metadata": {
  "anaconda-cloud": {},
  "kernelspec": {
   "display_name": "Python [Root]",
   "language": "python",
   "name": "Python [Root]"
  },
  "language_info": {
   "codemirror_mode": {
    "name": "ipython",
    "version": 3
   },
   "file_extension": ".py",
   "mimetype": "text/x-python",
   "name": "python",
   "nbconvert_exporter": "python",
   "pygments_lexer": "ipython3",
   "version": "3.5.1"
  }
 },
 "nbformat": 4,
 "nbformat_minor": 2
}
