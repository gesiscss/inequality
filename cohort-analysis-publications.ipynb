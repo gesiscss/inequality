{
 "cells": [
  {
   "cell_type": "code",
   "execution_count": 2,
   "metadata": {
    "collapsed": true
   },
   "outputs": [],
   "source": [
    "import pandas as pd\n",
    "import numpy as np\n",
    "import matplotlib.pyplot as plt\n",
    "%matplotlib inline\n",
    "import timeit"
   ]
  },
  {
   "cell_type": "markdown",
   "metadata": {},
   "source": [
    "### References\n",
    "\n",
    "Authors who are consistent (10 year career span and atleast 10 papers published) are derived from the notebook 'cumulative-adv-author-statistics-for-analysis'\n",
    "\n",
    "'authors-scientific-start-end-year.csv' is one of the byproduct of that. But it contains a lot of sparse values, In the sense it contains \n",
    "a lot of authors who dropped out early in their career\n",
    "\n",
    "'authors-scientific-atleast-10-year-10-papers.csv' - contains consistent authors \n",
    "Code snippet from 'cumulative-adv-cohort-analysis-for-1970-authors' notebook is heavily used"
   ]
  },
  {
   "cell_type": "code",
   "execution_count": 2,
   "metadata": {
    "collapsed": false
   },
   "outputs": [
    {
     "name": "stdout",
     "output_type": "stream",
     "text": [
      "1.2440019667671095e-06\n"
     ]
    }
   ],
   "source": [
    "start_time = timeit.default_timer()\n",
    "print(start_time)"
   ]
  },
  {
   "cell_type": "code",
   "execution_count": 50,
   "metadata": {
    "collapsed": false
   },
   "outputs": [
    {
     "name": "stdout",
     "output_type": "stream",
     "text": [
      "               author  start_year  end_year  pub_count  career_length\n",
      "0          a min tjoa        1979      2015        193             36\n",
      "1    a-imam al-sammak        1992      2008          6             16\n",
      "2          a-xing zhu        1998      2015         16             17\n",
      "3  a. a. (louis) beex        1980      2016         34             36\n",
      "4     a. a. a. nasser        1993      2014          3             21\n",
      "110468\n",
      "[1970 1971 1972 1973 1974 1975 1976 1977 1978 1979 1980 1981 1982 1983 1984\n",
      " 1985 1986 1987 1988 1989 1990 1991 1992 1993 1994 1995 1996 1997 1998 1999\n",
      " 2000 2001 2002 2003 2004 2005 2006 2007 2008 2009 2010 2011 2012 2013 2014\n",
      " 2015 2016]\n"
     ]
    }
   ],
   "source": [
    "max_years = 15\n",
    "#authorStartEndCareerData = pd.read_csv('data/authors-scientific-start-end-year-publish-count.csv')\n",
    "authorStartEndCareerData = pd.read_csv('data/authors-scientific-atleast-15-year.csv')\n",
    "#authorStartEndCareerData = pd.read_csv('data/authors-scientific-atleast-20-year-20-papers.csv')\n",
    "print(authorStartEndCareerData.head())\n",
    "\n",
    "selectedAuthor = authorStartEndCareerData[\"author\"].unique()\n",
    "print(len(selectedAuthor))\n",
    "\n",
    "authorPublicationsData = pd.read_csv('data/author_publications_1970_2016_asiansAsNone.txt')\n",
    "authorPublicationsData = authorPublicationsData[authorPublicationsData[\"year\"] > 1900]\n",
    "authorPublicationsData.head()\n",
    "#get the year list - as it helps to enumerate and find gini co-efficient for each year (irrespective of the dataset)\n",
    "years = np.sort(authorPublicationsData['year'].unique())\n",
    "print(years)"
   ]
  },
  {
   "cell_type": "code",
   "execution_count": 4,
   "metadata": {
    "collapsed": false
   },
   "outputs": [
    {
     "name": "stdout",
     "output_type": "stream",
     "text": [
      "                    author  start_year\n",
      "0         a-imam al-sammak        1992\n",
      "1               a-xing zhu        1998\n",
      "2          a. a. a. nasser        1993\n",
      "3         a. a. abouelsoud        1996\n",
      "4              a. a. diwan        1991\n",
      "5               a. a. khan        1994\n",
      "6               a. a. naik        1992\n",
      "7          a. a. polezhaev        1992\n",
      "8                 a. abbas        1992\n",
      "9             a. abdeldaim        1999\n",
      "10                  a. abe        2000\n",
      "11             a. aggarwal        1992\n",
      "12               a. aggoun        1995\n",
      "13              a. aguilar        1999\n",
      "14                a. ahmed        2000\n",
      "15                  a. ali        1999\n",
      "16                 a. amin        1993\n",
      "17           a. ananda rao        2000\n",
      "18       a. antonio arroyo        1991\n",
      "19             a. antoniou        1993\n",
      "20               a. asenov        1995\n",
      "21         a. aydin alatan        1994\n",
      "22         a. b. pfahlberg        1994\n",
      "23             a. banerjee        2000\n",
      "24             a. barreiro        1997\n",
      "25              a. bartels        1998\n",
      "27               a. bekker        1991\n",
      "28            a. ben hamza        2001\n",
      "29   a. benjamin premkumar        2000\n",
      "30        a. bhattacharyya        1997\n",
      "31               a. biswas        1997\n",
      "32                a. bonet        1997\n",
      "33                a. boyer        1991\n",
      "34                a. bueno        1999\n",
      "35           a. c. cem say        1993\n",
      "36               a. c. kot        1996\n",
      "37           a. c. leonard        1993\n",
      "38             a. campbell        1991\n",
      "44         a. chockalingam        1998\n",
      "45                 a. choi        1994\n",
      "47                a. craig        1998\n",
      "51           a. daneshkhah        1995\n",
      "53         a. david wunsch        1999\n",
      "54                   a. de        1995\n",
      "55              a. de luca        1997\n",
      "57              a. delgado        1996\n",
      "59            a. deshpande        1995\n",
      "67               a. farina        1996\n",
      "80          a. galip ulsoy        1996\n",
      "88            a. goldstein        1998\n",
      "98        a. hamid aghvami        1994\n",
      "138      a. krishnamoorthy        2001\n",
      "209       a. s. a. du toit        2001\n",
      "240           a. sri ranga        2001\n",
      "288     aaron c. courville        2001\n"
     ]
    }
   ],
   "source": [
    "#groupByStartYearScientificCareerData = authorStartEndCareerData[['author','start_year']].groupby(['start_year'])\n",
    "#print(groupByStartYearScientificCareerData.head())\n",
    "#groupByStartYearScientificCareerData.groups"
   ]
  },
  {
   "cell_type": "code",
   "execution_count": 10,
   "metadata": {
    "collapsed": false
   },
   "outputs": [
    {
     "data": {
      "text/html": [
       "<div>\n",
       "<table border=\"1\" class=\"dataframe\">\n",
       "  <thead>\n",
       "    <tr style=\"text-align: right;\">\n",
       "      <th></th>\n",
       "      <th>author</th>\n",
       "      <th>year</th>\n",
       "      <th>pub_id</th>\n",
       "    </tr>\n",
       "  </thead>\n",
       "  <tbody>\n",
       "    <tr>\n",
       "      <th>0</th>\n",
       "      <td>kim l. blackwell</td>\n",
       "      <td>2014</td>\n",
       "      <td>55503da645ce0a409eb273e8</td>\n",
       "    </tr>\n",
       "    <tr>\n",
       "      <th>1</th>\n",
       "      <td>nima mesgarani</td>\n",
       "      <td>2014</td>\n",
       "      <td>55503da645ce0a409eb273e9</td>\n",
       "    </tr>\n",
       "    <tr>\n",
       "      <th>2</th>\n",
       "      <td>james j. abbas</td>\n",
       "      <td>2014</td>\n",
       "      <td>55503da645ce0a409eb273ea</td>\n",
       "    </tr>\n",
       "    <tr>\n",
       "      <th>3</th>\n",
       "      <td>eberhart zrenner</td>\n",
       "      <td>2014</td>\n",
       "      <td>55503da645ce0a409eb273ec</td>\n",
       "    </tr>\n",
       "    <tr>\n",
       "      <th>4</th>\n",
       "      <td>jonathan rubin</td>\n",
       "      <td>2014</td>\n",
       "      <td>55503da645ce0a409eb273e0</td>\n",
       "    </tr>\n",
       "  </tbody>\n",
       "</table>\n",
       "</div>"
      ],
      "text/plain": [
       "             author  year                    pub_id\n",
       "0  kim l. blackwell  2014  55503da645ce0a409eb273e8\n",
       "1    nima mesgarani  2014  55503da645ce0a409eb273e9\n",
       "2    james j. abbas  2014  55503da645ce0a409eb273ea\n",
       "3  eberhart zrenner  2014  55503da645ce0a409eb273ec\n",
       "4    jonathan rubin  2014  55503da645ce0a409eb273e0"
      ]
     },
     "execution_count": 10,
     "metadata": {},
     "output_type": "execute_result"
    }
   ],
   "source": []
  },
  {
   "cell_type": "code",
   "execution_count": 6,
   "metadata": {
    "collapsed": false
   },
   "outputs": [
    {
     "name": "stdout",
     "output_type": "stream",
     "text": [
      "[1970 1971 1972 1973 1974 1975 1976 1977 1978 1979 1980 1981 1982 1983 1984\n",
      " 1985 1986 1987 1988 1989 1990 1991 1992 1993 1994 1995 1996 1997 1998 1999\n",
      " 2000 2001 2002 2003 2004 2005 2006 2007 2008 2009 2010 2011 2012 2013 2014\n",
      " 2015 2016]\n"
     ]
    }
   ],
   "source": []
  },
  {
   "cell_type": "code",
   "execution_count": 16,
   "metadata": {
    "collapsed": false
   },
   "outputs": [
    {
     "name": "stdout",
     "output_type": "stream",
     "text": [
      "   year         author  pub_id\n",
      "1  1970    a. a. afifi       1\n",
      "2  1970    a. a. bährs       1\n",
      "3  1970     a. armenti       1\n",
      "4  1970  a. b. slomson       1\n",
      "5  1970    a. brindley       1\n",
      "         year      author  pub_id\n",
      "33441    1979  a min tjoa       1\n",
      "85310    1985  a min tjoa       1\n",
      "97532    1986  a min tjoa       1\n",
      "174684   1990  a min tjoa       1\n",
      "202846   1991  a min tjoa       3\n",
      "234844   1992  a min tjoa       3\n",
      "272008   1993  a min tjoa       6\n",
      "317067   1994  a min tjoa       2\n",
      "368211   1995  a min tjoa       3\n",
      "422875   1996  a min tjoa       5\n",
      "481285   1997  a min tjoa       2\n",
      "547479   1998  a min tjoa       3\n",
      "704037   2000  a min tjoa       8\n",
      "797456   2001  a min tjoa       5\n",
      "901042   2002  a min tjoa       3\n",
      "1016522  2003  a min tjoa      11\n",
      "1155822  2004  a min tjoa       8\n",
      "1320620  2005  a min tjoa      13\n",
      "1512469  2006  a min tjoa      23\n",
      "1725678  2007  a min tjoa      13\n",
      "1962107  2008  a min tjoa       8\n",
      "2219975  2009  a min tjoa       8\n",
      "2500826  2010  a min tjoa      16\n",
      "2799088  2011  a min tjoa      11\n",
      "3123785  2012  a min tjoa       7\n",
      "3466910  2013  a min tjoa       7\n",
      "3824301  2014  a min tjoa      17\n",
      "4194352  2015  a min tjoa       4\n",
      "             author  pub_id\n",
      "year                       \n",
      "1970    a. a. afifi       1\n",
      "1970    a. a. bährs       1\n",
      "1970     a. armenti       1\n",
      "1970  a. b. slomson       1\n",
      "1970    a. brindley       1\n",
      "             author  pub_id  cum_num_pub\n",
      "year                                    \n",
      "1970    a. a. afifi       1            1\n",
      "1970    a. a. bährs       1            1\n",
      "1970     a. armenti       1            1\n",
      "1970  a. b. slomson       1            1\n",
      "1970    a. brindley       1            1\n",
      "          author  pub_id  cum_num_pub\n",
      "year                                 \n",
      "1979  a min tjoa       1            1\n",
      "1985  a min tjoa       1            2\n",
      "1986  a min tjoa       1            3\n",
      "1990  a min tjoa       1            4\n",
      "1991  a min tjoa       3            7\n",
      "1992  a min tjoa       3           10\n",
      "1993  a min tjoa       6           16\n",
      "1994  a min tjoa       2           18\n",
      "1995  a min tjoa       3           21\n",
      "1996  a min tjoa       5           26\n",
      "1997  a min tjoa       2           28\n",
      "1998  a min tjoa       3           31\n",
      "2000  a min tjoa       8           39\n",
      "2001  a min tjoa       5           44\n",
      "2002  a min tjoa       3           47\n",
      "2003  a min tjoa      11           58\n",
      "2004  a min tjoa       8           66\n",
      "2005  a min tjoa      13           79\n",
      "2006  a min tjoa      23          102\n",
      "2007  a min tjoa      13          115\n",
      "2008  a min tjoa       8          123\n",
      "2009  a min tjoa       8          131\n",
      "2010  a min tjoa      16          147\n",
      "2011  a min tjoa      11          158\n",
      "2012  a min tjoa       7          165\n",
      "2013  a min tjoa       7          172\n",
      "2014  a min tjoa      17          189\n",
      "2015  a min tjoa       4          193\n"
     ]
    }
   ],
   "source": [
    "#Group by both year and author - multi index and hierarchial indexing\n",
    "groupByAuthorYearData = authorPublicationsData.groupby(['year','author']).count().reset_index()\n",
    "#remove wrong data\n",
    "groupByAuthorYearData = groupByAuthorYearData[groupByAuthorYearData[\"year\"] > 1900]\n",
    "print(groupByAuthorYearData.head())\n",
    "\n",
    "\n",
    "print(groupByAuthorYearData[groupByAuthorYearData.author==\"a min tjoa\"])\n",
    "\n",
    "# cumulative number of publications per author\n",
    "groupByAuthorYearData = groupByAuthorYearData.set_index('year').sort_index()\n",
    "print(groupByAuthorYearData.head())\n",
    "\n",
    "groupByAuthorYearData[\"cum_num_pub\"] = groupByAuthorYearData.groupby(['author'])['pub_id'].transform(pd.Series.cumsum)\n",
    "\n",
    "print(groupByAuthorYearData.head())\n",
    "print(groupByAuthorYearData[groupByAuthorYearData.author==\"a min tjoa\"])\n",
    "\n",
    "\n",
    "groupByAuthorYearData = groupByAuthorYearData.reset_index()\n",
    "print(groupByAuthorYearData.head())\n"
   ]
  },
  {
   "cell_type": "code",
   "execution_count": 23,
   "metadata": {
    "collapsed": true
   },
   "outputs": [],
   "source": [
    "#the following snippet is taken from the github project and the license is creative commons\n",
    "#https://github.com/oliviaguest/gini\n",
    "\n",
    "def gini(array):\n",
    "    \"\"\"Calculate the Gini coefficient of a numpy array.\"\"\"\n",
    "    # based on bottom eq:\n",
    "    # http://www.statsdirect.com/help/generatedimages/equations/equation154.svg\n",
    "    # from:\n",
    "    # http://www.statsdirect.com/help/default.htm#nonparametric_methods/gini.htm\n",
    "    # All values are treated equally, arrays must be 1d:\n",
    "    array = array.flatten()\n",
    "    if np.min(array) < 0:\n",
    "        # Values cannot be negative:\n",
    "        array -= np.min(array)\n",
    "    # Values cannot be 0:\n",
    "    array += 0.0000001\n",
    "    # Values must be sorted:\n",
    "    array = np.sort(array)\n",
    "    # Index per array element:\n",
    "    index = np.arange(1,array.shape[0]+1)\n",
    "    # Number of array elements:\n",
    "    n = array.shape[0]\n",
    "    # Gini coefficient:\n",
    "    return ((np.sum((2 * index - n  - 1) * array)) / (n * np.sum(array)))"
   ]
  },
  {
   "cell_type": "markdown",
   "metadata": {},
   "source": [
    "### To check whether GINI calculation works correctly or not"
   ]
  },
  {
   "cell_type": "code",
   "execution_count": 19,
   "metadata": {
    "collapsed": false
   },
   "outputs": [
    {
     "ename": "TypeError",
     "evalue": "'function' object is not subscriptable",
     "output_type": "error",
     "traceback": [
      "\u001b[1;31m\u001b[0m",
      "\u001b[1;31mTypeError\u001b[0mTraceback (most recent call last)",
      "\u001b[1;32m<ipython-input-19-59f82435af71>\u001b[0m in \u001b[0;36m<module>\u001b[1;34m()\u001b[0m\n\u001b[1;32m----> 1\u001b[1;33m \u001b[0mprint\u001b[0m\u001b[1;33m(\u001b[0m\u001b[0mgini\u001b[0m\u001b[1;33m[\u001b[0m\u001b[1;36m1\u001b[0m\u001b[1;33m,\u001b[0m \u001b[1;36m1\u001b[0m\u001b[1;33m,\u001b[0m \u001b[1;36m1\u001b[0m\u001b[1;33m,\u001b[0m \u001b[1;36m1\u001b[0m\u001b[1;33m,\u001b[0m \u001b[1;36m1\u001b[0m\u001b[1;33m,\u001b[0m \u001b[1;36m1\u001b[0m\u001b[1;33m,\u001b[0m \u001b[1;36m1\u001b[0m\u001b[1;33m,\u001b[0m \u001b[1;36m1\u001b[0m\u001b[1;33m,\u001b[0m \u001b[1;36m1\u001b[0m\u001b[1;33m,\u001b[0m \u001b[1;36m1\u001b[0m\u001b[1;33m]\u001b[0m\u001b[1;33m)\u001b[0m\u001b[1;33m\u001b[0m\u001b[0m\n\u001b[0m\u001b[0;32m      2\u001b[0m \u001b[1;31m#print(gini(range(10)))\u001b[0m\u001b[1;33m\u001b[0m\u001b[1;33m\u001b[0m\u001b[0m\n",
      "\u001b[1;31mTypeError\u001b[0m: 'function' object is not subscriptable"
     ]
    }
   ],
   "source": [
    "#print(gini[1, 1, 1, 1, 1, 1, 1, 1, 1, 1])\n",
    "#print(gini(range(10)))"
   ]
  },
  {
   "cell_type": "code",
   "execution_count": 89,
   "metadata": {
    "collapsed": false
   },
   "outputs": [
    {
     "name": "stdout",
     "output_type": "stream",
     "text": [
      "               author  start_year  end_year  pub_count  career_length\n",
      "0          a min tjoa        1979      2015        193             36\n",
      "1    a-imam al-sammak        1992      2008          6             16\n",
      "2          a-xing zhu        1998      2015         16             17\n",
      "3  a. a. (louis) beex        1980      2016         34             36\n",
      "4     a. a. a. nasser        1993      2014          3             21\n"
     ]
    },
    {
     "data": {
      "image/png": "[encoded data removed]",
      "text/plain": [
       "<matplotlib.figure.Figure at 0x2fce95c0>"
      ]
     },
     "metadata": {},
     "output_type": "display_data"
    }
   ],
   "source": [
    "print(authorStartEndCareerData.head())\n",
    "gini_per_cohort = pd.DataFrame(index=years)\n",
    "non_publishers_track = pd.DataFrame(index=years)\n",
    "\n",
    "\n",
    "fig2, ax2 = plt.subplots()\n",
    "\n",
    "max_years = 15\n",
    "# limit plot to the N years during which we follow a cohort\n",
    "cohort_duration = np.arange(max_years)\n",
    "    \n",
    "\n",
    "\n",
    "for year in years:\n",
    "    #we cannot follow the cohort for max years\n",
    "    if year > (2016 - max_years):\n",
    "        break\n",
    "        \n",
    "        \n",
    "    #print(\"cohort: \"+str(year))\n",
    "    cohort = authorStartEndCareerData[authorStartEndCareerData[\"start_year\"]==year]\n",
    "    cohort_authors = cohort[\"author\"].values\n",
    "  \n",
    "    gini_over_years = pd.Series(data=0, index=years)\n",
    "    non_publishers_over_years = pd.Series(data=0, index=years)\n",
    "    \n",
    "    # extract num publications for the cohort in all future years\n",
    "    for y in range(year, max(years)+1):\n",
    "        #print(\"following years: \"+str(y))\n",
    "      \n",
    "        # get all the authors data for each year and filter based on the authors that we are interested in\n",
    "        temp = groupByAuthorYearData[groupByAuthorYearData[\"year\"]==y]\n",
    "        temp = temp[temp[\"author\"].isin(cohort_authors)]\n",
    "        \n",
    "        # gini per year based on cumulative num of publications of all authors in this year\n",
    "        gini_over_years.loc[y] = gini(temp['cum_num_pub'].astype(\"float\").values)\n",
    "       \n",
    "        \n",
    "    \n",
    "    gini_per_cohort[year] = gini_over_years\n",
    "   \n",
    "    gini_years_df = pd.DataFrame(gini_over_years.reset_index())\n",
    "    gini_years_df.columns = [\"year\", \"gini\"]\n",
    "    gini_years = gini_years_df[\"year\"].values\n",
    "    gini_coefs= gini_years_df[\"gini\"].values\n",
    "    \n",
    "    # Make one Bar Chart per COHORT\n",
    "    #fig, ax = plt.subplots()\n",
    "    #width = 0.3       # the width of the bars\n",
    "    #Y = len(gini_years)\n",
    "    #ind = np.arange(Y)\n",
    "    #ax.set_title('Inequality for cohort: '+str(year))\n",
    "    #rects = ax.bar(ind, gini_coefs, width, color='b')\n",
    "    #ax.set_xticks(ind + width / 2)\n",
    "    #ax.set_xticklabels(gini_years, rotation=90)\n",
    "    #ax.set_ylabel('Gini')\n",
    "    #plt.show()\n",
    "    \n",
    "    selected_gini_df = gini_years_df[(gini_years_df[\"year\"] >= year) &  (gini_years_df[\"year\"] < (year+max_years))]\n",
    "    ax2.plot(cohort_duration, selected_gini_df[\"gini\"])\n",
    "   \n",
    "\n",
    "\n",
    "\n",
    "# make line plot: one line for each cohort\n",
    "# x-axis shows the N years which we follow the cohort\n",
    "ax2.set_ylabel('Gini')\n",
    "ax2.set_title('Inequality of al cohorts over '+str(max_years)+' years')\n",
    "ax2.set_xticklabels(cohort_duration, rotation=90)\n",
    "#ax2.legend(years)    \n",
    "plt.show()\n",
    "\n",
    "   \n"
   ]
  },
  {
   "cell_type": "code",
   "execution_count": 16,
   "metadata": {
    "collapsed": false
   },
   "outputs": [
    {
     "name": "stdout",
     "output_type": "stream",
     "text": [
      "120.79889899605931\n",
      "Time taken -  120.79889775205734\n"
     ]
    }
   ],
   "source": [
    "end_time = timeit.default_timer()\n",
    "print(end_time)\n",
    "print('Time taken - ',end_time-start_time)"
   ]
  },
  {
   "cell_type": "code",
   "execution_count": null,
   "metadata": {
    "collapsed": true
   },
   "outputs": [],
   "source": []
  }
 ],
 "metadata": {
  "kernelspec": {
   "display_name": "Python [Root]",
   "language": "python",
   "name": "Python [Root]"
  },
  "language_info": {
   "codemirror_mode": {
    "name": "ipython",
    "version": 3
   },
   "file_extension": ".py",
   "mimetype": "text/x-python",
   "name": "python",
   "nbconvert_exporter": "python",
   "pygments_lexer": "ipython3",
   "version": "3.5.1"
  }
 },
 "nbformat": 4,
 "nbformat_minor": 2
}
