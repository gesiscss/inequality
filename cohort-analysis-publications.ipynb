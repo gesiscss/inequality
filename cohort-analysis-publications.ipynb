{
 "cells": [
  {
   "cell_type": "code",
   "execution_count": null,
   "metadata": {},
   "outputs": [],
   "source": [
    "import pandas as pd\n",
    "import numpy as np\n",
    "import matplotlib.pyplot as plt\n",
    "%matplotlib inline\n",
    "import timeit\n",
    "# import seaborn as sns\n",
    "\n",
    "#these are user defined modules\n",
    "import plot\n",
    "import calculate\n",
    "\n",
    "\n",
    "# CAREER_LENGTH = 15 means the authors who have atleast 15 years of experience\n",
    "CAREER_LENGTH_LIST = [0,5,10,15,20,25]\n",
    "CAREER_LENGTH = 15\n",
    "END_YEAR = 2015\n"
   ]
  },
  {
   "cell_type": "markdown",
   "metadata": {},
   "source": [
    "### Cohort Analysis\n",
    "\n",
    "For each (filtered) cohort analyze how the distribution of publications and citations changes in the cohort over time.\n",
    "At the beginning all scientists should be equal (they have zero publications and citations). Over time some scientists become more productive and/or successful than others which leads to an increase in the Gini coefficient."
   ]
  },
  {
   "cell_type": "markdown",
   "metadata": {
    "heading_collapsed": true
   },
   "source": [
    "### Read Gender details"
   ]
  },
  {
   "cell_type": "code",
   "execution_count": null,
   "metadata": {
    "hidden": true
   },
   "outputs": [],
   "source": [
    "# read gender details - the column names are name, gender - change it to author, gender\n",
    "gender = pd.read_csv('./data/name_gender_2017_asiansAsNone.txt')\n",
    "gender.rename(columns={'name':'author'}, inplace=True)"
   ]
  },
  {
   "cell_type": "code",
   "execution_count": null,
   "metadata": {
    "hidden": true
   },
   "outputs": [],
   "source": [
    "print(gender.shape)\n",
    "gender = gender.drop_duplicates()\n",
    "print(gender.shape)\n",
    "# Gender file is full of duplicates. As we use the author's name as ID, duplicate entries provide no extra info"
   ]
  },
  {
   "cell_type": "code",
   "execution_count": null,
   "metadata": {
    "hidden": true
   },
   "outputs": [],
   "source": [
    "gender_stats = gender.groupby('gender').size().to_frame()\n",
    "gender_stats.columns = ['count']\n",
    "gender_total = gender_stats['count'].sum()\n",
    "gender_stats['percentage'] = gender_stats['count'].apply(lambda x: x/gender_total*100)\n",
    "print(\"Number of unique authors: \", gender['author'].nunique())\n",
    "gender_stats.head()"
   ]
  },
  {
   "cell_type": "markdown",
   "metadata": {
    "heading_collapsed": true
   },
   "source": [
    "### Read authors with start and end year details"
   ]
  },
  {
   "cell_type": "code",
   "execution_count": null,
   "metadata": {
    "hidden": true
   },
   "outputs": [],
   "source": [
    "# Different files exists depending upon their career length\n",
    "\n",
    "#authorStartEndCareerData = pd.read_csv('./data/authors-scientific-atleast-'+str(CAREER_LENGTH)+'-year.csv')\n",
    "authorStartEndCareerData = pd.read_csv('./data-new/authors-scientific-atleast-'+str(CAREER_LENGTH)+'-year.csv')\n",
    "\n",
    "\n",
    "print('authorStartEndCareerData before filtering - ',authorStartEndCareerData.shape[0])\n",
    "authorStartEndCareerData = authorStartEndCareerData[authorStartEndCareerData[\"start_year\"] >= 1970]\n",
    "print('authorStartEndCareerData after filtering - ',authorStartEndCareerData.shape[0])\n",
    "\n",
    "print(\"author unique names  - \", authorStartEndCareerData['author'].nunique())\n",
    "authorStartEndCareerData.head()"
   ]
  },
  {
   "cell_type": "markdown",
   "metadata": {
    "heading_collapsed": true
   },
   "source": [
    "### Merge credible authors and their gender information"
   ]
  },
  {
   "cell_type": "code",
   "execution_count": null,
   "metadata": {
    "hidden": true
   },
   "outputs": [],
   "source": [
    "authorStartEndCareerData = pd.merge(authorStartEndCareerData, gender, how=\"left\", on=[\"author\"])\n",
    "# for authors whose gender not found, replace it with none\n",
    "authorStartEndCareerData['gender'] = authorStartEndCareerData['gender'].fillna('none')\n",
    "\n",
    "# print(\"authorStartEndCareerData with duplicates: \", authorStartEndCareerData.shape[0])\n",
    "# authorStartEndCareerData = authorStartEndCareerData.drop_duplicates()\n",
    "print(\"authorStartEndCareerData no duplicates: \", authorStartEndCareerData.shape[0])\n",
    "\n",
    "authorStartEndCareerData.head()"
   ]
  },
  {
   "cell_type": "code",
   "execution_count": null,
   "metadata": {
    "code_folding": [
     0
    ],
    "hidden": true
   },
   "outputs": [],
   "source": [
    "#axes = authorStartEndCareerData.boxplot(column='pub_count', by='gender', return_type='axes')\n",
    "#for ax in axes.values():\n",
    "#    ax.set_ylim(0, 200)\n",
    "#plt.show()"
   ]
  },
  {
   "cell_type": "markdown",
   "metadata": {
    "heading_collapsed": true
   },
   "source": [
    "### Read Publication data"
   ]
  },
  {
   "cell_type": "code",
   "execution_count": null,
   "metadata": {
    "hidden": true
   },
   "outputs": [],
   "source": [
    "authorPublicationData = pd.read_csv('./data/author_publications_2017_asiansAsNone.txt')\n",
    "print('authorPublicationData before filtering - ',authorPublicationData.shape[0])\n",
    "authorPublicationData = authorPublicationData[authorPublicationData[\"year\"] >= 1970]\n",
    "print('authorPublicationData after filtering - ',authorPublicationData.shape[0])\n",
    "\n",
    "authorPublicationData = authorPublicationData.groupby(['year','author']).count().reset_index()\n",
    "authorPublicationData.rename(columns={'pub_id':'num_pub'}, inplace=True)\n",
    "\n",
    "print(np.unique(authorStartEndCareerData[\"start_year\"]))\n",
    "\n",
    "authorPublicationData.head()"
   ]
  },
  {
   "cell_type": "markdown",
   "metadata": {
    "heading_collapsed": true
   },
   "source": [
    "### Merge Publications with credible authors and their gender information"
   ]
  },
  {
   "cell_type": "code",
   "execution_count": null,
   "metadata": {
    "hidden": true
   },
   "outputs": [],
   "source": [
    "authorPublicationData = pd.merge(authorPublicationData, authorStartEndCareerData, how=\"left\", on=[\"author\"])\n",
    "\n",
    "\n",
    "print(\"authorPublicationData before filtering: \", authorPublicationData.shape[0])\n",
    "authorPublicationData = authorPublicationData.dropna(how='any')\n",
    "print(\"authorPublicationData after filtering: \", authorPublicationData.shape[0])\n",
    "\n",
    "print(\"authorPublicationData with duplicates: \", authorPublicationData.shape[0])\n",
    "authorPublicationData = authorPublicationData.drop_duplicates()\n",
    "print(\"authorPublicationData no duplicates: \", authorPublicationData.shape[0])\n",
    "\n",
    "#print(authorPublicationData.head(n=2))\n",
    "print(authorPublicationData['author'].nunique())\n",
    "#print(authorPublicationData.shape[0])\n",
    "\n",
    "\n",
    "#print(authorPublicationData[authorPublicationData.author==\"a min tjoa\"])\n",
    "authorPublicationData.head()"
   ]
  },
  {
   "cell_type": "code",
   "execution_count": null,
   "metadata": {
    "hidden": true
   },
   "outputs": [],
   "source": [
    "pl = authorPublicationData.boxplot(column='num_pub', by='gender', showfliers=False)\n",
    "plt.title(\"Number of publications per year\")\n",
    "plt.suptitle(\"\")\n",
    "pl.set_xlabel('gender')\n",
    "pl.set_ylabel('num publications')\n",
    "pl.set_ylim([-1,10])\n",
    "plt.show()"
   ]
  },
  {
   "cell_type": "code",
   "execution_count": null,
   "metadata": {
    "hidden": true
   },
   "outputs": [],
   "source": [
    "ax = authorStartEndCareerData.boxplot(column='total_num_pub', by='gender', showfliers=False)\n",
    "plt.title(\"Number of publications - total\")\n",
    "plt.suptitle(\"\")\n",
    "ax.set_xlabel('gender')\n",
    "ax.set_ylabel('num publications')\n",
    "# fig.set_tight_layout(False)\n",
    "plt.show()"
   ]
  },
  {
   "cell_type": "markdown",
   "metadata": {
    "heading_collapsed": true
   },
   "source": [
    "### Test Data"
   ]
  },
  {
   "cell_type": "code",
   "execution_count": null,
   "metadata": {
    "hidden": true
   },
   "outputs": [],
   "source": [
    "print(authorPublicationData.head(n=1))\n",
    "\n",
    "groupByYearData = authorPublicationData.copy(deep=True)\n",
    "print(groupByYearData[groupByYearData['author'] == 'donatella sciuto'].head(3))\n",
    "print(np.unique(groupByYearData[\"year\"]))\n",
    "\n",
    "groupByYearData = calculate.groupDataAndCalculateCumulativeValues(groupByYearData, 1, 'num_pub')\n",
    "print(groupByYearData[groupByYearData['author'] == 'donatella sciuto'].head(3))\n",
    "print(np.unique(groupByYearData[\"year\"]))"
   ]
  },
  {
   "cell_type": "markdown",
   "metadata": {},
   "source": [
    "# Cohort Analysis on all authors for 15 years"
   ]
  },
  {
   "cell_type": "code",
   "execution_count": null,
   "metadata": {
    "hidden": true
   },
   "outputs": [],
   "source": [
    "years = groupByYearData['year'].unique()\n",
    "years = sorted(years)\n",
    "print(years)\n"
   ]
  },
  {
   "cell_type": "markdown",
   "metadata": {},
   "source": [
    "### Select Cohorts based on Start Years"
   ]
  },
  {
   "cell_type": "code",
   "execution_count": null,
   "metadata": {
    "hidden": true
   },
   "outputs": [],
   "source": [
    "cohort_start_years = [y for y in years if y < (END_YEAR - CAREER_LENGTH)]\n",
    "#cohort_start_years = [1970, 1974, 1984, 1994, 1998]\n"
   ]
  },
  {
   "cell_type": "markdown",
   "metadata": {},
   "source": [
    "\n",
    "### Cohort Analysis (Num Pub)"
   ]
  },
  {
   "cell_type": "code",
   "execution_count": null,
   "metadata": {
    "scrolled": false
   },
   "outputs": [],
   "source": [
    "\n",
    "from importlib import reload\n",
    "reload(plot)\n",
    "\n",
    "plot.run_cohort_analysis(groupByYearData, cohort_start_years, CAREER_LENGTH, \"num_pub\", \"Number of Publications\")  \n"
   ]
  },
  {
   "cell_type": "markdown",
   "metadata": {
    "heading_collapsed": true
   },
   "source": [
    "### Cohort Analysis (Cum Num Pub)"
   ]
  },
  {
   "cell_type": "code",
   "execution_count": null,
   "metadata": {
    "collapsed": false
   },
   "outputs": [],
   "source": [
    "plot.run_cohort_analysis(groupByYearData, cohort_start_years, CAREER_LENGTH, \"cum_num_pub\", \"Cumulative Number of Publications\")  \n"
   ]
  },
  {
   "cell_type": "markdown",
   "metadata": {},
   "source": [
    "### Cumulative Distribution of selected Cohorts for selected Career Ages\n",
    "\n",
    "how do the distributions differ? "
   ]
  },
  {
   "cell_type": "code",
   "execution_count": null,
   "metadata": {
    "collapsed": false
   },
   "outputs": [],
   "source": [
    "cohort_start_years = [1970, 1974, 1984, 1994, 1998]\n",
    "\n",
    "cohort_careerage_df = plot.get_cohort_careerage_df(groupByYearData, cohort_start_years, CAREER_LENGTH, 'num_pub')\n",
    "plot.plot_cumulative_dist(cohort_careerage_df, 1, 'num_pub', 'Number of Publications')\n",
    "plot.plot_cumulative_dist(cohort_careerage_df, 5, 'num_pub', 'Number of Publications')\n",
    "plot.plot_cumulative_dist(cohort_careerage_df, 10, 'num_pub', 'Number of Publications')\n",
    "plot.plot_cumulative_dist(cohort_careerage_df, 15, 'num_pub', 'Number of Publications')\n",
    "\n"
   ]
  },
  {
   "cell_type": "markdown",
   "metadata": {},
   "source": [
    "### Regression Analysis of mean productivity on Inequality for all authors for 15 years\n",
    "\n",
    "- There is no relation at all - Reg. coefficient is 0"
   ]
  },
  {
   "cell_type": "code",
   "execution_count": null,
   "metadata": {
    "hidden": true
   },
   "outputs": [],
   "source": [
    "#just for debugging\n",
    "#reload(plot)\n",
    "#reload(calculate)\n",
    "#data = plot.plot_regress_performance_on_inequality(groupByYearData, 'num_pub', years, CAREER_LENGTH)\n"
   ]
  },
  {
   "cell_type": "code",
   "execution_count": null,
   "metadata": {
    "hidden": true
   },
   "outputs": [],
   "source": [
    "#just for debugging\n",
    "#reload(plot)\n",
    "#reload(calculate)\n",
    "#data = plot.plot_regress_performance_on_inequality(groupByYearData, 'cum_num_pub', years, CAREER_LENGTH)"
   ]
  },
  {
   "cell_type": "markdown",
   "metadata": {
    "collapsed": true,
    "heading_collapsed": true
   },
   "source": [
    "### Cohort Analysis, Regression analysis on authors grouped by 2 years for 15 years\n",
    "\n",
    "Regression???\n",
    "outcome variable: inequality of each cohort an each time interval (2 years)\n",
    "Indepent variable: number of publications that the cohort produced during the time interval\n",
    "\n",
    "Question: are more inequal groups, more productive?  "
   ]
  },
  {
   "cell_type": "code",
   "execution_count": null,
   "metadata": {
    "hidden": true
   },
   "outputs": [],
   "source": [
    "#groupByYearData = authorPublicationData.copy(deep=True)\n",
    "#print(groupByYearData[groupByYearData['author'] == 'donatella sciuto'].head(10))\n",
    "#groupByYearData = calculate.groupDataAndCalculateCumulativeValues(groupByYearData, 2, 'num_pub')\n",
    "#print(groupByYearData[groupByYearData['author'] == 'donatella sciuto'].head(10))\n",
    "\n",
    "#years = groupByYearData['year'].unique()\n",
    "#years = sorted(years)\n",
    "#print(years)\n",
    "\n",
    "#plot.plot_cohort_analysis_on(groupByYearData, 'num_pub', cohort_start_years, CAREER_LENGTH, 'Publications Count')\n",
    "#plot.plot_cohort_analysis_on(groupByYearData, 'cum_num_pub', cohort_start_years, CAREER_LENGTH, 'Cumulative Publications Count')\n",
    "#data1 = plot.plot_regress_performance_on_inequality(groupByYearData, 'num_pub', years, CAREER_LENGTH)\n",
    "#data2 = plot.plot_regress_performance_on_inequality(groupByYearData, 'cum_num_pub', years, CAREER_LENGTH)"
   ]
  },
  {
   "cell_type": "markdown",
   "metadata": {
    "heading_collapsed": true
   },
   "source": [
    "### Cohort Analysis, Regression analysis on authors grouped by 3 years for 15 years"
   ]
  },
  {
   "cell_type": "code",
   "execution_count": null,
   "metadata": {
    "hidden": true
   },
   "outputs": [],
   "source": [
    "#groupByYearData = authorPublicationData.copy(deep=True)\n",
    "#print(groupByYearData[groupByYearData['author'] == 'donatella sciuto'].head(10))\n",
    "#groupByYearData = calculate.groupDataAndCalculateCumulativeValues(groupByYearData, 3, 'num_pub')\n",
    "#print(groupByYearData[groupByYearData['author'] == 'donatella sciuto'].head(10))\n",
    "\n",
    "#years = groupByYearData['year'].unique()\n",
    "#years = sorted(years)\n",
    "#print(years)\n",
    "\n",
    "#plot.plot_cohort_analysis_on(groupByYearData, 'num_pub', cohort_start_years, CAREER_LENGTH, 'Publications Count')\n",
    "#plot.plot_cohort_analysis_on(groupByYearData, 'cum_num_pub', cohort_start_years, CAREER_LENGTH, 'Cumulative Publications Count')\n",
    "#data1 = plot.plot_regress_performance_on_inequality(groupByYearData, 'num_pub', years, CAREER_LENGTH)\n",
    "#data2 = plot.plot_regress_performance_on_inequality(groupByYearData, 'cum_num_pub', years, CAREER_LENGTH)"
   ]
  },
  {
   "cell_type": "code",
   "execution_count": null,
   "metadata": {
    "hidden": true
   },
   "outputs": [],
   "source": []
  }
 ],
 "metadata": {
  "kernelspec": {
   "display_name": "Python 3",
   "language": "python",
   "name": "python3"
  },
  "language_info": {
   "codemirror_mode": {
    "name": "ipython",
    "version": 3
   },
   "file_extension": ".py",
   "mimetype": "text/x-python",
   "name": "python",
   "nbconvert_exporter": "python",
   "pygments_lexer": "ipython3",
   "version": "3.6.4"
  }
 },
 "nbformat": 4,
 "nbformat_minor": 2
}
