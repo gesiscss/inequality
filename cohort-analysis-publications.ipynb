{
 "cells": [
  {
   "cell_type": "code",
   "execution_count": 89,
   "metadata": {
    "collapsed": true
   },
   "outputs": [],
   "source": [
    "import pandas as pd\n",
    "import numpy as np\n",
    "import matplotlib.pyplot as plt\n",
    "%matplotlib inline\n",
    "import timeit\n",
    "import seaborn as sns\n",
    "import scipy.stats as stats"
   ]
  },
  {
   "cell_type": "markdown",
   "metadata": {},
   "source": [
    "### Cumulative Advantage\n",
    "\n",
    "For each (filtered) cohort analyze how the distribution of publications changes in the cohort over time.\n",
    "At the beginning all scientists should be equal (they have zero publications). Over time some scientists become more successful than others which leads to an increase in the Gini coefficient."
   ]
  },
  {
   "cell_type": "code",
   "execution_count": 90,
   "metadata": {
    "collapsed": false
   },
   "outputs": [
    {
     "name": "stdout",
     "output_type": "stream",
     "text": [
      "837611.8561808522\n"
     ]
    }
   ],
   "source": [
    "start_time = timeit.default_timer()\n",
    "print(start_time)"
   ]
  },
  {
   "cell_type": "code",
   "execution_count": 91,
   "metadata": {
    "collapsed": false
   },
   "outputs": [
    {
     "name": "stdout",
     "output_type": "stream",
     "text": [
      "             author gender\n",
      "0    nima mesgarani      m\n",
      "1    james j. abbas      m\n",
      "2  eberhart zrenner      m\n",
      "3    emery n. brown      m\n",
      "4        ilya rybak      m\n",
      "['m' 'none' 'f']\n",
      "1129473\n"
     ]
    }
   ],
   "source": [
    "gender = pd.read_csv('data/name_gender_1970_2016_noAsians.csv')\n",
    "print(gender.head())\n",
    "print(gender['gender'].unique())\n",
    "print(gender['author'].nunique())\n",
    "\n",
    "# some names occur multiple times, but the gender assignment should be the same.\n",
    "#counts = gender.groupby('author').size()\n",
    "#df2 = pd.DataFrame(counts, columns = ['size'])\n",
    "#print(df2.head())\n",
    "#print(df2[df2['size'] > 1])"
   ]
  },
  {
   "cell_type": "code",
   "execution_count": 92,
   "metadata": {
    "collapsed": false
   },
   "outputs": [
    {
     "name": "stdout",
     "output_type": "stream",
     "text": [
      "               author  start_year  end_year  pub_count  career_length\n",
      "0          a min tjoa        1979      2015        193             36\n",
      "1    a-imam al-sammak        1992      2008          6             16\n",
      "2          a-xing zhu        1998      2015         16             17\n",
      "3  a. a. (louis) beex        1980      2016         34             36\n",
      "4     a. a. a. nasser        1993      2014          3             21\n",
      "authorStartEndCareerData  %s 110468\n",
      "author unique names  %s 110468\n",
      "       author  start_year  end_year  pub_count  career_length\n",
      "0  a min tjoa        1979      2015        193             36\n"
     ]
    }
   ],
   "source": [
    "max_years = 15\n",
    "#authorStartEndCareerData = pd.read_csv('data/authors-scientific-start-end-year-publish-count.csv')\n",
    "authorStartEndCareerData = pd.read_csv('data/authors-scientific-atleast-15-year.csv')\n",
    "#authorStartEndCareerData = pd.read_csv('data/authors-scientific-atleast-20-year-20-papers.csv')\n",
    "print(authorStartEndCareerData.head())\n",
    "print(\"authorStartEndCareerData  %s\", authorStartEndCareerData.shape[0])\n",
    "print(\"author unique names  %s\", authorStartEndCareerData['author'].nunique())\n",
    "print(authorStartEndCareerData[authorStartEndCareerData['author']=='a min tjoa'])\n"
   ]
  },
  {
   "cell_type": "code",
   "execution_count": 93,
   "metadata": {
    "collapsed": false
   },
   "outputs": [
    {
     "name": "stdout",
     "output_type": "stream",
     "text": [
      "             author  start_year  end_year  pub_count  career_length gender\n",
      "0        a min tjoa        1979      2015        193             36   none\n",
      "1  a-imam al-sammak        1992      2008          6             16      m\n",
      "2  a-imam al-sammak        1992      2008          6             16      m\n",
      "3  a-imam al-sammak        1992      2008          6             16      m\n",
      "4  a-imam al-sammak        1992      2008          6             16      m\n",
      "authorStartEndCareerData no duplicates: %s 110468\n",
      "110468\n",
      "110468\n",
      "                   pub_count                 \n",
      "                         std count       mean\n",
      "start_year gender                            \n",
      "1970       f       32.902560    26  33.538462\n",
      "           m       56.333690   470  36.900000\n",
      "           none    59.547355   345  29.278261\n",
      "1971       f       53.105193    26  39.807692\n",
      "           m       42.043629   444  30.038288\n",
      "           none    49.408093   389  29.143959\n",
      "1972       f       39.135467    42  32.690476\n",
      "           m       53.967713   422  35.353081\n",
      "           none    35.448571   306  20.954248\n",
      "1973       f       45.612260    48  30.770833\n",
      "           m       58.535647   532  33.060150\n",
      "           none    40.156794   344  21.122093\n",
      "1974       f       40.479663    38  29.210526\n",
      "           m       51.097203   500  32.346000\n",
      "           none    37.521600   385  21.044156\n",
      "1975       f       40.723854    55  29.709091\n",
      "           m       50.434965   476  34.239496\n",
      "           none    37.470938   352  18.880682\n",
      "1976       f       57.250022    60  31.166667\n",
      "           m       47.428720   577  33.237435\n",
      "           none    48.463775   404  24.670792\n",
      "1977       f       44.876880    47  38.021277\n",
      "           m       50.993847   726  35.002755\n",
      "           none    44.485061   408  28.443627\n",
      "1978       f       36.883186    53  32.528302\n",
      "           m       56.795044   628  34.769108\n",
      "           none    69.127485   445  25.541573\n",
      "1979       f       66.350678    79  45.151899\n",
      "           m       57.670284   703  36.165007\n",
      "           none    36.059458   408  23.522059\n",
      "...                      ...   ...        ...\n",
      "1992       f       43.778563   518  32.465251\n",
      "           m       45.496962  3156  32.913815\n",
      "           none    69.540326  2044  37.291096\n",
      "1993       f       38.044923   673  29.528975\n",
      "           m       43.147226  3633  31.976053\n",
      "           none    61.496931  2539  34.295392\n",
      "1994       f       35.585735   632  29.914557\n",
      "           m       43.267449  3807  32.010244\n",
      "           none    52.546072  2727  30.834617\n",
      "1995       f       40.349184   669  29.787743\n",
      "           m       41.099209  3558  30.681282\n",
      "           none    55.768771  2548  32.348901\n",
      "1996       f       33.957315   696  27.505747\n",
      "           m       36.680816  3685  28.677883\n",
      "           none    48.592088  2522  31.218477\n",
      "1997       f       33.112637   776  28.167526\n",
      "           m       37.954406  3926  28.987264\n",
      "           none    48.389351  2608  29.814034\n",
      "1998       f       26.709243   768  25.531250\n",
      "           m       31.788504  4110  28.248418\n",
      "           none    48.767145  2718  32.207506\n",
      "1999       f       28.559322   850  26.276471\n",
      "           m       30.797919  3799  28.673072\n",
      "           none    46.326374  2810  33.830605\n",
      "2000       f       34.180324   730  28.149315\n",
      "           m       32.335181  3429  31.506853\n",
      "           none    44.756832  2559  36.293865\n",
      "2001       f       30.999606   288  35.059028\n",
      "           m       40.429834  1359  41.373804\n",
      "           none    58.075286  1222  50.350245\n",
      "\n",
      "[96 rows x 3 columns]\n"
     ]
    },
    {
     "data": {
      "text/plain": [
       "<matplotlib.axes._subplots.AxesSubplot at 0xf66f9b0>"
      ]
     },
     "execution_count": 93,
     "metadata": {},
     "output_type": "execute_result"
    },
    {
     "data": {
      "image/png": "[encoded data removed]",
      "text/plain": [
       "<matplotlib.figure.Figure at 0xf66e080>"
      ]
     },
     "metadata": {},
     "output_type": "display_data"
    }
   ],
   "source": [
    "\n",
    "\n",
    "\n",
    "authorStartEndCareerData = pd.merge(authorStartEndCareerData, gender, how=\"left\", on=[\"author\"])\n",
    "authorStartEndCareerData['gender'] = authorStartEndCareerData['gender'].fillna('none')\n",
    "\n",
    "print(authorStartEndCareerData.head())\n",
    "# there are no duplicates\n",
    "authorStartEndCareerData = authorStartEndCareerData.drop_duplicates()\n",
    "print(\"authorStartEndCareerData no duplicates: %s\", authorStartEndCareerData.shape[0])\n",
    "print(authorStartEndCareerData['author'].nunique())\n",
    "\n",
    "test = authorStartEndCareerData[[\"pub_count\", \"gender\"]]\n",
    "print(test.shape[0])\n",
    "\n",
    "#print(test.head())\n",
    "print(authorStartEndCareerData[[\"start_year\", \"gender\", \"pub_count\"]].groupby(['start_year', 'gender']).agg({'count', 'mean', 'std'}))\n",
    "authorStartEndCareerData.boxplot(column='pub_count', by='gender')"
   ]
  },
  {
   "cell_type": "code",
   "execution_count": 94,
   "metadata": {
    "collapsed": false
   },
   "outputs": [
    {
     "name": "stdout",
     "output_type": "stream",
     "text": [
      "110468\n",
      "             author  year                    pub_id\n",
      "0  kim l. blackwell  2014  55503da645ce0a409eb273e8\n",
      "authorPublicationsData\n",
      "1702516\n",
      "9016289\n",
      "authorStartEndCareerData\n",
      "110468\n",
      "110468\n"
     ]
    }
   ],
   "source": [
    "\n",
    "selectedAuthor = authorStartEndCareerData[\"author\"].unique()\n",
    "print(len(selectedAuthor))\n",
    "\n",
    "authorPublicationsData = pd.read_csv('data/author_publications_1970_2016_asiansAsNone.txt')\n",
    "authorPublicationsData = authorPublicationsData[authorPublicationsData[\"year\"] > 1900]\n",
    "print(authorPublicationsData.head(n=1))\n",
    "\n",
    "print(\"authorPublicationsData\")\n",
    "print(authorPublicationsData['author'].nunique())\n",
    "#print(authorPublicationsData.index)\n",
    "print(authorPublicationsData.shape[0])\n",
    "\n",
    "\n",
    "\n",
    "# contains only authors-scientific-atleast-15-year --> we filter authorPublicationsData that only those authors are inlcuded\n",
    "\n",
    "print(\"authorStartEndCareerData\")\n",
    "print(authorStartEndCareerData['author'].nunique())\n",
    "#print(authorStartEndCareerData.index)\n",
    "print(authorStartEndCareerData.shape[0])\n",
    "\n",
    "#authorPublicationsData = pd.merge(authorPublicationsData, authorStartEndCareerData,  how=\"left\", left_on=\"author\", right_on=\"author\")\n",
    "\n",
    "\n",
    "#authorPublicationsData = authorPublicationsData.dropna(how='any')\n",
    "#print(authorPublicationsData.head(n=2))\n",
    "#print(authorPublicationsData['author'].nunique())\n",
    "#print(authorPublicationsData.shape[0])\n",
    "\n",
    "\n",
    "#get the year list - as it helps to enumerate and find gini co-efficient for each year (irrespective of the dataset)\n",
    "#years = np.sort(authorPublicationsData['year'].unique())\n",
    "#print(years)"
   ]
  },
  {
   "cell_type": "code",
   "execution_count": 95,
   "metadata": {
    "collapsed": false
   },
   "outputs": [
    {
     "name": "stdout",
     "output_type": "stream",
     "text": [
      "             author  year                    pub_id\n",
      "0  kim l. blackwell  2014  55503da645ce0a409eb273e8\n",
      "1    nima mesgarani  2014  55503da645ce0a409eb273e9\n",
      "2    james j. abbas  2014  55503da645ce0a409eb273ea\n"
     ]
    }
   ],
   "source": [
    "print(authorPublicationsData.head(n=3))"
   ]
  },
  {
   "cell_type": "code",
   "execution_count": 96,
   "metadata": {
    "collapsed": true
   },
   "outputs": [],
   "source": [
    "\n",
    "\n",
    "#groupByStartYearScientificCareerData = authorStartEndCareerData[['author','start_year']].groupby(['start_year'])\n",
    "#print(groupByStartYearScientificCareerData.head())\n",
    "#groupByStartYearScientificCareerData.groups"
   ]
  },
  {
   "cell_type": "code",
   "execution_count": null,
   "metadata": {
    "collapsed": false
   },
   "outputs": [],
   "source": []
  },
  {
   "cell_type": "code",
   "execution_count": 97,
   "metadata": {
    "collapsed": false
   },
   "outputs": [
    {
     "name": "stdout",
     "output_type": "stream",
     "text": [
      "           author  year                    pub_id\n",
      "47504  a min tjoa  2004  53e9ac96b7602d9703671ea0\n",
      "81537  a min tjoa  2008  53e9b403b7602d9703ef2cf3\n",
      "81583  a min tjoa  2007  53e9aad9b7602d970345a7fb\n",
      "81770  a min tjoa  2013  53e9b783b7602d9704329922\n",
      "81790  a min tjoa  2003  53e9ae29b7602d970383a84d\n",
      "   year         author  pub_id\n",
      "0  1970    a. a. afifi       1\n",
      "1  1970    a. a. bährs       1\n",
      "2  1970     a. armenti       1\n",
      "3  1970  a. b. slomson       1\n",
      "4  1970    a. brindley       1\n",
      "        year      author  pub_id\n",
      "33440   1979  a min tjoa       1\n",
      "85309   1985  a min tjoa       1\n",
      "97531   1986  a min tjoa       1\n",
      "174683  1990  a min tjoa       1\n",
      "202845  1991  a min tjoa       3\n"
     ]
    }
   ],
   "source": [
    "#Group by both year and author - multi index and hierarchial indexing\n",
    "#authorPublicationsData\n",
    "\n",
    "print(authorPublicationsData[authorPublicationsData.author==\"a min tjoa\"].head(n=5))\n",
    "\n",
    "groupByAuthorYearData = authorPublicationsData.groupby(['year','author']).count().reset_index()\n",
    "#remove wrong data\n",
    "groupByAuthorYearData = groupByAuthorYearData[groupByAuthorYearData[\"year\"] > 1900]\n",
    "print(groupByAuthorYearData.head())\n",
    "\n",
    "print(groupByAuthorYearData[groupByAuthorYearData.author==\"a min tjoa\"].head(n=5))\n"
   ]
  },
  {
   "cell_type": "code",
   "execution_count": 98,
   "metadata": {
    "collapsed": false
   },
   "outputs": [
    {
     "name": "stdout",
     "output_type": "stream",
     "text": [
      "   year         author  pub_id\n",
      "0  1970    a. a. afifi       1\n",
      "1  1970    a. a. bährs       1\n",
      "2  1970     a. armenti       1\n",
      "3  1970  a. b. slomson       1\n",
      "4  1970    a. brindley       1\n",
      "         year      author  pub_id\n",
      "33440    1979  a min tjoa       1\n",
      "85309    1985  a min tjoa       1\n",
      "97531    1986  a min tjoa       1\n",
      "174683   1990  a min tjoa       1\n",
      "202845   1991  a min tjoa       3\n",
      "234843   1992  a min tjoa       3\n",
      "272007   1993  a min tjoa       6\n",
      "317066   1994  a min tjoa       2\n",
      "368210   1995  a min tjoa       3\n",
      "422874   1996  a min tjoa       5\n",
      "481284   1997  a min tjoa       2\n",
      "547478   1998  a min tjoa       3\n",
      "704036   2000  a min tjoa       8\n",
      "797455   2001  a min tjoa       5\n",
      "901041   2002  a min tjoa       3\n",
      "1016521  2003  a min tjoa      11\n",
      "1155821  2004  a min tjoa       8\n",
      "1320619  2005  a min tjoa      13\n",
      "1512468  2006  a min tjoa      23\n",
      "1725677  2007  a min tjoa      13\n",
      "1962106  2008  a min tjoa       8\n",
      "2219974  2009  a min tjoa       8\n",
      "2500825  2010  a min tjoa      16\n",
      "2799087  2011  a min tjoa      11\n",
      "3123784  2012  a min tjoa       7\n",
      "3466909  2013  a min tjoa       7\n",
      "3824300  2014  a min tjoa      17\n",
      "4194351  2015  a min tjoa       4\n",
      "   year         author  pub_id  cum_num_pub\n",
      "0  1970    a. a. afifi       1            1\n",
      "1  1970    a. a. bährs       1            1\n",
      "2  1970     a. armenti       1            1\n",
      "3  1970  a. b. slomson       1            1\n",
      "4  1970    a. brindley       1            1\n",
      "   year                 author  pub_id  cum_num_pub  start_year  end_year  \\\n",
      "4  1970            a. brindley       1            1      1970.0    2002.0   \n",
      "5  1970  a. brinton cooper iii       2            2      1970.0    1996.0   \n",
      "\n",
      "   pub_count  career_length gender  \n",
      "4        2.0           32.0   none  \n",
      "5        5.0           26.0      m  \n",
      "110468\n",
      "1247770\n",
      "    year                 author  pub_id  cum_num_pub  start_year  end_year  \\\n",
      "4   1970            a. brindley       1            1      1970.0    2002.0   \n",
      "5   1970  a. brinton cooper iii       2            2      1970.0    1996.0   \n",
      "17  1970             a. j. cole       1            1      1970.0    1991.0   \n",
      "22  1970            a. jennings       1            1      1970.0    1988.0   \n",
      "23  1970               a. jones       1            1      1970.0    2014.0   \n",
      "\n",
      "    pub_count  career_length gender  \n",
      "4         2.0           32.0   none  \n",
      "5         5.0           26.0      m  \n",
      "17        6.0           21.0   none  \n",
      "22        3.0           18.0   none  \n",
      "23        9.0           44.0   none  \n",
      "         year      author  pub_id  cum_num_pub  start_year  end_year  \\\n",
      "33440    1979  a min tjoa       1            1      1979.0    2015.0   \n",
      "85309    1985  a min tjoa       1            2      1979.0    2015.0   \n",
      "97531    1986  a min tjoa       1            3      1979.0    2015.0   \n",
      "174683   1990  a min tjoa       1            4      1979.0    2015.0   \n",
      "202845   1991  a min tjoa       3            7      1979.0    2015.0   \n",
      "234843   1992  a min tjoa       3           10      1979.0    2015.0   \n",
      "272007   1993  a min tjoa       6           16      1979.0    2015.0   \n",
      "317066   1994  a min tjoa       2           18      1979.0    2015.0   \n",
      "368210   1995  a min tjoa       3           21      1979.0    2015.0   \n",
      "422874   1996  a min tjoa       5           26      1979.0    2015.0   \n",
      "481284   1997  a min tjoa       2           28      1979.0    2015.0   \n",
      "547478   1998  a min tjoa       3           31      1979.0    2015.0   \n",
      "704036   2000  a min tjoa       8           39      1979.0    2015.0   \n",
      "797455   2001  a min tjoa       5           44      1979.0    2015.0   \n",
      "901041   2002  a min tjoa       3           47      1979.0    2015.0   \n",
      "1016521  2003  a min tjoa      11           58      1979.0    2015.0   \n",
      "1155821  2004  a min tjoa       8           66      1979.0    2015.0   \n",
      "1320619  2005  a min tjoa      13           79      1979.0    2015.0   \n",
      "1512468  2006  a min tjoa      23          102      1979.0    2015.0   \n",
      "1725677  2007  a min tjoa      13          115      1979.0    2015.0   \n",
      "1962106  2008  a min tjoa       8          123      1979.0    2015.0   \n",
      "2219974  2009  a min tjoa       8          131      1979.0    2015.0   \n",
      "2500825  2010  a min tjoa      16          147      1979.0    2015.0   \n",
      "2799087  2011  a min tjoa      11          158      1979.0    2015.0   \n",
      "3123784  2012  a min tjoa       7          165      1979.0    2015.0   \n",
      "3466909  2013  a min tjoa       7          172      1979.0    2015.0   \n",
      "3824300  2014  a min tjoa      17          189      1979.0    2015.0   \n",
      "4194351  2015  a min tjoa       4          193      1979.0    2015.0   \n",
      "\n",
      "         pub_count  career_length gender  \n",
      "33440        193.0           36.0   none  \n",
      "85309        193.0           36.0   none  \n",
      "97531        193.0           36.0   none  \n",
      "174683       193.0           36.0   none  \n",
      "202845       193.0           36.0   none  \n",
      "234843       193.0           36.0   none  \n",
      "272007       193.0           36.0   none  \n",
      "317066       193.0           36.0   none  \n",
      "368210       193.0           36.0   none  \n",
      "422874       193.0           36.0   none  \n",
      "481284       193.0           36.0   none  \n",
      "547478       193.0           36.0   none  \n",
      "704036       193.0           36.0   none  \n",
      "797455       193.0           36.0   none  \n",
      "901041       193.0           36.0   none  \n",
      "1016521      193.0           36.0   none  \n",
      "1155821      193.0           36.0   none  \n",
      "1320619      193.0           36.0   none  \n",
      "1512468      193.0           36.0   none  \n",
      "1725677      193.0           36.0   none  \n",
      "1962106      193.0           36.0   none  \n",
      "2219974      193.0           36.0   none  \n",
      "2500825      193.0           36.0   none  \n",
      "2799087      193.0           36.0   none  \n",
      "3123784      193.0           36.0   none  \n",
      "3466909      193.0           36.0   none  \n",
      "3824300      193.0           36.0   none  \n",
      "4194351      193.0           36.0   none  \n",
      "   index  year                 author  pub_id  cum_num_pub  start_year  \\\n",
      "0      4  1970            a. brindley       1            1      1970.0   \n",
      "1      5  1970  a. brinton cooper iii       2            2      1970.0   \n",
      "2     17  1970             a. j. cole       1            1      1970.0   \n",
      "3     22  1970            a. jennings       1            1      1970.0   \n",
      "4     23  1970               a. jones       1            1      1970.0   \n",
      "\n",
      "   end_year  pub_count  career_length gender  \n",
      "0    2002.0        2.0           32.0   none  \n",
      "1    1996.0        5.0           26.0      m  \n",
      "2    1991.0        6.0           21.0   none  \n",
      "3    1988.0        3.0           18.0   none  \n",
      "4    2014.0        9.0           44.0   none  \n"
     ]
    }
   ],
   "source": [
    "#Group by both year and author - multi index and hierarchial indexing\n",
    "groupByAuthorYearData = authorPublicationsData.groupby(['year','author']).count().reset_index()\n",
    "#remove wrong data\n",
    "groupByAuthorYearData = groupByAuthorYearData[groupByAuthorYearData[\"year\"] > 1900]\n",
    "print(groupByAuthorYearData.head())\n",
    "\n",
    "\n",
    "print(groupByAuthorYearData[groupByAuthorYearData.author==\"a min tjoa\"])\n",
    "\n",
    "# cumulative number of publications per author\n",
    "groupByAuthorYearData = groupByAuthorYearData.set_index('year').sort_index()\n",
    "#print(groupByAuthorYearData.head())\n",
    "\n",
    "groupByAuthorYearData[\"cum_num_pub\"] = groupByAuthorYearData.groupby(['author'])['pub_id'].transform(pd.Series.cumsum)\n",
    "groupByAuthorYearData = groupByAuthorYearData.reset_index()\n",
    "print(groupByAuthorYearData.head())\n",
    "\n",
    "\n",
    "\n",
    "\n",
    "groupByAuthorYearData = pd.merge(groupByAuthorYearData, authorStartEndCareerData,  how=\"left\", left_on=\"author\", right_on=\"author\")\n",
    "\n",
    "groupByAuthorYearData = groupByAuthorYearData.dropna(how='any')\n",
    "print(groupByAuthorYearData.head(n=2))\n",
    "print(groupByAuthorYearData['author'].nunique())\n",
    "print(groupByAuthorYearData.shape[0])\n",
    "\n",
    "print(groupByAuthorYearData.head())\n",
    "print(groupByAuthorYearData[groupByAuthorYearData.author==\"a min tjoa\"])\n",
    "\n",
    "\n",
    "groupByAuthorYearData = groupByAuthorYearData.reset_index()\n",
    "print(groupByAuthorYearData.head())\n"
   ]
  },
  {
   "cell_type": "code",
   "execution_count": 99,
   "metadata": {
    "collapsed": true
   },
   "outputs": [],
   "source": [
    "#the following snippet is taken from the github project and the license is creative commons\n",
    "#https://github.com/oliviaguest/gini\n",
    "\n",
    "def gini(array):\n",
    "    \"\"\"Calculate the Gini coefficient of a numpy array.\"\"\"\n",
    "    # based on bottom eq:\n",
    "    # http://www.statsdirect.com/help/generatedimages/equations/equation154.svg\n",
    "    # from:\n",
    "    # http://www.statsdirect.com/help/default.htm#nonparametric_methods/gini.htm\n",
    "    # All values are treated equally, arrays must be 1d:\n",
    "    array = array.flatten()\n",
    "    if np.min(array) < 0:\n",
    "        # Values cannot be negative:\n",
    "        array -= np.min(array)\n",
    "    # Values cannot be 0:\n",
    "    array += 0.0000001\n",
    "    # Values must be sorted:\n",
    "    array = np.sort(array)\n",
    "    # Index per array element:\n",
    "    index = np.arange(1,array.shape[0]+1)\n",
    "    # Number of array elements:\n",
    "    n = array.shape[0]\n",
    "    # Gini coefficient:\n",
    "    return ((np.sum((2 * index - n  - 1) * array)) / (n * np.sum(array)))"
   ]
  },
  {
   "cell_type": "markdown",
   "metadata": {},
   "source": [
    "### To check whether GINI calculation works correctly or not"
   ]
  },
  {
   "cell_type": "code",
   "execution_count": 100,
   "metadata": {
    "collapsed": true
   },
   "outputs": [],
   "source": [
    "#print(gini[1, 1, 1, 1, 1, 1, 1, 1, 1, 1])\n",
    "#print(gini(range(10)))"
   ]
  },
  {
   "cell_type": "code",
   "execution_count": null,
   "metadata": {
    "collapsed": true
   },
   "outputs": [],
   "source": [
    "def plot_gender_numcumpub2(ax, cohort_duration, selected_cumnumpub_df, year):   \n",
    "    #ax.errorbar(cohort_duration, selected_cumnumpub_df[\"mean_f\"].values,  yerr=selected_cumnumpub_df[\"sem_f\"].values, label='women', color=\"red\" )\n",
    "    #ax.errorbar(cohort_duration, selected_cumnumpub_df[\"mean_m\"].values,  yerr=selected_cumnumpub_df[\"sem_m\"].values, label='men', color=\"blue\")\n",
    "    #ax.errorbar(cohort_duration, selected_cumnumpub_df[\"mean_n\"].values,  yerr=selected_cumnumpub_df[\"sem_n\"].values, label='unknown', color=\"grey\")\n",
    "   \n",
    "    ax.plot(cohort_duration, selected_cumnumpub_df[\"mean_f\"].values,  label='women', color=\"red\")\n",
    "    ax.fill_between(cohort_duration, selected_cumnumpub_df[\"mean_f\"].values-selected_cumnumpub_df[\"sem_f\"].values, \n",
    "                     selected_cumnumpub_df[\"mean_f\"].values+selected_cumnumpub_df[\"sem_f\"].values,\n",
    "    alpha=0.2, edgecolor='red', facecolor='red',\n",
    "    linewidth=4, linestyle='dashdot', antialiased=True)\n",
    "    \n",
    "    #ax.set_title(\"Cohort start-year: \"+str(year))\n",
    "    \n",
    "    return sep\n",
    "\n",
    "\n",
    "\n",
    "# plot num cum publication stats\n",
    "def plot_gender_numcumpub(ax, cohort_duration, selected_cumnumpub_df, year):\n",
    "    ax.plot(cohort_duration, selected_cumnumpub_df[\"mean_f\"].values,  label='women', color=\"red\")\n",
    "    ax.fill_between(cohort_duration, selected_cumnumpub_df[\"mean_f\"].values-selected_cumnumpub_df[\"sem_f\"].values, \n",
    "                     selected_cumnumpub_df[\"mean_f\"].values+selected_cumnumpub_df[\"sem_f\"].values,\n",
    "    alpha=0.2, edgecolor='red', facecolor='red',\n",
    "    linewidth=4, linestyle='dashdot', antialiased=True)\n",
    "    \n",
    "    ax.plot(cohort_duration, selected_cumnumpub_df[\"mean_m\"].values,  label='men', color=\"blue\")\n",
    "    ax.fill_between(cohort_duration, selected_cumnumpub_df[\"mean_m\"].values-selected_cumnumpub_df[\"sem_m\"].values, \n",
    "                     selected_cumnumpub_df[\"mean_m\"].values+selected_cumnumpub_df[\"sem_m\"].values,\n",
    "    alpha=0.2, edgecolor='blue', facecolor='blue',\n",
    "    linewidth=4, linestyle='dashdot', antialiased=True)\n",
    "\n",
    "    ax.plot(cohort_duration, selected_cumnumpub_df[\"mean_n\"].values,  label='unknown', color=\"grey\")\n",
    "    ax.fill_between(cohort_duration, selected_cumnumpub_df[\"mean_n\"].values-selected_cumnumpub_df[\"sem_n\"].values, \n",
    "                     selected_cumnumpub_df[\"mean_n\"].values+selected_cumnumpub_df[\"sem_n\"].values,\n",
    "    alpha=0.2, edgecolor='grey', facecolor='grey',\n",
    "    linewidth=4, linestyle='dashdot', antialiased=True)\n",
    "    \n",
    "    #ax.errorbar(cohort_duration, selected_cumnumpub_df[\"mean_f\"].values,  yerr=selected_cumnumpub_df[\"sem_f\"].values, label='women', color=\"red\" )\n",
    "    #ax.errorbar(cohort_duration, selected_cumnumpub_df[\"mean_m\"].values,  yerr=selected_cumnumpub_df[\"sem_m\"].values, label='men', color=\"blue\")\n",
    "    #ax.errorbar(cohort_duration, selected_cumnumpub_df[\"mean_n\"].values,  yerr=selected_cumnumpub_df[\"sem_n\"].values, label='unknown', color=\"grey\")\n",
    "   \n",
    "  \n",
    "    return ax\n",
    "\n",
    "\n",
    "\n",
    "    \n",
    "  \n",
    "\n",
    "   \n",
    "\n",
    "    # Make one Bar Chart per COHORT\n",
    "    #fig, ax = plt.subplots()\n",
    "    #width = 0.3       # the width of the bars\n",
    "    #Y = len(gini_years)\n",
    "    #ind = np.arange(Y)\n",
    "    #ax.set_title('Inequality for cohort: '+str(year))\n",
    "    #rects = ax.bar(ind, gini_coefs, width, color='b')\n",
    "    #ax.set_xticks(ind + width / 2)\n",
    "    #ax.set_xticklabels(gini_years, rotation=90)\n",
    "    #ax.set_ylabel('Gini')\n",
    "    #plt.show()\n",
    "    "
   ]
  },
  {
   "cell_type": "markdown",
   "metadata": {},
   "source": [
    "### Num-publication distribution of each cohort in each year\n",
    "\n",
    "* We compute the gini coefficient for each cohort in each year separately based on the cumulative number of publications that this group has aggregated. \n",
    "* We compute the mean and std of the cumulative number of publications for men and women in each cohort separately.\n"
   ]
  },
  {
   "cell_type": "code",
   "execution_count": null,
   "metadata": {
    "collapsed": false
   },
   "outputs": [
    {
     "name": "stdout",
     "output_type": "stream",
     "text": [
      "       author  start_year  end_year  pub_count  career_length gender\n",
      "0  a min tjoa        1979      2015        193             36   none\n"
     ]
    },
    {
     "name": "stderr",
     "output_type": "stream",
     "text": [
      "C:\\Users\\wagnerca\\AppData\\Local\\Continuum\\Anaconda3\\lib\\site-packages\\numpy\\core\\_methods.py:59: RuntimeWarning: Mean of empty slice.\n",
      "  warnings.warn(\"Mean of empty slice.\", RuntimeWarning)\n",
      "C:\\Users\\wagnerca\\AppData\\Local\\Continuum\\Anaconda3\\lib\\site-packages\\numpy\\core\\_methods.py:82: RuntimeWarning: Degrees of freedom <= 0 for slice\n",
      "  warnings.warn(\"Degrees of freedom <= 0 for slice\", RuntimeWarning)\n"
     ]
    }
   ],
   "source": [
    "print(authorStartEndCareerData.head(n=1))\n",
    "gini_per_cohort = pd.DataFrame(index=years)\n",
    "cumnumpub_per_cohort = pd.DataFrame(index=years)\n",
    "\n",
    "\n",
    "#fig2, ax2 = plt.subplots()\n",
    "fig2 = plt.figure()\n",
    "ax2 = fig2.add_subplot(1,1,1)\n",
    "fig3 = plt.figure()\n",
    "ax3 = fig3.add_subplot(1,1,1)\n",
    "\n",
    "\n",
    "max_years = 15\n",
    "# limit plot to the N years during which we follow a cohort\n",
    "cohort_duration = np.arange(max_years)\n",
    "\n",
    "# 30 years\n",
    "fig5 = plt.figure(figsize=(40,20))\n",
    "\n",
    "i=1\n",
    "\n",
    "for year in years: #[1975,1980,1985, 1990]: #\n",
    "    #we cannot follow the cohort for max years; for 2016 we do not have enough data\n",
    "    if year > (2015 - max_years):\n",
    "        break\n",
    "    \n",
    "    ax5 = fig5.add_subplot(6, 6, i)\n",
    "    i = i+1\n",
    "    \n",
    "    fig4 = plt.figure()\n",
    "    ax4 = fig4.add_subplot(1, 1, 1)\n",
    "\n",
    "    #print(\"cohort: \"+str(year))\n",
    "    cohort = authorStartEndCareerData[authorStartEndCareerData[\"start_year\"]==year]\n",
    "    cohort_authors = cohort[\"author\"].values\n",
    "  \n",
    "    gini_over_years = pd.Series(data=0, index=years)\n",
    "    cumnumpub_over_years = pd.DataFrame(data=0, index=years, columns=[\"mean\", \"std\", \"mean_f\", \"std_f\", \"mean_m\", \"std_m\", \"mean_n\", \"std_n\"])\n",
    " \n",
    "    # extract num publications for the cohort in all future years\n",
    "    for y in range(year, max(years)+1):\n",
    "        #print(\"following years: \"+str(y))\n",
    "      \n",
    "        # get all the authors data for each year and filter based on the authors that we are interested in\n",
    "        temp = groupByAuthorYearData[groupByAuthorYearData[\"year\"]==y]\n",
    "        temp = temp[temp[\"author\"].isin(cohort_authors)]\n",
    "        \n",
    "        # gini per year based on cumulative num of publications of all authors in this year\n",
    "        gini_over_years.loc[y] = gini(temp['cum_num_pub'].astype(\"float\").values)\n",
    "        \n",
    "        temp_male = temp[temp[\"gender\"]==\"m\"]\n",
    "        temp_female = temp[temp[\"gender\"]==\"f\"]\n",
    "        temp_none = temp[temp[\"gender\"]==\"none\"]\n",
    "        \n",
    "        cumnumpub_over_years.loc[y] = [np.mean(temp['cum_num_pub'].astype(\"float\").values), \n",
    "                                       np.std(temp['cum_num_pub'].astype(\"float\").values),\n",
    "                                       np.mean(temp_female['cum_num_pub'].astype(\"float\").values), \n",
    "                                       stats.sem(temp_female['cum_num_pub'].astype(\"float\").values),\n",
    "                                       np.mean(temp_male['cum_num_pub'].astype(\"float\").values), \n",
    "                                       stats.sem(temp_male['cum_num_pub'].astype(\"float\").values),\n",
    "                                       np.mean(temp_none['cum_num_pub'].astype(\"float\").values), \n",
    "                                       stats.sem(temp_none['cum_num_pub'].astype(\"float\").values)]\n",
    "        \n",
    "    \n",
    "   \n",
    "    gini_years_df = pd.DataFrame(gini_over_years.reset_index())\n",
    "    gini_years_df.columns = [\"year\", \"gini\"]\n",
    "    #gini_per_cohort[year] = gini_years_df\n",
    "   \n",
    "    gini_years = gini_years_df[\"year\"].values\n",
    "    gini_coefs= gini_years_df[\"gini\"].values\n",
    "    selected_gini_df = gini_years_df[(gini_years_df[\"year\"] >= year) &  (gini_years_df[\"year\"] < (year+max_years))]\n",
    "    ax2.plot(cohort_duration, selected_gini_df[\"gini\"])\n",
    "   \n",
    "    #[\"mean\", \"std\", \"mean_f\", \"std_f\", \"mean_m\", \"std_m\", \"mean_n\", \"std_n\"])\n",
    "    cumnumpub_years_df = pd.DataFrame(cumnumpub_over_years.reset_index())\n",
    "    cumnumpub_years_df.columns = [\"year\", \"mean\", \"std\", \"mean_f\", \"sem_f\", \"mean_m\", \"sem_m\", \"mean_n\", \"sem_n\"]\n",
    "    #cumnumpub_per_cohort[year] = cumnumpub_years_df\n",
    "   \n",
    "    selected_cumnumpub_df = cumnumpub_years_df[(cumnumpub_years_df[\"year\"] >= year) &  (cumnumpub_years_df[\"year\"] < (year+max_years))]\n",
    "    ax3.errorbar(cohort_duration, selected_cumnumpub_df[\"mean\"].values,  yerr=selected_cumnumpub_df[\"std\"].values)\n",
    "    \n",
    "    \n",
    "    ax4 = plot_gender_numcumpub(ax4, cohort_duration, selected_cumnumpub_df, year)\n",
    "    ax4.set_title(\"Cohort start-year: \"+str(year))  \n",
    "    ax4.set_ylabel('Cumulative Publication Count')\n",
    "    ax4.legend()\n",
    "    fig4.savefig(\"fig/cumnumpub_gender_\"+str(year)+\".png\")\n",
    "    \n",
    "    ax5 = plot_gender_numcumpub(ax5, cohort_duration, selected_cumnumpub_df, year)\n",
    "    ax5.set_title(\"Cohort start-year: \"+str(year))\n",
    "\n",
    "\n",
    "\n",
    "ax2.set_ylabel('Gini')\n",
    "ax2.set_title('Inequality of al cohorts over '+str(max_years)+' years')\n",
    "if len(years)<10:\n",
    "    ax2.legend(years)  \n",
    "fig2.savefig(\"fig/gini.png\")\n",
    "\n",
    "ax3.set_ylabel('Cumulative Publication Count')\n",
    "ax3.set_title('Mean/Std of al cohorts over '+str(max_years)+' years')\n",
    "if len(years)<10:\n",
    "    ax3.legend(years)  \n",
    "    \n",
    "fig3.savefig(\"fig/cumnumpub.png\")\n",
    "\n",
    "fig5.savefig(\"fig/cumnumpub_gender.png\")\n",
    "  \n",
    "plt.show()\n",
    "\n",
    "   \n"
   ]
  },
  {
   "cell_type": "markdown",
   "metadata": {},
   "source": [
    "### Ranking of men and women in this distribution\n",
    "\n",
    "Num-publication distribution. What is the mean/median rank of men and women. How stable is the ranking ober time. We expect that at the top the ranking is rather stable.\n",
    "\n",
    "How much rank-increase do men and women achieve over the years?"
   ]
  },
  {
   "cell_type": "code",
   "execution_count": null,
   "metadata": {
    "collapsed": false
   },
   "outputs": [],
   "source": [
    "end_time = timeit.default_timer()\n",
    "print(end_time)\n",
    "print('Time taken - ',end_time-start_time)"
   ]
  },
  {
   "cell_type": "code",
   "execution_count": null,
   "metadata": {
    "collapsed": true
   },
   "outputs": [],
   "source": []
  }
 ],
 "metadata": {
  "kernelspec": {
   "display_name": "Python [Root]",
   "language": "python",
   "name": "Python [Root]"
  },
  "language_info": {
   "codemirror_mode": {
    "name": "ipython",
    "version": 3
   },
   "file_extension": ".py",
   "mimetype": "text/x-python",
   "name": "python",
   "nbconvert_exporter": "python",
   "pygments_lexer": "ipython3",
   "version": "3.5.1"
  }
 },
 "nbformat": 4,
 "nbformat_minor": 2
}
