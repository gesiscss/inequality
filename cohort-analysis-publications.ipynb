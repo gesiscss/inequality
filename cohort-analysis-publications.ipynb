{
 "cells": [
  {
   "cell_type": "code",
   "execution_count": 1,
   "metadata": {
    "collapsed": false
   },
   "outputs": [
    {
     "ename": "SyntaxError",
     "evalue": "invalid syntax (plot.py, line 243)",
     "output_type": "error",
     "traceback": [
      "\u001b[0;36m  File \u001b[0;32m\"C:\\Users\\wagnerca\\Dropbox\\RESEARCH\\dblp-cohort-inequality\\cum-adv-repo\\cumulative-advantage\\plot.py\"\u001b[0;36m, line \u001b[0;32m243\u001b[0m\n\u001b[0;31m    for y in np.unique(df_one_age[\"cohort_start_year\"].values):\u001b[0m\n\u001b[0m      ^\u001b[0m\n\u001b[0;31mSyntaxError\u001b[0m\u001b[0;31m:\u001b[0m invalid syntax\n"
     ]
    }
   ],
   "source": [
    "import pandas as pd\n",
    "import numpy as np\n",
    "import matplotlib.pyplot as plt\n",
    "%matplotlib inline\n",
    "import timeit\n",
    "import seaborn as sns\n",
    "\n",
    "#these are user defined modules\n",
    "import plot\n",
    "import calculate\n",
    "\n",
    "\n",
    "# CAREER_LENGTH = 15 means the authors who have atleast 15 years of experience\n",
    "CAREER_LENGTH_LIST = [0,5,10,15,20,25]\n",
    "CAREER_LENGTH = 15\n",
    "END_YEAR = 2015\n"
   ]
  },
  {
   "cell_type": "markdown",
   "metadata": {},
   "source": [
    "### Cohort Analysis\n",
    "\n",
    "For each (filtered) cohort analyze how the distribution of publications and citations changes in the cohort over time.\n",
    "At the beginning all scientists should be equal (they have zero publications and citations). Over time some scientists become more productive and/or successful than others which leads to an increase in the Gini coefficient."
   ]
  },
  {
   "cell_type": "markdown",
   "metadata": {},
   "source": [
    "### Read Gender details"
   ]
  },
  {
   "cell_type": "code",
   "execution_count": null,
   "metadata": {
    "collapsed": false
   },
   "outputs": [],
   "source": [
    "# read gender details - the column names are name, gender - change it to author, gender\n",
    "#gender = pd.read_csv('./data/name_gender_1970_2016_noAsians.csv')\n",
    "gender = pd.read_csv('./data-new/name_gender_2017_asiansAsNone.txt')\n",
    "gender.rename(columns={'name':'author'}, inplace=True)\n",
    "print(gender.head())\n",
    "print(gender['gender'].unique())\n",
    "print(gender.groupby('gender').size())\n",
    "#TODO: also show proportion! What is the percentage of men and women?\n",
    "\n",
    "print(gender['author'].nunique())"
   ]
  },
  {
   "cell_type": "markdown",
   "metadata": {},
   "source": [
    "### Read authors with start and end year details"
   ]
  },
  {
   "cell_type": "code",
   "execution_count": null,
   "metadata": {
    "collapsed": false
   },
   "outputs": [],
   "source": [
    "# Different files exists depending upon their career length\n",
    "\n",
    "#authorStartEndCareerData = pd.read_csv('./data/authors-scientific-atleast-'+str(CAREER_LENGTH)+'-year.csv')\n",
    "authorStartEndCareerData = pd.read_csv('./data-new/authors-scientific-atleast-'+str(CAREER_LENGTH)+'-year.csv')\n",
    "\n",
    "\n",
    "print('authorStartEndCareerData before filtering - ',authorStartEndCareerData.shape[0])\n",
    "authorStartEndCareerData = authorStartEndCareerData[authorStartEndCareerData[\"start_year\"] >= 1970]\n",
    "print('authorStartEndCareerData after filtering - ',authorStartEndCareerData.shape[0])\n",
    "\n",
    "print(authorStartEndCareerData.head())\n",
    "\n",
    "#print(\"authorStartEndCareerData  %s\", authorStartEndCareerData.shape[0])\n",
    "print(\"author unique names  - \", authorStartEndCareerData['author'].nunique())\n",
    "#print(authorStartEndCareerData[authorStartEndCareerData['author']=='a min tjoa'])"
   ]
  },
  {
   "cell_type": "markdown",
   "metadata": {},
   "source": [
    "### Merge credible authors and their gender information"
   ]
  },
  {
   "cell_type": "code",
   "execution_count": null,
   "metadata": {
    "collapsed": false
   },
   "outputs": [],
   "source": [
    "authorStartEndCareerData = pd.merge(authorStartEndCareerData, gender, how=\"left\", on=[\"author\"])\n",
    "# for authors whose gender not found, replace it with none\n",
    "authorStartEndCareerData['gender'] = authorStartEndCareerData['gender'].fillna('none')\n",
    "print(authorStartEndCareerData.head())\n",
    "\n",
    "print(\"authorStartEndCareerData with duplicates: %s\", authorStartEndCareerData.shape[0])\n",
    "authorStartEndCareerData = authorStartEndCareerData.drop_duplicates()\n",
    "print(\"authorStartEndCareerData no duplicates: %s\", authorStartEndCareerData.shape[0])\n",
    "# print(authorStartEndCareerData['author'].nunique())\n",
    "\n",
    "#axes = authorStartEndCareerData.boxplot(column='pub_count', by='gender', return_type='axes')\n",
    "#for ax in axes.values():\n",
    "#    ax.set_ylim(0, 200)\n",
    "#plt.show()\n"
   ]
  },
  {
   "cell_type": "markdown",
   "metadata": {},
   "source": [
    "### Read Publication data"
   ]
  },
  {
   "cell_type": "code",
   "execution_count": null,
   "metadata": {
    "collapsed": false
   },
   "outputs": [],
   "source": [
    "#authorPublicationData = pd.read_csv('./data/author_publications_1970_2016_asiansAsNone.txt')\n",
    "authorPublicationData = pd.read_csv('./data-new/author_publications_2017_asiansAsNone.txt')\n",
    "\n",
    "print('authorPublicationData before filtering - ',authorPublicationData.shape[0])\n",
    "authorPublicationData = authorPublicationData[authorPublicationData[\"year\"] >= 1970]\n",
    "print('authorPublicationData after filtering - ',authorPublicationData.shape[0])\n",
    "\n",
    "authorPublicationData = authorPublicationData.groupby(['year','author']).count().reset_index()\n",
    "authorPublicationData.rename(columns={'pub_id':'num_pub'}, inplace=True)\n",
    "print(authorPublicationData.head())\n",
    "\n",
    "print(authorStartEndCareerData.head())\n",
    "##remove wrong data\n",
    "#authorPublicationData = authorPublicationData[authorPublicationData[\"year\"] > 1900]\n",
    "#print(authorPublicationData[authorPublicationData.author==\"a min tjoa\"])\n",
    "\n",
    "print(np.unique(authorStartEndCareerData[\"start_year\"]))\n"
   ]
  },
  {
   "cell_type": "markdown",
   "metadata": {},
   "source": [
    "### Merge Publications with credible authors and their gender information"
   ]
  },
  {
   "cell_type": "code",
   "execution_count": null,
   "metadata": {
    "collapsed": false
   },
   "outputs": [],
   "source": [
    "#authorPublicationData = pd.merge(authorPublicationData, authorStartEndCareerData,  \n",
    "#                                          how=\"left\", left_on=\"author\", right_on=\"author\")\n",
    "\n",
    "authorPublicationData = pd.merge(authorPublicationData, authorStartEndCareerData, how=\"left\", on=[\"author\"])\n",
    "\n",
    "\n",
    "print(\"authorPublicationData before filtering: %s\", authorPublicationData.shape[0])\n",
    "authorPublicationData = authorPublicationData.dropna(how='any')\n",
    "print(\"authorPublicationData after filtering: %s\", authorPublicationData.shape[0])\n",
    "\n",
    "print(\"authorPublicationData with duplicates: %s\", authorPublicationData.shape[0])\n",
    "authorPublicationData = authorPublicationData.drop_duplicates()\n",
    "print(\"authorPublicationData no duplicates: %s\", authorPublicationData.shape[0])\n",
    "\n",
    "#print(authorPublicationData.head(n=2))\n",
    "print(authorPublicationData['author'].nunique())\n",
    "#print(authorPublicationData.shape[0])\n",
    "\n",
    "print(authorPublicationData.head())\n",
    "#print(authorPublicationData[authorPublicationData.author==\"a min tjoa\"])\n"
   ]
  },
  {
   "cell_type": "code",
   "execution_count": null,
   "metadata": {
    "collapsed": false
   },
   "outputs": [],
   "source": [
    "pl = authorPublicationData.boxplot(column='num_pub', by='gender', showfliers=False)\n",
    "pl.set_xlabel('gender')\n",
    "pl.set_ylabel('num publications')\n",
    "pl.set_ylim([-1,10])\n",
    "plt.show()\n",
    "\n",
    "print(authorPublicationData.head(n=1))"
   ]
  },
  {
   "cell_type": "markdown",
   "metadata": {},
   "source": [
    "### Test Data"
   ]
  },
  {
   "cell_type": "code",
   "execution_count": null,
   "metadata": {
    "collapsed": false
   },
   "outputs": [],
   "source": [
    "print(authorPublicationData.head(n=1))\n",
    "\n",
    "groupByYearData = authorPublicationData.copy(deep=True)\n",
    "print(groupByYearData[groupByYearData['author'] == 'donatella sciuto'].head(3))\n",
    "print(np.unique(groupByYearData[\"year\"]))\n",
    "\n",
    "groupByYearData = calculate.groupDataAndCalculateCumulativeValues(groupByYearData, 1, 'num_pub')\n",
    "print(groupByYearData[groupByYearData['author'] == 'donatella sciuto'].head(3))\n",
    "print(np.unique(groupByYearData[\"year\"]))"
   ]
  },
  {
   "cell_type": "markdown",
   "metadata": {},
   "source": [
    "# Cohort Analysis on all authors for 15 years"
   ]
  },
  {
   "cell_type": "code",
   "execution_count": null,
   "metadata": {
    "collapsed": false
   },
   "outputs": [],
   "source": [
    "years = groupByYearData['year'].unique()\n",
    "years = sorted(years)\n",
    "print(years)\n"
   ]
  },
  {
   "cell_type": "markdown",
   "metadata": {},
   "source": [
    "#### Select Cohorts based on Start Years"
   ]
  },
  {
   "cell_type": "code",
   "execution_count": null,
   "metadata": {
    "collapsed": true
   },
   "outputs": [],
   "source": [
    " cohort_start_years = [y for y in years if y < (END_YEAR - CAREER_LENGTH)]\n",
    "#cohort_start_years = [1974, 1984, 1994]\n",
    " "
   ]
  },
  {
   "cell_type": "code",
   "execution_count": null,
   "metadata": {
    "collapsed": false
   },
   "outputs": [],
   "source": [
    "# create a dataframe with \n",
    "# cohort start year, career age, gender, distribution of values (num pub or cum num pub or num cit or cum num cit) \n",
    "# gender can be all, f, m or none\n",
    "# this df be later used  for computing means, gini and so on  \n",
    "\n",
    "cohort_careerage_df = plot.get_cohort_careerage_df(groupByYearData, cohort_start_years, CAREER_LENGTH, 'num_pub')\n",
    "print(cohort_careerage_df.head(n=1))\n",
    "\n",
    "\n",
    "plot.plot_cumulative_dist(cohort_careerage_df, 1, 'num_pub', 'Number of Publications')\n",
    "#plot.plot_cumulative_dist(cohort_careerage_df, 5, 'num_pub', 'Number of Publications')\n",
    "#plot.plot_cumulative_dist(cohort_careerage_df, 10, 'num_pub', 'Number of Publications')\n",
    "#plot.plot_cumulative_dist(cohort_careerage_df, 15, 'num_pub', 'Number of Publications')"
   ]
  },
  {
   "cell_type": "code",
   "execution_count": null,
   "metadata": {
    "collapsed": false
   },
   "outputs": [],
   "source": [
    "#just for debugging\n",
    "#reload(plot)\n",
    "#reload(calculate)\n",
    "\n",
    "plot.plot_cohort_analysis_on(groupByYearData, 'num_pub', cohort_start_years, CAREER_LENGTH, 'Publications Count')\n"
   ]
  },
  {
   "cell_type": "code",
   "execution_count": null,
   "metadata": {
    "collapsed": true
   },
   "outputs": [],
   "source": [
    "plot.plot_cohort_analysis_on(groupByYearData, 'cum_num_pub', cohort_start_years, CAREER_LENGTH,'Cumulative Publications Count')"
   ]
  },
  {
   "cell_type": "code",
   "execution_count": null,
   "metadata": {
    "collapsed": false,
    "scrolled": false
   },
   "outputs": [],
   "source": [
    "\n",
    "\n"
   ]
  },
  {
   "cell_type": "markdown",
   "metadata": {},
   "source": [
    "### Regression Analysis of mean productivity on Inequality for all authors for 15 years\n",
    "\n",
    "- There is no relation at all - Reg. coefficient is 0"
   ]
  },
  {
   "cell_type": "code",
   "execution_count": null,
   "metadata": {
    "collapsed": false
   },
   "outputs": [],
   "source": [
    "#just for debugging\n",
    "#reload(plot)\n",
    "#reload(calculate)\n",
    "#data = plot.plot_regress_performance_on_inequality(groupByYearData, 'num_pub', years, CAREER_LENGTH)\n"
   ]
  },
  {
   "cell_type": "code",
   "execution_count": null,
   "metadata": {
    "collapsed": false
   },
   "outputs": [],
   "source": [
    "#just for debugging\n",
    "#reload(plot)\n",
    "#reload(calculate)\n",
    "#data = plot.plot_regress_performance_on_inequality(groupByYearData, 'cum_num_pub', years, CAREER_LENGTH)"
   ]
  },
  {
   "cell_type": "markdown",
   "metadata": {
    "collapsed": true
   },
   "source": [
    "### Cohort Analysis, Regression analysis on authors grouped by 2 years for 15 years\n",
    "\n",
    "Regression???\n",
    "outcome variable: inequality of each cohort an each time interval (2 years)\n",
    "Indepent variable: number of publications that the cohort produced during the time interval\n",
    "\n",
    "Question: are more inequal groups, more productive?  "
   ]
  },
  {
   "cell_type": "code",
   "execution_count": null,
   "metadata": {
    "collapsed": false
   },
   "outputs": [],
   "source": [
    "#groupByYearData = authorPublicationData.copy(deep=True)\n",
    "#print(groupByYearData[groupByYearData['author'] == 'donatella sciuto'].head(10))\n",
    "#groupByYearData = calculate.groupDataAndCalculateCumulativeValues(groupByYearData, 2, 'num_pub')\n",
    "#print(groupByYearData[groupByYearData['author'] == 'donatella sciuto'].head(10))\n",
    "\n",
    "#years = groupByYearData['year'].unique()\n",
    "#years = sorted(years)\n",
    "#print(years)\n",
    "\n",
    "#plot.plot_cohort_analysis_on(groupByYearData, 'num_pub', cohort_start_years, CAREER_LENGTH, 'Publications Count')\n",
    "#plot.plot_cohort_analysis_on(groupByYearData, 'cum_num_pub', cohort_start_years, CAREER_LENGTH, 'Cumulative Publications Count')\n",
    "#data1 = plot.plot_regress_performance_on_inequality(groupByYearData, 'num_pub', years, CAREER_LENGTH)\n",
    "#data2 = plot.plot_regress_performance_on_inequality(groupByYearData, 'cum_num_pub', years, CAREER_LENGTH)"
   ]
  },
  {
   "cell_type": "markdown",
   "metadata": {},
   "source": [
    "### Cohort Analysis, Regression analysis on authors grouped by 3 years for 15 years"
   ]
  },
  {
   "cell_type": "code",
   "execution_count": null,
   "metadata": {
    "collapsed": false
   },
   "outputs": [],
   "source": [
    "#groupByYearData = authorPublicationData.copy(deep=True)\n",
    "#print(groupByYearData[groupByYearData['author'] == 'donatella sciuto'].head(10))\n",
    "#groupByYearData = calculate.groupDataAndCalculateCumulativeValues(groupByYearData, 3, 'num_pub')\n",
    "#print(groupByYearData[groupByYearData['author'] == 'donatella sciuto'].head(10))\n",
    "\n",
    "#years = groupByYearData['year'].unique()\n",
    "#years = sorted(years)\n",
    "#print(years)\n",
    "\n",
    "#plot.plot_cohort_analysis_on(groupByYearData, 'num_pub', cohort_start_years, CAREER_LENGTH, 'Publications Count')\n",
    "#plot.plot_cohort_analysis_on(groupByYearData, 'cum_num_pub', cohort_start_years, CAREER_LENGTH, 'Cumulative Publications Count')\n",
    "#data1 = plot.plot_regress_performance_on_inequality(groupByYearData, 'num_pub', years, CAREER_LENGTH)\n",
    "#data2 = plot.plot_regress_performance_on_inequality(groupByYearData, 'cum_num_pub', years, CAREER_LENGTH)"
   ]
  },
  {
   "cell_type": "code",
   "execution_count": null,
   "metadata": {
    "collapsed": true
   },
   "outputs": [],
   "source": []
  }
 ],
 "metadata": {
  "kernelspec": {
   "display_name": "Python [Root]",
   "language": "python",
   "name": "Python [Root]"
  },
  "language_info": {
   "codemirror_mode": {
    "name": "ipython",
    "version": 3
   },
   "file_extension": ".py",
   "mimetype": "text/x-python",
   "name": "python",
   "nbconvert_exporter": "python",
   "pygments_lexer": "ipython3",
   "version": "3.5.1"
  }
 },
 "nbformat": 4,
 "nbformat_minor": 2
}
