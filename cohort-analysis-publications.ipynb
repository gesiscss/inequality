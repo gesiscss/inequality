{
 "cells": [
  {
   "cell_type": "code",
   "execution_count": null,
   "metadata": {},
   "outputs": [],
   "source": [
    "import pandas as pd\n",
    "import numpy as np\n",
    "import matplotlib.pyplot as plt\n",
    "%matplotlib inline\n",
    "import timeit\n",
    "# import seaborn as sns\n",
    "\n",
    "#these are user defined modules\n",
    "import plot\n",
    "import calculate"
   ]
  },
  {
   "cell_type": "markdown",
   "metadata": {},
   "source": [
    "### Cohort Analysis\n",
    "\n",
    "For each (filtered) cohort analyze how the distribution of publications and citations changes in the cohort over time.\n",
    "At the beginning all scientists should be equal (they have zero publications and citations). Over time some scientists become more productive and/or successful than others which leads to an increase in the Gini coefficient."
   ]
  },
  {
   "cell_type": "markdown",
   "metadata": {
    "heading_collapsed": true
   },
   "source": [
    "### Read Gender details"
   ]
  },
  {
   "cell_type": "code",
   "execution_count": null,
   "metadata": {
    "hidden": true
   },
   "outputs": [],
   "source": [
    "# read gender details - the column names are name, gender - change it to author, gender\n",
    "gender = pd.read_csv('./data/name_gender_2017_asiansAsNone.txt')\n",
    "gender.rename(columns={'name':'author'}, inplace=True)"
   ]
  },
  {
   "cell_type": "code",
   "execution_count": null,
   "metadata": {
    "hidden": true
   },
   "outputs": [],
   "source": [
    "print(gender.shape)\n",
    "gender = gender.drop_duplicates()\n",
    "print(gender.shape)\n",
    "# Gender file is full of duplicates. As we use the author's name as ID, duplicate entries provide no extra info"
   ]
  },
  {
   "cell_type": "code",
   "execution_count": null,
   "metadata": {
    "hidden": true
   },
   "outputs": [],
   "source": [
    "gender_stats = gender.groupby('gender').size().to_frame()\n",
    "gender_stats.columns = ['count']\n",
    "gender_total = gender_stats['count'].sum()\n",
    "gender_stats['percentage'] = gender_stats['count'].apply(lambda x: x/gender_total*100)\n",
    "print(\"Number of unique authors: \", gender['author'].nunique())\n",
    "gender_stats.head()"
   ]
  },
  {
   "cell_type": "markdown",
   "metadata": {
    "heading_collapsed": true
   },
   "source": [
    "### Read authors with start and end year details"
   ]
  },
  {
   "cell_type": "code",
   "execution_count": null,
   "metadata": {
    "hidden": true
   },
   "outputs": [],
   "source": [
    "# Different files exists depending upon their career length\n",
    "# CAREER_LENGTH = 15 means the authors who have atleast 15 years of experience\n",
    "CAREER_LENGTH_LIST = [0,5,10,15,20,25]\n",
    "CAREER_LENGTH = 15\n",
    "#max_years = 15\n",
    "\n",
    "authorStartEndCareerData = pd.read_csv('./data/authors-scientific-atleast-'+str(CAREER_LENGTH)+'-year.csv')\n",
    "\n",
    "print('authorStartEndCareerData before filtering - ',authorStartEndCareerData.shape[0])\n",
    "authorStartEndCareerData = authorStartEndCareerData[authorStartEndCareerData[\"start_year\"] >= 1970]\n",
    "print('authorStartEndCareerData after filtering - ',authorStartEndCareerData.shape[0])\n",
    "\n",
    "print(\"author unique names  - \", authorStartEndCareerData['author'].nunique())\n",
    "authorStartEndCareerData.head()"
   ]
  },
  {
   "cell_type": "markdown",
   "metadata": {
    "heading_collapsed": true
   },
   "source": [
    "### Merge credible authors and their gender information"
   ]
  },
  {
   "cell_type": "code",
   "execution_count": null,
   "metadata": {
    "hidden": true
   },
   "outputs": [],
   "source": [
    "authorStartEndCareerData = pd.merge(authorStartEndCareerData, gender, how=\"left\", on=[\"author\"])\n",
    "# for authors whose gender not found, replace it with none\n",
    "authorStartEndCareerData['gender'] = authorStartEndCareerData['gender'].fillna('none')\n",
    "\n",
    "# print(\"authorStartEndCareerData with duplicates: \", authorStartEndCareerData.shape[0])\n",
    "# authorStartEndCareerData = authorStartEndCareerData.drop_duplicates()\n",
    "print(\"authorStartEndCareerData no duplicates: \", authorStartEndCareerData.shape[0])\n",
    "\n",
    "authorStartEndCareerData.head()"
   ]
  },
  {
   "cell_type": "code",
   "execution_count": null,
   "metadata": {
    "code_folding": [
     0
    ],
    "hidden": true
   },
   "outputs": [],
   "source": [
    "#axes = authorStartEndCareerData.boxplot(column='pub_count', by='gender', return_type='axes')\n",
    "#for ax in axes.values():\n",
    "#    ax.set_ylim(0, 200)\n",
    "#plt.show()"
   ]
  },
  {
   "cell_type": "markdown",
   "metadata": {
    "heading_collapsed": true
   },
   "source": [
    "### Read Publication data"
   ]
  },
  {
   "cell_type": "code",
   "execution_count": null,
   "metadata": {
    "hidden": true
   },
   "outputs": [],
   "source": [
    "authorPublicationData = pd.read_csv('./data/author_publications_2017_asiansAsNone.txt')\n",
    "print('authorPublicationData before filtering - ',authorPublicationData.shape[0])\n",
    "authorPublicationData = authorPublicationData[authorPublicationData[\"year\"] >= 1970]\n",
    "print('authorPublicationData after filtering - ',authorPublicationData.shape[0])\n",
    "\n",
    "authorPublicationData = authorPublicationData.groupby(['year','author']).count().reset_index()\n",
    "authorPublicationData.rename(columns={'pub_id':'num_pub'}, inplace=True)\n",
    "\n",
    "print(np.unique(authorStartEndCareerData[\"start_year\"]))\n",
    "\n",
    "authorPublicationData.head()"
   ]
  },
  {
   "cell_type": "markdown",
   "metadata": {
    "heading_collapsed": true
   },
   "source": [
    "### Merge Publications with credible authors and their gender information"
   ]
  },
  {
   "cell_type": "code",
   "execution_count": null,
   "metadata": {
    "hidden": true
   },
   "outputs": [],
   "source": [
    "authorPublicationData = pd.merge(authorPublicationData, authorStartEndCareerData, how=\"left\", on=[\"author\"])\n",
    "\n",
    "\n",
    "print(\"authorPublicationData before filtering: \", authorPublicationData.shape[0])\n",
    "authorPublicationData = authorPublicationData.dropna(how='any')\n",
    "print(\"authorPublicationData after filtering: \", authorPublicationData.shape[0])\n",
    "\n",
    "print(\"authorPublicationData with duplicates: \", authorPublicationData.shape[0])\n",
    "authorPublicationData = authorPublicationData.drop_duplicates()\n",
    "print(\"authorPublicationData no duplicates: \", authorPublicationData.shape[0])\n",
    "\n",
    "#print(authorPublicationData.head(n=2))\n",
    "print(authorPublicationData['author'].nunique())\n",
    "#print(authorPublicationData.shape[0])\n",
    "\n",
    "\n",
    "#print(authorPublicationData[authorPublicationData.author==\"a min tjoa\"])\n",
    "authorPublicationData.head()"
   ]
  },
  {
   "cell_type": "code",
   "execution_count": null,
   "metadata": {
    "hidden": true
   },
   "outputs": [],
   "source": [
    "pl = authorPublicationData.boxplot(column='num_pub', by='gender', showfliers=False)\n",
    "plt.title(\"Number of publications per year\")\n",
    "plt.suptitle(\"\")\n",
    "pl.set_xlabel('gender')\n",
    "pl.set_ylabel('num publications')\n",
    "pl.set_ylim([-1,10])\n",
    "plt.show()"
   ]
  },
  {
   "cell_type": "code",
   "execution_count": null,
   "metadata": {
    "hidden": true
   },
   "outputs": [],
   "source": [
    "ax = authorStartEndCareerData.boxplot(column='total_num_pub', by='gender', showfliers=False)\n",
    "plt.title(\"Number of publications - total\")\n",
    "plt.suptitle(\"\")\n",
    "ax.set_xlabel('gender')\n",
    "ax.set_ylabel('num publications')\n",
    "# fig.set_tight_layout(False)\n",
    "plt.show()"
   ]
  },
  {
   "cell_type": "markdown",
   "metadata": {
    "heading_collapsed": true
   },
   "source": [
    "### Cohort Analysis on all authors for 15 years"
   ]
  },
  {
   "cell_type": "code",
   "execution_count": null,
   "metadata": {
    "hidden": true
   },
   "outputs": [],
   "source": [
    "print(authorPublicationData.head(n=1))\n",
    "\n",
    "groupByYearData = authorPublicationData.copy(deep=True)\n",
    "print(groupByYearData[groupByYearData['author'] == 'donatella sciuto'].head(3))\n",
    "print(np.unique(groupByYearData[\"year\"]))\n",
    "\n",
    "groupByYearData = calculate.groupDataAndCalculateCumulativeValues(groupByYearData, 1, 'num_pub')\n",
    "print(groupByYearData[groupByYearData['author'] == 'donatella sciuto'].head(3))\n",
    "print(np.unique(groupByYearData[\"year\"]))"
   ]
  },
  {
   "cell_type": "code",
   "execution_count": null,
   "metadata": {
    "hidden": true
   },
   "outputs": [],
   "source": [
    "years = groupByYearData['year'].unique()\n",
    "years = sorted(years)\n",
    "print(years)"
   ]
  },
  {
   "cell_type": "code",
   "execution_count": null,
   "metadata": {
    "hidden": true
   },
   "outputs": [],
   "source": [
    "groupByYearData.head()"
   ]
  },
  {
   "cell_type": "markdown",
   "metadata": {},
   "source": [
    "## Analyze plot file functions"
   ]
  },
  {
   "cell_type": "code",
   "execution_count": null,
   "metadata": {
    "code_folding": [
     0,
     102,
     137,
     160
    ]
   },
   "outputs": [],
   "source": [
    "def get_cohort_stats(data, start_year, max_years, criterion, cohort_size_gini):\n",
    "    # input: data frame, cohort start year, num years we want to follow each cohort\n",
    "    # output: for the cohort that started in input-year we compute for each career age statistics\n",
    "    # cumnum_over_years: compute mean, median, std of distribution (e.g. publications, citations cum pub, cum cit)\n",
    "    # gini_over_years: stored for each career age of one cohort the gini of the distr (pub, cit, cum pub, cum cit)\n",
    "    # cohort_size_gini: stores cohort start yea, cohort size, career age and gini\n",
    "    \n",
    "    f = open('fig/inactive_'+criterion+'.txt','w') \n",
    "\n",
    "\n",
    "    cohort = data[data[\"start_year\"]==start_year]\n",
    "    cohort_authors = cohort[\"author\"].values\n",
    "    cohort_size  = len(cohort_authors)\n",
    "    f.write(\"\\n \\n \\n COHORT START YEAR: \"+str(start_year)+\"  ---  size:\"+str(cohort_size)) \n",
    "    \n",
    "    # Problem: authors who do not publish in y year dont show up\n",
    "    # we need to set their value to 0 or to the value of previous year (for cumulative calculation)   \n",
    "    df_values = pd.DataFrame(cohort[['author', 'gender']])\n",
    "    df_values['prev_value'] = [0]* df_values.shape[0]\n",
    "\n",
    "   \n",
    "    \n",
    "    subsequent_years = [(start_year+i) for i in range (0, max_years)]\n",
    "  \n",
    "    \n",
    "    gini_over_years = pd.Series(data=0, index=subsequent_years)\n",
    "    cumnum_over_years = pd.DataFrame(data=0, index=subsequent_years, \\\n",
    "                                         columns=[\"mean\", \"std\", \"mean_f\", \"median_f\", \"std_f\", \"mean_m\", \"median_m\", \\\n",
    "                                                  \"std_m\", \"mean_n\", \"median_n\", \"std_n\"])\n",
    "    \n",
    "    # extract num publications/citations for the cohort in all future years\n",
    "    for y in subsequent_years:\n",
    "       \n",
    "        f.write(\"\\n subsequent_year: \"+str(y) )\n",
    "        \n",
    "        temp = cohort[cohort[\"year\"]==y]\n",
    "        # size will show how many people received citatins or published papers in that year\n",
    "        #print(\"******************************** temp: cohort size in year\"+str(y)+\" size \"+str(temp.shape[0]))\n",
    "      \n",
    "        # make sure cohort is not shrinking\n",
    "        df_values = pd.merge(df_values,temp[['author',criterion]], how='left', on='author')\n",
    "        #print(\"make sure cohort is not shrinking --> subsequent_year:  \"+str(y)+\" cohort values\"+str(len(df_values[criterion].astype(\"float\").values)))\n",
    "        \n",
    "        #Take the current values. If NaN or None then consider the previous values\n",
    "        df_values[criterion] = df_values[criterion].combine_first(df_values['prev_value'])\n",
    "        \n",
    "      \n",
    "        # If it is cumulative then previous values is set with current\n",
    "        # Otherwise previous value will always be 0\n",
    "        if(criterion.startswith('cum_')) :\n",
    "            df_values['prev_value'] = df_values[criterion]\n",
    "\n",
    "     \n",
    "        temp_count = len(df_values[criterion].astype(\"float\").values)\n",
    "        #print(\"temp_count (length of distribution of pubs/cits):   \"+str(temp_count))    \n",
    "        \n",
    "        if temp_count > 0:\n",
    "            # gini per year based on (cum) num of publications/citations of all authors in this year    \n",
    "            gini_over_years.loc[y] = calculate.gini(df_values[criterion].astype(\"float\").values)\n",
    "            \n",
    "            # BUG\n",
    "            # BUG: gini was previously computed based on temp dataframe which only contains values when people publish\n",
    "            # Gini tends to increase with array-length and in more recent cohorts people publish more --> inequality emerges\n",
    "            # if we compute gini over df_values we keep values from previous year is someone did not \n",
    "            # publish anything in the current year --> i.e. distribution becomes longer\n",
    "            #gini_over_years.loc[y] = calculate.gini(temp[criterion].astype(\"float\").values)\n",
    "            \n",
    "            #fraction of inactive people\n",
    "            num_inactive_people = len(df_values[criterion].astype(\"float\").values) - len(temp[criterion].astype(\"float\").values)\n",
    "            one_percent = len(df_values[criterion].astype(\"float\").values)/100\n",
    "            fraction_inactive = num_inactive_people/one_percent\n",
    "            f.write(\" fraction_inactive: \"+str(fraction_inactive))\n",
    "            \n",
    "            \n",
    "            temp_male = df_values[df_values[\"gender\"]==\"m\"]\n",
    "            temp_female = df_values[df_values[\"gender\"]==\"f\"]\n",
    "            temp_none = df_values[df_values[\"gender\"]==\"none\"]\n",
    "\n",
    "            cumnum_over_years.loc[y] = [np.mean(df_values[criterion].astype(\"float\").values), \n",
    "                                               stats.sem(df_values[criterion].astype(\"float\").values),\n",
    "                                               np.mean(temp_female[criterion].astype(\"float\").values), \n",
    "                                               np.median(temp_female[criterion].astype(\"float\").values), \n",
    "                                               stats.sem(temp_female[criterion].astype(\"float\").values),\n",
    "                                               np.mean(temp_male[criterion].astype(\"float\").values), \n",
    "                                               np.median(temp_male[criterion].astype(\"float\").values), \n",
    "                                               stats.sem(temp_male[criterion].astype(\"float\").values),\n",
    "                                               np.mean(temp_none[criterion].astype(\"float\").values), \n",
    "                                               np.median(temp_none[criterion].astype(\"float\").values), \n",
    "                                               stats.sem(temp_none[criterion].astype(\"float\").values)]\n",
    "        else:\n",
    "            print(\"Here no values for gini calculation found!!!!!!!!!!!!!!!!!!!\")\n",
    "            gini_over_years.loc[y] = np.nan\n",
    "            cumnum_over_years.loc[y] = [np.nan, np.nan, np.nan, np.nan, np.nan, np.nan, np.nan, np.nan]\n",
    "               \n",
    "        \n",
    "        cohort_size_gini = cohort_size_gini.append( pd.DataFrame([[start_year, cohort_size, y, gini_over_years[y]]], \n",
    "                                 columns=[\"cohort_start_year\", \"cohort_size\", \"year\", \"gini\"]), ignore_index =True)  \n",
    "        # maintain only author and prev_value for calculations    \n",
    "        df_values = df_values[['author','gender','prev_value']]\n",
    "    \n",
    "    f.close()     \n",
    "    return (cumnum_over_years, cohort_size_gini, gini_over_years) \n",
    "def init_plotting():\n",
    "    #print(plt.style.available)\n",
    "    #plt.style.use(['seaborn-paper'])\n",
    "    plt.rcParams.update({'figure.autolayout': True})\n",
    "    plt.rcParams['font.size'] = 14\n",
    "    plt.style.use(['seaborn-whitegrid'])\n",
    "    #plt.rcParams['figure.figsize'] = (8, 3)\n",
    "    #plt.gca().spines['right'].set_color('none')\n",
    "    #plt.gca().spines['top'].set_color('none')\n",
    "    #plt.gca().xaxis.set_ticks_position('bottom')\n",
    "    #plt.gca().yaxis.set_ticks_position('left')\n",
    "    #plt.rcParams['font.family'] = 'Times New Roman'\n",
    "    plt.rcParams['font.family'] = 'serif'\n",
    "    plt.rcParams['font.serif'] = 'Ubuntu'\n",
    "    plt.rcParams['font.monospace'] = 'Ubuntu Mono'\n",
    "    plt.rcParams['axes.labelsize'] = plt.rcParams['font.size']\n",
    "    plt.rcParams['axes.titlesize'] = 1.5*plt.rcParams['font.size']\n",
    "    plt.rcParams['legend.fontsize'] = plt.rcParams['font.size']\n",
    "    plt.rcParams['xtick.labelsize'] = plt.rcParams['font.size']\n",
    "    plt.rcParams['ytick.labelsize'] = plt.rcParams['font.size']\n",
    "    #plt.rcParams[\"font.weight\"] = \"bold\"\n",
    "    #plt.rcParams[\"axes.labelweight\"] = \"bold\"\n",
    "    #plt.rcParams['savefig.dpi'] = 2*plt.rcParams['savefig.dpi']\n",
    "    plt.rcParams['xtick.major.size'] = 5\n",
    "    plt.rcParams['xtick.minor.size'] = 5\n",
    "    plt.rcParams['xtick.major.width'] = 1\n",
    "    plt.rcParams['xtick.minor.width'] = 1\n",
    "    plt.rcParams['ytick.major.size'] = 5\n",
    "    plt.rcParams['ytick.minor.size'] = 5\n",
    "    plt.rcParams['ytick.major.width'] = 1\n",
    "    plt.rcParams['ytick.minor.width'] = 1\n",
    "    plt.rcParams['legend.frameon'] = False\n",
    "    plt.rcParams['legend.loc'] = 'upper left'\n",
    "    plt.rcParams['axes.linewidth'] = 4\n",
    "    return plt\n",
    "def plot_gender_numcum(ax, cohort_duration, selected_cumnum_df, year, selected_stat):\n",
    "    init_plotting()\n",
    "    ax.plot(cohort_duration, selected_cumnum_df[selected_stat+\"_f\"].values,  label='women', color=\"red\")\n",
    "    if (selected_stat == \"mean\"):\n",
    "        ax.fill_between(cohort_duration, selected_cumnum_df[\"mean_f\"].values-selected_cumnum_df[\"sem_f\"].values, \n",
    "                    selected_cumnum_df[\"mean_f\"].values+selected_cumnum_df[\"sem_f\"].values,\n",
    "                    alpha=0.2, edgecolor='red', facecolor='red',\n",
    "                    linewidth=4, linestyle='dashdot', antialiased=True)\n",
    "    \n",
    "    ax.plot(cohort_duration, selected_cumnum_df[selected_stat+\"_m\"].values,  label='men', color=\"blue\")\n",
    "    if(selected_stat == \"mean\"):\n",
    "        ax.fill_between(cohort_duration, selected_cumnum_df[\"mean_m\"].values-selected_cumnum_df[\"sem_m\"].values, \n",
    "                    selected_cumnum_df[\"mean_m\"].values+selected_cumnum_df[\"sem_m\"].values,\n",
    "                    alpha=0.2, edgecolor='blue', facecolor='blue',\n",
    "                    linewidth=4, linestyle='dashdot', antialiased=True)\n",
    "\n",
    "    ax.plot(cohort_duration, selected_cumnum_df[selected_stat+\"_n\"].values,  label='unknown', color=\"grey\")\n",
    "    if(selected_stat == \"mean\"):\n",
    "        ax.fill_between(cohort_duration, selected_cumnum_df[\"mean_n\"].values-selected_cumnum_df[\"sem_n\"].values, \n",
    "                    selected_cumnum_df[\"mean_n\"].values+selected_cumnum_df[\"sem_n\"].values,\n",
    "                    alpha=0.2, edgecolor='grey', facecolor='grey',\n",
    "                    linewidth=4, linestyle='dashdot', antialiased=True) \n",
    "    return ax\n",
    "def plot_cohort_size_gini_cor(data, criterion, max_years, criteria_display):\n",
    "    \n",
    "    # It computes the correlation between cohort size and gini for all cohorts at every career age\n",
    "    # and plots it for each career age \n",
    "    \n",
    "    # data - the dataframe contains: cohort-start-year, cohort-size, year, gini\n",
    "    # criterion - 'cum_num_pub' (or) 'cum_num_cit' (or) 'num_pub' (or) 'num_cit'\n",
    "      # If you are referring to cumulative values then the name should start with 'cum_'\n",
    "    # max_years - no. of years the analysis need to be carried out\n",
    "    # criteria_display - 'Cumulative Publication Count' (or) 'Cumulative Citation Count'\n",
    "    \n",
    "    #plt = init_plotting()\n",
    "    \n",
    "    res_cor_size = pd.DataFrame(columns=[\"career_age\", \"cor\", \"p\", \"num_obs\"])\n",
    "    res_cor_year = pd.DataFrame(columns=[\"career_age\", \"cor\", \"p\", \"num_obs\"])\n",
    "    \n",
    "    # transfor subsequent year into 0-15\n",
    "    data[\"career_age\"] = data[\"year\"]  - data[\"cohort_start_year\"] \n",
    "    data[\"ordered_cohort_start_year\"] = data[\"cohort_start_year\"] - 1970\n",
    "    print(data.head())\n",
    "    \n",
    "    #fig = plt.figure(figsize=(16,10))\n",
    "    #ax.set_xlabel(\"cohort size\")\n",
    "    #ax.set_ylabel(\"Gini\")\n",
    "    \n",
    "    if(max_years >= 15):\n",
    "        cols = 5\n",
    "    else:\n",
    "        cols = 3   \n",
    "    nrows = int(math.ceil(float(max_years)/float(cols)))\n",
    "    \n",
    "    # (1) plot cor between cohort size and gini\n",
    "    fig, ax = plt.subplots(nrows=nrows, ncols=cols, sharex=True, sharey=True, figsize=(16,10))\n",
    "    ax_outside = fig.add_subplot(111, frameon=False)\n",
    "    plt.tick_params(labelcolor='none', top='off', bottom='off', left='off', right='off')\n",
    "    ax_outside.set_xlabel('Cohort Size', labelpad=20, fontweight=\"bold\") \n",
    "    ax_outside.set_ylabel('Gini ('+criteria_display+')', labelpad=20, fontweight=\"bold\")\n",
    "    \n",
    "    #(2) plot cor between cohort start year and gini\n",
    "    fig2, ax2 = plt.subplots(nrows=nrows, ncols=cols, sharex=True, sharey=True, figsize=(16,10))\n",
    "    ax_outside2 = fig2.add_subplot(111, frameon=False)\n",
    "    plt.tick_params(labelcolor='none', top='off', bottom='off', left='off', right='off')\n",
    "    ax_outside2.set_xlabel('Cohort Start Year', labelpad=20, fontweight=\"bold\") \n",
    "    ax_outside2.set_ylabel('Gini ('+criteria_display+')', labelpad=20, fontweight=\"bold\")\n",
    "\n",
    "    \n",
    "    #fig.text(0.5, 0.0, 'Cohort Size', ha='center')\n",
    "    #fig.text(0.0, 0.5, 'Gini ('+criteria_display+')', va='center', rotation='vertical')\n",
    "    \n",
    "    plt.tight_layout()\n",
    "       \n",
    "    unique_career_ages = np.unique(data[\"career_age\"])\n",
    "    print(unique_career_ages)\n",
    "    i=0\n",
    "    j=0\n",
    "    # get gini and cohort size data for each career age\n",
    "    for age in unique_career_ages:\n",
    "        temp = data[data[\"career_age\"]==age]\n",
    "        pcor = stats.pearsonr(temp[\"cohort_size\"], temp[\"gini\"])\n",
    "        pcor2 = stats.pearsonr(temp[\"cohort_start_year\"], temp[\"gini\"])\n",
    "        num_obs = len(temp[\"cohort_size\"])\n",
    "        num_obs = len(temp[\"cohort_start_year\"])\n",
    "        res_cor_size = res_cor_size.append(pd.DataFrame([[age, pcor[0], pcor[1], num_obs]], columns=[\"career_age\", \"cor\", \"p\", \"num_obs\"]), \n",
    "                         ignore_index=True)\n",
    "        res_cor_year = res_cor_year.append(pd.DataFrame([[age, pcor[0], pcor[1], num_obs]], columns=[\"career_age\", \"cor\", \"p\", \"num_obs\"]), \n",
    "                         ignore_index=True)\n",
    "        if age < max_years:    \n",
    "            #ax1 = fig.add_subplot(nrows, cols, i)\n",
    "            eps = np.finfo(np.float32).eps \n",
    "            \n",
    "            ax2[i,j].scatter(temp[\"cohort_start_year\"], temp[\"gini\"],  c=\"r\", s=6)\n",
    "            m, b = np.polyfit(np.float32(temp[\"cohort_start_year\"]), temp[\"gini\"], 1, rcond = len(temp[\"cohort_start_year\"])*eps)\n",
    "            ax2[i,j].plot(temp[\"cohort_start_year\"], m*temp[\"cohort_start_year\"] + b, '-')\n",
    "            ax2[i,j].set_title(\"Age \"+str(int(age))+\" (c=\"+str(np.around(pcor2[0], decimals=2))+\" p=\"+str(np.around(pcor2[1],decimals=3))+\")\", fontsize=12, fontweight=\"bold\")\n",
    "            #ax2[i,j].text(1975, 0.16, \"cor=\"+str(np.around(pcor2[0], decimals=2))+\" p=\"+str(np.around(pcor2[1],decimals=2)))\n",
    "            labels =  ax2[i,j].get_xticklabels()\n",
    "            plt.setp(labels,  rotation=45, fontsize=12, figure=fig2)\n",
    "\n",
    "            ax[i,j].scatter(temp[\"cohort_size\"], temp[\"gini\"],  c=\"r\", s=6)\n",
    "            m, b = np.polyfit(np.float32(temp[\"cohort_size\"]), temp[\"gini\"], 1, rcond = len(temp[\"cohort_start_year\"])*eps)\n",
    "            ax[i,j].plot(temp[\"cohort_size\"], m*temp[\"cohort_size\"] + b, '-')\n",
    "            ax[i,j].set_title(\"Age \"+str(int(age))+\" (c=\"+str(np.around(pcor[0], decimals=2))+\" p=\"+str(np.around(pcor[1],decimals=3))+\")\", fontsize=12, fontweight=\"bold\")\n",
    "            #ax[i,j].text(0.002, 0.16, \"cor=\"+str(np.around(pcor[0], decimals=2))+\" p=\"+str(np.around(pcor[1],decimals=2)))\n",
    "            labels =  ax[i,j].get_xticklabels()\n",
    "            plt.setp(labels, rotation=45, fontsize=12, figure=fig)\n",
    "            \n",
    "            if (j < cols-1):\n",
    "                j = j+1\n",
    "            else:\n",
    "                j=0\n",
    "                i = i+1\n",
    "            \n",
    "        \n",
    "    res_cor_size.to_csv(\"fig/cor_cohortSize_gini_\"+criterion+\".csv\")\n",
    "    fig.show()\n",
    "    fig.savefig(\"fig/cor_cohortSize_gini_\"+criterion+\".png\", facecolor=fig.get_facecolor(), edgecolor='none', bbox_inches='tight')\n",
    "    \n",
    "    res_cor_year.to_csv(\"fig/cor_cohortStartYear_gini_\"+criterion+\".csv\")\n",
    "    fig2.show()\n",
    "    fig2.savefig(\"fig/cor_cohortStartYear_gini_\"+criterion+\".png\", facecolor=fig2.get_facecolor(), edgecolor='none', bbox_inches='tight')\n",
    "    \n",
    "    #plt.close(fig)\n",
    "END_YEAR = 2015\n",
    "import scipy.stats as stats\n",
    "from sklearn import linear_model\n",
    "import math\n",
    "# import seaborn as sns\n",
    "from matplotlib.font_manager import FontProperties"
   ]
  },
  {
   "cell_type": "code",
   "execution_count": null,
   "metadata": {},
   "outputs": [],
   "source": [
    "years"
   ]
  },
  {
   "cell_type": "code",
   "execution_count": null,
   "metadata": {},
   "outputs": [],
   "source": [
    "data = groupByYearData\n",
    "criterion = 'num_pub'\n",
    "start_years = years\n",
    "max_years = 15\n",
    "criteria_display='Publications Count'"
   ]
  },
  {
   "cell_type": "code",
   "execution_count": null,
   "metadata": {},
   "outputs": [],
   "source": [
    "plt = init_plotting()\n",
    "step = start_years[1] - start_years[0]\n",
    "gini_per_cohort = pd.DataFrame(index=start_years)\n",
    "cumnum_per_cohort = pd.DataFrame(index=start_years)\n",
    "fig1 = plt.figure()\n",
    "fig1.patch.set_facecolor('white')\n",
    "ax1 = fig1.add_subplot(1,1,1) #axisbg=\"white\"\n",
    "fig2 = plt.figure()\n",
    "fig2.patch.set_facecolor('white')\n",
    "ax2 = fig2.add_subplot(1,1,1) #, axisbg=\"white\"\n",
    "cohort_duration = np.arange(max_years)\n",
    "i=0 # to point to the right figure\n",
    "j=0\n",
    "cohort_size_gini = pd.DataFrame(columns=[\"cohort_start_year\", \"cohort_size\", \"year\", \"gini\"])\n",
    "cols=2\n",
    "cohort_start_years = [y for y in start_years if y < (END_YEAR - max_years)]\n",
    "if(len(cohort_start_years)>10):\n",
    "    cols=6\n",
    "\n",
    "nrows = math.ceil(float(len(cohort_start_years))/float(cols))\n",
    "nrows = int(nrows)\n",
    "\n",
    "fig3, ax3 = plt.subplots(nrows, cols, sharex=True, sharey='row', figsize=(16,10)) #sharey=True, \n",
    "# Create a big subplot to created axis labels that scale with figure size\n",
    "ax_outside = fig3.add_subplot(111, frameon=False)\n",
    "# hide tick and tick label of the big axes\n",
    "plt.tick_params(labelcolor='none', top='off', bottom='off', left='off', right='off')\n",
    "ax_outside.set_xlabel('Career Age', labelpad=20, fontweight='bold') \n",
    "ax_outside.set_ylabel('Mean '+criteria_display, labelpad=20, fontweight='bold')\n",
    "\n",
    "plt.tight_layout() "
   ]
  },
  {
   "cell_type": "code",
   "execution_count": null,
   "metadata": {},
   "outputs": [],
   "source": [
    "cumnum_over_years.head()"
   ]
  },
  {
   "cell_type": "code",
   "execution_count": null,
   "metadata": {},
   "outputs": [],
   "source": [
    "cohort_size_gini.head()"
   ]
  },
  {
   "cell_type": "code",
   "execution_count": null,
   "metadata": {},
   "outputs": [],
   "source": [
    "gini_over_years"
   ]
  },
  {
   "cell_type": "code",
   "execution_count": null,
   "metadata": {},
   "outputs": [],
   "source": [
    "for year in cohort_start_years: \n",
    "    (cumnum_over_years, cohort_size_gini, gini_over_years) = get_cohort_stats(data, year, max_years, criterion, cohort_size_gini)\n",
    "\n",
    "    gini_years_df = pd.DataFrame(gini_over_years.reset_index())\n",
    "    gini_years_df.columns = [\"year\", \"gini\"]\n",
    "    \n",
    "    gini_years = gini_years_df[\"year\"].values\n",
    "    gini_coefs= gini_years_df[\"gini\"].values\n",
    "    selected_gini_df = gini_years_df[(gini_years_df[\"year\"] >= year) &  \\\n",
    "                                     (gini_years_df[\"year\"] < (year+max_years))]\n",
    "\n",
    "    # limit plot to the N years during which we follow a cohort\n",
    "    #the length of cohort duration (x-axis) and y-axis values have to be the same\n",
    "    # faced by some problems regarding that because of grouping and so, the x-axis count values are taken from the final table\n",
    "    # say for e.g. when grouped by 2 years the values will be 0,2,4,6 ...\n",
    "    cohort_duration = np.arange(0,len(selected_gini_df[\"gini\"].values)*step, step)\n",
    "\n",
    "    ax1.plot(cohort_duration, selected_gini_df[\"gini\"])\n",
    "\n",
    "    #[\"mean\", \"std\", \"mean_f\", \"std_f\", \"mean_m\", \"std_m\", \"mean_n\", \"std_n\"])\n",
    "    cumnum_years_df = pd.DataFrame(cumnum_over_years.reset_index())\n",
    "    cumnum_years_df.columns = [\"year\", \"mean\", \"std\", \"mean_f\", \"median_f\", \"sem_f\", \\\n",
    "                               \"mean_m\", \"median_m\", \"sem_m\", \"mean_n\", \"median_n\", \"sem_n\"]\n",
    "\n",
    "    selected_cumnum_df = cumnum_years_df[(cumnum_years_df[\"year\"] >= year) &  \\\n",
    "                                         (cumnum_years_df[\"year\"] < (year+max_years))]\n",
    "    ax2.errorbar(cohort_duration, selected_cumnum_df[\"mean\"].values,  yerr=selected_cumnum_df[\"std\"].values)\n",
    "\n",
    "\n",
    "    ## plots the mean of publication/citation gender wise for each cohort\n",
    "    ax3[i,j] = plot_gender_numcum(ax3[i,j], cohort_duration, selected_cumnum_df, year, \"mean\")\n",
    "    ax3[i,j].set_title(str(year), fontsize=12, fontweight=\"bold\")\n",
    "\n",
    "    if (j<cols-1):\n",
    "        j = j+1\n",
    "    else:\n",
    "        j=0\n",
    "        i = i+1\n"
   ]
  },
  {
   "cell_type": "code",
   "execution_count": null,
   "metadata": {},
   "outputs": [],
   "source": [
    "# save gini results for cohort\n",
    "cohort_size_gini.to_csv(\"fig/gini_\"+criterion+\"_results.csv\")\n",
    "\n",
    "## plots the correlation plot between gini and cohort size\n",
    "plot_cohort_size_gini_cor(cohort_size_gini, criterion, max_years, criteria_display)\n",
    "\n",
    "ax1.set_ylabel('Gini ('+criteria_display+')', fontweight='bold')\n",
    "ax1.set_xlabel('Career Age', fontweight='bold')\n",
    "\n",
    "\n",
    "if len(cohort_start_years)<10:\n",
    "    ax1.legend(cohort_start_years)  \n",
    "fig1.savefig(\"fig/gini_\"+criterion+\".png\", facecolor=fig1.get_facecolor(), edgecolor='none', bbox_inches='tight')\n",
    "\n",
    "ax2.set_ylabel(\"Mean \"+criteria_display, fontweight='bold')\n",
    "ax2.set_xlabel('Career Age', fontweight='bold')\n",
    "\n",
    "\n",
    "if len(cohort_start_years)<10:\n",
    "    ax2.legend(cohort_start_years)  \n",
    "\n",
    "fig2.savefig(\"fig/mean_\"+criterion+\".png\", facecolor=fig2.get_facecolor(), edgecolor='none', bbox_inches='tight')\n",
    "fig3.savefig(\"fig/mean_\"+criterion+\"_gender.png\", facecolor=fig3.get_facecolor(), edgecolor='none', bbox_inches='tight')\n",
    "\n",
    "plt.tight_layout()\n",
    "plt.show()\n",
    "plt.close(fig1)\n",
    "plt.close(fig2)\n",
    "plt.close(fig3)"
   ]
  },
  {
   "cell_type": "code",
   "execution_count": null,
   "metadata": {
    "scrolled": false
   },
   "outputs": [],
   "source": [
    "# def plot_cohort_analysis_on(data, criterion, start_years, max_years, criteria_display):\n",
    "    \n",
    "# Compute and plot GINI of publication/citation distributions for each cohort over time.\n",
    "# criterion defines which distribution to use: publications, citations, cumulative publications, cumulative citations\n",
    "# Plots: \n",
    "# (1) fig1: gini of (cumulative) number of publications/citations for each cohort over time,\n",
    "# (2) fig2: mean (cumulative) number of publications/citations for each cohort over time,\n",
    "# (3) fig3: mean (cumulative) number of publications/citations for each cohort over time,\n",
    "# (4) correlation cohort size and inequality --> plot_cohort_size_gini_cor\n",
    "# (5) correlation cohort start year and inequality --> plot_cohort_size_gini_cor\n",
    "\n",
    "# This analysis can be done year wise - for which we use cumulative values - inorder to avoid too many zeros\n",
    "# otherwise it can be done in multiples of years - In this case we don't use cumulative values but the absolute ones \n",
    "# because the year duration is highly - most likely the authors will publish/get cited\n",
    "########### But for our analysis, we have used year wise and cumulative values. \n",
    "\n",
    "# data - the dataframe containing author publications or citations data\n",
    "# criterion - 'cum_num_pub' (or) 'cum_num_cit' (or) 'num_pub' (or) 'num_cit'\n",
    "  # If you are referring to cumulative values then the name should start with 'cum_'\n",
    "# max_years - no. of years the analysis need to be carried out\n",
    "# criteria_display - 'Cumulative Publication Count' (or) 'Cumulative Citation Count'\n",
    "\n",
    "plt = init_plotting()\n",
    "\n",
    "#if years are grouped then get the step limit - infer the group\n",
    "step = start_years[1] - start_years[0]\n",
    "\n",
    "#store for each cohort and year gini of publication and citation distribution\n",
    "gini_per_cohort = pd.DataFrame(index=start_years)\n",
    "#store for each cohort and year gini of cumulative publication and citationdistribution\n",
    "cumnum_per_cohort = pd.DataFrame(index=start_years)\n",
    "\n",
    "#(1) fig1: gini of (cumulative) number of publications/citations for each cohort over time\n",
    "fig1 = plt.figure()\n",
    "#plt.ylim(0, 0.7)\n",
    "fig1.patch.set_facecolor('white')\n",
    "ax1 = fig1.add_subplot(1,1,1) #axisbg=\"white\"\n",
    "\n",
    "\n",
    "#(2) fig2: mean (cumulative) number of publications/citations for each cohort over time,\n",
    "fig2 = plt.figure()\n",
    "fig2.patch.set_facecolor('white')\n",
    "ax2 = fig2.add_subplot(1,1,1) #, axisbg=\"white\"\n",
    "\n",
    "# limit plot to the N years during which we follow a cohort\n",
    "cohort_duration = np.arange(max_years)\n",
    "\n",
    "i=0 # to point to the right figure\n",
    "j=0\n",
    "cohort_size_gini = pd.DataFrame(columns=[\"cohort_start_year\", \"cohort_size\", \"year\", \"gini\"])\n",
    "\n",
    " # rearange subplots dynamically\n",
    "cols=2\n",
    "\n",
    "\n",
    "# TODOOOO: SELECT COHORT START YEARS FOR TESTING\n",
    "cohort_start_years = [y for y in start_years if y < (END_YEAR - max_years)]\n",
    "#cohort_start_years = [1974, 1984, 1994]\n",
    "\n",
    "\n",
    "\n",
    "# 15 cohorts\n",
    "if(len(cohort_start_years)>10):\n",
    "    cols=6\n",
    "\n",
    "nrows = math.ceil(float(len(cohort_start_years))/float(cols))\n",
    "nrows = int(nrows)\n",
    "\n",
    "# (3) fig3: mean (cumulative) number of publications/citations for each cohort over time\n",
    "fig3, ax3 = plt.subplots(nrows, cols, sharex=True, sharey='row', figsize=(16,10)) #sharey=True, \n",
    "# Create a big subplot to created axis labels that scale with figure size\n",
    "ax_outside = fig3.add_subplot(111, frameon=False)\n",
    "# hide tick and tick label of the big axes\n",
    "plt.tick_params(labelcolor='none', top='off', bottom='off', left='off', right='off')\n",
    "ax_outside.set_xlabel('Career Age', labelpad=20, fontweight='bold') \n",
    "ax_outside.set_ylabel('Mean '+criteria_display, labelpad=20, fontweight='bold')\n",
    "\n",
    "plt.tight_layout() \n",
    "\n",
    "# For each cohort, iterate all their careers and calculate the inequality of productivity (publications)\n",
    "# and success (citations)\n",
    "\n",
    "for year in cohort_start_years: \n",
    "\n",
    "    #get the cohort names\n",
    "    #print(year)\n",
    "    #print(start_years)\n",
    "    #print(\"get_cohort_stats\")\n",
    "    (cumnum_over_years, cohort_size_gini, gini_over_years) = get_cohort_stats(data, year, max_years, criterion, cohort_size_gini)\n",
    "\n",
    "    #print(\"RETURNED FROM get_cohort_stats\")\n",
    "    #print(cumnum_over_years.head(n=2))\n",
    "    #print(cohort_size_gini.head(n=2))\n",
    "    #print(gini_over_years.head(n=2))\n",
    "\n",
    "\n",
    "    gini_years_df = pd.DataFrame(gini_over_years.reset_index())\n",
    "    gini_years_df.columns = [\"year\", \"gini\"]\n",
    "    #gini_per_cohort[year] = gini_years_df\n",
    "\n",
    "    #print(gini_years_df.head())\n",
    "\n",
    "    gini_years = gini_years_df[\"year\"].values\n",
    "    gini_coefs= gini_years_df[\"gini\"].values\n",
    "    selected_gini_df = gini_years_df[(gini_years_df[\"year\"] >= year) &  \\\n",
    "                                     (gini_years_df[\"year\"] < (year+max_years))]\n",
    "\n",
    "\n",
    "    # limit plot to the N years during which we follow a cohort\n",
    "    #the length of cohort duration (x-axis) and y-axis values have to be the same\n",
    "    # faced by some problems regarding that because of grouping and so, the x-axis count values are taken from the final table\n",
    "    # say for e.g. when grouped by 2 years the values will be 0,2,4,6 ...\n",
    "    cohort_duration = np.arange(0,len(selected_gini_df[\"gini\"].values)*step, step)\n",
    "\n",
    "    ax1.plot(cohort_duration, selected_gini_df[\"gini\"])\n",
    "\n",
    "    #[\"mean\", \"std\", \"mean_f\", \"std_f\", \"mean_m\", \"std_m\", \"mean_n\", \"std_n\"])\n",
    "    cumnum_years_df = pd.DataFrame(cumnum_over_years.reset_index())\n",
    "    cumnum_years_df.columns = [\"year\", \"mean\", \"std\", \"mean_f\", \"median_f\", \"sem_f\", \\\n",
    "                               \"mean_m\", \"median_m\", \"sem_m\", \"mean_n\", \"median_n\", \"sem_n\"]\n",
    "\n",
    "    selected_cumnum_df = cumnum_years_df[(cumnum_years_df[\"year\"] >= year) &  \\\n",
    "                                         (cumnum_years_df[\"year\"] < (year+max_years))]\n",
    "    ax2.errorbar(cohort_duration, selected_cumnum_df[\"mean\"].values,  yerr=selected_cumnum_df[\"std\"].values)\n",
    "\n",
    "\n",
    "    ## plots the mean of publication/citation gender wise for each cohort\n",
    "    ax3[i,j] = plot_gender_numcum(ax3[i,j], cohort_duration, selected_cumnum_df, year, \"mean\")\n",
    "    ax3[i,j].set_title(str(year), fontsize=12, fontweight=\"bold\")\n",
    "\n",
    "    if (j<cols-1):\n",
    "        j = j+1\n",
    "    else:\n",
    "        j=0\n",
    "        i = i+1\n",
    "\n",
    "# save gini results for cohort\n",
    "cohort_size_gini.to_csv(\"fig/gini_\"+criterion+\"_results.csv\")\n",
    "\n",
    "## plots the correlation plot between gini and cohort size\n",
    "plot_cohort_size_gini_cor(cohort_size_gini, criterion, max_years, criteria_display)\n",
    "\n",
    "ax1.set_ylabel('Gini ('+criteria_display+')', fontweight='bold')\n",
    "ax1.set_xlabel('Career Age', fontweight='bold')\n",
    "\n",
    "\n",
    "if len(cohort_start_years)<10:\n",
    "    ax1.legend(cohort_start_years)  \n",
    "fig1.savefig(\"fig/gini_\"+criterion+\".png\", facecolor=fig1.get_facecolor(), edgecolor='none', bbox_inches='tight')\n",
    "\n",
    "ax2.set_ylabel(\"Mean \"+criteria_display, fontweight='bold')\n",
    "ax2.set_xlabel('Career Age', fontweight='bold')\n",
    "\n",
    "\n",
    "if len(cohort_start_years)<10:\n",
    "    ax2.legend(cohort_start_years)  \n",
    "\n",
    "fig2.savefig(\"fig/mean_\"+criterion+\".png\", facecolor=fig2.get_facecolor(), edgecolor='none', bbox_inches='tight')\n",
    "fig3.savefig(\"fig/mean_\"+criterion+\"_gender.png\", facecolor=fig3.get_facecolor(), edgecolor='none', bbox_inches='tight')\n",
    "\n",
    "plt.tight_layout()\n",
    "plt.show()\n",
    "plt.close(fig1)\n",
    "plt.close(fig2)\n",
    "plt.close(fig3)"
   ]
  },
  {
   "cell_type": "code",
   "execution_count": null,
   "metadata": {},
   "outputs": [],
   "source": []
  },
  {
   "cell_type": "code",
   "execution_count": null,
   "metadata": {},
   "outputs": [],
   "source": []
  },
  {
   "cell_type": "code",
   "execution_count": null,
   "metadata": {
    "scrolled": false
   },
   "outputs": [],
   "source": [
    "#just for debugging\n",
    "#reload(plot)\n",
    "from importlib import reload\n",
    "# reload(calculate)\n",
    "plot.plot_cohort_analysis_on(groupByYearData, 'num_pub', years, 15, 'Publications Count')\n",
    "# sudo apt-get install msttcorefonts -qq"
   ]
  },
  {
   "cell_type": "code",
   "execution_count": null,
   "metadata": {
    "scrolled": false
   },
   "outputs": [],
   "source": [
    "#just for debugging\n",
    "#from importlib import reload\n",
    "#reload(plot)\n",
    "# reload(calculate)\n",
    "\n",
    "plot.plot_cohort_analysis_on(groupByYearData, 'cum_num_pub', years, 15,'Cumulative Publications Count')\n",
    "\n",
    "#plot.plot_cohort_analysis_on(groupCitationsByAuthorYearData, 'num_cit', 'Citations Count')"
   ]
  },
  {
   "cell_type": "markdown",
   "metadata": {
    "heading_collapsed": true
   },
   "source": [
    "### Regression Analysis of mean productivity on Inequality for all authors for 15 years\n",
    "\n",
    "- There is no relation at all - Reg. coefficient is 0"
   ]
  },
  {
   "cell_type": "code",
   "execution_count": null,
   "metadata": {
    "hidden": true
   },
   "outputs": [],
   "source": [
    "#just for debugging\n",
    "#reload(plot)\n",
    "#reload(calculate)\n",
    "data = plot.plot_regress_performance_on_inequality(groupByYearData, 'num_pub', years, 15)\n"
   ]
  },
  {
   "cell_type": "code",
   "execution_count": null,
   "metadata": {
    "hidden": true
   },
   "outputs": [],
   "source": [
    "#just for debugging\n",
    "#reload(plot)\n",
    "#reload(calculate)\n",
    "data = plot.plot_regress_performance_on_inequality(groupByYearData, 'cum_num_pub', years, 15)"
   ]
  },
  {
   "cell_type": "markdown",
   "metadata": {
    "collapsed": true,
    "heading_collapsed": true
   },
   "source": [
    "### Cohort Analysis, Regression analysis on authors grouped by 2 years for 15 years\n",
    "\n",
    "Regression???\n",
    "outcome variable: inequality of each cohort an each time interval (2 years)\n",
    "Indepent variable: number of publications that the cohort produced during the time interval\n",
    "\n",
    "Question: are more inequal groups, more productive?  "
   ]
  },
  {
   "cell_type": "code",
   "execution_count": null,
   "metadata": {
    "hidden": true
   },
   "outputs": [],
   "source": [
    "groupByYearData = authorPublicationData.copy(deep=True)\n",
    "print(groupByYearData[groupByYearData['author'] == 'donatella sciuto'].head(10))\n",
    "groupByYearData = calculate.groupDataAndCalculateCumulativeValues(groupByYearData, 2, 'num_pub')\n",
    "print(groupByYearData[groupByYearData['author'] == 'donatella sciuto'].head(10))\n",
    "\n",
    "years = groupByYearData['year'].unique()\n",
    "years = sorted(years)\n",
    "print(years)\n",
    "\n",
    "#plot.plot_cohort_analysis_on(groupByYearData, 'num_pub', years, 15, 'Publications Count')\n",
    "#plot.plot_cohort_analysis_on(groupByYearData, 'cum_num_pub', years, 15, 'Cumulative Publications Count')\n",
    "#data1 = plot.plot_regress_performance_on_inequality(groupByYearData, 'num_pub', years, 15)\n",
    "#data2 = plot.plot_regress_performance_on_inequality(groupByYearData, 'cum_num_pub', years, 15)"
   ]
  },
  {
   "cell_type": "markdown",
   "metadata": {
    "heading_collapsed": true
   },
   "source": [
    "### Cohort Analysis, Regression analysis on authors grouped by 3 years for 15 years"
   ]
  },
  {
   "cell_type": "code",
   "execution_count": null,
   "metadata": {
    "hidden": true
   },
   "outputs": [],
   "source": [
    "groupByYearData = authorPublicationData.copy(deep=True)\n",
    "print(groupByYearData[groupByYearData['author'] == 'donatella sciuto'].head(10))\n",
    "groupByYearData = calculate.groupDataAndCalculateCumulativeValues(groupByYearData, 3, 'num_pub')\n",
    "print(groupByYearData[groupByYearData['author'] == 'donatella sciuto'].head(10))\n",
    "\n",
    "years = groupByYearData['year'].unique()\n",
    "years = sorted(years)\n",
    "print(years)\n",
    "\n",
    "#plot.plot_cohort_analysis_on(groupByYearData, 'num_pub', years, 15, 'Publications Count')\n",
    "#plot.plot_cohort_analysis_on(groupByYearData, 'cum_num_pub', years, 15, 'Cumulative Publications Count')\n",
    "#data1 = plot.plot_regress_performance_on_inequality(groupByYearData, 'num_pub', years, 15)\n",
    "#data2 = plot.plot_regress_performance_on_inequality(groupByYearData, 'cum_num_pub', years, 15)"
   ]
  },
  {
   "cell_type": "code",
   "execution_count": null,
   "metadata": {
    "hidden": true
   },
   "outputs": [],
   "source": []
  }
 ],
 "metadata": {
  "kernelspec": {
   "display_name": "Python 3",
   "language": "python",
   "name": "python3"
  },
  "language_info": {
   "codemirror_mode": {
    "name": "ipython",
    "version": 3
   },
   "file_extension": ".py",
   "mimetype": "text/x-python",
   "name": "python",
   "nbconvert_exporter": "python",
   "pygments_lexer": "ipython3",
   "version": "3.6.4"
  }
 },
 "nbformat": 4,
 "nbformat_minor": 2
}
