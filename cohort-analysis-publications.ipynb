{
 "cells": [
  {
   "cell_type": "code",
   "execution_count": 2,
   "metadata": {
    "collapsed": true
   },
   "outputs": [],
   "source": [
    "import pandas as pd\n",
    "import numpy as np\n",
    "import matplotlib.pyplot as plt\n",
    "%matplotlib inline\n",
    "import timeit"
   ]
  },
  {
   "cell_type": "markdown",
   "metadata": {},
   "source": [
    "### References\n",
    "\n",
    "Authors who are consistent (10 year career span and atleast 10 papers published) are derived from the notebook 'cumulative-adv-author-statistics-for-analysis'\n",
    "\n",
    "'authors-scientific-start-end-year.csv' is one of the byproduct of that. But it contains a lot of sparse values, In the sense it contains \n",
    "a lot of authors who dropped out early in their career\n",
    "\n",
    "'authors-scientific-atleast-10-year-10-papers.csv' - contains consistent authors \n",
    "Code snippet from 'cumulative-adv-cohort-analysis-for-1970-authors' notebook is heavily used"
   ]
  },
  {
   "cell_type": "code",
   "execution_count": 3,
   "metadata": {
    "collapsed": false
   },
   "outputs": [
    {
     "name": "stdout",
     "output_type": "stream",
     "text": [
      "7.895052644211031e-07\n"
     ]
    }
   ],
   "source": [
    "start_time = timeit.default_timer()\n",
    "print(start_time)"
   ]
  },
  {
   "cell_type": "code",
   "execution_count": 4,
   "metadata": {
    "collapsed": false
   },
   "outputs": [
    {
     "name": "stdout",
     "output_type": "stream",
     "text": [
      "               author  start_year  end_year  pub_count  career_length\n",
      "0          a min tjoa        1979      2015        193             36\n",
      "1    a-imam al-sammak        1992      2008          6             16\n",
      "2          a-xing zhu        1998      2015         16             17\n",
      "3  a. a. (louis) beex        1980      2016         34             36\n",
      "4     a. a. a. nasser        1993      2014          3             21\n",
      "110468\n",
      "[1970 1971 1972 1973 1974 1975 1976 1977 1978 1979 1980 1981 1982 1983 1984\n",
      " 1985 1986 1987 1988 1989 1990 1991 1992 1993 1994 1995 1996 1997 1998 1999\n",
      " 2000 2001 2002 2003 2004 2005 2006 2007 2008 2009 2010 2011 2012 2013 2014\n",
      " 2015 2016]\n"
     ]
    }
   ],
   "source": [
    "max_years = 15\n",
    "#authorStartEndCareerData = pd.read_csv('data/authors-scientific-start-end-year-publish-count.csv')\n",
    "authorStartEndCareerData = pd.read_csv('data/authors-scientific-atleast-15-year.csv')\n",
    "#authorStartEndCareerData = pd.read_csv('data/authors-scientific-atleast-20-year-20-papers.csv')\n",
    "print(authorStartEndCareerData.head())\n",
    "\n",
    "selectedAuthor = authorStartEndCareerData[\"author\"].unique()\n",
    "print(len(selectedAuthor))\n",
    "\n",
    "authorPublicationsData = pd.read_csv('data/author_publications_1970_2016_asiansAsNone.txt')\n",
    "authorPublicationsData = authorPublicationsData[authorPublicationsData[\"year\"] > 1900]\n",
    "authorPublicationsData.head()\n",
    "#get the year list - as it helps to enumerate and find gini co-efficient for each year (irrespective of the dataset)\n",
    "years = np.sort(authorPublicationsData['year'].unique())\n",
    "print(years)"
   ]
  },
  {
   "cell_type": "code",
   "execution_count": 5,
   "metadata": {
    "collapsed": false
   },
   "outputs": [],
   "source": [
    "#groupByStartYearScientificCareerData = authorStartEndCareerData[['author','start_year']].groupby(['start_year'])\n",
    "#print(groupByStartYearScientificCareerData.head())\n",
    "#groupByStartYearScientificCareerData.groups"
   ]
  },
  {
   "cell_type": "code",
   "execution_count": null,
   "metadata": {
    "collapsed": false
   },
   "outputs": [],
   "source": []
  },
  {
   "cell_type": "code",
   "execution_count": null,
   "metadata": {
    "collapsed": false
   },
   "outputs": [],
   "source": []
  },
  {
   "cell_type": "code",
   "execution_count": 6,
   "metadata": {
    "collapsed": false
   },
   "outputs": [
    {
     "name": "stdout",
     "output_type": "stream",
     "text": [
      "   year         author  pub_id\n",
      "0  1970    a. a. afifi       1\n",
      "1  1970    a. a. bährs       1\n",
      "2  1970     a. armenti       1\n",
      "3  1970  a. b. slomson       1\n",
      "4  1970    a. brindley       1\n",
      "         year      author  pub_id\n",
      "33440    1979  a min tjoa       1\n",
      "85309    1985  a min tjoa       1\n",
      "97531    1986  a min tjoa       1\n",
      "174683   1990  a min tjoa       1\n",
      "202845   1991  a min tjoa       3\n",
      "234843   1992  a min tjoa       3\n",
      "272007   1993  a min tjoa       6\n",
      "317066   1994  a min tjoa       2\n",
      "368210   1995  a min tjoa       3\n",
      "422874   1996  a min tjoa       5\n",
      "481284   1997  a min tjoa       2\n",
      "547478   1998  a min tjoa       3\n",
      "704036   2000  a min tjoa       8\n",
      "797455   2001  a min tjoa       5\n",
      "901041   2002  a min tjoa       3\n",
      "1016521  2003  a min tjoa      11\n",
      "1155821  2004  a min tjoa       8\n",
      "1320619  2005  a min tjoa      13\n",
      "1512468  2006  a min tjoa      23\n",
      "1725677  2007  a min tjoa      13\n",
      "1962106  2008  a min tjoa       8\n",
      "2219974  2009  a min tjoa       8\n",
      "2500825  2010  a min tjoa      16\n",
      "2799087  2011  a min tjoa      11\n",
      "3123784  2012  a min tjoa       7\n",
      "3466909  2013  a min tjoa       7\n",
      "3824300  2014  a min tjoa      17\n",
      "4194351  2015  a min tjoa       4\n",
      "             author  pub_id\n",
      "year                       \n",
      "1970    a. a. afifi       1\n",
      "1970    a. a. bährs       1\n",
      "1970     a. armenti       1\n",
      "1970  a. b. slomson       1\n",
      "1970    a. brindley       1\n",
      "             author  pub_id  cum_num_pub\n",
      "year                                    \n",
      "1970    a. a. afifi       1            1\n",
      "1970    a. a. bährs       1            1\n",
      "1970     a. armenti       1            1\n",
      "1970  a. b. slomson       1            1\n",
      "1970    a. brindley       1            1\n",
      "          author  pub_id  cum_num_pub\n",
      "year                                 \n",
      "1979  a min tjoa       1            1\n",
      "1985  a min tjoa       1            2\n",
      "1986  a min tjoa       1            3\n",
      "1990  a min tjoa       1            4\n",
      "1991  a min tjoa       3            7\n",
      "1992  a min tjoa       3           10\n",
      "1993  a min tjoa       6           16\n",
      "1994  a min tjoa       2           18\n",
      "1995  a min tjoa       3           21\n",
      "1996  a min tjoa       5           26\n",
      "1997  a min tjoa       2           28\n",
      "1998  a min tjoa       3           31\n",
      "2000  a min tjoa       8           39\n",
      "2001  a min tjoa       5           44\n",
      "2002  a min tjoa       3           47\n",
      "2003  a min tjoa      11           58\n",
      "2004  a min tjoa       8           66\n",
      "2005  a min tjoa      13           79\n",
      "2006  a min tjoa      23          102\n",
      "2007  a min tjoa      13          115\n",
      "2008  a min tjoa       8          123\n",
      "2009  a min tjoa       8          131\n",
      "2010  a min tjoa      16          147\n",
      "2011  a min tjoa      11          158\n",
      "2012  a min tjoa       7          165\n",
      "2013  a min tjoa       7          172\n",
      "2014  a min tjoa      17          189\n",
      "2015  a min tjoa       4          193\n",
      "   year         author  pub_id  cum_num_pub\n",
      "0  1970    a. a. afifi       1            1\n",
      "1  1970    a. a. bährs       1            1\n",
      "2  1970     a. armenti       1            1\n",
      "3  1970  a. b. slomson       1            1\n",
      "4  1970    a. brindley       1            1\n"
     ]
    }
   ],
   "source": [
    "#Group by both year and author - multi index and hierarchial indexing\n",
    "groupByAuthorYearData = authorPublicationsData.groupby(['year','author']).count().reset_index()\n",
    "#remove wrong data\n",
    "groupByAuthorYearData = groupByAuthorYearData[groupByAuthorYearData[\"year\"] > 1900]\n",
    "print(groupByAuthorYearData.head())\n",
    "\n",
    "\n",
    "print(groupByAuthorYearData[groupByAuthorYearData.author==\"a min tjoa\"])\n",
    "\n",
    "# cumulative number of publications per author\n",
    "groupByAuthorYearData = groupByAuthorYearData.set_index('year').sort_index()\n",
    "print(groupByAuthorYearData.head())\n",
    "\n",
    "groupByAuthorYearData[\"cum_num_pub\"] = groupByAuthorYearData.groupby(['author'])['pub_id'].transform(pd.Series.cumsum)\n",
    "\n",
    "print(groupByAuthorYearData.head())\n",
    "print(groupByAuthorYearData[groupByAuthorYearData.author==\"a min tjoa\"])\n",
    "\n",
    "\n",
    "groupByAuthorYearData = groupByAuthorYearData.reset_index()\n",
    "print(groupByAuthorYearData.head())\n"
   ]
  },
  {
   "cell_type": "code",
   "execution_count": 7,
   "metadata": {
    "collapsed": true
   },
   "outputs": [],
   "source": [
    "#the following snippet is taken from the github project and the license is creative commons\n",
    "#https://github.com/oliviaguest/gini\n",
    "\n",
    "def gini(array):\n",
    "    \"\"\"Calculate the Gini coefficient of a numpy array.\"\"\"\n",
    "    # based on bottom eq:\n",
    "    # http://www.statsdirect.com/help/generatedimages/equations/equation154.svg\n",
    "    # from:\n",
    "    # http://www.statsdirect.com/help/default.htm#nonparametric_methods/gini.htm\n",
    "    # All values are treated equally, arrays must be 1d:\n",
    "    array = array.flatten()\n",
    "    if np.min(array) < 0:\n",
    "        # Values cannot be negative:\n",
    "        array -= np.min(array)\n",
    "    # Values cannot be 0:\n",
    "    array += 0.0000001\n",
    "    # Values must be sorted:\n",
    "    array = np.sort(array)\n",
    "    # Index per array element:\n",
    "    index = np.arange(1,array.shape[0]+1)\n",
    "    # Number of array elements:\n",
    "    n = array.shape[0]\n",
    "    # Gini coefficient:\n",
    "    return ((np.sum((2 * index - n  - 1) * array)) / (n * np.sum(array)))"
   ]
  },
  {
   "cell_type": "markdown",
   "metadata": {},
   "source": [
    "### To check whether GINI calculation works correctly or not"
   ]
  },
  {
   "cell_type": "code",
   "execution_count": 8,
   "metadata": {
    "collapsed": false
   },
   "outputs": [],
   "source": [
    "#print(gini[1, 1, 1, 1, 1, 1, 1, 1, 1, 1])\n",
    "#print(gini(range(10)))"
   ]
  },
  {
   "cell_type": "code",
   "execution_count": null,
   "metadata": {
    "collapsed": false
   },
   "outputs": [],
   "source": [
    "print(authorStartEndCareerData.head())\n",
    "gini_per_cohort = pd.DataFrame(index=years)\n",
    "non_publishers_track = pd.DataFrame(index=years)\n",
    "\n",
    "\n",
    "fig2, ax2 = plt.subplots()\n",
    "\n",
    "max_years = 15\n",
    "# limit plot to the N years during which we follow a cohort\n",
    "cohort_duration = np.arange(max_years)\n",
    "print(cohort_duration)    \n",
    "\n",
    "\n",
    "for year in years:\n",
    "    #we cannot follow the cohort for max years\n",
    "    if year > (2016 - max_years):\n",
    "        break\n",
    "        \n",
    "        \n",
    "    #print(\"cohort: \"+str(year))\n",
    "    cohort = authorStartEndCareerData[authorStartEndCareerData[\"start_year\"]==year]\n",
    "    cohort_authors = cohort[\"author\"].values\n",
    "  \n",
    "    gini_over_years = pd.Series(data=0, index=years)\n",
    "    non_publishers_over_years = pd.Series(data=0, index=years)\n",
    "    \n",
    "    # extract num publications for the cohort in all future years\n",
    "    for y in range(year, max(years)+1):\n",
    "        #print(\"following years: \"+str(y))\n",
    "      \n",
    "        # get all the authors data for each year and filter based on the authors that we are interested in\n",
    "        temp = groupByAuthorYearData[groupByAuthorYearData[\"year\"]==y]\n",
    "        temp = temp[temp[\"author\"].isin(cohort_authors)]\n",
    "        \n",
    "        # gini per year based on cumulative num of publications of all authors in this year\n",
    "        gini_over_years.loc[y] = gini(temp['cum_num_pub'].astype(\"float\").values)\n",
    "       \n",
    "        \n",
    "    \n",
    "    gini_per_cohort[year] = gini_over_years\n",
    "   \n",
    "    gini_years_df = pd.DataFrame(gini_over_years.reset_index())\n",
    "    gini_years_df.columns = [\"year\", \"gini\"]\n",
    "    gini_years = gini_years_df[\"year\"].values\n",
    "    gini_coefs= gini_years_df[\"gini\"].values\n",
    "    \n",
    "    # Make one Bar Chart per COHORT\n",
    "    fig, ax = plt.subplots()\n",
    "    width = 0.3       # the width of the bars\n",
    "    Y = len(gini_years)\n",
    "    ind = np.arange(Y)\n",
    "    ax.set_title('Inequality for cohort: '+str(year))\n",
    "    rects = ax.bar(ind, gini_coefs, width, color='b')\n",
    "    ax.set_xticks(ind + width / 2)\n",
    "    ax.set_xticklabels(gini_years, rotation=90)\n",
    "    ax.set_ylabel('Gini')\n",
    "    #plt.show()\n",
    "    \n",
    "    selected_gini_df = gini_years_df[(gini_years_df[\"year\"] >= year) &  (gini_years_df[\"year\"] < (year+max_years))]\n",
    "    ax2.plot(cohort_duration, selected_gini_df[\"gini\"])\n",
    "   \n",
    "\n",
    "\n",
    "\n",
    "# make line plot: one line for each cohort\n",
    "# x-axis shows the N years which we follow the cohort\n",
    "ax2.set_ylabel('Gini')\n",
    "ax2.set_title('Inequality of al cohorts over '+str(max_years)+' years')\n",
    "#ax2.set_xticklabels(cohort_duration, rotation=90)\n",
    "#ax2.legend(years)    \n",
    "plt.show()\n",
    "\n",
    "   \n"
   ]
  },
  {
   "cell_type": "code",
   "execution_count": 10,
   "metadata": {
    "collapsed": false
   },
   "outputs": [
    {
     "name": "stdout",
     "output_type": "stream",
     "text": [
      "301.0942286375666\n",
      "Time taken -  301.09422784806134\n"
     ]
    }
   ],
   "source": [
    "end_time = timeit.default_timer()\n",
    "print(end_time)\n",
    "print('Time taken - ',end_time-start_time)"
   ]
  },
  {
   "cell_type": "code",
   "execution_count": null,
   "metadata": {
    "collapsed": true
   },
   "outputs": [],
   "source": []
  }
 ],
 "metadata": {
  "kernelspec": {
   "display_name": "Python [Root]",
   "language": "python",
   "name": "Python [Root]"
  },
  "language_info": {
   "codemirror_mode": {
    "name": "ipython",
    "version": 3
   },
   "file_extension": ".py",
   "mimetype": "text/x-python",
   "name": "python",
   "nbconvert_exporter": "python",
   "pygments_lexer": "ipython3",
   "version": "3.5.1"
  }
 },
 "nbformat": 4,
 "nbformat_minor": 2
}
