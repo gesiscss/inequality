{
 "cells": [
  {
   "cell_type": "code",
   "execution_count": 39,
   "metadata": {
    "collapsed": true
   },
   "outputs": [],
   "source": [
    "import pandas as pd\n",
    "import numpy as np\n",
    "import matplotlib.pyplot as plt\n",
    "%matplotlib inline\n",
    "import timeit\n",
    "# import seaborn as sns\n",
    "\n",
    "#these are user defined modules\n",
    "import plot\n",
    "import calculate\n",
    "\n",
    "\n",
    "# CAREER_LENGTH = 15 means the authors who have atleast 15 years of experience\n",
    "CAREER_LENGTH_LIST = [0,5,10,15,20,25]\n",
    "CAREER_LENGTH = 5 #this defines the criterion which we use to filter authors\n",
    "MAX_CAREER_LENGTH_COHORT = 15    # this defines how long we follow each cohort\n",
    "END_YEAR = 2015\n"
   ]
  },
  {
   "cell_type": "markdown",
   "metadata": {},
   "source": [
    "## Cohort Analysis\n",
    "\n",
    "For each (filtered) cohort analyze how the distribution of publications and citations changes in the cohort over time.\n",
    "At the beginning all scientists should be equal (they have zero publications and citations). Over time some scientists become more productive and/or successful than others which leads to an increase in the Gini coefficient."
   ]
  },
  {
   "cell_type": "markdown",
   "metadata": {},
   "source": [
    "### Read Gender details"
   ]
  },
  {
   "cell_type": "code",
   "execution_count": 40,
   "metadata": {
    "collapsed": true
   },
   "outputs": [],
   "source": [
    "# read gender details - the column names are name, gender - change it to author, gender\n",
    "gender = pd.read_csv('./data/name_gender_2017_asiansAsNone_nodup.txt')\n",
    "gender.rename(columns={'name':'author'}, inplace=True)"
   ]
  },
  {
   "cell_type": "code",
   "execution_count": 41,
   "metadata": {
    "collapsed": false
   },
   "outputs": [
    {
     "name": "stdout",
     "output_type": "stream",
     "text": [
      "(1704919, 2)\n",
      "(1704919, 2)\n"
     ]
    }
   ],
   "source": [
    "print(gender.shape)\n",
    "gender = gender.drop_duplicates()\n",
    "print(gender.shape)\n",
    "# Gender file is full of duplicates. As we use the author's name as ID, duplicate entries provide no extra info"
   ]
  },
  {
   "cell_type": "code",
   "execution_count": 42,
   "metadata": {
    "collapsed": false
   },
   "outputs": [
    {
     "name": "stdout",
     "output_type": "stream",
     "text": [
      "Number of unique authors:  1704919\n"
     ]
    },
    {
     "data": {
      "text/html": [
       "<div>\n",
       "<table border=\"1\" class=\"dataframe\">\n",
       "  <thead>\n",
       "    <tr style=\"text-align: right;\">\n",
       "      <th></th>\n",
       "      <th>count</th>\n",
       "      <th>percentage</th>\n",
       "    </tr>\n",
       "    <tr>\n",
       "      <th>gender</th>\n",
       "      <th></th>\n",
       "      <th></th>\n",
       "    </tr>\n",
       "  </thead>\n",
       "  <tbody>\n",
       "    <tr>\n",
       "      <th>f</th>\n",
       "      <td>255793</td>\n",
       "      <td>15.003235</td>\n",
       "    </tr>\n",
       "    <tr>\n",
       "      <th>m</th>\n",
       "      <td>796975</td>\n",
       "      <td>46.745623</td>\n",
       "    </tr>\n",
       "    <tr>\n",
       "      <th>none</th>\n",
       "      <td>652151</td>\n",
       "      <td>38.251143</td>\n",
       "    </tr>\n",
       "  </tbody>\n",
       "</table>\n",
       "</div>"
      ],
      "text/plain": [
       "         count  percentage\n",
       "gender                    \n",
       "f       255793   15.003235\n",
       "m       796975   46.745623\n",
       "none    652151   38.251143"
      ]
     },
     "execution_count": 42,
     "metadata": {},
     "output_type": "execute_result"
    }
   ],
   "source": [
    "gender_stats = gender.groupby('gender').size().to_frame()\n",
    "gender_stats.columns = ['count']\n",
    "gender_total = gender_stats['count'].sum()\n",
    "gender_stats['percentage'] = gender_stats['count'].apply(lambda x: x/gender_total*100)\n",
    "print(\"Number of unique authors: \", gender['author'].nunique())\n",
    "gender_stats.head()"
   ]
  },
  {
   "cell_type": "markdown",
   "metadata": {},
   "source": [
    "### Read authors with start and end year details"
   ]
  },
  {
   "cell_type": "code",
   "execution_count": 43,
   "metadata": {
    "collapsed": false
   },
   "outputs": [
    {
     "name": "stdout",
     "output_type": "stream",
     "text": [
      "authorStartEndCareerData before filtering -  503859\n",
      "authorStartEndCareerData after filtering -  503859\n",
      "author unique names  -  503859\n"
     ]
    },
    {
     "data": {
      "text/html": [
       "<div>\n",
       "<table border=\"1\" class=\"dataframe\">\n",
       "  <thead>\n",
       "    <tr style=\"text-align: right;\">\n",
       "      <th></th>\n",
       "      <th>author</th>\n",
       "      <th>start_year</th>\n",
       "      <th>end_year</th>\n",
       "      <th>num_pub</th>\n",
       "      <th>career_length</th>\n",
       "    </tr>\n",
       "  </thead>\n",
       "  <tbody>\n",
       "    <tr>\n",
       "      <th>0</th>\n",
       "      <td>'maseka lesaoana</td>\n",
       "      <td>2001</td>\n",
       "      <td>2015</td>\n",
       "      <td>2</td>\n",
       "      <td>15</td>\n",
       "    </tr>\n",
       "    <tr>\n",
       "      <th>1</th>\n",
       "      <td>a aart blokhuis</td>\n",
       "      <td>1992</td>\n",
       "      <td>2005</td>\n",
       "      <td>2</td>\n",
       "      <td>14</td>\n",
       "    </tr>\n",
       "    <tr>\n",
       "      <th>2</th>\n",
       "      <td>a min tjoa</td>\n",
       "      <td>1979</td>\n",
       "      <td>2017</td>\n",
       "      <td>191</td>\n",
       "      <td>39</td>\n",
       "    </tr>\n",
       "    <tr>\n",
       "      <th>3</th>\n",
       "      <td>a-imam al-sammak</td>\n",
       "      <td>1992</td>\n",
       "      <td>2006</td>\n",
       "      <td>3</td>\n",
       "      <td>15</td>\n",
       "    </tr>\n",
       "    <tr>\n",
       "      <th>4</th>\n",
       "      <td>a-long jin</td>\n",
       "      <td>2011</td>\n",
       "      <td>2016</td>\n",
       "      <td>9</td>\n",
       "      <td>6</td>\n",
       "    </tr>\n",
       "  </tbody>\n",
       "</table>\n",
       "</div>"
      ],
      "text/plain": [
       "             author  start_year  end_year  num_pub  career_length\n",
       "0  'maseka lesaoana        2001      2015        2             15\n",
       "1   a aart blokhuis        1992      2005        2             14\n",
       "2        a min tjoa        1979      2017      191             39\n",
       "3  a-imam al-sammak        1992      2006        3             15\n",
       "4        a-long jin        2011      2016        9              6"
      ]
     },
     "execution_count": 43,
     "metadata": {},
     "output_type": "execute_result"
    }
   ],
   "source": [
    "# Different files exists depending upon their career length\n",
    "\n",
    "#authorStartEndCareerData = pd.read_csv('./data/authors-scientific-atleast-'+str(CAREER_LENGTH)+'-year.csv')\n",
    "authorStartEndCareerData = pd.read_csv('./data/authors-scientific-atleast-'+str(CAREER_LENGTH)+'-year.csv')\n",
    "\n",
    "\n",
    "print('authorStartEndCareerData before filtering - ',authorStartEndCareerData.shape[0])\n",
    "authorStartEndCareerData = authorStartEndCareerData[authorStartEndCareerData[\"start_year\"] >= 1970]\n",
    "print('authorStartEndCareerData after filtering - ',authorStartEndCareerData.shape[0])\n",
    "\n",
    "print(\"author unique names  - \", authorStartEndCareerData['author'].nunique())\n",
    "authorStartEndCareerData.head()"
   ]
  },
  {
   "cell_type": "markdown",
   "metadata": {},
   "source": [
    "### Merge credible authors and their gender information"
   ]
  },
  {
   "cell_type": "code",
   "execution_count": 44,
   "metadata": {
    "collapsed": false
   },
   "outputs": [
    {
     "name": "stdout",
     "output_type": "stream",
     "text": [
      "authorStartEndCareerData no duplicates:  503859\n"
     ]
    },
    {
     "data": {
      "text/html": [
       "<div>\n",
       "<table border=\"1\" class=\"dataframe\">\n",
       "  <thead>\n",
       "    <tr style=\"text-align: right;\">\n",
       "      <th></th>\n",
       "      <th>author</th>\n",
       "      <th>start_year</th>\n",
       "      <th>end_year</th>\n",
       "      <th>total_num_pub</th>\n",
       "      <th>career_length</th>\n",
       "      <th>gender</th>\n",
       "    </tr>\n",
       "  </thead>\n",
       "  <tbody>\n",
       "    <tr>\n",
       "      <th>0</th>\n",
       "      <td>'maseka lesaoana</td>\n",
       "      <td>2001</td>\n",
       "      <td>2015</td>\n",
       "      <td>2</td>\n",
       "      <td>15</td>\n",
       "      <td>none</td>\n",
       "    </tr>\n",
       "    <tr>\n",
       "      <th>1</th>\n",
       "      <td>a aart blokhuis</td>\n",
       "      <td>1992</td>\n",
       "      <td>2005</td>\n",
       "      <td>2</td>\n",
       "      <td>14</td>\n",
       "      <td>none</td>\n",
       "    </tr>\n",
       "    <tr>\n",
       "      <th>2</th>\n",
       "      <td>a min tjoa</td>\n",
       "      <td>1979</td>\n",
       "      <td>2017</td>\n",
       "      <td>191</td>\n",
       "      <td>39</td>\n",
       "      <td>none</td>\n",
       "    </tr>\n",
       "    <tr>\n",
       "      <th>3</th>\n",
       "      <td>a-imam al-sammak</td>\n",
       "      <td>1992</td>\n",
       "      <td>2006</td>\n",
       "      <td>3</td>\n",
       "      <td>15</td>\n",
       "      <td>m</td>\n",
       "    </tr>\n",
       "    <tr>\n",
       "      <th>4</th>\n",
       "      <td>a-long jin</td>\n",
       "      <td>2011</td>\n",
       "      <td>2016</td>\n",
       "      <td>9</td>\n",
       "      <td>6</td>\n",
       "      <td>none</td>\n",
       "    </tr>\n",
       "  </tbody>\n",
       "</table>\n",
       "</div>"
      ],
      "text/plain": [
       "             author  start_year  end_year  total_num_pub  career_length gender\n",
       "0  'maseka lesaoana        2001      2015              2             15   none\n",
       "1   a aart blokhuis        1992      2005              2             14   none\n",
       "2        a min tjoa        1979      2017            191             39   none\n",
       "3  a-imam al-sammak        1992      2006              3             15      m\n",
       "4        a-long jin        2011      2016              9              6   none"
      ]
     },
     "execution_count": 44,
     "metadata": {},
     "output_type": "execute_result"
    }
   ],
   "source": [
    "authorStartEndCareerData = pd.merge(authorStartEndCareerData, gender, how=\"left\", on=[\"author\"])\n",
    "# for authors whose gender not found, replace it with none\n",
    "authorStartEndCareerData['gender'] = authorStartEndCareerData['gender'].fillna('none')\n",
    "authorStartEndCareerData.rename(columns={'num_pub':'total_num_pub'}, inplace=True)\n",
    "# print(\"authorStartEndCareerData with duplicates: \", authorStartEndCareerData.shape[0])\n",
    "# authorStartEndCareerData = authorStartEndCareerData.drop_duplicates()\n",
    "print(\"authorStartEndCareerData no duplicates: \", authorStartEndCareerData.shape[0])\n",
    "\n",
    "authorStartEndCareerData.head()"
   ]
  },
  {
   "cell_type": "code",
   "execution_count": 45,
   "metadata": {
    "code_folding": [
     0
    ],
    "collapsed": true
   },
   "outputs": [],
   "source": [
    "#axes = authorStartEndCareerData.boxplot(column='pub_count', by='gender', return_type='axes')\n",
    "#for ax in axes.values():\n",
    "#    ax.set_ylim(0, 200)\n",
    "#plt.show()"
   ]
  },
  {
   "cell_type": "markdown",
   "metadata": {},
   "source": [
    "### Read Publication data"
   ]
  },
  {
   "cell_type": "code",
   "execution_count": 46,
   "metadata": {
    "collapsed": false
   },
   "outputs": [
    {
     "name": "stdout",
     "output_type": "stream",
     "text": [
      "authorPublicationData before filtering -  9471668\n",
      "authorPublicationData after filtering -  9462275\n",
      "[1970 1971 1972 1973 1974 1975 1976 1977 1978 1979 1980 1981 1982 1983 1984\n",
      " 1985 1986 1987 1988 1989 1990 1991 1992 1993 1994 1995 1996 1997 1998 1999\n",
      " 2000 2001 2002 2003 2004 2005 2006 2007 2008 2009 2010 2011 2012 2013 2014]\n"
     ]
    },
    {
     "data": {
      "text/html": [
       "<div>\n",
       "<table border=\"1\" class=\"dataframe\">\n",
       "  <thead>\n",
       "    <tr style=\"text-align: right;\">\n",
       "      <th></th>\n",
       "      <th>year</th>\n",
       "      <th>author</th>\n",
       "      <th>num_pub</th>\n",
       "    </tr>\n",
       "  </thead>\n",
       "  <tbody>\n",
       "    <tr>\n",
       "      <th>0</th>\n",
       "      <td>1970</td>\n",
       "      <td>a. a. afifi</td>\n",
       "      <td>1</td>\n",
       "    </tr>\n",
       "    <tr>\n",
       "      <th>1</th>\n",
       "      <td>1970</td>\n",
       "      <td>a. armenti</td>\n",
       "      <td>1</td>\n",
       "    </tr>\n",
       "    <tr>\n",
       "      <th>2</th>\n",
       "      <td>1970</td>\n",
       "      <td>a. c. mckellar</td>\n",
       "      <td>1</td>\n",
       "    </tr>\n",
       "    <tr>\n",
       "      <th>3</th>\n",
       "      <td>1970</td>\n",
       "      <td>a. c. williams</td>\n",
       "      <td>1</td>\n",
       "    </tr>\n",
       "    <tr>\n",
       "      <th>4</th>\n",
       "      <td>1970</td>\n",
       "      <td>a. colin day</td>\n",
       "      <td>1</td>\n",
       "    </tr>\n",
       "  </tbody>\n",
       "</table>\n",
       "</div>"
      ],
      "text/plain": [
       "   year          author  num_pub\n",
       "0  1970     a. a. afifi        1\n",
       "1  1970      a. armenti        1\n",
       "2  1970  a. c. mckellar        1\n",
       "3  1970  a. c. williams        1\n",
       "4  1970    a. colin day        1"
      ]
     },
     "execution_count": 46,
     "metadata": {},
     "output_type": "execute_result"
    }
   ],
   "source": [
    "authorPublicationData = pd.read_csv('./data/author_publications_2017_asiansAsNone.txt')\n",
    "print('authorPublicationData before filtering - ',authorPublicationData.shape[0])\n",
    "authorPublicationData = authorPublicationData[authorPublicationData[\"year\"] >= 1970]\n",
    "print('authorPublicationData after filtering - ',authorPublicationData.shape[0])\n",
    "\n",
    "authorPublicationData = authorPublicationData.groupby(['year','author']).count().reset_index()\n",
    "authorPublicationData.rename(columns={'pub_id':'num_pub'}, inplace=True)\n",
    "\n",
    "print(np.unique(authorStartEndCareerData[\"start_year\"]))\n",
    "\n",
    "authorPublicationData.head()"
   ]
  },
  {
   "cell_type": "markdown",
   "metadata": {},
   "source": [
    "### Merge Publications with credible authors and their gender information"
   ]
  },
  {
   "cell_type": "code",
   "execution_count": 47,
   "metadata": {
    "collapsed": false
   },
   "outputs": [
    {
     "name": "stdout",
     "output_type": "stream",
     "text": [
      "authorPublicationData before filtering:  3246017\n",
      "authorPublicationData after filtering:  3246017\n",
      "authorPublicationData with duplicates:  3246017\n",
      "authorPublicationData no duplicates:  3246017\n",
      "503859\n"
     ]
    },
    {
     "data": {
      "text/html": [
       "<div>\n",
       "<table border=\"1\" class=\"dataframe\">\n",
       "  <thead>\n",
       "    <tr style=\"text-align: right;\">\n",
       "      <th></th>\n",
       "      <th>year</th>\n",
       "      <th>author</th>\n",
       "      <th>num_pub</th>\n",
       "      <th>start_year</th>\n",
       "      <th>end_year</th>\n",
       "      <th>total_num_pub</th>\n",
       "      <th>career_length</th>\n",
       "      <th>gender</th>\n",
       "    </tr>\n",
       "  </thead>\n",
       "  <tbody>\n",
       "    <tr>\n",
       "      <th>0</th>\n",
       "      <td>1970</td>\n",
       "      <td>a. moore</td>\n",
       "      <td>1</td>\n",
       "      <td>1970</td>\n",
       "      <td>2012</td>\n",
       "      <td>2</td>\n",
       "      <td>43</td>\n",
       "      <td>m</td>\n",
       "    </tr>\n",
       "    <tr>\n",
       "      <th>1</th>\n",
       "      <td>2012</td>\n",
       "      <td>a. moore</td>\n",
       "      <td>1</td>\n",
       "      <td>1970</td>\n",
       "      <td>2012</td>\n",
       "      <td>2</td>\n",
       "      <td>43</td>\n",
       "      <td>m</td>\n",
       "    </tr>\n",
       "    <tr>\n",
       "      <th>2</th>\n",
       "      <td>1970</td>\n",
       "      <td>a. trew</td>\n",
       "      <td>1</td>\n",
       "      <td>1970</td>\n",
       "      <td>2008</td>\n",
       "      <td>2</td>\n",
       "      <td>39</td>\n",
       "      <td>m</td>\n",
       "    </tr>\n",
       "    <tr>\n",
       "      <th>3</th>\n",
       "      <td>2008</td>\n",
       "      <td>a. trew</td>\n",
       "      <td>1</td>\n",
       "      <td>1970</td>\n",
       "      <td>2008</td>\n",
       "      <td>2</td>\n",
       "      <td>39</td>\n",
       "      <td>m</td>\n",
       "    </tr>\n",
       "    <tr>\n",
       "      <th>4</th>\n",
       "      <td>1970</td>\n",
       "      <td>adeline paiement</td>\n",
       "      <td>1</td>\n",
       "      <td>1970</td>\n",
       "      <td>2017</td>\n",
       "      <td>11</td>\n",
       "      <td>48</td>\n",
       "      <td>f</td>\n",
       "    </tr>\n",
       "  </tbody>\n",
       "</table>\n",
       "</div>"
      ],
      "text/plain": [
       "   year            author  num_pub  start_year  end_year  total_num_pub  \\\n",
       "0  1970          a. moore        1        1970      2012              2   \n",
       "1  2012          a. moore        1        1970      2012              2   \n",
       "2  1970           a. trew        1        1970      2008              2   \n",
       "3  2008           a. trew        1        1970      2008              2   \n",
       "4  1970  adeline paiement        1        1970      2017             11   \n",
       "\n",
       "   career_length gender  \n",
       "0             43      m  \n",
       "1             43      m  \n",
       "2             39      m  \n",
       "3             39      m  \n",
       "4             48      f  "
      ]
     },
     "execution_count": 47,
     "metadata": {},
     "output_type": "execute_result"
    }
   ],
   "source": [
    "authorPublicationData = pd.merge(authorPublicationData, authorStartEndCareerData, how=\"inner\", on=[\"author\"])\n",
    "\n",
    "\n",
    "print(\"authorPublicationData before filtering: \", authorPublicationData.shape[0])\n",
    "authorPublicationData = authorPublicationData.dropna(how='any')\n",
    "print(\"authorPublicationData after filtering: \", authorPublicationData.shape[0])\n",
    "\n",
    "print(\"authorPublicationData with duplicates: \", authorPublicationData.shape[0])\n",
    "authorPublicationData = authorPublicationData.drop_duplicates()\n",
    "print(\"authorPublicationData no duplicates: \", authorPublicationData.shape[0])\n",
    "\n",
    "#print(authorPublicationData.head(n=2))\n",
    "print(authorPublicationData['author'].nunique())\n",
    "#print(authorPublicationData.shape[0])\n",
    "\n",
    "\n",
    "#print(authorPublicationData[authorPublicationData.author==\"a min tjoa\"])\n",
    "authorPublicationData.head()"
   ]
  },
  {
   "cell_type": "code",
   "execution_count": 48,
   "metadata": {
    "collapsed": false
   },
   "outputs": [
    {
     "name": "stderr",
     "output_type": "stream",
     "text": [
      "C:\\Users\\wagnerca\\AppData\\Local\\Continuum\\Anaconda3\\lib\\site-packages\\matplotlib\\figure.py:1742: UserWarning: This figure includes Axes that are not compatible with tight_layout, so its results might be incorrect.\n",
      "  warnings.warn(\"This figure includes Axes that are not \"\n"
     ]
    },
    {
     "data": {
      "image/png": "[encoded data removed]",
      "text/plain": [
       "<matplotlib.figure.Figure at 0x173679e8>"
      ]
     },
     "metadata": {},
     "output_type": "display_data"
    }
   ],
   "source": [
    "pl = authorPublicationData.boxplot(column='num_pub', by='gender', showfliers=False)\n",
    "plt.title(\"Number of publications per year\")\n",
    "plt.suptitle(\"\")\n",
    "pl.set_xlabel('gender')\n",
    "pl.set_ylabel('num publications')\n",
    "pl.set_ylim([-1,10])\n",
    "plt.show()"
   ]
  },
  {
   "cell_type": "code",
   "execution_count": null,
   "metadata": {
    "collapsed": false
   },
   "outputs": [
    {
     "name": "stderr",
     "output_type": "stream",
     "text": [
      "C:\\Users\\wagnerca\\AppData\\Local\\Continuum\\Anaconda3\\lib\\site-packages\\matplotlib\\figure.py:1742: UserWarning: This figure includes Axes that are not compatible with tight_layout, so its results might be incorrect.\n",
      "  warnings.warn(\"This figure includes Axes that are not \"\n"
     ]
    },
    {
     "data": {
      "image/png": "[encoded data removed]",
      "text/plain": [
       "<matplotlib.figure.Figure at 0x3fd75fd0>"
      ]
     },
     "metadata": {},
     "output_type": "display_data"
    }
   ],
   "source": [
    "ax = authorStartEndCareerData.boxplot(column='total_num_pub', by='gender', showfliers=False)\n",
    "plt.title(\"Number of publications - total\")\n",
    "plt.suptitle(\"\")\n",
    "ax.set_xlabel('gender')\n",
    "ax.set_ylabel('num publications')\n",
    "# fig.set_tight_layout(False)\n",
    "plt.show()"
   ]
  },
  {
   "cell_type": "markdown",
   "metadata": {},
   "source": [
    "### Test Data ???"
   ]
  },
  {
   "cell_type": "code",
   "execution_count": null,
   "metadata": {
    "collapsed": false
   },
   "outputs": [
    {
     "name": "stdout",
     "output_type": "stream",
     "text": [
      "   year    author  num_pub  start_year  end_year  total_num_pub  \\\n",
      "0  1970  a. moore        1        1970      2012              2   \n",
      "\n",
      "   career_length gender  \n",
      "0             43      m  \n",
      "        year            author  num_pub  start_year  end_year  total_num_pub  \\\n",
      "284566  1987  donatella sciuto        1        1987      2016            349   \n",
      "284567  1988  donatella sciuto        2        1987      2016            349   \n",
      "284568  1989  donatella sciuto        1        1987      2016            349   \n",
      "\n",
      "        career_length gender  \n",
      "284566             30      f  \n",
      "284567             30      f  \n",
      "284568             30      f  \n"
     ]
    }
   ],
   "source": [
    "print(authorPublicationData.head(n=1))\n",
    "\n",
    "groupByYearData = authorPublicationData.copy(deep=True)\n",
    "print(groupByYearData[groupByYearData['author'] == 'donatella sciuto'].head(3))\n",
    "\n",
    "groupByYearData = calculate.groupDataAndCalculateCumulativeValues(groupByYearData, 1, 'num_pub')\n",
    "print(groupByYearData[groupByYearData['author'] == 'donatella sciuto'].head(3))\n",
    "\n"
   ]
  },
  {
   "cell_type": "code",
   "execution_count": null,
   "metadata": {
    "collapsed": false
   },
   "outputs": [],
   "source": [
    "\n",
    "print(np.unique(groupByYearData[\"year\"]))\n",
    "print(np.unique(groupByYearData[\"career_length\"]))"
   ]
  },
  {
   "cell_type": "markdown",
   "metadata": {},
   "source": [
    "# Cohort Analysis on all authors for 15 years"
   ]
  },
  {
   "cell_type": "code",
   "execution_count": null,
   "metadata": {
    "collapsed": false
   },
   "outputs": [],
   "source": [
    "years = groupByYearData['year'].unique()\n",
    "years = sorted(years)\n",
    "print(years)"
   ]
  },
  {
   "cell_type": "markdown",
   "metadata": {},
   "source": [
    "### Select Cohorts based on Start Years"
   ]
  },
  {
   "cell_type": "code",
   "execution_count": null,
   "metadata": {
    "collapsed": false
   },
   "outputs": [],
   "source": [
    "cohort_start_years = [y for y in years if y < (END_YEAR - MAX_CAREER_LENGTH_COHORT)]\n",
    "#cohort_start_years = [1970, 1974, 1984, 1994, 1998]\n"
   ]
  },
  {
   "cell_type": "markdown",
   "metadata": {},
   "source": [
    "\n",
    "### Cohort Analysis (Num Pub)"
   ]
  },
  {
   "cell_type": "code",
   "execution_count": null,
   "metadata": {
    "collapsed": false
   },
   "outputs": [],
   "source": [
    "# from importlib import reload\n",
    "# reload(plot)\n",
    "print(groupByYearData.head())"
   ]
  },
  {
   "cell_type": "code",
   "execution_count": null,
   "metadata": {
    "collapsed": false,
    "scrolled": false
   },
   "outputs": [],
   "source": [
    "plot.run_cohort_analysis(groupByYearData, cohort_start_years, MAX_CAREER_LENGTH_COHORT, \"num_pub\", \"Publications\")  "
   ]
  },
  {
   "cell_type": "markdown",
   "metadata": {},
   "source": [
    "### Cohort Analysis (Cum Num Pub)"
   ]
  },
  {
   "cell_type": "code",
   "execution_count": null,
   "metadata": {
    "collapsed": false,
    "scrolled": false
   },
   "outputs": [],
   "source": [
    "# from importlib import reload\n",
    "# reload(plot)\n",
    "plot.run_cohort_analysis(groupByYearData, cohort_start_years, MAX_CAREER_LENGTH_COHORT, \"cum_num_pub\", \"Cumulative Publications\")  \n"
   ]
  },
  {
   "cell_type": "markdown",
   "metadata": {
    "heading_collapsed": true
   },
   "source": [
    "### Cumulative Distribution of selected Cohorts for selected Career Ages\n",
    "\n",
    "how do the distributions differ? "
   ]
  },
  {
   "cell_type": "code",
   "execution_count": null,
   "metadata": {
    "collapsed": false,
    "hidden": true,
    "scrolled": false
   },
   "outputs": [],
   "source": [
    "cohort_start_years = [1997, 1998, 1999, 2000, 2001, 2002, 2003, 2004]\n",
    "\n",
    "cohort_careerage_df = plot.get_cohort_careerage_df(groupByYearData, cohort_start_years, CAREER_LENGTH, 'num_pub')\n",
    "plot.plot_cumulative_dist(cohort_careerage_df, 1, 'num_pub', 'Number of Publications')\n",
    "plot.plot_cumulative_dist(cohort_careerage_df, 5, 'num_pub', 'Number of Publications')\n",
    "# plot.plot_cumulative_dist(cohort_careerage_df, 10, 'num_pub', 'Number of Publications')\n",
    "# plot.plot_cumulative_dist(cohort_careerage_df, 15, 'num_pub', 'Number of Publications')\n",
    "\n"
   ]
  },
  {
   "cell_type": "markdown",
   "metadata": {
    "heading_collapsed": true
   },
   "source": [
    "### Regression Analysis of mean productivity on Inequality for all authors for 15 years\n",
    "\n",
    "- There is no relation at all - Reg. coefficient is 0"
   ]
  },
  {
   "cell_type": "code",
   "execution_count": null,
   "metadata": {
    "collapsed": true,
    "hidden": true
   },
   "outputs": [],
   "source": [
    "#just for debugging\n",
    "#reload(plot)\n",
    "#reload(calculate)\n",
    "#data = plot.plot_regress_performance_on_inequality(groupByYearData, 'num_pub', years, CAREER_LENGTH)\n"
   ]
  },
  {
   "cell_type": "code",
   "execution_count": null,
   "metadata": {
    "collapsed": true,
    "hidden": true
   },
   "outputs": [],
   "source": [
    "#just for debugging\n",
    "#reload(plot)\n",
    "#reload(calculate)\n",
    "#data = plot.plot_regress_performance_on_inequality(groupByYearData, 'cum_num_pub', years, CAREER_LENGTH)"
   ]
  },
  {
   "cell_type": "markdown",
   "metadata": {
    "collapsed": true,
    "heading_collapsed": true
   },
   "source": [
    "### Cohort Analysis, Regression analysis on authors grouped by 2 years for 15 years\n",
    "\n",
    "Regression???\n",
    "outcome variable: inequality of each cohort an each time interval (2 years)\n",
    "Indepent variable: number of publications that the cohort produced during the time interval\n",
    "\n",
    "Question: are more inequal groups, more productive?  "
   ]
  },
  {
   "cell_type": "code",
   "execution_count": null,
   "metadata": {
    "collapsed": true,
    "hidden": true
   },
   "outputs": [],
   "source": [
    "#groupByYearData = authorPublicationData.copy(deep=True)\n",
    "#print(groupByYearData[groupByYearData['author'] == 'donatella sciuto'].head(10))\n",
    "#groupByYearData = calculate.groupDataAndCalculateCumulativeValues(groupByYearData, 2, 'num_pub')\n",
    "#print(groupByYearData[groupByYearData['author'] == 'donatella sciuto'].head(10))\n",
    "\n",
    "#years = groupByYearData['year'].unique()\n",
    "#years = sorted(years)\n",
    "#print(years)\n",
    "\n",
    "#plot.plot_cohort_analysis_on(groupByYearData, 'num_pub', cohort_start_years, CAREER_LENGTH, 'Publications Count')\n",
    "#plot.plot_cohort_analysis_on(groupByYearData, 'cum_num_pub', cohort_start_years, CAREER_LENGTH, 'Cumulative Publications Count')\n",
    "#data1 = plot.plot_regress_performance_on_inequality(groupByYearData, 'num_pub', years, CAREER_LENGTH)\n",
    "#data2 = plot.plot_regress_performance_on_inequality(groupByYearData, 'cum_num_pub', years, CAREER_LENGTH)"
   ]
  },
  {
   "cell_type": "markdown",
   "metadata": {
    "heading_collapsed": true
   },
   "source": [
    "### Cohort Analysis, Regression analysis on authors grouped by 3 years for 15 years"
   ]
  },
  {
   "cell_type": "code",
   "execution_count": null,
   "metadata": {
    "collapsed": true,
    "hidden": true
   },
   "outputs": [],
   "source": [
    "#groupByYearData = authorPublicationData.copy(deep=True)\n",
    "#print(groupByYearData[groupByYearData['author'] == 'donatella sciuto'].head(10))\n",
    "#groupByYearData = calculate.groupDataAndCalculateCumulativeValues(groupByYearData, 3, 'num_pub')\n",
    "#print(groupByYearData[groupByYearData['author'] == 'donatella sciuto'].head(10))\n",
    "\n",
    "#years = groupByYearData['year'].unique()\n",
    "#years = sorted(years)\n",
    "#print(years)\n",
    "\n",
    "#plot.plot_cohort_analysis_on(groupByYearData, 'num_pub', cohort_start_years, CAREER_LENGTH, 'Publications Count')\n",
    "#plot.plot_cohort_analysis_on(groupByYearData, 'cum_num_pub', cohort_start_years, CAREER_LENGTH, 'Cumulative Publications Count')\n",
    "#data1 = plot.plot_regress_performance_on_inequality(groupByYearData, 'num_pub', years, CAREER_LENGTH)\n",
    "#data2 = plot.plot_regress_performance_on_inequality(groupByYearData, 'cum_num_pub', years, CAREER_LENGTH)"
   ]
  },
  {
   "cell_type": "code",
   "execution_count": null,
   "metadata": {
    "collapsed": true,
    "hidden": true
   },
   "outputs": [],
   "source": []
  }
 ],
 "metadata": {
  "kernelspec": {
   "display_name": "Python [Root]",
   "language": "python",
   "name": "Python [Root]"
  },
  "language_info": {
   "codemirror_mode": {
    "name": "ipython",
    "version": 3
   },
   "file_extension": ".py",
   "mimetype": "text/x-python",
   "name": "python",
   "nbconvert_exporter": "python",
   "pygments_lexer": "ipython3",
   "version": "3.5.1"
  }
 },
 "nbformat": 4,
 "nbformat_minor": 2
}
