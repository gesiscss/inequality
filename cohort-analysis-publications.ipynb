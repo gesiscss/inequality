{
 "cells": [
  {
   "cell_type": "code",
   "execution_count": 1,
   "metadata": {
    "collapsed": false
   },
   "outputs": [],
   "source": [
    "import pandas as pd\n",
    "import numpy as np\n",
    "import matplotlib.pyplot as plt\n",
    "%matplotlib inline\n",
    "import timeit\n",
    "import seaborn as sns\n",
    "\n",
    "#these are user defined modules\n",
    "import plot\n",
    "import calculate\n",
    "\n",
    "\n",
    "# CAREER_LENGTH = 15 means the authors who have atleast 15 years of experience\n",
    "CAREER_LENGTH_LIST = [0,5,10,15,20,25]\n",
    "CAREER_LENGTH = 15\n",
    "END_YEAR = 2015\n"
   ]
  },
  {
   "cell_type": "markdown",
   "metadata": {},
   "source": [
    "### Cohort Analysis\n",
    "\n",
    "For each (filtered) cohort analyze how the distribution of publications and citations changes in the cohort over time.\n",
    "At the beginning all scientists should be equal (they have zero publications and citations). Over time some scientists become more productive and/or successful than others which leads to an increase in the Gini coefficient."
   ]
  },
  {
   "cell_type": "markdown",
   "metadata": {},
   "source": [
    "### Read Gender details"
   ]
  },
  {
   "cell_type": "code",
   "execution_count": 2,
   "metadata": {
    "collapsed": false
   },
   "outputs": [
    {
     "name": "stdout",
     "output_type": "stream",
     "text": [
      "          author gender\n",
      "0   gareth beale      m\n",
      "1    graeme earl      m\n",
      "2  altaf hossain      m\n",
      "3   faisal zaman      m\n",
      "4      m. nasser   none\n",
      "['m' 'none' 'f']\n",
      "gender\n",
      "f       1046534\n",
      "m       4621274\n",
      "none    3803920\n",
      "dtype: int64\n",
      "1704919\n"
     ]
    }
   ],
   "source": [
    "# read gender details - the column names are name, gender - change it to author, gender\n",
    "#gender = pd.read_csv('./data/name_gender_1970_2016_noAsians.csv')\n",
    "gender = pd.read_csv('./data-new/name_gender_2017_asiansAsNone.txt')\n",
    "gender.rename(columns={'name':'author'}, inplace=True)\n",
    "print(gender.head())\n",
    "print(gender['gender'].unique())\n",
    "print(gender.groupby('gender').size())\n",
    "#TODO: also show proportion! What is the percentage of men and women?\n",
    "\n",
    "print(gender['author'].nunique())"
   ]
  },
  {
   "cell_type": "markdown",
   "metadata": {},
   "source": [
    "### Read authors with start and end year details"
   ]
  },
  {
   "cell_type": "code",
   "execution_count": 3,
   "metadata": {
    "collapsed": false
   },
   "outputs": [
    {
     "name": "stdout",
     "output_type": "stream",
     "text": [
      "authorStartEndCareerData before filtering -  112791\n",
      "authorStartEndCareerData after filtering -  112791\n",
      "               author  start_year  end_year  total_num_pub  career_length\n",
      "0          a min tjoa        1979      2017            191             38\n",
      "1          a-xing zhu        1998      2017             22             19\n",
      "2  a. a. (louis) beex        1980      2016             31             36\n",
      "3    a. a. abouelsoud        1996      2016             10             20\n",
      "4          a. a. ball        1988      2006              5             18\n",
      "author unique names  -  112791\n"
     ]
    }
   ],
   "source": [
    "# Different files exists depending upon their career length\n",
    "\n",
    "#authorStartEndCareerData = pd.read_csv('./data/authors-scientific-atleast-'+str(CAREER_LENGTH)+'-year.csv')\n",
    "authorStartEndCareerData = pd.read_csv('./data-new/authors-scientific-atleast-'+str(CAREER_LENGTH)+'-year.csv')\n",
    "\n",
    "\n",
    "print('authorStartEndCareerData before filtering - ',authorStartEndCareerData.shape[0])\n",
    "authorStartEndCareerData = authorStartEndCareerData[authorStartEndCareerData[\"start_year\"] >= 1970]\n",
    "print('authorStartEndCareerData after filtering - ',authorStartEndCareerData.shape[0])\n",
    "\n",
    "print(authorStartEndCareerData.head())\n",
    "\n",
    "#print(\"authorStartEndCareerData  %s\", authorStartEndCareerData.shape[0])\n",
    "print(\"author unique names  - \", authorStartEndCareerData['author'].nunique())\n",
    "#print(authorStartEndCareerData[authorStartEndCareerData['author']=='a min tjoa'])"
   ]
  },
  {
   "cell_type": "markdown",
   "metadata": {},
   "source": [
    "### Merge credible authors and their gender information"
   ]
  },
  {
   "cell_type": "code",
   "execution_count": 4,
   "metadata": {
    "collapsed": false
   },
   "outputs": [
    {
     "name": "stdout",
     "output_type": "stream",
     "text": [
      "       author  start_year  end_year  total_num_pub  career_length gender\n",
      "0  a min tjoa        1979      2017            191             38   none\n",
      "1  a min tjoa        1979      2017            191             38   none\n",
      "2  a min tjoa        1979      2017            191             38   none\n",
      "3  a min tjoa        1979      2017            191             38   none\n",
      "4  a min tjoa        1979      2017            191             38   none\n",
      "authorStartEndCareerData with duplicates: %s 3884297\n",
      "authorStartEndCareerData no duplicates: %s 112791\n"
     ]
    }
   ],
   "source": [
    "authorStartEndCareerData = pd.merge(authorStartEndCareerData, gender, how=\"left\", on=[\"author\"])\n",
    "# for authors whose gender not found, replace it with none\n",
    "authorStartEndCareerData['gender'] = authorStartEndCareerData['gender'].fillna('none')\n",
    "print(authorStartEndCareerData.head())\n",
    "\n",
    "print(\"authorStartEndCareerData with duplicates: %s\", authorStartEndCareerData.shape[0])\n",
    "authorStartEndCareerData = authorStartEndCareerData.drop_duplicates()\n",
    "print(\"authorStartEndCareerData no duplicates: %s\", authorStartEndCareerData.shape[0])\n",
    "# print(authorStartEndCareerData['author'].nunique())\n",
    "\n",
    "#axes = authorStartEndCareerData.boxplot(column='pub_count', by='gender', return_type='axes')\n",
    "#for ax in axes.values():\n",
    "#    ax.set_ylim(0, 200)\n",
    "#plt.show()\n"
   ]
  },
  {
   "cell_type": "markdown",
   "metadata": {},
   "source": [
    "### Read Publication data"
   ]
  },
  {
   "cell_type": "code",
   "execution_count": 5,
   "metadata": {
    "collapsed": false
   },
   "outputs": [
    {
     "name": "stdout",
     "output_type": "stream",
     "text": [
      "authorPublicationData before filtering -  9471668\n",
      "authorPublicationData after filtering -  9462275\n",
      "   year          author  num_pub\n",
      "0  1970     a. a. afifi        1\n",
      "1  1970      a. armenti        1\n",
      "2  1970  a. c. mckellar        1\n",
      "3  1970  a. c. williams        1\n",
      "4  1970    a. colin day        1\n",
      "                 author  start_year  end_year  total_num_pub  career_length  \\\n",
      "0            a min tjoa        1979      2017            191             38   \n",
      "191          a-xing zhu        1998      2017             22             19   \n",
      "213  a. a. (louis) beex        1980      2016             31             36   \n",
      "244    a. a. abouelsoud        1996      2016             10             20   \n",
      "254          a. a. ball        1988      2006              5             18   \n",
      "\n",
      "    gender  \n",
      "0     none  \n",
      "191   none  \n",
      "213      m  \n",
      "244      m  \n",
      "254      m  \n",
      "[1970 1971 1972 1973 1974 1975 1976 1977 1978 1979 1980 1981 1982 1983 1984\n",
      " 1985 1986 1987 1988 1989 1990 1991 1992 1993 1994 1995 1996 1997 1998 1999\n",
      " 2000 2001 2002 2003]\n"
     ]
    }
   ],
   "source": [
    "#authorPublicationData = pd.read_csv('./data/author_publications_1970_2016_asiansAsNone.txt')\n",
    "authorPublicationData = pd.read_csv('./data-new/author_publications_2017_asiansAsNone.txt')\n",
    "\n",
    "print('authorPublicationData before filtering - ',authorPublicationData.shape[0])\n",
    "authorPublicationData = authorPublicationData[authorPublicationData[\"year\"] >= 1970]\n",
    "print('authorPublicationData after filtering - ',authorPublicationData.shape[0])\n",
    "\n",
    "authorPublicationData = authorPublicationData.groupby(['year','author']).count().reset_index()\n",
    "authorPublicationData.rename(columns={'pub_id':'num_pub'}, inplace=True)\n",
    "print(authorPublicationData.head())\n",
    "\n",
    "print(authorStartEndCareerData.head())\n",
    "##remove wrong data\n",
    "#authorPublicationData = authorPublicationData[authorPublicationData[\"year\"] > 1900]\n",
    "#print(authorPublicationData[authorPublicationData.author==\"a min tjoa\"])\n",
    "\n",
    "print(np.unique(authorStartEndCareerData[\"start_year\"]))\n"
   ]
  },
  {
   "cell_type": "markdown",
   "metadata": {},
   "source": [
    "### Merge Publications with credible authors and their gender information"
   ]
  },
  {
   "cell_type": "code",
   "execution_count": 6,
   "metadata": {
    "collapsed": false
   },
   "outputs": [
    {
     "name": "stdout",
     "output_type": "stream",
     "text": [
      "authorPublicationData before filtering: %s 4855468\n",
      "authorPublicationData after filtering: %s 1317920\n",
      "authorPublicationData with duplicates: %s 1317920\n",
      "authorPublicationData no duplicates: %s 1317920\n",
      "112791\n",
      "    year            author  num_pub  start_year  end_year  total_num_pub  \\\n",
      "10  1970          a. moore        1      1970.0    2012.0            2.0   \n",
      "12  1970           a. trew        1      1970.0    2008.0            2.0   \n",
      "19  1970  adeline paiement        1      1970.0    2017.0           11.0   \n",
      "21  1970  alain colmerauer        1      1970.0    2008.0            8.0   \n",
      "23  1970      alan c. shaw        2      1970.0    2000.0           15.0   \n",
      "\n",
      "    career_length gender  \n",
      "10           42.0      m  \n",
      "12           38.0      m  \n",
      "19           47.0      f  \n",
      "21           38.0      m  \n",
      "23           30.0   none  \n"
     ]
    }
   ],
   "source": [
    "#authorPublicationData = pd.merge(authorPublicationData, authorStartEndCareerData,  \n",
    "#                                          how=\"left\", left_on=\"author\", right_on=\"author\")\n",
    "\n",
    "authorPublicationData = pd.merge(authorPublicationData, authorStartEndCareerData, how=\"left\", on=[\"author\"])\n",
    "\n",
    "\n",
    "print(\"authorPublicationData before filtering: %s\", authorPublicationData.shape[0])\n",
    "authorPublicationData = authorPublicationData.dropna(how='any')\n",
    "print(\"authorPublicationData after filtering: %s\", authorPublicationData.shape[0])\n",
    "\n",
    "print(\"authorPublicationData with duplicates: %s\", authorPublicationData.shape[0])\n",
    "authorPublicationData = authorPublicationData.drop_duplicates()\n",
    "print(\"authorPublicationData no duplicates: %s\", authorPublicationData.shape[0])\n",
    "\n",
    "#print(authorPublicationData.head(n=2))\n",
    "print(authorPublicationData['author'].nunique())\n",
    "#print(authorPublicationData.shape[0])\n",
    "\n",
    "print(authorPublicationData.head())\n",
    "#print(authorPublicationData[authorPublicationData.author==\"a min tjoa\"])\n"
   ]
  },
  {
   "cell_type": "code",
   "execution_count": 7,
   "metadata": {
    "collapsed": false
   },
   "outputs": [
    {
     "data": {
      "image/png": "[encoded data removed]",
      "text/plain": [
       "<matplotlib.figure.Figure at 0x30234780>"
      ]
     },
     "metadata": {},
     "output_type": "display_data"
    },
    {
     "name": "stdout",
     "output_type": "stream",
     "text": [
      "    year    author  num_pub  start_year  end_year  total_num_pub  \\\n",
      "10  1970  a. moore        1      1970.0    2012.0            2.0   \n",
      "\n",
      "    career_length gender  \n",
      "10           42.0      m  \n"
     ]
    }
   ],
   "source": [
    "pl = authorPublicationData.boxplot(column='num_pub', by='gender', showfliers=False)\n",
    "pl.set_xlabel('gender')\n",
    "pl.set_ylabel('num publications')\n",
    "pl.set_ylim([-1,10])\n",
    "plt.show()\n",
    "\n",
    "print(authorPublicationData.head(n=1))"
   ]
  },
  {
   "cell_type": "markdown",
   "metadata": {},
   "source": [
    "### Test Data"
   ]
  },
  {
   "cell_type": "code",
   "execution_count": 8,
   "metadata": {
    "collapsed": false
   },
   "outputs": [
    {
     "name": "stdout",
     "output_type": "stream",
     "text": [
      "    year    author  num_pub  start_year  end_year  total_num_pub  \\\n",
      "10  1970  a. moore        1      1970.0    2012.0            2.0   \n",
      "\n",
      "    career_length gender  \n",
      "10           42.0      m  \n",
      "        year            author  num_pub  start_year  end_year  total_num_pub  \\\n",
      "86432   1987  donatella sciuto        1      1987.0    2016.0          349.0   \n",
      "100632  1988  donatella sciuto        2      1987.0    2016.0          349.0   \n",
      "117982  1989  donatella sciuto        1      1987.0    2016.0          349.0   \n",
      "\n",
      "        career_length gender  \n",
      "86432            29.0      f  \n",
      "100632           29.0      f  \n",
      "117982           29.0      f  \n",
      "[1970 1971 1972 1973 1974 1975 1976 1977 1978 1979 1980 1981 1982 1983 1984\n",
      " 1985 1986 1987 1988 1989 1990 1991 1992 1993 1994 1995 1996 1997 1998 1999\n",
      " 2000 2001 2002 2003 2004 2005 2006 2007 2008 2009 2010 2011 2012 2013 2014\n",
      " 2015 2016 2017 2018]\n",
      "       year            author  num_pub  start_year  end_year  total_num_pub  \\\n",
      "45640  1987  donatella sciuto        1      1987.0    2016.0          349.0   \n",
      "53811  1988  donatella sciuto        2      1987.0    2016.0          349.0   \n",
      "63704  1989  donatella sciuto        1      1987.0    2016.0          349.0   \n",
      "\n",
      "       career_length gender  cum_num_pub  \n",
      "45640           29.0      f            1  \n",
      "53811           29.0      f            3  \n",
      "63704           29.0      f            4  \n",
      "[1970 1971 1972 1973 1974 1975 1976 1977 1978 1979 1980 1981 1982 1983 1984\n",
      " 1985 1986 1987 1988 1989 1990 1991 1992 1993 1994 1995 1996 1997 1998 1999\n",
      " 2000 2001 2002 2003 2004 2005 2006 2007 2008 2009 2010 2011 2012 2013 2014\n",
      " 2015 2016 2017 2018]\n"
     ]
    }
   ],
   "source": [
    "print(authorPublicationData.head(n=1))\n",
    "\n",
    "groupByYearData = authorPublicationData.copy(deep=True)\n",
    "print(groupByYearData[groupByYearData['author'] == 'donatella sciuto'].head(3))\n",
    "print(np.unique(groupByYearData[\"year\"]))\n",
    "\n",
    "groupByYearData = calculate.groupDataAndCalculateCumulativeValues(groupByYearData, 1, 'num_pub')\n",
    "print(groupByYearData[groupByYearData['author'] == 'donatella sciuto'].head(3))\n",
    "print(np.unique(groupByYearData[\"year\"]))"
   ]
  },
  {
   "cell_type": "markdown",
   "metadata": {},
   "source": [
    "# Cohort Analysis on all authors for 15 years"
   ]
  },
  {
   "cell_type": "code",
   "execution_count": 9,
   "metadata": {
    "collapsed": false
   },
   "outputs": [
    {
     "name": "stdout",
     "output_type": "stream",
     "text": [
      "[1970, 1971, 1972, 1973, 1974, 1975, 1976, 1977, 1978, 1979, 1980, 1981, 1982, 1983, 1984, 1985, 1986, 1987, 1988, 1989, 1990, 1991, 1992, 1993, 1994, 1995, 1996, 1997, 1998, 1999, 2000, 2001, 2002, 2003, 2004, 2005, 2006, 2007, 2008, 2009, 2010, 2011, 2012, 2013, 2014, 2015, 2016, 2017, 2018]\n"
     ]
    }
   ],
   "source": [
    "years = groupByYearData['year'].unique()\n",
    "years = sorted(years)\n",
    "print(years)\n"
   ]
  },
  {
   "cell_type": "markdown",
   "metadata": {},
   "source": [
    "#### Select Cohorts based on Start Years"
   ]
  },
  {
   "cell_type": "code",
   "execution_count": 51,
   "metadata": {
    "collapsed": true
   },
   "outputs": [],
   "source": [
    "cohort_start_years = [y for y in years if y < (END_YEAR - CAREER_LENGTH)]\n",
    "#cohort_start_years = [1970, 1974, 1984, 1994, 1998]\n",
    " "
   ]
  },
  {
   "cell_type": "code",
   "execution_count": 52,
   "metadata": {
    "collapsed": false
   },
   "outputs": [
    {
     "name": "stdout",
     "output_type": "stream",
     "text": [
      "   cohort_start_year  career_age criterion gender  \\\n",
      "0             1970.0         1.0   num_pub    all   \n",
      "\n",
      "                                              values  \n",
      "0  [1.0, 1.0, 1.0, 1.0, 2.0, 1.0, 1.0, 1.0, 1.0, ...  \n"
     ]
    },
    {
     "data": {
      "image/png": "[encoded data removed]",
      "text/plain": [
       "<matplotlib.figure.Figure at 0x4e6677b8>"
      ]
     },
     "metadata": {},
     "output_type": "display_data"
    }
   ],
   "source": [
    "# create a dataframe with \n",
    "# cohort start year, career age, gender, distribution of values (num pub or cum num pub or num cit or cum num cit) \n",
    "# gender can be all, f, m or none\n",
    "# this df be later used  for computing means, gini and so on  \n",
    "\n",
    "from importlib import reload\n",
    "reload(plot)\n",
    "\n",
    "cohort_careerage_df = plot.get_cohort_careerage_df(groupByYearData, cohort_start_years, CAREER_LENGTH, 'num_pub')\n",
    "print(cohort_careerage_df.head(n=1))\n",
    "\n",
    "test  = cohort_careerage_df[(cohort_careerage_df[\"gender\"]==\"all\") & (cohort_careerage_df[\"criterion\"]==\"num_pub\") \n",
    "                    & (cohort_careerage_df[\"cohort_start_year\"]==1990) & (cohort_careerage_df[\"career_age\"]==5.0)]\n",
    "\n",
    "\n",
    "\n",
    "\n",
    "plot.plot_cumulative_dist(cohort_careerage_df, 1, 'num_pub', 'Number of Publications')\n",
    "#plot.plot_cumulative_dist(cohort_careerage_df, 5, 'num_pub', 'Number of Publications')\n",
    "#plot.plot_cumulative_dist(cohort_careerage_df, 10, 'num_pub', 'Number of Publications')\n",
    "#plot.plot_cumulative_dist(cohort_careerage_df, 15, 'num_pub', 'Number of Publications')"
   ]
  },
  {
   "cell_type": "code",
   "execution_count": 45,
   "metadata": {
    "collapsed": false
   },
   "outputs": [
    {
     "name": "stdout",
     "output_type": "stream",
     "text": [
      "<class 'numpy.ndarray'>\n",
      "[ 0.  0.  0. ...,  0.  6.  1.]\n",
      "[ 0.  0.  0. ...,  0.  6.  1.]\n",
      "53349\n",
      "<class 'numpy.ndarray'>\n"
     ]
    },
    {
     "ename": "TypeError",
     "evalue": "Iterator operand or requested dtype holds references, but the REFS_OK flag was not enabled",
     "output_type": "error",
     "traceback": [
      "\u001b[0;31m---------------------------------------------------------------------------\u001b[0m",
      "\u001b[0;31mTypeError\u001b[0m                                 Traceback (most recent call last)",
      "\u001b[0;32m<ipython-input-45-1ade67ecf16d>\u001b[0m in \u001b[0;36m<module>\u001b[0;34m()\u001b[0m\n\u001b[1;32m      7\u001b[0m \u001b[0mprint\u001b[0m\u001b[0;34m(\u001b[0m\u001b[0mlen\u001b[0m\u001b[0;34m(\u001b[0m\u001b[0marr\u001b[0m\u001b[0;34m[\u001b[0m\u001b[0;36m0\u001b[0m\u001b[0;34m]\u001b[0m\u001b[0;34m)\u001b[0m\u001b[0;34m)\u001b[0m\u001b[0;34m\u001b[0m\u001b[0m\n\u001b[1;32m      8\u001b[0m \u001b[0mprint\u001b[0m\u001b[0;34m(\u001b[0m\u001b[0mtype\u001b[0m\u001b[0;34m(\u001b[0m\u001b[0marr\u001b[0m\u001b[0;34m[\u001b[0m\u001b[0;36m0\u001b[0m\u001b[0;34m]\u001b[0m\u001b[0;34m)\u001b[0m\u001b[0;34m)\u001b[0m\u001b[0;34m\u001b[0m\u001b[0m\n\u001b[0;32m----> 9\u001b[0;31m \u001b[0;32mfor\u001b[0m \u001b[0mx\u001b[0m \u001b[0;32min\u001b[0m \u001b[0mnp\u001b[0m\u001b[0;34m.\u001b[0m\u001b[0mnditer\u001b[0m\u001b[0;34m(\u001b[0m\u001b[0mtest\u001b[0m\u001b[0;34m)\u001b[0m\u001b[0;34m:\u001b[0m\u001b[0;34m\u001b[0m\u001b[0m\n\u001b[0m\u001b[1;32m     10\u001b[0m     \u001b[0mprint\u001b[0m \u001b[0;34m(\u001b[0m\u001b[0mx\u001b[0m\u001b[0;34m)\u001b[0m\u001b[0;34m\u001b[0m\u001b[0m\n\u001b[1;32m     11\u001b[0m \u001b[0;34m\u001b[0m\u001b[0m\n",
      "\u001b[0;31mTypeError\u001b[0m: Iterator operand or requested dtype holds references, but the REFS_OK flag was not enabled"
     ]
    }
   ],
   "source": []
  },
  {
   "cell_type": "code",
   "execution_count": null,
   "metadata": {
    "collapsed": false
   },
   "outputs": [],
   "source": [
    "#just for debugging\n",
    "#reload(plot)\n",
    "#reload(calculate)\n",
    "\n",
    "plot.plot_cohort_analysis_on(groupByYearData, 'num_pub', cohort_start_years, CAREER_LENGTH, 'Publications Count')\n"
   ]
  },
  {
   "cell_type": "code",
   "execution_count": null,
   "metadata": {
    "collapsed": false
   },
   "outputs": [],
   "source": [
    "plot.plot_cohort_analysis_on(groupByYearData, 'cum_num_pub', cohort_start_years, CAREER_LENGTH,'Cumulative Publications Count')"
   ]
  },
  {
   "cell_type": "code",
   "execution_count": null,
   "metadata": {
    "collapsed": false,
    "scrolled": false
   },
   "outputs": [],
   "source": [
    "\n",
    "\n"
   ]
  },
  {
   "cell_type": "markdown",
   "metadata": {},
   "source": [
    "### Regression Analysis of mean productivity on Inequality for all authors for 15 years\n",
    "\n",
    "- There is no relation at all - Reg. coefficient is 0"
   ]
  },
  {
   "cell_type": "code",
   "execution_count": null,
   "metadata": {
    "collapsed": false
   },
   "outputs": [],
   "source": [
    "#just for debugging\n",
    "#reload(plot)\n",
    "#reload(calculate)\n",
    "#data = plot.plot_regress_performance_on_inequality(groupByYearData, 'num_pub', years, CAREER_LENGTH)\n"
   ]
  },
  {
   "cell_type": "code",
   "execution_count": null,
   "metadata": {
    "collapsed": false
   },
   "outputs": [],
   "source": [
    "#just for debugging\n",
    "#reload(plot)\n",
    "#reload(calculate)\n",
    "#data = plot.plot_regress_performance_on_inequality(groupByYearData, 'cum_num_pub', years, CAREER_LENGTH)"
   ]
  },
  {
   "cell_type": "markdown",
   "metadata": {
    "collapsed": true
   },
   "source": [
    "### Cohort Analysis, Regression analysis on authors grouped by 2 years for 15 years\n",
    "\n",
    "Regression???\n",
    "outcome variable: inequality of each cohort an each time interval (2 years)\n",
    "Indepent variable: number of publications that the cohort produced during the time interval\n",
    "\n",
    "Question: are more inequal groups, more productive?  "
   ]
  },
  {
   "cell_type": "code",
   "execution_count": null,
   "metadata": {
    "collapsed": false
   },
   "outputs": [],
   "source": [
    "#groupByYearData = authorPublicationData.copy(deep=True)\n",
    "#print(groupByYearData[groupByYearData['author'] == 'donatella sciuto'].head(10))\n",
    "#groupByYearData = calculate.groupDataAndCalculateCumulativeValues(groupByYearData, 2, 'num_pub')\n",
    "#print(groupByYearData[groupByYearData['author'] == 'donatella sciuto'].head(10))\n",
    "\n",
    "#years = groupByYearData['year'].unique()\n",
    "#years = sorted(years)\n",
    "#print(years)\n",
    "\n",
    "#plot.plot_cohort_analysis_on(groupByYearData, 'num_pub', cohort_start_years, CAREER_LENGTH, 'Publications Count')\n",
    "#plot.plot_cohort_analysis_on(groupByYearData, 'cum_num_pub', cohort_start_years, CAREER_LENGTH, 'Cumulative Publications Count')\n",
    "#data1 = plot.plot_regress_performance_on_inequality(groupByYearData, 'num_pub', years, CAREER_LENGTH)\n",
    "#data2 = plot.plot_regress_performance_on_inequality(groupByYearData, 'cum_num_pub', years, CAREER_LENGTH)"
   ]
  },
  {
   "cell_type": "markdown",
   "metadata": {},
   "source": [
    "### Cohort Analysis, Regression analysis on authors grouped by 3 years for 15 years"
   ]
  },
  {
   "cell_type": "code",
   "execution_count": null,
   "metadata": {
    "collapsed": false
   },
   "outputs": [],
   "source": [
    "#groupByYearData = authorPublicationData.copy(deep=True)\n",
    "#print(groupByYearData[groupByYearData['author'] == 'donatella sciuto'].head(10))\n",
    "#groupByYearData = calculate.groupDataAndCalculateCumulativeValues(groupByYearData, 3, 'num_pub')\n",
    "#print(groupByYearData[groupByYearData['author'] == 'donatella sciuto'].head(10))\n",
    "\n",
    "#years = groupByYearData['year'].unique()\n",
    "#years = sorted(years)\n",
    "#print(years)\n",
    "\n",
    "#plot.plot_cohort_analysis_on(groupByYearData, 'num_pub', cohort_start_years, CAREER_LENGTH, 'Publications Count')\n",
    "#plot.plot_cohort_analysis_on(groupByYearData, 'cum_num_pub', cohort_start_years, CAREER_LENGTH, 'Cumulative Publications Count')\n",
    "#data1 = plot.plot_regress_performance_on_inequality(groupByYearData, 'num_pub', years, CAREER_LENGTH)\n",
    "#data2 = plot.plot_regress_performance_on_inequality(groupByYearData, 'cum_num_pub', years, CAREER_LENGTH)"
   ]
  },
  {
   "cell_type": "code",
   "execution_count": null,
   "metadata": {
    "collapsed": true
   },
   "outputs": [],
   "source": []
  }
 ],
 "metadata": {
  "kernelspec": {
   "display_name": "Python [Root]",
   "language": "python",
   "name": "Python [Root]"
  },
  "language_info": {
   "codemirror_mode": {
    "name": "ipython",
    "version": 3
   },
   "file_extension": ".py",
   "mimetype": "text/x-python",
   "name": "python",
   "nbconvert_exporter": "python",
   "pygments_lexer": "ipython3",
   "version": "3.5.1"
  }
 },
 "nbformat": 4,
 "nbformat_minor": 2
}
