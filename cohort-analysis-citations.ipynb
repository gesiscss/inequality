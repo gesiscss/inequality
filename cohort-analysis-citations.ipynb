{
 "cells": [
  {
   "cell_type": "code",
   "execution_count": null,
   "metadata": {},
   "outputs": [],
   "source": [
    "%matplotlib inline\n",
    "\n",
    "import pandas as pd\n",
    "import numpy as np\n",
    "import matplotlib.pyplot as plt\n",
    "import timeit\n",
    "import seaborn as sns\n",
    "\n",
    "#these are user defined modules\n",
    "import plot\n",
    "import calculate\n",
    "\n",
    "\n",
    "# CAREER_LENGTH = 15 means the authors who have atleast 15 years of experience\n",
    "CAREER_LENGTH_LIST = [0,5,10,15,20,25]\n",
    "CAREER_LENGTH = 15\n",
    "END_YEAR = 2015"
   ]
  },
  {
   "cell_type": "markdown",
   "metadata": {},
   "source": [
    "### Cohort Analysis\n",
    "\n",
    "For each (filtered) cohort analyze how the distribution of publications and citations changes in the cohort over time.\n",
    "At the beginning all scientists should be equal (they have zero publications and citations). Over time some scientists become more productive and/or successful than others which leads to an increase in the Gini coefficient."
   ]
  },
  {
   "cell_type": "code",
   "execution_count": null,
   "metadata": {},
   "outputs": [],
   "source": [
    "start_time = timeit.default_timer()\n",
    "print(start_time)"
   ]
  },
  {
   "cell_type": "markdown",
   "metadata": {},
   "source": [
    "### Read Gender details"
   ]
  },
  {
   "cell_type": "code",
   "execution_count": null,
   "metadata": {},
   "outputs": [],
   "source": [
    "# read gender details - the column names are name, gender - change it to author, gender\n",
    "#gender = pd.read_csv('./data/name_gender_1970_2016_noAsians.csv')\n",
    "gender = pd.read_csv('./data-new/name_gender_2017_asiansAsNone.txt')\n",
    "\n",
    "gender.rename(columns={'name':'author'}, inplace=True)\n",
    "print(gender.head())\n",
    "print(gender['gender'].unique())\n",
    "print(gender.groupby('gender').size())\n",
    "#TODO: also show proportion! What is the percentage of men and women?\n",
    "\n",
    "print(gender['author'].nunique())"
   ]
  },
  {
   "cell_type": "markdown",
   "metadata": {},
   "source": [
    "### Read authors with start and end year details"
   ]
  },
  {
   "cell_type": "code",
   "execution_count": null,
   "metadata": {},
   "outputs": [],
   "source": [
    "\n",
    "#authorStartEndCareerData = pd.read_csv('./data/authors-scientific-atleast-'+str(CAREER_LENGTH)+'-year.csv')\n",
    "authorStartEndCareerData = pd.read_csv('./data-new/authors-scientific-atleast-'+str(CAREER_LENGTH)+'-year.csv')\n",
    "\n",
    "\n",
    "print('authorStartEndCareerData before filtering - ',authorStartEndCareerData.shape[0])\n",
    "authorStartEndCareerData = authorStartEndCareerData[authorStartEndCareerData[\"start_year\"] >= 1970]\n",
    "print('authorStartEndCareerData after filtering - ',authorStartEndCareerData.shape[0])\n",
    "\n",
    "print(authorStartEndCareerData.head())\n",
    "\n",
    "#print(\"authorStartEndCareerData  %s\", authorStartEndCareerData.shape[0])\n",
    "print(\"author unique names  - \", authorStartEndCareerData['author'].nunique())\n",
    "#print(authorStartEndCareerData[authorStartEndCareerData['author']=='a min tjoa'])"
   ]
  },
  {
   "cell_type": "markdown",
   "metadata": {},
   "source": [
    "### Merge credible authors and their gender information"
   ]
  },
  {
   "cell_type": "code",
   "execution_count": null,
   "metadata": {},
   "outputs": [],
   "source": [
    "authorStartEndCareerData = pd.merge(authorStartEndCareerData, gender, how=\"left\", on=[\"author\"])\n",
    "# for authors whose gender not found, replace it with none\n",
    "authorStartEndCareerData['gender'] = authorStartEndCareerData['gender'].fillna('none')\n",
    "print(authorStartEndCareerData.head())\n",
    "\n",
    "print(\"authorStartEndCareerData with duplicates: %s\", authorStartEndCareerData.shape[0])\n",
    "authorStartEndCareerData = authorStartEndCareerData.drop_duplicates()\n",
    "print(\"authorStartEndCareerData no duplicates: %s\", authorStartEndCareerData.shape[0])\n",
    "# print(authorStartEndCareerData['author'].nunique())\n",
    "\n",
    "#axes = authorStartEndCareerData.boxplot(column='pub_count', by='gender', return_type='axes')\n",
    "#for ax in axes.values():\n",
    "#    ax.set_ylim(0, 200)\n",
    "#plt.show()"
   ]
  },
  {
   "cell_type": "markdown",
   "metadata": {},
   "source": [
    "### Read Citation data"
   ]
  },
  {
   "cell_type": "code",
   "execution_count": null,
   "metadata": {},
   "outputs": [],
   "source": [
    "#authorCitationsData = pd.read_csv('./data/authors_cite_2016_asiansAsNone.txt')\n",
    "#old data \n",
    "#authorCitationsData before filtering -  1904817\n",
    "#authorCitationsData after filtering -  1904456\n",
    "\n",
    "authorCitationsData = pd.read_csv('./data-new/authors_cite_2017_asiansAsNone.txt')\n",
    "\n",
    "\n",
    "print('authorCitationsData before filtering - ',authorCitationsData.shape[0])\n",
    "authorCitationsData = authorCitationsData[authorCitationsData[\"year\"] >= 1970]\n",
    "print('authorCitationsData after filtering - ',authorCitationsData.shape[0])\n",
    "\n",
    "#id1 represents the author who cited\n",
    "#id2 is the author who has been cited by id1 in year Y\n",
    "authorCitationsData.rename(columns={'id2':'author'}, inplace=True)\n",
    "print(authorCitationsData.head())\n",
    "\n",
    "#Group by both year and author - multi index and hierarchial indexing\n",
    "authorCitationsData = authorCitationsData.groupby(['year','author']).count().reset_index()\n",
    "authorCitationsData.rename(columns={'id1':'num_cit'}, inplace=True)\n",
    "print(authorCitationsData.head())\n",
    "\n",
    "print(authorCitationsData[authorCitationsData.author == \"stefano rizzi\"])\n",
    "\n",
    "##remove wrong data\n",
    "#authorCitationsData = authorCitationsData[authorCitationsData[\"year\"] > 1900]\n",
    "#print(authorCitationsData[authorCitationsData.author==\"a min tjoa\"])"
   ]
  },
  {
   "cell_type": "markdown",
   "metadata": {},
   "source": [
    "### Merge Citations with credible authors and their gender information"
   ]
  },
  {
   "cell_type": "code",
   "execution_count": null,
   "metadata": {},
   "outputs": [],
   "source": [
    "authorCitationsData = pd.merge(authorCitationsData, authorStartEndCareerData,  \n",
    "                                          how=\"left\", left_on=\"author\", right_on=\"author\")\n",
    "\n",
    "print(\"authorCitationsData before filtering: %s\", authorCitationsData.shape[0])\n",
    "authorCitationsData = authorCitationsData.dropna(how='any')\n",
    "print(\"authorCitationsData after filtering: %s\", authorCitationsData.shape[0])\n",
    "\n"
   ]
  },
  {
   "cell_type": "code",
   "execution_count": null,
   "metadata": {},
   "outputs": [],
   "source": [
    "#print(authorCitationsData.head(n=2))\n",
    "print(authorCitationsData['author'].nunique())\n",
    "#print(authorCitationsData.shape[0])\n",
    "\n",
    "print(authorCitationsData.head())\n",
    "#print(authorCitationsData[authorCitationsData.author==\"stefano rizzi\"])\n",
    "\n",
    "\n",
    "ax = authorCitationsData.boxplot(column='num_cit', by='gender', showfliers=False)\n",
    "ax.set_ylabel(\"num citations\")\n",
    "ax.set_xlabel(\"gender\")\n",
    "plt.show()"
   ]
  },
  {
   "cell_type": "markdown",
   "metadata": {},
   "source": [
    "### There are some differences between publication and citation data which is collected by DBLP and Aminer respectively\n",
    "#### Data found for authors whose work were cited in the years which are lesser than their starting year of publishing. For our analysis these data are removed. Whereas author's work will be cited even after he/she ends their career"
   ]
  },
  {
   "cell_type": "code",
   "execution_count": null,
   "metadata": {},
   "outputs": [],
   "source": [
    "print('authorCitationsData before filtering', authorCitationsData.shape[0])\n",
    "temp =  authorCitationsData[authorCitationsData['year'] < authorCitationsData['start_year']]\n",
    "print(temp.shape[0],' rows were present')\n",
    "\n",
    "authorCitationsData = authorCitationsData[authorCitationsData['year'] >= authorCitationsData['start_year']]\n",
    "authorCitationsData = authorCitationsData.reset_index(drop = True)\n",
    "\n",
    "print('authorCitationsData after filtering', authorCitationsData.shape[0])\n",
    "print(authorCitationsData.head(10))"
   ]
  },
  {
   "cell_type": "markdown",
   "metadata": {},
   "source": [
    "### Test Data"
   ]
  },
  {
   "cell_type": "code",
   "execution_count": null,
   "metadata": {},
   "outputs": [],
   "source": [
    "groupByYearData = authorCitationsData.copy(deep=True)\n",
    "print(groupByYearData[groupByYearData['author'] == 'donatella sciuto'].head(10))\n",
    "groupByYearData = calculate.groupDataAndCalculateCumulativeValues(groupByYearData, 1, 'num_cit')\n",
    "print(groupByYearData[groupByYearData['author'] == 'donatella sciuto'].head(10))"
   ]
  },
  {
   "cell_type": "markdown",
   "metadata": {},
   "source": [
    "# Cohort Analysis on all authors for 15 years\n",
    "\n",
    "#### Select Cohorts based on Start Years"
   ]
  },
  {
   "cell_type": "code",
   "execution_count": null,
   "metadata": {},
   "outputs": [],
   "source": [
    "years = groupByYearData['year'].unique()\n",
    "years = sorted(years)\n",
    "print(years)\n",
    "\n",
    "\n",
    "cohort_start_years = [y for y in years if y < (END_YEAR - CAREER_LENGTH)]\n",
    "#cohort_start_years = [1974, 1984, 1994]"
   ]
  },
  {
   "cell_type": "markdown",
   "metadata": {},
   "source": [
    "### Cohort Analysis (Num Cit)"
   ]
  },
  {
   "cell_type": "code",
   "execution_count": null,
   "metadata": {},
   "outputs": [],
   "source": [
    "from importlib import reload\n",
    "reload(plot)\n",
    "\n",
    "#plot.plot_cohort_analysis_on(groupByYearData, 'num_cit', cohort_start_years, CAREER_LENGTH, 'Citations Count')\n",
    "\n",
    "plot.run_cohort_analysis(groupByYearData, cohort_start_years, CAREER_LENGTH, \"num_cit\", \"Number of Citations\")  \n"
   ]
  },
  {
   "cell_type": "markdown",
   "metadata": {},
   "source": [
    "### Cohort Analysis (Cum Num Cit)"
   ]
  },
  {
   "cell_type": "code",
   "execution_count": null,
   "metadata": {},
   "outputs": [],
   "source": [
    "plot.run_cohort_analysis(groupByYearData, cohort_start_years, CAREER_LENGTH, \"cum_num_cit\", \"Cumulative Number of Citations\")  \n"
   ]
  },
  {
   "cell_type": "markdown",
   "metadata": {},
   "source": [
    "### Cumulative Distributions for Selected Cohorts and Career Ages\n",
    "\n",
    "how do these distributions differ?"
   ]
  },
  {
   "cell_type": "code",
   "execution_count": null,
   "metadata": {},
   "outputs": [],
   "source": [
    "cohort_start_years = [1970, 1974, 1984, 1994, 1998]\n",
    "\n",
    "cohort_careerage_df = plot.get_cohort_careerage_df(groupByYearData, cohort_start_years, CAREER_LENGTH, 'num_cit')\n",
    "plot.plot_cumulative_dist(cohort_careerage_df, 1, 'num_cit', 'Number of Citations')\n",
    "plot.plot_cumulative_dist(cohort_careerage_df, 5, 'num_cit', 'Number of Citations')\n",
    "plot.plot_cumulative_dist(cohort_careerage_df, 10, 'num_cit', 'Number of Citations')\n",
    "plot.plot_cumulative_dist(cohort_careerage_df, 15, 'num_cit', 'Number of Citations')\n",
    "\n",
    "cohort_careerage_df = plot.get_cohort_careerage_df(groupByYearData, cohort_start_years, CAREER_LENGTH, 'cum_num_cit')\n",
    "plot.plot_cumulative_dist(cohort_careerage_df, 1, 'cum_num_cit', 'Cumulative Number of Citations')\n",
    "plot.plot_cumulative_dist(cohort_careerage_df, 5, 'cum_num_cit', 'Cumulative Number of Citations')\n",
    "plot.plot_cumulative_dist(cohort_careerage_df, 10, 'cum_num_cit', 'Cumulative Number of Citations')\n",
    "plot.plot_cumulative_dist(cohort_careerage_df, 15, 'cum_num_cit', 'Cumulative Number of Citations')"
   ]
  },
  {
   "cell_type": "markdown",
   "metadata": {},
   "source": [
    "### Why is there a sudden increase in mean citation count for cohort started in 1985?"
   ]
  },
  {
   "cell_type": "code",
   "execution_count": null,
   "metadata": {},
   "outputs": [],
   "source": [
    "_1985Authors = authorCitationsData[authorCitationsData['start_year'] == 1985] \n",
    "_1985Authors.shape"
   ]
  },
  {
   "cell_type": "code",
   "execution_count": null,
   "metadata": {},
   "outputs": [],
   "source": [
    "_1985Authors.columns"
   ]
  },
  {
   "cell_type": "code",
   "execution_count": null,
   "metadata": {},
   "outputs": [],
   "source": [
    "_1985Authors.sort(columns=['num_cit'], axis = 0, ascending=False,inplace=False)"
   ]
  },
  {
   "cell_type": "code",
   "execution_count": null,
   "metadata": {},
   "outputs": [],
   "source": [
    "_1995_year_1985Authors = _1985Authors[_1985Authors['year'] >= 1995]\n",
    "_1995_2000_year_1985Authors = _1985Authors[_1985Authors['year'] <= 2000]\n",
    "print(_1995_2000_year_1985Authors.shape)\n",
    "_1995_2000_year_1985Authors.head(10)"
   ]
  },
  {
   "cell_type": "code",
   "execution_count": null,
   "metadata": {},
   "outputs": [],
   "source": [
    "temp_group = _1995_2000_year_1985Authors.groupby(by=['year','author'])['num_cit']\n",
    "temp = temp_group.sum().reset_index().sort_values(by='num_cit',ascending=False)\n",
    "temp.head()\n",
    "\n",
    "#print(temp1['id2'].unique())"
   ]
  },
  {
   "cell_type": "code",
   "execution_count": null,
   "metadata": {},
   "outputs": [],
   "source": [
    "donatella = _1985Authors[_1985Authors['author'] == 'donatella sciuto']\n",
    "donatella"
   ]
  },
  {
   "cell_type": "code",
   "execution_count": null,
   "metadata": {},
   "outputs": [],
   "source": [
    "plt.scatter(x=donatella['year'],y=donatella['num_cit'])"
   ]
  },
  {
   "cell_type": "code",
   "execution_count": null,
   "metadata": {},
   "outputs": [],
   "source": [
    "authorCitationsData[authorCitationsData['author'] == 'donatella sciuto']"
   ]
  },
  {
   "cell_type": "markdown",
   "metadata": {},
   "source": [
    "## Research Question 1\n",
    "Is inequality increasing with increasing competition (i.e. do larger cohorts jhave higher inequality?)?\n",
    "Analyse the correlation plots. Plot signigicance of correlation between cohort size and gini for each career age.\n",
    "\n",
    "## Research Question 2\n",
    "How is the position of men and women changing as inequality increases?\n",
    "We see that the mean cumulative productivity and success are increasing for both groups is a similar way. Some cohorts are different but for most of them no big gender differences are visible.\n",
    "\n"
   ]
  },
  {
   "cell_type": "markdown",
   "metadata": {},
   "source": [
    "### Regression Analysis of mean productivity on Inequality for all authors for 15 years\n",
    "- There is no relation at all - Reg. coefficient is 0"
   ]
  },
  {
   "cell_type": "code",
   "execution_count": null,
   "metadata": {},
   "outputs": [],
   "source": [
    "#just for debugging\n",
    "#reload(plot)\n",
    "#reload(calculate)\n",
    "#data = plot.plot_regress_performance_on_inequality(groupByYearData, 'num_cit', years, 15)\n",
    "#print(data.head())"
   ]
  },
  {
   "cell_type": "code",
   "execution_count": null,
   "metadata": {},
   "outputs": [],
   "source": [
    "#just for debugging\n",
    "#reload(plot)\n",
    "#reload(calculate)\n",
    "#data = plot.plot_regress_performance_on_inequality(groupByYearData, 'cum_num_cit', years, 15)"
   ]
  },
  {
   "cell_type": "markdown",
   "metadata": {},
   "source": [
    "### Cohort Analysis, Regression analysis on authors grouped by 2 years for 15 years"
   ]
  },
  {
   "cell_type": "code",
   "execution_count": null,
   "metadata": {},
   "outputs": [],
   "source": [
    "#groupByYearData = authorCitationsData.copy(deep=True)\n",
    "#print(groupByYearData[groupByYearData['author'] == 'donatella sciuto'].head(10))\n",
    "#groupByYearData = calculate.groupDataAndCalculateCumulativeValues(groupByYearData, 2, 'num_cit')\n",
    "#print(groupByYearData[groupByYearData['author'] == 'donatella sciuto'].head(10))\n",
    "\n",
    "#years = groupByYearData['year'].unique()\n",
    "#years = sorted(years)\n",
    "#print(years)\n",
    "\n",
    "#plot.plot_cohort_analysis_on(groupByYearData, 'num_cit', years, 15, 'Citations Count')\n",
    "#plot.plot_cohort_analysis_on(groupByYearData, 'cum_num_cit', years, 15, 'Cumulative Citations Count')\n",
    "#data1 = plot.plot_regress_performance_on_inequality(groupByYearData, 'num_cit', years, 15)\n",
    "#data2 = plot.plot_regress_performance_on_inequality(groupByYearData, 'cum_num_cit', years, 15)"
   ]
  },
  {
   "cell_type": "markdown",
   "metadata": {},
   "source": [
    "### Cohort Analysis, Regression analysis on authors grouped by 3 years for 30 years"
   ]
  },
  {
   "cell_type": "code",
   "execution_count": null,
   "metadata": {},
   "outputs": [],
   "source": [
    "#groupByYearData = authorCitationsData.copy(deep=True)\n",
    "#print(groupByYearData[groupByYearData['author'] == 'donatella sciuto'].head(10))\n",
    "#groupByYearData = calculate.groupDataAndCalculateCumulativeValues(groupByYearData, 3, 'num_cit')\n",
    "#print(groupByYearData[groupByYearData['author'] == 'donatella sciuto'].head(10))\n",
    "\n",
    "#years = groupByYearData['year'].unique()\n",
    "#years = sorted(years)\n",
    "#print(years)\n",
    "\n",
    "#plot.plot_cohort_analysis_on(groupByYearData, 'num_cit', years, 15, 'Citations Count')\n",
    "#plot.plot_cohort_analysis_on(groupByYearData, 'cum_num_cit', years, 15, 'Cumulative Citations Count')\n",
    "#data1 = plot.plot_regress_performance_on_inequality(groupByYearData, 'num_cit', years, 15)\n",
    "#data2 = plot.plot_regress_performance_on_inequality(groupByYearData, 'cum_num_cit', years, 15)"
   ]
  },
  {
   "cell_type": "code",
   "execution_count": null,
   "metadata": {},
   "outputs": [],
   "source": []
  }
 ],
 "metadata": {
  "kernelspec": {
   "display_name": "Python 3",
   "language": "python",
   "name": "python3"
  },
  "language_info": {
   "codemirror_mode": {
    "name": "ipython",
    "version": 3
   },
   "file_extension": ".py",
   "mimetype": "text/x-python",
   "name": "python",
   "nbconvert_exporter": "python",
   "pygments_lexer": "ipython3",
   "version": "3.6.4"
  }
 },
 "nbformat": 4,
 "nbformat_minor": 2
}
