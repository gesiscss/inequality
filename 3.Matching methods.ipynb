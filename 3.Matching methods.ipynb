{
 "cells": [
  {
   "cell_type": "code",
   "execution_count": 66,
   "metadata": {},
   "outputs": [],
   "source": [
    "import pandas as pd\n",
    "from matplotlib import pyplot as plt\n",
    "from matplotlib import rcParams\n",
    "rcParams['figure.figsize'] = (20.0, 10.0)\n",
    "plt.style.use('ggplot')\n",
    "import numpy as np"
   ]
  },
  {
   "cell_type": "code",
   "execution_count": 3,
   "metadata": {},
   "outputs": [],
   "source": [
    "CAREER_LENGTH = 5"
   ]
  },
  {
   "cell_type": "code",
   "execution_count": 4,
   "metadata": {},
   "outputs": [],
   "source": [
    "credible_authors = pd.read_csv('data/authors-scientific-atleast-'+ str(CAREER_LENGTH) + '-year_extended.csv', encoding='utf-8')"
   ]
  },
  {
   "cell_type": "code",
   "execution_count": 22,
   "metadata": {},
   "outputs": [
    {
     "data": {
      "text/html": [
       "<div>\n",
       "<style scoped>\n",
       "    .dataframe tbody tr th:only-of-type {\n",
       "        vertical-align: middle;\n",
       "    }\n",
       "\n",
       "    .dataframe tbody tr th {\n",
       "        vertical-align: top;\n",
       "    }\n",
       "\n",
       "    .dataframe thead th {\n",
       "        text-align: right;\n",
       "    }\n",
       "</style>\n",
       "<table border=\"1\" class=\"dataframe\">\n",
       "  <thead>\n",
       "    <tr style=\"text-align: right;\">\n",
       "      <th></th>\n",
       "      <th>author</th>\n",
       "      <th>start_year</th>\n",
       "      <th>end_year</th>\n",
       "      <th>num_pub</th>\n",
       "      <th>career_length</th>\n",
       "      <th>early_career_prod</th>\n",
       "      <th>early_career_qual</th>\n",
       "      <th>early_career_rec</th>\n",
       "      <th>final_citation_count</th>\n",
       "      <th>gender</th>\n",
       "      <th>successful</th>\n",
       "    </tr>\n",
       "  </thead>\n",
       "  <tbody>\n",
       "    <tr>\n",
       "      <th>0</th>\n",
       "      <td>'maseka lesaoana</td>\n",
       "      <td>2001</td>\n",
       "      <td>2015</td>\n",
       "      <td>2</td>\n",
       "      <td>15</td>\n",
       "      <td>1</td>\n",
       "      <td>5.0</td>\n",
       "      <td>2</td>\n",
       "      <td>25.0</td>\n",
       "      <td>none</td>\n",
       "      <td>0.0</td>\n",
       "    </tr>\n",
       "    <tr>\n",
       "      <th>1</th>\n",
       "      <td>a aart blokhuis</td>\n",
       "      <td>1992</td>\n",
       "      <td>2005</td>\n",
       "      <td>2</td>\n",
       "      <td>14</td>\n",
       "      <td>1</td>\n",
       "      <td>0.0</td>\n",
       "      <td>0</td>\n",
       "      <td>0.0</td>\n",
       "      <td>none</td>\n",
       "      <td>0.0</td>\n",
       "    </tr>\n",
       "    <tr>\n",
       "      <th>2</th>\n",
       "      <td>a min tjoa</td>\n",
       "      <td>1979</td>\n",
       "      <td>2017</td>\n",
       "      <td>191</td>\n",
       "      <td>39</td>\n",
       "      <td>1</td>\n",
       "      <td>0.0</td>\n",
       "      <td>0</td>\n",
       "      <td>799.0</td>\n",
       "      <td>none</td>\n",
       "      <td>1.0</td>\n",
       "    </tr>\n",
       "    <tr>\n",
       "      <th>3</th>\n",
       "      <td>a-imam al-sammak</td>\n",
       "      <td>1992</td>\n",
       "      <td>2006</td>\n",
       "      <td>3</td>\n",
       "      <td>15</td>\n",
       "      <td>1</td>\n",
       "      <td>0.0</td>\n",
       "      <td>0</td>\n",
       "      <td>0.0</td>\n",
       "      <td>m</td>\n",
       "      <td>0.0</td>\n",
       "    </tr>\n",
       "    <tr>\n",
       "      <th>4</th>\n",
       "      <td>a-long jin</td>\n",
       "      <td>2011</td>\n",
       "      <td>2016</td>\n",
       "      <td>9</td>\n",
       "      <td>6</td>\n",
       "      <td>1</td>\n",
       "      <td>0.0</td>\n",
       "      <td>0</td>\n",
       "      <td>19.0</td>\n",
       "      <td>none</td>\n",
       "      <td>1.0</td>\n",
       "    </tr>\n",
       "  </tbody>\n",
       "</table>\n",
       "</div>"
      ],
      "text/plain": [
       "             author  start_year  end_year  num_pub  career_length  \\\n",
       "0  'maseka lesaoana        2001      2015        2             15   \n",
       "1   a aart blokhuis        1992      2005        2             14   \n",
       "2        a min tjoa        1979      2017      191             39   \n",
       "3  a-imam al-sammak        1992      2006        3             15   \n",
       "4        a-long jin        2011      2016        9              6   \n",
       "\n",
       "   early_career_prod  early_career_qual  early_career_rec  \\\n",
       "0                  1                5.0                 2   \n",
       "1                  1                0.0                 0   \n",
       "2                  1                0.0                 0   \n",
       "3                  1                0.0                 0   \n",
       "4                  1                0.0                 0   \n",
       "\n",
       "   final_citation_count gender  successful  \n",
       "0                  25.0   none         0.0  \n",
       "1                   0.0   none         0.0  \n",
       "2                 799.0   none         1.0  \n",
       "3                   0.0      m         0.0  \n",
       "4                  19.0   none         1.0  "
      ]
     },
     "execution_count": 22,
     "metadata": {},
     "output_type": "execute_result"
    }
   ],
   "source": [
    "credible_authors.head()"
   ]
  },
  {
   "cell_type": "code",
   "execution_count": 16,
   "metadata": {},
   "outputs": [],
   "source": [
    "years = credible_authors.start_year.unique()"
   ]
  },
  {
   "cell_type": "code",
   "execution_count": 21,
   "metadata": {},
   "outputs": [],
   "source": [
    "for year in years:\n",
    "    temp = credible_authors[credible_authors.start_year == year]\n",
    "    medi = temp.final_citation_count.median()\n",
    "    credible_authors.loc[credible_authors.start_year == year, 'successful'] = credible_authors.loc[\n",
    "        credible_authors.start_year == year, 'final_citation_count'].apply(lambda x: 1 if x >= medi else 0)"
   ]
  },
  {
   "cell_type": "code",
   "execution_count": 73,
   "metadata": {},
   "outputs": [],
   "source": [
    "test_start_year = 1998"
   ]
  },
  {
   "cell_type": "code",
   "execution_count": 74,
   "metadata": {},
   "outputs": [],
   "source": [
    "credible_test = credible_authors[credible_authors.start_year == test_start_year]"
   ]
  },
  {
   "cell_type": "code",
   "execution_count": 75,
   "metadata": {},
   "outputs": [
    {
     "data": {
      "text/html": [
       "<div>\n",
       "<style scoped>\n",
       "    .dataframe tbody tr th:only-of-type {\n",
       "        vertical-align: middle;\n",
       "    }\n",
       "\n",
       "    .dataframe tbody tr th {\n",
       "        vertical-align: top;\n",
       "    }\n",
       "\n",
       "    .dataframe thead th {\n",
       "        text-align: right;\n",
       "    }\n",
       "</style>\n",
       "<table border=\"1\" class=\"dataframe\">\n",
       "  <thead>\n",
       "    <tr style=\"text-align: right;\">\n",
       "      <th></th>\n",
       "      <th>author</th>\n",
       "      <th>start_year</th>\n",
       "      <th>end_year</th>\n",
       "      <th>num_pub</th>\n",
       "      <th>career_length</th>\n",
       "      <th>early_career_prod</th>\n",
       "      <th>early_career_qual</th>\n",
       "      <th>early_career_rec</th>\n",
       "      <th>final_citation_count</th>\n",
       "      <th>gender</th>\n",
       "      <th>successful</th>\n",
       "    </tr>\n",
       "  </thead>\n",
       "  <tbody>\n",
       "    <tr>\n",
       "      <th>6</th>\n",
       "      <td>a-xing zhu</td>\n",
       "      <td>1998</td>\n",
       "      <td>2017</td>\n",
       "      <td>22</td>\n",
       "      <td>20</td>\n",
       "      <td>1</td>\n",
       "      <td>0.0</td>\n",
       "      <td>0</td>\n",
       "      <td>89.0</td>\n",
       "      <td>none</td>\n",
       "      <td>1.0</td>\n",
       "    </tr>\n",
       "    <tr>\n",
       "      <th>71</th>\n",
       "      <td>a. aguado</td>\n",
       "      <td>1998</td>\n",
       "      <td>2002</td>\n",
       "      <td>2</td>\n",
       "      <td>5</td>\n",
       "      <td>1</td>\n",
       "      <td>3.0</td>\n",
       "      <td>2</td>\n",
       "      <td>15.0</td>\n",
       "      <td>m</td>\n",
       "      <td>0.0</td>\n",
       "    </tr>\n",
       "    <tr>\n",
       "      <th>88</th>\n",
       "      <td>a. amin</td>\n",
       "      <td>1998</td>\n",
       "      <td>2009</td>\n",
       "      <td>4</td>\n",
       "      <td>12</td>\n",
       "      <td>3</td>\n",
       "      <td>2.0</td>\n",
       "      <td>0</td>\n",
       "      <td>9.0</td>\n",
       "      <td>none</td>\n",
       "      <td>0.0</td>\n",
       "    </tr>\n",
       "    <tr>\n",
       "      <th>167</th>\n",
       "      <td>a. bartels</td>\n",
       "      <td>1998</td>\n",
       "      <td>2014</td>\n",
       "      <td>2</td>\n",
       "      <td>17</td>\n",
       "      <td>1</td>\n",
       "      <td>0.0</td>\n",
       "      <td>0</td>\n",
       "      <td>0.0</td>\n",
       "      <td>m</td>\n",
       "      <td>0.0</td>\n",
       "    </tr>\n",
       "    <tr>\n",
       "      <th>254</th>\n",
       "      <td>a. c. verschueren</td>\n",
       "      <td>1998</td>\n",
       "      <td>2002</td>\n",
       "      <td>2</td>\n",
       "      <td>5</td>\n",
       "      <td>1</td>\n",
       "      <td>0.0</td>\n",
       "      <td>0</td>\n",
       "      <td>1.0</td>\n",
       "      <td>m</td>\n",
       "      <td>0.0</td>\n",
       "    </tr>\n",
       "  </tbody>\n",
       "</table>\n",
       "</div>"
      ],
      "text/plain": [
       "                author  start_year  end_year  num_pub  career_length  \\\n",
       "6           a-xing zhu        1998      2017       22             20   \n",
       "71           a. aguado        1998      2002        2              5   \n",
       "88             a. amin        1998      2009        4             12   \n",
       "167         a. bartels        1998      2014        2             17   \n",
       "254  a. c. verschueren        1998      2002        2              5   \n",
       "\n",
       "     early_career_prod  early_career_qual  early_career_rec  \\\n",
       "6                    1                0.0                 0   \n",
       "71                   1                3.0                 2   \n",
       "88                   3                2.0                 0   \n",
       "167                  1                0.0                 0   \n",
       "254                  1                0.0                 0   \n",
       "\n",
       "     final_citation_count gender  successful  \n",
       "6                    89.0   none         1.0  \n",
       "71                   15.0      m         0.0  \n",
       "88                    9.0   none         0.0  \n",
       "167                   0.0      m         0.0  \n",
       "254                   1.0      m         0.0  "
      ]
     },
     "execution_count": 75,
     "metadata": {},
     "output_type": "execute_result"
    }
   ],
   "source": [
    "credible_test.head()"
   ]
  },
  {
   "cell_type": "code",
   "execution_count": 76,
   "metadata": {},
   "outputs": [],
   "source": [
    "colors = credible_test.successful.apply(lambda x: 'black' if x==1 else 'white')"
   ]
  },
  {
   "cell_type": "code",
   "execution_count": 82,
   "metadata": {},
   "outputs": [
    {
     "data": {
      "image/png": "[encoded data removed]",
      "text/plain": [
       "<matplotlib.figure.Figure at 0x7f2ffe4f8278>"
      ]
     },
     "metadata": {},
     "output_type": "display_data"
    }
   ],
   "source": [
    "plt.scatter(credible_test[credible_test.successful == 1].early_career_qual - 0.2, \n",
    "            credible_test[credible_test.successful == 1].early_career_prod, label='succ', alpha=0.3) #, color=colors)\n",
    "plt.scatter(credible_test[credible_test.successful == 0].early_career_qual + 0.2, \n",
    "            credible_test[credible_test.successful == 0].early_career_prod, label='unsucc', alpha=0.3) #, color=colors)\n",
    "plt.xlabel('Early quality')\n",
    "plt.ylabel('Early productivity')\n",
    "plt.ylim((-1,17.5))\n",
    "plt.xlim((-1,60))\n",
    "plt.legend()\n",
    "plt.show()"
   ]
  },
  {
   "cell_type": "code",
   "execution_count": null,
   "metadata": {},
   "outputs": [],
   "source": [
    "## Correlation testing"
   ]
  },
  {
   "cell_type": "code",
   "execution_count": 78,
   "metadata": {},
   "outputs": [
    {
     "data": {
      "text/plain": [
       "array([[1.        , 0.51130241],\n",
       "       [0.51130241, 1.        ]])"
      ]
     },
     "execution_count": 78,
     "metadata": {},
     "output_type": "execute_result"
    }
   ],
   "source": [
    "np.corrcoef(credible_test.early_career_qual, credible_test.final_citation_count)"
   ]
  },
  {
   "cell_type": "code",
   "execution_count": 79,
   "metadata": {},
   "outputs": [
    {
     "data": {
      "text/plain": [
       "(0.5113024109958744, 0.0)"
      ]
     },
     "execution_count": 79,
     "metadata": {},
     "output_type": "execute_result"
    }
   ],
   "source": [
    "from scipy.stats.stats import pearsonr   \n",
    "pearsonr(credible_test.early_career_qual, credible_test.final_citation_count)"
   ]
  },
  {
   "cell_type": "code",
   "execution_count": 80,
   "metadata": {},
   "outputs": [
    {
     "data": {
      "text/plain": [
       "array([[1.        , 0.25772612],\n",
       "       [0.25772612, 1.        ]])"
      ]
     },
     "execution_count": 80,
     "metadata": {},
     "output_type": "execute_result"
    }
   ],
   "source": [
    "np.corrcoef(credible_authors.early_career_qual, credible_authors.final_citation_count)"
   ]
  },
  {
   "cell_type": "code",
   "execution_count": 81,
   "metadata": {},
   "outputs": [
    {
     "data": {
      "text/plain": [
       "(0.25772611507575777, 0.0)"
      ]
     },
     "execution_count": 81,
     "metadata": {},
     "output_type": "execute_result"
    }
   ],
   "source": [
    "from scipy.stats.stats import pearsonr   \n",
    "pearsonr(credible_authors.early_career_qual, credible_authors.final_citation_count)"
   ]
  },
  {
   "cell_type": "code",
   "execution_count": 116,
   "metadata": {},
   "outputs": [],
   "source": [
    "citations_year_auth = pd.read_csv('./data/authors-perYear-citations-atleast-5-year.csv')"
   ]
  },
  {
   "cell_type": "code",
   "execution_count": 117,
   "metadata": {},
   "outputs": [],
   "source": [
    "all_cited_authors = citations_year_auth.author.unique()"
   ]
  },
  {
   "cell_type": "code",
   "execution_count": 118,
   "metadata": {},
   "outputs": [],
   "source": [
    "citations_year_auth = citations_year_auth.sort_values(by=['author', 'year_cit'])"
   ]
  },
  {
   "cell_type": "code",
   "execution_count": 119,
   "metadata": {},
   "outputs": [],
   "source": [
    "# for cited_author in all_cited_authors:\n",
    "#     citations_year_auth.loc[citations_year_auth.author == cited_author, 'cum_cit_count'] = citations_year_auth.loc[\n",
    "#         citations_year_auth.author == cited_author,'cit_count'].cumsum()"
   ]
  },
  {
   "cell_type": "code",
   "execution_count": 120,
   "metadata": {},
   "outputs": [],
   "source": [
    "citations_year_auth['cum_cit_count'] = citations_year_auth.groupby('author')['cit_count'].transform(pd.Series.cumsum)"
   ]
  },
  {
   "cell_type": "code",
   "execution_count": 121,
   "metadata": {},
   "outputs": [
    {
     "data": {
      "text/html": [
       "<div>\n",
       "<style scoped>\n",
       "    .dataframe tbody tr th:only-of-type {\n",
       "        vertical-align: middle;\n",
       "    }\n",
       "\n",
       "    .dataframe tbody tr th {\n",
       "        vertical-align: top;\n",
       "    }\n",
       "\n",
       "    .dataframe thead th {\n",
       "        text-align: right;\n",
       "    }\n",
       "</style>\n",
       "<table border=\"1\" class=\"dataframe\">\n",
       "  <thead>\n",
       "    <tr style=\"text-align: right;\">\n",
       "      <th></th>\n",
       "      <th>author</th>\n",
       "      <th>year_cit</th>\n",
       "      <th>cit_count</th>\n",
       "      <th>cum_cit_count</th>\n",
       "    </tr>\n",
       "  </thead>\n",
       "  <tbody>\n",
       "    <tr>\n",
       "      <th>0</th>\n",
       "      <td>'maseka lesaoana</td>\n",
       "      <td>2002</td>\n",
       "      <td>1</td>\n",
       "      <td>1</td>\n",
       "    </tr>\n",
       "    <tr>\n",
       "      <th>1</th>\n",
       "      <td>'maseka lesaoana</td>\n",
       "      <td>2003</td>\n",
       "      <td>1</td>\n",
       "      <td>2</td>\n",
       "    </tr>\n",
       "    <tr>\n",
       "      <th>2</th>\n",
       "      <td>'maseka lesaoana</td>\n",
       "      <td>2004</td>\n",
       "      <td>1</td>\n",
       "      <td>3</td>\n",
       "    </tr>\n",
       "    <tr>\n",
       "      <th>3</th>\n",
       "      <td>'maseka lesaoana</td>\n",
       "      <td>2005</td>\n",
       "      <td>2</td>\n",
       "      <td>5</td>\n",
       "    </tr>\n",
       "    <tr>\n",
       "      <th>4</th>\n",
       "      <td>'maseka lesaoana</td>\n",
       "      <td>2006</td>\n",
       "      <td>4</td>\n",
       "      <td>9</td>\n",
       "    </tr>\n",
       "  </tbody>\n",
       "</table>\n",
       "</div>"
      ],
      "text/plain": [
       "             author  year_cit  cit_count  cum_cit_count\n",
       "0  'maseka lesaoana      2002          1              1\n",
       "1  'maseka lesaoana      2003          1              2\n",
       "2  'maseka lesaoana      2004          1              3\n",
       "3  'maseka lesaoana      2005          2              5\n",
       "4  'maseka lesaoana      2006          4              9"
      ]
     },
     "execution_count": 121,
     "metadata": {},
     "output_type": "execute_result"
    }
   ],
   "source": [
    "citations_year_auth.head()"
   ]
  },
  {
   "cell_type": "code",
   "execution_count": 122,
   "metadata": {},
   "outputs": [],
   "source": [
    "final_citation_count = credible_authors.set_index('author')['final_citation_count']"
   ]
  },
  {
   "cell_type": "code",
   "execution_count": 123,
   "metadata": {},
   "outputs": [
    {
     "data": {
      "text/plain": [
       "author\n",
       "'maseka lesaoana     25.0\n",
       "a aart blokhuis       0.0\n",
       "a min tjoa          799.0\n",
       "a-imam al-sammak      0.0\n",
       "a-long jin           19.0\n",
       "Name: final_citation_count, dtype: float64"
      ]
     },
     "execution_count": 123,
     "metadata": {},
     "output_type": "execute_result"
    }
   ],
   "source": [
    "final_citation_count.head()"
   ]
  },
  {
   "cell_type": "code",
   "execution_count": 124,
   "metadata": {},
   "outputs": [
    {
     "data": {
      "text/plain": [
       "799.0"
      ]
     },
     "execution_count": 124,
     "metadata": {},
     "output_type": "execute_result"
    }
   ],
   "source": [
    "final_citation_count['a min tjoa']"
   ]
  },
  {
   "cell_type": "code",
   "execution_count": 133,
   "metadata": {},
   "outputs": [
    {
     "data": {
      "text/html": [
       "<div>\n",
       "<style scoped>\n",
       "    .dataframe tbody tr th:only-of-type {\n",
       "        vertical-align: middle;\n",
       "    }\n",
       "\n",
       "    .dataframe tbody tr th {\n",
       "        vertical-align: top;\n",
       "    }\n",
       "\n",
       "    .dataframe thead th {\n",
       "        text-align: right;\n",
       "    }\n",
       "</style>\n",
       "<table border=\"1\" class=\"dataframe\">\n",
       "  <thead>\n",
       "    <tr style=\"text-align: right;\">\n",
       "      <th></th>\n",
       "      <th>author</th>\n",
       "      <th>year_cit</th>\n",
       "      <th>cit_count</th>\n",
       "      <th>cum_cit_count</th>\n",
       "      <th>cum_cit_percent</th>\n",
       "    </tr>\n",
       "  </thead>\n",
       "  <tbody>\n",
       "    <tr>\n",
       "      <th>4493589</th>\n",
       "      <td>ünal ufuktepe</td>\n",
       "      <td>2005</td>\n",
       "      <td>1</td>\n",
       "      <td>1</td>\n",
       "      <td>33.333333</td>\n",
       "    </tr>\n",
       "    <tr>\n",
       "      <th>4493590</th>\n",
       "      <td>ünal ufuktepe</td>\n",
       "      <td>2006</td>\n",
       "      <td>1</td>\n",
       "      <td>2</td>\n",
       "      <td>66.666667</td>\n",
       "    </tr>\n",
       "    <tr>\n",
       "      <th>4493591</th>\n",
       "      <td>ünal ufuktepe</td>\n",
       "      <td>2011</td>\n",
       "      <td>1</td>\n",
       "      <td>3</td>\n",
       "      <td>100.000000</td>\n",
       "    </tr>\n",
       "  </tbody>\n",
       "</table>\n",
       "</div>"
      ],
      "text/plain": [
       "                author  year_cit  cit_count  cum_cit_count  cum_cit_percent\n",
       "4493589  ünal ufuktepe      2005          1              1        33.333333\n",
       "4493590  ünal ufuktepe      2006          1              2        66.666667\n",
       "4493591  ünal ufuktepe      2011          1              3       100.000000"
      ]
     },
     "execution_count": 133,
     "metadata": {},
     "output_type": "execute_result"
    }
   ],
   "source": [
    "citations_year_auth[citations_year_auth.author == 'ünal ufuktepe']"
   ]
  },
  {
   "cell_type": "code",
   "execution_count": 132,
   "metadata": {},
   "outputs": [
    {
     "data": {
      "text/html": [
       "<div>\n",
       "<style scoped>\n",
       "    .dataframe tbody tr th:only-of-type {\n",
       "        vertical-align: middle;\n",
       "    }\n",
       "\n",
       "    .dataframe tbody tr th {\n",
       "        vertical-align: top;\n",
       "    }\n",
       "\n",
       "    .dataframe thead th {\n",
       "        text-align: right;\n",
       "    }\n",
       "</style>\n",
       "<table border=\"1\" class=\"dataframe\">\n",
       "  <thead>\n",
       "    <tr style=\"text-align: right;\">\n",
       "      <th></th>\n",
       "      <th>author</th>\n",
       "      <th>start_year</th>\n",
       "      <th>end_year</th>\n",
       "      <th>num_pub</th>\n",
       "      <th>career_length</th>\n",
       "      <th>early_career_prod</th>\n",
       "      <th>early_career_qual</th>\n",
       "      <th>early_career_rec</th>\n",
       "      <th>final_citation_count</th>\n",
       "      <th>gender</th>\n",
       "      <th>successful</th>\n",
       "    </tr>\n",
       "  </thead>\n",
       "  <tbody>\n",
       "    <tr>\n",
       "      <th>503856</th>\n",
       "      <td>ünal ufuktepe</td>\n",
       "      <td>2003</td>\n",
       "      <td>2016</td>\n",
       "      <td>12</td>\n",
       "      <td>14</td>\n",
       "      <td>3</td>\n",
       "      <td>2.0</td>\n",
       "      <td>1</td>\n",
       "      <td>3.0</td>\n",
       "      <td>none</td>\n",
       "      <td>0.0</td>\n",
       "    </tr>\n",
       "  </tbody>\n",
       "</table>\n",
       "</div>"
      ],
      "text/plain": [
       "               author  start_year  end_year  num_pub  career_length  \\\n",
       "503856  ünal ufuktepe        2003      2016       12             14   \n",
       "\n",
       "        early_career_prod  early_career_qual  early_career_rec  \\\n",
       "503856                  3                2.0                 1   \n",
       "\n",
       "        final_citation_count gender  successful  \n",
       "503856                   3.0   none         0.0  "
      ]
     },
     "execution_count": 132,
     "metadata": {},
     "output_type": "execute_result"
    }
   ],
   "source": [
    "credible_authors[credible_authors.author == 'ünal ufuktepe']"
   ]
  },
  {
   "cell_type": "code",
   "execution_count": 127,
   "metadata": {},
   "outputs": [],
   "source": [
    "citations_year_auth['cum_cit_percent'] = citations_year_auth.apply(\n",
    "    lambda row: row.cum_cit_count*100.0/final_citation_count[row.author], axis=1)"
   ]
  },
  {
   "cell_type": "code",
   "execution_count": 134,
   "metadata": {},
   "outputs": [],
   "source": [
    "citation_percentage_list = citations_year_auth.groupby('author')['cum_cit_percent'].apply(list)"
   ]
  },
  {
   "cell_type": "code",
   "execution_count": 140,
   "metadata": {},
   "outputs": [],
   "source": [
    "credible_authors = credible_authors.set_index('author')\n",
    "credible_authors['citation_percentage_list'] = citation_percentage_list"
   ]
  },
  {
   "cell_type": "code",
   "execution_count": 141,
   "metadata": {},
   "outputs": [
    {
     "data": {
      "text/html": [
       "<div>\n",
       "<style scoped>\n",
       "    .dataframe tbody tr th:only-of-type {\n",
       "        vertical-align: middle;\n",
       "    }\n",
       "\n",
       "    .dataframe tbody tr th {\n",
       "        vertical-align: top;\n",
       "    }\n",
       "\n",
       "    .dataframe thead th {\n",
       "        text-align: right;\n",
       "    }\n",
       "</style>\n",
       "<table border=\"1\" class=\"dataframe\">\n",
       "  <thead>\n",
       "    <tr style=\"text-align: right;\">\n",
       "      <th></th>\n",
       "      <th>start_year</th>\n",
       "      <th>end_year</th>\n",
       "      <th>num_pub</th>\n",
       "      <th>career_length</th>\n",
       "      <th>early_career_prod</th>\n",
       "      <th>early_career_qual</th>\n",
       "      <th>early_career_rec</th>\n",
       "      <th>final_citation_count</th>\n",
       "      <th>gender</th>\n",
       "      <th>successful</th>\n",
       "      <th>citation_percentage_list</th>\n",
       "    </tr>\n",
       "    <tr>\n",
       "      <th>author</th>\n",
       "      <th></th>\n",
       "      <th></th>\n",
       "      <th></th>\n",
       "      <th></th>\n",
       "      <th></th>\n",
       "      <th></th>\n",
       "      <th></th>\n",
       "      <th></th>\n",
       "      <th></th>\n",
       "      <th></th>\n",
       "      <th></th>\n",
       "    </tr>\n",
       "  </thead>\n",
       "  <tbody>\n",
       "    <tr>\n",
       "      <th>'maseka lesaoana</th>\n",
       "      <td>2001</td>\n",
       "      <td>2015</td>\n",
       "      <td>2</td>\n",
       "      <td>15</td>\n",
       "      <td>1</td>\n",
       "      <td>5.0</td>\n",
       "      <td>2</td>\n",
       "      <td>25.0</td>\n",
       "      <td>none</td>\n",
       "      <td>0.0</td>\n",
       "      <td>[4.0, 8.0, 12.0, 20.0, 36.0, 40.0, 52.0, 56.0,...</td>\n",
       "    </tr>\n",
       "    <tr>\n",
       "      <th>a aart blokhuis</th>\n",
       "      <td>1992</td>\n",
       "      <td>2005</td>\n",
       "      <td>2</td>\n",
       "      <td>14</td>\n",
       "      <td>1</td>\n",
       "      <td>0.0</td>\n",
       "      <td>0</td>\n",
       "      <td>0.0</td>\n",
       "      <td>none</td>\n",
       "      <td>0.0</td>\n",
       "      <td>NaN</td>\n",
       "    </tr>\n",
       "    <tr>\n",
       "      <th>a min tjoa</th>\n",
       "      <td>1979</td>\n",
       "      <td>2017</td>\n",
       "      <td>191</td>\n",
       "      <td>39</td>\n",
       "      <td>1</td>\n",
       "      <td>0.0</td>\n",
       "      <td>0</td>\n",
       "      <td>799.0</td>\n",
       "      <td>none</td>\n",
       "      <td>1.0</td>\n",
       "      <td>[0.2503128911138924, 0.37546933667083854, 0.87...</td>\n",
       "    </tr>\n",
       "    <tr>\n",
       "      <th>a-imam al-sammak</th>\n",
       "      <td>1992</td>\n",
       "      <td>2006</td>\n",
       "      <td>3</td>\n",
       "      <td>15</td>\n",
       "      <td>1</td>\n",
       "      <td>0.0</td>\n",
       "      <td>0</td>\n",
       "      <td>0.0</td>\n",
       "      <td>m</td>\n",
       "      <td>0.0</td>\n",
       "      <td>NaN</td>\n",
       "    </tr>\n",
       "    <tr>\n",
       "      <th>a-long jin</th>\n",
       "      <td>2011</td>\n",
       "      <td>2016</td>\n",
       "      <td>9</td>\n",
       "      <td>6</td>\n",
       "      <td>1</td>\n",
       "      <td>0.0</td>\n",
       "      <td>0</td>\n",
       "      <td>19.0</td>\n",
       "      <td>none</td>\n",
       "      <td>1.0</td>\n",
       "      <td>[15.789473684210526, 73.6842105263158, 100.0]</td>\n",
       "    </tr>\n",
       "  </tbody>\n",
       "</table>\n",
       "</div>"
      ],
      "text/plain": [
       "                  start_year  end_year  num_pub  career_length  \\\n",
       "author                                                           \n",
       "'maseka lesaoana        2001      2015        2             15   \n",
       "a aart blokhuis         1992      2005        2             14   \n",
       "a min tjoa              1979      2017      191             39   \n",
       "a-imam al-sammak        1992      2006        3             15   \n",
       "a-long jin              2011      2016        9              6   \n",
       "\n",
       "                  early_career_prod  early_career_qual  early_career_rec  \\\n",
       "author                                                                     \n",
       "'maseka lesaoana                  1                5.0                 2   \n",
       "a aart blokhuis                   1                0.0                 0   \n",
       "a min tjoa                        1                0.0                 0   \n",
       "a-imam al-sammak                  1                0.0                 0   \n",
       "a-long jin                        1                0.0                 0   \n",
       "\n",
       "                  final_citation_count gender  successful  \\\n",
       "author                                                      \n",
       "'maseka lesaoana                  25.0   none         0.0   \n",
       "a aart blokhuis                    0.0   none         0.0   \n",
       "a min tjoa                       799.0   none         1.0   \n",
       "a-imam al-sammak                   0.0      m         0.0   \n",
       "a-long jin                        19.0   none         1.0   \n",
       "\n",
       "                                           citation_percentage_list  \n",
       "author                                                               \n",
       "'maseka lesaoana  [4.0, 8.0, 12.0, 20.0, 36.0, 40.0, 52.0, 56.0,...  \n",
       "a aart blokhuis                                                 NaN  \n",
       "a min tjoa        [0.2503128911138924, 0.37546933667083854, 0.87...  \n",
       "a-imam al-sammak                                                NaN  \n",
       "a-long jin            [15.789473684210526, 73.6842105263158, 100.0]  "
      ]
     },
     "execution_count": 141,
     "metadata": {},
     "output_type": "execute_result"
    }
   ],
   "source": [
    "credible_authors.head()"
   ]
  }
 ],
 "metadata": {
  "kernelspec": {
   "display_name": "Python 3",
   "language": "python",
   "name": "python3"
  },
  "language_info": {
   "codemirror_mode": {
    "name": "ipython",
    "version": 3
   },
   "file_extension": ".py",
   "mimetype": "text/x-python",
   "name": "python",
   "nbconvert_exporter": "python",
   "pygments_lexer": "ipython3",
   "version": "3.6.4"
  }
 },
 "nbformat": 4,
 "nbformat_minor": 2
}
