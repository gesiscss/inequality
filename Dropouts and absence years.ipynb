{
 "cells": [
  {
   "cell_type": "code",
   "execution_count": 1,
   "metadata": {},
   "outputs": [],
   "source": [
    "import pandas as pd\n",
    "import numpy as np"
   ]
  },
  {
   "cell_type": "code",
   "execution_count": 2,
   "metadata": {},
   "outputs": [
    {
     "data": {
      "text/html": [
       "<div>\n",
       "<style scoped>\n",
       "    .dataframe tbody tr th:only-of-type {\n",
       "        vertical-align: middle;\n",
       "    }\n",
       "\n",
       "    .dataframe tbody tr th {\n",
       "        vertical-align: top;\n",
       "    }\n",
       "\n",
       "    .dataframe thead th {\n",
       "        text-align: right;\n",
       "    }\n",
       "</style>\n",
       "<table border=\"1\" class=\"dataframe\">\n",
       "  <thead>\n",
       "    <tr style=\"text-align: right;\">\n",
       "      <th></th>\n",
       "      <th>author</th>\n",
       "      <th>start_year</th>\n",
       "      <th>end_year</th>\n",
       "      <th>num_pub</th>\n",
       "      <th>career_length</th>\n",
       "      <th>max_absence</th>\n",
       "      <th>avg_absence</th>\n",
       "      <th>dropped_after_10</th>\n",
       "      <th>gender</th>\n",
       "    </tr>\n",
       "  </thead>\n",
       "  <tbody>\n",
       "    <tr>\n",
       "      <th>0</th>\n",
       "      <td>'maseka lesaoana</td>\n",
       "      <td>2001</td>\n",
       "      <td>2015</td>\n",
       "      <td>2</td>\n",
       "      <td>15</td>\n",
       "      <td>14</td>\n",
       "      <td>14.0</td>\n",
       "      <td>True</td>\n",
       "      <td>none</td>\n",
       "    </tr>\n",
       "    <tr>\n",
       "      <th>1</th>\n",
       "      <td>(max) zong-ming cheng</td>\n",
       "      <td>2009</td>\n",
       "      <td>2011</td>\n",
       "      <td>2</td>\n",
       "      <td>3</td>\n",
       "      <td>2</td>\n",
       "      <td>2.0</td>\n",
       "      <td>False</td>\n",
       "      <td>none</td>\n",
       "    </tr>\n",
       "    <tr>\n",
       "      <th>2</th>\n",
       "      <td>(zhou) bryan bai</td>\n",
       "      <td>2011</td>\n",
       "      <td>2012</td>\n",
       "      <td>2</td>\n",
       "      <td>2</td>\n",
       "      <td>1</td>\n",
       "      <td>1.0</td>\n",
       "      <td>False</td>\n",
       "      <td>none</td>\n",
       "    </tr>\n",
       "    <tr>\n",
       "      <th>3</th>\n",
       "      <td>a aart blokhuis</td>\n",
       "      <td>1992</td>\n",
       "      <td>2005</td>\n",
       "      <td>2</td>\n",
       "      <td>14</td>\n",
       "      <td>13</td>\n",
       "      <td>13.0</td>\n",
       "      <td>True</td>\n",
       "      <td>none</td>\n",
       "    </tr>\n",
       "    <tr>\n",
       "      <th>4</th>\n",
       "      <td>a ahrabian</td>\n",
       "      <td>2017</td>\n",
       "      <td>2017</td>\n",
       "      <td>1</td>\n",
       "      <td>1</td>\n",
       "      <td>15</td>\n",
       "      <td>15.0</td>\n",
       "      <td>True</td>\n",
       "      <td>none</td>\n",
       "    </tr>\n",
       "  </tbody>\n",
       "</table>\n",
       "</div>"
      ],
      "text/plain": [
       "                  author  start_year  end_year  num_pub  career_length  \\\n",
       "0       'maseka lesaoana        2001      2015        2             15   \n",
       "1  (max) zong-ming cheng        2009      2011        2              3   \n",
       "2       (zhou) bryan bai        2011      2012        2              2   \n",
       "3        a aart blokhuis        1992      2005        2             14   \n",
       "4             a ahrabian        2017      2017        1              1   \n",
       "\n",
       "   max_absence  avg_absence  dropped_after_10 gender  \n",
       "0           14         14.0              True   none  \n",
       "1            2          2.0             False   none  \n",
       "2            1          1.0             False   none  \n",
       "3           13         13.0              True   none  \n",
       "4           15         15.0              True   none  "
      ]
     },
     "execution_count": 2,
     "metadata": {},
     "output_type": "execute_result"
    }
   ],
   "source": [
    "authorStartEndCareerData = pd.read_csv('./derived-data/authors-scientific-atleast-1-year.csv')\n",
    "authorStartEndCareerData.head()"
   ]
  },
  {
   "cell_type": "code",
   "execution_count": 3,
   "metadata": {},
   "outputs": [],
   "source": [
    "male = authorStartEndCareerData[authorStartEndCareerData.gender == 'm'].max_absence"
   ]
  },
  {
   "cell_type": "code",
   "execution_count": 4,
   "metadata": {},
   "outputs": [],
   "source": [
    "female = authorStartEndCareerData[authorStartEndCareerData.gender == 'f'].max_absence"
   ]
  },
  {
   "cell_type": "code",
   "execution_count": 5,
   "metadata": {},
   "outputs": [
    {
     "name": "stdout",
     "output_type": "stream",
     "text": [
      "(793766,)\n",
      "(255500,)\n"
     ]
    }
   ],
   "source": [
    "print(male.shape)\n",
    "print(female.shape)"
   ]
  },
  {
   "cell_type": "code",
   "execution_count": 34,
   "metadata": {},
   "outputs": [],
   "source": [
    "def cliffsD(ser1, ser2):\n",
    "    # only small integer values!\n",
    "    np_1 = np.array(ser1, dtype=np.int8)\n",
    "    np_2 = np.array(ser2, dtype=np.int8)\n",
    "    return np.mean(np.sign(np_1[:, None] - np_2).mean(axis=1))"
   ]
  },
  {
   "cell_type": "code",
   "execution_count": 33,
   "metadata": {},
   "outputs": [
    {
     "data": {
      "text/plain": [
       "-0.056557295548457606"
      ]
     },
     "execution_count": 33,
     "metadata": {},
     "output_type": "execute_result"
    }
   ],
   "source": [
    "cliffsD(male, female)"
   ]
  },
  {
   "cell_type": "code",
   "execution_count": 42,
   "metadata": {},
   "outputs": [
    {
     "name": "stdout",
     "output_type": "stream",
     "text": [
      "[1970, -0.055906593406593395]\n",
      "[1971, -0.12250147200099165]\n",
      "[1972, -0.17175039872408296]\n",
      "[1973, -0.09160603371783499]\n",
      "[1974, -0.09178075768942236]\n",
      "[1975, -0.022977907943739374]\n",
      "[1976, -0.10030942050919853]\n",
      "[1977, -0.10183522840614401]\n",
      "[1978, -0.11288298511447835]\n",
      "[1979, -0.06294289991517948]\n",
      "[1980, -0.08057193084487681]\n",
      "[1981, -0.04743070596729132]\n",
      "[1982, 0.01350841242450389]\n",
      "[1983, 0.017291180985955557]\n",
      "[1984, -0.021440769373142914]\n",
      "[1985, -0.06866107564567947]\n",
      "[1986, -0.026981162835504557]\n",
      "[1987, -0.05439088618496892]\n",
      "[1988, -0.06949623002651101]\n",
      "[1989, -0.03678340441721231]\n",
      "[1990, -0.04349581779317887]\n",
      "[1991, -0.025480887457427957]\n",
      "[1992, -0.05244904069699175]\n",
      "[1993, -0.039370772320119124]\n",
      "[1994, -0.04496832176111701]\n",
      "[1995, -0.01822680740742673]\n",
      "[1996, -0.03588653203216771]\n",
      "[1997, -0.012576532144424031]\n",
      "[1998, -0.05700541914604912]\n",
      "[1999, -0.040803809760902726]\n",
      "[2000, -0.065148175199438]\n",
      "[2001, -0.05415734915919577]\n",
      "[2002, -0.04713578280409179]\n",
      "[2003, -0.05078066345107705]\n",
      "[2004, -0.05161966157336867]\n",
      "[2005, -0.03698329951070586]\n",
      "[2006, -0.04383071628546533]\n",
      "[2007, -0.04982596093605694]\n",
      "[2008, -0.05225123145346809]\n",
      "[2009, -0.063156443722309]\n",
      "[2010, -0.06216742732428121]\n",
      "[2011, -0.053193033468830746]\n",
      "[2012, -0.05158897832952007]\n",
      "[2013, -0.04998645508711329]\n",
      "[2014, -0.04275311363443515]\n",
      "[2015, -0.04337923711039553]\n",
      "[2016, -0.024118412787229704]\n",
      "[2017, -0.010506991545060946]\n",
      "[2018, nan]\n"
     ]
    },
    {
     "name": "stderr",
     "output_type": "stream",
     "text": [
      "/home/danielkostic/anaconda3/lib/python3.6/site-packages/ipykernel_launcher.py:5: RuntimeWarning: Mean of empty slice.\n",
      "  \"\"\"\n",
      "/home/danielkostic/anaconda3/lib/python3.6/site-packages/numpy/core/_methods.py:73: RuntimeWarning: invalid value encountered in true_divide\n",
      "  ret, rcount, out=ret, casting='unsafe', subok=False)\n"
     ]
    }
   ],
   "source": [
    "cliffsD_cohorts = pd.DataFrame(columns=['start_year', 'cliffsD'])\n",
    "for start_year in sorted(authorStartEndCareerData.start_year.unique()):\n",
    "    data = authorStartEndCareerData[authorStartEndCareerData.start_year == start_year]\n",
    "    cliffsd = cliffsD(data[data.gender == 'm'].max_absence, data[data.gender == 'f'].max_absence)\n",
    "    print([start_year, cliffsd])"
   ]
  },
  {
   "cell_type": "code",
   "execution_count": 40,
   "metadata": {},
   "outputs": [
    {
     "data": {
      "text/html": [
       "<div>\n",
       "<style scoped>\n",
       "    .dataframe tbody tr th:only-of-type {\n",
       "        vertical-align: middle;\n",
       "    }\n",
       "\n",
       "    .dataframe tbody tr th {\n",
       "        vertical-align: top;\n",
       "    }\n",
       "\n",
       "    .dataframe thead th {\n",
       "        text-align: right;\n",
       "    }\n",
       "</style>\n",
       "<table border=\"1\" class=\"dataframe\">\n",
       "  <thead>\n",
       "    <tr style=\"text-align: right;\">\n",
       "      <th></th>\n",
       "      <th>start_year</th>\n",
       "      <th>cliffsD</th>\n",
       "    </tr>\n",
       "  </thead>\n",
       "  <tbody>\n",
       "  </tbody>\n",
       "</table>\n",
       "</div>"
      ],
      "text/plain": [
       "Empty DataFrame\n",
       "Columns: [start_year, cliffsD]\n",
       "Index: []"
      ]
     },
     "execution_count": 40,
     "metadata": {},
     "output_type": "execute_result"
    }
   ],
   "source": [
    "cliffsD_cohorts"
   ]
  }
 ],
 "metadata": {
  "kernelspec": {
   "display_name": "Python 3",
   "language": "python",
   "name": "python3"
  },
  "language_info": {
   "codemirror_mode": {
    "name": "ipython",
    "version": 3
   },
   "file_extension": ".py",
   "mimetype": "text/x-python",
   "name": "python",
   "nbconvert_exporter": "python",
   "pygments_lexer": "ipython3",
   "version": "3.6.4"
  }
 },
 "nbformat": 4,
 "nbformat_minor": 2
}
