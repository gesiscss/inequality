{
 "cells": [
  {
   "cell_type": "code",
   "execution_count": 174,
   "metadata": {},
   "outputs": [],
   "source": [
    "import numpy as np\n",
    "import pandas as pd\n",
    "import seaborn as sns\n",
    "\n",
    "from matplotlib import pyplot as plt\n",
    "from matplotlib import rcParams\n",
    "plt.style.use('ggplot')\n",
    "rcParams['figure.figsize'] = (17, 10)\n",
    "from matplotlib import colors\n",
    "\n",
    "import scipy.stats\n",
    "\n",
    "import heatmap"
   ]
  },
  {
   "cell_type": "code",
   "execution_count": 168,
   "metadata": {},
   "outputs": [
    {
     "data": {
      "text/plain": [
       "<module 'heatmap' from '/home/danielkostic/cumulative-advantage/heatmap.py'>"
      ]
     },
     "execution_count": 168,
     "metadata": {},
     "output_type": "execute_result"
    }
   ],
   "source": [
    "from importlib import reload\n",
    "reload(heatmap)"
   ]
  },
  {
   "cell_type": "markdown",
   "metadata": {},
   "source": [
    "## Load data"
   ]
  },
  {
   "cell_type": "code",
   "execution_count": 17,
   "metadata": {},
   "outputs": [],
   "source": [
    "credible_authors = pd.read_csv('derived-data/authors-scientific-extended.csv')"
   ]
  },
  {
   "cell_type": "code",
   "execution_count": 18,
   "metadata": {},
   "outputs": [
    {
     "data": {
      "text/html": [
       "<div>\n",
       "<style scoped>\n",
       "    .dataframe tbody tr th:only-of-type {\n",
       "        vertical-align: middle;\n",
       "    }\n",
       "\n",
       "    .dataframe tbody tr th {\n",
       "        vertical-align: top;\n",
       "    }\n",
       "\n",
       "    .dataframe thead th {\n",
       "        text-align: right;\n",
       "    }\n",
       "</style>\n",
       "<table border=\"1\" class=\"dataframe\">\n",
       "  <thead>\n",
       "    <tr style=\"text-align: right;\">\n",
       "      <th></th>\n",
       "      <th>author</th>\n",
       "      <th>start_year</th>\n",
       "      <th>end_year</th>\n",
       "      <th>total_num_pub</th>\n",
       "      <th>career_length</th>\n",
       "      <th>max_absence-0-15</th>\n",
       "      <th>avg_absence-0-15</th>\n",
       "      <th>dropped_after_10</th>\n",
       "      <th>gender</th>\n",
       "      <th>ec_first_auth_3</th>\n",
       "      <th>...</th>\n",
       "      <th>citation_increase_15_5</th>\n",
       "      <th>h_index_increase_15_5</th>\n",
       "      <th>citation_increase_15_7</th>\n",
       "      <th>h_index_increase_15_7</th>\n",
       "      <th>citation_increase_15_9</th>\n",
       "      <th>h_index_increase_15_9</th>\n",
       "      <th>citation_increase_15_11</th>\n",
       "      <th>h_index_increase_15_11</th>\n",
       "      <th>citation_increase_15_12</th>\n",
       "      <th>h_index_increase_15_12</th>\n",
       "    </tr>\n",
       "  </thead>\n",
       "  <tbody>\n",
       "    <tr>\n",
       "      <td>0</td>\n",
       "      <td>a aart blokhuis</td>\n",
       "      <td>1992</td>\n",
       "      <td>2005</td>\n",
       "      <td>2</td>\n",
       "      <td>14</td>\n",
       "      <td>13</td>\n",
       "      <td>5.0000</td>\n",
       "      <td>True</td>\n",
       "      <td>none</td>\n",
       "      <td>0.0</td>\n",
       "      <td>...</td>\n",
       "      <td>0.0</td>\n",
       "      <td>0.0</td>\n",
       "      <td>0.0</td>\n",
       "      <td>0.0</td>\n",
       "      <td>0.0</td>\n",
       "      <td>0.0</td>\n",
       "      <td>0.0</td>\n",
       "      <td>0.0</td>\n",
       "      <td>0.0</td>\n",
       "      <td>0.0</td>\n",
       "    </tr>\n",
       "    <tr>\n",
       "      <td>1</td>\n",
       "      <td>a min tjoa</td>\n",
       "      <td>1979</td>\n",
       "      <td>2017</td>\n",
       "      <td>191</td>\n",
       "      <td>39</td>\n",
       "      <td>7</td>\n",
       "      <td>0.9375</td>\n",
       "      <td>False</td>\n",
       "      <td>none</td>\n",
       "      <td>1.0</td>\n",
       "      <td>...</td>\n",
       "      <td>0.0</td>\n",
       "      <td>0.0</td>\n",
       "      <td>0.0</td>\n",
       "      <td>0.0</td>\n",
       "      <td>0.0</td>\n",
       "      <td>0.0</td>\n",
       "      <td>0.0</td>\n",
       "      <td>0.0</td>\n",
       "      <td>0.0</td>\n",
       "      <td>0.0</td>\n",
       "    </tr>\n",
       "    <tr>\n",
       "      <td>2</td>\n",
       "      <td>a stewart</td>\n",
       "      <td>1995</td>\n",
       "      <td>1995</td>\n",
       "      <td>1</td>\n",
       "      <td>1</td>\n",
       "      <td>15</td>\n",
       "      <td>7.5000</td>\n",
       "      <td>True</td>\n",
       "      <td>none</td>\n",
       "      <td>0.0</td>\n",
       "      <td>...</td>\n",
       "      <td>0.0</td>\n",
       "      <td>0.0</td>\n",
       "      <td>0.0</td>\n",
       "      <td>0.0</td>\n",
       "      <td>0.0</td>\n",
       "      <td>0.0</td>\n",
       "      <td>0.0</td>\n",
       "      <td>0.0</td>\n",
       "      <td>0.0</td>\n",
       "      <td>0.0</td>\n",
       "    </tr>\n",
       "    <tr>\n",
       "      <td>3</td>\n",
       "      <td>a-chuan hsueh</td>\n",
       "      <td>1986</td>\n",
       "      <td>1988</td>\n",
       "      <td>2</td>\n",
       "      <td>3</td>\n",
       "      <td>13</td>\n",
       "      <td>5.0000</td>\n",
       "      <td>True</td>\n",
       "      <td>f</td>\n",
       "      <td>0.0</td>\n",
       "      <td>...</td>\n",
       "      <td>6.0</td>\n",
       "      <td>1.0</td>\n",
       "      <td>2.0</td>\n",
       "      <td>0.0</td>\n",
       "      <td>1.0</td>\n",
       "      <td>0.0</td>\n",
       "      <td>1.0</td>\n",
       "      <td>0.0</td>\n",
       "      <td>1.0</td>\n",
       "      <td>0.0</td>\n",
       "    </tr>\n",
       "    <tr>\n",
       "      <td>4</td>\n",
       "      <td>a-imam al-sammak</td>\n",
       "      <td>1992</td>\n",
       "      <td>2006</td>\n",
       "      <td>3</td>\n",
       "      <td>15</td>\n",
       "      <td>13</td>\n",
       "      <td>3.7500</td>\n",
       "      <td>True</td>\n",
       "      <td>m</td>\n",
       "      <td>1.0</td>\n",
       "      <td>...</td>\n",
       "      <td>0.0</td>\n",
       "      <td>0.0</td>\n",
       "      <td>0.0</td>\n",
       "      <td>0.0</td>\n",
       "      <td>0.0</td>\n",
       "      <td>0.0</td>\n",
       "      <td>0.0</td>\n",
       "      <td>0.0</td>\n",
       "      <td>0.0</td>\n",
       "      <td>0.0</td>\n",
       "    </tr>\n",
       "  </tbody>\n",
       "</table>\n",
       "<p>5 rows × 107 columns</p>\n",
       "</div>"
      ],
      "text/plain": [
       "             author  start_year  end_year  total_num_pub  career_length  \\\n",
       "0   a aart blokhuis        1992      2005              2             14   \n",
       "1        a min tjoa        1979      2017            191             39   \n",
       "2         a stewart        1995      1995              1              1   \n",
       "3     a-chuan hsueh        1986      1988              2              3   \n",
       "4  a-imam al-sammak        1992      2006              3             15   \n",
       "\n",
       "   max_absence-0-15  avg_absence-0-15  dropped_after_10 gender  \\\n",
       "0                13            5.0000              True   none   \n",
       "1                 7            0.9375             False   none   \n",
       "2                15            7.5000              True   none   \n",
       "3                13            5.0000              True      f   \n",
       "4                13            3.7500              True      m   \n",
       "\n",
       "   ec_first_auth_3  ...  citation_increase_15_5  h_index_increase_15_5  \\\n",
       "0              0.0  ...                     0.0                    0.0   \n",
       "1              1.0  ...                     0.0                    0.0   \n",
       "2              0.0  ...                     0.0                    0.0   \n",
       "3              0.0  ...                     6.0                    1.0   \n",
       "4              1.0  ...                     0.0                    0.0   \n",
       "\n",
       "   citation_increase_15_7  h_index_increase_15_7  citation_increase_15_9  \\\n",
       "0                     0.0                    0.0                     0.0   \n",
       "1                     0.0                    0.0                     0.0   \n",
       "2                     0.0                    0.0                     0.0   \n",
       "3                     2.0                    0.0                     1.0   \n",
       "4                     0.0                    0.0                     0.0   \n",
       "\n",
       "   h_index_increase_15_9  citation_increase_15_11  h_index_increase_15_11  \\\n",
       "0                    0.0                      0.0                     0.0   \n",
       "1                    0.0                      0.0                     0.0   \n",
       "2                    0.0                      0.0                     0.0   \n",
       "3                    0.0                      1.0                     0.0   \n",
       "4                    0.0                      0.0                     0.0   \n",
       "\n",
       "   citation_increase_15_12  h_index_increase_15_12  \n",
       "0                      0.0                     0.0  \n",
       "1                      0.0                     0.0  \n",
       "2                      0.0                     0.0  \n",
       "3                      1.0                     0.0  \n",
       "4                      0.0                     0.0  \n",
       "\n",
       "[5 rows x 107 columns]"
      ]
     },
     "execution_count": 18,
     "metadata": {},
     "output_type": "execute_result"
    }
   ],
   "source": [
    "credible_authors.head()"
   ]
  },
  {
   "cell_type": "code",
   "execution_count": 7,
   "metadata": {},
   "outputs": [
    {
     "data": {
      "text/html": [
       "<div>\n",
       "<style scoped>\n",
       "    .dataframe tbody tr th:only-of-type {\n",
       "        vertical-align: middle;\n",
       "    }\n",
       "\n",
       "    .dataframe tbody tr th {\n",
       "        vertical-align: top;\n",
       "    }\n",
       "\n",
       "    .dataframe thead th {\n",
       "        text-align: right;\n",
       "    }\n",
       "</style>\n",
       "<table border=\"1\" class=\"dataframe\">\n",
       "  <thead>\n",
       "    <tr style=\"text-align: right;\">\n",
       "      <th></th>\n",
       "      <th>author</th>\n",
       "      <th>year</th>\n",
       "      <th>pub_id</th>\n",
       "    </tr>\n",
       "  </thead>\n",
       "  <tbody>\n",
       "    <tr>\n",
       "      <th>0</th>\n",
       "      <td>graeme earl</td>\n",
       "      <td>2011</td>\n",
       "      <td>001c58d3-26ad-46b3-ab3a-c1e557d16821</td>\n",
       "    </tr>\n",
       "    <tr>\n",
       "      <th>1</th>\n",
       "      <td>gareth beale</td>\n",
       "      <td>2011</td>\n",
       "      <td>001c58d3-26ad-46b3-ab3a-c1e557d16821</td>\n",
       "    </tr>\n",
       "    <tr>\n",
       "      <th>2</th>\n",
       "      <td>m. nasser</td>\n",
       "      <td>2009</td>\n",
       "      <td>001c8744-73c4-4b04-9364-22d31a10dbf1</td>\n",
       "    </tr>\n",
       "    <tr>\n",
       "      <th>3</th>\n",
       "      <td>faisal zaman</td>\n",
       "      <td>2009</td>\n",
       "      <td>001c8744-73c4-4b04-9364-22d31a10dbf1</td>\n",
       "    </tr>\n",
       "    <tr>\n",
       "      <th>4</th>\n",
       "      <td>altaf hossain</td>\n",
       "      <td>2009</td>\n",
       "      <td>001c8744-73c4-4b04-9364-22d31a10dbf1</td>\n",
       "    </tr>\n",
       "  </tbody>\n",
       "</table>\n",
       "</div>"
      ],
      "text/plain": [
       "          author  year                                pub_id\n",
       "0    graeme earl  2011  001c58d3-26ad-46b3-ab3a-c1e557d16821\n",
       "1   gareth beale  2011  001c58d3-26ad-46b3-ab3a-c1e557d16821\n",
       "2      m. nasser  2009  001c8744-73c4-4b04-9364-22d31a10dbf1\n",
       "3   faisal zaman  2009  001c8744-73c4-4b04-9364-22d31a10dbf1\n",
       "4  altaf hossain  2009  001c8744-73c4-4b04-9364-22d31a10dbf1"
      ]
     },
     "execution_count": 7,
     "metadata": {},
     "output_type": "execute_result"
    }
   ],
   "source": [
    "authorPublicationData = pd.read_csv('derived-data/author-publications.csv')\n",
    "authorPublicationData.head()"
   ]
  },
  {
   "cell_type": "code",
   "execution_count": 176,
   "metadata": {},
   "outputs": [],
   "source": [
    "features = ['start_year', 'career_length', 'max_absence-0-15', 'avg_absence-0-15', 'dropped_after_10', 'gender', \n",
    "            'ec_first_auth_3',\n",
    "            'team_size_median_3',\n",
    "            'team_size_mean_3',\n",
    "            'h5_index_max_3',\n",
    "#             'deciles_min_3',\n",
    "#             'quantiles_min_3',\n",
    "            'quantiles_bin_3',\n",
    "            'early_career_degree_3',\n",
    "            'early_career_qual_3',\n",
    "            'early_career_qual_first_3',\n",
    "            'h-index_3',\n",
    "            'early_career_prod_3',\n",
    "            'early_career_coauthor_max_hindex_3',\n",
    "            'citation_increase_15_3',\n",
    "            'h_index_increase_15_3']"
   ]
  },
  {
   "cell_type": "code",
   "execution_count": 177,
   "metadata": {},
   "outputs": [],
   "source": [
    "correlations = credible_authors[features].corr(method='spearman')\n",
    "\n",
    "# np.fill_diagonal(correlations.values, 0)\n",
    "upper = correlations.where(np.triu(np.ones(correlations.shape), k=1).astype(np.bool))\n",
    "upper = upper.fillna(0)\n",
    "only_dep = upper[['citation_increase_15_3', 'h_index_increase_15_3']]"
   ]
  },
  {
   "cell_type": "code",
   "execution_count": 179,
   "metadata": {},
   "outputs": [
    {
     "data": {
      "image/png": "[encoded data removed]",
      "text/plain": [
       "<Figure size 1224x720 with 2 Axes>"
      ]
     },
     "metadata": {},
     "output_type": "display_data"
    }
   ],
   "source": [
    "ax = heatmap.corrplot((correlations - upper).T)\n",
    "plt.savefig('fig-desc/correlations.png')"
   ]
  },
  {
   "cell_type": "code",
   "execution_count": 165,
   "metadata": {},
   "outputs": [],
   "source": [
    "cmap = sns.color_palette(\"RdBu_r\", 7)"
   ]
  },
  {
   "cell_type": "code",
   "execution_count": 182,
   "metadata": {},
   "outputs": [
    {
     "data": {
      "text/html": [
       "<div>\n",
       "<style scoped>\n",
       "    .dataframe tbody tr th:only-of-type {\n",
       "        vertical-align: middle;\n",
       "    }\n",
       "\n",
       "    .dataframe tbody tr th {\n",
       "        vertical-align: top;\n",
       "    }\n",
       "\n",
       "    .dataframe thead th {\n",
       "        text-align: right;\n",
       "    }\n",
       "</style>\n",
       "<table border=\"1\" class=\"dataframe\">\n",
       "  <thead>\n",
       "    <tr style=\"text-align: right;\">\n",
       "      <th></th>\n",
       "      <th>h_index_increase_15_3</th>\n",
       "      <th>citation_increase_15_3</th>\n",
       "    </tr>\n",
       "  </thead>\n",
       "  <tbody>\n",
       "    <tr>\n",
       "      <td>start_year</td>\n",
       "      <td>0.126965</td>\n",
       "      <td>0.118473</td>\n",
       "    </tr>\n",
       "    <tr>\n",
       "      <td>career_length</td>\n",
       "      <td>0.519687</td>\n",
       "      <td>0.519349</td>\n",
       "    </tr>\n",
       "    <tr>\n",
       "      <td>max_absence-0-15</td>\n",
       "      <td>-0.691686</td>\n",
       "      <td>-0.681146</td>\n",
       "    </tr>\n",
       "    <tr>\n",
       "      <td>avg_absence-0-15</td>\n",
       "      <td>-0.708826</td>\n",
       "      <td>-0.708289</td>\n",
       "    </tr>\n",
       "    <tr>\n",
       "      <td>dropped_after_10</td>\n",
       "      <td>-0.608972</td>\n",
       "      <td>-0.590667</td>\n",
       "    </tr>\n",
       "    <tr>\n",
       "      <td>ec_first_auth_3</td>\n",
       "      <td>0.284810</td>\n",
       "      <td>0.279128</td>\n",
       "    </tr>\n",
       "    <tr>\n",
       "      <td>team_size_median_3</td>\n",
       "      <td>-0.162131</td>\n",
       "      <td>-0.164363</td>\n",
       "    </tr>\n",
       "    <tr>\n",
       "      <td>team_size_mean_3</td>\n",
       "      <td>-0.133906</td>\n",
       "      <td>-0.134173</td>\n",
       "    </tr>\n",
       "    <tr>\n",
       "      <td>h5_index_max_3</td>\n",
       "      <td>0.358419</td>\n",
       "      <td>0.453832</td>\n",
       "    </tr>\n",
       "    <tr>\n",
       "      <td>quantiles_bin_3</td>\n",
       "      <td>0.310723</td>\n",
       "      <td>0.384281</td>\n",
       "    </tr>\n",
       "    <tr>\n",
       "      <td>early_career_degree_3</td>\n",
       "      <td>0.433223</td>\n",
       "      <td>0.564975</td>\n",
       "    </tr>\n",
       "    <tr>\n",
       "      <td>early_career_qual_3</td>\n",
       "      <td>0.530171</td>\n",
       "      <td>0.771817</td>\n",
       "    </tr>\n",
       "    <tr>\n",
       "      <td>early_career_qual_first_3</td>\n",
       "      <td>0.478649</td>\n",
       "      <td>0.621609</td>\n",
       "    </tr>\n",
       "    <tr>\n",
       "      <td>h-index_3</td>\n",
       "      <td>0.031918</td>\n",
       "      <td>0.391523</td>\n",
       "    </tr>\n",
       "    <tr>\n",
       "      <td>early_career_prod_3</td>\n",
       "      <td>0.536063</td>\n",
       "      <td>0.561370</td>\n",
       "    </tr>\n",
       "    <tr>\n",
       "      <td>early_career_coauthor_max_hindex_3</td>\n",
       "      <td>0.367956</td>\n",
       "      <td>0.495013</td>\n",
       "    </tr>\n",
       "    <tr>\n",
       "      <td>citation_increase_15_3</td>\n",
       "      <td>0.838215</td>\n",
       "      <td>1.000000</td>\n",
       "    </tr>\n",
       "    <tr>\n",
       "      <td>h_index_increase_15_3</td>\n",
       "      <td>1.000000</td>\n",
       "      <td>0.838215</td>\n",
       "    </tr>\n",
       "  </tbody>\n",
       "</table>\n",
       "</div>"
      ],
      "text/plain": [
       "                                    h_index_increase_15_3  \\\n",
       "start_year                                       0.126965   \n",
       "career_length                                    0.519687   \n",
       "max_absence-0-15                                -0.691686   \n",
       "avg_absence-0-15                                -0.708826   \n",
       "dropped_after_10                                -0.608972   \n",
       "ec_first_auth_3                                  0.284810   \n",
       "team_size_median_3                              -0.162131   \n",
       "team_size_mean_3                                -0.133906   \n",
       "h5_index_max_3                                   0.358419   \n",
       "quantiles_bin_3                                  0.310723   \n",
       "early_career_degree_3                            0.433223   \n",
       "early_career_qual_3                              0.530171   \n",
       "early_career_qual_first_3                        0.478649   \n",
       "h-index_3                                        0.031918   \n",
       "early_career_prod_3                              0.536063   \n",
       "early_career_coauthor_max_hindex_3               0.367956   \n",
       "citation_increase_15_3                           0.838215   \n",
       "h_index_increase_15_3                            1.000000   \n",
       "\n",
       "                                    citation_increase_15_3  \n",
       "start_year                                        0.118473  \n",
       "career_length                                     0.519349  \n",
       "max_absence-0-15                                 -0.681146  \n",
       "avg_absence-0-15                                 -0.708289  \n",
       "dropped_after_10                                 -0.590667  \n",
       "ec_first_auth_3                                   0.279128  \n",
       "team_size_median_3                               -0.164363  \n",
       "team_size_mean_3                                 -0.134173  \n",
       "h5_index_max_3                                    0.453832  \n",
       "quantiles_bin_3                                   0.384281  \n",
       "early_career_degree_3                             0.564975  \n",
       "early_career_qual_3                               0.771817  \n",
       "early_career_qual_first_3                         0.621609  \n",
       "h-index_3                                         0.391523  \n",
       "early_career_prod_3                               0.561370  \n",
       "early_career_coauthor_max_hindex_3                0.495013  \n",
       "citation_increase_15_3                            1.000000  \n",
       "h_index_increase_15_3                             0.838215  "
      ]
     },
     "execution_count": 182,
     "metadata": {},
     "output_type": "execute_result"
    }
   ],
   "source": [
    "correlations[['h_index_increase_15_3', 'citation_increase_15_3']]"
   ]
  },
  {
   "cell_type": "code",
   "execution_count": 166,
   "metadata": {},
   "outputs": [
    {
     "data": {
      "image/png": "[encoded data removed]",
      "text/plain": [
       "<Figure size 360x1152 with 2 Axes>"
      ]
     },
     "metadata": {},
     "output_type": "display_data"
    }
   ],
   "source": [
    "data = correlations[['h_index_increase_15_3', 'citation_increase_15_3']]\n",
    "fig, ax = plt.subplots(figsize=(5, 16))\n",
    "# akws = {\"ha\": 'center',\"va\": 'center'}\n",
    "sns.heatmap(data, vmin=0, vmax=1, cmap=cmap) #, annot=True, annot_kws=akws)\n",
    "ax.vlines([1], *ax.get_ylim())\n",
    "plt.xticks(rotation=15)\n",
    "plt.yticks(rotation=0)\n",
    "plt.show()"
   ]
  },
  {
   "cell_type": "code",
   "execution_count": 124,
   "metadata": {},
   "outputs": [],
   "source": [
    "cred_auth_mf = credible_authors[credible_authors['gender'].isin(['m', 'f'])].copy()\n",
    "cred_auth_mf['gender_'] = cred_auth_mf['gender'].apply(lambda x: 1 if x=='m' else 0)"
   ]
  },
  {
   "cell_type": "code",
   "execution_count": 127,
   "metadata": {},
   "outputs": [
    {
     "data": {
      "text/html": [
       "<div>\n",
       "<style scoped>\n",
       "    .dataframe tbody tr th:only-of-type {\n",
       "        vertical-align: middle;\n",
       "    }\n",
       "\n",
       "    .dataframe tbody tr th {\n",
       "        vertical-align: top;\n",
       "    }\n",
       "\n",
       "    .dataframe thead th {\n",
       "        text-align: right;\n",
       "    }\n",
       "</style>\n",
       "<table border=\"1\" class=\"dataframe\">\n",
       "  <thead>\n",
       "    <tr style=\"text-align: right;\">\n",
       "      <th></th>\n",
       "      <th>gender_</th>\n",
       "      <th>h_index_increase_15_3</th>\n",
       "    </tr>\n",
       "  </thead>\n",
       "  <tbody>\n",
       "    <tr>\n",
       "      <td>gender_</td>\n",
       "      <td>1.000000</td>\n",
       "      <td>0.021845</td>\n",
       "    </tr>\n",
       "    <tr>\n",
       "      <td>h_index_increase_15_3</td>\n",
       "      <td>0.021845</td>\n",
       "      <td>1.000000</td>\n",
       "    </tr>\n",
       "  </tbody>\n",
       "</table>\n",
       "</div>"
      ],
      "text/plain": [
       "                        gender_  h_index_increase_15_3\n",
       "gender_                1.000000               0.021845\n",
       "h_index_increase_15_3  0.021845               1.000000"
      ]
     },
     "execution_count": 127,
     "metadata": {},
     "output_type": "execute_result"
    }
   ],
   "source": [
    "cred_auth_mf[['gender_', 'h_index_increase_15_3']].corr(method='spearman')"
   ]
  },
  {
   "cell_type": "code",
   "execution_count": 118,
   "metadata": {},
   "outputs": [
    {
     "data": {
      "image/png": "[encoded data removed]",
      "text/plain": [
       "<Figure size 1440x720 with 1 Axes>"
      ]
     },
     "metadata": {},
     "output_type": "display_data"
    }
   ],
   "source": [
    "plt.scatter(credible_authors['avg_absence-0-15'], credible_authors['h_index_increase_15_3'])\n",
    "plt.xlabel('Avg abs')\n",
    "plt.ylabel('H ind increase 15-3')\n",
    "# plt.xlim([-1, 20])\n",
    "# plt.ylim([-1, 20])\n",
    "plt.show()"
   ]
  },
  {
   "cell_type": "code",
   "execution_count": null,
   "metadata": {},
   "outputs": [],
   "source": []
  },
  {
   "cell_type": "markdown",
   "metadata": {},
   "source": [
    "# Old stuff"
   ]
  },
  {
   "cell_type": "markdown",
   "metadata": {
    "heading_collapsed": true
   },
   "source": [
    "## Test for errors in files"
   ]
  },
  {
   "cell_type": "markdown",
   "metadata": {
    "heading_collapsed": true,
    "hidden": true
   },
   "source": [
    "### Test if final citation count is working correctly"
   ]
  },
  {
   "cell_type": "code",
   "execution_count": 10,
   "metadata": {
    "hidden": true
   },
   "outputs": [],
   "source": [
    "final_less_than_early = credible_authors[credible_authors.succ_after_15y < credible_authors.early_career_qual_3].shape\n",
    "assert final_less_than_early[0] == 0, \"Final citation count is smaller than early in {} cases.\".format(final_less_than_early[0])"
   ]
  },
  {
   "cell_type": "code",
   "execution_count": null,
   "metadata": {
    "hidden": true
   },
   "outputs": [],
   "source": []
  },
  {
   "cell_type": "code",
   "execution_count": 32,
   "metadata": {
    "hidden": true
   },
   "outputs": [],
   "source": [
    "# Look for authors with more than 20K citations. Are they famous?\n",
    "authors_5k = credible_authors[credible_authors['final_citation_count'] > 5000]"
   ]
  },
  {
   "cell_type": "code",
   "execution_count": 33,
   "metadata": {
    "hidden": true
   },
   "outputs": [
    {
     "data": {
      "text/plain": [
       "Int64Index([   894,   1329,   1762,   1858,   1883,   4940,   5620,   6267,\n",
       "              8196,   9689,\n",
       "            ...\n",
       "            498179, 498672, 499305, 499369, 501412, 501467, 501650, 501852,\n",
       "            502744, 503600],\n",
       "           dtype='int64', length=915)"
      ]
     },
     "execution_count": 33,
     "metadata": {},
     "output_type": "execute_result"
    }
   ],
   "source": [
    "authors_5k.index"
   ]
  },
  {
   "cell_type": "code",
   "execution_count": 34,
   "metadata": {
    "hidden": true
   },
   "outputs": [
    {
     "data": {
      "text/plain": [
       "<matplotlib.axes._subplots.AxesSubplot at 0x7f33806414a8>"
      ]
     },
     "execution_count": 34,
     "metadata": {},
     "output_type": "execute_result"
    },
    {
     "data": {
      "image/png": "[encoded data removed]",
      "text/plain": [
       "<matplotlib.figure.Figure at 0x7f33805f8b38>"
      ]
     },
     "metadata": {},
     "output_type": "display_data"
    }
   ],
   "source": [
    "authors_5k.early_career_prod.value_counts().sort_index().plot(kind='bar')"
   ]
  },
  {
   "cell_type": "code",
   "execution_count": 35,
   "metadata": {
    "hidden": true
   },
   "outputs": [
    {
     "data": {
      "text/plain": [
       "<matplotlib.axes._subplots.AxesSubplot at 0x7f33809b2e10>"
      ]
     },
     "execution_count": 35,
     "metadata": {},
     "output_type": "execute_result"
    },
    {
     "data": {
      "image/png": "[encoded data removed]",
      "text/plain": [
       "<matplotlib.figure.Figure at 0x7f3380a79f28>"
      ]
     },
     "metadata": {},
     "output_type": "display_data"
    }
   ],
   "source": [
    "authors_5k.early_career_qual.value_counts().sort_index().plot(kind='bar')"
   ]
  },
  {
   "cell_type": "code",
   "execution_count": 36,
   "metadata": {
    "hidden": true
   },
   "outputs": [
    {
     "data": {
      "text/plain": [
       "<matplotlib.axes._subplots.AxesSubplot at 0x7f33812872b0>"
      ]
     },
     "execution_count": 36,
     "metadata": {},
     "output_type": "execute_result"
    },
    {
     "data": {
      "image/png": "[encoded data removed]",
      "text/plain": [
       "<matplotlib.figure.Figure at 0x7f33810b5c88>"
      ]
     },
     "metadata": {},
     "output_type": "display_data"
    }
   ],
   "source": [
    "authors_5k.early_career_rec.value_counts().sort_index().plot(kind='bar')"
   ]
  },
  {
   "cell_type": "code",
   "execution_count": 37,
   "metadata": {
    "hidden": true
   },
   "outputs": [
    {
     "data": {
      "text/html": [
       "<div>\n",
       "<style scoped>\n",
       "    .dataframe tbody tr th:only-of-type {\n",
       "        vertical-align: middle;\n",
       "    }\n",
       "\n",
       "    .dataframe tbody tr th {\n",
       "        vertical-align: top;\n",
       "    }\n",
       "\n",
       "    .dataframe thead th {\n",
       "        text-align: right;\n",
       "    }\n",
       "</style>\n",
       "<table border=\"1\" class=\"dataframe\">\n",
       "  <thead>\n",
       "    <tr style=\"text-align: right;\">\n",
       "      <th></th>\n",
       "      <th>author</th>\n",
       "      <th>start_year</th>\n",
       "      <th>end_year</th>\n",
       "      <th>num_pub</th>\n",
       "      <th>career_length</th>\n",
       "      <th>early_career_qual</th>\n",
       "      <th>early_career_prod</th>\n",
       "      <th>early_career_pubs</th>\n",
       "      <th>early_career_rec</th>\n",
       "      <th>gender</th>\n",
       "      <th>final_citation_count</th>\n",
       "    </tr>\n",
       "  </thead>\n",
       "  <tbody>\n",
       "  </tbody>\n",
       "</table>\n",
       "</div>"
      ],
      "text/plain": [
       "Empty DataFrame\n",
       "Columns: [author, start_year, end_year, num_pub, career_length, early_career_qual, early_career_prod, early_career_pubs, early_career_rec, gender, final_citation_count]\n",
       "Index: []"
      ]
     },
     "execution_count": 37,
     "metadata": {},
     "output_type": "execute_result"
    }
   ],
   "source": [
    "authors_5k[authors_5k.early_career_rec > authors_5k.early_career_qual]"
   ]
  },
  {
   "cell_type": "code",
   "execution_count": 38,
   "metadata": {
    "hidden": true
   },
   "outputs": [],
   "source": [
    "#credible_authors.drop(authors_20k, inplace=True)"
   ]
  },
  {
   "cell_type": "code",
   "execution_count": 39,
   "metadata": {
    "hidden": true,
    "scrolled": false
   },
   "outputs": [],
   "source": [
    "# Test for extremly high early productivity\n",
    "# credible_authors[(credible_authors.early_career_prod_1 >= 10)].shape"
   ]
  },
  {
   "cell_type": "code",
   "execution_count": 40,
   "metadata": {
    "hidden": true
   },
   "outputs": [],
   "source": [
    "# credible_authors[(credible_authors.early_career_prod_1 >= 10)].start_year.value_counts().sort_index().plot(kind='bar')"
   ]
  },
  {
   "cell_type": "markdown",
   "metadata": {
    "heading_collapsed": true,
    "hidden": true
   },
   "source": [
    "### Test gender files"
   ]
  },
  {
   "cell_type": "code",
   "execution_count": 9,
   "metadata": {
    "hidden": true
   },
   "outputs": [
    {
     "data": {
      "image/png": "[encoded data removed]",
      "text/plain": [
       "<matplotlib.figure.Figure at 0x7f33b099c978>"
      ]
     },
     "metadata": {},
     "output_type": "display_data"
    }
   ],
   "source": [
    "sns.distplot(credible_authors.early_career_prod,\n",
    "             hist_kws=dict(cumulative=True),\n",
    "             kde_kws=dict(cumulative=True))\n",
    "import scipy\n",
    "sns.set_palette(\"hls\", 1)\n",
    "\n",
    "# x,y = p.get_lines()[0].get_data()\n",
    "\n",
    "#care with the order, it is first y\n",
    "#initial fills a 0 so the result has same length than x\n",
    "# cdf = scipy.integrate.cumtrapz(y, x, initial=0)\n",
    "\n",
    "# nearest_05 = np.abs(cdf-0.5).argmin()\n",
    "\n",
    "# x_median = x[nearest_05]\n",
    "# y_median = y[nearest_05]\n",
    "\n",
    "# plt.vlines(x_median, 0, y_median)\n",
    "plt.show()"
   ]
  },
  {
   "cell_type": "markdown",
   "metadata": {
    "hidden": true
   },
   "source": [
    "### Test gender files"
   ]
  },
  {
   "cell_type": "code",
   "execution_count": 10,
   "metadata": {
    "hidden": true
   },
   "outputs": [],
   "source": [
    "gender = pd.read_csv('./data/name_gender_2017_asiansAsNone_nodup.txt')"
   ]
  },
  {
   "cell_type": "code",
   "execution_count": 11,
   "metadata": {
    "hidden": true
   },
   "outputs": [],
   "source": [
    "gender_old = pd.read_csv('./data/name_gender_2017_asiansAsNone.txt')"
   ]
  },
  {
   "cell_type": "code",
   "execution_count": 12,
   "metadata": {
    "hidden": true
   },
   "outputs": [],
   "source": [
    "# import pickle\n",
    "# gender_id = pickle.load(open('./data/id_gender_2017_asiansAsNone.p', \"rb\" ) )\n",
    "# doesnt work. Python 3 vs 2?"
   ]
  },
  {
   "cell_type": "code",
   "execution_count": 13,
   "metadata": {
    "hidden": true
   },
   "outputs": [
    {
     "name": "stdout",
     "output_type": "stream",
     "text": [
      "(1704919, 2)\n",
      "(9471728, 2)\n"
     ]
    }
   ],
   "source": [
    "print(gender.shape)\n",
    "print(gender_old.shape)"
   ]
  },
  {
   "cell_type": "code",
   "execution_count": 14,
   "metadata": {
    "hidden": true
   },
   "outputs": [
    {
     "data": {
      "text/html": [
       "<div>\n",
       "<style scoped>\n",
       "    .dataframe tbody tr th:only-of-type {\n",
       "        vertical-align: middle;\n",
       "    }\n",
       "\n",
       "    .dataframe tbody tr th {\n",
       "        vertical-align: top;\n",
       "    }\n",
       "\n",
       "    .dataframe thead th {\n",
       "        text-align: right;\n",
       "    }\n",
       "</style>\n",
       "<table border=\"1\" class=\"dataframe\">\n",
       "  <thead>\n",
       "    <tr style=\"text-align: right;\">\n",
       "      <th></th>\n",
       "      <th>name</th>\n",
       "      <th>gender</th>\n",
       "    </tr>\n",
       "  </thead>\n",
       "  <tbody>\n",
       "    <tr>\n",
       "      <th>0</th>\n",
       "      <td>gareth beale</td>\n",
       "      <td>m</td>\n",
       "    </tr>\n",
       "    <tr>\n",
       "      <th>1</th>\n",
       "      <td>graeme earl</td>\n",
       "      <td>m</td>\n",
       "    </tr>\n",
       "    <tr>\n",
       "      <th>2</th>\n",
       "      <td>altaf hossain</td>\n",
       "      <td>m</td>\n",
       "    </tr>\n",
       "    <tr>\n",
       "      <th>3</th>\n",
       "      <td>faisal zaman</td>\n",
       "      <td>m</td>\n",
       "    </tr>\n",
       "    <tr>\n",
       "      <th>4</th>\n",
       "      <td>m. nasser</td>\n",
       "      <td>none</td>\n",
       "    </tr>\n",
       "  </tbody>\n",
       "</table>\n",
       "</div>"
      ],
      "text/plain": [
       "            name gender\n",
       "0   gareth beale      m\n",
       "1    graeme earl      m\n",
       "2  altaf hossain      m\n",
       "3   faisal zaman      m\n",
       "4      m. nasser   none"
      ]
     },
     "execution_count": 14,
     "metadata": {},
     "output_type": "execute_result"
    }
   ],
   "source": [
    "gender.head()"
   ]
  },
  {
   "cell_type": "code",
   "execution_count": 15,
   "metadata": {
    "hidden": true
   },
   "outputs": [],
   "source": [
    "gender_old = gender_old.drop_duplicates()"
   ]
  },
  {
   "cell_type": "code",
   "execution_count": 16,
   "metadata": {
    "hidden": true
   },
   "outputs": [
    {
     "data": {
      "text/html": [
       "<div>\n",
       "<style scoped>\n",
       "    .dataframe tbody tr th:only-of-type {\n",
       "        vertical-align: middle;\n",
       "    }\n",
       "\n",
       "    .dataframe tbody tr th {\n",
       "        vertical-align: top;\n",
       "    }\n",
       "\n",
       "    .dataframe thead th {\n",
       "        text-align: right;\n",
       "    }\n",
       "</style>\n",
       "<table border=\"1\" class=\"dataframe\">\n",
       "  <thead>\n",
       "    <tr style=\"text-align: right;\">\n",
       "      <th></th>\n",
       "      <th>name</th>\n",
       "      <th>gender</th>\n",
       "    </tr>\n",
       "  </thead>\n",
       "  <tbody>\n",
       "    <tr>\n",
       "      <th>365</th>\n",
       "      <td>robert a. van gorder</td>\n",
       "      <td>none</td>\n",
       "    </tr>\n",
       "    <tr>\n",
       "      <th>367</th>\n",
       "      <td>edward l. robertson</td>\n",
       "      <td>none</td>\n",
       "    </tr>\n",
       "    <tr>\n",
       "      <th>377</th>\n",
       "      <td>robert d. austin</td>\n",
       "      <td>none</td>\n",
       "    </tr>\n",
       "    <tr>\n",
       "      <th>505</th>\n",
       "      <td>roberto tamassia</td>\n",
       "      <td>m</td>\n",
       "    </tr>\n",
       "    <tr>\n",
       "      <th>520</th>\n",
       "      <td>robert warrender</td>\n",
       "      <td>none</td>\n",
       "    </tr>\n",
       "    <tr>\n",
       "      <th>555</th>\n",
       "      <td>roberto bortoletto</td>\n",
       "      <td>m</td>\n",
       "    </tr>\n",
       "    <tr>\n",
       "      <th>796</th>\n",
       "      <td>robert moss</td>\n",
       "      <td>none</td>\n",
       "    </tr>\n",
       "    <tr>\n",
       "      <th>1285</th>\n",
       "      <td>robert w. proctor</td>\n",
       "      <td>none</td>\n",
       "    </tr>\n",
       "    <tr>\n",
       "      <th>1581</th>\n",
       "      <td>robert b. gorbet</td>\n",
       "      <td>none</td>\n",
       "    </tr>\n",
       "    <tr>\n",
       "      <th>1605</th>\n",
       "      <td>robert chen</td>\n",
       "      <td>none</td>\n",
       "    </tr>\n",
       "    <tr>\n",
       "      <th>1630</th>\n",
       "      <td>roberto navigli</td>\n",
       "      <td>m</td>\n",
       "    </tr>\n",
       "    <tr>\n",
       "      <th>1645</th>\n",
       "      <td>robert a. greenes</td>\n",
       "      <td>none</td>\n",
       "    </tr>\n",
       "    <tr>\n",
       "      <th>1749</th>\n",
       "      <td>robert de simone</td>\n",
       "      <td>none</td>\n",
       "    </tr>\n",
       "    <tr>\n",
       "      <th>1784</th>\n",
       "      <td>robert buckley</td>\n",
       "      <td>none</td>\n",
       "    </tr>\n",
       "    <tr>\n",
       "      <th>2326</th>\n",
       "      <td>robert hecht</td>\n",
       "      <td>none</td>\n",
       "    </tr>\n",
       "    <tr>\n",
       "      <th>2377</th>\n",
       "      <td>robert w. fitzgerald</td>\n",
       "      <td>none</td>\n",
       "    </tr>\n",
       "    <tr>\n",
       "      <th>2413</th>\n",
       "      <td>roberto armenise</td>\n",
       "      <td>m</td>\n",
       "    </tr>\n",
       "    <tr>\n",
       "      <th>2571</th>\n",
       "      <td>robert baumgartner</td>\n",
       "      <td>none</td>\n",
       "    </tr>\n",
       "    <tr>\n",
       "      <th>2625</th>\n",
       "      <td>roberto podestá</td>\n",
       "      <td>m</td>\n",
       "    </tr>\n",
       "    <tr>\n",
       "      <th>2626</th>\n",
       "      <td>martin g. roberts</td>\n",
       "      <td>m</td>\n",
       "    </tr>\n",
       "    <tr>\n",
       "      <th>2705</th>\n",
       "      <td>william robertson 1</td>\n",
       "      <td>m</td>\n",
       "    </tr>\n",
       "    <tr>\n",
       "      <th>2851</th>\n",
       "      <td>robert chun</td>\n",
       "      <td>none</td>\n",
       "    </tr>\n",
       "    <tr>\n",
       "      <th>3144</th>\n",
       "      <td>robert a. reckhow</td>\n",
       "      <td>none</td>\n",
       "    </tr>\n",
       "    <tr>\n",
       "      <th>3188</th>\n",
       "      <td>roberto de virgilio</td>\n",
       "      <td>m</td>\n",
       "    </tr>\n",
       "    <tr>\n",
       "      <th>3214</th>\n",
       "      <td>robert glenn howard</td>\n",
       "      <td>none</td>\n",
       "    </tr>\n",
       "    <tr>\n",
       "      <th>3497</th>\n",
       "      <td>robert biddle</td>\n",
       "      <td>none</td>\n",
       "    </tr>\n",
       "    <tr>\n",
       "      <th>3602</th>\n",
       "      <td>robert d. galliers</td>\n",
       "      <td>none</td>\n",
       "    </tr>\n",
       "    <tr>\n",
       "      <th>3864</th>\n",
       "      <td>robert winter</td>\n",
       "      <td>none</td>\n",
       "    </tr>\n",
       "    <tr>\n",
       "      <th>3927</th>\n",
       "      <td>robert l. glass</td>\n",
       "      <td>none</td>\n",
       "    </tr>\n",
       "    <tr>\n",
       "      <th>4054</th>\n",
       "      <td>robert huis in 't veld</td>\n",
       "      <td>none</td>\n",
       "    </tr>\n",
       "    <tr>\n",
       "      <th>...</th>\n",
       "      <td>...</td>\n",
       "      <td>...</td>\n",
       "    </tr>\n",
       "    <tr>\n",
       "      <th>9413956</th>\n",
       "      <td>robert marx</td>\n",
       "      <td>none</td>\n",
       "    </tr>\n",
       "    <tr>\n",
       "      <th>9414174</th>\n",
       "      <td>robert shanklin</td>\n",
       "      <td>none</td>\n",
       "    </tr>\n",
       "    <tr>\n",
       "      <th>9416188</th>\n",
       "      <td>roberto verzicco</td>\n",
       "      <td>m</td>\n",
       "    </tr>\n",
       "    <tr>\n",
       "      <th>9420475</th>\n",
       "      <td>robert moszynski</td>\n",
       "      <td>none</td>\n",
       "    </tr>\n",
       "    <tr>\n",
       "      <th>9426832</th>\n",
       "      <td>roberta palmieri</td>\n",
       "      <td>f</td>\n",
       "    </tr>\n",
       "    <tr>\n",
       "      <th>9427028</th>\n",
       "      <td>roberto beghi</td>\n",
       "      <td>m</td>\n",
       "    </tr>\n",
       "    <tr>\n",
       "      <th>9428298</th>\n",
       "      <td>robert h. wilkinson</td>\n",
       "      <td>none</td>\n",
       "    </tr>\n",
       "    <tr>\n",
       "      <th>9428828</th>\n",
       "      <td>robert f. goeke</td>\n",
       "      <td>none</td>\n",
       "    </tr>\n",
       "    <tr>\n",
       "      <th>9430093</th>\n",
       "      <td>robert john martin</td>\n",
       "      <td>none</td>\n",
       "    </tr>\n",
       "    <tr>\n",
       "      <th>9430445</th>\n",
       "      <td>robert van straalen</td>\n",
       "      <td>none</td>\n",
       "    </tr>\n",
       "    <tr>\n",
       "      <th>9431934</th>\n",
       "      <td>robert olesen</td>\n",
       "      <td>none</td>\n",
       "    </tr>\n",
       "    <tr>\n",
       "      <th>9434381</th>\n",
       "      <td>roberto graciani diaz</td>\n",
       "      <td>m</td>\n",
       "    </tr>\n",
       "    <tr>\n",
       "      <th>9434937</th>\n",
       "      <td>robert m. hubley</td>\n",
       "      <td>none</td>\n",
       "    </tr>\n",
       "    <tr>\n",
       "      <th>9435629</th>\n",
       "      <td>robert t. saltarelli</td>\n",
       "      <td>none</td>\n",
       "    </tr>\n",
       "    <tr>\n",
       "      <th>9440686</th>\n",
       "      <td>roberto sousa</td>\n",
       "      <td>m</td>\n",
       "    </tr>\n",
       "    <tr>\n",
       "      <th>9441395</th>\n",
       "      <td>robert m. mark</td>\n",
       "      <td>none</td>\n",
       "    </tr>\n",
       "    <tr>\n",
       "      <th>9441505</th>\n",
       "      <td>robert tappe</td>\n",
       "      <td>none</td>\n",
       "    </tr>\n",
       "    <tr>\n",
       "      <th>9441734</th>\n",
       "      <td>robert vangent</td>\n",
       "      <td>none</td>\n",
       "    </tr>\n",
       "    <tr>\n",
       "      <th>9446260</th>\n",
       "      <td>roberta rascazzo</td>\n",
       "      <td>f</td>\n",
       "    </tr>\n",
       "    <tr>\n",
       "      <th>9446807</th>\n",
       "      <td>j. robert m. cornish</td>\n",
       "      <td>none</td>\n",
       "    </tr>\n",
       "    <tr>\n",
       "      <th>9450320</th>\n",
       "      <td>robert pallbo</td>\n",
       "      <td>none</td>\n",
       "    </tr>\n",
       "    <tr>\n",
       "      <th>9450420</th>\n",
       "      <td>r. b. roberts</td>\n",
       "      <td>m</td>\n",
       "    </tr>\n",
       "    <tr>\n",
       "      <th>9453204</th>\n",
       "      <td>dale robertson</td>\n",
       "      <td>none</td>\n",
       "    </tr>\n",
       "    <tr>\n",
       "      <th>9457494</th>\n",
       "      <td>roberto albanese</td>\n",
       "      <td>m</td>\n",
       "    </tr>\n",
       "    <tr>\n",
       "      <th>9458358</th>\n",
       "      <td>robert hoeppe</td>\n",
       "      <td>none</td>\n",
       "    </tr>\n",
       "    <tr>\n",
       "      <th>9461286</th>\n",
       "      <td>robert f. thomas</td>\n",
       "      <td>none</td>\n",
       "    </tr>\n",
       "    <tr>\n",
       "      <th>9463796</th>\n",
       "      <td>robert unterreiner</td>\n",
       "      <td>none</td>\n",
       "    </tr>\n",
       "    <tr>\n",
       "      <th>9464421</th>\n",
       "      <td>robert glatzl</td>\n",
       "      <td>none</td>\n",
       "    </tr>\n",
       "    <tr>\n",
       "      <th>9465974</th>\n",
       "      <td>robert koo</td>\n",
       "      <td>none</td>\n",
       "    </tr>\n",
       "    <tr>\n",
       "      <th>9469148</th>\n",
       "      <td>roberto espenica</td>\n",
       "      <td>m</td>\n",
       "    </tr>\n",
       "  </tbody>\n",
       "</table>\n",
       "<p>11674 rows × 2 columns</p>\n",
       "</div>"
      ],
      "text/plain": [
       "                           name gender\n",
       "365        robert a. van gorder   none\n",
       "367         edward l. robertson   none\n",
       "377            robert d. austin   none\n",
       "505            roberto tamassia      m\n",
       "520            robert warrender   none\n",
       "555          roberto bortoletto      m\n",
       "796                 robert moss   none\n",
       "1285          robert w. proctor   none\n",
       "1581           robert b. gorbet   none\n",
       "1605                robert chen   none\n",
       "1630            roberto navigli      m\n",
       "1645          robert a. greenes   none\n",
       "1749           robert de simone   none\n",
       "1784             robert buckley   none\n",
       "2326               robert hecht   none\n",
       "2377       robert w. fitzgerald   none\n",
       "2413           roberto armenise      m\n",
       "2571         robert baumgartner   none\n",
       "2625            roberto podestá      m\n",
       "2626          martin g. roberts      m\n",
       "2705        william robertson 1      m\n",
       "2851                robert chun   none\n",
       "3144          robert a. reckhow   none\n",
       "3188        roberto de virgilio      m\n",
       "3214        robert glenn howard   none\n",
       "3497              robert biddle   none\n",
       "3602         robert d. galliers   none\n",
       "3864              robert winter   none\n",
       "3927            robert l. glass   none\n",
       "4054     robert huis in 't veld   none\n",
       "...                         ...    ...\n",
       "9413956             robert marx   none\n",
       "9414174         robert shanklin   none\n",
       "9416188        roberto verzicco      m\n",
       "9420475        robert moszynski   none\n",
       "9426832        roberta palmieri      f\n",
       "9427028           roberto beghi      m\n",
       "9428298     robert h. wilkinson   none\n",
       "9428828         robert f. goeke   none\n",
       "9430093      robert john martin   none\n",
       "9430445     robert van straalen   none\n",
       "9431934           robert olesen   none\n",
       "9434381   roberto graciani diaz      m\n",
       "9434937        robert m. hubley   none\n",
       "9435629    robert t. saltarelli   none\n",
       "9440686           roberto sousa      m\n",
       "9441395          robert m. mark   none\n",
       "9441505            robert tappe   none\n",
       "9441734          robert vangent   none\n",
       "9446260        roberta rascazzo      f\n",
       "9446807    j. robert m. cornish   none\n",
       "9450320           robert pallbo   none\n",
       "9450420           r. b. roberts      m\n",
       "9453204          dale robertson   none\n",
       "9457494        roberto albanese      m\n",
       "9458358           robert hoeppe   none\n",
       "9461286        robert f. thomas   none\n",
       "9463796      robert unterreiner   none\n",
       "9464421           robert glatzl   none\n",
       "9465974              robert koo   none\n",
       "9469148        roberto espenica      m\n",
       "\n",
       "[11674 rows x 2 columns]"
      ]
     },
     "execution_count": 16,
     "metadata": {},
     "output_type": "execute_result"
    }
   ],
   "source": [
    "gender_old[gender_old.name.str.contains(\"robert\")]"
   ]
  },
  {
   "cell_type": "code",
   "execution_count": 17,
   "metadata": {
    "hidden": true
   },
   "outputs": [
    {
     "data": {
      "text/html": [
       "<div>\n",
       "<style scoped>\n",
       "    .dataframe tbody tr th:only-of-type {\n",
       "        vertical-align: middle;\n",
       "    }\n",
       "\n",
       "    .dataframe tbody tr th {\n",
       "        vertical-align: top;\n",
       "    }\n",
       "\n",
       "    .dataframe thead th {\n",
       "        text-align: right;\n",
       "    }\n",
       "</style>\n",
       "<table border=\"1\" class=\"dataframe\">\n",
       "  <thead>\n",
       "    <tr style=\"text-align: right;\">\n",
       "      <th></th>\n",
       "      <th>name</th>\n",
       "      <th>gender</th>\n",
       "    </tr>\n",
       "  </thead>\n",
       "  <tbody>\n",
       "    <tr>\n",
       "      <th>2545</th>\n",
       "      <td>jorge santos 1</td>\n",
       "      <td>m</td>\n",
       "    </tr>\n",
       "    <tr>\n",
       "      <th>70490</th>\n",
       "      <td>ricardo jorge santos</td>\n",
       "      <td>m</td>\n",
       "    </tr>\n",
       "    <tr>\n",
       "      <th>248275</th>\n",
       "      <td>jorge santos</td>\n",
       "      <td>m</td>\n",
       "    </tr>\n",
       "    <tr>\n",
       "      <th>382652</th>\n",
       "      <td>jorge santos 2</td>\n",
       "      <td>m</td>\n",
       "    </tr>\n",
       "    <tr>\n",
       "      <th>1025928</th>\n",
       "      <td>jorge santos 3</td>\n",
       "      <td>m</td>\n",
       "    </tr>\n",
       "    <tr>\n",
       "      <th>1119603</th>\n",
       "      <td>jorge santos 0002</td>\n",
       "      <td>m</td>\n",
       "    </tr>\n",
       "    <tr>\n",
       "      <th>1337773</th>\n",
       "      <td>camillo jorge santos oliveira</td>\n",
       "      <td>m</td>\n",
       "    </tr>\n",
       "    <tr>\n",
       "      <th>1501066</th>\n",
       "      <td>jorge santos simón</td>\n",
       "      <td>m</td>\n",
       "    </tr>\n",
       "    <tr>\n",
       "      <th>1614512</th>\n",
       "      <td>esdras jorge santos barboza</td>\n",
       "      <td>m</td>\n",
       "    </tr>\n",
       "  </tbody>\n",
       "</table>\n",
       "</div>"
      ],
      "text/plain": [
       "                                  name gender\n",
       "2545                    jorge santos 1      m\n",
       "70490             ricardo jorge santos      m\n",
       "248275                    jorge santos      m\n",
       "382652                  jorge santos 2      m\n",
       "1025928                 jorge santos 3      m\n",
       "1119603              jorge santos 0002      m\n",
       "1337773  camillo jorge santos oliveira      m\n",
       "1501066             jorge santos simón      m\n",
       "1614512    esdras jorge santos barboza      m"
      ]
     },
     "execution_count": 17,
     "metadata": {},
     "output_type": "execute_result"
    }
   ],
   "source": [
    "gender[gender.name.str.contains(\"jorge santos\")]"
   ]
  },
  {
   "cell_type": "code",
   "execution_count": 18,
   "metadata": {
    "hidden": true
   },
   "outputs": [],
   "source": [
    "## What is strange is that 'jorge santos 1' goes from none to 'm', but 'jorge santos' goes from 'm' to none"
   ]
  },
  {
   "cell_type": "code",
   "execution_count": 19,
   "metadata": {
    "hidden": true
   },
   "outputs": [
    {
     "data": {
      "text/html": [
       "<div>\n",
       "<style scoped>\n",
       "    .dataframe tbody tr th:only-of-type {\n",
       "        vertical-align: middle;\n",
       "    }\n",
       "\n",
       "    .dataframe tbody tr th {\n",
       "        vertical-align: top;\n",
       "    }\n",
       "\n",
       "    .dataframe thead th {\n",
       "        text-align: right;\n",
       "    }\n",
       "</style>\n",
       "<table border=\"1\" class=\"dataframe\">\n",
       "  <thead>\n",
       "    <tr style=\"text-align: right;\">\n",
       "      <th></th>\n",
       "      <th>name</th>\n",
       "    </tr>\n",
       "    <tr>\n",
       "      <th>gender</th>\n",
       "      <th></th>\n",
       "    </tr>\n",
       "  </thead>\n",
       "  <tbody>\n",
       "    <tr>\n",
       "      <th>f</th>\n",
       "      <td>255793</td>\n",
       "    </tr>\n",
       "    <tr>\n",
       "      <th>m</th>\n",
       "      <td>796975</td>\n",
       "    </tr>\n",
       "    <tr>\n",
       "      <th>none</th>\n",
       "      <td>652151</td>\n",
       "    </tr>\n",
       "  </tbody>\n",
       "</table>\n",
       "</div>"
      ],
      "text/plain": [
       "          name\n",
       "gender        \n",
       "f       255793\n",
       "m       796975\n",
       "none    652151"
      ]
     },
     "execution_count": 19,
     "metadata": {},
     "output_type": "execute_result"
    }
   ],
   "source": [
    "gender.groupby('gender').count()"
   ]
  },
  {
   "cell_type": "code",
   "execution_count": 20,
   "metadata": {
    "hidden": true
   },
   "outputs": [
    {
     "data": {
      "text/html": [
       "<div>\n",
       "<style scoped>\n",
       "    .dataframe tbody tr th:only-of-type {\n",
       "        vertical-align: middle;\n",
       "    }\n",
       "\n",
       "    .dataframe tbody tr th {\n",
       "        vertical-align: top;\n",
       "    }\n",
       "\n",
       "    .dataframe thead th {\n",
       "        text-align: right;\n",
       "    }\n",
       "</style>\n",
       "<table border=\"1\" class=\"dataframe\">\n",
       "  <thead>\n",
       "    <tr style=\"text-align: right;\">\n",
       "      <th></th>\n",
       "      <th>name</th>\n",
       "    </tr>\n",
       "    <tr>\n",
       "      <th>gender</th>\n",
       "      <th></th>\n",
       "    </tr>\n",
       "  </thead>\n",
       "  <tbody>\n",
       "    <tr>\n",
       "      <th>f</th>\n",
       "      <td>255793</td>\n",
       "    </tr>\n",
       "    <tr>\n",
       "      <th>m</th>\n",
       "      <td>796975</td>\n",
       "    </tr>\n",
       "    <tr>\n",
       "      <th>none</th>\n",
       "      <td>652151</td>\n",
       "    </tr>\n",
       "  </tbody>\n",
       "</table>\n",
       "</div>"
      ],
      "text/plain": [
       "          name\n",
       "gender        \n",
       "f       255793\n",
       "m       796975\n",
       "none    652151"
      ]
     },
     "execution_count": 20,
     "metadata": {},
     "output_type": "execute_result"
    }
   ],
   "source": [
    "gender_old.groupby('gender').count()"
   ]
  },
  {
   "cell_type": "code",
   "execution_count": 21,
   "metadata": {
    "hidden": true
   },
   "outputs": [],
   "source": [
    "merged = gender.merge(gender_old, on='name', suffixes=('_new', '_old'))"
   ]
  },
  {
   "cell_type": "code",
   "execution_count": 22,
   "metadata": {
    "hidden": true
   },
   "outputs": [
    {
     "data": {
      "text/html": [
       "<div>\n",
       "<style scoped>\n",
       "    .dataframe tbody tr th:only-of-type {\n",
       "        vertical-align: middle;\n",
       "    }\n",
       "\n",
       "    .dataframe tbody tr th {\n",
       "        vertical-align: top;\n",
       "    }\n",
       "\n",
       "    .dataframe thead th {\n",
       "        text-align: right;\n",
       "    }\n",
       "</style>\n",
       "<table border=\"1\" class=\"dataframe\">\n",
       "  <thead>\n",
       "    <tr style=\"text-align: right;\">\n",
       "      <th></th>\n",
       "      <th>name</th>\n",
       "      <th>gender_new</th>\n",
       "      <th>gender_old</th>\n",
       "    </tr>\n",
       "  </thead>\n",
       "  <tbody>\n",
       "    <tr>\n",
       "      <th>0</th>\n",
       "      <td>gareth beale</td>\n",
       "      <td>m</td>\n",
       "      <td>m</td>\n",
       "    </tr>\n",
       "    <tr>\n",
       "      <th>1</th>\n",
       "      <td>graeme earl</td>\n",
       "      <td>m</td>\n",
       "      <td>m</td>\n",
       "    </tr>\n",
       "    <tr>\n",
       "      <th>2</th>\n",
       "      <td>altaf hossain</td>\n",
       "      <td>m</td>\n",
       "      <td>m</td>\n",
       "    </tr>\n",
       "    <tr>\n",
       "      <th>3</th>\n",
       "      <td>faisal zaman</td>\n",
       "      <td>m</td>\n",
       "      <td>m</td>\n",
       "    </tr>\n",
       "    <tr>\n",
       "      <th>4</th>\n",
       "      <td>m. nasser</td>\n",
       "      <td>none</td>\n",
       "      <td>none</td>\n",
       "    </tr>\n",
       "  </tbody>\n",
       "</table>\n",
       "</div>"
      ],
      "text/plain": [
       "            name gender_new gender_old\n",
       "0   gareth beale          m          m\n",
       "1    graeme earl          m          m\n",
       "2  altaf hossain          m          m\n",
       "3   faisal zaman          m          m\n",
       "4      m. nasser       none       none"
      ]
     },
     "execution_count": 22,
     "metadata": {},
     "output_type": "execute_result"
    }
   ],
   "source": [
    "merged.head()"
   ]
  },
  {
   "cell_type": "code",
   "execution_count": 23,
   "metadata": {
    "hidden": true
   },
   "outputs": [
    {
     "name": "stdout",
     "output_type": "stream",
     "text": [
      "Empty DataFrame\n",
      "Columns: [name, gender_new, gender_old]\n",
      "Index: []\n",
      "(0, 3)\n"
     ]
    }
   ],
   "source": [
    "# Cases where we lose the gender by using new file ./data/name_gender_2017_asiansAsNone_nodup.txt\n",
    "print(merged[(merged.gender_new != merged.gender_old) & (merged.gender_new!='none')])\n",
    "print(merged[(merged.gender_new != merged.gender_old) & (merged.gender_new!='none')].shape)"
   ]
  },
  {
   "cell_type": "code",
   "execution_count": 24,
   "metadata": {
    "hidden": true
   },
   "outputs": [
    {
     "data": {
      "text/html": [
       "<div>\n",
       "<style scoped>\n",
       "    .dataframe tbody tr th:only-of-type {\n",
       "        vertical-align: middle;\n",
       "    }\n",
       "\n",
       "    .dataframe tbody tr th {\n",
       "        vertical-align: top;\n",
       "    }\n",
       "\n",
       "    .dataframe thead th {\n",
       "        text-align: right;\n",
       "    }\n",
       "</style>\n",
       "<table border=\"1\" class=\"dataframe\">\n",
       "  <thead>\n",
       "    <tr style=\"text-align: right;\">\n",
       "      <th></th>\n",
       "      <th>name</th>\n",
       "      <th>gender</th>\n",
       "    </tr>\n",
       "  </thead>\n",
       "  <tbody>\n",
       "    <tr>\n",
       "      <th>151887</th>\n",
       "      <td>michael r. smith 2</td>\n",
       "      <td>m</td>\n",
       "    </tr>\n",
       "    <tr>\n",
       "      <th>167781</th>\n",
       "      <td>michael r. smith 1</td>\n",
       "      <td>m</td>\n",
       "    </tr>\n",
       "    <tr>\n",
       "      <th>1344286</th>\n",
       "      <td>michael r. smith 0001</td>\n",
       "      <td>m</td>\n",
       "    </tr>\n",
       "    <tr>\n",
       "      <th>1627074</th>\n",
       "      <td>michael r. smith</td>\n",
       "      <td>m</td>\n",
       "    </tr>\n",
       "  </tbody>\n",
       "</table>\n",
       "</div>"
      ],
      "text/plain": [
       "                          name gender\n",
       "151887      michael r. smith 2      m\n",
       "167781      michael r. smith 1      m\n",
       "1344286  michael r. smith 0001      m\n",
       "1627074       michael r. smith      m"
      ]
     },
     "execution_count": 24,
     "metadata": {},
     "output_type": "execute_result"
    }
   ],
   "source": [
    "gender[gender.name.str.contains('michael r. smith')]"
   ]
  },
  {
   "cell_type": "markdown",
   "metadata": {
    "hidden": true
   },
   "source": [
    "#### Analyze people that have digits in their names"
   ]
  },
  {
   "cell_type": "code",
   "execution_count": 25,
   "metadata": {
    "hidden": true
   },
   "outputs": [],
   "source": [
    "digits = gender[gender.name.str.contains('\\d')]"
   ]
  },
  {
   "cell_type": "code",
   "execution_count": 26,
   "metadata": {
    "hidden": true
   },
   "outputs": [
    {
     "data": {
      "text/plain": [
       "<matplotlib.axes._subplots.AxesSubplot at 0x7f337dbfa668>"
      ]
     },
     "execution_count": 26,
     "metadata": {},
     "output_type": "execute_result"
    },
    {
     "data": {
      "image/png": "[encoded data removed]",
      "text/plain": [
       "<matplotlib.figure.Figure at 0x7f337dbfac88>"
      ]
     },
     "metadata": {},
     "output_type": "display_data"
    }
   ],
   "source": [
    "digits.gender.value_counts().plot(kind='bar')"
   ]
  },
  {
   "cell_type": "code",
   "execution_count": 46,
   "metadata": {
    "hidden": true
   },
   "outputs": [],
   "source": [
    "authors_digits = credible_authors.reset_index().merge(digits, left_on='author', right_on='name')"
   ]
  },
  {
   "cell_type": "code",
   "execution_count": 47,
   "metadata": {
    "hidden": true
   },
   "outputs": [],
   "source": [
    "digiAuthorPublicationData = authorPublicationData.merge(authors_digits, how=\"inner\", on=[\"author\"])"
   ]
  },
  {
   "cell_type": "code",
   "execution_count": 48,
   "metadata": {
    "hidden": true
   },
   "outputs": [
    {
     "data": {
      "text/plain": [
       "(5880, 14)"
      ]
     },
     "execution_count": 48,
     "metadata": {},
     "output_type": "execute_result"
    }
   ],
   "source": [
    "authors_digits.shape"
   ]
  },
  {
   "cell_type": "code",
   "execution_count": 49,
   "metadata": {
    "hidden": true
   },
   "outputs": [
    {
     "name": "stdout",
     "output_type": "stream",
     "text": [
      "Percentage of authors with numbers in names:  1.1669931468922854\n",
      "Percentage of publications:  2.0680998909247443\n",
      "Percentage of citations:  2.5078878280468806\n"
     ]
    }
   ],
   "source": [
    "print(\"Percentage of authors with numbers in names: \", authors_digits.shape[0]*100/credible_authors.shape[0])\n",
    "print(\"Percentage of publications: \", authors_digits.num_pub.sum()*100/credible_authors.num_pub.sum())\n",
    "print(\"Percentage of citations: \", authors_digits.final_citation_count.sum()*100/credible_authors.final_citation_count.sum())"
   ]
  },
  {
   "cell_type": "code",
   "execution_count": 50,
   "metadata": {
    "hidden": true
   },
   "outputs": [
    {
     "data": {
      "text/plain": [
       "<matplotlib.axes._subplots.AxesSubplot at 0x7f3331577710>"
      ]
     },
     "execution_count": 50,
     "metadata": {},
     "output_type": "execute_result"
    },
    {
     "data": {
      "image/png": "[encoded data removed]",
      "text/plain": [
       "<matplotlib.figure.Figure at 0x7f3380e7f7f0>"
      ]
     },
     "metadata": {},
     "output_type": "display_data"
    }
   ],
   "source": [
    "authors_digits.early_career_prod.value_counts().reset_index().plot(kind='scatter', x='index', y='early_career_prod')"
   ]
  },
  {
   "cell_type": "code",
   "execution_count": 51,
   "metadata": {
    "hidden": true
   },
   "outputs": [
    {
     "data": {
      "text/plain": [
       "<matplotlib.axes._subplots.AxesSubplot at 0x7f333155cb38>"
      ]
     },
     "execution_count": 51,
     "metadata": {},
     "output_type": "execute_result"
    },
    {
     "data": {
      "image/png": "[encoded data removed]",
      "text/plain": [
       "<matplotlib.figure.Figure at 0x7f3331b2aba8>"
      ]
     },
     "metadata": {},
     "output_type": "display_data"
    }
   ],
   "source": [
    "authors_digits.start_year.value_counts().sort_index().plot(kind='bar')"
   ]
  },
  {
   "cell_type": "code",
   "execution_count": 52,
   "metadata": {
    "hidden": true
   },
   "outputs": [
    {
     "data": {
      "text/plain": [
       "<matplotlib.axes._subplots.AxesSubplot at 0x7f33314fe240>"
      ]
     },
     "execution_count": 52,
     "metadata": {},
     "output_type": "execute_result"
    },
    {
     "data": {
      "image/png": "[encoded data removed]",
      "text/plain": [
       "<matplotlib.figure.Figure at 0x7f333148c710>"
      ]
     },
     "metadata": {},
     "output_type": "display_data"
    }
   ],
   "source": [
    "authors_digits.num_pub.value_counts().reset_index().plot(kind='scatter', x='index', y='num_pub')"
   ]
  },
  {
   "cell_type": "code",
   "execution_count": 53,
   "metadata": {
    "hidden": true
   },
   "outputs": [],
   "source": [
    "authors_digits['pub_per_year'] = authors_digits.num_pub / authors_digits.career_length"
   ]
  },
  {
   "cell_type": "code",
   "execution_count": 54,
   "metadata": {
    "hidden": true
   },
   "outputs": [
    {
     "data": {
      "image/png": "[encoded data removed]",
      "text/plain": [
       "<matplotlib.figure.Figure at 0x7f33820387f0>"
      ]
     },
     "metadata": {},
     "output_type": "display_data"
    }
   ],
   "source": [
    "plt.plot(sorted(authors_digits['pub_per_year']))\n",
    "plt.show()"
   ]
  },
  {
   "cell_type": "code",
   "execution_count": 55,
   "metadata": {
    "hidden": true
   },
   "outputs": [
    {
     "data": {
      "text/html": [
       "<div>\n",
       "<style scoped>\n",
       "    .dataframe tbody tr th:only-of-type {\n",
       "        vertical-align: middle;\n",
       "    }\n",
       "\n",
       "    .dataframe tbody tr th {\n",
       "        vertical-align: top;\n",
       "    }\n",
       "\n",
       "    .dataframe thead th {\n",
       "        text-align: right;\n",
       "    }\n",
       "</style>\n",
       "<table border=\"1\" class=\"dataframe\">\n",
       "  <thead>\n",
       "    <tr style=\"text-align: right;\">\n",
       "      <th></th>\n",
       "      <th>index</th>\n",
       "      <th>author</th>\n",
       "      <th>start_year</th>\n",
       "      <th>end_year</th>\n",
       "      <th>num_pub</th>\n",
       "      <th>career_length</th>\n",
       "      <th>early_career_qual</th>\n",
       "      <th>early_career_prod</th>\n",
       "      <th>early_career_pubs</th>\n",
       "      <th>early_career_rec</th>\n",
       "      <th>gender_x</th>\n",
       "      <th>final_citation_count</th>\n",
       "      <th>name</th>\n",
       "      <th>gender_y</th>\n",
       "      <th>pub_per_year</th>\n",
       "    </tr>\n",
       "  </thead>\n",
       "  <tbody>\n",
       "    <tr>\n",
       "      <th>58</th>\n",
       "      <td>11294</td>\n",
       "      <td>albrecht schmidt 1</td>\n",
       "      <td>1998</td>\n",
       "      <td>2017</td>\n",
       "      <td>339</td>\n",
       "      <td>20</td>\n",
       "      <td>127.0</td>\n",
       "      <td>16</td>\n",
       "      <td>['c787697c-355a-4165-b6a2-6e4a6268bbfa', '0b20...</td>\n",
       "      <td>0</td>\n",
       "      <td>m</td>\n",
       "      <td>5287.0</td>\n",
       "      <td>albrecht schmidt 1</td>\n",
       "      <td>m</td>\n",
       "      <td>16.950000</td>\n",
       "    </tr>\n",
       "    <tr>\n",
       "      <th>225</th>\n",
       "      <td>28811</td>\n",
       "      <td>anil k. jain 1</td>\n",
       "      <td>1976</td>\n",
       "      <td>2017</td>\n",
       "      <td>425</td>\n",
       "      <td>42</td>\n",
       "      <td>13.0</td>\n",
       "      <td>3</td>\n",
       "      <td>['cfea5778-a9a5-464c-b7d4-f7d54eb26966', '575c...</td>\n",
       "      <td>0</td>\n",
       "      <td>m</td>\n",
       "      <td>26756.0</td>\n",
       "      <td>anil k. jain 1</td>\n",
       "      <td>m</td>\n",
       "      <td>10.119048</td>\n",
       "    </tr>\n",
       "    <tr>\n",
       "      <th>335</th>\n",
       "      <td>47114</td>\n",
       "      <td>bernd becker 1</td>\n",
       "      <td>1983</td>\n",
       "      <td>2017</td>\n",
       "      <td>352</td>\n",
       "      <td>35</td>\n",
       "      <td>0.0</td>\n",
       "      <td>2</td>\n",
       "      <td>['bf4a1dca-9b6c-4d01-a7da-918a82202f66', '153e...</td>\n",
       "      <td>0</td>\n",
       "      <td>m</td>\n",
       "      <td>2602.0</td>\n",
       "      <td>bernd becker 1</td>\n",
       "      <td>m</td>\n",
       "      <td>10.057143</td>\n",
       "    </tr>\n",
       "    <tr>\n",
       "      <th>361</th>\n",
       "      <td>49105</td>\n",
       "      <td>bin liu 1</td>\n",
       "      <td>2003</td>\n",
       "      <td>2017</td>\n",
       "      <td>155</td>\n",
       "      <td>15</td>\n",
       "      <td>44.0</td>\n",
       "      <td>23</td>\n",
       "      <td>['fd43d50a-18b3-49bd-bc0b-ea7c79d80c87', '1421...</td>\n",
       "      <td>0</td>\n",
       "      <td>none</td>\n",
       "      <td>1240.0</td>\n",
       "      <td>bin liu 1</td>\n",
       "      <td>none</td>\n",
       "      <td>10.333333</td>\n",
       "    </tr>\n",
       "    <tr>\n",
       "      <th>572</th>\n",
       "      <td>63431</td>\n",
       "      <td>chao wang 3</td>\n",
       "      <td>2011</td>\n",
       "      <td>2017</td>\n",
       "      <td>76</td>\n",
       "      <td>7</td>\n",
       "      <td>101.0</td>\n",
       "      <td>38</td>\n",
       "      <td>['27007e84-aa7e-48aa-813a-d77112f0ddc4', '48f4...</td>\n",
       "      <td>0</td>\n",
       "      <td>none</td>\n",
       "      <td>179.0</td>\n",
       "      <td>chao wang 3</td>\n",
       "      <td>none</td>\n",
       "      <td>10.857143</td>\n",
       "    </tr>\n",
       "    <tr>\n",
       "      <th>623</th>\n",
       "      <td>65663</td>\n",
       "      <td>cheng wang 3</td>\n",
       "      <td>2013</td>\n",
       "      <td>2017</td>\n",
       "      <td>58</td>\n",
       "      <td>5</td>\n",
       "      <td>105.0</td>\n",
       "      <td>34</td>\n",
       "      <td>['8e27763e-c3f2-4361-8017-9bb186c6627f', '995f...</td>\n",
       "      <td>0</td>\n",
       "      <td>none</td>\n",
       "      <td>123.0</td>\n",
       "      <td>cheng wang 3</td>\n",
       "      <td>none</td>\n",
       "      <td>11.600000</td>\n",
       "    </tr>\n",
       "    <tr>\n",
       "      <th>946</th>\n",
       "      <td>95651</td>\n",
       "      <td>david zhang 1</td>\n",
       "      <td>1994</td>\n",
       "      <td>2017</td>\n",
       "      <td>481</td>\n",
       "      <td>24</td>\n",
       "      <td>0.0</td>\n",
       "      <td>6</td>\n",
       "      <td>['cec2f304-ca4a-4918-8013-8d4fcffbc1e4', '0bf0...</td>\n",
       "      <td>0</td>\n",
       "      <td>none</td>\n",
       "      <td>11643.0</td>\n",
       "      <td>david zhang 1</td>\n",
       "      <td>none</td>\n",
       "      <td>20.041667</td>\n",
       "    </tr>\n",
       "    <tr>\n",
       "      <th>1115</th>\n",
       "      <td>125090</td>\n",
       "      <td>fei wang 1</td>\n",
       "      <td>2004</td>\n",
       "      <td>2017</td>\n",
       "      <td>159</td>\n",
       "      <td>14</td>\n",
       "      <td>55.0</td>\n",
       "      <td>11</td>\n",
       "      <td>['08d97df5-1941-40ce-95db-1307b2dba1ba', 'c768...</td>\n",
       "      <td>0</td>\n",
       "      <td>none</td>\n",
       "      <td>2508.0</td>\n",
       "      <td>fei wang 1</td>\n",
       "      <td>none</td>\n",
       "      <td>11.357143</td>\n",
       "    </tr>\n",
       "    <tr>\n",
       "      <th>1479</th>\n",
       "      <td>158505</td>\n",
       "      <td>haris aziz 1</td>\n",
       "      <td>2008</td>\n",
       "      <td>2017</td>\n",
       "      <td>104</td>\n",
       "      <td>10</td>\n",
       "      <td>206.0</td>\n",
       "      <td>11</td>\n",
       "      <td>['610af8c4-5b88-41a1-ae2c-bb63ef255b46', '5966...</td>\n",
       "      <td>0</td>\n",
       "      <td>m</td>\n",
       "      <td>963.0</td>\n",
       "      <td>haris aziz 1</td>\n",
       "      <td>m</td>\n",
       "      <td>10.400000</td>\n",
       "    </tr>\n",
       "    <tr>\n",
       "      <th>1593</th>\n",
       "      <td>172058</td>\n",
       "      <td>hui li 6</td>\n",
       "      <td>2007</td>\n",
       "      <td>2017</td>\n",
       "      <td>179</td>\n",
       "      <td>11</td>\n",
       "      <td>4.0</td>\n",
       "      <td>9</td>\n",
       "      <td>['b11fd7c5-a39f-440a-9c7d-f27ccf629fe2', '3993...</td>\n",
       "      <td>0</td>\n",
       "      <td>none</td>\n",
       "      <td>1038.0</td>\n",
       "      <td>hui li 6</td>\n",
       "      <td>none</td>\n",
       "      <td>16.272727</td>\n",
       "    </tr>\n",
       "    <tr>\n",
       "      <th>1712</th>\n",
       "      <td>190298</td>\n",
       "      <td>jan peters 1</td>\n",
       "      <td>2002</td>\n",
       "      <td>2017</td>\n",
       "      <td>219</td>\n",
       "      <td>16</td>\n",
       "      <td>1.0</td>\n",
       "      <td>1</td>\n",
       "      <td>['4e663f0b-03b0-4fa6-bb9d-cf6746991aa5']</td>\n",
       "      <td>0</td>\n",
       "      <td>m</td>\n",
       "      <td>2918.0</td>\n",
       "      <td>jan peters 1</td>\n",
       "      <td>m</td>\n",
       "      <td>13.687500</td>\n",
       "    </tr>\n",
       "    <tr>\n",
       "      <th>1801</th>\n",
       "      <td>201192</td>\n",
       "      <td>jian yang 3</td>\n",
       "      <td>2002</td>\n",
       "      <td>2017</td>\n",
       "      <td>206</td>\n",
       "      <td>16</td>\n",
       "      <td>158.0</td>\n",
       "      <td>10</td>\n",
       "      <td>['2bc7ae77-8fa3-4443-b471-6ead613fb776', '004b...</td>\n",
       "      <td>0</td>\n",
       "      <td>none</td>\n",
       "      <td>3737.0</td>\n",
       "      <td>jian yang 3</td>\n",
       "      <td>none</td>\n",
       "      <td>12.875000</td>\n",
       "    </tr>\n",
       "    <tr>\n",
       "      <th>1840</th>\n",
       "      <td>202376</td>\n",
       "      <td>jianmin wang 1</td>\n",
       "      <td>2000</td>\n",
       "      <td>2017</td>\n",
       "      <td>203</td>\n",
       "      <td>18</td>\n",
       "      <td>1.0</td>\n",
       "      <td>2</td>\n",
       "      <td>['bef88fbc-7bcf-428c-9ccb-3204b07c6f2a', 'b439...</td>\n",
       "      <td>0</td>\n",
       "      <td>none</td>\n",
       "      <td>1615.0</td>\n",
       "      <td>jianmin wang 1</td>\n",
       "      <td>none</td>\n",
       "      <td>11.277778</td>\n",
       "    </tr>\n",
       "    <tr>\n",
       "      <th>1851</th>\n",
       "      <td>202721</td>\n",
       "      <td>jianwei zhang 1</td>\n",
       "      <td>1994</td>\n",
       "      <td>2016</td>\n",
       "      <td>246</td>\n",
       "      <td>23</td>\n",
       "      <td>4.0</td>\n",
       "      <td>3</td>\n",
       "      <td>['78ea20c4-4c65-4b8b-af0b-713c231cfbd9', '5411...</td>\n",
       "      <td>0</td>\n",
       "      <td>none</td>\n",
       "      <td>744.0</td>\n",
       "      <td>jianwei zhang 1</td>\n",
       "      <td>none</td>\n",
       "      <td>10.695652</td>\n",
       "    </tr>\n",
       "    <tr>\n",
       "      <th>1861</th>\n",
       "      <td>203174</td>\n",
       "      <td>jiawei han 1</td>\n",
       "      <td>1986</td>\n",
       "      <td>2017</td>\n",
       "      <td>729</td>\n",
       "      <td>32</td>\n",
       "      <td>43.0</td>\n",
       "      <td>7</td>\n",
       "      <td>['474b7796-f1ee-4445-8c6d-b95425d7862d', '9486...</td>\n",
       "      <td>0</td>\n",
       "      <td>none</td>\n",
       "      <td>32501.0</td>\n",
       "      <td>jiawei han 1</td>\n",
       "      <td>none</td>\n",
       "      <td>22.781250</td>\n",
       "    </tr>\n",
       "    <tr>\n",
       "      <th>1918</th>\n",
       "      <td>203596</td>\n",
       "      <td>jie wu 1</td>\n",
       "      <td>1989</td>\n",
       "      <td>2017</td>\n",
       "      <td>649</td>\n",
       "      <td>29</td>\n",
       "      <td>1.0</td>\n",
       "      <td>2</td>\n",
       "      <td>['2c01dac7-427e-421a-8b49-9e857fa9456e', 'ab3f...</td>\n",
       "      <td>0</td>\n",
       "      <td>none</td>\n",
       "      <td>9289.0</td>\n",
       "      <td>jie wu 1</td>\n",
       "      <td>none</td>\n",
       "      <td>22.379310</td>\n",
       "    </tr>\n",
       "    <tr>\n",
       "      <th>1932</th>\n",
       "      <td>203623</td>\n",
       "      <td>jie yang 2</td>\n",
       "      <td>1996</td>\n",
       "      <td>2017</td>\n",
       "      <td>273</td>\n",
       "      <td>22</td>\n",
       "      <td>0.0</td>\n",
       "      <td>1</td>\n",
       "      <td>['e4c5c7b7-baf3-425a-b70e-da530828f986']</td>\n",
       "      <td>0</td>\n",
       "      <td>none</td>\n",
       "      <td>1307.0</td>\n",
       "      <td>jie yang 2</td>\n",
       "      <td>none</td>\n",
       "      <td>12.409091</td>\n",
       "    </tr>\n",
       "    <tr>\n",
       "      <th>2308</th>\n",
       "      <td>225929</td>\n",
       "      <td>jun zhang 3</td>\n",
       "      <td>2001</td>\n",
       "      <td>2017</td>\n",
       "      <td>174</td>\n",
       "      <td>17</td>\n",
       "      <td>2.0</td>\n",
       "      <td>2</td>\n",
       "      <td>['9d71b781-4a2f-41a3-a6f8-34533f6a5ace', 'a518...</td>\n",
       "      <td>0</td>\n",
       "      <td>none</td>\n",
       "      <td>1563.0</td>\n",
       "      <td>jun zhang 3</td>\n",
       "      <td>none</td>\n",
       "      <td>10.235294</td>\n",
       "    </tr>\n",
       "    <tr>\n",
       "      <th>2414</th>\n",
       "      <td>235909</td>\n",
       "      <td>kaushik roy 1</td>\n",
       "      <td>1988</td>\n",
       "      <td>2017</td>\n",
       "      <td>563</td>\n",
       "      <td>30</td>\n",
       "      <td>46.0</td>\n",
       "      <td>5</td>\n",
       "      <td>['8aba2777-88e5-4374-8b5b-7c8377504951', '6dfb...</td>\n",
       "      <td>0</td>\n",
       "      <td>m</td>\n",
       "      <td>7605.0</td>\n",
       "      <td>kaushik roy 1</td>\n",
       "      <td>m</td>\n",
       "      <td>18.766667</td>\n",
       "    </tr>\n",
       "    <tr>\n",
       "      <th>2473</th>\n",
       "      <td>247770</td>\n",
       "      <td>kui ren 1</td>\n",
       "      <td>2004</td>\n",
       "      <td>2017</td>\n",
       "      <td>181</td>\n",
       "      <td>14</td>\n",
       "      <td>34.0</td>\n",
       "      <td>5</td>\n",
       "      <td>['12534c66-7f05-490a-9e62-cae321f4dff6', 'e1ee...</td>\n",
       "      <td>0</td>\n",
       "      <td>none</td>\n",
       "      <td>4572.0</td>\n",
       "      <td>kui ren 1</td>\n",
       "      <td>none</td>\n",
       "      <td>12.928571</td>\n",
       "    </tr>\n",
       "    <tr>\n",
       "      <th>2504</th>\n",
       "      <td>254316</td>\n",
       "      <td>lei chen 2</td>\n",
       "      <td>2002</td>\n",
       "      <td>2017</td>\n",
       "      <td>307</td>\n",
       "      <td>16</td>\n",
       "      <td>42.0</td>\n",
       "      <td>9</td>\n",
       "      <td>['10908d72-caea-4e22-9093-5a547a9167a7', '5d91...</td>\n",
       "      <td>0</td>\n",
       "      <td>none</td>\n",
       "      <td>4381.0</td>\n",
       "      <td>lei chen 2</td>\n",
       "      <td>none</td>\n",
       "      <td>19.187500</td>\n",
       "    </tr>\n",
       "    <tr>\n",
       "      <th>2514</th>\n",
       "      <td>254348</td>\n",
       "      <td>lei guo 2</td>\n",
       "      <td>2001</td>\n",
       "      <td>2017</td>\n",
       "      <td>172</td>\n",
       "      <td>17</td>\n",
       "      <td>6.0</td>\n",
       "      <td>7</td>\n",
       "      <td>['f266df70-2481-4a10-94c9-98e7ff5e59c2', 'db9e...</td>\n",
       "      <td>0</td>\n",
       "      <td>none</td>\n",
       "      <td>981.0</td>\n",
       "      <td>lei guo 2</td>\n",
       "      <td>none</td>\n",
       "      <td>10.117647</td>\n",
       "    </tr>\n",
       "    <tr>\n",
       "      <th>2533</th>\n",
       "      <td>254436</td>\n",
       "      <td>lei shu 1</td>\n",
       "      <td>2007</td>\n",
       "      <td>2017</td>\n",
       "      <td>187</td>\n",
       "      <td>11</td>\n",
       "      <td>187.0</td>\n",
       "      <td>18</td>\n",
       "      <td>['a50b9849-6454-4fe4-98f7-b6c036faaafc', '7dbd...</td>\n",
       "      <td>0</td>\n",
       "      <td>none</td>\n",
       "      <td>1427.0</td>\n",
       "      <td>lei shu 1</td>\n",
       "      <td>none</td>\n",
       "      <td>17.000000</td>\n",
       "    </tr>\n",
       "    <tr>\n",
       "      <th>2591</th>\n",
       "      <td>254534</td>\n",
       "      <td>lei zhang 1</td>\n",
       "      <td>2001</td>\n",
       "      <td>2016</td>\n",
       "      <td>169</td>\n",
       "      <td>16</td>\n",
       "      <td>58.0</td>\n",
       "      <td>11</td>\n",
       "      <td>['d43e77cb-62fa-4532-9a8f-f2274a8a4666', 'e0da...</td>\n",
       "      <td>0</td>\n",
       "      <td>none</td>\n",
       "      <td>3653.0</td>\n",
       "      <td>lei zhang 1</td>\n",
       "      <td>none</td>\n",
       "      <td>10.562500</td>\n",
       "    </tr>\n",
       "    <tr>\n",
       "      <th>2616</th>\n",
       "      <td>254559</td>\n",
       "      <td>lei zhang 6</td>\n",
       "      <td>2002</td>\n",
       "      <td>2017</td>\n",
       "      <td>266</td>\n",
       "      <td>16</td>\n",
       "      <td>38.0</td>\n",
       "      <td>11</td>\n",
       "      <td>['818ba208-8ab6-490b-9539-01bdc6023b7e', 'c208...</td>\n",
       "      <td>0</td>\n",
       "      <td>none</td>\n",
       "      <td>9435.0</td>\n",
       "      <td>lei zhang 6</td>\n",
       "      <td>none</td>\n",
       "      <td>16.625000</td>\n",
       "    </tr>\n",
       "    <tr>\n",
       "      <th>2632</th>\n",
       "      <td>256450</td>\n",
       "      <td>li guo 1</td>\n",
       "      <td>2005</td>\n",
       "      <td>2016</td>\n",
       "      <td>151</td>\n",
       "      <td>12</td>\n",
       "      <td>28.0</td>\n",
       "      <td>14</td>\n",
       "      <td>['87375897-0ce2-45e3-b413-cde4ff73709a', '50b4...</td>\n",
       "      <td>0</td>\n",
       "      <td>none</td>\n",
       "      <td>1090.0</td>\n",
       "      <td>li guo 1</td>\n",
       "      <td>none</td>\n",
       "      <td>12.583333</td>\n",
       "    </tr>\n",
       "    <tr>\n",
       "      <th>2752</th>\n",
       "      <td>258780</td>\n",
       "      <td>lin cai 1</td>\n",
       "      <td>2003</td>\n",
       "      <td>2017</td>\n",
       "      <td>198</td>\n",
       "      <td>15</td>\n",
       "      <td>49.0</td>\n",
       "      <td>9</td>\n",
       "      <td>['1e47e629-45b3-405a-a1bb-a2e8ca086adb', '3f6e...</td>\n",
       "      <td>0</td>\n",
       "      <td>none</td>\n",
       "      <td>1785.0</td>\n",
       "      <td>lin cai 1</td>\n",
       "      <td>none</td>\n",
       "      <td>13.200000</td>\n",
       "    </tr>\n",
       "    <tr>\n",
       "      <th>2805</th>\n",
       "      <td>259503</td>\n",
       "      <td>ling liu 1</td>\n",
       "      <td>1995</td>\n",
       "      <td>2017</td>\n",
       "      <td>267</td>\n",
       "      <td>23</td>\n",
       "      <td>37.0</td>\n",
       "      <td>10</td>\n",
       "      <td>['6da10228-2919-480d-97cd-0d7f07fab94b', 'ea2b...</td>\n",
       "      <td>0</td>\n",
       "      <td>none</td>\n",
       "      <td>5251.0</td>\n",
       "      <td>ling liu 1</td>\n",
       "      <td>none</td>\n",
       "      <td>11.608696</td>\n",
       "    </tr>\n",
       "    <tr>\n",
       "      <th>2819</th>\n",
       "      <td>260904</td>\n",
       "      <td>liuqing yang 1</td>\n",
       "      <td>2002</td>\n",
       "      <td>2017</td>\n",
       "      <td>184</td>\n",
       "      <td>16</td>\n",
       "      <td>119.0</td>\n",
       "      <td>10</td>\n",
       "      <td>['be4bbee8-06b6-4e34-8763-c748a76149b2', 'fc7f...</td>\n",
       "      <td>0</td>\n",
       "      <td>none</td>\n",
       "      <td>1540.0</td>\n",
       "      <td>liuqing yang 1</td>\n",
       "      <td>none</td>\n",
       "      <td>11.500000</td>\n",
       "    </tr>\n",
       "    <tr>\n",
       "      <th>2835</th>\n",
       "      <td>261764</td>\n",
       "      <td>long wang 1</td>\n",
       "      <td>2000</td>\n",
       "      <td>2017</td>\n",
       "      <td>209</td>\n",
       "      <td>18</td>\n",
       "      <td>0.0</td>\n",
       "      <td>1</td>\n",
       "      <td>['70547e27-ec3b-4543-8fc4-951adaa79c44']</td>\n",
       "      <td>0</td>\n",
       "      <td>none</td>\n",
       "      <td>1892.0</td>\n",
       "      <td>long wang 1</td>\n",
       "      <td>none</td>\n",
       "      <td>11.611111</td>\n",
       "    </tr>\n",
       "    <tr>\n",
       "      <th>...</th>\n",
       "      <td>...</td>\n",
       "      <td>...</td>\n",
       "      <td>...</td>\n",
       "      <td>...</td>\n",
       "      <td>...</td>\n",
       "      <td>...</td>\n",
       "      <td>...</td>\n",
       "      <td>...</td>\n",
       "      <td>...</td>\n",
       "      <td>...</td>\n",
       "      <td>...</td>\n",
       "      <td>...</td>\n",
       "      <td>...</td>\n",
       "      <td>...</td>\n",
       "      <td>...</td>\n",
       "    </tr>\n",
       "    <tr>\n",
       "      <th>3740</th>\n",
       "      <td>352732</td>\n",
       "      <td>ping zhang 3</td>\n",
       "      <td>2002</td>\n",
       "      <td>2016</td>\n",
       "      <td>248</td>\n",
       "      <td>15</td>\n",
       "      <td>12.0</td>\n",
       "      <td>12</td>\n",
       "      <td>['4b6234ed-04d2-44e2-a582-466470065334', '732c...</td>\n",
       "      <td>0</td>\n",
       "      <td>none</td>\n",
       "      <td>826.0</td>\n",
       "      <td>ping zhang 3</td>\n",
       "      <td>none</td>\n",
       "      <td>16.533333</td>\n",
       "    </tr>\n",
       "    <tr>\n",
       "      <th>3770</th>\n",
       "      <td>356018</td>\n",
       "      <td>qian zhang 1</td>\n",
       "      <td>2000</td>\n",
       "      <td>2017</td>\n",
       "      <td>287</td>\n",
       "      <td>18</td>\n",
       "      <td>140.0</td>\n",
       "      <td>27</td>\n",
       "      <td>['06188486-c8ed-4db6-9820-c76bf590b650', 'ab35...</td>\n",
       "      <td>0</td>\n",
       "      <td>none</td>\n",
       "      <td>4713.0</td>\n",
       "      <td>qian zhang 1</td>\n",
       "      <td>none</td>\n",
       "      <td>15.944444</td>\n",
       "    </tr>\n",
       "    <tr>\n",
       "      <th>3790</th>\n",
       "      <td>356157</td>\n",
       "      <td>qiang yang 1</td>\n",
       "      <td>1989</td>\n",
       "      <td>2017</td>\n",
       "      <td>389</td>\n",
       "      <td>29</td>\n",
       "      <td>15.0</td>\n",
       "      <td>6</td>\n",
       "      <td>['a20999f9-9afd-4851-9e46-fb9de1ad90ab', 'aaff...</td>\n",
       "      <td>0</td>\n",
       "      <td>none</td>\n",
       "      <td>12666.0</td>\n",
       "      <td>qiang yang 1</td>\n",
       "      <td>none</td>\n",
       "      <td>13.413793</td>\n",
       "    </tr>\n",
       "    <tr>\n",
       "      <th>4002</th>\n",
       "      <td>381276</td>\n",
       "      <td>rui zhang 6</td>\n",
       "      <td>2000</td>\n",
       "      <td>2017</td>\n",
       "      <td>247</td>\n",
       "      <td>18</td>\n",
       "      <td>4.0</td>\n",
       "      <td>2</td>\n",
       "      <td>['8a487893-cbfc-4812-8d8a-2f26495523a5', '447b...</td>\n",
       "      <td>0</td>\n",
       "      <td>none</td>\n",
       "      <td>8539.0</td>\n",
       "      <td>rui zhang 6</td>\n",
       "      <td>none</td>\n",
       "      <td>13.722222</td>\n",
       "    </tr>\n",
       "    <tr>\n",
       "      <th>4059</th>\n",
       "      <td>392364</td>\n",
       "      <td>satoshi nakamura 1</td>\n",
       "      <td>1990</td>\n",
       "      <td>2017</td>\n",
       "      <td>427</td>\n",
       "      <td>28</td>\n",
       "      <td>0.0</td>\n",
       "      <td>2</td>\n",
       "      <td>['1a68fdad-505d-40d4-a441-d92305b2bad2', '1a68...</td>\n",
       "      <td>0</td>\n",
       "      <td>m</td>\n",
       "      <td>1605.0</td>\n",
       "      <td>satoshi nakamura 1</td>\n",
       "      <td>m</td>\n",
       "      <td>15.250000</td>\n",
       "    </tr>\n",
       "    <tr>\n",
       "      <th>4116</th>\n",
       "      <td>400910</td>\n",
       "      <td>sheng chen 1</td>\n",
       "      <td>1993</td>\n",
       "      <td>2017</td>\n",
       "      <td>292</td>\n",
       "      <td>25</td>\n",
       "      <td>26.0</td>\n",
       "      <td>6</td>\n",
       "      <td>['1df0759d-746f-4c42-b1ff-85346968a902', '698e...</td>\n",
       "      <td>0</td>\n",
       "      <td>none</td>\n",
       "      <td>3153.0</td>\n",
       "      <td>sheng chen 1</td>\n",
       "      <td>none</td>\n",
       "      <td>11.680000</td>\n",
       "    </tr>\n",
       "    <tr>\n",
       "      <th>4347</th>\n",
       "      <td>430314</td>\n",
       "      <td>tao jiang 2</td>\n",
       "      <td>2003</td>\n",
       "      <td>2017</td>\n",
       "      <td>172</td>\n",
       "      <td>15</td>\n",
       "      <td>19.0</td>\n",
       "      <td>3</td>\n",
       "      <td>['86704347-605c-42d9-88ec-a19faa7f0629', 'e41a...</td>\n",
       "      <td>0</td>\n",
       "      <td>none</td>\n",
       "      <td>1183.0</td>\n",
       "      <td>tao jiang 2</td>\n",
       "      <td>none</td>\n",
       "      <td>11.466667</td>\n",
       "    </tr>\n",
       "    <tr>\n",
       "      <th>4351</th>\n",
       "      <td>430330</td>\n",
       "      <td>tao li 1</td>\n",
       "      <td>1999</td>\n",
       "      <td>2017</td>\n",
       "      <td>249</td>\n",
       "      <td>19</td>\n",
       "      <td>78.0</td>\n",
       "      <td>1</td>\n",
       "      <td>['28903e7b-aa3b-4840-b634-916029ed6c77']</td>\n",
       "      <td>0</td>\n",
       "      <td>none</td>\n",
       "      <td>6399.0</td>\n",
       "      <td>tao li 1</td>\n",
       "      <td>none</td>\n",
       "      <td>13.105263</td>\n",
       "    </tr>\n",
       "    <tr>\n",
       "      <th>4465</th>\n",
       "      <td>436616</td>\n",
       "      <td>thomas seidl 1</td>\n",
       "      <td>1993</td>\n",
       "      <td>2017</td>\n",
       "      <td>254</td>\n",
       "      <td>25</td>\n",
       "      <td>13.0</td>\n",
       "      <td>5</td>\n",
       "      <td>['5e03608e-0a31-4b39-a50b-d09a63c4f661', '568f...</td>\n",
       "      <td>0</td>\n",
       "      <td>none</td>\n",
       "      <td>2977.0</td>\n",
       "      <td>thomas seidl 1</td>\n",
       "      <td>none</td>\n",
       "      <td>10.160000</td>\n",
       "    </tr>\n",
       "    <tr>\n",
       "      <th>4565</th>\n",
       "      <td>452935</td>\n",
       "      <td>vijay kumar 1</td>\n",
       "      <td>1989</td>\n",
       "      <td>2017</td>\n",
       "      <td>355</td>\n",
       "      <td>29</td>\n",
       "      <td>2.0</td>\n",
       "      <td>1</td>\n",
       "      <td>['83d2f8cf-6f02-4732-b00e-5dc735bcceb3']</td>\n",
       "      <td>0</td>\n",
       "      <td>m</td>\n",
       "      <td>6241.0</td>\n",
       "      <td>vijay kumar 1</td>\n",
       "      <td>m</td>\n",
       "      <td>12.241379</td>\n",
       "    </tr>\n",
       "    <tr>\n",
       "      <th>4607</th>\n",
       "      <td>459255</td>\n",
       "      <td>wei chen 2</td>\n",
       "      <td>2005</td>\n",
       "      <td>2017</td>\n",
       "      <td>131</td>\n",
       "      <td>13</td>\n",
       "      <td>17.0</td>\n",
       "      <td>6</td>\n",
       "      <td>['54dc4bad-61cb-4a71-92e1-ffd03cc7e9aa', 'a4bd...</td>\n",
       "      <td>0</td>\n",
       "      <td>none</td>\n",
       "      <td>814.0</td>\n",
       "      <td>wei chen 2</td>\n",
       "      <td>none</td>\n",
       "      <td>10.076923</td>\n",
       "    </tr>\n",
       "    <tr>\n",
       "      <th>4816</th>\n",
       "      <td>459678</td>\n",
       "      <td>wei zhang 1</td>\n",
       "      <td>2004</td>\n",
       "      <td>2017</td>\n",
       "      <td>157</td>\n",
       "      <td>14</td>\n",
       "      <td>185.0</td>\n",
       "      <td>14</td>\n",
       "      <td>['a2b46ebc-6de7-4c3b-88e5-e086e2537c13', '0413...</td>\n",
       "      <td>0</td>\n",
       "      <td>none</td>\n",
       "      <td>3348.0</td>\n",
       "      <td>wei zhang 1</td>\n",
       "      <td>none</td>\n",
       "      <td>11.214286</td>\n",
       "    </tr>\n",
       "    <tr>\n",
       "      <th>4891</th>\n",
       "      <td>461337</td>\n",
       "      <td>wen chen 1</td>\n",
       "      <td>2005</td>\n",
       "      <td>2017</td>\n",
       "      <td>139</td>\n",
       "      <td>13</td>\n",
       "      <td>2.0</td>\n",
       "      <td>10</td>\n",
       "      <td>['84c97f41-8bec-45a7-a2b6-60673bd38b66', '929b...</td>\n",
       "      <td>0</td>\n",
       "      <td>none</td>\n",
       "      <td>686.0</td>\n",
       "      <td>wen chen 1</td>\n",
       "      <td>none</td>\n",
       "      <td>10.692308</td>\n",
       "    </tr>\n",
       "    <tr>\n",
       "      <th>4899</th>\n",
       "      <td>461358</td>\n",
       "      <td>wen gao 1</td>\n",
       "      <td>1995</td>\n",
       "      <td>2017</td>\n",
       "      <td>981</td>\n",
       "      <td>23</td>\n",
       "      <td>2.0</td>\n",
       "      <td>9</td>\n",
       "      <td>['86aa3be9-043d-48e6-bed0-d729cef7ebcc', '0811...</td>\n",
       "      <td>0</td>\n",
       "      <td>none</td>\n",
       "      <td>9525.0</td>\n",
       "      <td>wen gao 1</td>\n",
       "      <td>none</td>\n",
       "      <td>42.652174</td>\n",
       "    </tr>\n",
       "    <tr>\n",
       "      <th>4917</th>\n",
       "      <td>462060</td>\n",
       "      <td>wenbo wang 7</td>\n",
       "      <td>2001</td>\n",
       "      <td>2017</td>\n",
       "      <td>385</td>\n",
       "      <td>17</td>\n",
       "      <td>2.0</td>\n",
       "      <td>6</td>\n",
       "      <td>['16561e3e-d039-40b2-abda-321aceaa1826', '4925...</td>\n",
       "      <td>0</td>\n",
       "      <td>none</td>\n",
       "      <td>2752.0</td>\n",
       "      <td>wenbo wang 7</td>\n",
       "      <td>none</td>\n",
       "      <td>22.647059</td>\n",
       "    </tr>\n",
       "    <tr>\n",
       "      <th>4924</th>\n",
       "      <td>462640</td>\n",
       "      <td>wenjun zhang 1</td>\n",
       "      <td>2001</td>\n",
       "      <td>2017</td>\n",
       "      <td>207</td>\n",
       "      <td>17</td>\n",
       "      <td>3.0</td>\n",
       "      <td>8</td>\n",
       "      <td>['2d988720-1492-4903-8861-0cc2e8f03fad', '4e6b...</td>\n",
       "      <td>0</td>\n",
       "      <td>none</td>\n",
       "      <td>1513.0</td>\n",
       "      <td>wenjun zhang 1</td>\n",
       "      <td>none</td>\n",
       "      <td>12.176471</td>\n",
       "    </tr>\n",
       "    <tr>\n",
       "      <th>4989</th>\n",
       "      <td>468680</td>\n",
       "      <td>xiang cheng 1</td>\n",
       "      <td>2007</td>\n",
       "      <td>2017</td>\n",
       "      <td>131</td>\n",
       "      <td>11</td>\n",
       "      <td>33.0</td>\n",
       "      <td>8</td>\n",
       "      <td>['3a2e3053-e1fe-4efd-afc0-6253d1cd6b06', '6a0b...</td>\n",
       "      <td>0</td>\n",
       "      <td>none</td>\n",
       "      <td>1495.0</td>\n",
       "      <td>xiang cheng 1</td>\n",
       "      <td>none</td>\n",
       "      <td>11.909091</td>\n",
       "    </tr>\n",
       "    <tr>\n",
       "      <th>5005</th>\n",
       "      <td>468820</td>\n",
       "      <td>xiang-yang li 1</td>\n",
       "      <td>1998</td>\n",
       "      <td>2017</td>\n",
       "      <td>373</td>\n",
       "      <td>20</td>\n",
       "      <td>28.0</td>\n",
       "      <td>11</td>\n",
       "      <td>['9f05faf7-4d5f-48a4-96fa-d0116bff80c2', 'cd94...</td>\n",
       "      <td>0</td>\n",
       "      <td>m</td>\n",
       "      <td>5975.0</td>\n",
       "      <td>xiang-yang li 1</td>\n",
       "      <td>m</td>\n",
       "      <td>18.650000</td>\n",
       "    </tr>\n",
       "    <tr>\n",
       "      <th>5093</th>\n",
       "      <td>471851</td>\n",
       "      <td>xiaowei li 1</td>\n",
       "      <td>1998</td>\n",
       "      <td>2017</td>\n",
       "      <td>231</td>\n",
       "      <td>20</td>\n",
       "      <td>5.0</td>\n",
       "      <td>7</td>\n",
       "      <td>['49db5623-9134-4d3a-80bc-7e4c46f19e13', '8c23...</td>\n",
       "      <td>0</td>\n",
       "      <td>none</td>\n",
       "      <td>936.0</td>\n",
       "      <td>xiaowei li 1</td>\n",
       "      <td>none</td>\n",
       "      <td>11.550000</td>\n",
       "    </tr>\n",
       "    <tr>\n",
       "      <th>5156</th>\n",
       "      <td>472759</td>\n",
       "      <td>xin yao 1</td>\n",
       "      <td>1992</td>\n",
       "      <td>2017</td>\n",
       "      <td>469</td>\n",
       "      <td>26</td>\n",
       "      <td>19.0</td>\n",
       "      <td>5</td>\n",
       "      <td>['cb2924f1-f8c5-4079-a5a6-ccf22c1c0dd7', '30ec...</td>\n",
       "      <td>0</td>\n",
       "      <td>none</td>\n",
       "      <td>11008.0</td>\n",
       "      <td>xin yao 1</td>\n",
       "      <td>none</td>\n",
       "      <td>18.038462</td>\n",
       "    </tr>\n",
       "    <tr>\n",
       "      <th>5161</th>\n",
       "      <td>472775</td>\n",
       "      <td>xin zhang 1</td>\n",
       "      <td>2006</td>\n",
       "      <td>2017</td>\n",
       "      <td>153</td>\n",
       "      <td>12</td>\n",
       "      <td>55.0</td>\n",
       "      <td>39</td>\n",
       "      <td>['ad21762f-623e-4ec5-bba8-63c06e9879c0', 'eb24...</td>\n",
       "      <td>0</td>\n",
       "      <td>none</td>\n",
       "      <td>706.0</td>\n",
       "      <td>xin zhang 1</td>\n",
       "      <td>none</td>\n",
       "      <td>12.750000</td>\n",
       "    </tr>\n",
       "    <tr>\n",
       "      <th>5175</th>\n",
       "      <td>472992</td>\n",
       "      <td>xing xie 1</td>\n",
       "      <td>2002</td>\n",
       "      <td>2017</td>\n",
       "      <td>206</td>\n",
       "      <td>16</td>\n",
       "      <td>125.0</td>\n",
       "      <td>18</td>\n",
       "      <td>['5a83d0fe-4a09-4594-96d6-86ceeb018f21', '1791...</td>\n",
       "      <td>0</td>\n",
       "      <td>none</td>\n",
       "      <td>6619.0</td>\n",
       "      <td>xing xie 1</td>\n",
       "      <td>none</td>\n",
       "      <td>12.875000</td>\n",
       "    </tr>\n",
       "    <tr>\n",
       "      <th>5225</th>\n",
       "      <td>476898</td>\n",
       "      <td>yan chen 7</td>\n",
       "      <td>2006</td>\n",
       "      <td>2017</td>\n",
       "      <td>144</td>\n",
       "      <td>12</td>\n",
       "      <td>46.0</td>\n",
       "      <td>10</td>\n",
       "      <td>['0acaad3a-ab7e-4fd3-a8db-54e0d0891b93', '8938...</td>\n",
       "      <td>0</td>\n",
       "      <td>none</td>\n",
       "      <td>924.0</td>\n",
       "      <td>yan chen 7</td>\n",
       "      <td>none</td>\n",
       "      <td>12.000000</td>\n",
       "    </tr>\n",
       "    <tr>\n",
       "      <th>5293</th>\n",
       "      <td>477134</td>\n",
       "      <td>yan zhang 2</td>\n",
       "      <td>2003</td>\n",
       "      <td>2017</td>\n",
       "      <td>230</td>\n",
       "      <td>15</td>\n",
       "      <td>13.0</td>\n",
       "      <td>6</td>\n",
       "      <td>['b6786c41-79dc-482a-88ce-faae14c36e32', 'fd10...</td>\n",
       "      <td>0</td>\n",
       "      <td>none</td>\n",
       "      <td>2428.0</td>\n",
       "      <td>yan zhang 2</td>\n",
       "      <td>none</td>\n",
       "      <td>15.333333</td>\n",
       "    </tr>\n",
       "    <tr>\n",
       "      <th>5460</th>\n",
       "      <td>481382</td>\n",
       "      <td>yi pan 1</td>\n",
       "      <td>1988</td>\n",
       "      <td>2017</td>\n",
       "      <td>317</td>\n",
       "      <td>30</td>\n",
       "      <td>0.0</td>\n",
       "      <td>1</td>\n",
       "      <td>['c34a5381-6fb0-43c0-a4e7-ca43ec4b833a']</td>\n",
       "      <td>0</td>\n",
       "      <td>none</td>\n",
       "      <td>2182.0</td>\n",
       "      <td>yi pan 1</td>\n",
       "      <td>none</td>\n",
       "      <td>10.566667</td>\n",
       "    </tr>\n",
       "    <tr>\n",
       "      <th>5564</th>\n",
       "      <td>485024</td>\n",
       "      <td>yong li 8</td>\n",
       "      <td>2009</td>\n",
       "      <td>2017</td>\n",
       "      <td>146</td>\n",
       "      <td>9</td>\n",
       "      <td>152.0</td>\n",
       "      <td>36</td>\n",
       "      <td>['380bbd7d-5582-4d5b-bb49-47ad78cdce25', '5a98...</td>\n",
       "      <td>0</td>\n",
       "      <td>none</td>\n",
       "      <td>1261.0</td>\n",
       "      <td>yong li 8</td>\n",
       "      <td>none</td>\n",
       "      <td>16.222222</td>\n",
       "    </tr>\n",
       "    <tr>\n",
       "      <th>5662</th>\n",
       "      <td>489451</td>\n",
       "      <td>yu wang 2</td>\n",
       "      <td>2006</td>\n",
       "      <td>2017</td>\n",
       "      <td>160</td>\n",
       "      <td>12</td>\n",
       "      <td>40.0</td>\n",
       "      <td>14</td>\n",
       "      <td>['68391251-bb40-4946-b387-b93865585500', 'd88c...</td>\n",
       "      <td>0</td>\n",
       "      <td>none</td>\n",
       "      <td>1048.0</td>\n",
       "      <td>yu wang 2</td>\n",
       "      <td>none</td>\n",
       "      <td>13.333333</td>\n",
       "    </tr>\n",
       "    <tr>\n",
       "      <th>5699</th>\n",
       "      <td>490366</td>\n",
       "      <td>yuan xie 1</td>\n",
       "      <td>2000</td>\n",
       "      <td>2017</td>\n",
       "      <td>314</td>\n",
       "      <td>18</td>\n",
       "      <td>21.0</td>\n",
       "      <td>4</td>\n",
       "      <td>['d52d1442-69e4-4626-9dc9-b73981d7af9c', '65e3...</td>\n",
       "      <td>0</td>\n",
       "      <td>none</td>\n",
       "      <td>5811.0</td>\n",
       "      <td>yuan xie 1</td>\n",
       "      <td>none</td>\n",
       "      <td>17.444444</td>\n",
       "    </tr>\n",
       "    <tr>\n",
       "      <th>5736</th>\n",
       "      <td>493070</td>\n",
       "      <td>yun fu 1</td>\n",
       "      <td>2006</td>\n",
       "      <td>2017</td>\n",
       "      <td>166</td>\n",
       "      <td>12</td>\n",
       "      <td>394.0</td>\n",
       "      <td>44</td>\n",
       "      <td>['3905719c-ba9d-4425-8e17-7981edd8b1ea', 'b769...</td>\n",
       "      <td>0</td>\n",
       "      <td>none</td>\n",
       "      <td>2542.0</td>\n",
       "      <td>yun fu 1</td>\n",
       "      <td>none</td>\n",
       "      <td>13.833333</td>\n",
       "    </tr>\n",
       "    <tr>\n",
       "      <th>5768</th>\n",
       "      <td>497793</td>\n",
       "      <td>zhaoyang zhang 1</td>\n",
       "      <td>1999</td>\n",
       "      <td>2017</td>\n",
       "      <td>247</td>\n",
       "      <td>19</td>\n",
       "      <td>164.0</td>\n",
       "      <td>4</td>\n",
       "      <td>['3800e729-b318-48dd-8c79-481276c99933', '03c9...</td>\n",
       "      <td>0</td>\n",
       "      <td>none</td>\n",
       "      <td>2348.0</td>\n",
       "      <td>zhaoyang zhang 1</td>\n",
       "      <td>none</td>\n",
       "      <td>13.000000</td>\n",
       "    </tr>\n",
       "  </tbody>\n",
       "</table>\n",
       "<p>69 rows × 15 columns</p>\n",
       "</div>"
      ],
      "text/plain": [
       "       index              author  start_year  end_year  num_pub  \\\n",
       "58     11294  albrecht schmidt 1        1998      2017      339   \n",
       "225    28811      anil k. jain 1        1976      2017      425   \n",
       "335    47114      bernd becker 1        1983      2017      352   \n",
       "361    49105           bin liu 1        2003      2017      155   \n",
       "572    63431         chao wang 3        2011      2017       76   \n",
       "623    65663        cheng wang 3        2013      2017       58   \n",
       "946    95651       david zhang 1        1994      2017      481   \n",
       "1115  125090          fei wang 1        2004      2017      159   \n",
       "1479  158505        haris aziz 1        2008      2017      104   \n",
       "1593  172058            hui li 6        2007      2017      179   \n",
       "1712  190298        jan peters 1        2002      2017      219   \n",
       "1801  201192         jian yang 3        2002      2017      206   \n",
       "1840  202376      jianmin wang 1        2000      2017      203   \n",
       "1851  202721     jianwei zhang 1        1994      2016      246   \n",
       "1861  203174        jiawei han 1        1986      2017      729   \n",
       "1918  203596            jie wu 1        1989      2017      649   \n",
       "1932  203623          jie yang 2        1996      2017      273   \n",
       "2308  225929         jun zhang 3        2001      2017      174   \n",
       "2414  235909       kaushik roy 1        1988      2017      563   \n",
       "2473  247770           kui ren 1        2004      2017      181   \n",
       "2504  254316          lei chen 2        2002      2017      307   \n",
       "2514  254348           lei guo 2        2001      2017      172   \n",
       "2533  254436           lei shu 1        2007      2017      187   \n",
       "2591  254534         lei zhang 1        2001      2016      169   \n",
       "2616  254559         lei zhang 6        2002      2017      266   \n",
       "2632  256450            li guo 1        2005      2016      151   \n",
       "2752  258780           lin cai 1        2003      2017      198   \n",
       "2805  259503          ling liu 1        1995      2017      267   \n",
       "2819  260904      liuqing yang 1        2002      2017      184   \n",
       "2835  261764         long wang 1        2000      2017      209   \n",
       "...      ...                 ...         ...       ...      ...   \n",
       "3740  352732        ping zhang 3        2002      2016      248   \n",
       "3770  356018        qian zhang 1        2000      2017      287   \n",
       "3790  356157        qiang yang 1        1989      2017      389   \n",
       "4002  381276         rui zhang 6        2000      2017      247   \n",
       "4059  392364  satoshi nakamura 1        1990      2017      427   \n",
       "4116  400910        sheng chen 1        1993      2017      292   \n",
       "4347  430314         tao jiang 2        2003      2017      172   \n",
       "4351  430330            tao li 1        1999      2017      249   \n",
       "4465  436616      thomas seidl 1        1993      2017      254   \n",
       "4565  452935       vijay kumar 1        1989      2017      355   \n",
       "4607  459255          wei chen 2        2005      2017      131   \n",
       "4816  459678         wei zhang 1        2004      2017      157   \n",
       "4891  461337          wen chen 1        2005      2017      139   \n",
       "4899  461358           wen gao 1        1995      2017      981   \n",
       "4917  462060        wenbo wang 7        2001      2017      385   \n",
       "4924  462640      wenjun zhang 1        2001      2017      207   \n",
       "4989  468680       xiang cheng 1        2007      2017      131   \n",
       "5005  468820     xiang-yang li 1        1998      2017      373   \n",
       "5093  471851        xiaowei li 1        1998      2017      231   \n",
       "5156  472759           xin yao 1        1992      2017      469   \n",
       "5161  472775         xin zhang 1        2006      2017      153   \n",
       "5175  472992          xing xie 1        2002      2017      206   \n",
       "5225  476898          yan chen 7        2006      2017      144   \n",
       "5293  477134         yan zhang 2        2003      2017      230   \n",
       "5460  481382            yi pan 1        1988      2017      317   \n",
       "5564  485024           yong li 8        2009      2017      146   \n",
       "5662  489451           yu wang 2        2006      2017      160   \n",
       "5699  490366          yuan xie 1        2000      2017      314   \n",
       "5736  493070            yun fu 1        2006      2017      166   \n",
       "5768  497793    zhaoyang zhang 1        1999      2017      247   \n",
       "\n",
       "      career_length  early_career_qual  early_career_prod  \\\n",
       "58               20              127.0                 16   \n",
       "225              42               13.0                  3   \n",
       "335              35                0.0                  2   \n",
       "361              15               44.0                 23   \n",
       "572               7              101.0                 38   \n",
       "623               5              105.0                 34   \n",
       "946              24                0.0                  6   \n",
       "1115             14               55.0                 11   \n",
       "1479             10              206.0                 11   \n",
       "1593             11                4.0                  9   \n",
       "1712             16                1.0                  1   \n",
       "1801             16              158.0                 10   \n",
       "1840             18                1.0                  2   \n",
       "1851             23                4.0                  3   \n",
       "1861             32               43.0                  7   \n",
       "1918             29                1.0                  2   \n",
       "1932             22                0.0                  1   \n",
       "2308             17                2.0                  2   \n",
       "2414             30               46.0                  5   \n",
       "2473             14               34.0                  5   \n",
       "2504             16               42.0                  9   \n",
       "2514             17                6.0                  7   \n",
       "2533             11              187.0                 18   \n",
       "2591             16               58.0                 11   \n",
       "2616             16               38.0                 11   \n",
       "2632             12               28.0                 14   \n",
       "2752             15               49.0                  9   \n",
       "2805             23               37.0                 10   \n",
       "2819             16              119.0                 10   \n",
       "2835             18                0.0                  1   \n",
       "...             ...                ...                ...   \n",
       "3740             15               12.0                 12   \n",
       "3770             18              140.0                 27   \n",
       "3790             29               15.0                  6   \n",
       "4002             18                4.0                  2   \n",
       "4059             28                0.0                  2   \n",
       "4116             25               26.0                  6   \n",
       "4347             15               19.0                  3   \n",
       "4351             19               78.0                  1   \n",
       "4465             25               13.0                  5   \n",
       "4565             29                2.0                  1   \n",
       "4607             13               17.0                  6   \n",
       "4816             14              185.0                 14   \n",
       "4891             13                2.0                 10   \n",
       "4899             23                2.0                  9   \n",
       "4917             17                2.0                  6   \n",
       "4924             17                3.0                  8   \n",
       "4989             11               33.0                  8   \n",
       "5005             20               28.0                 11   \n",
       "5093             20                5.0                  7   \n",
       "5156             26               19.0                  5   \n",
       "5161             12               55.0                 39   \n",
       "5175             16              125.0                 18   \n",
       "5225             12               46.0                 10   \n",
       "5293             15               13.0                  6   \n",
       "5460             30                0.0                  1   \n",
       "5564              9              152.0                 36   \n",
       "5662             12               40.0                 14   \n",
       "5699             18               21.0                  4   \n",
       "5736             12              394.0                 44   \n",
       "5768             19              164.0                  4   \n",
       "\n",
       "                                      early_career_pubs  early_career_rec  \\\n",
       "58    ['c787697c-355a-4165-b6a2-6e4a6268bbfa', '0b20...                 0   \n",
       "225   ['cfea5778-a9a5-464c-b7d4-f7d54eb26966', '575c...                 0   \n",
       "335   ['bf4a1dca-9b6c-4d01-a7da-918a82202f66', '153e...                 0   \n",
       "361   ['fd43d50a-18b3-49bd-bc0b-ea7c79d80c87', '1421...                 0   \n",
       "572   ['27007e84-aa7e-48aa-813a-d77112f0ddc4', '48f4...                 0   \n",
       "623   ['8e27763e-c3f2-4361-8017-9bb186c6627f', '995f...                 0   \n",
       "946   ['cec2f304-ca4a-4918-8013-8d4fcffbc1e4', '0bf0...                 0   \n",
       "1115  ['08d97df5-1941-40ce-95db-1307b2dba1ba', 'c768...                 0   \n",
       "1479  ['610af8c4-5b88-41a1-ae2c-bb63ef255b46', '5966...                 0   \n",
       "1593  ['b11fd7c5-a39f-440a-9c7d-f27ccf629fe2', '3993...                 0   \n",
       "1712           ['4e663f0b-03b0-4fa6-bb9d-cf6746991aa5']                 0   \n",
       "1801  ['2bc7ae77-8fa3-4443-b471-6ead613fb776', '004b...                 0   \n",
       "1840  ['bef88fbc-7bcf-428c-9ccb-3204b07c6f2a', 'b439...                 0   \n",
       "1851  ['78ea20c4-4c65-4b8b-af0b-713c231cfbd9', '5411...                 0   \n",
       "1861  ['474b7796-f1ee-4445-8c6d-b95425d7862d', '9486...                 0   \n",
       "1918  ['2c01dac7-427e-421a-8b49-9e857fa9456e', 'ab3f...                 0   \n",
       "1932           ['e4c5c7b7-baf3-425a-b70e-da530828f986']                 0   \n",
       "2308  ['9d71b781-4a2f-41a3-a6f8-34533f6a5ace', 'a518...                 0   \n",
       "2414  ['8aba2777-88e5-4374-8b5b-7c8377504951', '6dfb...                 0   \n",
       "2473  ['12534c66-7f05-490a-9e62-cae321f4dff6', 'e1ee...                 0   \n",
       "2504  ['10908d72-caea-4e22-9093-5a547a9167a7', '5d91...                 0   \n",
       "2514  ['f266df70-2481-4a10-94c9-98e7ff5e59c2', 'db9e...                 0   \n",
       "2533  ['a50b9849-6454-4fe4-98f7-b6c036faaafc', '7dbd...                 0   \n",
       "2591  ['d43e77cb-62fa-4532-9a8f-f2274a8a4666', 'e0da...                 0   \n",
       "2616  ['818ba208-8ab6-490b-9539-01bdc6023b7e', 'c208...                 0   \n",
       "2632  ['87375897-0ce2-45e3-b413-cde4ff73709a', '50b4...                 0   \n",
       "2752  ['1e47e629-45b3-405a-a1bb-a2e8ca086adb', '3f6e...                 0   \n",
       "2805  ['6da10228-2919-480d-97cd-0d7f07fab94b', 'ea2b...                 0   \n",
       "2819  ['be4bbee8-06b6-4e34-8763-c748a76149b2', 'fc7f...                 0   \n",
       "2835           ['70547e27-ec3b-4543-8fc4-951adaa79c44']                 0   \n",
       "...                                                 ...               ...   \n",
       "3740  ['4b6234ed-04d2-44e2-a582-466470065334', '732c...                 0   \n",
       "3770  ['06188486-c8ed-4db6-9820-c76bf590b650', 'ab35...                 0   \n",
       "3790  ['a20999f9-9afd-4851-9e46-fb9de1ad90ab', 'aaff...                 0   \n",
       "4002  ['8a487893-cbfc-4812-8d8a-2f26495523a5', '447b...                 0   \n",
       "4059  ['1a68fdad-505d-40d4-a441-d92305b2bad2', '1a68...                 0   \n",
       "4116  ['1df0759d-746f-4c42-b1ff-85346968a902', '698e...                 0   \n",
       "4347  ['86704347-605c-42d9-88ec-a19faa7f0629', 'e41a...                 0   \n",
       "4351           ['28903e7b-aa3b-4840-b634-916029ed6c77']                 0   \n",
       "4465  ['5e03608e-0a31-4b39-a50b-d09a63c4f661', '568f...                 0   \n",
       "4565           ['83d2f8cf-6f02-4732-b00e-5dc735bcceb3']                 0   \n",
       "4607  ['54dc4bad-61cb-4a71-92e1-ffd03cc7e9aa', 'a4bd...                 0   \n",
       "4816  ['a2b46ebc-6de7-4c3b-88e5-e086e2537c13', '0413...                 0   \n",
       "4891  ['84c97f41-8bec-45a7-a2b6-60673bd38b66', '929b...                 0   \n",
       "4899  ['86aa3be9-043d-48e6-bed0-d729cef7ebcc', '0811...                 0   \n",
       "4917  ['16561e3e-d039-40b2-abda-321aceaa1826', '4925...                 0   \n",
       "4924  ['2d988720-1492-4903-8861-0cc2e8f03fad', '4e6b...                 0   \n",
       "4989  ['3a2e3053-e1fe-4efd-afc0-6253d1cd6b06', '6a0b...                 0   \n",
       "5005  ['9f05faf7-4d5f-48a4-96fa-d0116bff80c2', 'cd94...                 0   \n",
       "5093  ['49db5623-9134-4d3a-80bc-7e4c46f19e13', '8c23...                 0   \n",
       "5156  ['cb2924f1-f8c5-4079-a5a6-ccf22c1c0dd7', '30ec...                 0   \n",
       "5161  ['ad21762f-623e-4ec5-bba8-63c06e9879c0', 'eb24...                 0   \n",
       "5175  ['5a83d0fe-4a09-4594-96d6-86ceeb018f21', '1791...                 0   \n",
       "5225  ['0acaad3a-ab7e-4fd3-a8db-54e0d0891b93', '8938...                 0   \n",
       "5293  ['b6786c41-79dc-482a-88ce-faae14c36e32', 'fd10...                 0   \n",
       "5460           ['c34a5381-6fb0-43c0-a4e7-ca43ec4b833a']                 0   \n",
       "5564  ['380bbd7d-5582-4d5b-bb49-47ad78cdce25', '5a98...                 0   \n",
       "5662  ['68391251-bb40-4946-b387-b93865585500', 'd88c...                 0   \n",
       "5699  ['d52d1442-69e4-4626-9dc9-b73981d7af9c', '65e3...                 0   \n",
       "5736  ['3905719c-ba9d-4425-8e17-7981edd8b1ea', 'b769...                 0   \n",
       "5768  ['3800e729-b318-48dd-8c79-481276c99933', '03c9...                 0   \n",
       "\n",
       "     gender_x  final_citation_count                name gender_y  pub_per_year  \n",
       "58          m                5287.0  albrecht schmidt 1        m     16.950000  \n",
       "225         m               26756.0      anil k. jain 1        m     10.119048  \n",
       "335         m                2602.0      bernd becker 1        m     10.057143  \n",
       "361      none                1240.0           bin liu 1     none     10.333333  \n",
       "572      none                 179.0         chao wang 3     none     10.857143  \n",
       "623      none                 123.0        cheng wang 3     none     11.600000  \n",
       "946      none               11643.0       david zhang 1     none     20.041667  \n",
       "1115     none                2508.0          fei wang 1     none     11.357143  \n",
       "1479        m                 963.0        haris aziz 1        m     10.400000  \n",
       "1593     none                1038.0            hui li 6     none     16.272727  \n",
       "1712        m                2918.0        jan peters 1        m     13.687500  \n",
       "1801     none                3737.0         jian yang 3     none     12.875000  \n",
       "1840     none                1615.0      jianmin wang 1     none     11.277778  \n",
       "1851     none                 744.0     jianwei zhang 1     none     10.695652  \n",
       "1861     none               32501.0        jiawei han 1     none     22.781250  \n",
       "1918     none                9289.0            jie wu 1     none     22.379310  \n",
       "1932     none                1307.0          jie yang 2     none     12.409091  \n",
       "2308     none                1563.0         jun zhang 3     none     10.235294  \n",
       "2414        m                7605.0       kaushik roy 1        m     18.766667  \n",
       "2473     none                4572.0           kui ren 1     none     12.928571  \n",
       "2504     none                4381.0          lei chen 2     none     19.187500  \n",
       "2514     none                 981.0           lei guo 2     none     10.117647  \n",
       "2533     none                1427.0           lei shu 1     none     17.000000  \n",
       "2591     none                3653.0         lei zhang 1     none     10.562500  \n",
       "2616     none                9435.0         lei zhang 6     none     16.625000  \n",
       "2632     none                1090.0            li guo 1     none     12.583333  \n",
       "2752     none                1785.0           lin cai 1     none     13.200000  \n",
       "2805     none                5251.0          ling liu 1     none     11.608696  \n",
       "2819     none                1540.0      liuqing yang 1     none     11.500000  \n",
       "2835     none                1892.0         long wang 1     none     11.611111  \n",
       "...       ...                   ...                 ...      ...           ...  \n",
       "3740     none                 826.0        ping zhang 3     none     16.533333  \n",
       "3770     none                4713.0        qian zhang 1     none     15.944444  \n",
       "3790     none               12666.0        qiang yang 1     none     13.413793  \n",
       "4002     none                8539.0         rui zhang 6     none     13.722222  \n",
       "4059        m                1605.0  satoshi nakamura 1        m     15.250000  \n",
       "4116     none                3153.0        sheng chen 1     none     11.680000  \n",
       "4347     none                1183.0         tao jiang 2     none     11.466667  \n",
       "4351     none                6399.0            tao li 1     none     13.105263  \n",
       "4465     none                2977.0      thomas seidl 1     none     10.160000  \n",
       "4565        m                6241.0       vijay kumar 1        m     12.241379  \n",
       "4607     none                 814.0          wei chen 2     none     10.076923  \n",
       "4816     none                3348.0         wei zhang 1     none     11.214286  \n",
       "4891     none                 686.0          wen chen 1     none     10.692308  \n",
       "4899     none                9525.0           wen gao 1     none     42.652174  \n",
       "4917     none                2752.0        wenbo wang 7     none     22.647059  \n",
       "4924     none                1513.0      wenjun zhang 1     none     12.176471  \n",
       "4989     none                1495.0       xiang cheng 1     none     11.909091  \n",
       "5005        m                5975.0     xiang-yang li 1        m     18.650000  \n",
       "5093     none                 936.0        xiaowei li 1     none     11.550000  \n",
       "5156     none               11008.0           xin yao 1     none     18.038462  \n",
       "5161     none                 706.0         xin zhang 1     none     12.750000  \n",
       "5175     none                6619.0          xing xie 1     none     12.875000  \n",
       "5225     none                 924.0          yan chen 7     none     12.000000  \n",
       "5293     none                2428.0         yan zhang 2     none     15.333333  \n",
       "5460     none                2182.0            yi pan 1     none     10.566667  \n",
       "5564     none                1261.0           yong li 8     none     16.222222  \n",
       "5662     none                1048.0           yu wang 2     none     13.333333  \n",
       "5699     none                5811.0          yuan xie 1     none     17.444444  \n",
       "5736     none                2542.0            yun fu 1     none     13.833333  \n",
       "5768     none                2348.0    zhaoyang zhang 1     none     13.000000  \n",
       "\n",
       "[69 rows x 15 columns]"
      ]
     },
     "execution_count": 55,
     "metadata": {},
     "output_type": "execute_result"
    }
   ],
   "source": [
    "authors_digits[authors_digits['pub_per_year'] > 10]"
   ]
  },
  {
   "cell_type": "code",
   "execution_count": 56,
   "metadata": {
    "hidden": true
   },
   "outputs": [
    {
     "data": {
      "text/plain": [
       "<matplotlib.axes._subplots.AxesSubplot at 0x7f332d0660b8>"
      ]
     },
     "execution_count": 56,
     "metadata": {},
     "output_type": "execute_result"
    },
    {
     "data": {
      "image/png": "[encoded data removed]",
      "text/plain": [
       "<matplotlib.figure.Figure at 0x7f332d088588>"
      ]
     },
     "metadata": {},
     "output_type": "display_data"
    }
   ],
   "source": [
    "digiAuthorPublicationData.year.value_counts().sort_index().plot(kind='bar')"
   ]
  },
  {
   "cell_type": "code",
   "execution_count": 57,
   "metadata": {
    "hidden": true
   },
   "outputs": [
    {
     "data": {
      "text/plain": [
       "<matplotlib.axes._subplots.AxesSubplot at 0x7f332d0717b8>"
      ]
     },
     "execution_count": 57,
     "metadata": {},
     "output_type": "execute_result"
    },
    {
     "data": {
      "image/png": "[encoded data removed]",
      "text/plain": [
       "<matplotlib.figure.Figure at 0x7f332d07b4a8>"
      ]
     },
     "metadata": {},
     "output_type": "display_data"
    }
   ],
   "source": [
    "authorPublicationData.year.value_counts().sort_index().plot(kind='bar')"
   ]
  },
  {
   "cell_type": "markdown",
   "metadata": {
    "heading_collapsed": true
   },
   "source": [
    "## Citations distribution (based on IDs file)"
   ]
  },
  {
   "cell_type": "code",
   "execution_count": 58,
   "metadata": {
    "hidden": true
   },
   "outputs": [],
   "source": [
    "citation_distribution = credible_authors['final_citation_count'].value_counts().sort_index()"
   ]
  },
  {
   "cell_type": "code",
   "execution_count": 59,
   "metadata": {
    "hidden": true
   },
   "outputs": [
    {
     "data": {
      "image/png": "[encoded data removed]",
      "text/plain": [
       "<matplotlib.figure.Figure at 0x7f332ceb6c18>"
      ]
     },
     "metadata": {},
     "output_type": "display_data"
    }
   ],
   "source": [
    "plt.loglog(citation_distribution.index, citation_distribution.values)\n",
    "plt.xlabel('Num citations')\n",
    "plt.ylabel('Frequency')\n",
    "plt.show()"
   ]
  },
  {
   "cell_type": "markdown",
   "metadata": {
    "heading_collapsed": true
   },
   "source": [
    "## Early Career Prod. vs Final Success (ID file)"
   ]
  },
  {
   "cell_type": "code",
   "execution_count": 60,
   "metadata": {
    "hidden": true
   },
   "outputs": [],
   "source": [
    "credible_authors.sort_values(by='early_career_prod', inplace=True)"
   ]
  },
  {
   "cell_type": "code",
   "execution_count": 61,
   "metadata": {
    "hidden": true
   },
   "outputs": [],
   "source": [
    "x = credible_authors['early_career_prod']\n",
    "y = credible_authors['final_citation_count']"
   ]
  },
  {
   "cell_type": "code",
   "execution_count": 62,
   "metadata": {
    "hidden": true,
    "scrolled": false
   },
   "outputs": [
    {
     "data": {
      "image/png": "[encoded data removed]",
      "text/plain": [
       "<matplotlib.figure.Figure at 0x7f332cc7d7f0>"
      ]
     },
     "metadata": {},
     "output_type": "display_data"
    }
   ],
   "source": [
    "fig, ax = plt.subplots()\n",
    "plt.scatter(x, y)\n",
    "fit = np.polyfit(x, y, deg=1)\n",
    "ax.plot(x, fit[0] * x + fit[1], color='red')\n",
    "plt.xlabel('Early Career Productivity')\n",
    "plt.ylabel('Final Success')\n",
    "# plt.xlim(0, 50)\n",
    "# plt.ylim(0,200)\n",
    "plt.show()"
   ]
  },
  {
   "cell_type": "code",
   "execution_count": 63,
   "metadata": {
    "hidden": true
   },
   "outputs": [],
   "source": [
    "credible_authors_no_uncited = credible_authors.dropna()"
   ]
  },
  {
   "cell_type": "code",
   "execution_count": 64,
   "metadata": {
    "hidden": true
   },
   "outputs": [],
   "source": [
    "x = credible_authors_no_uncited['early_career_prod']\n",
    "y = credible_authors_no_uncited['final_citation_count']"
   ]
  },
  {
   "cell_type": "code",
   "execution_count": 65,
   "metadata": {
    "hidden": true
   },
   "outputs": [
    {
     "name": "stdout",
     "output_type": "stream",
     "text": [
      "0.1599975788916418\n",
      "34.960743634955534 38.4926283228165\n"
     ]
    }
   ],
   "source": [
    "slope, intercept, r_value, p_value, std_err = scipy.stats.linregress(x, y)\n",
    "print(r_value)\n",
    "print(slope, intercept)"
   ]
  },
  {
   "cell_type": "code",
   "execution_count": 66,
   "metadata": {
    "hidden": true,
    "scrolled": false
   },
   "outputs": [
    {
     "data": {
      "image/png": "[encoded data removed]",
      "text/plain": [
       "<matplotlib.figure.Figure at 0x7f332cc9dcc0>"
      ]
     },
     "metadata": {},
     "output_type": "display_data"
    }
   ],
   "source": [
    "fig, axs = plt.subplots()\n",
    "axs.hist2d(x, y, bins=40, norm=colors.LogNorm())\n",
    "plt.show()"
   ]
  },
  {
   "cell_type": "markdown",
   "metadata": {
    "heading_collapsed": true
   },
   "source": [
    "## Early Career Prod. vs Early Career Qual. (IDs file)"
   ]
  },
  {
   "cell_type": "code",
   "execution_count": 67,
   "metadata": {
    "hidden": true
   },
   "outputs": [],
   "source": [
    "credible_authors.sort_values(by='early_career_prod', inplace=True)"
   ]
  },
  {
   "cell_type": "code",
   "execution_count": 68,
   "metadata": {
    "hidden": true
   },
   "outputs": [
    {
     "data": {
      "image/png": "[encoded data removed]",
      "text/plain": [
       "<matplotlib.figure.Figure at 0x7f33272fd3c8>"
      ]
     },
     "metadata": {},
     "output_type": "display_data"
    }
   ],
   "source": [
    "plt.scatter(credible_authors['early_career_prod'], credible_authors['early_career_qual'])\n",
    "plt.xlabel('Early Career Productivity')\n",
    "plt.ylabel('Early Career Quality')\n",
    "plt.show()"
   ]
  },
  {
   "cell_type": "code",
   "execution_count": null,
   "metadata": {
    "hidden": true
   },
   "outputs": [],
   "source": []
  }
 ],
 "metadata": {
  "kernelspec": {
   "display_name": "Python 3",
   "language": "python",
   "name": "python3"
  },
  "language_info": {
   "codemirror_mode": {
    "name": "ipython",
    "version": 3
   },
   "file_extension": ".py",
   "mimetype": "text/x-python",
   "name": "python",
   "nbconvert_exporter": "python",
   "pygments_lexer": "ipython3",
   "version": "3.7.3"
  }
 },
 "nbformat": 4,
 "nbformat_minor": 2
}
