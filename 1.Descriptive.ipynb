{
 "cells": [
  {
   "cell_type": "code",
   "execution_count": 1,
   "metadata": {},
   "outputs": [],
   "source": [
    "import pandas as pd\n",
    "import numpy as np\n",
    "import timeit\n",
    "\n",
    "from matplotlib import pyplot as plt\n",
    "from matplotlib import rcParams\n",
    "plt.style.use('ggplot')\n",
    "rcParams['figure.figsize'] = (20.0, 10.0)\n",
    "from matplotlib import colors\n",
    "\n",
    "import scipy.stats"
   ]
  },
  {
   "cell_type": "markdown",
   "metadata": {},
   "source": [
    "## Publication data"
   ]
  },
  {
   "cell_type": "code",
   "execution_count": 2,
   "metadata": {},
   "outputs": [
    {
     "data": {
      "text/html": [
       "<div>\n",
       "<style scoped>\n",
       "    .dataframe tbody tr th:only-of-type {\n",
       "        vertical-align: middle;\n",
       "    }\n",
       "\n",
       "    .dataframe tbody tr th {\n",
       "        vertical-align: top;\n",
       "    }\n",
       "\n",
       "    .dataframe thead th {\n",
       "        text-align: right;\n",
       "    }\n",
       "</style>\n",
       "<table border=\"1\" class=\"dataframe\">\n",
       "  <thead>\n",
       "    <tr style=\"text-align: right;\">\n",
       "      <th></th>\n",
       "      <th>author</th>\n",
       "      <th>year</th>\n",
       "      <th>pub_id</th>\n",
       "    </tr>\n",
       "  </thead>\n",
       "  <tbody>\n",
       "    <tr>\n",
       "      <th>0</th>\n",
       "      <td>graeme earl</td>\n",
       "      <td>2011</td>\n",
       "      <td>001c58d3-26ad-46b3-ab3a-c1e557d16821</td>\n",
       "    </tr>\n",
       "    <tr>\n",
       "      <th>1</th>\n",
       "      <td>gareth beale</td>\n",
       "      <td>2011</td>\n",
       "      <td>001c58d3-26ad-46b3-ab3a-c1e557d16821</td>\n",
       "    </tr>\n",
       "    <tr>\n",
       "      <th>2</th>\n",
       "      <td>m. nasser</td>\n",
       "      <td>2009</td>\n",
       "      <td>001c8744-73c4-4b04-9364-22d31a10dbf1</td>\n",
       "    </tr>\n",
       "    <tr>\n",
       "      <th>3</th>\n",
       "      <td>faisal zaman</td>\n",
       "      <td>2009</td>\n",
       "      <td>001c8744-73c4-4b04-9364-22d31a10dbf1</td>\n",
       "    </tr>\n",
       "    <tr>\n",
       "      <th>4</th>\n",
       "      <td>altaf hossain</td>\n",
       "      <td>2009</td>\n",
       "      <td>001c8744-73c4-4b04-9364-22d31a10dbf1</td>\n",
       "    </tr>\n",
       "  </tbody>\n",
       "</table>\n",
       "</div>"
      ],
      "text/plain": [
       "          author  year                                pub_id\n",
       "0    graeme earl  2011  001c58d3-26ad-46b3-ab3a-c1e557d16821\n",
       "1   gareth beale  2011  001c58d3-26ad-46b3-ab3a-c1e557d16821\n",
       "2      m. nasser  2009  001c8744-73c4-4b04-9364-22d31a10dbf1\n",
       "3   faisal zaman  2009  001c8744-73c4-4b04-9364-22d31a10dbf1\n",
       "4  altaf hossain  2009  001c8744-73c4-4b04-9364-22d31a10dbf1"
      ]
     },
     "execution_count": 2,
     "metadata": {},
     "output_type": "execute_result"
    }
   ],
   "source": [
    "# authorPublicationData = pd.read_csv('data/author_publications_1970_2016_asiansAsNone.txt')\n",
    "authorPublicationData = pd.read_csv('data/author_publications_2017_asiansAsNone.txt')\n",
    "authorPublicationData.head()"
   ]
  },
  {
   "cell_type": "code",
   "execution_count": 3,
   "metadata": {},
   "outputs": [],
   "source": [
    "author_year_numPub = authorPublicationData.groupby(['author', 'year'])['pub_id'].count()"
   ]
  },
  {
   "cell_type": "code",
   "execution_count": 4,
   "metadata": {},
   "outputs": [
    {
     "data": {
      "text/plain": [
       "author                 year\n",
       "'maseka lesaoana       2001    1\n",
       "                       2015    1\n",
       "(max) zong-ming cheng  2009    1\n",
       "                       2011    1\n",
       "(zhou) bryan bai       2011    1\n",
       "Name: pub_id, dtype: int64"
      ]
     },
     "execution_count": 4,
     "metadata": {},
     "output_type": "execute_result"
    }
   ],
   "source": [
    "author_year_numPub.head()"
   ]
  },
  {
   "cell_type": "code",
   "execution_count": 5,
   "metadata": {},
   "outputs": [],
   "source": [
    "author_year_publications = authorPublicationData.groupby(['author', 'year'])['pub_id'].apply(list)"
   ]
  },
  {
   "cell_type": "code",
   "execution_count": 6,
   "metadata": {},
   "outputs": [
    {
     "data": {
      "text/plain": [
       "author                 year\n",
       "'maseka lesaoana       2001    [4ff8ca7b-16b7-4bc8-b235-1eeac9b2aefa]\n",
       "                       2015    [2a10f544-51ac-4261-8a26-cf61c1abdc03]\n",
       "(max) zong-ming cheng  2009    [fe824193-57a4-48ed-a1d3-5eeb67929ae4]\n",
       "                       2011    [fd54f6e8-4b10-471b-a1d0-3c784688a2a7]\n",
       "(zhou) bryan bai       2011    [53d10a61-f01d-464e-b5e9-8242ed3b9e00]\n",
       "Name: pub_id, dtype: object"
      ]
     },
     "execution_count": 6,
     "metadata": {},
     "output_type": "execute_result"
    }
   ],
   "source": [
    "author_year_publications.head()"
   ]
  },
  {
   "cell_type": "markdown",
   "metadata": {},
   "source": [
    "## Author citation data (ids)"
   ]
  },
  {
   "cell_type": "code",
   "execution_count": 7,
   "metadata": {},
   "outputs": [],
   "source": [
    "authorCitationsData = pd.read_csv('./data/citations_2017_asiansAsNone_cleaned.txt')"
   ]
  },
  {
   "cell_type": "code",
   "execution_count": 8,
   "metadata": {},
   "outputs": [
    {
     "name": "stdout",
     "output_type": "stream",
     "text": [
      "(24976435, 3)\n"
     ]
    }
   ],
   "source": [
    "authorCitationsData.head()\n",
    "print(authorCitationsData.shape)"
   ]
  },
  {
   "cell_type": "code",
   "execution_count": 9,
   "metadata": {},
   "outputs": [],
   "source": [
    "paper_citation_count = pd.read_csv('data/paper-citation-count.csv', index_col=0, header=None, squeeze=True)"
   ]
  },
  {
   "cell_type": "markdown",
   "metadata": {},
   "source": [
    "## Author citation network, paper -> author"
   ]
  },
  {
   "cell_type": "code",
   "execution_count": 10,
   "metadata": {},
   "outputs": [],
   "source": [
    "# authorCitationsData_with_cited_author = pd.read_csv('./data/authors_cited_by_papers_2017_asiansAsNone_by_daniel.txt')"
   ]
  },
  {
   "cell_type": "code",
   "execution_count": 11,
   "metadata": {},
   "outputs": [],
   "source": [
    "# authorCitationsData_with_cited_author.head()"
   ]
  },
  {
   "cell_type": "code",
   "execution_count": 12,
   "metadata": {},
   "outputs": [],
   "source": [
    "citations_year_auth = pd.read_csv('./data/authors_cite_2017_asiansAsNone_by_daniel_grouped.txt')"
   ]
  },
  {
   "cell_type": "code",
   "execution_count": 13,
   "metadata": {},
   "outputs": [],
   "source": [
    "final_citation_count = citations_year_auth.groupby('author')['cit_count'].sum()"
   ]
  },
  {
   "cell_type": "code",
   "execution_count": 14,
   "metadata": {},
   "outputs": [],
   "source": [
    "citations_year_auth = citations_year_auth.groupby(['author', 'year_cit'])['cit_count'].sum()"
   ]
  },
  {
   "cell_type": "markdown",
   "metadata": {},
   "source": [
    "## Author career information"
   ]
  },
  {
   "cell_type": "code",
   "execution_count": 15,
   "metadata": {},
   "outputs": [],
   "source": [
    "CAREER_LENGTH = 10"
   ]
  },
  {
   "cell_type": "code",
   "execution_count": 16,
   "metadata": {},
   "outputs": [],
   "source": [
    "credible_authors = pd.read_csv('data/authors-scientific-atleast-' + str(CAREER_LENGTH) + '-year.csv')"
   ]
  },
  {
   "cell_type": "code",
   "execution_count": 17,
   "metadata": {},
   "outputs": [],
   "source": [
    "credible_authors.set_index('author', inplace=True, )"
   ]
  },
  {
   "cell_type": "code",
   "execution_count": 18,
   "metadata": {},
   "outputs": [
    {
     "data": {
      "text/html": [
       "<div>\n",
       "<style scoped>\n",
       "    .dataframe tbody tr th:only-of-type {\n",
       "        vertical-align: middle;\n",
       "    }\n",
       "\n",
       "    .dataframe tbody tr th {\n",
       "        vertical-align: top;\n",
       "    }\n",
       "\n",
       "    .dataframe thead th {\n",
       "        text-align: right;\n",
       "    }\n",
       "</style>\n",
       "<table border=\"1\" class=\"dataframe\">\n",
       "  <thead>\n",
       "    <tr style=\"text-align: right;\">\n",
       "      <th></th>\n",
       "      <th>start_year</th>\n",
       "      <th>end_year</th>\n",
       "      <th>num_pub</th>\n",
       "      <th>career_length</th>\n",
       "    </tr>\n",
       "    <tr>\n",
       "      <th>author</th>\n",
       "      <th></th>\n",
       "      <th></th>\n",
       "      <th></th>\n",
       "      <th></th>\n",
       "    </tr>\n",
       "  </thead>\n",
       "  <tbody>\n",
       "    <tr>\n",
       "      <th>'maseka lesaoana</th>\n",
       "      <td>2001</td>\n",
       "      <td>2015</td>\n",
       "      <td>2</td>\n",
       "      <td>15</td>\n",
       "    </tr>\n",
       "    <tr>\n",
       "      <th>a aart blokhuis</th>\n",
       "      <td>1992</td>\n",
       "      <td>2005</td>\n",
       "      <td>2</td>\n",
       "      <td>14</td>\n",
       "    </tr>\n",
       "    <tr>\n",
       "      <th>a min tjoa</th>\n",
       "      <td>1979</td>\n",
       "      <td>2017</td>\n",
       "      <td>191</td>\n",
       "      <td>39</td>\n",
       "    </tr>\n",
       "    <tr>\n",
       "      <th>a-imam al-sammak</th>\n",
       "      <td>1992</td>\n",
       "      <td>2006</td>\n",
       "      <td>3</td>\n",
       "      <td>15</td>\n",
       "    </tr>\n",
       "    <tr>\n",
       "      <th>a-xing zhu</th>\n",
       "      <td>1998</td>\n",
       "      <td>2017</td>\n",
       "      <td>22</td>\n",
       "      <td>20</td>\n",
       "    </tr>\n",
       "  </tbody>\n",
       "</table>\n",
       "</div>"
      ],
      "text/plain": [
       "                  start_year  end_year  num_pub  career_length\n",
       "author                                                        \n",
       "'maseka lesaoana        2001      2015        2             15\n",
       "a aart blokhuis         1992      2005        2             14\n",
       "a min tjoa              1979      2017      191             39\n",
       "a-imam al-sammak        1992      2006        3             15\n",
       "a-xing zhu              1998      2017       22             20"
      ]
     },
     "execution_count": 18,
     "metadata": {},
     "output_type": "execute_result"
    }
   ],
   "source": [
    "credible_authors.head()"
   ]
  },
  {
   "cell_type": "markdown",
   "metadata": {},
   "source": [
    "## Early career analysis"
   ]
  },
  {
   "cell_type": "code",
   "execution_count": 19,
   "metadata": {},
   "outputs": [],
   "source": [
    "# This part adds data to credible_authors file. This can be stored for later use. "
   ]
  },
  {
   "cell_type": "code",
   "execution_count": 20,
   "metadata": {},
   "outputs": [],
   "source": [
    "EARLY_CAREER_LEN = 3"
   ]
  },
  {
   "cell_type": "code",
   "execution_count": 21,
   "metadata": {},
   "outputs": [],
   "source": [
    "def get_early_career_prod(row, num_years):\n",
    "    early_prod = 0\n",
    "    author = row.name\n",
    "    start_year = row['start_year']\n",
    "    year_num_pub = author_year_numPub[author]\n",
    "    for year in range(num_years):\n",
    "        if start_year + year in year_num_pub:\n",
    "            early_prod += year_num_pub[start_year + year]\n",
    "    return early_prod"
   ]
  },
  {
   "cell_type": "code",
   "execution_count": 22,
   "metadata": {},
   "outputs": [],
   "source": [
    "credible_authors['early_career_prod'] = credible_authors.apply(lambda x: get_early_career_prod(x, EARLY_CAREER_LEN), axis=1)"
   ]
  },
  {
   "cell_type": "code",
   "execution_count": 23,
   "metadata": {},
   "outputs": [],
   "source": [
    "# for testing extreme early productivity\n",
    "# TODO remove this cell\n",
    "credible_authors['early_career_prod_1'] = credible_authors.apply(lambda x: get_early_career_prod(x, 1), axis=1)\n",
    "\n",
    "credible_authors['early_career_prod_2'] = credible_authors.apply(lambda x: get_early_career_prod(x, 2), axis=1)"
   ]
  },
  {
   "cell_type": "code",
   "execution_count": 24,
   "metadata": {
    "code_folding": []
   },
   "outputs": [],
   "source": [
    "def get_early_career_quality(row, num_years):\n",
    "    early_pubs = []\n",
    "    author = row.name\n",
    "    start_year = row['start_year']\n",
    "    year_pub_list = author_year_publications[author]\n",
    "    for year in range(num_years):\n",
    "        if start_year + year in year_pub_list:\n",
    "            early_pubs.extend(year_pub_list[start_year + year])\n",
    "    return sum([paper_citation_count[paper] for paper in early_pubs if paper in paper_citation_count])"
   ]
  },
  {
   "cell_type": "code",
   "execution_count": 25,
   "metadata": {},
   "outputs": [],
   "source": [
    "credible_authors['early_career_qual'] = credible_authors.apply(lambda x: get_early_career_quality(x, EARLY_CAREER_LEN), axis=1)"
   ]
  },
  {
   "cell_type": "code",
   "execution_count": 213,
   "metadata": {},
   "outputs": [],
   "source": [
    "early_pubs = [\"001c58d3-26ad-46b3-ab3a-c1e557d16821\", \"49ec0c15-7a9d-4378-a26a-f5063567b519\", \"001c8744-73c4-4b04-9364-22d31a10dbf1\"]"
   ]
  },
  {
   "cell_type": "code",
   "execution_count": 217,
   "metadata": {},
   "outputs": [
    {
     "data": {
      "text/html": [
       "<div>\n",
       "<style scoped>\n",
       "    .dataframe tbody tr th:only-of-type {\n",
       "        vertical-align: middle;\n",
       "    }\n",
       "\n",
       "    .dataframe tbody tr th {\n",
       "        vertical-align: top;\n",
       "    }\n",
       "\n",
       "    .dataframe thead th {\n",
       "        text-align: right;\n",
       "    }\n",
       "</style>\n",
       "<table border=\"1\" class=\"dataframe\">\n",
       "  <thead>\n",
       "    <tr style=\"text-align: right;\">\n",
       "      <th></th>\n",
       "      <th>id1</th>\n",
       "      <th>id2</th>\n",
       "      <th>year_cit</th>\n",
       "    </tr>\n",
       "  </thead>\n",
       "  <tbody>\n",
       "    <tr>\n",
       "      <th>0</th>\n",
       "      <td>16870052-7e2e-4bbc-beeb-21e493bea221</td>\n",
       "      <td>001c58d3-26ad-46b3-ab3a-c1e557d16821</td>\n",
       "      <td>2015</td>\n",
       "    </tr>\n",
       "    <tr>\n",
       "      <th>1</th>\n",
       "      <td>49ec0c15-7a9d-4378-a26a-f5063567b519</td>\n",
       "      <td>001c8744-73c4-4b04-9364-22d31a10dbf1</td>\n",
       "      <td>2013</td>\n",
       "    </tr>\n",
       "    <tr>\n",
       "      <th>2</th>\n",
       "      <td>ae0b4e3d-305d-4fb8-9847-60dcc9a9ec44</td>\n",
       "      <td>001c8744-73c4-4b04-9364-22d31a10dbf1</td>\n",
       "      <td>2014</td>\n",
       "    </tr>\n",
       "  </tbody>\n",
       "</table>\n",
       "</div>"
      ],
      "text/plain": [
       "                                    id1                                   id2  \\\n",
       "0  16870052-7e2e-4bbc-beeb-21e493bea221  001c58d3-26ad-46b3-ab3a-c1e557d16821   \n",
       "1  49ec0c15-7a9d-4378-a26a-f5063567b519  001c8744-73c4-4b04-9364-22d31a10dbf1   \n",
       "2  ae0b4e3d-305d-4fb8-9847-60dcc9a9ec44  001c8744-73c4-4b04-9364-22d31a10dbf1   \n",
       "\n",
       "   year_cit  \n",
       "0      2015  \n",
       "1      2013  \n",
       "2      2014  "
      ]
     },
     "execution_count": 217,
     "metadata": {},
     "output_type": "execute_result"
    }
   ],
   "source": [
    "authorCitationsData[(authorCitationsData.id2.isin(early_pubs)) & (authorCitationsData.year_cit <= 2015)]"
   ]
  },
  {
   "cell_type": "code",
   "execution_count": 221,
   "metadata": {},
   "outputs": [],
   "source": [
    "def get_early_career_recognition(row, num_years):\n",
    "    early_pubs = []\n",
    "    author = row.name\n",
    "    start_year = row['start_year']\n",
    "    year_pub_list = author_year_publications[author]\n",
    "    for year in range(num_years):\n",
    "        if start_year + year in year_pub_list:\n",
    "            early_pubs.extend(year_pub_list[start_year + year])\n",
    "    return authorCitationsData[(authorCitationsData.id2.isin(early_pubs)) & \n",
    "                               (authorCitationsData.year_cit < start_year + num_years)].shape[0]"
   ]
  },
  {
   "cell_type": "code",
   "execution_count": null,
   "metadata": {},
   "outputs": [],
   "source": [
    "credible_authors['early_career_rec'] = credible_authors.apply(lambda x: get_early_career_recognition(x, EARLY_CAREER_LEN), axis=1)"
   ]
  },
  {
   "cell_type": "code",
   "execution_count": 26,
   "metadata": {},
   "outputs": [],
   "source": [
    "credible_authors['final_citation_count'] = final_citation_count\n",
    "credible_authors['final_citation_count'] = credible_authors['final_citation_count'].fillna(0)"
   ]
  },
  {
   "cell_type": "markdown",
   "metadata": {},
   "source": [
    "### Save author data"
   ]
  },
  {
   "cell_type": "code",
   "execution_count": 27,
   "metadata": {},
   "outputs": [],
   "source": [
    "# TODO Add gender to extended file"
   ]
  },
  {
   "cell_type": "code",
   "execution_count": 28,
   "metadata": {},
   "outputs": [],
   "source": [
    "gender = pd.read_csv('./data/name_gender_2017_asiansAsNone_nodup.txt')\n",
    "gender.set_index('name', inplace=True)"
   ]
  },
  {
   "cell_type": "code",
   "execution_count": 29,
   "metadata": {},
   "outputs": [],
   "source": [
    "credible_authors['gender'] = gender"
   ]
  },
  {
   "cell_type": "code",
   "execution_count": 30,
   "metadata": {},
   "outputs": [
    {
     "data": {
      "text/html": [
       "<div>\n",
       "<style scoped>\n",
       "    .dataframe tbody tr th:only-of-type {\n",
       "        vertical-align: middle;\n",
       "    }\n",
       "\n",
       "    .dataframe tbody tr th {\n",
       "        vertical-align: top;\n",
       "    }\n",
       "\n",
       "    .dataframe thead th {\n",
       "        text-align: right;\n",
       "    }\n",
       "</style>\n",
       "<table border=\"1\" class=\"dataframe\">\n",
       "  <thead>\n",
       "    <tr style=\"text-align: right;\">\n",
       "      <th></th>\n",
       "      <th>start_year</th>\n",
       "      <th>end_year</th>\n",
       "      <th>num_pub</th>\n",
       "      <th>career_length</th>\n",
       "      <th>early_career_prod</th>\n",
       "      <th>early_career_prod_1</th>\n",
       "      <th>early_career_prod_2</th>\n",
       "      <th>early_career_qual</th>\n",
       "      <th>final_citation_count</th>\n",
       "      <th>gender</th>\n",
       "    </tr>\n",
       "    <tr>\n",
       "      <th>author</th>\n",
       "      <th></th>\n",
       "      <th></th>\n",
       "      <th></th>\n",
       "      <th></th>\n",
       "      <th></th>\n",
       "      <th></th>\n",
       "      <th></th>\n",
       "      <th></th>\n",
       "      <th></th>\n",
       "      <th></th>\n",
       "    </tr>\n",
       "  </thead>\n",
       "  <tbody>\n",
       "    <tr>\n",
       "      <th>'maseka lesaoana</th>\n",
       "      <td>2001</td>\n",
       "      <td>2015</td>\n",
       "      <td>2</td>\n",
       "      <td>15</td>\n",
       "      <td>1</td>\n",
       "      <td>1</td>\n",
       "      <td>1</td>\n",
       "      <td>25</td>\n",
       "      <td>25.0</td>\n",
       "      <td>none</td>\n",
       "    </tr>\n",
       "    <tr>\n",
       "      <th>a aart blokhuis</th>\n",
       "      <td>1992</td>\n",
       "      <td>2005</td>\n",
       "      <td>2</td>\n",
       "      <td>14</td>\n",
       "      <td>1</td>\n",
       "      <td>1</td>\n",
       "      <td>1</td>\n",
       "      <td>0</td>\n",
       "      <td>0.0</td>\n",
       "      <td>none</td>\n",
       "    </tr>\n",
       "    <tr>\n",
       "      <th>a min tjoa</th>\n",
       "      <td>1979</td>\n",
       "      <td>2017</td>\n",
       "      <td>191</td>\n",
       "      <td>39</td>\n",
       "      <td>1</td>\n",
       "      <td>1</td>\n",
       "      <td>1</td>\n",
       "      <td>0</td>\n",
       "      <td>799.0</td>\n",
       "      <td>none</td>\n",
       "    </tr>\n",
       "    <tr>\n",
       "      <th>a-imam al-sammak</th>\n",
       "      <td>1992</td>\n",
       "      <td>2006</td>\n",
       "      <td>3</td>\n",
       "      <td>15</td>\n",
       "      <td>1</td>\n",
       "      <td>1</td>\n",
       "      <td>1</td>\n",
       "      <td>0</td>\n",
       "      <td>0.0</td>\n",
       "      <td>m</td>\n",
       "    </tr>\n",
       "    <tr>\n",
       "      <th>a-xing zhu</th>\n",
       "      <td>1998</td>\n",
       "      <td>2017</td>\n",
       "      <td>22</td>\n",
       "      <td>20</td>\n",
       "      <td>1</td>\n",
       "      <td>1</td>\n",
       "      <td>1</td>\n",
       "      <td>0</td>\n",
       "      <td>89.0</td>\n",
       "      <td>none</td>\n",
       "    </tr>\n",
       "  </tbody>\n",
       "</table>\n",
       "</div>"
      ],
      "text/plain": [
       "                  start_year  end_year  num_pub  career_length  \\\n",
       "author                                                           \n",
       "'maseka lesaoana        2001      2015        2             15   \n",
       "a aart blokhuis         1992      2005        2             14   \n",
       "a min tjoa              1979      2017      191             39   \n",
       "a-imam al-sammak        1992      2006        3             15   \n",
       "a-xing zhu              1998      2017       22             20   \n",
       "\n",
       "                  early_career_prod  early_career_prod_1  early_career_prod_2  \\\n",
       "author                                                                          \n",
       "'maseka lesaoana                  1                    1                    1   \n",
       "a aart blokhuis                   1                    1                    1   \n",
       "a min tjoa                        1                    1                    1   \n",
       "a-imam al-sammak                  1                    1                    1   \n",
       "a-xing zhu                        1                    1                    1   \n",
       "\n",
       "                  early_career_qual  final_citation_count gender  \n",
       "author                                                            \n",
       "'maseka lesaoana                 25                  25.0   none  \n",
       "a aart blokhuis                   0                   0.0   none  \n",
       "a min tjoa                        0                 799.0   none  \n",
       "a-imam al-sammak                  0                   0.0      m  \n",
       "a-xing zhu                        0                  89.0   none  "
      ]
     },
     "execution_count": 30,
     "metadata": {},
     "output_type": "execute_result"
    }
   ],
   "source": [
    "credible_authors.head()"
   ]
  },
  {
   "cell_type": "code",
   "execution_count": 31,
   "metadata": {},
   "outputs": [],
   "source": [
    "credible_authors.reset_index().to_csv('data/authors-scientific-atleast-' + str(CAREER_LENGTH) + '-year_extended.csv', \n",
    "                                      index=False)"
   ]
  },
  {
   "cell_type": "markdown",
   "metadata": {},
   "source": [
    "## Test for errors in files"
   ]
  },
  {
   "cell_type": "markdown",
   "metadata": {},
   "source": [
    "### Test if final citation count is working correctly"
   ]
  },
  {
   "cell_type": "code",
   "execution_count": 32,
   "metadata": {},
   "outputs": [],
   "source": [
    "final_less_than_early = credible_authors[credible_authors.final_citation_count < credible_authors.early_career_qual].shape\n",
    "assert final_less_than_early[0] == 0, \"Final citation count is smaller than early in {} cases.\".format(final_less_than_early[0])"
   ]
  },
  {
   "cell_type": "code",
   "execution_count": 33,
   "metadata": {},
   "outputs": [
    {
     "data": {
      "text/html": [
       "<div>\n",
       "<style scoped>\n",
       "    .dataframe tbody tr th:only-of-type {\n",
       "        vertical-align: middle;\n",
       "    }\n",
       "\n",
       "    .dataframe tbody tr th {\n",
       "        vertical-align: top;\n",
       "    }\n",
       "\n",
       "    .dataframe thead th {\n",
       "        text-align: right;\n",
       "    }\n",
       "</style>\n",
       "<table border=\"1\" class=\"dataframe\">\n",
       "  <thead>\n",
       "    <tr style=\"text-align: right;\">\n",
       "      <th></th>\n",
       "      <th>start_year</th>\n",
       "      <th>end_year</th>\n",
       "      <th>num_pub</th>\n",
       "      <th>career_length</th>\n",
       "      <th>early_career_prod</th>\n",
       "      <th>early_career_prod_1</th>\n",
       "      <th>early_career_prod_2</th>\n",
       "      <th>early_career_qual</th>\n",
       "      <th>final_citation_count</th>\n",
       "      <th>gender</th>\n",
       "    </tr>\n",
       "    <tr>\n",
       "      <th>author</th>\n",
       "      <th></th>\n",
       "      <th></th>\n",
       "      <th></th>\n",
       "      <th></th>\n",
       "      <th></th>\n",
       "      <th></th>\n",
       "      <th></th>\n",
       "      <th></th>\n",
       "      <th></th>\n",
       "      <th></th>\n",
       "    </tr>\n",
       "  </thead>\n",
       "  <tbody>\n",
       "  </tbody>\n",
       "</table>\n",
       "</div>"
      ],
      "text/plain": [
       "Empty DataFrame\n",
       "Columns: [start_year, end_year, num_pub, career_length, early_career_prod, early_career_prod_1, early_career_prod_2, early_career_qual, final_citation_count, gender]\n",
       "Index: []"
      ]
     },
     "execution_count": 33,
     "metadata": {},
     "output_type": "execute_result"
    }
   ],
   "source": [
    "credible_authors[credible_authors.final_citation_count < credible_authors.early_career_qual].head()"
   ]
  },
  {
   "cell_type": "code",
   "execution_count": null,
   "metadata": {},
   "outputs": [],
   "source": []
  },
  {
   "cell_type": "code",
   "execution_count": 206,
   "metadata": {},
   "outputs": [],
   "source": [
    "# Look for authors with more than 20K citations. Are they famous?\n",
    "authors_5k = credible_authors[credible_authors['final_citation_count'] > 5000]"
   ]
  },
  {
   "cell_type": "code",
   "execution_count": 207,
   "metadata": {},
   "outputs": [
    {
     "data": {
      "text/plain": [
       "Index(['robert w. heath jr.', 'robert tappan morris', 'shafi goldwasser',\n",
       "       'sally floyd', 'peter n. belhumeur', 'ramesh govindan', 'rajeev alur',\n",
       "       'david n. c. tse', 'david j. dewitt',\n",
       "       'alberto l. sangiovanni-vincentelli',\n",
       "       ...\n",
       "       'michael stonebraker', 'robert endre tarjan', 'ronald r. yager',\n",
       "       'adrian perrig', 'shuicheng yan', 'alexander j. smola',\n",
       "       'klaus-robert müller', 'dieter fox', 'dacheng tao', 'jian pei'],\n",
       "      dtype='object', name='author', length=183)"
      ]
     },
     "execution_count": 207,
     "metadata": {},
     "output_type": "execute_result"
    }
   ],
   "source": [
    "authors_10k.index"
   ]
  },
  {
   "cell_type": "code",
   "execution_count": 208,
   "metadata": {},
   "outputs": [
    {
     "data": {
      "text/plain": [
       "<matplotlib.axes._subplots.AxesSubplot at 0x7f177c7c6ac8>"
      ]
     },
     "execution_count": 208,
     "metadata": {},
     "output_type": "execute_result"
    },
    {
     "data": {
      "image/png": "[encoded data removed]",
      "text/plain": [
       "<matplotlib.figure.Figure at 0x7f177c786278>"
      ]
     },
     "metadata": {},
     "output_type": "display_data"
    }
   ],
   "source": [
    "authors_5k.early_career_prod_1.value_counts().sort_index().plot(kind='bar')"
   ]
  },
  {
   "cell_type": "code",
   "execution_count": 209,
   "metadata": {},
   "outputs": [
    {
     "data": {
      "text/plain": [
       "<matplotlib.axes._subplots.AxesSubplot at 0x7f177c78a390>"
      ]
     },
     "execution_count": 209,
     "metadata": {},
     "output_type": "execute_result"
    },
    {
     "data": {
      "image/png": "[encoded data removed]",
      "text/plain": [
       "<matplotlib.figure.Figure at 0x7f177c7440b8>"
      ]
     },
     "metadata": {},
     "output_type": "display_data"
    }
   ],
   "source": [
    "authors_5k.early_career_prod_2.value_counts().sort_index().plot(kind='bar')"
   ]
  },
  {
   "cell_type": "code",
   "execution_count": 210,
   "metadata": {},
   "outputs": [
    {
     "data": {
      "text/plain": [
       "<matplotlib.axes._subplots.AxesSubplot at 0x7f177c70ee10>"
      ]
     },
     "execution_count": 210,
     "metadata": {},
     "output_type": "execute_result"
    },
    {
     "data": {
      "image/png": "[encoded data removed]",
      "text/plain": [
       "<matplotlib.figure.Figure at 0x7f177c6d8048>"
      ]
     },
     "metadata": {},
     "output_type": "display_data"
    }
   ],
   "source": [
    "authors_5k.early_career_prod.value_counts().sort_index().plot(kind='bar')"
   ]
  },
  {
   "cell_type": "code",
   "execution_count": 211,
   "metadata": {},
   "outputs": [],
   "source": [
    "#credible_authors.drop(authors_20k, inplace=True)"
   ]
  },
  {
   "cell_type": "code",
   "execution_count": 147,
   "metadata": {
    "scrolled": false
   },
   "outputs": [
    {
     "data": {
      "text/plain": [
       "(41, 10)"
      ]
     },
     "execution_count": 147,
     "metadata": {},
     "output_type": "execute_result"
    }
   ],
   "source": [
    "# Test for extremly high early productivity\n",
    "credible_authors[(credible_authors.early_career_prod_1 >= 10)].shape"
   ]
  },
  {
   "cell_type": "code",
   "execution_count": 152,
   "metadata": {},
   "outputs": [
    {
     "data": {
      "text/plain": [
       "<matplotlib.axes._subplots.AxesSubplot at 0x7f175dd0be48>"
      ]
     },
     "execution_count": 152,
     "metadata": {},
     "output_type": "execute_result"
    },
    {
     "data": {
      "image/png": "[encoded data removed]",
      "text/plain": [
       "<matplotlib.figure.Figure at 0x7f17ae18e240>"
      ]
     },
     "metadata": {},
     "output_type": "display_data"
    }
   ],
   "source": [
    "credible_authors[(credible_authors.early_career_prod_1 >= 10)].start_year.value_counts().sort_index().plot(kind='bar')"
   ]
  },
  {
   "cell_type": "markdown",
   "metadata": {},
   "source": [
    "### Test gender files"
   ]
  },
  {
   "cell_type": "code",
   "execution_count": 39,
   "metadata": {},
   "outputs": [],
   "source": [
    "gender = pd.read_csv('./data/name_gender_2017_asiansAsNone_nodup.txt')"
   ]
  },
  {
   "cell_type": "code",
   "execution_count": 40,
   "metadata": {},
   "outputs": [],
   "source": [
    "gender_old = pd.read_csv('./data/name_gender_2017_asiansAsNone.txt')"
   ]
  },
  {
   "cell_type": "code",
   "execution_count": 41,
   "metadata": {},
   "outputs": [],
   "source": [
    "# import pickle\n",
    "# gender_id = pickle.load(open('./data/id_gender_2017_asiansAsNone.p', \"rb\" ) )\n",
    "# doesnt work. Python 3 vs 2?"
   ]
  },
  {
   "cell_type": "code",
   "execution_count": 42,
   "metadata": {},
   "outputs": [
    {
     "name": "stdout",
     "output_type": "stream",
     "text": [
      "(1704919, 2)\n",
      "(9471728, 2)\n"
     ]
    }
   ],
   "source": [
    "print(gender.shape)\n",
    "print(gender_old.shape)"
   ]
  },
  {
   "cell_type": "code",
   "execution_count": 43,
   "metadata": {},
   "outputs": [
    {
     "data": {
      "text/html": [
       "<div>\n",
       "<style scoped>\n",
       "    .dataframe tbody tr th:only-of-type {\n",
       "        vertical-align: middle;\n",
       "    }\n",
       "\n",
       "    .dataframe tbody tr th {\n",
       "        vertical-align: top;\n",
       "    }\n",
       "\n",
       "    .dataframe thead th {\n",
       "        text-align: right;\n",
       "    }\n",
       "</style>\n",
       "<table border=\"1\" class=\"dataframe\">\n",
       "  <thead>\n",
       "    <tr style=\"text-align: right;\">\n",
       "      <th></th>\n",
       "      <th>name</th>\n",
       "      <th>gender</th>\n",
       "    </tr>\n",
       "  </thead>\n",
       "  <tbody>\n",
       "    <tr>\n",
       "      <th>0</th>\n",
       "      <td>gareth beale</td>\n",
       "      <td>m</td>\n",
       "    </tr>\n",
       "    <tr>\n",
       "      <th>1</th>\n",
       "      <td>graeme earl</td>\n",
       "      <td>m</td>\n",
       "    </tr>\n",
       "    <tr>\n",
       "      <th>2</th>\n",
       "      <td>altaf hossain</td>\n",
       "      <td>m</td>\n",
       "    </tr>\n",
       "    <tr>\n",
       "      <th>3</th>\n",
       "      <td>faisal zaman</td>\n",
       "      <td>m</td>\n",
       "    </tr>\n",
       "    <tr>\n",
       "      <th>4</th>\n",
       "      <td>m. nasser</td>\n",
       "      <td>none</td>\n",
       "    </tr>\n",
       "  </tbody>\n",
       "</table>\n",
       "</div>"
      ],
      "text/plain": [
       "            name gender\n",
       "0   gareth beale      m\n",
       "1    graeme earl      m\n",
       "2  altaf hossain      m\n",
       "3   faisal zaman      m\n",
       "4      m. nasser   none"
      ]
     },
     "execution_count": 43,
     "metadata": {},
     "output_type": "execute_result"
    }
   ],
   "source": [
    "gender.head()"
   ]
  },
  {
   "cell_type": "code",
   "execution_count": 44,
   "metadata": {},
   "outputs": [],
   "source": [
    "gender_old = gender_old.drop_duplicates()"
   ]
  },
  {
   "cell_type": "code",
   "execution_count": 45,
   "metadata": {},
   "outputs": [
    {
     "data": {
      "text/html": [
       "<div>\n",
       "<style scoped>\n",
       "    .dataframe tbody tr th:only-of-type {\n",
       "        vertical-align: middle;\n",
       "    }\n",
       "\n",
       "    .dataframe tbody tr th {\n",
       "        vertical-align: top;\n",
       "    }\n",
       "\n",
       "    .dataframe thead th {\n",
       "        text-align: right;\n",
       "    }\n",
       "</style>\n",
       "<table border=\"1\" class=\"dataframe\">\n",
       "  <thead>\n",
       "    <tr style=\"text-align: right;\">\n",
       "      <th></th>\n",
       "      <th>name</th>\n",
       "      <th>gender</th>\n",
       "    </tr>\n",
       "  </thead>\n",
       "  <tbody>\n",
       "    <tr>\n",
       "      <th>2770</th>\n",
       "      <td>jorge santos 1</td>\n",
       "      <td>m</td>\n",
       "    </tr>\n",
       "    <tr>\n",
       "      <th>96427</th>\n",
       "      <td>ricardo jorge santos</td>\n",
       "      <td>m</td>\n",
       "    </tr>\n",
       "    <tr>\n",
       "      <th>476406</th>\n",
       "      <td>jorge santos</td>\n",
       "      <td>m</td>\n",
       "    </tr>\n",
       "    <tr>\n",
       "      <th>786851</th>\n",
       "      <td>jorge santos 2</td>\n",
       "      <td>m</td>\n",
       "    </tr>\n",
       "    <tr>\n",
       "      <th>3648191</th>\n",
       "      <td>jorge santos 3</td>\n",
       "      <td>m</td>\n",
       "    </tr>\n",
       "    <tr>\n",
       "      <th>4285718</th>\n",
       "      <td>jorge santos 0002</td>\n",
       "      <td>m</td>\n",
       "    </tr>\n",
       "    <tr>\n",
       "      <th>6215007</th>\n",
       "      <td>camillo jorge santos oliveira</td>\n",
       "      <td>m</td>\n",
       "    </tr>\n",
       "    <tr>\n",
       "      <th>7611136</th>\n",
       "      <td>jorge santos simón</td>\n",
       "      <td>m</td>\n",
       "    </tr>\n",
       "    <tr>\n",
       "      <th>8420724</th>\n",
       "      <td>esdras jorge santos barboza</td>\n",
       "      <td>m</td>\n",
       "    </tr>\n",
       "  </tbody>\n",
       "</table>\n",
       "</div>"
      ],
      "text/plain": [
       "                                  name gender\n",
       "2770                    jorge santos 1      m\n",
       "96427             ricardo jorge santos      m\n",
       "476406                    jorge santos      m\n",
       "786851                  jorge santos 2      m\n",
       "3648191                 jorge santos 3      m\n",
       "4285718              jorge santos 0002      m\n",
       "6215007  camillo jorge santos oliveira      m\n",
       "7611136             jorge santos simón      m\n",
       "8420724    esdras jorge santos barboza      m"
      ]
     },
     "execution_count": 45,
     "metadata": {},
     "output_type": "execute_result"
    }
   ],
   "source": [
    "gender_old[gender_old.name.str.contains(\"jorge santos\")]"
   ]
  },
  {
   "cell_type": "code",
   "execution_count": 46,
   "metadata": {},
   "outputs": [
    {
     "data": {
      "text/html": [
       "<div>\n",
       "<style scoped>\n",
       "    .dataframe tbody tr th:only-of-type {\n",
       "        vertical-align: middle;\n",
       "    }\n",
       "\n",
       "    .dataframe tbody tr th {\n",
       "        vertical-align: top;\n",
       "    }\n",
       "\n",
       "    .dataframe thead th {\n",
       "        text-align: right;\n",
       "    }\n",
       "</style>\n",
       "<table border=\"1\" class=\"dataframe\">\n",
       "  <thead>\n",
       "    <tr style=\"text-align: right;\">\n",
       "      <th></th>\n",
       "      <th>name</th>\n",
       "      <th>gender</th>\n",
       "    </tr>\n",
       "  </thead>\n",
       "  <tbody>\n",
       "    <tr>\n",
       "      <th>2545</th>\n",
       "      <td>jorge santos 1</td>\n",
       "      <td>m</td>\n",
       "    </tr>\n",
       "    <tr>\n",
       "      <th>70490</th>\n",
       "      <td>ricardo jorge santos</td>\n",
       "      <td>m</td>\n",
       "    </tr>\n",
       "    <tr>\n",
       "      <th>248275</th>\n",
       "      <td>jorge santos</td>\n",
       "      <td>m</td>\n",
       "    </tr>\n",
       "    <tr>\n",
       "      <th>382652</th>\n",
       "      <td>jorge santos 2</td>\n",
       "      <td>m</td>\n",
       "    </tr>\n",
       "    <tr>\n",
       "      <th>1025928</th>\n",
       "      <td>jorge santos 3</td>\n",
       "      <td>m</td>\n",
       "    </tr>\n",
       "    <tr>\n",
       "      <th>1119603</th>\n",
       "      <td>jorge santos 0002</td>\n",
       "      <td>m</td>\n",
       "    </tr>\n",
       "    <tr>\n",
       "      <th>1337773</th>\n",
       "      <td>camillo jorge santos oliveira</td>\n",
       "      <td>m</td>\n",
       "    </tr>\n",
       "    <tr>\n",
       "      <th>1501066</th>\n",
       "      <td>jorge santos simón</td>\n",
       "      <td>m</td>\n",
       "    </tr>\n",
       "    <tr>\n",
       "      <th>1614512</th>\n",
       "      <td>esdras jorge santos barboza</td>\n",
       "      <td>m</td>\n",
       "    </tr>\n",
       "  </tbody>\n",
       "</table>\n",
       "</div>"
      ],
      "text/plain": [
       "                                  name gender\n",
       "2545                    jorge santos 1      m\n",
       "70490             ricardo jorge santos      m\n",
       "248275                    jorge santos      m\n",
       "382652                  jorge santos 2      m\n",
       "1025928                 jorge santos 3      m\n",
       "1119603              jorge santos 0002      m\n",
       "1337773  camillo jorge santos oliveira      m\n",
       "1501066             jorge santos simón      m\n",
       "1614512    esdras jorge santos barboza      m"
      ]
     },
     "execution_count": 46,
     "metadata": {},
     "output_type": "execute_result"
    }
   ],
   "source": [
    "gender[gender.name.str.contains(\"jorge santos\")]"
   ]
  },
  {
   "cell_type": "code",
   "execution_count": 47,
   "metadata": {},
   "outputs": [],
   "source": [
    "## What is strange is that 'jorge santos 1' goes from none to 'm', but 'jorge santos' goes from 'm' to none"
   ]
  },
  {
   "cell_type": "code",
   "execution_count": 48,
   "metadata": {},
   "outputs": [
    {
     "data": {
      "text/html": [
       "<div>\n",
       "<style scoped>\n",
       "    .dataframe tbody tr th:only-of-type {\n",
       "        vertical-align: middle;\n",
       "    }\n",
       "\n",
       "    .dataframe tbody tr th {\n",
       "        vertical-align: top;\n",
       "    }\n",
       "\n",
       "    .dataframe thead th {\n",
       "        text-align: right;\n",
       "    }\n",
       "</style>\n",
       "<table border=\"1\" class=\"dataframe\">\n",
       "  <thead>\n",
       "    <tr style=\"text-align: right;\">\n",
       "      <th></th>\n",
       "      <th>name</th>\n",
       "    </tr>\n",
       "    <tr>\n",
       "      <th>gender</th>\n",
       "      <th></th>\n",
       "    </tr>\n",
       "  </thead>\n",
       "  <tbody>\n",
       "    <tr>\n",
       "      <th>f</th>\n",
       "      <td>255793</td>\n",
       "    </tr>\n",
       "    <tr>\n",
       "      <th>m</th>\n",
       "      <td>796975</td>\n",
       "    </tr>\n",
       "    <tr>\n",
       "      <th>none</th>\n",
       "      <td>652151</td>\n",
       "    </tr>\n",
       "  </tbody>\n",
       "</table>\n",
       "</div>"
      ],
      "text/plain": [
       "          name\n",
       "gender        \n",
       "f       255793\n",
       "m       796975\n",
       "none    652151"
      ]
     },
     "execution_count": 48,
     "metadata": {},
     "output_type": "execute_result"
    }
   ],
   "source": [
    "gender.groupby('gender').count()"
   ]
  },
  {
   "cell_type": "code",
   "execution_count": 49,
   "metadata": {},
   "outputs": [
    {
     "data": {
      "text/html": [
       "<div>\n",
       "<style scoped>\n",
       "    .dataframe tbody tr th:only-of-type {\n",
       "        vertical-align: middle;\n",
       "    }\n",
       "\n",
       "    .dataframe tbody tr th {\n",
       "        vertical-align: top;\n",
       "    }\n",
       "\n",
       "    .dataframe thead th {\n",
       "        text-align: right;\n",
       "    }\n",
       "</style>\n",
       "<table border=\"1\" class=\"dataframe\">\n",
       "  <thead>\n",
       "    <tr style=\"text-align: right;\">\n",
       "      <th></th>\n",
       "      <th>name</th>\n",
       "    </tr>\n",
       "    <tr>\n",
       "      <th>gender</th>\n",
       "      <th></th>\n",
       "    </tr>\n",
       "  </thead>\n",
       "  <tbody>\n",
       "    <tr>\n",
       "      <th>f</th>\n",
       "      <td>255793</td>\n",
       "    </tr>\n",
       "    <tr>\n",
       "      <th>m</th>\n",
       "      <td>796975</td>\n",
       "    </tr>\n",
       "    <tr>\n",
       "      <th>none</th>\n",
       "      <td>652151</td>\n",
       "    </tr>\n",
       "  </tbody>\n",
       "</table>\n",
       "</div>"
      ],
      "text/plain": [
       "          name\n",
       "gender        \n",
       "f       255793\n",
       "m       796975\n",
       "none    652151"
      ]
     },
     "execution_count": 49,
     "metadata": {},
     "output_type": "execute_result"
    }
   ],
   "source": [
    "gender_old.groupby('gender').count()"
   ]
  },
  {
   "cell_type": "code",
   "execution_count": 50,
   "metadata": {},
   "outputs": [],
   "source": [
    "merged = gender.merge(gender_old, on='name', suffixes=('_new', '_old'))"
   ]
  },
  {
   "cell_type": "code",
   "execution_count": 51,
   "metadata": {},
   "outputs": [
    {
     "data": {
      "text/html": [
       "<div>\n",
       "<style scoped>\n",
       "    .dataframe tbody tr th:only-of-type {\n",
       "        vertical-align: middle;\n",
       "    }\n",
       "\n",
       "    .dataframe tbody tr th {\n",
       "        vertical-align: top;\n",
       "    }\n",
       "\n",
       "    .dataframe thead th {\n",
       "        text-align: right;\n",
       "    }\n",
       "</style>\n",
       "<table border=\"1\" class=\"dataframe\">\n",
       "  <thead>\n",
       "    <tr style=\"text-align: right;\">\n",
       "      <th></th>\n",
       "      <th>name</th>\n",
       "      <th>gender_new</th>\n",
       "      <th>gender_old</th>\n",
       "    </tr>\n",
       "  </thead>\n",
       "  <tbody>\n",
       "    <tr>\n",
       "      <th>0</th>\n",
       "      <td>gareth beale</td>\n",
       "      <td>m</td>\n",
       "      <td>m</td>\n",
       "    </tr>\n",
       "    <tr>\n",
       "      <th>1</th>\n",
       "      <td>graeme earl</td>\n",
       "      <td>m</td>\n",
       "      <td>m</td>\n",
       "    </tr>\n",
       "    <tr>\n",
       "      <th>2</th>\n",
       "      <td>altaf hossain</td>\n",
       "      <td>m</td>\n",
       "      <td>m</td>\n",
       "    </tr>\n",
       "    <tr>\n",
       "      <th>3</th>\n",
       "      <td>faisal zaman</td>\n",
       "      <td>m</td>\n",
       "      <td>m</td>\n",
       "    </tr>\n",
       "    <tr>\n",
       "      <th>4</th>\n",
       "      <td>m. nasser</td>\n",
       "      <td>none</td>\n",
       "      <td>none</td>\n",
       "    </tr>\n",
       "  </tbody>\n",
       "</table>\n",
       "</div>"
      ],
      "text/plain": [
       "            name gender_new gender_old\n",
       "0   gareth beale          m          m\n",
       "1    graeme earl          m          m\n",
       "2  altaf hossain          m          m\n",
       "3   faisal zaman          m          m\n",
       "4      m. nasser       none       none"
      ]
     },
     "execution_count": 51,
     "metadata": {},
     "output_type": "execute_result"
    }
   ],
   "source": [
    "merged.head()"
   ]
  },
  {
   "cell_type": "code",
   "execution_count": 52,
   "metadata": {},
   "outputs": [
    {
     "name": "stdout",
     "output_type": "stream",
     "text": [
      "Empty DataFrame\n",
      "Columns: [name, gender_new, gender_old]\n",
      "Index: []\n",
      "(0, 3)\n"
     ]
    }
   ],
   "source": [
    "# Cases where we lose the gender by using new file ./data/name_gender_2017_asiansAsNone_nodup.txt\n",
    "print(merged[(merged.gender_new != merged.gender_old) & (merged.gender_new!='none')])\n",
    "print(merged[(merged.gender_new != merged.gender_old) & (merged.gender_new!='none')].shape)"
   ]
  },
  {
   "cell_type": "code",
   "execution_count": 74,
   "metadata": {},
   "outputs": [
    {
     "data": {
      "text/html": [
       "<div>\n",
       "<style scoped>\n",
       "    .dataframe tbody tr th:only-of-type {\n",
       "        vertical-align: middle;\n",
       "    }\n",
       "\n",
       "    .dataframe tbody tr th {\n",
       "        vertical-align: top;\n",
       "    }\n",
       "\n",
       "    .dataframe thead th {\n",
       "        text-align: right;\n",
       "    }\n",
       "</style>\n",
       "<table border=\"1\" class=\"dataframe\">\n",
       "  <thead>\n",
       "    <tr style=\"text-align: right;\">\n",
       "      <th></th>\n",
       "      <th>name</th>\n",
       "      <th>gender</th>\n",
       "    </tr>\n",
       "  </thead>\n",
       "  <tbody>\n",
       "    <tr>\n",
       "      <th>151887</th>\n",
       "      <td>michael r. smith 2</td>\n",
       "      <td>m</td>\n",
       "    </tr>\n",
       "    <tr>\n",
       "      <th>167781</th>\n",
       "      <td>michael r. smith 1</td>\n",
       "      <td>m</td>\n",
       "    </tr>\n",
       "    <tr>\n",
       "      <th>1344286</th>\n",
       "      <td>michael r. smith 0001</td>\n",
       "      <td>m</td>\n",
       "    </tr>\n",
       "    <tr>\n",
       "      <th>1627074</th>\n",
       "      <td>michael r. smith</td>\n",
       "      <td>m</td>\n",
       "    </tr>\n",
       "  </tbody>\n",
       "</table>\n",
       "</div>"
      ],
      "text/plain": [
       "                          name gender\n",
       "151887      michael r. smith 2      m\n",
       "167781      michael r. smith 1      m\n",
       "1344286  michael r. smith 0001      m\n",
       "1627074       michael r. smith      m"
      ]
     },
     "execution_count": 74,
     "metadata": {},
     "output_type": "execute_result"
    }
   ],
   "source": [
    "gender[gender.name.str.contains('michael r. smith')]"
   ]
  },
  {
   "cell_type": "markdown",
   "metadata": {},
   "source": [
    "#### Analyze people that have digits in their names"
   ]
  },
  {
   "cell_type": "code",
   "execution_count": 77,
   "metadata": {},
   "outputs": [],
   "source": [
    "digits = gender[gender.name.str.contains('\\d')]"
   ]
  },
  {
   "cell_type": "code",
   "execution_count": 102,
   "metadata": {},
   "outputs": [
    {
     "data": {
      "text/plain": [
       "<matplotlib.axes._subplots.AxesSubplot at 0x7f1752eeb3c8>"
      ]
     },
     "execution_count": 102,
     "metadata": {},
     "output_type": "execute_result"
    },
    {
     "data": {
      "image/png": "[encoded data removed]",
      "text/plain": [
       "<matplotlib.figure.Figure at 0x7f1752f67f60>"
      ]
     },
     "metadata": {},
     "output_type": "display_data"
    }
   ],
   "source": [
    "digits.gender.value_counts().plot(kind='bar')"
   ]
  },
  {
   "cell_type": "code",
   "execution_count": 82,
   "metadata": {},
   "outputs": [],
   "source": [
    "authors_digits = credible_authors.reset_index().merge(digits, left_on='author', right_on='name')"
   ]
  },
  {
   "cell_type": "code",
   "execution_count": 155,
   "metadata": {},
   "outputs": [],
   "source": [
    "digiAuthorPublicationData = authorPublicationData.merge(authors_digits, how=\"inner\", on=[\"author\"])"
   ]
  },
  {
   "cell_type": "code",
   "execution_count": 119,
   "metadata": {},
   "outputs": [
    {
     "data": {
      "text/plain": [
       "(2807, 13)"
      ]
     },
     "execution_count": 119,
     "metadata": {},
     "output_type": "execute_result"
    }
   ],
   "source": [
    "authors_digits.shape"
   ]
  },
  {
   "cell_type": "code",
   "execution_count": 169,
   "metadata": {},
   "outputs": [
    {
     "name": "stdout",
     "output_type": "stream",
     "text": [
      "Percentage of authors with numbers in names:  1.0977879982479195\n",
      "Percentage of publications:  2.0619261100898827\n",
      "Percentage of citations:  2.4855928704445573\n"
     ]
    }
   ],
   "source": [
    "print(\"Percentage of authors with numbers in names: \", authors_digits.shape[0]*100/credible_authors.shape[0])\n",
    "print(\"Percentage of publications: \", authors_digits.num_pub.sum()*100/credible_authors.num_pub.sum())\n",
    "print(\"Percentage of citations: \", authors_digits.final_citation_count.sum()*100/credible_authors.final_citation_count.sum())"
   ]
  },
  {
   "cell_type": "code",
   "execution_count": 142,
   "metadata": {},
   "outputs": [
    {
     "data": {
      "text/plain": [
       "<matplotlib.axes._subplots.AxesSubplot at 0x7f175f05fb70>"
      ]
     },
     "execution_count": 142,
     "metadata": {},
     "output_type": "execute_result"
    },
    {
     "data": {
      "image/png": "[encoded data removed]",
      "text/plain": [
       "<matplotlib.figure.Figure at 0x7f175dbe5c18>"
      ]
     },
     "metadata": {},
     "output_type": "display_data"
    }
   ],
   "source": [
    "authors_digits.early_career_prod_1.value_counts().reset_index().plot(kind='scatter', x='index', y='early_career_prod_1')"
   ]
  },
  {
   "cell_type": "code",
   "execution_count": 116,
   "metadata": {},
   "outputs": [
    {
     "data": {
      "text/plain": [
       "<matplotlib.axes._subplots.AxesSubplot at 0x7f175827fc88>"
      ]
     },
     "execution_count": 116,
     "metadata": {},
     "output_type": "execute_result"
    },
    {
     "data": {
      "image/png": "[encoded data removed]",
      "text/plain": [
       "<matplotlib.figure.Figure at 0x7f1756a741d0>"
      ]
     },
     "metadata": {},
     "output_type": "display_data"
    }
   ],
   "source": [
    "authors_digits.start_year.value_counts().sort_index().plot(kind='bar')"
   ]
  },
  {
   "cell_type": "code",
   "execution_count": 101,
   "metadata": {},
   "outputs": [
    {
     "data": {
      "text/plain": [
       "<matplotlib.axes._subplots.AxesSubplot at 0x7f1751cde0b8>"
      ]
     },
     "execution_count": 101,
     "metadata": {},
     "output_type": "execute_result"
    },
    {
     "data": {
      "image/png": "[encoded data removed]",
      "text/plain": [
       "<matplotlib.figure.Figure at 0x7f1752b686d8>"
      ]
     },
     "metadata": {},
     "output_type": "display_data"
    }
   ],
   "source": [
    "authors_digits.num_pub.value_counts().reset_index().plot(kind='scatter', x='index', y='num_pub')"
   ]
  },
  {
   "cell_type": "code",
   "execution_count": 190,
   "metadata": {},
   "outputs": [],
   "source": [
    "authors_digits['pub_per_year'] = authors_digits.num_pub / authors_digits.career_length"
   ]
  },
  {
   "cell_type": "code",
   "execution_count": 192,
   "metadata": {},
   "outputs": [
    {
     "data": {
      "image/png": "[encoded data removed]",
      "text/plain": [
       "<matplotlib.figure.Figure at 0x7f177c9fd828>"
      ]
     },
     "metadata": {},
     "output_type": "display_data"
    }
   ],
   "source": [
    "plt.plot(sorted(authors_digits['pub_per_year']))\n",
    "plt.show()"
   ]
  },
  {
   "cell_type": "code",
   "execution_count": 193,
   "metadata": {},
   "outputs": [
    {
     "data": {
      "text/html": [
       "<div>\n",
       "<style scoped>\n",
       "    .dataframe tbody tr th:only-of-type {\n",
       "        vertical-align: middle;\n",
       "    }\n",
       "\n",
       "    .dataframe tbody tr th {\n",
       "        vertical-align: top;\n",
       "    }\n",
       "\n",
       "    .dataframe thead th {\n",
       "        text-align: right;\n",
       "    }\n",
       "</style>\n",
       "<table border=\"1\" class=\"dataframe\">\n",
       "  <thead>\n",
       "    <tr style=\"text-align: right;\">\n",
       "      <th></th>\n",
       "      <th>author</th>\n",
       "      <th>start_year</th>\n",
       "      <th>end_year</th>\n",
       "      <th>num_pub</th>\n",
       "      <th>career_length</th>\n",
       "      <th>early_career_prod</th>\n",
       "      <th>early_career_prod_1</th>\n",
       "      <th>early_career_prod_2</th>\n",
       "      <th>early_career_qual</th>\n",
       "      <th>final_citation_count</th>\n",
       "      <th>gender_x</th>\n",
       "      <th>name</th>\n",
       "      <th>gender_y</th>\n",
       "      <th>pub_per_year</th>\n",
       "    </tr>\n",
       "  </thead>\n",
       "  <tbody>\n",
       "    <tr>\n",
       "      <th>396</th>\n",
       "      <td>jan peters 1</td>\n",
       "      <td>2002</td>\n",
       "      <td>2017</td>\n",
       "      <td>219</td>\n",
       "      <td>16</td>\n",
       "      <td>1</td>\n",
       "      <td>1</td>\n",
       "      <td>1</td>\n",
       "      <td>2</td>\n",
       "      <td>2918.0</td>\n",
       "      <td>m</td>\n",
       "      <td>jan peters 1</td>\n",
       "      <td>m</td>\n",
       "      <td>13.687500</td>\n",
       "    </tr>\n",
       "    <tr>\n",
       "      <th>415</th>\n",
       "      <td>long wang 1</td>\n",
       "      <td>2000</td>\n",
       "      <td>2017</td>\n",
       "      <td>209</td>\n",
       "      <td>18</td>\n",
       "      <td>1</td>\n",
       "      <td>1</td>\n",
       "      <td>1</td>\n",
       "      <td>0</td>\n",
       "      <td>1894.0</td>\n",
       "      <td>none</td>\n",
       "      <td>long wang 1</td>\n",
       "      <td>none</td>\n",
       "      <td>11.611111</td>\n",
       "    </tr>\n",
       "    <tr>\n",
       "      <th>516</th>\n",
       "      <td>tao li 1</td>\n",
       "      <td>1999</td>\n",
       "      <td>2017</td>\n",
       "      <td>249</td>\n",
       "      <td>19</td>\n",
       "      <td>1</td>\n",
       "      <td>1</td>\n",
       "      <td>1</td>\n",
       "      <td>2053</td>\n",
       "      <td>6399.0</td>\n",
       "      <td>none</td>\n",
       "      <td>tao li 1</td>\n",
       "      <td>none</td>\n",
       "      <td>13.105263</td>\n",
       "    </tr>\n",
       "    <tr>\n",
       "      <th>529</th>\n",
       "      <td>vijay kumar 1</td>\n",
       "      <td>1989</td>\n",
       "      <td>2017</td>\n",
       "      <td>355</td>\n",
       "      <td>29</td>\n",
       "      <td>1</td>\n",
       "      <td>1</td>\n",
       "      <td>1</td>\n",
       "      <td>6</td>\n",
       "      <td>6241.0</td>\n",
       "      <td>m</td>\n",
       "      <td>vijay kumar 1</td>\n",
       "      <td>m</td>\n",
       "      <td>12.241379</td>\n",
       "    </tr>\n",
       "    <tr>\n",
       "      <th>575</th>\n",
       "      <td>yi pan 1</td>\n",
       "      <td>1988</td>\n",
       "      <td>2017</td>\n",
       "      <td>317</td>\n",
       "      <td>30</td>\n",
       "      <td>1</td>\n",
       "      <td>1</td>\n",
       "      <td>1</td>\n",
       "      <td>0</td>\n",
       "      <td>2182.0</td>\n",
       "      <td>none</td>\n",
       "      <td>yi pan 1</td>\n",
       "      <td>none</td>\n",
       "      <td>10.566667</td>\n",
       "    </tr>\n",
       "    <tr>\n",
       "      <th>687</th>\n",
       "      <td>jie yang 2</td>\n",
       "      <td>1996</td>\n",
       "      <td>2017</td>\n",
       "      <td>273</td>\n",
       "      <td>22</td>\n",
       "      <td>1</td>\n",
       "      <td>1</td>\n",
       "      <td>1</td>\n",
       "      <td>0</td>\n",
       "      <td>1307.0</td>\n",
       "      <td>none</td>\n",
       "      <td>jie yang 2</td>\n",
       "      <td>none</td>\n",
       "      <td>12.409091</td>\n",
       "    </tr>\n",
       "    <tr>\n",
       "      <th>717</th>\n",
       "      <td>jie wu 1</td>\n",
       "      <td>1989</td>\n",
       "      <td>2017</td>\n",
       "      <td>649</td>\n",
       "      <td>29</td>\n",
       "      <td>2</td>\n",
       "      <td>1</td>\n",
       "      <td>2</td>\n",
       "      <td>2</td>\n",
       "      <td>9289.0</td>\n",
       "      <td>none</td>\n",
       "      <td>jie wu 1</td>\n",
       "      <td>none</td>\n",
       "      <td>22.379310</td>\n",
       "    </tr>\n",
       "    <tr>\n",
       "      <th>727</th>\n",
       "      <td>jianmin wang 1</td>\n",
       "      <td>2000</td>\n",
       "      <td>2017</td>\n",
       "      <td>203</td>\n",
       "      <td>18</td>\n",
       "      <td>2</td>\n",
       "      <td>1</td>\n",
       "      <td>1</td>\n",
       "      <td>33</td>\n",
       "      <td>1615.0</td>\n",
       "      <td>none</td>\n",
       "      <td>jianmin wang 1</td>\n",
       "      <td>none</td>\n",
       "      <td>11.277778</td>\n",
       "    </tr>\n",
       "    <tr>\n",
       "      <th>752</th>\n",
       "      <td>jun zhang 3</td>\n",
       "      <td>2001</td>\n",
       "      <td>2017</td>\n",
       "      <td>174</td>\n",
       "      <td>17</td>\n",
       "      <td>2</td>\n",
       "      <td>1</td>\n",
       "      <td>1</td>\n",
       "      <td>7</td>\n",
       "      <td>1563.0</td>\n",
       "      <td>none</td>\n",
       "      <td>jun zhang 3</td>\n",
       "      <td>none</td>\n",
       "      <td>10.235294</td>\n",
       "    </tr>\n",
       "    <tr>\n",
       "      <th>814</th>\n",
       "      <td>satoshi nakamura 1</td>\n",
       "      <td>1990</td>\n",
       "      <td>2017</td>\n",
       "      <td>427</td>\n",
       "      <td>28</td>\n",
       "      <td>2</td>\n",
       "      <td>2</td>\n",
       "      <td>2</td>\n",
       "      <td>0</td>\n",
       "      <td>1605.0</td>\n",
       "      <td>m</td>\n",
       "      <td>satoshi nakamura 1</td>\n",
       "      <td>m</td>\n",
       "      <td>15.250000</td>\n",
       "    </tr>\n",
       "    <tr>\n",
       "      <th>1067</th>\n",
       "      <td>rui zhang 6</td>\n",
       "      <td>2000</td>\n",
       "      <td>2017</td>\n",
       "      <td>247</td>\n",
       "      <td>18</td>\n",
       "      <td>2</td>\n",
       "      <td>1</td>\n",
       "      <td>2</td>\n",
       "      <td>14</td>\n",
       "      <td>8539.0</td>\n",
       "      <td>none</td>\n",
       "      <td>rui zhang 6</td>\n",
       "      <td>none</td>\n",
       "      <td>13.722222</td>\n",
       "    </tr>\n",
       "    <tr>\n",
       "      <th>1129</th>\n",
       "      <td>bernd becker 1</td>\n",
       "      <td>1983</td>\n",
       "      <td>2017</td>\n",
       "      <td>352</td>\n",
       "      <td>35</td>\n",
       "      <td>2</td>\n",
       "      <td>1</td>\n",
       "      <td>1</td>\n",
       "      <td>1</td>\n",
       "      <td>2602.0</td>\n",
       "      <td>m</td>\n",
       "      <td>bernd becker 1</td>\n",
       "      <td>m</td>\n",
       "      <td>10.057143</td>\n",
       "    </tr>\n",
       "    <tr>\n",
       "      <th>1519</th>\n",
       "      <td>tao jiang 2</td>\n",
       "      <td>2003</td>\n",
       "      <td>2017</td>\n",
       "      <td>172</td>\n",
       "      <td>15</td>\n",
       "      <td>3</td>\n",
       "      <td>1</td>\n",
       "      <td>2</td>\n",
       "      <td>71</td>\n",
       "      <td>1183.0</td>\n",
       "      <td>none</td>\n",
       "      <td>tao jiang 2</td>\n",
       "      <td>none</td>\n",
       "      <td>11.466667</td>\n",
       "    </tr>\n",
       "    <tr>\n",
       "      <th>1535</th>\n",
       "      <td>jianwei zhang 1</td>\n",
       "      <td>1994</td>\n",
       "      <td>2016</td>\n",
       "      <td>246</td>\n",
       "      <td>23</td>\n",
       "      <td>3</td>\n",
       "      <td>2</td>\n",
       "      <td>2</td>\n",
       "      <td>7</td>\n",
       "      <td>744.0</td>\n",
       "      <td>none</td>\n",
       "      <td>jianwei zhang 1</td>\n",
       "      <td>none</td>\n",
       "      <td>10.695652</td>\n",
       "    </tr>\n",
       "    <tr>\n",
       "      <th>1611</th>\n",
       "      <td>anil k. jain 1</td>\n",
       "      <td>1976</td>\n",
       "      <td>2017</td>\n",
       "      <td>425</td>\n",
       "      <td>42</td>\n",
       "      <td>3</td>\n",
       "      <td>1</td>\n",
       "      <td>1</td>\n",
       "      <td>156</td>\n",
       "      <td>26756.0</td>\n",
       "      <td>m</td>\n",
       "      <td>anil k. jain 1</td>\n",
       "      <td>m</td>\n",
       "      <td>10.119048</td>\n",
       "    </tr>\n",
       "    <tr>\n",
       "      <th>1682</th>\n",
       "      <td>minglu li 1</td>\n",
       "      <td>1996</td>\n",
       "      <td>2016</td>\n",
       "      <td>331</td>\n",
       "      <td>21</td>\n",
       "      <td>4</td>\n",
       "      <td>2</td>\n",
       "      <td>4</td>\n",
       "      <td>1</td>\n",
       "      <td>2124.0</td>\n",
       "      <td>none</td>\n",
       "      <td>minglu li 1</td>\n",
       "      <td>none</td>\n",
       "      <td>15.761905</td>\n",
       "    </tr>\n",
       "    <tr>\n",
       "      <th>1727</th>\n",
       "      <td>yuan xie 1</td>\n",
       "      <td>2000</td>\n",
       "      <td>2017</td>\n",
       "      <td>314</td>\n",
       "      <td>18</td>\n",
       "      <td>4</td>\n",
       "      <td>1</td>\n",
       "      <td>3</td>\n",
       "      <td>108</td>\n",
       "      <td>5811.0</td>\n",
       "      <td>none</td>\n",
       "      <td>yuan xie 1</td>\n",
       "      <td>none</td>\n",
       "      <td>17.444444</td>\n",
       "    </tr>\n",
       "    <tr>\n",
       "      <th>1763</th>\n",
       "      <td>peter willett 1</td>\n",
       "      <td>1995</td>\n",
       "      <td>2017</td>\n",
       "      <td>251</td>\n",
       "      <td>23</td>\n",
       "      <td>4</td>\n",
       "      <td>1</td>\n",
       "      <td>3</td>\n",
       "      <td>6</td>\n",
       "      <td>1687.0</td>\n",
       "      <td>m</td>\n",
       "      <td>peter willett 1</td>\n",
       "      <td>m</td>\n",
       "      <td>10.913043</td>\n",
       "    </tr>\n",
       "    <tr>\n",
       "      <th>1862</th>\n",
       "      <td>zhaoyang zhang 1</td>\n",
       "      <td>1999</td>\n",
       "      <td>2017</td>\n",
       "      <td>247</td>\n",
       "      <td>19</td>\n",
       "      <td>4</td>\n",
       "      <td>1</td>\n",
       "      <td>4</td>\n",
       "      <td>568</td>\n",
       "      <td>2348.0</td>\n",
       "      <td>none</td>\n",
       "      <td>zhaoyang zhang 1</td>\n",
       "      <td>none</td>\n",
       "      <td>13.000000</td>\n",
       "    </tr>\n",
       "    <tr>\n",
       "      <th>1960</th>\n",
       "      <td>kaushik roy 1</td>\n",
       "      <td>1988</td>\n",
       "      <td>2017</td>\n",
       "      <td>563</td>\n",
       "      <td>30</td>\n",
       "      <td>5</td>\n",
       "      <td>1</td>\n",
       "      <td>3</td>\n",
       "      <td>164</td>\n",
       "      <td>7605.0</td>\n",
       "      <td>m</td>\n",
       "      <td>kaushik roy 1</td>\n",
       "      <td>m</td>\n",
       "      <td>18.766667</td>\n",
       "    </tr>\n",
       "    <tr>\n",
       "      <th>1990</th>\n",
       "      <td>thomas seidl 1</td>\n",
       "      <td>1993</td>\n",
       "      <td>2017</td>\n",
       "      <td>254</td>\n",
       "      <td>25</td>\n",
       "      <td>5</td>\n",
       "      <td>2</td>\n",
       "      <td>2</td>\n",
       "      <td>31</td>\n",
       "      <td>2977.0</td>\n",
       "      <td>none</td>\n",
       "      <td>thomas seidl 1</td>\n",
       "      <td>none</td>\n",
       "      <td>10.160000</td>\n",
       "    </tr>\n",
       "    <tr>\n",
       "      <th>2027</th>\n",
       "      <td>kui ren 1</td>\n",
       "      <td>2004</td>\n",
       "      <td>2017</td>\n",
       "      <td>181</td>\n",
       "      <td>14</td>\n",
       "      <td>5</td>\n",
       "      <td>2</td>\n",
       "      <td>2</td>\n",
       "      <td>153</td>\n",
       "      <td>4572.0</td>\n",
       "      <td>none</td>\n",
       "      <td>kui ren 1</td>\n",
       "      <td>none</td>\n",
       "      <td>12.928571</td>\n",
       "    </tr>\n",
       "    <tr>\n",
       "      <th>2035</th>\n",
       "      <td>xin yao 1</td>\n",
       "      <td>1992</td>\n",
       "      <td>2017</td>\n",
       "      <td>469</td>\n",
       "      <td>26</td>\n",
       "      <td>5</td>\n",
       "      <td>1</td>\n",
       "      <td>3</td>\n",
       "      <td>200</td>\n",
       "      <td>11008.0</td>\n",
       "      <td>none</td>\n",
       "      <td>xin yao 1</td>\n",
       "      <td>none</td>\n",
       "      <td>18.038462</td>\n",
       "    </tr>\n",
       "    <tr>\n",
       "      <th>2168</th>\n",
       "      <td>wenbo wang 7</td>\n",
       "      <td>2001</td>\n",
       "      <td>2017</td>\n",
       "      <td>385</td>\n",
       "      <td>17</td>\n",
       "      <td>6</td>\n",
       "      <td>1</td>\n",
       "      <td>1</td>\n",
       "      <td>4</td>\n",
       "      <td>2752.0</td>\n",
       "      <td>none</td>\n",
       "      <td>wenbo wang 7</td>\n",
       "      <td>none</td>\n",
       "      <td>22.647059</td>\n",
       "    </tr>\n",
       "    <tr>\n",
       "      <th>2186</th>\n",
       "      <td>wei chen 2</td>\n",
       "      <td>2005</td>\n",
       "      <td>2017</td>\n",
       "      <td>131</td>\n",
       "      <td>13</td>\n",
       "      <td>6</td>\n",
       "      <td>1</td>\n",
       "      <td>3</td>\n",
       "      <td>84</td>\n",
       "      <td>814.0</td>\n",
       "      <td>none</td>\n",
       "      <td>wei chen 2</td>\n",
       "      <td>none</td>\n",
       "      <td>10.076923</td>\n",
       "    </tr>\n",
       "    <tr>\n",
       "      <th>2202</th>\n",
       "      <td>sheng chen 1</td>\n",
       "      <td>1993</td>\n",
       "      <td>2017</td>\n",
       "      <td>292</td>\n",
       "      <td>25</td>\n",
       "      <td>6</td>\n",
       "      <td>2</td>\n",
       "      <td>3</td>\n",
       "      <td>335</td>\n",
       "      <td>3153.0</td>\n",
       "      <td>none</td>\n",
       "      <td>sheng chen 1</td>\n",
       "      <td>none</td>\n",
       "      <td>11.680000</td>\n",
       "    </tr>\n",
       "    <tr>\n",
       "      <th>2287</th>\n",
       "      <td>yan zhang 2</td>\n",
       "      <td>2003</td>\n",
       "      <td>2017</td>\n",
       "      <td>230</td>\n",
       "      <td>15</td>\n",
       "      <td>6</td>\n",
       "      <td>1</td>\n",
       "      <td>4</td>\n",
       "      <td>23</td>\n",
       "      <td>2428.0</td>\n",
       "      <td>none</td>\n",
       "      <td>yan zhang 2</td>\n",
       "      <td>none</td>\n",
       "      <td>15.333333</td>\n",
       "    </tr>\n",
       "    <tr>\n",
       "      <th>2302</th>\n",
       "      <td>david zhang 1</td>\n",
       "      <td>1994</td>\n",
       "      <td>2017</td>\n",
       "      <td>481</td>\n",
       "      <td>24</td>\n",
       "      <td>6</td>\n",
       "      <td>2</td>\n",
       "      <td>3</td>\n",
       "      <td>1</td>\n",
       "      <td>11646.0</td>\n",
       "      <td>none</td>\n",
       "      <td>david zhang 1</td>\n",
       "      <td>none</td>\n",
       "      <td>20.041667</td>\n",
       "    </tr>\n",
       "    <tr>\n",
       "      <th>2309</th>\n",
       "      <td>qiang yang 1</td>\n",
       "      <td>1989</td>\n",
       "      <td>2017</td>\n",
       "      <td>389</td>\n",
       "      <td>29</td>\n",
       "      <td>6</td>\n",
       "      <td>1</td>\n",
       "      <td>3</td>\n",
       "      <td>126</td>\n",
       "      <td>12697.0</td>\n",
       "      <td>none</td>\n",
       "      <td>qiang yang 1</td>\n",
       "      <td>none</td>\n",
       "      <td>13.413793</td>\n",
       "    </tr>\n",
       "    <tr>\n",
       "      <th>2337</th>\n",
       "      <td>xiaowei li 1</td>\n",
       "      <td>1998</td>\n",
       "      <td>2017</td>\n",
       "      <td>231</td>\n",
       "      <td>20</td>\n",
       "      <td>7</td>\n",
       "      <td>1</td>\n",
       "      <td>3</td>\n",
       "      <td>9</td>\n",
       "      <td>936.0</td>\n",
       "      <td>none</td>\n",
       "      <td>xiaowei li 1</td>\n",
       "      <td>none</td>\n",
       "      <td>11.550000</td>\n",
       "    </tr>\n",
       "    <tr>\n",
       "      <th>...</th>\n",
       "      <td>...</td>\n",
       "      <td>...</td>\n",
       "      <td>...</td>\n",
       "      <td>...</td>\n",
       "      <td>...</td>\n",
       "      <td>...</td>\n",
       "      <td>...</td>\n",
       "      <td>...</td>\n",
       "      <td>...</td>\n",
       "      <td>...</td>\n",
       "      <td>...</td>\n",
       "      <td>...</td>\n",
       "      <td>...</td>\n",
       "      <td>...</td>\n",
       "    </tr>\n",
       "    <tr>\n",
       "      <th>2555</th>\n",
       "      <td>ning zhong 1</td>\n",
       "      <td>1993</td>\n",
       "      <td>2017</td>\n",
       "      <td>282</td>\n",
       "      <td>25</td>\n",
       "      <td>9</td>\n",
       "      <td>3</td>\n",
       "      <td>6</td>\n",
       "      <td>73</td>\n",
       "      <td>1747.0</td>\n",
       "      <td>none</td>\n",
       "      <td>ning zhong 1</td>\n",
       "      <td>none</td>\n",
       "      <td>11.280000</td>\n",
       "    </tr>\n",
       "    <tr>\n",
       "      <th>2564</th>\n",
       "      <td>ming-hsuan yang 1</td>\n",
       "      <td>1997</td>\n",
       "      <td>2017</td>\n",
       "      <td>212</td>\n",
       "      <td>21</td>\n",
       "      <td>9</td>\n",
       "      <td>1</td>\n",
       "      <td>6</td>\n",
       "      <td>399</td>\n",
       "      <td>11247.0</td>\n",
       "      <td>m</td>\n",
       "      <td>ming-hsuan yang 1</td>\n",
       "      <td>m</td>\n",
       "      <td>10.095238</td>\n",
       "    </tr>\n",
       "    <tr>\n",
       "      <th>2584</th>\n",
       "      <td>hui li 6</td>\n",
       "      <td>2007</td>\n",
       "      <td>2017</td>\n",
       "      <td>179</td>\n",
       "      <td>11</td>\n",
       "      <td>9</td>\n",
       "      <td>1</td>\n",
       "      <td>4</td>\n",
       "      <td>11</td>\n",
       "      <td>1038.0</td>\n",
       "      <td>none</td>\n",
       "      <td>hui li 6</td>\n",
       "      <td>none</td>\n",
       "      <td>16.272727</td>\n",
       "    </tr>\n",
       "    <tr>\n",
       "      <th>2585</th>\n",
       "      <td>wen gao 1</td>\n",
       "      <td>1995</td>\n",
       "      <td>2017</td>\n",
       "      <td>981</td>\n",
       "      <td>23</td>\n",
       "      <td>9</td>\n",
       "      <td>3</td>\n",
       "      <td>3</td>\n",
       "      <td>7</td>\n",
       "      <td>9525.0</td>\n",
       "      <td>none</td>\n",
       "      <td>wen gao 1</td>\n",
       "      <td>none</td>\n",
       "      <td>42.652174</td>\n",
       "    </tr>\n",
       "    <tr>\n",
       "      <th>2595</th>\n",
       "      <td>lei chen 2</td>\n",
       "      <td>2002</td>\n",
       "      <td>2017</td>\n",
       "      <td>307</td>\n",
       "      <td>16</td>\n",
       "      <td>9</td>\n",
       "      <td>3</td>\n",
       "      <td>5</td>\n",
       "      <td>347</td>\n",
       "      <td>4381.0</td>\n",
       "      <td>none</td>\n",
       "      <td>lei chen 2</td>\n",
       "      <td>none</td>\n",
       "      <td>19.187500</td>\n",
       "    </tr>\n",
       "    <tr>\n",
       "      <th>2629</th>\n",
       "      <td>jian yang 3</td>\n",
       "      <td>2002</td>\n",
       "      <td>2017</td>\n",
       "      <td>206</td>\n",
       "      <td>16</td>\n",
       "      <td>10</td>\n",
       "      <td>1</td>\n",
       "      <td>4</td>\n",
       "      <td>1300</td>\n",
       "      <td>3737.0</td>\n",
       "      <td>none</td>\n",
       "      <td>jian yang 3</td>\n",
       "      <td>none</td>\n",
       "      <td>12.875000</td>\n",
       "    </tr>\n",
       "    <tr>\n",
       "      <th>2631</th>\n",
       "      <td>wen chen 1</td>\n",
       "      <td>2005</td>\n",
       "      <td>2017</td>\n",
       "      <td>139</td>\n",
       "      <td>13</td>\n",
       "      <td>10</td>\n",
       "      <td>4</td>\n",
       "      <td>6</td>\n",
       "      <td>6</td>\n",
       "      <td>686.0</td>\n",
       "      <td>none</td>\n",
       "      <td>wen chen 1</td>\n",
       "      <td>none</td>\n",
       "      <td>10.692308</td>\n",
       "    </tr>\n",
       "    <tr>\n",
       "      <th>2639</th>\n",
       "      <td>ling liu 1</td>\n",
       "      <td>1995</td>\n",
       "      <td>2017</td>\n",
       "      <td>267</td>\n",
       "      <td>23</td>\n",
       "      <td>10</td>\n",
       "      <td>1</td>\n",
       "      <td>6</td>\n",
       "      <td>85</td>\n",
       "      <td>5254.0</td>\n",
       "      <td>none</td>\n",
       "      <td>ling liu 1</td>\n",
       "      <td>none</td>\n",
       "      <td>11.608696</td>\n",
       "    </tr>\n",
       "    <tr>\n",
       "      <th>2650</th>\n",
       "      <td>liuqing yang 1</td>\n",
       "      <td>2002</td>\n",
       "      <td>2017</td>\n",
       "      <td>184</td>\n",
       "      <td>16</td>\n",
       "      <td>10</td>\n",
       "      <td>2</td>\n",
       "      <td>6</td>\n",
       "      <td>304</td>\n",
       "      <td>1540.0</td>\n",
       "      <td>none</td>\n",
       "      <td>liuqing yang 1</td>\n",
       "      <td>none</td>\n",
       "      <td>11.500000</td>\n",
       "    </tr>\n",
       "    <tr>\n",
       "      <th>2651</th>\n",
       "      <td>yan chen 7</td>\n",
       "      <td>2006</td>\n",
       "      <td>2017</td>\n",
       "      <td>144</td>\n",
       "      <td>12</td>\n",
       "      <td>10</td>\n",
       "      <td>5</td>\n",
       "      <td>8</td>\n",
       "      <td>100</td>\n",
       "      <td>924.0</td>\n",
       "      <td>none</td>\n",
       "      <td>yan chen 7</td>\n",
       "      <td>none</td>\n",
       "      <td>12.000000</td>\n",
       "    </tr>\n",
       "    <tr>\n",
       "      <th>2677</th>\n",
       "      <td>xiang-yang li 1</td>\n",
       "      <td>1998</td>\n",
       "      <td>2017</td>\n",
       "      <td>373</td>\n",
       "      <td>20</td>\n",
       "      <td>11</td>\n",
       "      <td>2</td>\n",
       "      <td>7</td>\n",
       "      <td>108</td>\n",
       "      <td>5975.0</td>\n",
       "      <td>m</td>\n",
       "      <td>xiang-yang li 1</td>\n",
       "      <td>m</td>\n",
       "      <td>18.650000</td>\n",
       "    </tr>\n",
       "    <tr>\n",
       "      <th>2693</th>\n",
       "      <td>lei zhang 1</td>\n",
       "      <td>2001</td>\n",
       "      <td>2016</td>\n",
       "      <td>169</td>\n",
       "      <td>16</td>\n",
       "      <td>11</td>\n",
       "      <td>2</td>\n",
       "      <td>5</td>\n",
       "      <td>324</td>\n",
       "      <td>3653.0</td>\n",
       "      <td>none</td>\n",
       "      <td>lei zhang 1</td>\n",
       "      <td>none</td>\n",
       "      <td>10.562500</td>\n",
       "    </tr>\n",
       "    <tr>\n",
       "      <th>2694</th>\n",
       "      <td>fei wang 1</td>\n",
       "      <td>2004</td>\n",
       "      <td>2017</td>\n",
       "      <td>159</td>\n",
       "      <td>14</td>\n",
       "      <td>11</td>\n",
       "      <td>2</td>\n",
       "      <td>6</td>\n",
       "      <td>325</td>\n",
       "      <td>2508.0</td>\n",
       "      <td>none</td>\n",
       "      <td>fei wang 1</td>\n",
       "      <td>none</td>\n",
       "      <td>11.357143</td>\n",
       "    </tr>\n",
       "    <tr>\n",
       "      <th>2698</th>\n",
       "      <td>peng shi 1</td>\n",
       "      <td>1998</td>\n",
       "      <td>2017</td>\n",
       "      <td>380</td>\n",
       "      <td>20</td>\n",
       "      <td>11</td>\n",
       "      <td>5</td>\n",
       "      <td>9</td>\n",
       "      <td>267</td>\n",
       "      <td>7154.0</td>\n",
       "      <td>none</td>\n",
       "      <td>peng shi 1</td>\n",
       "      <td>none</td>\n",
       "      <td>19.000000</td>\n",
       "    </tr>\n",
       "    <tr>\n",
       "      <th>2700</th>\n",
       "      <td>lei zhang 6</td>\n",
       "      <td>2002</td>\n",
       "      <td>2017</td>\n",
       "      <td>266</td>\n",
       "      <td>16</td>\n",
       "      <td>11</td>\n",
       "      <td>2</td>\n",
       "      <td>7</td>\n",
       "      <td>274</td>\n",
       "      <td>9435.0</td>\n",
       "      <td>none</td>\n",
       "      <td>lei zhang 6</td>\n",
       "      <td>none</td>\n",
       "      <td>16.625000</td>\n",
       "    </tr>\n",
       "    <tr>\n",
       "      <th>2701</th>\n",
       "      <td>luis alonso 1</td>\n",
       "      <td>2005</td>\n",
       "      <td>2017</td>\n",
       "      <td>134</td>\n",
       "      <td>13</td>\n",
       "      <td>11</td>\n",
       "      <td>2</td>\n",
       "      <td>6</td>\n",
       "      <td>56</td>\n",
       "      <td>934.0</td>\n",
       "      <td>m</td>\n",
       "      <td>luis alonso 1</td>\n",
       "      <td>m</td>\n",
       "      <td>10.307692</td>\n",
       "    </tr>\n",
       "    <tr>\n",
       "      <th>2705</th>\n",
       "      <td>haris aziz 1</td>\n",
       "      <td>2008</td>\n",
       "      <td>2017</td>\n",
       "      <td>104</td>\n",
       "      <td>10</td>\n",
       "      <td>11</td>\n",
       "      <td>3</td>\n",
       "      <td>8</td>\n",
       "      <td>527</td>\n",
       "      <td>963.0</td>\n",
       "      <td>m</td>\n",
       "      <td>haris aziz 1</td>\n",
       "      <td>m</td>\n",
       "      <td>10.400000</td>\n",
       "    </tr>\n",
       "    <tr>\n",
       "      <th>2727</th>\n",
       "      <td>ping zhang 3</td>\n",
       "      <td>2002</td>\n",
       "      <td>2016</td>\n",
       "      <td>248</td>\n",
       "      <td>15</td>\n",
       "      <td>12</td>\n",
       "      <td>8</td>\n",
       "      <td>11</td>\n",
       "      <td>43</td>\n",
       "      <td>826.0</td>\n",
       "      <td>none</td>\n",
       "      <td>ping zhang 3</td>\n",
       "      <td>none</td>\n",
       "      <td>16.533333</td>\n",
       "    </tr>\n",
       "    <tr>\n",
       "      <th>2749</th>\n",
       "      <td>yu wang 2</td>\n",
       "      <td>2006</td>\n",
       "      <td>2017</td>\n",
       "      <td>160</td>\n",
       "      <td>12</td>\n",
       "      <td>14</td>\n",
       "      <td>6</td>\n",
       "      <td>10</td>\n",
       "      <td>113</td>\n",
       "      <td>1048.0</td>\n",
       "      <td>none</td>\n",
       "      <td>yu wang 2</td>\n",
       "      <td>none</td>\n",
       "      <td>13.333333</td>\n",
       "    </tr>\n",
       "    <tr>\n",
       "      <th>2758</th>\n",
       "      <td>wei zhang 1</td>\n",
       "      <td>2004</td>\n",
       "      <td>2017</td>\n",
       "      <td>157</td>\n",
       "      <td>14</td>\n",
       "      <td>14</td>\n",
       "      <td>4</td>\n",
       "      <td>9</td>\n",
       "      <td>1192</td>\n",
       "      <td>3348.0</td>\n",
       "      <td>none</td>\n",
       "      <td>wei zhang 1</td>\n",
       "      <td>none</td>\n",
       "      <td>11.214286</td>\n",
       "    </tr>\n",
       "    <tr>\n",
       "      <th>2762</th>\n",
       "      <td>li guo 1</td>\n",
       "      <td>2005</td>\n",
       "      <td>2016</td>\n",
       "      <td>151</td>\n",
       "      <td>12</td>\n",
       "      <td>14</td>\n",
       "      <td>3</td>\n",
       "      <td>8</td>\n",
       "      <td>99</td>\n",
       "      <td>1090.0</td>\n",
       "      <td>none</td>\n",
       "      <td>li guo 1</td>\n",
       "      <td>none</td>\n",
       "      <td>12.583333</td>\n",
       "    </tr>\n",
       "    <tr>\n",
       "      <th>2777</th>\n",
       "      <td>albrecht schmidt 1</td>\n",
       "      <td>1998</td>\n",
       "      <td>2017</td>\n",
       "      <td>339</td>\n",
       "      <td>20</td>\n",
       "      <td>16</td>\n",
       "      <td>1</td>\n",
       "      <td>10</td>\n",
       "      <td>1061</td>\n",
       "      <td>5287.0</td>\n",
       "      <td>m</td>\n",
       "      <td>albrecht schmidt 1</td>\n",
       "      <td>m</td>\n",
       "      <td>16.950000</td>\n",
       "    </tr>\n",
       "    <tr>\n",
       "      <th>2786</th>\n",
       "      <td>xing xie 1</td>\n",
       "      <td>2002</td>\n",
       "      <td>2017</td>\n",
       "      <td>206</td>\n",
       "      <td>16</td>\n",
       "      <td>18</td>\n",
       "      <td>1</td>\n",
       "      <td>8</td>\n",
       "      <td>622</td>\n",
       "      <td>6619.0</td>\n",
       "      <td>none</td>\n",
       "      <td>xing xie 1</td>\n",
       "      <td>none</td>\n",
       "      <td>12.875000</td>\n",
       "    </tr>\n",
       "    <tr>\n",
       "      <th>2789</th>\n",
       "      <td>meng wang 1</td>\n",
       "      <td>2005</td>\n",
       "      <td>2017</td>\n",
       "      <td>209</td>\n",
       "      <td>13</td>\n",
       "      <td>18</td>\n",
       "      <td>1</td>\n",
       "      <td>7</td>\n",
       "      <td>301</td>\n",
       "      <td>4814.0</td>\n",
       "      <td>none</td>\n",
       "      <td>meng wang 1</td>\n",
       "      <td>none</td>\n",
       "      <td>16.076923</td>\n",
       "    </tr>\n",
       "    <tr>\n",
       "      <th>2791</th>\n",
       "      <td>lei shu 1</td>\n",
       "      <td>2007</td>\n",
       "      <td>2017</td>\n",
       "      <td>187</td>\n",
       "      <td>11</td>\n",
       "      <td>18</td>\n",
       "      <td>3</td>\n",
       "      <td>13</td>\n",
       "      <td>563</td>\n",
       "      <td>1427.0</td>\n",
       "      <td>none</td>\n",
       "      <td>lei shu 1</td>\n",
       "      <td>none</td>\n",
       "      <td>17.000000</td>\n",
       "    </tr>\n",
       "    <tr>\n",
       "      <th>2800</th>\n",
       "      <td>bin liu 1</td>\n",
       "      <td>2003</td>\n",
       "      <td>2017</td>\n",
       "      <td>155</td>\n",
       "      <td>15</td>\n",
       "      <td>23</td>\n",
       "      <td>2</td>\n",
       "      <td>10</td>\n",
       "      <td>117</td>\n",
       "      <td>1240.0</td>\n",
       "      <td>none</td>\n",
       "      <td>bin liu 1</td>\n",
       "      <td>none</td>\n",
       "      <td>10.333333</td>\n",
       "    </tr>\n",
       "    <tr>\n",
       "      <th>2803</th>\n",
       "      <td>qian zhang 1</td>\n",
       "      <td>2000</td>\n",
       "      <td>2017</td>\n",
       "      <td>287</td>\n",
       "      <td>18</td>\n",
       "      <td>27</td>\n",
       "      <td>4</td>\n",
       "      <td>17</td>\n",
       "      <td>433</td>\n",
       "      <td>4713.0</td>\n",
       "      <td>none</td>\n",
       "      <td>qian zhang 1</td>\n",
       "      <td>none</td>\n",
       "      <td>15.944444</td>\n",
       "    </tr>\n",
       "    <tr>\n",
       "      <th>2804</th>\n",
       "      <td>michael backes 1</td>\n",
       "      <td>2002</td>\n",
       "      <td>2017</td>\n",
       "      <td>182</td>\n",
       "      <td>16</td>\n",
       "      <td>27</td>\n",
       "      <td>3</td>\n",
       "      <td>17</td>\n",
       "      <td>442</td>\n",
       "      <td>1360.0</td>\n",
       "      <td>m</td>\n",
       "      <td>michael backes 1</td>\n",
       "      <td>m</td>\n",
       "      <td>11.375000</td>\n",
       "    </tr>\n",
       "    <tr>\n",
       "      <th>2805</th>\n",
       "      <td>xin zhang 1</td>\n",
       "      <td>2006</td>\n",
       "      <td>2017</td>\n",
       "      <td>153</td>\n",
       "      <td>12</td>\n",
       "      <td>39</td>\n",
       "      <td>3</td>\n",
       "      <td>23</td>\n",
       "      <td>165</td>\n",
       "      <td>706.0</td>\n",
       "      <td>none</td>\n",
       "      <td>xin zhang 1</td>\n",
       "      <td>none</td>\n",
       "      <td>12.750000</td>\n",
       "    </tr>\n",
       "    <tr>\n",
       "      <th>2806</th>\n",
       "      <td>yun fu 1</td>\n",
       "      <td>2006</td>\n",
       "      <td>2017</td>\n",
       "      <td>166</td>\n",
       "      <td>12</td>\n",
       "      <td>44</td>\n",
       "      <td>7</td>\n",
       "      <td>21</td>\n",
       "      <td>1259</td>\n",
       "      <td>2542.0</td>\n",
       "      <td>none</td>\n",
       "      <td>yun fu 1</td>\n",
       "      <td>none</td>\n",
       "      <td>13.833333</td>\n",
       "    </tr>\n",
       "  </tbody>\n",
       "</table>\n",
       "<p>65 rows × 14 columns</p>\n",
       "</div>"
      ],
      "text/plain": [
       "                  author  start_year  end_year  num_pub  career_length  \\\n",
       "396         jan peters 1        2002      2017      219             16   \n",
       "415          long wang 1        2000      2017      209             18   \n",
       "516             tao li 1        1999      2017      249             19   \n",
       "529        vijay kumar 1        1989      2017      355             29   \n",
       "575             yi pan 1        1988      2017      317             30   \n",
       "687           jie yang 2        1996      2017      273             22   \n",
       "717             jie wu 1        1989      2017      649             29   \n",
       "727       jianmin wang 1        2000      2017      203             18   \n",
       "752          jun zhang 3        2001      2017      174             17   \n",
       "814   satoshi nakamura 1        1990      2017      427             28   \n",
       "1067         rui zhang 6        2000      2017      247             18   \n",
       "1129      bernd becker 1        1983      2017      352             35   \n",
       "1519         tao jiang 2        2003      2017      172             15   \n",
       "1535     jianwei zhang 1        1994      2016      246             23   \n",
       "1611      anil k. jain 1        1976      2017      425             42   \n",
       "1682         minglu li 1        1996      2016      331             21   \n",
       "1727          yuan xie 1        2000      2017      314             18   \n",
       "1763     peter willett 1        1995      2017      251             23   \n",
       "1862    zhaoyang zhang 1        1999      2017      247             19   \n",
       "1960       kaushik roy 1        1988      2017      563             30   \n",
       "1990      thomas seidl 1        1993      2017      254             25   \n",
       "2027           kui ren 1        2004      2017      181             14   \n",
       "2035           xin yao 1        1992      2017      469             26   \n",
       "2168        wenbo wang 7        2001      2017      385             17   \n",
       "2186          wei chen 2        2005      2017      131             13   \n",
       "2202        sheng chen 1        1993      2017      292             25   \n",
       "2287         yan zhang 2        2003      2017      230             15   \n",
       "2302       david zhang 1        1994      2017      481             24   \n",
       "2309        qiang yang 1        1989      2017      389             29   \n",
       "2337        xiaowei li 1        1998      2017      231             20   \n",
       "...                  ...         ...       ...      ...            ...   \n",
       "2555        ning zhong 1        1993      2017      282             25   \n",
       "2564   ming-hsuan yang 1        1997      2017      212             21   \n",
       "2584            hui li 6        2007      2017      179             11   \n",
       "2585           wen gao 1        1995      2017      981             23   \n",
       "2595          lei chen 2        2002      2017      307             16   \n",
       "2629         jian yang 3        2002      2017      206             16   \n",
       "2631          wen chen 1        2005      2017      139             13   \n",
       "2639          ling liu 1        1995      2017      267             23   \n",
       "2650      liuqing yang 1        2002      2017      184             16   \n",
       "2651          yan chen 7        2006      2017      144             12   \n",
       "2677     xiang-yang li 1        1998      2017      373             20   \n",
       "2693         lei zhang 1        2001      2016      169             16   \n",
       "2694          fei wang 1        2004      2017      159             14   \n",
       "2698          peng shi 1        1998      2017      380             20   \n",
       "2700         lei zhang 6        2002      2017      266             16   \n",
       "2701       luis alonso 1        2005      2017      134             13   \n",
       "2705        haris aziz 1        2008      2017      104             10   \n",
       "2727        ping zhang 3        2002      2016      248             15   \n",
       "2749           yu wang 2        2006      2017      160             12   \n",
       "2758         wei zhang 1        2004      2017      157             14   \n",
       "2762            li guo 1        2005      2016      151             12   \n",
       "2777  albrecht schmidt 1        1998      2017      339             20   \n",
       "2786          xing xie 1        2002      2017      206             16   \n",
       "2789         meng wang 1        2005      2017      209             13   \n",
       "2791           lei shu 1        2007      2017      187             11   \n",
       "2800           bin liu 1        2003      2017      155             15   \n",
       "2803        qian zhang 1        2000      2017      287             18   \n",
       "2804    michael backes 1        2002      2017      182             16   \n",
       "2805         xin zhang 1        2006      2017      153             12   \n",
       "2806            yun fu 1        2006      2017      166             12   \n",
       "\n",
       "      early_career_prod  early_career_prod_1  early_career_prod_2  \\\n",
       "396                   1                    1                    1   \n",
       "415                   1                    1                    1   \n",
       "516                   1                    1                    1   \n",
       "529                   1                    1                    1   \n",
       "575                   1                    1                    1   \n",
       "687                   1                    1                    1   \n",
       "717                   2                    1                    2   \n",
       "727                   2                    1                    1   \n",
       "752                   2                    1                    1   \n",
       "814                   2                    2                    2   \n",
       "1067                  2                    1                    2   \n",
       "1129                  2                    1                    1   \n",
       "1519                  3                    1                    2   \n",
       "1535                  3                    2                    2   \n",
       "1611                  3                    1                    1   \n",
       "1682                  4                    2                    4   \n",
       "1727                  4                    1                    3   \n",
       "1763                  4                    1                    3   \n",
       "1862                  4                    1                    4   \n",
       "1960                  5                    1                    3   \n",
       "1990                  5                    2                    2   \n",
       "2027                  5                    2                    2   \n",
       "2035                  5                    1                    3   \n",
       "2168                  6                    1                    1   \n",
       "2186                  6                    1                    3   \n",
       "2202                  6                    2                    3   \n",
       "2287                  6                    1                    4   \n",
       "2302                  6                    2                    3   \n",
       "2309                  6                    1                    3   \n",
       "2337                  7                    1                    3   \n",
       "...                 ...                  ...                  ...   \n",
       "2555                  9                    3                    6   \n",
       "2564                  9                    1                    6   \n",
       "2584                  9                    1                    4   \n",
       "2585                  9                    3                    3   \n",
       "2595                  9                    3                    5   \n",
       "2629                 10                    1                    4   \n",
       "2631                 10                    4                    6   \n",
       "2639                 10                    1                    6   \n",
       "2650                 10                    2                    6   \n",
       "2651                 10                    5                    8   \n",
       "2677                 11                    2                    7   \n",
       "2693                 11                    2                    5   \n",
       "2694                 11                    2                    6   \n",
       "2698                 11                    5                    9   \n",
       "2700                 11                    2                    7   \n",
       "2701                 11                    2                    6   \n",
       "2705                 11                    3                    8   \n",
       "2727                 12                    8                   11   \n",
       "2749                 14                    6                   10   \n",
       "2758                 14                    4                    9   \n",
       "2762                 14                    3                    8   \n",
       "2777                 16                    1                   10   \n",
       "2786                 18                    1                    8   \n",
       "2789                 18                    1                    7   \n",
       "2791                 18                    3                   13   \n",
       "2800                 23                    2                   10   \n",
       "2803                 27                    4                   17   \n",
       "2804                 27                    3                   17   \n",
       "2805                 39                    3                   23   \n",
       "2806                 44                    7                   21   \n",
       "\n",
       "      early_career_qual  final_citation_count gender_x                name  \\\n",
       "396                   2                2918.0        m        jan peters 1   \n",
       "415                   0                1894.0     none         long wang 1   \n",
       "516                2053                6399.0     none            tao li 1   \n",
       "529                   6                6241.0        m       vijay kumar 1   \n",
       "575                   0                2182.0     none            yi pan 1   \n",
       "687                   0                1307.0     none          jie yang 2   \n",
       "717                   2                9289.0     none            jie wu 1   \n",
       "727                  33                1615.0     none      jianmin wang 1   \n",
       "752                   7                1563.0     none         jun zhang 3   \n",
       "814                   0                1605.0        m  satoshi nakamura 1   \n",
       "1067                 14                8539.0     none         rui zhang 6   \n",
       "1129                  1                2602.0        m      bernd becker 1   \n",
       "1519                 71                1183.0     none         tao jiang 2   \n",
       "1535                  7                 744.0     none     jianwei zhang 1   \n",
       "1611                156               26756.0        m      anil k. jain 1   \n",
       "1682                  1                2124.0     none         minglu li 1   \n",
       "1727                108                5811.0     none          yuan xie 1   \n",
       "1763                  6                1687.0        m     peter willett 1   \n",
       "1862                568                2348.0     none    zhaoyang zhang 1   \n",
       "1960                164                7605.0        m       kaushik roy 1   \n",
       "1990                 31                2977.0     none      thomas seidl 1   \n",
       "2027                153                4572.0     none           kui ren 1   \n",
       "2035                200               11008.0     none           xin yao 1   \n",
       "2168                  4                2752.0     none        wenbo wang 7   \n",
       "2186                 84                 814.0     none          wei chen 2   \n",
       "2202                335                3153.0     none        sheng chen 1   \n",
       "2287                 23                2428.0     none         yan zhang 2   \n",
       "2302                  1               11646.0     none       david zhang 1   \n",
       "2309                126               12697.0     none        qiang yang 1   \n",
       "2337                  9                 936.0     none        xiaowei li 1   \n",
       "...                 ...                   ...      ...                 ...   \n",
       "2555                 73                1747.0     none        ning zhong 1   \n",
       "2564                399               11247.0        m   ming-hsuan yang 1   \n",
       "2584                 11                1038.0     none            hui li 6   \n",
       "2585                  7                9525.0     none           wen gao 1   \n",
       "2595                347                4381.0     none          lei chen 2   \n",
       "2629               1300                3737.0     none         jian yang 3   \n",
       "2631                  6                 686.0     none          wen chen 1   \n",
       "2639                 85                5254.0     none          ling liu 1   \n",
       "2650                304                1540.0     none      liuqing yang 1   \n",
       "2651                100                 924.0     none          yan chen 7   \n",
       "2677                108                5975.0        m     xiang-yang li 1   \n",
       "2693                324                3653.0     none         lei zhang 1   \n",
       "2694                325                2508.0     none          fei wang 1   \n",
       "2698                267                7154.0     none          peng shi 1   \n",
       "2700                274                9435.0     none         lei zhang 6   \n",
       "2701                 56                 934.0        m       luis alonso 1   \n",
       "2705                527                 963.0        m        haris aziz 1   \n",
       "2727                 43                 826.0     none        ping zhang 3   \n",
       "2749                113                1048.0     none           yu wang 2   \n",
       "2758               1192                3348.0     none         wei zhang 1   \n",
       "2762                 99                1090.0     none            li guo 1   \n",
       "2777               1061                5287.0        m  albrecht schmidt 1   \n",
       "2786                622                6619.0     none          xing xie 1   \n",
       "2789                301                4814.0     none         meng wang 1   \n",
       "2791                563                1427.0     none           lei shu 1   \n",
       "2800                117                1240.0     none           bin liu 1   \n",
       "2803                433                4713.0     none        qian zhang 1   \n",
       "2804                442                1360.0        m    michael backes 1   \n",
       "2805                165                 706.0     none         xin zhang 1   \n",
       "2806               1259                2542.0     none            yun fu 1   \n",
       "\n",
       "     gender_y  pub_per_year  \n",
       "396         m     13.687500  \n",
       "415      none     11.611111  \n",
       "516      none     13.105263  \n",
       "529         m     12.241379  \n",
       "575      none     10.566667  \n",
       "687      none     12.409091  \n",
       "717      none     22.379310  \n",
       "727      none     11.277778  \n",
       "752      none     10.235294  \n",
       "814         m     15.250000  \n",
       "1067     none     13.722222  \n",
       "1129        m     10.057143  \n",
       "1519     none     11.466667  \n",
       "1535     none     10.695652  \n",
       "1611        m     10.119048  \n",
       "1682     none     15.761905  \n",
       "1727     none     17.444444  \n",
       "1763        m     10.913043  \n",
       "1862     none     13.000000  \n",
       "1960        m     18.766667  \n",
       "1990     none     10.160000  \n",
       "2027     none     12.928571  \n",
       "2035     none     18.038462  \n",
       "2168     none     22.647059  \n",
       "2186     none     10.076923  \n",
       "2202     none     11.680000  \n",
       "2287     none     15.333333  \n",
       "2302     none     20.041667  \n",
       "2309     none     13.413793  \n",
       "2337     none     11.550000  \n",
       "...       ...           ...  \n",
       "2555     none     11.280000  \n",
       "2564        m     10.095238  \n",
       "2584     none     16.272727  \n",
       "2585     none     42.652174  \n",
       "2595     none     19.187500  \n",
       "2629     none     12.875000  \n",
       "2631     none     10.692308  \n",
       "2639     none     11.608696  \n",
       "2650     none     11.500000  \n",
       "2651     none     12.000000  \n",
       "2677        m     18.650000  \n",
       "2693     none     10.562500  \n",
       "2694     none     11.357143  \n",
       "2698     none     19.000000  \n",
       "2700     none     16.625000  \n",
       "2701        m     10.307692  \n",
       "2705        m     10.400000  \n",
       "2727     none     16.533333  \n",
       "2749     none     13.333333  \n",
       "2758     none     11.214286  \n",
       "2762     none     12.583333  \n",
       "2777        m     16.950000  \n",
       "2786     none     12.875000  \n",
       "2789     none     16.076923  \n",
       "2791     none     17.000000  \n",
       "2800     none     10.333333  \n",
       "2803     none     15.944444  \n",
       "2804        m     11.375000  \n",
       "2805     none     12.750000  \n",
       "2806     none     13.833333  \n",
       "\n",
       "[65 rows x 14 columns]"
      ]
     },
     "execution_count": 193,
     "metadata": {},
     "output_type": "execute_result"
    }
   ],
   "source": [
    "authors_digits[authors_digits['pub_per_year'] > 10]"
   ]
  },
  {
   "cell_type": "code",
   "execution_count": 162,
   "metadata": {},
   "outputs": [
    {
     "data": {
      "text/plain": [
       "<matplotlib.axes._subplots.AxesSubplot at 0x7f17ae05a400>"
      ]
     },
     "execution_count": 162,
     "metadata": {},
     "output_type": "execute_result"
    },
    {
     "data": {
      "image/png": "[encoded data removed]",
      "text/plain": [
       "<matplotlib.figure.Figure at 0x7f17ae06dbe0>"
      ]
     },
     "metadata": {},
     "output_type": "display_data"
    }
   ],
   "source": [
    "digiAuthorPublicationData.year.value_counts().sort_index().plot(kind='bar')"
   ]
  },
  {
   "cell_type": "code",
   "execution_count": 168,
   "metadata": {},
   "outputs": [
    {
     "data": {
      "text/plain": [
       "<matplotlib.axes._subplots.AxesSubplot at 0x7f177df01da0>"
      ]
     },
     "execution_count": 168,
     "metadata": {},
     "output_type": "execute_result"
    },
    {
     "data": {
      "image/png": "[encoded data removed]",
      "text/plain": [
       "<matplotlib.figure.Figure at 0x7f17ae0071d0>"
      ]
     },
     "metadata": {},
     "output_type": "display_data"
    }
   ],
   "source": [
    "authorPublicationData.year.value_counts().sort_index().plot(kind='bar')"
   ]
  },
  {
   "cell_type": "markdown",
   "metadata": {},
   "source": [
    "## Citations distribution (based on IDs file)"
   ]
  },
  {
   "cell_type": "code",
   "execution_count": 53,
   "metadata": {},
   "outputs": [],
   "source": [
    "citation_distribution = credible_authors['final_citation_count'].value_counts().sort_index()"
   ]
  },
  {
   "cell_type": "code",
   "execution_count": 54,
   "metadata": {},
   "outputs": [
    {
     "data": {
      "image/png": "[encoded data removed]",
      "text/plain": [
       "<matplotlib.figure.Figure at 0x7f174605fbe0>"
      ]
     },
     "metadata": {},
     "output_type": "display_data"
    }
   ],
   "source": [
    "plt.loglog(citation_distribution.index, citation_distribution.values)\n",
    "plt.xlabel('Num citations')\n",
    "plt.ylabel('Frequency')\n",
    "plt.show()"
   ]
  },
  {
   "cell_type": "markdown",
   "metadata": {},
   "source": [
    "## Early Career Prod. vs Final Success (ID file)"
   ]
  },
  {
   "cell_type": "code",
   "execution_count": 55,
   "metadata": {},
   "outputs": [],
   "source": [
    "credible_authors.sort_values(by='early_career_prod', inplace=True)"
   ]
  },
  {
   "cell_type": "code",
   "execution_count": 56,
   "metadata": {},
   "outputs": [],
   "source": [
    "x = credible_authors['early_career_prod']\n",
    "y = credible_authors['final_citation_count']"
   ]
  },
  {
   "cell_type": "code",
   "execution_count": 57,
   "metadata": {
    "scrolled": false
   },
   "outputs": [
    {
     "data": {
      "image/png": "[encoded data removed]",
      "text/plain": [
       "<matplotlib.figure.Figure at 0x7f174716dd68>"
      ]
     },
     "metadata": {},
     "output_type": "display_data"
    }
   ],
   "source": [
    "fig, ax = plt.subplots()\n",
    "plt.scatter(x, y)\n",
    "fit = np.polyfit(x, y, deg=1)\n",
    "ax.plot(x, fit[0] * x + fit[1], color='red')\n",
    "plt.xlabel('Early Career Productivity')\n",
    "plt.ylabel('Final Success')\n",
    "# plt.xlim(0, 50)\n",
    "# plt.ylim(0,200)\n",
    "plt.show()"
   ]
  },
  {
   "cell_type": "code",
   "execution_count": 58,
   "metadata": {},
   "outputs": [],
   "source": [
    "credible_authors_no_uncited = credible_authors.dropna()"
   ]
  },
  {
   "cell_type": "code",
   "execution_count": 59,
   "metadata": {},
   "outputs": [],
   "source": [
    "x = credible_authors_no_uncited['early_career_prod']\n",
    "y = credible_authors_no_uncited['final_citation_count']"
   ]
  },
  {
   "cell_type": "code",
   "execution_count": 60,
   "metadata": {},
   "outputs": [
    {
     "name": "stdout",
     "output_type": "stream",
     "text": [
      "0.19789177372641392\n",
      "59.03783777318879 68.98830972463583\n"
     ]
    }
   ],
   "source": [
    "slope, intercept, r_value, p_value, std_err = scipy.stats.linregress(x, y)\n",
    "print(r_value)\n",
    "print(slope, intercept)"
   ]
  },
  {
   "cell_type": "code",
   "execution_count": 61,
   "metadata": {
    "scrolled": false
   },
   "outputs": [
    {
     "data": {
      "image/png": "[encoded data removed]",
      "text/plain": [
       "<matplotlib.figure.Figure at 0x7f1746e8fdd8>"
      ]
     },
     "metadata": {},
     "output_type": "display_data"
    }
   ],
   "source": [
    "fig, axs = plt.subplots()\n",
    "axs.hist2d(x, y, bins=40, norm=colors.LogNorm())\n",
    "plt.show()"
   ]
  },
  {
   "cell_type": "markdown",
   "metadata": {},
   "source": [
    "## Early Career Prod. vs Early Career Qual. (IDs file)"
   ]
  },
  {
   "cell_type": "code",
   "execution_count": 62,
   "metadata": {},
   "outputs": [],
   "source": [
    "credible_authors.sort_values(by='early_career_prod', inplace=True)"
   ]
  },
  {
   "cell_type": "code",
   "execution_count": 63,
   "metadata": {},
   "outputs": [
    {
     "data": {
      "image/png": "[encoded data removed]",
      "text/plain": [
       "<matplotlib.figure.Figure at 0x7f1748025cc0>"
      ]
     },
     "metadata": {},
     "output_type": "display_data"
    }
   ],
   "source": [
    "plt.scatter(credible_authors['early_career_prod'], credible_authors['early_career_qual'])\n",
    "plt.xlabel('Early Career Productivity')\n",
    "plt.ylabel('Early Career Quality')\n",
    "plt.show()"
   ]
  },
  {
   "cell_type": "code",
   "execution_count": null,
   "metadata": {},
   "outputs": [],
   "source": []
  }
 ],
 "metadata": {
  "kernelspec": {
   "display_name": "Python 3",
   "language": "python",
   "name": "python3"
  },
  "language_info": {
   "codemirror_mode": {
    "name": "ipython",
    "version": 3
   },
   "file_extension": ".py",
   "mimetype": "text/x-python",
   "name": "python",
   "nbconvert_exporter": "python",
   "pygments_lexer": "ipython3",
   "version": "3.6.4"
  }
 },
 "nbformat": 4,
 "nbformat_minor": 2
}
