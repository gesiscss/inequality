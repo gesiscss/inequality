{
 "cells": [
  {
   "cell_type": "code",
   "execution_count": 1,
   "metadata": {},
   "outputs": [],
   "source": [
    "import pandas as pd\n",
    "import numpy as np\n",
    "import timeit\n",
    "\n",
    "from matplotlib import pyplot as plt\n",
    "from matplotlib import rcParams\n",
    "plt.style.use('ggplot')\n",
    "rcParams['figure.figsize'] = (20.0, 10.0)\n",
    "from matplotlib import colors\n",
    "\n",
    "import scipy.stats"
   ]
  },
  {
   "cell_type": "markdown",
   "metadata": {},
   "source": [
    "## Publication data"
   ]
  },
  {
   "cell_type": "code",
   "execution_count": 2,
   "metadata": {},
   "outputs": [
    {
     "data": {
      "text/html": [
       "<div>\n",
       "<style scoped>\n",
       "    .dataframe tbody tr th:only-of-type {\n",
       "        vertical-align: middle;\n",
       "    }\n",
       "\n",
       "    .dataframe tbody tr th {\n",
       "        vertical-align: top;\n",
       "    }\n",
       "\n",
       "    .dataframe thead th {\n",
       "        text-align: right;\n",
       "    }\n",
       "</style>\n",
       "<table border=\"1\" class=\"dataframe\">\n",
       "  <thead>\n",
       "    <tr style=\"text-align: right;\">\n",
       "      <th></th>\n",
       "      <th>author</th>\n",
       "      <th>year</th>\n",
       "      <th>pub_id</th>\n",
       "    </tr>\n",
       "  </thead>\n",
       "  <tbody>\n",
       "    <tr>\n",
       "      <th>0</th>\n",
       "      <td>graeme earl</td>\n",
       "      <td>2011</td>\n",
       "      <td>001c58d3-26ad-46b3-ab3a-c1e557d16821</td>\n",
       "    </tr>\n",
       "    <tr>\n",
       "      <th>1</th>\n",
       "      <td>gareth beale</td>\n",
       "      <td>2011</td>\n",
       "      <td>001c58d3-26ad-46b3-ab3a-c1e557d16821</td>\n",
       "    </tr>\n",
       "    <tr>\n",
       "      <th>2</th>\n",
       "      <td>m. nasser</td>\n",
       "      <td>2009</td>\n",
       "      <td>001c8744-73c4-4b04-9364-22d31a10dbf1</td>\n",
       "    </tr>\n",
       "    <tr>\n",
       "      <th>3</th>\n",
       "      <td>faisal zaman</td>\n",
       "      <td>2009</td>\n",
       "      <td>001c8744-73c4-4b04-9364-22d31a10dbf1</td>\n",
       "    </tr>\n",
       "    <tr>\n",
       "      <th>4</th>\n",
       "      <td>altaf hossain</td>\n",
       "      <td>2009</td>\n",
       "      <td>001c8744-73c4-4b04-9364-22d31a10dbf1</td>\n",
       "    </tr>\n",
       "  </tbody>\n",
       "</table>\n",
       "</div>"
      ],
      "text/plain": [
       "          author  year                                pub_id\n",
       "0    graeme earl  2011  001c58d3-26ad-46b3-ab3a-c1e557d16821\n",
       "1   gareth beale  2011  001c58d3-26ad-46b3-ab3a-c1e557d16821\n",
       "2      m. nasser  2009  001c8744-73c4-4b04-9364-22d31a10dbf1\n",
       "3   faisal zaman  2009  001c8744-73c4-4b04-9364-22d31a10dbf1\n",
       "4  altaf hossain  2009  001c8744-73c4-4b04-9364-22d31a10dbf1"
      ]
     },
     "execution_count": 2,
     "metadata": {},
     "output_type": "execute_result"
    }
   ],
   "source": [
    "# authorPublicationData = pd.read_csv('data/author_publications_1970_2016_asiansAsNone.txt')\n",
    "authorPublicationData = pd.read_csv('data/author_publications_2017_asiansAsNone.txt')\n",
    "authorPublicationData.head()"
   ]
  },
  {
   "cell_type": "code",
   "execution_count": 3,
   "metadata": {},
   "outputs": [],
   "source": [
    "author_year_numPub = authorPublicationData.groupby(['author', 'year'])['pub_id'].count()"
   ]
  },
  {
   "cell_type": "code",
   "execution_count": 4,
   "metadata": {},
   "outputs": [
    {
     "data": {
      "text/plain": [
       "author                 year\n",
       "'maseka lesaoana       2001    1\n",
       "                       2015    1\n",
       "(max) zong-ming cheng  2009    1\n",
       "                       2011    1\n",
       "(zhou) bryan bai       2011    1\n",
       "Name: pub_id, dtype: int64"
      ]
     },
     "execution_count": 4,
     "metadata": {},
     "output_type": "execute_result"
    }
   ],
   "source": [
    "author_year_numPub.head()"
   ]
  },
  {
   "cell_type": "code",
   "execution_count": 5,
   "metadata": {},
   "outputs": [],
   "source": [
    "author_year_publications = authorPublicationData.groupby(['author', 'year'])['pub_id'].apply(list)"
   ]
  },
  {
   "cell_type": "code",
   "execution_count": 6,
   "metadata": {},
   "outputs": [
    {
     "data": {
      "text/plain": [
       "author                 year\n",
       "'maseka lesaoana       2001    [4ff8ca7b-16b7-4bc8-b235-1eeac9b2aefa]\n",
       "                       2015    [2a10f544-51ac-4261-8a26-cf61c1abdc03]\n",
       "(max) zong-ming cheng  2009    [fe824193-57a4-48ed-a1d3-5eeb67929ae4]\n",
       "                       2011    [fd54f6e8-4b10-471b-a1d0-3c784688a2a7]\n",
       "(zhou) bryan bai       2011    [53d10a61-f01d-464e-b5e9-8242ed3b9e00]\n",
       "Name: pub_id, dtype: object"
      ]
     },
     "execution_count": 6,
     "metadata": {},
     "output_type": "execute_result"
    }
   ],
   "source": [
    "author_year_publications.head()"
   ]
  },
  {
   "cell_type": "markdown",
   "metadata": {},
   "source": [
    "## Author citation data (ids)"
   ]
  },
  {
   "cell_type": "code",
   "execution_count": 7,
   "metadata": {},
   "outputs": [],
   "source": [
    "authorCitationsData = pd.read_csv('./data/citations_2017_asiansAsNone.txt')"
   ]
  },
  {
   "cell_type": "code",
   "execution_count": 8,
   "metadata": {},
   "outputs": [
    {
     "name": "stdout",
     "output_type": "stream",
     "text": [
      "(25161834, 3)\n"
     ]
    }
   ],
   "source": [
    "authorCitationsData.head()\n",
    "print(authorCitationsData.shape)"
   ]
  },
  {
   "cell_type": "code",
   "execution_count": 9,
   "metadata": {},
   "outputs": [],
   "source": [
    "paper_citation_count = authorCitationsData.groupby('id2')['id1'].count()"
   ]
  },
  {
   "cell_type": "markdown",
   "metadata": {},
   "source": [
    "## Author citation network, paper -> author"
   ]
  },
  {
   "cell_type": "code",
   "execution_count": 10,
   "metadata": {},
   "outputs": [],
   "source": [
    "citations_year_auth = pd.read_csv('./data/authors_cite_2017_asiansAsNone_by_daniel_grouped.txt')"
   ]
  },
  {
   "cell_type": "code",
   "execution_count": 11,
   "metadata": {},
   "outputs": [
    {
     "data": {
      "text/html": [
       "<div>\n",
       "<style scoped>\n",
       "    .dataframe tbody tr th:only-of-type {\n",
       "        vertical-align: middle;\n",
       "    }\n",
       "\n",
       "    .dataframe tbody tr th {\n",
       "        vertical-align: top;\n",
       "    }\n",
       "\n",
       "    .dataframe thead th {\n",
       "        text-align: right;\n",
       "    }\n",
       "</style>\n",
       "<table border=\"1\" class=\"dataframe\">\n",
       "  <thead>\n",
       "    <tr style=\"text-align: right;\">\n",
       "      <th></th>\n",
       "      <th>author</th>\n",
       "      <th>year_cit</th>\n",
       "      <th>cit_count</th>\n",
       "    </tr>\n",
       "  </thead>\n",
       "  <tbody>\n",
       "    <tr>\n",
       "      <th>0</th>\n",
       "      <td>'maseka lesaoana</td>\n",
       "      <td>2002.0</td>\n",
       "      <td>1</td>\n",
       "    </tr>\n",
       "    <tr>\n",
       "      <th>1</th>\n",
       "      <td>'maseka lesaoana</td>\n",
       "      <td>2003.0</td>\n",
       "      <td>1</td>\n",
       "    </tr>\n",
       "    <tr>\n",
       "      <th>2</th>\n",
       "      <td>'maseka lesaoana</td>\n",
       "      <td>2004.0</td>\n",
       "      <td>1</td>\n",
       "    </tr>\n",
       "    <tr>\n",
       "      <th>3</th>\n",
       "      <td>'maseka lesaoana</td>\n",
       "      <td>2005.0</td>\n",
       "      <td>2</td>\n",
       "    </tr>\n",
       "    <tr>\n",
       "      <th>4</th>\n",
       "      <td>'maseka lesaoana</td>\n",
       "      <td>2006.0</td>\n",
       "      <td>4</td>\n",
       "    </tr>\n",
       "  </tbody>\n",
       "</table>\n",
       "</div>"
      ],
      "text/plain": [
       "             author  year_cit  cit_count\n",
       "0  'maseka lesaoana    2002.0          1\n",
       "1  'maseka lesaoana    2003.0          1\n",
       "2  'maseka lesaoana    2004.0          1\n",
       "3  'maseka lesaoana    2005.0          2\n",
       "4  'maseka lesaoana    2006.0          4"
      ]
     },
     "execution_count": 11,
     "metadata": {},
     "output_type": "execute_result"
    }
   ],
   "source": [
    "citations_year_auth.head()"
   ]
  },
  {
   "cell_type": "code",
   "execution_count": 12,
   "metadata": {},
   "outputs": [],
   "source": [
    "final_citation_count = citations_year_auth.groupby('author')['cit_count'].sum()"
   ]
  },
  {
   "cell_type": "markdown",
   "metadata": {},
   "source": [
    "## Author career information"
   ]
  },
  {
   "cell_type": "code",
   "execution_count": 13,
   "metadata": {},
   "outputs": [],
   "source": [
    "credible_authors = pd.read_csv('data/authors-scientific-atleast-5-year.csv')"
   ]
  },
  {
   "cell_type": "code",
   "execution_count": 14,
   "metadata": {},
   "outputs": [],
   "source": [
    "credible_authors.set_index('author', inplace=True, )"
   ]
  },
  {
   "cell_type": "code",
   "execution_count": 15,
   "metadata": {},
   "outputs": [
    {
     "data": {
      "text/html": [
       "<div>\n",
       "<style scoped>\n",
       "    .dataframe tbody tr th:only-of-type {\n",
       "        vertical-align: middle;\n",
       "    }\n",
       "\n",
       "    .dataframe tbody tr th {\n",
       "        vertical-align: top;\n",
       "    }\n",
       "\n",
       "    .dataframe thead th {\n",
       "        text-align: right;\n",
       "    }\n",
       "</style>\n",
       "<table border=\"1\" class=\"dataframe\">\n",
       "  <thead>\n",
       "    <tr style=\"text-align: right;\">\n",
       "      <th></th>\n",
       "      <th>start_year</th>\n",
       "      <th>end_year</th>\n",
       "      <th>num_pub</th>\n",
       "      <th>career_length</th>\n",
       "    </tr>\n",
       "    <tr>\n",
       "      <th>author</th>\n",
       "      <th></th>\n",
       "      <th></th>\n",
       "      <th></th>\n",
       "      <th></th>\n",
       "    </tr>\n",
       "  </thead>\n",
       "  <tbody>\n",
       "    <tr>\n",
       "      <th>'maseka lesaoana</th>\n",
       "      <td>2001</td>\n",
       "      <td>2015</td>\n",
       "      <td>2</td>\n",
       "      <td>15</td>\n",
       "    </tr>\n",
       "    <tr>\n",
       "      <th>a aart blokhuis</th>\n",
       "      <td>1992</td>\n",
       "      <td>2005</td>\n",
       "      <td>2</td>\n",
       "      <td>14</td>\n",
       "    </tr>\n",
       "    <tr>\n",
       "      <th>a min tjoa</th>\n",
       "      <td>1979</td>\n",
       "      <td>2017</td>\n",
       "      <td>191</td>\n",
       "      <td>39</td>\n",
       "    </tr>\n",
       "    <tr>\n",
       "      <th>a-imam al-sammak</th>\n",
       "      <td>1992</td>\n",
       "      <td>2006</td>\n",
       "      <td>3</td>\n",
       "      <td>15</td>\n",
       "    </tr>\n",
       "    <tr>\n",
       "      <th>a-long jin</th>\n",
       "      <td>2011</td>\n",
       "      <td>2016</td>\n",
       "      <td>9</td>\n",
       "      <td>6</td>\n",
       "    </tr>\n",
       "    <tr>\n",
       "      <th>a-nasser ansari</th>\n",
       "      <td>2003</td>\n",
       "      <td>2009</td>\n",
       "      <td>10</td>\n",
       "      <td>7</td>\n",
       "    </tr>\n",
       "    <tr>\n",
       "      <th>a-xing zhu</th>\n",
       "      <td>1998</td>\n",
       "      <td>2017</td>\n",
       "      <td>22</td>\n",
       "      <td>20</td>\n",
       "    </tr>\n",
       "    <tr>\n",
       "      <th>a. a. (louis) beex</th>\n",
       "      <td>1980</td>\n",
       "      <td>2016</td>\n",
       "      <td>31</td>\n",
       "      <td>37</td>\n",
       "    </tr>\n",
       "    <tr>\n",
       "      <th>a. a. abdel-hamid</th>\n",
       "      <td>1995</td>\n",
       "      <td>2003</td>\n",
       "      <td>2</td>\n",
       "      <td>9</td>\n",
       "    </tr>\n",
       "    <tr>\n",
       "      <th>a. a. abouelsoud</th>\n",
       "      <td>1996</td>\n",
       "      <td>2016</td>\n",
       "      <td>10</td>\n",
       "      <td>21</td>\n",
       "    </tr>\n",
       "  </tbody>\n",
       "</table>\n",
       "</div>"
      ],
      "text/plain": [
       "                    start_year  end_year  num_pub  career_length\n",
       "author                                                          \n",
       "'maseka lesaoana          2001      2015        2             15\n",
       "a aart blokhuis           1992      2005        2             14\n",
       "a min tjoa                1979      2017      191             39\n",
       "a-imam al-sammak          1992      2006        3             15\n",
       "a-long jin                2011      2016        9              6\n",
       "a-nasser ansari           2003      2009       10              7\n",
       "a-xing zhu                1998      2017       22             20\n",
       "a. a. (louis) beex        1980      2016       31             37\n",
       "a. a. abdel-hamid         1995      2003        2              9\n",
       "a. a. abouelsoud          1996      2016       10             21"
      ]
     },
     "execution_count": 15,
     "metadata": {},
     "output_type": "execute_result"
    }
   ],
   "source": [
    "credible_authors.head(10)"
   ]
  },
  {
   "cell_type": "markdown",
   "metadata": {},
   "source": [
    "## Early career analysis"
   ]
  },
  {
   "cell_type": "code",
   "execution_count": 16,
   "metadata": {},
   "outputs": [],
   "source": [
    "# This part adds data to credible_authors file. This can be stored for later use. \n",
    "# At the moment, only career quality is done correct.\n",
    "# TODO fix final citation and career prod., and save all to new file"
   ]
  },
  {
   "cell_type": "code",
   "execution_count": 17,
   "metadata": {},
   "outputs": [],
   "source": [
    "EARLY_CAREER_LEN = 3"
   ]
  },
  {
   "cell_type": "code",
   "execution_count": 18,
   "metadata": {},
   "outputs": [],
   "source": [
    "def get_early_career_prod(row, num_years):\n",
    "    early_prod = 0\n",
    "    author = row.name\n",
    "    start_year = row['start_year']\n",
    "    year_num_pub = author_year_numPub[author]\n",
    "    for year in range(num_years):\n",
    "        if start_year + year in year_num_pub:\n",
    "            early_prod += year_num_pub[start_year + year]\n",
    "    return early_prod"
   ]
  },
  {
   "cell_type": "code",
   "execution_count": 102,
   "metadata": {},
   "outputs": [
    {
     "data": {
      "text/plain": [
       "[0]"
      ]
     },
     "execution_count": 102,
     "metadata": {},
     "output_type": "execute_result"
    }
   ],
   "source": [
    "list(range(1))"
   ]
  },
  {
   "cell_type": "code",
   "execution_count": 19,
   "metadata": {},
   "outputs": [],
   "source": [
    "credible_authors['early_career_prod'] = credible_authors.apply(lambda x: get_early_career_prod(x, EARLY_CAREER_LEN), axis=1)"
   ]
  },
  {
   "cell_type": "code",
   "execution_count": 82,
   "metadata": {},
   "outputs": [],
   "source": [
    "credible_authors['early_career_prod_1'] = credible_authors.apply(lambda x: get_early_career_prod(x, 1), axis=1)"
   ]
  },
  {
   "cell_type": "code",
   "execution_count": 103,
   "metadata": {},
   "outputs": [],
   "source": [
    "credible_authors['early_career_prod_2'] = credible_authors.apply(lambda x: get_early_career_prod(x, 2), axis=1)"
   ]
  },
  {
   "cell_type": "code",
   "execution_count": 20,
   "metadata": {
    "code_folding": []
   },
   "outputs": [],
   "source": [
    "def get_early_career_quality(row, num_years):\n",
    "    early_pubs = []\n",
    "    author = row.name\n",
    "    start_year = row['start_year']\n",
    "    year_pubs = author_year_publications[author]\n",
    "    for year in range(num_years):\n",
    "        if start_year + year in year_pubs:\n",
    "            early_pubs.extend(year_pubs[start_year + year])\n",
    "#     print(early_pubs)\n",
    "    return sum([paper_citation_count[paper] for paper in early_pubs if paper in paper_citation_count])\n",
    "    # TODO finish this with citation data"
   ]
  },
  {
   "cell_type": "code",
   "execution_count": 21,
   "metadata": {},
   "outputs": [],
   "source": [
    "credible_authors['early_career_qual'] = credible_authors.apply(lambda x: get_early_career_quality(x, EARLY_CAREER_LEN), axis=1)"
   ]
  },
  {
   "cell_type": "code",
   "execution_count": 22,
   "metadata": {},
   "outputs": [],
   "source": [
    "credible_authors['final_citation_count'] = final_citation_count\n",
    "credible_authors['final_citation_count'] = credible_authors['final_citation_count'].fillna(0)"
   ]
  },
  {
   "cell_type": "markdown",
   "metadata": {},
   "source": [
    "## Test for errors in files"
   ]
  },
  {
   "cell_type": "code",
   "execution_count": 23,
   "metadata": {},
   "outputs": [],
   "source": [
    "year_pubs = author_year_publications['manfeng hu']"
   ]
  },
  {
   "cell_type": "code",
   "execution_count": 24,
   "metadata": {},
   "outputs": [
    {
     "data": {
      "text/plain": [
       "year\n",
       "2002               [d2d9c3dc-852f-41f5-badb-b6113810edac]\n",
       "2008               [765a29bd-1556-4efb-802a-d9ae9bf36d86]\n",
       "2013    [5602b067-0f1a-4489-b26e-0c38c7ae8129, cbc7f45...\n",
       "2014    [0d9c656a-2d27-4578-aa3c-eb42eceade54, 25759c6...\n",
       "2015    [21e3fdb7-1cf8-49b3-a04f-60c9d87941cb, 7b2c56d...\n",
       "2016    [94cde4d1-b719-4c4a-9f6b-7834d55006be, f5c7f9d...\n",
       "2017               [b48bbccd-9159-45b8-ab91-7200cda8b2d4]\n",
       "Name: pub_id, dtype: object"
      ]
     },
     "execution_count": 24,
     "metadata": {},
     "output_type": "execute_result"
    }
   ],
   "source": [
    "year_pubs"
   ]
  },
  {
   "cell_type": "code",
   "execution_count": 25,
   "metadata": {},
   "outputs": [
    {
     "data": {
      "text/plain": [
       "31"
      ]
     },
     "execution_count": 25,
     "metadata": {},
     "output_type": "execute_result"
    }
   ],
   "source": [
    "get_early_career_quality(credible_authors.loc['manfeng hu'], 3)"
   ]
  },
  {
   "cell_type": "code",
   "execution_count": 26,
   "metadata": {},
   "outputs": [
    {
     "name": "stdout",
     "output_type": "stream",
     "text": [
      "                author  year                                pub_id  id1\n",
      "3644883  martin raußen  2000  e413612d-20b3-43c8-8242-52377d2ee847    9\n",
      "6160260  martin raußen  2012  d3cd5231-3648-4a15-b7bb-d63d7ea0080e    8\n",
      "7784485  martin raußen  1996  87e4c27b-6e41-44bc-8bcf-ba77945da596   31\n",
      "9213372  martin raußen  2002  f4d47abe-2e23-4762-8f9f-8a8181df89ca   14\n"
     ]
    }
   ],
   "source": [
    "print(authorPublicationData[authorPublicationData.author == 'martin raußen'].merge(paper_citation_count.to_frame(), left_on='pub_id', right_index=True))"
   ]
  },
  {
   "cell_type": "code",
   "execution_count": 28,
   "metadata": {},
   "outputs": [
    {
     "data": {
      "text/plain": [
       "62"
      ]
     },
     "execution_count": 28,
     "metadata": {},
     "output_type": "execute_result"
    }
   ],
   "source": [
    "final_citation_count['martin raußen']"
   ]
  },
  {
   "cell_type": "code",
   "execution_count": 29,
   "metadata": {},
   "outputs": [
    {
     "data": {
      "text/plain": [
       "31"
      ]
     },
     "execution_count": 29,
     "metadata": {},
     "output_type": "execute_result"
    }
   ],
   "source": [
    "paper_citation_count['d2d9c3dc-852f-41f5-badb-b6113810edac']"
   ]
  },
  {
   "cell_type": "code",
   "execution_count": 30,
   "metadata": {},
   "outputs": [
    {
     "data": {
      "text/plain": [
       "(0, 7)"
      ]
     },
     "execution_count": 30,
     "metadata": {},
     "output_type": "execute_result"
    }
   ],
   "source": [
    "credible_authors[credible_authors.final_citation_count < credible_authors.early_career_qual].shape"
   ]
  },
  {
   "cell_type": "code",
   "execution_count": 73,
   "metadata": {},
   "outputs": [],
   "source": [
    "authors_20k = credible_authors[credible_authors['final_citation_count'] > 20000]"
   ]
  },
  {
   "cell_type": "code",
   "execution_count": 78,
   "metadata": {},
   "outputs": [
    {
     "data": {
      "text/plain": [
       "Index(['andrew y. ng', 'andrew zisserman', 'anil k. jain 1',\n",
       "       'bernhard schölkopf', 'chih-jen lin', 'christos faloutsos',\n",
       "       'cordelia schmid', 'david e. culler', 'david g. lowe',\n",
       "       'david r. karger', 'deborah estrin', 'geoffrey e. hinton',\n",
       "       'hari balakrishnan', 'hector garcia-molina', 'ian t. foster',\n",
       "       'ion stoica', 'jiawei han 1', 'jitendra malik', 'jon m. kleinberg',\n",
       "       'luc j. van gool', 'michael i. jordan', 'philip s. yu',\n",
       "       'rakesh agrawal', 'richard szeliski', 'robert e. schapire',\n",
       "       'scott shenker', 'takeo kanade'],\n",
       "      dtype='object', name='author')"
      ]
     },
     "execution_count": 78,
     "metadata": {},
     "output_type": "execute_result"
    }
   ],
   "source": [
    "authors_20k.index"
   ]
  },
  {
   "cell_type": "code",
   "execution_count": 108,
   "metadata": {
    "scrolled": false
   },
   "outputs": [
    {
     "data": {
      "text/html": [
       "<div>\n",
       "<style scoped>\n",
       "    .dataframe tbody tr th:only-of-type {\n",
       "        vertical-align: middle;\n",
       "    }\n",
       "\n",
       "    .dataframe tbody tr th {\n",
       "        vertical-align: top;\n",
       "    }\n",
       "\n",
       "    .dataframe thead th {\n",
       "        text-align: right;\n",
       "    }\n",
       "</style>\n",
       "<table border=\"1\" class=\"dataframe\">\n",
       "  <thead>\n",
       "    <tr style=\"text-align: right;\">\n",
       "      <th></th>\n",
       "      <th>start_year</th>\n",
       "      <th>end_year</th>\n",
       "      <th>num_pub</th>\n",
       "      <th>career_length</th>\n",
       "      <th>early_career_prod</th>\n",
       "      <th>early_career_qual</th>\n",
       "      <th>final_citation_count</th>\n",
       "      <th>early_career_prod_1</th>\n",
       "      <th>early_career_prod_2</th>\n",
       "    </tr>\n",
       "    <tr>\n",
       "      <th>author</th>\n",
       "      <th></th>\n",
       "      <th></th>\n",
       "      <th></th>\n",
       "      <th></th>\n",
       "      <th></th>\n",
       "      <th></th>\n",
       "      <th></th>\n",
       "      <th></th>\n",
       "      <th></th>\n",
       "    </tr>\n",
       "  </thead>\n",
       "  <tbody>\n",
       "    <tr>\n",
       "      <th>jiahai wang</th>\n",
       "      <td>2004</td>\n",
       "      <td>2017</td>\n",
       "      <td>58</td>\n",
       "      <td>14</td>\n",
       "      <td>14</td>\n",
       "      <td>51</td>\n",
       "      <td>282.0</td>\n",
       "      <td>11</td>\n",
       "      <td>13</td>\n",
       "    </tr>\n",
       "    <tr>\n",
       "      <th>qinhuo liu</th>\n",
       "      <td>2004</td>\n",
       "      <td>2017</td>\n",
       "      <td>120</td>\n",
       "      <td>14</td>\n",
       "      <td>17</td>\n",
       "      <td>3</td>\n",
       "      <td>110.0</td>\n",
       "      <td>10</td>\n",
       "      <td>14</td>\n",
       "    </tr>\n",
       "    <tr>\n",
       "      <th>maoan han</th>\n",
       "      <td>2004</td>\n",
       "      <td>2015</td>\n",
       "      <td>37</td>\n",
       "      <td>12</td>\n",
       "      <td>18</td>\n",
       "      <td>47</td>\n",
       "      <td>106.0</td>\n",
       "      <td>10</td>\n",
       "      <td>15</td>\n",
       "    </tr>\n",
       "    <tr>\n",
       "      <th>dacheng tao</th>\n",
       "      <td>2004</td>\n",
       "      <td>2017</td>\n",
       "      <td>591</td>\n",
       "      <td>14</td>\n",
       "      <td>20</td>\n",
       "      <td>1034</td>\n",
       "      <td>12381.0</td>\n",
       "      <td>12</td>\n",
       "      <td>13</td>\n",
       "    </tr>\n",
       "    <tr>\n",
       "      <th>chunjiang zhao</th>\n",
       "      <td>2004</td>\n",
       "      <td>2017</td>\n",
       "      <td>75</td>\n",
       "      <td>14</td>\n",
       "      <td>20</td>\n",
       "      <td>57</td>\n",
       "      <td>113.0</td>\n",
       "      <td>12</td>\n",
       "      <td>19</td>\n",
       "    </tr>\n",
       "    <tr>\n",
       "      <th>daming wei</th>\n",
       "      <td>2004</td>\n",
       "      <td>2015</td>\n",
       "      <td>63</td>\n",
       "      <td>12</td>\n",
       "      <td>21</td>\n",
       "      <td>78</td>\n",
       "      <td>176.0</td>\n",
       "      <td>10</td>\n",
       "      <td>13</td>\n",
       "    </tr>\n",
       "    <tr>\n",
       "      <th>joaquín torres-sospedra</th>\n",
       "      <td>2004</td>\n",
       "      <td>2017</td>\n",
       "      <td>60</td>\n",
       "      <td>14</td>\n",
       "      <td>26</td>\n",
       "      <td>51</td>\n",
       "      <td>129.0</td>\n",
       "      <td>10</td>\n",
       "      <td>13</td>\n",
       "    </tr>\n",
       "    <tr>\n",
       "      <th>benyu zhang</th>\n",
       "      <td>2004</td>\n",
       "      <td>2009</td>\n",
       "      <td>42</td>\n",
       "      <td>6</td>\n",
       "      <td>35</td>\n",
       "      <td>777</td>\n",
       "      <td>1891.0</td>\n",
       "      <td>14</td>\n",
       "      <td>27</td>\n",
       "    </tr>\n",
       "    <tr>\n",
       "      <th>songcan chen</th>\n",
       "      <td>2004</td>\n",
       "      <td>2017</td>\n",
       "      <td>170</td>\n",
       "      <td>14</td>\n",
       "      <td>41</td>\n",
       "      <td>1207</td>\n",
       "      <td>3203.0</td>\n",
       "      <td>10</td>\n",
       "      <td>27</td>\n",
       "    </tr>\n",
       "    <tr>\n",
       "      <th>binxing fang</th>\n",
       "      <td>2004</td>\n",
       "      <td>2017</td>\n",
       "      <td>130</td>\n",
       "      <td>14</td>\n",
       "      <td>43</td>\n",
       "      <td>76</td>\n",
       "      <td>218.0</td>\n",
       "      <td>16</td>\n",
       "      <td>29</td>\n",
       "    </tr>\n",
       "    <tr>\n",
       "      <th>qingming huang</th>\n",
       "      <td>2004</td>\n",
       "      <td>2017</td>\n",
       "      <td>310</td>\n",
       "      <td>14</td>\n",
       "      <td>50</td>\n",
       "      <td>654</td>\n",
       "      <td>2810.0</td>\n",
       "      <td>17</td>\n",
       "      <td>33</td>\n",
       "    </tr>\n",
       "  </tbody>\n",
       "</table>\n",
       "</div>"
      ],
      "text/plain": [
       "                         start_year  end_year  num_pub  career_length  \\\n",
       "author                                                                  \n",
       "jiahai wang                    2004      2017       58             14   \n",
       "qinhuo liu                     2004      2017      120             14   \n",
       "maoan han                      2004      2015       37             12   \n",
       "dacheng tao                    2004      2017      591             14   \n",
       "chunjiang zhao                 2004      2017       75             14   \n",
       "daming wei                     2004      2015       63             12   \n",
       "joaquín torres-sospedra        2004      2017       60             14   \n",
       "benyu zhang                    2004      2009       42              6   \n",
       "songcan chen                   2004      2017      170             14   \n",
       "binxing fang                   2004      2017      130             14   \n",
       "qingming huang                 2004      2017      310             14   \n",
       "\n",
       "                         early_career_prod  early_career_qual  \\\n",
       "author                                                          \n",
       "jiahai wang                             14                 51   \n",
       "qinhuo liu                              17                  3   \n",
       "maoan han                               18                 47   \n",
       "dacheng tao                             20               1034   \n",
       "chunjiang zhao                          20                 57   \n",
       "daming wei                              21                 78   \n",
       "joaquín torres-sospedra                 26                 51   \n",
       "benyu zhang                             35                777   \n",
       "songcan chen                            41               1207   \n",
       "binxing fang                            43                 76   \n",
       "qingming huang                          50                654   \n",
       "\n",
       "                         final_citation_count  early_career_prod_1  \\\n",
       "author                                                               \n",
       "jiahai wang                             282.0                   11   \n",
       "qinhuo liu                              110.0                   10   \n",
       "maoan han                               106.0                   10   \n",
       "dacheng tao                           12381.0                   12   \n",
       "chunjiang zhao                          113.0                   12   \n",
       "daming wei                              176.0                   10   \n",
       "joaquín torres-sospedra                 129.0                   10   \n",
       "benyu zhang                            1891.0                   14   \n",
       "songcan chen                           3203.0                   10   \n",
       "binxing fang                            218.0                   16   \n",
       "qingming huang                         2810.0                   17   \n",
       "\n",
       "                         early_career_prod_2  \n",
       "author                                        \n",
       "jiahai wang                               13  \n",
       "qinhuo liu                                14  \n",
       "maoan han                                 15  \n",
       "dacheng tao                               13  \n",
       "chunjiang zhao                            19  \n",
       "daming wei                                13  \n",
       "joaquín torres-sospedra                   13  \n",
       "benyu zhang                               27  \n",
       "songcan chen                              27  \n",
       "binxing fang                              29  \n",
       "qingming huang                            33  "
      ]
     },
     "execution_count": 108,
     "metadata": {},
     "output_type": "execute_result"
    }
   ],
   "source": [
    "credible_authors[(credible_authors.early_career_prod_1 >= 10) & (credible_authors.start_year==2004)]"
   ]
  },
  {
   "cell_type": "code",
   "execution_count": null,
   "metadata": {},
   "outputs": [],
   "source": [
    "#credible_authors.drop(authors_20k, inplace=True)"
   ]
  },
  {
   "cell_type": "code",
   "execution_count": 33,
   "metadata": {},
   "outputs": [],
   "source": [
    "gender = pd.read_csv('./data/name_gender_2017_asiansAsNone_nodup.txt')"
   ]
  },
  {
   "cell_type": "code",
   "execution_count": 34,
   "metadata": {},
   "outputs": [],
   "source": [
    "gender_old = pd.read_csv('./data/name_gender_2017_asiansAsNone.txt')"
   ]
  },
  {
   "cell_type": "code",
   "execution_count": null,
   "metadata": {},
   "outputs": [],
   "source": [
    "import pickle\n",
    "gender_id = pickle.load(open('./data/id_gender_2017_asiansAsNone.p', \"rb\" ) )"
   ]
  },
  {
   "cell_type": "code",
   "execution_count": 35,
   "metadata": {},
   "outputs": [
    {
     "name": "stdout",
     "output_type": "stream",
     "text": [
      "(1704919, 2)\n",
      "(9471728, 2)\n"
     ]
    }
   ],
   "source": [
    "print(gender.shape)\n",
    "print(gender_old.shape)"
   ]
  },
  {
   "cell_type": "code",
   "execution_count": 36,
   "metadata": {},
   "outputs": [
    {
     "data": {
      "text/html": [
       "<div>\n",
       "<style scoped>\n",
       "    .dataframe tbody tr th:only-of-type {\n",
       "        vertical-align: middle;\n",
       "    }\n",
       "\n",
       "    .dataframe tbody tr th {\n",
       "        vertical-align: top;\n",
       "    }\n",
       "\n",
       "    .dataframe thead th {\n",
       "        text-align: right;\n",
       "    }\n",
       "</style>\n",
       "<table border=\"1\" class=\"dataframe\">\n",
       "  <thead>\n",
       "    <tr style=\"text-align: right;\">\n",
       "      <th></th>\n",
       "      <th>name</th>\n",
       "      <th>gender</th>\n",
       "    </tr>\n",
       "  </thead>\n",
       "  <tbody>\n",
       "    <tr>\n",
       "      <th>0</th>\n",
       "      <td>gareth beale</td>\n",
       "      <td>m</td>\n",
       "    </tr>\n",
       "    <tr>\n",
       "      <th>1</th>\n",
       "      <td>graeme earl</td>\n",
       "      <td>m</td>\n",
       "    </tr>\n",
       "    <tr>\n",
       "      <th>2</th>\n",
       "      <td>altaf hossain</td>\n",
       "      <td>m</td>\n",
       "    </tr>\n",
       "    <tr>\n",
       "      <th>3</th>\n",
       "      <td>faisal zaman</td>\n",
       "      <td>m</td>\n",
       "    </tr>\n",
       "    <tr>\n",
       "      <th>4</th>\n",
       "      <td>m. nasser</td>\n",
       "      <td>none</td>\n",
       "    </tr>\n",
       "  </tbody>\n",
       "</table>\n",
       "</div>"
      ],
      "text/plain": [
       "            name gender\n",
       "0   gareth beale      m\n",
       "1    graeme earl      m\n",
       "2  altaf hossain      m\n",
       "3   faisal zaman      m\n",
       "4      m. nasser   none"
      ]
     },
     "execution_count": 36,
     "metadata": {},
     "output_type": "execute_result"
    }
   ],
   "source": [
    "gender.head()"
   ]
  },
  {
   "cell_type": "code",
   "execution_count": 37,
   "metadata": {},
   "outputs": [],
   "source": [
    "gender_old = gender_old.drop_duplicates()"
   ]
  },
  {
   "cell_type": "code",
   "execution_count": 38,
   "metadata": {},
   "outputs": [
    {
     "data": {
      "text/html": [
       "<div>\n",
       "<style scoped>\n",
       "    .dataframe tbody tr th:only-of-type {\n",
       "        vertical-align: middle;\n",
       "    }\n",
       "\n",
       "    .dataframe tbody tr th {\n",
       "        vertical-align: top;\n",
       "    }\n",
       "\n",
       "    .dataframe thead th {\n",
       "        text-align: right;\n",
       "    }\n",
       "</style>\n",
       "<table border=\"1\" class=\"dataframe\">\n",
       "  <thead>\n",
       "    <tr style=\"text-align: right;\">\n",
       "      <th></th>\n",
       "      <th>name</th>\n",
       "      <th>gender</th>\n",
       "    </tr>\n",
       "  </thead>\n",
       "  <tbody>\n",
       "    <tr>\n",
       "      <th>2770</th>\n",
       "      <td>jorge santos 1</td>\n",
       "      <td>none</td>\n",
       "    </tr>\n",
       "    <tr>\n",
       "      <th>96427</th>\n",
       "      <td>ricardo jorge santos</td>\n",
       "      <td>m</td>\n",
       "    </tr>\n",
       "    <tr>\n",
       "      <th>476406</th>\n",
       "      <td>jorge santos</td>\n",
       "      <td>m</td>\n",
       "    </tr>\n",
       "    <tr>\n",
       "      <th>786851</th>\n",
       "      <td>jorge santos 2</td>\n",
       "      <td>none</td>\n",
       "    </tr>\n",
       "    <tr>\n",
       "      <th>3648191</th>\n",
       "      <td>jorge santos 3</td>\n",
       "      <td>none</td>\n",
       "    </tr>\n",
       "    <tr>\n",
       "      <th>4285718</th>\n",
       "      <td>jorge santos 0002</td>\n",
       "      <td>m</td>\n",
       "    </tr>\n",
       "    <tr>\n",
       "      <th>6215007</th>\n",
       "      <td>camillo jorge santos oliveira</td>\n",
       "      <td>m</td>\n",
       "    </tr>\n",
       "    <tr>\n",
       "      <th>7611136</th>\n",
       "      <td>jorge santos simón</td>\n",
       "      <td>m</td>\n",
       "    </tr>\n",
       "    <tr>\n",
       "      <th>8420724</th>\n",
       "      <td>esdras jorge santos barboza</td>\n",
       "      <td>m</td>\n",
       "    </tr>\n",
       "  </tbody>\n",
       "</table>\n",
       "</div>"
      ],
      "text/plain": [
       "                                  name gender\n",
       "2770                    jorge santos 1   none\n",
       "96427             ricardo jorge santos      m\n",
       "476406                    jorge santos      m\n",
       "786851                  jorge santos 2   none\n",
       "3648191                 jorge santos 3   none\n",
       "4285718              jorge santos 0002      m\n",
       "6215007  camillo jorge santos oliveira      m\n",
       "7611136             jorge santos simón      m\n",
       "8420724    esdras jorge santos barboza      m"
      ]
     },
     "execution_count": 38,
     "metadata": {},
     "output_type": "execute_result"
    }
   ],
   "source": [
    "gender_old[gender_old.name.str.contains(\"jorge santos\")]"
   ]
  },
  {
   "cell_type": "code",
   "execution_count": 39,
   "metadata": {},
   "outputs": [
    {
     "data": {
      "text/html": [
       "<div>\n",
       "<style scoped>\n",
       "    .dataframe tbody tr th:only-of-type {\n",
       "        vertical-align: middle;\n",
       "    }\n",
       "\n",
       "    .dataframe tbody tr th {\n",
       "        vertical-align: top;\n",
       "    }\n",
       "\n",
       "    .dataframe thead th {\n",
       "        text-align: right;\n",
       "    }\n",
       "</style>\n",
       "<table border=\"1\" class=\"dataframe\">\n",
       "  <thead>\n",
       "    <tr style=\"text-align: right;\">\n",
       "      <th></th>\n",
       "      <th>name</th>\n",
       "      <th>gender</th>\n",
       "    </tr>\n",
       "  </thead>\n",
       "  <tbody>\n",
       "    <tr>\n",
       "      <th>2545</th>\n",
       "      <td>jorge santos 1</td>\n",
       "      <td>m</td>\n",
       "    </tr>\n",
       "    <tr>\n",
       "      <th>70490</th>\n",
       "      <td>ricardo jorge santos</td>\n",
       "      <td>m</td>\n",
       "    </tr>\n",
       "    <tr>\n",
       "      <th>248275</th>\n",
       "      <td>jorge santos</td>\n",
       "      <td>none</td>\n",
       "    </tr>\n",
       "    <tr>\n",
       "      <th>382652</th>\n",
       "      <td>jorge santos 2</td>\n",
       "      <td>m</td>\n",
       "    </tr>\n",
       "    <tr>\n",
       "      <th>1025928</th>\n",
       "      <td>jorge santos 3</td>\n",
       "      <td>m</td>\n",
       "    </tr>\n",
       "    <tr>\n",
       "      <th>1119603</th>\n",
       "      <td>jorge santos 0002</td>\n",
       "      <td>m</td>\n",
       "    </tr>\n",
       "    <tr>\n",
       "      <th>1337773</th>\n",
       "      <td>camillo jorge santos oliveira</td>\n",
       "      <td>m</td>\n",
       "    </tr>\n",
       "    <tr>\n",
       "      <th>1501066</th>\n",
       "      <td>jorge santos simón</td>\n",
       "      <td>m</td>\n",
       "    </tr>\n",
       "    <tr>\n",
       "      <th>1614512</th>\n",
       "      <td>esdras jorge santos barboza</td>\n",
       "      <td>m</td>\n",
       "    </tr>\n",
       "  </tbody>\n",
       "</table>\n",
       "</div>"
      ],
      "text/plain": [
       "                                  name gender\n",
       "2545                    jorge santos 1      m\n",
       "70490             ricardo jorge santos      m\n",
       "248275                    jorge santos   none\n",
       "382652                  jorge santos 2      m\n",
       "1025928                 jorge santos 3      m\n",
       "1119603              jorge santos 0002      m\n",
       "1337773  camillo jorge santos oliveira      m\n",
       "1501066             jorge santos simón      m\n",
       "1614512    esdras jorge santos barboza      m"
      ]
     },
     "execution_count": 39,
     "metadata": {},
     "output_type": "execute_result"
    }
   ],
   "source": [
    "gender[gender.name.str.contains(\"jorge santos\")]"
   ]
  },
  {
   "cell_type": "code",
   "execution_count": 40,
   "metadata": {},
   "outputs": [],
   "source": [
    "## What is strange is that 'jorge santos 1' goes from none to 'm', but 'jorge santos' goes from 'm' to none"
   ]
  },
  {
   "cell_type": "code",
   "execution_count": 41,
   "metadata": {},
   "outputs": [
    {
     "data": {
      "text/html": [
       "<div>\n",
       "<style scoped>\n",
       "    .dataframe tbody tr th:only-of-type {\n",
       "        vertical-align: middle;\n",
       "    }\n",
       "\n",
       "    .dataframe tbody tr th {\n",
       "        vertical-align: top;\n",
       "    }\n",
       "\n",
       "    .dataframe thead th {\n",
       "        text-align: right;\n",
       "    }\n",
       "</style>\n",
       "<table border=\"1\" class=\"dataframe\">\n",
       "  <thead>\n",
       "    <tr style=\"text-align: right;\">\n",
       "      <th></th>\n",
       "      <th>name</th>\n",
       "    </tr>\n",
       "    <tr>\n",
       "      <th>gender</th>\n",
       "      <th></th>\n",
       "    </tr>\n",
       "  </thead>\n",
       "  <tbody>\n",
       "    <tr>\n",
       "      <th>f</th>\n",
       "      <td>255743</td>\n",
       "    </tr>\n",
       "    <tr>\n",
       "      <th>m</th>\n",
       "      <td>796034</td>\n",
       "    </tr>\n",
       "    <tr>\n",
       "      <th>none</th>\n",
       "      <td>653142</td>\n",
       "    </tr>\n",
       "  </tbody>\n",
       "</table>\n",
       "</div>"
      ],
      "text/plain": [
       "          name\n",
       "gender        \n",
       "f       255743\n",
       "m       796034\n",
       "none    653142"
      ]
     },
     "execution_count": 41,
     "metadata": {},
     "output_type": "execute_result"
    }
   ],
   "source": [
    "gender.groupby('gender').count()"
   ]
  },
  {
   "cell_type": "code",
   "execution_count": 42,
   "metadata": {},
   "outputs": [
    {
     "data": {
      "text/html": [
       "<div>\n",
       "<style scoped>\n",
       "    .dataframe tbody tr th:only-of-type {\n",
       "        vertical-align: middle;\n",
       "    }\n",
       "\n",
       "    .dataframe tbody tr th {\n",
       "        vertical-align: top;\n",
       "    }\n",
       "\n",
       "    .dataframe thead th {\n",
       "        text-align: right;\n",
       "    }\n",
       "</style>\n",
       "<table border=\"1\" class=\"dataframe\">\n",
       "  <thead>\n",
       "    <tr style=\"text-align: right;\">\n",
       "      <th></th>\n",
       "      <th>name</th>\n",
       "    </tr>\n",
       "    <tr>\n",
       "      <th>gender</th>\n",
       "      <th></th>\n",
       "    </tr>\n",
       "  </thead>\n",
       "  <tbody>\n",
       "    <tr>\n",
       "      <th>f</th>\n",
       "      <td>255413</td>\n",
       "    </tr>\n",
       "    <tr>\n",
       "      <th>m</th>\n",
       "      <td>792817</td>\n",
       "    </tr>\n",
       "    <tr>\n",
       "      <th>none</th>\n",
       "      <td>656689</td>\n",
       "    </tr>\n",
       "  </tbody>\n",
       "</table>\n",
       "</div>"
      ],
      "text/plain": [
       "          name\n",
       "gender        \n",
       "f       255413\n",
       "m       792817\n",
       "none    656689"
      ]
     },
     "execution_count": 42,
     "metadata": {},
     "output_type": "execute_result"
    }
   ],
   "source": [
    "gender_old.groupby('gender').count()"
   ]
  },
  {
   "cell_type": "code",
   "execution_count": 43,
   "metadata": {},
   "outputs": [],
   "source": [
    "merged = gender.merge(gender_old, on='name', suffixes=('_new', '_old'))"
   ]
  },
  {
   "cell_type": "code",
   "execution_count": 44,
   "metadata": {},
   "outputs": [
    {
     "data": {
      "text/html": [
       "<div>\n",
       "<style scoped>\n",
       "    .dataframe tbody tr th:only-of-type {\n",
       "        vertical-align: middle;\n",
       "    }\n",
       "\n",
       "    .dataframe tbody tr th {\n",
       "        vertical-align: top;\n",
       "    }\n",
       "\n",
       "    .dataframe thead th {\n",
       "        text-align: right;\n",
       "    }\n",
       "</style>\n",
       "<table border=\"1\" class=\"dataframe\">\n",
       "  <thead>\n",
       "    <tr style=\"text-align: right;\">\n",
       "      <th></th>\n",
       "      <th>name</th>\n",
       "      <th>gender_new</th>\n",
       "      <th>gender_old</th>\n",
       "    </tr>\n",
       "  </thead>\n",
       "  <tbody>\n",
       "    <tr>\n",
       "      <th>0</th>\n",
       "      <td>gareth beale</td>\n",
       "      <td>m</td>\n",
       "      <td>m</td>\n",
       "    </tr>\n",
       "    <tr>\n",
       "      <th>1</th>\n",
       "      <td>graeme earl</td>\n",
       "      <td>m</td>\n",
       "      <td>m</td>\n",
       "    </tr>\n",
       "    <tr>\n",
       "      <th>2</th>\n",
       "      <td>altaf hossain</td>\n",
       "      <td>m</td>\n",
       "      <td>m</td>\n",
       "    </tr>\n",
       "    <tr>\n",
       "      <th>3</th>\n",
       "      <td>faisal zaman</td>\n",
       "      <td>m</td>\n",
       "      <td>m</td>\n",
       "    </tr>\n",
       "    <tr>\n",
       "      <th>4</th>\n",
       "      <td>m. nasser</td>\n",
       "      <td>none</td>\n",
       "      <td>none</td>\n",
       "    </tr>\n",
       "  </tbody>\n",
       "</table>\n",
       "</div>"
      ],
      "text/plain": [
       "            name gender_new gender_old\n",
       "0   gareth beale          m          m\n",
       "1    graeme earl          m          m\n",
       "2  altaf hossain          m          m\n",
       "3   faisal zaman          m          m\n",
       "4      m. nasser       none       none"
      ]
     },
     "execution_count": 44,
     "metadata": {},
     "output_type": "execute_result"
    }
   ],
   "source": [
    "merged.head()"
   ]
  },
  {
   "cell_type": "code",
   "execution_count": 45,
   "metadata": {},
   "outputs": [
    {
     "name": "stdout",
     "output_type": "stream",
     "text": [
      "                            name gender_new gender_old\n",
      "16              antonio zamora 1          m       none\n",
      "281            christine bauer 1          f       none\n",
      "332              claudio rossi 1          m       none\n",
      "423             michael wagner 4          m       none\n",
      "523                rohit kumar 1          m       none\n",
      "697           andreas spillner 2          m       none\n",
      "779           michael kaufmann 1          m       none\n",
      "788          stuart cunningham 1          m       none\n",
      "844               martin braun 1          m       none\n",
      "922          anand arunachalam 1          m       none\n",
      "955            francisco gómez 1          m       none\n",
      "993              masahiko sato 1          m       none\n",
      "1113               jörg becker 1          m       none\n",
      "1170          satoshi nakamura 1          m       none\n",
      "1447            stefan fischer 1          m       none\n",
      "1609              michael kuhn 3          m       none\n",
      "1612            oded goldreich 1          m       none\n",
      "1673             marco alberti 1          m       none\n",
      "1890              faisal ahmed 1          m       none\n",
      "1933       spyros angelopoulos 1          m       none\n",
      "2020           christoph grimm 1          m       none\n",
      "2044           mourad oussalah 2          m       none\n",
      "2106             andreas könig 1          m       none\n",
      "2116          sebastian müller 1          m       none\n",
      "2266             markus becker 3          m       none\n",
      "2482         william robertson 1          m       none\n",
      "2545              jorge santos 1          m       none\n",
      "2584           takashi yoshino 1          m       none\n",
      "2654            scott f. smith 1          m       none\n",
      "2704            jürgen ziegler 1          m       none\n",
      "...                          ...        ...        ...\n",
      "1684505         michael thomas 9          m       none\n",
      "1685267         andreas schmid 3          m       none\n",
      "1686798      abhishek banerjee 2          m       none\n",
      "1686824      martin zimmermann 3          m       none\n",
      "1687586            jaesang lee 2          m       none\n",
      "1687600      christoph schmitz 2          m       none\n",
      "1689038        giovanni grasso 2          m       none\n",
      "1689328  muhammad faisal zafar 2          m       none\n",
      "1690545      michael l. walker 1          m       none\n",
      "1691269          avinash kumar 3          m       none\n",
      "1692002           rajesh kumar 9          m       none\n",
      "1694039          shinsuke kato 2          f       none\n",
      "1694988          chris johnson 2          m       none\n",
      "1695138         stefan wagner 11          m       none\n",
      "1695900         wolfgang faber 2          m       none\n",
      "1696763         lorenzo grassi 2          m       none\n",
      "1697750        michael günther 4          m       none\n",
      "1699160              alper sen 3          m       none\n",
      "1699392      jan van den bergh 2          m       none\n",
      "1699540         stefan winkler 4          m       none\n",
      "1699782             kenji aoki 2          m       none\n",
      "1699925        wolfgang müller 8          m       none\n",
      "1699926             ralf vogel 1          m       none\n",
      "1700444         michael smith 21          m       none\n",
      "1700760          martin schulz 7          m       none\n",
      "1702196        milind kulkarni 3          m       none\n",
      "1702216           balaji raman 2          m       none\n",
      "1703338          michael weber 7          m       none\n",
      "1703469         giovanni bacci 2          m       none\n",
      "1704588      martin gustafsson 1          m       none\n",
      "\n",
      "[4538 rows x 3 columns]\n"
     ]
    }
   ],
   "source": [
    "print(merged[(merged.gender_new != merged.gender_old) & (merged.gender_new!='none')])"
   ]
  },
  {
   "cell_type": "markdown",
   "metadata": {},
   "source": [
    "## Citations distribution (based on IDs file)"
   ]
  },
  {
   "cell_type": "code",
   "execution_count": 46,
   "metadata": {},
   "outputs": [],
   "source": [
    "citation_distribution = credible_authors['final_citation_count'].value_counts().sort_index()"
   ]
  },
  {
   "cell_type": "code",
   "execution_count": 47,
   "metadata": {},
   "outputs": [
    {
     "data": {
      "image/png": "[encoded data removed]",
      "text/plain": [
       "<matplotlib.figure.Figure at 0x7fe77e577a90>"
      ]
     },
     "metadata": {},
     "output_type": "display_data"
    }
   ],
   "source": [
    "plt.loglog(citation_distribution.index, citation_distribution.values)\n",
    "plt.xlabel('Num citations')\n",
    "plt.ylabel('Frequency')\n",
    "plt.show()"
   ]
  },
  {
   "cell_type": "markdown",
   "metadata": {},
   "source": [
    "## Early Career Prod. vs Final Success (ID file)"
   ]
  },
  {
   "cell_type": "code",
   "execution_count": 84,
   "metadata": {},
   "outputs": [],
   "source": [
    "credible_authors.sort_values(by='early_career_prod', inplace=True)"
   ]
  },
  {
   "cell_type": "code",
   "execution_count": 85,
   "metadata": {},
   "outputs": [],
   "source": [
    "x = credible_authors['early_career_prod']\n",
    "y = credible_authors['final_citation_count']"
   ]
  },
  {
   "cell_type": "code",
   "execution_count": 86,
   "metadata": {
    "scrolled": false
   },
   "outputs": [
    {
     "data": {
      "image/png": "[encoded data removed]",
      "text/plain": [
       "<matplotlib.figure.Figure at 0x7fe77f24bfd0>"
      ]
     },
     "metadata": {},
     "output_type": "display_data"
    }
   ],
   "source": [
    "fig, ax = plt.subplots()\n",
    "plt.scatter(x, y)\n",
    "fit = np.polyfit(x, y, deg=1)\n",
    "ax.plot(x, fit[0] * x + fit[1], color='red')\n",
    "plt.xlabel('Early Career Productivity')\n",
    "plt.ylabel('Final Success')\n",
    "# plt.xlim(0, 50)\n",
    "# plt.ylim(0,200)\n",
    "plt.show()"
   ]
  },
  {
   "cell_type": "code",
   "execution_count": 87,
   "metadata": {},
   "outputs": [],
   "source": [
    "credible_authors_no_uncited = credible_authors.dropna()"
   ]
  },
  {
   "cell_type": "code",
   "execution_count": 88,
   "metadata": {},
   "outputs": [],
   "source": [
    "x = credible_authors_no_uncited['early_career_prod']\n",
    "y = credible_authors_no_uncited['final_citation_count']"
   ]
  },
  {
   "cell_type": "code",
   "execution_count": 89,
   "metadata": {},
   "outputs": [
    {
     "name": "stdout",
     "output_type": "stream",
     "text": [
      "0.16015844081055314\n",
      "35.22126654505476 38.74846641945885\n"
     ]
    }
   ],
   "source": [
    "slope, intercept, r_value, p_value, std_err = scipy.stats.linregress(x, y)\n",
    "print(r_value)\n",
    "print(slope, intercept)"
   ]
  },
  {
   "cell_type": "code",
   "execution_count": 90,
   "metadata": {
    "scrolled": false
   },
   "outputs": [
    {
     "data": {
      "image/png": "[encoded data removed]",
      "text/plain": [
       "<matplotlib.figure.Figure at 0x7fe77eea2898>"
      ]
     },
     "metadata": {},
     "output_type": "display_data"
    }
   ],
   "source": [
    "fig, axs = plt.subplots()\n",
    "axs.hist2d(x, y, bins=40, norm=colors.LogNorm())\n",
    "plt.show()"
   ]
  },
  {
   "cell_type": "markdown",
   "metadata": {},
   "source": [
    "## Early Career Prod. vs Early Career Qual. (IDs file)"
   ]
  },
  {
   "cell_type": "code",
   "execution_count": 91,
   "metadata": {},
   "outputs": [],
   "source": [
    "credible_authors.sort_values(by='early_career_prod', inplace=True)"
   ]
  },
  {
   "cell_type": "code",
   "execution_count": 92,
   "metadata": {},
   "outputs": [
    {
     "data": {
      "image/png": "[encoded data removed]",
      "text/plain": [
       "<matplotlib.figure.Figure at 0x7fe78340d6a0>"
      ]
     },
     "metadata": {},
     "output_type": "display_data"
    }
   ],
   "source": [
    "plt.scatter(credible_authors['early_career_prod'], credible_authors['early_career_qual'])\n",
    "plt.xlabel('Early Career Productivity')\n",
    "plt.ylabel('Early Career Quality')\n",
    "plt.show()"
   ]
  },
  {
   "cell_type": "code",
   "execution_count": null,
   "metadata": {},
   "outputs": [],
   "source": []
  }
 ],
 "metadata": {
  "kernelspec": {
   "display_name": "Python 3",
   "language": "python",
   "name": "python3"
  },
  "language_info": {
   "codemirror_mode": {
    "name": "ipython",
    "version": 3
   },
   "file_extension": ".py",
   "mimetype": "text/x-python",
   "name": "python",
   "nbconvert_exporter": "python",
   "pygments_lexer": "ipython3",
   "version": "3.6.4"
  }
 },
 "nbformat": 4,
 "nbformat_minor": 2
}
