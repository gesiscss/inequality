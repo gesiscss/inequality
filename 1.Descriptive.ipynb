{
 "cells": [
  {
   "cell_type": "code",
   "execution_count": 3,
   "metadata": {},
   "outputs": [],
   "source": [
    "import pandas as pd\n",
    "import numpy as np\n",
    "import timeit\n",
    "\n",
    "from matplotlib import pyplot as plt\n",
    "from matplotlib import rcParams\n",
    "plt.style.use('ggplot')\n",
    "rcParams['figure.figsize'] = (20.0, 10.0)\n",
    "from matplotlib import colors\n",
    "import seaborn as sns\n",
    "\n",
    "import scipy.stats"
   ]
  },
  {
   "cell_type": "markdown",
   "metadata": {},
   "source": [
    "## Publication data"
   ]
  },
  {
   "cell_type": "code",
   "execution_count": 4,
   "metadata": {},
   "outputs": [
    {
     "data": {
      "text/html": [
       "<div>\n",
       "<style scoped>\n",
       "    .dataframe tbody tr th:only-of-type {\n",
       "        vertical-align: middle;\n",
       "    }\n",
       "\n",
       "    .dataframe tbody tr th {\n",
       "        vertical-align: top;\n",
       "    }\n",
       "\n",
       "    .dataframe thead th {\n",
       "        text-align: right;\n",
       "    }\n",
       "</style>\n",
       "<table border=\"1\" class=\"dataframe\">\n",
       "  <thead>\n",
       "    <tr style=\"text-align: right;\">\n",
       "      <th></th>\n",
       "      <th>author</th>\n",
       "      <th>year</th>\n",
       "      <th>pub_id</th>\n",
       "    </tr>\n",
       "  </thead>\n",
       "  <tbody>\n",
       "    <tr>\n",
       "      <th>0</th>\n",
       "      <td>graeme earl</td>\n",
       "      <td>2011</td>\n",
       "      <td>001c58d3-26ad-46b3-ab3a-c1e557d16821</td>\n",
       "    </tr>\n",
       "    <tr>\n",
       "      <th>1</th>\n",
       "      <td>gareth beale</td>\n",
       "      <td>2011</td>\n",
       "      <td>001c58d3-26ad-46b3-ab3a-c1e557d16821</td>\n",
       "    </tr>\n",
       "    <tr>\n",
       "      <th>2</th>\n",
       "      <td>m. nasser</td>\n",
       "      <td>2009</td>\n",
       "      <td>001c8744-73c4-4b04-9364-22d31a10dbf1</td>\n",
       "    </tr>\n",
       "    <tr>\n",
       "      <th>3</th>\n",
       "      <td>faisal zaman</td>\n",
       "      <td>2009</td>\n",
       "      <td>001c8744-73c4-4b04-9364-22d31a10dbf1</td>\n",
       "    </tr>\n",
       "    <tr>\n",
       "      <th>4</th>\n",
       "      <td>altaf hossain</td>\n",
       "      <td>2009</td>\n",
       "      <td>001c8744-73c4-4b04-9364-22d31a10dbf1</td>\n",
       "    </tr>\n",
       "  </tbody>\n",
       "</table>\n",
       "</div>"
      ],
      "text/plain": [
       "          author  year                                pub_id\n",
       "0    graeme earl  2011  001c58d3-26ad-46b3-ab3a-c1e557d16821\n",
       "1   gareth beale  2011  001c58d3-26ad-46b3-ab3a-c1e557d16821\n",
       "2      m. nasser  2009  001c8744-73c4-4b04-9364-22d31a10dbf1\n",
       "3   faisal zaman  2009  001c8744-73c4-4b04-9364-22d31a10dbf1\n",
       "4  altaf hossain  2009  001c8744-73c4-4b04-9364-22d31a10dbf1"
      ]
     },
     "execution_count": 4,
     "metadata": {},
     "output_type": "execute_result"
    }
   ],
   "source": [
    "# authorPublicationData = pd.read_csv('data/author_publications_1970_2016_asiansAsNone.txt')\n",
    "authorPublicationData = pd.read_csv('data/author_publications_2017_asiansAsNone.txt')\n",
    "authorPublicationData.head()"
   ]
  },
  {
   "cell_type": "code",
   "execution_count": 5,
   "metadata": {},
   "outputs": [],
   "source": [
    "author_year_numPub = authorPublicationData.groupby(['author', 'year'])['pub_id'].count()"
   ]
  },
  {
   "cell_type": "code",
   "execution_count": 6,
   "metadata": {},
   "outputs": [
    {
     "data": {
      "text/plain": [
       "author                 year\n",
       "'maseka lesaoana       2001    1\n",
       "                       2015    1\n",
       "(max) zong-ming cheng  2009    1\n",
       "                       2011    1\n",
       "(zhou) bryan bai       2011    1\n",
       "Name: pub_id, dtype: int64"
      ]
     },
     "execution_count": 6,
     "metadata": {},
     "output_type": "execute_result"
    }
   ],
   "source": [
    "author_year_numPub.head()"
   ]
  },
  {
   "cell_type": "code",
   "execution_count": 31,
   "metadata": {},
   "outputs": [],
   "source": [
    "author_year_publications = authorPublicationData.groupby(['author', 'year'])['pub_id'].apply(list)"
   ]
  },
  {
   "cell_type": "code",
   "execution_count": 8,
   "metadata": {},
   "outputs": [],
   "source": [
    "# author_year_publications.head()"
   ]
  },
  {
   "cell_type": "markdown",
   "metadata": {},
   "source": [
    "## Author citation data (ids)"
   ]
  },
  {
   "cell_type": "code",
   "execution_count": 9,
   "metadata": {},
   "outputs": [],
   "source": [
    "authorCitationsData = pd.read_csv('./data/citations_2017_asiansAsNone_cleaned.txt')"
   ]
  },
  {
   "cell_type": "code",
   "execution_count": 10,
   "metadata": {},
   "outputs": [
    {
     "name": "stdout",
     "output_type": "stream",
     "text": [
      "(24976435, 3)\n"
     ]
    }
   ],
   "source": [
    "authorCitationsData.head()\n",
    "print(authorCitationsData.shape)"
   ]
  },
  {
   "cell_type": "code",
   "execution_count": 11,
   "metadata": {},
   "outputs": [],
   "source": [
    "paper_citation_count = pd.read_csv('data/paper-citation-count.csv', index_col=0, header=None, squeeze=True)"
   ]
  },
  {
   "cell_type": "markdown",
   "metadata": {},
   "source": [
    "## Author citation network, paper -> author"
   ]
  },
  {
   "cell_type": "code",
   "execution_count": 12,
   "metadata": {},
   "outputs": [],
   "source": [
    "# authorCitationsData_with_cited_author = pd.read_csv('./data/authors_cited_by_papers_2017_asiansAsNone_by_daniel.txt')"
   ]
  },
  {
   "cell_type": "code",
   "execution_count": 13,
   "metadata": {},
   "outputs": [],
   "source": [
    "# authorCitationsData_with_cited_author.head()"
   ]
  },
  {
   "cell_type": "code",
   "execution_count": 14,
   "metadata": {},
   "outputs": [],
   "source": [
    "citations_year_auth = pd.read_csv('./data/authors_cite_2017_asiansAsNone_by_daniel_grouped.txt')"
   ]
  },
  {
   "cell_type": "code",
   "execution_count": 15,
   "metadata": {},
   "outputs": [],
   "source": [
    "final_citation_count = citations_year_auth.groupby('author')['cit_count'].sum()"
   ]
  },
  {
   "cell_type": "code",
   "execution_count": 16,
   "metadata": {},
   "outputs": [],
   "source": [
    "citations_year_auth = citations_year_auth.groupby(['author', 'year_cit'])['cit_count'].sum()"
   ]
  },
  {
   "cell_type": "markdown",
   "metadata": {},
   "source": [
    "## Author career information"
   ]
  },
  {
   "cell_type": "code",
   "execution_count": 17,
   "metadata": {},
   "outputs": [],
   "source": [
    "CAREER_LENGTH = 5"
   ]
  },
  {
   "cell_type": "code",
   "execution_count": 18,
   "metadata": {},
   "outputs": [],
   "source": [
    "credible_authors = pd.read_csv('data/authors-scientific-atleast-' + str(CAREER_LENGTH) + '-year.csv')"
   ]
  },
  {
   "cell_type": "code",
   "execution_count": 19,
   "metadata": {},
   "outputs": [],
   "source": [
    "credible_authors.set_index('author', inplace=True)"
   ]
  },
  {
   "cell_type": "code",
   "execution_count": 20,
   "metadata": {},
   "outputs": [
    {
     "data": {
      "text/html": [
       "<div>\n",
       "<style scoped>\n",
       "    .dataframe tbody tr th:only-of-type {\n",
       "        vertical-align: middle;\n",
       "    }\n",
       "\n",
       "    .dataframe tbody tr th {\n",
       "        vertical-align: top;\n",
       "    }\n",
       "\n",
       "    .dataframe thead th {\n",
       "        text-align: right;\n",
       "    }\n",
       "</style>\n",
       "<table border=\"1\" class=\"dataframe\">\n",
       "  <thead>\n",
       "    <tr style=\"text-align: right;\">\n",
       "      <th></th>\n",
       "      <th>start_year</th>\n",
       "      <th>end_year</th>\n",
       "      <th>num_pub</th>\n",
       "      <th>career_length</th>\n",
       "    </tr>\n",
       "    <tr>\n",
       "      <th>author</th>\n",
       "      <th></th>\n",
       "      <th></th>\n",
       "      <th></th>\n",
       "      <th></th>\n",
       "    </tr>\n",
       "  </thead>\n",
       "  <tbody>\n",
       "    <tr>\n",
       "      <th>'maseka lesaoana</th>\n",
       "      <td>2001</td>\n",
       "      <td>2015</td>\n",
       "      <td>2</td>\n",
       "      <td>15</td>\n",
       "    </tr>\n",
       "    <tr>\n",
       "      <th>a aart blokhuis</th>\n",
       "      <td>1992</td>\n",
       "      <td>2005</td>\n",
       "      <td>2</td>\n",
       "      <td>14</td>\n",
       "    </tr>\n",
       "    <tr>\n",
       "      <th>a min tjoa</th>\n",
       "      <td>1979</td>\n",
       "      <td>2017</td>\n",
       "      <td>191</td>\n",
       "      <td>39</td>\n",
       "    </tr>\n",
       "    <tr>\n",
       "      <th>a-imam al-sammak</th>\n",
       "      <td>1992</td>\n",
       "      <td>2006</td>\n",
       "      <td>3</td>\n",
       "      <td>15</td>\n",
       "    </tr>\n",
       "    <tr>\n",
       "      <th>a-long jin</th>\n",
       "      <td>2011</td>\n",
       "      <td>2016</td>\n",
       "      <td>9</td>\n",
       "      <td>6</td>\n",
       "    </tr>\n",
       "  </tbody>\n",
       "</table>\n",
       "</div>"
      ],
      "text/plain": [
       "                  start_year  end_year  num_pub  career_length\n",
       "author                                                        \n",
       "'maseka lesaoana        2001      2015        2             15\n",
       "a aart blokhuis         1992      2005        2             14\n",
       "a min tjoa              1979      2017      191             39\n",
       "a-imam al-sammak        1992      2006        3             15\n",
       "a-long jin              2011      2016        9              6"
      ]
     },
     "execution_count": 20,
     "metadata": {},
     "output_type": "execute_result"
    }
   ],
   "source": [
    "credible_authors.head()"
   ]
  },
  {
   "cell_type": "markdown",
   "metadata": {},
   "source": [
    "## Early career analysis"
   ]
  },
  {
   "cell_type": "code",
   "execution_count": 19,
   "metadata": {},
   "outputs": [],
   "source": [
    "# This part adds data to credible_authors file. This is stored for later use. "
   ]
  },
  {
   "cell_type": "code",
   "execution_count": 20,
   "metadata": {},
   "outputs": [],
   "source": [
    "# credible_authors = credible_authors.head(5000)"
   ]
  },
  {
   "cell_type": "code",
   "execution_count": 21,
   "metadata": {},
   "outputs": [],
   "source": [
    "EARLY_CAREER_LEN = 3\n",
    "QUALITY_CUT_OFF = CAREER_LENGTH"
   ]
  },
  {
   "cell_type": "code",
   "execution_count": 22,
   "metadata": {},
   "outputs": [],
   "source": [
    "def get_early_career_prod(row, early_career_len):\n",
    "    early_prod = 0\n",
    "    author = row.name\n",
    "    start_year = row['start_year']\n",
    "    year_num_pub = author_year_numPub[author]\n",
    "    for year in range(early_career_len):\n",
    "        if start_year + year in year_num_pub:\n",
    "            early_prod += year_num_pub[start_year + year]\n",
    "    return early_prod"
   ]
  },
  {
   "cell_type": "code",
   "execution_count": 23,
   "metadata": {},
   "outputs": [
    {
     "name": "stdout",
     "output_type": "stream",
     "text": [
      "CPU times: user 2min 53s, sys: 956 ms, total: 2min 54s\n",
      "Wall time: 2min 54s\n"
     ]
    }
   ],
   "source": [
    "%%time\n",
    "credible_authors['early_career_prod'] = credible_authors.apply(lambda x: get_early_career_prod(x, EARLY_CAREER_LEN), axis=1)"
   ]
  },
  {
   "cell_type": "code",
   "execution_count": 24,
   "metadata": {},
   "outputs": [],
   "source": [
    "def get_early_publications(row, early_career_len):\n",
    "    early_pubs = []\n",
    "    author = row.name\n",
    "    start_year = row['start_year']\n",
    "    year_pub_list = author_year_publications[author]\n",
    "    for year in range(early_career_len):\n",
    "        if start_year + year in year_pub_list:\n",
    "            early_pubs.extend(year_pub_list[start_year + year])\n",
    "    return early_pubs"
   ]
  },
  {
   "cell_type": "code",
   "execution_count": 32,
   "metadata": {},
   "outputs": [
    {
     "name": "stdout",
     "output_type": "stream",
     "text": [
      "CPU times: user 3min 39s, sys: 2.53 s, total: 3min 42s\n",
      "Wall time: 3min 42s\n"
     ]
    }
   ],
   "source": [
    "%%time\n",
    "credible_authors['early_career_pubs'] = credible_authors.apply(lambda x: get_early_publications(x, EARLY_CAREER_LEN), axis=1)"
   ]
  },
  {
   "cell_type": "code",
   "execution_count": 26,
   "metadata": {
    "code_folding": []
   },
   "outputs": [],
   "source": [
    "def get_early_career_quality(row, cut_off):\n",
    "    early_pubs = row.early_career_pubs\n",
    "    start_year = row['start_year']\n",
    "    return authorCitationsData[(authorCitationsData.id2.isin(early_pubs)) & \n",
    "                               (authorCitationsData.year_cit < start_year + cut_off)].shape[0]\n",
    "    return sum([paper_citation_count[paper] for paper in early_pubs if paper in paper_citation_count])"
   ]
  },
  {
   "cell_type": "code",
   "execution_count": null,
   "metadata": {},
   "outputs": [],
   "source": [
    "%%time\n",
    "credible_authors['early_career_qual'] = credible_authors.apply(lambda x: get_early_career_quality(x, QUALITY_CUT_OFF), axis=1)\n",
    "# early_career_quality = pd.read_csv('./data/early_career_quality.txt')\n",
    "# early_career_quality.set_index('author', inplace=True)\n",
    "# credible_authors['early_career_qual'] = early_career_quality"
   ]
  },
  {
   "cell_type": "code",
   "execution_count": null,
   "metadata": {},
   "outputs": [],
   "source": [
    "credible_authors['early_career_qual'] = credible_authors['early_career_qual'].fillna(0)"
   ]
  },
  {
   "cell_type": "code",
   "execution_count": 30,
   "metadata": {},
   "outputs": [],
   "source": [
    "def get_early_career_recognition(row, early_career_len):\n",
    "    early_rec = 0\n",
    "    author = row.name\n",
    "    start_year = row['start_year']\n",
    "    if author in citations_year_auth:\n",
    "        year_num_cit = citations_year_auth[author]\n",
    "    else:\n",
    "        return 0\n",
    "    for year in range(early_career_len):\n",
    "        if start_year + year in year_num_cit:\n",
    "            early_rec += year_num_cit[start_year + year]\n",
    "    return early_rec"
   ]
  },
  {
   "cell_type": "code",
   "execution_count": 31,
   "metadata": {},
   "outputs": [
    {
     "name": "stdout",
     "output_type": "stream",
     "text": [
      "CPU times: user 2min 46s, sys: 676 ms, total: 2min 46s\n",
      "Wall time: 2min 46s\n"
     ]
    }
   ],
   "source": [
    "%%time\n",
    "credible_authors['early_career_rec'] = credible_authors.apply(lambda x: get_early_career_recognition(x, EARLY_CAREER_LEN), axis=1)"
   ]
  },
  {
   "cell_type": "code",
   "execution_count": 32,
   "metadata": {},
   "outputs": [
    {
     "name": "stdout",
     "output_type": "stream",
     "text": [
      "CPU times: user 464 ms, sys: 36 ms, total: 500 ms\n",
      "Wall time: 496 ms\n"
     ]
    }
   ],
   "source": [
    "%%time\n",
    "credible_authors['final_citation_count'] = final_citation_count\n",
    "credible_authors['final_citation_count'] = credible_authors['final_citation_count'].fillna(0)"
   ]
  },
  {
   "cell_type": "markdown",
   "metadata": {},
   "source": [
    "## Gender\n"
   ]
  },
  {
   "cell_type": "code",
   "execution_count": 33,
   "metadata": {},
   "outputs": [],
   "source": [
    "gender = pd.read_csv('./data/name_gender_2017_asiansAsNone_nodup.txt')\n",
    "gender.set_index('name', inplace=True)"
   ]
  },
  {
   "cell_type": "code",
   "execution_count": 34,
   "metadata": {},
   "outputs": [],
   "source": [
    "credible_authors['gender'] = gender"
   ]
  },
  {
   "cell_type": "code",
   "execution_count": 35,
   "metadata": {},
   "outputs": [
    {
     "data": {
      "text/plain": [
       "m       249450\n",
       "none    193670\n",
       "f        60739\n",
       "Name: gender, dtype: int64"
      ]
     },
     "execution_count": 35,
     "metadata": {},
     "output_type": "execute_result"
    }
   ],
   "source": [
    "credible_authors.gender.value_counts()"
   ]
  },
  {
   "cell_type": "markdown",
   "metadata": {
    "heading_collapsed": true
   },
   "source": [
    "## Save author data"
   ]
  },
  {
   "cell_type": "code",
   "execution_count": 36,
   "metadata": {
    "hidden": true
   },
   "outputs": [],
   "source": [
    "credible_authors.reset_index().to_csv('data/authors-scientific-atleast-' + str(CAREER_LENGTH) + '-year_extended.csv', \n",
    "                                      index=False)"
   ]
  },
  {
   "cell_type": "markdown",
   "metadata": {},
   "source": [
    "## Test for errors in files"
   ]
  },
  {
   "cell_type": "markdown",
   "metadata": {},
   "source": [
    "### Test if final citation count is working correctly"
   ]
  },
  {
   "cell_type": "code",
   "execution_count": 37,
   "metadata": {},
   "outputs": [],
   "source": [
    "final_less_than_early = credible_authors[credible_authors.final_citation_count < credible_authors.early_career_qual].shape\n",
    "assert final_less_than_early[0] == 0, \"Final citation count is smaller than early in {} cases.\".format(final_less_than_early[0])"
   ]
  },
  {
   "cell_type": "code",
   "execution_count": 38,
   "metadata": {},
   "outputs": [
    {
     "data": {
      "text/html": [
       "<div>\n",
       "<style scoped>\n",
       "    .dataframe tbody tr th:only-of-type {\n",
       "        vertical-align: middle;\n",
       "    }\n",
       "\n",
       "    .dataframe tbody tr th {\n",
       "        vertical-align: top;\n",
       "    }\n",
       "\n",
       "    .dataframe thead th {\n",
       "        text-align: right;\n",
       "    }\n",
       "</style>\n",
       "<table border=\"1\" class=\"dataframe\">\n",
       "  <thead>\n",
       "    <tr style=\"text-align: right;\">\n",
       "      <th></th>\n",
       "      <th>start_year</th>\n",
       "      <th>end_year</th>\n",
       "      <th>num_pub</th>\n",
       "      <th>career_length</th>\n",
       "      <th>early_career_prod</th>\n",
       "      <th>early_career_qual</th>\n",
       "      <th>early_career_rec</th>\n",
       "      <th>final_citation_count</th>\n",
       "      <th>gender</th>\n",
       "    </tr>\n",
       "    <tr>\n",
       "      <th>author</th>\n",
       "      <th></th>\n",
       "      <th></th>\n",
       "      <th></th>\n",
       "      <th></th>\n",
       "      <th></th>\n",
       "      <th></th>\n",
       "      <th></th>\n",
       "      <th></th>\n",
       "      <th></th>\n",
       "    </tr>\n",
       "  </thead>\n",
       "  <tbody>\n",
       "  </tbody>\n",
       "</table>\n",
       "</div>"
      ],
      "text/plain": [
       "Empty DataFrame\n",
       "Columns: [start_year, end_year, num_pub, career_length, early_career_prod, early_career_qual, early_career_rec, final_citation_count, gender]\n",
       "Index: []"
      ]
     },
     "execution_count": 38,
     "metadata": {},
     "output_type": "execute_result"
    }
   ],
   "source": [
    "credible_authors[credible_authors.final_citation_count < credible_authors.early_career_qual].head()"
   ]
  },
  {
   "cell_type": "code",
   "execution_count": null,
   "metadata": {},
   "outputs": [],
   "source": []
  },
  {
   "cell_type": "code",
   "execution_count": 39,
   "metadata": {},
   "outputs": [],
   "source": [
    "# Look for authors with more than 20K citations. Are they famous?\n",
    "authors_5k = credible_authors[credible_authors['final_citation_count'] > 5000]"
   ]
  },
  {
   "cell_type": "code",
   "execution_count": 40,
   "metadata": {},
   "outputs": [
    {
     "data": {
      "text/plain": [
       "Index(['a. lee swindlehurst', 'a. robert calderbank', 'aapo hyvärinen',\n",
       "       'aaron f. bobick', 'aaron hertzmann', 'adi shamir', 'adrian perrig',\n",
       "       'aggelos k. katsaggelos', 'ajith abraham', 'alan burns',\n",
       "       ...\n",
       "       'zheng chen', 'zhengyou zhang', 'zhi-hua zhou', 'zhi-quan luo',\n",
       "       'zhou wang', 'zhu han', 'zhuoqing morley mao', 'zidong wang',\n",
       "       'zoubin ghahramani', 'éva tardos'],\n",
       "      dtype='object', name='author', length=915)"
      ]
     },
     "execution_count": 40,
     "metadata": {},
     "output_type": "execute_result"
    }
   ],
   "source": [
    "authors_5k.index"
   ]
  },
  {
   "cell_type": "code",
   "execution_count": 41,
   "metadata": {},
   "outputs": [
    {
     "data": {
      "text/plain": [
       "<matplotlib.axes._subplots.AxesSubplot at 0x7f792effaf28>"
      ]
     },
     "execution_count": 41,
     "metadata": {},
     "output_type": "execute_result"
    },
    {
     "data": {
      "image/png": "[encoded data removed]",
      "text/plain": [
       "<matplotlib.figure.Figure at 0x7f7a2c68cc18>"
      ]
     },
     "metadata": {},
     "output_type": "display_data"
    }
   ],
   "source": [
    "authors_5k.early_career_prod.value_counts().sort_index().plot(kind='bar')"
   ]
  },
  {
   "cell_type": "code",
   "execution_count": 42,
   "metadata": {},
   "outputs": [
    {
     "data": {
      "text/plain": [
       "<matplotlib.axes._subplots.AxesSubplot at 0x7f78d982d128>"
      ]
     },
     "execution_count": 42,
     "metadata": {},
     "output_type": "execute_result"
    },
    {
     "data": {
      "image/png": "[encoded data removed]",
      "text/plain": [
       "<matplotlib.figure.Figure at 0x7f78d97d60f0>"
      ]
     },
     "metadata": {},
     "output_type": "display_data"
    }
   ],
   "source": [
    "authors_5k.early_career_qual.value_counts().sort_index().plot(kind='bar')"
   ]
  },
  {
   "cell_type": "code",
   "execution_count": 43,
   "metadata": {},
   "outputs": [
    {
     "data": {
      "text/plain": [
       "<matplotlib.axes._subplots.AxesSubplot at 0x7f78d93dcf60>"
      ]
     },
     "execution_count": 43,
     "metadata": {},
     "output_type": "execute_result"
    },
    {
     "data": {
      "image/png": "[encoded data removed]",
      "text/plain": [
       "<matplotlib.figure.Figure at 0x7f78d9779f60>"
      ]
     },
     "metadata": {},
     "output_type": "display_data"
    }
   ],
   "source": [
    "authors_5k.early_career_rec.value_counts().sort_index().plot(kind='bar')"
   ]
  },
  {
   "cell_type": "code",
   "execution_count": 44,
   "metadata": {},
   "outputs": [
    {
     "data": {
      "text/html": [
       "<div>\n",
       "<style scoped>\n",
       "    .dataframe tbody tr th:only-of-type {\n",
       "        vertical-align: middle;\n",
       "    }\n",
       "\n",
       "    .dataframe tbody tr th {\n",
       "        vertical-align: top;\n",
       "    }\n",
       "\n",
       "    .dataframe thead th {\n",
       "        text-align: right;\n",
       "    }\n",
       "</style>\n",
       "<table border=\"1\" class=\"dataframe\">\n",
       "  <thead>\n",
       "    <tr style=\"text-align: right;\">\n",
       "      <th></th>\n",
       "      <th>start_year</th>\n",
       "      <th>end_year</th>\n",
       "      <th>num_pub</th>\n",
       "      <th>career_length</th>\n",
       "      <th>early_career_prod</th>\n",
       "      <th>early_career_qual</th>\n",
       "      <th>early_career_rec</th>\n",
       "      <th>final_citation_count</th>\n",
       "      <th>gender</th>\n",
       "    </tr>\n",
       "    <tr>\n",
       "      <th>author</th>\n",
       "      <th></th>\n",
       "      <th></th>\n",
       "      <th></th>\n",
       "      <th></th>\n",
       "      <th></th>\n",
       "      <th></th>\n",
       "      <th></th>\n",
       "      <th></th>\n",
       "      <th></th>\n",
       "    </tr>\n",
       "  </thead>\n",
       "  <tbody>\n",
       "  </tbody>\n",
       "</table>\n",
       "</div>"
      ],
      "text/plain": [
       "Empty DataFrame\n",
       "Columns: [start_year, end_year, num_pub, career_length, early_career_prod, early_career_qual, early_career_rec, final_citation_count, gender]\n",
       "Index: []"
      ]
     },
     "execution_count": 44,
     "metadata": {},
     "output_type": "execute_result"
    }
   ],
   "source": [
    "authors_5k[authors_5k.early_career_rec > authors_5k.early_career_qual]"
   ]
  },
  {
   "cell_type": "code",
   "execution_count": 45,
   "metadata": {},
   "outputs": [],
   "source": [
    "#credible_authors.drop(authors_20k, inplace=True)"
   ]
  },
  {
   "cell_type": "code",
   "execution_count": 46,
   "metadata": {
    "scrolled": false
   },
   "outputs": [],
   "source": [
    "# Test for extremly high early productivity\n",
    "# credible_authors[(credible_authors.early_career_prod_1 >= 10)].shape"
   ]
  },
  {
   "cell_type": "code",
   "execution_count": 47,
   "metadata": {},
   "outputs": [],
   "source": [
    "# credible_authors[(credible_authors.early_career_prod_1 >= 10)].start_year.value_counts().sort_index().plot(kind='bar')"
   ]
  },
  {
   "cell_type": "code",
   "execution_count": 48,
   "metadata": {},
   "outputs": [
    {
     "data": {
      "image/png": "[encoded data removed]",
      "text/plain": [
       "<matplotlib.figure.Figure at 0x7f78d92bba20>"
      ]
     },
     "metadata": {},
     "output_type": "display_data"
    }
   ],
   "source": [
    "sns.distplot(credible_authors.early_career_prod,\n",
    "             hist_kws=dict(cumulative=True),\n",
    "             kde_kws=dict(cumulative=True))\n",
    "import scipy\n",
    "sns.set_palette(\"hls\", 1)\n",
    "\n",
    "# x,y = p.get_lines()[0].get_data()\n",
    "\n",
    "#care with the order, it is first y\n",
    "#initial fills a 0 so the result has same length than x\n",
    "# cdf = scipy.integrate.cumtrapz(y, x, initial=0)\n",
    "\n",
    "# nearest_05 = np.abs(cdf-0.5).argmin()\n",
    "\n",
    "# x_median = x[nearest_05]\n",
    "# y_median = y[nearest_05]\n",
    "\n",
    "# plt.vlines(x_median, 0, y_median)\n",
    "plt.show()"
   ]
  },
  {
   "cell_type": "markdown",
   "metadata": {},
   "source": [
    "### Test gender files"
   ]
  },
  {
   "cell_type": "code",
   "execution_count": 49,
   "metadata": {},
   "outputs": [],
   "source": [
    "gender = pd.read_csv('./data/name_gender_2017_asiansAsNone_nodup.txt')"
   ]
  },
  {
   "cell_type": "code",
   "execution_count": 50,
   "metadata": {},
   "outputs": [],
   "source": [
    "gender_old = pd.read_csv('./data/name_gender_2017_asiansAsNone.txt')"
   ]
  },
  {
   "cell_type": "code",
   "execution_count": 51,
   "metadata": {},
   "outputs": [],
   "source": [
    "# import pickle\n",
    "# gender_id = pickle.load(open('./data/id_gender_2017_asiansAsNone.p', \"rb\" ) )\n",
    "# doesnt work. Python 3 vs 2?"
   ]
  },
  {
   "cell_type": "code",
   "execution_count": 52,
   "metadata": {},
   "outputs": [
    {
     "name": "stdout",
     "output_type": "stream",
     "text": [
      "(1704919, 2)\n",
      "(9471728, 2)\n"
     ]
    }
   ],
   "source": [
    "print(gender.shape)\n",
    "print(gender_old.shape)"
   ]
  },
  {
   "cell_type": "code",
   "execution_count": 53,
   "metadata": {},
   "outputs": [
    {
     "data": {
      "text/html": [
       "<div>\n",
       "<style scoped>\n",
       "    .dataframe tbody tr th:only-of-type {\n",
       "        vertical-align: middle;\n",
       "    }\n",
       "\n",
       "    .dataframe tbody tr th {\n",
       "        vertical-align: top;\n",
       "    }\n",
       "\n",
       "    .dataframe thead th {\n",
       "        text-align: right;\n",
       "    }\n",
       "</style>\n",
       "<table border=\"1\" class=\"dataframe\">\n",
       "  <thead>\n",
       "    <tr style=\"text-align: right;\">\n",
       "      <th></th>\n",
       "      <th>name</th>\n",
       "      <th>gender</th>\n",
       "    </tr>\n",
       "  </thead>\n",
       "  <tbody>\n",
       "    <tr>\n",
       "      <th>0</th>\n",
       "      <td>gareth beale</td>\n",
       "      <td>m</td>\n",
       "    </tr>\n",
       "    <tr>\n",
       "      <th>1</th>\n",
       "      <td>graeme earl</td>\n",
       "      <td>m</td>\n",
       "    </tr>\n",
       "    <tr>\n",
       "      <th>2</th>\n",
       "      <td>altaf hossain</td>\n",
       "      <td>m</td>\n",
       "    </tr>\n",
       "    <tr>\n",
       "      <th>3</th>\n",
       "      <td>faisal zaman</td>\n",
       "      <td>m</td>\n",
       "    </tr>\n",
       "    <tr>\n",
       "      <th>4</th>\n",
       "      <td>m. nasser</td>\n",
       "      <td>none</td>\n",
       "    </tr>\n",
       "  </tbody>\n",
       "</table>\n",
       "</div>"
      ],
      "text/plain": [
       "            name gender\n",
       "0   gareth beale      m\n",
       "1    graeme earl      m\n",
       "2  altaf hossain      m\n",
       "3   faisal zaman      m\n",
       "4      m. nasser   none"
      ]
     },
     "execution_count": 53,
     "metadata": {},
     "output_type": "execute_result"
    }
   ],
   "source": [
    "gender.head()"
   ]
  },
  {
   "cell_type": "code",
   "execution_count": 54,
   "metadata": {},
   "outputs": [],
   "source": [
    "gender_old = gender_old.drop_duplicates()"
   ]
  },
  {
   "cell_type": "code",
   "execution_count": 55,
   "metadata": {},
   "outputs": [
    {
     "data": {
      "text/html": [
       "<div>\n",
       "<style scoped>\n",
       "    .dataframe tbody tr th:only-of-type {\n",
       "        vertical-align: middle;\n",
       "    }\n",
       "\n",
       "    .dataframe tbody tr th {\n",
       "        vertical-align: top;\n",
       "    }\n",
       "\n",
       "    .dataframe thead th {\n",
       "        text-align: right;\n",
       "    }\n",
       "</style>\n",
       "<table border=\"1\" class=\"dataframe\">\n",
       "  <thead>\n",
       "    <tr style=\"text-align: right;\">\n",
       "      <th></th>\n",
       "      <th>name</th>\n",
       "      <th>gender</th>\n",
       "    </tr>\n",
       "  </thead>\n",
       "  <tbody>\n",
       "    <tr>\n",
       "      <th>365</th>\n",
       "      <td>robert a. van gorder</td>\n",
       "      <td>none</td>\n",
       "    </tr>\n",
       "    <tr>\n",
       "      <th>367</th>\n",
       "      <td>edward l. robertson</td>\n",
       "      <td>none</td>\n",
       "    </tr>\n",
       "    <tr>\n",
       "      <th>377</th>\n",
       "      <td>robert d. austin</td>\n",
       "      <td>none</td>\n",
       "    </tr>\n",
       "    <tr>\n",
       "      <th>505</th>\n",
       "      <td>roberto tamassia</td>\n",
       "      <td>m</td>\n",
       "    </tr>\n",
       "    <tr>\n",
       "      <th>520</th>\n",
       "      <td>robert warrender</td>\n",
       "      <td>none</td>\n",
       "    </tr>\n",
       "    <tr>\n",
       "      <th>555</th>\n",
       "      <td>roberto bortoletto</td>\n",
       "      <td>m</td>\n",
       "    </tr>\n",
       "    <tr>\n",
       "      <th>796</th>\n",
       "      <td>robert moss</td>\n",
       "      <td>none</td>\n",
       "    </tr>\n",
       "    <tr>\n",
       "      <th>1285</th>\n",
       "      <td>robert w. proctor</td>\n",
       "      <td>none</td>\n",
       "    </tr>\n",
       "    <tr>\n",
       "      <th>1581</th>\n",
       "      <td>robert b. gorbet</td>\n",
       "      <td>none</td>\n",
       "    </tr>\n",
       "    <tr>\n",
       "      <th>1605</th>\n",
       "      <td>robert chen</td>\n",
       "      <td>none</td>\n",
       "    </tr>\n",
       "    <tr>\n",
       "      <th>1630</th>\n",
       "      <td>roberto navigli</td>\n",
       "      <td>m</td>\n",
       "    </tr>\n",
       "    <tr>\n",
       "      <th>1645</th>\n",
       "      <td>robert a. greenes</td>\n",
       "      <td>none</td>\n",
       "    </tr>\n",
       "    <tr>\n",
       "      <th>1749</th>\n",
       "      <td>robert de simone</td>\n",
       "      <td>none</td>\n",
       "    </tr>\n",
       "    <tr>\n",
       "      <th>1784</th>\n",
       "      <td>robert buckley</td>\n",
       "      <td>none</td>\n",
       "    </tr>\n",
       "    <tr>\n",
       "      <th>2326</th>\n",
       "      <td>robert hecht</td>\n",
       "      <td>none</td>\n",
       "    </tr>\n",
       "    <tr>\n",
       "      <th>2377</th>\n",
       "      <td>robert w. fitzgerald</td>\n",
       "      <td>none</td>\n",
       "    </tr>\n",
       "    <tr>\n",
       "      <th>2413</th>\n",
       "      <td>roberto armenise</td>\n",
       "      <td>m</td>\n",
       "    </tr>\n",
       "    <tr>\n",
       "      <th>2571</th>\n",
       "      <td>robert baumgartner</td>\n",
       "      <td>none</td>\n",
       "    </tr>\n",
       "    <tr>\n",
       "      <th>2625</th>\n",
       "      <td>roberto podestá</td>\n",
       "      <td>m</td>\n",
       "    </tr>\n",
       "    <tr>\n",
       "      <th>2626</th>\n",
       "      <td>martin g. roberts</td>\n",
       "      <td>m</td>\n",
       "    </tr>\n",
       "    <tr>\n",
       "      <th>2705</th>\n",
       "      <td>william robertson 1</td>\n",
       "      <td>m</td>\n",
       "    </tr>\n",
       "    <tr>\n",
       "      <th>2851</th>\n",
       "      <td>robert chun</td>\n",
       "      <td>none</td>\n",
       "    </tr>\n",
       "    <tr>\n",
       "      <th>3144</th>\n",
       "      <td>robert a. reckhow</td>\n",
       "      <td>none</td>\n",
       "    </tr>\n",
       "    <tr>\n",
       "      <th>3188</th>\n",
       "      <td>roberto de virgilio</td>\n",
       "      <td>m</td>\n",
       "    </tr>\n",
       "    <tr>\n",
       "      <th>3214</th>\n",
       "      <td>robert glenn howard</td>\n",
       "      <td>none</td>\n",
       "    </tr>\n",
       "    <tr>\n",
       "      <th>3497</th>\n",
       "      <td>robert biddle</td>\n",
       "      <td>none</td>\n",
       "    </tr>\n",
       "    <tr>\n",
       "      <th>3602</th>\n",
       "      <td>robert d. galliers</td>\n",
       "      <td>none</td>\n",
       "    </tr>\n",
       "    <tr>\n",
       "      <th>3864</th>\n",
       "      <td>robert winter</td>\n",
       "      <td>none</td>\n",
       "    </tr>\n",
       "    <tr>\n",
       "      <th>3927</th>\n",
       "      <td>robert l. glass</td>\n",
       "      <td>none</td>\n",
       "    </tr>\n",
       "    <tr>\n",
       "      <th>4054</th>\n",
       "      <td>robert huis in 't veld</td>\n",
       "      <td>none</td>\n",
       "    </tr>\n",
       "    <tr>\n",
       "      <th>...</th>\n",
       "      <td>...</td>\n",
       "      <td>...</td>\n",
       "    </tr>\n",
       "    <tr>\n",
       "      <th>9413956</th>\n",
       "      <td>robert marx</td>\n",
       "      <td>none</td>\n",
       "    </tr>\n",
       "    <tr>\n",
       "      <th>9414174</th>\n",
       "      <td>robert shanklin</td>\n",
       "      <td>none</td>\n",
       "    </tr>\n",
       "    <tr>\n",
       "      <th>9416188</th>\n",
       "      <td>roberto verzicco</td>\n",
       "      <td>m</td>\n",
       "    </tr>\n",
       "    <tr>\n",
       "      <th>9420475</th>\n",
       "      <td>robert moszynski</td>\n",
       "      <td>none</td>\n",
       "    </tr>\n",
       "    <tr>\n",
       "      <th>9426832</th>\n",
       "      <td>roberta palmieri</td>\n",
       "      <td>f</td>\n",
       "    </tr>\n",
       "    <tr>\n",
       "      <th>9427028</th>\n",
       "      <td>roberto beghi</td>\n",
       "      <td>m</td>\n",
       "    </tr>\n",
       "    <tr>\n",
       "      <th>9428298</th>\n",
       "      <td>robert h. wilkinson</td>\n",
       "      <td>none</td>\n",
       "    </tr>\n",
       "    <tr>\n",
       "      <th>9428828</th>\n",
       "      <td>robert f. goeke</td>\n",
       "      <td>none</td>\n",
       "    </tr>\n",
       "    <tr>\n",
       "      <th>9430093</th>\n",
       "      <td>robert john martin</td>\n",
       "      <td>none</td>\n",
       "    </tr>\n",
       "    <tr>\n",
       "      <th>9430445</th>\n",
       "      <td>robert van straalen</td>\n",
       "      <td>none</td>\n",
       "    </tr>\n",
       "    <tr>\n",
       "      <th>9431934</th>\n",
       "      <td>robert olesen</td>\n",
       "      <td>none</td>\n",
       "    </tr>\n",
       "    <tr>\n",
       "      <th>9434381</th>\n",
       "      <td>roberto graciani diaz</td>\n",
       "      <td>m</td>\n",
       "    </tr>\n",
       "    <tr>\n",
       "      <th>9434937</th>\n",
       "      <td>robert m. hubley</td>\n",
       "      <td>none</td>\n",
       "    </tr>\n",
       "    <tr>\n",
       "      <th>9435629</th>\n",
       "      <td>robert t. saltarelli</td>\n",
       "      <td>none</td>\n",
       "    </tr>\n",
       "    <tr>\n",
       "      <th>9440686</th>\n",
       "      <td>roberto sousa</td>\n",
       "      <td>m</td>\n",
       "    </tr>\n",
       "    <tr>\n",
       "      <th>9441395</th>\n",
       "      <td>robert m. mark</td>\n",
       "      <td>none</td>\n",
       "    </tr>\n",
       "    <tr>\n",
       "      <th>9441505</th>\n",
       "      <td>robert tappe</td>\n",
       "      <td>none</td>\n",
       "    </tr>\n",
       "    <tr>\n",
       "      <th>9441734</th>\n",
       "      <td>robert vangent</td>\n",
       "      <td>none</td>\n",
       "    </tr>\n",
       "    <tr>\n",
       "      <th>9446260</th>\n",
       "      <td>roberta rascazzo</td>\n",
       "      <td>f</td>\n",
       "    </tr>\n",
       "    <tr>\n",
       "      <th>9446807</th>\n",
       "      <td>j. robert m. cornish</td>\n",
       "      <td>none</td>\n",
       "    </tr>\n",
       "    <tr>\n",
       "      <th>9450320</th>\n",
       "      <td>robert pallbo</td>\n",
       "      <td>none</td>\n",
       "    </tr>\n",
       "    <tr>\n",
       "      <th>9450420</th>\n",
       "      <td>r. b. roberts</td>\n",
       "      <td>m</td>\n",
       "    </tr>\n",
       "    <tr>\n",
       "      <th>9453204</th>\n",
       "      <td>dale robertson</td>\n",
       "      <td>none</td>\n",
       "    </tr>\n",
       "    <tr>\n",
       "      <th>9457494</th>\n",
       "      <td>roberto albanese</td>\n",
       "      <td>m</td>\n",
       "    </tr>\n",
       "    <tr>\n",
       "      <th>9458358</th>\n",
       "      <td>robert hoeppe</td>\n",
       "      <td>none</td>\n",
       "    </tr>\n",
       "    <tr>\n",
       "      <th>9461286</th>\n",
       "      <td>robert f. thomas</td>\n",
       "      <td>none</td>\n",
       "    </tr>\n",
       "    <tr>\n",
       "      <th>9463796</th>\n",
       "      <td>robert unterreiner</td>\n",
       "      <td>none</td>\n",
       "    </tr>\n",
       "    <tr>\n",
       "      <th>9464421</th>\n",
       "      <td>robert glatzl</td>\n",
       "      <td>none</td>\n",
       "    </tr>\n",
       "    <tr>\n",
       "      <th>9465974</th>\n",
       "      <td>robert koo</td>\n",
       "      <td>none</td>\n",
       "    </tr>\n",
       "    <tr>\n",
       "      <th>9469148</th>\n",
       "      <td>roberto espenica</td>\n",
       "      <td>m</td>\n",
       "    </tr>\n",
       "  </tbody>\n",
       "</table>\n",
       "<p>11674 rows × 2 columns</p>\n",
       "</div>"
      ],
      "text/plain": [
       "                           name gender\n",
       "365        robert a. van gorder   none\n",
       "367         edward l. robertson   none\n",
       "377            robert d. austin   none\n",
       "505            roberto tamassia      m\n",
       "520            robert warrender   none\n",
       "555          roberto bortoletto      m\n",
       "796                 robert moss   none\n",
       "1285          robert w. proctor   none\n",
       "1581           robert b. gorbet   none\n",
       "1605                robert chen   none\n",
       "1630            roberto navigli      m\n",
       "1645          robert a. greenes   none\n",
       "1749           robert de simone   none\n",
       "1784             robert buckley   none\n",
       "2326               robert hecht   none\n",
       "2377       robert w. fitzgerald   none\n",
       "2413           roberto armenise      m\n",
       "2571         robert baumgartner   none\n",
       "2625            roberto podestá      m\n",
       "2626          martin g. roberts      m\n",
       "2705        william robertson 1      m\n",
       "2851                robert chun   none\n",
       "3144          robert a. reckhow   none\n",
       "3188        roberto de virgilio      m\n",
       "3214        robert glenn howard   none\n",
       "3497              robert biddle   none\n",
       "3602         robert d. galliers   none\n",
       "3864              robert winter   none\n",
       "3927            robert l. glass   none\n",
       "4054     robert huis in 't veld   none\n",
       "...                         ...    ...\n",
       "9413956             robert marx   none\n",
       "9414174         robert shanklin   none\n",
       "9416188        roberto verzicco      m\n",
       "9420475        robert moszynski   none\n",
       "9426832        roberta palmieri      f\n",
       "9427028           roberto beghi      m\n",
       "9428298     robert h. wilkinson   none\n",
       "9428828         robert f. goeke   none\n",
       "9430093      robert john martin   none\n",
       "9430445     robert van straalen   none\n",
       "9431934           robert olesen   none\n",
       "9434381   roberto graciani diaz      m\n",
       "9434937        robert m. hubley   none\n",
       "9435629    robert t. saltarelli   none\n",
       "9440686           roberto sousa      m\n",
       "9441395          robert m. mark   none\n",
       "9441505            robert tappe   none\n",
       "9441734          robert vangent   none\n",
       "9446260        roberta rascazzo      f\n",
       "9446807    j. robert m. cornish   none\n",
       "9450320           robert pallbo   none\n",
       "9450420           r. b. roberts      m\n",
       "9453204          dale robertson   none\n",
       "9457494        roberto albanese      m\n",
       "9458358           robert hoeppe   none\n",
       "9461286        robert f. thomas   none\n",
       "9463796      robert unterreiner   none\n",
       "9464421           robert glatzl   none\n",
       "9465974              robert koo   none\n",
       "9469148        roberto espenica      m\n",
       "\n",
       "[11674 rows x 2 columns]"
      ]
     },
     "execution_count": 55,
     "metadata": {},
     "output_type": "execute_result"
    }
   ],
   "source": [
    "gender_old[gender_old.name.str.contains(\"robert\")]"
   ]
  },
  {
   "cell_type": "code",
   "execution_count": 56,
   "metadata": {},
   "outputs": [
    {
     "data": {
      "text/html": [
       "<div>\n",
       "<style scoped>\n",
       "    .dataframe tbody tr th:only-of-type {\n",
       "        vertical-align: middle;\n",
       "    }\n",
       "\n",
       "    .dataframe tbody tr th {\n",
       "        vertical-align: top;\n",
       "    }\n",
       "\n",
       "    .dataframe thead th {\n",
       "        text-align: right;\n",
       "    }\n",
       "</style>\n",
       "<table border=\"1\" class=\"dataframe\">\n",
       "  <thead>\n",
       "    <tr style=\"text-align: right;\">\n",
       "      <th></th>\n",
       "      <th>name</th>\n",
       "      <th>gender</th>\n",
       "    </tr>\n",
       "  </thead>\n",
       "  <tbody>\n",
       "    <tr>\n",
       "      <th>2545</th>\n",
       "      <td>jorge santos 1</td>\n",
       "      <td>m</td>\n",
       "    </tr>\n",
       "    <tr>\n",
       "      <th>70490</th>\n",
       "      <td>ricardo jorge santos</td>\n",
       "      <td>m</td>\n",
       "    </tr>\n",
       "    <tr>\n",
       "      <th>248275</th>\n",
       "      <td>jorge santos</td>\n",
       "      <td>m</td>\n",
       "    </tr>\n",
       "    <tr>\n",
       "      <th>382652</th>\n",
       "      <td>jorge santos 2</td>\n",
       "      <td>m</td>\n",
       "    </tr>\n",
       "    <tr>\n",
       "      <th>1025928</th>\n",
       "      <td>jorge santos 3</td>\n",
       "      <td>m</td>\n",
       "    </tr>\n",
       "    <tr>\n",
       "      <th>1119603</th>\n",
       "      <td>jorge santos 0002</td>\n",
       "      <td>m</td>\n",
       "    </tr>\n",
       "    <tr>\n",
       "      <th>1337773</th>\n",
       "      <td>camillo jorge santos oliveira</td>\n",
       "      <td>m</td>\n",
       "    </tr>\n",
       "    <tr>\n",
       "      <th>1501066</th>\n",
       "      <td>jorge santos simón</td>\n",
       "      <td>m</td>\n",
       "    </tr>\n",
       "    <tr>\n",
       "      <th>1614512</th>\n",
       "      <td>esdras jorge santos barboza</td>\n",
       "      <td>m</td>\n",
       "    </tr>\n",
       "  </tbody>\n",
       "</table>\n",
       "</div>"
      ],
      "text/plain": [
       "                                  name gender\n",
       "2545                    jorge santos 1      m\n",
       "70490             ricardo jorge santos      m\n",
       "248275                    jorge santos      m\n",
       "382652                  jorge santos 2      m\n",
       "1025928                 jorge santos 3      m\n",
       "1119603              jorge santos 0002      m\n",
       "1337773  camillo jorge santos oliveira      m\n",
       "1501066             jorge santos simón      m\n",
       "1614512    esdras jorge santos barboza      m"
      ]
     },
     "execution_count": 56,
     "metadata": {},
     "output_type": "execute_result"
    }
   ],
   "source": [
    "gender[gender.name.str.contains(\"jorge santos\")]"
   ]
  },
  {
   "cell_type": "code",
   "execution_count": 57,
   "metadata": {},
   "outputs": [],
   "source": [
    "## What is strange is that 'jorge santos 1' goes from none to 'm', but 'jorge santos' goes from 'm' to none"
   ]
  },
  {
   "cell_type": "code",
   "execution_count": 58,
   "metadata": {},
   "outputs": [
    {
     "data": {
      "text/html": [
       "<div>\n",
       "<style scoped>\n",
       "    .dataframe tbody tr th:only-of-type {\n",
       "        vertical-align: middle;\n",
       "    }\n",
       "\n",
       "    .dataframe tbody tr th {\n",
       "        vertical-align: top;\n",
       "    }\n",
       "\n",
       "    .dataframe thead th {\n",
       "        text-align: right;\n",
       "    }\n",
       "</style>\n",
       "<table border=\"1\" class=\"dataframe\">\n",
       "  <thead>\n",
       "    <tr style=\"text-align: right;\">\n",
       "      <th></th>\n",
       "      <th>name</th>\n",
       "    </tr>\n",
       "    <tr>\n",
       "      <th>gender</th>\n",
       "      <th></th>\n",
       "    </tr>\n",
       "  </thead>\n",
       "  <tbody>\n",
       "    <tr>\n",
       "      <th>f</th>\n",
       "      <td>255793</td>\n",
       "    </tr>\n",
       "    <tr>\n",
       "      <th>m</th>\n",
       "      <td>796975</td>\n",
       "    </tr>\n",
       "    <tr>\n",
       "      <th>none</th>\n",
       "      <td>652151</td>\n",
       "    </tr>\n",
       "  </tbody>\n",
       "</table>\n",
       "</div>"
      ],
      "text/plain": [
       "          name\n",
       "gender        \n",
       "f       255793\n",
       "m       796975\n",
       "none    652151"
      ]
     },
     "execution_count": 58,
     "metadata": {},
     "output_type": "execute_result"
    }
   ],
   "source": [
    "gender.groupby('gender').count()"
   ]
  },
  {
   "cell_type": "code",
   "execution_count": 59,
   "metadata": {},
   "outputs": [
    {
     "data": {
      "text/html": [
       "<div>\n",
       "<style scoped>\n",
       "    .dataframe tbody tr th:only-of-type {\n",
       "        vertical-align: middle;\n",
       "    }\n",
       "\n",
       "    .dataframe tbody tr th {\n",
       "        vertical-align: top;\n",
       "    }\n",
       "\n",
       "    .dataframe thead th {\n",
       "        text-align: right;\n",
       "    }\n",
       "</style>\n",
       "<table border=\"1\" class=\"dataframe\">\n",
       "  <thead>\n",
       "    <tr style=\"text-align: right;\">\n",
       "      <th></th>\n",
       "      <th>name</th>\n",
       "    </tr>\n",
       "    <tr>\n",
       "      <th>gender</th>\n",
       "      <th></th>\n",
       "    </tr>\n",
       "  </thead>\n",
       "  <tbody>\n",
       "    <tr>\n",
       "      <th>f</th>\n",
       "      <td>255793</td>\n",
       "    </tr>\n",
       "    <tr>\n",
       "      <th>m</th>\n",
       "      <td>796975</td>\n",
       "    </tr>\n",
       "    <tr>\n",
       "      <th>none</th>\n",
       "      <td>652151</td>\n",
       "    </tr>\n",
       "  </tbody>\n",
       "</table>\n",
       "</div>"
      ],
      "text/plain": [
       "          name\n",
       "gender        \n",
       "f       255793\n",
       "m       796975\n",
       "none    652151"
      ]
     },
     "execution_count": 59,
     "metadata": {},
     "output_type": "execute_result"
    }
   ],
   "source": [
    "gender_old.groupby('gender').count()"
   ]
  },
  {
   "cell_type": "code",
   "execution_count": 60,
   "metadata": {},
   "outputs": [],
   "source": [
    "merged = gender.merge(gender_old, on='name', suffixes=('_new', '_old'))"
   ]
  },
  {
   "cell_type": "code",
   "execution_count": 61,
   "metadata": {},
   "outputs": [
    {
     "data": {
      "text/html": [
       "<div>\n",
       "<style scoped>\n",
       "    .dataframe tbody tr th:only-of-type {\n",
       "        vertical-align: middle;\n",
       "    }\n",
       "\n",
       "    .dataframe tbody tr th {\n",
       "        vertical-align: top;\n",
       "    }\n",
       "\n",
       "    .dataframe thead th {\n",
       "        text-align: right;\n",
       "    }\n",
       "</style>\n",
       "<table border=\"1\" class=\"dataframe\">\n",
       "  <thead>\n",
       "    <tr style=\"text-align: right;\">\n",
       "      <th></th>\n",
       "      <th>name</th>\n",
       "      <th>gender_new</th>\n",
       "      <th>gender_old</th>\n",
       "    </tr>\n",
       "  </thead>\n",
       "  <tbody>\n",
       "    <tr>\n",
       "      <th>0</th>\n",
       "      <td>gareth beale</td>\n",
       "      <td>m</td>\n",
       "      <td>m</td>\n",
       "    </tr>\n",
       "    <tr>\n",
       "      <th>1</th>\n",
       "      <td>graeme earl</td>\n",
       "      <td>m</td>\n",
       "      <td>m</td>\n",
       "    </tr>\n",
       "    <tr>\n",
       "      <th>2</th>\n",
       "      <td>altaf hossain</td>\n",
       "      <td>m</td>\n",
       "      <td>m</td>\n",
       "    </tr>\n",
       "    <tr>\n",
       "      <th>3</th>\n",
       "      <td>faisal zaman</td>\n",
       "      <td>m</td>\n",
       "      <td>m</td>\n",
       "    </tr>\n",
       "    <tr>\n",
       "      <th>4</th>\n",
       "      <td>m. nasser</td>\n",
       "      <td>none</td>\n",
       "      <td>none</td>\n",
       "    </tr>\n",
       "  </tbody>\n",
       "</table>\n",
       "</div>"
      ],
      "text/plain": [
       "            name gender_new gender_old\n",
       "0   gareth beale          m          m\n",
       "1    graeme earl          m          m\n",
       "2  altaf hossain          m          m\n",
       "3   faisal zaman          m          m\n",
       "4      m. nasser       none       none"
      ]
     },
     "execution_count": 61,
     "metadata": {},
     "output_type": "execute_result"
    }
   ],
   "source": [
    "merged.head()"
   ]
  },
  {
   "cell_type": "code",
   "execution_count": 62,
   "metadata": {},
   "outputs": [
    {
     "name": "stdout",
     "output_type": "stream",
     "text": [
      "Empty DataFrame\n",
      "Columns: [name, gender_new, gender_old]\n",
      "Index: []\n",
      "(0, 3)\n"
     ]
    }
   ],
   "source": [
    "# Cases where we lose the gender by using new file ./data/name_gender_2017_asiansAsNone_nodup.txt\n",
    "print(merged[(merged.gender_new != merged.gender_old) & (merged.gender_new!='none')])\n",
    "print(merged[(merged.gender_new != merged.gender_old) & (merged.gender_new!='none')].shape)"
   ]
  },
  {
   "cell_type": "code",
   "execution_count": 63,
   "metadata": {},
   "outputs": [
    {
     "data": {
      "text/html": [
       "<div>\n",
       "<style scoped>\n",
       "    .dataframe tbody tr th:only-of-type {\n",
       "        vertical-align: middle;\n",
       "    }\n",
       "\n",
       "    .dataframe tbody tr th {\n",
       "        vertical-align: top;\n",
       "    }\n",
       "\n",
       "    .dataframe thead th {\n",
       "        text-align: right;\n",
       "    }\n",
       "</style>\n",
       "<table border=\"1\" class=\"dataframe\">\n",
       "  <thead>\n",
       "    <tr style=\"text-align: right;\">\n",
       "      <th></th>\n",
       "      <th>name</th>\n",
       "      <th>gender</th>\n",
       "    </tr>\n",
       "  </thead>\n",
       "  <tbody>\n",
       "    <tr>\n",
       "      <th>151887</th>\n",
       "      <td>michael r. smith 2</td>\n",
       "      <td>m</td>\n",
       "    </tr>\n",
       "    <tr>\n",
       "      <th>167781</th>\n",
       "      <td>michael r. smith 1</td>\n",
       "      <td>m</td>\n",
       "    </tr>\n",
       "    <tr>\n",
       "      <th>1344286</th>\n",
       "      <td>michael r. smith 0001</td>\n",
       "      <td>m</td>\n",
       "    </tr>\n",
       "    <tr>\n",
       "      <th>1627074</th>\n",
       "      <td>michael r. smith</td>\n",
       "      <td>m</td>\n",
       "    </tr>\n",
       "  </tbody>\n",
       "</table>\n",
       "</div>"
      ],
      "text/plain": [
       "                          name gender\n",
       "151887      michael r. smith 2      m\n",
       "167781      michael r. smith 1      m\n",
       "1344286  michael r. smith 0001      m\n",
       "1627074       michael r. smith      m"
      ]
     },
     "execution_count": 63,
     "metadata": {},
     "output_type": "execute_result"
    }
   ],
   "source": [
    "gender[gender.name.str.contains('michael r. smith')]"
   ]
  },
  {
   "cell_type": "markdown",
   "metadata": {},
   "source": [
    "#### Analyze people that have digits in their names"
   ]
  },
  {
   "cell_type": "code",
   "execution_count": 64,
   "metadata": {},
   "outputs": [],
   "source": [
    "digits = gender[gender.name.str.contains('\\d')]"
   ]
  },
  {
   "cell_type": "code",
   "execution_count": 65,
   "metadata": {},
   "outputs": [
    {
     "data": {
      "text/plain": [
       "<matplotlib.axes._subplots.AxesSubplot at 0x7f78b83056d8>"
      ]
     },
     "execution_count": 65,
     "metadata": {},
     "output_type": "execute_result"
    },
    {
     "data": {
      "image/png": "[encoded data removed]",
      "text/plain": [
       "<matplotlib.figure.Figure at 0x7f78b8383550>"
      ]
     },
     "metadata": {},
     "output_type": "display_data"
    }
   ],
   "source": [
    "digits.gender.value_counts().plot(kind='bar')"
   ]
  },
  {
   "cell_type": "code",
   "execution_count": 66,
   "metadata": {},
   "outputs": [],
   "source": [
    "authors_digits = credible_authors.reset_index().merge(digits, left_on='author', right_on='name')"
   ]
  },
  {
   "cell_type": "code",
   "execution_count": 67,
   "metadata": {},
   "outputs": [],
   "source": [
    "digiAuthorPublicationData = authorPublicationData.merge(authors_digits, how=\"inner\", on=[\"author\"])"
   ]
  },
  {
   "cell_type": "code",
   "execution_count": 68,
   "metadata": {},
   "outputs": [
    {
     "data": {
      "text/plain": [
       "(5880, 12)"
      ]
     },
     "execution_count": 68,
     "metadata": {},
     "output_type": "execute_result"
    }
   ],
   "source": [
    "authors_digits.shape"
   ]
  },
  {
   "cell_type": "code",
   "execution_count": 69,
   "metadata": {},
   "outputs": [
    {
     "name": "stdout",
     "output_type": "stream",
     "text": [
      "Percentage of authors with numbers in names:  1.1669931468922854\n",
      "Percentage of publications:  2.0680998909247443\n",
      "Percentage of citations:  2.5078878280468806\n"
     ]
    }
   ],
   "source": [
    "print(\"Percentage of authors with numbers in names: \", authors_digits.shape[0]*100/credible_authors.shape[0])\n",
    "print(\"Percentage of publications: \", authors_digits.num_pub.sum()*100/credible_authors.num_pub.sum())\n",
    "print(\"Percentage of citations: \", authors_digits.final_citation_count.sum()*100/credible_authors.final_citation_count.sum())"
   ]
  },
  {
   "cell_type": "code",
   "execution_count": 72,
   "metadata": {},
   "outputs": [
    {
     "data": {
      "text/plain": [
       "<matplotlib.axes._subplots.AxesSubplot at 0x7f78b91be320>"
      ]
     },
     "execution_count": 72,
     "metadata": {},
     "output_type": "execute_result"
    },
    {
     "data": {
      "image/png": "[encoded data removed]",
      "text/plain": [
       "<matplotlib.figure.Figure at 0x7f78b91b1ac8>"
      ]
     },
     "metadata": {},
     "output_type": "display_data"
    }
   ],
   "source": [
    "authors_digits.early_career_prod.value_counts().reset_index().plot(kind='scatter', x='index', y='early_career_prod')"
   ]
  },
  {
   "cell_type": "code",
   "execution_count": 73,
   "metadata": {},
   "outputs": [
    {
     "data": {
      "text/plain": [
       "<matplotlib.axes._subplots.AxesSubplot at 0x7f78b91b1128>"
      ]
     },
     "execution_count": 73,
     "metadata": {},
     "output_type": "execute_result"
    },
    {
     "data": {
      "image/png": "[encoded data removed]",
      "text/plain": [
       "<matplotlib.figure.Figure at 0x7f78b929e550>"
      ]
     },
     "metadata": {},
     "output_type": "display_data"
    }
   ],
   "source": [
    "authors_digits.start_year.value_counts().sort_index().plot(kind='bar')"
   ]
  },
  {
   "cell_type": "code",
   "execution_count": 74,
   "metadata": {},
   "outputs": [
    {
     "data": {
      "text/plain": [
       "<matplotlib.axes._subplots.AxesSubplot at 0x7f78b929ea90>"
      ]
     },
     "execution_count": 74,
     "metadata": {},
     "output_type": "execute_result"
    },
    {
     "data": {
      "image/png": "[encoded data removed]",
      "text/plain": [
       "<matplotlib.figure.Figure at 0x7f78d9045320>"
      ]
     },
     "metadata": {},
     "output_type": "display_data"
    }
   ],
   "source": [
    "authors_digits.num_pub.value_counts().reset_index().plot(kind='scatter', x='index', y='num_pub')"
   ]
  },
  {
   "cell_type": "code",
   "execution_count": 75,
   "metadata": {},
   "outputs": [],
   "source": [
    "authors_digits['pub_per_year'] = authors_digits.num_pub / authors_digits.career_length"
   ]
  },
  {
   "cell_type": "code",
   "execution_count": 76,
   "metadata": {},
   "outputs": [
    {
     "data": {
      "image/png": "[encoded data removed]",
      "text/plain": [
       "<matplotlib.figure.Figure at 0x7f78d91ec9e8>"
      ]
     },
     "metadata": {},
     "output_type": "display_data"
    }
   ],
   "source": [
    "plt.plot(sorted(authors_digits['pub_per_year']))\n",
    "plt.show()"
   ]
  },
  {
   "cell_type": "code",
   "execution_count": 77,
   "metadata": {},
   "outputs": [
    {
     "data": {
      "text/html": [
       "<div>\n",
       "<style scoped>\n",
       "    .dataframe tbody tr th:only-of-type {\n",
       "        vertical-align: middle;\n",
       "    }\n",
       "\n",
       "    .dataframe tbody tr th {\n",
       "        vertical-align: top;\n",
       "    }\n",
       "\n",
       "    .dataframe thead th {\n",
       "        text-align: right;\n",
       "    }\n",
       "</style>\n",
       "<table border=\"1\" class=\"dataframe\">\n",
       "  <thead>\n",
       "    <tr style=\"text-align: right;\">\n",
       "      <th></th>\n",
       "      <th>author</th>\n",
       "      <th>start_year</th>\n",
       "      <th>end_year</th>\n",
       "      <th>num_pub</th>\n",
       "      <th>career_length</th>\n",
       "      <th>early_career_prod</th>\n",
       "      <th>early_career_qual</th>\n",
       "      <th>early_career_rec</th>\n",
       "      <th>final_citation_count</th>\n",
       "      <th>gender_x</th>\n",
       "      <th>name</th>\n",
       "      <th>gender_y</th>\n",
       "      <th>pub_per_year</th>\n",
       "    </tr>\n",
       "  </thead>\n",
       "  <tbody>\n",
       "    <tr>\n",
       "      <th>58</th>\n",
       "      <td>albrecht schmidt 1</td>\n",
       "      <td>1998</td>\n",
       "      <td>2017</td>\n",
       "      <td>339</td>\n",
       "      <td>20</td>\n",
       "      <td>16</td>\n",
       "      <td>127.0</td>\n",
       "      <td>35</td>\n",
       "      <td>5287.0</td>\n",
       "      <td>m</td>\n",
       "      <td>albrecht schmidt 1</td>\n",
       "      <td>m</td>\n",
       "      <td>16.950000</td>\n",
       "    </tr>\n",
       "    <tr>\n",
       "      <th>225</th>\n",
       "      <td>anil k. jain 1</td>\n",
       "      <td>1976</td>\n",
       "      <td>2017</td>\n",
       "      <td>425</td>\n",
       "      <td>42</td>\n",
       "      <td>3</td>\n",
       "      <td>13.0</td>\n",
       "      <td>1</td>\n",
       "      <td>26756.0</td>\n",
       "      <td>m</td>\n",
       "      <td>anil k. jain 1</td>\n",
       "      <td>m</td>\n",
       "      <td>10.119048</td>\n",
       "    </tr>\n",
       "    <tr>\n",
       "      <th>335</th>\n",
       "      <td>bernd becker 1</td>\n",
       "      <td>1983</td>\n",
       "      <td>2017</td>\n",
       "      <td>352</td>\n",
       "      <td>35</td>\n",
       "      <td>2</td>\n",
       "      <td>0.0</td>\n",
       "      <td>0</td>\n",
       "      <td>2602.0</td>\n",
       "      <td>m</td>\n",
       "      <td>bernd becker 1</td>\n",
       "      <td>m</td>\n",
       "      <td>10.057143</td>\n",
       "    </tr>\n",
       "    <tr>\n",
       "      <th>361</th>\n",
       "      <td>bin liu 1</td>\n",
       "      <td>2003</td>\n",
       "      <td>2017</td>\n",
       "      <td>155</td>\n",
       "      <td>15</td>\n",
       "      <td>23</td>\n",
       "      <td>44.0</td>\n",
       "      <td>9</td>\n",
       "      <td>1240.0</td>\n",
       "      <td>none</td>\n",
       "      <td>bin liu 1</td>\n",
       "      <td>none</td>\n",
       "      <td>10.333333</td>\n",
       "    </tr>\n",
       "    <tr>\n",
       "      <th>572</th>\n",
       "      <td>chao wang 3</td>\n",
       "      <td>2011</td>\n",
       "      <td>2017</td>\n",
       "      <td>76</td>\n",
       "      <td>7</td>\n",
       "      <td>38</td>\n",
       "      <td>101.0</td>\n",
       "      <td>57</td>\n",
       "      <td>179.0</td>\n",
       "      <td>none</td>\n",
       "      <td>chao wang 3</td>\n",
       "      <td>none</td>\n",
       "      <td>10.857143</td>\n",
       "    </tr>\n",
       "    <tr>\n",
       "      <th>623</th>\n",
       "      <td>cheng wang 3</td>\n",
       "      <td>2013</td>\n",
       "      <td>2017</td>\n",
       "      <td>58</td>\n",
       "      <td>5</td>\n",
       "      <td>34</td>\n",
       "      <td>105.0</td>\n",
       "      <td>35</td>\n",
       "      <td>123.0</td>\n",
       "      <td>none</td>\n",
       "      <td>cheng wang 3</td>\n",
       "      <td>none</td>\n",
       "      <td>11.600000</td>\n",
       "    </tr>\n",
       "    <tr>\n",
       "      <th>946</th>\n",
       "      <td>david zhang 1</td>\n",
       "      <td>1994</td>\n",
       "      <td>2017</td>\n",
       "      <td>481</td>\n",
       "      <td>24</td>\n",
       "      <td>6</td>\n",
       "      <td>0.0</td>\n",
       "      <td>0</td>\n",
       "      <td>11643.0</td>\n",
       "      <td>none</td>\n",
       "      <td>david zhang 1</td>\n",
       "      <td>none</td>\n",
       "      <td>20.041667</td>\n",
       "    </tr>\n",
       "    <tr>\n",
       "      <th>1115</th>\n",
       "      <td>fei wang 1</td>\n",
       "      <td>2004</td>\n",
       "      <td>2017</td>\n",
       "      <td>159</td>\n",
       "      <td>14</td>\n",
       "      <td>11</td>\n",
       "      <td>55.0</td>\n",
       "      <td>14</td>\n",
       "      <td>2508.0</td>\n",
       "      <td>none</td>\n",
       "      <td>fei wang 1</td>\n",
       "      <td>none</td>\n",
       "      <td>11.357143</td>\n",
       "    </tr>\n",
       "    <tr>\n",
       "      <th>1479</th>\n",
       "      <td>haris aziz 1</td>\n",
       "      <td>2008</td>\n",
       "      <td>2017</td>\n",
       "      <td>104</td>\n",
       "      <td>10</td>\n",
       "      <td>11</td>\n",
       "      <td>206.0</td>\n",
       "      <td>75</td>\n",
       "      <td>963.0</td>\n",
       "      <td>m</td>\n",
       "      <td>haris aziz 1</td>\n",
       "      <td>m</td>\n",
       "      <td>10.400000</td>\n",
       "    </tr>\n",
       "    <tr>\n",
       "      <th>1593</th>\n",
       "      <td>hui li 6</td>\n",
       "      <td>2007</td>\n",
       "      <td>2017</td>\n",
       "      <td>179</td>\n",
       "      <td>11</td>\n",
       "      <td>9</td>\n",
       "      <td>4.0</td>\n",
       "      <td>0</td>\n",
       "      <td>1038.0</td>\n",
       "      <td>none</td>\n",
       "      <td>hui li 6</td>\n",
       "      <td>none</td>\n",
       "      <td>16.272727</td>\n",
       "    </tr>\n",
       "    <tr>\n",
       "      <th>1712</th>\n",
       "      <td>jan peters 1</td>\n",
       "      <td>2002</td>\n",
       "      <td>2017</td>\n",
       "      <td>219</td>\n",
       "      <td>16</td>\n",
       "      <td>1</td>\n",
       "      <td>1.0</td>\n",
       "      <td>1</td>\n",
       "      <td>2918.0</td>\n",
       "      <td>m</td>\n",
       "      <td>jan peters 1</td>\n",
       "      <td>m</td>\n",
       "      <td>13.687500</td>\n",
       "    </tr>\n",
       "    <tr>\n",
       "      <th>1801</th>\n",
       "      <td>jian yang 3</td>\n",
       "      <td>2002</td>\n",
       "      <td>2017</td>\n",
       "      <td>206</td>\n",
       "      <td>16</td>\n",
       "      <td>10</td>\n",
       "      <td>158.0</td>\n",
       "      <td>23</td>\n",
       "      <td>3737.0</td>\n",
       "      <td>none</td>\n",
       "      <td>jian yang 3</td>\n",
       "      <td>none</td>\n",
       "      <td>12.875000</td>\n",
       "    </tr>\n",
       "    <tr>\n",
       "      <th>1840</th>\n",
       "      <td>jianmin wang 1</td>\n",
       "      <td>2000</td>\n",
       "      <td>2017</td>\n",
       "      <td>203</td>\n",
       "      <td>18</td>\n",
       "      <td>2</td>\n",
       "      <td>1.0</td>\n",
       "      <td>0</td>\n",
       "      <td>1615.0</td>\n",
       "      <td>none</td>\n",
       "      <td>jianmin wang 1</td>\n",
       "      <td>none</td>\n",
       "      <td>11.277778</td>\n",
       "    </tr>\n",
       "    <tr>\n",
       "      <th>1851</th>\n",
       "      <td>jianwei zhang 1</td>\n",
       "      <td>1994</td>\n",
       "      <td>2016</td>\n",
       "      <td>246</td>\n",
       "      <td>23</td>\n",
       "      <td>3</td>\n",
       "      <td>4.0</td>\n",
       "      <td>1</td>\n",
       "      <td>744.0</td>\n",
       "      <td>none</td>\n",
       "      <td>jianwei zhang 1</td>\n",
       "      <td>none</td>\n",
       "      <td>10.695652</td>\n",
       "    </tr>\n",
       "    <tr>\n",
       "      <th>1861</th>\n",
       "      <td>jiawei han 1</td>\n",
       "      <td>1986</td>\n",
       "      <td>2017</td>\n",
       "      <td>729</td>\n",
       "      <td>32</td>\n",
       "      <td>7</td>\n",
       "      <td>43.0</td>\n",
       "      <td>14</td>\n",
       "      <td>32501.0</td>\n",
       "      <td>none</td>\n",
       "      <td>jiawei han 1</td>\n",
       "      <td>none</td>\n",
       "      <td>22.781250</td>\n",
       "    </tr>\n",
       "    <tr>\n",
       "      <th>1918</th>\n",
       "      <td>jie wu 1</td>\n",
       "      <td>1989</td>\n",
       "      <td>2017</td>\n",
       "      <td>649</td>\n",
       "      <td>29</td>\n",
       "      <td>2</td>\n",
       "      <td>1.0</td>\n",
       "      <td>0</td>\n",
       "      <td>9289.0</td>\n",
       "      <td>none</td>\n",
       "      <td>jie wu 1</td>\n",
       "      <td>none</td>\n",
       "      <td>22.379310</td>\n",
       "    </tr>\n",
       "    <tr>\n",
       "      <th>1932</th>\n",
       "      <td>jie yang 2</td>\n",
       "      <td>1996</td>\n",
       "      <td>2017</td>\n",
       "      <td>273</td>\n",
       "      <td>22</td>\n",
       "      <td>1</td>\n",
       "      <td>0.0</td>\n",
       "      <td>0</td>\n",
       "      <td>1307.0</td>\n",
       "      <td>none</td>\n",
       "      <td>jie yang 2</td>\n",
       "      <td>none</td>\n",
       "      <td>12.409091</td>\n",
       "    </tr>\n",
       "    <tr>\n",
       "      <th>2308</th>\n",
       "      <td>jun zhang 3</td>\n",
       "      <td>2001</td>\n",
       "      <td>2017</td>\n",
       "      <td>174</td>\n",
       "      <td>17</td>\n",
       "      <td>2</td>\n",
       "      <td>2.0</td>\n",
       "      <td>0</td>\n",
       "      <td>1563.0</td>\n",
       "      <td>none</td>\n",
       "      <td>jun zhang 3</td>\n",
       "      <td>none</td>\n",
       "      <td>10.235294</td>\n",
       "    </tr>\n",
       "    <tr>\n",
       "      <th>2414</th>\n",
       "      <td>kaushik roy 1</td>\n",
       "      <td>1988</td>\n",
       "      <td>2017</td>\n",
       "      <td>563</td>\n",
       "      <td>30</td>\n",
       "      <td>5</td>\n",
       "      <td>46.0</td>\n",
       "      <td>14</td>\n",
       "      <td>7605.0</td>\n",
       "      <td>m</td>\n",
       "      <td>kaushik roy 1</td>\n",
       "      <td>m</td>\n",
       "      <td>18.766667</td>\n",
       "    </tr>\n",
       "    <tr>\n",
       "      <th>2473</th>\n",
       "      <td>kui ren 1</td>\n",
       "      <td>2004</td>\n",
       "      <td>2017</td>\n",
       "      <td>181</td>\n",
       "      <td>14</td>\n",
       "      <td>5</td>\n",
       "      <td>34.0</td>\n",
       "      <td>6</td>\n",
       "      <td>4572.0</td>\n",
       "      <td>none</td>\n",
       "      <td>kui ren 1</td>\n",
       "      <td>none</td>\n",
       "      <td>12.928571</td>\n",
       "    </tr>\n",
       "    <tr>\n",
       "      <th>2504</th>\n",
       "      <td>lei chen 2</td>\n",
       "      <td>2002</td>\n",
       "      <td>2017</td>\n",
       "      <td>307</td>\n",
       "      <td>16</td>\n",
       "      <td>9</td>\n",
       "      <td>42.0</td>\n",
       "      <td>11</td>\n",
       "      <td>4381.0</td>\n",
       "      <td>none</td>\n",
       "      <td>lei chen 2</td>\n",
       "      <td>none</td>\n",
       "      <td>19.187500</td>\n",
       "    </tr>\n",
       "    <tr>\n",
       "      <th>2514</th>\n",
       "      <td>lei guo 2</td>\n",
       "      <td>2001</td>\n",
       "      <td>2017</td>\n",
       "      <td>172</td>\n",
       "      <td>17</td>\n",
       "      <td>7</td>\n",
       "      <td>6.0</td>\n",
       "      <td>1</td>\n",
       "      <td>981.0</td>\n",
       "      <td>none</td>\n",
       "      <td>lei guo 2</td>\n",
       "      <td>none</td>\n",
       "      <td>10.117647</td>\n",
       "    </tr>\n",
       "    <tr>\n",
       "      <th>2533</th>\n",
       "      <td>lei shu 1</td>\n",
       "      <td>2007</td>\n",
       "      <td>2017</td>\n",
       "      <td>187</td>\n",
       "      <td>11</td>\n",
       "      <td>18</td>\n",
       "      <td>187.0</td>\n",
       "      <td>43</td>\n",
       "      <td>1427.0</td>\n",
       "      <td>none</td>\n",
       "      <td>lei shu 1</td>\n",
       "      <td>none</td>\n",
       "      <td>17.000000</td>\n",
       "    </tr>\n",
       "    <tr>\n",
       "      <th>2591</th>\n",
       "      <td>lei zhang 1</td>\n",
       "      <td>2001</td>\n",
       "      <td>2016</td>\n",
       "      <td>169</td>\n",
       "      <td>16</td>\n",
       "      <td>11</td>\n",
       "      <td>58.0</td>\n",
       "      <td>13</td>\n",
       "      <td>3653.0</td>\n",
       "      <td>none</td>\n",
       "      <td>lei zhang 1</td>\n",
       "      <td>none</td>\n",
       "      <td>10.562500</td>\n",
       "    </tr>\n",
       "    <tr>\n",
       "      <th>2616</th>\n",
       "      <td>lei zhang 6</td>\n",
       "      <td>2002</td>\n",
       "      <td>2017</td>\n",
       "      <td>266</td>\n",
       "      <td>16</td>\n",
       "      <td>11</td>\n",
       "      <td>38.0</td>\n",
       "      <td>3</td>\n",
       "      <td>9435.0</td>\n",
       "      <td>none</td>\n",
       "      <td>lei zhang 6</td>\n",
       "      <td>none</td>\n",
       "      <td>16.625000</td>\n",
       "    </tr>\n",
       "    <tr>\n",
       "      <th>2632</th>\n",
       "      <td>li guo 1</td>\n",
       "      <td>2005</td>\n",
       "      <td>2016</td>\n",
       "      <td>151</td>\n",
       "      <td>12</td>\n",
       "      <td>14</td>\n",
       "      <td>28.0</td>\n",
       "      <td>9</td>\n",
       "      <td>1090.0</td>\n",
       "      <td>none</td>\n",
       "      <td>li guo 1</td>\n",
       "      <td>none</td>\n",
       "      <td>12.583333</td>\n",
       "    </tr>\n",
       "    <tr>\n",
       "      <th>2752</th>\n",
       "      <td>lin cai 1</td>\n",
       "      <td>2003</td>\n",
       "      <td>2017</td>\n",
       "      <td>198</td>\n",
       "      <td>15</td>\n",
       "      <td>9</td>\n",
       "      <td>49.0</td>\n",
       "      <td>5</td>\n",
       "      <td>1785.0</td>\n",
       "      <td>none</td>\n",
       "      <td>lin cai 1</td>\n",
       "      <td>none</td>\n",
       "      <td>13.200000</td>\n",
       "    </tr>\n",
       "    <tr>\n",
       "      <th>2805</th>\n",
       "      <td>ling liu 1</td>\n",
       "      <td>1995</td>\n",
       "      <td>2017</td>\n",
       "      <td>267</td>\n",
       "      <td>23</td>\n",
       "      <td>10</td>\n",
       "      <td>37.0</td>\n",
       "      <td>16</td>\n",
       "      <td>5251.0</td>\n",
       "      <td>none</td>\n",
       "      <td>ling liu 1</td>\n",
       "      <td>none</td>\n",
       "      <td>11.608696</td>\n",
       "    </tr>\n",
       "    <tr>\n",
       "      <th>2819</th>\n",
       "      <td>liuqing yang 1</td>\n",
       "      <td>2002</td>\n",
       "      <td>2017</td>\n",
       "      <td>184</td>\n",
       "      <td>16</td>\n",
       "      <td>10</td>\n",
       "      <td>119.0</td>\n",
       "      <td>24</td>\n",
       "      <td>1540.0</td>\n",
       "      <td>none</td>\n",
       "      <td>liuqing yang 1</td>\n",
       "      <td>none</td>\n",
       "      <td>11.500000</td>\n",
       "    </tr>\n",
       "    <tr>\n",
       "      <th>2835</th>\n",
       "      <td>long wang 1</td>\n",
       "      <td>2000</td>\n",
       "      <td>2017</td>\n",
       "      <td>209</td>\n",
       "      <td>18</td>\n",
       "      <td>1</td>\n",
       "      <td>0.0</td>\n",
       "      <td>0</td>\n",
       "      <td>1892.0</td>\n",
       "      <td>none</td>\n",
       "      <td>long wang 1</td>\n",
       "      <td>none</td>\n",
       "      <td>11.611111</td>\n",
       "    </tr>\n",
       "    <tr>\n",
       "      <th>...</th>\n",
       "      <td>...</td>\n",
       "      <td>...</td>\n",
       "      <td>...</td>\n",
       "      <td>...</td>\n",
       "      <td>...</td>\n",
       "      <td>...</td>\n",
       "      <td>...</td>\n",
       "      <td>...</td>\n",
       "      <td>...</td>\n",
       "      <td>...</td>\n",
       "      <td>...</td>\n",
       "      <td>...</td>\n",
       "      <td>...</td>\n",
       "    </tr>\n",
       "    <tr>\n",
       "      <th>3740</th>\n",
       "      <td>ping zhang 3</td>\n",
       "      <td>2002</td>\n",
       "      <td>2016</td>\n",
       "      <td>248</td>\n",
       "      <td>15</td>\n",
       "      <td>12</td>\n",
       "      <td>12.0</td>\n",
       "      <td>0</td>\n",
       "      <td>826.0</td>\n",
       "      <td>none</td>\n",
       "      <td>ping zhang 3</td>\n",
       "      <td>none</td>\n",
       "      <td>16.533333</td>\n",
       "    </tr>\n",
       "    <tr>\n",
       "      <th>3770</th>\n",
       "      <td>qian zhang 1</td>\n",
       "      <td>2000</td>\n",
       "      <td>2017</td>\n",
       "      <td>287</td>\n",
       "      <td>18</td>\n",
       "      <td>27</td>\n",
       "      <td>140.0</td>\n",
       "      <td>40</td>\n",
       "      <td>4713.0</td>\n",
       "      <td>none</td>\n",
       "      <td>qian zhang 1</td>\n",
       "      <td>none</td>\n",
       "      <td>15.944444</td>\n",
       "    </tr>\n",
       "    <tr>\n",
       "      <th>3790</th>\n",
       "      <td>qiang yang 1</td>\n",
       "      <td>1989</td>\n",
       "      <td>2017</td>\n",
       "      <td>389</td>\n",
       "      <td>29</td>\n",
       "      <td>6</td>\n",
       "      <td>15.0</td>\n",
       "      <td>5</td>\n",
       "      <td>12666.0</td>\n",
       "      <td>none</td>\n",
       "      <td>qiang yang 1</td>\n",
       "      <td>none</td>\n",
       "      <td>13.413793</td>\n",
       "    </tr>\n",
       "    <tr>\n",
       "      <th>4002</th>\n",
       "      <td>rui zhang 6</td>\n",
       "      <td>2000</td>\n",
       "      <td>2017</td>\n",
       "      <td>247</td>\n",
       "      <td>18</td>\n",
       "      <td>2</td>\n",
       "      <td>4.0</td>\n",
       "      <td>1</td>\n",
       "      <td>8539.0</td>\n",
       "      <td>none</td>\n",
       "      <td>rui zhang 6</td>\n",
       "      <td>none</td>\n",
       "      <td>13.722222</td>\n",
       "    </tr>\n",
       "    <tr>\n",
       "      <th>4059</th>\n",
       "      <td>satoshi nakamura 1</td>\n",
       "      <td>1990</td>\n",
       "      <td>2017</td>\n",
       "      <td>427</td>\n",
       "      <td>28</td>\n",
       "      <td>2</td>\n",
       "      <td>0.0</td>\n",
       "      <td>0</td>\n",
       "      <td>1605.0</td>\n",
       "      <td>m</td>\n",
       "      <td>satoshi nakamura 1</td>\n",
       "      <td>m</td>\n",
       "      <td>15.250000</td>\n",
       "    </tr>\n",
       "    <tr>\n",
       "      <th>4116</th>\n",
       "      <td>sheng chen 1</td>\n",
       "      <td>1993</td>\n",
       "      <td>2017</td>\n",
       "      <td>292</td>\n",
       "      <td>25</td>\n",
       "      <td>6</td>\n",
       "      <td>26.0</td>\n",
       "      <td>12</td>\n",
       "      <td>3153.0</td>\n",
       "      <td>none</td>\n",
       "      <td>sheng chen 1</td>\n",
       "      <td>none</td>\n",
       "      <td>11.680000</td>\n",
       "    </tr>\n",
       "    <tr>\n",
       "      <th>4347</th>\n",
       "      <td>tao jiang 2</td>\n",
       "      <td>2003</td>\n",
       "      <td>2017</td>\n",
       "      <td>172</td>\n",
       "      <td>15</td>\n",
       "      <td>3</td>\n",
       "      <td>19.0</td>\n",
       "      <td>4</td>\n",
       "      <td>1183.0</td>\n",
       "      <td>none</td>\n",
       "      <td>tao jiang 2</td>\n",
       "      <td>none</td>\n",
       "      <td>11.466667</td>\n",
       "    </tr>\n",
       "    <tr>\n",
       "      <th>4351</th>\n",
       "      <td>tao li 1</td>\n",
       "      <td>1999</td>\n",
       "      <td>2017</td>\n",
       "      <td>249</td>\n",
       "      <td>19</td>\n",
       "      <td>1</td>\n",
       "      <td>78.0</td>\n",
       "      <td>25</td>\n",
       "      <td>6399.0</td>\n",
       "      <td>none</td>\n",
       "      <td>tao li 1</td>\n",
       "      <td>none</td>\n",
       "      <td>13.105263</td>\n",
       "    </tr>\n",
       "    <tr>\n",
       "      <th>4465</th>\n",
       "      <td>thomas seidl 1</td>\n",
       "      <td>1993</td>\n",
       "      <td>2017</td>\n",
       "      <td>254</td>\n",
       "      <td>25</td>\n",
       "      <td>5</td>\n",
       "      <td>13.0</td>\n",
       "      <td>8</td>\n",
       "      <td>2977.0</td>\n",
       "      <td>none</td>\n",
       "      <td>thomas seidl 1</td>\n",
       "      <td>none</td>\n",
       "      <td>10.160000</td>\n",
       "    </tr>\n",
       "    <tr>\n",
       "      <th>4565</th>\n",
       "      <td>vijay kumar 1</td>\n",
       "      <td>1989</td>\n",
       "      <td>2017</td>\n",
       "      <td>355</td>\n",
       "      <td>29</td>\n",
       "      <td>1</td>\n",
       "      <td>2.0</td>\n",
       "      <td>1</td>\n",
       "      <td>6241.0</td>\n",
       "      <td>m</td>\n",
       "      <td>vijay kumar 1</td>\n",
       "      <td>m</td>\n",
       "      <td>12.241379</td>\n",
       "    </tr>\n",
       "    <tr>\n",
       "      <th>4607</th>\n",
       "      <td>wei chen 2</td>\n",
       "      <td>2005</td>\n",
       "      <td>2017</td>\n",
       "      <td>131</td>\n",
       "      <td>13</td>\n",
       "      <td>6</td>\n",
       "      <td>17.0</td>\n",
       "      <td>4</td>\n",
       "      <td>814.0</td>\n",
       "      <td>none</td>\n",
       "      <td>wei chen 2</td>\n",
       "      <td>none</td>\n",
       "      <td>10.076923</td>\n",
       "    </tr>\n",
       "    <tr>\n",
       "      <th>4816</th>\n",
       "      <td>wei zhang 1</td>\n",
       "      <td>2004</td>\n",
       "      <td>2017</td>\n",
       "      <td>157</td>\n",
       "      <td>14</td>\n",
       "      <td>14</td>\n",
       "      <td>185.0</td>\n",
       "      <td>28</td>\n",
       "      <td>3348.0</td>\n",
       "      <td>none</td>\n",
       "      <td>wei zhang 1</td>\n",
       "      <td>none</td>\n",
       "      <td>11.214286</td>\n",
       "    </tr>\n",
       "    <tr>\n",
       "      <th>4891</th>\n",
       "      <td>wen chen 1</td>\n",
       "      <td>2005</td>\n",
       "      <td>2017</td>\n",
       "      <td>139</td>\n",
       "      <td>13</td>\n",
       "      <td>10</td>\n",
       "      <td>2.0</td>\n",
       "      <td>1</td>\n",
       "      <td>686.0</td>\n",
       "      <td>none</td>\n",
       "      <td>wen chen 1</td>\n",
       "      <td>none</td>\n",
       "      <td>10.692308</td>\n",
       "    </tr>\n",
       "    <tr>\n",
       "      <th>4899</th>\n",
       "      <td>wen gao 1</td>\n",
       "      <td>1995</td>\n",
       "      <td>2017</td>\n",
       "      <td>981</td>\n",
       "      <td>23</td>\n",
       "      <td>9</td>\n",
       "      <td>2.0</td>\n",
       "      <td>0</td>\n",
       "      <td>9525.0</td>\n",
       "      <td>none</td>\n",
       "      <td>wen gao 1</td>\n",
       "      <td>none</td>\n",
       "      <td>42.652174</td>\n",
       "    </tr>\n",
       "    <tr>\n",
       "      <th>4917</th>\n",
       "      <td>wenbo wang 7</td>\n",
       "      <td>2001</td>\n",
       "      <td>2017</td>\n",
       "      <td>385</td>\n",
       "      <td>17</td>\n",
       "      <td>6</td>\n",
       "      <td>2.0</td>\n",
       "      <td>0</td>\n",
       "      <td>2752.0</td>\n",
       "      <td>none</td>\n",
       "      <td>wenbo wang 7</td>\n",
       "      <td>none</td>\n",
       "      <td>22.647059</td>\n",
       "    </tr>\n",
       "    <tr>\n",
       "      <th>4924</th>\n",
       "      <td>wenjun zhang 1</td>\n",
       "      <td>2001</td>\n",
       "      <td>2017</td>\n",
       "      <td>207</td>\n",
       "      <td>17</td>\n",
       "      <td>8</td>\n",
       "      <td>3.0</td>\n",
       "      <td>0</td>\n",
       "      <td>1513.0</td>\n",
       "      <td>none</td>\n",
       "      <td>wenjun zhang 1</td>\n",
       "      <td>none</td>\n",
       "      <td>12.176471</td>\n",
       "    </tr>\n",
       "    <tr>\n",
       "      <th>4989</th>\n",
       "      <td>xiang cheng 1</td>\n",
       "      <td>2007</td>\n",
       "      <td>2017</td>\n",
       "      <td>131</td>\n",
       "      <td>11</td>\n",
       "      <td>8</td>\n",
       "      <td>33.0</td>\n",
       "      <td>8</td>\n",
       "      <td>1495.0</td>\n",
       "      <td>none</td>\n",
       "      <td>xiang cheng 1</td>\n",
       "      <td>none</td>\n",
       "      <td>11.909091</td>\n",
       "    </tr>\n",
       "    <tr>\n",
       "      <th>5005</th>\n",
       "      <td>xiang-yang li 1</td>\n",
       "      <td>1998</td>\n",
       "      <td>2017</td>\n",
       "      <td>373</td>\n",
       "      <td>20</td>\n",
       "      <td>11</td>\n",
       "      <td>28.0</td>\n",
       "      <td>10</td>\n",
       "      <td>5975.0</td>\n",
       "      <td>m</td>\n",
       "      <td>xiang-yang li 1</td>\n",
       "      <td>m</td>\n",
       "      <td>18.650000</td>\n",
       "    </tr>\n",
       "    <tr>\n",
       "      <th>5093</th>\n",
       "      <td>xiaowei li 1</td>\n",
       "      <td>1998</td>\n",
       "      <td>2017</td>\n",
       "      <td>231</td>\n",
       "      <td>20</td>\n",
       "      <td>7</td>\n",
       "      <td>5.0</td>\n",
       "      <td>2</td>\n",
       "      <td>936.0</td>\n",
       "      <td>none</td>\n",
       "      <td>xiaowei li 1</td>\n",
       "      <td>none</td>\n",
       "      <td>11.550000</td>\n",
       "    </tr>\n",
       "    <tr>\n",
       "      <th>5156</th>\n",
       "      <td>xin yao 1</td>\n",
       "      <td>1992</td>\n",
       "      <td>2017</td>\n",
       "      <td>469</td>\n",
       "      <td>26</td>\n",
       "      <td>5</td>\n",
       "      <td>19.0</td>\n",
       "      <td>6</td>\n",
       "      <td>11008.0</td>\n",
       "      <td>none</td>\n",
       "      <td>xin yao 1</td>\n",
       "      <td>none</td>\n",
       "      <td>18.038462</td>\n",
       "    </tr>\n",
       "    <tr>\n",
       "      <th>5161</th>\n",
       "      <td>xin zhang 1</td>\n",
       "      <td>2006</td>\n",
       "      <td>2017</td>\n",
       "      <td>153</td>\n",
       "      <td>12</td>\n",
       "      <td>39</td>\n",
       "      <td>55.0</td>\n",
       "      <td>13</td>\n",
       "      <td>706.0</td>\n",
       "      <td>none</td>\n",
       "      <td>xin zhang 1</td>\n",
       "      <td>none</td>\n",
       "      <td>12.750000</td>\n",
       "    </tr>\n",
       "    <tr>\n",
       "      <th>5175</th>\n",
       "      <td>xing xie 1</td>\n",
       "      <td>2002</td>\n",
       "      <td>2017</td>\n",
       "      <td>206</td>\n",
       "      <td>16</td>\n",
       "      <td>18</td>\n",
       "      <td>125.0</td>\n",
       "      <td>38</td>\n",
       "      <td>6619.0</td>\n",
       "      <td>none</td>\n",
       "      <td>xing xie 1</td>\n",
       "      <td>none</td>\n",
       "      <td>12.875000</td>\n",
       "    </tr>\n",
       "    <tr>\n",
       "      <th>5225</th>\n",
       "      <td>yan chen 7</td>\n",
       "      <td>2006</td>\n",
       "      <td>2017</td>\n",
       "      <td>144</td>\n",
       "      <td>12</td>\n",
       "      <td>10</td>\n",
       "      <td>46.0</td>\n",
       "      <td>14</td>\n",
       "      <td>924.0</td>\n",
       "      <td>none</td>\n",
       "      <td>yan chen 7</td>\n",
       "      <td>none</td>\n",
       "      <td>12.000000</td>\n",
       "    </tr>\n",
       "    <tr>\n",
       "      <th>5293</th>\n",
       "      <td>yan zhang 2</td>\n",
       "      <td>2003</td>\n",
       "      <td>2017</td>\n",
       "      <td>230</td>\n",
       "      <td>15</td>\n",
       "      <td>6</td>\n",
       "      <td>13.0</td>\n",
       "      <td>4</td>\n",
       "      <td>2428.0</td>\n",
       "      <td>none</td>\n",
       "      <td>yan zhang 2</td>\n",
       "      <td>none</td>\n",
       "      <td>15.333333</td>\n",
       "    </tr>\n",
       "    <tr>\n",
       "      <th>5460</th>\n",
       "      <td>yi pan 1</td>\n",
       "      <td>1988</td>\n",
       "      <td>2017</td>\n",
       "      <td>317</td>\n",
       "      <td>30</td>\n",
       "      <td>1</td>\n",
       "      <td>0.0</td>\n",
       "      <td>0</td>\n",
       "      <td>2182.0</td>\n",
       "      <td>none</td>\n",
       "      <td>yi pan 1</td>\n",
       "      <td>none</td>\n",
       "      <td>10.566667</td>\n",
       "    </tr>\n",
       "    <tr>\n",
       "      <th>5564</th>\n",
       "      <td>yong li 8</td>\n",
       "      <td>2009</td>\n",
       "      <td>2017</td>\n",
       "      <td>146</td>\n",
       "      <td>9</td>\n",
       "      <td>36</td>\n",
       "      <td>152.0</td>\n",
       "      <td>23</td>\n",
       "      <td>1261.0</td>\n",
       "      <td>none</td>\n",
       "      <td>yong li 8</td>\n",
       "      <td>none</td>\n",
       "      <td>16.222222</td>\n",
       "    </tr>\n",
       "    <tr>\n",
       "      <th>5662</th>\n",
       "      <td>yu wang 2</td>\n",
       "      <td>2006</td>\n",
       "      <td>2017</td>\n",
       "      <td>160</td>\n",
       "      <td>12</td>\n",
       "      <td>14</td>\n",
       "      <td>40.0</td>\n",
       "      <td>10</td>\n",
       "      <td>1048.0</td>\n",
       "      <td>none</td>\n",
       "      <td>yu wang 2</td>\n",
       "      <td>none</td>\n",
       "      <td>13.333333</td>\n",
       "    </tr>\n",
       "    <tr>\n",
       "      <th>5699</th>\n",
       "      <td>yuan xie 1</td>\n",
       "      <td>2000</td>\n",
       "      <td>2017</td>\n",
       "      <td>314</td>\n",
       "      <td>18</td>\n",
       "      <td>4</td>\n",
       "      <td>21.0</td>\n",
       "      <td>2</td>\n",
       "      <td>5811.0</td>\n",
       "      <td>none</td>\n",
       "      <td>yuan xie 1</td>\n",
       "      <td>none</td>\n",
       "      <td>17.444444</td>\n",
       "    </tr>\n",
       "    <tr>\n",
       "      <th>5736</th>\n",
       "      <td>yun fu 1</td>\n",
       "      <td>2006</td>\n",
       "      <td>2017</td>\n",
       "      <td>166</td>\n",
       "      <td>12</td>\n",
       "      <td>44</td>\n",
       "      <td>394.0</td>\n",
       "      <td>116</td>\n",
       "      <td>2542.0</td>\n",
       "      <td>none</td>\n",
       "      <td>yun fu 1</td>\n",
       "      <td>none</td>\n",
       "      <td>13.833333</td>\n",
       "    </tr>\n",
       "    <tr>\n",
       "      <th>5768</th>\n",
       "      <td>zhaoyang zhang 1</td>\n",
       "      <td>1999</td>\n",
       "      <td>2017</td>\n",
       "      <td>247</td>\n",
       "      <td>19</td>\n",
       "      <td>4</td>\n",
       "      <td>164.0</td>\n",
       "      <td>21</td>\n",
       "      <td>2348.0</td>\n",
       "      <td>none</td>\n",
       "      <td>zhaoyang zhang 1</td>\n",
       "      <td>none</td>\n",
       "      <td>13.000000</td>\n",
       "    </tr>\n",
       "  </tbody>\n",
       "</table>\n",
       "<p>69 rows × 13 columns</p>\n",
       "</div>"
      ],
      "text/plain": [
       "                  author  start_year  end_year  num_pub  career_length  \\\n",
       "58    albrecht schmidt 1        1998      2017      339             20   \n",
       "225       anil k. jain 1        1976      2017      425             42   \n",
       "335       bernd becker 1        1983      2017      352             35   \n",
       "361            bin liu 1        2003      2017      155             15   \n",
       "572          chao wang 3        2011      2017       76              7   \n",
       "623         cheng wang 3        2013      2017       58              5   \n",
       "946        david zhang 1        1994      2017      481             24   \n",
       "1115          fei wang 1        2004      2017      159             14   \n",
       "1479        haris aziz 1        2008      2017      104             10   \n",
       "1593            hui li 6        2007      2017      179             11   \n",
       "1712        jan peters 1        2002      2017      219             16   \n",
       "1801         jian yang 3        2002      2017      206             16   \n",
       "1840      jianmin wang 1        2000      2017      203             18   \n",
       "1851     jianwei zhang 1        1994      2016      246             23   \n",
       "1861        jiawei han 1        1986      2017      729             32   \n",
       "1918            jie wu 1        1989      2017      649             29   \n",
       "1932          jie yang 2        1996      2017      273             22   \n",
       "2308         jun zhang 3        2001      2017      174             17   \n",
       "2414       kaushik roy 1        1988      2017      563             30   \n",
       "2473           kui ren 1        2004      2017      181             14   \n",
       "2504          lei chen 2        2002      2017      307             16   \n",
       "2514           lei guo 2        2001      2017      172             17   \n",
       "2533           lei shu 1        2007      2017      187             11   \n",
       "2591         lei zhang 1        2001      2016      169             16   \n",
       "2616         lei zhang 6        2002      2017      266             16   \n",
       "2632            li guo 1        2005      2016      151             12   \n",
       "2752           lin cai 1        2003      2017      198             15   \n",
       "2805          ling liu 1        1995      2017      267             23   \n",
       "2819      liuqing yang 1        2002      2017      184             16   \n",
       "2835         long wang 1        2000      2017      209             18   \n",
       "...                  ...         ...       ...      ...            ...   \n",
       "3740        ping zhang 3        2002      2016      248             15   \n",
       "3770        qian zhang 1        2000      2017      287             18   \n",
       "3790        qiang yang 1        1989      2017      389             29   \n",
       "4002         rui zhang 6        2000      2017      247             18   \n",
       "4059  satoshi nakamura 1        1990      2017      427             28   \n",
       "4116        sheng chen 1        1993      2017      292             25   \n",
       "4347         tao jiang 2        2003      2017      172             15   \n",
       "4351            tao li 1        1999      2017      249             19   \n",
       "4465      thomas seidl 1        1993      2017      254             25   \n",
       "4565       vijay kumar 1        1989      2017      355             29   \n",
       "4607          wei chen 2        2005      2017      131             13   \n",
       "4816         wei zhang 1        2004      2017      157             14   \n",
       "4891          wen chen 1        2005      2017      139             13   \n",
       "4899           wen gao 1        1995      2017      981             23   \n",
       "4917        wenbo wang 7        2001      2017      385             17   \n",
       "4924      wenjun zhang 1        2001      2017      207             17   \n",
       "4989       xiang cheng 1        2007      2017      131             11   \n",
       "5005     xiang-yang li 1        1998      2017      373             20   \n",
       "5093        xiaowei li 1        1998      2017      231             20   \n",
       "5156           xin yao 1        1992      2017      469             26   \n",
       "5161         xin zhang 1        2006      2017      153             12   \n",
       "5175          xing xie 1        2002      2017      206             16   \n",
       "5225          yan chen 7        2006      2017      144             12   \n",
       "5293         yan zhang 2        2003      2017      230             15   \n",
       "5460            yi pan 1        1988      2017      317             30   \n",
       "5564           yong li 8        2009      2017      146              9   \n",
       "5662           yu wang 2        2006      2017      160             12   \n",
       "5699          yuan xie 1        2000      2017      314             18   \n",
       "5736            yun fu 1        2006      2017      166             12   \n",
       "5768    zhaoyang zhang 1        1999      2017      247             19   \n",
       "\n",
       "      early_career_prod  early_career_qual  early_career_rec  \\\n",
       "58                   16              127.0                35   \n",
       "225                   3               13.0                 1   \n",
       "335                   2                0.0                 0   \n",
       "361                  23               44.0                 9   \n",
       "572                  38              101.0                57   \n",
       "623                  34              105.0                35   \n",
       "946                   6                0.0                 0   \n",
       "1115                 11               55.0                14   \n",
       "1479                 11              206.0                75   \n",
       "1593                  9                4.0                 0   \n",
       "1712                  1                1.0                 1   \n",
       "1801                 10              158.0                23   \n",
       "1840                  2                1.0                 0   \n",
       "1851                  3                4.0                 1   \n",
       "1861                  7               43.0                14   \n",
       "1918                  2                1.0                 0   \n",
       "1932                  1                0.0                 0   \n",
       "2308                  2                2.0                 0   \n",
       "2414                  5               46.0                14   \n",
       "2473                  5               34.0                 6   \n",
       "2504                  9               42.0                11   \n",
       "2514                  7                6.0                 1   \n",
       "2533                 18              187.0                43   \n",
       "2591                 11               58.0                13   \n",
       "2616                 11               38.0                 3   \n",
       "2632                 14               28.0                 9   \n",
       "2752                  9               49.0                 5   \n",
       "2805                 10               37.0                16   \n",
       "2819                 10              119.0                24   \n",
       "2835                  1                0.0                 0   \n",
       "...                 ...                ...               ...   \n",
       "3740                 12               12.0                 0   \n",
       "3770                 27              140.0                40   \n",
       "3790                  6               15.0                 5   \n",
       "4002                  2                4.0                 1   \n",
       "4059                  2                0.0                 0   \n",
       "4116                  6               26.0                12   \n",
       "4347                  3               19.0                 4   \n",
       "4351                  1               78.0                25   \n",
       "4465                  5               13.0                 8   \n",
       "4565                  1                2.0                 1   \n",
       "4607                  6               17.0                 4   \n",
       "4816                 14              185.0                28   \n",
       "4891                 10                2.0                 1   \n",
       "4899                  9                2.0                 0   \n",
       "4917                  6                2.0                 0   \n",
       "4924                  8                3.0                 0   \n",
       "4989                  8               33.0                 8   \n",
       "5005                 11               28.0                10   \n",
       "5093                  7                5.0                 2   \n",
       "5156                  5               19.0                 6   \n",
       "5161                 39               55.0                13   \n",
       "5175                 18              125.0                38   \n",
       "5225                 10               46.0                14   \n",
       "5293                  6               13.0                 4   \n",
       "5460                  1                0.0                 0   \n",
       "5564                 36              152.0                23   \n",
       "5662                 14               40.0                10   \n",
       "5699                  4               21.0                 2   \n",
       "5736                 44              394.0               116   \n",
       "5768                  4              164.0                21   \n",
       "\n",
       "      final_citation_count gender_x                name gender_y  pub_per_year  \n",
       "58                  5287.0        m  albrecht schmidt 1        m     16.950000  \n",
       "225                26756.0        m      anil k. jain 1        m     10.119048  \n",
       "335                 2602.0        m      bernd becker 1        m     10.057143  \n",
       "361                 1240.0     none           bin liu 1     none     10.333333  \n",
       "572                  179.0     none         chao wang 3     none     10.857143  \n",
       "623                  123.0     none        cheng wang 3     none     11.600000  \n",
       "946                11643.0     none       david zhang 1     none     20.041667  \n",
       "1115                2508.0     none          fei wang 1     none     11.357143  \n",
       "1479                 963.0        m        haris aziz 1        m     10.400000  \n",
       "1593                1038.0     none            hui li 6     none     16.272727  \n",
       "1712                2918.0        m        jan peters 1        m     13.687500  \n",
       "1801                3737.0     none         jian yang 3     none     12.875000  \n",
       "1840                1615.0     none      jianmin wang 1     none     11.277778  \n",
       "1851                 744.0     none     jianwei zhang 1     none     10.695652  \n",
       "1861               32501.0     none        jiawei han 1     none     22.781250  \n",
       "1918                9289.0     none            jie wu 1     none     22.379310  \n",
       "1932                1307.0     none          jie yang 2     none     12.409091  \n",
       "2308                1563.0     none         jun zhang 3     none     10.235294  \n",
       "2414                7605.0        m       kaushik roy 1        m     18.766667  \n",
       "2473                4572.0     none           kui ren 1     none     12.928571  \n",
       "2504                4381.0     none          lei chen 2     none     19.187500  \n",
       "2514                 981.0     none           lei guo 2     none     10.117647  \n",
       "2533                1427.0     none           lei shu 1     none     17.000000  \n",
       "2591                3653.0     none         lei zhang 1     none     10.562500  \n",
       "2616                9435.0     none         lei zhang 6     none     16.625000  \n",
       "2632                1090.0     none            li guo 1     none     12.583333  \n",
       "2752                1785.0     none           lin cai 1     none     13.200000  \n",
       "2805                5251.0     none          ling liu 1     none     11.608696  \n",
       "2819                1540.0     none      liuqing yang 1     none     11.500000  \n",
       "2835                1892.0     none         long wang 1     none     11.611111  \n",
       "...                    ...      ...                 ...      ...           ...  \n",
       "3740                 826.0     none        ping zhang 3     none     16.533333  \n",
       "3770                4713.0     none        qian zhang 1     none     15.944444  \n",
       "3790               12666.0     none        qiang yang 1     none     13.413793  \n",
       "4002                8539.0     none         rui zhang 6     none     13.722222  \n",
       "4059                1605.0        m  satoshi nakamura 1        m     15.250000  \n",
       "4116                3153.0     none        sheng chen 1     none     11.680000  \n",
       "4347                1183.0     none         tao jiang 2     none     11.466667  \n",
       "4351                6399.0     none            tao li 1     none     13.105263  \n",
       "4465                2977.0     none      thomas seidl 1     none     10.160000  \n",
       "4565                6241.0        m       vijay kumar 1        m     12.241379  \n",
       "4607                 814.0     none          wei chen 2     none     10.076923  \n",
       "4816                3348.0     none         wei zhang 1     none     11.214286  \n",
       "4891                 686.0     none          wen chen 1     none     10.692308  \n",
       "4899                9525.0     none           wen gao 1     none     42.652174  \n",
       "4917                2752.0     none        wenbo wang 7     none     22.647059  \n",
       "4924                1513.0     none      wenjun zhang 1     none     12.176471  \n",
       "4989                1495.0     none       xiang cheng 1     none     11.909091  \n",
       "5005                5975.0        m     xiang-yang li 1        m     18.650000  \n",
       "5093                 936.0     none        xiaowei li 1     none     11.550000  \n",
       "5156               11008.0     none           xin yao 1     none     18.038462  \n",
       "5161                 706.0     none         xin zhang 1     none     12.750000  \n",
       "5175                6619.0     none          xing xie 1     none     12.875000  \n",
       "5225                 924.0     none          yan chen 7     none     12.000000  \n",
       "5293                2428.0     none         yan zhang 2     none     15.333333  \n",
       "5460                2182.0     none            yi pan 1     none     10.566667  \n",
       "5564                1261.0     none           yong li 8     none     16.222222  \n",
       "5662                1048.0     none           yu wang 2     none     13.333333  \n",
       "5699                5811.0     none          yuan xie 1     none     17.444444  \n",
       "5736                2542.0     none            yun fu 1     none     13.833333  \n",
       "5768                2348.0     none    zhaoyang zhang 1     none     13.000000  \n",
       "\n",
       "[69 rows x 13 columns]"
      ]
     },
     "execution_count": 77,
     "metadata": {},
     "output_type": "execute_result"
    }
   ],
   "source": [
    "authors_digits[authors_digits['pub_per_year'] > 10]"
   ]
  },
  {
   "cell_type": "code",
   "execution_count": 78,
   "metadata": {},
   "outputs": [
    {
     "data": {
      "text/plain": [
       "<matplotlib.axes._subplots.AxesSubplot at 0x7f78ba476f28>"
      ]
     },
     "execution_count": 78,
     "metadata": {},
     "output_type": "execute_result"
    },
    {
     "data": {
      "image/png": "[encoded data removed]",
      "text/plain": [
       "<matplotlib.figure.Figure at 0x7f79215a87f0>"
      ]
     },
     "metadata": {},
     "output_type": "display_data"
    }
   ],
   "source": [
    "digiAuthorPublicationData.year.value_counts().sort_index().plot(kind='bar')"
   ]
  },
  {
   "cell_type": "code",
   "execution_count": 79,
   "metadata": {},
   "outputs": [
    {
     "data": {
      "text/plain": [
       "<matplotlib.axes._subplots.AxesSubplot at 0x7f78d91f1f98>"
      ]
     },
     "execution_count": 79,
     "metadata": {},
     "output_type": "execute_result"
    },
    {
     "data": {
      "image/png": "[encoded data removed]",
      "text/plain": [
       "<matplotlib.figure.Figure at 0x7f78baf3b2b0>"
      ]
     },
     "metadata": {},
     "output_type": "display_data"
    }
   ],
   "source": [
    "authorPublicationData.year.value_counts().sort_index().plot(kind='bar')"
   ]
  },
  {
   "cell_type": "markdown",
   "metadata": {},
   "source": [
    "## Citations distribution (based on IDs file)"
   ]
  },
  {
   "cell_type": "code",
   "execution_count": 80,
   "metadata": {},
   "outputs": [],
   "source": [
    "citation_distribution = credible_authors['final_citation_count'].value_counts().sort_index()"
   ]
  },
  {
   "cell_type": "code",
   "execution_count": 81,
   "metadata": {},
   "outputs": [
    {
     "data": {
      "image/png": "[encoded data removed]",
      "text/plain": [
       "<matplotlib.figure.Figure at 0x7f78bb36a470>"
      ]
     },
     "metadata": {},
     "output_type": "display_data"
    }
   ],
   "source": [
    "plt.loglog(citation_distribution.index, citation_distribution.values)\n",
    "plt.xlabel('Num citations')\n",
    "plt.ylabel('Frequency')\n",
    "plt.show()"
   ]
  },
  {
   "cell_type": "markdown",
   "metadata": {},
   "source": [
    "## Early Career Prod. vs Final Success (ID file)"
   ]
  },
  {
   "cell_type": "code",
   "execution_count": 82,
   "metadata": {},
   "outputs": [],
   "source": [
    "credible_authors.sort_values(by='early_career_prod', inplace=True)"
   ]
  },
  {
   "cell_type": "code",
   "execution_count": 83,
   "metadata": {},
   "outputs": [],
   "source": [
    "x = credible_authors['early_career_prod']\n",
    "y = credible_authors['final_citation_count']"
   ]
  },
  {
   "cell_type": "code",
   "execution_count": 84,
   "metadata": {
    "scrolled": false
   },
   "outputs": [
    {
     "data": {
      "image/png": "[encoded data removed]",
      "text/plain": [
       "<matplotlib.figure.Figure at 0x7f78bcb64860>"
      ]
     },
     "metadata": {},
     "output_type": "display_data"
    }
   ],
   "source": [
    "fig, ax = plt.subplots()\n",
    "plt.scatter(x, y)\n",
    "fit = np.polyfit(x, y, deg=1)\n",
    "ax.plot(x, fit[0] * x + fit[1], color='red')\n",
    "plt.xlabel('Early Career Productivity')\n",
    "plt.ylabel('Final Success')\n",
    "# plt.xlim(0, 50)\n",
    "# plt.ylim(0,200)\n",
    "plt.show()"
   ]
  },
  {
   "cell_type": "code",
   "execution_count": 85,
   "metadata": {},
   "outputs": [],
   "source": [
    "credible_authors_no_uncited = credible_authors.dropna()"
   ]
  },
  {
   "cell_type": "code",
   "execution_count": 86,
   "metadata": {},
   "outputs": [],
   "source": [
    "x = credible_authors_no_uncited['early_career_prod']\n",
    "y = credible_authors_no_uncited['final_citation_count']"
   ]
  },
  {
   "cell_type": "code",
   "execution_count": 87,
   "metadata": {},
   "outputs": [
    {
     "name": "stdout",
     "output_type": "stream",
     "text": [
      "0.1599975788916418\n",
      "34.960743634955534 38.4926283228165\n"
     ]
    }
   ],
   "source": [
    "slope, intercept, r_value, p_value, std_err = scipy.stats.linregress(x, y)\n",
    "print(r_value)\n",
    "print(slope, intercept)"
   ]
  },
  {
   "cell_type": "code",
   "execution_count": 88,
   "metadata": {
    "scrolled": false
   },
   "outputs": [
    {
     "data": {
      "image/png": "[encoded data removed]",
      "text/plain": [
       "<matplotlib.figure.Figure at 0x7f78bc7121d0>"
      ]
     },
     "metadata": {},
     "output_type": "display_data"
    }
   ],
   "source": [
    "fig, axs = plt.subplots()\n",
    "axs.hist2d(x, y, bins=40, norm=colors.LogNorm())\n",
    "plt.show()"
   ]
  },
  {
   "cell_type": "markdown",
   "metadata": {},
   "source": [
    "## Early Career Prod. vs Early Career Qual. (IDs file)"
   ]
  },
  {
   "cell_type": "code",
   "execution_count": 89,
   "metadata": {},
   "outputs": [],
   "source": [
    "credible_authors.sort_values(by='early_career_prod', inplace=True)"
   ]
  },
  {
   "cell_type": "code",
   "execution_count": 90,
   "metadata": {},
   "outputs": [
    {
     "data": {
      "image/png": "[encoded data removed]",
      "text/plain": [
       "<matplotlib.figure.Figure at 0x7f78bd1a2390>"
      ]
     },
     "metadata": {},
     "output_type": "display_data"
    }
   ],
   "source": [
    "plt.scatter(credible_authors['early_career_prod'], credible_authors['early_career_qual'])\n",
    "plt.xlabel('Early Career Productivity')\n",
    "plt.ylabel('Early Career Quality')\n",
    "plt.show()"
   ]
  },
  {
   "cell_type": "code",
   "execution_count": null,
   "metadata": {},
   "outputs": [],
   "source": []
  }
 ],
 "metadata": {
  "kernelspec": {
   "display_name": "Python 3",
   "language": "python",
   "name": "python3"
  },
  "language_info": {
   "codemirror_mode": {
    "name": "ipython",
    "version": 3
   },
   "file_extension": ".py",
   "mimetype": "text/x-python",
   "name": "python",
   "nbconvert_exporter": "python",
   "pygments_lexer": "ipython3",
   "version": "3.6.4"
  }
 },
 "nbformat": 4,
 "nbformat_minor": 2
}
