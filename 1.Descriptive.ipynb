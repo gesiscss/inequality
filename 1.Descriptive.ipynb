{
 "cells": [
  {
   "cell_type": "code",
   "execution_count": 44,
   "metadata": {},
   "outputs": [],
   "source": [
    "import pandas as pd\n",
    "import numpy as np\n",
    "import timeit\n",
    "\n",
    "from matplotlib import pyplot as plt\n",
    "from matplotlib import rcParams\n",
    "plt.style.use('ggplot')\n",
    "rcParams['figure.figsize'] = (20.0, 10.0)\n",
    "from matplotlib import colors\n",
    "\n",
    "import scipy.stats"
   ]
  },
  {
   "cell_type": "markdown",
   "metadata": {},
   "source": [
    "## Publication data"
   ]
  },
  {
   "cell_type": "code",
   "execution_count": 2,
   "metadata": {},
   "outputs": [
    {
     "data": {
      "text/html": [
       "<div>\n",
       "<style scoped>\n",
       "    .dataframe tbody tr th:only-of-type {\n",
       "        vertical-align: middle;\n",
       "    }\n",
       "\n",
       "    .dataframe tbody tr th {\n",
       "        vertical-align: top;\n",
       "    }\n",
       "\n",
       "    .dataframe thead th {\n",
       "        text-align: right;\n",
       "    }\n",
       "</style>\n",
       "<table border=\"1\" class=\"dataframe\">\n",
       "  <thead>\n",
       "    <tr style=\"text-align: right;\">\n",
       "      <th></th>\n",
       "      <th>author</th>\n",
       "      <th>year</th>\n",
       "      <th>pub_id</th>\n",
       "    </tr>\n",
       "  </thead>\n",
       "  <tbody>\n",
       "    <tr>\n",
       "      <th>0</th>\n",
       "      <td>graeme earl</td>\n",
       "      <td>2011</td>\n",
       "      <td>001c58d3-26ad-46b3-ab3a-c1e557d16821</td>\n",
       "    </tr>\n",
       "    <tr>\n",
       "      <th>1</th>\n",
       "      <td>gareth beale</td>\n",
       "      <td>2011</td>\n",
       "      <td>001c58d3-26ad-46b3-ab3a-c1e557d16821</td>\n",
       "    </tr>\n",
       "    <tr>\n",
       "      <th>2</th>\n",
       "      <td>m. nasser</td>\n",
       "      <td>2009</td>\n",
       "      <td>001c8744-73c4-4b04-9364-22d31a10dbf1</td>\n",
       "    </tr>\n",
       "    <tr>\n",
       "      <th>3</th>\n",
       "      <td>faisal zaman</td>\n",
       "      <td>2009</td>\n",
       "      <td>001c8744-73c4-4b04-9364-22d31a10dbf1</td>\n",
       "    </tr>\n",
       "    <tr>\n",
       "      <th>4</th>\n",
       "      <td>altaf hossain</td>\n",
       "      <td>2009</td>\n",
       "      <td>001c8744-73c4-4b04-9364-22d31a10dbf1</td>\n",
       "    </tr>\n",
       "  </tbody>\n",
       "</table>\n",
       "</div>"
      ],
      "text/plain": [
       "          author  year                                pub_id\n",
       "0    graeme earl  2011  001c58d3-26ad-46b3-ab3a-c1e557d16821\n",
       "1   gareth beale  2011  001c58d3-26ad-46b3-ab3a-c1e557d16821\n",
       "2      m. nasser  2009  001c8744-73c4-4b04-9364-22d31a10dbf1\n",
       "3   faisal zaman  2009  001c8744-73c4-4b04-9364-22d31a10dbf1\n",
       "4  altaf hossain  2009  001c8744-73c4-4b04-9364-22d31a10dbf1"
      ]
     },
     "execution_count": 2,
     "metadata": {},
     "output_type": "execute_result"
    }
   ],
   "source": [
    "# authorPublicationData = pd.read_csv('data/author_publications_1970_2016_asiansAsNone.txt')\n",
    "authorPublicationData = pd.read_csv('data/author_publications_2017_asiansAsNone.txt')\n",
    "authorPublicationData.head()"
   ]
  },
  {
   "cell_type": "code",
   "execution_count": 3,
   "metadata": {},
   "outputs": [],
   "source": [
    "author_year_numPub = authorPublicationData.groupby(['author', 'year'])['pub_id'].count()"
   ]
  },
  {
   "cell_type": "code",
   "execution_count": 4,
   "metadata": {},
   "outputs": [
    {
     "data": {
      "text/plain": [
       "author                 year\n",
       "'maseka lesaoana       2001    1\n",
       "                       2015    1\n",
       "(max) zong-ming cheng  2009    1\n",
       "                       2011    1\n",
       "(zhou) bryan bai       2011    1\n",
       "                       2012    1\n",
       "a aart blokhuis        1992    1\n",
       "                       2005    1\n",
       "a ahrabian             2017    1\n",
       "a el sharkawi          2002    1\n",
       "Name: pub_id, dtype: int64"
      ]
     },
     "execution_count": 4,
     "metadata": {},
     "output_type": "execute_result"
    }
   ],
   "source": [
    "author_year_numPub.head(10)"
   ]
  },
  {
   "cell_type": "code",
   "execution_count": 5,
   "metadata": {},
   "outputs": [],
   "source": [
    "author_year_publications = authorPublicationData.groupby(['author', 'year'])['pub_id'].apply(list)"
   ]
  },
  {
   "cell_type": "code",
   "execution_count": 6,
   "metadata": {},
   "outputs": [
    {
     "data": {
      "text/plain": [
       "author                 year\n",
       "'maseka lesaoana       2001    [4ff8ca7b-16b7-4bc8-b235-1eeac9b2aefa]\n",
       "                       2015    [2a10f544-51ac-4261-8a26-cf61c1abdc03]\n",
       "(max) zong-ming cheng  2009    [fe824193-57a4-48ed-a1d3-5eeb67929ae4]\n",
       "                       2011    [fd54f6e8-4b10-471b-a1d0-3c784688a2a7]\n",
       "(zhou) bryan bai       2011    [53d10a61-f01d-464e-b5e9-8242ed3b9e00]\n",
       "Name: pub_id, dtype: object"
      ]
     },
     "execution_count": 6,
     "metadata": {},
     "output_type": "execute_result"
    }
   ],
   "source": [
    "author_year_publications.head()"
   ]
  },
  {
   "cell_type": "markdown",
   "metadata": {},
   "source": [
    "## Author citation data (ids)"
   ]
  },
  {
   "cell_type": "code",
   "execution_count": 7,
   "metadata": {},
   "outputs": [],
   "source": [
    "authorCitationsData = pd.read_csv('./data/citations_2017_asiansAsNone.txt')"
   ]
  },
  {
   "cell_type": "code",
   "execution_count": 8,
   "metadata": {},
   "outputs": [
    {
     "name": "stdout",
     "output_type": "stream",
     "text": [
      "(25161834, 3)\n"
     ]
    }
   ],
   "source": [
    "authorCitationsData.head()\n",
    "print(authorCitationsData.shape)"
   ]
  },
  {
   "cell_type": "code",
   "execution_count": 9,
   "metadata": {},
   "outputs": [],
   "source": [
    "paper_citation_count = authorCitationsData.groupby('id2')['id1'].count()"
   ]
  },
  {
   "cell_type": "markdown",
   "metadata": {
    "heading_collapsed": true
   },
   "source": [
    "### Generate the new author->author citation network"
   ]
  },
  {
   "cell_type": "code",
   "execution_count": 10,
   "metadata": {
    "hidden": true
   },
   "outputs": [],
   "source": [
    "# final_citation_count_from_ids = authorPublicationData.merge(authorCitationsData, left_on='pub_id', \n",
    "#                                                             right_on='id2', how='left', suffixes=('_pub', '_cit'))\n",
    "\n",
    "# final_citation_count_from_ids = final_citation_count_from_ids.merge(authorPublicationData, left_on='id1', \n",
    "#                                                                     right_on='pub_id', how='left', suffixes=('_cited', '_citing'))"
   ]
  },
  {
   "cell_type": "code",
   "execution_count": 11,
   "metadata": {
    "hidden": true
   },
   "outputs": [
    {
     "data": {
      "text/html": [
       "<div>\n",
       "<style scoped>\n",
       "    .dataframe tbody tr th:only-of-type {\n",
       "        vertical-align: middle;\n",
       "    }\n",
       "\n",
       "    .dataframe tbody tr th {\n",
       "        vertical-align: top;\n",
       "    }\n",
       "\n",
       "    .dataframe thead th {\n",
       "        text-align: right;\n",
       "    }\n",
       "</style>\n",
       "<table border=\"1\" class=\"dataframe\">\n",
       "  <thead>\n",
       "    <tr style=\"text-align: right;\">\n",
       "      <th></th>\n",
       "      <th>author_cited</th>\n",
       "      <th>year_pub</th>\n",
       "      <th>pub_id_cited</th>\n",
       "      <th>id1</th>\n",
       "      <th>id2</th>\n",
       "      <th>year_cit</th>\n",
       "      <th>author_citing</th>\n",
       "      <th>year</th>\n",
       "      <th>pub_id_citing</th>\n",
       "    </tr>\n",
       "  </thead>\n",
       "  <tbody>\n",
       "    <tr>\n",
       "      <th>0</th>\n",
       "      <td>graeme earl</td>\n",
       "      <td>2011</td>\n",
       "      <td>001c58d3-26ad-46b3-ab3a-c1e557d16821</td>\n",
       "      <td>16870052-7e2e-4bbc-beeb-21e493bea221</td>\n",
       "      <td>001c58d3-26ad-46b3-ab3a-c1e557d16821</td>\n",
       "      <td>2015.0</td>\n",
       "      <td>roberto scopigno</td>\n",
       "      <td>2015.0</td>\n",
       "      <td>16870052-7e2e-4bbc-beeb-21e493bea221</td>\n",
       "    </tr>\n",
       "    <tr>\n",
       "      <th>1</th>\n",
       "      <td>graeme earl</td>\n",
       "      <td>2011</td>\n",
       "      <td>001c58d3-26ad-46b3-ab3a-c1e557d16821</td>\n",
       "      <td>16870052-7e2e-4bbc-beeb-21e493bea221</td>\n",
       "      <td>001c58d3-26ad-46b3-ab3a-c1e557d16821</td>\n",
       "      <td>2015.0</td>\n",
       "      <td>matteo dellepiane</td>\n",
       "      <td>2015.0</td>\n",
       "      <td>16870052-7e2e-4bbc-beeb-21e493bea221</td>\n",
       "    </tr>\n",
       "    <tr>\n",
       "      <th>2</th>\n",
       "      <td>graeme earl</td>\n",
       "      <td>2011</td>\n",
       "      <td>001c58d3-26ad-46b3-ab3a-c1e557d16821</td>\n",
       "      <td>16870052-7e2e-4bbc-beeb-21e493bea221</td>\n",
       "      <td>001c58d3-26ad-46b3-ab3a-c1e557d16821</td>\n",
       "      <td>2015.0</td>\n",
       "      <td>eliana siotto</td>\n",
       "      <td>2015.0</td>\n",
       "      <td>16870052-7e2e-4bbc-beeb-21e493bea221</td>\n",
       "    </tr>\n",
       "    <tr>\n",
       "      <th>3</th>\n",
       "      <td>graeme earl</td>\n",
       "      <td>2011</td>\n",
       "      <td>001c58d3-26ad-46b3-ab3a-c1e557d16821</td>\n",
       "      <td>16870052-7e2e-4bbc-beeb-21e493bea221</td>\n",
       "      <td>001c58d3-26ad-46b3-ab3a-c1e557d16821</td>\n",
       "      <td>2015.0</td>\n",
       "      <td>marco callieri</td>\n",
       "      <td>2015.0</td>\n",
       "      <td>16870052-7e2e-4bbc-beeb-21e493bea221</td>\n",
       "    </tr>\n",
       "    <tr>\n",
       "      <th>4</th>\n",
       "      <td>gareth beale</td>\n",
       "      <td>2011</td>\n",
       "      <td>001c58d3-26ad-46b3-ab3a-c1e557d16821</td>\n",
       "      <td>16870052-7e2e-4bbc-beeb-21e493bea221</td>\n",
       "      <td>001c58d3-26ad-46b3-ab3a-c1e557d16821</td>\n",
       "      <td>2015.0</td>\n",
       "      <td>roberto scopigno</td>\n",
       "      <td>2015.0</td>\n",
       "      <td>16870052-7e2e-4bbc-beeb-21e493bea221</td>\n",
       "    </tr>\n",
       "  </tbody>\n",
       "</table>\n",
       "</div>"
      ],
      "text/plain": [
       "   author_cited  year_pub                          pub_id_cited  \\\n",
       "0   graeme earl      2011  001c58d3-26ad-46b3-ab3a-c1e557d16821   \n",
       "1   graeme earl      2011  001c58d3-26ad-46b3-ab3a-c1e557d16821   \n",
       "2   graeme earl      2011  001c58d3-26ad-46b3-ab3a-c1e557d16821   \n",
       "3   graeme earl      2011  001c58d3-26ad-46b3-ab3a-c1e557d16821   \n",
       "4  gareth beale      2011  001c58d3-26ad-46b3-ab3a-c1e557d16821   \n",
       "\n",
       "                                    id1                                   id2  \\\n",
       "0  16870052-7e2e-4bbc-beeb-21e493bea221  001c58d3-26ad-46b3-ab3a-c1e557d16821   \n",
       "1  16870052-7e2e-4bbc-beeb-21e493bea221  001c58d3-26ad-46b3-ab3a-c1e557d16821   \n",
       "2  16870052-7e2e-4bbc-beeb-21e493bea221  001c58d3-26ad-46b3-ab3a-c1e557d16821   \n",
       "3  16870052-7e2e-4bbc-beeb-21e493bea221  001c58d3-26ad-46b3-ab3a-c1e557d16821   \n",
       "4  16870052-7e2e-4bbc-beeb-21e493bea221  001c58d3-26ad-46b3-ab3a-c1e557d16821   \n",
       "\n",
       "   year_cit      author_citing    year                         pub_id_citing  \n",
       "0    2015.0   roberto scopigno  2015.0  16870052-7e2e-4bbc-beeb-21e493bea221  \n",
       "1    2015.0  matteo dellepiane  2015.0  16870052-7e2e-4bbc-beeb-21e493bea221  \n",
       "2    2015.0      eliana siotto  2015.0  16870052-7e2e-4bbc-beeb-21e493bea221  \n",
       "3    2015.0     marco callieri  2015.0  16870052-7e2e-4bbc-beeb-21e493bea221  \n",
       "4    2015.0   roberto scopigno  2015.0  16870052-7e2e-4bbc-beeb-21e493bea221  "
      ]
     },
     "execution_count": 11,
     "metadata": {},
     "output_type": "execute_result"
    }
   ],
   "source": [
    "# final_citation_count_from_ids.head()"
   ]
  },
  {
   "cell_type": "code",
   "execution_count": 12,
   "metadata": {
    "hidden": true
   },
   "outputs": [
    {
     "name": "stdout",
     "output_type": "stream",
     "text": [
      "(263535955, 9)\n",
      "(263409178, 9)\n"
     ]
    }
   ],
   "source": [
    "# print(final_citation_count_from_ids.shape)\n",
    "# final_citation_count_from_ids.drop_duplicates(subset=['author_cited', 'pub_id_cited', 'pub_id_citing', 'author_citing'],\n",
    "#                                               inplace=True)\n",
    "# print(final_citation_count_from_ids.shape)"
   ]
  },
  {
   "cell_type": "code",
   "execution_count": 13,
   "metadata": {
    "hidden": true
   },
   "outputs": [],
   "source": [
    "# final_citation_count_from_ids.to_csv('./data/authors_cite_2017_asiansAsNone_by_daniel.txt',\n",
    "#                                      columns=['author_cited', 'author_citing', 'year_cit'], index=False)"
   ]
  },
  {
   "cell_type": "code",
   "execution_count": 15,
   "metadata": {
    "hidden": true
   },
   "outputs": [],
   "source": [
    "# authorCitationsData_only_names = final_citation_count_from_ids[['author_cited', 'author_citing', 'year_cit']]"
   ]
  },
  {
   "cell_type": "markdown",
   "metadata": {
    "heading_collapsed": true
   },
   "source": [
    "### Errors in citation data (IDs)"
   ]
  },
  {
   "cell_type": "code",
   "execution_count": null,
   "metadata": {
    "hidden": true,
    "scrolled": true
   },
   "outputs": [],
   "source": [
    "final_citation_count_from_ids[final_citation_count_from_ids.year_pub <= final_citation_count_from_ids.year_cit].shape"
   ]
  },
  {
   "cell_type": "code",
   "execution_count": null,
   "metadata": {
    "hidden": true,
    "scrolled": false
   },
   "outputs": [],
   "source": [
    "final_citation_count_from_ids[final_citation_count_from_ids.year_pub > final_citation_count_from_ids.year_cit].shape"
   ]
  },
  {
   "cell_type": "code",
   "execution_count": null,
   "metadata": {
    "hidden": true
   },
   "outputs": [],
   "source": [
    "final_citation_count_from_ids[final_citation_count_from_ids.year_pub > final_citation_count_from_ids.year_cit].head()"
   ]
  },
  {
   "cell_type": "markdown",
   "metadata": {},
   "source": [
    "## Author citation data (names)"
   ]
  },
  {
   "cell_type": "code",
   "execution_count": 16,
   "metadata": {},
   "outputs": [],
   "source": [
    "authorCitationsData_only_names = pd.read_csv('./data/authors_cite_2017_asiansAsNone_by_daniel.txt')\n",
    "# authorCitationsData_only_names = pd.read_csv('./data/authors_cite_2017_asiansAsNone.txt')"
   ]
  },
  {
   "cell_type": "code",
   "execution_count": 17,
   "metadata": {},
   "outputs": [
    {
     "name": "stderr",
     "output_type": "stream",
     "text": [
      "/home/danielkostic/anaconda3/lib/python3.6/site-packages/pandas/core/frame.py:3027: SettingWithCopyWarning: \n",
      "A value is trying to be set on a copy of a slice from a DataFrame\n",
      "\n",
      "See the caveats in the documentation: http://pandas.pydata.org/pandas-docs/stable/indexing.html#indexing-view-versus-copy\n",
      "  return super(DataFrame, self).rename(**kwargs)\n"
     ]
    }
   ],
   "source": [
    "authorCitationsData_only_names.rename(columns={'author_cited':'id2', 'author_citing':'id1', 'year_cit':'year'}, inplace=True)"
   ]
  },
  {
   "cell_type": "code",
   "execution_count": 20,
   "metadata": {},
   "outputs": [
    {
     "name": "stdout",
     "output_type": "stream",
     "text": [
      "(263409178, 3)\n"
     ]
    },
    {
     "data": {
      "text/html": [
       "<div>\n",
       "<style scoped>\n",
       "    .dataframe tbody tr th:only-of-type {\n",
       "        vertical-align: middle;\n",
       "    }\n",
       "\n",
       "    .dataframe tbody tr th {\n",
       "        vertical-align: top;\n",
       "    }\n",
       "\n",
       "    .dataframe thead th {\n",
       "        text-align: right;\n",
       "    }\n",
       "</style>\n",
       "<table border=\"1\" class=\"dataframe\">\n",
       "  <thead>\n",
       "    <tr style=\"text-align: right;\">\n",
       "      <th></th>\n",
       "      <th>id2</th>\n",
       "      <th>id1</th>\n",
       "      <th>year</th>\n",
       "    </tr>\n",
       "  </thead>\n",
       "  <tbody>\n",
       "    <tr>\n",
       "      <th>0</th>\n",
       "      <td>graeme earl</td>\n",
       "      <td>roberto scopigno</td>\n",
       "      <td>2015.0</td>\n",
       "    </tr>\n",
       "    <tr>\n",
       "      <th>1</th>\n",
       "      <td>graeme earl</td>\n",
       "      <td>matteo dellepiane</td>\n",
       "      <td>2015.0</td>\n",
       "    </tr>\n",
       "    <tr>\n",
       "      <th>2</th>\n",
       "      <td>graeme earl</td>\n",
       "      <td>eliana siotto</td>\n",
       "      <td>2015.0</td>\n",
       "    </tr>\n",
       "    <tr>\n",
       "      <th>3</th>\n",
       "      <td>graeme earl</td>\n",
       "      <td>marco callieri</td>\n",
       "      <td>2015.0</td>\n",
       "    </tr>\n",
       "    <tr>\n",
       "      <th>4</th>\n",
       "      <td>gareth beale</td>\n",
       "      <td>roberto scopigno</td>\n",
       "      <td>2015.0</td>\n",
       "    </tr>\n",
       "  </tbody>\n",
       "</table>\n",
       "</div>"
      ],
      "text/plain": [
       "            id2                id1    year\n",
       "0   graeme earl   roberto scopigno  2015.0\n",
       "1   graeme earl  matteo dellepiane  2015.0\n",
       "2   graeme earl      eliana siotto  2015.0\n",
       "3   graeme earl     marco callieri  2015.0\n",
       "4  gareth beale   roberto scopigno  2015.0"
      ]
     },
     "execution_count": 20,
     "metadata": {},
     "output_type": "execute_result"
    }
   ],
   "source": [
    "print(authorCitationsData_only_names.shape)\n",
    "authorCitationsData_only_names.head()"
   ]
  },
  {
   "cell_type": "code",
   "execution_count": 21,
   "metadata": {},
   "outputs": [],
   "source": [
    "final_citation_count = authorCitationsData_only_names.groupby('id2')['id1'].count()"
   ]
  },
  {
   "cell_type": "markdown",
   "metadata": {},
   "source": [
    "## Author career information"
   ]
  },
  {
   "cell_type": "code",
   "execution_count": 23,
   "metadata": {},
   "outputs": [],
   "source": [
    "credible_authors = pd.read_csv('data/authors-scientific-atleast-15-year.csv')"
   ]
  },
  {
   "cell_type": "code",
   "execution_count": 24,
   "metadata": {},
   "outputs": [],
   "source": [
    "credible_authors.set_index('author', inplace=True, )"
   ]
  },
  {
   "cell_type": "code",
   "execution_count": 25,
   "metadata": {},
   "outputs": [
    {
     "data": {
      "text/html": [
       "<div>\n",
       "<style scoped>\n",
       "    .dataframe tbody tr th:only-of-type {\n",
       "        vertical-align: middle;\n",
       "    }\n",
       "\n",
       "    .dataframe tbody tr th {\n",
       "        vertical-align: top;\n",
       "    }\n",
       "\n",
       "    .dataframe thead th {\n",
       "        text-align: right;\n",
       "    }\n",
       "</style>\n",
       "<table border=\"1\" class=\"dataframe\">\n",
       "  <thead>\n",
       "    <tr style=\"text-align: right;\">\n",
       "      <th></th>\n",
       "      <th>start_year</th>\n",
       "      <th>end_year</th>\n",
       "      <th>total_num_pub</th>\n",
       "      <th>career_length</th>\n",
       "    </tr>\n",
       "    <tr>\n",
       "      <th>author</th>\n",
       "      <th></th>\n",
       "      <th></th>\n",
       "      <th></th>\n",
       "      <th></th>\n",
       "    </tr>\n",
       "  </thead>\n",
       "  <tbody>\n",
       "    <tr>\n",
       "      <th>a min tjoa</th>\n",
       "      <td>1979</td>\n",
       "      <td>2017</td>\n",
       "      <td>191</td>\n",
       "      <td>38</td>\n",
       "    </tr>\n",
       "    <tr>\n",
       "      <th>a-xing zhu</th>\n",
       "      <td>1998</td>\n",
       "      <td>2017</td>\n",
       "      <td>22</td>\n",
       "      <td>19</td>\n",
       "    </tr>\n",
       "    <tr>\n",
       "      <th>a. a. (louis) beex</th>\n",
       "      <td>1980</td>\n",
       "      <td>2016</td>\n",
       "      <td>31</td>\n",
       "      <td>36</td>\n",
       "    </tr>\n",
       "    <tr>\n",
       "      <th>a. a. abouelsoud</th>\n",
       "      <td>1996</td>\n",
       "      <td>2016</td>\n",
       "      <td>10</td>\n",
       "      <td>20</td>\n",
       "    </tr>\n",
       "    <tr>\n",
       "      <th>a. a. ball</th>\n",
       "      <td>1988</td>\n",
       "      <td>2006</td>\n",
       "      <td>5</td>\n",
       "      <td>18</td>\n",
       "    </tr>\n",
       "    <tr>\n",
       "      <th>a. a. elsadany</th>\n",
       "      <td>2002</td>\n",
       "      <td>2017</td>\n",
       "      <td>7</td>\n",
       "      <td>15</td>\n",
       "    </tr>\n",
       "    <tr>\n",
       "      <th>a. a. goldstein</th>\n",
       "      <td>1977</td>\n",
       "      <td>1993</td>\n",
       "      <td>2</td>\n",
       "      <td>16</td>\n",
       "    </tr>\n",
       "    <tr>\n",
       "      <th>a. a. khan</th>\n",
       "      <td>1994</td>\n",
       "      <td>2016</td>\n",
       "      <td>9</td>\n",
       "      <td>22</td>\n",
       "    </tr>\n",
       "    <tr>\n",
       "      <th>a. a. naik</th>\n",
       "      <td>1992</td>\n",
       "      <td>2014</td>\n",
       "      <td>2</td>\n",
       "      <td>22</td>\n",
       "    </tr>\n",
       "    <tr>\n",
       "      <th>a. a. polezhaev</th>\n",
       "      <td>1992</td>\n",
       "      <td>2009</td>\n",
       "      <td>2</td>\n",
       "      <td>17</td>\n",
       "    </tr>\n",
       "  </tbody>\n",
       "</table>\n",
       "</div>"
      ],
      "text/plain": [
       "                    start_year  end_year  total_num_pub  career_length\n",
       "author                                                                \n",
       "a min tjoa                1979      2017            191             38\n",
       "a-xing zhu                1998      2017             22             19\n",
       "a. a. (louis) beex        1980      2016             31             36\n",
       "a. a. abouelsoud          1996      2016             10             20\n",
       "a. a. ball                1988      2006              5             18\n",
       "a. a. elsadany            2002      2017              7             15\n",
       "a. a. goldstein           1977      1993              2             16\n",
       "a. a. khan                1994      2016              9             22\n",
       "a. a. naik                1992      2014              2             22\n",
       "a. a. polezhaev           1992      2009              2             17"
      ]
     },
     "execution_count": 25,
     "metadata": {},
     "output_type": "execute_result"
    }
   ],
   "source": [
    "credible_authors.head(10)"
   ]
  },
  {
   "cell_type": "markdown",
   "metadata": {},
   "source": [
    "## Early career analysis"
   ]
  },
  {
   "cell_type": "code",
   "execution_count": 26,
   "metadata": {},
   "outputs": [],
   "source": [
    "# This part adds data to credible_authors file. This can be stored for later use. \n",
    "# At the moment, only career quality is done correct.\n",
    "# TODO fix final citation and career prod., and save all to new file"
   ]
  },
  {
   "cell_type": "code",
   "execution_count": 27,
   "metadata": {},
   "outputs": [],
   "source": [
    "EARLY_CAREER_LEN = 3"
   ]
  },
  {
   "cell_type": "code",
   "execution_count": 28,
   "metadata": {},
   "outputs": [],
   "source": [
    "def get_early_career_prod(row, num_years):\n",
    "    early_prod = 0\n",
    "    author = row.name\n",
    "    start_year = row['start_year']\n",
    "    year_num_pub = author_year_numPub[author]\n",
    "    for year in range(num_years):\n",
    "        if start_year + year in year_num_pub:\n",
    "            early_prod += year_num_pub[start_year + year]\n",
    "    return early_prod"
   ]
  },
  {
   "cell_type": "code",
   "execution_count": 29,
   "metadata": {},
   "outputs": [],
   "source": [
    "credible_authors['early_career_prod'] = credible_authors.apply(lambda x: get_early_career_prod(x, EARLY_CAREER_LEN), axis=1)"
   ]
  },
  {
   "cell_type": "code",
   "execution_count": 30,
   "metadata": {
    "code_folding": []
   },
   "outputs": [],
   "source": [
    "def get_early_career_quality(row, num_years):\n",
    "    early_pubs = []\n",
    "    author = row.name\n",
    "    start_year = row['start_year']\n",
    "    year_pubs = author_year_publications[author]\n",
    "    for year in range(num_years):\n",
    "        if start_year + year in year_pubs:\n",
    "            early_pubs.extend(year_pubs[start_year + year])\n",
    "#     print(early_pubs)\n",
    "    return sum([paper_citation_count[paper] for paper in early_pubs if paper in paper_citation_count])\n",
    "    # TODO finish this with citation data"
   ]
  },
  {
   "cell_type": "code",
   "execution_count": 31,
   "metadata": {},
   "outputs": [],
   "source": [
    "credible_authors['early_career_qual'] = credible_authors.apply(lambda x: get_early_career_quality(x, EARLY_CAREER_LEN), axis=1)"
   ]
  },
  {
   "cell_type": "code",
   "execution_count": 32,
   "metadata": {},
   "outputs": [],
   "source": [
    "credible_authors['final_citation_count'] = final_citation_count\n",
    "credible_authors['final_citation_count'] = credible_authors['final_citation_count'].fillna(0)"
   ]
  },
  {
   "cell_type": "markdown",
   "metadata": {
    "heading_collapsed": true
   },
   "source": [
    "## Test for errors in files"
   ]
  },
  {
   "cell_type": "code",
   "execution_count": null,
   "metadata": {
    "hidden": true
   },
   "outputs": [],
   "source": [
    "year_pubs = author_year_publications['manfeng hu']"
   ]
  },
  {
   "cell_type": "code",
   "execution_count": null,
   "metadata": {
    "hidden": true
   },
   "outputs": [],
   "source": [
    "year_pubs"
   ]
  },
  {
   "cell_type": "code",
   "execution_count": null,
   "metadata": {
    "hidden": true
   },
   "outputs": [],
   "source": [
    "get_early_career_quality(credible_authors.loc['manfeng hu'], 3)"
   ]
  },
  {
   "cell_type": "code",
   "execution_count": null,
   "metadata": {
    "hidden": true
   },
   "outputs": [],
   "source": [
    "print(authorPublicationData[authorPublicationData.author == 'martin raußen'].merge(paper_citation_count.to_frame(), left_on='pub_id', right_index=True))"
   ]
  },
  {
   "cell_type": "code",
   "execution_count": 59,
   "metadata": {
    "hidden": true,
    "scrolled": true
   },
   "outputs": [
    {
     "data": {
      "text/html": [
       "<div>\n",
       "<style scoped>\n",
       "    .dataframe tbody tr th:only-of-type {\n",
       "        vertical-align: middle;\n",
       "    }\n",
       "\n",
       "    .dataframe tbody tr th {\n",
       "        vertical-align: top;\n",
       "    }\n",
       "\n",
       "    .dataframe thead th {\n",
       "        text-align: right;\n",
       "    }\n",
       "</style>\n",
       "<table border=\"1\" class=\"dataframe\">\n",
       "  <thead>\n",
       "    <tr style=\"text-align: right;\">\n",
       "      <th></th>\n",
       "      <th>id2</th>\n",
       "      <th>id1</th>\n",
       "      <th>year</th>\n",
       "    </tr>\n",
       "  </thead>\n",
       "  <tbody>\n",
       "    <tr>\n",
       "      <th>93899524</th>\n",
       "      <td>martin raußen</td>\n",
       "      <td>peter mcburney</td>\n",
       "      <td>2002.0</td>\n",
       "    </tr>\n",
       "    <tr>\n",
       "      <th>93899525</th>\n",
       "      <td>martin raußen</td>\n",
       "      <td>simon parsons</td>\n",
       "      <td>2002.0</td>\n",
       "    </tr>\n",
       "    <tr>\n",
       "      <th>93899526</th>\n",
       "      <td>martin raußen</td>\n",
       "      <td>samuel mimram</td>\n",
       "      <td>2012.0</td>\n",
       "    </tr>\n",
       "    <tr>\n",
       "      <th>93899527</th>\n",
       "      <td>martin raußen</td>\n",
       "      <td>eric goubault</td>\n",
       "      <td>2012.0</td>\n",
       "    </tr>\n",
       "    <tr>\n",
       "      <th>93899528</th>\n",
       "      <td>martin raußen</td>\n",
       "      <td>emmanuel haucourt</td>\n",
       "      <td>2006.0</td>\n",
       "    </tr>\n",
       "    <tr>\n",
       "      <th>93899529</th>\n",
       "      <td>martin raußen</td>\n",
       "      <td>emmanuel haucourt</td>\n",
       "      <td>2004.0</td>\n",
       "    </tr>\n",
       "    <tr>\n",
       "      <th>93899530</th>\n",
       "      <td>martin raußen</td>\n",
       "      <td>eric goubault</td>\n",
       "      <td>2004.0</td>\n",
       "    </tr>\n",
       "    <tr>\n",
       "      <th>93899531</th>\n",
       "      <td>martin raußen</td>\n",
       "      <td>martin raussen</td>\n",
       "      <td>2012.0</td>\n",
       "    </tr>\n",
       "    <tr>\n",
       "      <th>93899532</th>\n",
       "      <td>martin raußen</td>\n",
       "      <td>rob j. van glabbeek</td>\n",
       "      <td>2005.0</td>\n",
       "    </tr>\n",
       "    <tr>\n",
       "      <th>93899533</th>\n",
       "      <td>martin raußen</td>\n",
       "      <td>dominic verity</td>\n",
       "      <td>2002.0</td>\n",
       "    </tr>\n",
       "    <tr>\n",
       "      <th>93899534</th>\n",
       "      <td>martin raußen</td>\n",
       "      <td>richard buckland</td>\n",
       "      <td>2002.0</td>\n",
       "    </tr>\n",
       "    <tr>\n",
       "      <th>93899535</th>\n",
       "      <td>martin raußen</td>\n",
       "      <td>michael johnson</td>\n",
       "      <td>2002.0</td>\n",
       "    </tr>\n",
       "    <tr>\n",
       "      <th>93899536</th>\n",
       "      <td>martin raußen</td>\n",
       "      <td>ömer egecioglu</td>\n",
       "      <td>2002.0</td>\n",
       "    </tr>\n",
       "    <tr>\n",
       "      <th>93899537</th>\n",
       "      <td>martin raußen</td>\n",
       "      <td>abdullah n. arslan</td>\n",
       "      <td>2002.0</td>\n",
       "    </tr>\n",
       "    <tr>\n",
       "      <th>93899538</th>\n",
       "      <td>martin raußen</td>\n",
       "      <td>martin raußen</td>\n",
       "      <td>2002.0</td>\n",
       "    </tr>\n",
       "    <tr>\n",
       "      <th>93899539</th>\n",
       "      <td>martin raußen</td>\n",
       "      <td>eric goubault</td>\n",
       "      <td>2002.0</td>\n",
       "    </tr>\n",
       "    <tr>\n",
       "      <th>206129384</th>\n",
       "      <td>martin raußen</td>\n",
       "      <td>samuel mimram</td>\n",
       "      <td>2014.0</td>\n",
       "    </tr>\n",
       "    <tr>\n",
       "      <th>206129385</th>\n",
       "      <td>martin raußen</td>\n",
       "      <td>christine tasson</td>\n",
       "      <td>2014.0</td>\n",
       "    </tr>\n",
       "    <tr>\n",
       "      <th>206129386</th>\n",
       "      <td>martin raußen</td>\n",
       "      <td>eric goubault</td>\n",
       "      <td>2014.0</td>\n",
       "    </tr>\n",
       "    <tr>\n",
       "      <th>206129387</th>\n",
       "      <td>martin raußen</td>\n",
       "      <td>samuel mimram</td>\n",
       "      <td>2013.0</td>\n",
       "    </tr>\n",
       "    <tr>\n",
       "      <th>206129388</th>\n",
       "      <td>martin raußen</td>\n",
       "      <td>tobias heindel</td>\n",
       "      <td>2013.0</td>\n",
       "    </tr>\n",
       "    <tr>\n",
       "      <th>206129389</th>\n",
       "      <td>martin raußen</td>\n",
       "      <td>eric goubault</td>\n",
       "      <td>2013.0</td>\n",
       "    </tr>\n",
       "    <tr>\n",
       "      <th>206129390</th>\n",
       "      <td>martin raußen</td>\n",
       "      <td>jörn w. janneck</td>\n",
       "      <td>2013.0</td>\n",
       "    </tr>\n",
       "    <tr>\n",
       "      <th>206129391</th>\n",
       "      <td>martin raußen</td>\n",
       "      <td>simone casale brunet</td>\n",
       "      <td>2013.0</td>\n",
       "    </tr>\n",
       "    <tr>\n",
       "      <th>206129392</th>\n",
       "      <td>martin raußen</td>\n",
       "      <td>claudio alberti</td>\n",
       "      <td>2013.0</td>\n",
       "    </tr>\n",
       "    <tr>\n",
       "      <th>206129393</th>\n",
       "      <td>martin raußen</td>\n",
       "      <td>marco mattavelli</td>\n",
       "      <td>2013.0</td>\n",
       "    </tr>\n",
       "    <tr>\n",
       "      <th>206129394</th>\n",
       "      <td>martin raußen</td>\n",
       "      <td>eric goubault</td>\n",
       "      <td>2013.0</td>\n",
       "    </tr>\n",
       "    <tr>\n",
       "      <th>206129395</th>\n",
       "      <td>martin raußen</td>\n",
       "      <td>jörn w. janneck</td>\n",
       "      <td>2013.0</td>\n",
       "    </tr>\n",
       "    <tr>\n",
       "      <th>206129396</th>\n",
       "      <td>martin raußen</td>\n",
       "      <td>simone casale brunet</td>\n",
       "      <td>2013.0</td>\n",
       "    </tr>\n",
       "    <tr>\n",
       "      <th>206129397</th>\n",
       "      <td>martin raußen</td>\n",
       "      <td>claudio alberti</td>\n",
       "      <td>2013.0</td>\n",
       "    </tr>\n",
       "    <tr>\n",
       "      <th>...</th>\n",
       "      <td>...</td>\n",
       "      <td>...</td>\n",
       "      <td>...</td>\n",
       "    </tr>\n",
       "    <tr>\n",
       "      <th>240076318</th>\n",
       "      <td>martin raußen</td>\n",
       "      <td>elena s. oshevskaya</td>\n",
       "      <td>2012.0</td>\n",
       "    </tr>\n",
       "    <tr>\n",
       "      <th>240076319</th>\n",
       "      <td>martin raußen</td>\n",
       "      <td>eike best</td>\n",
       "      <td>2012.0</td>\n",
       "    </tr>\n",
       "    <tr>\n",
       "      <th>257008429</th>\n",
       "      <td>martin raußen</td>\n",
       "      <td>luigi santocanale</td>\n",
       "      <td>2007.0</td>\n",
       "    </tr>\n",
       "    <tr>\n",
       "      <th>257008430</th>\n",
       "      <td>martin raußen</td>\n",
       "      <td>jeffrey h. johnson</td>\n",
       "      <td>2007.0</td>\n",
       "    </tr>\n",
       "    <tr>\n",
       "      <th>257008431</th>\n",
       "      <td>martin raußen</td>\n",
       "      <td>pejman iravani</td>\n",
       "      <td>2007.0</td>\n",
       "    </tr>\n",
       "    <tr>\n",
       "      <th>257008432</th>\n",
       "      <td>martin raußen</td>\n",
       "      <td>emmanuel haucourt</td>\n",
       "      <td>2006.0</td>\n",
       "    </tr>\n",
       "    <tr>\n",
       "      <th>257008433</th>\n",
       "      <td>martin raußen</td>\n",
       "      <td>emmanuel haucourt</td>\n",
       "      <td>2004.0</td>\n",
       "    </tr>\n",
       "    <tr>\n",
       "      <th>257008434</th>\n",
       "      <td>martin raußen</td>\n",
       "      <td>eric goubault</td>\n",
       "      <td>2004.0</td>\n",
       "    </tr>\n",
       "    <tr>\n",
       "      <th>257008435</th>\n",
       "      <td>martin raußen</td>\n",
       "      <td>lisbeth fajstrup</td>\n",
       "      <td>2006.0</td>\n",
       "    </tr>\n",
       "    <tr>\n",
       "      <th>257008436</th>\n",
       "      <td>martin raußen</td>\n",
       "      <td>rodrick wallace</td>\n",
       "      <td>2009.0</td>\n",
       "    </tr>\n",
       "    <tr>\n",
       "      <th>257008437</th>\n",
       "      <td>martin raußen</td>\n",
       "      <td>deborah wallace</td>\n",
       "      <td>2009.0</td>\n",
       "    </tr>\n",
       "    <tr>\n",
       "      <th>257008438</th>\n",
       "      <td>martin raußen</td>\n",
       "      <td>benjamin w. passer</td>\n",
       "      <td>2009.0</td>\n",
       "    </tr>\n",
       "    <tr>\n",
       "      <th>257008439</th>\n",
       "      <td>martin raußen</td>\n",
       "      <td>bruce m. mcmillin</td>\n",
       "      <td>2009.0</td>\n",
       "    </tr>\n",
       "    <tr>\n",
       "      <th>257008440</th>\n",
       "      <td>martin raußen</td>\n",
       "      <td>david a. cape</td>\n",
       "      <td>2009.0</td>\n",
       "    </tr>\n",
       "    <tr>\n",
       "      <th>257008441</th>\n",
       "      <td>martin raußen</td>\n",
       "      <td>mayur thakur</td>\n",
       "      <td>2009.0</td>\n",
       "    </tr>\n",
       "    <tr>\n",
       "      <th>257008442</th>\n",
       "      <td>martin raußen</td>\n",
       "      <td>rodrick wallace</td>\n",
       "      <td>2009.0</td>\n",
       "    </tr>\n",
       "    <tr>\n",
       "      <th>257008443</th>\n",
       "      <td>martin raußen</td>\n",
       "      <td>deborah wallace</td>\n",
       "      <td>2009.0</td>\n",
       "    </tr>\n",
       "    <tr>\n",
       "      <th>257008444</th>\n",
       "      <td>martin raußen</td>\n",
       "      <td>martin raussen</td>\n",
       "      <td>2007.0</td>\n",
       "    </tr>\n",
       "    <tr>\n",
       "      <th>257008445</th>\n",
       "      <td>martin raußen</td>\n",
       "      <td>bruce m. mcmillin</td>\n",
       "      <td>2009.0</td>\n",
       "    </tr>\n",
       "    <tr>\n",
       "      <th>257008446</th>\n",
       "      <td>martin raußen</td>\n",
       "      <td>david a. cape</td>\n",
       "      <td>2009.0</td>\n",
       "    </tr>\n",
       "    <tr>\n",
       "      <th>257008447</th>\n",
       "      <td>martin raußen</td>\n",
       "      <td>rob j. van glabbeek</td>\n",
       "      <td>2005.0</td>\n",
       "    </tr>\n",
       "    <tr>\n",
       "      <th>257008448</th>\n",
       "      <td>martin raußen</td>\n",
       "      <td>dominic verity</td>\n",
       "      <td>2002.0</td>\n",
       "    </tr>\n",
       "    <tr>\n",
       "      <th>257008449</th>\n",
       "      <td>martin raußen</td>\n",
       "      <td>richard buckland</td>\n",
       "      <td>2002.0</td>\n",
       "    </tr>\n",
       "    <tr>\n",
       "      <th>257008450</th>\n",
       "      <td>martin raußen</td>\n",
       "      <td>michael johnson</td>\n",
       "      <td>2002.0</td>\n",
       "    </tr>\n",
       "    <tr>\n",
       "      <th>257008451</th>\n",
       "      <td>martin raußen</td>\n",
       "      <td>emmanuel haucourt</td>\n",
       "      <td>2005.0</td>\n",
       "    </tr>\n",
       "    <tr>\n",
       "      <th>257008452</th>\n",
       "      <td>martin raußen</td>\n",
       "      <td>eric goubault</td>\n",
       "      <td>2005.0</td>\n",
       "    </tr>\n",
       "    <tr>\n",
       "      <th>257008453</th>\n",
       "      <td>martin raußen</td>\n",
       "      <td>nanci naomi arai</td>\n",
       "      <td>2008.0</td>\n",
       "    </tr>\n",
       "    <tr>\n",
       "      <th>257008454</th>\n",
       "      <td>martin raußen</td>\n",
       "      <td>miriam c. b. alves</td>\n",
       "      <td>2008.0</td>\n",
       "    </tr>\n",
       "    <tr>\n",
       "      <th>257008455</th>\n",
       "      <td>martin raußen</td>\n",
       "      <td>christine c. dantas</td>\n",
       "      <td>2008.0</td>\n",
       "    </tr>\n",
       "    <tr>\n",
       "      <th>257008456</th>\n",
       "      <td>martin raußen</td>\n",
       "      <td>rovedy b. da silva</td>\n",
       "      <td>2008.0</td>\n",
       "    </tr>\n",
       "  </tbody>\n",
       "</table>\n",
       "<p>126 rows × 3 columns</p>\n",
       "</div>"
      ],
      "text/plain": [
       "                     id2                   id1    year\n",
       "93899524   martin raußen        peter mcburney  2002.0\n",
       "93899525   martin raußen         simon parsons  2002.0\n",
       "93899526   martin raußen         samuel mimram  2012.0\n",
       "93899527   martin raußen         eric goubault  2012.0\n",
       "93899528   martin raußen     emmanuel haucourt  2006.0\n",
       "93899529   martin raußen     emmanuel haucourt  2004.0\n",
       "93899530   martin raußen         eric goubault  2004.0\n",
       "93899531   martin raußen        martin raussen  2012.0\n",
       "93899532   martin raußen   rob j. van glabbeek  2005.0\n",
       "93899533   martin raußen        dominic verity  2002.0\n",
       "93899534   martin raußen      richard buckland  2002.0\n",
       "93899535   martin raußen       michael johnson  2002.0\n",
       "93899536   martin raußen        ömer egecioglu  2002.0\n",
       "93899537   martin raußen    abdullah n. arslan  2002.0\n",
       "93899538   martin raußen         martin raußen  2002.0\n",
       "93899539   martin raußen         eric goubault  2002.0\n",
       "206129384  martin raußen         samuel mimram  2014.0\n",
       "206129385  martin raußen      christine tasson  2014.0\n",
       "206129386  martin raußen         eric goubault  2014.0\n",
       "206129387  martin raußen         samuel mimram  2013.0\n",
       "206129388  martin raußen        tobias heindel  2013.0\n",
       "206129389  martin raußen         eric goubault  2013.0\n",
       "206129390  martin raußen       jörn w. janneck  2013.0\n",
       "206129391  martin raußen  simone casale brunet  2013.0\n",
       "206129392  martin raußen       claudio alberti  2013.0\n",
       "206129393  martin raußen      marco mattavelli  2013.0\n",
       "206129394  martin raußen         eric goubault  2013.0\n",
       "206129395  martin raußen       jörn w. janneck  2013.0\n",
       "206129396  martin raußen  simone casale brunet  2013.0\n",
       "206129397  martin raußen       claudio alberti  2013.0\n",
       "...                  ...                   ...     ...\n",
       "240076318  martin raußen   elena s. oshevskaya  2012.0\n",
       "240076319  martin raußen             eike best  2012.0\n",
       "257008429  martin raußen     luigi santocanale  2007.0\n",
       "257008430  martin raußen    jeffrey h. johnson  2007.0\n",
       "257008431  martin raußen        pejman iravani  2007.0\n",
       "257008432  martin raußen     emmanuel haucourt  2006.0\n",
       "257008433  martin raußen     emmanuel haucourt  2004.0\n",
       "257008434  martin raußen         eric goubault  2004.0\n",
       "257008435  martin raußen      lisbeth fajstrup  2006.0\n",
       "257008436  martin raußen       rodrick wallace  2009.0\n",
       "257008437  martin raußen       deborah wallace  2009.0\n",
       "257008438  martin raußen    benjamin w. passer  2009.0\n",
       "257008439  martin raußen     bruce m. mcmillin  2009.0\n",
       "257008440  martin raußen         david a. cape  2009.0\n",
       "257008441  martin raußen          mayur thakur  2009.0\n",
       "257008442  martin raußen       rodrick wallace  2009.0\n",
       "257008443  martin raußen       deborah wallace  2009.0\n",
       "257008444  martin raußen        martin raussen  2007.0\n",
       "257008445  martin raußen     bruce m. mcmillin  2009.0\n",
       "257008446  martin raußen         david a. cape  2009.0\n",
       "257008447  martin raußen   rob j. van glabbeek  2005.0\n",
       "257008448  martin raußen        dominic verity  2002.0\n",
       "257008449  martin raußen      richard buckland  2002.0\n",
       "257008450  martin raußen       michael johnson  2002.0\n",
       "257008451  martin raußen     emmanuel haucourt  2005.0\n",
       "257008452  martin raußen         eric goubault  2005.0\n",
       "257008453  martin raußen      nanci naomi arai  2008.0\n",
       "257008454  martin raußen    miriam c. b. alves  2008.0\n",
       "257008455  martin raußen   christine c. dantas  2008.0\n",
       "257008456  martin raußen    rovedy b. da silva  2008.0\n",
       "\n",
       "[126 rows x 3 columns]"
      ]
     },
     "execution_count": 59,
     "metadata": {},
     "output_type": "execute_result"
    }
   ],
   "source": [
    "authorCitationsData_only_names[authorCitationsData_only_names.id2 == 'martin raußen']"
   ]
  },
  {
   "cell_type": "code",
   "execution_count": 58,
   "metadata": {
    "hidden": true
   },
   "outputs": [
    {
     "data": {
      "text/plain": [
       "126"
      ]
     },
     "execution_count": 58,
     "metadata": {},
     "output_type": "execute_result"
    }
   ],
   "source": [
    "final_citation_count['martin raußen']"
   ]
  },
  {
   "cell_type": "code",
   "execution_count": null,
   "metadata": {
    "hidden": true
   },
   "outputs": [],
   "source": [
    "paper_citation_count['d2d9c3dc-852f-41f5-badb-b6113810edac']"
   ]
  },
  {
   "cell_type": "code",
   "execution_count": 57,
   "metadata": {
    "hidden": true
   },
   "outputs": [
    {
     "data": {
      "text/plain": [
       "(0, 7)"
      ]
     },
     "execution_count": 57,
     "metadata": {},
     "output_type": "execute_result"
    }
   ],
   "source": [
    "credible_authors[credible_authors.final_citation_count < credible_authors.early_career_qual].shape"
   ]
  },
  {
   "cell_type": "code",
   "execution_count": 55,
   "metadata": {
    "hidden": true
   },
   "outputs": [],
   "source": [
    "authors_50k = credible_authors[credible_authors['final_citation_count'] > 49000].index"
   ]
  },
  {
   "cell_type": "code",
   "execution_count": 56,
   "metadata": {
    "hidden": true
   },
   "outputs": [
    {
     "data": {
      "text/plain": [
       "Index(['robert tappan morris', 'h. vincent poor', 'michael i. jordan',\n",
       "       'hector garcia-molina', 'jitendra malik', 'thomas wiegand',\n",
       "       'david g. lowe', 'takeo kanade', 'alan c. bovik', 'andrew mccallum',\n",
       "       'andrew y. ng', 'philip s. yu', 'wolfram burgard', 'matti pietikäinen',\n",
       "       'ian f. akyildiz', 'hans-peter kriegel', 'luc j. van gool',\n",
       "       'georgios b. giannakis', 'cordelia schmid', 'donald f. towsley',\n",
       "       'anil k. jain 1', 'geoffrey e. hinton', 'robert e. schapire',\n",
       "       'sebastian thrun', 'ian t. foster', 'hari balakrishnan',\n",
       "       'andrew zisserman', 'chih-jen lin', 'pietro perona', 'trevor darrell',\n",
       "       'david e. culler', 'scott shenker', 'bill triggs', 'christos faloutsos',\n",
       "       'rakesh agrawal', 'emmanuel j. candès', 'rajkumar buyya',\n",
       "       'jeffrey g. andrews', 'yoshua bengio', 'david r. karger',\n",
       "       'jiawei han 1', 'deborah estrin', 'francisco herrera',\n",
       "       'richard szeliski', 'samuel madden', 'michael j. franklin',\n",
       "       'bernhard schölkopf', 'jon m. kleinberg', 'm. frans kaashoek',\n",
       "       'ion stoica', 'hongjiang zhang', 'adrian perrig', 'shuicheng yan',\n",
       "       'alexander j. smola'],\n",
       "      dtype='object', name='author')"
      ]
     },
     "execution_count": 56,
     "metadata": {},
     "output_type": "execute_result"
    }
   ],
   "source": [
    "authors_50k"
   ]
  },
  {
   "cell_type": "code",
   "execution_count": null,
   "metadata": {
    "hidden": true
   },
   "outputs": [],
   "source": [
    "#credible_authors.drop(authors_50k, inplace=True)"
   ]
  },
  {
   "cell_type": "markdown",
   "metadata": {},
   "source": [
    "## Citations distribution (based on names file)"
   ]
  },
  {
   "cell_type": "code",
   "execution_count": 33,
   "metadata": {},
   "outputs": [],
   "source": [
    "citation_distribution = credible_authors['final_citation_count'].value_counts().sort_index()"
   ]
  },
  {
   "cell_type": "code",
   "execution_count": 45,
   "metadata": {},
   "outputs": [
    {
     "data": {
      "image/png": "[encoded data removed]",
      "text/plain": [
       "<matplotlib.figure.Figure at 0x7f488073f630>"
      ]
     },
     "metadata": {},
     "output_type": "display_data"
    }
   ],
   "source": [
    "plt.loglog(citation_distribution.index, citation_distribution.values)\n",
    "plt.xlabel('Num citations')\n",
    "plt.ylabel('Frequency')\n",
    "plt.show()"
   ]
  },
  {
   "cell_type": "markdown",
   "metadata": {},
   "source": [
    "## Early Career Prod. vs Final Success (names file)"
   ]
  },
  {
   "cell_type": "code",
   "execution_count": 46,
   "metadata": {},
   "outputs": [],
   "source": [
    "credible_authors.sort_values(by='early_career_prod', inplace=True)"
   ]
  },
  {
   "cell_type": "code",
   "execution_count": 47,
   "metadata": {},
   "outputs": [],
   "source": [
    "x = credible_authors['early_career_prod']\n",
    "y = credible_authors['final_citation_count']"
   ]
  },
  {
   "cell_type": "code",
   "execution_count": 48,
   "metadata": {
    "scrolled": false
   },
   "outputs": [
    {
     "data": {
      "image/png": "[encoded data removed]",
      "text/plain": [
       "<matplotlib.figure.Figure at 0x7f4880548550>"
      ]
     },
     "metadata": {},
     "output_type": "display_data"
    }
   ],
   "source": [
    "fig, ax = plt.subplots()\n",
    "plt.scatter(x, y)\n",
    "fit = np.polyfit(x, y, deg=1)\n",
    "ax.plot(x, fit[0] * x + fit[1], color='red')\n",
    "plt.xlabel('Early Career Productivity')\n",
    "plt.ylabel('Final Success')\n",
    "# plt.xlim(0, 50)\n",
    "# plt.ylim(0,200)\n",
    "plt.show()"
   ]
  },
  {
   "cell_type": "code",
   "execution_count": 49,
   "metadata": {},
   "outputs": [],
   "source": [
    "credible_authors_no_uncited = credible_authors.dropna()"
   ]
  },
  {
   "cell_type": "code",
   "execution_count": 50,
   "metadata": {},
   "outputs": [],
   "source": [
    "x = credible_authors_no_uncited['early_career_prod']\n",
    "y = credible_authors_no_uncited['final_citation_count']"
   ]
  },
  {
   "cell_type": "code",
   "execution_count": 51,
   "metadata": {},
   "outputs": [
    {
     "name": "stdout",
     "output_type": "stream",
     "text": [
      "0.25646353991349796\n",
      "423.91522495074787 245.0100726810207\n"
     ]
    }
   ],
   "source": [
    "slope, intercept, r_value, p_value, std_err = scipy.stats.linregress(x, y)\n",
    "print(r_value)\n",
    "print(slope, intercept)"
   ]
  },
  {
   "cell_type": "code",
   "execution_count": 52,
   "metadata": {
    "scrolled": false
   },
   "outputs": [
    {
     "data": {
      "image/png": "[encoded data removed]",
      "text/plain": [
       "<matplotlib.figure.Figure at 0x7f488054f400>"
      ]
     },
     "metadata": {},
     "output_type": "display_data"
    }
   ],
   "source": [
    "fig, axs = plt.subplots()\n",
    "axs.hist2d(x, y, bins=40, norm=colors.LogNorm())\n",
    "plt.show()"
   ]
  },
  {
   "cell_type": "markdown",
   "metadata": {},
   "source": [
    "## Early Career Prod. vs Early Career Qual. (IDs file)"
   ]
  },
  {
   "cell_type": "code",
   "execution_count": 53,
   "metadata": {},
   "outputs": [],
   "source": [
    "credible_authors.sort_values(by='early_career_prod', inplace=True)"
   ]
  },
  {
   "cell_type": "code",
   "execution_count": 54,
   "metadata": {},
   "outputs": [
    {
     "data": {
      "image/png": "[encoded data removed]",
      "text/plain": [
       "<matplotlib.figure.Figure at 0x7f488070bd68>"
      ]
     },
     "metadata": {},
     "output_type": "display_data"
    }
   ],
   "source": [
    "plt.scatter(credible_authors['early_career_prod'], credible_authors['early_career_qual'])\n",
    "plt.xlabel('Early Career Productivity')\n",
    "plt.ylabel('Early Career Quality')\n",
    "plt.show()"
   ]
  },
  {
   "cell_type": "code",
   "execution_count": null,
   "metadata": {},
   "outputs": [],
   "source": []
  }
 ],
 "metadata": {
  "kernelspec": {
   "display_name": "Python 3",
   "language": "python",
   "name": "python3"
  },
  "language_info": {
   "codemirror_mode": {
    "name": "ipython",
    "version": 3
   },
   "file_extension": ".py",
   "mimetype": "text/x-python",
   "name": "python",
   "nbconvert_exporter": "python",
   "pygments_lexer": "ipython3",
   "version": "3.6.4"
  }
 },
 "nbformat": 4,
 "nbformat_minor": 2
}
