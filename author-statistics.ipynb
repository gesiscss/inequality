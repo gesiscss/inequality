{
 "cells": [
  {
   "cell_type": "code",
   "execution_count": 18,
   "metadata": {
    "collapsed": true
   },
   "outputs": [],
   "source": [
    "import pandas as pd\n",
    "import numpy as np\n",
    "import matplotlib.pyplot as plt\n",
    "%matplotlib inline\n",
    "import timeit\n",
    "import os.path"
   ]
  },
  {
   "cell_type": "code",
   "execution_count": 19,
   "metadata": {},
   "outputs": [
    {
     "name": "stdout",
     "output_type": "stream",
     "text": [
      "Start Time (in sec) -  5792.536963300895\n"
     ]
    }
   ],
   "source": [
    "start_time = timeit.default_timer()\n",
    "print('Start Time (in sec) - ',start_time)"
   ]
  },
  {
   "cell_type": "code",
   "execution_count": 20,
   "metadata": {},
   "outputs": [
    {
     "data": {
      "text/html": [
       "<div>\n",
       "<style>\n",
       "    .dataframe thead tr:only-child th {\n",
       "        text-align: right;\n",
       "    }\n",
       "\n",
       "    .dataframe thead th {\n",
       "        text-align: left;\n",
       "    }\n",
       "\n",
       "    .dataframe tbody tr th {\n",
       "        vertical-align: top;\n",
       "    }\n",
       "</style>\n",
       "<table border=\"1\" class=\"dataframe\">\n",
       "  <thead>\n",
       "    <tr style=\"text-align: right;\">\n",
       "      <th></th>\n",
       "      <th>author</th>\n",
       "      <th>year</th>\n",
       "      <th>pub_id</th>\n",
       "    </tr>\n",
       "  </thead>\n",
       "  <tbody>\n",
       "    <tr>\n",
       "      <th>0</th>\n",
       "      <td>kim l. blackwell</td>\n",
       "      <td>2014</td>\n",
       "      <td>55503da645ce0a409eb273e8</td>\n",
       "    </tr>\n",
       "    <tr>\n",
       "      <th>1</th>\n",
       "      <td>nima mesgarani</td>\n",
       "      <td>2014</td>\n",
       "      <td>55503da645ce0a409eb273e9</td>\n",
       "    </tr>\n",
       "    <tr>\n",
       "      <th>2</th>\n",
       "      <td>james j. abbas</td>\n",
       "      <td>2014</td>\n",
       "      <td>55503da645ce0a409eb273ea</td>\n",
       "    </tr>\n",
       "    <tr>\n",
       "      <th>3</th>\n",
       "      <td>eberhart zrenner</td>\n",
       "      <td>2014</td>\n",
       "      <td>55503da645ce0a409eb273ec</td>\n",
       "    </tr>\n",
       "    <tr>\n",
       "      <th>4</th>\n",
       "      <td>jonathan rubin</td>\n",
       "      <td>2014</td>\n",
       "      <td>55503da645ce0a409eb273e0</td>\n",
       "    </tr>\n",
       "  </tbody>\n",
       "</table>\n",
       "</div>"
      ],
      "text/plain": [
       "             author  year                    pub_id\n",
       "0  kim l. blackwell  2014  55503da645ce0a409eb273e8\n",
       "1    nima mesgarani  2014  55503da645ce0a409eb273e9\n",
       "2    james j. abbas  2014  55503da645ce0a409eb273ea\n",
       "3  eberhart zrenner  2014  55503da645ce0a409eb273ec\n",
       "4    jonathan rubin  2014  55503da645ce0a409eb273e0"
      ]
     },
     "execution_count": 20,
     "metadata": {},
     "output_type": "execute_result"
    }
   ],
   "source": [
    "authorPublicationsData = pd.read_csv('data/author_publications_1970_2016_asiansAsNone.txt')\n",
    "#authorPublicationsData = pd.read_csv('data/author_publications_1970_2000_asiansAsNone.csv')\n",
    "# To speed up the implementation, if required consider a small dataset\n",
    "# Look at 'shorten-dblp-data-for-faster-access' notebook to creat a smaller dataset\n",
    "authorPublicationsData.head()"
   ]
  },
  {
   "cell_type": "markdown",
   "metadata": {},
   "source": [
    "### 1.7 million authors and 3 million publications over 47 years (1970 to 2016) are available from the data"
   ]
  },
  {
   "cell_type": "code",
   "execution_count": 21,
   "metadata": {},
   "outputs": [
    {
     "name": "stdout",
     "output_type": "stream",
     "text": [
      "Authors# -  1708185\n",
      "Year# -  47\n",
      "Publications# -  3085544\n"
     ]
    }
   ],
   "source": [
    "#Unique values\n",
    "print('Authors# - ',authorPublicationsData['author'].nunique())\n",
    "print('Year# - ',authorPublicationsData['year'].nunique())\n",
    "print('Publications# - ',authorPublicationsData['pub_id'].nunique())\n",
    "\n",
    "# how many unique publications per author? In how many unique years was an author active\n",
    "# this takes some time, but we can save result to file\n",
    "file = \"./data/author_unique_pubs_and_years2.csv\"\n",
    "from pathlib import Path\n",
    "\n",
    "\n",
    "if not os.path.exists(file):\n",
    "    print(\"File does not exists - creating !!!\")\n",
    "    table = authorPublicationsData.groupby(\"author\").aggregate({'year': pd.Series.nunique, 'pub_id': pd.Series.nunique})\n",
    "    table.head()\n",
    "    table.to_csv(file, header=True, encoding=\"utf-8\")\n",
    "else:\n",
    "    table = pd.read_csv(file, encoding=\"utf-8\", header=0)"
   ]
  },
  {
   "cell_type": "code",
   "execution_count": 22,
   "metadata": {},
   "outputs": [
    {
     "data": {
      "text/html": [
       "<div>\n",
       "<style>\n",
       "    .dataframe thead tr:only-child th {\n",
       "        text-align: right;\n",
       "    }\n",
       "\n",
       "    .dataframe thead th {\n",
       "        text-align: left;\n",
       "    }\n",
       "\n",
       "    .dataframe tbody tr th {\n",
       "        vertical-align: top;\n",
       "    }\n",
       "</style>\n",
       "<table border=\"1\" class=\"dataframe\">\n",
       "  <thead>\n",
       "    <tr style=\"text-align: right;\">\n",
       "      <th></th>\n",
       "      <th>author</th>\n",
       "      <th>year</th>\n",
       "      <th>pub_id</th>\n",
       "    </tr>\n",
       "  </thead>\n",
       "  <tbody>\n",
       "    <tr>\n",
       "      <th>0</th>\n",
       "      <td>'maseka lesaoana</td>\n",
       "      <td>2</td>\n",
       "      <td>2</td>\n",
       "    </tr>\n",
       "    <tr>\n",
       "      <th>1</th>\n",
       "      <td>(max) zong-ming cheng</td>\n",
       "      <td>2</td>\n",
       "      <td>2</td>\n",
       "    </tr>\n",
       "    <tr>\n",
       "      <th>2</th>\n",
       "      <td>(zhou) bryan bai</td>\n",
       "      <td>2</td>\n",
       "      <td>2</td>\n",
       "    </tr>\n",
       "    <tr>\n",
       "      <th>3</th>\n",
       "      <td>a lun</td>\n",
       "      <td>1</td>\n",
       "      <td>1</td>\n",
       "    </tr>\n",
       "    <tr>\n",
       "      <th>4</th>\n",
       "      <td>a min tjoa</td>\n",
       "      <td>28</td>\n",
       "      <td>191</td>\n",
       "    </tr>\n",
       "    <tr>\n",
       "      <th>5</th>\n",
       "      <td>a'fza shafie</td>\n",
       "      <td>1</td>\n",
       "      <td>1</td>\n",
       "    </tr>\n",
       "    <tr>\n",
       "      <th>6</th>\n",
       "      <td>a'zraa afhzan ab rahim</td>\n",
       "      <td>1</td>\n",
       "      <td>1</td>\n",
       "    </tr>\n",
       "    <tr>\n",
       "      <th>7</th>\n",
       "      <td>a-chuan hsueh</td>\n",
       "      <td>2</td>\n",
       "      <td>2</td>\n",
       "    </tr>\n",
       "    <tr>\n",
       "      <th>8</th>\n",
       "      <td>a-imam al-sammak</td>\n",
       "      <td>4</td>\n",
       "      <td>6</td>\n",
       "    </tr>\n",
       "    <tr>\n",
       "      <th>9</th>\n",
       "      <td>a-nasser ansari</td>\n",
       "      <td>6</td>\n",
       "      <td>10</td>\n",
       "    </tr>\n",
       "    <tr>\n",
       "      <th>10</th>\n",
       "      <td>a-ning du</td>\n",
       "      <td>1</td>\n",
       "      <td>1</td>\n",
       "    </tr>\n",
       "    <tr>\n",
       "      <th>11</th>\n",
       "      <td>a-qun deng</td>\n",
       "      <td>1</td>\n",
       "      <td>1</td>\n",
       "    </tr>\n",
       "    <tr>\n",
       "      <th>12</th>\n",
       "      <td>a-ra cho</td>\n",
       "      <td>2</td>\n",
       "      <td>4</td>\n",
       "    </tr>\n",
       "    <tr>\n",
       "      <th>13</th>\n",
       "      <td>a-ram choi</td>\n",
       "      <td>1</td>\n",
       "      <td>2</td>\n",
       "    </tr>\n",
       "    <tr>\n",
       "      <th>14</th>\n",
       "      <td>a-rang jeong</td>\n",
       "      <td>1</td>\n",
       "      <td>1</td>\n",
       "    </tr>\n",
       "    <tr>\n",
       "      <th>15</th>\n",
       "      <td>a-reum bae</td>\n",
       "      <td>1</td>\n",
       "      <td>1</td>\n",
       "    </tr>\n",
       "    <tr>\n",
       "      <th>16</th>\n",
       "      <td>a-rom so</td>\n",
       "      <td>1</td>\n",
       "      <td>1</td>\n",
       "    </tr>\n",
       "    <tr>\n",
       "      <th>17</th>\n",
       "      <td>a-rum jun</td>\n",
       "      <td>2</td>\n",
       "      <td>3</td>\n",
       "    </tr>\n",
       "    <tr>\n",
       "      <th>18</th>\n",
       "      <td>a-xing zhu</td>\n",
       "      <td>10</td>\n",
       "      <td>16</td>\n",
       "    </tr>\n",
       "    <tr>\n",
       "      <th>19</th>\n",
       "      <td>a-yeon park</td>\n",
       "      <td>2</td>\n",
       "      <td>3</td>\n",
       "    </tr>\n",
       "  </tbody>\n",
       "</table>\n",
       "</div>"
      ],
      "text/plain": [
       "                    author  year  pub_id\n",
       "0         'maseka lesaoana     2       2\n",
       "1    (max) zong-ming cheng     2       2\n",
       "2         (zhou) bryan bai     2       2\n",
       "3                    a lun     1       1\n",
       "4               a min tjoa    28     191\n",
       "5             a'fza shafie     1       1\n",
       "6   a'zraa afhzan ab rahim     1       1\n",
       "7            a-chuan hsueh     2       2\n",
       "8         a-imam al-sammak     4       6\n",
       "9          a-nasser ansari     6      10\n",
       "10               a-ning du     1       1\n",
       "11              a-qun deng     1       1\n",
       "12                a-ra cho     2       4\n",
       "13              a-ram choi     1       2\n",
       "14            a-rang jeong     1       1\n",
       "15              a-reum bae     1       1\n",
       "16                a-rom so     1       1\n",
       "17               a-rum jun     2       3\n",
       "18              a-xing zhu    10      16\n",
       "19             a-yeon park     2       3"
      ]
     },
     "execution_count": 22,
     "metadata": {},
     "output_type": "execute_result"
    }
   ],
   "source": [
    "table.head(20)"
   ]
  },
  {
   "cell_type": "code",
   "execution_count": 23,
   "metadata": {},
   "outputs": [
    {
     "name": "stdout",
     "output_type": "stream",
     "text": [
      "[1970 1971 1972 1973 1974 1975 1976 1977 1978 1979 1980 1981 1982 1983 1984\n",
      " 1985 1986 1987 1988 1989 1990 1991 1992 1993 1994 1995 1996 1997 1998 1999\n",
      " 2000 2001 2002 2003 2004 2005 2006 2007 2008 2009 2010 2011 2012 2013 2014\n",
      " 2015 2016]\n"
     ]
    }
   ],
   "source": [
    "#get the year list - as it helps to enumerate and find gini co-efficient for each year (irrespective of the dataset)\n",
    "years = np.sort(authorPublicationsData['year'].unique())\n",
    "print(years)\n",
    "#print(type(years))"
   ]
  },
  {
   "cell_type": "markdown",
   "metadata": {},
   "source": [
    "### Cohort Size group (whether individual years are good enough or clubs of few years are required)\n",
    "\n",
    "* A cohort is a set of researchers that started their career in the same year. We use the first publication of a research as proxy for his/her career start. Since we want to follow researchers over time, we only include researchers that were active over at least 10 years (i.e., they published at least 2 papers, their first one and another one 10 years later)\n",
    "* What is the size of each cohort?\n",
    "* Record for those people how many papers they publish in each year, how many citations they have received, their h-index\n",
    "\n",
    "\n",
    "#### First and foremost - let us look at the performance of researchers\n",
    "#### We need to remove the dropouts based on following condition\n",
    "##### researchers whose career span is less than 10 years \n",
    "##### and has published less than 10 papers (necessary ? - as of now keeping it)"
   ]
  },
  {
   "cell_type": "code",
   "execution_count": 24,
   "metadata": {
    "collapsed": true
   },
   "outputs": [],
   "source": [
    "#Group by author\n",
    "groupByAuthor = authorPublicationsData.groupby(['author'])\n",
    "# find the minimum and maximum year of publications and its count for each author\n",
    "groupByAuthorMinYearData = groupByAuthor['year'].min()\n",
    "groupByAuthorMaxYearData = groupByAuthor['year'].max()\n",
    "groupByAuthorCountPublicationsData = groupByAuthor['pub_id'].count()"
   ]
  },
  {
   "cell_type": "code",
   "execution_count": 25,
   "metadata": {},
   "outputs": [
    {
     "name": "stdout",
     "output_type": "stream",
     "text": [
      "                  author  start_year  end_year  pub_count\n",
      "0       'maseka lesaoana        2001      2015          2\n",
      "1  (max) zong-ming cheng        2009      2011          2\n",
      "2       (zhou) bryan bai        2011      2012          2\n",
      "3                  a lun        2010      2010          1\n",
      "4             a min tjoa        1979      2015        193\n"
     ]
    }
   ],
   "source": [
    "# merge all the dataframes into one and filter based on conditions\n",
    "authorScientificYearStart = groupByAuthorMinYearData.reset_index()\n",
    "authorScientificYearStart.rename(inplace=True, columns={'author':'author','year':'start_year'})\n",
    "authorScientificYearEnd = groupByAuthorMaxYearData.reset_index()\n",
    "authorScientificYearEnd.rename(inplace=True, columns={'author':'author','year':'end_year'})\n",
    "authorPublishCount = groupByAuthorCountPublicationsData.reset_index()\n",
    "authorPublishCount.rename(inplace=True, columns={'author':'author','pub_id':'pub_count'})\n",
    "\n",
    "authorScientificYearStartEnd = authorScientificYearStart.merge(authorScientificYearEnd,on='author')\n",
    "authorScientificYearStartEnd_publish_count = authorScientificYearStartEnd.merge(authorPublishCount,on='author')\n",
    "\n",
    "#save all the data - might be useful\n",
    "authorScientificYearStartEnd_publish_count.to_csv('./data/authors-scientific-start-end-year-publish-count.csv',\n",
    "                                                  index=False, encoding='utf-8')\n",
    "\n",
    "print(authorScientificYearStartEnd_publish_count.head())\n",
    "authorScientificYearStartEnd_publish_count = authorScientificYearStartEnd_publish_count[authorScientificYearStartEnd_publish_count.start_year > 1900]"
   ]
  },
  {
   "cell_type": "markdown",
   "metadata": {},
   "source": [
    "##  How many scientists start in each year"
   ]
  },
  {
   "cell_type": "code",
   "execution_count": 27,
   "metadata": {},
   "outputs": [
    {
     "name": "stdout",
     "output_type": "stream",
     "text": [
      "            author  end_year  pub_count\n",
      "start_year                             \n",
      "1970          1835      1835       1835\n",
      "1971          2092      2092       2092\n",
      "1972          1982      1982       1982\n",
      "1973          2299      2299       2299\n",
      "1974          2646      2646       2646\n",
      "count        47.000000\n",
      "mean      36344.361702\n",
      "std       39794.686639\n",
      "min        1835.000000\n",
      "25%        4488.500000\n",
      "50%       20800.000000\n",
      "75%       61822.000000\n",
      "max      118000.000000\n",
      "Name: author, dtype: float64\n"
     ]
    }
   ],
   "source": [
    "# how many scientists start in each year\n",
    "num_newbies = authorScientificYearStartEnd_publish_count.groupby(\"start_year\").count()\n",
    "\n",
    "print(num_newbies.head())\n",
    "print(num_newbies[\"author\"].describe())"
   ]
  },
  {
   "cell_type": "markdown",
   "metadata": {},
   "source": []
  },
  {
   "cell_type": "markdown",
   "metadata": {},
   "source": [
    "### Filter Cohorts: remove authors who have less than N years of career \n"
   ]
  },
  {
   "cell_type": "code",
   "execution_count": 28,
   "metadata": {},
   "outputs": [
    {
     "name": "stdout",
     "output_type": "stream",
     "text": [
      "count      32.00000\n",
      "mean     3465.25000\n",
      "std      2522.70257\n",
      "min       778.00000\n",
      "25%      1172.50000\n",
      "50%      2582.00000\n",
      "75%      5990.00000\n",
      "max      7624.00000\n",
      "Name: num_author_filtered, dtype: float64\n",
      "[1970 1971 1972 1973 1974 1975 1976 1977 1978 1979 1980 1981 1982 1983 1984\n",
      " 1985 1986 1987 1988 1989 1990 1991 1992 1993 1994 1995 1996 1997 1998 1999\n",
      " 2000 2001]\n"
     ]
    },
    {
     "data": {
      "text/plain": [
       "<matplotlib.legend.Legend at 0xedace48>"
      ]
     },
     "execution_count": 28,
     "metadata": {},
     "output_type": "execute_result"
    },
    {
     "data": {
      "image/png": "[encoded data removed]",
      "text/plain": [
       "<matplotlib.figure.Figure at 0xa4e8438>"
      ]
     },
     "metadata": {},
     "output_type": "display_data"
    }
   ],
   "source": [
    "N = 15\n",
    "\n",
    "authorScientificYearStartEnd_publish_count[\"career_length\"] = authorScientificYearStartEnd_publish_count['end_year'] - authorScientificYearStartEnd_publish_count['start_year']   \n",
    "#print(authorScientificYearStartEnd_publish_count.head())\n",
    "\n",
    "credible_authors = authorScientificYearStartEnd_publish_count[authorScientificYearStartEnd_publish_count.career_length >= N ]\n",
    "#print(credible_authors.head())\n",
    "\n",
    "credible_cohort = credible_authors.groupby(\"start_year\").count()\n",
    "credible_cohort.rename(columns = {'author':'num_author_filtered'}, inplace = True)\n",
    "#print(credible_cohort.head())\n",
    "\n",
    "# how many people remain in each cohort after filtering\n",
    "print(credible_cohort[\"num_author_filtered\"].describe())\n",
    "\n",
    "#looks like we only observe 10 or more career years for people who started later --> DBPL coverage became better in later years\n",
    "print(credible_cohort.reset_index()[\"start_year\"].unique())\n",
    "\n",
    "# visualize changes after filtering!\n",
    "\n",
    "num_newbies.rename(columns = {'author':'num_author'}, inplace = True)\n",
    "cohort_size = pd.DataFrame(num_newbies[\"num_author\"]).join(credible_cohort[\"num_author_filtered\"])\n",
    "#print(cohort_size)\n",
    "\n",
    "\n",
    "fig, ax = plt.subplots()\n",
    "width = 0.3       # the width of the bars\n",
    "Y = len(cohort_size.reset_index()[\"start_year\"])\n",
    "ind = np.arange(Y)\n",
    "\n",
    "rects1 = ax.bar(ind, cohort_size[\"num_author\"], width, color='b')\n",
    "rects2 = ax.bar(ind+ width, cohort_size[\"num_author_filtered\"], width, color='r')\n",
    "ax.set_ylabel('num scientists')\n",
    "ax.set_title('Cohort Size')\n",
    "ax.set_xticks(ind + width / 2)\n",
    "\n",
    "ax.set_xticklabels(cohort_size.reset_index()[\"start_year\"], rotation=90)\n",
    "\n",
    "ax.legend((rects1[0], rects2[0]), ('all', 'more than '+str(N)+'years'))\n"
   ]
  },
  {
   "cell_type": "code",
   "execution_count": 29,
   "metadata": {},
   "outputs": [
    {
     "name": "stdout",
     "output_type": "stream",
     "text": [
      "[ 0  1  2  3  4  5  6  7  8  9 10 11 12 13 14 15 16 17 18 19 20 21 22 23 24\n",
      " 25 26 27 28 29 30 31 32 33 34 35 36 37 38 39 40 41 42 43 44 45 46]\n"
     ]
    }
   ],
   "source": [
    "print(ind)"
   ]
  },
  {
   "cell_type": "code",
   "execution_count": 30,
   "metadata": {
    "collapsed": true
   },
   "outputs": [],
   "source": [
    "credible_authors.to_csv('data/authors-scientific-atleast-'+str(N)+'-year.csv',\n",
    "                        index=False, encoding='utf-8')"
   ]
  },
  {
   "cell_type": "code",
   "execution_count": 17,
   "metadata": {},
   "outputs": [
    {
     "name": "stdout",
     "output_type": "stream",
     "text": [
      "             author  year                    pub_id\n",
      "0  kim l. blackwell  2014  55503da645ce0a409eb273e8\n",
      "1    nima mesgarani  2014  55503da645ce0a409eb273e9\n",
      "2    james j. abbas  2014  55503da645ce0a409eb273ea\n",
      "3  eberhart zrenner  2014  55503da645ce0a409eb273ec\n",
      "4    jonathan rubin  2014  55503da645ce0a409eb273e0\n",
      "Authors# -  110888\n",
      "Year# -  47\n",
      "Publications# -  2218542\n"
     ]
    }
   ],
   "source": [
    "print(authorPublicationsData.head())\n",
    "\n",
    "credibleAuthorPublicationsData = authorPublicationsData[authorPublicationsData['author'].isin(credible_authors['author'])]\n",
    "credibleAuthorPublicationsData.reset_index(inplace=True)\n",
    "\n",
    "#Crosschecking whether the filtering worked or not\n",
    "print('Authors# - ',credibleAuthorPublicationsData['author'].nunique())\n",
    "print('Year# - ',credibleAuthorPublicationsData['year'].nunique())\n",
    "print('Publications# - ',credibleAuthorPublicationsData['pub_id'].nunique())"
   ]
  },
  {
   "cell_type": "code",
   "execution_count": null,
   "metadata": {
    "collapsed": true
   },
   "outputs": [],
   "source": []
  },
  {
   "cell_type": "code",
   "execution_count": null,
   "metadata": {
    "collapsed": true
   },
   "outputs": [],
   "source": []
  },
  {
   "cell_type": "code",
   "execution_count": null,
   "metadata": {
    "collapsed": true
   },
   "outputs": [],
   "source": []
  },
  {
   "cell_type": "code",
   "execution_count": 126,
   "metadata": {
    "collapsed": true
   },
   "outputs": [],
   "source": [
    "#todo: remove this part to avoid redundancy and copied code"
   ]
  },
  {
   "cell_type": "markdown",
   "metadata": {},
   "source": [
    "### For scientists-10-years-10-papers\n",
    "#### We examine when authors start their publications and how does their distribution looks like\n",
    "#### At the same time, when does their scientific career ends and how does the distribution looks like"
   ]
  },
  {
   "cell_type": "code",
   "execution_count": 127,
   "metadata": {
    "collapsed": true
   },
   "outputs": [],
   "source": [
    "#Group by author\n",
    "groupByAuthor = credibleAuthorPublicationsData.groupby(['author'])\n",
    "# find the minimum and maximum year of publications and its count for each author\n",
    "groupByAuthorMinYearData = groupByAuthor['year'].min()\n",
    "groupByAuthorMaxYearData = groupByAuthor['year'].max()\n",
    "groupByAuthorCountPublicationsData = groupByAuthor['pub_id'].count()"
   ]
  },
  {
   "cell_type": "markdown",
   "metadata": {},
   "source": [
    "### More no. of new scientfic researchers are involved as the year progresses\n",
    "#### At year 2005 - fewer new scientists have published ( as of now ignoring it - could be a problem in code)\n",
    "#### No. of cohort groups is 36\n",
    "#### Minimum cohort size is 433 and maximum is 8465\n",
    "#### 75% of 36 groups are over 736 in group size"
   ]
  },
  {
   "cell_type": "code",
   "execution_count": 128,
   "metadata": {},
   "outputs": [
    {
     "data": {
      "image/png": "[encoded data removed]",
      "text/plain": [
       "<matplotlib.figure.Figure at 0x9b4c588>"
      ]
     },
     "metadata": {},
     "output_type": "display_data"
    },
    {
     "data": {
      "text/plain": [
       "count      32.000000\n",
       "mean     3452.125000\n",
       "std      2514.386846\n",
       "min       770.000000\n",
       "25%      1167.250000\n",
       "50%      2579.000000\n",
       "75%      5968.000000\n",
       "max      7596.000000\n",
       "Name: year, dtype: float64"
      ]
     },
     "execution_count": 128,
     "metadata": {},
     "output_type": "execute_result"
    }
   ],
   "source": [
    "scientificYearStartHistogram = groupByAuthorMinYearData.value_counts(sort=False)\n",
    "ax = scientificYearStartHistogram.sort_index().plot(kind='bar', title='Start of Scientific career histogram')\n",
    "ax.set_xlabel(\"Year\")\n",
    "ax.set_ylabel(\"No. of authors who published first time\")\n",
    "\n",
    "plt.show()\n",
    "\n",
    "scientificYearStartHistogram.describe()"
   ]
  },
  {
   "cell_type": "code",
   "execution_count": 129,
   "metadata": {},
   "outputs": [
    {
     "data": {
      "text/plain": [
       "1970     841\n",
       "1971     859\n",
       "1972     770\n",
       "1973     924\n",
       "1974     923\n",
       "1975     883\n",
       "1976    1041\n",
       "1977    1181\n",
       "1978    1126\n",
       "1979    1190\n",
       "1980    1431\n",
       "1981    1503\n",
       "1982    1840\n",
       "1983    1938\n",
       "1984    2289\n",
       "1985    2182\n",
       "1986    2979\n",
       "1987    3161\n",
       "1988    3820\n",
       "1989    4101\n",
       "1990    4893\n",
       "1991    5234\n",
       "1992    5718\n",
       "1993    6845\n",
       "1994    7166\n",
       "1995    6775\n",
       "1996    6903\n",
       "1997    7310\n",
       "1998    7596\n",
       "1999    7459\n",
       "2000    6718\n",
       "2001    2869\n",
       "Name: year, dtype: int64"
      ]
     },
     "execution_count": 129,
     "metadata": {},
     "output_type": "execute_result"
    }
   ],
   "source": [
    "#Manually checked to ensure they are right\n",
    "scientificYearStartHistogram.sort_index()"
   ]
  },
  {
   "cell_type": "code",
   "execution_count": 130,
   "metadata": {},
   "outputs": [
    {
     "data": {
      "image/png": "[encoded data removed]",
      "text/plain": [
       "<matplotlib.figure.Figure at 0x120361d0>"
      ]
     },
     "metadata": {},
     "output_type": "display_data"
    },
    {
     "data": {
      "text/plain": [
       "count      30.000000\n",
       "mean     3362.700000\n",
       "std      2523.957609\n",
       "min       770.000000\n",
       "25%      1139.750000\n",
       "50%      2235.500000\n",
       "75%      5597.000000\n",
       "max      7596.000000\n",
       "Name: year, dtype: float64"
      ]
     },
     "execution_count": 130,
     "metadata": {},
     "output_type": "execute_result"
    }
   ],
   "source": [
    "scientificYearStartHistogram = groupByAuthorMinYearData.value_counts(sort=False)\n",
    "ax = scientificYearStartHistogram[scientificYearStartHistogram.index < 2000].sort_index().plot(kind='bar', title='Start of Scientific career histogram')\n",
    "ax.set_xlabel(\"Year\")\n",
    "ax.set_ylabel(\"No. of authors who published first time\")\n",
    "\n",
    "plt.show()\n",
    "\n",
    "scientificYearStartHistogram[scientificYearStartHistogram.index < 2000].describe()"
   ]
  },
  {
   "cell_type": "markdown",
   "metadata": {},
   "source": [
    "### Culmination of research increases as  year progresses - Correlates with the increase of Start of Scientific career\n",
    "#### At year 2016, there is a dip - need to analyse it - we shall ignore for this moment"
   ]
  },
  {
   "cell_type": "code",
   "execution_count": 131,
   "metadata": {
    "scrolled": true
   },
   "outputs": [
    {
     "data": {
      "image/png": "[encoded data removed]",
      "text/plain": [
       "<matplotlib.figure.Figure at 0x9d20ef0>"
      ]
     },
     "metadata": {},
     "output_type": "display_data"
    },
    {
     "data": {
      "text/plain": [
       "count       32.000000\n",
       "mean      3452.125000\n",
       "std       7539.500633\n",
       "min         15.000000\n",
       "25%        199.500000\n",
       "50%        558.500000\n",
       "75%       2328.750000\n",
       "max      34481.000000\n",
       "Name: year, dtype: float64"
      ]
     },
     "execution_count": 131,
     "metadata": {},
     "output_type": "execute_result"
    }
   ],
   "source": [
    "scientificYearEndHistogram = groupByAuthorMaxYearData.value_counts(sort=False)\n",
    "ax = scientificYearEndHistogram.sort_index().plot(kind='bar', \n",
    "                                                  title='End of Scientific career histogram')\n",
    "ax.set_xlabel(\"Year\")\n",
    "ax.set_ylabel(\"No. of authors who published last time\")\n",
    "#ax.set_ylim([0,3000])\n",
    "plt.show()\n",
    "\n",
    "scientificYearEndHistogram.describe()"
   ]
  },
  {
   "cell_type": "code",
   "execution_count": 132,
   "metadata": {},
   "outputs": [
    {
     "data": {
      "text/plain": [
       "1985       15\n",
       "1986       35\n",
       "1987       41\n",
       "1988       77\n",
       "1989       91\n",
       "1990      120\n",
       "1991      142\n",
       "1992      192\n",
       "1993      202\n",
       "1994      237\n",
       "1995      251\n",
       "1996      283\n",
       "1997      348\n",
       "1998      381\n",
       "1999      468\n",
       "2000      526\n",
       "2001      591\n",
       "2002      703\n",
       "2003      829\n",
       "2004      960\n",
       "2005     1209\n",
       "2006     1490\n",
       "2007     1895\n",
       "2008     2178\n",
       "2009     2781\n",
       "2010     3402\n",
       "2011     4273\n",
       "2012     5713\n",
       "2013     8481\n",
       "2014    13032\n",
       "2015    34481\n",
       "2016    25041\n",
       "Name: year, dtype: int64"
      ]
     },
     "execution_count": 132,
     "metadata": {},
     "output_type": "execute_result"
    }
   ],
   "source": [
    "scientificYearEndHistogram.sort_index()"
   ]
  },
  {
   "cell_type": "markdown",
   "metadata": {},
   "source": [
    "#### Some other analysis that could be done  are\n",
    "1) We find the best/better cohort group(s) that can be compared. As of now, if we consider atleast 15 years of research can be used for comparison then we have 32 cohort groups (1970 to 2001)\n",
    "Best cohort group - similar characteristics (there might be many reasons for one to end his/her scientific career)\n",
    "Consider people who start and at the same time end their career as well ???\n",
    "Also Consider their growth (their peak time and the trend) ???\n",
    "\n",
    "2) Increase the cohort group size - Can group the authors by years\n",
    "\n",
    "3) Drop out rates are high - this is why we insist 10/20 year 10/20 paper constraint"
   ]
  },
  {
   "cell_type": "markdown",
   "metadata": {},
   "source": [
    "### For scientists-20-years-20-papers\n",
    "#### We examine when authors start their publications and how does their distribution looks like\n",
    "#### At the same time, when does their scientific career ends and how does the distribution looks like"
   ]
  },
  {
   "cell_type": "code",
   "execution_count": 133,
   "metadata": {},
   "outputs": [
    {
     "ename": "NameError",
     "evalue": "name 'credible_authors_20' is not defined",
     "output_type": "error",
     "traceback": [
      "\u001b[1;31m\u001b[0m",
      "\u001b[1;31mNameError\u001b[0mTraceback (most recent call last)",
      "\u001b[1;32m<ipython-input-133-1fa5d00ecce4>\u001b[0m in \u001b[0;36m<module>\u001b[1;34m()\u001b[0m\n\u001b[1;32m----> 1\u001b[1;33m \u001b[0mcredibleAuthorPublicationsData\u001b[0m \u001b[1;33m=\u001b[0m \u001b[0mauthorPublicationsData\u001b[0m\u001b[1;33m[\u001b[0m\u001b[0mauthorPublicationsData\u001b[0m\u001b[1;33m[\u001b[0m\u001b[1;34m'author'\u001b[0m\u001b[1;33m]\u001b[0m\u001b[1;33m.\u001b[0m\u001b[0misin\u001b[0m\u001b[1;33m(\u001b[0m\u001b[0mcredible_authors_20\u001b[0m\u001b[1;33m[\u001b[0m\u001b[1;34m'author'\u001b[0m\u001b[1;33m]\u001b[0m\u001b[1;33m)\u001b[0m\u001b[1;33m]\u001b[0m\u001b[1;33m\u001b[0m\u001b[0m\n\u001b[0m\u001b[0;32m      2\u001b[0m \u001b[0mcredibleAuthorPublicationsData\u001b[0m\u001b[1;33m.\u001b[0m\u001b[0mreset_index\u001b[0m\u001b[1;33m(\u001b[0m\u001b[0minplace\u001b[0m\u001b[1;33m=\u001b[0m\u001b[1;32mTrue\u001b[0m\u001b[1;33m)\u001b[0m\u001b[1;33m\u001b[0m\u001b[0m\n\u001b[0;32m      3\u001b[0m \u001b[1;33m\u001b[0m\u001b[0m\n\u001b[0;32m      4\u001b[0m \u001b[1;31m#Crosschecking whether the filtering worked or not\u001b[0m\u001b[1;33m\u001b[0m\u001b[1;33m\u001b[0m\u001b[0m\n\u001b[0;32m      5\u001b[0m \u001b[0mprint\u001b[0m\u001b[1;33m(\u001b[0m\u001b[1;34m'Authors# - '\u001b[0m\u001b[1;33m,\u001b[0m\u001b[0mcredibleAuthorPublicationsData\u001b[0m\u001b[1;33m[\u001b[0m\u001b[1;34m'author'\u001b[0m\u001b[1;33m]\u001b[0m\u001b[1;33m.\u001b[0m\u001b[0mnunique\u001b[0m\u001b[1;33m(\u001b[0m\u001b[1;33m)\u001b[0m\u001b[1;33m)\u001b[0m\u001b[1;33m\u001b[0m\u001b[0m\n",
      "\u001b[1;31mNameError\u001b[0m: name 'credible_authors_20' is not defined"
     ]
    }
   ],
   "source": [
    "credibleAuthorPublicationsData = authorPublicationsData[authorPublicationsData['author'].isin(credible_authors_20['author'])]\n",
    "credibleAuthorPublicationsData.reset_index(inplace=True)\n",
    "\n",
    "#Crosschecking whether the filtering worked or not\n",
    "print('Authors# - ',credibleAuthorPublicationsData['author'].nunique())\n",
    "print('Year# - ',credibleAuthorPublicationsData['year'].nunique())\n",
    "print('Publications# - ',credibleAuthorPublicationsData['pub_id'].nunique())"
   ]
  },
  {
   "cell_type": "code",
   "execution_count": null,
   "metadata": {
    "collapsed": true
   },
   "outputs": [],
   "source": [
    "#Group by author\n",
    "groupByAuthor = credibleAuthorPublicationsData.groupby(['author'])\n",
    "# find the minimum and maximum year of publications and its count for each author\n",
    "groupByAuthorMinYearData = groupByAuthor['year'].min()\n",
    "groupByAuthorMaxYearData = groupByAuthor['year'].max()\n",
    "groupByAuthorCountPublicationsData = groupByAuthor['pub_id'].count()"
   ]
  },
  {
   "cell_type": "code",
   "execution_count": null,
   "metadata": {},
   "outputs": [],
   "source": [
    "scientificYearStartHistogram = groupByAuthorMinYearData.value_counts(sort=False)\n",
    "ax = scientificYearStartHistogram.sort_index().plot(kind='bar', title='Start of Scientific career histogram')\n",
    "ax.set_xlabel(\"Year\")\n",
    "ax.set_ylabel(\"No. of authors who published first time\")\n",
    "plt.show()\n",
    "\n",
    "scientificYearStartHistogram.describe()"
   ]
  },
  {
   "cell_type": "code",
   "execution_count": null,
   "metadata": {},
   "outputs": [],
   "source": [
    "scientificYearEndHistogram = groupByAuthorMaxYearData.value_counts(sort=False)\n",
    "ax = scientificYearEndHistogram.sort_index().plot(kind='bar', title='End of Scientific career histogram')\n",
    "ax.set_xlabel(\"Year\")\n",
    "ax.set_ylabel(\"No. of authors who published last time\")\n",
    "plt.show()\n",
    "\n",
    "scientificYearEndHistogram.describe()"
   ]
  },
  {
   "cell_type": "code",
   "execution_count": null,
   "metadata": {},
   "outputs": [],
   "source": [
    "end_time = timeit.default_timer()\n",
    "print('End Time (in sec) - ',end_time)\n",
    "print('Time taken (in sec) - ',end_time-start_time)"
   ]
  }
 ],
 "metadata": {
  "anaconda-cloud": {},
  "kernelspec": {
   "display_name": "Python 3",
   "language": "python",
   "name": "python3"
  },
  "language_info": {
   "codemirror_mode": {
    "name": "ipython",
    "version": 3
   },
   "file_extension": ".py",
   "mimetype": "text/x-python",
   "name": "python",
   "nbconvert_exporter": "python",
   "pygments_lexer": "ipython3",
   "version": "3.6.2"
  }
 },
 "nbformat": 4,
 "nbformat_minor": 2
}
