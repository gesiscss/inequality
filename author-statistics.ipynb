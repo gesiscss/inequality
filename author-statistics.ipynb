{
 "cells": [
  {
   "cell_type": "code",
   "execution_count": null,
   "metadata": {
    "collapsed": true
   },
   "outputs": [],
   "source": [
    "import pandas as pd\n",
    "import numpy as np\n",
    "import matplotlib.pyplot as plt\n",
    "%matplotlib inline\n",
    "import timeit\n",
    "import os.path\n",
    "\n",
    "import plot\n",
    "import calculate"
   ]
  },
  {
   "cell_type": "code",
   "execution_count": null,
   "metadata": {
    "collapsed": false
   },
   "outputs": [],
   "source": [
    "\n",
    "#folder=data\n",
    "#authorPublicationData = pd.read_csv(folder+'/author_publications_1970_2016_asiansAsNone.txt')\n",
    "\n",
    "folder = \"data-new\"\n",
    "authorPublicationData = pd.read_csv(folder+'/author_publications_2017_asiansAsNone.txt')\n",
    "# To speed up the implementation, consider a small dataset\n",
    "\n",
    "authorPublicationData.head()"
   ]
  },
  {
   "cell_type": "markdown",
   "metadata": {},
   "source": [
    "### 1.7 million authors and 3 million publications over 47 years (1970 to 2016) are available from the data"
   ]
  },
  {
   "cell_type": "code",
   "execution_count": null,
   "metadata": {
    "collapsed": false
   },
   "outputs": [],
   "source": [
    "#Unique values\n",
    "print('Authors# - ',authorPublicationData['author'].nunique())\n",
    "print('Year# - ',authorPublicationData['year'].nunique())\n",
    "print('Publications# - ',authorPublicationData['pub_id'].nunique())\n",
    "\n",
    "#old data value\n",
    "#('Authors# - ', 1708185)\n",
    "#('Year# - ', 47)\n",
    "#('Publications# - ', 3085544)\n",
    "\n",
    "# new data value\n",
    "#Authors# -  1704919\n",
    "#Year# -  83\n",
    "#Publications# -  3078230\n",
    "\n",
    "# # how many unique publications per author? In how many unique years was an author active\n",
    "# # this takes some time, but we can save result to file\n",
    "# file = \"./data/author_unique_pubs_and_years2.csv\"\n",
    "# from pathlib import Path\n",
    "\n",
    "# if not os.path.exists(file):\n",
    "#     print(\"File does not exists - creating !!!\")\n",
    "#     table = authorPublicationsData.groupby(\"author\").aggregate({'year': pd.Series.nunique, 'pub_id': pd.Series.nunique})\n",
    "#     table.head()\n",
    "#     table.to_csv(file, header=True, encoding=\"utf-8\")\n",
    "# else:\n",
    "#     table = pd.read_csv(file, encoding=\"utf-8\", header=0)\n",
    "\n",
    "# table.head(20)"
   ]
  },
  {
   "cell_type": "code",
   "execution_count": null,
   "metadata": {
    "collapsed": true
   },
   "outputs": [],
   "source": [
    "#Publication ID details are irrelevant for analysis - Keep the count information for each author\n",
    "\n",
    "authorPublicationData = authorPublicationData.groupby(['year','author']).count().reset_index()\n",
    "authorPublicationData.rename(columns={'pub_id':'num_pub'}, inplace=True)"
   ]
  },
  {
   "cell_type": "code",
   "execution_count": null,
   "metadata": {
    "collapsed": false
   },
   "outputs": [],
   "source": [
    "#get the year list - as it helps to enumerate and find gini co-efficient for each year (irrespective of the dataset)\n",
    "years = np.sort(authorPublicationData['year'].unique())\n",
    "print(years)"
   ]
  },
  {
   "cell_type": "markdown",
   "metadata": {},
   "source": [
    "### Compute Start, End year, Publication count and Career length for each author"
   ]
  },
  {
   "cell_type": "code",
   "execution_count": null,
   "metadata": {
    "collapsed": true
   },
   "outputs": [],
   "source": [
    "#Group by author and find their start and end of their career by looking at their publish details\n",
    "# and also count the no. of publications that he/she has\n",
    "groupByAuthor = authorPublicationData.groupby(['author'])\n",
    "# find the minimum and maximum year of publications and its count for each author\n",
    "groupByAuthorMinYearData = groupByAuthor['year'].min()\n",
    "groupByAuthorMaxYearData = groupByAuthor['year'].max()\n",
    "groupByAuthorCountPublicationsData = groupByAuthor['num_pub'].sum()"
   ]
  },
  {
   "cell_type": "code",
   "execution_count": null,
   "metadata": {
    "collapsed": false
   },
   "outputs": [],
   "source": [
    "# merge all the information into one and save it to a file\n",
    "authorScientificYearStart = groupByAuthorMinYearData.reset_index()\n",
    "authorScientificYearStart.rename(inplace=True, columns={'author':'author','year':'start_year'})\n",
    "authorScientificYearEnd = groupByAuthorMaxYearData.reset_index()\n",
    "authorScientificYearEnd.rename(inplace=True, columns={'author':'author','year':'end_year'})\n",
    "authorPublishCount = groupByAuthorCountPublicationsData.reset_index()\n",
    "authorPublishCount.rename(inplace=True, columns={'author':'author','num_pub':'total_num_pub'})\n",
    "\n",
    "authorScientificYearStartEnd = authorScientificYearStart.merge(authorScientificYearEnd,on='author')\n",
    "authorScientificYearStartEnd_publish_count = authorScientificYearStartEnd.merge(authorPublishCount,on='author')\n",
    "\n",
    "print('authorScientificYearStartEnd_publish_count before filtering - ',authorScientificYearStartEnd_publish_count.shape[0])\n",
    "authorScientificYearStartEnd_publish_count = authorScientificYearStartEnd_publish_count[authorScientificYearStartEnd_publish_count[\"start_year\"] >= 1970]\n",
    "print('authorScientificYearStartEnd_publish_count after filtering - ',authorScientificYearStartEnd_publish_count.shape[0])\n",
    "\n",
    "print(\"authorScientificYearStartEnd_publish_count with duplicates: %s\", authorScientificYearStartEnd_publish_count.shape[0])\n",
    "authorScientificYearStartEnd_publish_count = authorScientificYearStartEnd_publish_count.drop_duplicates()\n",
    "print(\"authorScientificYearStartEnd_publish_count with no duplicates: %s\", authorScientificYearStartEnd_publish_count.shape[0])\n",
    "\n",
    "print(\"authorScientificYearStartEnd_publish_count with null values: %s\", authorScientificYearStartEnd_publish_count.shape[0])\n",
    "authorScientificYearStartEnd_publish_count = authorScientificYearStartEnd_publish_count.dropna(how='any')\n",
    "print(\"authorScientificYearStartEnd_publish_count without null values: %s\", authorScientificYearStartEnd_publish_count.shape[0])\n",
    "\n",
    "print(authorScientificYearStartEnd_publish_count.head())"
   ]
  },
  {
   "cell_type": "code",
   "execution_count": null,
   "metadata": {
    "collapsed": false
   },
   "outputs": [],
   "source": [
    "authorScientificYearStartEnd_publish_count[\"career_length\"] = authorScientificYearStartEnd_publish_count['end_year'] - \\\n",
    "                                                              authorScientificYearStartEnd_publish_count['start_year']   \n",
    "#authorScientificYearStartEnd_publish_count[\"career_length\"].plot.hist(bins=40)\n",
    "careerLengthDist = authorScientificYearStartEnd_publish_count.groupby([\"career_length\"])['author'].count()\n",
    "temp = careerLengthDist.cumsum()  \n",
    "ax = temp.plot(grid=True, title='Cumulative histogram of Career Length by authors')\n",
    "ax.set_xlabel('Career Length')\n",
    "ax.set_ylabel('No. of Authors')\n",
    "\n",
    "plt.show()"
   ]
  },
  {
   "cell_type": "markdown",
   "metadata": {},
   "source": [
    "### Save the data for futher usage"
   ]
  },
  {
   "cell_type": "code",
   "execution_count": null,
   "metadata": {
    "collapsed": true
   },
   "outputs": [],
   "source": [
    "CAREER_LENGTH_LIST = [15,20,25]\n",
    "\n",
    "for CAREER_LENGTH in CAREER_LENGTH_LIST:\n",
    "    credible_authors = authorScientificYearStartEnd_publish_count[authorScientificYearStartEnd_publish_count['career_length'] >= CAREER_LENGTH]\n",
    "    credible_authors.to_csv(folder+'/authors-scientific-atleast-'+str(CAREER_LENGTH)+'-year.csv',\n",
    "                        index=False, encoding='utf-8')\n",
    "    \n",
    "\n",
    "# fig = plt.figure(figsize=(20,10))\n",
    "# ax1 = fig.add_subplot(1,1,1)\n",
    "# authorPublicationData.boxplot(ax=ax1,column='num_pub',by='year', showfliers=False, return_type='axes')\n",
    "# plt.show()"
   ]
  },
  {
   "cell_type": "markdown",
   "metadata": {},
   "source": [
    "#### There are about 1.7 milliion authors.  More than 900K (nearly half of all authors) have ended their career on the same year they started. Nearly 1.5 million authors have career length less than 10 years. \n",
    "\n",
    "#### In order to prove cumulative advantage exists - analysis should be done among scientists who perform to some extent atleast, which is measured by their career length. The inclusion of many non-performing scientists will impact the GINI coefficient anyways which is used as a measure of inequality in performances\n",
    "\n",
    "#### An appropriate career length should be chosen which\n",
    "\n",
    "##### 1) removes many non-performing scientists \n",
    "##### 2) allows enough size in each cohort group \n",
    "##### 3) gives considerable years to compare their performance"
   ]
  },
  {
   "cell_type": "code",
   "execution_count": null,
   "metadata": {
    "collapsed": false
   },
   "outputs": [],
   "source": [
    "#Try with different career length and see (what fraction of/how many of researchers) in each cohort is available over their career span\n",
    "CAREER_LENGTH_LIST = [0,5,10,15,20,25]\n",
    "#CAREER_LENGTH_LIST = [0]\n",
    "\n",
    "plot.plot_cohort_participation_year_wise_for(authorScientificYearStartEnd_publish_count, authorPublicationData,CAREER_LENGTH_LIST)"
   ]
  },
  {
   "cell_type": "markdown",
   "metadata": {},
   "source": [
    "Notes or Analysis:\n",
    "* Our baseline for this analysis - it is mandatory to have atleast 100 authors in each cohort and 10 cohorts atleast should be analysed for atleast 10 years\n",
    "* Good news is that - in all the above constraints we have 100 authors per each cohort. (20% of cohort size is maintained)\n",
    "\n",
    "20-30 cohorts are good enough, considering that, career length -15 and 20 is looking promising"
   ]
  },
  {
   "cell_type": "code",
   "execution_count": null,
   "metadata": {
    "collapsed": false
   },
   "outputs": [],
   "source": [
    "#just for debugging\n",
    "reload(plot)\n",
    "reload(calculate)"
   ]
  },
  {
   "cell_type": "markdown",
   "metadata": {},
   "source": [
    "### Group the authors by contribution in 2 years"
   ]
  },
  {
   "cell_type": "code",
   "execution_count": null,
   "metadata": {
    "collapsed": false
   },
   "outputs": [],
   "source": [
    "groupByYearData = authorPublicationData.copy(deep=True)\n",
    "print(groupByYearData[groupByYearData['author'] == 'donatella sciuto'].head(5))\n",
    "# GROUPING BY 2 years\n",
    "groupByYearData = calculate.groupDataAndCalculateCumulativeValues(groupByYearData, 2, 'num_pub')\n",
    "print(groupByYearData[groupByYearData['author'] == 'donatella sciuto'].head(5))"
   ]
  },
  {
   "cell_type": "code",
   "execution_count": null,
   "metadata": {
    "collapsed": false
   },
   "outputs": [],
   "source": [
    "#Try with different career length and see (what fraction of/how many of researchers) in each cohort is available over their career span\n",
    "CAREER_LENGTH_LIST = [0,5,10,15,20,25]\n",
    "#CAREER_LENGTH_LIST = [0]\n",
    "plot.plot_cohort_participation_year_wise_for(authorScientificYearStartEnd_publish_count, groupByYearData,CAREER_LENGTH_LIST)"
   ]
  },
  {
   "cell_type": "markdown",
   "metadata": {},
   "source": [
    "### Group the authors by contribution in 3 years"
   ]
  },
  {
   "cell_type": "code",
   "execution_count": null,
   "metadata": {
    "collapsed": false
   },
   "outputs": [],
   "source": [
    "groupByYearData = authorPublicationData.copy(deep=True)\n",
    "print(groupByYearData[groupByYearData['author'] == 'donatella sciuto'].head(5))\n",
    "# GROUPING BY 2 years\n",
    "groupByYearData = calculate.groupDataAndCalculateCumulativeValues(groupByYearData, 3, 'num_pub')\n",
    "print(groupByYearData[groupByYearData['author'] == 'donatella sciuto'].head(5))"
   ]
  },
  {
   "cell_type": "code",
   "execution_count": null,
   "metadata": {
    "collapsed": false
   },
   "outputs": [],
   "source": [
    "#Try with different career length and see (what fraction of/how many of researchers) in each cohort is available over their career span\n",
    "CAREER_LENGTH_LIST = [0,5,10,15,20,25]\n",
    "#CAREER_LENGTH_LIST = [0]\n",
    "plot.plot_cohort_participation_year_wise_for(authorScientificYearStartEnd_publish_count, groupByYearData,CAREER_LENGTH_LIST)"
   ]
  },
  {
   "cell_type": "markdown",
   "metadata": {},
   "source": [
    "### END - the rest of the code can be avoided"
   ]
  },
  {
   "cell_type": "markdown",
   "metadata": {},
   "source": [
    "### Filter Cohorts: remove authors who have less than N years of career \n"
   ]
  },
  {
   "cell_type": "code",
   "execution_count": null,
   "metadata": {
    "collapsed": false
   },
   "outputs": [],
   "source": [
    "# Make a list of career length \n",
    "step = 3\n",
    "count = (max(years) - min(years)) / step\n",
    "count = int(count)\n",
    "career_length_list = range(count+1) \n",
    "career_length_list = [num*step for num in career_length_list]\n",
    "print(career_length_list)"
   ]
  },
  {
   "cell_type": "code",
   "execution_count": null,
   "metadata": {
    "collapsed": false
   },
   "outputs": [],
   "source": [
    "career_length_cohort = pd.DataFrame(index=years)\n",
    "per_career_length_cohort = pd.DataFrame(index=years)\n",
    "\n",
    "career_age_0 = authorScientificYearStartEnd_publish_count.groupby(['start_year'])['author'].count()\n",
    "for career_length in range(0,(max(years) - min(years))):\n",
    "    temp = authorScientificYearStartEnd_publish_count[authorScientificYearStartEnd_publish_count['career_length'] >= career_length]\n",
    "    career_length_cohort[str(career_length)] = temp.groupby(['start_year'])['author'].count()\n",
    "    per_career_length_cohort[str(career_length)] = career_length_cohort[str(career_length)] / career_age_0\n",
    "    \n",
    "career_length_cohort.replace(to_replace=np.NaN, value=0, inplace=True)\n",
    "career_length_cohort.head()\n",
    "\n",
    "per_career_length_cohort.replace(to_replace=np.NaN, value=0, inplace=True)\n",
    "per_career_length_cohort.head()"
   ]
  },
  {
   "cell_type": "code",
   "execution_count": null,
   "metadata": {
    "collapsed": false
   },
   "outputs": [],
   "source": [
    "interested_career_lengths = [str(num) for num in range(0,10)]\n",
    "per_career_length_cohort[interested_career_lengths].plot(kind='area', stacked=False)"
   ]
  },
  {
   "cell_type": "code",
   "execution_count": null,
   "metadata": {
    "collapsed": false
   },
   "outputs": [],
   "source": [
    "interested_career_lengths = [str(num) for num in range(0,20,5)]\n",
    "per_career_length_cohort[interested_career_lengths].plot(kind='area', stacked=False)"
   ]
  },
  {
   "cell_type": "code",
   "execution_count": null,
   "metadata": {
    "collapsed": false
   },
   "outputs": [],
   "source": [
    "per_df[['0','5','10','15','20','40']].plot(kind='area', stacked=False)"
   ]
  },
  {
   "cell_type": "code",
   "execution_count": null,
   "metadata": {
    "collapsed": false
   },
   "outputs": [],
   "source": [
    "new_df['0'].values"
   ]
  },
  {
   "cell_type": "code",
   "execution_count": null,
   "metadata": {
    "collapsed": false
   },
   "outputs": [],
   "source": [
    "percentage_df = new_df / new_df['0'].values\n",
    "percentage_df.head()"
   ]
  },
  {
   "cell_type": "code",
   "execution_count": null,
   "metadata": {
    "collapsed": false
   },
   "outputs": [],
   "source": [
    "career_atleast_5_years = cohortGroup[cohortGroup['career_length'] > 5]\n",
    "career_atleast_5_years.head()"
   ]
  },
  {
   "cell_type": "code",
   "execution_count": null,
   "metadata": {
    "collapsed": false
   },
   "outputs": [],
   "source": [
    "N = 15\n",
    "\n",
    "authorScientificYearStartEnd_publish_count[\"career_length\"] = authorScientificYearStartEnd_publish_count['end_year'] - authorScientificYearStartEnd_publish_count['start_year']   \n",
    "#print(authorScientificYearStartEnd_publish_count.head())\n",
    "\n",
    "credible_authors = authorScientificYearStartEnd_publish_count[authorScientificYearStartEnd_publish_count.career_length >= N ]\n",
    "#print(credible_authors.head())\n",
    "\n",
    "credible_cohort = credible_authors.groupby(\"start_year\").count()\n",
    "credible_cohort.rename(columns = {'author':'num_author_filtered'}, inplace = True)\n",
    "#print(credible_cohort.head())\n",
    "\n",
    "# how many people remain in each cohort after filtering\n",
    "print(credible_cohort[\"num_author_filtered\"].describe())\n",
    "\n",
    "#looks like we only observe 10 or more career years for people who started later --> DBPL coverage became better in later years\n",
    "print(credible_cohort.reset_index()[\"start_year\"].unique())\n",
    "\n",
    "# visualize changes after filtering!\n",
    "\n",
    "num_newbies.rename(columns = {'author':'num_author'}, inplace = True)\n",
    "cohort_size = pd.DataFrame(num_newbies[\"num_author\"]).join(credible_cohort[\"num_author_filtered\"])\n",
    "#print(cohort_size)\n",
    "\n",
    "\n",
    "fig, ax = plt.subplots()\n",
    "width = 0.3       # the width of the bars\n",
    "Y = len(cohort_size.reset_index()[\"start_year\"])\n",
    "ind = np.arange(Y)\n",
    "\n",
    "rects1 = ax.bar(ind, cohort_size[\"num_author\"], width, color='b')\n",
    "rects2 = ax.bar(ind+ width, cohort_size[\"num_author_filtered\"], width, color='r')\n",
    "ax.set_ylabel('num scientists')\n",
    "ax.set_title('Cohort Size')\n",
    "ax.set_xticks(ind + width / 2)\n",
    "\n",
    "ax.set_xticklabels(cohort_size.reset_index()[\"start_year\"], rotation=90)\n",
    "\n",
    "ax.legend((rects1[0], rects2[0]), ('all', 'more than '+str(N)+'years'))\n"
   ]
  },
  {
   "cell_type": "code",
   "execution_count": null,
   "metadata": {
    "collapsed": false
   },
   "outputs": [],
   "source": [
    "print(ind)"
   ]
  },
  {
   "cell_type": "code",
   "execution_count": null,
   "metadata": {
    "collapsed": true
   },
   "outputs": [],
   "source": [
    "credible_authors.to_csv(folder+'/authors-scientific-atleast-'+str(N)+'-year.csv',\n",
    "                        index=False, encoding='utf-8')"
   ]
  },
  {
   "cell_type": "code",
   "execution_count": null,
   "metadata": {
    "collapsed": false
   },
   "outputs": [],
   "source": [
    "print(authorPublicationsData.head())\n",
    "\n",
    "credibleAuthorPublicationsData = authorPublicationsData[authorPublicationsData['author'].isin(credible_authors['author'])]\n",
    "credibleAuthorPublicationsData.reset_index(inplace=True)\n",
    "\n",
    "#Crosschecking whether the filtering worked or not\n",
    "print('Authors# - ',credibleAuthorPublicationsData['author'].nunique())\n",
    "print('Year# - ',credibleAuthorPublicationsData['year'].nunique())\n",
    "print('Publications# - ',credibleAuthorPublicationsData['pub_id'].nunique())"
   ]
  },
  {
   "cell_type": "code",
   "execution_count": null,
   "metadata": {
    "collapsed": true
   },
   "outputs": [],
   "source": []
  },
  {
   "cell_type": "code",
   "execution_count": null,
   "metadata": {
    "collapsed": true
   },
   "outputs": [],
   "source": []
  },
  {
   "cell_type": "code",
   "execution_count": null,
   "metadata": {
    "collapsed": true
   },
   "outputs": [],
   "source": []
  },
  {
   "cell_type": "code",
   "execution_count": null,
   "metadata": {
    "collapsed": true
   },
   "outputs": [],
   "source": [
    "#todo: remove this part to avoid redundancy and copied code"
   ]
  },
  {
   "cell_type": "markdown",
   "metadata": {},
   "source": [
    "### For scientists-10-years-10-papers\n",
    "#### We examine when authors start their publications and how does their distribution looks like\n",
    "#### At the same time, when does their scientific career ends and how does the distribution looks like"
   ]
  },
  {
   "cell_type": "code",
   "execution_count": null,
   "metadata": {
    "collapsed": true
   },
   "outputs": [],
   "source": [
    "#Group by author\n",
    "groupByAuthor = credibleAuthorPublicationsData.groupby(['author'])\n",
    "# find the minimum and maximum year of publications and its count for each author\n",
    "groupByAuthorMinYearData = groupByAuthor['year'].min()\n",
    "groupByAuthorMaxYearData = groupByAuthor['year'].max()\n",
    "groupByAuthorCountPublicationsData = groupByAuthor['pub_id'].count()"
   ]
  },
  {
   "cell_type": "markdown",
   "metadata": {},
   "source": [
    "### More no. of new scientfic researchers are involved as the year progresses\n",
    "#### At year 2005 - fewer new scientists have published ( as of now ignoring it - could be a problem in code)\n",
    "#### No. of cohort groups is 36\n",
    "#### Minimum cohort size is 433 and maximum is 8465\n",
    "#### 75% of 36 groups are over 736 in group size"
   ]
  },
  {
   "cell_type": "code",
   "execution_count": null,
   "metadata": {
    "collapsed": false
   },
   "outputs": [],
   "source": [
    "scientificYearStartHistogram = groupByAuthorMinYearData.value_counts(sort=False)\n",
    "ax = scientificYearStartHistogram.sort_index().plot(kind='bar', title='Start of Scientific career histogram')\n",
    "ax.set_xlabel(\"Year\")\n",
    "ax.set_ylabel(\"No. of authors who published first time\")\n",
    "\n",
    "plt.show()\n",
    "\n",
    "scientificYearStartHistogram.describe()"
   ]
  },
  {
   "cell_type": "code",
   "execution_count": null,
   "metadata": {
    "collapsed": false
   },
   "outputs": [],
   "source": [
    "#Manually checked to ensure they are right\n",
    "scientificYearStartHistogram.sort_index()"
   ]
  },
  {
   "cell_type": "code",
   "execution_count": null,
   "metadata": {
    "collapsed": false
   },
   "outputs": [],
   "source": [
    "scientificYearStartHistogram = groupByAuthorMinYearData.value_counts(sort=False)\n",
    "ax = scientificYearStartHistogram[scientificYearStartHistogram.index < 2000].sort_index().plot(kind='bar', title='Start of Scientific career histogram')\n",
    "ax.set_xlabel(\"Year\")\n",
    "ax.set_ylabel(\"No. of authors who published first time\")\n",
    "\n",
    "plt.show()\n",
    "\n",
    "scientificYearStartHistogram[scientificYearStartHistogram.index < 2000].describe()"
   ]
  },
  {
   "cell_type": "markdown",
   "metadata": {},
   "source": [
    "### Culmination of research increases as  year progresses - Correlates with the increase of Start of Scientific career\n",
    "#### At year 2016, there is a dip - need to analyse it - we shall ignore for this moment"
   ]
  },
  {
   "cell_type": "code",
   "execution_count": null,
   "metadata": {
    "collapsed": false,
    "scrolled": true
   },
   "outputs": [],
   "source": [
    "scientificYearEndHistogram = groupByAuthorMaxYearData.value_counts(sort=False)\n",
    "ax = scientificYearEndHistogram.sort_index().plot(kind='bar', \n",
    "                                                  title='End of Scientific career histogram')\n",
    "ax.set_xlabel(\"Year\")\n",
    "ax.set_ylabel(\"No. of authors who published last time\")\n",
    "#ax.set_ylim([0,3000])\n",
    "plt.show()\n",
    "\n",
    "scientificYearEndHistogram.describe()"
   ]
  },
  {
   "cell_type": "code",
   "execution_count": null,
   "metadata": {
    "collapsed": false
   },
   "outputs": [],
   "source": [
    "scientificYearEndHistogram.sort_index()"
   ]
  },
  {
   "cell_type": "markdown",
   "metadata": {},
   "source": [
    "#### Some other analysis that could be done  are\n",
    "1) We find the best/better cohort group(s) that can be compared. As of now, if we consider atleast 15 years of research can be used for comparison then we have 32 cohort groups (1970 to 2001)\n",
    "Best cohort group - similar characteristics (there might be many reasons for one to end his/her scientific career)\n",
    "Consider people who start and at the same time end their career as well ???\n",
    "Also Consider their growth (their peak time and the trend) ???\n",
    "\n",
    "2) Increase the cohort group size - Can group the authors by years\n",
    "\n",
    "3) Drop out rates are high - this is why we insist 10/20 year 10/20 paper constraint"
   ]
  },
  {
   "cell_type": "markdown",
   "metadata": {},
   "source": [
    "### For scientists-20-years-20-papers\n",
    "#### We examine when authors start their publications and how does their distribution looks like\n",
    "#### At the same time, when does their scientific career ends and how does the distribution looks like"
   ]
  },
  {
   "cell_type": "code",
   "execution_count": null,
   "metadata": {
    "collapsed": false
   },
   "outputs": [],
   "source": [
    "credibleAuthorPublicationsData = authorPublicationsData[authorPublicationsData['author'].isin(credible_authors_20['author'])]\n",
    "credibleAuthorPublicationsData.reset_index(inplace=True)\n",
    "\n",
    "#Crosschecking whether the filtering worked or not\n",
    "print('Authors# - ',credibleAuthorPublicationsData['author'].nunique())\n",
    "print('Year# - ',credibleAuthorPublicationsData['year'].nunique())\n",
    "print('Publications# - ',credibleAuthorPublicationsData['pub_id'].nunique())"
   ]
  },
  {
   "cell_type": "code",
   "execution_count": null,
   "metadata": {
    "collapsed": true
   },
   "outputs": [],
   "source": [
    "#Group by author\n",
    "groupByAuthor = credibleAuthorPublicationsData.groupby(['author'])\n",
    "# find the minimum and maximum year of publications and its count for each author\n",
    "groupByAuthorMinYearData = groupByAuthor['year'].min()\n",
    "groupByAuthorMaxYearData = groupByAuthor['year'].max()\n",
    "groupByAuthorCountPublicationsData = groupByAuthor['pub_id'].count()"
   ]
  },
  {
   "cell_type": "code",
   "execution_count": null,
   "metadata": {
    "collapsed": true
   },
   "outputs": [],
   "source": [
    "scientificYearStartHistogram = groupByAuthorMinYearData.value_counts(sort=False)\n",
    "ax = scientificYearStartHistogram.sort_index().plot(kind='bar', title='Start of Scientific career histogram')\n",
    "ax.set_xlabel(\"Year\")\n",
    "ax.set_ylabel(\"No. of authors who published first time\")\n",
    "plt.show()\n",
    "\n",
    "scientificYearStartHistogram.describe()"
   ]
  },
  {
   "cell_type": "code",
   "execution_count": null,
   "metadata": {
    "collapsed": true
   },
   "outputs": [],
   "source": [
    "scientificYearEndHistogram = groupByAuthorMaxYearData.value_counts(sort=False)\n",
    "ax = scientificYearEndHistogram.sort_index().plot(kind='bar', title='End of Scientific career histogram')\n",
    "ax.set_xlabel(\"Year\")\n",
    "ax.set_ylabel(\"No. of authors who published last time\")\n",
    "plt.show()\n",
    "\n",
    "scientificYearEndHistogram.describe()"
   ]
  },
  {
   "cell_type": "code",
   "execution_count": null,
   "metadata": {
    "collapsed": true
   },
   "outputs": [],
   "source": [
    "end_time = timeit.default_timer()\n",
    "print('End Time (in sec) - ',end_time)\n",
    "print('Time taken (in sec) - ',end_time-start_time)"
   ]
  },
  {
   "cell_type": "code",
   "execution_count": null,
   "metadata": {
    "collapsed": true
   },
   "outputs": [],
   "source": []
  },
  {
   "cell_type": "markdown",
   "metadata": {},
   "source": [
    "### Cohort Size group (whether individual years are good enough or clubs of few years are required)\n",
    "\n",
    "* A cohort is a set of researchers that started their career in the same year. We use the first publication of a research as proxy for his/her career start. Since we want to follow researchers over time, we only include researchers that were active over at least 10 years (i.e., they published at least 2 papers, their first one and another one 10 years later)\n",
    "* What is the size of each cohort?\n",
    "* Record for those people how many papers they publish in each year, how many citations they have received, their h-index\n",
    "\n",
    "\n",
    "#### First and foremost - let us look at the performance of researchers\n",
    "#### We need to remove the dropouts based on following condition\n",
    "##### researchers whose career span is less than 10 years \n",
    "##### and has published less than 10 papers (necessary ? - as of now keeping it)"
   ]
  }
 ],
 "metadata": {
  "anaconda-cloud": {},
  "kernelspec": {
   "display_name": "Python [Root]",
   "language": "python",
   "name": "Python [Root]"
  },
  "language_info": {
   "codemirror_mode": {
    "name": "ipython",
    "version": 3
   },
   "file_extension": ".py",
   "mimetype": "text/x-python",
   "name": "python",
   "nbconvert_exporter": "python",
   "pygments_lexer": "ipython3",
   "version": "3.5.1"
  }
 },
 "nbformat": 4,
 "nbformat_minor": 2
}
