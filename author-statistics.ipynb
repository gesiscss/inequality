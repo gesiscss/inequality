{
 "cells": [
  {
   "cell_type": "code",
   "execution_count": 1,
   "metadata": {},
   "outputs": [],
   "source": [
    "import pandas as pd\n",
    "import numpy as np\n",
    "import matplotlib.pyplot as plt\n",
    "%matplotlib inline\n",
    "import timeit\n",
    "import os.path\n",
    "\n",
    "import plot\n",
    "import calculate"
   ]
  },
  {
   "cell_type": "markdown",
   "metadata": {},
   "source": [
    "# I moved this part to 1. Data Preprocessing"
   ]
  },
  {
   "cell_type": "code",
   "execution_count": 2,
   "metadata": {},
   "outputs": [
    {
     "data": {
      "text/html": [
       "<div>\n",
       "<style scoped>\n",
       "    .dataframe tbody tr th:only-of-type {\n",
       "        vertical-align: middle;\n",
       "    }\n",
       "\n",
       "    .dataframe tbody tr th {\n",
       "        vertical-align: top;\n",
       "    }\n",
       "\n",
       "    .dataframe thead th {\n",
       "        text-align: right;\n",
       "    }\n",
       "</style>\n",
       "<table border=\"1\" class=\"dataframe\">\n",
       "  <thead>\n",
       "    <tr style=\"text-align: right;\">\n",
       "      <th></th>\n",
       "      <th>author</th>\n",
       "      <th>year</th>\n",
       "      <th>pub_id</th>\n",
       "    </tr>\n",
       "  </thead>\n",
       "  <tbody>\n",
       "    <tr>\n",
       "      <th>0</th>\n",
       "      <td>graeme earl</td>\n",
       "      <td>2011</td>\n",
       "      <td>001c58d3-26ad-46b3-ab3a-c1e557d16821</td>\n",
       "    </tr>\n",
       "    <tr>\n",
       "      <th>1</th>\n",
       "      <td>gareth beale</td>\n",
       "      <td>2011</td>\n",
       "      <td>001c58d3-26ad-46b3-ab3a-c1e557d16821</td>\n",
       "    </tr>\n",
       "    <tr>\n",
       "      <th>2</th>\n",
       "      <td>m. nasser</td>\n",
       "      <td>2009</td>\n",
       "      <td>001c8744-73c4-4b04-9364-22d31a10dbf1</td>\n",
       "    </tr>\n",
       "    <tr>\n",
       "      <th>3</th>\n",
       "      <td>faisal zaman</td>\n",
       "      <td>2009</td>\n",
       "      <td>001c8744-73c4-4b04-9364-22d31a10dbf1</td>\n",
       "    </tr>\n",
       "    <tr>\n",
       "      <th>4</th>\n",
       "      <td>altaf hossain</td>\n",
       "      <td>2009</td>\n",
       "      <td>001c8744-73c4-4b04-9364-22d31a10dbf1</td>\n",
       "    </tr>\n",
       "  </tbody>\n",
       "</table>\n",
       "</div>"
      ],
      "text/plain": [
       "          author  year                                pub_id\n",
       "0    graeme earl  2011  001c58d3-26ad-46b3-ab3a-c1e557d16821\n",
       "1   gareth beale  2011  001c58d3-26ad-46b3-ab3a-c1e557d16821\n",
       "2      m. nasser  2009  001c8744-73c4-4b04-9364-22d31a10dbf1\n",
       "3   faisal zaman  2009  001c8744-73c4-4b04-9364-22d31a10dbf1\n",
       "4  altaf hossain  2009  001c8744-73c4-4b04-9364-22d31a10dbf1"
      ]
     },
     "execution_count": 2,
     "metadata": {},
     "output_type": "execute_result"
    }
   ],
   "source": [
    "authorPublicationData = pd.read_csv('data/author_publications_2017_asiansAsNone.txt')\n",
    "\n",
    "authorPublicationData.head()"
   ]
  },
  {
   "cell_type": "markdown",
   "metadata": {},
   "source": [
    "### 1.7 million authors and 3 million publications over 47 years (1970 to 2016) are available from the data"
   ]
  },
  {
   "cell_type": "code",
   "execution_count": 3,
   "metadata": {},
   "outputs": [
    {
     "name": "stdout",
     "output_type": "stream",
     "text": [
      "Authors# -  1704919\n",
      "Year# -  83\n",
      "Publications# -  3078230\n"
     ]
    }
   ],
   "source": [
    "#Unique values\n",
    "print('Authors# - ',authorPublicationData['author'].nunique())\n",
    "print('Year# - ',authorPublicationData['year'].nunique())\n",
    "print('Publications# - ',authorPublicationData['pub_id'].nunique())\n",
    "\n",
    "#old data value\n",
    "#('Authors# - ', 1708185)\n",
    "#('Year# - ', 47)\n",
    "#('Publications# - ', 3085544)\n",
    "\n",
    "# new data value\n",
    "#Authors# -  1704919\n",
    "#Year# -  83\n",
    "#Publications# -  3078230\n",
    "\n",
    "# # how many unique publications per author? In how many unique years was an author active\n",
    "# # this takes some time, but we can save result to file\n",
    "# file = \"./data/author_unique_pubs_and_years2.csv\"\n",
    "# from pathlib import Path\n",
    "\n",
    "# if not os.path.exists(file):\n",
    "#     print(\"File does not exists - creating !!!\")\n",
    "#     table = authorPublicationsData.groupby(\"author\").aggregate({'year': pd.Series.nunique, 'pub_id': pd.Series.nunique})\n",
    "#     table.head()\n",
    "#     table.to_csv(file, header=True, encoding=\"utf-8\")\n",
    "# else:\n",
    "#     table = pd.read_csv(file, encoding=\"utf-8\", header=0)\n",
    "\n",
    "# table.head(20)"
   ]
  },
  {
   "cell_type": "code",
   "execution_count": 4,
   "metadata": {},
   "outputs": [],
   "source": [
    "#Publication ID details are irrelevant for analysis - Keep the count information for each author\n",
    "\n",
    "authorPublicationData = authorPublicationData.groupby(['year','author']).count().reset_index()\n",
    "authorPublicationData.rename(columns={'pub_id':'num_pub'}, inplace=True)"
   ]
  },
  {
   "cell_type": "code",
   "execution_count": 5,
   "metadata": {},
   "outputs": [
    {
     "name": "stdout",
     "output_type": "stream",
     "text": [
      "[1936 1937 1938 1939 1940 1941 1942 1943 1944 1945 1946 1947 1948 1949\n",
      " 1950 1951 1952 1953 1954 1955 1956 1957 1958 1959 1960 1961 1962 1963\n",
      " 1964 1965 1966 1967 1968 1969 1970 1971 1972 1973 1974 1975 1976 1977\n",
      " 1978 1979 1980 1981 1982 1983 1984 1985 1986 1987 1988 1989 1990 1991\n",
      " 1992 1993 1994 1995 1996 1997 1998 1999 2000 2001 2002 2003 2004 2005\n",
      " 2006 2007 2008 2009 2010 2011 2012 2013 2014 2015 2016 2017 2018]\n"
     ]
    }
   ],
   "source": [
    "#get the year list - as it helps to enumerate and find gini co-efficient for each year (irrespective of the dataset)\n",
    "years = np.sort(authorPublicationData['year'].unique())\n",
    "print(years)"
   ]
  },
  {
   "cell_type": "markdown",
   "metadata": {},
   "source": [
    "### Compute Start, End year, Publication count and Career length for each author"
   ]
  },
  {
   "cell_type": "code",
   "execution_count": 6,
   "metadata": {},
   "outputs": [],
   "source": [
    "#Group by author and find their start and end of their career by looking at their publish details\n",
    "# and also count the no. of publications that he/she has\n",
    "groupByAuthor = authorPublicationData.groupby(['author'])\n",
    "# find the minimum and maximum year of publications and its count for each author\n",
    "groupByAuthorMinYearData = groupByAuthor['year'].min()\n",
    "groupByAuthorMaxYearData = groupByAuthor['year'].max()\n",
    "groupByAuthorCountPublicationsData = groupByAuthor['num_pub'].sum()"
   ]
  },
  {
   "cell_type": "code",
   "execution_count": 7,
   "metadata": {},
   "outputs": [
    {
     "name": "stdout",
     "output_type": "stream",
     "text": [
      "authorScientificYearStartEnd_publish_count before filtering -  1704919\n",
      "authorScientificYearStartEnd_publish_count after filtering -  1699352\n",
      "authorScientificYearStartEnd_publish_count with duplicates: %s 1699352\n",
      "authorScientificYearStartEnd_publish_count with no duplicates: %s 1699352\n",
      "authorScientificYearStartEnd_publish_count with null values: %s 1699352\n",
      "authorScientificYearStartEnd_publish_count without null values: %s 1699352\n",
      "                  author  start_year  end_year  total_num_pub\n",
      "0       'maseka lesaoana        2001      2015              2\n",
      "1  (max) zong-ming cheng        2009      2011              2\n",
      "2       (zhou) bryan bai        2011      2012              2\n",
      "3        a aart blokhuis        1992      2005              2\n",
      "4             a ahrabian        2017      2017              1\n"
     ]
    }
   ],
   "source": [
    "# merge all the information into one and save it to a file\n",
    "authorScientificYearStart = groupByAuthorMinYearData.reset_index()\n",
    "authorScientificYearStart.rename(inplace=True, columns={'author':'author','year':'start_year'})\n",
    "authorScientificYearEnd = groupByAuthorMaxYearData.reset_index()\n",
    "authorScientificYearEnd.rename(inplace=True, columns={'author':'author','year':'end_year'})\n",
    "authorPublishCount = groupByAuthorCountPublicationsData.reset_index()\n",
    "authorPublishCount.rename(inplace=True, columns={'author':'author','num_pub':'total_num_pub'})\n",
    "\n",
    "authorScientificYearStartEnd = authorScientificYearStart.merge(authorScientificYearEnd,on='author')\n",
    "authorScientificYearStartEnd_publish_count = authorScientificYearStartEnd.merge(authorPublishCount,on='author')\n",
    "\n",
    "print('authorScientificYearStartEnd_publish_count before filtering - ',authorScientificYearStartEnd_publish_count.shape[0])\n",
    "authorScientificYearStartEnd_publish_count = authorScientificYearStartEnd_publish_count[authorScientificYearStartEnd_publish_count[\"start_year\"] >= 1970]\n",
    "print('authorScientificYearStartEnd_publish_count after filtering - ',authorScientificYearStartEnd_publish_count.shape[0])\n",
    "\n",
    "print(\"authorScientificYearStartEnd_publish_count with duplicates: %s\", authorScientificYearStartEnd_publish_count.shape[0])\n",
    "authorScientificYearStartEnd_publish_count = authorScientificYearStartEnd_publish_count.drop_duplicates()\n",
    "print(\"authorScientificYearStartEnd_publish_count with no duplicates: %s\", authorScientificYearStartEnd_publish_count.shape[0])\n",
    "\n",
    "print(\"authorScientificYearStartEnd_publish_count with null values: %s\", authorScientificYearStartEnd_publish_count.shape[0])\n",
    "authorScientificYearStartEnd_publish_count = authorScientificYearStartEnd_publish_count.dropna(how='any')\n",
    "print(\"authorScientificYearStartEnd_publish_count without null values: %s\", authorScientificYearStartEnd_publish_count.shape[0])\n",
    "\n",
    "print(authorScientificYearStartEnd_publish_count.head())"
   ]
  },
  {
   "cell_type": "code",
   "execution_count": 8,
   "metadata": {},
   "outputs": [
    {
     "data": {
      "image/png": "[encoded data removed]",
      "text/plain": [
       "<matplotlib.figure.Figure at 0x7f08a5b3f4a8>"
      ]
     },
     "metadata": {},
     "output_type": "display_data"
    }
   ],
   "source": [
    "authorScientificYearStartEnd_publish_count[\"career_length\"] = authorScientificYearStartEnd_publish_count['end_year'] - \\\n",
    "                                                              authorScientificYearStartEnd_publish_count['start_year']   \n",
    "#authorScientificYearStartEnd_publish_count[\"career_length\"].plot.hist(bins=40)\n",
    "careerLengthDist = authorScientificYearStartEnd_publish_count.groupby([\"career_length\"])['author'].count()\n",
    "temp = careerLengthDist.cumsum()  \n",
    "ax = temp.plot(grid=True, title='Cumulative histogram of Career Length by authors')\n",
    "ax.set_xlabel('Career Length')\n",
    "ax.set_ylabel('No. of Authors')\n",
    "\n",
    "plt.show()"
   ]
  },
  {
   "cell_type": "markdown",
   "metadata": {},
   "source": [
    "### Save the data for futher usage"
   ]
  },
  {
   "cell_type": "code",
   "execution_count": 23,
   "metadata": {
    "collapsed": true
   },
   "outputs": [],
   "source": [
    "CAREER_LENGTH_LIST = [0,3,5,10,15]\n",
    "\n",
    "for CAREER_LENGTH in CAREER_LENGTH_LIST:\n",
    "    credible_authors = authorScientificYearStartEnd_publish_count[authorScientificYearStartEnd_publish_count['career_length'] >= CAREER_LENGTH]\n",
    "    credible_authors.to_csv('data/authors-scientific-atleast-'+str(CAREER_LENGTH)+'-year.csv',\n",
    "                        index=False, encoding='utf-8')\n",
    "    \n",
    "\n",
    "# fig = plt.figure(figsize=(20,10))\n",
    "# ax1 = fig.add_subplot(1,1,1)\n",
    "# authorPublicationData.boxplot(ax=ax1,column='num_pub',by='year', showfliers=False, return_type='axes')\n",
    "# plt.show()"
   ]
  },
  {
   "cell_type": "markdown",
   "metadata": {},
   "source": [
    "# Todo: sort out"
   ]
  },
  {
   "cell_type": "markdown",
   "metadata": {},
   "source": [
    "#### There are about 1.7 milliion authors.  More than 900K (nearly half of all authors) have ended their career on the same year they started. Nearly 1.5 million authors have career length less than 10 years. \n",
    "\n",
    "#### In order to prove cumulative advantage exists - analysis should be done among scientists who perform to some extent atleast, which is measured by their career length. The inclusion of many non-performing scientists will impact the GINI coefficient anyways which is used as a measure of inequality in performances\n",
    "\n",
    "#### An appropriate career length should be chosen which\n",
    "\n",
    "##### 1) removes many non-performing scientists \n",
    "##### 2) allows enough size in each cohort group \n",
    "##### 3) gives considerable years to compare their performance"
   ]
  },
  {
   "cell_type": "code",
   "execution_count": 9,
   "metadata": {},
   "outputs": [
    {
     "ename": "KeyError",
     "evalue": "'the label [51] is not in the [index]'",
     "output_type": "error",
     "traceback": [
      "\u001b[0;31m---------------------------------------------------------------------------\u001b[0m",
      "\u001b[0;31mKeyError\u001b[0m                                  Traceback (most recent call last)",
      "\u001b[0;32m~/anaconda3/lib/python3.6/site-packages/pandas/core/indexing.py\u001b[0m in \u001b[0;36m_has_valid_type\u001b[0;34m(self, key, axis)\u001b[0m\n\u001b[1;32m   1505\u001b[0m                 \u001b[0;32mif\u001b[0m \u001b[0;32mnot\u001b[0m \u001b[0max\u001b[0m\u001b[0;34m.\u001b[0m\u001b[0mcontains\u001b[0m\u001b[0;34m(\u001b[0m\u001b[0mkey\u001b[0m\u001b[0;34m)\u001b[0m\u001b[0;34m:\u001b[0m\u001b[0;34m\u001b[0m\u001b[0m\n\u001b[0;32m-> 1506\u001b[0;31m                     \u001b[0merror\u001b[0m\u001b[0;34m(\u001b[0m\u001b[0;34m)\u001b[0m\u001b[0;34m\u001b[0m\u001b[0m\n\u001b[0m\u001b[1;32m   1507\u001b[0m             \u001b[0;32mexcept\u001b[0m \u001b[0mTypeError\u001b[0m \u001b[0;32mas\u001b[0m \u001b[0me\u001b[0m\u001b[0;34m:\u001b[0m\u001b[0;34m\u001b[0m\u001b[0m\n",
      "\u001b[0;32m~/anaconda3/lib/python3.6/site-packages/pandas/core/indexing.py\u001b[0m in \u001b[0;36merror\u001b[0;34m()\u001b[0m\n\u001b[1;32m   1500\u001b[0m                                .format(key=key,\n\u001b[0;32m-> 1501\u001b[0;31m                                        axis=self.obj._get_axis_name(axis)))\n\u001b[0m\u001b[1;32m   1502\u001b[0m \u001b[0;34m\u001b[0m\u001b[0m\n",
      "\u001b[0;31mKeyError\u001b[0m: 'the label [51] is not in the [index]'",
      "\nDuring handling of the above exception, another exception occurred:\n",
      "\u001b[0;31mKeyError\u001b[0m                                  Traceback (most recent call last)",
      "\u001b[0;32m<ipython-input-9-71bd5f18a6cd>\u001b[0m in \u001b[0;36m<module>\u001b[0;34m()\u001b[0m\n\u001b[1;32m      3\u001b[0m \u001b[0;31m#CAREER_LENGTH_LIST = [0]\u001b[0m\u001b[0;34m\u001b[0m\u001b[0;34m\u001b[0m\u001b[0m\n\u001b[1;32m      4\u001b[0m \u001b[0;34m\u001b[0m\u001b[0m\n\u001b[0;32m----> 5\u001b[0;31m \u001b[0mplot\u001b[0m\u001b[0;34m.\u001b[0m\u001b[0mplot_cohort_participation_year_wise_for\u001b[0m\u001b[0;34m(\u001b[0m\u001b[0mauthorScientificYearStartEnd_publish_count\u001b[0m\u001b[0;34m,\u001b[0m \u001b[0mauthorPublicationData\u001b[0m\u001b[0;34m,\u001b[0m\u001b[0mCAREER_LENGTH_LIST\u001b[0m\u001b[0;34m)\u001b[0m\u001b[0;34m\u001b[0m\u001b[0m\n\u001b[0m",
      "\u001b[0;32m~/cumulative-advantage/plot.py\u001b[0m in \u001b[0;36mplot_cohort_participation_year_wise_for\u001b[0;34m(authorScientificYearStartEnd, data, CAREER_LENGTH_LIST)\u001b[0m\n\u001b[1;32m    690\u001b[0m             \u001b[0;32melse\u001b[0m\u001b[0;34m:\u001b[0m\u001b[0;34m\u001b[0m\u001b[0m\n\u001b[1;32m    691\u001b[0m                 \u001b[0;32mfor\u001b[0m \u001b[0msub_yr\u001b[0m \u001b[0;32min\u001b[0m  \u001b[0msubsequent_years\u001b[0m\u001b[0;34m:\u001b[0m\u001b[0;34m\u001b[0m\u001b[0m\n\u001b[0;32m--> 692\u001b[0;31m                     \u001b[0mcareerLengthSelectionFrame\u001b[0m\u001b[0;34m.\u001b[0m\u001b[0mloc\u001b[0m\u001b[0;34m[\u001b[0m\u001b[0mca\u001b[0m\u001b[0;34m]\u001b[0m\u001b[0;34m[\u001b[0m\u001b[0myear\u001b[0m\u001b[0;34m]\u001b[0m\u001b[0;34m=\u001b[0m \u001b[0;36m0.0\u001b[0m\u001b[0;34m\u001b[0m\u001b[0m\n\u001b[0m\u001b[1;32m    693\u001b[0m                     \u001b[0mcareerLengthSelectionFrameInNos\u001b[0m\u001b[0;34m.\u001b[0m\u001b[0mloc\u001b[0m\u001b[0;34m[\u001b[0m\u001b[0mca\u001b[0m\u001b[0;34m]\u001b[0m\u001b[0;34m[\u001b[0m\u001b[0myear\u001b[0m\u001b[0;34m]\u001b[0m\u001b[0;34m=\u001b[0m \u001b[0;36m0\u001b[0m\u001b[0;34m\u001b[0m\u001b[0m\n\u001b[1;32m    694\u001b[0m                     \u001b[0mca\u001b[0m \u001b[0;34m+=\u001b[0m \u001b[0mstep\u001b[0m\u001b[0;34m\u001b[0m\u001b[0m\n",
      "\u001b[0;32m~/anaconda3/lib/python3.6/site-packages/pandas/core/indexing.py\u001b[0m in \u001b[0;36m__getitem__\u001b[0;34m(self, key)\u001b[0m\n\u001b[1;32m   1371\u001b[0m \u001b[0;34m\u001b[0m\u001b[0m\n\u001b[1;32m   1372\u001b[0m             \u001b[0mmaybe_callable\u001b[0m \u001b[0;34m=\u001b[0m \u001b[0mcom\u001b[0m\u001b[0;34m.\u001b[0m\u001b[0m_apply_if_callable\u001b[0m\u001b[0;34m(\u001b[0m\u001b[0mkey\u001b[0m\u001b[0;34m,\u001b[0m \u001b[0mself\u001b[0m\u001b[0;34m.\u001b[0m\u001b[0mobj\u001b[0m\u001b[0;34m)\u001b[0m\u001b[0;34m\u001b[0m\u001b[0m\n\u001b[0;32m-> 1373\u001b[0;31m             \u001b[0;32mreturn\u001b[0m \u001b[0mself\u001b[0m\u001b[0;34m.\u001b[0m\u001b[0m_getitem_axis\u001b[0m\u001b[0;34m(\u001b[0m\u001b[0mmaybe_callable\u001b[0m\u001b[0;34m,\u001b[0m \u001b[0maxis\u001b[0m\u001b[0;34m=\u001b[0m\u001b[0maxis\u001b[0m\u001b[0;34m)\u001b[0m\u001b[0;34m\u001b[0m\u001b[0m\n\u001b[0m\u001b[1;32m   1374\u001b[0m \u001b[0;34m\u001b[0m\u001b[0m\n\u001b[1;32m   1375\u001b[0m     \u001b[0;32mdef\u001b[0m \u001b[0m_is_scalar_access\u001b[0m\u001b[0;34m(\u001b[0m\u001b[0mself\u001b[0m\u001b[0;34m,\u001b[0m \u001b[0mkey\u001b[0m\u001b[0;34m)\u001b[0m\u001b[0;34m:\u001b[0m\u001b[0;34m\u001b[0m\u001b[0m\n",
      "\u001b[0;32m~/anaconda3/lib/python3.6/site-packages/pandas/core/indexing.py\u001b[0m in \u001b[0;36m_getitem_axis\u001b[0;34m(self, key, axis)\u001b[0m\n\u001b[1;32m   1624\u001b[0m \u001b[0;34m\u001b[0m\u001b[0m\n\u001b[1;32m   1625\u001b[0m         \u001b[0;31m# fall thru to straight lookup\u001b[0m\u001b[0;34m\u001b[0m\u001b[0;34m\u001b[0m\u001b[0m\n\u001b[0;32m-> 1626\u001b[0;31m         \u001b[0mself\u001b[0m\u001b[0;34m.\u001b[0m\u001b[0m_has_valid_type\u001b[0m\u001b[0;34m(\u001b[0m\u001b[0mkey\u001b[0m\u001b[0;34m,\u001b[0m \u001b[0maxis\u001b[0m\u001b[0;34m)\u001b[0m\u001b[0;34m\u001b[0m\u001b[0m\n\u001b[0m\u001b[1;32m   1627\u001b[0m         \u001b[0;32mreturn\u001b[0m \u001b[0mself\u001b[0m\u001b[0;34m.\u001b[0m\u001b[0m_get_label\u001b[0m\u001b[0;34m(\u001b[0m\u001b[0mkey\u001b[0m\u001b[0;34m,\u001b[0m \u001b[0maxis\u001b[0m\u001b[0;34m=\u001b[0m\u001b[0maxis\u001b[0m\u001b[0;34m)\u001b[0m\u001b[0;34m\u001b[0m\u001b[0m\n\u001b[1;32m   1628\u001b[0m \u001b[0;34m\u001b[0m\u001b[0m\n",
      "\u001b[0;32m~/anaconda3/lib/python3.6/site-packages/pandas/core/indexing.py\u001b[0m in \u001b[0;36m_has_valid_type\u001b[0;34m(self, key, axis)\u001b[0m\n\u001b[1;32m   1512\u001b[0m                 \u001b[0;32mraise\u001b[0m\u001b[0;34m\u001b[0m\u001b[0m\n\u001b[1;32m   1513\u001b[0m             \u001b[0;32mexcept\u001b[0m\u001b[0;34m:\u001b[0m\u001b[0;34m\u001b[0m\u001b[0m\n\u001b[0;32m-> 1514\u001b[0;31m                 \u001b[0merror\u001b[0m\u001b[0;34m(\u001b[0m\u001b[0;34m)\u001b[0m\u001b[0;34m\u001b[0m\u001b[0m\n\u001b[0m\u001b[1;32m   1515\u001b[0m \u001b[0;34m\u001b[0m\u001b[0m\n\u001b[1;32m   1516\u001b[0m         \u001b[0;32mreturn\u001b[0m \u001b[0;32mTrue\u001b[0m\u001b[0;34m\u001b[0m\u001b[0m\n",
      "\u001b[0;32m~/anaconda3/lib/python3.6/site-packages/pandas/core/indexing.py\u001b[0m in \u001b[0;36merror\u001b[0;34m()\u001b[0m\n\u001b[1;32m   1499\u001b[0m                 raise KeyError(u\"the label [{key}] is not in the [{axis}]\"\n\u001b[1;32m   1500\u001b[0m                                .format(key=key,\n\u001b[0;32m-> 1501\u001b[0;31m                                        axis=self.obj._get_axis_name(axis)))\n\u001b[0m\u001b[1;32m   1502\u001b[0m \u001b[0;34m\u001b[0m\u001b[0m\n\u001b[1;32m   1503\u001b[0m             \u001b[0;32mtry\u001b[0m\u001b[0;34m:\u001b[0m\u001b[0;34m\u001b[0m\u001b[0m\n",
      "\u001b[0;31mKeyError\u001b[0m: 'the label [51] is not in the [index]'"
     ]
    },
    {
     "data": {
      "image/png": "[encoded data removed]",
      "text/plain": [
       "<matplotlib.figure.Figure at 0x7f08d46281d0>"
      ]
     },
     "metadata": {},
     "output_type": "display_data"
    },
    {
     "data": {
      "image/png": "[encoded data removed]",
      "text/plain": [
       "<matplotlib.figure.Figure at 0x7f08d460bef0>"
      ]
     },
     "metadata": {},
     "output_type": "display_data"
    }
   ],
   "source": [
    "#Try with different career length and see (what fraction of/how many of researchers) in each cohort is available over their career span\n",
    "CAREER_LENGTH_LIST = [0,5,10,15,20,25]\n",
    "#CAREER_LENGTH_LIST = [0]\n",
    "\n",
    "plot.plot_cohort_participation_year_wise_for(authorScientificYearStartEnd_publish_count, authorPublicationData,CAREER_LENGTH_LIST)"
   ]
  },
  {
   "cell_type": "markdown",
   "metadata": {},
   "source": [
    "Notes or Analysis:\n",
    "* Our baseline for this analysis - it is mandatory to have atleast 100 authors in each cohort and 10 cohorts atleast should be analysed for atleast 10 years\n",
    "* Good news is that - in all the above constraints we have 100 authors per each cohort. (20% of cohort size is maintained)\n",
    "\n",
    "20-30 cohorts are good enough, considering that, career length -15 and 20 is looking promising"
   ]
  },
  {
   "cell_type": "code",
   "execution_count": null,
   "metadata": {
    "collapsed": true
   },
   "outputs": [],
   "source": [
    "#just for debugging\n",
    "from importlib import reload\n",
    "reload(plot)\n",
    "reload(calculate)"
   ]
  },
  {
   "cell_type": "markdown",
   "metadata": {},
   "source": [
    "### Group the authors by contribution in 2 years"
   ]
  },
  {
   "cell_type": "code",
   "execution_count": null,
   "metadata": {
    "collapsed": true
   },
   "outputs": [],
   "source": [
    "groupByYearData = authorPublicationData.copy(deep=True)\n",
    "print(groupByYearData[groupByYearData['author'] == 'donatella sciuto'].head(5))\n",
    "# GROUPING BY 2 years\n",
    "groupByYearData = calculate.groupDataAndCalculateCumulativeValues(groupByYearData, 2, 'num_pub')\n",
    "print(groupByYearData[groupByYearData['author'] == 'donatella sciuto'].head(5))"
   ]
  },
  {
   "cell_type": "code",
   "execution_count": null,
   "metadata": {
    "collapsed": true
   },
   "outputs": [],
   "source": [
    "#Try with different career length and see (what fraction of/how many of researchers) in each cohort is available over their career span\n",
    "CAREER_LENGTH_LIST = [0,5,10,15,20,25]\n",
    "#CAREER_LENGTH_LIST = [0]\n",
    "plot.plot_cohort_participation_year_wise_for(authorScientificYearStartEnd_publish_count, groupByYearData,CAREER_LENGTH_LIST)"
   ]
  },
  {
   "cell_type": "markdown",
   "metadata": {},
   "source": [
    "### Group the authors by contribution in 3 years"
   ]
  },
  {
   "cell_type": "code",
   "execution_count": null,
   "metadata": {
    "collapsed": true
   },
   "outputs": [],
   "source": [
    "groupByYearData = authorPublicationData.copy(deep=True)\n",
    "print(groupByYearData[groupByYearData['author'] == 'donatella sciuto'].head(5))\n",
    "# GROUPING BY 2 years\n",
    "groupByYearData = calculate.groupDataAndCalculateCumulativeValues(groupByYearData, 3, 'num_pub')\n",
    "print(groupByYearData[groupByYearData['author'] == 'donatella sciuto'].head(5))"
   ]
  },
  {
   "cell_type": "code",
   "execution_count": null,
   "metadata": {
    "collapsed": true
   },
   "outputs": [],
   "source": [
    "#Try with different career length and see (what fraction of/how many of researchers) in each cohort is available over their career span\n",
    "CAREER_LENGTH_LIST = [0,5,10,15,20,25]\n",
    "#CAREER_LENGTH_LIST = [0]\n",
    "plot.plot_cohort_participation_year_wise_for(authorScientificYearStartEnd_publish_count, groupByYearData,CAREER_LENGTH_LIST)"
   ]
  },
  {
   "cell_type": "markdown",
   "metadata": {
    "heading_collapsed": true
   },
   "source": [
    "### END - the rest of the code can be avoided"
   ]
  },
  {
   "cell_type": "markdown",
   "metadata": {},
   "source": [
    "### Filter Cohorts: remove authors who have less than N years of career \n"
   ]
  },
  {
   "cell_type": "code",
   "execution_count": null,
   "metadata": {
    "collapsed": true
   },
   "outputs": [],
   "source": [
    "# Make a list of career length \n",
    "step = 3\n",
    "count = (max(years) - min(years)) / step\n",
    "count = int(count)\n",
    "career_length_list = range(count+1) \n",
    "career_length_list = [num*step for num in career_length_list]\n",
    "print(career_length_list)"
   ]
  },
  {
   "cell_type": "code",
   "execution_count": null,
   "metadata": {
    "collapsed": true
   },
   "outputs": [],
   "source": [
    "career_length_cohort = pd.DataFrame(index=years)\n",
    "per_career_length_cohort = pd.DataFrame(index=years)\n",
    "\n",
    "career_age_0 = authorScientificYearStartEnd_publish_count.groupby(['start_year'])['author'].count()\n",
    "for career_length in range(0,(max(years) - min(years))):\n",
    "    temp = authorScientificYearStartEnd_publish_count[authorScientificYearStartEnd_publish_count['career_length'] >= career_length]\n",
    "    career_length_cohort[str(career_length)] = temp.groupby(['start_year'])['author'].count()\n",
    "    per_career_length_cohort[str(career_length)] = career_length_cohort[str(career_length)] / career_age_0\n",
    "    \n",
    "career_length_cohort.replace(to_replace=np.NaN, value=0, inplace=True)\n",
    "career_length_cohort.head()\n",
    "\n",
    "per_career_length_cohort.replace(to_replace=np.NaN, value=0, inplace=True)\n",
    "per_career_length_cohort.head()"
   ]
  },
  {
   "cell_type": "code",
   "execution_count": null,
   "metadata": {
    "collapsed": true
   },
   "outputs": [],
   "source": [
    "interested_career_lengths = [str(num) for num in range(0,10)]\n",
    "per_career_length_cohort[interested_career_lengths].plot(kind='area', stacked=False)"
   ]
  },
  {
   "cell_type": "code",
   "execution_count": null,
   "metadata": {
    "collapsed": true
   },
   "outputs": [],
   "source": [
    "interested_career_lengths = [str(num) for num in range(0,20,5)]\n",
    "per_career_length_cohort[interested_career_lengths].plot(kind='area', stacked=False)"
   ]
  },
  {
   "cell_type": "code",
   "execution_count": null,
   "metadata": {
    "collapsed": true
   },
   "outputs": [],
   "source": [
    "per_career_length_cohort[['0','5','10','15','20','40']].plot(kind='area', stacked=False)"
   ]
  },
  {
   "cell_type": "code",
   "execution_count": null,
   "metadata": {
    "collapsed": true
   },
   "outputs": [],
   "source": [
    "new_df['0'].values"
   ]
  },
  {
   "cell_type": "code",
   "execution_count": null,
   "metadata": {
    "collapsed": true
   },
   "outputs": [],
   "source": [
    "percentage_df = new_df / new_df['0'].values\n",
    "percentage_df.head()"
   ]
  },
  {
   "cell_type": "code",
   "execution_count": null,
   "metadata": {
    "collapsed": true
   },
   "outputs": [],
   "source": [
    "career_atleast_5_years = cohortGroup[cohortGroup['career_length'] > 5]\n",
    "career_atleast_5_years.head()"
   ]
  },
  {
   "cell_type": "code",
   "execution_count": null,
   "metadata": {
    "collapsed": true
   },
   "outputs": [],
   "source": [
    "N = 15\n",
    "\n",
    "authorScientificYearStartEnd_publish_count[\"career_length\"] = authorScientificYearStartEnd_publish_count['end_year'] - authorScientificYearStartEnd_publish_count['start_year']   \n",
    "#print(authorScientificYearStartEnd_publish_count.head())\n",
    "\n",
    "credible_authors = authorScientificYearStartEnd_publish_count[authorScientificYearStartEnd_publish_count.career_length >= N ]\n",
    "#print(credible_authors.head())\n",
    "\n",
    "credible_cohort = credible_authors.groupby(\"start_year\").count()\n",
    "credible_cohort.rename(columns = {'author':'num_author_filtered'}, inplace = True)\n",
    "#print(credible_cohort.head())\n",
    "\n",
    "# how many people remain in each cohort after filtering\n",
    "print(credible_cohort[\"num_author_filtered\"].describe())\n",
    "\n",
    "#looks like we only observe 10 or more career years for people who started later --> DBPL coverage became better in later years\n",
    "print(credible_cohort.reset_index()[\"start_year\"].unique())\n",
    "\n",
    "# visualize changes after filtering!\n",
    "\n",
    "num_newbies.rename(columns = {'author':'num_author'}, inplace = True)\n",
    "cohort_size = pd.DataFrame(num_newbies[\"num_author\"]).join(credible_cohort[\"num_author_filtered\"])\n",
    "#print(cohort_size)\n",
    "\n",
    "\n",
    "fig, ax = plt.subplots()\n",
    "width = 0.3       # the width of the bars\n",
    "Y = len(cohort_size.reset_index()[\"start_year\"])\n",
    "ind = np.arange(Y)\n",
    "\n",
    "rects1 = ax.bar(ind, cohort_size[\"num_author\"], width, color='b')\n",
    "rects2 = ax.bar(ind+ width, cohort_size[\"num_author_filtered\"], width, color='r')\n",
    "ax.set_ylabel('num scientists')\n",
    "ax.set_title('Cohort Size')\n",
    "ax.set_xticks(ind + width / 2)\n",
    "\n",
    "ax.set_xticklabels(cohort_size.reset_index()[\"start_year\"], rotation=90)\n",
    "\n",
    "ax.legend((rects1[0], rects2[0]), ('all', 'more than '+str(N)+'years'))\n"
   ]
  },
  {
   "cell_type": "code",
   "execution_count": null,
   "metadata": {
    "collapsed": true
   },
   "outputs": [],
   "source": [
    "print(ind)"
   ]
  },
  {
   "cell_type": "code",
   "execution_count": null,
   "metadata": {
    "collapsed": true
   },
   "outputs": [],
   "source": [
    "credible_authors.to_csv(folder+'/authors-scientific-atleast-'+str(N)+'-year.csv',\n",
    "                        index=False, encoding='utf-8')"
   ]
  },
  {
   "cell_type": "code",
   "execution_count": null,
   "metadata": {
    "collapsed": true
   },
   "outputs": [],
   "source": [
    "print(authorPublicationsData.head())\n",
    "\n",
    "credibleAuthorPublicationsData = authorPublicationsData[authorPublicationsData['author'].isin(credible_authors['author'])]\n",
    "credibleAuthorPublicationsData.reset_index(inplace=True)\n",
    "\n",
    "#Crosschecking whether the filtering worked or not\n",
    "print('Authors# - ',credibleAuthorPublicationsData['author'].nunique())\n",
    "print('Year# - ',credibleAuthorPublicationsData['year'].nunique())\n",
    "print('Publications# - ',credibleAuthorPublicationsData['pub_id'].nunique())"
   ]
  },
  {
   "cell_type": "code",
   "execution_count": null,
   "metadata": {
    "collapsed": true
   },
   "outputs": [],
   "source": []
  },
  {
   "cell_type": "code",
   "execution_count": null,
   "metadata": {
    "collapsed": true
   },
   "outputs": [],
   "source": []
  },
  {
   "cell_type": "code",
   "execution_count": null,
   "metadata": {
    "collapsed": true
   },
   "outputs": [],
   "source": []
  },
  {
   "cell_type": "code",
   "execution_count": null,
   "metadata": {
    "collapsed": true
   },
   "outputs": [],
   "source": [
    "#todo: remove this part to avoid redundancy and copied code"
   ]
  },
  {
   "cell_type": "markdown",
   "metadata": {},
   "source": [
    "### For scientists-10-years-10-papers\n",
    "#### We examine when authors start their publications and how does their distribution looks like\n",
    "#### At the same time, when does their scientific career ends and how does the distribution looks like"
   ]
  },
  {
   "cell_type": "code",
   "execution_count": null,
   "metadata": {
    "collapsed": true
   },
   "outputs": [],
   "source": [
    "#Group by author\n",
    "groupByAuthor = credibleAuthorPublicationsData.groupby(['author'])\n",
    "# find the minimum and maximum year of publications and its count for each author\n",
    "groupByAuthorMinYearData = groupByAuthor['year'].min()\n",
    "groupByAuthorMaxYearData = groupByAuthor['year'].max()\n",
    "groupByAuthorCountPublicationsData = groupByAuthor['pub_id'].count()"
   ]
  },
  {
   "cell_type": "markdown",
   "metadata": {},
   "source": [
    "### More no. of new scientfic researchers are involved as the year progresses\n",
    "#### At year 2005 - fewer new scientists have published ( as of now ignoring it - could be a problem in code)\n",
    "#### No. of cohort groups is 36\n",
    "#### Minimum cohort size is 433 and maximum is 8465\n",
    "#### 75% of 36 groups are over 736 in group size"
   ]
  },
  {
   "cell_type": "code",
   "execution_count": null,
   "metadata": {
    "collapsed": true
   },
   "outputs": [],
   "source": [
    "scientificYearStartHistogram = groupByAuthorMinYearData.value_counts(sort=False)\n",
    "ax = scientificYearStartHistogram.sort_index().plot(kind='bar', title='Start of Scientific career histogram')\n",
    "ax.set_xlabel(\"Year\")\n",
    "ax.set_ylabel(\"No. of authors who published first time\")\n",
    "\n",
    "plt.show()\n",
    "\n",
    "scientificYearStartHistogram.describe()"
   ]
  },
  {
   "cell_type": "code",
   "execution_count": null,
   "metadata": {
    "collapsed": true
   },
   "outputs": [],
   "source": [
    "#Manually checked to ensure they are right\n",
    "scientificYearStartHistogram.sort_index()"
   ]
  },
  {
   "cell_type": "code",
   "execution_count": null,
   "metadata": {
    "collapsed": true
   },
   "outputs": [],
   "source": [
    "scientificYearStartHistogram = groupByAuthorMinYearData.value_counts(sort=False)\n",
    "ax = scientificYearStartHistogram[scientificYearStartHistogram.index < 2000].sort_index().plot(kind='bar', title='Start of Scientific career histogram')\n",
    "ax.set_xlabel(\"Year\")\n",
    "ax.set_ylabel(\"No. of authors who published first time\")\n",
    "\n",
    "plt.show()\n",
    "\n",
    "scientificYearStartHistogram[scientificYearStartHistogram.index < 2000].describe()"
   ]
  },
  {
   "cell_type": "markdown",
   "metadata": {},
   "source": [
    "### Culmination of research increases as  year progresses - Correlates with the increase of Start of Scientific career\n",
    "#### At year 2016, there is a dip - need to analyse it - we shall ignore for this moment"
   ]
  },
  {
   "cell_type": "code",
   "execution_count": null,
   "metadata": {
    "collapsed": true,
    "scrolled": true
   },
   "outputs": [],
   "source": [
    "scientificYearEndHistogram = groupByAuthorMaxYearData.value_counts(sort=False)\n",
    "ax = scientificYearEndHistogram.sort_index().plot(kind='bar', \n",
    "                                                  title='End of Scientific career histogram')\n",
    "ax.set_xlabel(\"Year\")\n",
    "ax.set_ylabel(\"No. of authors who published last time\")\n",
    "#ax.set_ylim([0,3000])\n",
    "plt.show()\n",
    "\n",
    "scientificYearEndHistogram.describe()"
   ]
  },
  {
   "cell_type": "code",
   "execution_count": null,
   "metadata": {
    "collapsed": true
   },
   "outputs": [],
   "source": [
    "scientificYearEndHistogram.sort_index()"
   ]
  },
  {
   "cell_type": "markdown",
   "metadata": {},
   "source": [
    "#### Some other analysis that could be done  are\n",
    "1) We find the best/better cohort group(s) that can be compared. As of now, if we consider atleast 15 years of research can be used for comparison then we have 32 cohort groups (1970 to 2001)\n",
    "Best cohort group - similar characteristics (there might be many reasons for one to end his/her scientific career)\n",
    "Consider people who start and at the same time end their career as well ???\n",
    "Also Consider their growth (their peak time and the trend) ???\n",
    "\n",
    "2) Increase the cohort group size - Can group the authors by years\n",
    "\n",
    "3) Drop out rates are high - this is why we insist 10/20 year 10/20 paper constraint"
   ]
  },
  {
   "cell_type": "markdown",
   "metadata": {},
   "source": [
    "### For scientists-20-years-20-papers\n",
    "#### We examine when authors start their publications and how does their distribution looks like\n",
    "#### At the same time, when does their scientific career ends and how does the distribution looks like"
   ]
  },
  {
   "cell_type": "code",
   "execution_count": null,
   "metadata": {
    "collapsed": true
   },
   "outputs": [],
   "source": [
    "credibleAuthorPublicationsData = authorPublicationsData[authorPublicationsData['author'].isin(credible_authors_20['author'])]\n",
    "credibleAuthorPublicationsData.reset_index(inplace=True)\n",
    "\n",
    "#Crosschecking whether the filtering worked or not\n",
    "print('Authors# - ',credibleAuthorPublicationsData['author'].nunique())\n",
    "print('Year# - ',credibleAuthorPublicationsData['year'].nunique())\n",
    "print('Publications# - ',credibleAuthorPublicationsData['pub_id'].nunique())"
   ]
  },
  {
   "cell_type": "code",
   "execution_count": null,
   "metadata": {
    "collapsed": true
   },
   "outputs": [],
   "source": [
    "#Group by author\n",
    "groupByAuthor = credibleAuthorPublicationsData.groupby(['author'])\n",
    "# find the minimum and maximum year of publications and its count for each author\n",
    "groupByAuthorMinYearData = groupByAuthor['year'].min()\n",
    "groupByAuthorMaxYearData = groupByAuthor['year'].max()\n",
    "groupByAuthorCountPublicationsData = groupByAuthor['pub_id'].count()"
   ]
  },
  {
   "cell_type": "code",
   "execution_count": null,
   "metadata": {
    "collapsed": true
   },
   "outputs": [],
   "source": [
    "scientificYearStartHistogram = groupByAuthorMinYearData.value_counts(sort=False)\n",
    "ax = scientificYearStartHistogram.sort_index().plot(kind='bar', title='Start of Scientific career histogram')\n",
    "ax.set_xlabel(\"Year\")\n",
    "ax.set_ylabel(\"No. of authors who published first time\")\n",
    "plt.show()\n",
    "\n",
    "scientificYearStartHistogram.describe()"
   ]
  },
  {
   "cell_type": "code",
   "execution_count": null,
   "metadata": {
    "collapsed": true
   },
   "outputs": [],
   "source": [
    "scientificYearEndHistogram = groupByAuthorMaxYearData.value_counts(sort=False)\n",
    "ax = scientificYearEndHistogram.sort_index().plot(kind='bar', title='End of Scientific career histogram')\n",
    "ax.set_xlabel(\"Year\")\n",
    "ax.set_ylabel(\"No. of authors who published last time\")\n",
    "plt.show()\n",
    "\n",
    "scientificYearEndHistogram.describe()"
   ]
  },
  {
   "cell_type": "code",
   "execution_count": null,
   "metadata": {
    "collapsed": true
   },
   "outputs": [],
   "source": [
    "end_time = timeit.default_timer()\n",
    "print('End Time (in sec) - ',end_time)\n",
    "print('Time taken (in sec) - ',end_time-start_time)"
   ]
  },
  {
   "cell_type": "code",
   "execution_count": null,
   "metadata": {
    "collapsed": true
   },
   "outputs": [],
   "source": []
  },
  {
   "cell_type": "markdown",
   "metadata": {},
   "source": [
    "### Cohort Size group (whether individual years are good enough or clubs of few years are required)\n",
    "\n",
    "* A cohort is a set of researchers that started their career in the same year. We use the first publication of a research as proxy for his/her career start. Since we want to follow researchers over time, we only include researchers that were active over at least 10 years (i.e., they published at least 2 papers, their first one and another one 10 years later)\n",
    "* What is the size of each cohort?\n",
    "* Record for those people how many papers they publish in each year, how many citations they have received, their h-index\n",
    "\n",
    "\n",
    "#### First and foremost - let us look at the performance of researchers\n",
    "#### We need to remove the dropouts based on following condition\n",
    "##### researchers whose career span is less than 10 years \n",
    "##### and has published less than 10 papers (necessary ? - as of now keeping it)"
   ]
  }
 ],
 "metadata": {
  "anaconda-cloud": {},
  "kernelspec": {
   "display_name": "Python 3",
   "language": "python",
   "name": "python3"
  },
  "language_info": {
   "codemirror_mode": {
    "name": "ipython",
    "version": 3
   },
   "file_extension": ".py",
   "mimetype": "text/x-python",
   "name": "python",
   "nbconvert_exporter": "python",
   "pygments_lexer": "ipython3",
   "version": "3.6.4"
  }
 },
 "nbformat": 4,
 "nbformat_minor": 2
}
