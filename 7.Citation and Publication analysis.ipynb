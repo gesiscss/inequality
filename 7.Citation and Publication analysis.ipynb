{
 "cells": [
  {
   "cell_type": "code",
   "execution_count": 104,
   "metadata": {},
   "outputs": [],
   "source": [
    "import pandas as pd\n",
    "import calculate\n",
    "import matplotlib.pyplot as plt\n",
    "import numpy as np\n",
    "from calculate import gini, hhi, percentage_zeros, gini_nonzero\n",
    "gini_nonzero.display_name = 'Gini without zeroes'\n",
    "percentage_zeros.display_name = 'Percentage of zeroes'\n",
    "np.mean.display_name = 'Average'\n",
    "import seaborn as sns\n",
    "\n",
    "from credible_authors_ import DataStore\n",
    "\n",
    "START_YEAR = 1970\n",
    "LAST_START_YEAR = 2000"
   ]
  },
  {
   "cell_type": "code",
   "execution_count": 2,
   "metadata": {},
   "outputs": [
    {
     "data": {
      "text/plain": [
       "<module 'calculate' from '/home/danielkostic/cumulative-advantage/calculate.py'>"
      ]
     },
     "execution_count": 2,
     "metadata": {},
     "output_type": "execute_result"
    }
   ],
   "source": [
    "from importlib import reload\n",
    "reload(calculate)"
   ]
  },
  {
   "cell_type": "code",
   "execution_count": 3,
   "metadata": {},
   "outputs": [],
   "source": [
    "color_full = ['#000000', '#e41a1c', '#377eb8', '#4daf4a', '#984ea3', '#ff7f00', '#ffff33', '#a65628', '#f781bf', '#999999']\n",
    "color_pale = ['#7f7f7f', '#f18c8d', '#9bbedb', '#a6d7a4', '#cba6d1', '#ffbf7f', '#ffff99', '#d2aa93', '#fbc0df', '#cccccc']"
   ]
  },
  {
   "cell_type": "markdown",
   "metadata": {
    "heading_collapsed": true
   },
   "source": [
    "## Load data from csv"
   ]
  },
  {
   "cell_type": "code",
   "execution_count": 17,
   "metadata": {
    "hidden": true
   },
   "outputs": [
    {
     "name": "stdout",
     "output_type": "stream",
     "text": [
      "load publication data from CSV\n",
      "load citation data from CSV\n",
      "cited_papers_network - create\n",
      "cited_papers_network - add start year\n",
      "early_career_publications - create\n",
      "all_papers_num_cit - create\n"
     ]
    }
   ],
   "source": [
    "data_store = DataStore()\n",
    "all_papers_num_cit = data_store.all_papers_num_cit"
   ]
  },
  {
   "cell_type": "code",
   "execution_count": 4,
   "metadata": {
    "hidden": true
   },
   "outputs": [],
   "source": [
    "author_order = pd.read_csv('derived-data/publication_authors_order_2017.csv')"
   ]
  },
  {
   "cell_type": "markdown",
   "metadata": {
    "heading_collapsed": true,
    "hidden": true
   },
   "source": [
    "### Citations and uncited papers\n",
    "Dataset with all the citations to papers, together with papers that received no citations (cit_id is null)"
   ]
  },
  {
   "cell_type": "code",
   "execution_count": 20,
   "metadata": {
    "hidden": true
   },
   "outputs": [],
   "source": [
    "uncited_papers_network = authorPublicationData.merge(data_store.authorCitationsData, left_on='pub_id',\n",
    "                                                                     right_on='id2', how='left',\n",
    "                                                                     suffixes=('_pub', '_cit'))"
   ]
  },
  {
   "cell_type": "code",
   "execution_count": 21,
   "metadata": {
    "hidden": true
   },
   "outputs": [],
   "source": [
    "uncited_papers_network_first_auth = uncited_papers_network.merge(author_order[['first_author', 'pub_id']], \n",
    "                                                                 left_on=['author', 'pub_id'], \n",
    "                                                                 right_on=['first_author', 'pub_id'],how='inner')"
   ]
  },
  {
   "cell_type": "code",
   "execution_count": 23,
   "metadata": {
    "hidden": true
   },
   "outputs": [],
   "source": [
    "uncited_papers_network_first_auth = uncited_papers_network_first_auth.merge(data_store.credible_authors[\n",
    "    ['author', 'start_year']], on='author', how='left')"
   ]
  },
  {
   "cell_type": "code",
   "execution_count": 24,
   "metadata": {
    "hidden": true
   },
   "outputs": [],
   "source": [
    "uncited_papers_network_first_auth.drop('id2', axis='columns', inplace=True)\n",
    "uncited_papers_network_first_auth.rename({'id1':'cit_id'}, axis='columns', inplace=True)"
   ]
  },
  {
   "cell_type": "code",
   "execution_count": 136,
   "metadata": {
    "hidden": true
   },
   "outputs": [],
   "source": [
    "career_len = data_store.credible_authors[['author', 'career_length']]\n",
    "career_len_10 = career_len[career_len['career_length'] >= 10]"
   ]
  },
  {
   "cell_type": "code",
   "execution_count": 139,
   "metadata": {
    "hidden": true
   },
   "outputs": [],
   "source": [
    "uncited_papers_network_first_auth_10 = uncited_papers_network_first_auth.merge(\n",
    "    career_len_10['author'], how='inner', on='author')"
   ]
  },
  {
   "cell_type": "markdown",
   "metadata": {
    "heading_collapsed": true,
    "hidden": true
   },
   "source": [
    "### To remove - counts, author data, etc"
   ]
  },
  {
   "cell_type": "code",
   "execution_count": null,
   "metadata": {
    "hidden": true
   },
   "outputs": [],
   "source": [
    "authorStartEndCareerData = pd.read_csv('./derived-data/authors-scientific-extended.csv')\n",
    "authorStartEndCareerData.head()"
   ]
  },
  {
   "cell_type": "code",
   "execution_count": null,
   "metadata": {
    "hidden": true
   },
   "outputs": [],
   "source": [
    "authorPublicationData = pd.read_csv('derived-data/author-publications.csv')\n",
    "author_year_numPub = authorPublicationData.groupby(['author', 'year'])['pub_id'].count().reset_index()\n",
    "author_year_numPub = author_year_numPub.rename(columns={'pub_id':'num_pub'})"
   ]
  },
  {
   "cell_type": "code",
   "execution_count": null,
   "metadata": {
    "hidden": true
   },
   "outputs": [],
   "source": [
    "authorPublicationData.head()"
   ]
  },
  {
   "cell_type": "markdown",
   "metadata": {
    "hidden": true
   },
   "source": [
    "Load in citation window data:"
   ]
  },
  {
   "cell_type": "code",
   "execution_count": null,
   "metadata": {
    "hidden": true
   },
   "outputs": [],
   "source": [
    "WINDOW_SIZE = 3\n",
    "citations_window = pd.read_csv(f'derived-data/citations_window_{WINDOW_SIZE}.csv')\n",
    "citations_window.head()"
   ]
  },
  {
   "cell_type": "code",
   "execution_count": null,
   "metadata": {
    "hidden": true
   },
   "outputs": [],
   "source": [
    "citations_window = citations_window.merge(authorStartEndCareerData[['author', 'dropped_after_10']], on='author', how='left')"
   ]
  },
  {
   "cell_type": "code",
   "execution_count": null,
   "metadata": {
    "hidden": true
   },
   "outputs": [],
   "source": [
    "# citations_window[citations_window['author'] == 'ke xu']"
   ]
  },
  {
   "cell_type": "code",
   "execution_count": null,
   "metadata": {
    "hidden": true
   },
   "outputs": [],
   "source": [
    "counts = citations_window"
   ]
  },
  {
   "cell_type": "code",
   "execution_count": null,
   "metadata": {
    "hidden": true
   },
   "outputs": [],
   "source": [
    "years = authorStartEndCareerData['start_year'].unique()\n",
    "years = sorted(years)\n",
    "\n",
    "cohort_start_years = [year for year in years if year>=START_YEAR and year<= LAST_START_YEAR]"
   ]
  },
  {
   "cell_type": "markdown",
   "metadata": {
    "hidden": true
   },
   "source": [
    "Is this how it's done in the other analyses?\n",
    "\n",
    "Do this only if interested in cohorts:"
   ]
  },
  {
   "cell_type": "code",
   "execution_count": null,
   "metadata": {
    "hidden": true
   },
   "outputs": [],
   "source": [
    "#counts = counts[counts['year'] <= counts['end_year']]"
   ]
  },
  {
   "cell_type": "markdown",
   "metadata": {},
   "source": [
    "## Inequality of papers"
   ]
  },
  {
   "cell_type": "code",
   "execution_count": null,
   "metadata": {},
   "outputs": [],
   "source": [
    "def plot_ineq_papers_cohort(cohort_year, years_in_future=5, career_ages=[0,1,2,5,10], func=gini,\n",
    "                           data=uncited_papers_network_first_auth):\n",
    "    \n",
    "    uncited_papers_network_cohort = data[data['start_year'] \n",
    "                                                                          == cohort_year]\n",
    "    paper_cited_list = uncited_papers_network_cohort.groupby(['year_pub', 'pub_id']).agg({'year_cit': list})\n",
    "    for career_year in [cohort_year + ca for ca in career_ages]:\n",
    "#         print(f\"Career year {career_year}\")\n",
    "        paper_cited_list_year = paper_cited_list.loc[career_year]\n",
    "#         print('Cited in: ', end=' ')\n",
    "        for i in range(career_year,career_year+years_in_future):\n",
    "            paper_cited_list_year[f'cit_in_{i}'] = paper_cited_list_year['year_cit'].apply(lambda x: sum(list(map(lambda y: \n",
    "                                                                                                                  y==i, x))))\n",
    "#             print(i, end=' ')\n",
    "#         print(paper_cited_list_year.columns)\n",
    "        ginis = [func(paper_cited_list_year[col].astype(float).values) for col in paper_cited_list_year.columns[1:]]\n",
    "#         print(ginis)\n",
    "        plt.plot(ginis, label=f'{career_year-cohort_year}')\n",
    "    plt.xlabel('Years after publishing')\n",
    "    if func.__name__ == 'gini': \n",
    "        ylab = 'Gini in Recognition'\n",
    "    else:\n",
    "        ylab = func.display_name\n",
    "    plt.ylabel(ylab)\n",
    "    plt.legend(title='Career age when published')\n",
    "    plt.title(f'Paper inequality for Cohort: {cohort_year}')\n",
    "    plt.show()"
   ]
  },
  {
   "cell_type": "markdown",
   "metadata": {},
   "source": [
    "### Authors with career len > 10"
   ]
  },
  {
   "cell_type": "code",
   "execution_count": 146,
   "metadata": {},
   "outputs": [
    {
     "data": {
      "image/png": "[encoded data removed]",
      "text/plain": [
       "<Figure size 432x288 with 1 Axes>"
      ]
     },
     "metadata": {
      "needs_background": "light"
     },
     "output_type": "display_data"
    }
   ],
   "source": [
    "plot_ineq_papers_cohort(2000, 5, func=percentage_zeros, data=uncited_papers_network_first_auth_10)"
   ]
  },
  {
   "cell_type": "code",
   "execution_count": 147,
   "metadata": {},
   "outputs": [
    {
     "data": {
      "image/png": "[encoded data removed]",
      "text/plain": [
       "<Figure size 432x288 with 1 Axes>"
      ]
     },
     "metadata": {
      "needs_background": "light"
     },
     "output_type": "display_data"
    }
   ],
   "source": [
    "plot_ineq_papers_cohort(2000, 5, func=gini, data=uncited_papers_network_first_auth_10)"
   ]
  },
  {
   "cell_type": "code",
   "execution_count": 148,
   "metadata": {},
   "outputs": [
    {
     "data": {
      "image/png": "[encoded data removed]",
      "text/plain": [
       "<Figure size 432x288 with 1 Axes>"
      ]
     },
     "metadata": {
      "needs_background": "light"
     },
     "output_type": "display_data"
    }
   ],
   "source": [
    "plot_ineq_papers_cohort(2000, 5, func=gini_nonzero, data=uncited_papers_network_first_auth_10)"
   ]
  },
  {
   "cell_type": "markdown",
   "metadata": {},
   "source": [
    "### All authors"
   ]
  },
  {
   "cell_type": "code",
   "execution_count": 149,
   "metadata": {},
   "outputs": [
    {
     "data": {
      "image/png": "[encoded data removed]",
      "text/plain": [
       "<Figure size 432x288 with 1 Axes>"
      ]
     },
     "metadata": {
      "needs_background": "light"
     },
     "output_type": "display_data"
    },
    {
     "data": {
      "image/png": "[encoded data removed]",
      "text/plain": [
       "<Figure size 432x288 with 1 Axes>"
      ]
     },
     "metadata": {
      "needs_background": "light"
     },
     "output_type": "display_data"
    },
    {
     "data": {
      "image/png": "[encoded data removed]",
      "text/plain": [
       "<Figure size 432x288 with 1 Axes>"
      ]
     },
     "metadata": {
      "needs_background": "light"
     },
     "output_type": "display_data"
    }
   ],
   "source": [
    "plot_ineq_papers_cohort(2000, 5, func=percentage_zeros)\n",
    "plot_ineq_papers_cohort(2000, 5, func=gini_nonzero)\n",
    "plot_ineq_papers_cohort(2000, 5, func=gini)"
   ]
  },
  {
   "cell_type": "code",
   "execution_count": 150,
   "metadata": {},
   "outputs": [
    {
     "data": {
      "image/png": "[encoded data removed]",
      "text/plain": [
       "<Figure size 432x288 with 1 Axes>"
      ]
     },
     "metadata": {
      "needs_background": "light"
     },
     "output_type": "display_data"
    }
   ],
   "source": [
    "plot_ineq_papers_cohort(2000, 5, func=np.mean)"
   ]
  },
  {
   "cell_type": "markdown",
   "metadata": {},
   "source": [
    "## Cohort Sizes"
   ]
  },
  {
   "cell_type": "code",
   "execution_count": null,
   "metadata": {},
   "outputs": [],
   "source": [
    "cohort_sizes = counts.groupby('start_year').agg({'author': 'nunique'})"
   ]
  },
  {
   "cell_type": "code",
   "execution_count": null,
   "metadata": {},
   "outputs": [],
   "source": [
    "def plot_cohort_size_over_years():\n",
    "    linewidth = 2\n",
    "    fontsize = 18\n",
    "    fig = plt.figure(figsize=(4, 4))\n",
    "    ax = fig.add_subplot(111)\n",
    "    ax.plot(cohort_sizes.index, cohort_sizes.values, linewidth=linewidth, color='black')\n",
    "    ax.xaxis.set_ticks_position('both')\n",
    "    ax.yaxis.set_ticks_position('both')\n",
    "    ax.set_yscale('log')\n",
    "    ax.set_xlabel('Cohort', fontsize=fontsize)\n",
    "    ax.set_ylabel('Number of Authors', fontsize=fontsize)\n",
    "    #ax.set_title('', fontsize=fontsize)\n",
    "    ax.set_xticks([1970, 1980, 1990, 2000])\n",
    "    ax.tick_params(axis=\"x\", which='major', direction=\"in\", width=linewidth, size=4*linewidth, labelsize=fontsize, pad=7)\n",
    "    ax.tick_params(axis=\"x\", which='minor', direction=\"in\", width=linewidth, size=2*linewidth, labelsize=fontsize, pad=7)\n",
    "    ax.tick_params(axis=\"y\", which='major', direction=\"in\", width=linewidth, size=4*linewidth, labelsize=fontsize)\n",
    "    ax.tick_params(axis=\"y\", which='minor', direction=\"in\", width=linewidth, size=2*linewidth, labelsize=fontsize)\n",
    "    ax.spines['left'].set_linewidth(linewidth)\n",
    "    ax.spines['right'].set_linewidth(linewidth)\n",
    "    ax.spines['bottom'].set_linewidth(linewidth)\n",
    "    ax.spines['top'].set_linewidth(linewidth)\n",
    "    #ax.legend(fontsize=fontsize)\n",
    "    plt.gcf().text(0., 0.9, 'A', fontsize=fontsize*2)\n",
    "    plt.subplots_adjust(left=0.25, right=0.95, bottom=0.2, top=0.9)\n",
    "    fig.savefig('./fig-7-notebook/cohort_size.pdf')\n",
    "plot_cohort_size_over_years()"
   ]
  },
  {
   "cell_type": "markdown",
   "metadata": {
    "heading_collapsed": true
   },
   "source": [
    "## Make plot"
   ]
  },
  {
   "cell_type": "code",
   "execution_count": null,
   "metadata": {
    "hidden": true
   },
   "outputs": [],
   "source": [
    "def plot_criteria_over_career_ages(data, criteria, criteria_name, title, letter, x_start=1, x_end=15, legend=True, name_ext=''):\n",
    "    linewidth = 2\n",
    "    fontsize = 18\n",
    "    fig = plt.figure(figsize=(4, 4))\n",
    "    ax = fig.add_subplot(111)\n",
    "    color = ['#000000', '#e41a1c', '#377eb8', '#4daf4a', '#984ea3', '#ff7f00', '#ffff33', '#a65628', '#f781bf', '#999999']\n",
    "    cohort = [1970, 1975, 1980, 1985, 1990, 1995, 2000]\n",
    "    for i in range(0, 7):\n",
    "        df = data[data['start_year'] == cohort[i]]\n",
    "        df = df[(df['career_age'] >= x_start) & (df['career_age'] <= x_end)]\n",
    "        ax.plot(df['career_age'], df[criteria], linewidth=linewidth, label=cohort[i], color=color[i])\n",
    "    ax.set_xlim([0.25, 15.75])\n",
    "    ax.set_ylim([-0.05, 1.05])\n",
    "    if 'gini' in criteria:\n",
    "        ax.set_ylim([-0.05, 1.05])\n",
    "    if 'hhi' in criteria:\n",
    "        ax.set_ylim([-0.004, 0.074])\n",
    "    if 'pzero' in criteria:\n",
    "        ax.set_ylim([-0.05, 1.05])\n",
    "    ax.xaxis.set_ticks_position('both')\n",
    "    ax.yaxis.set_ticks_position('both')\n",
    "    ax.set_xlabel('Career Age', fontsize=fontsize)\n",
    "    ax.set_ylabel(f'{criteria_name}', fontsize=fontsize)\n",
    "    ax.set_title(title, fontsize=fontsize)\n",
    "    ax.set_xticks([1, 5, 10, 15])\n",
    "    ax.tick_params(axis=\"x\", which='major', direction=\"in\", width=linewidth, size=4*linewidth, labelsize=fontsize, pad=7)\n",
    "    ax.tick_params(axis=\"x\", which='minor', direction=\"in\", width=linewidth, size=2*linewidth, labelsize=fontsize, pad=7)\n",
    "    ax.tick_params(axis=\"y\", which='major', direction=\"in\", width=linewidth, size=4*linewidth, labelsize=fontsize)\n",
    "    ax.tick_params(axis=\"y\", which='minor', direction=\"in\", width=linewidth, size=2*linewidth, labelsize=fontsize)\n",
    "    ax.spines['left'].set_linewidth(linewidth)\n",
    "    ax.spines['right'].set_linewidth(linewidth)\n",
    "    ax.spines['bottom'].set_linewidth(linewidth)\n",
    "    ax.spines['top'].set_linewidth(linewidth)\n",
    "    if legend: ax.legend(fontsize=fontsize-6)\n",
    "    plt.gcf().text(0., 0.9, letter, fontsize=fontsize*2)\n",
    "    plt.subplots_adjust(left=0.25, right=0.95, bottom=0.2, top=0.9)\n",
    "    fig.savefig(f'./fig-7-notebook/{criteria}{name_ext}.pdf')\n",
    "    \n",
    "def plot_heatmap(data, publish_years, crit):\n",
    "    data_matrix = data.groupby('career_age').agg({f'ec_cit_{start}_{end}{crit}': 'mean' for start,end in publish_years})\n",
    "    data_matrix[data_matrix < 0.0001] = None\n",
    "    sns.heatmap(data_matrix.T[::-1], cmap=\"YlGnBu\")"
   ]
  },
  {
   "cell_type": "code",
   "execution_count": null,
   "metadata": {
    "code_folding": [],
    "hidden": true
   },
   "outputs": [],
   "source": [
    "def agg_data_df(citations_window, func, func_name):\n",
    "    cohort_counts_ = citations_window.groupby(['start_year', 'career_age']).agg({\n",
    "    'cum_num_pub':func, 'cum_num_cit':func, 'win_num_pub':func})\n",
    "    # remove people not competing for attention\n",
    "    cohort_counts__ = citations_window[citations_window['num_pub']>0].groupby(['start_year', 'career_age']).agg({\n",
    "    'cit_3':func})\n",
    "    cohort_counts_['cit_3'] = cohort_counts__['cit_3']\n",
    "    cohort_counts_.reset_index(inplace=True)\n",
    "    cohort_counts_ = cohort_counts_.rename({\n",
    "        'cum_num_pub':f'{func_name}_cum_num_pub', \n",
    "        'cum_num_cit':f'{func_name}_cum_num_cit',\n",
    "        'win_num_pub':f'{func_name}_win_num_pub',\n",
    "        'cit_3': f'{func_name}_win_num_cit'\n",
    "    }, axis='columns')\n",
    "    return cohort_counts_"
   ]
  },
  {
   "cell_type": "code",
   "execution_count": null,
   "metadata": {
    "code_folding": [
     0
    ],
    "hidden": true
   },
   "outputs": [],
   "source": [
    "def plot_array_configs(data, configs, x_end=15, name_ext=''):\n",
    "    legend = True\n",
    "    for config in configs:\n",
    "        plot_criteria_over_career_ages(data, *config, legend=legend, x_end=x_end, name_ext=name_ext)\n",
    "        legend = False"
   ]
  },
  {
   "cell_type": "code",
   "execution_count": null,
   "metadata": {
    "code_folding": [
     0,
     5
    ],
    "hidden": true
   },
   "outputs": [],
   "source": [
    "def get_config1(crit, crit_name):\n",
    "    config1 = [(f'{crit}_cum_num_pub', f'{crit_name} Productivity', 'Cumulative Counting', 'A'),\n",
    "                (f'{crit}_cum_num_cit', f'{crit_name} Recognition', 'Cumulative Counting', 'C')]\n",
    "    return config1\n",
    "\n",
    "def get_config2(crit, crit_name):\n",
    "    config2 = [(f'{crit}_win_num_pub', f'{crit_name} Productivity', 'Window Counting', 'B'),\n",
    "                (f'{crit}_win_num_cit', f'{crit_name} Recognition', 'Window Counting', 'D')]\n",
    "    return config2"
   ]
  },
  {
   "cell_type": "code",
   "execution_count": null,
   "metadata": {
    "code_folding": [
     0
    ],
    "hidden": true
   },
   "outputs": [],
   "source": [
    "def plot_early_late_work(author_early_work, years_list, name_ext=''):\n",
    "    num_iter = len(years_list)\n",
    "    crits = ['_cum', '']\n",
    "    letters = ['A', 'B', 'C', 'D', 'E', 'F', 'G', 'H', 'I', 'J', 'K']\n",
    "    titles = ['Cum', 'Win']\n",
    "\n",
    "    legend = True\n",
    "    for i in range(0,num_iter*len(crits)):\n",
    "        letter=letters[i]\n",
    "        start,end = years_list[i%num_iter]\n",
    "        crit = crits[i//num_iter]\n",
    "        title = titles[i//num_iter]\n",
    "        plot_criteria_over_career_ages(author_early_work, f'ec_cit_{start}_{end}{crit}', 'Gini Recognition', \n",
    "            title=f'{title}. (Papers of Age {start+1})', x_start=end,\n",
    "            letter=letter, legend=legend, name_ext=name_ext)\n",
    "        legend = False"
   ]
  },
  {
   "cell_type": "code",
   "execution_count": null,
   "metadata": {
    "code_folding": [],
    "hidden": true
   },
   "outputs": [],
   "source": [
    "def agg_data_early_late(citations_window, func, publish_years):\n",
    "    aggregate = {f'ec_cit_{start}_{end}': func for start,end in publish_years}\n",
    "    aggregate.update({f'ec_cit_{start}_{end}_cum': func for start,end in publish_years})\n",
    "\n",
    "    author_early_work = citations_window[citations_window['num_pub']>0].groupby(['start_year', 'career_age']).agg(aggregate).reset_index()\n",
    "    return author_early_work"
   ]
  },
  {
   "cell_type": "markdown",
   "metadata": {
    "heading_collapsed": true
   },
   "source": [
    "## Ginis"
   ]
  },
  {
   "cell_type": "markdown",
   "metadata": {
    "heading_collapsed": true,
    "hidden": true
   },
   "source": [
    "#### Cumulative"
   ]
  },
  {
   "cell_type": "code",
   "execution_count": null,
   "metadata": {
    "hidden": true
   },
   "outputs": [],
   "source": [
    "cohort_counts_gini = agg_data_df(citations_window, gini, 'gini')"
   ]
  },
  {
   "cell_type": "code",
   "execution_count": null,
   "metadata": {
    "hidden": true
   },
   "outputs": [],
   "source": [
    "cohort_counts_gini_nonzero = agg_data_df(citations_window, gini_nonzero, 'gini_nonzero')"
   ]
  },
  {
   "cell_type": "code",
   "execution_count": null,
   "metadata": {
    "hidden": true
   },
   "outputs": [],
   "source": [
    "plot_array_configs(cohort_counts_gini, get_config1('gini', 'Gini'))"
   ]
  },
  {
   "cell_type": "code",
   "execution_count": null,
   "metadata": {
    "hidden": true
   },
   "outputs": [],
   "source": [
    "plot_array_configs(cohort_counts_gini_nonzero, get_config1('gini_nonzero', 'Gini$_{>0}$'))"
   ]
  },
  {
   "cell_type": "markdown",
   "metadata": {
    "heading_collapsed": true,
    "hidden": true
   },
   "source": [
    "#### Time Windows"
   ]
  },
  {
   "cell_type": "code",
   "execution_count": null,
   "metadata": {
    "hidden": true
   },
   "outputs": [],
   "source": [
    "plot_array_configs(cohort_counts_gini, get_config2('gini', 'Gini'), x_end=13)"
   ]
  },
  {
   "cell_type": "code",
   "execution_count": null,
   "metadata": {
    "hidden": true
   },
   "outputs": [],
   "source": [
    "plot_array_configs(cohort_counts_gini_nonzero, get_config2('gini_nonzero', 'Gini$_{>0}$'), x_end=13)"
   ]
  },
  {
   "cell_type": "markdown",
   "metadata": {
    "heading_collapsed": true,
    "hidden": true
   },
   "source": [
    "#### Inequality of early vs later work"
   ]
  },
  {
   "cell_type": "code",
   "execution_count": null,
   "metadata": {
    "hidden": true
   },
   "outputs": [],
   "source": [
    "# publish_years = [[0,3], [3,6], [6,9], [0,1], [3,4], [6,7]]\n",
    "first_year = 0\n",
    "publish_years = [[i, i+1] for i in range(first_year,15)]\n",
    "author_gini_early_work = agg_data_early_late(citations_window, gini, publish_years)"
   ]
  },
  {
   "cell_type": "code",
   "execution_count": null,
   "metadata": {
    "hidden": true
   },
   "outputs": [],
   "source": [
    "plot_heatmap(author_gini_early_work, publish_years, '_cum')"
   ]
  },
  {
   "cell_type": "code",
   "execution_count": null,
   "metadata": {
    "hidden": true
   },
   "outputs": [],
   "source": [
    "plot_heatmap(author_gini_early_work, publish_years, '')"
   ]
  },
  {
   "cell_type": "code",
   "execution_count": null,
   "metadata": {
    "hidden": true
   },
   "outputs": [],
   "source": [
    "years_list = [[0,1], [3,4], [6,7]]\n",
    "plot_early_late_work(author_gini_early_work, years_list)"
   ]
  },
  {
   "cell_type": "markdown",
   "metadata": {
    "heading_collapsed": true,
    "hidden": true
   },
   "source": [
    "##### Cumulative recognition"
   ]
  },
  {
   "cell_type": "code",
   "execution_count": null,
   "metadata": {
    "hidden": true
   },
   "outputs": [],
   "source": [
    "#cumulative\n",
    "# for start,end in publish_years:\n",
    "#     plot_criteria_over_career_ages(author_gini_early_work, f'ec_cit_{start}_{end}_cum', 'Recognition', \n",
    "#                                title=f'Publications of Career Ages {start+1}-{end} cumulative', \n",
    "#                                letter='', \n",
    "#                                x_start=end)"
   ]
  },
  {
   "cell_type": "markdown",
   "metadata": {
    "heading_collapsed": true,
    "hidden": true
   },
   "source": [
    "##### Non cumulative recognition"
   ]
  },
  {
   "cell_type": "code",
   "execution_count": null,
   "metadata": {
    "hidden": true
   },
   "outputs": [],
   "source": [
    "#non cumulative\n",
    "# for start,end in publish_years:\n",
    "#     plot_criteria_over_career_ages(author_gini_early_work, f'ec_cit_{start}_{end}', 'Recognition', \n",
    "#                                title=f'Publications of Career Ages {start+1}-{end}', \n",
    "#                                letter='', \n",
    "#                                 x_start=end)"
   ]
  },
  {
   "cell_type": "code",
   "execution_count": null,
   "metadata": {
    "hidden": true,
    "lines_to_next_cell": 2
   },
   "outputs": [],
   "source": []
  },
  {
   "cell_type": "markdown",
   "metadata": {
    "heading_collapsed": true
   },
   "source": [
    "## HHI"
   ]
  },
  {
   "cell_type": "code",
   "execution_count": null,
   "metadata": {
    "hidden": true
   },
   "outputs": [],
   "source": [
    "cohort_counts_hhi = agg_data_df(citations_window, hhi, 'hhi')"
   ]
  },
  {
   "cell_type": "code",
   "execution_count": null,
   "metadata": {
    "hidden": true
   },
   "outputs": [],
   "source": [
    "plot_array_configs(cohort_counts_hhi, get_config1('hhi', 'HHI'))\n",
    "plot_array_configs(cohort_counts_hhi, get_config2('hhi', 'HHI'), x_end=13)"
   ]
  },
  {
   "cell_type": "markdown",
   "metadata": {
    "heading_collapsed": true
   },
   "source": [
    "## Percentage zeros"
   ]
  },
  {
   "cell_type": "code",
   "execution_count": null,
   "metadata": {
    "hidden": true
   },
   "outputs": [],
   "source": [
    "cohort_counts_pzero = agg_data_df(citations_window, percentage_zeros, 'pzero')"
   ]
  },
  {
   "cell_type": "code",
   "execution_count": null,
   "metadata": {
    "hidden": true
   },
   "outputs": [],
   "source": [
    "plot_array_configs(cohort_counts_pzero, get_config1('pzero', '%0'))"
   ]
  },
  {
   "cell_type": "code",
   "execution_count": null,
   "metadata": {
    "hidden": true
   },
   "outputs": [],
   "source": [
    "plot_array_configs(cohort_counts_pzero, get_config2('pzero', '%0'), x_end=13)"
   ]
  },
  {
   "cell_type": "markdown",
   "metadata": {
    "heading_collapsed": true
   },
   "source": [
    "## Remove dropouts"
   ]
  },
  {
   "cell_type": "code",
   "execution_count": null,
   "metadata": {
    "hidden": true
   },
   "outputs": [],
   "source": [
    "citations_window_stayed = citations_window[citations_window.dropped_after_10 == False]"
   ]
  },
  {
   "cell_type": "markdown",
   "metadata": {
    "hidden": true
   },
   "source": [
    "### Gini"
   ]
  },
  {
   "cell_type": "code",
   "execution_count": null,
   "metadata": {
    "hidden": true
   },
   "outputs": [],
   "source": [
    "cohort_counts_stayed_gini = agg_data_df(citations_window_stayed, gini, 'gini')"
   ]
  },
  {
   "cell_type": "code",
   "execution_count": null,
   "metadata": {
    "hidden": true
   },
   "outputs": [],
   "source": [
    "plot_array_configs(cohort_counts_stayed_gini, get_config1('gini', 'Gini'), name_ext='_stay') #3"
   ]
  },
  {
   "cell_type": "code",
   "execution_count": null,
   "metadata": {
    "hidden": true
   },
   "outputs": [],
   "source": [
    "plot_array_configs(cohort_counts_stayed_gini, get_config2('gini', 'Gini'), x_end=13, name_ext='_stay') #3"
   ]
  },
  {
   "cell_type": "markdown",
   "metadata": {
    "heading_collapsed": true,
    "hidden": true
   },
   "source": [
    "### P zero"
   ]
  },
  {
   "cell_type": "code",
   "execution_count": null,
   "metadata": {
    "hidden": true
   },
   "outputs": [],
   "source": [
    "cohort_counts_stayed_pzero = agg_data_df(citations_window_stayed, percentage_zeros, 'pzero')\n",
    "plot_array_configs(cohort_counts_stayed_pzero, get_config1('pzero', '%0'), name_ext='_stay')\n",
    "plot_array_configs(cohort_counts_stayed_pzero, get_config2('pzero', '%0'), x_end=13, name_ext='_stay') #plot 5"
   ]
  },
  {
   "cell_type": "markdown",
   "metadata": {
    "heading_collapsed": true,
    "hidden": true
   },
   "source": [
    "### Early vs late"
   ]
  },
  {
   "cell_type": "code",
   "execution_count": null,
   "metadata": {
    "hidden": true
   },
   "outputs": [],
   "source": [
    "# publish_years = [[0,3], [3,6], [6,9], [0,1], [3,4], [6,7]]\n",
    "publish_years = [[i, i+1] for i in range(1,15)]\n",
    "\n",
    "author_gini_early_work_stayed = agg_data_early_late(citations_window_stayed, gini, publish_years)"
   ]
  },
  {
   "cell_type": "code",
   "execution_count": null,
   "metadata": {
    "hidden": true
   },
   "outputs": [],
   "source": [
    "plot_heatmap(author_gini_early_work_stayed, publish_years, '')"
   ]
  },
  {
   "cell_type": "code",
   "execution_count": null,
   "metadata": {
    "hidden": true
   },
   "outputs": [],
   "source": [
    "plot_heatmap(author_gini_early_work_stayed, publish_years, '_cum')"
   ]
  },
  {
   "cell_type": "code",
   "execution_count": null,
   "metadata": {
    "hidden": true
   },
   "outputs": [],
   "source": [
    "years_list = [[0,1], [3,4], [6,7]]\n",
    "plot_early_late_work(author_gini_early_work_stayed, years_list, name_ext='_stay')"
   ]
  },
  {
   "cell_type": "code",
   "execution_count": null,
   "metadata": {
    "hidden": true
   },
   "outputs": [],
   "source": [
    "stop here"
   ]
  },
  {
   "cell_type": "markdown",
   "metadata": {
    "heading_collapsed": true
   },
   "source": [
    "## Distributions"
   ]
  },
  {
   "cell_type": "markdown",
   "metadata": {
    "heading_collapsed": true,
    "hidden": true
   },
   "source": [
    "### Cohort Years\n",
    "Cumulative numbers needed."
   ]
  },
  {
   "cell_type": "code",
   "execution_count": null,
   "metadata": {
    "hidden": true
   },
   "outputs": [],
   "source": [
    "start_year = 2000\n",
    "career_age = 15\n",
    "data = counts[(counts['start_year'] == start_year) & (counts['career_age'] == career_age)]['cum_num_pub']\n",
    "data = data[data > 0]\n",
    "#np.median(data)\n",
    "#np.round(np.mean(data))"
   ]
  },
  {
   "cell_type": "code",
   "execution_count": null,
   "metadata": {
    "hidden": true
   },
   "outputs": [],
   "source": [
    "# pdf='cum_num_pub_2000.pdf'\n",
    "cars.fit_univariate(data, discrete=True, xmin=1, xlabel='p', title='2000', bins=24, bootstrap=None, col=1, marker='o', markersize=12, linewidth=2, fontsize=24, unbinned_data=True, pdf=None, png=None)"
   ]
  },
  {
   "cell_type": "code",
   "execution_count": null,
   "metadata": {
    "hidden": true
   },
   "outputs": [],
   "source": [
    "#guys from 2000 cohort with more than 300 papers\n",
    "counts[(counts['start_year'] == 2000) & (counts['career_age'] == 15) & (counts['cum_num_pub'] > 300)][['author', 'cum_num_pub']]"
   ]
  },
  {
   "cell_type": "markdown",
   "metadata": {
    "heading_collapsed": true,
    "hidden": true
   },
   "source": [
    "### Years"
   ]
  },
  {
   "cell_type": "code",
   "execution_count": null,
   "metadata": {
    "hidden": true
   },
   "outputs": [],
   "source": [
    "# publications produced between 1971 and 2014\n",
    "#p = list(counts[counts['year'].between(1971, 2014)][['author', 'num_pub']].groupby('author').sum().reset_index(drop=True)['num_pub'])\n",
    "# publications by all authors from cohorts 1971 to 2000 produced in their first 15 years\n",
    "p = list(counts[(counts['start_year'].between(1971, 2000)) & (counts['career_age'].between(1, 15))][['author', 'num_pub']].groupby('author').sum().reset_index(drop=True)['num_pub'])\n",
    "p = [int(x) for x in p if x>0]"
   ]
  },
  {
   "cell_type": "code",
   "execution_count": null,
   "metadata": {
    "hidden": true
   },
   "outputs": [],
   "source": [
    "# citations received between 1971 and 2014\n",
    "#c = list(counts[counts['year'].between(1971, 2014)][['author', 'num_cit']].groupby('author').sum().reset_index(drop=True)['num_cit'])\n",
    "# citations received by all authors from cohorts 1971 to 2000 in their first 15 years\n",
    "c = list(counts[(counts['start_year'].between(1971, 2000)) & (counts['career_age'].between(1, 15))][['author', 'num_cit']].groupby('author').sum().reset_index(drop=True)['num_cit'])\n",
    "c = [int(x) for x in c if x>0]"
   ]
  },
  {
   "cell_type": "code",
   "execution_count": null,
   "metadata": {
    "hidden": true
   },
   "outputs": [],
   "source": [
    "import compsoc as cs"
   ]
  },
  {
   "cell_type": "code",
   "execution_count": null,
   "metadata": {
    "hidden": true
   },
   "outputs": [],
   "source": [
    "parameters_p, test_statistics_p = cs.fit_power_law(l=p, discrete=True, xmin=1, fit=None, sims=None, bootstrap=None, data_original=False, markersize=9, linewidth=2, fontsize=18, marker=0, color=1, xlabel='p', title='', legend=False, letter='', Pdf=None, png=None)"
   ]
  },
  {
   "cell_type": "code",
   "execution_count": null,
   "metadata": {
    "hidden": true
   },
   "outputs": [],
   "source": [
    "parameters_c, test_statistics_c = cs.fit_power_law(l=c, discrete=True, xmin=1, fit=None, sims=None, bootstrap=None, data_original=False, markersize=9, linewidth=2, fontsize=18, marker=0, color=2, xlabel='c', title='', legend=False, letter='', Pdf=None, png=None)"
   ]
  },
  {
   "cell_type": "code",
   "execution_count": null,
   "metadata": {
    "hidden": true
   },
   "outputs": [],
   "source": [
    "a_bin_p = cs.bin_pdf(cs.pdf(p))\n",
    "a_bin_c = cs.bin_pdf(cs.pdf(c))"
   ]
  },
  {
   "cell_type": "code",
   "execution_count": null,
   "metadata": {
    "hidden": true
   },
   "outputs": [],
   "source": [
    "import powerlaw as pl"
   ]
  },
  {
   "cell_type": "code",
   "execution_count": null,
   "metadata": {
    "hidden": true
   },
   "outputs": [],
   "source": [
    "f_p = pl.Fit(p, discrete=True, xmin=1)\n",
    "f_c = pl.Fit(c, discrete=True, xmin=1)"
   ]
  },
  {
   "cell_type": "code",
   "execution_count": null,
   "metadata": {
    "hidden": true
   },
   "outputs": [],
   "source": [
    "space_xmin_p = np.logspace(np.log10(f_p.xmin), np.log10(max(f_p.data_original)), 100)\n",
    "space_xmin_c = np.logspace(np.log10(f_c.xmin), np.log10(max(f_c.data_original)), 100)\n",
    "scale_p = f_p.n_tail/len(f_p.data_original)\n",
    "scale_c = f_c.n_tail/len(f_c.data_original)"
   ]
  },
  {
   "cell_type": "code",
   "execution_count": null,
   "metadata": {
    "hidden": true
   },
   "outputs": [],
   "source": [
    "fontsize = 18\n",
    "linewidth = 2\n",
    "markersize = 9\n",
    "color_full = ['#000000', '#e41a1c', '#377eb8', '#4daf4a', '#984ea3', '#ff7f00', '#ffff33', '#a65628', '#f781bf', '#999999']\n",
    "color_pale = ['#7f7f7f', '#f18c8d', '#9bbedb', '#a6d7a4', '#cba6d1', '#ffbf7f', '#ffff99', '#d2aa93', '#fbc0df', '#cccccc']\n",
    "fig = plt.figure(figsize=(4, 4))\n",
    "ax1 = fig.add_subplot(111)\n",
    "ax1.plot(a_bin_p[:, 0], a_bin_p[:, 3], marker='o', color='#e41a1c', ls='', markersize=markersize, label='$x=p$')\n",
    "ax1.plot(a_bin_c[:, 0], a_bin_c[:, 3], marker='o', color='#377eb8', ls='', markersize=markersize, label='$x=c$')\n",
    "ax1.plot(space_xmin_p, scale_p*f_p.truncated_power_law.pdf(space_xmin_p), color='k', ls='-', linewidth=linewidth)\n",
    "ax1.plot(space_xmin_c, scale_c*f_c.lognormal.pdf(space_xmin_c), color='k', ls='--', linewidth=linewidth)\n",
    "ax1.xaxis.set_ticks_position('both')\n",
    "ax1.yaxis.set_ticks_position('both')\n",
    "ax1.set_xscale('log')\n",
    "ax1.set_yscale('log')\n",
    "ax1.set_xlabel('$x$', fontsize=fontsize)\n",
    "ax1.set_ylabel('$p(x)$', fontsize=fontsize)\n",
    "ax1.set_xticks([1, 10, 100, 1000, 10000])\n",
    "ax1.tick_params(axis=\"x\", which='major', direction=\"in\", width=linewidth, size=4*linewidth, labelsize=fontsize, pad=7)\n",
    "ax1.tick_params(axis=\"x\", which='minor', direction=\"in\", width=linewidth, size=2*linewidth, labelsize=fontsize, pad=7)\n",
    "ax1.tick_params(axis=\"y\", which='major', direction=\"in\", width=linewidth, size=4*linewidth, labelsize=fontsize)\n",
    "ax1.tick_params(axis=\"y\", which='minor', direction=\"in\", width=linewidth, size=2*linewidth, labelsize=fontsize)\n",
    "ax1.spines['left'].set_linewidth(linewidth)\n",
    "ax1.spines['right'].set_linewidth(linewidth)\n",
    "ax1.spines['bottom'].set_linewidth(linewidth)\n",
    "ax1.spines['top'].set_linewidth(linewidth)\n",
    "ax1.legend(fontsize=fontsize-6)\n",
    "plt.gcf().text(0., 0.9, 'B', fontsize=fontsize*2)\n",
    "plt.subplots_adjust(left=0.25, right=0.95, bottom=0.2, top=0.9)\n",
    "fig.savefig('./fig-7-notebook/distributions.pdf')\n",
    "plt.show()"
   ]
  },
  {
   "cell_type": "code",
   "execution_count": null,
   "metadata": {
    "hidden": true,
    "lines_to_next_cell": 2
   },
   "outputs": [],
   "source": []
  },
  {
   "cell_type": "code",
   "execution_count": null,
   "metadata": {
    "hidden": true,
    "lines_to_next_cell": 2
   },
   "outputs": [],
   "source": []
  },
  {
   "cell_type": "code",
   "execution_count": null,
   "metadata": {
    "hidden": true,
    "lines_to_next_cell": 2
   },
   "outputs": [],
   "source": []
  },
  {
   "cell_type": "code",
   "execution_count": null,
   "metadata": {
    "hidden": true,
    "lines_to_next_cell": 2
   },
   "outputs": [],
   "source": []
  },
  {
   "cell_type": "code",
   "execution_count": null,
   "metadata": {
    "hidden": true,
    "lines_to_next_cell": 2
   },
   "outputs": [],
   "source": []
  },
  {
   "cell_type": "code",
   "execution_count": null,
   "metadata": {
    "hidden": true
   },
   "outputs": [],
   "source": [
    "year = 2014\n",
    "p = counts[counts['year'] == year]['cum_num_pub']\n",
    "p = p[p > 0]\n",
    "#np.median(p)\n",
    "#np.round(np.mean(p))"
   ]
  },
  {
   "cell_type": "code",
   "execution_count": null,
   "metadata": {
    "hidden": true
   },
   "outputs": [],
   "source": [
    "# pdf='years_cum_num_pub_2014.pdf'\n",
    "cars.fit_univariate(p, discrete=True, xmin=1, xlabel='p', title=None, bins=24, bootstrap=None, col=1, marker='o', markersize=12, linewidth=2, fontsize=18, unbinned_data=True, pdf='years_cum_num_pub_2014.pdf', png='years_cum_num_pub_2014.png')"
   ]
  },
  {
   "cell_type": "code",
   "execution_count": null,
   "metadata": {
    "hidden": true
   },
   "outputs": [],
   "source": [
    "pubids = authorPublicationData.pub_id.tolist()"
   ]
  },
  {
   "cell_type": "code",
   "execution_count": null,
   "metadata": {
    "hidden": true
   },
   "outputs": [],
   "source": [
    "df_citations = pd.read_csv('data/paper_venue_citations.csv', sep='\\t')"
   ]
  },
  {
   "cell_type": "code",
   "execution_count": null,
   "metadata": {
    "hidden": true
   },
   "outputs": [],
   "source": [
    "df_citations = df_citations[df_citations.year.between(1970, 2014)]\n",
    "df_citations = df_citations[df_citations.paper2.isin(pubids)]"
   ]
  },
  {
   "cell_type": "code",
   "execution_count": null,
   "metadata": {
    "hidden": true
   },
   "outputs": [],
   "source": [
    "c = df_citations.groupby(['venue2']).size()"
   ]
  },
  {
   "cell_type": "code",
   "execution_count": null,
   "metadata": {
    "hidden": true
   },
   "outputs": [],
   "source": [
    "### pdf='years_cum_num_cit_2014.pdf'\n",
    "cars.fit_univariate(c, discrete=True, xmin=(1, 10), xlabel='c', title=None, bins=24, bootstrap=None, col=2, marker='o', markersize=12, linewidth=2, fontsize=18, unbinned_data=True, pdf='bradford_2014.pdf', png='bradford_2014.png')"
   ]
  },
  {
   "cell_type": "markdown",
   "metadata": {
    "heading_collapsed": true
   },
   "source": [
    "## Matthew Effect"
   ]
  },
  {
   "cell_type": "code",
   "execution_count": null,
   "metadata": {
    "hidden": true
   },
   "outputs": [],
   "source": [
    "# prepare output tables\n",
    "micro_stats = pd.DataFrame(columns=['t', 'dt', 'author', 'eta'])\n",
    "macro_stats = pd.DataFrame(columns=['t', 'dt', 'n', 'D', 'beta', 'beta_std', 'r2', 'reduced_chi'])\n",
    "# settings\n",
    "dt = 5\n",
    "unit = 'num_cit' # CHANGE COLOR (1) AND LETTER (5)\n",
    "fit = 'odr'\n",
    "for t in range(1970+dt, 2015-dt+2): # range(1975, 2012) for dt=5\n",
    "    # get vectors\n",
    "    t0 = counts[counts['year'].between(t-dt, t-1)][['author', unit]].groupby('author').sum()\n",
    "    t1 = counts[counts['year'].between(t, t+dt-1)][['author', unit]].groupby('author').sum()\n",
    "    #t1 = counts[counts['year'].between(t, t)][['author', unit]].groupby('author').sum()\n",
    "    t0 = t0[t0[unit] > 0]\n",
    "    t1 = t1[t1[unit] > 0]\n",
    "    # merge vectors into dataframe\n",
    "    ca = pd.merge(left=t0, right=t1, left_index=True, right_index=True)\n",
    "    ca.columns = ['t0', 't1']\n",
    "    # fit\n",
    "    df_stats, df_bootstrap = cars.fit_bivariate(ca['t0'], ca['t1'], fit=fit, reduction='bin', color=2, xlabel='c_{%.0f-%.0f}' %(t-dt, t-1), ylabel='c_{%.0f-%.0f}' %(t, t+dt-1), title='', pdf='matthew/macro_c_'+fit+'Bin_t'+str(t)+'_dt'+str(dt)+'.pdf')\n",
    "    # extend micro stats (fitness)\n",
    "    ca['t'] = t\n",
    "    ca['dt'] = dt\n",
    "    ca['author'] = ca.index\n",
    "    t1_exp = df_stats['D'][0]*ca['t0']**df_stats['beta'][0]\n",
    "    ca['eta'] = ca['t1']/t1_exp\n",
    "    ca = ca[['t', 'dt', 'author', 'eta']]\n",
    "    # extend macro stats\n",
    "    df_stats['t'] = t\n",
    "    df_stats['dt'] = dt\n",
    "    df_stats = df_stats[['t', 'dt', 'n', 'D', 'beta', 'beta_std', 'r2', 'reduced_chi']]\n",
    "    # append stats\n",
    "    micro_stats = pd.concat([micro_stats, ca], axis=0, ignore_index=True)\n",
    "    macro_stats = pd.concat([macro_stats, df_stats], axis=0, ignore_index=True)\n",
    "# write output tables\n",
    "micro_stats.to_csv('matthew/micro_c_'+fit+'Bin_dt'+str(dt)+'.txt', sep='\\t', index=False)\n",
    "macro_stats.to_csv('matthew/macro_c_'+fit+'Bin_dt'+str(dt)+'.txt', sep='\\t', index=False)"
   ]
  },
  {
   "cell_type": "markdown",
   "metadata": {
    "heading_collapsed": true,
    "hidden": true
   },
   "source": [
    "### Cumulative Advantage"
   ]
  },
  {
   "cell_type": "code",
   "execution_count": null,
   "metadata": {
    "hidden": true
   },
   "outputs": [],
   "source": [
    "macro_p_olsBin_dt5 = pd.read_csv('matthew/macro_p_olsBin_dt5.txt', sep='\\t')\n",
    "macro_c_olsBin_dt5 = pd.read_csv('matthew/macro_c_olsBin_dt5.txt', sep='\\t')"
   ]
  },
  {
   "cell_type": "code",
   "execution_count": null,
   "metadata": {
    "hidden": true
   },
   "outputs": [],
   "source": [
    "macro_p_odrBin_dt5 = pd.read_csv('matthew/macro_p_odrBin_dt5.txt', sep='\\t')\n",
    "macro_c_odrBin_dt5 = pd.read_csv('matthew/macro_c_odrBin_dt5.txt', sep='\\t')"
   ]
  },
  {
   "cell_type": "code",
   "execution_count": null,
   "metadata": {
    "hidden": true
   },
   "outputs": [],
   "source": [
    "plt.fill_between(macro_p_olsBin_dt5['t'], macro_p_olsBin_dt5['beta']-macro_p_olsBin_dt5['beta_std'], macro_p_olsBin_dt5['beta']+macro_p_olsBin_dt5['beta_std'], color=color_pale[1], linewidth=0)\n",
    "plt.fill_between(macro_c_olsBin_dt5['t'], macro_c_olsBin_dt5['beta']-macro_c_olsBin_dt5['beta_std'], macro_c_olsBin_dt5['beta']+macro_p_olsBin_dt5['beta_std'], color=color_pale[2], linewidth=0)\n",
    "plt.plot(macro_p_olsBin_dt5['t'], macro_p_olsBin_dt5['beta'], color=color_full[1], label='Productivity')\n",
    "plt.plot(macro_c_olsBin_dt5['t'], macro_c_olsBin_dt5['beta'], color=color_full[2], label='Recognition')\n",
    "plt.title('Ordinary Least Squares')\n",
    "plt.xlabel('Year')\n",
    "plt.ylabel('Cumulative Advantage')\n",
    "plt.legend()"
   ]
  },
  {
   "cell_type": "code",
   "execution_count": null,
   "metadata": {
    "hidden": true
   },
   "outputs": [],
   "source": [
    "plt.fill_between(macro_p_odrBin_dt5['t'], macro_p_odrBin_dt5['beta']-macro_p_odrBin_dt5['beta_std'], macro_p_odrBin_dt5['beta']+macro_p_odrBin_dt5['beta_std'], color=color_pale[1], linewidth=0)\n",
    "plt.fill_between(macro_c_odrBin_dt5['t'], macro_c_odrBin_dt5['beta']-macro_c_odrBin_dt5['beta_std'], macro_c_odrBin_dt5['beta']+macro_p_odrBin_dt5['beta_std'], color=color_pale[2], linewidth=0)\n",
    "plt.plot(macro_p_odrBin_dt5['t'], macro_p_odrBin_dt5['beta'], color=color_full[1], label='Productivity')\n",
    "plt.plot(macro_c_odrBin_dt5['t'], macro_c_odrBin_dt5['beta'], color=color_full[2], label='Recognition')\n",
    "plt.title('Orthogonal Distance Regression')\n",
    "plt.xlabel('Year')\n",
    "plt.ylabel('Cumulative Advantage')\n",
    "plt.legend()"
   ]
  },
  {
   "cell_type": "markdown",
   "metadata": {
    "heading_collapsed": true,
    "hidden": true
   },
   "source": [
    "### Fitness"
   ]
  },
  {
   "cell_type": "code",
   "execution_count": null,
   "metadata": {
    "hidden": true
   },
   "outputs": [],
   "source": [
    "micro_p_olsBin_dt5 = pd.read_csv('matthew/micro_p_olsBin_dt5.txt', sep='\\t')\n",
    "micro_c_olsBin_dt5 = pd.read_csv('matthew/micro_c_olsBin_dt5.txt', sep='\\t')"
   ]
  },
  {
   "cell_type": "code",
   "execution_count": null,
   "metadata": {
    "hidden": true
   },
   "outputs": [],
   "source": [
    "micro_p_odrBin_dt5 = pd.read_csv('matthew/micro_p_odrBin_dt5.txt', sep='\\t')\n",
    "micro_c_odrBin_dt5 = pd.read_csv('matthew/micro_c_odrBin_dt5.txt', sep='\\t')"
   ]
  },
  {
   "cell_type": "markdown",
   "metadata": {
    "hidden": true
   },
   "source": [
    "Users with long careers:"
   ]
  },
  {
   "cell_type": "code",
   "execution_count": null,
   "metadata": {
    "hidden": true
   },
   "outputs": [],
   "source": [
    "micro_p_olsBin_dt5.groupby('author').count()"
   ]
  },
  {
   "cell_type": "code",
   "execution_count": null,
   "metadata": {
    "hidden": true
   },
   "outputs": [],
   "source": [
    "#author = 'a min tjoa'\n",
    "#author = 'a-nasser ansari'\n",
    "#author = 'a-xing zhu'\n",
    "author = 'a. a. (louis) beex'\n",
    "#author = 'a. a. agboola'\n",
    "#author = 'a. a. ball'\n",
    "#author = 'a. a. el-bary'\n",
    "#author = 'ülkü gürler'\n",
    "#author = 'ülle kotta'\n",
    "#author = 'ülo nurges'\n",
    "#author = 'ümit aygölü'\n",
    "#author = 'ümit bilge'\n",
    "#author = 'ümit güz'\n",
    "#author = 'ümit v. çatalyürek'\n",
    "#author = 'ümit y. ogras'\n",
    "#author = 'ümit özgüner'\n",
    "#author = 'ünal göktas'\n",
    "#author = 'ünal ufuktepe'\n",
    "p = micro_p_olsBin_dt5[micro_p_olsBin_dt5['author'] == author]\n",
    "c = micro_c_olsBin_dt5[micro_c_olsBin_dt5['author'] == author]\n",
    "plt.plot(p['t'], p['eta'], label='Productivity')\n",
    "plt.plot(c['t'], c['eta'], label='Recognition')\n",
    "plt.xlabel('Year')\n",
    "plt.ylabel('Fitness')\n",
    "plt.legend()"
   ]
  },
  {
   "cell_type": "markdown",
   "metadata": {
    "hidden": true
   },
   "source": [
    "Lognormal fitness distributions:"
   ]
  },
  {
   "cell_type": "code",
   "execution_count": null,
   "metadata": {
    "hidden": true
   },
   "outputs": [],
   "source": [
    "etaMean_p_olsBin_dt5 = micro_p_olsBin_dt5.groupby('author').mean().sort_values('eta', ascending=False)['eta']\n",
    "etaMean_c_olsBin_dt5 = micro_c_olsBin_dt5.groupby('author').mean().sort_values('eta', ascending=False)['eta']"
   ]
  },
  {
   "cell_type": "code",
   "execution_count": null,
   "metadata": {
    "hidden": true
   },
   "outputs": [],
   "source": [
    "print('mean:', np.mean(np.log10(etaMean_p_olsBin_dt5)))\n",
    "print('std:', np.std(np.log10(etaMean_p_olsBin_dt5)))\n",
    "plt.hist(np.log10(etaMean_p_olsBin_dt5))"
   ]
  },
  {
   "cell_type": "code",
   "execution_count": null,
   "metadata": {
    "hidden": true
   },
   "outputs": [],
   "source": [
    "print('mean:', np.mean(np.log10(etaMean_c_olsBin_dt5)))\n",
    "print('std:', np.std(np.log10(etaMean_c_olsBin_dt5)))\n",
    "plt.hist(np.log10(etaMean_c_olsBin_dt5))"
   ]
  },
  {
   "cell_type": "markdown",
   "metadata": {
    "hidden": true
   },
   "source": [
    "Correlation of productivity and recognition fitness:"
   ]
  },
  {
   "cell_type": "code",
   "execution_count": null,
   "metadata": {
    "hidden": true
   },
   "outputs": [],
   "source": [
    "etaMean_olsBin_dt5 = pd.concat([etaMean_p_olsBin_dt5, etaMean_c_olsBin_dt5], axis=1)\n",
    "etaMean_olsBin_dt5.columns = ['p', 'c']"
   ]
  },
  {
   "cell_type": "code",
   "execution_count": null,
   "metadata": {
    "hidden": true
   },
   "outputs": [],
   "source": [
    "etaMean_olsBin_dt5.dropna(inplace=True)"
   ]
  },
  {
   "cell_type": "code",
   "execution_count": null,
   "metadata": {
    "hidden": true
   },
   "outputs": [],
   "source": [
    "print('corrcoef:', np.corrcoef(etaMean_olsBin_dt5['p'], etaMean_olsBin_dt5['c'])[0, 1])\n",
    "plt.scatter(etaMean_olsBin_dt5['p'], etaMean_olsBin_dt5['c'])\n",
    "plt.xscale('log')\n",
    "plt.yscale('log')\n",
    "plt.xlabel('Mean Productivity Fitness')\n",
    "plt.ylabel('Mean Recognition Fitness')"
   ]
  },
  {
   "cell_type": "markdown",
   "metadata": {
    "heading_collapsed": true
   },
   "source": [
    "## Variance of Fitness for Cohorts"
   ]
  },
  {
   "cell_type": "code",
   "execution_count": null,
   "metadata": {
    "hidden": true
   },
   "outputs": [],
   "source": [
    "counts[counts['author'] == 'a. breton']"
   ]
  },
  {
   "cell_type": "code",
   "execution_count": null,
   "metadata": {
    "hidden": true
   },
   "outputs": [],
   "source": [
    "micro_p_olsBin_dt5[micro_p_olsBin_dt5['author'] == 'a. breton']"
   ]
  },
  {
   "cell_type": "code",
   "execution_count": null,
   "metadata": {
    "hidden": true
   },
   "outputs": [],
   "source": [
    "counts_fitness_p = pd.merge(left=counts, right=micro_p_olsBin_dt5, left_on=['author', 'year'], right_on=['author', 't'])\n",
    "counts_fitness_c = pd.merge(left=counts, right=micro_c_olsBin_dt5, left_on=['author', 'year'], right_on=['author', 't'])"
   ]
  },
  {
   "cell_type": "code",
   "execution_count": null,
   "metadata": {
    "hidden": true
   },
   "outputs": [],
   "source": [
    "counts_fitness_p.head()"
   ]
  },
  {
   "cell_type": "code",
   "execution_count": null,
   "metadata": {
    "hidden": true
   },
   "outputs": [],
   "source": [
    "counts_fitness_c.head()"
   ]
  },
  {
   "cell_type": "markdown",
   "metadata": {
    "hidden": true
   },
   "source": [
    "Note: eta for 1975 is based on productivity in 1975-1979."
   ]
  },
  {
   "cell_type": "code",
   "execution_count": null,
   "metadata": {
    "hidden": true
   },
   "outputs": [],
   "source": [
    "counts_fitness_p_mean = counts_fitness_p.groupby(['start_year', 'career_age']).mean().reset_index()\n",
    "for start_year in [1975, 1980, 1985, 1990, 1995, 2000]: # range(1975, 2012)\n",
    "    df = counts_fitness_p_mean[counts_fitness_p_mean['start_year'] == start_year]\n",
    "    plt.plot(df['career_age'], df['eta'], label=start_year)\n",
    "    plt.xlabel('Career Age')\n",
    "    plt.ylabel('Mean Productivity Fitness')\n",
    "    plt.legend()"
   ]
  },
  {
   "cell_type": "code",
   "execution_count": null,
   "metadata": {
    "hidden": true
   },
   "outputs": [],
   "source": [
    "counts_fitness_c_mean = counts_fitness_c.groupby(['start_year', 'career_age']).mean().reset_index()\n",
    "for start_year in [1975, 1980, 1985, 1990, 1995, 2000]: # range(1975, 2012)\n",
    "    df = counts_fitness_c_mean[counts_fitness_c_mean['start_year'] == start_year]\n",
    "    plt.plot(df['career_age'], df['eta'], label=start_year)\n",
    "    plt.xlabel('Career Age')\n",
    "    plt.ylabel('Mean Recognition Fitness')\n",
    "    plt.legend()"
   ]
  },
  {
   "cell_type": "markdown",
   "metadata": {
    "hidden": true
   },
   "source": [
    "On average, scholars have high fitness at the beginning of their career. To which extent is the mean influenced by scholars with long careers? In other wordw, is high fitness in early years a predictor of career duration?"
   ]
  },
  {
   "cell_type": "code",
   "execution_count": null,
   "metadata": {
    "hidden": true
   },
   "outputs": [],
   "source": [
    "AB HIER BAUSTELLE"
   ]
  },
  {
   "cell_type": "code",
   "execution_count": null,
   "metadata": {
    "hidden": true
   },
   "outputs": [],
   "source": [
    "career_duration = [6, 10]\n",
    "counts_fitness_p_mean = counts_fitness_p[counts_fitness_p['career_duration'].between(career_duration[0], career_duration[1], inclusive=True)].groupby('career_age').mean().reset_index()\n",
    "max(counts_fitness_p_mean['career_age'])"
   ]
  },
  {
   "cell_type": "code",
   "execution_count": null,
   "metadata": {
    "hidden": true
   },
   "outputs": [],
   "source": [
    "for career_duration in [[1, 5], [6, 10], [11, 15], [15, 20], [21, 25]]:\n",
    "    counts_fitness_p_mean = counts_fitness_p[counts_fitness_p['career_duration'].between(career_duration[0], career_duration[1], inclusive=True)].groupby('career_age').mean().reset_index()\n",
    "    plt.plot(counts_fitness_p_mean['career_age'], counts_fitness_p_mean['eta'], label=career_duration)\n",
    "    plt.xlabel('Career Age')\n",
    "    plt.ylabel('Mean Productivity Fitness')\n",
    "    plt.legend()"
   ]
  },
  {
   "cell_type": "code",
   "execution_count": null,
   "metadata": {
    "hidden": true
   },
   "outputs": [],
   "source": [
    "career_duration = [6, 10]\n",
    "counts_fitness_c_mean = counts_fitness_c[counts_fitness_c['career_duration'].between(career_duration[0], career_duration[1], inclusive=True)].groupby('career_age').mean().reset_index()\n",
    "max(counts_fitness_c_mean['career_age'])"
   ]
  },
  {
   "cell_type": "code",
   "execution_count": null,
   "metadata": {
    "hidden": true
   },
   "outputs": [],
   "source": [
    "counts_fitness_c"
   ]
  },
  {
   "cell_type": "code",
   "execution_count": null,
   "metadata": {
    "hidden": true
   },
   "outputs": [],
   "source": [
    "for career_duration in [[1, 5], [6, 10], [11, 15], [15, 20], [21, 25]]:\n",
    "    counts_fitness_c_mean = counts_fitness_c[counts_fitness_c['career_duration'].between(career_duration[0], career_duration[1], inclusive=True)].groupby('career_age').mean().reset_index()\n",
    "    plt.plot(counts_fitness_c_mean['career_age'], counts_fitness_c_mean['eta'], label=career_duration)\n",
    "    plt.xlabel('Career Age')\n",
    "    plt.ylabel('Mean Recognition Fitness')\n",
    "    plt.legend()"
   ]
  }
 ],
 "metadata": {
  "jupytext": {
   "formats": "ipynb,py:light"
  },
  "kernelspec": {
   "display_name": "Python 3",
   "language": "python",
   "name": "python3"
  },
  "language_info": {
   "codemirror_mode": {
    "name": "ipython",
    "version": 3
   },
   "file_extension": ".py",
   "mimetype": "text/x-python",
   "name": "python",
   "nbconvert_exporter": "python",
   "pygments_lexer": "ipython3",
   "version": "3.7.3"
  },
  "pycharm": {
   "stem_cell": {
    "cell_type": "raw",
    "metadata": {
     "collapsed": false
    },
    "source": []
   }
  },
  "toc": {
   "base_numbering": 1,
   "nav_menu": {},
   "number_sections": true,
   "sideBar": true,
   "skip_h1_title": false,
   "title_cell": "Table of Contents",
   "title_sidebar": "Contents",
   "toc_cell": false,
   "toc_position": {},
   "toc_section_display": true,
   "toc_window_display": false
  }
 },
 "nbformat": 4,
 "nbformat_minor": 2
}
