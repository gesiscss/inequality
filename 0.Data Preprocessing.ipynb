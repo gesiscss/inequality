{
 "cells": [
  {
   "cell_type": "code",
   "execution_count": 1,
   "metadata": {},
   "outputs": [],
   "source": [
    "import pandas as pd\n",
    "import matplotlib.pyplot as plt\n",
    "import numpy as np"
   ]
  },
  {
   "cell_type": "code",
   "execution_count": 2,
   "metadata": {},
   "outputs": [],
   "source": [
    "# Specify career len to export file for\n",
    "CAREER_LENGTH = 15\n",
    "# Specify how long is the early career. Impacts which papers we take into account for early productivity and quality\n",
    "EARLY_CAREER_LEN = 3\n",
    "# For early career work, when do we stop counting citations. Impacts recognition\n",
    "RECOGNITION_CUT_OFF = 5\n",
    "# Success after 15 years. Impacts when we stop counting citations\n",
    "SUCCESS_CUTOFF = 15\n",
    "# Length of observed career for dropouts\n",
    "# (1-3), middle career (4-9), late career (10-15)\n",
    "\n",
    "# TODO: for multiple dropout intervals code does not work!!!\n",
    "CAREER_LENGTH_DROPOUTS_LIST = [ (0, 15)] #(0, 3), (4, 9), (10, 15),\n",
    "CAREER_LENGTH_DROPOUTS = 15\n",
    "INACTIVE_TIME_DROPOUTS = 10\n",
    "\n",
    "# Specify the first and last year we consider in our analysis\n",
    "# TODO: Should we specify last start year? \n",
    "START_YEAR = 1970\n",
    "LAST_START_YEAR = 2018 - max(CAREER_LENGTH, CAREER_LENGTH_DROPOUTS)"
   ]
  },
  {
   "cell_type": "code",
   "execution_count": 3,
   "metadata": {},
   "outputs": [],
   "source": [
    "assert(INACTIVE_TIME_DROPOUTS < CAREER_LENGTH_DROPOUTS), \"Time observed for dropouts has to be smaller than the whole window!\""
   ]
  },
  {
   "cell_type": "code",
   "execution_count": 5,
   "metadata": {},
   "outputs": [],
   "source": [
    "assert(CAREER_LENGTH >= EARLY_CAREER_LEN), \"Earlz career len too short\""
   ]
  },
  {
   "cell_type": "markdown",
   "metadata": {},
   "source": [
    "## 1. Load data"
   ]
  },
  {
   "cell_type": "code",
   "execution_count": 6,
   "metadata": {},
   "outputs": [
    {
     "data": {
      "text/html": [
       "<div>\n",
       "<style scoped>\n",
       "    .dataframe tbody tr th:only-of-type {\n",
       "        vertical-align: middle;\n",
       "    }\n",
       "\n",
       "    .dataframe tbody tr th {\n",
       "        vertical-align: top;\n",
       "    }\n",
       "\n",
       "    .dataframe thead th {\n",
       "        text-align: right;\n",
       "    }\n",
       "</style>\n",
       "<table border=\"1\" class=\"dataframe\">\n",
       "  <thead>\n",
       "    <tr style=\"text-align: right;\">\n",
       "      <th></th>\n",
       "      <th>author</th>\n",
       "      <th>year</th>\n",
       "      <th>pub_id</th>\n",
       "    </tr>\n",
       "  </thead>\n",
       "  <tbody>\n",
       "    <tr>\n",
       "      <th>0</th>\n",
       "      <td>graeme earl</td>\n",
       "      <td>2011</td>\n",
       "      <td>001c58d3-26ad-46b3-ab3a-c1e557d16821</td>\n",
       "    </tr>\n",
       "    <tr>\n",
       "      <th>1</th>\n",
       "      <td>gareth beale</td>\n",
       "      <td>2011</td>\n",
       "      <td>001c58d3-26ad-46b3-ab3a-c1e557d16821</td>\n",
       "    </tr>\n",
       "    <tr>\n",
       "      <th>2</th>\n",
       "      <td>m. nasser</td>\n",
       "      <td>2009</td>\n",
       "      <td>001c8744-73c4-4b04-9364-22d31a10dbf1</td>\n",
       "    </tr>\n",
       "    <tr>\n",
       "      <th>3</th>\n",
       "      <td>faisal zaman</td>\n",
       "      <td>2009</td>\n",
       "      <td>001c8744-73c4-4b04-9364-22d31a10dbf1</td>\n",
       "    </tr>\n",
       "    <tr>\n",
       "      <th>4</th>\n",
       "      <td>altaf hossain</td>\n",
       "      <td>2009</td>\n",
       "      <td>001c8744-73c4-4b04-9364-22d31a10dbf1</td>\n",
       "    </tr>\n",
       "  </tbody>\n",
       "</table>\n",
       "</div>"
      ],
      "text/plain": [
       "          author  year                                pub_id\n",
       "0    graeme earl  2011  001c58d3-26ad-46b3-ab3a-c1e557d16821\n",
       "1   gareth beale  2011  001c58d3-26ad-46b3-ab3a-c1e557d16821\n",
       "2      m. nasser  2009  001c8744-73c4-4b04-9364-22d31a10dbf1\n",
       "3   faisal zaman  2009  001c8744-73c4-4b04-9364-22d31a10dbf1\n",
       "4  altaf hossain  2009  001c8744-73c4-4b04-9364-22d31a10dbf1"
      ]
     },
     "execution_count": 6,
     "metadata": {},
     "output_type": "execute_result"
    }
   ],
   "source": [
    "authorPublicationData = pd.read_csv('./data/author_publications_2017_asiansAsNone.txt')\n",
    "\n",
    "authorPublicationData.head()"
   ]
  },
  {
   "cell_type": "code",
   "execution_count": 7,
   "metadata": {},
   "outputs": [
    {
     "name": "stdout",
     "output_type": "stream",
     "text": [
      "(9471668, 3)\n",
      "(9467149, 3)\n"
     ]
    }
   ],
   "source": [
    "print(authorPublicationData.shape)\n",
    "authorPublicationData.drop_duplicates(subset=['author','pub_id'], inplace=True)\n",
    "print(authorPublicationData.shape)"
   ]
  },
  {
   "cell_type": "code",
   "execution_count": 8,
   "metadata": {},
   "outputs": [
    {
     "data": {
      "text/html": [
       "<div>\n",
       "<style scoped>\n",
       "    .dataframe tbody tr th:only-of-type {\n",
       "        vertical-align: middle;\n",
       "    }\n",
       "\n",
       "    .dataframe tbody tr th {\n",
       "        vertical-align: top;\n",
       "    }\n",
       "\n",
       "    .dataframe thead th {\n",
       "        text-align: right;\n",
       "    }\n",
       "</style>\n",
       "<table border=\"1\" class=\"dataframe\">\n",
       "  <thead>\n",
       "    <tr style=\"text-align: right;\">\n",
       "      <th></th>\n",
       "      <th>id1</th>\n",
       "      <th>id2</th>\n",
       "      <th>year</th>\n",
       "    </tr>\n",
       "  </thead>\n",
       "  <tbody>\n",
       "    <tr>\n",
       "      <th>0</th>\n",
       "      <td>1fcd3d7f-1bb7-4347-914e-e23adb1e1a59</td>\n",
       "      <td>5065f1e8-0e2e-4e20-9866-2b5067d321dc</td>\n",
       "      <td>1990</td>\n",
       "    </tr>\n",
       "    <tr>\n",
       "      <th>1</th>\n",
       "      <td>1fcd3d7f-1bb7-4347-914e-e23adb1e1a59</td>\n",
       "      <td>cf862fd8-9204-4e44-9639-2d067c247539</td>\n",
       "      <td>1990</td>\n",
       "    </tr>\n",
       "    <tr>\n",
       "      <th>2</th>\n",
       "      <td>1fcd3d7f-1bb7-4347-914e-e23adb1e1a59</td>\n",
       "      <td>f19127f8-3d3a-4a9e-9580-c1d3e1e05141</td>\n",
       "      <td>1990</td>\n",
       "    </tr>\n",
       "    <tr>\n",
       "      <th>3</th>\n",
       "      <td>03b1d66a-b1fc-4d99-9904-9405695cc2ae</td>\n",
       "      <td>09991de0-c00f-49cf-a88a-6515943b0843</td>\n",
       "      <td>1994</td>\n",
       "    </tr>\n",
       "    <tr>\n",
       "      <th>4</th>\n",
       "      <td>03b1d66a-b1fc-4d99-9904-9405695cc2ae</td>\n",
       "      <td>156173f6-35eb-44f6-bc75-7c205153b6f0</td>\n",
       "      <td>1994</td>\n",
       "    </tr>\n",
       "  </tbody>\n",
       "</table>\n",
       "</div>"
      ],
      "text/plain": [
       "                                    id1                                   id2  \\\n",
       "0  1fcd3d7f-1bb7-4347-914e-e23adb1e1a59  5065f1e8-0e2e-4e20-9866-2b5067d321dc   \n",
       "1  1fcd3d7f-1bb7-4347-914e-e23adb1e1a59  cf862fd8-9204-4e44-9639-2d067c247539   \n",
       "2  1fcd3d7f-1bb7-4347-914e-e23adb1e1a59  f19127f8-3d3a-4a9e-9580-c1d3e1e05141   \n",
       "3  03b1d66a-b1fc-4d99-9904-9405695cc2ae  09991de0-c00f-49cf-a88a-6515943b0843   \n",
       "4  03b1d66a-b1fc-4d99-9904-9405695cc2ae  156173f6-35eb-44f6-bc75-7c205153b6f0   \n",
       "\n",
       "   year  \n",
       "0  1990  \n",
       "1  1990  \n",
       "2  1990  \n",
       "3  1994  \n",
       "4  1994  "
      ]
     },
     "execution_count": 8,
     "metadata": {},
     "output_type": "execute_result"
    }
   ],
   "source": [
    "authorCitationsData = pd.read_csv('./data/citations_2017_asiansAsNone.txt')\n",
    "authorCitationsData.head()"
   ]
  },
  {
   "cell_type": "code",
   "execution_count": 9,
   "metadata": {},
   "outputs": [
    {
     "name": "stdout",
     "output_type": "stream",
     "text": [
      "(25161834, 3)\n",
      "(25161834, 3)\n"
     ]
    }
   ],
   "source": [
    "print(authorCitationsData.shape)\n",
    "authorCitationsData.drop_duplicates(inplace=True)\n",
    "print(authorCitationsData.shape)"
   ]
  },
  {
   "cell_type": "code",
   "execution_count": 10,
   "metadata": {},
   "outputs": [
    {
     "name": "stdout",
     "output_type": "stream",
     "text": [
      "Authors#      -  1704919\n",
      "Years#        -  83\n",
      "Publications# -  3078230\n"
     ]
    }
   ],
   "source": [
    "print('Authors#      - ',authorPublicationData['author'].nunique())\n",
    "print('Years#        - ',authorPublicationData['year'].nunique())\n",
    "print('Publications# - ',authorPublicationData['pub_id'].nunique())"
   ]
  },
  {
   "cell_type": "markdown",
   "metadata": {},
   "source": [
    "## 2. Criteria for author removal"
   ]
  },
  {
   "cell_type": "code",
   "execution_count": 11,
   "metadata": {},
   "outputs": [],
   "source": [
    "groupByAuthor = authorPublicationData.groupby(['author'])\n",
    "\n",
    "groupByAuthorMinYearData = groupByAuthor['year'].min()\n",
    "groupByAuthorMaxYearData = groupByAuthor['year'].max()\n",
    "groupByAuthorCountPublicationsData = groupByAuthor['pub_id'].count()"
   ]
  },
  {
   "cell_type": "code",
   "execution_count": 12,
   "metadata": {
    "scrolled": true
   },
   "outputs": [
    {
     "name": "stdout",
     "output_type": "stream",
     "text": [
      "Total rows -                 (1704919, 4)\n",
      "After removing all < 1970 -  (1699352, 4)\n",
      "After removing duplicates -  (1699352, 4)\n",
      "After droping na -           (1699352, 4)\n"
     ]
    },
    {
     "data": {
      "text/html": [
       "<div>\n",
       "<style scoped>\n",
       "    .dataframe tbody tr th:only-of-type {\n",
       "        vertical-align: middle;\n",
       "    }\n",
       "\n",
       "    .dataframe tbody tr th {\n",
       "        vertical-align: top;\n",
       "    }\n",
       "\n",
       "    .dataframe thead th {\n",
       "        text-align: right;\n",
       "    }\n",
       "</style>\n",
       "<table border=\"1\" class=\"dataframe\">\n",
       "  <thead>\n",
       "    <tr style=\"text-align: right;\">\n",
       "      <th></th>\n",
       "      <th>author</th>\n",
       "      <th>start_year</th>\n",
       "      <th>end_year</th>\n",
       "      <th>total_num_pub</th>\n",
       "    </tr>\n",
       "  </thead>\n",
       "  <tbody>\n",
       "    <tr>\n",
       "      <th>0</th>\n",
       "      <td>'maseka lesaoana</td>\n",
       "      <td>2001</td>\n",
       "      <td>2015</td>\n",
       "      <td>2</td>\n",
       "    </tr>\n",
       "    <tr>\n",
       "      <th>1</th>\n",
       "      <td>(max) zong-ming cheng</td>\n",
       "      <td>2009</td>\n",
       "      <td>2011</td>\n",
       "      <td>2</td>\n",
       "    </tr>\n",
       "    <tr>\n",
       "      <th>2</th>\n",
       "      <td>(zhou) bryan bai</td>\n",
       "      <td>2011</td>\n",
       "      <td>2012</td>\n",
       "      <td>2</td>\n",
       "    </tr>\n",
       "    <tr>\n",
       "      <th>3</th>\n",
       "      <td>a aart blokhuis</td>\n",
       "      <td>1992</td>\n",
       "      <td>2005</td>\n",
       "      <td>2</td>\n",
       "    </tr>\n",
       "    <tr>\n",
       "      <th>4</th>\n",
       "      <td>a ahrabian</td>\n",
       "      <td>2017</td>\n",
       "      <td>2017</td>\n",
       "      <td>1</td>\n",
       "    </tr>\n",
       "  </tbody>\n",
       "</table>\n",
       "</div>"
      ],
      "text/plain": [
       "                  author  start_year  end_year  total_num_pub\n",
       "0       'maseka lesaoana        2001      2015              2\n",
       "1  (max) zong-ming cheng        2009      2011              2\n",
       "2       (zhou) bryan bai        2011      2012              2\n",
       "3        a aart blokhuis        1992      2005              2\n",
       "4             a ahrabian        2017      2017              1"
      ]
     },
     "execution_count": 12,
     "metadata": {},
     "output_type": "execute_result"
    }
   ],
   "source": [
    "authorGroupedData = groupByAuthorMinYearData.to_frame(name='start_year')\n",
    "authorGroupedData['end_year'] = groupByAuthorMaxYearData\n",
    "authorGroupedData['total_num_pub'] = groupByAuthorCountPublicationsData\n",
    "authorGroupedData = authorGroupedData.reset_index()\n",
    "print('Total rows -                ', authorGroupedData.shape)\n",
    "\n",
    "authorGroupedData = authorGroupedData[authorGroupedData[\"start_year\"] >= START_YEAR]\n",
    "print('After removing all < 1970 - ', authorGroupedData.shape)\n",
    "\n",
    "authorGroupedData = authorGroupedData.drop_duplicates()\n",
    "print('After removing duplicates - ', authorGroupedData.shape)\n",
    "\n",
    "authorGroupedData = authorGroupedData.dropna(how='any')\n",
    "print(\"After droping na -          \", authorGroupedData.shape)\n",
    "\n",
    "authorGroupedData.head()"
   ]
  },
  {
   "cell_type": "code",
   "execution_count": 13,
   "metadata": {},
   "outputs": [],
   "source": [
    "# Adding 1 here to have career length be at least one. So 3 years career means year1, year2, year3.\n",
    "authorGroupedData[\"career_length\"] = authorGroupedData['end_year'] - authorGroupedData['start_year'] + 1"
   ]
  },
  {
   "cell_type": "markdown",
   "metadata": {},
   "source": [
    "### Remove authors by career length"
   ]
  },
  {
   "cell_type": "code",
   "execution_count": 14,
   "metadata": {},
   "outputs": [
    {
     "name": "stdout",
     "output_type": "stream",
     "text": [
      "Before career len removal -           (1699352, 5)\n",
      "After  career len removal -           (129022, 5)\n"
     ]
    }
   ],
   "source": [
    "print(\"Before career len removal -          \", authorGroupedData.shape)\n",
    "authorGroupedData = authorGroupedData[authorGroupedData['career_length'] >= CAREER_LENGTH]\n",
    "print(\"After  career len removal -          \", authorGroupedData.shape)"
   ]
  },
  {
   "cell_type": "markdown",
   "metadata": {},
   "source": [
    "### Career length distribution"
   ]
  },
  {
   "cell_type": "code",
   "execution_count": 15,
   "metadata": {},
   "outputs": [
    {
     "data": {
      "image/png": "[encoded data removed]",
      "text/plain": [
       "<matplotlib.figure.Figure at 0x7f1518c055c0>"
      ]
     },
     "metadata": {},
     "output_type": "display_data"
    }
   ],
   "source": [
    "careerLengthDist = authorGroupedData.groupby([\"career_length\"])['author'].count()\n",
    "temp = careerLengthDist.cumsum()  \n",
    "ax = temp.plot(grid=True, title='Cumulative histogram of Career Length by authors')\n",
    "ax.set_xlabel('Career Length')\n",
    "ax.set_ylabel('No. of Authors')\n",
    "\n",
    "plt.show()"
   ]
  },
  {
   "cell_type": "code",
   "execution_count": 16,
   "metadata": {},
   "outputs": [],
   "source": [
    "credible_authors = authorGroupedData"
   ]
  },
  {
   "cell_type": "markdown",
   "metadata": {},
   "source": [
    "### Label authors that drop out"
   ]
  },
  {
   "cell_type": "code",
   "execution_count": 17,
   "metadata": {},
   "outputs": [
    {
     "name": "stdout",
     "output_type": "stream",
     "text": [
      "Label authors with 10 years inacitivity in a 15 years window as dropouts\n"
     ]
    }
   ],
   "source": [
    "print(f\"Label authors with {INACTIVE_TIME_DROPOUTS} years inacitivity in a {CAREER_LENGTH_DROPOUTS} years window as dropouts\")"
   ]
  },
  {
   "cell_type": "code",
   "execution_count": 18,
   "metadata": {},
   "outputs": [
    {
     "name": "stdout",
     "output_type": "stream",
     "text": [
      "      author  year                                pub_id  start_year\n",
      "0  jian shen  2011  00338203-9eb3-40c5-9f31-cbac73a519ec        1995\n",
      "1  jian shen  2000  6fe9b69d-2108-4284-add1-e82297429fb7        1995\n",
      "2  jian shen  2009  efb20978-bef8-4eb0-b04d-3c0607e84b4a        1995\n",
      "3  jian shen  2014  68325b19-a6f1-47eb-83fd-af87f435d16f        1995\n",
      "4  jian shen  2014  9826d821-bdfa-4df7-b7fa-0ff3be17243c        1995\n",
      "(4204791, 4)\n"
     ]
    }
   ],
   "source": [
    "combined_pubs = authorPublicationData.merge(credible_authors[['author', 'start_year']], on='author', how='inner')\n",
    "\n",
    "print(combined_pubs.head())\n",
    "print(combined_pubs.shape)"
   ]
  },
  {
   "cell_type": "code",
   "execution_count": 19,
   "metadata": {},
   "outputs": [
    {
     "data": {
      "text/plain": [
       "[(0, 15)]"
      ]
     },
     "execution_count": 19,
     "metadata": {},
     "output_type": "execute_result"
    }
   ],
   "source": [
    "CAREER_LENGTH_DROPOUTS_LIST"
   ]
  },
  {
   "cell_type": "code",
   "execution_count": 20,
   "metadata": {},
   "outputs": [],
   "source": [
    "#combined_pubs = combined_pubs.head(1000)"
   ]
  },
  {
   "cell_type": "code",
   "execution_count": 21,
   "metadata": {},
   "outputs": [],
   "source": [
    "for start, end in CAREER_LENGTH_DROPOUTS_LIST:\n",
    "    combined_pubs_grouped = combined_pubs[(combined_pubs.year >= combined_pubs.start_year + start) &\n",
    "                                    (combined_pubs.year <= combined_pubs.start_year + end)]   \n",
    "    # for every 2 consecutive years the author has published (nxt and prev) find a difference (absence time)\n",
    "    # we artificially add a value: career start + 15 as a limiter of our observation window\n",
    "    # this will add 0 values and reduce the mean for people who published in that year, but its maybe OK as we do it for all\n",
    "    combined_pubs_grouped = combined_pubs_grouped.groupby('author')['year', 'start_year'].apply(\n",
    "        lambda x: [nxt - prev for prev, nxt in zip(sorted(x['year']),sorted(x['year'].append(x['start_year']+end))[1:])])\n",
    "    combined_pubs_grouped = combined_pubs_grouped.reset_index()\n",
    "    combined_pubs_grouped.rename({0:f'absence_list-{start}-{end}'}, inplace=True, axis='columns')\n",
    "    combined_pubs_grouped[f'max_absence-{start}-{end}'] = combined_pubs_grouped[f'absence_list-{start}-{end}'].apply(max)\n",
    "    combined_pubs_grouped[f'avg_absence-{start}-{end}'] = combined_pubs_grouped[f'absence_list-{start}-{end}'].apply(np.mean)\n",
    "    #break\n",
    "    \n",
    "    # TODO: Should i also add the start year into the calculation? Now i only have end year included"
   ]
  },
  {
   "cell_type": "code",
   "execution_count": 22,
   "metadata": {},
   "outputs": [
    {
     "name": "stdout",
     "output_type": "stream",
     "text": [
      "               author                              absence_list-0-15  \\\n",
      "0    'maseka lesaoana                                        [14, 1]   \n",
      "1          a min tjoa  [7, 4, 1, 0, 1, 0, 1, 0, 0, 0, 0, 0, 1, 0, 0]   \n",
      "2    a-imam al-sammak                                     [13, 1, 1]   \n",
      "3          a-xing zhu        [5, 3, 0, 1, 0, 2, 0, 0, 1, 1, 0, 1, 1]   \n",
      "4  a. a. (louis) beex                    [0, 4, 0, 1, 1, 0, 6, 3, 0]   \n",
      "\n",
      "   max_absence-0-15  avg_absence-0-15  \n",
      "0                14          7.500000  \n",
      "1                 7          1.000000  \n",
      "2                13          5.000000  \n",
      "3                 5          1.153846  \n",
      "4                 6          1.666667  \n",
      "(129022, 4)\n",
      "       author                              absence_list-0-15  \\\n",
      "1  a min tjoa  [7, 4, 1, 0, 1, 0, 1, 0, 0, 0, 0, 0, 1, 0, 0]   \n",
      "\n",
      "   max_absence-0-15  avg_absence-0-15  \n",
      "1                 7               1.0  \n"
     ]
    }
   ],
   "source": [
    "print(combined_pubs_grouped.head())\n",
    "print(combined_pubs_grouped.shape)\n",
    "print(combined_pubs_grouped[combined_pubs_grouped.author == \"a min tjoa\"])"
   ]
  },
  {
   "cell_type": "code",
   "execution_count": 23,
   "metadata": {},
   "outputs": [
    {
     "data": {
      "text/html": [
       "<div>\n",
       "<style scoped>\n",
       "    .dataframe tbody tr th:only-of-type {\n",
       "        vertical-align: middle;\n",
       "    }\n",
       "\n",
       "    .dataframe tbody tr th {\n",
       "        vertical-align: top;\n",
       "    }\n",
       "\n",
       "    .dataframe thead th {\n",
       "        text-align: right;\n",
       "    }\n",
       "</style>\n",
       "<table border=\"1\" class=\"dataframe\">\n",
       "  <thead>\n",
       "    <tr style=\"text-align: right;\">\n",
       "      <th></th>\n",
       "      <th>author</th>\n",
       "      <th>start_year</th>\n",
       "      <th>end_year</th>\n",
       "      <th>total_num_pub</th>\n",
       "      <th>career_length</th>\n",
       "    </tr>\n",
       "  </thead>\n",
       "  <tbody>\n",
       "    <tr>\n",
       "      <th>0</th>\n",
       "      <td>'maseka lesaoana</td>\n",
       "      <td>2001</td>\n",
       "      <td>2015</td>\n",
       "      <td>2</td>\n",
       "      <td>15</td>\n",
       "    </tr>\n",
       "    <tr>\n",
       "      <th>9</th>\n",
       "      <td>a min tjoa</td>\n",
       "      <td>1979</td>\n",
       "      <td>2017</td>\n",
       "      <td>191</td>\n",
       "      <td>39</td>\n",
       "    </tr>\n",
       "    <tr>\n",
       "      <th>18</th>\n",
       "      <td>a-imam al-sammak</td>\n",
       "      <td>1992</td>\n",
       "      <td>2006</td>\n",
       "      <td>3</td>\n",
       "      <td>15</td>\n",
       "    </tr>\n",
       "    <tr>\n",
       "      <th>29</th>\n",
       "      <td>a-xing zhu</td>\n",
       "      <td>1998</td>\n",
       "      <td>2017</td>\n",
       "      <td>22</td>\n",
       "      <td>20</td>\n",
       "    </tr>\n",
       "    <tr>\n",
       "      <th>35</th>\n",
       "      <td>a. a. (louis) beex</td>\n",
       "      <td>1980</td>\n",
       "      <td>2016</td>\n",
       "      <td>31</td>\n",
       "      <td>37</td>\n",
       "    </tr>\n",
       "  </tbody>\n",
       "</table>\n",
       "</div>"
      ],
      "text/plain": [
       "                author  start_year  end_year  total_num_pub  career_length\n",
       "0     'maseka lesaoana        2001      2015              2             15\n",
       "9           a min tjoa        1979      2017            191             39\n",
       "18    a-imam al-sammak        1992      2006              3             15\n",
       "29          a-xing zhu        1998      2017             22             20\n",
       "35  a. a. (louis) beex        1980      2016             31             37"
      ]
     },
     "execution_count": 23,
     "metadata": {},
     "output_type": "execute_result"
    }
   ],
   "source": [
    "credible_authors.head()"
   ]
  },
  {
   "cell_type": "code",
   "execution_count": 24,
   "metadata": {},
   "outputs": [
    {
     "data": {
      "text/html": [
       "<div>\n",
       "<style scoped>\n",
       "    .dataframe tbody tr th:only-of-type {\n",
       "        vertical-align: middle;\n",
       "    }\n",
       "\n",
       "    .dataframe tbody tr th {\n",
       "        vertical-align: top;\n",
       "    }\n",
       "\n",
       "    .dataframe thead th {\n",
       "        text-align: right;\n",
       "    }\n",
       "</style>\n",
       "<table border=\"1\" class=\"dataframe\">\n",
       "  <thead>\n",
       "    <tr style=\"text-align: right;\">\n",
       "      <th></th>\n",
       "      <th>author</th>\n",
       "      <th>start_year</th>\n",
       "      <th>end_year</th>\n",
       "      <th>total_num_pub</th>\n",
       "      <th>career_length</th>\n",
       "      <th>max_absence-0-15</th>\n",
       "      <th>avg_absence-0-15</th>\n",
       "    </tr>\n",
       "  </thead>\n",
       "  <tbody>\n",
       "    <tr>\n",
       "      <th>0</th>\n",
       "      <td>'maseka lesaoana</td>\n",
       "      <td>2001</td>\n",
       "      <td>2015</td>\n",
       "      <td>2</td>\n",
       "      <td>15</td>\n",
       "      <td>14</td>\n",
       "      <td>7.500000</td>\n",
       "    </tr>\n",
       "    <tr>\n",
       "      <th>1</th>\n",
       "      <td>a min tjoa</td>\n",
       "      <td>1979</td>\n",
       "      <td>2017</td>\n",
       "      <td>191</td>\n",
       "      <td>39</td>\n",
       "      <td>7</td>\n",
       "      <td>1.000000</td>\n",
       "    </tr>\n",
       "    <tr>\n",
       "      <th>2</th>\n",
       "      <td>a-imam al-sammak</td>\n",
       "      <td>1992</td>\n",
       "      <td>2006</td>\n",
       "      <td>3</td>\n",
       "      <td>15</td>\n",
       "      <td>13</td>\n",
       "      <td>5.000000</td>\n",
       "    </tr>\n",
       "    <tr>\n",
       "      <th>3</th>\n",
       "      <td>a-xing zhu</td>\n",
       "      <td>1998</td>\n",
       "      <td>2017</td>\n",
       "      <td>22</td>\n",
       "      <td>20</td>\n",
       "      <td>5</td>\n",
       "      <td>1.153846</td>\n",
       "    </tr>\n",
       "    <tr>\n",
       "      <th>4</th>\n",
       "      <td>a. a. (louis) beex</td>\n",
       "      <td>1980</td>\n",
       "      <td>2016</td>\n",
       "      <td>31</td>\n",
       "      <td>37</td>\n",
       "      <td>6</td>\n",
       "      <td>1.666667</td>\n",
       "    </tr>\n",
       "  </tbody>\n",
       "</table>\n",
       "</div>"
      ],
      "text/plain": [
       "               author  start_year  end_year  total_num_pub  career_length  \\\n",
       "0    'maseka lesaoana        2001      2015              2             15   \n",
       "1          a min tjoa        1979      2017            191             39   \n",
       "2    a-imam al-sammak        1992      2006              3             15   \n",
       "3          a-xing zhu        1998      2017             22             20   \n",
       "4  a. a. (louis) beex        1980      2016             31             37   \n",
       "\n",
       "   max_absence-0-15  avg_absence-0-15  \n",
       "0                14          7.500000  \n",
       "1                 7          1.000000  \n",
       "2                13          5.000000  \n",
       "3                 5          1.153846  \n",
       "4                 6          1.666667  "
      ]
     },
     "execution_count": 24,
     "metadata": {},
     "output_type": "execute_result"
    }
   ],
   "source": [
    "credible_authors = credible_authors.merge(combined_pubs_grouped[['author', 'max_absence-0-15', 'avg_absence-0-15']], on='author', how='left')\n",
    "#credible_authors = credible_authors.merge(combined_pubs_15_y[['author', 'max_absence', 'avg_absence']], on='author', how='left')\n",
    "\n",
    "credible_authors.head()"
   ]
  },
  {
   "cell_type": "code",
   "execution_count": 25,
   "metadata": {},
   "outputs": [
    {
     "data": {
      "text/html": [
       "<div>\n",
       "<style scoped>\n",
       "    .dataframe tbody tr th:only-of-type {\n",
       "        vertical-align: middle;\n",
       "    }\n",
       "\n",
       "    .dataframe tbody tr th {\n",
       "        vertical-align: top;\n",
       "    }\n",
       "\n",
       "    .dataframe thead th {\n",
       "        text-align: right;\n",
       "    }\n",
       "</style>\n",
       "<table border=\"1\" class=\"dataframe\">\n",
       "  <thead>\n",
       "    <tr style=\"text-align: right;\">\n",
       "      <th></th>\n",
       "      <th>author</th>\n",
       "      <th>start_year</th>\n",
       "      <th>end_year</th>\n",
       "      <th>total_num_pub</th>\n",
       "      <th>career_length</th>\n",
       "      <th>max_absence-0-15</th>\n",
       "      <th>avg_absence-0-15</th>\n",
       "    </tr>\n",
       "  </thead>\n",
       "  <tbody>\n",
       "    <tr>\n",
       "      <th>0</th>\n",
       "      <td>'maseka lesaoana</td>\n",
       "      <td>2001</td>\n",
       "      <td>2015</td>\n",
       "      <td>2</td>\n",
       "      <td>15</td>\n",
       "      <td>14</td>\n",
       "      <td>7.500000</td>\n",
       "    </tr>\n",
       "    <tr>\n",
       "      <th>1</th>\n",
       "      <td>a min tjoa</td>\n",
       "      <td>1979</td>\n",
       "      <td>2017</td>\n",
       "      <td>191</td>\n",
       "      <td>39</td>\n",
       "      <td>7</td>\n",
       "      <td>1.000000</td>\n",
       "    </tr>\n",
       "    <tr>\n",
       "      <th>2</th>\n",
       "      <td>a-imam al-sammak</td>\n",
       "      <td>1992</td>\n",
       "      <td>2006</td>\n",
       "      <td>3</td>\n",
       "      <td>15</td>\n",
       "      <td>13</td>\n",
       "      <td>5.000000</td>\n",
       "    </tr>\n",
       "    <tr>\n",
       "      <th>3</th>\n",
       "      <td>a-xing zhu</td>\n",
       "      <td>1998</td>\n",
       "      <td>2017</td>\n",
       "      <td>22</td>\n",
       "      <td>20</td>\n",
       "      <td>5</td>\n",
       "      <td>1.153846</td>\n",
       "    </tr>\n",
       "    <tr>\n",
       "      <th>4</th>\n",
       "      <td>a. a. (louis) beex</td>\n",
       "      <td>1980</td>\n",
       "      <td>2016</td>\n",
       "      <td>31</td>\n",
       "      <td>37</td>\n",
       "      <td>6</td>\n",
       "      <td>1.666667</td>\n",
       "    </tr>\n",
       "  </tbody>\n",
       "</table>\n",
       "</div>"
      ],
      "text/plain": [
       "               author  start_year  end_year  total_num_pub  career_length  \\\n",
       "0    'maseka lesaoana        2001      2015              2             15   \n",
       "1          a min tjoa        1979      2017            191             39   \n",
       "2    a-imam al-sammak        1992      2006              3             15   \n",
       "3          a-xing zhu        1998      2017             22             20   \n",
       "4  a. a. (louis) beex        1980      2016             31             37   \n",
       "\n",
       "   max_absence-0-15  avg_absence-0-15  \n",
       "0                14          7.500000  \n",
       "1                 7          1.000000  \n",
       "2                13          5.000000  \n",
       "3                 5          1.153846  \n",
       "4                 6          1.666667  "
      ]
     },
     "execution_count": 25,
     "metadata": {},
     "output_type": "execute_result"
    }
   ],
   "source": [
    "credible_authors.head()"
   ]
  },
  {
   "cell_type": "code",
   "execution_count": 26,
   "metadata": {},
   "outputs": [],
   "source": [
    "credible_authors['dropped_after_10'] = credible_authors['max_absence-0-15'].apply(lambda x: False if x < 10 else True)"
   ]
  },
  {
   "cell_type": "code",
   "execution_count": 27,
   "metadata": {},
   "outputs": [
    {
     "data": {
      "text/plain": [
       "2     17017\n",
       "3     16475\n",
       "4     14339\n",
       "15    12626\n",
       "5     11746\n",
       "6      9818\n",
       "7      7925\n",
       "8      7268\n",
       "1      5968\n",
       "9      5877\n",
       "10     4917\n",
       "11     4196\n",
       "14     3827\n",
       "12     3595\n",
       "13     3428\n",
       "Name: max_absence-0-15, dtype: int64"
      ]
     },
     "execution_count": 27,
     "metadata": {},
     "output_type": "execute_result"
    }
   ],
   "source": [
    "credible_authors['max_absence-0-15'].value_counts(dropna=False)"
   ]
  },
  {
   "cell_type": "code",
   "execution_count": 28,
   "metadata": {},
   "outputs": [
    {
     "data": {
      "text/plain": [
       "(129022, 8)"
      ]
     },
     "execution_count": 28,
     "metadata": {},
     "output_type": "execute_result"
    }
   ],
   "source": [
    "credible_authors.shape"
   ]
  },
  {
   "cell_type": "code",
   "execution_count": 29,
   "metadata": {},
   "outputs": [
    {
     "data": {
      "text/plain": [
       "False    96433\n",
       "True     32589\n",
       "Name: dropped_after_10, dtype: int64"
      ]
     },
     "execution_count": 29,
     "metadata": {},
     "output_type": "execute_result"
    }
   ],
   "source": [
    "credible_authors['dropped_after_10'].value_counts()"
   ]
  },
  {
   "cell_type": "markdown",
   "metadata": {},
   "source": [
    "### Gender"
   ]
  },
  {
   "cell_type": "code",
   "execution_count": 30,
   "metadata": {},
   "outputs": [
    {
     "data": {
      "text/plain": [
       "m       68862\n",
       "none    47141\n",
       "f       13019\n",
       "Name: gender, dtype: int64"
      ]
     },
     "execution_count": 30,
     "metadata": {},
     "output_type": "execute_result"
    }
   ],
   "source": [
    "gender = pd.read_csv('./data/name_gender_2017_asiansAsNone_nodup.txt')\n",
    "\n",
    "\n",
    "credible_authors = credible_authors.merge(gender, left_on='author', right_on='name', how='left')\n",
    "\n",
    "credible_authors.drop('name', axis=1, inplace=True)\n",
    "\n",
    "credible_authors.head()\n",
    "\n",
    "credible_authors.gender.value_counts()"
   ]
  },
  {
   "cell_type": "markdown",
   "metadata": {},
   "source": [
    "### Save filtered data about authors"
   ]
  },
  {
   "cell_type": "code",
   "execution_count": 31,
   "metadata": {},
   "outputs": [
    {
     "name": "stdout",
     "output_type": "stream",
     "text": [
      "               author  start_year  end_year  total_num_pub  career_length  \\\n",
      "0    'maseka lesaoana        2001      2015              2             15   \n",
      "1          a min tjoa        1979      2017            191             39   \n",
      "2    a-imam al-sammak        1992      2006              3             15   \n",
      "3          a-xing zhu        1998      2017             22             20   \n",
      "4  a. a. (louis) beex        1980      2016             31             37   \n",
      "\n",
      "   max_absence-0-15  avg_absence-0-15  dropped_after_10 gender  \n",
      "0                14          7.500000              True   none  \n",
      "1                 7          1.000000             False   none  \n",
      "2                13          5.000000              True      m  \n",
      "3                 5          1.153846             False   none  \n",
      "4                 6          1.666667             False      m  \n"
     ]
    }
   ],
   "source": [
    "print(credible_authors.head())\n",
    "credible_authors.to_csv('derived-data/authors-scientific-atleast-'+str(CAREER_LENGTH)+'-year.csv',\n",
    "                    index=False, encoding='utf-8')"
   ]
  },
  {
   "cell_type": "code",
   "execution_count": 32,
   "metadata": {},
   "outputs": [
    {
     "name": "stdout",
     "output_type": "stream",
     "text": [
      "[ 3.  5.  9. 15.]\n",
      "[ 3.  5.  9. 15.]\n",
      "6.560817286747408\n",
      "4.3013783657181826\n",
      "6.426607266303096\n",
      "4.239404392133693\n"
     ]
    }
   ],
   "source": [
    "m_credible_authors = credible_authors[credible_authors[\"gender\"] == \"m\"]\n",
    "f_credible_authors = credible_authors[credible_authors[\"gender\"] == \"f\"]\n",
    "print(np.percentile(m_credible_authors[\"max_absence-0-15\"].values, [25, 50, 75, 100]))\n",
    "print(np.percentile(f_credible_authors[\"max_absence-0-15\"].values, [25, 50, 75, 100]))\n",
    "print(np.mean(m_credible_authors[\"max_absence-0-15\"].values))\n",
    "print(np.std(m_credible_authors[\"max_absence-0-15\"].values))\n",
    "print(np.mean(f_credible_authors[\"max_absence-0-15\"].values))\n",
    "print(np.std(f_credible_authors[\"max_absence-0-15\"].values))\n",
    "\n",
    "\n",
    "# Quick load\n",
    "# credible_authors = pd.read_csv('data/authors-scientific-atleast-'+str(CAREER_LENGTH)+'-year.csv')\n"
   ]
  },
  {
   "cell_type": "markdown",
   "metadata": {},
   "source": [
    "### Remove author from publications"
   ]
  },
  {
   "cell_type": "code",
   "execution_count": 33,
   "metadata": {},
   "outputs": [
    {
     "name": "stdout",
     "output_type": "stream",
     "text": [
      "(9467149, 3)\n"
     ]
    }
   ],
   "source": [
    "print(authorPublicationData.shape)"
   ]
  },
  {
   "cell_type": "code",
   "execution_count": 34,
   "metadata": {},
   "outputs": [],
   "source": [
    "authorPublicationData_cleaned = authorPublicationData.loc[authorPublicationData.author.isin(credible_authors.author)]"
   ]
  },
  {
   "cell_type": "code",
   "execution_count": 35,
   "metadata": {},
   "outputs": [
    {
     "name": "stdout",
     "output_type": "stream",
     "text": [
      "(4204791, 3)\n"
     ]
    }
   ],
   "source": [
    "print(authorPublicationData_cleaned.shape)"
   ]
  },
  {
   "cell_type": "code",
   "execution_count": 36,
   "metadata": {},
   "outputs": [],
   "source": [
    "authorPublicationData_cleaned.to_csv('derived-data/author-publications-atleast-'+ str(CAREER_LENGTH)+'-year.csv', index=False)"
   ]
  },
  {
   "cell_type": "code",
   "execution_count": 37,
   "metadata": {},
   "outputs": [],
   "source": [
    "# Quick load\n",
    "# authorPublicationData = pd.read_csv('derived-data/author-publications-atleast-'+ str(CAREER_LENGTH)+'-year.csv')"
   ]
  },
  {
   "cell_type": "markdown",
   "metadata": {},
   "source": [
    "## 3. Generate a new citation network"
   ]
  },
  {
   "cell_type": "markdown",
   "metadata": {},
   "source": [
    "### Generate Author->Paper network"
   ]
  },
  {
   "cell_type": "code",
   "execution_count": 38,
   "metadata": {},
   "outputs": [],
   "source": [
    "# We need data about how many times an author has been cited\n",
    "# For every authors publication, i merge all citations\n",
    "final_citation_count_from_ids = authorPublicationData.merge(authorCitationsData, left_on='pub_id', \n",
    "                                                            right_on='id2', how='inner', suffixes=('_pub', '_cit'))"
   ]
  },
  {
   "cell_type": "code",
   "execution_count": 39,
   "metadata": {},
   "outputs": [],
   "source": [
    "final_citation_count_from_ids.drop_duplicates(inplace=True)"
   ]
  },
  {
   "cell_type": "markdown",
   "metadata": {},
   "source": [
    "#### Remove errors in citation data (years published vs years cited)"
   ]
  },
  {
   "cell_type": "code",
   "execution_count": 40,
   "metadata": {},
   "outputs": [
    {
     "name": "stdout",
     "output_type": "stream",
     "text": [
      "(75912535, 6)\n",
      "(75392625, 6)\n"
     ]
    }
   ],
   "source": [
    "# Published before cited - NORMAL\n",
    "print(final_citation_count_from_ids.shape)\n",
    "num_normal = final_citation_count_from_ids[final_citation_count_from_ids.year_pub <= final_citation_count_from_ids.year_cit].shape\n",
    "print(num_normal)"
   ]
  },
  {
   "cell_type": "code",
   "execution_count": 41,
   "metadata": {},
   "outputs": [
    {
     "name": "stdout",
     "output_type": "stream",
     "text": [
      "(519910, 6)\n"
     ]
    }
   ],
   "source": [
    "# Published after cited - WRONG\n",
    "num_wrong = final_citation_count_from_ids[final_citation_count_from_ids.year_pub > final_citation_count_from_ids.year_cit].shape\n",
    "print(num_wrong)"
   ]
  },
  {
   "cell_type": "code",
   "execution_count": 42,
   "metadata": {},
   "outputs": [
    {
     "name": "stdout",
     "output_type": "stream",
     "text": [
      "Percentage of citations to be removed:  0.6848803033649186\n",
      "Less than one percent\n"
     ]
    }
   ],
   "source": [
    "print(\"Percentage of citations to be removed: \", num_wrong[0]*100/(num_normal[0]+num_wrong[0]))\n",
    "print(\"Less than one percent\")"
   ]
  },
  {
   "cell_type": "code",
   "execution_count": 43,
   "metadata": {},
   "outputs": [],
   "source": [
    "cit_wrong_df = final_citation_count_from_ids[final_citation_count_from_ids.year_pub > final_citation_count_from_ids.year_cit]"
   ]
  },
  {
   "cell_type": "code",
   "execution_count": 44,
   "metadata": {},
   "outputs": [],
   "source": [
    "cit_wrong = final_citation_count_from_ids[final_citation_count_from_ids.year_pub > final_citation_count_from_ids.year_cit].index"
   ]
  },
  {
   "cell_type": "code",
   "execution_count": 45,
   "metadata": {},
   "outputs": [],
   "source": [
    "final_citation_count_from_ids.drop(cit_wrong, inplace=True)\n",
    "\n",
    "assert num_normal[0] == final_citation_count_from_ids.shape[0], \"The number of citations doesnt match\""
   ]
  },
  {
   "cell_type": "code",
   "execution_count": 46,
   "metadata": {},
   "outputs": [
    {
     "data": {
      "text/plain": [
       "Index(['author', 'year_pub', 'pub_id', 'id1', 'id2', 'year_cit'], dtype='object')"
      ]
     },
     "execution_count": 46,
     "metadata": {},
     "output_type": "execute_result"
    }
   ],
   "source": [
    "final_citation_count_from_ids.columns"
   ]
  },
  {
   "cell_type": "markdown",
   "metadata": {},
   "source": [
    "#### Save"
   ]
  },
  {
   "cell_type": "code",
   "execution_count": 47,
   "metadata": {},
   "outputs": [],
   "source": [
    "# final_citation_count_from_ids.to_csv('./data/authors_cited_by_papers_2017_asiansAsNone_by_daniel.txt',\n",
    "#                                      columns=['author', 'year_pub', 'pub_id', 'id1', 'year_cit'], index=False)\n",
    "\n",
    "final_citation_count_from_ids[['author', 'id1', 'id2', 'year_cit']].drop_duplicates().to_csv('derived-data/author-paper-citations-cleaned.csv', \n",
    "                                                                                   index=False)\n",
    "\n",
    "# final_citation_count_from_ids.drop_duplicates(subset=['author_cited', 'pub_id_cited', 'pub_id_citing', 'author_citing'],\n",
    "#                                               inplace=True)"
   ]
  },
  {
   "cell_type": "code",
   "execution_count": 48,
   "metadata": {},
   "outputs": [],
   "source": [
    "# Quick load\n",
    "# final_citation_count_from_ids = pd.read_csv('derived-data/paper-paper-citations-cleaned.csv')"
   ]
  },
  {
   "cell_type": "code",
   "execution_count": 49,
   "metadata": {},
   "outputs": [],
   "source": [
    "# drop duplicates on id1,id2 because we only care about paper->paper citations\n",
    "paper_citation_count = final_citation_count_from_ids.drop_duplicates(subset=['id1', 'id2']).groupby('id2')['id1'].count()\n",
    "paper_citation_count.to_csv('derived-data/paper-citation-count.csv')"
   ]
  },
  {
   "cell_type": "markdown",
   "metadata": {},
   "source": [
    "Its important to keep using this file for citations. As it has bad entries removed"
   ]
  },
  {
   "cell_type": "markdown",
   "metadata": {},
   "source": [
    "### Generate Author->Author network"
   ]
  },
  {
   "cell_type": "code",
   "execution_count": 50,
   "metadata": {},
   "outputs": [],
   "source": [
    "# # To generate an author->author citation network\n",
    "# # For every citation an author received, merge in all the authors that cited him\n",
    "# # TODO Should we be filtering citations? Do we include them all? We do drop ones cited before published\n",
    "# final_citation_count_from_ids = final_citation_count_from_ids.merge(authorPublicationData, left_on='id1', \n",
    "#                                                                     right_on='pub_id', how='left', suffixes=('_cited', '_citing'))\n",
    "# final_citation_count_from_ids.to_csv('./derived-data/author-author-citations.csv',\n",
    "#                                      columns=['author_cited', 'author_citing', 'year_cit'], index=False)"
   ]
  },
  {
   "cell_type": "code",
   "execution_count": 51,
   "metadata": {},
   "outputs": [
    {
     "data": {
      "text/html": [
       "<div>\n",
       "<style scoped>\n",
       "    .dataframe tbody tr th:only-of-type {\n",
       "        vertical-align: middle;\n",
       "    }\n",
       "\n",
       "    .dataframe tbody tr th {\n",
       "        vertical-align: top;\n",
       "    }\n",
       "\n",
       "    .dataframe thead th {\n",
       "        text-align: right;\n",
       "    }\n",
       "</style>\n",
       "<table border=\"1\" class=\"dataframe\">\n",
       "  <thead>\n",
       "    <tr style=\"text-align: right;\">\n",
       "      <th></th>\n",
       "      <th>author</th>\n",
       "      <th>year_pub</th>\n",
       "      <th>pub_id</th>\n",
       "      <th>id1</th>\n",
       "      <th>id2</th>\n",
       "      <th>year_cit</th>\n",
       "    </tr>\n",
       "  </thead>\n",
       "  <tbody>\n",
       "    <tr>\n",
       "      <th>0</th>\n",
       "      <td>graeme earl</td>\n",
       "      <td>2011</td>\n",
       "      <td>001c58d3-26ad-46b3-ab3a-c1e557d16821</td>\n",
       "      <td>16870052-7e2e-4bbc-beeb-21e493bea221</td>\n",
       "      <td>001c58d3-26ad-46b3-ab3a-c1e557d16821</td>\n",
       "      <td>2015</td>\n",
       "    </tr>\n",
       "    <tr>\n",
       "      <th>1</th>\n",
       "      <td>gareth beale</td>\n",
       "      <td>2011</td>\n",
       "      <td>001c58d3-26ad-46b3-ab3a-c1e557d16821</td>\n",
       "      <td>16870052-7e2e-4bbc-beeb-21e493bea221</td>\n",
       "      <td>001c58d3-26ad-46b3-ab3a-c1e557d16821</td>\n",
       "      <td>2015</td>\n",
       "    </tr>\n",
       "    <tr>\n",
       "      <th>2</th>\n",
       "      <td>m. nasser</td>\n",
       "      <td>2009</td>\n",
       "      <td>001c8744-73c4-4b04-9364-22d31a10dbf1</td>\n",
       "      <td>49ec0c15-7a9d-4378-a26a-f5063567b519</td>\n",
       "      <td>001c8744-73c4-4b04-9364-22d31a10dbf1</td>\n",
       "      <td>2013</td>\n",
       "    </tr>\n",
       "    <tr>\n",
       "      <th>3</th>\n",
       "      <td>m. nasser</td>\n",
       "      <td>2009</td>\n",
       "      <td>001c8744-73c4-4b04-9364-22d31a10dbf1</td>\n",
       "      <td>ae0b4e3d-305d-4fb8-9847-60dcc9a9ec44</td>\n",
       "      <td>001c8744-73c4-4b04-9364-22d31a10dbf1</td>\n",
       "      <td>2014</td>\n",
       "    </tr>\n",
       "    <tr>\n",
       "      <th>4</th>\n",
       "      <td>faisal zaman</td>\n",
       "      <td>2009</td>\n",
       "      <td>001c8744-73c4-4b04-9364-22d31a10dbf1</td>\n",
       "      <td>49ec0c15-7a9d-4378-a26a-f5063567b519</td>\n",
       "      <td>001c8744-73c4-4b04-9364-22d31a10dbf1</td>\n",
       "      <td>2013</td>\n",
       "    </tr>\n",
       "  </tbody>\n",
       "</table>\n",
       "</div>"
      ],
      "text/plain": [
       "         author  year_pub                                pub_id  \\\n",
       "0   graeme earl      2011  001c58d3-26ad-46b3-ab3a-c1e557d16821   \n",
       "1  gareth beale      2011  001c58d3-26ad-46b3-ab3a-c1e557d16821   \n",
       "2     m. nasser      2009  001c8744-73c4-4b04-9364-22d31a10dbf1   \n",
       "3     m. nasser      2009  001c8744-73c4-4b04-9364-22d31a10dbf1   \n",
       "4  faisal zaman      2009  001c8744-73c4-4b04-9364-22d31a10dbf1   \n",
       "\n",
       "                                    id1                                   id2  \\\n",
       "0  16870052-7e2e-4bbc-beeb-21e493bea221  001c58d3-26ad-46b3-ab3a-c1e557d16821   \n",
       "1  16870052-7e2e-4bbc-beeb-21e493bea221  001c58d3-26ad-46b3-ab3a-c1e557d16821   \n",
       "2  49ec0c15-7a9d-4378-a26a-f5063567b519  001c8744-73c4-4b04-9364-22d31a10dbf1   \n",
       "3  ae0b4e3d-305d-4fb8-9847-60dcc9a9ec44  001c8744-73c4-4b04-9364-22d31a10dbf1   \n",
       "4  49ec0c15-7a9d-4378-a26a-f5063567b519  001c8744-73c4-4b04-9364-22d31a10dbf1   \n",
       "\n",
       "   year_cit  \n",
       "0      2015  \n",
       "1      2015  \n",
       "2      2013  \n",
       "3      2014  \n",
       "4      2013  "
      ]
     },
     "execution_count": 51,
     "metadata": {},
     "output_type": "execute_result"
    }
   ],
   "source": [
    "final_citation_count_from_ids.head()"
   ]
  },
  {
   "cell_type": "markdown",
   "metadata": {},
   "source": [
    "### Group citations over authors and years"
   ]
  },
  {
   "cell_type": "code",
   "execution_count": 60,
   "metadata": {},
   "outputs": [],
   "source": [
    "citations_year_auth = final_citation_count_from_ids.groupby(['author', 'year_cit'])['id1'].count()\n"
   ]
  },
  {
   "cell_type": "code",
   "execution_count": 61,
   "metadata": {},
   "outputs": [
    {
     "data": {
      "text/plain": [
       "author            year_cit\n",
       "'maseka lesaoana  2002        1\n",
       "                  2003        1\n",
       "                  2004        1\n",
       "                  2005        2\n",
       "                  2006        4\n",
       "Name: id1, dtype: int64"
      ]
     },
     "execution_count": 61,
     "metadata": {},
     "output_type": "execute_result"
    }
   ],
   "source": [
    "citations_year_auth.head()"
   ]
  },
  {
   "cell_type": "code",
   "execution_count": 62,
   "metadata": {},
   "outputs": [],
   "source": [
    "# TODO: Why am i merging num_pub here? Why merge credible authors? Maybe i was making one file to use in both cases\n",
    "# citations_year_auth = citations_year_auth.reset_index().merge(credible_authors[['author', 'total_num_pub']], on='author')"
   ]
  },
  {
   "cell_type": "code",
   "execution_count": 63,
   "metadata": {},
   "outputs": [],
   "source": [
    "citations_year_auth = citations_year_auth.reset_index()\n",
    "citations_year_auth = citations_year_auth.rename(columns={'id1':'cit_count'})\n",
    "\n",
    "citations_year_auth[['author', 'year_cit', 'cit_count']].to_csv('derived-data/authors-perYear-citations-atleast-'+str(CAREER_LENGTH)+'-year.csv', index=False)"
   ]
  },
  {
   "cell_type": "code",
   "execution_count": 64,
   "metadata": {},
   "outputs": [],
   "source": [
    "citations_year_auth = citations_year_auth.groupby(['author', 'year_cit'])['cit_count'].sum()"
   ]
  },
  {
   "cell_type": "markdown",
   "metadata": {},
   "source": [
    "## Early career analysis"
   ]
  },
  {
   "cell_type": "code",
   "execution_count": 65,
   "metadata": {},
   "outputs": [],
   "source": [
    "combined = final_citation_count_from_ids.merge(credible_authors[['author', 'start_year']], on='author', how='inner')"
   ]
  },
  {
   "cell_type": "code",
   "execution_count": 66,
   "metadata": {},
   "outputs": [
    {
     "data": {
      "text/html": [
       "<div>\n",
       "<style scoped>\n",
       "    .dataframe tbody tr th:only-of-type {\n",
       "        vertical-align: middle;\n",
       "    }\n",
       "\n",
       "    .dataframe tbody tr th {\n",
       "        vertical-align: top;\n",
       "    }\n",
       "\n",
       "    .dataframe thead th {\n",
       "        text-align: right;\n",
       "    }\n",
       "</style>\n",
       "<table border=\"1\" class=\"dataframe\">\n",
       "  <thead>\n",
       "    <tr style=\"text-align: right;\">\n",
       "      <th></th>\n",
       "      <th>author</th>\n",
       "      <th>year_pub</th>\n",
       "      <th>pub_id</th>\n",
       "      <th>id1</th>\n",
       "      <th>id2</th>\n",
       "      <th>year_cit</th>\n",
       "      <th>start_year</th>\n",
       "    </tr>\n",
       "  </thead>\n",
       "  <tbody>\n",
       "    <tr>\n",
       "      <th>0</th>\n",
       "      <td>jovan dj. golic</td>\n",
       "      <td>2004</td>\n",
       "      <td>00638a94-23bf-4fa6-b5ce-40d799c65da7</td>\n",
       "      <td>6d6b0e6a-ddc6-40c9-8103-f0b31a686a76</td>\n",
       "      <td>00638a94-23bf-4fa6-b5ce-40d799c65da7</td>\n",
       "      <td>2005</td>\n",
       "      <td>1987</td>\n",
       "    </tr>\n",
       "    <tr>\n",
       "      <th>1</th>\n",
       "      <td>jovan dj. golic</td>\n",
       "      <td>1997</td>\n",
       "      <td>5fdf16ab-32ec-4d76-bf32-6a3cde56c6ba</td>\n",
       "      <td>37af7f59-efc2-41ec-aee1-fdb16653f600</td>\n",
       "      <td>5fdf16ab-32ec-4d76-bf32-6a3cde56c6ba</td>\n",
       "      <td>1999</td>\n",
       "      <td>1987</td>\n",
       "    </tr>\n",
       "    <tr>\n",
       "      <th>2</th>\n",
       "      <td>jovan dj. golic</td>\n",
       "      <td>1992</td>\n",
       "      <td>1b4862ef-05c2-40e7-be21-6477a7e8098f</td>\n",
       "      <td>77b67b89-c51d-48af-9ce9-a36392f57ac5</td>\n",
       "      <td>1b4862ef-05c2-40e7-be21-6477a7e8098f</td>\n",
       "      <td>2006</td>\n",
       "      <td>1987</td>\n",
       "    </tr>\n",
       "    <tr>\n",
       "      <th>3</th>\n",
       "      <td>jovan dj. golic</td>\n",
       "      <td>1992</td>\n",
       "      <td>1b4862ef-05c2-40e7-be21-6477a7e8098f</td>\n",
       "      <td>85453ae0-7ba0-4e39-8aee-a03c644c8792</td>\n",
       "      <td>1b4862ef-05c2-40e7-be21-6477a7e8098f</td>\n",
       "      <td>2004</td>\n",
       "      <td>1987</td>\n",
       "    </tr>\n",
       "    <tr>\n",
       "      <th>4</th>\n",
       "      <td>jovan dj. golic</td>\n",
       "      <td>1992</td>\n",
       "      <td>1b4862ef-05c2-40e7-be21-6477a7e8098f</td>\n",
       "      <td>e33d89f1-291f-4ceb-9b6f-ecc166412650</td>\n",
       "      <td>1b4862ef-05c2-40e7-be21-6477a7e8098f</td>\n",
       "      <td>1994</td>\n",
       "      <td>1987</td>\n",
       "    </tr>\n",
       "  </tbody>\n",
       "</table>\n",
       "</div>"
      ],
      "text/plain": [
       "            author  year_pub                                pub_id  \\\n",
       "0  jovan dj. golic      2004  00638a94-23bf-4fa6-b5ce-40d799c65da7   \n",
       "1  jovan dj. golic      1997  5fdf16ab-32ec-4d76-bf32-6a3cde56c6ba   \n",
       "2  jovan dj. golic      1992  1b4862ef-05c2-40e7-be21-6477a7e8098f   \n",
       "3  jovan dj. golic      1992  1b4862ef-05c2-40e7-be21-6477a7e8098f   \n",
       "4  jovan dj. golic      1992  1b4862ef-05c2-40e7-be21-6477a7e8098f   \n",
       "\n",
       "                                    id1                                   id2  \\\n",
       "0  6d6b0e6a-ddc6-40c9-8103-f0b31a686a76  00638a94-23bf-4fa6-b5ce-40d799c65da7   \n",
       "1  37af7f59-efc2-41ec-aee1-fdb16653f600  5fdf16ab-32ec-4d76-bf32-6a3cde56c6ba   \n",
       "2  77b67b89-c51d-48af-9ce9-a36392f57ac5  1b4862ef-05c2-40e7-be21-6477a7e8098f   \n",
       "3  85453ae0-7ba0-4e39-8aee-a03c644c8792  1b4862ef-05c2-40e7-be21-6477a7e8098f   \n",
       "4  e33d89f1-291f-4ceb-9b6f-ecc166412650  1b4862ef-05c2-40e7-be21-6477a7e8098f   \n",
       "\n",
       "   year_cit  start_year  \n",
       "0      2005        1987  \n",
       "1      1999        1987  \n",
       "2      2006        1987  \n",
       "3      2004        1987  \n",
       "4      1994        1987  "
      ]
     },
     "execution_count": 66,
     "metadata": {},
     "output_type": "execute_result"
    }
   ],
   "source": [
    "combined.head()"
   ]
  },
  {
   "cell_type": "code",
   "execution_count": 67,
   "metadata": {},
   "outputs": [],
   "source": [
    "combined.drop_duplicates(subset=['author', 'id1', 'id2'], inplace=True)"
   ]
  },
  {
   "cell_type": "code",
   "execution_count": 68,
   "metadata": {},
   "outputs": [
    {
     "data": {
      "text/html": [
       "<div>\n",
       "<style scoped>\n",
       "    .dataframe tbody tr th:only-of-type {\n",
       "        vertical-align: middle;\n",
       "    }\n",
       "\n",
       "    .dataframe tbody tr th {\n",
       "        vertical-align: top;\n",
       "    }\n",
       "\n",
       "    .dataframe thead th {\n",
       "        text-align: right;\n",
       "    }\n",
       "</style>\n",
       "<table border=\"1\" class=\"dataframe\">\n",
       "  <thead>\n",
       "    <tr style=\"text-align: right;\">\n",
       "      <th></th>\n",
       "      <th>author</th>\n",
       "      <th>start_year</th>\n",
       "      <th>end_year</th>\n",
       "      <th>total_num_pub</th>\n",
       "      <th>career_length</th>\n",
       "      <th>max_absence-0-15</th>\n",
       "      <th>avg_absence-0-15</th>\n",
       "      <th>dropped_after_10</th>\n",
       "      <th>gender</th>\n",
       "    </tr>\n",
       "  </thead>\n",
       "  <tbody>\n",
       "    <tr>\n",
       "      <th>0</th>\n",
       "      <td>'maseka lesaoana</td>\n",
       "      <td>2001</td>\n",
       "      <td>2015</td>\n",
       "      <td>2</td>\n",
       "      <td>15</td>\n",
       "      <td>14</td>\n",
       "      <td>7.500000</td>\n",
       "      <td>True</td>\n",
       "      <td>none</td>\n",
       "    </tr>\n",
       "    <tr>\n",
       "      <th>1</th>\n",
       "      <td>a min tjoa</td>\n",
       "      <td>1979</td>\n",
       "      <td>2017</td>\n",
       "      <td>191</td>\n",
       "      <td>39</td>\n",
       "      <td>7</td>\n",
       "      <td>1.000000</td>\n",
       "      <td>False</td>\n",
       "      <td>none</td>\n",
       "    </tr>\n",
       "    <tr>\n",
       "      <th>2</th>\n",
       "      <td>a-imam al-sammak</td>\n",
       "      <td>1992</td>\n",
       "      <td>2006</td>\n",
       "      <td>3</td>\n",
       "      <td>15</td>\n",
       "      <td>13</td>\n",
       "      <td>5.000000</td>\n",
       "      <td>True</td>\n",
       "      <td>m</td>\n",
       "    </tr>\n",
       "    <tr>\n",
       "      <th>3</th>\n",
       "      <td>a-xing zhu</td>\n",
       "      <td>1998</td>\n",
       "      <td>2017</td>\n",
       "      <td>22</td>\n",
       "      <td>20</td>\n",
       "      <td>5</td>\n",
       "      <td>1.153846</td>\n",
       "      <td>False</td>\n",
       "      <td>none</td>\n",
       "    </tr>\n",
       "    <tr>\n",
       "      <th>4</th>\n",
       "      <td>a. a. (louis) beex</td>\n",
       "      <td>1980</td>\n",
       "      <td>2016</td>\n",
       "      <td>31</td>\n",
       "      <td>37</td>\n",
       "      <td>6</td>\n",
       "      <td>1.666667</td>\n",
       "      <td>False</td>\n",
       "      <td>m</td>\n",
       "    </tr>\n",
       "  </tbody>\n",
       "</table>\n",
       "</div>"
      ],
      "text/plain": [
       "               author  start_year  end_year  total_num_pub  career_length  \\\n",
       "0    'maseka lesaoana        2001      2015              2             15   \n",
       "1          a min tjoa        1979      2017            191             39   \n",
       "2    a-imam al-sammak        1992      2006              3             15   \n",
       "3          a-xing zhu        1998      2017             22             20   \n",
       "4  a. a. (louis) beex        1980      2016             31             37   \n",
       "\n",
       "   max_absence-0-15  avg_absence-0-15  dropped_after_10 gender  \n",
       "0                14          7.500000              True   none  \n",
       "1                 7          1.000000             False   none  \n",
       "2                13          5.000000              True      m  \n",
       "3                 5          1.153846             False   none  \n",
       "4                 6          1.666667             False      m  "
      ]
     },
     "execution_count": 68,
     "metadata": {},
     "output_type": "execute_result"
    }
   ],
   "source": [
    "credible_authors.head()"
   ]
  },
  {
   "cell_type": "code",
   "execution_count": 69,
   "metadata": {},
   "outputs": [
    {
     "data": {
      "text/plain": [
       "(44945496, 7)"
      ]
     },
     "execution_count": 69,
     "metadata": {},
     "output_type": "execute_result"
    }
   ],
   "source": [
    "combined.shape"
   ]
  },
  {
   "cell_type": "code",
   "execution_count": 70,
   "metadata": {},
   "outputs": [],
   "source": [
    "combined_early_quality = combined[(combined.year_pub < combined.start_year + EARLY_CAREER_LEN) &\n",
    "         (combined.year_cit < combined.start_year + SUCCESS_CUTOFF)]"
   ]
  },
  {
   "cell_type": "code",
   "execution_count": 71,
   "metadata": {},
   "outputs": [],
   "source": [
    "early_career_quality = combined_early_quality.groupby('author')['id1'].count()\n",
    "\n",
    "early_career_quality = early_career_quality.rename('early_career_qual')\n",
    "early_career_quality = early_career_quality.reset_index()\n",
    "credible_authors = credible_authors.merge(early_career_quality, on='author', how='left')"
   ]
  },
  {
   "cell_type": "code",
   "execution_count": 72,
   "metadata": {},
   "outputs": [],
   "source": [
    "credible_authors['early_career_qual'] = credible_authors['early_career_qual'].fillna(0)"
   ]
  },
  {
   "cell_type": "code",
   "execution_count": 73,
   "metadata": {},
   "outputs": [],
   "source": [
    "early_career_recognition = combined[(combined.year_pub < combined.start_year + EARLY_CAREER_LEN) &\n",
    "         (combined.year_cit < combined.start_year + RECOGNITION_CUT_OFF)]"
   ]
  },
  {
   "cell_type": "code",
   "execution_count": 74,
   "metadata": {},
   "outputs": [],
   "source": [
    "early_career_recognition = early_career_recognition.groupby('author')['id1'].count()\n",
    "\n",
    "early_career_recognition = early_career_recognition.rename('early_career_recognition')\n",
    "early_career_recognition = early_career_recognition.reset_index()\n",
    "credible_authors = credible_authors.merge(early_career_recognition, on='author', how='left')"
   ]
  },
  {
   "cell_type": "code",
   "execution_count": 75,
   "metadata": {},
   "outputs": [],
   "source": [
    "credible_authors['early_career_recognition'] = credible_authors['early_career_recognition'].fillna(0)"
   ]
  },
  {
   "cell_type": "code",
   "execution_count": 76,
   "metadata": {},
   "outputs": [],
   "source": [
    "combined_succ_after_15y = combined[combined.year_cit < combined.start_year + SUCCESS_CUTOFF]"
   ]
  },
  {
   "cell_type": "code",
   "execution_count": 77,
   "metadata": {},
   "outputs": [],
   "source": [
    "succ_after_15y = combined_succ_after_15y.groupby('author')['id1'].count()\n",
    "\n",
    "succ_after_15y = succ_after_15y.rename('succ_after_15y')\n",
    "succ_after_15y = succ_after_15y.reset_index()\n",
    "credible_authors = credible_authors.merge(succ_after_15y, on='author', how='left')\n",
    "credible_authors['succ_after_15y'] = credible_authors['succ_after_15y'].fillna(0)"
   ]
  },
  {
   "cell_type": "code",
   "execution_count": 78,
   "metadata": {},
   "outputs": [],
   "source": [
    "def get_early_career_prod(row, early_career_len):\n",
    "    early_prod = 0\n",
    "    author = row.author\n",
    "    start_year = row['start_year']\n",
    "    year_num_pub = author_year_numPub[author]\n",
    "    for year in range(early_career_len):\n",
    "        if start_year + year in year_num_pub:\n",
    "            early_prod += year_num_pub[start_year + year]\n",
    "    return early_prod"
   ]
  },
  {
   "cell_type": "code",
   "execution_count": 79,
   "metadata": {},
   "outputs": [],
   "source": [
    "author_year_numPub = authorPublicationData.groupby(['author', 'year'])['pub_id'].count()"
   ]
  },
  {
   "cell_type": "code",
   "execution_count": 80,
   "metadata": {},
   "outputs": [
    {
     "name": "stdout",
     "output_type": "stream",
     "text": [
      "CPU times: user 1min 23s, sys: 1.38 s, total: 1min 24s\n",
      "Wall time: 1min 24s\n"
     ]
    }
   ],
   "source": [
    "%%time\n",
    "credible_authors['early_career_prod'] = credible_authors.apply(lambda x: get_early_career_prod(x, EARLY_CAREER_LEN), axis=1)"
   ]
  },
  {
   "cell_type": "code",
   "execution_count": 81,
   "metadata": {},
   "outputs": [],
   "source": [
    "def get_early_publications(row, early_career_len):\n",
    "    # TODO reimplement\n",
    "    early_pubs = []\n",
    "    author = row.author\n",
    "    start_year = row['start_year']\n",
    "    year_pub_list = author_year_publications[author]\n",
    "    for year in range(early_career_len):\n",
    "        if start_year + year in year_pub_list:\n",
    "            early_pubs.extend(year_pub_list[start_year + year])\n",
    "    return early_pubs"
   ]
  },
  {
   "cell_type": "code",
   "execution_count": 82,
   "metadata": {},
   "outputs": [],
   "source": [
    "# author_year_publications = authorPublicationData.groupby(['author', 'year'])['pub_id'].apply(list)"
   ]
  },
  {
   "cell_type": "code",
   "execution_count": 83,
   "metadata": {},
   "outputs": [],
   "source": [
    "# %%time\n",
    "# credible_authors['early_career_pubs'] = credible_authors.apply(lambda x: get_early_publications(x, EARLY_CAREER_LEN), axis=1)"
   ]
  },
  {
   "cell_type": "code",
   "execution_count": 84,
   "metadata": {},
   "outputs": [],
   "source": [
    "def get_early_career_recognition(row, early_career_len):\n",
    "    # TODO reimplement\n",
    "    early_rec = 0\n",
    "    author = row.author\n",
    "    start_year = row['start_year']\n",
    "    if author in citations_year_auth:\n",
    "        year_num_cit = citations_year_auth[author]\n",
    "    else:\n",
    "        return 0\n",
    "    for year in range(early_career_len):\n",
    "        if start_year + year in year_num_cit:\n",
    "            early_rec += year_num_cit[start_year + year]\n",
    "    return early_rec"
   ]
  },
  {
   "cell_type": "code",
   "execution_count": 85,
   "metadata": {},
   "outputs": [],
   "source": [
    "# %%time\n",
    "# credible_authors['early_career_rec'] = credible_authors.apply(lambda x: get_early_career_recognition(x, EARLY_CAREER_LEN), axis=1)"
   ]
  },
  {
   "cell_type": "code",
   "execution_count": 86,
   "metadata": {},
   "outputs": [
    {
     "data": {
      "text/html": [
       "<div>\n",
       "<style scoped>\n",
       "    .dataframe tbody tr th:only-of-type {\n",
       "        vertical-align: middle;\n",
       "    }\n",
       "\n",
       "    .dataframe tbody tr th {\n",
       "        vertical-align: top;\n",
       "    }\n",
       "\n",
       "    .dataframe thead th {\n",
       "        text-align: right;\n",
       "    }\n",
       "</style>\n",
       "<table border=\"1\" class=\"dataframe\">\n",
       "  <thead>\n",
       "    <tr style=\"text-align: right;\">\n",
       "      <th></th>\n",
       "      <th>author</th>\n",
       "      <th>start_year</th>\n",
       "      <th>end_year</th>\n",
       "      <th>early_career_qual</th>\n",
       "      <th>early_career_recognition</th>\n",
       "    </tr>\n",
       "  </thead>\n",
       "  <tbody>\n",
       "    <tr>\n",
       "      <th>93962</th>\n",
       "      <td>ralf steinmetz</td>\n",
       "      <td>1983</td>\n",
       "      <td>2017</td>\n",
       "      <td>1.0</td>\n",
       "      <td>1.0</td>\n",
       "    </tr>\n",
       "    <tr>\n",
       "      <th>112756</th>\n",
       "      <td>thomas cairns</td>\n",
       "      <td>1977</td>\n",
       "      <td>1993</td>\n",
       "      <td>0.0</td>\n",
       "      <td>0.0</td>\n",
       "    </tr>\n",
       "    <tr>\n",
       "      <th>19931</th>\n",
       "      <td>cristina bosco</td>\n",
       "      <td>2001</td>\n",
       "      <td>2016</td>\n",
       "      <td>3.0</td>\n",
       "      <td>0.0</td>\n",
       "    </tr>\n",
       "    <tr>\n",
       "      <th>59550</th>\n",
       "      <td>jörg butterfaß</td>\n",
       "      <td>1997</td>\n",
       "      <td>2014</td>\n",
       "      <td>8.0</td>\n",
       "      <td>6.0</td>\n",
       "    </tr>\n",
       "    <tr>\n",
       "      <th>38566</th>\n",
       "      <td>guy paré</td>\n",
       "      <td>1983</td>\n",
       "      <td>2017</td>\n",
       "      <td>120.0</td>\n",
       "      <td>15.0</td>\n",
       "    </tr>\n",
       "    <tr>\n",
       "      <th>10058</th>\n",
       "      <td>bahattin yildiz</td>\n",
       "      <td>1997</td>\n",
       "      <td>2017</td>\n",
       "      <td>28.0</td>\n",
       "      <td>3.0</td>\n",
       "    </tr>\n",
       "    <tr>\n",
       "      <th>88223</th>\n",
       "      <td>paul r. hill</td>\n",
       "      <td>2000</td>\n",
       "      <td>2017</td>\n",
       "      <td>72.0</td>\n",
       "      <td>4.0</td>\n",
       "    </tr>\n",
       "    <tr>\n",
       "      <th>8400</th>\n",
       "      <td>aria alasty</td>\n",
       "      <td>2002</td>\n",
       "      <td>2016</td>\n",
       "      <td>1.0</td>\n",
       "      <td>0.0</td>\n",
       "    </tr>\n",
       "    <tr>\n",
       "      <th>116721</th>\n",
       "      <td>valeria a. leoni</td>\n",
       "      <td>2002</td>\n",
       "      <td>2017</td>\n",
       "      <td>6.0</td>\n",
       "      <td>5.0</td>\n",
       "    </tr>\n",
       "    <tr>\n",
       "      <th>26107</th>\n",
       "      <td>donald h. house</td>\n",
       "      <td>1992</td>\n",
       "      <td>2016</td>\n",
       "      <td>102.0</td>\n",
       "      <td>17.0</td>\n",
       "    </tr>\n",
       "  </tbody>\n",
       "</table>\n",
       "</div>"
      ],
      "text/plain": [
       "                  author  start_year  end_year  early_career_qual  \\\n",
       "93962     ralf steinmetz        1983      2017                1.0   \n",
       "112756     thomas cairns        1977      1993                0.0   \n",
       "19931     cristina bosco        2001      2016                3.0   \n",
       "59550     jörg butterfaß        1997      2014                8.0   \n",
       "38566           guy paré        1983      2017              120.0   \n",
       "10058    bahattin yildiz        1997      2017               28.0   \n",
       "88223       paul r. hill        2000      2017               72.0   \n",
       "8400         aria alasty        2002      2016                1.0   \n",
       "116721  valeria a. leoni        2002      2017                6.0   \n",
       "26107    donald h. house        1992      2016              102.0   \n",
       "\n",
       "        early_career_recognition  \n",
       "93962                        1.0  \n",
       "112756                       0.0  \n",
       "19931                        0.0  \n",
       "59550                        6.0  \n",
       "38566                       15.0  \n",
       "10058                        3.0  \n",
       "88223                        4.0  \n",
       "8400                         0.0  \n",
       "116721                       5.0  \n",
       "26107                       17.0  "
      ]
     },
     "execution_count": 86,
     "metadata": {},
     "output_type": "execute_result"
    }
   ],
   "source": [
    "credible_authors[['author', 'start_year', 'end_year', 'early_career_qual', 'early_career_recognition']].sample(10)"
   ]
  },
  {
   "cell_type": "code",
   "execution_count": 87,
   "metadata": {},
   "outputs": [],
   "source": [
    "# final_citation_count = citations_year_auth.groupby('author')['cit_count'].sum()\n",
    "\n",
    "# final_citation_count = final_citation_count.reset_index()\n",
    "\n",
    "# credible_authors = credible_authors.merge(final_citation_count, on='author', how='left') \n",
    "\n",
    "\n",
    "# credible_authors.rename({'cit_count': 'final_citation_count'}, axis=1, inplace=True)\n",
    "\n",
    "# credible_authors['final_citation_count'] = credible_authors['final_citation_count'].fillna(0)"
   ]
  },
  {
   "cell_type": "markdown",
   "metadata": {},
   "source": [
    "## Save"
   ]
  },
  {
   "cell_type": "code",
   "execution_count": 88,
   "metadata": {},
   "outputs": [],
   "source": [
    "credible_authors.to_csv('derived-data/authors-scientific-atleast-'+str(CAREER_LENGTH)+'-year-extended.csv',\n",
    "                    index=False, encoding='utf-8')"
   ]
  }
 ],
 "metadata": {
  "kernelspec": {
   "display_name": "Python 3",
   "language": "python",
   "name": "python3"
  },
  "language_info": {
   "codemirror_mode": {
    "name": "ipython",
    "version": 3
   },
   "file_extension": ".py",
   "mimetype": "text/x-python",
   "name": "python",
   "nbconvert_exporter": "python",
   "pygments_lexer": "ipython3",
   "version": "3.6.4"
  }
 },
 "nbformat": 4,
 "nbformat_minor": 2
}
