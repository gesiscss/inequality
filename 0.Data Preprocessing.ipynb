{
 "cells": [
  {
   "cell_type": "code",
   "execution_count": 4,
   "metadata": {
    "pycharm": {
     "is_executing": false
    }
   },
   "outputs": [],
   "source": [
    "import pandas as pd\n",
    "import numpy as np\n",
    "import calculate\n",
    "from calculate import gini"
   ]
  },
  {
   "cell_type": "code",
   "execution_count": 5,
   "metadata": {},
   "outputs": [],
   "source": [
    "# Specify career len to export file for\n",
    "# CAREER_LENGTH = 15\n",
    "# Specify how long is the early career. Impacts which papers we take into account for early productivity and quality\n",
    "# EARLY_CAREER_LEN = 3\n",
    "# EARLY_CAREER_LEN_LIST = [1, 2, 3, 4, 5]\n",
    "EARLY_CAREER_LEN_LIST = [3,5,7,9,11,12]\n",
    "# For early career work, when do we stop counting citations. Impacts recognition\n",
    "# RECOGNITION_CUT_OFF = 5\n",
    "# RECOGNITION_CUT_OFF_LIST = [3, 4, 5, 6, 7, 8, 9]\n",
    "# RECOGNITION_CUT_OFF_LIST = [3, 5]\n",
    "RECOGNITION_CUT_OFF_LIST = [3,5,7,9,11,12]\n",
    "# Success after 15 years. Impacts when we stop counting citations\n",
    "SUCCESS_CUTOFF = 15\n",
    "# Length of observed career for dropouts\n",
    "# (1-3), middle career (4-9), late career (10-15)\n",
    "\n",
    "# TODO: for multiple dropout intervals code does not work!!!\n",
    "# CAREER_LENGTH_DROPOUTS_LIST = [ (0, 15), (0, 3), (4, 9), (10, 15)] #,\n",
    "CAREER_LENGTH_DROPOUTS_LIST = [(0, 15)]\n",
    "# CAREER_LENGTH_DROPOUTS = 15\n",
    "INACTIVE_TIME_DROPOUTS = 10\n",
    "\n",
    "# Specify the first and last year we consider in our analysis\n",
    "START_YEAR = 1970\n",
    "LAST_START_YEAR = 2000"
   ]
  },
  {
   "cell_type": "code",
   "execution_count": 6,
   "metadata": {},
   "outputs": [],
   "source": [
    "# assert(INACTIVE_TIME_DROPOUTS < CAREER_LENGTH_DROPOUTS), \"Time observed for dropouts has to be smaller than the whole window!\""
   ]
  },
  {
   "cell_type": "code",
   "execution_count": 7,
   "metadata": {},
   "outputs": [],
   "source": [
    "# assert(CAREER_LENGTH >= EARLY_CAREER_LEN), \"Early career len too long\""
   ]
  },
  {
   "cell_type": "markdown",
   "metadata": {},
   "source": [
    "## 1. Load data"
   ]
  },
  {
   "cell_type": "code",
   "execution_count": 8,
   "metadata": {},
   "outputs": [
    {
     "data": {
      "text/html": [
       "<div>\n",
       "<style scoped>\n",
       "    .dataframe tbody tr th:only-of-type {\n",
       "        vertical-align: middle;\n",
       "    }\n",
       "\n",
       "    .dataframe tbody tr th {\n",
       "        vertical-align: top;\n",
       "    }\n",
       "\n",
       "    .dataframe thead th {\n",
       "        text-align: right;\n",
       "    }\n",
       "</style>\n",
       "<table border=\"1\" class=\"dataframe\">\n",
       "  <thead>\n",
       "    <tr style=\"text-align: right;\">\n",
       "      <th></th>\n",
       "      <th>author</th>\n",
       "      <th>year</th>\n",
       "      <th>pub_id</th>\n",
       "    </tr>\n",
       "  </thead>\n",
       "  <tbody>\n",
       "    <tr>\n",
       "      <td>0</td>\n",
       "      <td>graeme earl</td>\n",
       "      <td>2011</td>\n",
       "      <td>001c58d3-26ad-46b3-ab3a-c1e557d16821</td>\n",
       "    </tr>\n",
       "    <tr>\n",
       "      <td>1</td>\n",
       "      <td>gareth beale</td>\n",
       "      <td>2011</td>\n",
       "      <td>001c58d3-26ad-46b3-ab3a-c1e557d16821</td>\n",
       "    </tr>\n",
       "    <tr>\n",
       "      <td>2</td>\n",
       "      <td>m. nasser</td>\n",
       "      <td>2009</td>\n",
       "      <td>001c8744-73c4-4b04-9364-22d31a10dbf1</td>\n",
       "    </tr>\n",
       "    <tr>\n",
       "      <td>3</td>\n",
       "      <td>faisal zaman</td>\n",
       "      <td>2009</td>\n",
       "      <td>001c8744-73c4-4b04-9364-22d31a10dbf1</td>\n",
       "    </tr>\n",
       "    <tr>\n",
       "      <td>4</td>\n",
       "      <td>altaf hossain</td>\n",
       "      <td>2009</td>\n",
       "      <td>001c8744-73c4-4b04-9364-22d31a10dbf1</td>\n",
       "    </tr>\n",
       "  </tbody>\n",
       "</table>\n",
       "</div>"
      ],
      "text/plain": [
       "          author  year                                pub_id\n",
       "0    graeme earl  2011  001c58d3-26ad-46b3-ab3a-c1e557d16821\n",
       "1   gareth beale  2011  001c58d3-26ad-46b3-ab3a-c1e557d16821\n",
       "2      m. nasser  2009  001c8744-73c4-4b04-9364-22d31a10dbf1\n",
       "3   faisal zaman  2009  001c8744-73c4-4b04-9364-22d31a10dbf1\n",
       "4  altaf hossain  2009  001c8744-73c4-4b04-9364-22d31a10dbf1"
      ]
     },
     "execution_count": 8,
     "metadata": {},
     "output_type": "execute_result"
    }
   ],
   "source": [
    "authorPublicationData = pd.read_csv('./data/author_publications_2017_asiansAsNone.txt')\n",
    "arxiv_pubid = pd.read_csv('derived-data/arxiv_pubid_2017.csv', header=None, names=['pub_id'])\n",
    "authorPublicationData.head()"
   ]
  },
  {
   "cell_type": "code",
   "execution_count": 9,
   "metadata": {},
   "outputs": [
    {
     "name": "stdout",
     "output_type": "stream",
     "text": [
      "(9471668, 3)\n",
      "(9467149, 3)\n",
      "(9317809, 3)\n"
     ]
    }
   ],
   "source": [
    "print(authorPublicationData.shape)\n",
    "# same as dropping author, pub_id and year\n",
    "authorPublicationData.drop_duplicates(subset=['author','pub_id'], inplace=True)\n",
    "print(authorPublicationData.shape)\n",
    "authorPublicationData = authorPublicationData.loc[~authorPublicationData.pub_id.isin(arxiv_pubid['pub_id'])]\n",
    "print(authorPublicationData.shape)"
   ]
  },
  {
   "cell_type": "code",
   "execution_count": 10,
   "metadata": {},
   "outputs": [
    {
     "data": {
      "text/plain": [
       "3029829"
      ]
     },
     "execution_count": 10,
     "metadata": {},
     "output_type": "execute_result"
    }
   ],
   "source": [
    "authorPublicationData['pub_id'].nunique()"
   ]
  },
  {
   "cell_type": "code",
   "execution_count": 11,
   "metadata": {},
   "outputs": [
    {
     "data": {
      "text/html": [
       "<div>\n",
       "<style scoped>\n",
       "    .dataframe tbody tr th:only-of-type {\n",
       "        vertical-align: middle;\n",
       "    }\n",
       "\n",
       "    .dataframe tbody tr th {\n",
       "        vertical-align: top;\n",
       "    }\n",
       "\n",
       "    .dataframe thead th {\n",
       "        text-align: right;\n",
       "    }\n",
       "</style>\n",
       "<table border=\"1\" class=\"dataframe\">\n",
       "  <thead>\n",
       "    <tr style=\"text-align: right;\">\n",
       "      <th></th>\n",
       "      <th>id1</th>\n",
       "      <th>id2</th>\n",
       "      <th>year</th>\n",
       "    </tr>\n",
       "  </thead>\n",
       "  <tbody>\n",
       "    <tr>\n",
       "      <td>0</td>\n",
       "      <td>1fcd3d7f-1bb7-4347-914e-e23adb1e1a59</td>\n",
       "      <td>5065f1e8-0e2e-4e20-9866-2b5067d321dc</td>\n",
       "      <td>1990.0</td>\n",
       "    </tr>\n",
       "    <tr>\n",
       "      <td>1</td>\n",
       "      <td>1fcd3d7f-1bb7-4347-914e-e23adb1e1a59</td>\n",
       "      <td>cf862fd8-9204-4e44-9639-2d067c247539</td>\n",
       "      <td>1990.0</td>\n",
       "    </tr>\n",
       "    <tr>\n",
       "      <td>2</td>\n",
       "      <td>1fcd3d7f-1bb7-4347-914e-e23adb1e1a59</td>\n",
       "      <td>f19127f8-3d3a-4a9e-9580-c1d3e1e05141</td>\n",
       "      <td>1990.0</td>\n",
       "    </tr>\n",
       "    <tr>\n",
       "      <td>3</td>\n",
       "      <td>03b1d66a-b1fc-4d99-9904-9405695cc2ae</td>\n",
       "      <td>09991de0-c00f-49cf-a88a-6515943b0843</td>\n",
       "      <td>1994.0</td>\n",
       "    </tr>\n",
       "    <tr>\n",
       "      <td>4</td>\n",
       "      <td>03b1d66a-b1fc-4d99-9904-9405695cc2ae</td>\n",
       "      <td>156173f6-35eb-44f6-bc75-7c205153b6f0</td>\n",
       "      <td>1994.0</td>\n",
       "    </tr>\n",
       "  </tbody>\n",
       "</table>\n",
       "</div>"
      ],
      "text/plain": [
       "                                    id1                                   id2  \\\n",
       "0  1fcd3d7f-1bb7-4347-914e-e23adb1e1a59  5065f1e8-0e2e-4e20-9866-2b5067d321dc   \n",
       "1  1fcd3d7f-1bb7-4347-914e-e23adb1e1a59  cf862fd8-9204-4e44-9639-2d067c247539   \n",
       "2  1fcd3d7f-1bb7-4347-914e-e23adb1e1a59  f19127f8-3d3a-4a9e-9580-c1d3e1e05141   \n",
       "3  03b1d66a-b1fc-4d99-9904-9405695cc2ae  09991de0-c00f-49cf-a88a-6515943b0843   \n",
       "4  03b1d66a-b1fc-4d99-9904-9405695cc2ae  156173f6-35eb-44f6-bc75-7c205153b6f0   \n",
       "\n",
       "     year  \n",
       "0  1990.0  \n",
       "1  1990.0  \n",
       "2  1990.0  \n",
       "3  1994.0  \n",
       "4  1994.0  "
      ]
     },
     "execution_count": 11,
     "metadata": {},
     "output_type": "execute_result"
    }
   ],
   "source": [
    "authorCitationsData = pd.read_csv('./data/citations_2017_asiansAsNone.txt')\n",
    "authorCitationsData.head()"
   ]
  },
  {
   "cell_type": "code",
   "execution_count": 12,
   "metadata": {},
   "outputs": [
    {
     "name": "stdout",
     "output_type": "stream",
     "text": [
      "(8938798, 3)\n",
      "(8938798, 3)\n",
      "(8936448, 3)\n"
     ]
    }
   ],
   "source": [
    "print(authorCitationsData.shape)\n",
    "authorCitationsData.drop_duplicates(inplace=True)\n",
    "print(authorCitationsData.shape)\n",
    "authorCitationsData = authorCitationsData.loc[(~authorCitationsData.id1.isin(arxiv_pubid['pub_id']))| \n",
    "                                             (~authorCitationsData.id2.isin(arxiv_pubid['pub_id']))]\n",
    "print(authorCitationsData.shape)"
   ]
  },
  {
   "cell_type": "code",
   "execution_count": 13,
   "metadata": {},
   "outputs": [
    {
     "name": "stdout",
     "output_type": "stream",
     "text": [
      "Authors#      -  1694302\n",
      "Years#        -  83\n",
      "Publications# -  3029829\n"
     ]
    }
   ],
   "source": [
    "print('Authors#      - ',authorPublicationData['author'].nunique())\n",
    "print('Years#        - ',authorPublicationData['year'].nunique())\n",
    "print('Publications# - ',authorPublicationData['pub_id'].nunique())"
   ]
  },
  {
   "cell_type": "code",
   "execution_count": 14,
   "metadata": {
    "pycharm": {
     "is_executing": false
    }
   },
   "outputs": [],
   "source": [
    "# venue data\n",
    "publication_venues_rank = pd.read_csv('derived-data/publication-venues-rank.csv')"
   ]
  },
  {
   "cell_type": "code",
   "execution_count": 15,
   "metadata": {},
   "outputs": [
    {
     "data": {
      "text/html": [
       "<div>\n",
       "<style scoped>\n",
       "    .dataframe tbody tr th:only-of-type {\n",
       "        vertical-align: middle;\n",
       "    }\n",
       "\n",
       "    .dataframe tbody tr th {\n",
       "        vertical-align: top;\n",
       "    }\n",
       "\n",
       "    .dataframe thead th {\n",
       "        text-align: right;\n",
       "    }\n",
       "</style>\n",
       "<table border=\"1\" class=\"dataframe\">\n",
       "  <thead>\n",
       "    <tr style=\"text-align: right;\">\n",
       "      <th></th>\n",
       "      <th>pub_id</th>\n",
       "      <th>year</th>\n",
       "      <th>venue</th>\n",
       "      <th>h5_index</th>\n",
       "      <th>ranking</th>\n",
       "      <th>deciles</th>\n",
       "      <th>quantiles</th>\n",
       "    </tr>\n",
       "  </thead>\n",
       "  <tbody>\n",
       "    <tr>\n",
       "      <td>0</td>\n",
       "      <td>001c58d3-26ad-46b3-ab3a-c1e557d16821</td>\n",
       "      <td>2011</td>\n",
       "      <td>visual analytics science and technology</td>\n",
       "      <td>62.0</td>\n",
       "      <td>273.5</td>\n",
       "      <td>2.0</td>\n",
       "      <td>1.0</td>\n",
       "    </tr>\n",
       "    <tr>\n",
       "      <td>1</td>\n",
       "      <td>001c8744-73c4-4b04-9364-22d31a10dbf1</td>\n",
       "      <td>2009</td>\n",
       "      <td>pattern recognition and machine intelligence</td>\n",
       "      <td>23.0</td>\n",
       "      <td>1203.0</td>\n",
       "      <td>6.0</td>\n",
       "      <td>3.0</td>\n",
       "    </tr>\n",
       "    <tr>\n",
       "      <td>2</td>\n",
       "      <td>00701b05-684f-45f9-b281-425abfec482c</td>\n",
       "      <td>2011</td>\n",
       "      <td>international symposium on computer and inform...</td>\n",
       "      <td>18.0</td>\n",
       "      <td>1486.5</td>\n",
       "      <td>7.0</td>\n",
       "      <td>3.0</td>\n",
       "    </tr>\n",
       "    <tr>\n",
       "      <td>3</td>\n",
       "      <td>00964544-cbe2-4da9-bb5a-03333160eb34</td>\n",
       "      <td>2014</td>\n",
       "      <td>international conference on computer vision an...</td>\n",
       "      <td>8.0</td>\n",
       "      <td>2117.5</td>\n",
       "      <td>9.0</td>\n",
       "      <td>4.0</td>\n",
       "    </tr>\n",
       "    <tr>\n",
       "      <td>4</td>\n",
       "      <td>00bcf2d5-1592-46b0-81fd-933f90b5ecca</td>\n",
       "      <td>2002</td>\n",
       "      <td>international conference on conceptual structures</td>\n",
       "      <td>45.0</td>\n",
       "      <td>265.0</td>\n",
       "      <td>2.0</td>\n",
       "      <td>1.0</td>\n",
       "    </tr>\n",
       "  </tbody>\n",
       "</table>\n",
       "</div>"
      ],
      "text/plain": [
       "                                 pub_id  year  \\\n",
       "0  001c58d3-26ad-46b3-ab3a-c1e557d16821  2011   \n",
       "1  001c8744-73c4-4b04-9364-22d31a10dbf1  2009   \n",
       "2  00701b05-684f-45f9-b281-425abfec482c  2011   \n",
       "3  00964544-cbe2-4da9-bb5a-03333160eb34  2014   \n",
       "4  00bcf2d5-1592-46b0-81fd-933f90b5ecca  2002   \n",
       "\n",
       "                                               venue  h5_index  ranking  \\\n",
       "0            visual analytics science and technology      62.0    273.5   \n",
       "1       pattern recognition and machine intelligence      23.0   1203.0   \n",
       "2  international symposium on computer and inform...      18.0   1486.5   \n",
       "3  international conference on computer vision an...       8.0   2117.5   \n",
       "4  international conference on conceptual structures      45.0    265.0   \n",
       "\n",
       "   deciles  quantiles  \n",
       "0      2.0        1.0  \n",
       "1      6.0        3.0  \n",
       "2      7.0        3.0  \n",
       "3      9.0        4.0  \n",
       "4      2.0        1.0  "
      ]
     },
     "execution_count": 15,
     "metadata": {},
     "output_type": "execute_result"
    }
   ],
   "source": [
    "publication_venues_rank.head()"
   ]
  },
  {
   "cell_type": "markdown",
   "metadata": {},
   "source": [
    "## 2. Career length and dropouts"
   ]
  },
  {
   "cell_type": "code",
   "execution_count": 16,
   "metadata": {},
   "outputs": [],
   "source": [
    "groupByAuthor = authorPublicationData.groupby(['author'])\n",
    "\n",
    "groupByAuthorMinYearData = groupByAuthor['year'].min()\n",
    "groupByAuthorMaxYearData = groupByAuthor['year'].max()\n",
    "groupByAuthorCountPublicationsData = groupByAuthor['pub_id'].count()"
   ]
  },
  {
   "cell_type": "code",
   "execution_count": 17,
   "metadata": {
    "scrolled": true
   },
   "outputs": [
    {
     "name": "stdout",
     "output_type": "stream",
     "text": [
      "Total rows -                 (1694302, 4)\n",
      "After removing duplicates -  (1694302, 4)\n",
      "After droping na -           (1694302, 4)\n"
     ]
    },
    {
     "data": {
      "text/html": [
       "<div>\n",
       "<style scoped>\n",
       "    .dataframe tbody tr th:only-of-type {\n",
       "        vertical-align: middle;\n",
       "    }\n",
       "\n",
       "    .dataframe tbody tr th {\n",
       "        vertical-align: top;\n",
       "    }\n",
       "\n",
       "    .dataframe thead th {\n",
       "        text-align: right;\n",
       "    }\n",
       "</style>\n",
       "<table border=\"1\" class=\"dataframe\">\n",
       "  <thead>\n",
       "    <tr style=\"text-align: right;\">\n",
       "      <th></th>\n",
       "      <th>author</th>\n",
       "      <th>start_year</th>\n",
       "      <th>end_year</th>\n",
       "      <th>total_num_pub</th>\n",
       "    </tr>\n",
       "  </thead>\n",
       "  <tbody>\n",
       "    <tr>\n",
       "      <td>0</td>\n",
       "      <td>'maseka lesaoana</td>\n",
       "      <td>2001</td>\n",
       "      <td>2015</td>\n",
       "      <td>2</td>\n",
       "    </tr>\n",
       "    <tr>\n",
       "      <td>1</td>\n",
       "      <td>(max) zong-ming cheng</td>\n",
       "      <td>2009</td>\n",
       "      <td>2011</td>\n",
       "      <td>2</td>\n",
       "    </tr>\n",
       "    <tr>\n",
       "      <td>2</td>\n",
       "      <td>(zhou) bryan bai</td>\n",
       "      <td>2011</td>\n",
       "      <td>2012</td>\n",
       "      <td>2</td>\n",
       "    </tr>\n",
       "    <tr>\n",
       "      <td>3</td>\n",
       "      <td>a aart blokhuis</td>\n",
       "      <td>1992</td>\n",
       "      <td>2005</td>\n",
       "      <td>2</td>\n",
       "    </tr>\n",
       "    <tr>\n",
       "      <td>4</td>\n",
       "      <td>a ahrabian</td>\n",
       "      <td>2017</td>\n",
       "      <td>2017</td>\n",
       "      <td>1</td>\n",
       "    </tr>\n",
       "  </tbody>\n",
       "</table>\n",
       "</div>"
      ],
      "text/plain": [
       "                  author  start_year  end_year  total_num_pub\n",
       "0       'maseka lesaoana        2001      2015              2\n",
       "1  (max) zong-ming cheng        2009      2011              2\n",
       "2       (zhou) bryan bai        2011      2012              2\n",
       "3        a aart blokhuis        1992      2005              2\n",
       "4             a ahrabian        2017      2017              1"
      ]
     },
     "execution_count": 17,
     "metadata": {},
     "output_type": "execute_result"
    }
   ],
   "source": [
    "authorGroupedData = groupByAuthorMinYearData.to_frame(name='start_year')\n",
    "authorGroupedData['end_year'] = groupByAuthorMaxYearData\n",
    "authorGroupedData['total_num_pub'] = groupByAuthorCountPublicationsData\n",
    "authorGroupedData = authorGroupedData.reset_index()\n",
    "print('Total rows -                ', authorGroupedData.shape)\n",
    "\n",
    "# authorGroupedData = authorGroupedData[authorGroupedData[\"start_year\"] >= START_YEAR]\n",
    "# print('After removing all < 1970 - ', authorGroupedData.shape)\n",
    "\n",
    "authorGroupedData = authorGroupedData.drop_duplicates()\n",
    "print('After removing duplicates - ', authorGroupedData.shape)\n",
    "\n",
    "authorGroupedData = authorGroupedData.dropna(how='any')\n",
    "print(\"After droping na -          \", authorGroupedData.shape)\n",
    "\n",
    "authorGroupedData.head()"
   ]
  },
  {
   "cell_type": "code",
   "execution_count": 18,
   "metadata": {},
   "outputs": [],
   "source": [
    "# Adding 1 here to have career length be at least one. So 3 years career means year1, year2, year3.\n",
    "authorGroupedData[\"career_length\"] = authorGroupedData['end_year'] - authorGroupedData['start_year'] + 1"
   ]
  },
  {
   "cell_type": "code",
   "execution_count": 19,
   "metadata": {},
   "outputs": [],
   "source": [
    "credible_authors = authorGroupedData"
   ]
  },
  {
   "cell_type": "markdown",
   "metadata": {},
   "source": [
    "### Label authors that drop out"
   ]
  },
  {
   "cell_type": "code",
   "execution_count": 44,
   "metadata": {},
   "outputs": [
    {
     "name": "stdout",
     "output_type": "stream",
     "text": [
      "Label authors with 10 years inacitivity in a [(0, 15)] years window as dropouts\n"
     ]
    }
   ],
   "source": [
    "print(f\"Label authors with {INACTIVE_TIME_DROPOUTS} years inacitivity in a {CAREER_LENGTH_DROPOUTS_LIST} years window as dropouts\")"
   ]
  },
  {
   "cell_type": "code",
   "execution_count": 45,
   "metadata": {},
   "outputs": [
    {
     "name": "stdout",
     "output_type": "stream",
     "text": [
      "(9317809, 4)\n"
     ]
    }
   ],
   "source": [
    "combined_pubs = authorPublicationData.merge(credible_authors[['author', 'start_year']], on='author', how='inner')\n",
    "# TODO remove this, its the same as early career publications\n",
    "print(combined_pubs.shape)"
   ]
  },
  {
   "cell_type": "code",
   "execution_count": 46,
   "metadata": {},
   "outputs": [],
   "source": [
    "def list_append(lst, item):\n",
    "    lst.append(item)\n",
    "    return lst"
   ]
  },
  {
   "cell_type": "code",
   "execution_count": 47,
   "metadata": {},
   "outputs": [],
   "source": [
    "# %%time\n",
    "# This code is potato...\n",
    "for start, end in CAREER_LENGTH_DROPOUTS_LIST:\n",
    "    combined_pubs_grouped = combined_pubs[(combined_pubs.year >= combined_pubs.start_year + start) &\n",
    "                                    (combined_pubs.year <= combined_pubs.start_year + end)]   \n",
    "    # for every 2 consecutive years the author has published (nxt and prev) find a difference (absence time)\n",
    "    # we artificially add two value: career start + 15 and career start, as limiters of our observation window\n",
    "    # this will add 0 values in the begining for the first year\n",
    "    combined_pubs_grouped = combined_pubs_grouped.groupby('author')['year', 'start_year'].apply(\n",
    "        lambda x: [nxt - prev for prev, nxt in zip(sorted(list_append(list(x['year']),x['start_year'].iloc[0]+start)), \n",
    "                                                   sorted(list_append(list(x['year']),x['start_year'].iloc[0]+  end)))])\n",
    "    combined_pubs_grouped = combined_pubs_grouped.reset_index()\n",
    "    combined_pubs_grouped.rename({0:f'absence_list-{start}-{end}'}, inplace=True, axis='columns')\n",
    "    combined_pubs_grouped[f'max_absence-{start}-{end}'] = combined_pubs_grouped[f'absence_list-{start}-{end}'].apply(max)\n",
    "    combined_pubs_grouped[f'avg_absence-{start}-{end}'] = combined_pubs_grouped[f'absence_list-{start}-{end}'].apply(np.mean)\n",
    "    \n",
    "    credible_authors = credible_authors.merge(combined_pubs_grouped[['author', f'max_absence-{start}-{end}', \n",
    "                                                                     f'avg_absence-{start}-{end}']], on='author', how='left')\n",
    "    credible_authors[f'max_absence-{start}-{end}'] = credible_authors[f'max_absence-{start}-{end}'].fillna(end-start+1)\n",
    "    credible_authors[f'avg_absence-{start}-{end}'] = credible_authors[f'avg_absence-{start}-{end}'].fillna(end-start+1)\n",
    "    \n",
    "    # TODO: Should i also add the start year into the calculation? Now i only have end year included"
   ]
  },
  {
   "cell_type": "code",
   "execution_count": 48,
   "metadata": {},
   "outputs": [],
   "source": [
    "credible_authors['dropped_after_10'] = credible_authors['max_absence-0-15'].apply(lambda x: False if x < 10 else True)"
   ]
  },
  {
   "cell_type": "code",
   "execution_count": 49,
   "metadata": {},
   "outputs": [
    {
     "data": {
      "text/plain": [
       "15    914640\n",
       "14    117603\n",
       "13    103032\n",
       "12     84408\n",
       "11     74363\n",
       "10     65665\n",
       "9      61499\n",
       "8      60150\n",
       "7      47175\n",
       "6      42213\n",
       "5      36608\n",
       "4      32376\n",
       "3      27481\n",
       "2      21164\n",
       "1       5925\n",
       "Name: max_absence-0-15, dtype: int64"
      ]
     },
     "execution_count": 49,
     "metadata": {},
     "output_type": "execute_result"
    }
   ],
   "source": [
    "credible_authors['max_absence-0-15'].value_counts(dropna=False)"
   ]
  },
  {
   "cell_type": "code",
   "execution_count": 50,
   "metadata": {},
   "outputs": [
    {
     "data": {
      "text/plain": [
       "(1694302, 8)"
      ]
     },
     "execution_count": 50,
     "metadata": {},
     "output_type": "execute_result"
    }
   ],
   "source": [
    "credible_authors.shape"
   ]
  },
  {
   "cell_type": "code",
   "execution_count": 51,
   "metadata": {},
   "outputs": [
    {
     "data": {
      "text/plain": [
       "True     1359711\n",
       "False     334591\n",
       "Name: dropped_after_10, dtype: int64"
      ]
     },
     "execution_count": 51,
     "metadata": {},
     "output_type": "execute_result"
    }
   ],
   "source": [
    "credible_authors['dropped_after_10'].value_counts()"
   ]
  },
  {
   "cell_type": "code",
   "execution_count": 52,
   "metadata": {},
   "outputs": [
    {
     "data": {
      "text/plain": [
       "Index(['author', 'start_year', 'end_year', 'total_num_pub', 'career_length',\n",
       "       'max_absence-0-15', 'avg_absence-0-15', 'dropped_after_10'],\n",
       "      dtype='object')"
      ]
     },
     "execution_count": 52,
     "metadata": {},
     "output_type": "execute_result"
    }
   ],
   "source": [
    "credible_authors.columns"
   ]
  },
  {
   "cell_type": "markdown",
   "metadata": {},
   "source": [
    "### Gender"
   ]
  },
  {
   "cell_type": "code",
   "execution_count": 20,
   "metadata": {},
   "outputs": [
    {
     "data": {
      "text/plain": [
       "m       791347\n",
       "none    648819\n",
       "f       254136\n",
       "Name: gender, dtype: int64"
      ]
     },
     "execution_count": 20,
     "metadata": {},
     "output_type": "execute_result"
    }
   ],
   "source": [
    "gender = pd.read_csv('./data/name_gender_2017_asiansAsNone_nodup.txt')\n",
    "credible_authors = credible_authors.merge(gender, left_on='author', right_on='name', how='left')\n",
    "credible_authors.drop('name', axis=1, inplace=True)\n",
    "\n",
    "credible_authors.gender.value_counts()"
   ]
  },
  {
   "cell_type": "code",
   "execution_count": 21,
   "metadata": {},
   "outputs": [
    {
     "data": {
      "text/plain": [
       "m       791347\n",
       "none    648819\n",
       "f       254136\n",
       "Name: gender, dtype: int64"
      ]
     },
     "execution_count": 21,
     "metadata": {},
     "output_type": "execute_result"
    }
   ],
   "source": [
    "credible_authors.gender.value_counts()"
   ]
  },
  {
   "cell_type": "code",
   "execution_count": 22,
   "metadata": {},
   "outputs": [
    {
     "data": {
      "text/html": [
       "<div>\n",
       "<style scoped>\n",
       "    .dataframe tbody tr th:only-of-type {\n",
       "        vertical-align: middle;\n",
       "    }\n",
       "\n",
       "    .dataframe tbody tr th {\n",
       "        vertical-align: top;\n",
       "    }\n",
       "\n",
       "    .dataframe thead th {\n",
       "        text-align: right;\n",
       "    }\n",
       "</style>\n",
       "<table border=\"1\" class=\"dataframe\">\n",
       "  <thead>\n",
       "    <tr style=\"text-align: right;\">\n",
       "      <th></th>\n",
       "      <th>name</th>\n",
       "      <th>gender</th>\n",
       "    </tr>\n",
       "  </thead>\n",
       "  <tbody>\n",
       "    <tr>\n",
       "      <td>0</td>\n",
       "      <td>gareth beale</td>\n",
       "      <td>m</td>\n",
       "    </tr>\n",
       "    <tr>\n",
       "      <td>1</td>\n",
       "      <td>graeme earl</td>\n",
       "      <td>m</td>\n",
       "    </tr>\n",
       "    <tr>\n",
       "      <td>2</td>\n",
       "      <td>altaf hossain</td>\n",
       "      <td>m</td>\n",
       "    </tr>\n",
       "    <tr>\n",
       "      <td>3</td>\n",
       "      <td>faisal zaman</td>\n",
       "      <td>m</td>\n",
       "    </tr>\n",
       "    <tr>\n",
       "      <td>4</td>\n",
       "      <td>m. nasser</td>\n",
       "      <td>none</td>\n",
       "    </tr>\n",
       "  </tbody>\n",
       "</table>\n",
       "</div>"
      ],
      "text/plain": [
       "            name gender\n",
       "0   gareth beale      m\n",
       "1    graeme earl      m\n",
       "2  altaf hossain      m\n",
       "3   faisal zaman      m\n",
       "4      m. nasser   none"
      ]
     },
     "execution_count": 22,
     "metadata": {},
     "output_type": "execute_result"
    }
   ],
   "source": [
    "gender.head()"
   ]
  },
  {
   "cell_type": "markdown",
   "metadata": {},
   "source": [
    "### Save filtered data about authors, and cleaned publications"
   ]
  },
  {
   "cell_type": "code",
   "execution_count": 23,
   "metadata": {},
   "outputs": [
    {
     "data": {
      "text/html": [
       "<div>\n",
       "<style scoped>\n",
       "    .dataframe tbody tr th:only-of-type {\n",
       "        vertical-align: middle;\n",
       "    }\n",
       "\n",
       "    .dataframe tbody tr th {\n",
       "        vertical-align: top;\n",
       "    }\n",
       "\n",
       "    .dataframe thead th {\n",
       "        text-align: right;\n",
       "    }\n",
       "</style>\n",
       "<table border=\"1\" class=\"dataframe\">\n",
       "  <thead>\n",
       "    <tr style=\"text-align: right;\">\n",
       "      <th></th>\n",
       "      <th>author</th>\n",
       "      <th>start_year</th>\n",
       "      <th>end_year</th>\n",
       "      <th>total_num_pub</th>\n",
       "      <th>career_length</th>\n",
       "      <th>gender</th>\n",
       "    </tr>\n",
       "  </thead>\n",
       "  <tbody>\n",
       "    <tr>\n",
       "      <td>0</td>\n",
       "      <td>'maseka lesaoana</td>\n",
       "      <td>2001</td>\n",
       "      <td>2015</td>\n",
       "      <td>2</td>\n",
       "      <td>15</td>\n",
       "      <td>none</td>\n",
       "    </tr>\n",
       "    <tr>\n",
       "      <td>1</td>\n",
       "      <td>(max) zong-ming cheng</td>\n",
       "      <td>2009</td>\n",
       "      <td>2011</td>\n",
       "      <td>2</td>\n",
       "      <td>3</td>\n",
       "      <td>none</td>\n",
       "    </tr>\n",
       "    <tr>\n",
       "      <td>2</td>\n",
       "      <td>(zhou) bryan bai</td>\n",
       "      <td>2011</td>\n",
       "      <td>2012</td>\n",
       "      <td>2</td>\n",
       "      <td>2</td>\n",
       "      <td>none</td>\n",
       "    </tr>\n",
       "    <tr>\n",
       "      <td>3</td>\n",
       "      <td>a aart blokhuis</td>\n",
       "      <td>1992</td>\n",
       "      <td>2005</td>\n",
       "      <td>2</td>\n",
       "      <td>14</td>\n",
       "      <td>none</td>\n",
       "    </tr>\n",
       "    <tr>\n",
       "      <td>4</td>\n",
       "      <td>a ahrabian</td>\n",
       "      <td>2017</td>\n",
       "      <td>2017</td>\n",
       "      <td>1</td>\n",
       "      <td>1</td>\n",
       "      <td>none</td>\n",
       "    </tr>\n",
       "  </tbody>\n",
       "</table>\n",
       "</div>"
      ],
      "text/plain": [
       "                  author  start_year  end_year  total_num_pub  career_length  \\\n",
       "0       'maseka lesaoana        2001      2015              2             15   \n",
       "1  (max) zong-ming cheng        2009      2011              2              3   \n",
       "2       (zhou) bryan bai        2011      2012              2              2   \n",
       "3        a aart blokhuis        1992      2005              2             14   \n",
       "4             a ahrabian        2017      2017              1              1   \n",
       "\n",
       "  gender  \n",
       "0   none  \n",
       "1   none  \n",
       "2   none  \n",
       "3   none  \n",
       "4   none  "
      ]
     },
     "execution_count": 23,
     "metadata": {},
     "output_type": "execute_result"
    }
   ],
   "source": [
    "credible_authors[credible_authors.start_year >= START_YEAR].to_csv('derived-data/authors-scientific.csv', index=False, encoding='utf-8')\n",
    "credible_authors.head()"
   ]
  },
  {
   "cell_type": "code",
   "execution_count": 24,
   "metadata": {},
   "outputs": [],
   "source": [
    "authorPublicationData.to_csv('derived-data/author-publications.csv', index=False)"
   ]
  },
  {
   "cell_type": "code",
   "execution_count": 25,
   "metadata": {},
   "outputs": [
    {
     "data": {
      "text/plain": [
       "(9317809, 3)"
      ]
     },
     "execution_count": 25,
     "metadata": {},
     "output_type": "execute_result"
    }
   ],
   "source": [
    "authorPublicationData.shape"
   ]
  },
  {
   "cell_type": "markdown",
   "metadata": {},
   "source": [
    "## 3. Generate a new citation network"
   ]
  },
  {
   "cell_type": "markdown",
   "metadata": {},
   "source": [
    "### Generate Author->Paper network"
   ]
  },
  {
   "cell_type": "code",
   "execution_count": 26,
   "metadata": {},
   "outputs": [],
   "source": [
    "# We need data about how many times an author has been cited\n",
    "# For every authors publication, i merge all citations\n",
    "# Doesnt contain uncited papers\n",
    "final_citation_count_from_ids = authorPublicationData.merge(authorCitationsData, left_on='pub_id', \n",
    "                                                            right_on='id2', how='inner', suffixes=('_pub', '_cit'))"
   ]
  },
  {
   "cell_type": "code",
   "execution_count": 27,
   "metadata": {},
   "outputs": [
    {
     "name": "stdout",
     "output_type": "stream",
     "text": [
      "(26402668, 6)\n"
     ]
    }
   ],
   "source": [
    "print(final_citation_count_from_ids.shape)"
   ]
  },
  {
   "cell_type": "code",
   "execution_count": 28,
   "metadata": {},
   "outputs": [],
   "source": [
    "final_citation_count_from_ids.drop_duplicates(inplace=True)"
   ]
  },
  {
   "cell_type": "code",
   "execution_count": 29,
   "metadata": {},
   "outputs": [
    {
     "name": "stdout",
     "output_type": "stream",
     "text": [
      "(26402668, 6)\n"
     ]
    }
   ],
   "source": [
    "print(final_citation_count_from_ids.shape)"
   ]
  },
  {
   "cell_type": "markdown",
   "metadata": {},
   "source": [
    "#### Remove errors in citation data (years published vs years cited)"
   ]
  },
  {
   "cell_type": "code",
   "execution_count": 30,
   "metadata": {},
   "outputs": [
    {
     "name": "stdout",
     "output_type": "stream",
     "text": [
      "(26402668, 6)\n",
      "(26240257, 6)\n"
     ]
    }
   ],
   "source": [
    "# Published before cited - NORMAL\n",
    "print(final_citation_count_from_ids.shape)\n",
    "num_normal = final_citation_count_from_ids[final_citation_count_from_ids.year_pub <= final_citation_count_from_ids.year_cit].shape\n",
    "print(num_normal)"
   ]
  },
  {
   "cell_type": "code",
   "execution_count": 31,
   "metadata": {},
   "outputs": [
    {
     "name": "stdout",
     "output_type": "stream",
     "text": [
      "(162411, 6)\n"
     ]
    }
   ],
   "source": [
    "# Published after cited - WRONG\n",
    "num_wrong = final_citation_count_from_ids[final_citation_count_from_ids.year_pub > final_citation_count_from_ids.year_cit].shape\n",
    "print(num_wrong)"
   ]
  },
  {
   "cell_type": "code",
   "execution_count": 32,
   "metadata": {},
   "outputs": [
    {
     "name": "stdout",
     "output_type": "stream",
     "text": [
      "Percentage of citations to be removed:  0.6151310163048673\n",
      "Less than one percent\n"
     ]
    }
   ],
   "source": [
    "print(\"Percentage of citations to be removed: \", num_wrong[0]*100/(num_normal[0]+num_wrong[0]))\n",
    "print(\"Less than one percent\")"
   ]
  },
  {
   "cell_type": "code",
   "execution_count": 33,
   "metadata": {},
   "outputs": [],
   "source": [
    "cit_wrong_df = final_citation_count_from_ids[final_citation_count_from_ids.year_pub > final_citation_count_from_ids.year_cit]"
   ]
  },
  {
   "cell_type": "code",
   "execution_count": 34,
   "metadata": {},
   "outputs": [],
   "source": [
    "cit_wrong = final_citation_count_from_ids[final_citation_count_from_ids.year_pub > final_citation_count_from_ids.year_cit].index"
   ]
  },
  {
   "cell_type": "code",
   "execution_count": 35,
   "metadata": {},
   "outputs": [],
   "source": [
    "final_citation_count_from_ids.drop(cit_wrong, inplace=True)\n",
    "\n",
    "assert num_normal[0] == final_citation_count_from_ids.shape[0], \"The number of citations doesnt match\""
   ]
  },
  {
   "cell_type": "code",
   "execution_count": 36,
   "metadata": {},
   "outputs": [
    {
     "data": {
      "text/plain": [
       "Index(['author', 'year_pub', 'pub_id', 'id1', 'id2', 'year_cit'], dtype='object')"
      ]
     },
     "execution_count": 36,
     "metadata": {},
     "output_type": "execute_result"
    }
   ],
   "source": [
    "final_citation_count_from_ids.columns"
   ]
  },
  {
   "cell_type": "markdown",
   "metadata": {},
   "source": [
    "#### Save"
   ]
  },
  {
   "cell_type": "code",
   "execution_count": 37,
   "metadata": {},
   "outputs": [],
   "source": [
    "# final_citation_count_from_ids.to_csv('./data/authors_cited_by_papers_2017_asiansAsNone_by_daniel.txt',\n",
    "#                                      columns=['author', 'year_pub', 'pub_id', 'id1', 'year_cit'], index=False)\n",
    "\n",
    "final_citation_count_from_ids[['author', 'id1', 'id2', 'year_cit']].drop_duplicates().to_csv('derived-data/author-paper-citations-cleaned.csv', \n",
    "                                                                                   index=False)\n",
    "\n",
    "# final_citation_count_from_ids.drop_duplicates(subset=['author_cited', 'pub_id_cited', 'pub_id_citing', 'author_citing'],\n",
    "#                                               inplace=True)"
   ]
  },
  {
   "cell_type": "code",
   "execution_count": 38,
   "metadata": {},
   "outputs": [
    {
     "name": "stderr",
     "output_type": "stream",
     "text": [
      "/home/danielkostic/miniconda3/envs/css_default/lib/python3.7/site-packages/ipykernel_launcher.py:3: FutureWarning: The signature of `Series.to_csv` was aligned to that of `DataFrame.to_csv`, and argument 'header' will change its default value from False to True: please pass an explicit value to suppress this warning.\n",
      "  This is separate from the ipykernel package so we can avoid doing imports until\n"
     ]
    }
   ],
   "source": [
    "# drop duplicates on id1,id2 because we only care about paper->paper citations\n",
    "paper_citation_count = final_citation_count_from_ids.drop_duplicates(subset=['id1', 'id2']).groupby('id2')['id1'].count()\n",
    "paper_citation_count.to_csv('derived-data/paper-citation-count.csv')"
   ]
  },
  {
   "cell_type": "markdown",
   "metadata": {},
   "source": [
    "Its important to keep using this file for citations. As it has bad entries removed"
   ]
  },
  {
   "cell_type": "markdown",
   "metadata": {},
   "source": [
    "### Group citations over authors and years"
   ]
  },
  {
   "cell_type": "code",
   "execution_count": 39,
   "metadata": {
    "lines_to_next_cell": 2
   },
   "outputs": [],
   "source": [
    "citations_year_auth = final_citation_count_from_ids.groupby(['author', 'year_cit'])['id1'].count()"
   ]
  },
  {
   "cell_type": "code",
   "execution_count": 40,
   "metadata": {},
   "outputs": [
    {
     "data": {
      "text/plain": [
       "author            year_cit\n",
       "'maseka lesaoana  2004.0      1\n",
       "                  2005.0      1\n",
       "                  2006.0      3\n",
       "                  2007.0      1\n",
       "                  2008.0      1\n",
       "Name: id1, dtype: int64"
      ]
     },
     "execution_count": 40,
     "metadata": {},
     "output_type": "execute_result"
    }
   ],
   "source": [
    "citations_year_auth.head()"
   ]
  },
  {
   "cell_type": "code",
   "execution_count": 41,
   "metadata": {},
   "outputs": [],
   "source": [
    "citations_year_auth = citations_year_auth.reset_index()\n",
    "citations_year_auth = citations_year_auth.rename(columns={'id1':'cit_count'})\n",
    "\n",
    "citations_year_auth[['author', 'year_cit', 'cit_count']].to_csv('derived-data/authors-perYear-citations.csv', index=False)"
   ]
  },
  {
   "cell_type": "code",
   "execution_count": 42,
   "metadata": {},
   "outputs": [],
   "source": [
    "citations_year_auth = citations_year_auth.groupby(['author', 'year_cit'])['cit_count'].sum()\n",
    "citations_year_auth = citations_year_auth.reset_index()\n",
    "citations_year_auth.rename(columns={'year_cit':'year', 'cit_count':'num_cit'}, inplace=True)"
   ]
  },
  {
   "cell_type": "code",
   "execution_count": 72,
   "metadata": {},
   "outputs": [],
   "source": [
    "author_year_numPub = authorPublicationData.groupby(['author', 'year'])['pub_id'].count().reset_index()\n",
    "author_year_numPub = author_year_numPub.rename(columns={'pub_id':'num_pub'})"
   ]
  },
  {
   "cell_type": "markdown",
   "metadata": {},
   "source": [
    "## Early career analysis"
   ]
  },
  {
   "cell_type": "code",
   "execution_count": 43,
   "metadata": {},
   "outputs": [],
   "source": [
    "# Doesnt contain uncited papers\n",
    "# Does not contain multiple authors per one citation\n",
    "# For every author of a paper => every citation to the paper\n",
    "# This is good for per author analysis\n",
    "# This is bad for per paper analysis\n",
    "combined = final_citation_count_from_ids.merge(credible_authors[['author', 'start_year']], on='author', how='inner')\n",
    "# TODO Is this 'inner' here good?"
   ]
  },
  {
   "cell_type": "code",
   "execution_count": 44,
   "metadata": {},
   "outputs": [
    {
     "data": {
      "text/html": [
       "<div>\n",
       "<style scoped>\n",
       "    .dataframe tbody tr th:only-of-type {\n",
       "        vertical-align: middle;\n",
       "    }\n",
       "\n",
       "    .dataframe tbody tr th {\n",
       "        vertical-align: top;\n",
       "    }\n",
       "\n",
       "    .dataframe thead th {\n",
       "        text-align: right;\n",
       "    }\n",
       "</style>\n",
       "<table border=\"1\" class=\"dataframe\">\n",
       "  <thead>\n",
       "    <tr style=\"text-align: right;\">\n",
       "      <th></th>\n",
       "      <th>author</th>\n",
       "      <th>year_pub</th>\n",
       "      <th>pub_id</th>\n",
       "      <th>id1</th>\n",
       "      <th>id2</th>\n",
       "      <th>year_cit</th>\n",
       "      <th>start_year</th>\n",
       "    </tr>\n",
       "  </thead>\n",
       "  <tbody>\n",
       "    <tr>\n",
       "      <td>0</td>\n",
       "      <td>m. nasser</td>\n",
       "      <td>2009</td>\n",
       "      <td>001c8744-73c4-4b04-9364-22d31a10dbf1</td>\n",
       "      <td>49ec0c15-7a9d-4378-a26a-f5063567b519</td>\n",
       "      <td>001c8744-73c4-4b04-9364-22d31a10dbf1</td>\n",
       "      <td>2013.0</td>\n",
       "      <td>2009</td>\n",
       "    </tr>\n",
       "    <tr>\n",
       "      <td>1</td>\n",
       "      <td>m. nasser</td>\n",
       "      <td>2009</td>\n",
       "      <td>001c8744-73c4-4b04-9364-22d31a10dbf1</td>\n",
       "      <td>ae0b4e3d-305d-4fb8-9847-60dcc9a9ec44</td>\n",
       "      <td>001c8744-73c4-4b04-9364-22d31a10dbf1</td>\n",
       "      <td>2014.0</td>\n",
       "      <td>2009</td>\n",
       "    </tr>\n",
       "    <tr>\n",
       "      <td>2</td>\n",
       "      <td>faisal zaman</td>\n",
       "      <td>2009</td>\n",
       "      <td>001c8744-73c4-4b04-9364-22d31a10dbf1</td>\n",
       "      <td>49ec0c15-7a9d-4378-a26a-f5063567b519</td>\n",
       "      <td>001c8744-73c4-4b04-9364-22d31a10dbf1</td>\n",
       "      <td>2013.0</td>\n",
       "      <td>2006</td>\n",
       "    </tr>\n",
       "    <tr>\n",
       "      <td>3</td>\n",
       "      <td>faisal zaman</td>\n",
       "      <td>2009</td>\n",
       "      <td>001c8744-73c4-4b04-9364-22d31a10dbf1</td>\n",
       "      <td>ae0b4e3d-305d-4fb8-9847-60dcc9a9ec44</td>\n",
       "      <td>001c8744-73c4-4b04-9364-22d31a10dbf1</td>\n",
       "      <td>2014.0</td>\n",
       "      <td>2006</td>\n",
       "    </tr>\n",
       "    <tr>\n",
       "      <td>13</td>\n",
       "      <td>altaf hossain</td>\n",
       "      <td>2009</td>\n",
       "      <td>001c8744-73c4-4b04-9364-22d31a10dbf1</td>\n",
       "      <td>49ec0c15-7a9d-4378-a26a-f5063567b519</td>\n",
       "      <td>001c8744-73c4-4b04-9364-22d31a10dbf1</td>\n",
       "      <td>2013.0</td>\n",
       "      <td>2006</td>\n",
       "    </tr>\n",
       "    <tr>\n",
       "      <td>14</td>\n",
       "      <td>altaf hossain</td>\n",
       "      <td>2009</td>\n",
       "      <td>001c8744-73c4-4b04-9364-22d31a10dbf1</td>\n",
       "      <td>ae0b4e3d-305d-4fb8-9847-60dcc9a9ec44</td>\n",
       "      <td>001c8744-73c4-4b04-9364-22d31a10dbf1</td>\n",
       "      <td>2014.0</td>\n",
       "      <td>2006</td>\n",
       "    </tr>\n",
       "    <tr>\n",
       "      <td>15</td>\n",
       "      <td>m. mufakhkharul islam</td>\n",
       "      <td>2009</td>\n",
       "      <td>001c8744-73c4-4b04-9364-22d31a10dbf1</td>\n",
       "      <td>49ec0c15-7a9d-4378-a26a-f5063567b519</td>\n",
       "      <td>001c8744-73c4-4b04-9364-22d31a10dbf1</td>\n",
       "      <td>2013.0</td>\n",
       "      <td>2009</td>\n",
       "    </tr>\n",
       "    <tr>\n",
       "      <td>16</td>\n",
       "      <td>m. mufakhkharul islam</td>\n",
       "      <td>2009</td>\n",
       "      <td>001c8744-73c4-4b04-9364-22d31a10dbf1</td>\n",
       "      <td>ae0b4e3d-305d-4fb8-9847-60dcc9a9ec44</td>\n",
       "      <td>001c8744-73c4-4b04-9364-22d31a10dbf1</td>\n",
       "      <td>2014.0</td>\n",
       "      <td>2009</td>\n",
       "    </tr>\n",
       "  </tbody>\n",
       "</table>\n",
       "</div>"
      ],
      "text/plain": [
       "                   author  year_pub                                pub_id  \\\n",
       "0               m. nasser      2009  001c8744-73c4-4b04-9364-22d31a10dbf1   \n",
       "1               m. nasser      2009  001c8744-73c4-4b04-9364-22d31a10dbf1   \n",
       "2            faisal zaman      2009  001c8744-73c4-4b04-9364-22d31a10dbf1   \n",
       "3            faisal zaman      2009  001c8744-73c4-4b04-9364-22d31a10dbf1   \n",
       "13          altaf hossain      2009  001c8744-73c4-4b04-9364-22d31a10dbf1   \n",
       "14          altaf hossain      2009  001c8744-73c4-4b04-9364-22d31a10dbf1   \n",
       "15  m. mufakhkharul islam      2009  001c8744-73c4-4b04-9364-22d31a10dbf1   \n",
       "16  m. mufakhkharul islam      2009  001c8744-73c4-4b04-9364-22d31a10dbf1   \n",
       "\n",
       "                                     id1  \\\n",
       "0   49ec0c15-7a9d-4378-a26a-f5063567b519   \n",
       "1   ae0b4e3d-305d-4fb8-9847-60dcc9a9ec44   \n",
       "2   49ec0c15-7a9d-4378-a26a-f5063567b519   \n",
       "3   ae0b4e3d-305d-4fb8-9847-60dcc9a9ec44   \n",
       "13  49ec0c15-7a9d-4378-a26a-f5063567b519   \n",
       "14  ae0b4e3d-305d-4fb8-9847-60dcc9a9ec44   \n",
       "15  49ec0c15-7a9d-4378-a26a-f5063567b519   \n",
       "16  ae0b4e3d-305d-4fb8-9847-60dcc9a9ec44   \n",
       "\n",
       "                                     id2  year_cit  start_year  \n",
       "0   001c8744-73c4-4b04-9364-22d31a10dbf1    2013.0        2009  \n",
       "1   001c8744-73c4-4b04-9364-22d31a10dbf1    2014.0        2009  \n",
       "2   001c8744-73c4-4b04-9364-22d31a10dbf1    2013.0        2006  \n",
       "3   001c8744-73c4-4b04-9364-22d31a10dbf1    2014.0        2006  \n",
       "13  001c8744-73c4-4b04-9364-22d31a10dbf1    2013.0        2006  \n",
       "14  001c8744-73c4-4b04-9364-22d31a10dbf1    2014.0        2006  \n",
       "15  001c8744-73c4-4b04-9364-22d31a10dbf1    2013.0        2009  \n",
       "16  001c8744-73c4-4b04-9364-22d31a10dbf1    2014.0        2009  "
      ]
     },
     "execution_count": 44,
     "metadata": {},
     "output_type": "execute_result"
    }
   ],
   "source": [
    "combined[combined.pub_id == '001c8744-73c4-4b04-9364-22d31a10dbf1']"
   ]
  },
  {
   "cell_type": "code",
   "execution_count": 45,
   "metadata": {},
   "outputs": [],
   "source": [
    "early_career_publications = authorPublicationData.merge(credible_authors[['author', 'start_year']], on='author', how='left')"
   ]
  },
  {
   "cell_type": "code",
   "execution_count": 46,
   "metadata": {},
   "outputs": [
    {
     "name": "stdout",
     "output_type": "stream",
     "text": [
      "1694302\n",
      "3029829\n",
      "9317809\n"
     ]
    }
   ],
   "source": [
    "print(early_career_publications.author.nunique())\n",
    "print(early_career_publications.pub_id.nunique())\n",
    "print(early_career_publications.shape[0])"
   ]
  },
  {
   "cell_type": "code",
   "execution_count": 47,
   "metadata": {},
   "outputs": [
    {
     "name": "stdout",
     "output_type": "stream",
     "text": [
      "866378\n",
      "1367718\n",
      "26240257\n"
     ]
    }
   ],
   "source": [
    "print(combined.author.nunique())\n",
    "print(combined.pub_id.nunique())\n",
    "print(combined.shape[0])"
   ]
  },
  {
   "cell_type": "code",
   "execution_count": 48,
   "metadata": {},
   "outputs": [
    {
     "data": {
      "text/html": [
       "<div>\n",
       "<style scoped>\n",
       "    .dataframe tbody tr th:only-of-type {\n",
       "        vertical-align: middle;\n",
       "    }\n",
       "\n",
       "    .dataframe tbody tr th {\n",
       "        vertical-align: top;\n",
       "    }\n",
       "\n",
       "    .dataframe thead th {\n",
       "        text-align: right;\n",
       "    }\n",
       "</style>\n",
       "<table border=\"1\" class=\"dataframe\">\n",
       "  <thead>\n",
       "    <tr style=\"text-align: right;\">\n",
       "      <th></th>\n",
       "      <th>author</th>\n",
       "      <th>year_pub</th>\n",
       "      <th>pub_id</th>\n",
       "      <th>id1</th>\n",
       "      <th>id2</th>\n",
       "      <th>year_cit</th>\n",
       "      <th>start_year</th>\n",
       "    </tr>\n",
       "  </thead>\n",
       "  <tbody>\n",
       "    <tr>\n",
       "      <td>0</td>\n",
       "      <td>m. nasser</td>\n",
       "      <td>2009</td>\n",
       "      <td>001c8744-73c4-4b04-9364-22d31a10dbf1</td>\n",
       "      <td>49ec0c15-7a9d-4378-a26a-f5063567b519</td>\n",
       "      <td>001c8744-73c4-4b04-9364-22d31a10dbf1</td>\n",
       "      <td>2013.0</td>\n",
       "      <td>2009</td>\n",
       "    </tr>\n",
       "    <tr>\n",
       "      <td>1</td>\n",
       "      <td>m. nasser</td>\n",
       "      <td>2009</td>\n",
       "      <td>001c8744-73c4-4b04-9364-22d31a10dbf1</td>\n",
       "      <td>ae0b4e3d-305d-4fb8-9847-60dcc9a9ec44</td>\n",
       "      <td>001c8744-73c4-4b04-9364-22d31a10dbf1</td>\n",
       "      <td>2014.0</td>\n",
       "      <td>2009</td>\n",
       "    </tr>\n",
       "    <tr>\n",
       "      <td>2</td>\n",
       "      <td>faisal zaman</td>\n",
       "      <td>2009</td>\n",
       "      <td>001c8744-73c4-4b04-9364-22d31a10dbf1</td>\n",
       "      <td>49ec0c15-7a9d-4378-a26a-f5063567b519</td>\n",
       "      <td>001c8744-73c4-4b04-9364-22d31a10dbf1</td>\n",
       "      <td>2013.0</td>\n",
       "      <td>2006</td>\n",
       "    </tr>\n",
       "    <tr>\n",
       "      <td>3</td>\n",
       "      <td>faisal zaman</td>\n",
       "      <td>2009</td>\n",
       "      <td>001c8744-73c4-4b04-9364-22d31a10dbf1</td>\n",
       "      <td>ae0b4e3d-305d-4fb8-9847-60dcc9a9ec44</td>\n",
       "      <td>001c8744-73c4-4b04-9364-22d31a10dbf1</td>\n",
       "      <td>2014.0</td>\n",
       "      <td>2006</td>\n",
       "    </tr>\n",
       "    <tr>\n",
       "      <td>4</td>\n",
       "      <td>faisal zaman</td>\n",
       "      <td>2012</td>\n",
       "      <td>d28d236e-57c4-4489-beec-6c5b2163e711</td>\n",
       "      <td>16059f3f-e711-45d8-a33c-09a595c58ecf</td>\n",
       "      <td>d28d236e-57c4-4489-beec-6c5b2163e711</td>\n",
       "      <td>2014.0</td>\n",
       "      <td>2006</td>\n",
       "    </tr>\n",
       "  </tbody>\n",
       "</table>\n",
       "</div>"
      ],
      "text/plain": [
       "         author  year_pub                                pub_id  \\\n",
       "0     m. nasser      2009  001c8744-73c4-4b04-9364-22d31a10dbf1   \n",
       "1     m. nasser      2009  001c8744-73c4-4b04-9364-22d31a10dbf1   \n",
       "2  faisal zaman      2009  001c8744-73c4-4b04-9364-22d31a10dbf1   \n",
       "3  faisal zaman      2009  001c8744-73c4-4b04-9364-22d31a10dbf1   \n",
       "4  faisal zaman      2012  d28d236e-57c4-4489-beec-6c5b2163e711   \n",
       "\n",
       "                                    id1                                   id2  \\\n",
       "0  49ec0c15-7a9d-4378-a26a-f5063567b519  001c8744-73c4-4b04-9364-22d31a10dbf1   \n",
       "1  ae0b4e3d-305d-4fb8-9847-60dcc9a9ec44  001c8744-73c4-4b04-9364-22d31a10dbf1   \n",
       "2  49ec0c15-7a9d-4378-a26a-f5063567b519  001c8744-73c4-4b04-9364-22d31a10dbf1   \n",
       "3  ae0b4e3d-305d-4fb8-9847-60dcc9a9ec44  001c8744-73c4-4b04-9364-22d31a10dbf1   \n",
       "4  16059f3f-e711-45d8-a33c-09a595c58ecf  d28d236e-57c4-4489-beec-6c5b2163e711   \n",
       "\n",
       "   year_cit  start_year  \n",
       "0    2013.0        2009  \n",
       "1    2014.0        2009  \n",
       "2    2013.0        2006  \n",
       "3    2014.0        2006  \n",
       "4    2014.0        2006  "
      ]
     },
     "execution_count": 48,
     "metadata": {},
     "output_type": "execute_result"
    }
   ],
   "source": [
    "combined.head()"
   ]
  },
  {
   "cell_type": "code",
   "execution_count": 49,
   "metadata": {},
   "outputs": [],
   "source": [
    "combined.drop_duplicates(subset=['author', 'id1', 'id2'], inplace=True)"
   ]
  },
  {
   "cell_type": "code",
   "execution_count": 50,
   "metadata": {},
   "outputs": [
    {
     "data": {
      "text/plain": [
       "Index(['author', 'year_pub', 'pub_id', 'id1', 'id2', 'year_cit', 'start_year'], dtype='object')"
      ]
     },
     "execution_count": 50,
     "metadata": {},
     "output_type": "execute_result"
    }
   ],
   "source": [
    "combined.columns"
   ]
  },
  {
   "cell_type": "code",
   "execution_count": 51,
   "metadata": {},
   "outputs": [],
   "source": [
    "from memory import show_mem_usage"
   ]
  },
  {
   "cell_type": "code",
   "execution_count": 52,
   "metadata": {},
   "outputs": [
    {
     "name": "stderr",
     "output_type": "stream",
     "text": [
      "/home/danielkostic/cumulative-advantage/memory.py:17: FutureWarning: The Panel class is removed from pandas. Accessing it from the top-level namespace will also be removed in the next version\n",
      "  elif isinstance(v,pd.Panel):\n"
     ]
    },
    {
     "name": "stdout",
     "output_type": "stream",
     "text": [
      "['authorPublicationData', 'authorPublicationData'] 1706.025MB\n",
      "['arxiv_pubid', 'arxiv_pubid'] 4.516MB\n",
      "['authorCitationsData', 'authorCitationsData'] 1805.162MB\n",
      "['publication_venues_rank', 'publication_venues_rank'] 524.862MB\n",
      "['groupByAuthorMinYearData', 'groupByAuthorMinYearData'] 138.653MB\n",
      "['groupByAuthorMaxYearData', 'groupByAuthorMaxYearData'] 138.653MB\n",
      "['groupByAuthorCountPublicationsData', 'groupByAuthorCountPublicationsData'] 138.653MB\n",
      "['authorGroupedData', 'authorGroupedData'] 192.870MB\n",
      "['credible_authors', 'credible_authors'] 301.450MB\n",
      "['gender', 'gender'] 233.282MB\n",
      "['final_citation_count_from_ids', 'final_citation_count_from_ids'] 9885.598MB\n",
      "['cit_wrong_df', 'cit_wrong_df'] 61.290MB\n",
      "['cit_wrong', 'cit_wrong'] 1.299MB\n",
      "['paper_citation_count', 'paper_citation_count'] 138.140MB\n",
      "['citations_year_auth', 'citations_year_auth'] 383.687MB\n",
      "['_40', '_40'] 106.035MB\n",
      "['combined', 'combined'] 10095.520MB\n",
      "['early_career_publications', 'early_career_publications'] 1780.568MB\n",
      "27636.292MB\n"
     ]
    }
   ],
   "source": [
    "show_mem_usage()"
   ]
  },
  {
   "cell_type": "markdown",
   "metadata": {},
   "source": [
    "### Author order\n",
    "The size of this df is about 3M, corresponding to the number of unique `pub_id` we have in the dataset"
   ]
  },
  {
   "cell_type": "code",
   "execution_count": 53,
   "metadata": {},
   "outputs": [
    {
     "name": "stdout",
     "output_type": "stream",
     "text": [
      "Index(['pub_id', 'year', 'authors', 'num_authors', 'is_alpha', 'first_author'], dtype='object')\n",
      "(3078230, 6)\n"
     ]
    }
   ],
   "source": [
    "author_order = pd.read_csv('derived-data/publication_authors_order_2017.csv')\n",
    "print(author_order.columns)\n",
    "print(author_order.shape)"
   ]
  },
  {
   "cell_type": "code",
   "execution_count": 54,
   "metadata": {},
   "outputs": [],
   "source": [
    "author_order = author_order.merge(credible_authors[['author', 'start_year']], left_on='first_author', \n",
    "                                  right_on='author', how='left')\n",
    "author_order = author_order.drop('first_author', axis='columns')"
   ]
  },
  {
   "cell_type": "code",
   "execution_count": 55,
   "metadata": {},
   "outputs": [],
   "source": [
    "for EARLY_CAREER in EARLY_CAREER_LEN_LIST:\n",
    "    author_order_early = author_order[(author_order.year < author_order.start_year + EARLY_CAREER)]\n",
    "    author_order_early = author_order_early.groupby('author').agg({'pub_id':'count'}).reset_index()\n",
    "    author_order_early.rename({'pub_id': f'ec_first_auth_{EARLY_CAREER}'}, axis='columns', inplace=True)\n",
    "    credible_authors = credible_authors.merge(author_order_early, on='author', how='left')\n",
    "    credible_authors[f'ec_first_auth_{EARLY_CAREER}'] = credible_authors[f'ec_first_auth_{EARLY_CAREER}'].fillna(0)"
   ]
  },
  {
   "cell_type": "code",
   "execution_count": 56,
   "metadata": {},
   "outputs": [
    {
     "data": {
      "text/html": [
       "<div>\n",
       "<style scoped>\n",
       "    .dataframe tbody tr th:only-of-type {\n",
       "        vertical-align: middle;\n",
       "    }\n",
       "\n",
       "    .dataframe tbody tr th {\n",
       "        vertical-align: top;\n",
       "    }\n",
       "\n",
       "    .dataframe thead th {\n",
       "        text-align: right;\n",
       "    }\n",
       "</style>\n",
       "<table border=\"1\" class=\"dataframe\">\n",
       "  <thead>\n",
       "    <tr style=\"text-align: right;\">\n",
       "      <th></th>\n",
       "      <th>pub_id</th>\n",
       "      <th>year</th>\n",
       "      <th>authors</th>\n",
       "      <th>num_authors</th>\n",
       "      <th>is_alpha</th>\n",
       "      <th>author</th>\n",
       "      <th>start_year</th>\n",
       "    </tr>\n",
       "  </thead>\n",
       "  <tbody>\n",
       "    <tr>\n",
       "      <td>0</td>\n",
       "      <td>001c58d3-26ad-46b3-ab3a-c1e557d16821</td>\n",
       "      <td>2011</td>\n",
       "      <td>gareth beale,graeme earl</td>\n",
       "      <td>2</td>\n",
       "      <td>True</td>\n",
       "      <td>gareth beale</td>\n",
       "      <td>2009.0</td>\n",
       "    </tr>\n",
       "    <tr>\n",
       "      <td>1</td>\n",
       "      <td>001c8744-73c4-4b04-9364-22d31a10dbf1</td>\n",
       "      <td>2009</td>\n",
       "      <td>altaf hossain,faisal zaman,m. nasser,m. mufakh...</td>\n",
       "      <td>4</td>\n",
       "      <td>False</td>\n",
       "      <td>altaf hossain</td>\n",
       "      <td>2006.0</td>\n",
       "    </tr>\n",
       "    <tr>\n",
       "      <td>2</td>\n",
       "      <td>00338203-9eb3-40c5-9f31-cbac73a519ec</td>\n",
       "      <td>2011</td>\n",
       "      <td>jea-bum park,byung-mok kim,jian shen,sun-young...</td>\n",
       "      <td>5</td>\n",
       "      <td>False</td>\n",
       "      <td>jea-bum park</td>\n",
       "      <td>2011.0</td>\n",
       "    </tr>\n",
       "    <tr>\n",
       "      <td>3</td>\n",
       "      <td>0040b022-1472-4f70-a753-74832df65266</td>\n",
       "      <td>1998</td>\n",
       "      <td>giovanna guerrini,isabella merlo</td>\n",
       "      <td>2</td>\n",
       "      <td>True</td>\n",
       "      <td>giovanna guerrini</td>\n",
       "      <td>1993.0</td>\n",
       "    </tr>\n",
       "    <tr>\n",
       "      <td>4</td>\n",
       "      <td>005ce28f-ed77-4e97-afdc-a296137186a1</td>\n",
       "      <td>2009</td>\n",
       "      <td>rafael álvarez,leandro tortosa,josé-francisco ...</td>\n",
       "      <td>4</td>\n",
       "      <td>False</td>\n",
       "      <td>rafael álvarez</td>\n",
       "      <td>2001.0</td>\n",
       "    </tr>\n",
       "  </tbody>\n",
       "</table>\n",
       "</div>"
      ],
      "text/plain": [
       "                                 pub_id  year  \\\n",
       "0  001c58d3-26ad-46b3-ab3a-c1e557d16821  2011   \n",
       "1  001c8744-73c4-4b04-9364-22d31a10dbf1  2009   \n",
       "2  00338203-9eb3-40c5-9f31-cbac73a519ec  2011   \n",
       "3  0040b022-1472-4f70-a753-74832df65266  1998   \n",
       "4  005ce28f-ed77-4e97-afdc-a296137186a1  2009   \n",
       "\n",
       "                                             authors  num_authors  is_alpha  \\\n",
       "0                           gareth beale,graeme earl            2      True   \n",
       "1  altaf hossain,faisal zaman,m. nasser,m. mufakh...            4     False   \n",
       "2  jea-bum park,byung-mok kim,jian shen,sun-young...            5     False   \n",
       "3                   giovanna guerrini,isabella merlo            2      True   \n",
       "4  rafael álvarez,leandro tortosa,josé-francisco ...            4     False   \n",
       "\n",
       "              author  start_year  \n",
       "0       gareth beale      2009.0  \n",
       "1      altaf hossain      2006.0  \n",
       "2       jea-bum park      2011.0  \n",
       "3  giovanna guerrini      1993.0  \n",
       "4     rafael álvarez      2001.0  "
      ]
     },
     "execution_count": 56,
     "metadata": {},
     "output_type": "execute_result"
    }
   ],
   "source": [
    "author_order.head()"
   ]
  },
  {
   "cell_type": "markdown",
   "metadata": {},
   "source": [
    "### Team size"
   ]
  },
  {
   "cell_type": "code",
   "execution_count": 57,
   "metadata": {},
   "outputs": [],
   "source": [
    "for EARLY_CAREER in EARLY_CAREER_LEN_LIST:\n",
    "    early_career_publications_filtered = early_career_publications[(\n",
    "        early_career_publications.year < early_career_publications.start_year + EARLY_CAREER)]\n",
    "    paper_team_size = early_career_publications_filtered.groupby('pub_id').agg({'author' : 'nunique'}).reset_index()\n",
    "    paper_team_size = paper_team_size.rename({'author': f'team_size_{EARLY_CAREER}'}, axis='columns')\n",
    "    early_career_publications_filtered = early_career_publications_filtered.merge(paper_team_size, on='pub_id', how='left')\n",
    "    team_size_median = early_career_publications_filtered.groupby('author').agg({f'team_size_{EARLY_CAREER}': 'median'}).reset_index()\n",
    "    team_size_median = team_size_median.rename({f'team_size_{EARLY_CAREER}': f'team_size_median_{EARLY_CAREER}'}, axis='columns')\n",
    "    team_size_mean = early_career_publications_filtered.groupby('author').agg({f'team_size_{EARLY_CAREER}': 'mean'}).reset_index()\n",
    "    team_size_mean = team_size_mean.rename({f'team_size_{EARLY_CAREER}': f'team_size_mean_{EARLY_CAREER}'}, axis='columns')\n",
    "\n",
    "    credible_authors = credible_authors.merge(team_size_median, on='author', how='left')\n",
    "    credible_authors = credible_authors.merge(team_size_mean, on='author', how='left')"
   ]
  },
  {
   "cell_type": "code",
   "execution_count": 58,
   "metadata": {},
   "outputs": [
    {
     "data": {
      "text/plain": [
       "(6678714, 5)"
      ]
     },
     "execution_count": 58,
     "metadata": {},
     "output_type": "execute_result"
    }
   ],
   "source": [
    "early_career_publications_filtered.shape"
   ]
  },
  {
   "cell_type": "code",
   "execution_count": 59,
   "metadata": {},
   "outputs": [
    {
     "data": {
      "text/plain": [
       "(1694302, 2)"
      ]
     },
     "execution_count": 59,
     "metadata": {},
     "output_type": "execute_result"
    }
   ],
   "source": [
    "team_size_median.shape"
   ]
  },
  {
   "cell_type": "code",
   "execution_count": 60,
   "metadata": {},
   "outputs": [
    {
     "data": {
      "text/plain": [
       "Index(['author', 'start_year', 'end_year', 'total_num_pub', 'career_length',\n",
       "       'gender', 'ec_first_auth_3', 'ec_first_auth_5', 'ec_first_auth_7',\n",
       "       'ec_first_auth_9', 'ec_first_auth_11', 'ec_first_auth_12',\n",
       "       'team_size_median_3', 'team_size_mean_3', 'team_size_median_5',\n",
       "       'team_size_mean_5', 'team_size_median_7', 'team_size_mean_7',\n",
       "       'team_size_median_9', 'team_size_mean_9', 'team_size_median_11',\n",
       "       'team_size_mean_11', 'team_size_median_12', 'team_size_mean_12'],\n",
       "      dtype='object')"
      ]
     },
     "execution_count": 60,
     "metadata": {},
     "output_type": "execute_result"
    }
   ],
   "source": [
    "credible_authors.columns"
   ]
  },
  {
   "cell_type": "markdown",
   "metadata": {},
   "source": [
    "#### Per Year"
   ]
  },
  {
   "cell_type": "code",
   "execution_count": 61,
   "metadata": {},
   "outputs": [],
   "source": [
    "# this has no effect, arxiv removed beforehand\n",
    "# print(authorPublicationData.shape)\n",
    "# print(authorPublicationData.loc[~authorPublicationData.pub_id.isin(arxiv_pubid['pub_id'])].shape)"
   ]
  },
  {
   "cell_type": "code",
   "execution_count": 62,
   "metadata": {},
   "outputs": [
    {
     "data": {
      "text/html": [
       "<div>\n",
       "<style scoped>\n",
       "    .dataframe tbody tr th:only-of-type {\n",
       "        vertical-align: middle;\n",
       "    }\n",
       "\n",
       "    .dataframe tbody tr th {\n",
       "        vertical-align: top;\n",
       "    }\n",
       "\n",
       "    .dataframe thead th {\n",
       "        text-align: right;\n",
       "    }\n",
       "</style>\n",
       "<table border=\"1\" class=\"dataframe\">\n",
       "  <thead>\n",
       "    <tr style=\"text-align: right;\">\n",
       "      <th></th>\n",
       "      <th>year</th>\n",
       "      <th>pub_id</th>\n",
       "      <th>team_size</th>\n",
       "    </tr>\n",
       "  </thead>\n",
       "  <tbody>\n",
       "    <tr>\n",
       "      <td>0</td>\n",
       "      <td>1936</td>\n",
       "      <td>0c5685ec-37dd-4267-a690-ce5bbbbffb00</td>\n",
       "      <td>1</td>\n",
       "    </tr>\n",
       "    <tr>\n",
       "      <td>1</td>\n",
       "      <td>1936</td>\n",
       "      <td>566fc941-6ba6-41ab-b579-ad3d7fe4ca27</td>\n",
       "      <td>1</td>\n",
       "    </tr>\n",
       "    <tr>\n",
       "      <td>2</td>\n",
       "      <td>1936</td>\n",
       "      <td>62c68236-b9e5-44dd-b299-e0d03c3e7bf4</td>\n",
       "      <td>1</td>\n",
       "    </tr>\n",
       "    <tr>\n",
       "      <td>3</td>\n",
       "      <td>1936</td>\n",
       "      <td>8581f824-2333-4b5f-b277-a4020281a7f8</td>\n",
       "      <td>1</td>\n",
       "    </tr>\n",
       "    <tr>\n",
       "      <td>4</td>\n",
       "      <td>1936</td>\n",
       "      <td>c45bdb20-3d36-4d7d-8a83-203e3d3bff9e</td>\n",
       "      <td>1</td>\n",
       "    </tr>\n",
       "  </tbody>\n",
       "</table>\n",
       "</div>"
      ],
      "text/plain": [
       "   year                                pub_id  team_size\n",
       "0  1936  0c5685ec-37dd-4267-a690-ce5bbbbffb00          1\n",
       "1  1936  566fc941-6ba6-41ab-b579-ad3d7fe4ca27          1\n",
       "2  1936  62c68236-b9e5-44dd-b299-e0d03c3e7bf4          1\n",
       "3  1936  8581f824-2333-4b5f-b277-a4020281a7f8          1\n",
       "4  1936  c45bdb20-3d36-4d7d-8a83-203e3d3bff9e          1"
      ]
     },
     "execution_count": 62,
     "metadata": {},
     "output_type": "execute_result"
    }
   ],
   "source": [
    "team_size = authorPublicationData.groupby(['year', 'pub_id']).size().reset_index(name='team_size')\n",
    "team_size.head()"
   ]
  },
  {
   "cell_type": "code",
   "execution_count": 63,
   "metadata": {},
   "outputs": [],
   "source": [
    "team_size_year = team_size.groupby('year').agg({'team_size': 'median'}).reset_index()"
   ]
  },
  {
   "cell_type": "code",
   "execution_count": 64,
   "metadata": {},
   "outputs": [],
   "source": [
    "team_size_year = team_size_year[team_size_year['year'].between(1970, 2014)]"
   ]
  },
  {
   "cell_type": "code",
   "execution_count": 65,
   "metadata": {},
   "outputs": [],
   "source": [
    "import matplotlib.pyplot as plt\n",
    "#plt.plot(team_size_year['year'], team_size_year['team_size'])\n",
    "#plt.yscale('log')\n",
    "#plt.savefig('./fig/average_team_size_across_years.png')\n",
    "\n",
    "linewidth = 2\n",
    "fontsize = 18\n",
    "fig = plt.figure(figsize=(4, 4))\n",
    "ax = fig.add_subplot(111)\n",
    "ax.plot(team_size_year['year'], team_size_year['team_size'], linewidth=linewidth, color='black')\n",
    "ax.xaxis.set_ticks_position('both')\n",
    "ax.yaxis.set_ticks_position('both')\n",
    "#ax.set_yscale('log')\n",
    "ax.set_xlabel('Year', fontsize=fontsize)\n",
    "ax.set_ylabel('Median Team Size', fontsize=fontsize)\n",
    "#ax.set_title('', fontsize=fontsize)\n",
    "ax.set_xticks([1970, 1990, 2010])\n",
    "ax.set_yticks([1, 2, 3])\n",
    "ax.tick_params(axis=\"x\", which='major', direction=\"in\", width=linewidth, size=4*linewidth, labelsize=fontsize, pad=7)\n",
    "ax.tick_params(axis=\"x\", which='minor', direction=\"in\", width=linewidth, size=2*linewidth, labelsize=fontsize, pad=7)\n",
    "ax.tick_params(axis=\"y\", which='major', direction=\"in\", width=linewidth, size=4*linewidth, labelsize=fontsize)\n",
    "ax.tick_params(axis=\"y\", which='minor', direction=\"in\", width=linewidth, size=2*linewidth, labelsize=fontsize)\n",
    "ax.spines['left'].set_linewidth(linewidth)\n",
    "ax.spines['right'].set_linewidth(linewidth)\n",
    "ax.spines['bottom'].set_linewidth(linewidth)\n",
    "ax.spines['top'].set_linewidth(linewidth)\n",
    "#ax.legend(fontsize=fontsize)\n",
    "plt.gcf().text(0., 0.9, 'C', fontsize=fontsize*2)\n",
    "plt.subplots_adjust(left=0.25, right=0.95, bottom=0.2, top=0.9)\n",
    "fig.savefig('./fig/team_size.pdf')"
   ]
  },
  {
   "cell_type": "code",
   "execution_count": 66,
   "metadata": {},
   "outputs": [],
   "source": [
    "team_size_year.to_csv('derived-data/team_size_median_per_year.csv', index=None)"
   ]
  },
  {
   "cell_type": "markdown",
   "metadata": {},
   "source": [
    "Are all authors included here? Also those without gender?"
   ]
  },
  {
   "cell_type": "markdown",
   "metadata": {},
   "source": [
    "### Rolling citations"
   ]
  },
  {
   "cell_type": "code",
   "execution_count": 89,
   "metadata": {},
   "outputs": [],
   "source": [
    "# define start year\n",
    "# TODO move this somewhere TOP. Maybe make a function out of it\n",
    "all_years = credible_authors.start_year.unique()\n",
    "start_years = [year for year in all_years if START_YEAR <= year <= LAST_START_YEAR]\n",
    "start_years = sorted(start_years)"
   ]
  },
  {
   "cell_type": "code",
   "execution_count": 90,
   "metadata": {},
   "outputs": [],
   "source": [
    "# create a dataframe with 15 career age entries for every author\n",
    "def create_counts_df():\n",
    "    counts0 = credible_authors[['author', 'start_year']].copy()\n",
    "    #filter out start years\n",
    "    counts0 = counts0[counts0['start_year'].isin(start_years)]\n",
    "    counts0['year'] = counts0['start_year'].apply(lambda x: [x+i for i in range(0, 15)])\n",
    "    counts = pd.DataFrame(counts0['year'].tolist(), index=counts0['author']).stack().reset_index(\n",
    "        level=1, drop=True).reset_index(name='year')[['year','author']]\n",
    "    counts = counts.merge(credible_authors[['author', 'start_year', 'end_year', 'gender']], on='author', how='inner')\n",
    "    counts['career_age'] = counts['year'] - counts['start_year'] + 1\n",
    "    counts['year'] = counts['year'].astype('int32')\n",
    "    \n",
    "    counts['career_duration'] = counts['end_year']-counts['start_year'] + 1\n",
    "    return counts"
   ]
  },
  {
   "cell_type": "code",
   "execution_count": 91,
   "metadata": {},
   "outputs": [],
   "source": [
    "# create publication and citation dfs for first author\n",
    "author_year_numPub_first = author_order.groupby(['author', 'year'])['pub_id'].count().reset_index()\n",
    "author_year_numPub_first = author_year_numPub_first.rename(columns={'pub_id':'num_pub'})\n",
    "\n",
    "combined_first = combined.merge(author_order[['author', 'pub_id']], how='inner')\n",
    "citations_year_auth_first = combined_first.groupby(['author', 'year_cit'])['id1'].count()\n",
    "\n",
    "citations_year_auth_first = citations_year_auth_first.reset_index()\n",
    "citations_year_auth_first = citations_year_auth_first.rename(columns={'id1':'num_cit', 'year_cit': 'year'})"
   ]
  },
  {
   "cell_type": "code",
   "execution_count": 126,
   "metadata": {},
   "outputs": [
    {
     "name": "stdout",
     "output_type": "stream",
     "text": [
      "(8789942, 7)\n",
      "(26240257, 7)\n"
     ]
    }
   ],
   "source": [
    "print(combined_first.shape)\n",
    "print(combined.shape)"
   ]
  },
  {
   "cell_type": "code",
   "execution_count": 130,
   "metadata": {
    "code_folding": [
     26,
     29
    ]
   },
   "outputs": [],
   "source": [
    "# add citation and publication window features to citations df\n",
    "def add_citation_window_counts(counts_df, combined_df, citations_year_auth_df, author_year_numPub_df):\n",
    "    #citations window\n",
    "    WINDOW_SIZE = 3\n",
    "    df_list = []\n",
    "    for year in start_years:\n",
    "        df_year = combined_df[combined_df.start_year == year]\n",
    "        for y in range(year, year+13): #y is the first year we count for\n",
    "            df_window = df_year[(df_year.year_pub>=y) & (df_year.year_cit>=y)& (df_year.year_pub<=y)& \n",
    "                                (df_year.year_cit<=y+WINDOW_SIZE)]\n",
    "            df_window = df_window.groupby('author').agg({'id1': 'count'}).reset_index()\n",
    "            df_window['year'] = y\n",
    "            df_window = df_window.rename({'id1' : f'cit_{WINDOW_SIZE}'}, axis=1)\n",
    "            df_list.append(df_window)\n",
    "    df_cit_3_window = pd.concat(df_list).sort_values(by=['author', 'year'])\n",
    "    counts_df = counts_df.merge(df_cit_3_window, on=['author', 'year'], how='left')\n",
    "    counts_df['cit_3'] = counts_df['cit_3'].fillna(0)\n",
    "    # merge in publications\n",
    "    counts_df = counts_df.merge(author_year_numPub_df, on=['author', 'year'], how='left')\n",
    "    counts_df['num_pub'] = counts_df['num_pub'].fillna(0)\n",
    "    counts_df['win_num_pub'] = counts_df.groupby('author')['num_pub'].transform(\n",
    "        lambda x: x.rolling(3, min_periods=3).sum().shift(-2))\n",
    "    # merge in citations\n",
    "    counts_df = counts_df.merge(citations_year_auth_df, on=['author', 'year'], how='left')\n",
    "    counts_df['num_cit'] = counts_df['num_cit'].fillna(0)\n",
    "    return counts_df\n",
    "def add_cumulative_counts(counts_df, feature):\n",
    "    counts_df = calculate.calculate_cumulative_for_authors(counts_df, feature)\n",
    "    return counts_df\n",
    "def save_counts(counts_df, ext=''):\n",
    "    counts_df.to_csv(f'derived-data/citations_window_3{ext}.csv', index=None)"
   ]
  },
  {
   "cell_type": "code",
   "execution_count": 131,
   "metadata": {
    "code_folding": []
   },
   "outputs": [
    {
     "name": "stdout",
     "output_type": "stream",
     "text": [
      "CPU times: user 8min 39s, sys: 10.3 s, total: 8min 49s\n",
      "Wall time: 8min 49s\n"
     ]
    }
   ],
   "source": [
    "%%time\n",
    "counts_all_auth = add_citation_window_counts(create_counts_df(), combined, citations_year_auth, author_year_numPub)\n",
    "counts_all_auth = add_cumulative_counts(counts_all_auth, 'num_cit')\n",
    "counts_all_auth = add_cumulative_counts(counts_all_auth, 'num_pub')"
   ]
  },
  {
   "cell_type": "code",
   "execution_count": 132,
   "metadata": {},
   "outputs": [
    {
     "name": "stdout",
     "output_type": "stream",
     "text": [
      "CPU times: user 8min 31s, sys: 9.7 s, total: 8min 41s\n",
      "Wall time: 8min 40s\n"
     ]
    }
   ],
   "source": [
    "%%time\n",
    "counts_first_auth = add_citation_window_counts(create_counts_df(), combined_first, citations_year_auth_first, \n",
    "                                               author_year_numPub_first)\n",
    "counts_first_auth = add_cumulative_counts(counts_first_auth, 'num_cit')\n",
    "counts_first_auth = add_cumulative_counts(counts_first_auth, 'num_pub')"
   ]
  },
  {
   "cell_type": "code",
   "execution_count": 133,
   "metadata": {},
   "outputs": [],
   "source": [
    "save_counts(counts_all_auth)\n",
    "save_counts(counts_first_auth, '_first')"
   ]
  },
  {
   "cell_type": "code",
   "execution_count": 134,
   "metadata": {},
   "outputs": [
    {
     "data": {
      "text/html": [
       "<div>\n",
       "<style scoped>\n",
       "    .dataframe tbody tr th:only-of-type {\n",
       "        vertical-align: middle;\n",
       "    }\n",
       "\n",
       "    .dataframe tbody tr th {\n",
       "        vertical-align: top;\n",
       "    }\n",
       "\n",
       "    .dataframe thead th {\n",
       "        text-align: right;\n",
       "    }\n",
       "</style>\n",
       "<table border=\"1\" class=\"dataframe\">\n",
       "  <thead>\n",
       "    <tr style=\"text-align: right;\">\n",
       "      <th></th>\n",
       "      <th>year</th>\n",
       "      <th>author</th>\n",
       "      <th>start_year</th>\n",
       "      <th>end_year</th>\n",
       "      <th>gender</th>\n",
       "      <th>career_age</th>\n",
       "      <th>career_duration</th>\n",
       "      <th>cit_3</th>\n",
       "      <th>num_pub</th>\n",
       "      <th>win_num_pub</th>\n",
       "      <th>num_cit</th>\n",
       "      <th>cum_num_cit</th>\n",
       "      <th>cum_num_pub</th>\n",
       "    </tr>\n",
       "  </thead>\n",
       "  <tbody>\n",
       "    <tr>\n",
       "      <td>0</td>\n",
       "      <td>True</td>\n",
       "      <td>True</td>\n",
       "      <td>True</td>\n",
       "      <td>True</td>\n",
       "      <td>True</td>\n",
       "      <td>True</td>\n",
       "      <td>True</td>\n",
       "      <td>True</td>\n",
       "      <td>True</td>\n",
       "      <td>True</td>\n",
       "      <td>True</td>\n",
       "      <td>True</td>\n",
       "      <td>True</td>\n",
       "    </tr>\n",
       "    <tr>\n",
       "      <td>1</td>\n",
       "      <td>True</td>\n",
       "      <td>True</td>\n",
       "      <td>True</td>\n",
       "      <td>True</td>\n",
       "      <td>True</td>\n",
       "      <td>True</td>\n",
       "      <td>True</td>\n",
       "      <td>True</td>\n",
       "      <td>True</td>\n",
       "      <td>True</td>\n",
       "      <td>True</td>\n",
       "      <td>True</td>\n",
       "      <td>True</td>\n",
       "    </tr>\n",
       "    <tr>\n",
       "      <td>2</td>\n",
       "      <td>True</td>\n",
       "      <td>True</td>\n",
       "      <td>True</td>\n",
       "      <td>True</td>\n",
       "      <td>True</td>\n",
       "      <td>True</td>\n",
       "      <td>True</td>\n",
       "      <td>True</td>\n",
       "      <td>False</td>\n",
       "      <td>False</td>\n",
       "      <td>True</td>\n",
       "      <td>True</td>\n",
       "      <td>False</td>\n",
       "    </tr>\n",
       "    <tr>\n",
       "      <td>3</td>\n",
       "      <td>True</td>\n",
       "      <td>True</td>\n",
       "      <td>True</td>\n",
       "      <td>True</td>\n",
       "      <td>True</td>\n",
       "      <td>True</td>\n",
       "      <td>True</td>\n",
       "      <td>True</td>\n",
       "      <td>False</td>\n",
       "      <td>False</td>\n",
       "      <td>True</td>\n",
       "      <td>True</td>\n",
       "      <td>False</td>\n",
       "    </tr>\n",
       "    <tr>\n",
       "      <td>4</td>\n",
       "      <td>True</td>\n",
       "      <td>True</td>\n",
       "      <td>True</td>\n",
       "      <td>True</td>\n",
       "      <td>True</td>\n",
       "      <td>True</td>\n",
       "      <td>True</td>\n",
       "      <td>True</td>\n",
       "      <td>True</td>\n",
       "      <td>True</td>\n",
       "      <td>True</td>\n",
       "      <td>True</td>\n",
       "      <td>True</td>\n",
       "    </tr>\n",
       "    <tr>\n",
       "      <td>...</td>\n",
       "      <td>...</td>\n",
       "      <td>...</td>\n",
       "      <td>...</td>\n",
       "      <td>...</td>\n",
       "      <td>...</td>\n",
       "      <td>...</td>\n",
       "      <td>...</td>\n",
       "      <td>...</td>\n",
       "      <td>...</td>\n",
       "      <td>...</td>\n",
       "      <td>...</td>\n",
       "      <td>...</td>\n",
       "      <td>...</td>\n",
       "    </tr>\n",
       "    <tr>\n",
       "      <td>4386640</td>\n",
       "      <td>True</td>\n",
       "      <td>True</td>\n",
       "      <td>True</td>\n",
       "      <td>True</td>\n",
       "      <td>True</td>\n",
       "      <td>True</td>\n",
       "      <td>True</td>\n",
       "      <td>True</td>\n",
       "      <td>True</td>\n",
       "      <td>False</td>\n",
       "      <td>False</td>\n",
       "      <td>False</td>\n",
       "      <td>False</td>\n",
       "    </tr>\n",
       "    <tr>\n",
       "      <td>4386641</td>\n",
       "      <td>True</td>\n",
       "      <td>True</td>\n",
       "      <td>True</td>\n",
       "      <td>True</td>\n",
       "      <td>True</td>\n",
       "      <td>True</td>\n",
       "      <td>True</td>\n",
       "      <td>True</td>\n",
       "      <td>False</td>\n",
       "      <td>False</td>\n",
       "      <td>False</td>\n",
       "      <td>False</td>\n",
       "      <td>False</td>\n",
       "    </tr>\n",
       "    <tr>\n",
       "      <td>4386642</td>\n",
       "      <td>True</td>\n",
       "      <td>True</td>\n",
       "      <td>True</td>\n",
       "      <td>True</td>\n",
       "      <td>True</td>\n",
       "      <td>True</td>\n",
       "      <td>True</td>\n",
       "      <td>True</td>\n",
       "      <td>True</td>\n",
       "      <td>False</td>\n",
       "      <td>False</td>\n",
       "      <td>False</td>\n",
       "      <td>False</td>\n",
       "    </tr>\n",
       "    <tr>\n",
       "      <td>4386643</td>\n",
       "      <td>True</td>\n",
       "      <td>True</td>\n",
       "      <td>True</td>\n",
       "      <td>True</td>\n",
       "      <td>True</td>\n",
       "      <td>True</td>\n",
       "      <td>True</td>\n",
       "      <td>True</td>\n",
       "      <td>False</td>\n",
       "      <td>False</td>\n",
       "      <td>False</td>\n",
       "      <td>False</td>\n",
       "      <td>False</td>\n",
       "    </tr>\n",
       "    <tr>\n",
       "      <td>4386644</td>\n",
       "      <td>True</td>\n",
       "      <td>True</td>\n",
       "      <td>True</td>\n",
       "      <td>True</td>\n",
       "      <td>True</td>\n",
       "      <td>True</td>\n",
       "      <td>True</td>\n",
       "      <td>True</td>\n",
       "      <td>True</td>\n",
       "      <td>False</td>\n",
       "      <td>True</td>\n",
       "      <td>False</td>\n",
       "      <td>False</td>\n",
       "    </tr>\n",
       "  </tbody>\n",
       "</table>\n",
       "<p>4386645 rows × 13 columns</p>\n",
       "</div>"
      ],
      "text/plain": [
       "         year  author  start_year  end_year  gender  career_age  \\\n",
       "0        True    True        True      True    True        True   \n",
       "1        True    True        True      True    True        True   \n",
       "2        True    True        True      True    True        True   \n",
       "3        True    True        True      True    True        True   \n",
       "4        True    True        True      True    True        True   \n",
       "...       ...     ...         ...       ...     ...         ...   \n",
       "4386640  True    True        True      True    True        True   \n",
       "4386641  True    True        True      True    True        True   \n",
       "4386642  True    True        True      True    True        True   \n",
       "4386643  True    True        True      True    True        True   \n",
       "4386644  True    True        True      True    True        True   \n",
       "\n",
       "         career_duration  cit_3  num_pub  win_num_pub  num_cit  cum_num_cit  \\\n",
       "0                   True   True     True         True     True         True   \n",
       "1                   True   True     True         True     True         True   \n",
       "2                   True   True    False        False     True         True   \n",
       "3                   True   True    False        False     True         True   \n",
       "4                   True   True     True         True     True         True   \n",
       "...                  ...    ...      ...          ...      ...          ...   \n",
       "4386640             True   True     True        False    False        False   \n",
       "4386641             True   True    False        False    False        False   \n",
       "4386642             True   True     True        False    False        False   \n",
       "4386643             True   True    False        False    False        False   \n",
       "4386644             True   True     True        False     True        False   \n",
       "\n",
       "         cum_num_pub  \n",
       "0               True  \n",
       "1               True  \n",
       "2              False  \n",
       "3              False  \n",
       "4               True  \n",
       "...              ...  \n",
       "4386640        False  \n",
       "4386641        False  \n",
       "4386642        False  \n",
       "4386643        False  \n",
       "4386644        False  \n",
       "\n",
       "[4386645 rows x 13 columns]"
      ]
     },
     "execution_count": 134,
     "metadata": {},
     "output_type": "execute_result"
    }
   ],
   "source": [
    "counts_all_auth == counts_first_auth"
   ]
  },
  {
   "cell_type": "code",
   "execution_count": 135,
   "metadata": {},
   "outputs": [
    {
     "data": {
      "text/html": [
       "<div>\n",
       "<style scoped>\n",
       "    .dataframe tbody tr th:only-of-type {\n",
       "        vertical-align: middle;\n",
       "    }\n",
       "\n",
       "    .dataframe tbody tr th {\n",
       "        vertical-align: top;\n",
       "    }\n",
       "\n",
       "    .dataframe thead th {\n",
       "        text-align: right;\n",
       "    }\n",
       "</style>\n",
       "<table border=\"1\" class=\"dataframe\">\n",
       "  <thead>\n",
       "    <tr style=\"text-align: right;\">\n",
       "      <th></th>\n",
       "      <th>year</th>\n",
       "      <th>author</th>\n",
       "      <th>start_year</th>\n",
       "      <th>end_year</th>\n",
       "      <th>gender</th>\n",
       "      <th>career_age</th>\n",
       "      <th>career_duration</th>\n",
       "      <th>cit_3</th>\n",
       "      <th>num_pub</th>\n",
       "      <th>win_num_pub</th>\n",
       "      <th>num_cit</th>\n",
       "      <th>cum_num_cit</th>\n",
       "      <th>cum_num_pub</th>\n",
       "    </tr>\n",
       "  </thead>\n",
       "  <tbody>\n",
       "    <tr>\n",
       "      <td>1329688</td>\n",
       "      <td>1997</td>\n",
       "      <td>isabella merlo</td>\n",
       "      <td>1997</td>\n",
       "      <td>2004</td>\n",
       "      <td>f</td>\n",
       "      <td>1</td>\n",
       "      <td>8</td>\n",
       "      <td>1.0</td>\n",
       "      <td>1.0</td>\n",
       "      <td>6.0</td>\n",
       "      <td>0.0</td>\n",
       "      <td>0.0</td>\n",
       "      <td>1.0</td>\n",
       "    </tr>\n",
       "    <tr>\n",
       "      <td>1448260</td>\n",
       "      <td>1998</td>\n",
       "      <td>isabella merlo</td>\n",
       "      <td>1997</td>\n",
       "      <td>2004</td>\n",
       "      <td>f</td>\n",
       "      <td>2</td>\n",
       "      <td>8</td>\n",
       "      <td>1.0</td>\n",
       "      <td>2.0</td>\n",
       "      <td>8.0</td>\n",
       "      <td>1.0</td>\n",
       "      <td>1.0</td>\n",
       "      <td>3.0</td>\n",
       "    </tr>\n",
       "    <tr>\n",
       "      <td>1712622</td>\n",
       "      <td>1999</td>\n",
       "      <td>isabella merlo</td>\n",
       "      <td>1997</td>\n",
       "      <td>2004</td>\n",
       "      <td>f</td>\n",
       "      <td>3</td>\n",
       "      <td>8</td>\n",
       "      <td>5.0</td>\n",
       "      <td>3.0</td>\n",
       "      <td>9.0</td>\n",
       "      <td>1.0</td>\n",
       "      <td>2.0</td>\n",
       "      <td>6.0</td>\n",
       "    </tr>\n",
       "    <tr>\n",
       "      <td>2042558</td>\n",
       "      <td>2000</td>\n",
       "      <td>isabella merlo</td>\n",
       "      <td>1997</td>\n",
       "      <td>2004</td>\n",
       "      <td>f</td>\n",
       "      <td>4</td>\n",
       "      <td>8</td>\n",
       "      <td>5.0</td>\n",
       "      <td>3.0</td>\n",
       "      <td>6.0</td>\n",
       "      <td>2.0</td>\n",
       "      <td>4.0</td>\n",
       "      <td>9.0</td>\n",
       "    </tr>\n",
       "    <tr>\n",
       "      <td>2267284</td>\n",
       "      <td>2001</td>\n",
       "      <td>isabella merlo</td>\n",
       "      <td>1997</td>\n",
       "      <td>2004</td>\n",
       "      <td>f</td>\n",
       "      <td>5</td>\n",
       "      <td>8</td>\n",
       "      <td>3.0</td>\n",
       "      <td>3.0</td>\n",
       "      <td>5.0</td>\n",
       "      <td>6.0</td>\n",
       "      <td>10.0</td>\n",
       "      <td>12.0</td>\n",
       "    </tr>\n",
       "  </tbody>\n",
       "</table>\n",
       "</div>"
      ],
      "text/plain": [
       "         year          author  start_year  end_year gender  career_age  \\\n",
       "1329688  1997  isabella merlo        1997      2004      f           1   \n",
       "1448260  1998  isabella merlo        1997      2004      f           2   \n",
       "1712622  1999  isabella merlo        1997      2004      f           3   \n",
       "2042558  2000  isabella merlo        1997      2004      f           4   \n",
       "2267284  2001  isabella merlo        1997      2004      f           5   \n",
       "\n",
       "         career_duration  cit_3  num_pub  win_num_pub  num_cit  cum_num_cit  \\\n",
       "1329688                8    1.0      1.0          6.0      0.0          0.0   \n",
       "1448260                8    1.0      2.0          8.0      1.0          1.0   \n",
       "1712622                8    5.0      3.0          9.0      1.0          2.0   \n",
       "2042558                8    5.0      3.0          6.0      2.0          4.0   \n",
       "2267284                8    3.0      3.0          5.0      6.0         10.0   \n",
       "\n",
       "         cum_num_pub  \n",
       "1329688          1.0  \n",
       "1448260          3.0  \n",
       "1712622          6.0  \n",
       "2042558          9.0  \n",
       "2267284         12.0  "
      ]
     },
     "execution_count": 135,
     "metadata": {},
     "output_type": "execute_result"
    }
   ],
   "source": [
    "counts_all_auth[counts_all_auth.author == 'isabella merlo'].head()"
   ]
  },
  {
   "cell_type": "code",
   "execution_count": 136,
   "metadata": {},
   "outputs": [
    {
     "data": {
      "text/html": [
       "<div>\n",
       "<style scoped>\n",
       "    .dataframe tbody tr th:only-of-type {\n",
       "        vertical-align: middle;\n",
       "    }\n",
       "\n",
       "    .dataframe tbody tr th {\n",
       "        vertical-align: top;\n",
       "    }\n",
       "\n",
       "    .dataframe thead th {\n",
       "        text-align: right;\n",
       "    }\n",
       "</style>\n",
       "<table border=\"1\" class=\"dataframe\">\n",
       "  <thead>\n",
       "    <tr style=\"text-align: right;\">\n",
       "      <th></th>\n",
       "      <th>year</th>\n",
       "      <th>author</th>\n",
       "      <th>start_year</th>\n",
       "      <th>end_year</th>\n",
       "      <th>gender</th>\n",
       "      <th>career_age</th>\n",
       "      <th>career_duration</th>\n",
       "      <th>cit_3</th>\n",
       "      <th>num_pub</th>\n",
       "      <th>win_num_pub</th>\n",
       "      <th>num_cit</th>\n",
       "      <th>cum_num_cit</th>\n",
       "      <th>cum_num_pub</th>\n",
       "    </tr>\n",
       "  </thead>\n",
       "  <tbody>\n",
       "    <tr>\n",
       "      <td>1329688</td>\n",
       "      <td>1997</td>\n",
       "      <td>isabella merlo</td>\n",
       "      <td>1997</td>\n",
       "      <td>2004</td>\n",
       "      <td>f</td>\n",
       "      <td>1</td>\n",
       "      <td>8</td>\n",
       "      <td>0.0</td>\n",
       "      <td>0.0</td>\n",
       "      <td>1.0</td>\n",
       "      <td>0.0</td>\n",
       "      <td>0.0</td>\n",
       "      <td>0.0</td>\n",
       "    </tr>\n",
       "    <tr>\n",
       "      <td>1448260</td>\n",
       "      <td>1998</td>\n",
       "      <td>isabella merlo</td>\n",
       "      <td>1997</td>\n",
       "      <td>2004</td>\n",
       "      <td>f</td>\n",
       "      <td>2</td>\n",
       "      <td>8</td>\n",
       "      <td>0.0</td>\n",
       "      <td>0.0</td>\n",
       "      <td>2.0</td>\n",
       "      <td>0.0</td>\n",
       "      <td>0.0</td>\n",
       "      <td>0.0</td>\n",
       "    </tr>\n",
       "    <tr>\n",
       "      <td>1712622</td>\n",
       "      <td>1999</td>\n",
       "      <td>isabella merlo</td>\n",
       "      <td>1997</td>\n",
       "      <td>2004</td>\n",
       "      <td>f</td>\n",
       "      <td>3</td>\n",
       "      <td>8</td>\n",
       "      <td>0.0</td>\n",
       "      <td>1.0</td>\n",
       "      <td>2.0</td>\n",
       "      <td>0.0</td>\n",
       "      <td>0.0</td>\n",
       "      <td>1.0</td>\n",
       "    </tr>\n",
       "    <tr>\n",
       "      <td>2042558</td>\n",
       "      <td>2000</td>\n",
       "      <td>isabella merlo</td>\n",
       "      <td>1997</td>\n",
       "      <td>2004</td>\n",
       "      <td>f</td>\n",
       "      <td>4</td>\n",
       "      <td>8</td>\n",
       "      <td>1.0</td>\n",
       "      <td>1.0</td>\n",
       "      <td>1.0</td>\n",
       "      <td>0.0</td>\n",
       "      <td>0.0</td>\n",
       "      <td>2.0</td>\n",
       "    </tr>\n",
       "    <tr>\n",
       "      <td>2267284</td>\n",
       "      <td>2001</td>\n",
       "      <td>isabella merlo</td>\n",
       "      <td>1997</td>\n",
       "      <td>2004</td>\n",
       "      <td>f</td>\n",
       "      <td>5</td>\n",
       "      <td>8</td>\n",
       "      <td>0.0</td>\n",
       "      <td>0.0</td>\n",
       "      <td>0.0</td>\n",
       "      <td>0.0</td>\n",
       "      <td>0.0</td>\n",
       "      <td>2.0</td>\n",
       "    </tr>\n",
       "    <tr>\n",
       "      <td>2558051</td>\n",
       "      <td>2002</td>\n",
       "      <td>isabella merlo</td>\n",
       "      <td>1997</td>\n",
       "      <td>2004</td>\n",
       "      <td>f</td>\n",
       "      <td>6</td>\n",
       "      <td>8</td>\n",
       "      <td>0.0</td>\n",
       "      <td>0.0</td>\n",
       "      <td>0.0</td>\n",
       "      <td>0.0</td>\n",
       "      <td>0.0</td>\n",
       "      <td>2.0</td>\n",
       "    </tr>\n",
       "    <tr>\n",
       "      <td>2613731</td>\n",
       "      <td>2003</td>\n",
       "      <td>isabella merlo</td>\n",
       "      <td>1997</td>\n",
       "      <td>2004</td>\n",
       "      <td>f</td>\n",
       "      <td>7</td>\n",
       "      <td>8</td>\n",
       "      <td>0.0</td>\n",
       "      <td>0.0</td>\n",
       "      <td>0.0</td>\n",
       "      <td>2.0</td>\n",
       "      <td>2.0</td>\n",
       "      <td>2.0</td>\n",
       "    </tr>\n",
       "    <tr>\n",
       "      <td>2882321</td>\n",
       "      <td>2004</td>\n",
       "      <td>isabella merlo</td>\n",
       "      <td>1997</td>\n",
       "      <td>2004</td>\n",
       "      <td>f</td>\n",
       "      <td>8</td>\n",
       "      <td>8</td>\n",
       "      <td>0.0</td>\n",
       "      <td>0.0</td>\n",
       "      <td>0.0</td>\n",
       "      <td>1.0</td>\n",
       "      <td>3.0</td>\n",
       "      <td>2.0</td>\n",
       "    </tr>\n",
       "    <tr>\n",
       "      <td>3200510</td>\n",
       "      <td>2005</td>\n",
       "      <td>isabella merlo</td>\n",
       "      <td>1997</td>\n",
       "      <td>2004</td>\n",
       "      <td>f</td>\n",
       "      <td>9</td>\n",
       "      <td>8</td>\n",
       "      <td>0.0</td>\n",
       "      <td>0.0</td>\n",
       "      <td>0.0</td>\n",
       "      <td>0.0</td>\n",
       "      <td>3.0</td>\n",
       "      <td>2.0</td>\n",
       "    </tr>\n",
       "    <tr>\n",
       "      <td>3312270</td>\n",
       "      <td>2006</td>\n",
       "      <td>isabella merlo</td>\n",
       "      <td>1997</td>\n",
       "      <td>2004</td>\n",
       "      <td>f</td>\n",
       "      <td>10</td>\n",
       "      <td>8</td>\n",
       "      <td>0.0</td>\n",
       "      <td>0.0</td>\n",
       "      <td>0.0</td>\n",
       "      <td>0.0</td>\n",
       "      <td>3.0</td>\n",
       "      <td>2.0</td>\n",
       "    </tr>\n",
       "    <tr>\n",
       "      <td>3518258</td>\n",
       "      <td>2007</td>\n",
       "      <td>isabella merlo</td>\n",
       "      <td>1997</td>\n",
       "      <td>2004</td>\n",
       "      <td>f</td>\n",
       "      <td>11</td>\n",
       "      <td>8</td>\n",
       "      <td>0.0</td>\n",
       "      <td>0.0</td>\n",
       "      <td>0.0</td>\n",
       "      <td>0.0</td>\n",
       "      <td>3.0</td>\n",
       "      <td>2.0</td>\n",
       "    </tr>\n",
       "    <tr>\n",
       "      <td>3719570</td>\n",
       "      <td>2008</td>\n",
       "      <td>isabella merlo</td>\n",
       "      <td>1997</td>\n",
       "      <td>2004</td>\n",
       "      <td>f</td>\n",
       "      <td>12</td>\n",
       "      <td>8</td>\n",
       "      <td>0.0</td>\n",
       "      <td>0.0</td>\n",
       "      <td>0.0</td>\n",
       "      <td>1.0</td>\n",
       "      <td>4.0</td>\n",
       "      <td>2.0</td>\n",
       "    </tr>\n",
       "    <tr>\n",
       "      <td>3888206</td>\n",
       "      <td>2009</td>\n",
       "      <td>isabella merlo</td>\n",
       "      <td>1997</td>\n",
       "      <td>2004</td>\n",
       "      <td>f</td>\n",
       "      <td>13</td>\n",
       "      <td>8</td>\n",
       "      <td>0.0</td>\n",
       "      <td>0.0</td>\n",
       "      <td>0.0</td>\n",
       "      <td>0.0</td>\n",
       "      <td>4.0</td>\n",
       "      <td>2.0</td>\n",
       "    </tr>\n",
       "    <tr>\n",
       "      <td>3969110</td>\n",
       "      <td>2010</td>\n",
       "      <td>isabella merlo</td>\n",
       "      <td>1997</td>\n",
       "      <td>2004</td>\n",
       "      <td>f</td>\n",
       "      <td>14</td>\n",
       "      <td>8</td>\n",
       "      <td>0.0</td>\n",
       "      <td>0.0</td>\n",
       "      <td>NaN</td>\n",
       "      <td>0.0</td>\n",
       "      <td>4.0</td>\n",
       "      <td>2.0</td>\n",
       "    </tr>\n",
       "    <tr>\n",
       "      <td>4151216</td>\n",
       "      <td>2011</td>\n",
       "      <td>isabella merlo</td>\n",
       "      <td>1997</td>\n",
       "      <td>2004</td>\n",
       "      <td>f</td>\n",
       "      <td>15</td>\n",
       "      <td>8</td>\n",
       "      <td>0.0</td>\n",
       "      <td>0.0</td>\n",
       "      <td>NaN</td>\n",
       "      <td>0.0</td>\n",
       "      <td>4.0</td>\n",
       "      <td>2.0</td>\n",
       "    </tr>\n",
       "  </tbody>\n",
       "</table>\n",
       "</div>"
      ],
      "text/plain": [
       "         year          author  start_year  end_year gender  career_age  \\\n",
       "1329688  1997  isabella merlo        1997      2004      f           1   \n",
       "1448260  1998  isabella merlo        1997      2004      f           2   \n",
       "1712622  1999  isabella merlo        1997      2004      f           3   \n",
       "2042558  2000  isabella merlo        1997      2004      f           4   \n",
       "2267284  2001  isabella merlo        1997      2004      f           5   \n",
       "2558051  2002  isabella merlo        1997      2004      f           6   \n",
       "2613731  2003  isabella merlo        1997      2004      f           7   \n",
       "2882321  2004  isabella merlo        1997      2004      f           8   \n",
       "3200510  2005  isabella merlo        1997      2004      f           9   \n",
       "3312270  2006  isabella merlo        1997      2004      f          10   \n",
       "3518258  2007  isabella merlo        1997      2004      f          11   \n",
       "3719570  2008  isabella merlo        1997      2004      f          12   \n",
       "3888206  2009  isabella merlo        1997      2004      f          13   \n",
       "3969110  2010  isabella merlo        1997      2004      f          14   \n",
       "4151216  2011  isabella merlo        1997      2004      f          15   \n",
       "\n",
       "         career_duration  cit_3  num_pub  win_num_pub  num_cit  cum_num_cit  \\\n",
       "1329688                8    0.0      0.0          1.0      0.0          0.0   \n",
       "1448260                8    0.0      0.0          2.0      0.0          0.0   \n",
       "1712622                8    0.0      1.0          2.0      0.0          0.0   \n",
       "2042558                8    1.0      1.0          1.0      0.0          0.0   \n",
       "2267284                8    0.0      0.0          0.0      0.0          0.0   \n",
       "2558051                8    0.0      0.0          0.0      0.0          0.0   \n",
       "2613731                8    0.0      0.0          0.0      2.0          2.0   \n",
       "2882321                8    0.0      0.0          0.0      1.0          3.0   \n",
       "3200510                8    0.0      0.0          0.0      0.0          3.0   \n",
       "3312270                8    0.0      0.0          0.0      0.0          3.0   \n",
       "3518258                8    0.0      0.0          0.0      0.0          3.0   \n",
       "3719570                8    0.0      0.0          0.0      1.0          4.0   \n",
       "3888206                8    0.0      0.0          0.0      0.0          4.0   \n",
       "3969110                8    0.0      0.0          NaN      0.0          4.0   \n",
       "4151216                8    0.0      0.0          NaN      0.0          4.0   \n",
       "\n",
       "         cum_num_pub  \n",
       "1329688          0.0  \n",
       "1448260          0.0  \n",
       "1712622          1.0  \n",
       "2042558          2.0  \n",
       "2267284          2.0  \n",
       "2558051          2.0  \n",
       "2613731          2.0  \n",
       "2882321          2.0  \n",
       "3200510          2.0  \n",
       "3312270          2.0  \n",
       "3518258          2.0  \n",
       "3719570          2.0  \n",
       "3888206          2.0  \n",
       "3969110          2.0  \n",
       "4151216          2.0  "
      ]
     },
     "execution_count": 136,
     "metadata": {},
     "output_type": "execute_result"
    }
   ],
   "source": [
    "counts_first_auth[counts_first_auth.author == 'isabella merlo']"
   ]
  },
  {
   "cell_type": "code",
   "execution_count": 137,
   "metadata": {},
   "outputs": [
    {
     "data": {
      "text/html": [
       "<div>\n",
       "<style scoped>\n",
       "    .dataframe tbody tr th:only-of-type {\n",
       "        vertical-align: middle;\n",
       "    }\n",
       "\n",
       "    .dataframe tbody tr th {\n",
       "        vertical-align: top;\n",
       "    }\n",
       "\n",
       "    .dataframe thead th {\n",
       "        text-align: right;\n",
       "    }\n",
       "</style>\n",
       "<table border=\"1\" class=\"dataframe\">\n",
       "  <thead>\n",
       "    <tr style=\"text-align: right;\">\n",
       "      <th></th>\n",
       "      <th>author</th>\n",
       "      <th>start_year</th>\n",
       "      <th>end_year</th>\n",
       "      <th>total_num_pub</th>\n",
       "      <th>career_length</th>\n",
       "      <th>gender</th>\n",
       "      <th>ec_first_auth_3</th>\n",
       "      <th>ec_first_auth_5</th>\n",
       "      <th>ec_first_auth_7</th>\n",
       "      <th>ec_first_auth_9</th>\n",
       "      <th>...</th>\n",
       "      <th>team_size_median_5</th>\n",
       "      <th>team_size_mean_5</th>\n",
       "      <th>team_size_median_7</th>\n",
       "      <th>team_size_mean_7</th>\n",
       "      <th>team_size_median_9</th>\n",
       "      <th>team_size_mean_9</th>\n",
       "      <th>team_size_median_11</th>\n",
       "      <th>team_size_mean_11</th>\n",
       "      <th>team_size_median_12</th>\n",
       "      <th>team_size_mean_12</th>\n",
       "    </tr>\n",
       "  </thead>\n",
       "  <tbody>\n",
       "    <tr>\n",
       "      <td>611602</td>\n",
       "      <td>isabella merlo</td>\n",
       "      <td>1997</td>\n",
       "      <td>2004</td>\n",
       "      <td>15</td>\n",
       "      <td>8</td>\n",
       "      <td>f</td>\n",
       "      <td>1.0</td>\n",
       "      <td>2.0</td>\n",
       "      <td>2.0</td>\n",
       "      <td>2.0</td>\n",
       "      <td>...</td>\n",
       "      <td>1.5</td>\n",
       "      <td>1.5</td>\n",
       "      <td>2.0</td>\n",
       "      <td>1.928571</td>\n",
       "      <td>2.0</td>\n",
       "      <td>2.333333</td>\n",
       "      <td>3.0</td>\n",
       "      <td>2.466667</td>\n",
       "      <td>3.0</td>\n",
       "      <td>2.533333</td>\n",
       "    </tr>\n",
       "  </tbody>\n",
       "</table>\n",
       "<p>1 rows × 24 columns</p>\n",
       "</div>"
      ],
      "text/plain": [
       "                author  start_year  end_year  total_num_pub  career_length  \\\n",
       "611602  isabella merlo        1997      2004             15              8   \n",
       "\n",
       "       gender  ec_first_auth_3  ec_first_auth_5  ec_first_auth_7  \\\n",
       "611602      f              1.0              2.0              2.0   \n",
       "\n",
       "        ec_first_auth_9  ...  team_size_median_5  team_size_mean_5  \\\n",
       "611602              2.0  ...                 1.5               1.5   \n",
       "\n",
       "        team_size_median_7  team_size_mean_7  team_size_median_9  \\\n",
       "611602                 2.0          1.928571                 2.0   \n",
       "\n",
       "        team_size_mean_9  team_size_median_11  team_size_mean_11  \\\n",
       "611602          2.333333                  3.0           2.466667   \n",
       "\n",
       "        team_size_median_12  team_size_mean_12  \n",
       "611602                  3.0           2.533333  \n",
       "\n",
       "[1 rows x 24 columns]"
      ]
     },
     "execution_count": 137,
     "metadata": {},
     "output_type": "execute_result"
    }
   ],
   "source": [
    "credible_authors[credible_authors.author == 'isabella merlo']"
   ]
  },
  {
   "cell_type": "code",
   "execution_count": 138,
   "metadata": {},
   "outputs": [
    {
     "data": {
      "text/html": [
       "<div>\n",
       "<style scoped>\n",
       "    .dataframe tbody tr th:only-of-type {\n",
       "        vertical-align: middle;\n",
       "    }\n",
       "\n",
       "    .dataframe tbody tr th {\n",
       "        vertical-align: top;\n",
       "    }\n",
       "\n",
       "    .dataframe thead th {\n",
       "        text-align: right;\n",
       "    }\n",
       "</style>\n",
       "<table border=\"1\" class=\"dataframe\">\n",
       "  <thead>\n",
       "    <tr style=\"text-align: right;\">\n",
       "      <th></th>\n",
       "      <th>pub_id</th>\n",
       "      <th>year</th>\n",
       "      <th>authors</th>\n",
       "      <th>num_authors</th>\n",
       "      <th>is_alpha</th>\n",
       "      <th>author</th>\n",
       "      <th>start_year</th>\n",
       "    </tr>\n",
       "  </thead>\n",
       "  <tbody>\n",
       "    <tr>\n",
       "      <td>1897898</td>\n",
       "      <td>293d38ad-b073-4a00-8622-e081d5004bc1</td>\n",
       "      <td>1999</td>\n",
       "      <td>isabella merlo,elisa bertino,elena ferrari,gio...</td>\n",
       "      <td>4</td>\n",
       "      <td>False</td>\n",
       "      <td>isabella merlo</td>\n",
       "      <td>1997.0</td>\n",
       "    </tr>\n",
       "    <tr>\n",
       "      <td>1973919</td>\n",
       "      <td>425108e5-7c8f-4aab-8590-b244ba0d637e</td>\n",
       "      <td>2000</td>\n",
       "      <td>isabella merlo,elisa bertino,elena ferrari,sha...</td>\n",
       "      <td>5</td>\n",
       "      <td>False</td>\n",
       "      <td>isabella merlo</td>\n",
       "      <td>1997.0</td>\n",
       "    </tr>\n",
       "  </tbody>\n",
       "</table>\n",
       "</div>"
      ],
      "text/plain": [
       "                                       pub_id  year  \\\n",
       "1897898  293d38ad-b073-4a00-8622-e081d5004bc1  1999   \n",
       "1973919  425108e5-7c8f-4aab-8590-b244ba0d637e  2000   \n",
       "\n",
       "                                                   authors  num_authors  \\\n",
       "1897898  isabella merlo,elisa bertino,elena ferrari,gio...            4   \n",
       "1973919  isabella merlo,elisa bertino,elena ferrari,sha...            5   \n",
       "\n",
       "         is_alpha          author  start_year  \n",
       "1897898     False  isabella merlo      1997.0  \n",
       "1973919     False  isabella merlo      1997.0  "
      ]
     },
     "execution_count": 138,
     "metadata": {},
     "output_type": "execute_result"
    }
   ],
   "source": [
    "author_order[author_order.author == 'isabella merlo']"
   ]
  },
  {
   "cell_type": "code",
   "execution_count": 139,
   "metadata": {},
   "outputs": [
    {
     "data": {
      "text/html": [
       "<div>\n",
       "<style scoped>\n",
       "    .dataframe tbody tr th:only-of-type {\n",
       "        vertical-align: middle;\n",
       "    }\n",
       "\n",
       "    .dataframe tbody tr th {\n",
       "        vertical-align: top;\n",
       "    }\n",
       "\n",
       "    .dataframe thead th {\n",
       "        text-align: right;\n",
       "    }\n",
       "</style>\n",
       "<table border=\"1\" class=\"dataframe\">\n",
       "  <thead>\n",
       "    <tr style=\"text-align: right;\">\n",
       "      <th></th>\n",
       "      <th>pub_id</th>\n",
       "      <th>year</th>\n",
       "      <th>authors</th>\n",
       "      <th>num_authors</th>\n",
       "      <th>is_alpha</th>\n",
       "      <th>author</th>\n",
       "      <th>start_year</th>\n",
       "    </tr>\n",
       "  </thead>\n",
       "  <tbody>\n",
       "    <tr>\n",
       "      <td>2192984</td>\n",
       "      <td>8af3aa3e-04d0-4d2c-8138-c9cdeea6140f</td>\n",
       "      <td>1997</td>\n",
       "      <td>elisa bertino,giovanna guerrini,isabella merlo</td>\n",
       "      <td>3</td>\n",
       "      <td>True</td>\n",
       "      <td>elisa bertino</td>\n",
       "      <td>1983.0</td>\n",
       "    </tr>\n",
       "  </tbody>\n",
       "</table>\n",
       "</div>"
      ],
      "text/plain": [
       "                                       pub_id  year  \\\n",
       "2192984  8af3aa3e-04d0-4d2c-8138-c9cdeea6140f  1997   \n",
       "\n",
       "                                                authors  num_authors  \\\n",
       "2192984  elisa bertino,giovanna guerrini,isabella merlo            3   \n",
       "\n",
       "         is_alpha         author  start_year  \n",
       "2192984      True  elisa bertino      1983.0  "
      ]
     },
     "execution_count": 139,
     "metadata": {},
     "output_type": "execute_result"
    }
   ],
   "source": [
    "author_order[author_order.pub_id == \"8af3aa3e-04d0-4d2c-8138-c9cdeea6140f\"]"
   ]
  },
  {
   "cell_type": "code",
   "execution_count": 140,
   "metadata": {},
   "outputs": [
    {
     "data": {
      "text/html": [
       "<div>\n",
       "<style scoped>\n",
       "    .dataframe tbody tr th:only-of-type {\n",
       "        vertical-align: middle;\n",
       "    }\n",
       "\n",
       "    .dataframe tbody tr th {\n",
       "        vertical-align: top;\n",
       "    }\n",
       "\n",
       "    .dataframe thead th {\n",
       "        text-align: right;\n",
       "    }\n",
       "</style>\n",
       "<table border=\"1\" class=\"dataframe\">\n",
       "  <thead>\n",
       "    <tr style=\"text-align: right;\">\n",
       "      <th></th>\n",
       "      <th>author</th>\n",
       "      <th>year</th>\n",
       "      <th>pub_id</th>\n",
       "    </tr>\n",
       "  </thead>\n",
       "  <tbody>\n",
       "    <tr>\n",
       "      <td>5483719</td>\n",
       "      <td>isabella merlo</td>\n",
       "      <td>1997</td>\n",
       "      <td>8af3aa3e-04d0-4d2c-8138-c9cdeea6140f</td>\n",
       "    </tr>\n",
       "    <tr>\n",
       "      <td>11</td>\n",
       "      <td>isabella merlo</td>\n",
       "      <td>1998</td>\n",
       "      <td>0040b022-1472-4f70-a753-74832df65266</td>\n",
       "    </tr>\n",
       "    <tr>\n",
       "      <td>526127</td>\n",
       "      <td>isabella merlo</td>\n",
       "      <td>1998</td>\n",
       "      <td>bc8d01dc-87d4-4f5e-b8a2-12fbb48826e3</td>\n",
       "    </tr>\n",
       "    <tr>\n",
       "      <td>4573160</td>\n",
       "      <td>isabella merlo</td>\n",
       "      <td>1999</td>\n",
       "      <td>293d38ad-b073-4a00-8622-e081d5004bc1</td>\n",
       "    </tr>\n",
       "    <tr>\n",
       "      <td>9234863</td>\n",
       "      <td>isabella merlo</td>\n",
       "      <td>1999</td>\n",
       "      <td>fb30d987-1948-400b-9a9d-062154b7331a</td>\n",
       "    </tr>\n",
       "    <tr>\n",
       "      <td>9333494</td>\n",
       "      <td>isabella merlo</td>\n",
       "      <td>1999</td>\n",
       "      <td>48373a2e-16f2-4a33-8c96-69404183575c</td>\n",
       "    </tr>\n",
       "    <tr>\n",
       "      <td>1568052</td>\n",
       "      <td>isabella merlo</td>\n",
       "      <td>2000</td>\n",
       "      <td>4f04d31e-22f5-45e4-9bfb-c01f9be87849</td>\n",
       "    </tr>\n",
       "    <tr>\n",
       "      <td>2310340</td>\n",
       "      <td>isabella merlo</td>\n",
       "      <td>2000</td>\n",
       "      <td>9115bb90-d3e9-4d65-88a3-a07337c123f1</td>\n",
       "    </tr>\n",
       "    <tr>\n",
       "      <td>4808204</td>\n",
       "      <td>isabella merlo</td>\n",
       "      <td>2000</td>\n",
       "      <td>425108e5-7c8f-4aab-8590-b244ba0d637e</td>\n",
       "    </tr>\n",
       "    <tr>\n",
       "      <td>3281919</td>\n",
       "      <td>isabella merlo</td>\n",
       "      <td>2001</td>\n",
       "      <td>c772cfc7-2a46-423a-9bbe-735c90e15f9a</td>\n",
       "    </tr>\n",
       "    <tr>\n",
       "      <td>3660000</td>\n",
       "      <td>isabella merlo</td>\n",
       "      <td>2001</td>\n",
       "      <td>e53e8fd6-07de-41dc-b47f-6a2fed7a6a90</td>\n",
       "    </tr>\n",
       "    <tr>\n",
       "      <td>5205061</td>\n",
       "      <td>isabella merlo</td>\n",
       "      <td>2001</td>\n",
       "      <td>6ce7d9a8-a400-4f88-bd4c-56c6d361e7e5</td>\n",
       "    </tr>\n",
       "    <tr>\n",
       "      <td>784421</td>\n",
       "      <td>isabella merlo</td>\n",
       "      <td>2003</td>\n",
       "      <td>11b7af0d-4d77-49cb-9ee2-9557714f8572</td>\n",
       "    </tr>\n",
       "    <tr>\n",
       "      <td>5631704</td>\n",
       "      <td>isabella merlo</td>\n",
       "      <td>2003</td>\n",
       "      <td>9ac5831e-5058-4e8c-880c-b97d3fecea1b</td>\n",
       "    </tr>\n",
       "    <tr>\n",
       "      <td>4585804</td>\n",
       "      <td>isabella merlo</td>\n",
       "      <td>2004</td>\n",
       "      <td>2a8eec94-5fba-4eb1-9e64-91b764de6cfc</td>\n",
       "    </tr>\n",
       "  </tbody>\n",
       "</table>\n",
       "</div>"
      ],
      "text/plain": [
       "                 author  year                                pub_id\n",
       "5483719  isabella merlo  1997  8af3aa3e-04d0-4d2c-8138-c9cdeea6140f\n",
       "11       isabella merlo  1998  0040b022-1472-4f70-a753-74832df65266\n",
       "526127   isabella merlo  1998  bc8d01dc-87d4-4f5e-b8a2-12fbb48826e3\n",
       "4573160  isabella merlo  1999  293d38ad-b073-4a00-8622-e081d5004bc1\n",
       "9234863  isabella merlo  1999  fb30d987-1948-400b-9a9d-062154b7331a\n",
       "9333494  isabella merlo  1999  48373a2e-16f2-4a33-8c96-69404183575c\n",
       "1568052  isabella merlo  2000  4f04d31e-22f5-45e4-9bfb-c01f9be87849\n",
       "2310340  isabella merlo  2000  9115bb90-d3e9-4d65-88a3-a07337c123f1\n",
       "4808204  isabella merlo  2000  425108e5-7c8f-4aab-8590-b244ba0d637e\n",
       "3281919  isabella merlo  2001  c772cfc7-2a46-423a-9bbe-735c90e15f9a\n",
       "3660000  isabella merlo  2001  e53e8fd6-07de-41dc-b47f-6a2fed7a6a90\n",
       "5205061  isabella merlo  2001  6ce7d9a8-a400-4f88-bd4c-56c6d361e7e5\n",
       "784421   isabella merlo  2003  11b7af0d-4d77-49cb-9ee2-9557714f8572\n",
       "5631704  isabella merlo  2003  9ac5831e-5058-4e8c-880c-b97d3fecea1b\n",
       "4585804  isabella merlo  2004  2a8eec94-5fba-4eb1-9e64-91b764de6cfc"
      ]
     },
     "execution_count": 140,
     "metadata": {},
     "output_type": "execute_result"
    }
   ],
   "source": [
    "authorPublicationData[authorPublicationData.author == 'isabella merlo'].sort_values('year')"
   ]
  },
  {
   "cell_type": "code",
   "execution_count": 141,
   "metadata": {},
   "outputs": [
    {
     "data": {
      "text/html": [
       "<div>\n",
       "<style scoped>\n",
       "    .dataframe tbody tr th:only-of-type {\n",
       "        vertical-align: middle;\n",
       "    }\n",
       "\n",
       "    .dataframe tbody tr th {\n",
       "        vertical-align: top;\n",
       "    }\n",
       "\n",
       "    .dataframe thead th {\n",
       "        text-align: right;\n",
       "    }\n",
       "</style>\n",
       "<table border=\"1\" class=\"dataframe\">\n",
       "  <thead>\n",
       "    <tr style=\"text-align: right;\">\n",
       "      <th></th>\n",
       "      <th>author</th>\n",
       "      <th>year_pub</th>\n",
       "      <th>pub_id</th>\n",
       "      <th>id1</th>\n",
       "      <th>id2</th>\n",
       "      <th>year_cit</th>\n",
       "      <th>start_year</th>\n",
       "    </tr>\n",
       "  </thead>\n",
       "  <tbody>\n",
       "    <tr>\n",
       "      <td>4339422</td>\n",
       "      <td>isabella merlo</td>\n",
       "      <td>1999</td>\n",
       "      <td>293d38ad-b073-4a00-8622-e081d5004bc1</td>\n",
       "      <td>11b7af0d-4d77-49cb-9ee2-9557714f8572</td>\n",
       "      <td>293d38ad-b073-4a00-8622-e081d5004bc1</td>\n",
       "      <td>2003.0</td>\n",
       "      <td>1997</td>\n",
       "    </tr>\n",
       "    <tr>\n",
       "      <td>4339423</td>\n",
       "      <td>isabella merlo</td>\n",
       "      <td>1999</td>\n",
       "      <td>293d38ad-b073-4a00-8622-e081d5004bc1</td>\n",
       "      <td>451c163f-04db-40f1-bb47-0d07ed32cee0</td>\n",
       "      <td>293d38ad-b073-4a00-8622-e081d5004bc1</td>\n",
       "      <td>2013.0</td>\n",
       "      <td>1997</td>\n",
       "    </tr>\n",
       "    <tr>\n",
       "      <td>4339424</td>\n",
       "      <td>isabella merlo</td>\n",
       "      <td>1999</td>\n",
       "      <td>293d38ad-b073-4a00-8622-e081d5004bc1</td>\n",
       "      <td>662f065a-7ad5-4759-918e-de9255f71ccf</td>\n",
       "      <td>293d38ad-b073-4a00-8622-e081d5004bc1</td>\n",
       "      <td>2008.0</td>\n",
       "      <td>1997</td>\n",
       "    </tr>\n",
       "    <tr>\n",
       "      <td>4339425</td>\n",
       "      <td>isabella merlo</td>\n",
       "      <td>2000</td>\n",
       "      <td>425108e5-7c8f-4aab-8590-b244ba0d637e</td>\n",
       "      <td>11b7af0d-4d77-49cb-9ee2-9557714f8572</td>\n",
       "      <td>425108e5-7c8f-4aab-8590-b244ba0d637e</td>\n",
       "      <td>2003.0</td>\n",
       "      <td>1997</td>\n",
       "    </tr>\n",
       "    <tr>\n",
       "      <td>4339426</td>\n",
       "      <td>isabella merlo</td>\n",
       "      <td>2000</td>\n",
       "      <td>425108e5-7c8f-4aab-8590-b244ba0d637e</td>\n",
       "      <td>4ae33f48-7421-4e92-99f1-d22cea10c425</td>\n",
       "      <td>425108e5-7c8f-4aab-8590-b244ba0d637e</td>\n",
       "      <td>2004.0</td>\n",
       "      <td>1997</td>\n",
       "    </tr>\n",
       "  </tbody>\n",
       "</table>\n",
       "</div>"
      ],
      "text/plain": [
       "                 author  year_pub                                pub_id  \\\n",
       "4339422  isabella merlo      1999  293d38ad-b073-4a00-8622-e081d5004bc1   \n",
       "4339423  isabella merlo      1999  293d38ad-b073-4a00-8622-e081d5004bc1   \n",
       "4339424  isabella merlo      1999  293d38ad-b073-4a00-8622-e081d5004bc1   \n",
       "4339425  isabella merlo      2000  425108e5-7c8f-4aab-8590-b244ba0d637e   \n",
       "4339426  isabella merlo      2000  425108e5-7c8f-4aab-8590-b244ba0d637e   \n",
       "\n",
       "                                          id1  \\\n",
       "4339422  11b7af0d-4d77-49cb-9ee2-9557714f8572   \n",
       "4339423  451c163f-04db-40f1-bb47-0d07ed32cee0   \n",
       "4339424  662f065a-7ad5-4759-918e-de9255f71ccf   \n",
       "4339425  11b7af0d-4d77-49cb-9ee2-9557714f8572   \n",
       "4339426  4ae33f48-7421-4e92-99f1-d22cea10c425   \n",
       "\n",
       "                                          id2  year_cit  start_year  \n",
       "4339422  293d38ad-b073-4a00-8622-e081d5004bc1    2003.0        1997  \n",
       "4339423  293d38ad-b073-4a00-8622-e081d5004bc1    2013.0        1997  \n",
       "4339424  293d38ad-b073-4a00-8622-e081d5004bc1    2008.0        1997  \n",
       "4339425  425108e5-7c8f-4aab-8590-b244ba0d637e    2003.0        1997  \n",
       "4339426  425108e5-7c8f-4aab-8590-b244ba0d637e    2004.0        1997  "
      ]
     },
     "execution_count": 141,
     "metadata": {},
     "output_type": "execute_result"
    }
   ],
   "source": [
    "combined_first[combined_first.author == 'isabella merlo']"
   ]
  },
  {
   "cell_type": "code",
   "execution_count": 142,
   "metadata": {},
   "outputs": [
    {
     "data": {
      "text/html": [
       "<div>\n",
       "<style scoped>\n",
       "    .dataframe tbody tr th:only-of-type {\n",
       "        vertical-align: middle;\n",
       "    }\n",
       "\n",
       "    .dataframe tbody tr th {\n",
       "        vertical-align: top;\n",
       "    }\n",
       "\n",
       "    .dataframe thead th {\n",
       "        text-align: right;\n",
       "    }\n",
       "</style>\n",
       "<table border=\"1\" class=\"dataframe\">\n",
       "  <thead>\n",
       "    <tr style=\"text-align: right;\">\n",
       "      <th></th>\n",
       "      <th>author</th>\n",
       "      <th>year_pub</th>\n",
       "      <th>pub_id</th>\n",
       "      <th>id1</th>\n",
       "      <th>id2</th>\n",
       "      <th>year_cit</th>\n",
       "      <th>start_year</th>\n",
       "    </tr>\n",
       "  </thead>\n",
       "  <tbody>\n",
       "    <tr>\n",
       "      <td>13853970</td>\n",
       "      <td>isabella merlo</td>\n",
       "      <td>1998</td>\n",
       "      <td>bc8d01dc-87d4-4f5e-b8a2-12fbb48826e3</td>\n",
       "      <td>11b7af0d-4d77-49cb-9ee2-9557714f8572</td>\n",
       "      <td>bc8d01dc-87d4-4f5e-b8a2-12fbb48826e3</td>\n",
       "      <td>2003.0</td>\n",
       "      <td>1997</td>\n",
       "    </tr>\n",
       "    <tr>\n",
       "      <td>13853971</td>\n",
       "      <td>isabella merlo</td>\n",
       "      <td>1998</td>\n",
       "      <td>bc8d01dc-87d4-4f5e-b8a2-12fbb48826e3</td>\n",
       "      <td>3579072e-39e1-4223-b212-b28a7142b54e</td>\n",
       "      <td>bc8d01dc-87d4-4f5e-b8a2-12fbb48826e3</td>\n",
       "      <td>2002.0</td>\n",
       "      <td>1997</td>\n",
       "    </tr>\n",
       "    <tr>\n",
       "      <td>13853972</td>\n",
       "      <td>isabella merlo</td>\n",
       "      <td>1998</td>\n",
       "      <td>bc8d01dc-87d4-4f5e-b8a2-12fbb48826e3</td>\n",
       "      <td>55743ab6-7cd6-47d9-825c-d616b987e9b2</td>\n",
       "      <td>bc8d01dc-87d4-4f5e-b8a2-12fbb48826e3</td>\n",
       "      <td>2006.0</td>\n",
       "      <td>1997</td>\n",
       "    </tr>\n",
       "    <tr>\n",
       "      <td>13853973</td>\n",
       "      <td>isabella merlo</td>\n",
       "      <td>1998</td>\n",
       "      <td>bc8d01dc-87d4-4f5e-b8a2-12fbb48826e3</td>\n",
       "      <td>8d52920f-a7c3-440c-b550-21ae1719f93e</td>\n",
       "      <td>bc8d01dc-87d4-4f5e-b8a2-12fbb48826e3</td>\n",
       "      <td>2001.0</td>\n",
       "      <td>1997</td>\n",
       "    </tr>\n",
       "    <tr>\n",
       "      <td>13853974</td>\n",
       "      <td>isabella merlo</td>\n",
       "      <td>2003</td>\n",
       "      <td>11b7af0d-4d77-49cb-9ee2-9557714f8572</td>\n",
       "      <td>4ae33f48-7421-4e92-99f1-d22cea10c425</td>\n",
       "      <td>11b7af0d-4d77-49cb-9ee2-9557714f8572</td>\n",
       "      <td>2004.0</td>\n",
       "      <td>1997</td>\n",
       "    </tr>\n",
       "    <tr>\n",
       "      <td>13853975</td>\n",
       "      <td>isabella merlo</td>\n",
       "      <td>2003</td>\n",
       "      <td>11b7af0d-4d77-49cb-9ee2-9557714f8572</td>\n",
       "      <td>b825f8bb-1a8b-4566-babf-987f963bf86c</td>\n",
       "      <td>11b7af0d-4d77-49cb-9ee2-9557714f8572</td>\n",
       "      <td>2006.0</td>\n",
       "      <td>1997</td>\n",
       "    </tr>\n",
       "    <tr>\n",
       "      <td>13853976</td>\n",
       "      <td>isabella merlo</td>\n",
       "      <td>2000</td>\n",
       "      <td>4f04d31e-22f5-45e4-9bfb-c01f9be87849</td>\n",
       "      <td>2ff303f0-6d6c-4dd9-a03f-288ef7c0ec89</td>\n",
       "      <td>4f04d31e-22f5-45e4-9bfb-c01f9be87849</td>\n",
       "      <td>2003.0</td>\n",
       "      <td>1997</td>\n",
       "    </tr>\n",
       "    <tr>\n",
       "      <td>13853977</td>\n",
       "      <td>isabella merlo</td>\n",
       "      <td>2000</td>\n",
       "      <td>4f04d31e-22f5-45e4-9bfb-c01f9be87849</td>\n",
       "      <td>9115bb90-d3e9-4d65-88a3-a07337c123f1</td>\n",
       "      <td>4f04d31e-22f5-45e4-9bfb-c01f9be87849</td>\n",
       "      <td>2000.0</td>\n",
       "      <td>1997</td>\n",
       "    </tr>\n",
       "    <tr>\n",
       "      <td>13853978</td>\n",
       "      <td>isabella merlo</td>\n",
       "      <td>2000</td>\n",
       "      <td>4f04d31e-22f5-45e4-9bfb-c01f9be87849</td>\n",
       "      <td>c772cfc7-2a46-423a-9bbe-735c90e15f9a</td>\n",
       "      <td>4f04d31e-22f5-45e4-9bfb-c01f9be87849</td>\n",
       "      <td>2001.0</td>\n",
       "      <td>1997</td>\n",
       "    </tr>\n",
       "    <tr>\n",
       "      <td>13853979</td>\n",
       "      <td>isabella merlo</td>\n",
       "      <td>2000</td>\n",
       "      <td>4f04d31e-22f5-45e4-9bfb-c01f9be87849</td>\n",
       "      <td>c43a9842-c451-4f55-a5d8-98e95adc487c</td>\n",
       "      <td>4f04d31e-22f5-45e4-9bfb-c01f9be87849</td>\n",
       "      <td>2001.0</td>\n",
       "      <td>1997</td>\n",
       "    </tr>\n",
       "    <tr>\n",
       "      <td>13853980</td>\n",
       "      <td>isabella merlo</td>\n",
       "      <td>2001</td>\n",
       "      <td>c772cfc7-2a46-423a-9bbe-735c90e15f9a</td>\n",
       "      <td>9f0c4284-f33c-4e4a-b2ff-7400ddd73761</td>\n",
       "      <td>c772cfc7-2a46-423a-9bbe-735c90e15f9a</td>\n",
       "      <td>2008.0</td>\n",
       "      <td>1997</td>\n",
       "    </tr>\n",
       "    <tr>\n",
       "      <td>13853981</td>\n",
       "      <td>isabella merlo</td>\n",
       "      <td>2001</td>\n",
       "      <td>c772cfc7-2a46-423a-9bbe-735c90e15f9a</td>\n",
       "      <td>c55447c9-107c-4b4b-8fc6-6126b7179020</td>\n",
       "      <td>c772cfc7-2a46-423a-9bbe-735c90e15f9a</td>\n",
       "      <td>2006.0</td>\n",
       "      <td>1997</td>\n",
       "    </tr>\n",
       "    <tr>\n",
       "      <td>13853982</td>\n",
       "      <td>isabella merlo</td>\n",
       "      <td>1999</td>\n",
       "      <td>293d38ad-b073-4a00-8622-e081d5004bc1</td>\n",
       "      <td>11b7af0d-4d77-49cb-9ee2-9557714f8572</td>\n",
       "      <td>293d38ad-b073-4a00-8622-e081d5004bc1</td>\n",
       "      <td>2003.0</td>\n",
       "      <td>1997</td>\n",
       "    </tr>\n",
       "    <tr>\n",
       "      <td>13853983</td>\n",
       "      <td>isabella merlo</td>\n",
       "      <td>1999</td>\n",
       "      <td>293d38ad-b073-4a00-8622-e081d5004bc1</td>\n",
       "      <td>451c163f-04db-40f1-bb47-0d07ed32cee0</td>\n",
       "      <td>293d38ad-b073-4a00-8622-e081d5004bc1</td>\n",
       "      <td>2013.0</td>\n",
       "      <td>1997</td>\n",
       "    </tr>\n",
       "    <tr>\n",
       "      <td>13853984</td>\n",
       "      <td>isabella merlo</td>\n",
       "      <td>1999</td>\n",
       "      <td>293d38ad-b073-4a00-8622-e081d5004bc1</td>\n",
       "      <td>662f065a-7ad5-4759-918e-de9255f71ccf</td>\n",
       "      <td>293d38ad-b073-4a00-8622-e081d5004bc1</td>\n",
       "      <td>2008.0</td>\n",
       "      <td>1997</td>\n",
       "    </tr>\n",
       "    <tr>\n",
       "      <td>13853985</td>\n",
       "      <td>isabella merlo</td>\n",
       "      <td>2000</td>\n",
       "      <td>425108e5-7c8f-4aab-8590-b244ba0d637e</td>\n",
       "      <td>11b7af0d-4d77-49cb-9ee2-9557714f8572</td>\n",
       "      <td>425108e5-7c8f-4aab-8590-b244ba0d637e</td>\n",
       "      <td>2003.0</td>\n",
       "      <td>1997</td>\n",
       "    </tr>\n",
       "    <tr>\n",
       "      <td>13853986</td>\n",
       "      <td>isabella merlo</td>\n",
       "      <td>2000</td>\n",
       "      <td>425108e5-7c8f-4aab-8590-b244ba0d637e</td>\n",
       "      <td>4ae33f48-7421-4e92-99f1-d22cea10c425</td>\n",
       "      <td>425108e5-7c8f-4aab-8590-b244ba0d637e</td>\n",
       "      <td>2004.0</td>\n",
       "      <td>1997</td>\n",
       "    </tr>\n",
       "    <tr>\n",
       "      <td>13853987</td>\n",
       "      <td>isabella merlo</td>\n",
       "      <td>2001</td>\n",
       "      <td>6ce7d9a8-a400-4f88-bd4c-56c6d361e7e5</td>\n",
       "      <td>5d5b3010-da6d-4d0a-b13a-13f514dd5435</td>\n",
       "      <td>6ce7d9a8-a400-4f88-bd4c-56c6d361e7e5</td>\n",
       "      <td>2002.0</td>\n",
       "      <td>1997</td>\n",
       "    </tr>\n",
       "    <tr>\n",
       "      <td>13853988</td>\n",
       "      <td>isabella merlo</td>\n",
       "      <td>2001</td>\n",
       "      <td>6ce7d9a8-a400-4f88-bd4c-56c6d361e7e5</td>\n",
       "      <td>11b7af0d-4d77-49cb-9ee2-9557714f8572</td>\n",
       "      <td>6ce7d9a8-a400-4f88-bd4c-56c6d361e7e5</td>\n",
       "      <td>2003.0</td>\n",
       "      <td>1997</td>\n",
       "    </tr>\n",
       "    <tr>\n",
       "      <td>13853989</td>\n",
       "      <td>isabella merlo</td>\n",
       "      <td>2001</td>\n",
       "      <td>6ce7d9a8-a400-4f88-bd4c-56c6d361e7e5</td>\n",
       "      <td>4ae33f48-7421-4e92-99f1-d22cea10c425</td>\n",
       "      <td>6ce7d9a8-a400-4f88-bd4c-56c6d361e7e5</td>\n",
       "      <td>2004.0</td>\n",
       "      <td>1997</td>\n",
       "    </tr>\n",
       "    <tr>\n",
       "      <td>13853990</td>\n",
       "      <td>isabella merlo</td>\n",
       "      <td>1997</td>\n",
       "      <td>8af3aa3e-04d0-4d2c-8138-c9cdeea6140f</td>\n",
       "      <td>0424b016-406d-4031-ac5d-6af8f3f1496f</td>\n",
       "      <td>8af3aa3e-04d0-4d2c-8138-c9cdeea6140f</td>\n",
       "      <td>1998.0</td>\n",
       "      <td>1997</td>\n",
       "    </tr>\n",
       "    <tr>\n",
       "      <td>13853991</td>\n",
       "      <td>isabella merlo</td>\n",
       "      <td>1999</td>\n",
       "      <td>fb30d987-1948-400b-9a9d-062154b7331a</td>\n",
       "      <td>a209206d-6f63-4af6-b80d-a44ff883c44b</td>\n",
       "      <td>fb30d987-1948-400b-9a9d-062154b7331a</td>\n",
       "      <td>2000.0</td>\n",
       "      <td>1997</td>\n",
       "    </tr>\n",
       "    <tr>\n",
       "      <td>13853992</td>\n",
       "      <td>isabella merlo</td>\n",
       "      <td>1999</td>\n",
       "      <td>fb30d987-1948-400b-9a9d-062154b7331a</td>\n",
       "      <td>2cc612a7-f609-42d4-9873-1e3b28704a9a</td>\n",
       "      <td>fb30d987-1948-400b-9a9d-062154b7331a</td>\n",
       "      <td>2001.0</td>\n",
       "      <td>1997</td>\n",
       "    </tr>\n",
       "    <tr>\n",
       "      <td>13853993</td>\n",
       "      <td>isabella merlo</td>\n",
       "      <td>1999</td>\n",
       "      <td>fb30d987-1948-400b-9a9d-062154b7331a</td>\n",
       "      <td>718aa480-9dfe-4fe6-891c-f4507c9602b2</td>\n",
       "      <td>fb30d987-1948-400b-9a9d-062154b7331a</td>\n",
       "      <td>2008.0</td>\n",
       "      <td>1997</td>\n",
       "    </tr>\n",
       "    <tr>\n",
       "      <td>13853994</td>\n",
       "      <td>isabella merlo</td>\n",
       "      <td>1999</td>\n",
       "      <td>fb30d987-1948-400b-9a9d-062154b7331a</td>\n",
       "      <td>937a8669-fa87-4f80-b928-c6efcb2c3f0e</td>\n",
       "      <td>fb30d987-1948-400b-9a9d-062154b7331a</td>\n",
       "      <td>1999.0</td>\n",
       "      <td>1997</td>\n",
       "    </tr>\n",
       "    <tr>\n",
       "      <td>13853995</td>\n",
       "      <td>isabella merlo</td>\n",
       "      <td>1999</td>\n",
       "      <td>fb30d987-1948-400b-9a9d-062154b7331a</td>\n",
       "      <td>a0d15405-859a-4734-9a87-8325c1ca50f5</td>\n",
       "      <td>fb30d987-1948-400b-9a9d-062154b7331a</td>\n",
       "      <td>2001.0</td>\n",
       "      <td>1997</td>\n",
       "    </tr>\n",
       "    <tr>\n",
       "      <td>13853996</td>\n",
       "      <td>isabella merlo</td>\n",
       "      <td>1999</td>\n",
       "      <td>fb30d987-1948-400b-9a9d-062154b7331a</td>\n",
       "      <td>c772cfc7-2a46-423a-9bbe-735c90e15f9a</td>\n",
       "      <td>fb30d987-1948-400b-9a9d-062154b7331a</td>\n",
       "      <td>2001.0</td>\n",
       "      <td>1997</td>\n",
       "    </tr>\n",
       "  </tbody>\n",
       "</table>\n",
       "</div>"
      ],
      "text/plain": [
       "                  author  year_pub                                pub_id  \\\n",
       "13853970  isabella merlo      1998  bc8d01dc-87d4-4f5e-b8a2-12fbb48826e3   \n",
       "13853971  isabella merlo      1998  bc8d01dc-87d4-4f5e-b8a2-12fbb48826e3   \n",
       "13853972  isabella merlo      1998  bc8d01dc-87d4-4f5e-b8a2-12fbb48826e3   \n",
       "13853973  isabella merlo      1998  bc8d01dc-87d4-4f5e-b8a2-12fbb48826e3   \n",
       "13853974  isabella merlo      2003  11b7af0d-4d77-49cb-9ee2-9557714f8572   \n",
       "13853975  isabella merlo      2003  11b7af0d-4d77-49cb-9ee2-9557714f8572   \n",
       "13853976  isabella merlo      2000  4f04d31e-22f5-45e4-9bfb-c01f9be87849   \n",
       "13853977  isabella merlo      2000  4f04d31e-22f5-45e4-9bfb-c01f9be87849   \n",
       "13853978  isabella merlo      2000  4f04d31e-22f5-45e4-9bfb-c01f9be87849   \n",
       "13853979  isabella merlo      2000  4f04d31e-22f5-45e4-9bfb-c01f9be87849   \n",
       "13853980  isabella merlo      2001  c772cfc7-2a46-423a-9bbe-735c90e15f9a   \n",
       "13853981  isabella merlo      2001  c772cfc7-2a46-423a-9bbe-735c90e15f9a   \n",
       "13853982  isabella merlo      1999  293d38ad-b073-4a00-8622-e081d5004bc1   \n",
       "13853983  isabella merlo      1999  293d38ad-b073-4a00-8622-e081d5004bc1   \n",
       "13853984  isabella merlo      1999  293d38ad-b073-4a00-8622-e081d5004bc1   \n",
       "13853985  isabella merlo      2000  425108e5-7c8f-4aab-8590-b244ba0d637e   \n",
       "13853986  isabella merlo      2000  425108e5-7c8f-4aab-8590-b244ba0d637e   \n",
       "13853987  isabella merlo      2001  6ce7d9a8-a400-4f88-bd4c-56c6d361e7e5   \n",
       "13853988  isabella merlo      2001  6ce7d9a8-a400-4f88-bd4c-56c6d361e7e5   \n",
       "13853989  isabella merlo      2001  6ce7d9a8-a400-4f88-bd4c-56c6d361e7e5   \n",
       "13853990  isabella merlo      1997  8af3aa3e-04d0-4d2c-8138-c9cdeea6140f   \n",
       "13853991  isabella merlo      1999  fb30d987-1948-400b-9a9d-062154b7331a   \n",
       "13853992  isabella merlo      1999  fb30d987-1948-400b-9a9d-062154b7331a   \n",
       "13853993  isabella merlo      1999  fb30d987-1948-400b-9a9d-062154b7331a   \n",
       "13853994  isabella merlo      1999  fb30d987-1948-400b-9a9d-062154b7331a   \n",
       "13853995  isabella merlo      1999  fb30d987-1948-400b-9a9d-062154b7331a   \n",
       "13853996  isabella merlo      1999  fb30d987-1948-400b-9a9d-062154b7331a   \n",
       "\n",
       "                                           id1  \\\n",
       "13853970  11b7af0d-4d77-49cb-9ee2-9557714f8572   \n",
       "13853971  3579072e-39e1-4223-b212-b28a7142b54e   \n",
       "13853972  55743ab6-7cd6-47d9-825c-d616b987e9b2   \n",
       "13853973  8d52920f-a7c3-440c-b550-21ae1719f93e   \n",
       "13853974  4ae33f48-7421-4e92-99f1-d22cea10c425   \n",
       "13853975  b825f8bb-1a8b-4566-babf-987f963bf86c   \n",
       "13853976  2ff303f0-6d6c-4dd9-a03f-288ef7c0ec89   \n",
       "13853977  9115bb90-d3e9-4d65-88a3-a07337c123f1   \n",
       "13853978  c772cfc7-2a46-423a-9bbe-735c90e15f9a   \n",
       "13853979  c43a9842-c451-4f55-a5d8-98e95adc487c   \n",
       "13853980  9f0c4284-f33c-4e4a-b2ff-7400ddd73761   \n",
       "13853981  c55447c9-107c-4b4b-8fc6-6126b7179020   \n",
       "13853982  11b7af0d-4d77-49cb-9ee2-9557714f8572   \n",
       "13853983  451c163f-04db-40f1-bb47-0d07ed32cee0   \n",
       "13853984  662f065a-7ad5-4759-918e-de9255f71ccf   \n",
       "13853985  11b7af0d-4d77-49cb-9ee2-9557714f8572   \n",
       "13853986  4ae33f48-7421-4e92-99f1-d22cea10c425   \n",
       "13853987  5d5b3010-da6d-4d0a-b13a-13f514dd5435   \n",
       "13853988  11b7af0d-4d77-49cb-9ee2-9557714f8572   \n",
       "13853989  4ae33f48-7421-4e92-99f1-d22cea10c425   \n",
       "13853990  0424b016-406d-4031-ac5d-6af8f3f1496f   \n",
       "13853991  a209206d-6f63-4af6-b80d-a44ff883c44b   \n",
       "13853992  2cc612a7-f609-42d4-9873-1e3b28704a9a   \n",
       "13853993  718aa480-9dfe-4fe6-891c-f4507c9602b2   \n",
       "13853994  937a8669-fa87-4f80-b928-c6efcb2c3f0e   \n",
       "13853995  a0d15405-859a-4734-9a87-8325c1ca50f5   \n",
       "13853996  c772cfc7-2a46-423a-9bbe-735c90e15f9a   \n",
       "\n",
       "                                           id2  year_cit  start_year  \n",
       "13853970  bc8d01dc-87d4-4f5e-b8a2-12fbb48826e3    2003.0        1997  \n",
       "13853971  bc8d01dc-87d4-4f5e-b8a2-12fbb48826e3    2002.0        1997  \n",
       "13853972  bc8d01dc-87d4-4f5e-b8a2-12fbb48826e3    2006.0        1997  \n",
       "13853973  bc8d01dc-87d4-4f5e-b8a2-12fbb48826e3    2001.0        1997  \n",
       "13853974  11b7af0d-4d77-49cb-9ee2-9557714f8572    2004.0        1997  \n",
       "13853975  11b7af0d-4d77-49cb-9ee2-9557714f8572    2006.0        1997  \n",
       "13853976  4f04d31e-22f5-45e4-9bfb-c01f9be87849    2003.0        1997  \n",
       "13853977  4f04d31e-22f5-45e4-9bfb-c01f9be87849    2000.0        1997  \n",
       "13853978  4f04d31e-22f5-45e4-9bfb-c01f9be87849    2001.0        1997  \n",
       "13853979  4f04d31e-22f5-45e4-9bfb-c01f9be87849    2001.0        1997  \n",
       "13853980  c772cfc7-2a46-423a-9bbe-735c90e15f9a    2008.0        1997  \n",
       "13853981  c772cfc7-2a46-423a-9bbe-735c90e15f9a    2006.0        1997  \n",
       "13853982  293d38ad-b073-4a00-8622-e081d5004bc1    2003.0        1997  \n",
       "13853983  293d38ad-b073-4a00-8622-e081d5004bc1    2013.0        1997  \n",
       "13853984  293d38ad-b073-4a00-8622-e081d5004bc1    2008.0        1997  \n",
       "13853985  425108e5-7c8f-4aab-8590-b244ba0d637e    2003.0        1997  \n",
       "13853986  425108e5-7c8f-4aab-8590-b244ba0d637e    2004.0        1997  \n",
       "13853987  6ce7d9a8-a400-4f88-bd4c-56c6d361e7e5    2002.0        1997  \n",
       "13853988  6ce7d9a8-a400-4f88-bd4c-56c6d361e7e5    2003.0        1997  \n",
       "13853989  6ce7d9a8-a400-4f88-bd4c-56c6d361e7e5    2004.0        1997  \n",
       "13853990  8af3aa3e-04d0-4d2c-8138-c9cdeea6140f    1998.0        1997  \n",
       "13853991  fb30d987-1948-400b-9a9d-062154b7331a    2000.0        1997  \n",
       "13853992  fb30d987-1948-400b-9a9d-062154b7331a    2001.0        1997  \n",
       "13853993  fb30d987-1948-400b-9a9d-062154b7331a    2008.0        1997  \n",
       "13853994  fb30d987-1948-400b-9a9d-062154b7331a    1999.0        1997  \n",
       "13853995  fb30d987-1948-400b-9a9d-062154b7331a    2001.0        1997  \n",
       "13853996  fb30d987-1948-400b-9a9d-062154b7331a    2001.0        1997  "
      ]
     },
     "execution_count": 142,
     "metadata": {},
     "output_type": "execute_result"
    }
   ],
   "source": [
    "combined[combined.author == 'isabella merlo']"
   ]
  },
  {
   "cell_type": "code",
   "execution_count": 143,
   "metadata": {},
   "outputs": [
    {
     "data": {
      "text/html": [
       "<div>\n",
       "<style scoped>\n",
       "    .dataframe tbody tr th:only-of-type {\n",
       "        vertical-align: middle;\n",
       "    }\n",
       "\n",
       "    .dataframe tbody tr th {\n",
       "        vertical-align: top;\n",
       "    }\n",
       "\n",
       "    .dataframe thead th {\n",
       "        text-align: right;\n",
       "    }\n",
       "</style>\n",
       "<table border=\"1\" class=\"dataframe\">\n",
       "  <thead>\n",
       "    <tr style=\"text-align: right;\">\n",
       "      <th></th>\n",
       "      <th>author</th>\n",
       "      <th>year</th>\n",
       "      <th>num_pub</th>\n",
       "    </tr>\n",
       "  </thead>\n",
       "  <tbody>\n",
       "    <tr>\n",
       "      <td>785362</td>\n",
       "      <td>isabella merlo</td>\n",
       "      <td>1999</td>\n",
       "      <td>1</td>\n",
       "    </tr>\n",
       "    <tr>\n",
       "      <td>785363</td>\n",
       "      <td>isabella merlo</td>\n",
       "      <td>2000</td>\n",
       "      <td>1</td>\n",
       "    </tr>\n",
       "  </tbody>\n",
       "</table>\n",
       "</div>"
      ],
      "text/plain": [
       "                author  year  num_pub\n",
       "785362  isabella merlo  1999        1\n",
       "785363  isabella merlo  2000        1"
      ]
     },
     "execution_count": 143,
     "metadata": {},
     "output_type": "execute_result"
    }
   ],
   "source": [
    "author_year_numPub_first[author_year_numPub_first.author == 'isabella merlo']"
   ]
  },
  {
   "cell_type": "markdown",
   "metadata": {},
   "source": [
    "### Early, mid and late papers analysis - citations"
   ]
  },
  {
   "cell_type": "code",
   "execution_count": null,
   "metadata": {},
   "outputs": [],
   "source": [
    "# %%time\n",
    "# publish_years = [[0,3], [3,6], [6,9], [0,1], [3,4], [6,7]]\n",
    "publish_years = [[i, i+1] for i in range(0,15)]\n",
    "for start,end in publish_years:\n",
    "    first_3 = combined[(combined.year_pub >= combined.start_year + start) & (combined.year_pub < combined.start_year + end)]\n",
    "    first_3 = first_3.groupby(['author', 'year_cit']).agg({'id1': 'count'}).reset_index()\n",
    "    first_3 = first_3.rename({'year_cit' : 'year', 'id1': f'ec_cit_{start}_{end}'}, axis=1)\n",
    "    counts = counts.merge(first_3, on=['author', 'year'], how='left')\n",
    "    counts[f'ec_cit_{start}_{end}'] = counts[f'ec_cit_{start}_{end}'].fillna(0)"
   ]
  },
  {
   "cell_type": "code",
   "execution_count": null,
   "metadata": {},
   "outputs": [],
   "source": [
    "# calculate cumulative out of absolute\n",
    "for start,end in publish_years:\n",
    "    counts[f'ec_cit_{start}_{end}_cum'] = counts.sort_values(['author', 'career_age']).groupby('author')[f'ec_cit_{start}_{end}'].transform(pd.Series.cumsum)"
   ]
  },
  {
   "cell_type": "code",
   "execution_count": null,
   "metadata": {},
   "outputs": [],
   "source": [
    "# calc gini for absolute => 7\n",
    "author_gini_early_work = counts.groupby(['start_year', 'career_age']).agg(\n",
    "    {f'ec_cit_{start}_{end}': gini for start,end in publish_years}).reset_index()"
   ]
  },
  {
   "cell_type": "code",
   "execution_count": null,
   "metadata": {},
   "outputs": [],
   "source": [
    "author_gini_early_work.head()"
   ]
  },
  {
   "cell_type": "code",
   "execution_count": null,
   "metadata": {},
   "outputs": [],
   "source": [
    "# calc gini for cumulative => 7\n",
    "author_gini_early_work_cum = counts.groupby(['start_year', 'career_age']).agg(\n",
    "    {f'ec_cit_{start}_{end}_cum': gini for start,end in publish_years}).reset_index()"
   ]
  },
  {
   "cell_type": "code",
   "execution_count": null,
   "metadata": {},
   "outputs": [],
   "source": [
    "author_gini_early_work_cum.head()"
   ]
  },
  {
   "cell_type": "code",
   "execution_count": null,
   "metadata": {},
   "outputs": [],
   "source": [
    "counts.columns"
   ]
  },
  {
   "cell_type": "code",
   "execution_count": null,
   "metadata": {},
   "outputs": [],
   "source": [
    "counts.to_csv(f'derived-data/citations_window_{WINDOW_SIZE}.csv', index=None)"
   ]
  },
  {
   "cell_type": "markdown",
   "metadata": {},
   "source": [
    "### Venues"
   ]
  },
  {
   "cell_type": "code",
   "execution_count": null,
   "metadata": {},
   "outputs": [],
   "source": [
    "early_career_venues = early_career_publications.merge(publication_venues_rank[[\n",
    "    'pub_id', 'h5_index', 'ranking', 'deciles', 'quantiles']], on='pub_id', how='inner')"
   ]
  },
  {
   "cell_type": "code",
   "execution_count": null,
   "metadata": {},
   "outputs": [],
   "source": [
    "early_career_venues.author.nunique()"
   ]
  },
  {
   "cell_type": "code",
   "execution_count": null,
   "metadata": {},
   "outputs": [],
   "source": [
    "EARLY_CAREER_LEN_LIST"
   ]
  },
  {
   "cell_type": "code",
   "execution_count": null,
   "metadata": {},
   "outputs": [],
   "source": [
    "# TODO including the MAX and MIN values as missing. Check this. also what to do with ranking?\n",
    "def quantile_binary(quant): \n",
    "    return quant <= 3\n",
    "\n",
    "for EARLY_CAREER in EARLY_CAREER_LEN_LIST:\n",
    "#     EARLY_CAREER = 3\n",
    "    early_career_venues_ec = early_career_venues[early_career_venues.year < early_career_venues.start_year + EARLY_CAREER]\n",
    "    early_career_venues_gr = early_career_venues_ec.groupby('author').agg({\n",
    "        'h5_index': 'max',\n",
    "    #     'ranking': 'min',\n",
    "        'deciles': 'min',\n",
    "        'quantiles': 'min'}).rename(columns={\n",
    "        'h5_index': f'h5_index_max_{EARLY_CAREER}', \n",
    "    #     'ranking': f'ranking_{EARLY_CAREER}',\n",
    "        'deciles': f'deciles_min_{EARLY_CAREER}',\n",
    "        'quantiles': f'quantiles_min_{EARLY_CAREER}'})\n",
    "    early_career_venues_gr = early_career_venues_gr.reset_index()\n",
    "    credible_authors = credible_authors.merge(early_career_venues_gr, on='author', how='left')\n",
    "\n",
    "    credible_authors[f'h5_index_max_{EARLY_CAREER}'] = credible_authors[f'h5_index_max_{EARLY_CAREER}'].fillna(0)\n",
    "    credible_authors[f'deciles_min_{EARLY_CAREER}'] = credible_authors[f'deciles_min_{EARLY_CAREER}'].fillna(10)\n",
    "    credible_authors[f'quantiles_min_{EARLY_CAREER}'] = credible_authors[f'quantiles_min_{EARLY_CAREER}'].fillna(4)\n",
    "    \n",
    "    # CLAUDIA this should be TRUE if the author has AT LEAST one paper that exceeds the threshold\n",
    "    credible_authors[f'quantiles_bin_{EARLY_CAREER}'] = credible_authors[f'quantiles_min_{EARLY_CAREER}'].apply(quantile_binary)\n",
    "    \n",
    "    # credible_authors[f'ranking_{EARLY_CAREER}'] = credible_authors[f'ranking_{EARLY_CAREER}'].fillna(0)"
   ]
  },
  {
   "cell_type": "markdown",
   "metadata": {},
   "source": [
    "### Early degree"
   ]
  },
  {
   "cell_type": "code",
   "execution_count": null,
   "metadata": {},
   "outputs": [],
   "source": [
    "# TODO: Can this be based on combined_df? Do we loose some info here"
   ]
  },
  {
   "cell_type": "code",
   "execution_count": null,
   "metadata": {},
   "outputs": [],
   "source": [
    "for EARLY_CAREER in EARLY_CAREER_LEN_LIST:\n",
    "    combined_early_degree = combined[(combined.year_pub < combined.start_year + EARLY_CAREER)]\n",
    "\n",
    "    combined_early_degree = combined_early_degree.drop_duplicates(subset=['author', 'pub_id'])\n",
    "\n",
    "    combined_early_degree = combined_early_degree[['author', 'pub_id']]\n",
    "\n",
    "    # authors_per_paper = combined_early_degree.groupby('pub_id')['author'].count().reset_index()\n",
    "    # authors_per_paper.rename({\"author\":\"early_career_degree\"}, axis='columns', inplace=True)\n",
    "\n",
    "    combined_early_degree = combined_early_degree.merge(combined, on='pub_id')\n",
    "\n",
    "    combined_early_degree = combined_early_degree[combined_early_degree.author_x != combined_early_degree.author_y]\n",
    "    combined_early_degree = combined_early_degree.drop_duplicates(subset=['author_x', 'author_y'])\n",
    "\n",
    "    combined_early_degree = combined_early_degree.groupby('author_x')['author_y'].count().reset_index()\n",
    "\n",
    "    combined_early_degree.rename({\"author_x\":\"author\", \"author_y\": f\"early_career_degree_{EARLY_CAREER}\"}, \n",
    "                                 axis='columns', inplace=True)\n",
    "\n",
    "    credible_authors = credible_authors.merge(combined_early_degree, on='author', how='left')\n",
    "    credible_authors[f\"early_career_degree_{EARLY_CAREER}\"] = credible_authors[f\"early_career_degree_{EARLY_CAREER}\"].fillna(0)"
   ]
  },
  {
   "cell_type": "code",
   "execution_count": null,
   "metadata": {},
   "outputs": [],
   "source": [
    "combined_early_degree.sample(10)"
   ]
  },
  {
   "cell_type": "markdown",
   "metadata": {},
   "source": [
    "### Early quality"
   ]
  },
  {
   "cell_type": "code",
   "execution_count": 124,
   "metadata": {},
   "outputs": [],
   "source": [
    "for EARLY_CAREER in EARLY_CAREER_LEN_LIST:\n",
    "    combined_early_quality = combined[(combined.year_pub < combined.start_year + EARLY_CAREER) &\n",
    "             (combined.year_cit < combined.start_year + SUCCESS_CUTOFF)]\n",
    "    \n",
    "    author_order_early = author_order[(author_order.year < author_order.start_year + EARLY_CAREER)]\n",
    "    early_career_quality_first = combined_early_quality.loc[combined_early_quality['pub_id'].isin(author_order_early['pub_id'])]\n",
    "    \n",
    "    early_career_quality = combined_early_quality.groupby('author')['id1'].count()\n",
    "    early_career_quality_first = early_career_quality_first.groupby('author')['id1'].count()\n",
    "\n",
    "    early_career_quality = early_career_quality.rename(f'early_career_qual_{EARLY_CAREER}').reset_index()\n",
    "    early_career_quality_first = early_career_quality_first.rename(f'early_career_qual_first_{EARLY_CAREER}').reset_index()\n",
    "    \n",
    "    credible_authors = credible_authors.merge(early_career_quality, on='author', how='left')\n",
    "    credible_authors = credible_authors.merge(early_career_quality_first, on='author', how='left')\n",
    "    \n",
    "    credible_authors[f'early_career_qual_{EARLY_CAREER}'] = credible_authors[f'early_career_qual_{EARLY_CAREER}'].fillna(0)\n",
    "    credible_authors[f'early_career_qual_first_{EARLY_CAREER}'] = credible_authors[\n",
    "        f'early_career_qual_first_{EARLY_CAREER}'].fillna(0)"
   ]
  },
  {
   "cell_type": "markdown",
   "metadata": {},
   "source": [
    "### Early recognition"
   ]
  },
  {
   "cell_type": "code",
   "execution_count": 125,
   "metadata": {},
   "outputs": [],
   "source": [
    "for EARLY_CAREER in EARLY_CAREER_LEN_LIST:\n",
    "    for RECOGNITION_CUT in RECOGNITION_CUT_OFF_LIST:\n",
    "        if RECOGNITION_CUT != EARLY_CAREER: continue\n",
    "        early_career_recognition = combined[(combined.year_pub < combined.start_year + EARLY_CAREER) &\n",
    "                 (combined.year_cit < combined.start_year + RECOGNITION_CUT)]\n",
    "        early_career_recognition = early_career_recognition.groupby('author')['id1'].count()\n",
    "        col_name = f'early_career_recognition_EC{EARLY_CAREER}_RC{RECOGNITION_CUT}'\n",
    "        early_career_recognition = early_career_recognition.rename(col_name)\n",
    "        early_career_recognition = early_career_recognition.reset_index()\n",
    "        credible_authors = credible_authors.merge(early_career_recognition, on='author', how='left')\n",
    "        credible_authors[col_name] = credible_authors[col_name].fillna(0)"
   ]
  },
  {
   "cell_type": "code",
   "execution_count": 126,
   "metadata": {},
   "outputs": [
    {
     "data": {
      "text/plain": [
       "Index(['author', 'start_year', 'end_year', 'total_num_pub', 'career_length',\n",
       "       'max_absence-0-15', 'avg_absence-0-15', 'dropped_after_10', 'gender',\n",
       "       'ec_first_auth_3', 'ec_first_auth_5', 'ec_first_auth_7',\n",
       "       'ec_first_auth_9', 'ec_first_auth_11', 'ec_first_auth_12',\n",
       "       'team_size_median_3', 'team_size_mean_3', 'team_size_median_5',\n",
       "       'team_size_mean_5', 'team_size_median_7', 'team_size_mean_7',\n",
       "       'team_size_median_9', 'team_size_mean_9', 'team_size_median_11',\n",
       "       'team_size_mean_11', 'team_size_median_12', 'team_size_mean_12',\n",
       "       'h5_index_max_3', 'deciles_min_3', 'quantiles_min_3', 'quantiles_bin_3',\n",
       "       'h5_index_max_5', 'deciles_min_5', 'quantiles_min_5', 'quantiles_bin_5',\n",
       "       'h5_index_max_7', 'deciles_min_7', 'quantiles_min_7', 'quantiles_bin_7',\n",
       "       'h5_index_max_9', 'deciles_min_9', 'quantiles_min_9', 'quantiles_bin_9',\n",
       "       'h5_index_max_11', 'deciles_min_11', 'quantiles_min_11',\n",
       "       'quantiles_bin_11', 'h5_index_max_12', 'deciles_min_12',\n",
       "       'quantiles_min_12', 'quantiles_bin_12', 'early_career_degree_3',\n",
       "       'early_career_degree_5', 'early_career_degree_7',\n",
       "       'early_career_degree_9', 'early_career_degree_11',\n",
       "       'early_career_degree_12', 'early_career_qual_3',\n",
       "       'early_career_qual_first_3', 'early_career_qual_5',\n",
       "       'early_career_qual_first_5', 'early_career_qual_7',\n",
       "       'early_career_qual_first_7', 'early_career_qual_9',\n",
       "       'early_career_qual_first_9', 'early_career_qual_11',\n",
       "       'early_career_qual_first_11', 'early_career_qual_12',\n",
       "       'early_career_qual_first_12', 'early_career_recognition_EC3_RC3',\n",
       "       'early_career_recognition_EC5_RC5', 'early_career_recognition_EC7_RC7',\n",
       "       'early_career_recognition_EC9_RC9',\n",
       "       'early_career_recognition_EC11_RC11',\n",
       "       'early_career_recognition_EC12_RC12'],\n",
       "      dtype='object')"
      ]
     },
     "execution_count": 126,
     "metadata": {},
     "output_type": "execute_result"
    }
   ],
   "source": [
    "credible_authors.columns"
   ]
  },
  {
   "cell_type": "markdown",
   "metadata": {},
   "source": [
    "### Final success"
   ]
  },
  {
   "cell_type": "code",
   "execution_count": 127,
   "metadata": {},
   "outputs": [],
   "source": [
    "combined_succ_after_15y = combined[combined.year_cit < combined.start_year + SUCCESS_CUTOFF]"
   ]
  },
  {
   "cell_type": "code",
   "execution_count": 128,
   "metadata": {},
   "outputs": [],
   "source": [
    "succ_after_15y = combined_succ_after_15y.groupby('author')['id1'].count()\n",
    "\n",
    "succ_after_15y = succ_after_15y.rename('succ_after_15y')\n",
    "succ_after_15y = succ_after_15y.reset_index()\n",
    "credible_authors = credible_authors.merge(succ_after_15y, on='author', how='left')\n",
    "credible_authors['succ_after_15y'] = credible_authors['succ_after_15y'].fillna(0)"
   ]
  },
  {
   "cell_type": "markdown",
   "metadata": {},
   "source": [
    "### H index"
   ]
  },
  {
   "cell_type": "code",
   "execution_count": 129,
   "metadata": {},
   "outputs": [],
   "source": [
    "def h_index(citations):\n",
    "    if len(citations) == 0: return 0\n",
    "    if len(citations) == 1: return 1\n",
    "    citations = sorted(citations, reverse=True)\n",
    "    h_ind = 0\n",
    "    for i, elem in enumerate(citations):\n",
    "        if i+1 > elem:\n",
    "            return i\n",
    "        h_ind = i+1\n",
    "    return h_ind"
   ]
  },
  {
   "cell_type": "code",
   "execution_count": 130,
   "metadata": {},
   "outputs": [],
   "source": [
    "for param in [*EARLY_CAREER_LEN_LIST, SUCCESS_CUTOFF]:\n",
    "\n",
    "    combined_h_index = combined[combined.year_cit < combined.start_year + param]\n",
    "\n",
    "    combined_h_index = combined_h_index.groupby(['author', 'pub_id'])['id1'].count()\n",
    "\n",
    "    combined_h_index = combined_h_index.reset_index()\n",
    "\n",
    "    combined_h_index = combined_h_index.groupby('author')['id1'].apply(lambda x: h_index(x.values))\n",
    "\n",
    "    combined_h_index = combined_h_index.rename(f'h-index_{param}')\n",
    "\n",
    "    credible_authors = credible_authors.merge(combined_h_index.reset_index(), on='author', how='left')\n",
    "    credible_authors[f'h-index_{param}'] = credible_authors[f'h-index_{param}'].fillna(0)"
   ]
  },
  {
   "cell_type": "code",
   "execution_count": 131,
   "metadata": {},
   "outputs": [],
   "source": [
    "# TODO: test h-index"
   ]
  },
  {
   "cell_type": "code",
   "execution_count": 132,
   "metadata": {},
   "outputs": [],
   "source": [
    "# %%time\n",
    "for EARLY_CAREER in EARLY_CAREER_LEN_LIST:\n",
    "    early_career_publications_reduced = early_career_publications[early_career_publications.year <= \n",
    "                                                       early_career_publications.start_year + EARLY_CAREER]\n",
    "    early_career_publications_ = early_career_publications_reduced.groupby('author').agg({'pub_id': 'nunique'}).reset_index()\n",
    "    early_career_publications_ = early_career_publications_.rename({'pub_id':f'early_career_prod_{EARLY_CAREER}'}, axis='columns')\n",
    "    credible_authors = credible_authors.merge(early_career_publications_, on='author', how='left')"
   ]
  },
  {
   "cell_type": "markdown",
   "metadata": {},
   "source": [
    "### Early Coauthor max h-index"
   ]
  },
  {
   "cell_type": "code",
   "execution_count": 133,
   "metadata": {},
   "outputs": [],
   "source": [
    "# for each paper in EC, calculate the h-index of all its authors\n",
    "# This requires extra work\n",
    "# We want to calculate the h index of coauthors at the time of publishing the paper\n",
    "# for this we need an extra lookup table, where we store \n",
    "# all papers - authors - h-index at the time\n",
    "# \n",
    "\n",
    "# final_citation_count_from_ids - we merge pub data with cit data, but \"inner\"\n",
    "# this means we will not find papers with 0 citations in this df\n",
    "# these papers dont impact the h-index, so this is okay"
   ]
  },
  {
   "cell_type": "code",
   "execution_count": 134,
   "metadata": {},
   "outputs": [],
   "source": [
    "def author_h_index_in_year_X(authors, year_x):\n",
    "#     print(year_x)\n",
    "    combined_h = combined[(combined.year_cit < year_x) & (combined.author.isin(authors))]\n",
    "    combined_h = combined_h.groupby(['author', 'pub_id']).agg({'id1': 'count'}).reset_index()\n",
    "    author_hind_at_year = combined_h.groupby('author').agg({'id1': h_index}).reset_index()\n",
    "    author_hind_at_year['year_pub'] = year_x\n",
    "    author_hind_at_year = author_hind_at_year.rename({'id1': 'h-index'}, axis='columns')\n",
    "    return author_hind_at_year"
   ]
  },
  {
   "cell_type": "code",
   "execution_count": 135,
   "metadata": {},
   "outputs": [],
   "source": [
    "def author_h_index(author, year_x):\n",
    "    combined_h = combined[(combined.year_cit < year_x) & (combined.author == author)]\n",
    "    citations_count_list = combined_h.groupby(['pub_id']).agg({'id1': 'count'})['id1'].values\n",
    "    return h_index(citations_count_list)"
   ]
  },
  {
   "cell_type": "code",
   "execution_count": 136,
   "metadata": {},
   "outputs": [],
   "source": [
    "# %%time\n",
    "papers_authors = combined[['author', 'year_pub']].drop_duplicates(subset=['author', 'year_pub'])"
   ]
  },
  {
   "cell_type": "code",
   "execution_count": null,
   "metadata": {},
   "outputs": [],
   "source": [
    "# %%time\n",
    "all_authors_hind = pd.DataFrame(columns=['author', 'h-index', 'year_pub'])\n",
    "all_authors_hind['year_pub'] = all_authors_hind['year_pub'].astype('int64')\n",
    "for year_x in papers_authors.year_pub.unique():\n",
    "    authors = papers_authors[papers_authors.year_pub == year_x].author.values\n",
    "    author_hind_at_year = author_h_index_in_year_X(authors, year_x)\n",
    "    all_authors_hind = all_authors_hind.append(author_hind_at_year)"
   ]
  },
  {
   "cell_type": "code",
   "execution_count": null,
   "metadata": {},
   "outputs": [],
   "source": [
    "papers_authors = papers_authors.merge(all_authors_hind, how='left')"
   ]
  },
  {
   "cell_type": "code",
   "execution_count": null,
   "metadata": {},
   "outputs": [],
   "source": [
    "papers_authors['h-index'] = papers_authors['h-index'].fillna(0)"
   ]
  },
  {
   "cell_type": "code",
   "execution_count": null,
   "metadata": {},
   "outputs": [],
   "source": [
    "for EARLY_CAREER in EARLY_CAREER_LEN_LIST:\n",
    "    combined_early_coauthor = combined[(combined.year_pub < combined.start_year + EARLY_CAREER)]\n",
    "\n",
    "    combined_early_coauthor = combined_early_coauthor.drop_duplicates(subset=['author', 'pub_id'])\n",
    "\n",
    "    combined_early_coauthor = combined_early_coauthor[['author', 'pub_id']]\n",
    "\n",
    "    # merging with combined_df not to remove coauthors that are not in their early career\n",
    "    combined_early_coauthor = combined_early_coauthor.merge(combined, on='pub_id')\n",
    "\n",
    "    combined_early_coauthor = combined_early_coauthor[combined_early_coauthor.author_x != combined_early_coauthor.author_y]\n",
    "    combined_early_coauthor = combined_early_coauthor.drop_duplicates(subset=['author_x', 'author_y'])\n",
    "\n",
    "    # papers_authors contains h-index of authors in different publishing years\n",
    "    combined_early_coauthor = combined_early_coauthor.merge(papers_authors, left_on=['author_y', 'year_pub'],\n",
    "                                                            right_on=['author', 'year_pub'])\n",
    "\n",
    "    combined_early_coauthor = combined_early_coauthor.groupby('author_x')['h-index'].max().reset_index()\n",
    "\n",
    "    combined_early_coauthor.rename({\"author_x\":\"author\", \"h-index\": f\"early_career_coauthor_max_hindex_{EARLY_CAREER}\"}, \n",
    "                                 axis='columns', inplace=True)\n",
    "\n",
    "    combined_early_coauthor = combined_early_coauthor[['author', f\"early_career_coauthor_max_hindex_{EARLY_CAREER}\"]]\n",
    "\n",
    "    credible_authors = credible_authors.merge(combined_early_coauthor, on='author', how='left')\n",
    "    credible_authors[f\"early_career_coauthor_max_hindex_{EARLY_CAREER}\"] = credible_authors[f\"early_career_coauthor_max_hindex_{EARLY_CAREER}\"].fillna(0)"
   ]
  },
  {
   "cell_type": "code",
   "execution_count": null,
   "metadata": {},
   "outputs": [],
   "source": [
    "credible_authors.columns"
   ]
  },
  {
   "cell_type": "markdown",
   "metadata": {},
   "source": [
    "### Early Coauthor max citations"
   ]
  },
  {
   "cell_type": "code",
   "execution_count": null,
   "metadata": {},
   "outputs": [],
   "source": [
    "# for EARLY_CAREER in EARLY_CAREER_LEN_LIST:\n",
    "#     combined_early_coauthor = combined_df[(combined_df.year_pub < combined_df.start_year + EARLY_CAREER)]\n",
    "\n",
    "#     combined_early_coauthor = combined_early_coauthor.drop_duplicates(subset=['author', 'pub_id'])\n",
    "\n",
    "#     combined_early_coauthor = combined_early_coauthor[['author', 'pub_id']]\n",
    "\n",
    "#     combined_early_coauthor = combined_early_coauthor.merge(combined_df, on='pub_id')\n",
    "\n",
    "#     combined_early_coauthor = combined_early_coauthor[combined_early_coauthor.author_x != combined_early_coauthor.author_y]\n",
    "#     combined_early_coauthor = combined_early_coauthor.drop_duplicates(subset=['author_x', 'author_y'])\n",
    "\n",
    "#     combined_early_coauthor = combined_early_coauthor.merge(credible_authors[['author', 'succ_after_15y']], left_on='author_y', right_on='author')\n",
    "#     combined_early_coauthor = combined_early_coauthor.groupby('author_x')['succ_after_15y'].max().reset_index()\n",
    "\n",
    "#     combined_early_coauthor.rename({\"author_x\":\"author\", \"succ_after_15y\": f\"early_career_coauthor_max_cit_{EARLY_CAREER}\"}, \n",
    "#                                  axis='columns', inplace=True)\n",
    "\n",
    "#     combined_early_coauthor = combined_early_coauthor[['author', f\"early_career_coauthor_max_cit_{EARLY_CAREER}\"]]\n",
    "\n",
    "#     credible_authors = credible_authors.merge(combined_early_coauthor, on='author', how='left')\n",
    "#     credible_authors[f\"early_career_coauthor_max_cit_{EARLY_CAREER}\"] = credible_authors[f\"early_career_coauthor_max_cit_{EARLY_CAREER}\"].fillna(0)"
   ]
  },
  {
   "cell_type": "code",
   "execution_count": null,
   "metadata": {},
   "outputs": [],
   "source": [
    "# drop\n",
    "def drop_list_cols(drop_list):\n",
    "    credible_authors.drop(drop_list, axis=1, inplace=True)\n",
    "def drop_col(df, cols):\n",
    "    df.drop(cols, axis='columns', inplace=True)"
   ]
  },
  {
   "cell_type": "markdown",
   "metadata": {},
   "source": [
    "## Save"
   ]
  },
  {
   "cell_type": "code",
   "execution_count": null,
   "metadata": {},
   "outputs": [],
   "source": [
    "# credible_authors.to_csv('derived-data/authors-scientific-atleast-'+str(CAREER_LENGTH)+'-year-extended.csv',\n",
    "#                     index=False, encoding='utf-8')\n",
    "credible_authors[credible_authors.start_year >= START_YEAR].to_csv('derived-data/authors-scientific-extended.csv',\n",
    "                    index=False, encoding='utf-8')"
   ]
  },
  {
   "cell_type": "code",
   "execution_count": null,
   "metadata": {},
   "outputs": [],
   "source": [
    "#backup\n",
    "# credible_authors[credible_authors.start_year >= START_YEAR].to_csv('derived-data/authors-scientific-extended_all.csv',\n",
    "#                     index=False, encoding='utf-8')"
   ]
  },
  {
   "cell_type": "code",
   "execution_count": 148,
   "metadata": {},
   "outputs": [
    {
     "data": {
      "text/plain": [
       "Index(['author', 'start_year', 'end_year', 'total_num_pub', 'career_length',\n",
       "       'max_absence-0-15', 'avg_absence-0-15', 'dropped_after_10', 'gender',\n",
       "       'ec_first_auth_3', 'ec_first_auth_5', 'ec_first_auth_7',\n",
       "       'ec_first_auth_9', 'ec_first_auth_11', 'ec_first_auth_12',\n",
       "       'team_size_median_3', 'team_size_mean_3', 'team_size_median_5',\n",
       "       'team_size_mean_5', 'team_size_median_7', 'team_size_mean_7',\n",
       "       'team_size_median_9', 'team_size_mean_9', 'team_size_median_11',\n",
       "       'team_size_mean_11', 'team_size_median_12', 'team_size_mean_12',\n",
       "       'h5_index_max_3', 'deciles_min_3', 'quantiles_min_3', 'quantiles_bin_3',\n",
       "       'h5_index_max_5', 'deciles_min_5', 'quantiles_min_5', 'quantiles_bin_5',\n",
       "       'h5_index_max_7', 'deciles_min_7', 'quantiles_min_7', 'quantiles_bin_7',\n",
       "       'h5_index_max_9', 'deciles_min_9', 'quantiles_min_9', 'quantiles_bin_9',\n",
       "       'h5_index_max_11', 'deciles_min_11', 'quantiles_min_11',\n",
       "       'quantiles_bin_11', 'h5_index_max_12', 'deciles_min_12',\n",
       "       'quantiles_min_12', 'quantiles_bin_12', 'early_career_degree_3',\n",
       "       'early_career_degree_5', 'early_career_degree_7',\n",
       "       'early_career_degree_9', 'early_career_degree_11',\n",
       "       'early_career_degree_12', 'early_career_qual_3',\n",
       "       'early_career_qual_first_3', 'early_career_qual_5',\n",
       "       'early_career_qual_first_5', 'early_career_qual_7',\n",
       "       'early_career_qual_first_7', 'early_career_qual_9',\n",
       "       'early_career_qual_first_9', 'early_career_qual_11',\n",
       "       'early_career_qual_first_11', 'early_career_qual_12',\n",
       "       'early_career_qual_first_12', 'early_career_recognition_EC3_RC3',\n",
       "       'early_career_recognition_EC5_RC5', 'early_career_recognition_EC7_RC7',\n",
       "       'early_career_recognition_EC9_RC9',\n",
       "       'early_career_recognition_EC11_RC11',\n",
       "       'early_career_recognition_EC12_RC12', 'succ_after_15y', 'h-index_3',\n",
       "       'h-index_5', 'h-index_7', 'h-index_9', 'h-index_11', 'h-index_12',\n",
       "       'h-index_15', 'early_career_prod_3', 'early_career_prod_5',\n",
       "       'early_career_prod_7', 'early_career_prod_9', 'early_career_prod_11',\n",
       "       'early_career_prod_12', 'early_career_coauthor_max_hindex_3',\n",
       "       'early_career_coauthor_max_hindex_5',\n",
       "       'early_career_coauthor_max_hindex_7',\n",
       "       'early_career_coauthor_max_hindex_9',\n",
       "       'early_career_coauthor_max_hindex_11',\n",
       "       'early_career_coauthor_max_hindex_12'],\n",
       "      dtype='object')"
      ]
     },
     "execution_count": 148,
     "metadata": {},
     "output_type": "execute_result"
    }
   ],
   "source": [
    "credible_authors.columns"
   ]
  },
  {
   "cell_type": "code",
   "execution_count": 243,
   "metadata": {},
   "outputs": [
    {
     "data": {
      "text/plain": [
       "Index(['author', 'year_pub', 'pub_id', 'id1', 'id2', 'year_cit', 'start_year'], dtype='object')"
      ]
     },
     "execution_count": 243,
     "metadata": {},
     "output_type": "execute_result"
    }
   ],
   "source": [
    "combined.columns"
   ]
  },
  {
   "cell_type": "code",
   "execution_count": 254,
   "metadata": {},
   "outputs": [
    {
     "data": {
      "text/plain": [
       "13404"
      ]
     },
     "execution_count": 254,
     "metadata": {},
     "output_type": "execute_result"
    }
   ],
   "source": [
    "combined[(combined.start_year == 1994)]['author'].nunique()"
   ]
  },
  {
   "cell_type": "code",
   "execution_count": 249,
   "metadata": {},
   "outputs": [],
   "source": [
    "auths_1994 = combined[(combined.start_year == 1994) & \n",
    "        (combined.year_cit == 1994)]['author'].unique()"
   ]
  },
  {
   "cell_type": "code",
   "execution_count": 253,
   "metadata": {},
   "outputs": [
    {
     "data": {
      "text/plain": [
       "776"
      ]
     },
     "execution_count": 253,
     "metadata": {},
     "output_type": "execute_result"
    }
   ],
   "source": [
    "len(auths_1994)"
   ]
  },
  {
   "cell_type": "code",
   "execution_count": 251,
   "metadata": {},
   "outputs": [
    {
     "data": {
      "text/plain": [
       "(26240257, 7)"
      ]
     },
     "execution_count": 251,
     "metadata": {},
     "output_type": "execute_result"
    }
   ],
   "source": [
    "combined.shape"
   ]
  },
  {
   "cell_type": "code",
   "execution_count": 247,
   "metadata": {},
   "outputs": [
    {
     "data": {
      "text/plain": [
       "573"
      ]
     },
     "execution_count": 247,
     "metadata": {},
     "output_type": "execute_result"
    }
   ],
   "source": [
    "combined[(combined.start_year == 1994) & \n",
    "        (combined.year_cit == 1994)]['pub_id'].nunique()"
   ]
  },
  {
   "cell_type": "code",
   "execution_count": 235,
   "metadata": {},
   "outputs": [],
   "source": [
    "joseph_1999 = combined[(combined.author == 'joseph mitola iii') &\n",
    "         (combined.year_pub == 1999)]"
   ]
  },
  {
   "cell_type": "code",
   "execution_count": 238,
   "metadata": {},
   "outputs": [
    {
     "data": {
      "text/html": [
       "<div>\n",
       "<style scoped>\n",
       "    .dataframe tbody tr th:only-of-type {\n",
       "        vertical-align: middle;\n",
       "    }\n",
       "\n",
       "    .dataframe tbody tr th {\n",
       "        vertical-align: top;\n",
       "    }\n",
       "\n",
       "    .dataframe thead th {\n",
       "        text-align: right;\n",
       "    }\n",
       "</style>\n",
       "<table border=\"1\" class=\"dataframe\">\n",
       "  <thead>\n",
       "    <tr style=\"text-align: right;\">\n",
       "      <th></th>\n",
       "      <th>author</th>\n",
       "      <th>year</th>\n",
       "      <th>pub_id</th>\n",
       "    </tr>\n",
       "  </thead>\n",
       "  <tbody>\n",
       "    <tr>\n",
       "      <th>2833697</th>\n",
       "      <td>thierry turletti</td>\n",
       "      <td>1999</td>\n",
       "      <td>a43af2b6-93e5-480f-9678-8394483315a8</td>\n",
       "    </tr>\n",
       "    <tr>\n",
       "      <th>2833698</th>\n",
       "      <td>joseph mitola iii</td>\n",
       "      <td>1999</td>\n",
       "      <td>a43af2b6-93e5-480f-9678-8394483315a8</td>\n",
       "    </tr>\n",
       "    <tr>\n",
       "      <th>2833699</th>\n",
       "      <td>vanu g. bose</td>\n",
       "      <td>1999</td>\n",
       "      <td>a43af2b6-93e5-480f-9678-8394483315a8</td>\n",
       "    </tr>\n",
       "    <tr>\n",
       "      <th>2833700</th>\n",
       "      <td>barry m. leiner</td>\n",
       "      <td>1999</td>\n",
       "      <td>a43af2b6-93e5-480f-9678-8394483315a8</td>\n",
       "    </tr>\n",
       "    <tr>\n",
       "      <th>2833701</th>\n",
       "      <td>david l. tennenhouse</td>\n",
       "      <td>1999</td>\n",
       "      <td>a43af2b6-93e5-480f-9678-8394483315a8</td>\n",
       "    </tr>\n",
       "  </tbody>\n",
       "</table>\n",
       "</div>"
      ],
      "text/plain": [
       "                       author  year                                pub_id\n",
       "2833697      thierry turletti  1999  a43af2b6-93e5-480f-9678-8394483315a8\n",
       "2833698     joseph mitola iii  1999  a43af2b6-93e5-480f-9678-8394483315a8\n",
       "2833699          vanu g. bose  1999  a43af2b6-93e5-480f-9678-8394483315a8\n",
       "2833700       barry m. leiner  1999  a43af2b6-93e5-480f-9678-8394483315a8\n",
       "2833701  david l. tennenhouse  1999  a43af2b6-93e5-480f-9678-8394483315a8"
      ]
     },
     "execution_count": 238,
     "metadata": {},
     "output_type": "execute_result"
    }
   ],
   "source": [
    "authorPublicationData[authorPublicationData.pub_id == 'a43af2b6-93e5-480f-9678-8394483315a8']"
   ]
  },
  {
   "cell_type": "code",
   "execution_count": 242,
   "metadata": {
    "scrolled": false
   },
   "outputs": [
    {
     "data": {
      "text/html": [
       "<div>\n",
       "<style scoped>\n",
       "    .dataframe tbody tr th:only-of-type {\n",
       "        vertical-align: middle;\n",
       "    }\n",
       "\n",
       "    .dataframe tbody tr th {\n",
       "        vertical-align: top;\n",
       "    }\n",
       "\n",
       "    .dataframe thead th {\n",
       "        text-align: right;\n",
       "    }\n",
       "</style>\n",
       "<table border=\"1\" class=\"dataframe\">\n",
       "  <thead>\n",
       "    <tr style=\"text-align: right;\">\n",
       "      <th></th>\n",
       "      <th>id1</th>\n",
       "    </tr>\n",
       "    <tr>\n",
       "      <th>pub_id</th>\n",
       "      <th></th>\n",
       "    </tr>\n",
       "  </thead>\n",
       "  <tbody>\n",
       "    <tr>\n",
       "      <th>2d6c7bfb-8ba1-4d19-a2f8-ec0ba40fa7d5</th>\n",
       "      <td>2</td>\n",
       "    </tr>\n",
       "    <tr>\n",
       "      <th>f1e74152-3f7c-4c44-b628-cdf47a17587f</th>\n",
       "      <td>121</td>\n",
       "    </tr>\n",
       "  </tbody>\n",
       "</table>\n",
       "</div>"
      ],
      "text/plain": [
       "                                      id1\n",
       "pub_id                                   \n",
       "2d6c7bfb-8ba1-4d19-a2f8-ec0ba40fa7d5    2\n",
       "f1e74152-3f7c-4c44-b628-cdf47a17587f  121"
      ]
     },
     "execution_count": 242,
     "metadata": {},
     "output_type": "execute_result"
    }
   ],
   "source": [
    "joseph_1999[joseph_1999.year_cit == 2010].groupby('pub_id').agg({'id1': 'count'})"
   ]
  }
 ],
 "metadata": {
  "jupytext": {
   "formats": "ipynb,py:light"
  },
  "kernelspec": {
   "display_name": "Python 3",
   "language": "python",
   "name": "python3"
  },
  "language_info": {
   "codemirror_mode": {
    "name": "ipython",
    "version": 3
   },
   "file_extension": ".py",
   "mimetype": "text/x-python",
   "name": "python",
   "nbconvert_exporter": "python",
   "pygments_lexer": "ipython3",
   "version": "3.7.3"
  },
  "pycharm": {
   "stem_cell": {
    "cell_type": "raw",
    "metadata": {
     "collapsed": false
    },
    "source": []
   }
  },
  "toc": {
   "base_numbering": 1,
   "nav_menu": {},
   "number_sections": true,
   "sideBar": true,
   "skip_h1_title": false,
   "title_cell": "Table of Contents",
   "title_sidebar": "Contents",
   "toc_cell": false,
   "toc_position": {},
   "toc_section_display": true,
   "toc_window_display": false
  }
 },
 "nbformat": 4,
 "nbformat_minor": 2
}
