{
 "cells": [
  {
   "cell_type": "code",
   "execution_count": 131,
   "metadata": {},
   "outputs": [],
   "source": [
    "import pandas as pd\n",
    "import matplotlib.pyplot as plt\n",
    "import numpy as np"
   ]
  },
  {
   "cell_type": "code",
   "execution_count": 132,
   "metadata": {},
   "outputs": [],
   "source": [
    "# Specify the first year we consider in our analysis\n",
    "START_YEAR = 1970\n",
    "# Specify career len to export file for\n",
    "CAREER_LENGTH = 10\n",
    "# Specify how long is the early career. Impacts which papers we take into account for early productivity and quality\n",
    "EARLY_CAREER_LEN = 3\n",
    "# For early career worak, when do we stop counting citations. Impacts recognition\n",
    "RECOGNITION_CUT_OFF = 5\n",
    "# Success after 15 years. Impacts when we stop counting citations\n",
    "SUCCESS_CUTOFF = 15"
   ]
  },
  {
   "cell_type": "markdown",
   "metadata": {},
   "source": [
    "## 1. Load data"
   ]
  },
  {
   "cell_type": "code",
   "execution_count": 133,
   "metadata": {},
   "outputs": [
    {
     "name": "stdout",
     "output_type": "stream",
     "text": [
      "(9471668, 3)\n"
     ]
    },
    {
     "data": {
      "text/html": [
       "<div>\n",
       "<style scoped>\n",
       "    .dataframe tbody tr th:only-of-type {\n",
       "        vertical-align: middle;\n",
       "    }\n",
       "\n",
       "    .dataframe tbody tr th {\n",
       "        vertical-align: top;\n",
       "    }\n",
       "\n",
       "    .dataframe thead th {\n",
       "        text-align: right;\n",
       "    }\n",
       "</style>\n",
       "<table border=\"1\" class=\"dataframe\">\n",
       "  <thead>\n",
       "    <tr style=\"text-align: right;\">\n",
       "      <th></th>\n",
       "      <th>author</th>\n",
       "      <th>year</th>\n",
       "      <th>pub_id</th>\n",
       "    </tr>\n",
       "  </thead>\n",
       "  <tbody>\n",
       "    <tr>\n",
       "      <th>0</th>\n",
       "      <td>graeme earl</td>\n",
       "      <td>2011</td>\n",
       "      <td>001c58d3-26ad-46b3-ab3a-c1e557d16821</td>\n",
       "    </tr>\n",
       "    <tr>\n",
       "      <th>1</th>\n",
       "      <td>gareth beale</td>\n",
       "      <td>2011</td>\n",
       "      <td>001c58d3-26ad-46b3-ab3a-c1e557d16821</td>\n",
       "    </tr>\n",
       "    <tr>\n",
       "      <th>2</th>\n",
       "      <td>m. nasser</td>\n",
       "      <td>2009</td>\n",
       "      <td>001c8744-73c4-4b04-9364-22d31a10dbf1</td>\n",
       "    </tr>\n",
       "    <tr>\n",
       "      <th>3</th>\n",
       "      <td>faisal zaman</td>\n",
       "      <td>2009</td>\n",
       "      <td>001c8744-73c4-4b04-9364-22d31a10dbf1</td>\n",
       "    </tr>\n",
       "    <tr>\n",
       "      <th>4</th>\n",
       "      <td>altaf hossain</td>\n",
       "      <td>2009</td>\n",
       "      <td>001c8744-73c4-4b04-9364-22d31a10dbf1</td>\n",
       "    </tr>\n",
       "  </tbody>\n",
       "</table>\n",
       "</div>"
      ],
      "text/plain": [
       "          author  year                                pub_id\n",
       "0    graeme earl  2011  001c58d3-26ad-46b3-ab3a-c1e557d16821\n",
       "1   gareth beale  2011  001c58d3-26ad-46b3-ab3a-c1e557d16821\n",
       "2      m. nasser  2009  001c8744-73c4-4b04-9364-22d31a10dbf1\n",
       "3   faisal zaman  2009  001c8744-73c4-4b04-9364-22d31a10dbf1\n",
       "4  altaf hossain  2009  001c8744-73c4-4b04-9364-22d31a10dbf1"
      ]
     },
     "execution_count": 133,
     "metadata": {},
     "output_type": "execute_result"
    }
   ],
   "source": [
    "authorPublicationData = pd.read_csv('./data/author_publications_2017_asiansAsNone.txt')\n",
    "print(authorPublicationData.shape)\n",
    "authorPublicationData.head()"
   ]
  },
  {
   "cell_type": "code",
   "execution_count": 134,
   "metadata": {},
   "outputs": [
    {
     "data": {
      "text/html": [
       "<div>\n",
       "<style scoped>\n",
       "    .dataframe tbody tr th:only-of-type {\n",
       "        vertical-align: middle;\n",
       "    }\n",
       "\n",
       "    .dataframe tbody tr th {\n",
       "        vertical-align: top;\n",
       "    }\n",
       "\n",
       "    .dataframe thead th {\n",
       "        text-align: right;\n",
       "    }\n",
       "</style>\n",
       "<table border=\"1\" class=\"dataframe\">\n",
       "  <thead>\n",
       "    <tr style=\"text-align: right;\">\n",
       "      <th></th>\n",
       "      <th>id1</th>\n",
       "      <th>id2</th>\n",
       "      <th>year</th>\n",
       "    </tr>\n",
       "  </thead>\n",
       "  <tbody>\n",
       "    <tr>\n",
       "      <th>0</th>\n",
       "      <td>1fcd3d7f-1bb7-4347-914e-e23adb1e1a59</td>\n",
       "      <td>5065f1e8-0e2e-4e20-9866-2b5067d321dc</td>\n",
       "      <td>1990</td>\n",
       "    </tr>\n",
       "    <tr>\n",
       "      <th>1</th>\n",
       "      <td>1fcd3d7f-1bb7-4347-914e-e23adb1e1a59</td>\n",
       "      <td>cf862fd8-9204-4e44-9639-2d067c247539</td>\n",
       "      <td>1990</td>\n",
       "    </tr>\n",
       "    <tr>\n",
       "      <th>2</th>\n",
       "      <td>1fcd3d7f-1bb7-4347-914e-e23adb1e1a59</td>\n",
       "      <td>f19127f8-3d3a-4a9e-9580-c1d3e1e05141</td>\n",
       "      <td>1990</td>\n",
       "    </tr>\n",
       "    <tr>\n",
       "      <th>3</th>\n",
       "      <td>03b1d66a-b1fc-4d99-9904-9405695cc2ae</td>\n",
       "      <td>09991de0-c00f-49cf-a88a-6515943b0843</td>\n",
       "      <td>1994</td>\n",
       "    </tr>\n",
       "    <tr>\n",
       "      <th>4</th>\n",
       "      <td>03b1d66a-b1fc-4d99-9904-9405695cc2ae</td>\n",
       "      <td>156173f6-35eb-44f6-bc75-7c205153b6f0</td>\n",
       "      <td>1994</td>\n",
       "    </tr>\n",
       "  </tbody>\n",
       "</table>\n",
       "</div>"
      ],
      "text/plain": [
       "                                    id1                                   id2  \\\n",
       "0  1fcd3d7f-1bb7-4347-914e-e23adb1e1a59  5065f1e8-0e2e-4e20-9866-2b5067d321dc   \n",
       "1  1fcd3d7f-1bb7-4347-914e-e23adb1e1a59  cf862fd8-9204-4e44-9639-2d067c247539   \n",
       "2  1fcd3d7f-1bb7-4347-914e-e23adb1e1a59  f19127f8-3d3a-4a9e-9580-c1d3e1e05141   \n",
       "3  03b1d66a-b1fc-4d99-9904-9405695cc2ae  09991de0-c00f-49cf-a88a-6515943b0843   \n",
       "4  03b1d66a-b1fc-4d99-9904-9405695cc2ae  156173f6-35eb-44f6-bc75-7c205153b6f0   \n",
       "\n",
       "   year  \n",
       "0  1990  \n",
       "1  1990  \n",
       "2  1990  \n",
       "3  1994  \n",
       "4  1994  "
      ]
     },
     "execution_count": 134,
     "metadata": {},
     "output_type": "execute_result"
    }
   ],
   "source": [
    "authorCitationsData = pd.read_csv('./data/citations_2017_asiansAsNone.txt')\n",
    "authorCitationsData.head()"
   ]
  },
  {
   "cell_type": "code",
   "execution_count": 135,
   "metadata": {},
   "outputs": [
    {
     "name": "stdout",
     "output_type": "stream",
     "text": [
      "Authors# -  1704919\n",
      "Years# -  83\n",
      "Publications# -  3078230\n"
     ]
    }
   ],
   "source": [
    "print('Authors# - ',authorPublicationData['author'].nunique())\n",
    "print('Years# - ',authorPublicationData['year'].nunique())\n",
    "print('Publications# - ',authorPublicationData['pub_id'].nunique())"
   ]
  },
  {
   "cell_type": "markdown",
   "metadata": {},
   "source": [
    "## 2. Criteria for author removal"
   ]
  },
  {
   "cell_type": "code",
   "execution_count": 136,
   "metadata": {},
   "outputs": [],
   "source": [
    "groupByAuthor = authorPublicationData.groupby(['author'])\n",
    "\n",
    "groupByAuthorMinYearData = groupByAuthor['year'].min()\n",
    "groupByAuthorMaxYearData = groupByAuthor['year'].max()\n",
    "groupByAuthorCountPublicationsData = groupByAuthor['pub_id'].count()"
   ]
  },
  {
   "cell_type": "code",
   "execution_count": 137,
   "metadata": {},
   "outputs": [
    {
     "name": "stdout",
     "output_type": "stream",
     "text": [
      "Total rows -                 (1704919, 4)\n",
      "After removing all < 1970 -  (1699352, 4)\n",
      "After removing duplicates -  (1699352, 4)\n",
      "After droping na -           (1699352, 4)\n"
     ]
    },
    {
     "data": {
      "text/html": [
       "<div>\n",
       "<style scoped>\n",
       "    .dataframe tbody tr th:only-of-type {\n",
       "        vertical-align: middle;\n",
       "    }\n",
       "\n",
       "    .dataframe tbody tr th {\n",
       "        vertical-align: top;\n",
       "    }\n",
       "\n",
       "    .dataframe thead th {\n",
       "        text-align: right;\n",
       "    }\n",
       "</style>\n",
       "<table border=\"1\" class=\"dataframe\">\n",
       "  <thead>\n",
       "    <tr style=\"text-align: right;\">\n",
       "      <th></th>\n",
       "      <th>author</th>\n",
       "      <th>start_year</th>\n",
       "      <th>end_year</th>\n",
       "      <th>num_pub</th>\n",
       "    </tr>\n",
       "  </thead>\n",
       "  <tbody>\n",
       "    <tr>\n",
       "      <th>0</th>\n",
       "      <td>'maseka lesaoana</td>\n",
       "      <td>2001</td>\n",
       "      <td>2015</td>\n",
       "      <td>2</td>\n",
       "    </tr>\n",
       "    <tr>\n",
       "      <th>1</th>\n",
       "      <td>(max) zong-ming cheng</td>\n",
       "      <td>2009</td>\n",
       "      <td>2011</td>\n",
       "      <td>2</td>\n",
       "    </tr>\n",
       "    <tr>\n",
       "      <th>2</th>\n",
       "      <td>(zhou) bryan bai</td>\n",
       "      <td>2011</td>\n",
       "      <td>2012</td>\n",
       "      <td>2</td>\n",
       "    </tr>\n",
       "    <tr>\n",
       "      <th>3</th>\n",
       "      <td>a aart blokhuis</td>\n",
       "      <td>1992</td>\n",
       "      <td>2005</td>\n",
       "      <td>2</td>\n",
       "    </tr>\n",
       "    <tr>\n",
       "      <th>4</th>\n",
       "      <td>a ahrabian</td>\n",
       "      <td>2017</td>\n",
       "      <td>2017</td>\n",
       "      <td>1</td>\n",
       "    </tr>\n",
       "  </tbody>\n",
       "</table>\n",
       "</div>"
      ],
      "text/plain": [
       "                  author  start_year  end_year  num_pub\n",
       "0       'maseka lesaoana        2001      2015        2\n",
       "1  (max) zong-ming cheng        2009      2011        2\n",
       "2       (zhou) bryan bai        2011      2012        2\n",
       "3        a aart blokhuis        1992      2005        2\n",
       "4             a ahrabian        2017      2017        1"
      ]
     },
     "execution_count": 137,
     "metadata": {},
     "output_type": "execute_result"
    }
   ],
   "source": [
    "authorGroupedData = groupByAuthorMinYearData.to_frame(name='start_year')\n",
    "authorGroupedData['end_year'] = groupByAuthorMaxYearData\n",
    "authorGroupedData['num_pub'] = groupByAuthorCountPublicationsData\n",
    "authorGroupedData = authorGroupedData.reset_index()\n",
    "print('Total rows -                ', authorGroupedData.shape)\n",
    "\n",
    "authorGroupedData = authorGroupedData[authorGroupedData[\"start_year\"] >= START_YEAR]\n",
    "print('After removing all < 1970 - ', authorGroupedData.shape)\n",
    "\n",
    "authorGroupedData = authorGroupedData.drop_duplicates()\n",
    "print('After removing duplicates - ', authorGroupedData.shape)\n",
    "\n",
    "authorGroupedData = authorGroupedData.dropna(how='any')\n",
    "print(\"After droping na -          \", authorGroupedData.shape)\n",
    "\n",
    "authorGroupedData.head()"
   ]
  },
  {
   "cell_type": "code",
   "execution_count": 138,
   "metadata": {},
   "outputs": [],
   "source": [
    "# Adding one here to have career length be at least one. So 3 years career means year1, year2, year3.\n",
    "authorGroupedData[\"career_length\"] = authorGroupedData['end_year'] - authorGroupedData['start_year'] + 1"
   ]
  },
  {
   "cell_type": "markdown",
   "metadata": {},
   "source": [
    "### Remove authors by career length"
   ]
  },
  {
   "cell_type": "code",
   "execution_count": 139,
   "metadata": {},
   "outputs": [],
   "source": [
    "authorGroupedData = authorGroupedData[authorGroupedData['career_length'] >= CAREER_LENGTH]"
   ]
  },
  {
   "cell_type": "markdown",
   "metadata": {},
   "source": [
    "### Career length distribution"
   ]
  },
  {
   "cell_type": "code",
   "execution_count": 140,
   "metadata": {},
   "outputs": [
    {
     "data": {
      "image/png": "[encoded data removed]",
      "text/plain": [
       "<matplotlib.figure.Figure at 0x7f9b41c40c50>"
      ]
     },
     "metadata": {},
     "output_type": "display_data"
    }
   ],
   "source": [
    "careerLengthDist = authorGroupedData.groupby([\"career_length\"])['author'].count()\n",
    "temp = careerLengthDist.cumsum()  \n",
    "ax = temp.plot(grid=True, title='Cumulative histogram of Career Length by authors')\n",
    "ax.set_xlabel('Career Length')\n",
    "ax.set_ylabel('No. of Authors')\n",
    "\n",
    "plt.show()"
   ]
  },
  {
   "cell_type": "code",
   "execution_count": 141,
   "metadata": {},
   "outputs": [],
   "source": [
    "credible_authors = authorGroupedData"
   ]
  },
  {
   "cell_type": "markdown",
   "metadata": {},
   "source": [
    "### Label authors inactive for 10 years"
   ]
  },
  {
   "cell_type": "code",
   "execution_count": 142,
   "metadata": {},
   "outputs": [],
   "source": [
    "combined_pubs = authorPublicationData.merge(credible_authors[['author', 'start_year']], on='author', how='inner')\n",
    "\n",
    "print(combined_pubs.head())"
   ]
  },
  {
   "cell_type": "code",
   "execution_count": 143,
   "metadata": {},
   "outputs": [],
   "source": [
    "combined_pubs_15_y = combined_pubs[combined_pubs.year <= combined_pubs.start_year + 15]"
   ]
  },
  {
   "cell_type": "code",
   "execution_count": 144,
   "metadata": {},
   "outputs": [],
   "source": [
    "combined_pubs_15_y = combined_pubs_15_y.groupby('author')['year'].apply(\n",
    "    lambda x: [nxt - prev for prev, nxt in zip(sorted(x), sorted(x)[1:])])"
   ]
  },
  {
   "cell_type": "code",
   "execution_count": 145,
   "metadata": {},
   "outputs": [],
   "source": [
    "combined_pubs_15_y = combined_pubs_15_y.reset_index()"
   ]
  },
  {
   "cell_type": "code",
   "execution_count": 146,
   "metadata": {},
   "outputs": [
    {
     "data": {
      "text/html": [
       "<div>\n",
       "<style scoped>\n",
       "    .dataframe tbody tr th:only-of-type {\n",
       "        vertical-align: middle;\n",
       "    }\n",
       "\n",
       "    .dataframe tbody tr th {\n",
       "        vertical-align: top;\n",
       "    }\n",
       "\n",
       "    .dataframe thead th {\n",
       "        text-align: right;\n",
       "    }\n",
       "</style>\n",
       "<table border=\"1\" class=\"dataframe\">\n",
       "  <thead>\n",
       "    <tr style=\"text-align: right;\">\n",
       "      <th></th>\n",
       "      <th>author</th>\n",
       "      <th>year</th>\n",
       "    </tr>\n",
       "  </thead>\n",
       "  <tbody>\n",
       "    <tr>\n",
       "      <th>0</th>\n",
       "      <td>'maseka lesaoana</td>\n",
       "      <td>[14]</td>\n",
       "    </tr>\n",
       "    <tr>\n",
       "      <th>1</th>\n",
       "      <td>a aart blokhuis</td>\n",
       "      <td>[13]</td>\n",
       "    </tr>\n",
       "    <tr>\n",
       "      <th>2</th>\n",
       "      <td>a min tjoa</td>\n",
       "      <td>[7, 4, 1, 0, 1, 0, 1, 0, 0, 0, 0, 0, 1, 0]</td>\n",
       "    </tr>\n",
       "    <tr>\n",
       "      <th>3</th>\n",
       "      <td>a-imam al-sammak</td>\n",
       "      <td>[13, 1]</td>\n",
       "    </tr>\n",
       "    <tr>\n",
       "      <th>4</th>\n",
       "      <td>a-xing zhu</td>\n",
       "      <td>[5, 3, 0, 1, 0, 2, 0, 0, 1, 1, 0, 1]</td>\n",
       "    </tr>\n",
       "  </tbody>\n",
       "</table>\n",
       "</div>"
      ],
      "text/plain": [
       "             author                                        year\n",
       "0  'maseka lesaoana                                        [14]\n",
       "1   a aart blokhuis                                        [13]\n",
       "2        a min tjoa  [7, 4, 1, 0, 1, 0, 1, 0, 0, 0, 0, 0, 1, 0]\n",
       "3  a-imam al-sammak                                     [13, 1]\n",
       "4        a-xing zhu        [5, 3, 0, 1, 0, 2, 0, 0, 1, 1, 0, 1]"
      ]
     },
     "execution_count": 146,
     "metadata": {},
     "output_type": "execute_result"
    }
   ],
   "source": [
    "combined_pubs_15_y.head()"
   ]
  },
  {
   "cell_type": "code",
   "execution_count": 147,
   "metadata": {},
   "outputs": [],
   "source": [
    "combined_pubs_15_y['max_absence'] = combined_pubs_15_y['year'].apply(lambda x: 15 if x==[] else max(x))"
   ]
  },
  {
   "cell_type": "code",
   "execution_count": 148,
   "metadata": {},
   "outputs": [],
   "source": [
    "combined_pubs_15_y['avg_absence'] = combined_pubs_15_y['year'].apply(lambda x: 15 if x==[] else np.mean(x))"
   ]
  },
  {
   "cell_type": "code",
   "execution_count": 149,
   "metadata": {},
   "outputs": [
    {
     "data": {
      "text/html": [
       "<div>\n",
       "<style scoped>\n",
       "    .dataframe tbody tr th:only-of-type {\n",
       "        vertical-align: middle;\n",
       "    }\n",
       "\n",
       "    .dataframe tbody tr th {\n",
       "        vertical-align: top;\n",
       "    }\n",
       "\n",
       "    .dataframe thead th {\n",
       "        text-align: right;\n",
       "    }\n",
       "</style>\n",
       "<table border=\"1\" class=\"dataframe\">\n",
       "  <thead>\n",
       "    <tr style=\"text-align: right;\">\n",
       "      <th></th>\n",
       "      <th>author</th>\n",
       "      <th>year</th>\n",
       "      <th>max_absence</th>\n",
       "      <th>avg_absence</th>\n",
       "    </tr>\n",
       "  </thead>\n",
       "  <tbody>\n",
       "    <tr>\n",
       "      <th>0</th>\n",
       "      <td>'maseka lesaoana</td>\n",
       "      <td>[14]</td>\n",
       "      <td>14</td>\n",
       "      <td>14.000000</td>\n",
       "    </tr>\n",
       "    <tr>\n",
       "      <th>1</th>\n",
       "      <td>a aart blokhuis</td>\n",
       "      <td>[13]</td>\n",
       "      <td>13</td>\n",
       "      <td>13.000000</td>\n",
       "    </tr>\n",
       "    <tr>\n",
       "      <th>2</th>\n",
       "      <td>a min tjoa</td>\n",
       "      <td>[7, 4, 1, 0, 1, 0, 1, 0, 0, 0, 0, 0, 1, 0]</td>\n",
       "      <td>7</td>\n",
       "      <td>1.071429</td>\n",
       "    </tr>\n",
       "    <tr>\n",
       "      <th>3</th>\n",
       "      <td>a-imam al-sammak</td>\n",
       "      <td>[13, 1]</td>\n",
       "      <td>13</td>\n",
       "      <td>7.000000</td>\n",
       "    </tr>\n",
       "    <tr>\n",
       "      <th>4</th>\n",
       "      <td>a-xing zhu</td>\n",
       "      <td>[5, 3, 0, 1, 0, 2, 0, 0, 1, 1, 0, 1]</td>\n",
       "      <td>5</td>\n",
       "      <td>1.166667</td>\n",
       "    </tr>\n",
       "    <tr>\n",
       "      <th>5</th>\n",
       "      <td>a. a. (louis) beex</td>\n",
       "      <td>[0, 4, 0, 1, 1, 0, 6, 3]</td>\n",
       "      <td>6</td>\n",
       "      <td>1.875000</td>\n",
       "    </tr>\n",
       "    <tr>\n",
       "      <th>6</th>\n",
       "      <td>a. a. abouelsoud</td>\n",
       "      <td>[0, 2]</td>\n",
       "      <td>2</td>\n",
       "      <td>1.000000</td>\n",
       "    </tr>\n",
       "    <tr>\n",
       "      <th>7</th>\n",
       "      <td>a. a. badr</td>\n",
       "      <td>[1, 9]</td>\n",
       "      <td>9</td>\n",
       "      <td>5.000000</td>\n",
       "    </tr>\n",
       "    <tr>\n",
       "      <th>8</th>\n",
       "      <td>a. a. ball</td>\n",
       "      <td>[2, 7, 4]</td>\n",
       "      <td>7</td>\n",
       "      <td>4.333333</td>\n",
       "    </tr>\n",
       "    <tr>\n",
       "      <th>9</th>\n",
       "      <td>a. a. c. c. pais</td>\n",
       "      <td>[9, 0, 2, 1, 1]</td>\n",
       "      <td>9</td>\n",
       "      <td>2.600000</td>\n",
       "    </tr>\n",
       "  </tbody>\n",
       "</table>\n",
       "</div>"
      ],
      "text/plain": [
       "               author                                        year  \\\n",
       "0    'maseka lesaoana                                        [14]   \n",
       "1     a aart blokhuis                                        [13]   \n",
       "2          a min tjoa  [7, 4, 1, 0, 1, 0, 1, 0, 0, 0, 0, 0, 1, 0]   \n",
       "3    a-imam al-sammak                                     [13, 1]   \n",
       "4          a-xing zhu        [5, 3, 0, 1, 0, 2, 0, 0, 1, 1, 0, 1]   \n",
       "5  a. a. (louis) beex                    [0, 4, 0, 1, 1, 0, 6, 3]   \n",
       "6    a. a. abouelsoud                                      [0, 2]   \n",
       "7          a. a. badr                                      [1, 9]   \n",
       "8          a. a. ball                                   [2, 7, 4]   \n",
       "9    a. a. c. c. pais                             [9, 0, 2, 1, 1]   \n",
       "\n",
       "   max_absence  avg_absence  \n",
       "0           14    14.000000  \n",
       "1           13    13.000000  \n",
       "2            7     1.071429  \n",
       "3           13     7.000000  \n",
       "4            5     1.166667  \n",
       "5            6     1.875000  \n",
       "6            2     1.000000  \n",
       "7            9     5.000000  \n",
       "8            7     4.333333  \n",
       "9            9     2.600000  "
      ]
     },
     "execution_count": 149,
     "metadata": {},
     "output_type": "execute_result"
    }
   ],
   "source": [
    "combined_pubs_15_y.head(10)"
   ]
  },
  {
   "cell_type": "code",
   "execution_count": 150,
   "metadata": {},
   "outputs": [],
   "source": [
    "credible_authors = credible_authors.merge(combined_pubs_15_y[['author', 'max_absence', 'avg_absence']], on='author', how='left')"
   ]
  },
  {
   "cell_type": "code",
   "execution_count": 151,
   "metadata": {},
   "outputs": [
    {
     "data": {
      "text/html": [
       "<div>\n",
       "<style scoped>\n",
       "    .dataframe tbody tr th:only-of-type {\n",
       "        vertical-align: middle;\n",
       "    }\n",
       "\n",
       "    .dataframe tbody tr th {\n",
       "        vertical-align: top;\n",
       "    }\n",
       "\n",
       "    .dataframe thead th {\n",
       "        text-align: right;\n",
       "    }\n",
       "</style>\n",
       "<table border=\"1\" class=\"dataframe\">\n",
       "  <thead>\n",
       "    <tr style=\"text-align: right;\">\n",
       "      <th></th>\n",
       "      <th>author</th>\n",
       "      <th>start_year</th>\n",
       "      <th>end_year</th>\n",
       "      <th>num_pub</th>\n",
       "      <th>career_length</th>\n",
       "      <th>max_absence</th>\n",
       "      <th>avg_absence</th>\n",
       "    </tr>\n",
       "  </thead>\n",
       "  <tbody>\n",
       "    <tr>\n",
       "      <th>0</th>\n",
       "      <td>'maseka lesaoana</td>\n",
       "      <td>2001</td>\n",
       "      <td>2015</td>\n",
       "      <td>2</td>\n",
       "      <td>15</td>\n",
       "      <td>14</td>\n",
       "      <td>14.000000</td>\n",
       "    </tr>\n",
       "    <tr>\n",
       "      <th>1</th>\n",
       "      <td>a aart blokhuis</td>\n",
       "      <td>1992</td>\n",
       "      <td>2005</td>\n",
       "      <td>2</td>\n",
       "      <td>14</td>\n",
       "      <td>13</td>\n",
       "      <td>13.000000</td>\n",
       "    </tr>\n",
       "    <tr>\n",
       "      <th>2</th>\n",
       "      <td>a min tjoa</td>\n",
       "      <td>1979</td>\n",
       "      <td>2017</td>\n",
       "      <td>191</td>\n",
       "      <td>39</td>\n",
       "      <td>7</td>\n",
       "      <td>1.071429</td>\n",
       "    </tr>\n",
       "    <tr>\n",
       "      <th>3</th>\n",
       "      <td>a-imam al-sammak</td>\n",
       "      <td>1992</td>\n",
       "      <td>2006</td>\n",
       "      <td>3</td>\n",
       "      <td>15</td>\n",
       "      <td>13</td>\n",
       "      <td>7.000000</td>\n",
       "    </tr>\n",
       "    <tr>\n",
       "      <th>4</th>\n",
       "      <td>a-xing zhu</td>\n",
       "      <td>1998</td>\n",
       "      <td>2017</td>\n",
       "      <td>22</td>\n",
       "      <td>20</td>\n",
       "      <td>5</td>\n",
       "      <td>1.166667</td>\n",
       "    </tr>\n",
       "  </tbody>\n",
       "</table>\n",
       "</div>"
      ],
      "text/plain": [
       "             author  start_year  end_year  num_pub  career_length  \\\n",
       "0  'maseka lesaoana        2001      2015        2             15   \n",
       "1   a aart blokhuis        1992      2005        2             14   \n",
       "2        a min tjoa        1979      2017      191             39   \n",
       "3  a-imam al-sammak        1992      2006        3             15   \n",
       "4        a-xing zhu        1998      2017       22             20   \n",
       "\n",
       "   max_absence  avg_absence  \n",
       "0           14    14.000000  \n",
       "1           13    13.000000  \n",
       "2            7     1.071429  \n",
       "3           13     7.000000  \n",
       "4            5     1.166667  "
      ]
     },
     "execution_count": 151,
     "metadata": {},
     "output_type": "execute_result"
    }
   ],
   "source": [
    "credible_authors.head()"
   ]
  },
  {
   "cell_type": "code",
   "execution_count": 152,
   "metadata": {},
   "outputs": [],
   "source": [
    "credible_authors['dropped_after_10'] = credible_authors['max_absence'].apply(lambda x: False if x <= 10 else True)"
   ]
  },
  {
   "cell_type": "code",
   "execution_count": 153,
   "metadata": {},
   "outputs": [
    {
     "data": {
      "text/plain": [
       "2     40545\n",
       "3     38947\n",
       "4     32649\n",
       "5     25764\n",
       "6     20204\n",
       "7     15758\n",
       "1     15489\n",
       "9     12766\n",
       "8     12594\n",
       "15    12090\n",
       "10     9437\n",
       "11     6911\n",
       "12     5096\n",
       "13     4020\n",
       "14     2890\n",
       "0       536\n",
       "Name: max_absence, dtype: int64"
      ]
     },
     "execution_count": 153,
     "metadata": {},
     "output_type": "execute_result"
    }
   ],
   "source": [
    "credible_authors.max_absence.value_counts(dropna=False)"
   ]
  },
  {
   "cell_type": "code",
   "execution_count": 154,
   "metadata": {},
   "outputs": [
    {
     "data": {
      "text/plain": [
       "(255696, 8)"
      ]
     },
     "execution_count": 154,
     "metadata": {},
     "output_type": "execute_result"
    }
   ],
   "source": [
    "credible_authors.shape"
   ]
  },
  {
   "cell_type": "code",
   "execution_count": 155,
   "metadata": {},
   "outputs": [
    {
     "data": {
      "text/plain": [
       "False    224689\n",
       "True      31007\n",
       "Name: dropped_after_10, dtype: int64"
      ]
     },
     "execution_count": 155,
     "metadata": {},
     "output_type": "execute_result"
    }
   ],
   "source": [
    "credible_authors['dropped_after_10'].value_counts()"
   ]
  },
  {
   "cell_type": "markdown",
   "metadata": {},
   "source": [
    "### Gender"
   ]
  },
  {
   "cell_type": "code",
   "execution_count": 156,
   "metadata": {},
   "outputs": [
    {
     "data": {
      "text/plain": [
       "m       129909\n",
       "none     98303\n",
       "f        27484\n",
       "Name: gender, dtype: int64"
      ]
     },
     "execution_count": 156,
     "metadata": {},
     "output_type": "execute_result"
    }
   ],
   "source": [
    "gender = pd.read_csv('./data/name_gender_2017_asiansAsNone_nodup.txt')\n",
    "\n",
    "\n",
    "credible_authors = credible_authors.merge(gender, left_on='author', right_on='name', how='left')\n",
    "\n",
    "credible_authors.drop('name', axis=1, inplace=True)\n",
    "\n",
    "credible_authors.head()\n",
    "\n",
    "credible_authors.gender.value_counts()"
   ]
  },
  {
   "cell_type": "markdown",
   "metadata": {},
   "source": [
    "### Save filtered data about authors"
   ]
  },
  {
   "cell_type": "code",
   "execution_count": 157,
   "metadata": {},
   "outputs": [],
   "source": [
    "credible_authors.to_csv('derived-data/authors-scientific-atleast-'+str(CAREER_LENGTH)+'-year.csv',\n",
    "                    index=False, encoding='utf-8')"
   ]
  },
  {
   "cell_type": "code",
   "execution_count": 158,
   "metadata": {},
   "outputs": [],
   "source": [
    "# Quick load\n",
    "# credible_authors = pd.read_csv('data/authors-scientific-atleast-'+str(CAREER_LENGTH)+'-year.csv')\n"
   ]
  },
  {
   "cell_type": "markdown",
   "metadata": {},
   "source": [
    "### Remove author from publications"
   ]
  },
  {
   "cell_type": "code",
   "execution_count": 159,
   "metadata": {},
   "outputs": [
    {
     "name": "stdout",
     "output_type": "stream",
     "text": [
      "(9471668, 3)\n"
     ]
    }
   ],
   "source": [
    "print(authorPublicationData.shape)"
   ]
  },
  {
   "cell_type": "code",
   "execution_count": 160,
   "metadata": {},
   "outputs": [],
   "source": [
    "authorPublicationData_cleaned = authorPublicationData.loc[authorPublicationData.author.isin(credible_authors.author)]"
   ]
  },
  {
   "cell_type": "code",
   "execution_count": 161,
   "metadata": {},
   "outputs": [
    {
     "name": "stdout",
     "output_type": "stream",
     "text": [
      "(5898126, 3)\n"
     ]
    }
   ],
   "source": [
    "print(authorPublicationData_cleaned.shape)"
   ]
  },
  {
   "cell_type": "code",
   "execution_count": 162,
   "metadata": {},
   "outputs": [],
   "source": [
    "authorPublicationData_cleaned.to_csv('derived-data/author-publications-atleast-'+ str(CAREER_LENGTH)+'-year.csv', index=False)"
   ]
  },
  {
   "cell_type": "code",
   "execution_count": 163,
   "metadata": {},
   "outputs": [],
   "source": [
    "# Quick load\n",
    "# authorPublicationData = pd.read_csv('derived-data/author-publications-atleast-'+ str(CAREER_LENGTH)+'-year.csv')"
   ]
  },
  {
   "cell_type": "markdown",
   "metadata": {},
   "source": [
    "## 3. Generate a new citation network"
   ]
  },
  {
   "cell_type": "markdown",
   "metadata": {},
   "source": [
    "### Generate Author->Paper network"
   ]
  },
  {
   "cell_type": "code",
   "execution_count": 164,
   "metadata": {},
   "outputs": [],
   "source": [
    "# We need data about how many times an author has been cited\n",
    "# For every authors publication, i merge all citations\n",
    "final_citation_count_from_ids = authorPublicationData.merge(authorCitationsData, left_on='pub_id', \n",
    "                                                            right_on='id2', how='inner', suffixes=('_pub', '_cit'))"
   ]
  },
  {
   "cell_type": "code",
   "execution_count": 165,
   "metadata": {},
   "outputs": [],
   "source": [
    "final_citation_count_from_ids.drop_duplicates(inplace=True)"
   ]
  },
  {
   "cell_type": "markdown",
   "metadata": {},
   "source": [
    "#### Remove errors in citation data (years published vs years cited)"
   ]
  },
  {
   "cell_type": "code",
   "execution_count": 166,
   "metadata": {},
   "outputs": [
    {
     "name": "stdout",
     "output_type": "stream",
     "text": [
      "(75912535, 6)\n",
      "(75392625, 6)\n"
     ]
    }
   ],
   "source": [
    "# Published before cited - NORMAL\n",
    "print(final_citation_count_from_ids.shape)\n",
    "num_normal = final_citation_count_from_ids[final_citation_count_from_ids.year_pub <= final_citation_count_from_ids.year_cit].shape\n",
    "print(num_normal)"
   ]
  },
  {
   "cell_type": "code",
   "execution_count": 167,
   "metadata": {},
   "outputs": [
    {
     "name": "stdout",
     "output_type": "stream",
     "text": [
      "(519910, 6)\n"
     ]
    }
   ],
   "source": [
    "# Published after cited - WRONG\n",
    "num_wrong = final_citation_count_from_ids[final_citation_count_from_ids.year_pub > final_citation_count_from_ids.year_cit].shape\n",
    "print(num_wrong)"
   ]
  },
  {
   "cell_type": "code",
   "execution_count": 168,
   "metadata": {},
   "outputs": [
    {
     "name": "stdout",
     "output_type": "stream",
     "text": [
      "Percentage of citations to be removed:  0.6848803033649186\n",
      "Less than one percent\n"
     ]
    }
   ],
   "source": [
    "print(\"Percentage of citations to be removed: \", num_wrong[0]*100/(num_normal[0]+num_wrong[0]))\n",
    "print(\"Less than one percent\")"
   ]
  },
  {
   "cell_type": "code",
   "execution_count": 169,
   "metadata": {},
   "outputs": [],
   "source": [
    "cit_wrong_df = final_citation_count_from_ids[final_citation_count_from_ids.year_pub > final_citation_count_from_ids.year_cit]"
   ]
  },
  {
   "cell_type": "code",
   "execution_count": 170,
   "metadata": {},
   "outputs": [],
   "source": [
    "cit_wrong = final_citation_count_from_ids[final_citation_count_from_ids.year_pub > final_citation_count_from_ids.year_cit].index"
   ]
  },
  {
   "cell_type": "code",
   "execution_count": 171,
   "metadata": {},
   "outputs": [],
   "source": [
    "final_citation_count_from_ids.drop(cit_wrong, inplace=True)\n",
    "\n",
    "assert num_normal[0] == final_citation_count_from_ids.shape[0], \"The number of citations doesnt match\""
   ]
  },
  {
   "cell_type": "code",
   "execution_count": 172,
   "metadata": {},
   "outputs": [
    {
     "data": {
      "text/plain": [
       "Index(['author', 'year_pub', 'pub_id', 'id1', 'id2', 'year_cit'], dtype='object')"
      ]
     },
     "execution_count": 172,
     "metadata": {},
     "output_type": "execute_result"
    }
   ],
   "source": [
    "final_citation_count_from_ids.columns"
   ]
  },
  {
   "cell_type": "markdown",
   "metadata": {},
   "source": [
    "#### Save"
   ]
  },
  {
   "cell_type": "code",
   "execution_count": 173,
   "metadata": {},
   "outputs": [],
   "source": [
    "# final_citation_count_from_ids.to_csv('./data/authors_cited_by_papers_2017_asiansAsNone_by_daniel.txt',\n",
    "#                                      columns=['author', 'year_pub', 'pub_id', 'id1', 'year_cit'], index=False)\n",
    "\n",
    "final_citation_count_from_ids[['author', 'id1', 'id2', 'year_cit']].drop_duplicates().to_csv('derived-data/author-paper-citations-cleaned.csv', \n",
    "                                                                                   index=False)\n",
    "\n",
    "# final_citation_count_from_ids.drop_duplicates(subset=['author_cited', 'pub_id_cited', 'pub_id_citing', 'author_citing'],\n",
    "#                                               inplace=True)"
   ]
  },
  {
   "cell_type": "code",
   "execution_count": 174,
   "metadata": {},
   "outputs": [],
   "source": [
    "# Quick load\n",
    "# final_citation_count_from_ids = pd.read_csv('derived-data/paper-paper-citations-cleaned.csv')"
   ]
  },
  {
   "cell_type": "code",
   "execution_count": 175,
   "metadata": {},
   "outputs": [],
   "source": [
    "# drop duplicates on id1,id2 because we only care about paper->paper citations\n",
    "paper_citation_count = final_citation_count_from_ids.drop_duplicates(subset=['id1', 'id2']).groupby('id2')['id1'].count()\n",
    "paper_citation_count.to_csv('derived-data/paper-citation-count.csv')"
   ]
  },
  {
   "cell_type": "markdown",
   "metadata": {},
   "source": [
    "Its important to keep using this file for citations. As it has bad entries removed"
   ]
  },
  {
   "cell_type": "markdown",
   "metadata": {},
   "source": [
    "### Generate Author->Author network"
   ]
  },
  {
   "cell_type": "code",
   "execution_count": 176,
   "metadata": {},
   "outputs": [],
   "source": [
    "# # To generate an author->author citation network\n",
    "# # For every citation an author received, merge in all the authors that cited him\n",
    "# # TODO Should we be filtering citations? Do we include them all? We do drop ones cited before published\n",
    "# final_citation_count_from_ids = final_citation_count_from_ids.merge(authorPublicationData, left_on='id1', \n",
    "#                                                                     right_on='pub_id', how='left', suffixes=('_cited', '_citing'))\n",
    "# final_citation_count_from_ids.to_csv('./derived-data/author-author-citations.csv',\n",
    "#                                      columns=['author_cited', 'author_citing', 'year_cit'], index=False)"
   ]
  },
  {
   "cell_type": "code",
   "execution_count": 177,
   "metadata": {},
   "outputs": [
    {
     "data": {
      "text/html": [
       "<div>\n",
       "<style scoped>\n",
       "    .dataframe tbody tr th:only-of-type {\n",
       "        vertical-align: middle;\n",
       "    }\n",
       "\n",
       "    .dataframe tbody tr th {\n",
       "        vertical-align: top;\n",
       "    }\n",
       "\n",
       "    .dataframe thead th {\n",
       "        text-align: right;\n",
       "    }\n",
       "</style>\n",
       "<table border=\"1\" class=\"dataframe\">\n",
       "  <thead>\n",
       "    <tr style=\"text-align: right;\">\n",
       "      <th></th>\n",
       "      <th>author</th>\n",
       "      <th>year_pub</th>\n",
       "      <th>pub_id</th>\n",
       "      <th>id1</th>\n",
       "      <th>id2</th>\n",
       "      <th>year_cit</th>\n",
       "    </tr>\n",
       "  </thead>\n",
       "  <tbody>\n",
       "    <tr>\n",
       "      <th>0</th>\n",
       "      <td>graeme earl</td>\n",
       "      <td>2011</td>\n",
       "      <td>001c58d3-26ad-46b3-ab3a-c1e557d16821</td>\n",
       "      <td>16870052-7e2e-4bbc-beeb-21e493bea221</td>\n",
       "      <td>001c58d3-26ad-46b3-ab3a-c1e557d16821</td>\n",
       "      <td>2015</td>\n",
       "    </tr>\n",
       "    <tr>\n",
       "      <th>1</th>\n",
       "      <td>gareth beale</td>\n",
       "      <td>2011</td>\n",
       "      <td>001c58d3-26ad-46b3-ab3a-c1e557d16821</td>\n",
       "      <td>16870052-7e2e-4bbc-beeb-21e493bea221</td>\n",
       "      <td>001c58d3-26ad-46b3-ab3a-c1e557d16821</td>\n",
       "      <td>2015</td>\n",
       "    </tr>\n",
       "    <tr>\n",
       "      <th>18</th>\n",
       "      <td>m. nasser</td>\n",
       "      <td>2009</td>\n",
       "      <td>001c8744-73c4-4b04-9364-22d31a10dbf1</td>\n",
       "      <td>49ec0c15-7a9d-4378-a26a-f5063567b519</td>\n",
       "      <td>001c8744-73c4-4b04-9364-22d31a10dbf1</td>\n",
       "      <td>2013</td>\n",
       "    </tr>\n",
       "    <tr>\n",
       "      <th>19</th>\n",
       "      <td>m. nasser</td>\n",
       "      <td>2009</td>\n",
       "      <td>001c8744-73c4-4b04-9364-22d31a10dbf1</td>\n",
       "      <td>ae0b4e3d-305d-4fb8-9847-60dcc9a9ec44</td>\n",
       "      <td>001c8744-73c4-4b04-9364-22d31a10dbf1</td>\n",
       "      <td>2014</td>\n",
       "    </tr>\n",
       "    <tr>\n",
       "      <th>20</th>\n",
       "      <td>faisal zaman</td>\n",
       "      <td>2009</td>\n",
       "      <td>001c8744-73c4-4b04-9364-22d31a10dbf1</td>\n",
       "      <td>49ec0c15-7a9d-4378-a26a-f5063567b519</td>\n",
       "      <td>001c8744-73c4-4b04-9364-22d31a10dbf1</td>\n",
       "      <td>2013</td>\n",
       "    </tr>\n",
       "  </tbody>\n",
       "</table>\n",
       "</div>"
      ],
      "text/plain": [
       "          author  year_pub                                pub_id  \\\n",
       "0    graeme earl      2011  001c58d3-26ad-46b3-ab3a-c1e557d16821   \n",
       "1   gareth beale      2011  001c58d3-26ad-46b3-ab3a-c1e557d16821   \n",
       "18     m. nasser      2009  001c8744-73c4-4b04-9364-22d31a10dbf1   \n",
       "19     m. nasser      2009  001c8744-73c4-4b04-9364-22d31a10dbf1   \n",
       "20  faisal zaman      2009  001c8744-73c4-4b04-9364-22d31a10dbf1   \n",
       "\n",
       "                                     id1  \\\n",
       "0   16870052-7e2e-4bbc-beeb-21e493bea221   \n",
       "1   16870052-7e2e-4bbc-beeb-21e493bea221   \n",
       "18  49ec0c15-7a9d-4378-a26a-f5063567b519   \n",
       "19  ae0b4e3d-305d-4fb8-9847-60dcc9a9ec44   \n",
       "20  49ec0c15-7a9d-4378-a26a-f5063567b519   \n",
       "\n",
       "                                     id2  year_cit  \n",
       "0   001c58d3-26ad-46b3-ab3a-c1e557d16821      2015  \n",
       "1   001c58d3-26ad-46b3-ab3a-c1e557d16821      2015  \n",
       "18  001c8744-73c4-4b04-9364-22d31a10dbf1      2013  \n",
       "19  001c8744-73c4-4b04-9364-22d31a10dbf1      2014  \n",
       "20  001c8744-73c4-4b04-9364-22d31a10dbf1      2013  "
      ]
     },
     "execution_count": 177,
     "metadata": {},
     "output_type": "execute_result"
    }
   ],
   "source": [
    "final_citation_count_from_ids.head()"
   ]
  },
  {
   "cell_type": "markdown",
   "metadata": {},
   "source": [
    "### Group citations over authors and years"
   ]
  },
  {
   "cell_type": "code",
   "execution_count": 178,
   "metadata": {},
   "outputs": [],
   "source": [
    "citations_year_auth = final_citation_count_from_ids.groupby(['author', 'year_cit'])['id1'].count()\n"
   ]
  },
  {
   "cell_type": "code",
   "execution_count": 179,
   "metadata": {},
   "outputs": [],
   "source": [
    "citations_year_auth = citations_year_auth.reset_index().merge(credible_authors[['author', 'num_pub']], on='author')"
   ]
  },
  {
   "cell_type": "code",
   "execution_count": 180,
   "metadata": {},
   "outputs": [
    {
     "data": {
      "text/html": [
       "<div>\n",
       "<style scoped>\n",
       "    .dataframe tbody tr th:only-of-type {\n",
       "        vertical-align: middle;\n",
       "    }\n",
       "\n",
       "    .dataframe tbody tr th {\n",
       "        vertical-align: top;\n",
       "    }\n",
       "\n",
       "    .dataframe thead th {\n",
       "        text-align: right;\n",
       "    }\n",
       "</style>\n",
       "<table border=\"1\" class=\"dataframe\">\n",
       "  <thead>\n",
       "    <tr style=\"text-align: right;\">\n",
       "      <th></th>\n",
       "      <th>author</th>\n",
       "      <th>year_cit</th>\n",
       "      <th>id1</th>\n",
       "      <th>num_pub</th>\n",
       "    </tr>\n",
       "  </thead>\n",
       "  <tbody>\n",
       "    <tr>\n",
       "      <th>0</th>\n",
       "      <td>'maseka lesaoana</td>\n",
       "      <td>2002</td>\n",
       "      <td>1</td>\n",
       "      <td>2</td>\n",
       "    </tr>\n",
       "    <tr>\n",
       "      <th>1</th>\n",
       "      <td>'maseka lesaoana</td>\n",
       "      <td>2003</td>\n",
       "      <td>1</td>\n",
       "      <td>2</td>\n",
       "    </tr>\n",
       "    <tr>\n",
       "      <th>2</th>\n",
       "      <td>'maseka lesaoana</td>\n",
       "      <td>2004</td>\n",
       "      <td>1</td>\n",
       "      <td>2</td>\n",
       "    </tr>\n",
       "    <tr>\n",
       "      <th>3</th>\n",
       "      <td>'maseka lesaoana</td>\n",
       "      <td>2005</td>\n",
       "      <td>2</td>\n",
       "      <td>2</td>\n",
       "    </tr>\n",
       "    <tr>\n",
       "      <th>4</th>\n",
       "      <td>'maseka lesaoana</td>\n",
       "      <td>2006</td>\n",
       "      <td>4</td>\n",
       "      <td>2</td>\n",
       "    </tr>\n",
       "  </tbody>\n",
       "</table>\n",
       "</div>"
      ],
      "text/plain": [
       "             author  year_cit  id1  num_pub\n",
       "0  'maseka lesaoana      2002    1        2\n",
       "1  'maseka lesaoana      2003    1        2\n",
       "2  'maseka lesaoana      2004    1        2\n",
       "3  'maseka lesaoana      2005    2        2\n",
       "4  'maseka lesaoana      2006    4        2"
      ]
     },
     "execution_count": 180,
     "metadata": {},
     "output_type": "execute_result"
    }
   ],
   "source": [
    "citations_year_auth.head()"
   ]
  },
  {
   "cell_type": "code",
   "execution_count": 181,
   "metadata": {},
   "outputs": [],
   "source": [
    "citations_year_auth = citations_year_auth.rename(columns={'id1':'cit_count'})\n",
    "\n",
    "citations_year_auth[['author', 'year_cit', 'cit_count']].to_csv('derived-data/authors-perYear-citations-atleast-'+str(CAREER_LENGTH)+'-year.csv', index=False)"
   ]
  },
  {
   "cell_type": "code",
   "execution_count": 182,
   "metadata": {},
   "outputs": [],
   "source": [
    "citations_year_auth = citations_year_auth.groupby(['author', 'year_cit'])['cit_count'].sum()"
   ]
  },
  {
   "cell_type": "markdown",
   "metadata": {},
   "source": [
    "## Early career analysis"
   ]
  },
  {
   "cell_type": "code",
   "execution_count": 183,
   "metadata": {},
   "outputs": [],
   "source": [
    "combined = final_citation_count_from_ids.merge(credible_authors[['author', 'start_year']], on='author', how='inner')"
   ]
  },
  {
   "cell_type": "code",
   "execution_count": 184,
   "metadata": {},
   "outputs": [
    {
     "data": {
      "text/html": [
       "<div>\n",
       "<style scoped>\n",
       "    .dataframe tbody tr th:only-of-type {\n",
       "        vertical-align: middle;\n",
       "    }\n",
       "\n",
       "    .dataframe tbody tr th {\n",
       "        vertical-align: top;\n",
       "    }\n",
       "\n",
       "    .dataframe thead th {\n",
       "        text-align: right;\n",
       "    }\n",
       "</style>\n",
       "<table border=\"1\" class=\"dataframe\">\n",
       "  <thead>\n",
       "    <tr style=\"text-align: right;\">\n",
       "      <th></th>\n",
       "      <th>author</th>\n",
       "      <th>year_pub</th>\n",
       "      <th>pub_id</th>\n",
       "      <th>id1</th>\n",
       "      <th>id2</th>\n",
       "      <th>year_cit</th>\n",
       "      <th>start_year</th>\n",
       "    </tr>\n",
       "  </thead>\n",
       "  <tbody>\n",
       "    <tr>\n",
       "      <th>0</th>\n",
       "      <td>faisal zaman</td>\n",
       "      <td>2009</td>\n",
       "      <td>001c8744-73c4-4b04-9364-22d31a10dbf1</td>\n",
       "      <td>49ec0c15-7a9d-4378-a26a-f5063567b519</td>\n",
       "      <td>001c8744-73c4-4b04-9364-22d31a10dbf1</td>\n",
       "      <td>2013</td>\n",
       "      <td>2006</td>\n",
       "    </tr>\n",
       "    <tr>\n",
       "      <th>1</th>\n",
       "      <td>faisal zaman</td>\n",
       "      <td>2009</td>\n",
       "      <td>001c8744-73c4-4b04-9364-22d31a10dbf1</td>\n",
       "      <td>ae0b4e3d-305d-4fb8-9847-60dcc9a9ec44</td>\n",
       "      <td>001c8744-73c4-4b04-9364-22d31a10dbf1</td>\n",
       "      <td>2014</td>\n",
       "      <td>2006</td>\n",
       "    </tr>\n",
       "    <tr>\n",
       "      <th>2</th>\n",
       "      <td>faisal zaman</td>\n",
       "      <td>2008</td>\n",
       "      <td>0a97f89e-20fe-4fae-9e0a-9404d4efeab8</td>\n",
       "      <td>6c90b64b-4dc8-4a55-b503-643850e67069</td>\n",
       "      <td>0a97f89e-20fe-4fae-9e0a-9404d4efeab8</td>\n",
       "      <td>2016</td>\n",
       "      <td>2006</td>\n",
       "    </tr>\n",
       "    <tr>\n",
       "      <th>3</th>\n",
       "      <td>faisal zaman</td>\n",
       "      <td>2014</td>\n",
       "      <td>0eeef95c-0019-4c62-aa28-749eba401bff</td>\n",
       "      <td>423a699b-7a81-414f-9f2a-650debdbffd7</td>\n",
       "      <td>0eeef95c-0019-4c62-aa28-749eba401bff</td>\n",
       "      <td>2015</td>\n",
       "      <td>2006</td>\n",
       "    </tr>\n",
       "    <tr>\n",
       "      <th>4</th>\n",
       "      <td>faisal zaman</td>\n",
       "      <td>2014</td>\n",
       "      <td>0eeef95c-0019-4c62-aa28-749eba401bff</td>\n",
       "      <td>2aadb714-99d0-405b-af2c-d53b3027eb95</td>\n",
       "      <td>0eeef95c-0019-4c62-aa28-749eba401bff</td>\n",
       "      <td>2015</td>\n",
       "      <td>2006</td>\n",
       "    </tr>\n",
       "  </tbody>\n",
       "</table>\n",
       "</div>"
      ],
      "text/plain": [
       "         author  year_pub                                pub_id  \\\n",
       "0  faisal zaman      2009  001c8744-73c4-4b04-9364-22d31a10dbf1   \n",
       "1  faisal zaman      2009  001c8744-73c4-4b04-9364-22d31a10dbf1   \n",
       "2  faisal zaman      2008  0a97f89e-20fe-4fae-9e0a-9404d4efeab8   \n",
       "3  faisal zaman      2014  0eeef95c-0019-4c62-aa28-749eba401bff   \n",
       "4  faisal zaman      2014  0eeef95c-0019-4c62-aa28-749eba401bff   \n",
       "\n",
       "                                    id1                                   id2  \\\n",
       "0  49ec0c15-7a9d-4378-a26a-f5063567b519  001c8744-73c4-4b04-9364-22d31a10dbf1   \n",
       "1  ae0b4e3d-305d-4fb8-9847-60dcc9a9ec44  001c8744-73c4-4b04-9364-22d31a10dbf1   \n",
       "2  6c90b64b-4dc8-4a55-b503-643850e67069  0a97f89e-20fe-4fae-9e0a-9404d4efeab8   \n",
       "3  423a699b-7a81-414f-9f2a-650debdbffd7  0eeef95c-0019-4c62-aa28-749eba401bff   \n",
       "4  2aadb714-99d0-405b-af2c-d53b3027eb95  0eeef95c-0019-4c62-aa28-749eba401bff   \n",
       "\n",
       "   year_cit  start_year  \n",
       "0      2013        2006  \n",
       "1      2014        2006  \n",
       "2      2016        2006  \n",
       "3      2015        2006  \n",
       "4      2015        2006  "
      ]
     },
     "execution_count": 184,
     "metadata": {},
     "output_type": "execute_result"
    }
   ],
   "source": [
    "combined.head()"
   ]
  },
  {
   "cell_type": "code",
   "execution_count": 185,
   "metadata": {},
   "outputs": [],
   "source": [
    "combined.drop_duplicates(subset=['author', 'id1', 'id2'], inplace=True)"
   ]
  },
  {
   "cell_type": "code",
   "execution_count": 186,
   "metadata": {},
   "outputs": [
    {
     "data": {
      "text/html": [
       "<div>\n",
       "<style scoped>\n",
       "    .dataframe tbody tr th:only-of-type {\n",
       "        vertical-align: middle;\n",
       "    }\n",
       "\n",
       "    .dataframe tbody tr th {\n",
       "        vertical-align: top;\n",
       "    }\n",
       "\n",
       "    .dataframe thead th {\n",
       "        text-align: right;\n",
       "    }\n",
       "</style>\n",
       "<table border=\"1\" class=\"dataframe\">\n",
       "  <thead>\n",
       "    <tr style=\"text-align: right;\">\n",
       "      <th></th>\n",
       "      <th>author</th>\n",
       "      <th>start_year</th>\n",
       "      <th>end_year</th>\n",
       "      <th>num_pub</th>\n",
       "      <th>career_length</th>\n",
       "      <th>max_absence</th>\n",
       "      <th>avg_absence</th>\n",
       "      <th>dropped_after_10</th>\n",
       "      <th>gender</th>\n",
       "    </tr>\n",
       "  </thead>\n",
       "  <tbody>\n",
       "    <tr>\n",
       "      <th>0</th>\n",
       "      <td>'maseka lesaoana</td>\n",
       "      <td>2001</td>\n",
       "      <td>2015</td>\n",
       "      <td>2</td>\n",
       "      <td>15</td>\n",
       "      <td>14</td>\n",
       "      <td>14.000000</td>\n",
       "      <td>True</td>\n",
       "      <td>none</td>\n",
       "    </tr>\n",
       "    <tr>\n",
       "      <th>1</th>\n",
       "      <td>a aart blokhuis</td>\n",
       "      <td>1992</td>\n",
       "      <td>2005</td>\n",
       "      <td>2</td>\n",
       "      <td>14</td>\n",
       "      <td>13</td>\n",
       "      <td>13.000000</td>\n",
       "      <td>True</td>\n",
       "      <td>none</td>\n",
       "    </tr>\n",
       "    <tr>\n",
       "      <th>2</th>\n",
       "      <td>a min tjoa</td>\n",
       "      <td>1979</td>\n",
       "      <td>2017</td>\n",
       "      <td>191</td>\n",
       "      <td>39</td>\n",
       "      <td>7</td>\n",
       "      <td>1.071429</td>\n",
       "      <td>False</td>\n",
       "      <td>none</td>\n",
       "    </tr>\n",
       "    <tr>\n",
       "      <th>3</th>\n",
       "      <td>a-imam al-sammak</td>\n",
       "      <td>1992</td>\n",
       "      <td>2006</td>\n",
       "      <td>3</td>\n",
       "      <td>15</td>\n",
       "      <td>13</td>\n",
       "      <td>7.000000</td>\n",
       "      <td>True</td>\n",
       "      <td>m</td>\n",
       "    </tr>\n",
       "    <tr>\n",
       "      <th>4</th>\n",
       "      <td>a-xing zhu</td>\n",
       "      <td>1998</td>\n",
       "      <td>2017</td>\n",
       "      <td>22</td>\n",
       "      <td>20</td>\n",
       "      <td>5</td>\n",
       "      <td>1.166667</td>\n",
       "      <td>False</td>\n",
       "      <td>none</td>\n",
       "    </tr>\n",
       "  </tbody>\n",
       "</table>\n",
       "</div>"
      ],
      "text/plain": [
       "             author  start_year  end_year  num_pub  career_length  \\\n",
       "0  'maseka lesaoana        2001      2015        2             15   \n",
       "1   a aart blokhuis        1992      2005        2             14   \n",
       "2        a min tjoa        1979      2017      191             39   \n",
       "3  a-imam al-sammak        1992      2006        3             15   \n",
       "4        a-xing zhu        1998      2017       22             20   \n",
       "\n",
       "   max_absence  avg_absence  dropped_after_10 gender  \n",
       "0           14    14.000000              True   none  \n",
       "1           13    13.000000              True   none  \n",
       "2            7     1.071429             False   none  \n",
       "3           13     7.000000              True      m  \n",
       "4            5     1.166667             False   none  "
      ]
     },
     "execution_count": 186,
     "metadata": {},
     "output_type": "execute_result"
    }
   ],
   "source": [
    "credible_authors.head()"
   ]
  },
  {
   "cell_type": "code",
   "execution_count": 187,
   "metadata": {},
   "outputs": [
    {
     "data": {
      "text/plain": [
       "(57214616, 7)"
      ]
     },
     "execution_count": 187,
     "metadata": {},
     "output_type": "execute_result"
    }
   ],
   "source": [
    "combined.shape"
   ]
  },
  {
   "cell_type": "code",
   "execution_count": 188,
   "metadata": {},
   "outputs": [],
   "source": [
    "combined_early_quality = combined[(combined.year_pub < combined.start_year + EARLY_CAREER_LEN) &\n",
    "         (combined.year_cit < combined.start_year + SUCCESS_CUTOFF)]"
   ]
  },
  {
   "cell_type": "code",
   "execution_count": 189,
   "metadata": {},
   "outputs": [],
   "source": [
    "early_career_quality = combined_early_quality.groupby('author')['id1'].count()\n",
    "\n",
    "early_career_quality = early_career_quality.rename('early_career_qual')\n",
    "early_career_quality = early_career_quality.reset_index()\n",
    "credible_authors = credible_authors.merge(early_career_quality, on='author', how='left')"
   ]
  },
  {
   "cell_type": "code",
   "execution_count": 190,
   "metadata": {},
   "outputs": [],
   "source": [
    "credible_authors['early_career_qual'] = credible_authors['early_career_qual'].fillna(0)"
   ]
  },
  {
   "cell_type": "code",
   "execution_count": 191,
   "metadata": {},
   "outputs": [],
   "source": [
    "early_career_recognition = combined[(combined.year_pub < combined.start_year + EARLY_CAREER_LEN) &\n",
    "         (combined.year_cit < combined.start_year + RECOGNITION_CUT_OFF)]"
   ]
  },
  {
   "cell_type": "code",
   "execution_count": 192,
   "metadata": {},
   "outputs": [],
   "source": [
    "early_career_recognition = early_career_recognition.groupby('author')['id1'].count()\n",
    "\n",
    "early_career_recognition = early_career_recognition.rename('early_career_recognition')\n",
    "early_career_recognition = early_career_recognition.reset_index()\n",
    "credible_authors = credible_authors.merge(early_career_recognition, on='author', how='left')"
   ]
  },
  {
   "cell_type": "code",
   "execution_count": 193,
   "metadata": {},
   "outputs": [],
   "source": [
    "credible_authors['early_career_recognition'] = credible_authors['early_career_recognition'].fillna(0)"
   ]
  },
  {
   "cell_type": "code",
   "execution_count": 194,
   "metadata": {},
   "outputs": [],
   "source": [
    "combined_succ_after_15y = combined[combined.year_cit < combined.start_year + SUCCESS_CUTOFF]"
   ]
  },
  {
   "cell_type": "code",
   "execution_count": 195,
   "metadata": {},
   "outputs": [],
   "source": [
    "succ_after_15y = combined_succ_after_15y.groupby('author')['id1'].count()\n",
    "\n",
    "succ_after_15y = succ_after_15y.rename('succ_after_15y')\n",
    "succ_after_15y = succ_after_15y.reset_index()\n",
    "credible_authors = credible_authors.merge(succ_after_15y, on='author', how='left')\n",
    "credible_authors['succ_after_15y'] = credible_authors['succ_after_15y'].fillna(0)"
   ]
  },
  {
   "cell_type": "code",
   "execution_count": 196,
   "metadata": {},
   "outputs": [],
   "source": [
    "def get_early_career_prod(row, early_career_len):\n",
    "    early_prod = 0\n",
    "    author = row.author\n",
    "    start_year = row['start_year']\n",
    "    year_num_pub = author_year_numPub[author]\n",
    "    for year in range(early_career_len):\n",
    "        if start_year + year in year_num_pub:\n",
    "            early_prod += year_num_pub[start_year + year]\n",
    "    return early_prod"
   ]
  },
  {
   "cell_type": "code",
   "execution_count": null,
   "metadata": {},
   "outputs": [],
   "source": [
    "author_year_numPub = authorPublicationData.groupby(['author', 'year'])['pub_id'].count()"
   ]
  },
  {
   "cell_type": "code",
   "execution_count": null,
   "metadata": {},
   "outputs": [],
   "source": [
    "%%time\n",
    "credible_authors['early_career_prod'] = credible_authors.apply(lambda x: get_early_career_prod(x, EARLY_CAREER_LEN), axis=1)"
   ]
  },
  {
   "cell_type": "code",
   "execution_count": null,
   "metadata": {},
   "outputs": [],
   "source": [
    "def get_early_publications(row, early_career_len):\n",
    "    # TODO reimplement\n",
    "    early_pubs = []\n",
    "    author = row.author\n",
    "    start_year = row['start_year']\n",
    "    year_pub_list = author_year_publications[author]\n",
    "    for year in range(early_career_len):\n",
    "        if start_year + year in year_pub_list:\n",
    "            early_pubs.extend(year_pub_list[start_year + year])\n",
    "    return early_pubs"
   ]
  },
  {
   "cell_type": "code",
   "execution_count": null,
   "metadata": {},
   "outputs": [],
   "source": [
    "# author_year_publications = authorPublicationData.groupby(['author', 'year'])['pub_id'].apply(list)"
   ]
  },
  {
   "cell_type": "code",
   "execution_count": null,
   "metadata": {},
   "outputs": [],
   "source": [
    "# %%time\n",
    "# credible_authors['early_career_pubs'] = credible_authors.apply(lambda x: get_early_publications(x, EARLY_CAREER_LEN), axis=1)"
   ]
  },
  {
   "cell_type": "code",
   "execution_count": null,
   "metadata": {},
   "outputs": [],
   "source": [
    "def get_early_career_recognition(row, early_career_len):\n",
    "    # TODO reimplement\n",
    "    early_rec = 0\n",
    "    author = row.author\n",
    "    start_year = row['start_year']\n",
    "    if author in citations_year_auth:\n",
    "        year_num_cit = citations_year_auth[author]\n",
    "    else:\n",
    "        return 0\n",
    "    for year in range(early_career_len):\n",
    "        if start_year + year in year_num_cit:\n",
    "            early_rec += year_num_cit[start_year + year]\n",
    "    return early_rec"
   ]
  },
  {
   "cell_type": "code",
   "execution_count": null,
   "metadata": {},
   "outputs": [],
   "source": [
    "# %%time\n",
    "# credible_authors['early_career_rec'] = credible_authors.apply(lambda x: get_early_career_recognition(x, EARLY_CAREER_LEN), axis=1)"
   ]
  },
  {
   "cell_type": "code",
   "execution_count": null,
   "metadata": {},
   "outputs": [],
   "source": [
    "credible_authors[['author', 'start_year', 'end_year', 'early_career_qual', 'early_career_recognition']].sample(10)"
   ]
  },
  {
   "cell_type": "code",
   "execution_count": null,
   "metadata": {},
   "outputs": [],
   "source": [
    "# final_citation_count = citations_year_auth.groupby('author')['cit_count'].sum()\n",
    "\n",
    "# final_citation_count = final_citation_count.reset_index()\n",
    "\n",
    "# credible_authors = credible_authors.merge(final_citation_count, on='author', how='left') \n",
    "\n",
    "\n",
    "# credible_authors.rename({'cit_count': 'final_citation_count'}, axis=1, inplace=True)\n",
    "\n",
    "# credible_authors['final_citation_count'] = credible_authors['final_citation_count'].fillna(0)"
   ]
  },
  {
   "cell_type": "markdown",
   "metadata": {},
   "source": [
    "## Save"
   ]
  },
  {
   "cell_type": "code",
   "execution_count": null,
   "metadata": {},
   "outputs": [],
   "source": [
    "credible_authors.to_csv('derived-data/authors-scientific-atleast-'+str(CAREER_LENGTH)+'-year-extended.csv',\n",
    "                    index=False, encoding='utf-8')"
   ]
  },
  {
   "cell_type": "code",
   "execution_count": null,
   "metadata": {},
   "outputs": [],
   "source": []
  }
 ],
 "metadata": {
  "kernelspec": {
   "display_name": "Python 3",
   "language": "python",
   "name": "python3"
  },
  "language_info": {
   "codemirror_mode": {
    "name": "ipython",
    "version": 3
   },
   "file_extension": ".py",
   "mimetype": "text/x-python",
   "name": "python",
   "nbconvert_exporter": "python",
   "pygments_lexer": "ipython3",
   "version": "3.6.4"
  }
 },
 "nbformat": 4,
 "nbformat_minor": 2
}
