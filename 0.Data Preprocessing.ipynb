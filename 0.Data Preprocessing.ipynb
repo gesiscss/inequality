{
 "cells": [
  {
   "cell_type": "code",
   "execution_count": 1,
   "metadata": {},
   "outputs": [],
   "source": [
    "import pandas as pd\n",
    "import matplotlib.pyplot as plt\n",
    "import numpy as np"
   ]
  },
  {
   "cell_type": "code",
   "execution_count": 97,
   "metadata": {},
   "outputs": [],
   "source": [
    "# Specify career len to export file for\n",
    "# CAREER_LENGTH = 15\n",
    "# Specify how long is the early career. Impacts which papers we take into account for early productivity and quality\n",
    "# EARLY_CAREER_LEN = 3\n",
    "EARLY_CAREER_LEN_LIST = [1, 2, 3, 4, 5]\n",
    "EARLY_CAREER_LEN_LIST = [3,5,7,9,11,12]\n",
    "# For early career work, when do we stop counting citations. Impacts recognition\n",
    "# RECOGNITION_CUT_OFF = 5\n",
    "RECOGNITION_CUT_OFF_LIST = [3, 4, 5, 6, 7, 8, 9]\n",
    "RECOGNITION_CUT_OFF_LIST = [3, 5]\n",
    "RECOGNITION_CUT_OFF_LIST = [3,5,7,9,11,12]\n",
    "# Success after 15 years. Impacts when we stop counting citations\n",
    "SUCCESS_CUTOFF = 15\n",
    "# Length of observed career for dropouts\n",
    "# (1-3), middle career (4-9), late career (10-15)\n",
    "\n",
    "# TODO: for multiple dropout intervals code does not work!!!\n",
    "CAREER_LENGTH_DROPOUTS_LIST = [ (0, 15), (0, 3), (4, 9), (10, 15)] #,\n",
    "CAREER_LENGTH_DROPOUTS_LIST = [(0, 15)]\n",
    "# CAREER_LENGTH_DROPOUTS = 15\n",
    "INACTIVE_TIME_DROPOUTS = 10\n",
    "\n",
    "# Specify the first and last year we consider in our analysis\n",
    "# TODO: Should we specify last start year? \n",
    "START_YEAR = 1970\n",
    "# LAST_START_YEAR = 2018 - max(CAREER_LENGTH, CAREER_LENGTH_DROPOUTS)"
   ]
  },
  {
   "cell_type": "code",
   "execution_count": 3,
   "metadata": {},
   "outputs": [],
   "source": [
    "# assert(INACTIVE_TIME_DROPOUTS < CAREER_LENGTH_DROPOUTS), \"Time observed for dropouts has to be smaller than the whole window!\""
   ]
  },
  {
   "cell_type": "code",
   "execution_count": 4,
   "metadata": {},
   "outputs": [],
   "source": [
    "# assert(CAREER_LENGTH >= EARLY_CAREER_LEN), \"Early career len too long\""
   ]
  },
  {
   "cell_type": "markdown",
   "metadata": {},
   "source": [
    "## 1. Load data"
   ]
  },
  {
   "cell_type": "code",
   "execution_count": 5,
   "metadata": {},
   "outputs": [
    {
     "data": {
      "text/html": [
       "<div>\n",
       "<style scoped>\n",
       "    .dataframe tbody tr th:only-of-type {\n",
       "        vertical-align: middle;\n",
       "    }\n",
       "\n",
       "    .dataframe tbody tr th {\n",
       "        vertical-align: top;\n",
       "    }\n",
       "\n",
       "    .dataframe thead th {\n",
       "        text-align: right;\n",
       "    }\n",
       "</style>\n",
       "<table border=\"1\" class=\"dataframe\">\n",
       "  <thead>\n",
       "    <tr style=\"text-align: right;\">\n",
       "      <th></th>\n",
       "      <th>author</th>\n",
       "      <th>year</th>\n",
       "      <th>pub_id</th>\n",
       "    </tr>\n",
       "  </thead>\n",
       "  <tbody>\n",
       "    <tr>\n",
       "      <th>0</th>\n",
       "      <td>graeme earl</td>\n",
       "      <td>2011</td>\n",
       "      <td>001c58d3-26ad-46b3-ab3a-c1e557d16821</td>\n",
       "    </tr>\n",
       "    <tr>\n",
       "      <th>1</th>\n",
       "      <td>gareth beale</td>\n",
       "      <td>2011</td>\n",
       "      <td>001c58d3-26ad-46b3-ab3a-c1e557d16821</td>\n",
       "    </tr>\n",
       "    <tr>\n",
       "      <th>2</th>\n",
       "      <td>m. nasser</td>\n",
       "      <td>2009</td>\n",
       "      <td>001c8744-73c4-4b04-9364-22d31a10dbf1</td>\n",
       "    </tr>\n",
       "    <tr>\n",
       "      <th>3</th>\n",
       "      <td>faisal zaman</td>\n",
       "      <td>2009</td>\n",
       "      <td>001c8744-73c4-4b04-9364-22d31a10dbf1</td>\n",
       "    </tr>\n",
       "    <tr>\n",
       "      <th>4</th>\n",
       "      <td>altaf hossain</td>\n",
       "      <td>2009</td>\n",
       "      <td>001c8744-73c4-4b04-9364-22d31a10dbf1</td>\n",
       "    </tr>\n",
       "  </tbody>\n",
       "</table>\n",
       "</div>"
      ],
      "text/plain": [
       "          author  year                                pub_id\n",
       "0    graeme earl  2011  001c58d3-26ad-46b3-ab3a-c1e557d16821\n",
       "1   gareth beale  2011  001c58d3-26ad-46b3-ab3a-c1e557d16821\n",
       "2      m. nasser  2009  001c8744-73c4-4b04-9364-22d31a10dbf1\n",
       "3   faisal zaman  2009  001c8744-73c4-4b04-9364-22d31a10dbf1\n",
       "4  altaf hossain  2009  001c8744-73c4-4b04-9364-22d31a10dbf1"
      ]
     },
     "execution_count": 5,
     "metadata": {},
     "output_type": "execute_result"
    }
   ],
   "source": [
    "authorPublicationData = pd.read_csv('./data/author_publications_2017_asiansAsNone.txt')\n",
    "\n",
    "authorPublicationData.head()"
   ]
  },
  {
   "cell_type": "code",
   "execution_count": 6,
   "metadata": {},
   "outputs": [
    {
     "name": "stdout",
     "output_type": "stream",
     "text": [
      "(9471668, 3)\n",
      "(9467149, 3)\n"
     ]
    }
   ],
   "source": [
    "print(authorPublicationData.shape)\n",
    "# same as dropping author, pub_id and year\n",
    "authorPublicationData.drop_duplicates(subset=['author','pub_id'], inplace=True)\n",
    "print(authorPublicationData.shape)"
   ]
  },
  {
   "cell_type": "code",
   "execution_count": 7,
   "metadata": {},
   "outputs": [
    {
     "data": {
      "text/html": [
       "<div>\n",
       "<style scoped>\n",
       "    .dataframe tbody tr th:only-of-type {\n",
       "        vertical-align: middle;\n",
       "    }\n",
       "\n",
       "    .dataframe tbody tr th {\n",
       "        vertical-align: top;\n",
       "    }\n",
       "\n",
       "    .dataframe thead th {\n",
       "        text-align: right;\n",
       "    }\n",
       "</style>\n",
       "<table border=\"1\" class=\"dataframe\">\n",
       "  <thead>\n",
       "    <tr style=\"text-align: right;\">\n",
       "      <th></th>\n",
       "      <th>id1</th>\n",
       "      <th>id2</th>\n",
       "      <th>year</th>\n",
       "    </tr>\n",
       "  </thead>\n",
       "  <tbody>\n",
       "    <tr>\n",
       "      <th>0</th>\n",
       "      <td>1fcd3d7f-1bb7-4347-914e-e23adb1e1a59</td>\n",
       "      <td>5065f1e8-0e2e-4e20-9866-2b5067d321dc</td>\n",
       "      <td>1990</td>\n",
       "    </tr>\n",
       "    <tr>\n",
       "      <th>1</th>\n",
       "      <td>1fcd3d7f-1bb7-4347-914e-e23adb1e1a59</td>\n",
       "      <td>cf862fd8-9204-4e44-9639-2d067c247539</td>\n",
       "      <td>1990</td>\n",
       "    </tr>\n",
       "    <tr>\n",
       "      <th>2</th>\n",
       "      <td>1fcd3d7f-1bb7-4347-914e-e23adb1e1a59</td>\n",
       "      <td>f19127f8-3d3a-4a9e-9580-c1d3e1e05141</td>\n",
       "      <td>1990</td>\n",
       "    </tr>\n",
       "    <tr>\n",
       "      <th>3</th>\n",
       "      <td>03b1d66a-b1fc-4d99-9904-9405695cc2ae</td>\n",
       "      <td>09991de0-c00f-49cf-a88a-6515943b0843</td>\n",
       "      <td>1994</td>\n",
       "    </tr>\n",
       "    <tr>\n",
       "      <th>4</th>\n",
       "      <td>03b1d66a-b1fc-4d99-9904-9405695cc2ae</td>\n",
       "      <td>156173f6-35eb-44f6-bc75-7c205153b6f0</td>\n",
       "      <td>1994</td>\n",
       "    </tr>\n",
       "  </tbody>\n",
       "</table>\n",
       "</div>"
      ],
      "text/plain": [
       "                                    id1                                   id2  \\\n",
       "0  1fcd3d7f-1bb7-4347-914e-e23adb1e1a59  5065f1e8-0e2e-4e20-9866-2b5067d321dc   \n",
       "1  1fcd3d7f-1bb7-4347-914e-e23adb1e1a59  cf862fd8-9204-4e44-9639-2d067c247539   \n",
       "2  1fcd3d7f-1bb7-4347-914e-e23adb1e1a59  f19127f8-3d3a-4a9e-9580-c1d3e1e05141   \n",
       "3  03b1d66a-b1fc-4d99-9904-9405695cc2ae  09991de0-c00f-49cf-a88a-6515943b0843   \n",
       "4  03b1d66a-b1fc-4d99-9904-9405695cc2ae  156173f6-35eb-44f6-bc75-7c205153b6f0   \n",
       "\n",
       "   year  \n",
       "0  1990  \n",
       "1  1990  \n",
       "2  1990  \n",
       "3  1994  \n",
       "4  1994  "
      ]
     },
     "execution_count": 7,
     "metadata": {},
     "output_type": "execute_result"
    }
   ],
   "source": [
    "authorCitationsData = pd.read_csv('./data/citations_2017_asiansAsNone.txt')\n",
    "authorCitationsData.head()"
   ]
  },
  {
   "cell_type": "code",
   "execution_count": 8,
   "metadata": {},
   "outputs": [
    {
     "name": "stdout",
     "output_type": "stream",
     "text": [
      "(25161834, 3)\n",
      "(25161834, 3)\n"
     ]
    }
   ],
   "source": [
    "print(authorCitationsData.shape)\n",
    "authorCitationsData.drop_duplicates(inplace=True)\n",
    "print(authorCitationsData.shape)"
   ]
  },
  {
   "cell_type": "code",
   "execution_count": 9,
   "metadata": {},
   "outputs": [
    {
     "name": "stdout",
     "output_type": "stream",
     "text": [
      "Authors#      -  1704919\n",
      "Years#        -  83\n",
      "Publications# -  3078230\n"
     ]
    }
   ],
   "source": [
    "print('Authors#      - ',authorPublicationData['author'].nunique())\n",
    "print('Years#        - ',authorPublicationData['year'].nunique())\n",
    "print('Publications# - ',authorPublicationData['pub_id'].nunique())"
   ]
  },
  {
   "cell_type": "markdown",
   "metadata": {},
   "source": [
    "## 2. Career length and dropouts"
   ]
  },
  {
   "cell_type": "code",
   "execution_count": 10,
   "metadata": {},
   "outputs": [],
   "source": [
    "groupByAuthor = authorPublicationData.groupby(['author'])\n",
    "\n",
    "groupByAuthorMinYearData = groupByAuthor['year'].min()\n",
    "groupByAuthorMaxYearData = groupByAuthor['year'].max()\n",
    "groupByAuthorCountPublicationsData = groupByAuthor['pub_id'].count()"
   ]
  },
  {
   "cell_type": "code",
   "execution_count": 11,
   "metadata": {
    "scrolled": true
   },
   "outputs": [
    {
     "name": "stdout",
     "output_type": "stream",
     "text": [
      "Total rows -                 (1704919, 4)\n",
      "After removing all < 1970 -  (1699352, 4)\n",
      "After removing duplicates -  (1699352, 4)\n",
      "After droping na -           (1699352, 4)\n"
     ]
    },
    {
     "data": {
      "text/html": [
       "<div>\n",
       "<style scoped>\n",
       "    .dataframe tbody tr th:only-of-type {\n",
       "        vertical-align: middle;\n",
       "    }\n",
       "\n",
       "    .dataframe tbody tr th {\n",
       "        vertical-align: top;\n",
       "    }\n",
       "\n",
       "    .dataframe thead th {\n",
       "        text-align: right;\n",
       "    }\n",
       "</style>\n",
       "<table border=\"1\" class=\"dataframe\">\n",
       "  <thead>\n",
       "    <tr style=\"text-align: right;\">\n",
       "      <th></th>\n",
       "      <th>author</th>\n",
       "      <th>start_year</th>\n",
       "      <th>end_year</th>\n",
       "      <th>total_num_pub</th>\n",
       "    </tr>\n",
       "  </thead>\n",
       "  <tbody>\n",
       "    <tr>\n",
       "      <th>0</th>\n",
       "      <td>'maseka lesaoana</td>\n",
       "      <td>2001</td>\n",
       "      <td>2015</td>\n",
       "      <td>2</td>\n",
       "    </tr>\n",
       "    <tr>\n",
       "      <th>1</th>\n",
       "      <td>(max) zong-ming cheng</td>\n",
       "      <td>2009</td>\n",
       "      <td>2011</td>\n",
       "      <td>2</td>\n",
       "    </tr>\n",
       "    <tr>\n",
       "      <th>2</th>\n",
       "      <td>(zhou) bryan bai</td>\n",
       "      <td>2011</td>\n",
       "      <td>2012</td>\n",
       "      <td>2</td>\n",
       "    </tr>\n",
       "    <tr>\n",
       "      <th>3</th>\n",
       "      <td>a aart blokhuis</td>\n",
       "      <td>1992</td>\n",
       "      <td>2005</td>\n",
       "      <td>2</td>\n",
       "    </tr>\n",
       "    <tr>\n",
       "      <th>4</th>\n",
       "      <td>a ahrabian</td>\n",
       "      <td>2017</td>\n",
       "      <td>2017</td>\n",
       "      <td>1</td>\n",
       "    </tr>\n",
       "  </tbody>\n",
       "</table>\n",
       "</div>"
      ],
      "text/plain": [
       "                  author  start_year  end_year  total_num_pub\n",
       "0       'maseka lesaoana        2001      2015              2\n",
       "1  (max) zong-ming cheng        2009      2011              2\n",
       "2       (zhou) bryan bai        2011      2012              2\n",
       "3        a aart blokhuis        1992      2005              2\n",
       "4             a ahrabian        2017      2017              1"
      ]
     },
     "execution_count": 11,
     "metadata": {},
     "output_type": "execute_result"
    }
   ],
   "source": [
    "authorGroupedData = groupByAuthorMinYearData.to_frame(name='start_year')\n",
    "authorGroupedData['end_year'] = groupByAuthorMaxYearData\n",
    "authorGroupedData['total_num_pub'] = groupByAuthorCountPublicationsData\n",
    "authorGroupedData = authorGroupedData.reset_index()\n",
    "print('Total rows -                ', authorGroupedData.shape)\n",
    "\n",
    "authorGroupedData = authorGroupedData[authorGroupedData[\"start_year\"] >= START_YEAR]\n",
    "print('After removing all < 1970 - ', authorGroupedData.shape)\n",
    "\n",
    "authorGroupedData = authorGroupedData.drop_duplicates()\n",
    "print('After removing duplicates - ', authorGroupedData.shape)\n",
    "\n",
    "authorGroupedData = authorGroupedData.dropna(how='any')\n",
    "print(\"After droping na -          \", authorGroupedData.shape)\n",
    "\n",
    "authorGroupedData.head()"
   ]
  },
  {
   "cell_type": "code",
   "execution_count": 12,
   "metadata": {},
   "outputs": [],
   "source": [
    "# Adding 1 here to have career length be at least one. So 3 years career means year1, year2, year3.\n",
    "authorGroupedData[\"career_length\"] = authorGroupedData['end_year'] - authorGroupedData['start_year'] + 1"
   ]
  },
  {
   "cell_type": "code",
   "execution_count": 13,
   "metadata": {},
   "outputs": [],
   "source": [
    "credible_authors = authorGroupedData"
   ]
  },
  {
   "cell_type": "markdown",
   "metadata": {},
   "source": [
    "### Label authors that drop out"
   ]
  },
  {
   "cell_type": "code",
   "execution_count": 14,
   "metadata": {},
   "outputs": [
    {
     "name": "stdout",
     "output_type": "stream",
     "text": [
      "Label authors with 10 years inacitivity in a [(0, 15)] years window as dropouts\n"
     ]
    }
   ],
   "source": [
    "print(f\"Label authors with {INACTIVE_TIME_DROPOUTS} years inacitivity in a {CAREER_LENGTH_DROPOUTS_LIST} years window as dropouts\")"
   ]
  },
  {
   "cell_type": "code",
   "execution_count": 15,
   "metadata": {},
   "outputs": [
    {
     "name": "stdout",
     "output_type": "stream",
     "text": [
      "        author  year                                pub_id  start_year\n",
      "0  graeme earl  2011  001c58d3-26ad-46b3-ab3a-c1e557d16821        2009\n",
      "1  graeme earl  2011  6af505cf-727f-47f9-afea-772af2928086        2009\n",
      "2  graeme earl  2009  3ac1f00f-6830-42e9-b6f9-944f00a71b3c        2009\n",
      "3  graeme earl  2009  3133714c-f979-4d84-9224-97361cf053ab        2009\n",
      "4  graeme earl  2014  71d3749b-3e35-461b-86c8-920c42d5ebe8        2009\n",
      "(9413377, 4)\n"
     ]
    }
   ],
   "source": [
    "combined_pubs = authorPublicationData.merge(credible_authors[['author', 'start_year']], on='author', how='inner')\n",
    "\n",
    "print(combined_pubs.head())\n",
    "print(combined_pubs.shape)"
   ]
  },
  {
   "cell_type": "code",
   "execution_count": 16,
   "metadata": {},
   "outputs": [],
   "source": [
    "def list_append(lst, item):\n",
    "    lst.append(item)\n",
    "    return lst"
   ]
  },
  {
   "cell_type": "code",
   "execution_count": 17,
   "metadata": {},
   "outputs": [
    {
     "name": "stdout",
     "output_type": "stream",
     "text": [
      "CPU times: user 12min 17s, sys: 7.36 s, total: 12min 25s\n",
      "Wall time: 12min 14s\n"
     ]
    }
   ],
   "source": [
    "%%time\n",
    "for start, end in CAREER_LENGTH_DROPOUTS_LIST:\n",
    "    combined_pubs_grouped = combined_pubs[(combined_pubs.year >= combined_pubs.start_year + start) &\n",
    "                                    (combined_pubs.year <= combined_pubs.start_year + end)]   \n",
    "    # for every 2 consecutive years the author has published (nxt and prev) find a difference (absence time)\n",
    "    # we artificially add two value: career start + 15 and career start, as limiters of our observation window\n",
    "    # this will add 0 values in the begining for the first year\n",
    "    combined_pubs_grouped = combined_pubs_grouped.groupby('author')['year', 'start_year'].apply(\n",
    "        lambda x: [nxt - prev for prev, nxt in zip(sorted(list_append(list(x['year']),x['start_year'].iloc[0]+start)), \n",
    "                                                   sorted(list_append(list(x['year']),x['start_year'].iloc[0]+  end)))])\n",
    "    combined_pubs_grouped = combined_pubs_grouped.reset_index()\n",
    "    combined_pubs_grouped.rename({0:f'absence_list-{start}-{end}'}, inplace=True, axis='columns')\n",
    "    combined_pubs_grouped[f'max_absence-{start}-{end}'] = combined_pubs_grouped[f'absence_list-{start}-{end}'].apply(max)\n",
    "    combined_pubs_grouped[f'avg_absence-{start}-{end}'] = combined_pubs_grouped[f'absence_list-{start}-{end}'].apply(np.mean)\n",
    "    \n",
    "    credible_authors = credible_authors.merge(combined_pubs_grouped[['author', f'max_absence-{start}-{end}', \n",
    "                                                                     f'avg_absence-{start}-{end}']], on='author', how='left')\n",
    "    credible_authors[f'max_absence-{start}-{end}'] = credible_authors[f'max_absence-{start}-{end}'].fillna(end-start+1)\n",
    "    credible_authors[f'avg_absence-{start}-{end}'] = credible_authors[f'avg_absence-{start}-{end}'].fillna(end-start+1)\n",
    "    \n",
    "    # TODO: Should i also add the start year into the calculation? Now i only have end year included"
   ]
  },
  {
   "cell_type": "code",
   "execution_count": 18,
   "metadata": {},
   "outputs": [],
   "source": [
    "# display(combined_pubs_grouped.head())\n",
    "# display(combined_pubs_grouped.shape)"
   ]
  },
  {
   "cell_type": "code",
   "execution_count": 19,
   "metadata": {},
   "outputs": [],
   "source": [
    "credible_authors['dropped_after_10'] = credible_authors['max_absence-0-15'].apply(lambda x: False if x < 10 else True)"
   ]
  },
  {
   "cell_type": "code",
   "execution_count": 20,
   "metadata": {},
   "outputs": [
    {
     "data": {
      "text/plain": [
       "15    915304\n",
       "14    118959\n",
       "13    103782\n",
       "12     84939\n",
       "11     74752\n",
       "10     66023\n",
       "9      61777\n",
       "8      60327\n",
       "7      47302\n",
       "6      42319\n",
       "5      36687\n",
       "4      32426\n",
       "3      27540\n",
       "2      21247\n",
       "1       5968\n",
       "Name: max_absence-0-15, dtype: int64"
      ]
     },
     "execution_count": 20,
     "metadata": {},
     "output_type": "execute_result"
    }
   ],
   "source": [
    "credible_authors['max_absence-0-15'].value_counts(dropna=False)"
   ]
  },
  {
   "cell_type": "code",
   "execution_count": 21,
   "metadata": {},
   "outputs": [
    {
     "data": {
      "text/plain": [
       "(1699352, 8)"
      ]
     },
     "execution_count": 21,
     "metadata": {},
     "output_type": "execute_result"
    }
   ],
   "source": [
    "credible_authors.shape"
   ]
  },
  {
   "cell_type": "code",
   "execution_count": 22,
   "metadata": {},
   "outputs": [
    {
     "data": {
      "text/plain": [
       "True     1363759\n",
       "False     335593\n",
       "Name: dropped_after_10, dtype: int64"
      ]
     },
     "execution_count": 22,
     "metadata": {},
     "output_type": "execute_result"
    }
   ],
   "source": [
    "credible_authors['dropped_after_10'].value_counts()"
   ]
  },
  {
   "cell_type": "code",
   "execution_count": 23,
   "metadata": {},
   "outputs": [
    {
     "data": {
      "text/plain": [
       "Index(['author', 'start_year', 'end_year', 'total_num_pub', 'career_length',\n",
       "       'max_absence-0-15', 'avg_absence-0-15', 'dropped_after_10'],\n",
       "      dtype='object')"
      ]
     },
     "execution_count": 23,
     "metadata": {},
     "output_type": "execute_result"
    }
   ],
   "source": [
    "credible_authors.columns"
   ]
  },
  {
   "cell_type": "markdown",
   "metadata": {},
   "source": [
    "### Gender"
   ]
  },
  {
   "cell_type": "code",
   "execution_count": 24,
   "metadata": {},
   "outputs": [
    {
     "data": {
      "text/plain": [
       "m       793766\n",
       "none    650086\n",
       "f       255500\n",
       "Name: gender, dtype: int64"
      ]
     },
     "execution_count": 24,
     "metadata": {},
     "output_type": "execute_result"
    }
   ],
   "source": [
    "gender = pd.read_csv('./data/name_gender_2017_asiansAsNone_nodup.txt')\n",
    "credible_authors = credible_authors.merge(gender, left_on='author', right_on='name', how='left')\n",
    "credible_authors.drop('name', axis=1, inplace=True)\n",
    "\n",
    "credible_authors.gender.value_counts()"
   ]
  },
  {
   "cell_type": "markdown",
   "metadata": {},
   "source": [
    "### Save filtered data about authors, and cleaned publications"
   ]
  },
  {
   "cell_type": "code",
   "execution_count": 25,
   "metadata": {},
   "outputs": [
    {
     "data": {
      "text/html": [
       "<div>\n",
       "<style scoped>\n",
       "    .dataframe tbody tr th:only-of-type {\n",
       "        vertical-align: middle;\n",
       "    }\n",
       "\n",
       "    .dataframe tbody tr th {\n",
       "        vertical-align: top;\n",
       "    }\n",
       "\n",
       "    .dataframe thead th {\n",
       "        text-align: right;\n",
       "    }\n",
       "</style>\n",
       "<table border=\"1\" class=\"dataframe\">\n",
       "  <thead>\n",
       "    <tr style=\"text-align: right;\">\n",
       "      <th></th>\n",
       "      <th>author</th>\n",
       "      <th>start_year</th>\n",
       "      <th>end_year</th>\n",
       "      <th>total_num_pub</th>\n",
       "      <th>career_length</th>\n",
       "      <th>max_absence-0-15</th>\n",
       "      <th>avg_absence-0-15</th>\n",
       "      <th>dropped_after_10</th>\n",
       "      <th>gender</th>\n",
       "    </tr>\n",
       "  </thead>\n",
       "  <tbody>\n",
       "    <tr>\n",
       "      <th>0</th>\n",
       "      <td>'maseka lesaoana</td>\n",
       "      <td>2001</td>\n",
       "      <td>2015</td>\n",
       "      <td>2</td>\n",
       "      <td>15</td>\n",
       "      <td>14</td>\n",
       "      <td>5.0</td>\n",
       "      <td>True</td>\n",
       "      <td>none</td>\n",
       "    </tr>\n",
       "    <tr>\n",
       "      <th>1</th>\n",
       "      <td>(max) zong-ming cheng</td>\n",
       "      <td>2009</td>\n",
       "      <td>2011</td>\n",
       "      <td>2</td>\n",
       "      <td>3</td>\n",
       "      <td>13</td>\n",
       "      <td>5.0</td>\n",
       "      <td>True</td>\n",
       "      <td>none</td>\n",
       "    </tr>\n",
       "    <tr>\n",
       "      <th>2</th>\n",
       "      <td>(zhou) bryan bai</td>\n",
       "      <td>2011</td>\n",
       "      <td>2012</td>\n",
       "      <td>2</td>\n",
       "      <td>2</td>\n",
       "      <td>14</td>\n",
       "      <td>5.0</td>\n",
       "      <td>True</td>\n",
       "      <td>none</td>\n",
       "    </tr>\n",
       "    <tr>\n",
       "      <th>3</th>\n",
       "      <td>a aart blokhuis</td>\n",
       "      <td>1992</td>\n",
       "      <td>2005</td>\n",
       "      <td>2</td>\n",
       "      <td>14</td>\n",
       "      <td>13</td>\n",
       "      <td>5.0</td>\n",
       "      <td>True</td>\n",
       "      <td>none</td>\n",
       "    </tr>\n",
       "    <tr>\n",
       "      <th>4</th>\n",
       "      <td>a ahrabian</td>\n",
       "      <td>2017</td>\n",
       "      <td>2017</td>\n",
       "      <td>1</td>\n",
       "      <td>1</td>\n",
       "      <td>15</td>\n",
       "      <td>7.5</td>\n",
       "      <td>True</td>\n",
       "      <td>none</td>\n",
       "    </tr>\n",
       "  </tbody>\n",
       "</table>\n",
       "</div>"
      ],
      "text/plain": [
       "                  author  start_year  end_year  total_num_pub  career_length  \\\n",
       "0       'maseka lesaoana        2001      2015              2             15   \n",
       "1  (max) zong-ming cheng        2009      2011              2              3   \n",
       "2       (zhou) bryan bai        2011      2012              2              2   \n",
       "3        a aart blokhuis        1992      2005              2             14   \n",
       "4             a ahrabian        2017      2017              1              1   \n",
       "\n",
       "   max_absence-0-15  avg_absence-0-15  dropped_after_10 gender  \n",
       "0                14               5.0              True   none  \n",
       "1                13               5.0              True   none  \n",
       "2                14               5.0              True   none  \n",
       "3                13               5.0              True   none  \n",
       "4                15               7.5              True   none  "
      ]
     },
     "execution_count": 25,
     "metadata": {},
     "output_type": "execute_result"
    }
   ],
   "source": [
    "credible_authors.to_csv('derived-data/authors-scientific.csv', index=False, encoding='utf-8')\n",
    "credible_authors.head()"
   ]
  },
  {
   "cell_type": "code",
   "execution_count": 26,
   "metadata": {},
   "outputs": [],
   "source": [
    "authorPublicationData.to_csv('derived-data/author-publications.csv', index=False)"
   ]
  },
  {
   "cell_type": "markdown",
   "metadata": {},
   "source": [
    "## 3. Generate a new citation network"
   ]
  },
  {
   "cell_type": "markdown",
   "metadata": {},
   "source": [
    "### Generate Author->Paper network"
   ]
  },
  {
   "cell_type": "code",
   "execution_count": 27,
   "metadata": {},
   "outputs": [],
   "source": [
    "# We need data about how many times an author has been cited\n",
    "# For every authors publication, i merge all citations\n",
    "final_citation_count_from_ids = authorPublicationData.merge(authorCitationsData, left_on='pub_id', \n",
    "                                                            right_on='id2', how='inner', suffixes=('_pub', '_cit'))"
   ]
  },
  {
   "cell_type": "code",
   "execution_count": 28,
   "metadata": {},
   "outputs": [
    {
     "name": "stdout",
     "output_type": "stream",
     "text": [
      "(75912535, 6)\n"
     ]
    }
   ],
   "source": [
    "print(final_citation_count_from_ids.shape)"
   ]
  },
  {
   "cell_type": "code",
   "execution_count": 29,
   "metadata": {},
   "outputs": [],
   "source": [
    "final_citation_count_from_ids.drop_duplicates(inplace=True)"
   ]
  },
  {
   "cell_type": "code",
   "execution_count": 30,
   "metadata": {},
   "outputs": [
    {
     "name": "stdout",
     "output_type": "stream",
     "text": [
      "(75912535, 6)\n"
     ]
    }
   ],
   "source": [
    "print(final_citation_count_from_ids.shape)"
   ]
  },
  {
   "cell_type": "markdown",
   "metadata": {},
   "source": [
    "#### Remove errors in citation data (years published vs years cited)"
   ]
  },
  {
   "cell_type": "code",
   "execution_count": 31,
   "metadata": {},
   "outputs": [
    {
     "name": "stdout",
     "output_type": "stream",
     "text": [
      "(75912535, 6)\n",
      "(75392625, 6)\n"
     ]
    }
   ],
   "source": [
    "# Published before cited - NORMAL\n",
    "print(final_citation_count_from_ids.shape)\n",
    "num_normal = final_citation_count_from_ids[final_citation_count_from_ids.year_pub <= final_citation_count_from_ids.year_cit].shape\n",
    "print(num_normal)"
   ]
  },
  {
   "cell_type": "code",
   "execution_count": 32,
   "metadata": {},
   "outputs": [
    {
     "name": "stdout",
     "output_type": "stream",
     "text": [
      "(519910, 6)\n"
     ]
    }
   ],
   "source": [
    "# Published after cited - WRONG\n",
    "num_wrong = final_citation_count_from_ids[final_citation_count_from_ids.year_pub > final_citation_count_from_ids.year_cit].shape\n",
    "print(num_wrong)"
   ]
  },
  {
   "cell_type": "code",
   "execution_count": 33,
   "metadata": {},
   "outputs": [
    {
     "name": "stdout",
     "output_type": "stream",
     "text": [
      "Percentage of citations to be removed:  0.6848803033649186\n",
      "Less than one percent\n"
     ]
    }
   ],
   "source": [
    "print(\"Percentage of citations to be removed: \", num_wrong[0]*100/(num_normal[0]+num_wrong[0]))\n",
    "print(\"Less than one percent\")"
   ]
  },
  {
   "cell_type": "code",
   "execution_count": 34,
   "metadata": {},
   "outputs": [],
   "source": [
    "cit_wrong_df = final_citation_count_from_ids[final_citation_count_from_ids.year_pub > final_citation_count_from_ids.year_cit]"
   ]
  },
  {
   "cell_type": "code",
   "execution_count": 35,
   "metadata": {},
   "outputs": [],
   "source": [
    "cit_wrong = final_citation_count_from_ids[final_citation_count_from_ids.year_pub > final_citation_count_from_ids.year_cit].index"
   ]
  },
  {
   "cell_type": "code",
   "execution_count": 36,
   "metadata": {},
   "outputs": [],
   "source": [
    "final_citation_count_from_ids.drop(cit_wrong, inplace=True)\n",
    "\n",
    "assert num_normal[0] == final_citation_count_from_ids.shape[0], \"The number of citations doesnt match\""
   ]
  },
  {
   "cell_type": "code",
   "execution_count": 37,
   "metadata": {},
   "outputs": [
    {
     "data": {
      "text/plain": [
       "Index(['author', 'year_pub', 'pub_id', 'id1', 'id2', 'year_cit'], dtype='object')"
      ]
     },
     "execution_count": 37,
     "metadata": {},
     "output_type": "execute_result"
    }
   ],
   "source": [
    "final_citation_count_from_ids.columns"
   ]
  },
  {
   "cell_type": "markdown",
   "metadata": {},
   "source": [
    "#### Save"
   ]
  },
  {
   "cell_type": "code",
   "execution_count": 38,
   "metadata": {},
   "outputs": [],
   "source": [
    "# final_citation_count_from_ids.to_csv('./data/authors_cited_by_papers_2017_asiansAsNone_by_daniel.txt',\n",
    "#                                      columns=['author', 'year_pub', 'pub_id', 'id1', 'year_cit'], index=False)\n",
    "\n",
    "final_citation_count_from_ids[['author', 'id1', 'id2', 'year_cit']].drop_duplicates().to_csv('derived-data/author-paper-citations-cleaned.csv', \n",
    "                                                                                   index=False)\n",
    "\n",
    "# final_citation_count_from_ids.drop_duplicates(subset=['author_cited', 'pub_id_cited', 'pub_id_citing', 'author_citing'],\n",
    "#                                               inplace=True)"
   ]
  },
  {
   "cell_type": "code",
   "execution_count": 39,
   "metadata": {},
   "outputs": [],
   "source": [
    "# Quick load\n",
    "# final_citation_count_from_ids = pd.read_csv('derived-data/paper-paper-citations-cleaned.csv')"
   ]
  },
  {
   "cell_type": "code",
   "execution_count": 40,
   "metadata": {},
   "outputs": [],
   "source": [
    "# drop duplicates on id1,id2 because we only care about paper->paper citations\n",
    "paper_citation_count = final_citation_count_from_ids.drop_duplicates(subset=['id1', 'id2']).groupby('id2')['id1'].count()\n",
    "paper_citation_count.to_csv('derived-data/paper-citation-count.csv')"
   ]
  },
  {
   "cell_type": "markdown",
   "metadata": {},
   "source": [
    "Its important to keep using this file for citations. As it has bad entries removed"
   ]
  },
  {
   "cell_type": "markdown",
   "metadata": {},
   "source": [
    "### Generate Author->Author network"
   ]
  },
  {
   "cell_type": "code",
   "execution_count": 41,
   "metadata": {},
   "outputs": [],
   "source": [
    "# # To generate an author->author citation network\n",
    "# # For every citation an author received, merge in all the authors that cited him\n",
    "# # TODO Should we be filtering citations? Do we include them all? We do drop ones cited before published\n",
    "# final_citation_count_from_ids = final_citation_count_from_ids.merge(authorPublicationData, left_on='id1', \n",
    "#                                                                     right_on='pub_id', how='left', suffixes=('_cited', '_citing'))\n",
    "# final_citation_count_from_ids.to_csv('./derived-data/author-author-citations.csv',\n",
    "#                                      columns=['author_cited', 'author_citing', 'year_cit'], index=False)"
   ]
  },
  {
   "cell_type": "code",
   "execution_count": 42,
   "metadata": {},
   "outputs": [
    {
     "data": {
      "text/html": [
       "<div>\n",
       "<style scoped>\n",
       "    .dataframe tbody tr th:only-of-type {\n",
       "        vertical-align: middle;\n",
       "    }\n",
       "\n",
       "    .dataframe tbody tr th {\n",
       "        vertical-align: top;\n",
       "    }\n",
       "\n",
       "    .dataframe thead th {\n",
       "        text-align: right;\n",
       "    }\n",
       "</style>\n",
       "<table border=\"1\" class=\"dataframe\">\n",
       "  <thead>\n",
       "    <tr style=\"text-align: right;\">\n",
       "      <th></th>\n",
       "      <th>author</th>\n",
       "      <th>year_pub</th>\n",
       "      <th>pub_id</th>\n",
       "      <th>id1</th>\n",
       "      <th>id2</th>\n",
       "      <th>year_cit</th>\n",
       "    </tr>\n",
       "  </thead>\n",
       "  <tbody>\n",
       "    <tr>\n",
       "      <th>0</th>\n",
       "      <td>graeme earl</td>\n",
       "      <td>2011</td>\n",
       "      <td>001c58d3-26ad-46b3-ab3a-c1e557d16821</td>\n",
       "      <td>16870052-7e2e-4bbc-beeb-21e493bea221</td>\n",
       "      <td>001c58d3-26ad-46b3-ab3a-c1e557d16821</td>\n",
       "      <td>2015</td>\n",
       "    </tr>\n",
       "    <tr>\n",
       "      <th>1</th>\n",
       "      <td>gareth beale</td>\n",
       "      <td>2011</td>\n",
       "      <td>001c58d3-26ad-46b3-ab3a-c1e557d16821</td>\n",
       "      <td>16870052-7e2e-4bbc-beeb-21e493bea221</td>\n",
       "      <td>001c58d3-26ad-46b3-ab3a-c1e557d16821</td>\n",
       "      <td>2015</td>\n",
       "    </tr>\n",
       "    <tr>\n",
       "      <th>2</th>\n",
       "      <td>m. nasser</td>\n",
       "      <td>2009</td>\n",
       "      <td>001c8744-73c4-4b04-9364-22d31a10dbf1</td>\n",
       "      <td>49ec0c15-7a9d-4378-a26a-f5063567b519</td>\n",
       "      <td>001c8744-73c4-4b04-9364-22d31a10dbf1</td>\n",
       "      <td>2013</td>\n",
       "    </tr>\n",
       "    <tr>\n",
       "      <th>3</th>\n",
       "      <td>m. nasser</td>\n",
       "      <td>2009</td>\n",
       "      <td>001c8744-73c4-4b04-9364-22d31a10dbf1</td>\n",
       "      <td>ae0b4e3d-305d-4fb8-9847-60dcc9a9ec44</td>\n",
       "      <td>001c8744-73c4-4b04-9364-22d31a10dbf1</td>\n",
       "      <td>2014</td>\n",
       "    </tr>\n",
       "    <tr>\n",
       "      <th>4</th>\n",
       "      <td>faisal zaman</td>\n",
       "      <td>2009</td>\n",
       "      <td>001c8744-73c4-4b04-9364-22d31a10dbf1</td>\n",
       "      <td>49ec0c15-7a9d-4378-a26a-f5063567b519</td>\n",
       "      <td>001c8744-73c4-4b04-9364-22d31a10dbf1</td>\n",
       "      <td>2013</td>\n",
       "    </tr>\n",
       "  </tbody>\n",
       "</table>\n",
       "</div>"
      ],
      "text/plain": [
       "         author  year_pub                                pub_id  \\\n",
       "0   graeme earl      2011  001c58d3-26ad-46b3-ab3a-c1e557d16821   \n",
       "1  gareth beale      2011  001c58d3-26ad-46b3-ab3a-c1e557d16821   \n",
       "2     m. nasser      2009  001c8744-73c4-4b04-9364-22d31a10dbf1   \n",
       "3     m. nasser      2009  001c8744-73c4-4b04-9364-22d31a10dbf1   \n",
       "4  faisal zaman      2009  001c8744-73c4-4b04-9364-22d31a10dbf1   \n",
       "\n",
       "                                    id1                                   id2  \\\n",
       "0  16870052-7e2e-4bbc-beeb-21e493bea221  001c58d3-26ad-46b3-ab3a-c1e557d16821   \n",
       "1  16870052-7e2e-4bbc-beeb-21e493bea221  001c58d3-26ad-46b3-ab3a-c1e557d16821   \n",
       "2  49ec0c15-7a9d-4378-a26a-f5063567b519  001c8744-73c4-4b04-9364-22d31a10dbf1   \n",
       "3  ae0b4e3d-305d-4fb8-9847-60dcc9a9ec44  001c8744-73c4-4b04-9364-22d31a10dbf1   \n",
       "4  49ec0c15-7a9d-4378-a26a-f5063567b519  001c8744-73c4-4b04-9364-22d31a10dbf1   \n",
       "\n",
       "   year_cit  \n",
       "0      2015  \n",
       "1      2015  \n",
       "2      2013  \n",
       "3      2014  \n",
       "4      2013  "
      ]
     },
     "execution_count": 42,
     "metadata": {},
     "output_type": "execute_result"
    }
   ],
   "source": [
    "final_citation_count_from_ids.head()"
   ]
  },
  {
   "cell_type": "markdown",
   "metadata": {},
   "source": [
    "### Group citations over authors and years"
   ]
  },
  {
   "cell_type": "code",
   "execution_count": 43,
   "metadata": {},
   "outputs": [],
   "source": [
    "citations_year_auth = final_citation_count_from_ids.groupby(['author', 'year_cit'])['id1'].count()\n"
   ]
  },
  {
   "cell_type": "code",
   "execution_count": 44,
   "metadata": {},
   "outputs": [
    {
     "data": {
      "text/plain": [
       "author            year_cit\n",
       "'maseka lesaoana  2002        1\n",
       "                  2003        1\n",
       "                  2004        1\n",
       "                  2005        2\n",
       "                  2006        4\n",
       "Name: id1, dtype: int64"
      ]
     },
     "execution_count": 44,
     "metadata": {},
     "output_type": "execute_result"
    }
   ],
   "source": [
    "citations_year_auth.head()"
   ]
  },
  {
   "cell_type": "code",
   "execution_count": 45,
   "metadata": {},
   "outputs": [],
   "source": [
    "citations_year_auth = citations_year_auth.reset_index()\n",
    "citations_year_auth = citations_year_auth.rename(columns={'id1':'cit_count'})\n",
    "\n",
    "# citations_year_auth[['author', 'year_cit', 'cit_count']].to_csv('derived-data/authors-perYear-citations-atleast-'+str(CAREER_LENGTH)+'-year.csv', index=False)\n",
    "citations_year_auth[['author', 'year_cit', 'cit_count']].to_csv('derived-data/authors-perYear-citations.csv', index=False)"
   ]
  },
  {
   "cell_type": "code",
   "execution_count": 46,
   "metadata": {},
   "outputs": [],
   "source": [
    "citations_year_auth = citations_year_auth.groupby(['author', 'year_cit'])['cit_count'].sum()"
   ]
  },
  {
   "cell_type": "markdown",
   "metadata": {},
   "source": [
    "## Early career analysis"
   ]
  },
  {
   "cell_type": "code",
   "execution_count": 47,
   "metadata": {},
   "outputs": [],
   "source": [
    "combined = final_citation_count_from_ids.merge(credible_authors[['author', 'start_year']], on='author', how='inner')"
   ]
  },
  {
   "cell_type": "code",
   "execution_count": 48,
   "metadata": {},
   "outputs": [
    {
     "data": {
      "text/plain": [
       "(74452472, 7)"
      ]
     },
     "execution_count": 48,
     "metadata": {},
     "output_type": "execute_result"
    }
   ],
   "source": [
    "combined.shape"
   ]
  },
  {
   "cell_type": "code",
   "execution_count": 49,
   "metadata": {},
   "outputs": [
    {
     "data": {
      "text/html": [
       "<div>\n",
       "<style scoped>\n",
       "    .dataframe tbody tr th:only-of-type {\n",
       "        vertical-align: middle;\n",
       "    }\n",
       "\n",
       "    .dataframe tbody tr th {\n",
       "        vertical-align: top;\n",
       "    }\n",
       "\n",
       "    .dataframe thead th {\n",
       "        text-align: right;\n",
       "    }\n",
       "</style>\n",
       "<table border=\"1\" class=\"dataframe\">\n",
       "  <thead>\n",
       "    <tr style=\"text-align: right;\">\n",
       "      <th></th>\n",
       "      <th>author</th>\n",
       "      <th>year_pub</th>\n",
       "      <th>pub_id</th>\n",
       "      <th>id1</th>\n",
       "      <th>id2</th>\n",
       "      <th>year_cit</th>\n",
       "      <th>start_year</th>\n",
       "    </tr>\n",
       "  </thead>\n",
       "  <tbody>\n",
       "    <tr>\n",
       "      <th>0</th>\n",
       "      <td>graeme earl</td>\n",
       "      <td>2011</td>\n",
       "      <td>001c58d3-26ad-46b3-ab3a-c1e557d16821</td>\n",
       "      <td>16870052-7e2e-4bbc-beeb-21e493bea221</td>\n",
       "      <td>001c58d3-26ad-46b3-ab3a-c1e557d16821</td>\n",
       "      <td>2015</td>\n",
       "      <td>2009</td>\n",
       "    </tr>\n",
       "    <tr>\n",
       "      <th>1</th>\n",
       "      <td>graeme earl</td>\n",
       "      <td>2011</td>\n",
       "      <td>6af505cf-727f-47f9-afea-772af2928086</td>\n",
       "      <td>7be205bf-95e7-4baa-b800-770684720dec</td>\n",
       "      <td>6af505cf-727f-47f9-afea-772af2928086</td>\n",
       "      <td>2014</td>\n",
       "      <td>2009</td>\n",
       "    </tr>\n",
       "    <tr>\n",
       "      <th>2</th>\n",
       "      <td>graeme earl</td>\n",
       "      <td>2009</td>\n",
       "      <td>3ac1f00f-6830-42e9-b6f9-944f00a71b3c</td>\n",
       "      <td>523e22e9-0b2f-439f-bad6-dd8037364f44</td>\n",
       "      <td>3ac1f00f-6830-42e9-b6f9-944f00a71b3c</td>\n",
       "      <td>2010</td>\n",
       "      <td>2009</td>\n",
       "    </tr>\n",
       "    <tr>\n",
       "      <th>3</th>\n",
       "      <td>graeme earl</td>\n",
       "      <td>2009</td>\n",
       "      <td>3133714c-f979-4d84-9224-97361cf053ab</td>\n",
       "      <td>001c58d3-26ad-46b3-ab3a-c1e557d16821</td>\n",
       "      <td>3133714c-f979-4d84-9224-97361cf053ab</td>\n",
       "      <td>2011</td>\n",
       "      <td>2009</td>\n",
       "    </tr>\n",
       "    <tr>\n",
       "      <th>4</th>\n",
       "      <td>graeme earl</td>\n",
       "      <td>2009</td>\n",
       "      <td>3133714c-f979-4d84-9224-97361cf053ab</td>\n",
       "      <td>523e22e9-0b2f-439f-bad6-dd8037364f44</td>\n",
       "      <td>3133714c-f979-4d84-9224-97361cf053ab</td>\n",
       "      <td>2010</td>\n",
       "      <td>2009</td>\n",
       "    </tr>\n",
       "  </tbody>\n",
       "</table>\n",
       "</div>"
      ],
      "text/plain": [
       "        author  year_pub                                pub_id  \\\n",
       "0  graeme earl      2011  001c58d3-26ad-46b3-ab3a-c1e557d16821   \n",
       "1  graeme earl      2011  6af505cf-727f-47f9-afea-772af2928086   \n",
       "2  graeme earl      2009  3ac1f00f-6830-42e9-b6f9-944f00a71b3c   \n",
       "3  graeme earl      2009  3133714c-f979-4d84-9224-97361cf053ab   \n",
       "4  graeme earl      2009  3133714c-f979-4d84-9224-97361cf053ab   \n",
       "\n",
       "                                    id1                                   id2  \\\n",
       "0  16870052-7e2e-4bbc-beeb-21e493bea221  001c58d3-26ad-46b3-ab3a-c1e557d16821   \n",
       "1  7be205bf-95e7-4baa-b800-770684720dec  6af505cf-727f-47f9-afea-772af2928086   \n",
       "2  523e22e9-0b2f-439f-bad6-dd8037364f44  3ac1f00f-6830-42e9-b6f9-944f00a71b3c   \n",
       "3  001c58d3-26ad-46b3-ab3a-c1e557d16821  3133714c-f979-4d84-9224-97361cf053ab   \n",
       "4  523e22e9-0b2f-439f-bad6-dd8037364f44  3133714c-f979-4d84-9224-97361cf053ab   \n",
       "\n",
       "   year_cit  start_year  \n",
       "0      2015        2009  \n",
       "1      2014        2009  \n",
       "2      2010        2009  \n",
       "3      2011        2009  \n",
       "4      2010        2009  "
      ]
     },
     "execution_count": 49,
     "metadata": {},
     "output_type": "execute_result"
    }
   ],
   "source": [
    "combined.head()"
   ]
  },
  {
   "cell_type": "code",
   "execution_count": 50,
   "metadata": {},
   "outputs": [],
   "source": [
    "combined.drop_duplicates(subset=['author', 'id1', 'id2'], inplace=True)"
   ]
  },
  {
   "cell_type": "markdown",
   "metadata": {},
   "source": [
    "### Early degree"
   ]
  },
  {
   "cell_type": "code",
   "execution_count": 51,
   "metadata": {},
   "outputs": [],
   "source": [
    "for EARLY_CAREER in EARLY_CAREER_LEN_LIST:\n",
    "    combined_early_degree = combined[(combined.year_pub < combined.start_year + EARLY_CAREER)]\n",
    "\n",
    "    combined_early_degree = combined_early_degree.drop_duplicates(subset=['author', 'pub_id'])\n",
    "\n",
    "    combined_early_degree = combined_early_degree[['author', 'pub_id']]\n",
    "\n",
    "    # authors_per_paper = combined_early_degree.groupby('pub_id')['author'].count().reset_index()\n",
    "    # authors_per_paper.rename({\"author\":\"early_career_degree\"}, axis='columns', inplace=True)\n",
    "\n",
    "    combined_early_degree = combined_early_degree.merge(combined, on='pub_id')\n",
    "\n",
    "    combined_early_degree = combined_early_degree[combined_early_degree.author_x != combined_early_degree.author_y]\n",
    "    combined_early_degree = combined_early_degree.drop_duplicates(subset=['author_x', 'author_y'])\n",
    "\n",
    "    combined_early_degree = combined_early_degree.groupby('author_x')['author_y'].count().reset_index()\n",
    "\n",
    "    combined_early_degree.rename({\"author_x\":\"author\", \"author_y\": f\"early_career_degree_{EARLY_CAREER}\"}, \n",
    "                                 axis='columns', inplace=True)\n",
    "\n",
    "    credible_authors = credible_authors.merge(combined_early_degree, on='author', how='left')\n",
    "    credible_authors[f\"early_career_degree_{EARLY_CAREER}\"] = credible_authors[f\"early_career_degree_{EARLY_CAREER}\"].fillna(0)"
   ]
  },
  {
   "cell_type": "code",
   "execution_count": 52,
   "metadata": {},
   "outputs": [
    {
     "data": {
      "text/html": [
       "<div>\n",
       "<style scoped>\n",
       "    .dataframe tbody tr th:only-of-type {\n",
       "        vertical-align: middle;\n",
       "    }\n",
       "\n",
       "    .dataframe tbody tr th {\n",
       "        vertical-align: top;\n",
       "    }\n",
       "\n",
       "    .dataframe thead th {\n",
       "        text-align: right;\n",
       "    }\n",
       "</style>\n",
       "<table border=\"1\" class=\"dataframe\">\n",
       "  <thead>\n",
       "    <tr style=\"text-align: right;\">\n",
       "      <th></th>\n",
       "      <th>author</th>\n",
       "      <th>early_career_degree_12</th>\n",
       "    </tr>\n",
       "  </thead>\n",
       "  <tbody>\n",
       "    <tr>\n",
       "      <th>60096</th>\n",
       "      <td>andrew chen</td>\n",
       "      <td>12</td>\n",
       "    </tr>\n",
       "    <tr>\n",
       "      <th>205728</th>\n",
       "      <td>daniela tuparova</td>\n",
       "      <td>2</td>\n",
       "    </tr>\n",
       "    <tr>\n",
       "      <th>865062</th>\n",
       "      <td>salvador sarró</td>\n",
       "      <td>19</td>\n",
       "    </tr>\n",
       "    <tr>\n",
       "      <th>1031385</th>\n",
       "      <td>weining yang</td>\n",
       "      <td>10</td>\n",
       "    </tr>\n",
       "    <tr>\n",
       "      <th>931335</th>\n",
       "      <td>stephen brierley</td>\n",
       "      <td>7</td>\n",
       "    </tr>\n",
       "    <tr>\n",
       "      <th>941607</th>\n",
       "      <td>sun h. song</td>\n",
       "      <td>3</td>\n",
       "    </tr>\n",
       "    <tr>\n",
       "      <th>912646</th>\n",
       "      <td>simon andrew williamson</td>\n",
       "      <td>5</td>\n",
       "    </tr>\n",
       "    <tr>\n",
       "      <th>390111</th>\n",
       "      <td>hyun-wook lim</td>\n",
       "      <td>7</td>\n",
       "    </tr>\n",
       "    <tr>\n",
       "      <th>813933</th>\n",
       "      <td>rasha kashef</td>\n",
       "      <td>2</td>\n",
       "    </tr>\n",
       "    <tr>\n",
       "      <th>167276</th>\n",
       "      <td>christian rathgeb</td>\n",
       "      <td>27</td>\n",
       "    </tr>\n",
       "  </tbody>\n",
       "</table>\n",
       "</div>"
      ],
      "text/plain": [
       "                          author  early_career_degree_12\n",
       "60096                andrew chen                      12\n",
       "205728          daniela tuparova                       2\n",
       "865062            salvador sarró                      19\n",
       "1031385             weining yang                      10\n",
       "931335          stephen brierley                       7\n",
       "941607               sun h. song                       3\n",
       "912646   simon andrew williamson                       5\n",
       "390111             hyun-wook lim                       7\n",
       "813933              rasha kashef                       2\n",
       "167276         christian rathgeb                      27"
      ]
     },
     "execution_count": 52,
     "metadata": {},
     "output_type": "execute_result"
    }
   ],
   "source": [
    "combined_early_degree.sample(10)"
   ]
  },
  {
   "cell_type": "markdown",
   "metadata": {},
   "source": [
    "### Early quality"
   ]
  },
  {
   "cell_type": "code",
   "execution_count": 53,
   "metadata": {},
   "outputs": [],
   "source": [
    "for EARLY_CAREER in EARLY_CAREER_LEN_LIST:\n",
    "    combined_early_quality = combined[(combined.year_pub < combined.start_year + EARLY_CAREER) &\n",
    "             (combined.year_cit < combined.start_year + SUCCESS_CUTOFF)]\n",
    "\n",
    "    early_career_quality = combined_early_quality.groupby('author')['id1'].count()\n",
    "\n",
    "    early_career_quality = early_career_quality.rename(f'early_career_qual_{EARLY_CAREER}')\n",
    "    early_career_quality = early_career_quality.reset_index()\n",
    "    credible_authors = credible_authors.merge(early_career_quality, on='author', how='left')\n",
    "    credible_authors[f'early_career_qual_{EARLY_CAREER}'] = credible_authors[f'early_career_qual_{EARLY_CAREER}'].fillna(0)"
   ]
  },
  {
   "cell_type": "markdown",
   "metadata": {},
   "source": [
    "### Early recognition"
   ]
  },
  {
   "cell_type": "code",
   "execution_count": 100,
   "metadata": {},
   "outputs": [],
   "source": [
    "for EARLY_CAREER in EARLY_CAREER_LEN_LIST:\n",
    "    for RECOGNITION_CUT in RECOGNITION_CUT_OFF_LIST:\n",
    "        if RECOGNITION_CUT != EARLY_CAREER: continue\n",
    "        early_career_recognition = combined[(combined.year_pub < combined.start_year + EARLY_CAREER) &\n",
    "                 (combined.year_cit < combined.start_year + RECOGNITION_CUT)]\n",
    "        early_career_recognition = early_career_recognition.groupby('author')['id1'].count()\n",
    "        col_name = f'early_career_recognition_EC{EARLY_CAREER}_RC{RECOGNITION_CUT}'\n",
    "        early_career_recognition = early_career_recognition.rename(col_name)\n",
    "        early_career_recognition = early_career_recognition.reset_index()\n",
    "        credible_authors = credible_authors.merge(early_career_recognition, on='author', how='left')\n",
    "        credible_authors[col_name] = credible_authors[col_name].fillna(0)"
   ]
  },
  {
   "cell_type": "code",
   "execution_count": null,
   "metadata": {},
   "outputs": [],
   "source": []
  },
  {
   "cell_type": "markdown",
   "metadata": {},
   "source": [
    "### Final success"
   ]
  },
  {
   "cell_type": "code",
   "execution_count": 55,
   "metadata": {},
   "outputs": [],
   "source": [
    "combined_succ_after_15y = combined[combined.year_cit < combined.start_year + SUCCESS_CUTOFF]"
   ]
  },
  {
   "cell_type": "code",
   "execution_count": 56,
   "metadata": {},
   "outputs": [],
   "source": [
    "succ_after_15y = combined_succ_after_15y.groupby('author')['id1'].count()\n",
    "\n",
    "succ_after_15y = succ_after_15y.rename('succ_after_15y')\n",
    "succ_after_15y = succ_after_15y.reset_index()\n",
    "credible_authors = credible_authors.merge(succ_after_15y, on='author', how='left')\n",
    "credible_authors['succ_after_15y'] = credible_authors['succ_after_15y'].fillna(0)"
   ]
  },
  {
   "cell_type": "markdown",
   "metadata": {},
   "source": [
    "### H index"
   ]
  },
  {
   "cell_type": "code",
   "execution_count": null,
   "metadata": {},
   "outputs": [],
   "source": [
    "def h_index(citations):\n",
    "    if len(citations) == 0: return 0\n",
    "    if len(citations) == 1: return 1\n",
    "    citations = sorted(citations, reverse=True)\n",
    "    h_ind = 0\n",
    "    for i, elem in enumerate(citations):\n",
    "        if i+1 > elem:\n",
    "            return i\n",
    "        h_ind = i+1\n",
    "    return h_ind"
   ]
  },
  {
   "cell_type": "code",
   "execution_count": 90,
   "metadata": {},
   "outputs": [],
   "source": [
    "for param in [*EARLY_CAREER_LEN_LIST, SUCCESS_CUTOFF]:\n",
    "\n",
    "    combined_h_index = combined[combined.year_cit < combined.start_year + param]\n",
    "\n",
    "    combined_h_index = combined_h_index.groupby(['author', 'pub_id'])['id1'].count()\n",
    "\n",
    "    combined_h_index = combined_h_index.reset_index()\n",
    "\n",
    "    combined_h_index = combined_h_index.groupby('author')['id1'].apply(lambda x: h_index(x.values))\n",
    "\n",
    "    combined_h_index = combined_h_index.rename(f'h-index_{param}')\n",
    "\n",
    "    credible_authors = credible_authors.merge(combined_h_index.reset_index(), on='author', how='left')\n",
    "    credible_authors[f'h-index_{param}'] = credible_authors[f'h-index_{param}'].fillna(0)"
   ]
  },
  {
   "cell_type": "code",
   "execution_count": null,
   "metadata": {},
   "outputs": [],
   "source": [
    "def get_early_career_prod(row, early_career_len):\n",
    "    early_prod = 0\n",
    "    author = row.author\n",
    "    start_year = row['start_year']\n",
    "    year_num_pub = author_year_numPub[author]\n",
    "    for year in range(early_career_len):\n",
    "        if start_year + year in year_num_pub:\n",
    "            early_prod += year_num_pub[start_year + year]\n",
    "    return early_prod"
   ]
  },
  {
   "cell_type": "code",
   "execution_count": null,
   "metadata": {},
   "outputs": [],
   "source": [
    "author_year_numPub = authorPublicationData.groupby(['author', 'year'])['pub_id'].count()"
   ]
  },
  {
   "cell_type": "code",
   "execution_count": null,
   "metadata": {},
   "outputs": [],
   "source": [
    "%%time\n",
    "for EARLY_CAREER in EARLY_CAREER_LEN_LIST:\n",
    "    credible_authors[f'early_career_prod_{EARLY_CAREER}'] = credible_authors.apply(\n",
    "        lambda x: get_early_career_prod(x, EARLY_CAREER), axis=1)"
   ]
  },
  {
   "cell_type": "code",
   "execution_count": null,
   "metadata": {},
   "outputs": [],
   "source": [
    "def get_early_publications(row, early_career_len):\n",
    "    # TODO remove\n",
    "    early_pubs = []\n",
    "    author = row.author\n",
    "    start_year = row['start_year']\n",
    "    year_pub_list = author_year_publications[author]\n",
    "    for year in range(early_career_len):\n",
    "        if start_year + year in year_pub_list:\n",
    "            early_pubs.extend(year_pub_list[start_year + year])\n",
    "    return early_pubs"
   ]
  },
  {
   "cell_type": "code",
   "execution_count": null,
   "metadata": {},
   "outputs": [],
   "source": [
    "# author_year_publications = authorPublicationData.groupby(['author', 'year'])['pub_id'].apply(list)"
   ]
  },
  {
   "cell_type": "code",
   "execution_count": null,
   "metadata": {},
   "outputs": [],
   "source": [
    "# %%time\n",
    "# credible_authors['early_career_pubs'] = credible_authors.apply(lambda x: get_early_publications(x, EARLY_CAREER_LEN), axis=1)"
   ]
  },
  {
   "cell_type": "code",
   "execution_count": null,
   "metadata": {},
   "outputs": [],
   "source": [
    "# final_citation_count = citations_year_auth.groupby('author')['cit_count'].sum()\n",
    "\n",
    "# final_citation_count = final_citation_count.reset_index()\n",
    "\n",
    "# credible_authors = credible_authors.merge(final_citation_count, on='author', how='left') \n",
    "\n",
    "\n",
    "# credible_authors.rename({'cit_count': 'final_citation_count'}, axis=1, inplace=True)\n",
    "\n",
    "# credible_authors['final_citation_count'] = credible_authors['final_citation_count'].fillna(0)"
   ]
  },
  {
   "cell_type": "markdown",
   "metadata": {},
   "source": [
    "### Early Coauthor max h-index"
   ]
  },
  {
   "cell_type": "code",
   "execution_count": null,
   "metadata": {},
   "outputs": [],
   "source": [
    "for EARLY_CAREER in EARLY_CAREER_LEN_LIST:\n",
    "    combined_early_coauthor = combined[(combined.year_pub < combined.start_year + EARLY_CAREER)]\n",
    "\n",
    "    combined_early_coauthor = combined_early_coauthor.drop_duplicates(subset=['author', 'pub_id'])\n",
    "\n",
    "    combined_early_coauthor = combined_early_coauthor[['author', 'pub_id']]\n",
    "\n",
    "    # merging with self here removes coauthors that are not in their early career\n",
    "    combined_early_coauthor = combined_early_coauthor.merge(combined, on='pub_id')\n",
    "\n",
    "    combined_early_coauthor = combined_early_coauthor[combined_early_coauthor.author_x != combined_early_coauthor.author_y]\n",
    "    combined_early_coauthor = combined_early_coauthor.drop_duplicates(subset=['author_x', 'author_y'])\n",
    "\n",
    "    combined_early_coauthor = combined_early_coauthor.merge(credible_authors[['author', 'h-index_15']], left_on='author_y', right_on='author')\n",
    "\n",
    "    combined_early_coauthor = combined_early_coauthor.groupby('author_x')['h-index_15'].max().reset_index()\n",
    "\n",
    "    combined_early_coauthor.rename({\"author_x\":\"author\", \"h-index_15\": f\"early_career_coauthor_max_hindex_{EARLY_CAREER}\"}, \n",
    "                                 axis='columns', inplace=True)\n",
    "\n",
    "    combined_early_coauthor = combined_early_coauthor[['author', f\"early_career_coauthor_max_hindex_{EARLY_CAREER}\"]]\n",
    "\n",
    "    credible_authors = credible_authors.merge(combined_early_coauthor, on='author', how='left')\n",
    "    credible_authors[f\"early_career_coauthor_max_hindex_{EARLY_CAREER}\"] = credible_authors[f\"early_career_coauthor_max_hindex_{EARLY_CAREER}\"].fillna(0)"
   ]
  },
  {
   "cell_type": "markdown",
   "metadata": {},
   "source": [
    "### Early Coauthor max citations"
   ]
  },
  {
   "cell_type": "code",
   "execution_count": null,
   "metadata": {},
   "outputs": [],
   "source": [
    "for EARLY_CAREER in EARLY_CAREER_LEN_LIST:\n",
    "    combined_early_coauthor = combined[(combined.year_pub < combined.start_year + EARLY_CAREER)]\n",
    "\n",
    "    combined_early_coauthor = combined_early_coauthor.drop_duplicates(subset=['author', 'pub_id'])\n",
    "\n",
    "    combined_early_coauthor = combined_early_coauthor[['author', 'pub_id']]\n",
    "\n",
    "    combined_early_coauthor = combined_early_coauthor.merge(combined, on='pub_id')\n",
    "\n",
    "    combined_early_coauthor = combined_early_coauthor[combined_early_coauthor.author_x != combined_early_coauthor.author_y]\n",
    "    combined_early_coauthor = combined_early_coauthor.drop_duplicates(subset=['author_x', 'author_y'])\n",
    "\n",
    "    combined_early_coauthor = combined_early_coauthor.merge(credible_authors[['author', 'succ_after_15y']], left_on='author_y', right_on='author')\n",
    "    combined_early_coauthor = combined_early_coauthor.groupby('author_x')['succ_after_15y'].max().reset_index()\n",
    "\n",
    "    combined_early_coauthor.rename({\"author_x\":\"author\", \"succ_after_15y\": f\"early_career_coauthor_max_cit_{EARLY_CAREER}\"}, \n",
    "                                 axis='columns', inplace=True)\n",
    "\n",
    "    combined_early_coauthor = combined_early_coauthor[['author', f\"early_career_coauthor_max_cit_{EARLY_CAREER}\"]]\n",
    "\n",
    "    credible_authors = credible_authors.merge(combined_early_coauthor, on='author', how='left')\n",
    "    credible_authors[f\"early_career_coauthor_max_cit_{EARLY_CAREER}\"] = credible_authors[f\"early_career_coauthor_max_cit_{EARLY_CAREER}\"].fillna(0)"
   ]
  },
  {
   "cell_type": "code",
   "execution_count": null,
   "metadata": {},
   "outputs": [],
   "source": [
    "combined_test = combined[(combined.year_pub < combined.start_year + 3)]"
   ]
  },
  {
   "cell_type": "code",
   "execution_count": null,
   "metadata": {},
   "outputs": [],
   "source": [
    "credible_authors.sample(5)"
   ]
  },
  {
   "cell_type": "code",
   "execution_count": null,
   "metadata": {},
   "outputs": [],
   "source": [
    "credible_authors.sample(1)['author'].values[0]"
   ]
  },
  {
   "cell_type": "code",
   "execution_count": null,
   "metadata": {},
   "outputs": [],
   "source": [
    "# test - sample 50 authors and calculate data by hand, compare to sampled values to see if the calculation is good"
   ]
  },
  {
   "cell_type": "code",
   "execution_count": null,
   "metadata": {},
   "outputs": [],
   "source": [
    "combined_test = combined[(combined.year_pub < combined.start_year + 3)]"
   ]
  },
  {
   "cell_type": "code",
   "execution_count": null,
   "metadata": {},
   "outputs": [],
   "source": [
    "test_authors = credible_authors.sample(50)['author'].values\n",
    "\n",
    "i = 1\n",
    "\n",
    "for test_author in test_authors:\n",
    "\n",
    "    test_author_data = credible_authors[credible_authors.author == test_author][\n",
    "        ['author','early_career_degree_3', 'h-index_15', 'early_career_coauthor_max_hindex_3', 'early_career_coauthor_max_cit_3']]\n",
    "\n",
    "    papers = combined_test[combined_test.author == test_author]['pub_id'].unique()\n",
    "\n",
    "    authors = authorPublicationData[authorPublicationData.pub_id.isin(papers)].author\n",
    "    \n",
    "    coauth_data = credible_authors[credible_authors.author.isin(authors)][['author', 'h-index_15', 'succ_after_15y']]\n",
    "    \n",
    "    coauth_data = coauth_data[~coauth_data.author.isin(test_author_data['author'])]\n",
    "    \n",
    "    assert test_author_data['early_career_degree_3'].item() == coauth_data.shape[0], \\\n",
    "    f'Degree problem, expected {coauth_data.shape[0]}, got {test_author_data[\"early_career_degree_3\"].item()}'\n",
    "    \n",
    "    assert test_author_data['early_career_coauthor_max_hindex_3'].item() == max(coauth_data[\"h-index_15\"], default=0), \\\n",
    "    f'H index problem, expected {max(coauth_data[\"h-index_15\"], default=0)}, got {test_author_data[\"early_career_coauthor_max_hindex_3\"].item()}'\n",
    "    \n",
    "    assert test_author_data['early_career_coauthor_max_cit_3'].item() == max(coauth_data[\"succ_after_15y\"], default=0), \\\n",
    "    f'15y success problem, expected {max(coauth_data[\"succ_after_15y\"], default=0)}, got {test_author_data[\"early_career_coauthor_max_cit_3\"].item()}'\n",
    "    \n",
    "    if i%10 == 0: \n",
    "        print(f\"Passed test {i}\")\n",
    "    i += 1"
   ]
  },
  {
   "cell_type": "code",
   "execution_count": 98,
   "metadata": {},
   "outputs": [],
   "source": [
    "# drop\n",
    "drop_list = ['early_career_recognition_EC3_RC3',\n",
    "       'early_career_recognition_EC5_RC5']\n",
    "credible_authors.drop(drop_list, axis=1, inplace=True)"
   ]
  },
  {
   "cell_type": "code",
   "execution_count": 105,
   "metadata": {},
   "outputs": [
    {
     "data": {
      "text/html": [
       "<div>\n",
       "<style scoped>\n",
       "    .dataframe tbody tr th:only-of-type {\n",
       "        vertical-align: middle;\n",
       "    }\n",
       "\n",
       "    .dataframe tbody tr th {\n",
       "        vertical-align: top;\n",
       "    }\n",
       "\n",
       "    .dataframe thead th {\n",
       "        text-align: right;\n",
       "    }\n",
       "</style>\n",
       "<table border=\"1\" class=\"dataframe\">\n",
       "  <thead>\n",
       "    <tr style=\"text-align: right;\">\n",
       "      <th></th>\n",
       "      <th>author</th>\n",
       "    </tr>\n",
       "    <tr>\n",
       "      <th>pub_id</th>\n",
       "      <th></th>\n",
       "    </tr>\n",
       "  </thead>\n",
       "  <tbody>\n",
       "    <tr>\n",
       "      <th>000000b8-7f59-49ad-b9bc-e92aa858fc37</th>\n",
       "      <td>3</td>\n",
       "    </tr>\n",
       "    <tr>\n",
       "      <th>00000531-60da-43d0-9112-2e4a80c6b59b</th>\n",
       "      <td>3</td>\n",
       "    </tr>\n",
       "    <tr>\n",
       "      <th>000008be-a786-4a32-a47a-54d120d2e11a</th>\n",
       "      <td>2</td>\n",
       "    </tr>\n",
       "    <tr>\n",
       "      <th>00001079-d70d-41ac-ba46-bd1dac1a553f</th>\n",
       "      <td>4</td>\n",
       "    </tr>\n",
       "    <tr>\n",
       "      <th>00001152-dd4d-42e3-8ab4-1a42c21ef34c</th>\n",
       "      <td>4</td>\n",
       "    </tr>\n",
       "    <tr>\n",
       "      <th>00001301-0e56-4c9d-94aa-f776580aed87</th>\n",
       "      <td>6</td>\n",
       "    </tr>\n",
       "    <tr>\n",
       "      <th>00001391-328d-4278-aefd-f5e2fb4edead</th>\n",
       "      <td>2</td>\n",
       "    </tr>\n",
       "    <tr>\n",
       "      <th>00001b9e-7724-47c0-8748-ce361426a62a</th>\n",
       "      <td>4</td>\n",
       "    </tr>\n",
       "    <tr>\n",
       "      <th>00001bf6-0c0c-4264-a81b-0f1ddab7a25a</th>\n",
       "      <td>2</td>\n",
       "    </tr>\n",
       "    <tr>\n",
       "      <th>00001d52-f2bd-4137-8d6b-b34e65a972bf</th>\n",
       "      <td>3</td>\n",
       "    </tr>\n",
       "    <tr>\n",
       "      <th>00001fb9-b0eb-49e5-b893-eb9b47c78910</th>\n",
       "      <td>2</td>\n",
       "    </tr>\n",
       "    <tr>\n",
       "      <th>000020ae-0106-46dd-a3c9-610e3bd9e4e4</th>\n",
       "      <td>6</td>\n",
       "    </tr>\n",
       "    <tr>\n",
       "      <th>000024b3-0d71-41ff-a66d-12a72e47af9b</th>\n",
       "      <td>5</td>\n",
       "    </tr>\n",
       "    <tr>\n",
       "      <th>000025e6-bde0-4f88-bf14-72f4630c4f0a</th>\n",
       "      <td>5</td>\n",
       "    </tr>\n",
       "    <tr>\n",
       "      <th>000026ec-a13d-4c5f-837f-3e7dd0953e62</th>\n",
       "      <td>2</td>\n",
       "    </tr>\n",
       "    <tr>\n",
       "      <th>00002c49-d06c-436c-b264-ff663d501729</th>\n",
       "      <td>1</td>\n",
       "    </tr>\n",
       "    <tr>\n",
       "      <th>000033b4-6e23-452b-8e4c-985cbb77335a</th>\n",
       "      <td>6</td>\n",
       "    </tr>\n",
       "    <tr>\n",
       "      <th>00003883-8fc4-4902-898a-fb47f9a5da8a</th>\n",
       "      <td>3</td>\n",
       "    </tr>\n",
       "    <tr>\n",
       "      <th>00003e8f-65e9-4550-a2e7-aae48a59588f</th>\n",
       "      <td>2</td>\n",
       "    </tr>\n",
       "    <tr>\n",
       "      <th>000045d5-4abe-46c6-bfcb-6e32c68e4ba2</th>\n",
       "      <td>5</td>\n",
       "    </tr>\n",
       "    <tr>\n",
       "      <th>000049b0-2c46-4ff4-afd6-38bbb99e523c</th>\n",
       "      <td>1</td>\n",
       "    </tr>\n",
       "    <tr>\n",
       "      <th>00005044-3f24-4ba3-afff-9ac6dd99b621</th>\n",
       "      <td>3</td>\n",
       "    </tr>\n",
       "    <tr>\n",
       "      <th>00005148-012d-4a40-bf03-0edf567a744f</th>\n",
       "      <td>3</td>\n",
       "    </tr>\n",
       "    <tr>\n",
       "      <th>000058ae-1641-4c54-8789-72753d447965</th>\n",
       "      <td>4</td>\n",
       "    </tr>\n",
       "    <tr>\n",
       "      <th>00006022-0486-4973-910b-ed0a9bef53dd</th>\n",
       "      <td>3</td>\n",
       "    </tr>\n",
       "    <tr>\n",
       "      <th>00006539-4cbe-4aee-80ca-4eb7639801bc</th>\n",
       "      <td>3</td>\n",
       "    </tr>\n",
       "    <tr>\n",
       "      <th>000065d6-dfed-4431-8b51-af8d92a42912</th>\n",
       "      <td>5</td>\n",
       "    </tr>\n",
       "    <tr>\n",
       "      <th>00006cd0-f5f3-4d8c-b48f-3a4fa07949df</th>\n",
       "      <td>2</td>\n",
       "    </tr>\n",
       "    <tr>\n",
       "      <th>0000710c-8d16-472f-85c2-b5ef352b0e46</th>\n",
       "      <td>4</td>\n",
       "    </tr>\n",
       "    <tr>\n",
       "      <th>00007214-ae89-45e6-8de4-582de4830587</th>\n",
       "      <td>3</td>\n",
       "    </tr>\n",
       "    <tr>\n",
       "      <th>...</th>\n",
       "      <td>...</td>\n",
       "    </tr>\n",
       "    <tr>\n",
       "      <th>ffff5370-f533-4457-b3da-57405e9fda92</th>\n",
       "      <td>5</td>\n",
       "    </tr>\n",
       "    <tr>\n",
       "      <th>ffff5c1b-149f-4f80-86da-32a11c1c8657</th>\n",
       "      <td>4</td>\n",
       "    </tr>\n",
       "    <tr>\n",
       "      <th>ffff6052-4df7-45b8-8a54-72a71b9957ba</th>\n",
       "      <td>2</td>\n",
       "    </tr>\n",
       "    <tr>\n",
       "      <th>ffff621c-d90e-4002-a06f-116d61dfff67</th>\n",
       "      <td>2</td>\n",
       "    </tr>\n",
       "    <tr>\n",
       "      <th>ffff67c9-2537-4fc7-9315-32251f5e5c42</th>\n",
       "      <td>1</td>\n",
       "    </tr>\n",
       "    <tr>\n",
       "      <th>ffff6d5e-433c-4a87-8d41-0af4fb9921c5</th>\n",
       "      <td>2</td>\n",
       "    </tr>\n",
       "    <tr>\n",
       "      <th>ffff7222-17b2-4993-9919-256de9cb83ad</th>\n",
       "      <td>3</td>\n",
       "    </tr>\n",
       "    <tr>\n",
       "      <th>ffff7590-a745-4836-af20-7c4bd8f381a0</th>\n",
       "      <td>4</td>\n",
       "    </tr>\n",
       "    <tr>\n",
       "      <th>ffff776f-8bf5-4bbe-81a5-01d739d39765</th>\n",
       "      <td>2</td>\n",
       "    </tr>\n",
       "    <tr>\n",
       "      <th>ffff7861-57f5-4bf0-9086-a9f70e675809</th>\n",
       "      <td>2</td>\n",
       "    </tr>\n",
       "    <tr>\n",
       "      <th>ffff8a10-c30e-4f79-9799-9595a7d70bf7</th>\n",
       "      <td>4</td>\n",
       "    </tr>\n",
       "    <tr>\n",
       "      <th>ffff9199-31cc-429b-a545-341c9cbb06e5</th>\n",
       "      <td>3</td>\n",
       "    </tr>\n",
       "    <tr>\n",
       "      <th>ffff9cdf-ed98-44e2-9583-a314effbffeb</th>\n",
       "      <td>3</td>\n",
       "    </tr>\n",
       "    <tr>\n",
       "      <th>ffff9cf7-5b30-483e-bc4c-56137dadfa23</th>\n",
       "      <td>1</td>\n",
       "    </tr>\n",
       "    <tr>\n",
       "      <th>ffff9d6e-55f1-49af-9fa7-6d7c73f025a1</th>\n",
       "      <td>2</td>\n",
       "    </tr>\n",
       "    <tr>\n",
       "      <th>ffffa327-498a-4d04-83e7-ba5e97200435</th>\n",
       "      <td>4</td>\n",
       "    </tr>\n",
       "    <tr>\n",
       "      <th>ffffaaa1-7fe2-4eeb-9491-86396848d26c</th>\n",
       "      <td>2</td>\n",
       "    </tr>\n",
       "    <tr>\n",
       "      <th>ffffab35-c3af-4449-8618-5e24d32cab77</th>\n",
       "      <td>3</td>\n",
       "    </tr>\n",
       "    <tr>\n",
       "      <th>ffffb149-3ed8-4fa3-944a-13e8f6435a3e</th>\n",
       "      <td>3</td>\n",
       "    </tr>\n",
       "    <tr>\n",
       "      <th>ffffbc17-bd82-4c42-ae2d-0ec82472fbc9</th>\n",
       "      <td>4</td>\n",
       "    </tr>\n",
       "    <tr>\n",
       "      <th>ffffbead-efc5-40a4-bd58-6cb11a38489c</th>\n",
       "      <td>2</td>\n",
       "    </tr>\n",
       "    <tr>\n",
       "      <th>ffffc08e-8221-497d-b109-a1e93788d666</th>\n",
       "      <td>4</td>\n",
       "    </tr>\n",
       "    <tr>\n",
       "      <th>ffffc36e-3b7e-48e9-8b89-3b9853383b95</th>\n",
       "      <td>3</td>\n",
       "    </tr>\n",
       "    <tr>\n",
       "      <th>ffffca84-c2b7-4f9c-af73-39d45cc5afd3</th>\n",
       "      <td>3</td>\n",
       "    </tr>\n",
       "    <tr>\n",
       "      <th>ffffd0b6-066e-48ca-92c4-a59d9a1d7546</th>\n",
       "      <td>4</td>\n",
       "    </tr>\n",
       "    <tr>\n",
       "      <th>ffffdbb2-2688-47dc-9347-daa2a127f467</th>\n",
       "      <td>2</td>\n",
       "    </tr>\n",
       "    <tr>\n",
       "      <th>ffffdcf9-0884-4082-aca5-7b4bc462f872</th>\n",
       "      <td>5</td>\n",
       "    </tr>\n",
       "    <tr>\n",
       "      <th>ffffdd4c-10f7-404b-9f52-e290b588b256</th>\n",
       "      <td>5</td>\n",
       "    </tr>\n",
       "    <tr>\n",
       "      <th>ffffe0db-8dfe-45de-ab4f-7fd53f72cefe</th>\n",
       "      <td>2</td>\n",
       "    </tr>\n",
       "    <tr>\n",
       "      <th>ffffe1e6-981e-4cf9-909f-dd7e39993ddc</th>\n",
       "      <td>4</td>\n",
       "    </tr>\n",
       "  </tbody>\n",
       "</table>\n",
       "<p>3078230 rows × 1 columns</p>\n",
       "</div>"
      ],
      "text/plain": [
       "                                      author\n",
       "pub_id                                      \n",
       "000000b8-7f59-49ad-b9bc-e92aa858fc37       3\n",
       "00000531-60da-43d0-9112-2e4a80c6b59b       3\n",
       "000008be-a786-4a32-a47a-54d120d2e11a       2\n",
       "00001079-d70d-41ac-ba46-bd1dac1a553f       4\n",
       "00001152-dd4d-42e3-8ab4-1a42c21ef34c       4\n",
       "00001301-0e56-4c9d-94aa-f776580aed87       6\n",
       "00001391-328d-4278-aefd-f5e2fb4edead       2\n",
       "00001b9e-7724-47c0-8748-ce361426a62a       4\n",
       "00001bf6-0c0c-4264-a81b-0f1ddab7a25a       2\n",
       "00001d52-f2bd-4137-8d6b-b34e65a972bf       3\n",
       "00001fb9-b0eb-49e5-b893-eb9b47c78910       2\n",
       "000020ae-0106-46dd-a3c9-610e3bd9e4e4       6\n",
       "000024b3-0d71-41ff-a66d-12a72e47af9b       5\n",
       "000025e6-bde0-4f88-bf14-72f4630c4f0a       5\n",
       "000026ec-a13d-4c5f-837f-3e7dd0953e62       2\n",
       "00002c49-d06c-436c-b264-ff663d501729       1\n",
       "000033b4-6e23-452b-8e4c-985cbb77335a       6\n",
       "00003883-8fc4-4902-898a-fb47f9a5da8a       3\n",
       "00003e8f-65e9-4550-a2e7-aae48a59588f       2\n",
       "000045d5-4abe-46c6-bfcb-6e32c68e4ba2       5\n",
       "000049b0-2c46-4ff4-afd6-38bbb99e523c       1\n",
       "00005044-3f24-4ba3-afff-9ac6dd99b621       3\n",
       "00005148-012d-4a40-bf03-0edf567a744f       3\n",
       "000058ae-1641-4c54-8789-72753d447965       4\n",
       "00006022-0486-4973-910b-ed0a9bef53dd       3\n",
       "00006539-4cbe-4aee-80ca-4eb7639801bc       3\n",
       "000065d6-dfed-4431-8b51-af8d92a42912       5\n",
       "00006cd0-f5f3-4d8c-b48f-3a4fa07949df       2\n",
       "0000710c-8d16-472f-85c2-b5ef352b0e46       4\n",
       "00007214-ae89-45e6-8de4-582de4830587       3\n",
       "...                                      ...\n",
       "ffff5370-f533-4457-b3da-57405e9fda92       5\n",
       "ffff5c1b-149f-4f80-86da-32a11c1c8657       4\n",
       "ffff6052-4df7-45b8-8a54-72a71b9957ba       2\n",
       "ffff621c-d90e-4002-a06f-116d61dfff67       2\n",
       "ffff67c9-2537-4fc7-9315-32251f5e5c42       1\n",
       "ffff6d5e-433c-4a87-8d41-0af4fb9921c5       2\n",
       "ffff7222-17b2-4993-9919-256de9cb83ad       3\n",
       "ffff7590-a745-4836-af20-7c4bd8f381a0       4\n",
       "ffff776f-8bf5-4bbe-81a5-01d739d39765       2\n",
       "ffff7861-57f5-4bf0-9086-a9f70e675809       2\n",
       "ffff8a10-c30e-4f79-9799-9595a7d70bf7       4\n",
       "ffff9199-31cc-429b-a545-341c9cbb06e5       3\n",
       "ffff9cdf-ed98-44e2-9583-a314effbffeb       3\n",
       "ffff9cf7-5b30-483e-bc4c-56137dadfa23       1\n",
       "ffff9d6e-55f1-49af-9fa7-6d7c73f025a1       2\n",
       "ffffa327-498a-4d04-83e7-ba5e97200435       4\n",
       "ffffaaa1-7fe2-4eeb-9491-86396848d26c       2\n",
       "ffffab35-c3af-4449-8618-5e24d32cab77       3\n",
       "ffffb149-3ed8-4fa3-944a-13e8f6435a3e       3\n",
       "ffffbc17-bd82-4c42-ae2d-0ec82472fbc9       4\n",
       "ffffbead-efc5-40a4-bd58-6cb11a38489c       2\n",
       "ffffc08e-8221-497d-b109-a1e93788d666       4\n",
       "ffffc36e-3b7e-48e9-8b89-3b9853383b95       3\n",
       "ffffca84-c2b7-4f9c-af73-39d45cc5afd3       3\n",
       "ffffd0b6-066e-48ca-92c4-a59d9a1d7546       4\n",
       "ffffdbb2-2688-47dc-9347-daa2a127f467       2\n",
       "ffffdcf9-0884-4082-aca5-7b4bc462f872       5\n",
       "ffffdd4c-10f7-404b-9f52-e290b588b256       5\n",
       "ffffe0db-8dfe-45de-ab4f-7fd53f72cefe       2\n",
       "ffffe1e6-981e-4cf9-909f-dd7e39993ddc       4\n",
       "\n",
       "[3078230 rows x 1 columns]"
      ]
     },
     "execution_count": 105,
     "metadata": {},
     "output_type": "execute_result"
    }
   ],
   "source": [
    "# How many authors does each paper have?\n",
    "authorPublicationData.groupby('pub_id').agg({'author':'nunique'})"
   ]
  },
  {
   "cell_type": "markdown",
   "metadata": {},
   "source": [
    "## Save"
   ]
  },
  {
   "cell_type": "code",
   "execution_count": 102,
   "metadata": {},
   "outputs": [],
   "source": [
    "# credible_authors.to_csv('derived-data/authors-scientific-atleast-'+str(CAREER_LENGTH)+'-year-extended.csv',\n",
    "#                     index=False, encoding='utf-8')\n",
    "credible_authors.to_csv('derived-data/authors-scientific-extended.csv',\n",
    "                    index=False, encoding='utf-8')"
   ]
  },
  {
   "cell_type": "code",
   "execution_count": 101,
   "metadata": {},
   "outputs": [
    {
     "data": {
      "text/plain": [
       "Index(['author', 'start_year', 'end_year', 'total_num_pub', 'career_length',\n",
       "       'max_absence-0-15', 'avg_absence-0-15', 'dropped_after_10', 'gender',\n",
       "       'early_career_degree_3', 'early_career_degree_5',\n",
       "       'early_career_degree_7', 'early_career_degree_9',\n",
       "       'early_career_degree_11', 'early_career_degree_12',\n",
       "       'early_career_qual_3', 'early_career_qual_5', 'early_career_qual_7',\n",
       "       'early_career_qual_9', 'early_career_qual_11', 'early_career_qual_12',\n",
       "       'succ_after_15y', 'early_career_prod_3', 'early_career_prod_5',\n",
       "       'early_career_prod_7', 'early_career_prod_9', 'early_career_prod_11',\n",
       "       'early_career_prod_12', 'early_career_coauthor_max_hindex_3',\n",
       "       'early_career_coauthor_max_hindex_5',\n",
       "       'early_career_coauthor_max_hindex_7',\n",
       "       'early_career_coauthor_max_hindex_9',\n",
       "       'early_career_coauthor_max_hindex_11',\n",
       "       'early_career_coauthor_max_hindex_12',\n",
       "       'early_career_coauthor_max_cit_3', 'early_career_coauthor_max_cit_5',\n",
       "       'early_career_coauthor_max_cit_7', 'early_career_coauthor_max_cit_9',\n",
       "       'early_career_coauthor_max_cit_11', 'early_career_coauthor_max_cit_12',\n",
       "       'h-index_3', 'h-index_5', 'h-index_7', 'h-index_9', 'h-index_11',\n",
       "       'h-index_12', 'h-index_15', 'early_career_recognition_EC3_RC3',\n",
       "       'early_career_recognition_EC5_RC5', 'early_career_recognition_EC7_RC7',\n",
       "       'early_career_recognition_EC9_RC9',\n",
       "       'early_career_recognition_EC11_RC11',\n",
       "       'early_career_recognition_EC12_RC12'],\n",
       "      dtype='object')"
      ]
     },
     "execution_count": 101,
     "metadata": {},
     "output_type": "execute_result"
    }
   ],
   "source": [
    "credible_authors.columns"
   ]
  },
  {
   "cell_type": "code",
   "execution_count": null,
   "metadata": {},
   "outputs": [],
   "source": []
  }
 ],
 "metadata": {
  "kernelspec": {
   "display_name": "Python 3",
   "language": "python",
   "name": "python3"
  },
  "language_info": {
   "codemirror_mode": {
    "name": "ipython",
    "version": 3
   },
   "file_extension": ".py",
   "mimetype": "text/x-python",
   "name": "python",
   "nbconvert_exporter": "python",
   "pygments_lexer": "ipython3",
   "version": "3.6.7"
  }
 },
 "nbformat": 4,
 "nbformat_minor": 2
}
