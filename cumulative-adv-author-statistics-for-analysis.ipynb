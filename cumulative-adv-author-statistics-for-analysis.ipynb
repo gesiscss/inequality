{
 "cells": [
  {
   "cell_type": "code",
   "execution_count": 1,
   "metadata": {
    "collapsed": true
   },
   "outputs": [],
   "source": [
    "import pandas as pd\n",
    "import numpy as np\n",
    "import matplotlib.pyplot as plt\n",
    "%matplotlib inline\n",
    "import timeit"
   ]
  },
  {
   "cell_type": "code",
   "execution_count": 2,
   "metadata": {},
   "outputs": [
    {
     "name": "stdout",
     "output_type": "stream",
     "text": [
      "Start Time (in sec) -  6.220009833835547e-07\n"
     ]
    }
   ],
   "source": [
    "start_time = timeit.default_timer()\n",
    "print('Start Time (in sec) - ',start_time)"
   ]
  },
  {
   "cell_type": "code",
   "execution_count": 3,
   "metadata": {},
   "outputs": [
    {
     "data": {
      "text/html": [
       "<div>\n",
       "<style>\n",
       "    .dataframe thead tr:only-child th {\n",
       "        text-align: right;\n",
       "    }\n",
       "\n",
       "    .dataframe thead th {\n",
       "        text-align: left;\n",
       "    }\n",
       "\n",
       "    .dataframe tbody tr th {\n",
       "        vertical-align: top;\n",
       "    }\n",
       "</style>\n",
       "<table border=\"1\" class=\"dataframe\">\n",
       "  <thead>\n",
       "    <tr style=\"text-align: right;\">\n",
       "      <th></th>\n",
       "      <th>year</th>\n",
       "    </tr>\n",
       "  </thead>\n",
       "  <tbody>\n",
       "    <tr>\n",
       "      <th>count</th>\n",
       "      <td>9.078240e+06</td>\n",
       "    </tr>\n",
       "    <tr>\n",
       "      <th>mean</th>\n",
       "      <td>2.007702e+03</td>\n",
       "    </tr>\n",
       "    <tr>\n",
       "      <th>std</th>\n",
       "      <td>6.987617e+00</td>\n",
       "    </tr>\n",
       "    <tr>\n",
       "      <th>min</th>\n",
       "      <td>1.970000e+03</td>\n",
       "    </tr>\n",
       "    <tr>\n",
       "      <th>25%</th>\n",
       "      <td>2.005000e+03</td>\n",
       "    </tr>\n",
       "    <tr>\n",
       "      <th>50%</th>\n",
       "      <td>2.009000e+03</td>\n",
       "    </tr>\n",
       "    <tr>\n",
       "      <th>75%</th>\n",
       "      <td>2.013000e+03</td>\n",
       "    </tr>\n",
       "    <tr>\n",
       "      <th>max</th>\n",
       "      <td>2.016000e+03</td>\n",
       "    </tr>\n",
       "  </tbody>\n",
       "</table>\n",
       "</div>"
      ],
      "text/plain": [
       "               year\n",
       "count  9.078240e+06\n",
       "mean   2.007702e+03\n",
       "std    6.987617e+00\n",
       "min    1.970000e+03\n",
       "25%    2.005000e+03\n",
       "50%    2.009000e+03\n",
       "75%    2.013000e+03\n",
       "max    2.016000e+03"
      ]
     },
     "execution_count": 3,
     "metadata": {},
     "output_type": "execute_result"
    }
   ],
   "source": [
    "authorPublicationsData = pd.read_csv('data/author_publications_1970_2016_asiansAsNone.txt')\n",
    "#authorPublicationsData = pd.read_csv('data/author_publications_1970_2000_asiansAsNone.csv')\n",
    "# To speed up the implementation, if required consider a small dataset\n",
    "# Look at 'shorten-dblp-data-for-faster-access' notebook to creat a smaller dataset\n",
    "authorPublicationsData.describe()"
   ]
  },
  {
   "cell_type": "code",
   "execution_count": 4,
   "metadata": {},
   "outputs": [
    {
     "data": {
      "text/html": [
       "<div>\n",
       "<style>\n",
       "    .dataframe thead tr:only-child th {\n",
       "        text-align: right;\n",
       "    }\n",
       "\n",
       "    .dataframe thead th {\n",
       "        text-align: left;\n",
       "    }\n",
       "\n",
       "    .dataframe tbody tr th {\n",
       "        vertical-align: top;\n",
       "    }\n",
       "</style>\n",
       "<table border=\"1\" class=\"dataframe\">\n",
       "  <thead>\n",
       "    <tr style=\"text-align: right;\">\n",
       "      <th></th>\n",
       "      <th>author</th>\n",
       "      <th>year</th>\n",
       "      <th>pub_id</th>\n",
       "    </tr>\n",
       "  </thead>\n",
       "  <tbody>\n",
       "    <tr>\n",
       "      <th>0</th>\n",
       "      <td>kim l. blackwell</td>\n",
       "      <td>2014</td>\n",
       "      <td>55503da645ce0a409eb273e8</td>\n",
       "    </tr>\n",
       "    <tr>\n",
       "      <th>1</th>\n",
       "      <td>nima mesgarani</td>\n",
       "      <td>2014</td>\n",
       "      <td>55503da645ce0a409eb273e9</td>\n",
       "    </tr>\n",
       "    <tr>\n",
       "      <th>2</th>\n",
       "      <td>james j. abbas</td>\n",
       "      <td>2014</td>\n",
       "      <td>55503da645ce0a409eb273ea</td>\n",
       "    </tr>\n",
       "    <tr>\n",
       "      <th>3</th>\n",
       "      <td>eberhart zrenner</td>\n",
       "      <td>2014</td>\n",
       "      <td>55503da645ce0a409eb273ec</td>\n",
       "    </tr>\n",
       "    <tr>\n",
       "      <th>4</th>\n",
       "      <td>jonathan rubin</td>\n",
       "      <td>2014</td>\n",
       "      <td>55503da645ce0a409eb273e0</td>\n",
       "    </tr>\n",
       "  </tbody>\n",
       "</table>\n",
       "</div>"
      ],
      "text/plain": [
       "             author  year                    pub_id\n",
       "0  kim l. blackwell  2014  55503da645ce0a409eb273e8\n",
       "1    nima mesgarani  2014  55503da645ce0a409eb273e9\n",
       "2    james j. abbas  2014  55503da645ce0a409eb273ea\n",
       "3  eberhart zrenner  2014  55503da645ce0a409eb273ec\n",
       "4    jonathan rubin  2014  55503da645ce0a409eb273e0"
      ]
     },
     "execution_count": 4,
     "metadata": {},
     "output_type": "execute_result"
    }
   ],
   "source": [
    "authorPublicationsData.head()"
   ]
  },
  {
   "cell_type": "markdown",
   "metadata": {},
   "source": [
    "### 1.7 million authors and 3 million publications over 47 years (1970 to 2016) are available from the data"
   ]
  },
  {
   "cell_type": "code",
   "execution_count": 5,
   "metadata": {},
   "outputs": [
    {
     "name": "stdout",
     "output_type": "stream",
     "text": [
      "Authors# -  1708185\n",
      "Year# -  47\n",
      "Publications# -  3085544\n"
     ]
    }
   ],
   "source": [
    "#Unique values\n",
    "print('Authors# - ',authorPublicationsData['author'].nunique())\n",
    "print('Year# - ',authorPublicationsData['year'].nunique())\n",
    "print('Publications# - ',authorPublicationsData['pub_id'].nunique())"
   ]
  },
  {
   "cell_type": "code",
   "execution_count": 6,
   "metadata": {},
   "outputs": [
    {
     "name": "stdout",
     "output_type": "stream",
     "text": [
      "[1970 1971 1972 1973 1974 1975 1976 1977 1978 1979 1980 1981 1982 1983 1984\n",
      " 1985 1986 1987 1988 1989 1990 1991 1992 1993 1994 1995 1996 1997 1998 1999\n",
      " 2000 2001 2002 2003 2004 2005 2006 2007 2008 2009 2010 2011 2012 2013 2014\n",
      " 2015 2016]\n"
     ]
    }
   ],
   "source": [
    "#get the year list - as it helps to enumerate and find gini co-efficient for each year (irrespective of the dataset)\n",
    "years = np.sort(authorPublicationsData['year'].unique())\n",
    "print(years)\n",
    "#print(type(years))"
   ]
  },
  {
   "cell_type": "markdown",
   "metadata": {},
   "source": [
    "### Cohort Size group (whether individual years are good enough or clubs of few years are required)\n",
    "\n",
    "#### First and foremost - let us look at the performance of researchers\n",
    "#### We need to remove the dropouts based on following condition\n",
    "##### researchers whose career span is less than 10 years \n",
    "##### and has published less than 10 papers (necessary ? - as of now keeping it)"
   ]
  },
  {
   "cell_type": "code",
   "execution_count": 7,
   "metadata": {
    "collapsed": true
   },
   "outputs": [],
   "source": [
    "#Group by author\n",
    "groupByAuthor = authorPublicationsData.groupby(['author'])\n",
    "# find the minimum and maximum year of publications and its count for each author\n",
    "groupByAuthorMinYearData = groupByAuthor['year'].min()\n",
    "groupByAuthorMaxYearData = groupByAuthor['year'].max()\n",
    "groupByAuthorCountPublicationsData = groupByAuthor['pub_id'].count()"
   ]
  },
  {
   "cell_type": "code",
   "execution_count": 8,
   "metadata": {
    "collapsed": true
   },
   "outputs": [],
   "source": [
    "# merge all the dataframes into one and filter based on conditions\n",
    "authorScientificYearStart = groupByAuthorMinYearData.reset_index()\n",
    "authorScientificYearStart.rename(inplace=True, columns={'author':'author','year':'start_year'})\n",
    "authorScientificYearEnd = groupByAuthorMaxYearData.reset_index()\n",
    "authorScientificYearEnd.rename(inplace=True, columns={'author':'author','year':'end_year'})\n",
    "authorPublishCount = groupByAuthorCountPublicationsData.reset_index()\n",
    "authorPublishCount.rename(inplace=True, columns={'author':'author','pub_id':'pub_count'})\n",
    "\n",
    "authorScientificYearStartEnd = authorScientificYearStart.merge(authorScientificYearEnd,on='author')\n",
    "authorScientificYearStartEnd_publish_count = authorScientificYearStartEnd.merge(authorPublishCount,on='author')\n",
    "\n",
    "#save all the data - might be useful\n",
    "authorScientificYearStartEnd_publish_count.to_csv('data/authors-scientific-start-end-year-publish-count.csv',\n",
    "                                                  index=False, encoding='utf-8')"
   ]
  },
  {
   "cell_type": "markdown",
   "metadata": {},
   "source": [
    "### 111K authors have scientific career span atleast 10 years and have published atleast 10 papers"
   ]
  },
  {
   "cell_type": "code",
   "execution_count": 9,
   "metadata": {},
   "outputs": [
    {
     "data": {
      "text/html": [
       "<div>\n",
       "<style>\n",
       "    .dataframe thead tr:only-child th {\n",
       "        text-align: right;\n",
       "    }\n",
       "\n",
       "    .dataframe thead th {\n",
       "        text-align: left;\n",
       "    }\n",
       "\n",
       "    .dataframe tbody tr th {\n",
       "        vertical-align: top;\n",
       "    }\n",
       "</style>\n",
       "<table border=\"1\" class=\"dataframe\">\n",
       "  <thead>\n",
       "    <tr style=\"text-align: right;\">\n",
       "      <th></th>\n",
       "      <th>start_year</th>\n",
       "      <th>end_year</th>\n",
       "      <th>pub_count</th>\n",
       "    </tr>\n",
       "  </thead>\n",
       "  <tbody>\n",
       "    <tr>\n",
       "      <th>count</th>\n",
       "      <td>111267.000000</td>\n",
       "      <td>111267.000000</td>\n",
       "      <td>111267.000000</td>\n",
       "    </tr>\n",
       "    <tr>\n",
       "      <th>mean</th>\n",
       "      <td>1995.392911</td>\n",
       "      <td>2014.076438</td>\n",
       "      <td>40.563869</td>\n",
       "    </tr>\n",
       "    <tr>\n",
       "      <th>std</th>\n",
       "      <td>7.710813</td>\n",
       "      <td>3.175051</td>\n",
       "      <td>47.882730</td>\n",
       "    </tr>\n",
       "    <tr>\n",
       "      <th>min</th>\n",
       "      <td>1970.000000</td>\n",
       "      <td>1981.000000</td>\n",
       "      <td>10.000000</td>\n",
       "    </tr>\n",
       "    <tr>\n",
       "      <th>25%</th>\n",
       "      <td>1991.000000</td>\n",
       "      <td>2014.000000</td>\n",
       "      <td>15.000000</td>\n",
       "    </tr>\n",
       "    <tr>\n",
       "      <th>50%</th>\n",
       "      <td>1997.000000</td>\n",
       "      <td>2015.000000</td>\n",
       "      <td>25.000000</td>\n",
       "    </tr>\n",
       "    <tr>\n",
       "      <th>75%</th>\n",
       "      <td>2001.000000</td>\n",
       "      <td>2016.000000</td>\n",
       "      <td>47.000000</td>\n",
       "    </tr>\n",
       "    <tr>\n",
       "      <th>max</th>\n",
       "      <td>2005.000000</td>\n",
       "      <td>2016.000000</td>\n",
       "      <td>1206.000000</td>\n",
       "    </tr>\n",
       "  </tbody>\n",
       "</table>\n",
       "</div>"
      ],
      "text/plain": [
       "          start_year       end_year      pub_count\n",
       "count  111267.000000  111267.000000  111267.000000\n",
       "mean     1995.392911    2014.076438      40.563869\n",
       "std         7.710813       3.175051      47.882730\n",
       "min      1970.000000    1981.000000      10.000000\n",
       "25%      1991.000000    2014.000000      15.000000\n",
       "50%      1997.000000    2015.000000      25.000000\n",
       "75%      2001.000000    2016.000000      47.000000\n",
       "max      2005.000000    2016.000000    1206.000000"
      ]
     },
     "execution_count": 9,
     "metadata": {},
     "output_type": "execute_result"
    }
   ],
   "source": [
    "#filter authors who have less than 10 years of career and have less than 10 publications\n",
    "credible_authors = authorScientificYearStartEnd_publish_count[(authorScientificYearStartEnd_publish_count['end_year'] - \n",
    "                                            authorScientificYearStartEnd_publish_count['start_year']) > 10 ]\n",
    "credible_authors = credible_authors[credible_authors['pub_count'] >= 10]\n",
    "credible_authors.describe()"
   ]
  },
  {
   "cell_type": "code",
   "execution_count": 10,
   "metadata": {
    "collapsed": true
   },
   "outputs": [],
   "source": [
    "credible_authors.to_csv('data/authors-scientific-atleast-10-year-10-papers.csv',\n",
    "                        index=False, encoding='utf-8')"
   ]
  },
  {
   "cell_type": "code",
   "execution_count": 11,
   "metadata": {},
   "outputs": [
    {
     "name": "stdout",
     "output_type": "stream",
     "text": [
      "Authors# -  111267\n",
      "Year# -  47\n",
      "Publications# -  2417905\n"
     ]
    }
   ],
   "source": [
    "credibleAuthorPublicationsData = authorPublicationsData[authorPublicationsData['author'].isin(credible_authors['author'])]\n",
    "credibleAuthorPublicationsData.reset_index(inplace=True)\n",
    "\n",
    "#Crosschecking whether the filtering worked or not\n",
    "print('Authors# - ',credibleAuthorPublicationsData['author'].nunique())\n",
    "print('Year# - ',credibleAuthorPublicationsData['year'].nunique())\n",
    "print('Publications# - ',credibleAuthorPublicationsData['pub_id'].nunique())"
   ]
  },
  {
   "cell_type": "markdown",
   "metadata": {},
   "source": [
    "### Authors have scientific career span atleast 20 years and have published atleast 20 papers\n",
    "\n",
    "#### ~26K authors"
   ]
  },
  {
   "cell_type": "code",
   "execution_count": 12,
   "metadata": {},
   "outputs": [
    {
     "data": {
      "text/html": [
       "<div>\n",
       "<style>\n",
       "    .dataframe thead tr:only-child th {\n",
       "        text-align: right;\n",
       "    }\n",
       "\n",
       "    .dataframe thead th {\n",
       "        text-align: left;\n",
       "    }\n",
       "\n",
       "    .dataframe tbody tr th {\n",
       "        vertical-align: top;\n",
       "    }\n",
       "</style>\n",
       "<table border=\"1\" class=\"dataframe\">\n",
       "  <thead>\n",
       "    <tr style=\"text-align: right;\">\n",
       "      <th></th>\n",
       "      <th>start_year</th>\n",
       "      <th>end_year</th>\n",
       "      <th>pub_count</th>\n",
       "    </tr>\n",
       "  </thead>\n",
       "  <tbody>\n",
       "    <tr>\n",
       "      <th>count</th>\n",
       "      <td>26736.000000</td>\n",
       "      <td>26736.000000</td>\n",
       "      <td>26736.000000</td>\n",
       "    </tr>\n",
       "    <tr>\n",
       "      <th>mean</th>\n",
       "      <td>1987.303523</td>\n",
       "      <td>2014.530184</td>\n",
       "      <td>72.699207</td>\n",
       "    </tr>\n",
       "    <tr>\n",
       "      <th>std</th>\n",
       "      <td>6.311211</td>\n",
       "      <td>2.496166</td>\n",
       "      <td>70.877197</td>\n",
       "    </tr>\n",
       "    <tr>\n",
       "      <th>min</th>\n",
       "      <td>1970.000000</td>\n",
       "      <td>1991.000000</td>\n",
       "      <td>20.000000</td>\n",
       "    </tr>\n",
       "    <tr>\n",
       "      <th>25%</th>\n",
       "      <td>1984.000000</td>\n",
       "      <td>2015.000000</td>\n",
       "      <td>31.000000</td>\n",
       "    </tr>\n",
       "    <tr>\n",
       "      <th>50%</th>\n",
       "      <td>1989.000000</td>\n",
       "      <td>2015.000000</td>\n",
       "      <td>50.000000</td>\n",
       "    </tr>\n",
       "    <tr>\n",
       "      <th>75%</th>\n",
       "      <td>1992.000000</td>\n",
       "      <td>2016.000000</td>\n",
       "      <td>87.000000</td>\n",
       "    </tr>\n",
       "    <tr>\n",
       "      <th>max</th>\n",
       "      <td>1995.000000</td>\n",
       "      <td>2016.000000</td>\n",
       "      <td>1206.000000</td>\n",
       "    </tr>\n",
       "  </tbody>\n",
       "</table>\n",
       "</div>"
      ],
      "text/plain": [
       "         start_year      end_year     pub_count\n",
       "count  26736.000000  26736.000000  26736.000000\n",
       "mean    1987.303523   2014.530184     72.699207\n",
       "std        6.311211      2.496166     70.877197\n",
       "min     1970.000000   1991.000000     20.000000\n",
       "25%     1984.000000   2015.000000     31.000000\n",
       "50%     1989.000000   2015.000000     50.000000\n",
       "75%     1992.000000   2016.000000     87.000000\n",
       "max     1995.000000   2016.000000   1206.000000"
      ]
     },
     "execution_count": 12,
     "metadata": {},
     "output_type": "execute_result"
    }
   ],
   "source": [
    "#filter authors who have less than 20 years of career and have less than 20 publications\n",
    "credible_authors_20 = authorScientificYearStartEnd_publish_count[(authorScientificYearStartEnd_publish_count['end_year'] - \n",
    "                                            authorScientificYearStartEnd_publish_count['start_year']) > 20 ]\n",
    "credible_authors_20 = credible_authors_20[credible_authors_20['pub_count'] >= 20]\n",
    "\n",
    "credible_authors_20.to_csv('data/authors-scientific-atleast-20-year-20-papers.csv',\n",
    "                        index=False, encoding='utf-8')\n",
    "credible_authors_20.describe()"
   ]
  },
  {
   "cell_type": "markdown",
   "metadata": {},
   "source": [
    "### For scientists-10-years-10-papers\n",
    "#### We examine when authors start their publications and how does their distribution looks like\n",
    "#### At the same time, when does their scientific career ends and how does the distribution looks like"
   ]
  },
  {
   "cell_type": "code",
   "execution_count": 13,
   "metadata": {
    "collapsed": true
   },
   "outputs": [],
   "source": [
    "#Group by author\n",
    "groupByAuthor = credibleAuthorPublicationsData.groupby(['author'])\n",
    "# find the minimum and maximum year of publications and its count for each author\n",
    "groupByAuthorMinYearData = groupByAuthor['year'].min()\n",
    "groupByAuthorMaxYearData = groupByAuthor['year'].max()\n",
    "groupByAuthorCountPublicationsData = groupByAuthor['pub_id'].count()"
   ]
  },
  {
   "cell_type": "markdown",
   "metadata": {},
   "source": [
    "### More no. of new scientfic researchers are involved as the year progresses\n",
    "#### At year 2005 - fewer new scientists have published ( as of now ignoring it - could be a problem in code)\n",
    "#### No. of cohort groups is 36\n",
    "#### Minimum cohort size is 433 and maximum is 8465\n",
    "#### 75% of 36 groups are over 736 in group size"
   ]
  },
  {
   "cell_type": "code",
   "execution_count": 14,
   "metadata": {},
   "outputs": [
    {
     "data": {
      "image/png": "[encoded data removed]",
      "text/plain": [
       "<matplotlib.figure.Figure at 0xb71ee48>"
      ]
     },
     "metadata": {},
     "output_type": "display_data"
    },
    {
     "data": {
      "text/plain": [
       "count      36.000000\n",
       "mean     3090.750000\n",
       "std      2594.870527\n",
       "min       433.000000\n",
       "25%       736.000000\n",
       "50%      2246.500000\n",
       "75%      4901.250000\n",
       "max      8465.000000\n",
       "Name: year, dtype: float64"
      ]
     },
     "execution_count": 14,
     "metadata": {},
     "output_type": "execute_result"
    }
   ],
   "source": [
    "scientificYearStartHistogram = groupByAuthorMinYearData.value_counts(sort=False)\n",
    "ax = scientificYearStartHistogram.sort_index().plot(kind='bar', title='Start of Scientific career histogram')\n",
    "ax.set_xlabel(\"Year\")\n",
    "ax.set_ylabel(\"No. of authors who published first time\")\n",
    "\n",
    "plt.show()\n",
    "\n",
    "scientificYearStartHistogram.describe()"
   ]
  },
  {
   "cell_type": "code",
   "execution_count": 15,
   "metadata": {},
   "outputs": [
    {
     "data": {
      "text/plain": [
       "1970     534\n",
       "1971     520\n",
       "1972     433\n",
       "1973     519\n",
       "1974     498\n",
       "1975     488\n",
       "1976     613\n",
       "1977     740\n",
       "1978     636\n",
       "1979     724\n",
       "1980     838\n",
       "1981     910\n",
       "1982    1160\n",
       "1983    1214\n",
       "1984    1416\n",
       "1985    1428\n",
       "1986    1923\n",
       "1987    2069\n",
       "1988    2424\n",
       "1989    2723\n",
       "1990    3206\n",
       "1991    3458\n",
       "1992    3911\n",
       "1993    4554\n",
       "1994    4897\n",
       "1995    4697\n",
       "1996    4914\n",
       "1997    5389\n",
       "1998    5889\n",
       "1999    6488\n",
       "2000    7164\n",
       "2001    7491\n",
       "2002    7706\n",
       "2003    8465\n",
       "2004    7934\n",
       "2005    3294\n",
       "Name: year, dtype: int64"
      ]
     },
     "execution_count": 15,
     "metadata": {},
     "output_type": "execute_result"
    }
   ],
   "source": [
    "#Manually checked to ensure they are right\n",
    "scientificYearStartHistogram.sort_index()"
   ]
  },
  {
   "cell_type": "code",
   "execution_count": 16,
   "metadata": {},
   "outputs": [
    {
     "data": {
      "image/png": "[encoded data removed]",
      "text/plain": [
       "<matplotlib.figure.Figure at 0x8391a90>"
      ]
     },
     "metadata": {},
     "output_type": "display_data"
    },
    {
     "data": {
      "text/plain": [
       "count      30.000000\n",
       "mean     2307.100000\n",
       "std      1926.306943\n",
       "min       433.000000\n",
       "25%       658.000000\n",
       "50%      1422.000000\n",
       "75%      3797.750000\n",
       "max      6488.000000\n",
       "Name: year, dtype: float64"
      ]
     },
     "execution_count": 16,
     "metadata": {},
     "output_type": "execute_result"
    }
   ],
   "source": [
    "scientificYearStartHistogram = groupByAuthorMinYearData.value_counts(sort=False)\n",
    "ax = scientificYearStartHistogram[scientificYearStartHistogram.index < 2000].sort_index().plot(kind='bar', title='Start of Scientific career histogram')\n",
    "ax.set_xlabel(\"Year\")\n",
    "ax.set_ylabel(\"No. of authors who published first time\")\n",
    "\n",
    "plt.show()\n",
    "\n",
    "scientificYearStartHistogram[scientificYearStartHistogram.index < 2000].describe()"
   ]
  },
  {
   "cell_type": "markdown",
   "metadata": {},
   "source": [
    "### Culmination of research increases as  year progresses - Correlates with the increase of Start of Scientific career\n",
    "#### At year 2016, there is a dip - need to analyse it - we shall ignore for this moment"
   ]
  },
  {
   "cell_type": "code",
   "execution_count": 17,
   "metadata": {
    "scrolled": true
   },
   "outputs": [
    {
     "data": {
      "image/png": "[encoded data removed]",
      "text/plain": [
       "<matplotlib.figure.Figure at 0x851dc50>"
      ]
     },
     "metadata": {},
     "output_type": "display_data"
    },
    {
     "data": {
      "text/plain": [
       "count       36.00000\n",
       "mean      3090.75000\n",
       "std       9011.29193\n",
       "min          2.00000\n",
       "25%         31.25000\n",
       "50%        192.00000\n",
       "75%       1007.75000\n",
       "max      41995.00000\n",
       "Name: year, dtype: float64"
      ]
     },
     "execution_count": 17,
     "metadata": {},
     "output_type": "execute_result"
    }
   ],
   "source": [
    "scientificYearEndHistogram = groupByAuthorMaxYearData.value_counts(sort=False)\n",
    "ax = scientificYearEndHistogram.sort_index().plot(kind='bar', \n",
    "                                                  title='End of Scientific career histogram')\n",
    "ax.set_xlabel(\"Year\")\n",
    "ax.set_ylabel(\"No. of authors who published last time\")\n",
    "#ax.set_ylim([0,3000])\n",
    "plt.show()\n",
    "\n",
    "scientificYearEndHistogram.describe()"
   ]
  },
  {
   "cell_type": "code",
   "execution_count": 18,
   "metadata": {},
   "outputs": [
    {
     "data": {
      "text/plain": [
       "1981        3\n",
       "1982        2\n",
       "1983        5\n",
       "1984        7\n",
       "1985       12\n",
       "1986       13\n",
       "1987       15\n",
       "1988       19\n",
       "1989       26\n",
       "1990       33\n",
       "1991       36\n",
       "1992       56\n",
       "1993       65\n",
       "1994       87\n",
       "1995       81\n",
       "1996      123\n",
       "1997      142\n",
       "1998      162\n",
       "1999      222\n",
       "2000      241\n",
       "2001      254\n",
       "2002      348\n",
       "2003      359\n",
       "2004      496\n",
       "2005      624\n",
       "2006      747\n",
       "2007      952\n",
       "2008     1175\n",
       "2009     1566\n",
       "2010     1887\n",
       "2011     2571\n",
       "2012     3770\n",
       "2013     6385\n",
       "2014    12074\n",
       "2015    41995\n",
       "2016    34714\n",
       "Name: year, dtype: int64"
      ]
     },
     "execution_count": 18,
     "metadata": {},
     "output_type": "execute_result"
    }
   ],
   "source": [
    "scientificYearEndHistogram.sort_index()"
   ]
  },
  {
   "cell_type": "markdown",
   "metadata": {},
   "source": [
    "#### Some other analysis that could be done  are\n",
    "1) We find the best/better cohort group(s) that can be compared. As of now, if we consider atleast 15 years of research can be used for comparison then we have 32 cohort groups (1970 to 2001)\n",
    "Best cohort group - similar characteristics (there might be many reasons for one to end his/her scientific career)\n",
    "Consider people who start and at the same time end their career as well ???\n",
    "Also Consider their growth (their peak time and the trend) ???\n",
    "\n",
    "2) Increase the cohort group size - Can group the authors by years\n",
    "\n",
    "3) Drop out rates are high - this is why we insist 10/20 year 10/20 paper constraint"
   ]
  },
  {
   "cell_type": "markdown",
   "metadata": {},
   "source": [
    "### For scientists-20-years-20-papers\n",
    "#### We examine when authors start their publications and how does their distribution looks like\n",
    "#### At the same time, when does their scientific career ends and how does the distribution looks like"
   ]
  },
  {
   "cell_type": "code",
   "execution_count": 19,
   "metadata": {},
   "outputs": [
    {
     "name": "stdout",
     "output_type": "stream",
     "text": [
      "Authors# -  26736\n",
      "Year# -  47\n",
      "Publications# -  1440278\n"
     ]
    }
   ],
   "source": [
    "credibleAuthorPublicationsData = authorPublicationsData[authorPublicationsData['author'].isin(credible_authors_20['author'])]\n",
    "credibleAuthorPublicationsData.reset_index(inplace=True)\n",
    "\n",
    "#Crosschecking whether the filtering worked or not\n",
    "print('Authors# - ',credibleAuthorPublicationsData['author'].nunique())\n",
    "print('Year# - ',credibleAuthorPublicationsData['year'].nunique())\n",
    "print('Publications# - ',credibleAuthorPublicationsData['pub_id'].nunique())"
   ]
  },
  {
   "cell_type": "code",
   "execution_count": 20,
   "metadata": {
    "collapsed": true
   },
   "outputs": [],
   "source": [
    "#Group by author\n",
    "groupByAuthor = credibleAuthorPublicationsData.groupby(['author'])\n",
    "# find the minimum and maximum year of publications and its count for each author\n",
    "groupByAuthorMinYearData = groupByAuthor['year'].min()\n",
    "groupByAuthorMaxYearData = groupByAuthor['year'].max()\n",
    "groupByAuthorCountPublicationsData = groupByAuthor['pub_id'].count()"
   ]
  },
  {
   "cell_type": "code",
   "execution_count": 21,
   "metadata": {},
   "outputs": [
    {
     "data": {
      "image/png": "[encoded data removed]",
      "text/plain": [
       "<matplotlib.figure.Figure at 0x851d7f0>"
      ]
     },
     "metadata": {},
     "output_type": "display_data"
    },
    {
     "data": {
      "text/plain": [
       "count      26.000000\n",
       "mean     1028.307692\n",
       "std       750.264474\n",
       "min       289.000000\n",
       "25%       396.250000\n",
       "50%       790.500000\n",
       "75%      1485.750000\n",
       "max      2585.000000\n",
       "Name: year, dtype: float64"
      ]
     },
     "execution_count": 21,
     "metadata": {},
     "output_type": "execute_result"
    }
   ],
   "source": [
    "scientificYearStartHistogram = groupByAuthorMinYearData.value_counts(sort=False)\n",
    "ax = scientificYearStartHistogram.sort_index().plot(kind='bar', title='Start of Scientific career histogram')\n",
    "ax.set_xlabel(\"Year\")\n",
    "ax.set_ylabel(\"No. of authors who published first time\")\n",
    "plt.show()\n",
    "\n",
    "scientificYearStartHistogram.describe()"
   ]
  },
  {
   "cell_type": "code",
   "execution_count": 22,
   "metadata": {},
   "outputs": [
    {
     "data": {
      "image/png": "[encoded data removed]",
      "text/plain": [
       "<matplotlib.figure.Figure at 0xaedc080>"
      ]
     },
     "metadata": {},
     "output_type": "display_data"
    },
    {
     "data": {
      "text/plain": [
       "count       26.000000\n",
       "mean      1028.307692\n",
       "std       2726.943912\n",
       "min          1.000000\n",
       "25%         20.250000\n",
       "50%         59.500000\n",
       "75%        326.250000\n",
       "max      10237.000000\n",
       "Name: year, dtype: float64"
      ]
     },
     "execution_count": 22,
     "metadata": {},
     "output_type": "execute_result"
    }
   ],
   "source": [
    "scientificYearEndHistogram = groupByAuthorMaxYearData.value_counts(sort=False)\n",
    "ax = scientificYearEndHistogram.sort_index().plot(kind='bar', title='End of Scientific career histogram')\n",
    "ax.set_xlabel(\"Year\")\n",
    "ax.set_ylabel(\"No. of authors who published last time\")\n",
    "plt.show()\n",
    "\n",
    "scientificYearEndHistogram.describe()"
   ]
  },
  {
   "cell_type": "code",
   "execution_count": 23,
   "metadata": {},
   "outputs": [
    {
     "name": "stdout",
     "output_type": "stream",
     "text": [
      "End Time (in sec) -  99.27236738861284\n",
      "Time taken (in sec) -  99.27236676661185\n"
     ]
    }
   ],
   "source": [
    "end_time = timeit.default_timer()\n",
    "print('End Time (in sec) - ',end_time)\n",
    "print('Time taken (in sec) - ',end_time-start_time)"
   ]
  }
 ],
 "metadata": {
  "kernelspec": {
   "display_name": "Python 3",
   "language": "python",
   "name": "python3"
  },
  "language_info": {
   "codemirror_mode": {
    "name": "ipython",
    "version": 3
   },
   "file_extension": ".py",
   "mimetype": "text/x-python",
   "name": "python",
   "nbconvert_exporter": "python",
   "pygments_lexer": "ipython3",
   "version": "3.6.2"
  }
 },
 "nbformat": 4,
 "nbformat_minor": 2
}
