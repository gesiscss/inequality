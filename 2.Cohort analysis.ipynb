{
 "cells": [
  {
   "cell_type": "code",
   "execution_count": null,
   "metadata": {
    "collapsed": true
   },
   "outputs": [],
   "source": [
    "import pandas as pd\n",
    "import numpy as np\n",
    "import timeit\n",
    "\n",
    "from matplotlib import pyplot as plt\n",
    "from matplotlib import rcParams\n",
    "plt.style.use('ggplot')\n",
    "rcParams['figure.figsize'] = (20.0, 10.0)\n",
    "from matplotlib import colors\n",
    "\n",
    "import scipy.stats\n",
    "\n",
    "%matplotlib inline"
   ]
  },
  {
   "cell_type": "code",
   "execution_count": null,
   "metadata": {
    "collapsed": true
   },
   "outputs": [],
   "source": [
    "import plot\n",
    "import calculate"
   ]
  },
  {
   "cell_type": "code",
   "execution_count": null,
   "metadata": {
    "collapsed": true
   },
   "outputs": [],
   "source": [
    "CAREER_LENGTH = 5"
   ]
  },
  {
   "cell_type": "code",
   "execution_count": null,
   "metadata": {
    "collapsed": false
   },
   "outputs": [],
   "source": [
    "# Publication data\n",
    "authorPublicationData = pd.read_csv('data/author_publications_2017_asiansAsNone.txt')\n",
    "author_year_numPub = authorPublicationData.groupby(['author', 'year'])['pub_id'].count()\n",
    "\n",
    "print(\"authorPublicationData no duplicates: \", authorPublicationData.shape[0])\n"
   ]
  },
  {
   "cell_type": "code",
   "execution_count": null,
   "metadata": {
    "collapsed": true
   },
   "outputs": [],
   "source": [
    "credible_authors = pd.read_csv('data/authors-scientific-atleast-'+ str(CAREER_LENGTH) + '-year_extended.csv', encoding='utf-8')"
   ]
  },
  {
   "cell_type": "code",
   "execution_count": null,
   "metadata": {
    "collapsed": false
   },
   "outputs": [],
   "source": [
    "credible_authors = credible_authors.set_index('start_year')\n",
    "\n",
    "print(\"credible_authors: \", credible_authors.shape[0])\n",
    "print(credible_authors.head())"
   ]
  },
  {
   "cell_type": "code",
   "execution_count": null,
   "metadata": {
    "collapsed": false,
    "scrolled": false
   },
   "outputs": [],
   "source": [
    "from matplotlib.lines import Line2D\n",
    "\n",
    "numcols = 5\n",
    "start_range = 1980\n",
    "end_range = 2000\n",
    "cells = end_range - start_range\n",
    "numrows = int(cells/numcols)\n",
    "\n",
    "\n",
    "results = pd.DataFrame(columns=[\"year\", \"num_obs\", \"group\", \"slope\", \"intercept\", \"r_value\", \"p_value\", \"std_err\"])\n",
    "fig, ax = plt.subplots(nrows=numrows, ncols=numcols, sharex=False, sharey=False, figsize=(20,40))\n",
    "\n",
    "custom_lines = [Line2D([0], [0], color='red', lw=4),\n",
    "                Line2D([0], [0], color='blue', lw=4),\n",
    "                Line2D([0], [0], color='black', lw=4)]\n",
    "for year in range(start_range, end_range):\n",
    "    data = credible_authors.loc[year]\n",
    "    x = data['early_career_prod']\n",
    "    y = data['final_citation_count']\n",
    "    x_f = data[data.gender == 'f']['early_career_prod']\n",
    "    y_f = data[data.gender == 'f']['final_citation_count']\n",
    "    x_m = data[data.gender == 'm']['early_career_prod']\n",
    "    y_m = data[data.gender == 'm']['final_citation_count']\n",
    "    axes = ax[(year-start_range)//numcols,year%start_range%numcols]\n",
    "    axes.scatter(x, y, color=\"black\")\n",
    "    axes.scatter(x_m, y_m, color=\"blue\")\n",
    "    axes.scatter(x_f, y_f, color=\"red\")\n",
    "    fit = np.polyfit(x, y, deg=1)\n",
    "    fit_f = np.polyfit(x_f, y_f, deg=1)\n",
    "    fit_m = np.polyfit(x_m, y_m, deg=1)\n",
    "    #axes.plot(x, fit[0] * x + fit[1], color='black')\n",
    "    axes.plot(x_f, fit_f[0] * x_f + fit_f[1], color='red')\n",
    "    axes.plot(x_m, fit_m[0] * x_m + fit_m[1], color='blue')\n",
    "    axes.set_title(\"Cohort: \" + str(year))\n",
    "    # plt.xlim(0, 50)\n",
    "    # plt.ylim(0,200)\n",
    "    slope, intercept, r_value, p_value, std_err = scipy.stats.linregress(x, y)\n",
    "    results = results.append({\"year\":year, \"num_obs\":len(x), \"group\":\"all\", \"slope\":slope, \"intercept\":intercept, \n",
    "                              \"r_value\":r_value, \"p_value\":p_value, \"std_err\":std_err}, ignore_index=True)\n",
    "    \n",
    "    m_slope, m_intercept, m_r_value, m_p_value, m_std_err = scipy.stats.linregress(x_m, y_m)\n",
    "    results = results.append({\"year\":year, \"num_obs\":len(x_m), \"group\":\"men\", \"slope\":m_slope, \"intercept\":m_intercept, \n",
    "                              \"r_value\":m_r_value, \"p_value\":m_p_value, \"std_err\":m_std_err}, ignore_index=True)\n",
    "    f_slope, f_intercept, f_r_value, f_p_value, f_std_err = scipy.stats.linregress(x_f, y_f)\n",
    "    results = results.append({\"year\":year, \"num_obs\":len(x_f), \"group\":\"women\", \"slope\":f_slope, \"intercept\":f_intercept, \n",
    "                              \"r_value\":f_r_value, \"p_value\":f_p_value, \"std_err\":f_std_err}, ignore_index=True)\n",
    "    \n",
    "    #print(slope, intercept)\n",
    "    #axes.add_artist(axes.legend(\"R squared: \" + str(r_value), loc=2))\n",
    "    axes.annotate(\"R squared: \" + str(r_value)+\"\\nSlope: \"+str(slope), xy=(0.01,0.8), xycoords='axes fraction', fontsize=14)\n",
    "    #axes.legend(custom_lines, ['Female', 'Male', 'All'], loc=1)\n",
    "fig.text(0.5, 0.1, 'Early Career Productivity', ha='center', va='center')\n",
    "fig.text(0.06, 0.5, 'Final Success', ha='center', va='center', rotation='vertical')\n",
    "plt.show()\n",
    "fig.savefig(\"fig/earlycareer_prod_final_success.png\", edgecolor='none', bbox_inches='tight')\n",
    "\n",
    "print(results.head())\n",
    "results.to_csv(\"fig/earlycareer_prod_final_success.csv\")\n"
   ]
  },
  {
   "cell_type": "code",
   "execution_count": null,
   "metadata": {
    "collapsed": true
   },
   "outputs": [],
   "source": [
    "credible_authors.reset_index(inplace=True)"
   ]
  },
  {
   "cell_type": "code",
   "execution_count": null,
   "metadata": {
    "collapsed": true
   },
   "outputs": [],
   "source": [
    "authorPublicationData = authorPublicationData.merge(credible_authors, how=\"inner\", on=[\"author\"])"
   ]
  },
  {
   "cell_type": "code",
   "execution_count": null,
   "metadata": {
    "collapsed": false
   },
   "outputs": [],
   "source": [
    "authorPublicationData.shape\n",
    "#inner"
   ]
  },
  {
   "cell_type": "code",
   "execution_count": null,
   "metadata": {
    "collapsed": true
   },
   "outputs": [],
   "source": [
    "groupByYearData = calculate.groupDataAndCalculateCumulativeValues(authorPublicationData, 1, 'num_pub')"
   ]
  },
  {
   "cell_type": "code",
   "execution_count": null,
   "metadata": {
    "collapsed": false
   },
   "outputs": [],
   "source": [
    "years = groupByYearData['year'].unique()\n",
    "years = sorted(years)\n",
    "END_YEAR = 2018\n",
    "CAREER_LENGTH = 5\n",
    "cohort_start_years = [y for y in years if y < (END_YEAR - CAREER_LENGTH)]\n",
    "\n",
    "# here is a bug; total_num_pub of this author is 349; num_pub and cum_num_pub should only contain publications in \"year\"\n",
    "print(groupByYearData.head(n=1))\n",
    "print(groupByYearData[groupByYearData['author'] == 'donatella sciuto'].head(3))\n",
    "print(np.unique(groupByYearData[\"year\"]))"
   ]
  },
  {
   "cell_type": "code",
   "execution_count": null,
   "metadata": {
    "collapsed": false,
    "scrolled": false
   },
   "outputs": [],
   "source": [
    "plot.run_cohort_analysis(groupByYearData, cohort_start_years, CAREER_LENGTH, \"num_pub\", \"Publications\")  "
   ]
  },
  {
   "cell_type": "code",
   "execution_count": null,
   "metadata": {
    "collapsed": true
   },
   "outputs": [],
   "source": []
  }
 ],
 "metadata": {
  "anaconda-cloud": {},
  "kernelspec": {
   "display_name": "Python [Root]",
   "language": "python",
   "name": "Python [Root]"
  },
  "language_info": {
   "codemirror_mode": {
    "name": "ipython",
    "version": 3
   },
   "file_extension": ".py",
   "mimetype": "text/x-python",
   "name": "python",
   "nbconvert_exporter": "python",
   "pygments_lexer": "ipython3",
   "version": "3.5.1"
  }
 },
 "nbformat": 4,
 "nbformat_minor": 2
}
