{
 "cells": [
  {
   "cell_type": "code",
   "execution_count": 44,
   "metadata": {},
   "outputs": [],
   "source": [
    "import pandas as pd\n",
    "import numpy as np\n",
    "import timeit\n",
    "\n",
    "from matplotlib import pyplot as plt\n",
    "from matplotlib import rcParams\n",
    "plt.style.use('ggplot')\n",
    "rcParams['figure.figsize'] = (20.0, 10.0)\n",
    "from matplotlib import colors\n",
    "\n",
    "import scipy.stats\n",
    "from scipy.stats import mannwhitneyu\n",
    "import math\n",
    "from matplotlib.lines import Line2D\n",
    "\n",
    "%matplotlib inline"
   ]
  },
  {
   "cell_type": "code",
   "execution_count": 2,
   "metadata": {},
   "outputs": [],
   "source": [
    "import plot\n",
    "import calculate"
   ]
  },
  {
   "cell_type": "code",
   "execution_count": 3,
   "metadata": {},
   "outputs": [],
   "source": [
    "#this defines the criterion which we use to filter authors\n",
    "CAREER_LENGTH = 10 \n",
    "END_YEAR = 2018\n",
    "MAX_CAREER_LENGTH_COHORT = 15    # this defines how long we follow each cohort\n"
   ]
  },
  {
   "cell_type": "markdown",
   "metadata": {},
   "source": [
    "## Load data"
   ]
  },
  {
   "cell_type": "code",
   "execution_count": 4,
   "metadata": {},
   "outputs": [
    {
     "name": "stdout",
     "output_type": "stream",
     "text": [
      "authorPublicationData no duplicates:  5898126\n"
     ]
    }
   ],
   "source": [
    "# Publication data\n",
    "authorPublicationData = pd.read_csv('derived-data/author-publications-atleast-'+str(CAREER_LENGTH)+'-year.csv')\n",
    "author_year_numPub = authorPublicationData.groupby(['author', 'year'])['pub_id'].count()\n",
    "\n",
    "print(\"authorPublicationData no duplicates: \", authorPublicationData.shape[0])\n",
    "\n",
    "#print(authorPublicationData.head())\n"
   ]
  },
  {
   "cell_type": "code",
   "execution_count": 5,
   "metadata": {},
   "outputs": [],
   "source": [
    "credible_authors = pd.read_csv('derived-data/authors-scientific-atleast-'+ str(CAREER_LENGTH) + '-year-extended.csv', encoding='utf-8')"
   ]
  },
  {
   "cell_type": "code",
   "execution_count": 6,
   "metadata": {},
   "outputs": [
    {
     "name": "stdout",
     "output_type": "stream",
     "text": [
      "credible_authors:  255696\n",
      "                      author  end_year  num_pub  career_length  max_absence  \\\n",
      "start_year                                                                    \n",
      "2001        'maseka lesaoana      2015        2             15           14   \n",
      "1992         a aart blokhuis      2005        2             14           13   \n",
      "1979              a min tjoa      2017      191             39            7   \n",
      "1992        a-imam al-sammak      2006        3             15           13   \n",
      "1998              a-xing zhu      2017       22             20            5   \n",
      "\n",
      "            avg_absence  dropped_after_10 gender  early_career_qual  \\\n",
      "start_year                                                            \n",
      "2001          14.000000              True   none               23.0   \n",
      "1992          13.000000              True   none                0.0   \n",
      "1979           1.071429             False   none                0.0   \n",
      "1992           7.000000              True      m                0.0   \n",
      "1998           1.166667             False   none                0.0   \n",
      "\n",
      "            early_career_recognition  succ_after_15y  early_career_prod  \n",
      "start_year                                                               \n",
      "2001                             5.0            23.0                  1  \n",
      "1992                             0.0             0.0                  1  \n",
      "1979                             0.0             2.0                  1  \n",
      "1992                             0.0             0.0                  1  \n",
      "1998                             0.0            38.0                  1  \n"
     ]
    }
   ],
   "source": [
    "credible_authors = credible_authors.set_index('start_year')\n",
    "\n",
    "print(\"credible_authors: \", credible_authors.shape[0])\n",
    "print(credible_authors.head())\n",
    "\n",
    "#print(credible_authors[credible_authors['author'] == 'donatella sciuto'])\n",
    "credible_authors.rename(columns={'num_pub':'total_num_pub'}, inplace=True)\n",
    "\n"
   ]
  },
  {
   "cell_type": "markdown",
   "metadata": {
    "heading_collapsed": true
   },
   "source": [
    "## Early career"
   ]
  },
  {
   "cell_type": "code",
   "execution_count": null,
   "metadata": {
    "hidden": true,
    "scrolled": false
   },
   "outputs": [],
   "source": [
    "from matplotlib.lines import Line2D\n",
    "\n",
    "zscore = True\n",
    "numcols = 5\n",
    "start_range = 1980\n",
    "end_range = 2000\n",
    "cells = end_range - start_range\n",
    "numrows = int(cells/numcols)\n",
    "\n",
    "var = \"prod\" # can also be qual\n",
    "\n",
    "results = pd.DataFrame(columns=[\"year\", \"num_obs\", \"group\", \"slope\", \"intercept\", \"r_value\", \"p_value\", \"std_err\"])\n",
    "fig, ax = plt.subplots(nrows=numrows, ncols=numcols, sharex=False, sharey=False, figsize=(20,15))\n",
    "\n",
    "\n",
    "custom_lines = [Line2D([0], [0], color='red', lw=4),\n",
    "                Line2D([0], [0], color='blue', lw=4),\n",
    "                Line2D([0], [0], color='black', lw=4)]\n",
    "for year in range(start_range, end_range):\n",
    "    data = credible_authors.loc[year]\n",
    "    x = data['early_career_prod']\n",
    "    \n",
    "    \n",
    "    if(zscore):\n",
    "        y = (data['succ_after_15y']-np.mean(data['succ_after_15y']))/np.std(data['succ_after_15y'])\n",
    "    else:\n",
    "        y = data['succ_after_15y']/np.sum(data['succ_after_15y'])\n",
    "   \n",
    "    x_f = data[data.gender == 'f']['early_career_prod']\n",
    "    if(zscore):\n",
    "        y_f = (data[data.gender == 'f']['succ_after_15y']-np.mean(data['succ_after_15y']))/np.std(data['succ_after_15y'])\n",
    "    else:\n",
    "        y_f = data[data.gender == 'f']['succ_after_15y']/np.sum(data['succ_after_15y'])\n",
    "    \n",
    "    x_m = data[data.gender == 'm']['early_career_prod']\n",
    "    if(zscore):\n",
    "        y_m = (data[data.gender == 'm']['succ_after_15y']-np.mean(data['succ_after_15y']))/np.std(data['succ_after_15y'])\n",
    "    else:\n",
    "        y_m = data[data.gender == 'm']['succ_after_15y']/np.sum(data['succ_after_15y'])\n",
    "    \n",
    "\n",
    "    axes = ax[(year-start_range)//numcols,year%start_range%numcols]\n",
    "    axes.scatter(x, y, color=\"black\")\n",
    "    axes.scatter(x_m, y_m, color=\"blue\")\n",
    "    axes.scatter(x_f, y_f, color=\"red\")\n",
    "    fit = np.polyfit(x, y, deg=1)\n",
    "    fit_f = np.polyfit(x_f, y_f, deg=1)\n",
    "    fit_m = np.polyfit(x_m, y_m, deg=1)\n",
    "    #axes.plot(x, fit[0] * x + fit[1], color='black')\n",
    "    axes.plot(x_f, fit_f[0] * x_f + fit_f[1], color='red')\n",
    "    axes.plot(x_m, fit_m[0] * x_m + fit_m[1], color='blue')\n",
    "    axes.set_title(\"Cohort: \" + str(year))\n",
    "    # plt.xlim(0, 50)\n",
    "    # plt.ylim(0,200)\n",
    "    slope, intercept, r_value, p_value, std_err = scipy.stats.linregress(x, y)\n",
    "    results = results.append({\"year\":year, \"num_obs\":len(x), \"group\":\"all\", \"slope\":slope, \"intercept\":intercept, \n",
    "                              \"r_value\":r_value, \"p_value\":p_value, \"std_err\":std_err}, ignore_index=True)\n",
    "    \n",
    "    m_slope, m_intercept, m_r_value, m_p_value, m_std_err = scipy.stats.linregress(x_m, y_m)\n",
    "    results = results.append({\"year\":year, \"num_obs\":len(x_m), \"group\":\"men\", \"slope\":m_slope, \"intercept\":m_intercept, \n",
    "                              \"r_value\":m_r_value, \"p_value\":m_p_value, \"std_err\":m_std_err}, ignore_index=True)\n",
    "    f_slope, f_intercept, f_r_value, f_p_value, f_std_err = scipy.stats.linregress(x_f, y_f)\n",
    "    results = results.append({\"year\":year, \"num_obs\":len(x_f), \"group\":\"women\", \"slope\":f_slope, \"intercept\":f_intercept, \n",
    "                              \"r_value\":f_r_value, \"p_value\":f_p_value, \"std_err\":f_std_err}, ignore_index=True)\n",
    "    \n",
    "    #print(slope, intercept)\n",
    "    #axes.add_artist(axes.legend(\"R squared: \" + str(r_value), loc=2))\n",
    "    axes.annotate(\"R squared: \" + str(np.round(r_value, decimals=3))+\"\\nSlope: \"+str(np.round(slope, decimals=3)), xy=(0.01,0.8), xycoords='axes fraction', fontsize=14)\n",
    "    #axes.legend(custom_lines, ['Female', 'Male', 'All'], loc=1)\n",
    "fig.text(0.5, 0.1, 'Early Career Productivity', ha='center', va='center')\n",
    "fig.text(0.06, 0.5, 'Final Success', ha='center', va='center', rotation='vertical')\n",
    "plt.show()\n",
    "if(zscore):\n",
    "    fig.savefig(\"fig/earlycareer_\"+str(var)+\"_final_success_zscore.png\", edgecolor='none', bbox_inches='tight')\n",
    "else:\n",
    "    fig.savefig(\"fig/earlycareer_\"+str(var)+\"_final_success.png\", edgecolor='none', bbox_inches='tight')\n",
    "\n",
    "print(results.head())\n",
    "if(zscore):\n",
    "    results.to_csv(\"fig/earlycareer_\"+str(var)+\"_final_success_zscore.csv\")\n",
    "else:\n",
    "    results.to_csv(\"fig/earlycareer_\"+str(var)+\"_final_success.csv\")"
   ]
  },
  {
   "cell_type": "code",
   "execution_count": null,
   "metadata": {
    "hidden": true
   },
   "outputs": [],
   "source": [
    "results[results.year==1985]"
   ]
  },
  {
   "cell_type": "code",
   "execution_count": null,
   "metadata": {
    "hidden": true
   },
   "outputs": [],
   "source": [
    "for group in ['all', 'men', 'women']:\n",
    "    temp = results[results.group == group]\n",
    "    plt.plot(temp['year'], temp['r_value'], label=group)\n",
    "plt.xlabel(\"Year\")\n",
    "plt.ylabel(\"R squared (productivity and success)\")\n",
    "plt.title(\"R squared over cohorts for \" + group)\n",
    "plt.ylim((0,0.6))\n",
    "plt.legend()\n",
    "plt.show()"
   ]
  },
  {
   "cell_type": "code",
   "execution_count": null,
   "metadata": {
    "hidden": true
   },
   "outputs": [],
   "source": [
    "for group in ['all', 'men', 'women']:\n",
    "    temp = results[results.group == group]\n",
    "    plt.plot(temp['year'], temp['slope'], label=group)\n",
    "plt.xlabel(\"Year\")\n",
    "plt.ylabel(\"Slope (productivity and success)\")\n",
    "plt.title(\"Slope over cohorts for \" + group)\n",
    "plt.legend()\n",
    "plt.show()"
   ]
  },
  {
   "cell_type": "code",
   "execution_count": null,
   "metadata": {
    "hidden": true
   },
   "outputs": [],
   "source": [
    "results.head()"
   ]
  },
  {
   "cell_type": "markdown",
   "metadata": {},
   "source": [
    "## Publications analysis"
   ]
  },
  {
   "cell_type": "code",
   "execution_count": 7,
   "metadata": {},
   "outputs": [],
   "source": [
    "credible_authors.reset_index(inplace=True)"
   ]
  },
  {
   "cell_type": "code",
   "execution_count": 8,
   "metadata": {
    "code_folding": []
   },
   "outputs": [],
   "source": [
    "# #print(credible_authors.head(n=1))\n",
    "# credible_authors[credible_authors['author'] == 'donatella sciuto'].head(5)\n",
    "\n",
    "# #print(\"-----------------------------------------\")\n",
    "# #print(authorPublicationData.head(n=1))\n",
    "\n",
    "# authorPublicationData[authorPublicationData['author'] == 'donatella sciuto'].head(5)\n",
    "\n",
    "\n",
    "temp = authorPublicationData.groupby(['year','author']).count().reset_index()\n",
    "temp = temp.rename(columns={'pub_id':'num_pub'}, inplace=False)\n",
    "\n",
    "# #print(temp[temp['author'] == 'donatella sciuto'].head(3))\n",
    "\n",
    "\n",
    "authorPublicationData = temp.merge(credible_authors, how=\"inner\", on=[\"author\"])\n",
    "\n",
    "# print(authorPublicationData[authorPublicationData['author'] == 'donatella sciuto'].head(3))\n",
    "\n",
    "# authorPublicationData.shape\n",
    "\n",
    "\n",
    "\n",
    "groupByYearData = calculate.groupDataAndCalculateCumulativeValues(authorPublicationData, 1, 'num_pub')\n",
    "\n",
    "# #print(np.unique(groupByYearData['gender']))\n",
    "authorPublicationData['gender'] = authorPublicationData['gender'].fillna('none')\n",
    "\n",
    "\n",
    "years = groupByYearData['year'].unique()\n",
    "years = sorted(years)\n",
    "\n",
    "cohort_start_years = [y for y in years if y < (END_YEAR - MAX_CAREER_LENGTH_COHORT)]\n",
    "\n"
   ]
  },
  {
   "cell_type": "code",
   "execution_count": 9,
   "metadata": {},
   "outputs": [
    {
     "name": "stdout",
     "output_type": "stream",
     "text": [
      "         year            author  num_pub  start_year  end_year  total_num_pub  \\\n",
      "448881   2001  'maseka lesaoana        1        2001      2015              2   \n",
      "2029249  2015  'maseka lesaoana        1        2001      2015              2   \n",
      "\n",
      "         career_length  max_absence  avg_absence  dropped_after_10 gender  \\\n",
      "448881              15           14         14.0              True   none   \n",
      "2029249             15           14         14.0              True   none   \n",
      "\n",
      "         early_career_qual  early_career_recognition  succ_after_15y  \\\n",
      "448881                23.0                       5.0            23.0   \n",
      "2029249               23.0                       5.0            23.0   \n",
      "\n",
      "         early_career_prod  cum_num_pub  \n",
      "448881                   1            1  \n",
      "2029249                  1            2  \n",
      "Empty DataFrame\n",
      "Columns: [year, author, num_pub, start_year, end_year, total_num_pub, career_length, max_absence, avg_absence, dropped_after_10, gender, early_career_qual, early_career_recognition, succ_after_15y, early_career_prod, cum_num_pub]\n",
      "Index: []\n"
     ]
    }
   ],
   "source": [
    "# # here is a bug; total_num_pub of this author is 349; num_pub and cum_num_pub should only contain publications in \"year\"\n",
    "#print(groupByYearData.head(n=1))\n",
    "# print(np.unique(groupByYearData[\"year\"]))\n",
    "\n",
    "print(groupByYearData[groupByYearData['author'] == '\\'maseka lesaoana'].head(10))\n",
    "#print(groupByYearData[groupByYearData['author'] == 'donatella sciuto'].head(10))\n",
    "print(groupByYearData[groupByYearData['author'] == '(max) zong-ming cheng'].head(10))\n",
    "\n",
    "#print(groupByYearData.sort_values(by=['author', 'year']).head())"
   ]
  },
  {
   "cell_type": "code",
   "execution_count": 16,
   "metadata": {},
   "outputs": [
    {
     "data": {
      "text/plain": [
       "<module 'calculate' from '/home/danielkostic/cumulative-advantage/calculate.py'>"
      ]
     },
     "execution_count": 16,
     "metadata": {},
     "output_type": "execute_result"
    }
   ],
   "source": [
    "from importlib import reload\n",
    "reload(plot)\n",
    "reload(calculate)"
   ]
  },
  {
   "cell_type": "code",
   "execution_count": 11,
   "metadata": {},
   "outputs": [],
   "source": [
    "cohort_careerage_df = plot.get_cohort_careerage_df(groupByYearData, cohort_start_years, MAX_CAREER_LENGTH_COHORT, \"num_pub\", credible_authors)\n",
    "\n",
    "#------------------------------------------\n",
    "# some plausibility checks\n",
    "# print(cohort_careerage_df.head(n=1))\n",
    "# subset1 = cohort_careerage_df[(cohort_careerage_df.cohort_start_year == 1991) & (cohort_careerage_df.career_age == 1) & (cohort_careerage_df.gender == \"all\")]\n",
    "# vals1 = subset1[\"values\"]\n",
    "\n",
    "# subset10 = cohort_careerage_df[(cohort_careerage_df.cohort_start_year == 1991) & (cohort_careerage_df.career_age == 10) & (cohort_careerage_df.gender == \"all\")]\n",
    "# vals10 = subset10[\"values\"]\n",
    "\n",
    "# from collections import Counter\n",
    "\n",
    "# print(type(vals1))\n",
    "# print(Counter(vals1.values[0]))\n",
    "# print(len(vals1.values[0]))\n",
    "\n",
    "\n",
    "# print(type(vals10))\n",
    "# print(Counter(vals10.values[0]))\n",
    "# print(len(vals10.values[0]))\n"
   ]
  },
  {
   "cell_type": "code",
   "execution_count": null,
   "metadata": {},
   "outputs": [],
   "source": []
  },
  {
   "cell_type": "code",
   "execution_count": 12,
   "metadata": {},
   "outputs": [],
   "source": [
    "groupByYearData, cohort_start_years, max_career_age_cohort, criterion, criterion_display, authorStartEndCareerData = groupByYearData, cohort_start_years, MAX_CAREER_LENGTH_COHORT, \"num_pub\", \"Publications\", credible_authors"
   ]
  },
  {
   "cell_type": "code",
   "execution_count": 13,
   "metadata": {},
   "outputs": [],
   "source": [
    "cohort_careerage_df = plot.get_cohort_careerage_df(groupByYearData, cohort_start_years, max_career_age_cohort, criterion, authorStartEndCareerData)\n"
   ]
  },
  {
   "cell_type": "code",
   "execution_count": 17,
   "metadata": {},
   "outputs": [],
   "source": [
    "cohort_effect_size = plot.get_cohort_effect_size(cohort_careerage_df)"
   ]
  },
  {
   "cell_type": "code",
   "execution_count": 18,
   "metadata": {},
   "outputs": [
    {
     "data": {
      "text/html": [
       "<div>\n",
       "<style scoped>\n",
       "    .dataframe tbody tr th:only-of-type {\n",
       "        vertical-align: middle;\n",
       "    }\n",
       "\n",
       "    .dataframe tbody tr th {\n",
       "        vertical-align: top;\n",
       "    }\n",
       "\n",
       "    .dataframe thead th {\n",
       "        text-align: right;\n",
       "    }\n",
       "</style>\n",
       "<table border=\"1\" class=\"dataframe\">\n",
       "  <thead>\n",
       "    <tr style=\"text-align: right;\">\n",
       "      <th></th>\n",
       "      <th>cohort_start_year</th>\n",
       "      <th>career_age</th>\n",
       "      <th>values</th>\n",
       "      <th>effect</th>\n",
       "      <th>statistic</th>\n",
       "      <th>pvalue</th>\n",
       "    </tr>\n",
       "  </thead>\n",
       "  <tbody>\n",
       "    <tr>\n",
       "      <th>0</th>\n",
       "      <td>1970</td>\n",
       "      <td>1</td>\n",
       "      <td>([1.0, 1.0, 1.0, 1.0, 1.0, 2.0, 1.0, 1.0, 1.0,...</td>\n",
       "      <td>0.022447</td>\n",
       "      <td>1931.0</td>\n",
       "      <td>0.525210</td>\n",
       "    </tr>\n",
       "    <tr>\n",
       "      <th>1</th>\n",
       "      <td>1970</td>\n",
       "      <td>2</td>\n",
       "      <td>([0.0, 0.0, 0.0, 0.0, 0.0, 0.0, 0.0, 0.0, 0.0,...</td>\n",
       "      <td>0.001940</td>\n",
       "      <td>1857.0</td>\n",
       "      <td>0.967378</td>\n",
       "    </tr>\n",
       "    <tr>\n",
       "      <th>2</th>\n",
       "      <td>1970</td>\n",
       "      <td>3</td>\n",
       "      <td>([0.0, 0.0, 0.0, 0.0, 0.0, 0.0, 0.0, 0.0, 0.0,...</td>\n",
       "      <td>0.001109</td>\n",
       "      <td>1854.0</td>\n",
       "      <td>0.984109</td>\n",
       "    </tr>\n",
       "    <tr>\n",
       "      <th>3</th>\n",
       "      <td>1970</td>\n",
       "      <td>4</td>\n",
       "      <td>([0.0, 0.0, 0.0, 0.0, 1.0, 1.0, 0.0, 2.0, 0.0,...</td>\n",
       "      <td>0.075101</td>\n",
       "      <td>2121.0</td>\n",
       "      <td>0.140435</td>\n",
       "    </tr>\n",
       "    <tr>\n",
       "      <th>4</th>\n",
       "      <td>1970</td>\n",
       "      <td>5</td>\n",
       "      <td>([0.0, 0.0, 0.0, 0.0, 2.0, 1.0, 0.0, 0.0, 0.0,...</td>\n",
       "      <td>0.026604</td>\n",
       "      <td>1946.0</td>\n",
       "      <td>0.625339</td>\n",
       "    </tr>\n",
       "  </tbody>\n",
       "</table>\n",
       "</div>"
      ],
      "text/plain": [
       "   cohort_start_year  career_age  \\\n",
       "0               1970           1   \n",
       "1               1970           2   \n",
       "2               1970           3   \n",
       "3               1970           4   \n",
       "4               1970           5   \n",
       "\n",
       "                                              values    effect  statistic  \\\n",
       "0  ([1.0, 1.0, 1.0, 1.0, 1.0, 2.0, 1.0, 1.0, 1.0,...  0.022447     1931.0   \n",
       "1  ([0.0, 0.0, 0.0, 0.0, 0.0, 0.0, 0.0, 0.0, 0.0,...  0.001940     1857.0   \n",
       "2  ([0.0, 0.0, 0.0, 0.0, 0.0, 0.0, 0.0, 0.0, 0.0,...  0.001109     1854.0   \n",
       "3  ([0.0, 0.0, 0.0, 0.0, 1.0, 1.0, 0.0, 2.0, 0.0,...  0.075101     2121.0   \n",
       "4  ([0.0, 0.0, 0.0, 0.0, 2.0, 1.0, 0.0, 0.0, 0.0,...  0.026604     1946.0   \n",
       "\n",
       "     pvalue  \n",
       "0  0.525210  \n",
       "1  0.967378  \n",
       "2  0.984109  \n",
       "3  0.140435  \n",
       "4  0.625339  "
      ]
     },
     "execution_count": 18,
     "metadata": {},
     "output_type": "execute_result"
    }
   ],
   "source": [
    "cohort_effect_size.head()"
   ]
  },
  {
   "cell_type": "code",
   "execution_count": null,
   "metadata": {},
   "outputs": [],
   "source": [
    "# < 0,05 - significant difference"
   ]
  },
  {
   "cell_type": "code",
   "execution_count": 33,
   "metadata": {},
   "outputs": [],
   "source": [
    "significant_effect = cohort_effect_size[cohort_effect_size.pvalue <= 0.05]"
   ]
  },
  {
   "cell_type": "code",
   "execution_count": 34,
   "metadata": {},
   "outputs": [
    {
     "data": {
      "text/plain": [
       "0.040513442771317784"
      ]
     },
     "execution_count": 34,
     "metadata": {},
     "output_type": "execute_result"
    }
   ],
   "source": [
    "significant_effect.effect.mean()"
   ]
  },
  {
   "cell_type": "code",
   "execution_count": 35,
   "metadata": {},
   "outputs": [
    {
     "data": {
      "text/plain": [
       "6     7\n",
       "4     5\n",
       "3     5\n",
       "7     4\n",
       "15    3\n",
       "14    3\n",
       "12    3\n",
       "10    3\n",
       "8     3\n",
       "1     3\n",
       "11    2\n",
       "9     2\n",
       "5     2\n",
       "2     2\n",
       "Name: career_age, dtype: int64"
      ]
     },
     "execution_count": 35,
     "metadata": {},
     "output_type": "execute_result"
    }
   ],
   "source": [
    "significant_effect.career_age.value_counts()"
   ]
  },
  {
   "cell_type": "code",
   "execution_count": 36,
   "metadata": {},
   "outputs": [],
   "source": [
    "significant_effect = significant_effect.cohort_start_year.value_counts().to_frame()"
   ]
  },
  {
   "cell_type": "code",
   "execution_count": 41,
   "metadata": {},
   "outputs": [],
   "source": [
    "significant_years = list(significant_effect[significant_effect.cohort_start_year > 5].index)"
   ]
  },
  {
   "cell_type": "code",
   "execution_count": null,
   "metadata": {},
   "outputs": [],
   "source": []
  },
  {
   "cell_type": "code",
   "execution_count": null,
   "metadata": {},
   "outputs": [],
   "source": [
    "cohort_effect_size"
   ]
  },
  {
   "cell_type": "code",
   "execution_count": 50,
   "metadata": {},
   "outputs": [
    {
     "name": "stdout",
     "output_type": "stream",
     "text": [
      "Typeerror occured\n",
      "Typeerror occured\n",
      "Typeerror occured\n",
      "Typeerror occured\n",
      "Typeerror occured\n",
      "Typeerror occured\n",
      "Typeerror occured\n",
      "Typeerror occured\n",
      "Typeerror occured\n",
      "Typeerror occured\n",
      "Typeerror occured\n",
      "Typeerror occured\n",
      "Typeerror occured\n"
     ]
    },
    {
     "name": "stderr",
     "output_type": "stream",
     "text": [
      "/home/danielkostic/anaconda3/lib/python3.6/site-packages/matplotlib/font_manager.py:1320: UserWarning: findfont: Font family ['serif'] not found. Falling back to DejaVu Sans\n",
      "  (prop.get_family(), self.defaultFamily[fontext]))\n",
      "/home/danielkostic/anaconda3/lib/python3.6/site-packages/matplotlib/figure.py:2022: UserWarning: This figure includes Axes that are not compatible with tight_layout, so results might be incorrect.\n",
      "  warnings.warn(\"This figure includes Axes that are not compatible \"\n"
     ]
    },
    {
     "data": {
      "image/png": "[encoded data removed]",
      "text/plain": [
       "<matplotlib.figure.Figure at 0x7f52f41c0898>"
      ]
     },
     "metadata": {},
     "output_type": "display_data"
    }
   ],
   "source": [
    "def plot_cohort_effect_size(cohort_effect_size):\n",
    "    data = cohort_effect_size\n",
    "    plt = plot.init_plotting()\n",
    "\n",
    "    cohort_start_years = data.cohort_start_year.unique()\n",
    "\n",
    "    fig2 = plt.figure()\n",
    "    fig2.patch.set_facecolor('white')\n",
    "    ax2 = fig2.add_subplot(1,1,1) #, axisbg=\"white\"\n",
    "\n",
    "\n",
    "    highlighted_cohorts = []  \n",
    "    colors = ('#DE4C2C', '#3BD64C', '#3B9ED6', '#B73BD6', '#F39C12', '#FFC0CB', '#27AE60', '#48C9B0', '#071019') #'#AAB7B8',\n",
    "    markers = []\n",
    "    for m in Line2D.markers:\n",
    "        try:\n",
    "            if len(m) == 1 and m != ' ':\n",
    "                markers.append(m)\n",
    "        except TypeError:\n",
    "            print(\"Typeerror occured\")\n",
    "            pass\n",
    "\n",
    "    ax2.set_xlabel('Career Age', labelpad=20, fontweight='bold') \n",
    "    ax2.set_ylabel('Effect size ', labelpad=20, fontweight='bold')\n",
    "    plt.title(\"Mann Whitney U - effect size r\")\n",
    "\n",
    "    p = 0\n",
    "    for year in cohort_start_years: \n",
    "        cohort = data[data.cohort_start_year == year]\n",
    "\n",
    "        if(year in significant_years):\n",
    "            ax2.errorbar(cohort.career_age, cohort.effect, label=year, color=colors[p],\n",
    "                         marker=markers[p], markersize=10)\n",
    "            highlighted_cohorts.append(year)\n",
    "            p = p+1 \n",
    "        else:\n",
    "            ax2.errorbar(cohort.career_age, cohort.effect, label=None, color='grey', alpha=0.5)\n",
    "\n",
    "    plt.tight_layout()\n",
    "    plt.legend()\n",
    "    plt.show()"
   ]
  },
  {
   "cell_type": "code",
   "execution_count": null,
   "metadata": {},
   "outputs": [],
   "source": []
  },
  {
   "cell_type": "code",
   "execution_count": null,
   "metadata": {},
   "outputs": [],
   "source": []
  },
  {
   "cell_type": "code",
   "execution_count": null,
   "metadata": {},
   "outputs": [],
   "source": [
    "cohort_careerage_df.loc[[1933, 1934]]"
   ]
  },
  {
   "cell_type": "code",
   "execution_count": null,
   "metadata": {},
   "outputs": [],
   "source": [
    "a = cohort_careerage_df['values'][1933]\n",
    "b = cohort_careerage_df['values'][1934]"
   ]
  },
  {
   "cell_type": "code",
   "execution_count": null,
   "metadata": {},
   "outputs": [],
   "source": [
    "mannwhitneyu(a, b, alternative='two-sided')"
   ]
  },
  {
   "cell_type": "code",
   "execution_count": null,
   "metadata": {},
   "outputs": [],
   "source": [
    "effect, statistic, pvalue = calculate.mann_whitney_effect_size(a,b, effect_formula='r')"
   ]
  },
  {
   "cell_type": "code",
   "execution_count": null,
   "metadata": {},
   "outputs": [],
   "source": [
    "statistic"
   ]
  },
  {
   "cell_type": "code",
   "execution_count": null,
   "metadata": {},
   "outputs": [],
   "source": [
    "mwu = mannwhitneyu([1,2,3,4,5], [2,3,4,5,6,7], alternative='two-sided')"
   ]
  },
  {
   "cell_type": "code",
   "execution_count": null,
   "metadata": {},
   "outputs": [],
   "source": [
    "mwu.statistic"
   ]
  },
  {
   "cell_type": "code",
   "execution_count": null,
   "metadata": {},
   "outputs": [],
   "source": [
    "mwu"
   ]
  },
  {
   "cell_type": "code",
   "execution_count": null,
   "metadata": {},
   "outputs": [],
   "source": [
    "a = [2,4,3,1,2,3,3,2,3,1]"
   ]
  },
  {
   "cell_type": "code",
   "execution_count": null,
   "metadata": {},
   "outputs": [],
   "source": [
    "b = [3,5,4,2,4,3,5,5,3,2]"
   ]
  },
  {
   "cell_type": "code",
   "execution_count": null,
   "metadata": {},
   "outputs": [],
   "source": [
    "m = mannwhitneyu(a, b, alternative='two-sided')"
   ]
  },
  {
   "cell_type": "code",
   "execution_count": null,
   "metadata": {},
   "outputs": [],
   "source": [
    "m"
   ]
  },
  {
   "cell_type": "code",
   "execution_count": null,
   "metadata": {},
   "outputs": [],
   "source": []
  },
  {
   "cell_type": "code",
   "execution_count": null,
   "metadata": {},
   "outputs": [],
   "source": []
  },
  {
   "cell_type": "code",
   "execution_count": null,
   "metadata": {
    "scrolled": false
   },
   "outputs": [],
   "source": [
    "plot.run_cohort_analysis(groupByYearData, cohort_start_years, MAX_CAREER_LENGTH_COHORT, \"num_pub\", \"Publications\", credible_authors)  "
   ]
  },
  {
   "cell_type": "code",
   "execution_count": null,
   "metadata": {
    "scrolled": false
   },
   "outputs": [],
   "source": [
    "plot.run_cohort_analysis(groupByYearData, cohort_start_years, MAX_CAREER_LENGTH_COHORT, \"cum_num_pub\", \"Cumulative Publications\", credible_authors)  "
   ]
  },
  {
   "cell_type": "code",
   "execution_count": null,
   "metadata": {},
   "outputs": [],
   "source": []
  }
 ],
 "metadata": {
  "anaconda-cloud": {},
  "kernelspec": {
   "display_name": "Python 3",
   "language": "python",
   "name": "python3"
  },
  "language_info": {
   "codemirror_mode": {
    "name": "ipython",
    "version": 3
   },
   "file_extension": ".py",
   "mimetype": "text/x-python",
   "name": "python",
   "nbconvert_exporter": "python",
   "pygments_lexer": "ipython3",
   "version": "3.6.4"
  }
 },
 "nbformat": 4,
 "nbformat_minor": 2
}
