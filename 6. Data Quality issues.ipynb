{
 "cells": [
  {
   "cell_type": "code",
   "execution_count": 1,
   "metadata": {},
   "outputs": [],
   "source": [
    "import pandas as pd\n",
    "from matplotlib import pyplot as plt\n",
    "import numpy as np"
   ]
  },
  {
   "cell_type": "code",
   "execution_count": 2,
   "metadata": {},
   "outputs": [],
   "source": [
    "# derived data\n",
    "credible_authors = pd.read_csv('derived-data/authors-scientific-extended.csv')"
   ]
  },
  {
   "cell_type": "code",
   "execution_count": 8,
   "metadata": {},
   "outputs": [],
   "source": [
    "# raw data\n",
    "authorPublicationData = pd.read_csv('./data/author_publications_2017_asiansAsNone.txt')"
   ]
  },
  {
   "cell_type": "markdown",
   "metadata": {},
   "source": [
    "Cohort of 1991, case of irith pomeranz. "
   ]
  },
  {
   "cell_type": "code",
   "execution_count": 5,
   "metadata": {},
   "outputs": [],
   "source": [
    "cohort = credible_authors[credible_authors.start_year == 1991]"
   ]
  },
  {
   "cell_type": "code",
   "execution_count": 6,
   "metadata": {},
   "outputs": [
    {
     "data": {
      "text/html": [
       "<div>\n",
       "<style scoped>\n",
       "    .dataframe tbody tr th:only-of-type {\n",
       "        vertical-align: middle;\n",
       "    }\n",
       "\n",
       "    .dataframe tbody tr th {\n",
       "        vertical-align: top;\n",
       "    }\n",
       "\n",
       "    .dataframe thead th {\n",
       "        text-align: right;\n",
       "    }\n",
       "</style>\n",
       "<table border=\"1\" class=\"dataframe\">\n",
       "  <thead>\n",
       "    <tr style=\"text-align: right;\">\n",
       "      <th></th>\n",
       "      <th>author</th>\n",
       "      <th>start_year</th>\n",
       "      <th>end_year</th>\n",
       "      <th>total_num_pub</th>\n",
       "      <th>career_length</th>\n",
       "      <th>gender</th>\n",
       "      <th>early_career_degree_3</th>\n",
       "      <th>early_career_qual_3</th>\n",
       "      <th>early_career_recognition_EC3_RC3</th>\n",
       "      <th>early_career_recognition_EC3_RC5</th>\n",
       "      <th>succ_after_15y</th>\n",
       "      <th>early_career_prod_3</th>\n",
       "      <th>early_career_coauthor_max_cit_3</th>\n",
       "    </tr>\n",
       "  </thead>\n",
       "  <tbody>\n",
       "    <tr>\n",
       "      <th>612112</th>\n",
       "      <td>irith pomeranz</td>\n",
       "      <td>1991</td>\n",
       "      <td>2017</td>\n",
       "      <td>562</td>\n",
       "      <td>27</td>\n",
       "      <td>none</td>\n",
       "      <td>6.0</td>\n",
       "      <td>647.0</td>\n",
       "      <td>88.0</td>\n",
       "      <td>244.0</td>\n",
       "      <td>2197.0</td>\n",
       "      <td>40</td>\n",
       "      <td>451.0</td>\n",
       "    </tr>\n",
       "  </tbody>\n",
       "</table>\n",
       "</div>"
      ],
      "text/plain": [
       "                author  start_year  end_year  total_num_pub  career_length  \\\n",
       "612112  irith pomeranz        1991      2017            562             27   \n",
       "\n",
       "       gender  early_career_degree_3  early_career_qual_3  \\\n",
       "612112   none                    6.0                647.0   \n",
       "\n",
       "        early_career_recognition_EC3_RC3  early_career_recognition_EC3_RC5  \\\n",
       "612112                              88.0                             244.0   \n",
       "\n",
       "        succ_after_15y  early_career_prod_3  early_career_coauthor_max_cit_3  \n",
       "612112          2197.0                   40                            451.0  "
      ]
     },
     "execution_count": 6,
     "metadata": {},
     "output_type": "execute_result"
    }
   ],
   "source": [
    "max_prod = cohort['early_career_prod_3'].max()\n",
    "cohort[cohort['early_career_prod_3'] == max_prod]"
   ]
  },
  {
   "cell_type": "code",
   "execution_count": 17,
   "metadata": {},
   "outputs": [],
   "source": [
    "early_prod_raw = authorPublicationData[(authorPublicationData.author == \"irith pomeranz\") & (authorPublicationData.year <= 1993)].shape[0]"
   ]
  },
  {
   "cell_type": "code",
   "execution_count": 19,
   "metadata": {},
   "outputs": [
    {
     "name": "stdout",
     "output_type": "stream",
     "text": [
      "40\n"
     ]
    }
   ],
   "source": [
    "assert early_prod_raw == max_prod, \"Derived data does not match raw!\"\n",
    "print(max_prod)"
   ]
  },
  {
   "cell_type": "markdown",
   "metadata": {},
   "source": [
    "Conclusion: The number of publications for irith pomeranz matches the raw data (=40). Looking at the https://dblp.uni-trier.de/pers/hd/p/Pomeranz:Irith , we would expect 41, so 1 is missing from the raw data."
   ]
  },
  {
   "cell_type": "code",
   "execution_count": null,
   "metadata": {},
   "outputs": [],
   "source": []
  }
 ],
 "metadata": {
  "kernelspec": {
   "display_name": "Python 3",
   "language": "python",
   "name": "python3"
  },
  "language_info": {
   "codemirror_mode": {
    "name": "ipython",
    "version": 3
   },
   "file_extension": ".py",
   "mimetype": "text/x-python",
   "name": "python",
   "nbconvert_exporter": "python",
   "pygments_lexer": "ipython3",
   "version": "3.6.4"
  }
 },
 "nbformat": 4,
 "nbformat_minor": 2
}
