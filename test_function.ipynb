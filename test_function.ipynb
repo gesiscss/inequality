{
 "cells": [
  {
   "cell_type": "code",
   "execution_count": 48,
   "metadata": {},
   "outputs": [],
   "source": [
    "import calculate\n",
    "from importlib import reload\n",
    "import numpy as np"
   ]
  },
  {
   "cell_type": "code",
   "execution_count": 49,
   "metadata": {},
   "outputs": [
    {
     "data": {
      "text/plain": [
       "<module 'calculate' from '/home/danielkostic/cumulative-advantage/calculate.py'>"
      ]
     },
     "execution_count": 49,
     "metadata": {},
     "output_type": "execute_result"
    }
   ],
   "source": [
    "reload(calculate)"
   ]
  },
  {
   "cell_type": "code",
   "execution_count": 50,
   "metadata": {},
   "outputs": [
    {
     "name": "stdout",
     "output_type": "stream",
     "text": [
      "0.6499997400001039\n",
      "0.6024999999999998\n",
      "0.25\n",
      "1\n",
      "4\n"
     ]
    }
   ],
   "source": [
    "#compared with http://shlegeris.com/gini\n",
    "\n",
    "print(calculate.gini(np.asarray([0.85, 0.1, 0.05, 0])))\n",
    "print(calculate.hhi(np.asarray([0.85, 0.1, 0.05, 0])))\n",
    "print(calculate.percentage_zeros(np.asarray([0.85, 0.1, 0.05, 0])))\n",
    "print((np.asarray([0.85, 0.1, 0.05, 0]).size)-np.count_nonzero(np.asarray([0.85, 0.1, 0.05, 0])))\n",
    "print(np.asarray([0.85, 0.1, 0.05, 0]).size)"
   ]
  },
  {
   "cell_type": "code",
   "execution_count": 53,
   "metadata": {},
   "outputs": [
    {
     "name": "stdout",
     "output_type": "stream",
     "text": [
      "0.9066653066687066\n",
      "0.6024999999999998\n",
      "0.7\n"
     ]
    }
   ],
   "source": [
    "# gini increases as we add zeros\n",
    "\n",
    "print(calculate.gini(np.asarray([0.85, 0.1, 0.05, 0, 0, 0, 0, 0, 0, 0, 0, 0, 0, 0, 0])))\n",
    "\n",
    "print(calculate.hhi(np.asarray([0.85, 0.1, 0.05, 0, 0, 0, 0, 0, 0, 0, 0, 0, 0, 0, 0])))\n",
    "\n",
    "print(calculate.percentage_zeros(np.asarray([0.85, 0.1, 0.05, 0, 0, 0, 0, 0, 0, 0, 0, 0, 0, 0, 0])))\n"
   ]
  },
  {
   "cell_type": "code",
   "execution_count": 52,
   "metadata": {},
   "outputs": [
    {
     "data": {
      "text/plain": [
       "0.0"
      ]
     },
     "execution_count": 52,
     "metadata": {},
     "output_type": "execute_result"
    }
   ],
   "source": [
    "calculate.gini(np.asarray([1.0,1.0,1.0,1.0,1.0,1.0]))"
   ]
  },
  {
   "cell_type": "code",
   "execution_count": 4,
   "metadata": {},
   "outputs": [
    {
     "data": {
      "text/plain": [
       "3.552713323529169e-17"
      ]
     },
     "execution_count": 4,
     "metadata": {},
     "output_type": "execute_result"
    }
   ],
   "source": [
    "data = np.asarray([1.0, 1.0, 1.0, 1.0, 1.0, 1.0, 1.0, 1.0, 1.0, 1.0])\n",
    "calculate.gini(data)"
   ]
  },
  {
   "cell_type": "code",
   "execution_count": 5,
   "metadata": {},
   "outputs": [
    {
     "ename": "ModuleNotFoundError",
     "evalue": "No module named 'pysal'",
     "output_type": "error",
     "traceback": [
      "\u001b[0;31m---------------------------------------------------------------------------\u001b[0m",
      "\u001b[0;31mModuleNotFoundError\u001b[0m                       Traceback (most recent call last)",
      "\u001b[0;32m<ipython-input-5-c4a29d958966>\u001b[0m in \u001b[0;36m<module>\u001b[0;34m\u001b[0m\n\u001b[0;32m----> 1\u001b[0;31m \u001b[0;32mimport\u001b[0m \u001b[0mpysal\u001b[0m\u001b[0;34m\u001b[0m\u001b[0;34m\u001b[0m\u001b[0m\n\u001b[0m\u001b[1;32m      2\u001b[0m \u001b[0;31m#####\u001b[0m\u001b[0;34m\u001b[0m\u001b[0;34m\u001b[0m\u001b[0;34m\u001b[0m\u001b[0m\n\u001b[1;32m      3\u001b[0m \u001b[0;34m\u001b[0m\u001b[0m\n\u001b[1;32m      4\u001b[0m \u001b[0;34m\u001b[0m\u001b[0m\n\u001b[1;32m      5\u001b[0m \u001b[0;31m# Test gini claculation\u001b[0m\u001b[0;34m\u001b[0m\u001b[0;34m\u001b[0m\u001b[0;34m\u001b[0m\u001b[0m\n",
      "\u001b[0;31mModuleNotFoundError\u001b[0m: No module named 'pysal'"
     ]
    }
   ],
   "source": [
    "import pysal\n",
    "#####\n",
    "\n",
    "\n",
    "# Test gini claculation\n",
    "s1 = np.random.uniform(-1,0,10000)\n",
    "s2 = np.random.uniform(-1,0,100)\n",
    "s3 = np.array([5.0, 4.0, 3.0, 2.0, 1.0, 0.0])\n",
    "s4 = np.array([5.0, 4.0, 3.0, 2.0, 1.0, 0.0, 0.0, 0.0, 0.0, 0.0])\n",
    "\n",
    "print(calculate.gini(s1))\n",
    "print(calculate.gini(s2))\n",
    "print(calculate.gini(s3))\n",
    "print(calculate.gini(s4))\n",
    "\n",
    "\n",
    "print(pysal.inequality.gini.Gini(s1).g)\n",
    "print(pysal.inequality.gini.Gini(s2).g)\n",
    "print(pysal.inequality.gini.Gini(s3).g)\n",
    "print(pysal.inequality.gini.Gini(s4).g)"
   ]
  },
  {
   "cell_type": "code",
   "execution_count": null,
   "metadata": {},
   "outputs": [],
   "source": []
  }
 ],
 "metadata": {
  "anaconda-cloud": {},
  "kernelspec": {
   "display_name": "Python 3",
   "language": "python",
   "name": "python3"
  },
  "language_info": {
   "codemirror_mode": {
    "name": "ipython",
    "version": 3
   },
   "file_extension": ".py",
   "mimetype": "text/x-python",
   "name": "python",
   "nbconvert_exporter": "python",
   "pygments_lexer": "ipython3",
   "version": "3.7.3"
  }
 },
 "nbformat": 4,
 "nbformat_minor": 1
}
