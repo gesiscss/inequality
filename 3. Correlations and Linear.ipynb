{
 "cells": [
  {
   "cell_type": "code",
   "execution_count": 2,
   "metadata": {
    "pycharm": {
     "is_executing": false
    }
   },
   "outputs": [],
   "source": [
    "import pandas as pd\n",
    "from matplotlib import pyplot as plt\n",
    "from matplotlib.lines import Line2D\n",
    "import seaborn as sns\n",
    "from IPython.display import display\n",
    "\n",
    "import numpy as np\n",
    "import randomcate\n",
    "import plot"
   ]
  },
  {
   "cell_type": "code",
   "execution_count": 3,
   "metadata": {
    "pycharm": {
     "is_executing": false
    }
   },
   "outputs": [],
   "source": [
    "from sklearn.linear_model import LinearRegression, ElasticNet, ElasticNetCV, Lasso, LogisticRegressionCV, SGDClassifier\n",
    "from sklearn.model_selection import KFold\n",
    "from sklearn.tree import DecisionTreeRegressor\n",
    "from sklearn.ensemble import RandomForestRegressor\n",
    "from sklearn.metrics import r2_score, f1_score, matthews_corrcoef, mean_squared_error\n",
    "from sklearn.model_selection import cross_val_score\n",
    "from sklearn.utils import shuffle"
   ]
  },
  {
   "cell_type": "code",
   "execution_count": 4,
   "metadata": {
    "pycharm": {
     "is_executing": false
    }
   },
   "outputs": [],
   "source": [
    "CAREER_LENGTH = 1\n",
    "\n",
    "#EARLY_CAREER_LEN_LIST = [1, 2, 3, 4, 5]\n",
    "EARLY_CAREER_LEN_LIST = [3]\n",
    "EARLY_CAREER = 3\n",
    "#RECOGNITION_CUT_OFF_LIST = [3, 4, 5, 6, 7, 8, 9]\n",
    "RECOGNITION_CUT_OFF_LIST = [3]\n",
    "RECOGNITION_CUT = 3\n",
    "\n",
    "MAX_CAREER_LEN = 15\n",
    "END_YEAR = 2016"
   ]
  },
  {
   "cell_type": "code",
   "execution_count": 48,
   "metadata": {
    "pycharm": {
     "is_executing": false
    }
   },
   "outputs": [
    {
     "name": "stdout",
     "output_type": "stream",
     "text": [
      "(1688735, 82)\n"
     ]
    }
   ],
   "source": [
    "credible_authors = pd.read_csv('derived-data/authors-scientific-extended_all2.csv')\n",
    "print(credible_authors.shape)"
   ]
  },
  {
   "cell_type": "code",
   "execution_count": 14,
   "metadata": {},
   "outputs": [],
   "source": [
    "team_size_year = pd.read_csv('derived-data/team_size_avg_per_year.csv')"
   ]
  },
  {
   "cell_type": "code",
   "execution_count": 15,
   "metadata": {
    "pycharm": {
     "is_executing": false
    }
   },
   "outputs": [],
   "source": [
    "years = sorted(credible_authors.start_year.unique())\n",
    "COHORT_START_YEARS = [y for y in years if y < (END_YEAR - MAX_CAREER_LEN)]"
   ]
  },
  {
   "cell_type": "code",
   "execution_count": 16,
   "metadata": {
    "pycharm": {
     "is_executing": false
    }
   },
   "outputs": [],
   "source": [
    "#credible_authors.columns\n",
    "#print(credible_authors.groupby(\"start_year\")['dropped_after_10'].agg('sum'))\n",
    "#print(credible_authors.groupby(\"start_year\")['author'].count())"
   ]
  },
  {
   "cell_type": "code",
   "execution_count": 17,
   "metadata": {
    "pycharm": {
     "is_executing": false
    }
   },
   "outputs": [
    {
     "name": "stdout",
     "output_type": "stream",
     "text": [
      "(1688735, 82)\n",
      "1\n",
      "[2001 2009 2011 1992 2017 2002 2003 2010 2008 1979 2007 1995 2016 2015\n",
      " 1986 2005 2012 1998 2006 2013 1999 1980 2014 1988 1996 1970 2004 1994\n",
      " 1997 1987 1982 2000 1990 1989 1985 1974 1977 1993 1991 1975 1984 1983\n",
      " 1973 1972 1971 1981 1978 1976 2018]\n",
      "(292443, 82)\n",
      "[1970, 1971, 1972, 1973, 1974, 1975, 1976, 1977, 1978, 1979, 1980, 1981, 1982, 1983, 1984, 1985, 1986, 1987, 1988, 1989, 1990, 1991, 1992, 1993, 1994, 1995, 1996, 1997, 1998, 1999, 2000]\n"
     ]
    }
   ],
   "source": [
    "credible_authors = credible_authors[credible_authors.career_length >= CAREER_LENGTH]\n",
    "print(credible_authors.shape)\n",
    "print(CAREER_LENGTH)\n",
    "print(credible_authors.start_year.unique())\n",
    "\n",
    "credible_authors = credible_authors[credible_authors.start_year.isin(COHORT_START_YEARS)]\n",
    "\n",
    "print(credible_authors.shape)\n",
    "print(COHORT_START_YEARS)"
   ]
  },
  {
   "cell_type": "markdown",
   "metadata": {},
   "source": [
    "## Linear reg"
   ]
  },
  {
   "cell_type": "markdown",
   "metadata": {
    "heading_collapsed": true
   },
   "source": [
    "### Test different predictors"
   ]
  },
  {
   "cell_type": "code",
   "execution_count": null,
   "metadata": {
    "hidden": true
   },
   "outputs": [],
   "source": [
    "# test different early career lenghts"
   ]
  },
  {
   "cell_type": "code",
   "execution_count": null,
   "metadata": {
    "hidden": true
   },
   "outputs": [],
   "source": [
    "year = 1995\n",
    "\n",
    "credible_authors_1991 = credible_authors[credible_authors.start_year == year]"
   ]
  },
  {
   "cell_type": "code",
   "execution_count": null,
   "metadata": {
    "hidden": true,
    "lines_to_next_cell": 2
   },
   "outputs": [],
   "source": [
    "X = credible_authors_1991.copy()"
   ]
  },
  {
   "cell_type": "code",
   "execution_count": null,
   "metadata": {
    "hidden": true
   },
   "outputs": [],
   "source": [
    "categorical_cols = ['gender']\n",
    "\n",
    "for col in categorical_cols:\n",
    "    X = X.join(pd.get_dummies(X[categorical_cols]))\n",
    "\n",
    "X.drop(categorical_cols, axis=1, inplace=True)"
   ]
  },
  {
   "cell_type": "code",
   "execution_count": null,
   "metadata": {
    "hidden": true
   },
   "outputs": [],
   "source": [
    "def run_linear(func, name):\n",
    "    df = pd.DataFrame(columns=['params', f'r_squared_{name}'])\n",
    "    for EARLY_CAREER in EARLY_CAREER_LEN_LIST:\n",
    "        for RECOGNITION_CUT in RECOGNITION_CUT_OFF_LIST:\n",
    "            if RECOGNITION_CUT < EARLY_CAREER: continue\n",
    "            H = X[[\n",
    "                #'max_absence-0-3', 'avg_absence-0-3',\n",
    "                   'gender_f', 'gender_m', 'gender_none',\n",
    "                   f'early_career_degree_{EARLY_CAREER}', \n",
    "                   f'early_career_prod_{EARLY_CAREER}',\n",
    "                   f'early_career_qual_{EARLY_CAREER}', f'early_career_recognition_EC{EARLY_CAREER}_RC{RECOGNITION_CUT}']]\n",
    "            reg = func.fit(H, y)\n",
    "            df = df.append({'params': f'EC:{EARLY_CAREER},REC:{RECOGNITION_CUT}',\n",
    "                            f'r_squared_{name}': reg.score(H, y)}, ignore_index=True)\n",
    "    return df"
   ]
  },
  {
   "cell_type": "code",
   "execution_count": null,
   "metadata": {
    "hidden": true
   },
   "outputs": [],
   "source": [
    "def run_cv(func, name, cv, y_col='succ_after_15y'):\n",
    "    df = pd.DataFrame(columns=['params', f'r_squared_{name}'])\n",
    "    for EARLY_CAREER in EARLY_CAREER_LEN_LIST:\n",
    "        for RECOGNITION_CUT in RECOGNITION_CUT_OFF_LIST:\n",
    "            if RECOGNITION_CUT < EARLY_CAREER: continue\n",
    "            H = X[[\n",
    "                #'max_absence-0-3', 'avg_absence-0-3',\n",
    "                   'gender_f', 'gender_m', 'gender_none',\n",
    "                   f'early_career_degree_{EARLY_CAREER}', \n",
    "                   f'early_career_prod_{EARLY_CAREER}',\n",
    "                   f'early_career_qual_{EARLY_CAREER}', f'early_career_recognition_EC{EARLY_CAREER}_RC{RECOGNITION_CUT}']]\n",
    "            y = X[y_col]\n",
    "            score = np.mean(cross_val_score(func, H, y, cv=cv, scoring='r2'))\n",
    "            df = df.append({'params': f'EC:{EARLY_CAREER},REC:{RECOGNITION_CUT}',\n",
    "                            f'r_squared_{name}': score}, ignore_index=True)\n",
    "    return df"
   ]
  },
  {
   "cell_type": "code",
   "execution_count": null,
   "metadata": {
    "hidden": true
   },
   "outputs": [],
   "source": [
    "df1 = run_cv(LinearRegression(), 'linear', cv=3)"
   ]
  },
  {
   "cell_type": "code",
   "execution_count": null,
   "metadata": {
    "hidden": true
   },
   "outputs": [],
   "source": [
    "# df1_null = run_cv(LinearRegression(), 'linear_null', cv=3, y_col='succ_shuffled')"
   ]
  },
  {
   "cell_type": "code",
   "execution_count": null,
   "metadata": {
    "hidden": true
   },
   "outputs": [],
   "source": [
    "df2 = run_cv(ElasticNet(), 'elastic', cv=3)"
   ]
  },
  {
   "cell_type": "code",
   "execution_count": null,
   "metadata": {
    "hidden": true
   },
   "outputs": [],
   "source": [
    "df3 = run_cv(ElasticNetCV(cv=3), 'elastic_CV', cv=3)"
   ]
  },
  {
   "cell_type": "code",
   "execution_count": null,
   "metadata": {
    "hidden": true
   },
   "outputs": [],
   "source": [
    "df4 = run_cv(Lasso(alpha=0.1), 'lasso', cv=3)"
   ]
  },
  {
   "cell_type": "code",
   "execution_count": null,
   "metadata": {
    "hidden": true
   },
   "outputs": [],
   "source": [
    "# Decision tree overfits pretty bad. Maybe GridParam Search?\n",
    "df5 = run_cv(DecisionTreeRegressor(), 'tree', cv=3)"
   ]
  },
  {
   "cell_type": "code",
   "execution_count": null,
   "metadata": {
    "hidden": true
   },
   "outputs": [],
   "source": [
    "df6 = run_cv(RandomForestRegressor(), 'forest', cv=3)"
   ]
  },
  {
   "cell_type": "code",
   "execution_count": null,
   "metadata": {
    "hidden": true
   },
   "outputs": [],
   "source": [
    "# df6_null = run_cv(RandomForestRegressor(), 'forest_null', cv=3, y_col='succ_shuffled')"
   ]
  },
  {
   "cell_type": "code",
   "execution_count": null,
   "metadata": {
    "hidden": true
   },
   "outputs": [],
   "source": [
    "dfs = [df1, df2, df3, df4, df5, df6] #df1_null, df6_null\n",
    "for df_ in dfs: df_.set_index('params', inplace=True)"
   ]
  },
  {
   "cell_type": "code",
   "execution_count": null,
   "metadata": {
    "hidden": true
   },
   "outputs": [],
   "source": [
    "dfs[0].join(dfs[1:])"
   ]
  },
  {
   "cell_type": "markdown",
   "metadata": {},
   "source": [
    "### Elastic net"
   ]
  },
  {
   "cell_type": "code",
   "execution_count": 18,
   "metadata": {},
   "outputs": [],
   "source": [
    "# EARLY_CAREER = EARLY_CAREER_LEN_LIST[0]\n",
    "# RECOGNITION_CUT = RECOGNITION_CUT_OFF_LIST[0]\n",
    "# EARLY_CAREER_LEN_LIST = [3,5,7,9,11,12]\n",
    "# RECOGNITION_CUT_OFF_LIST = [3,5,7,9,11,12]"
   ]
  },
  {
   "cell_type": "code",
   "execution_count": 19,
   "metadata": {},
   "outputs": [],
   "source": [
    "from sklearn.preprocessing import StandardScaler,RobustScaler, MinMaxScaler\n",
    "from sklearn.metrics import accuracy_score\n",
    "from sklearn.metrics import roc_auc_score\n",
    "from sklearn.model_selection import train_test_split\n",
    "from sklearn.metrics import r2_score\n",
    "from sklearn.model_selection import KFold\n",
    "from sklearn.model_selection import cross_validate"
   ]
  },
  {
   "cell_type": "code",
   "execution_count": 20,
   "metadata": {},
   "outputs": [],
   "source": [
    "dropped_percent = credible_authors.groupby('start_year')['dropped_after_10'].sum() / credible_authors.groupby('start_year')['dropped_after_10'].count()\n",
    "dropped_percent = dropped_percent.to_frame().T\n",
    "\n",
    "dropped_percent_agg = credible_authors['dropped_after_10'].sum() / credible_authors['dropped_after_10'].count()"
   ]
  },
  {
   "cell_type": "code",
   "execution_count": 21,
   "metadata": {},
   "outputs": [],
   "source": [
    "credible_authors_stayed = credible_authors[credible_authors['dropped_after_10'] == False].copy()"
   ]
  },
  {
   "cell_type": "code",
   "execution_count": 22,
   "metadata": {},
   "outputs": [],
   "source": [
    "# 4 groups of features: productivity, social capital, quality/rec and gender\n",
    "def make_cols_lists(INCLUDE_PROD, INCLUDE_SOCIAL, INCLUDE_REC, INCLUDE_QUALITY, INCLUDE_GENDER, REMOVE_NONE_AUTHORS, \n",
    "                    INCLUDE_VENUE, INCLUDE_YEAR, EARLY_CAREER, RECOGNITION_CUT, dep_var):\n",
    "    categorical_cols = []\n",
    "    cols_std = []\n",
    "\n",
    "    if INCLUDE_YEAR:\n",
    "        cols_std.append(\"start_year\")\n",
    "    #scale dependant var\n",
    "    if dep_var == \"dropped_after_10\":\n",
    "        categorical_cols.append(dep_var)\n",
    "    else:\n",
    "        cols_std.append(dep_var)\n",
    "\n",
    "    if INCLUDE_PROD:\n",
    "        cols_std.append(f'early_career_prod_{EARLY_CAREER}')\n",
    "        cols_std.append(f'ec_first_auth_{EARLY_CAREER}')\n",
    "\n",
    "    if INCLUDE_SOCIAL:\n",
    "        cols_std.append(f'early_career_degree_{EARLY_CAREER}')\n",
    "        cols_std.append(f'early_career_coauthor_max_hindex_{EARLY_CAREER}')\n",
    "        cols_std.append(f'team_size_median_{EARLY_CAREER}')\n",
    "    #     cols_std.append(f'early_career_coauthor_max_cit_{EARLY_CAREER}')\n",
    "\n",
    "    if INCLUDE_REC:\n",
    "        cols_std.append(f'early_career_recognition_EC{EARLY_CAREER}_RC{RECOGNITION_CUT}')\n",
    "\n",
    "    if INCLUDE_QUALITY:\n",
    "        cols_std.append(f'early_career_qual_{EARLY_CAREER}')\n",
    "        cols_std.append(f'early_career_qual_first_{EARLY_CAREER}')\n",
    "\n",
    "    if INCLUDE_GENDER:\n",
    "        categorical_cols.append('gender')\n",
    "\n",
    "    if INCLUDE_VENUE:\n",
    "        cols_std.extend([f'quantiles_bin_{EARLY_CAREER}']) #'deciles_min_3''quantiles_min_3', 'quantiles_bin_3'\n",
    "    \n",
    "    return cols_std, categorical_cols #cols_all, "
   ]
  },
  {
   "cell_type": "code",
   "execution_count": 23,
   "metadata": {},
   "outputs": [],
   "source": [
    "from sklearn.metrics import make_scorer\n",
    "def adjusted_r2(y_true, y_pred, num_feat):\n",
    "#     print(f\"Num features: {num_feat}\")\n",
    "    r2 = r2_score(y_true, y_pred)\n",
    "    num_sample = len(y_true)\n",
    "    adj = 1 - float(num_sample-1)/(num_sample-num_feat-1)*(1 - r2)\n",
    "    return adj"
   ]
  },
  {
   "cell_type": "code",
   "execution_count": 33,
   "metadata": {
    "code_folding": [
     10,
     34
    ]
   },
   "outputs": [],
   "source": [
    "# TODO we scale data every time we train. Modify to keep data and add remove parameters. Somehow separate the prep from train\n",
    "def scale_columns(X):\n",
    "    if len(X.columns) > 0:\n",
    "        scaler = RobustScaler().fit(X)\n",
    "#         print(scaler.mean_)\n",
    "        standardized_cols = scaler.transform(X)\n",
    "    else: \n",
    "        standardized_cols = []\n",
    "    return pd.DataFrame(standardized_cols, index=X.index, columns=X.columns)\n",
    "\n",
    "def prepare_data(credible_authors, cols_std, categorical_cols, REMOVE_NONE_AUTHORS, aggr=False):\n",
    "    X = credible_authors[credible_authors.start_year.isin(COHORT_START_YEARS)].copy()\n",
    "    \n",
    "    # Either scale OR INCLUDE start_year as control Var\n",
    "    # scale dependent variables per year --> WE SHOULD ALSO SCALE OUTCOME VAR\n",
    "    \n",
    "    if not aggr:\n",
    "        for year in COHORT_START_YEARS:\n",
    "            X.loc[X.start_year == year, cols_std] = scale_columns(X.loc[X.start_year == year, cols_std])\n",
    "    else:\n",
    "#     scale over whole dataset\n",
    "        X[cols_std] = scale_columns(X[cols_std])\n",
    "    \n",
    "    # make dummies of categorical cols\n",
    "    if len(categorical_cols)>0:\n",
    "        cat_cols = pd.get_dummies(X[categorical_cols]) \n",
    "        X = X[cols_std].join(cat_cols)\n",
    "    else:\n",
    "        X = X[cols_std]\n",
    "    if REMOVE_NONE_AUTHORS:\n",
    "        X.drop('gender_none' , axis=1)\n",
    "    X['start_year'] = credible_authors['start_year']\n",
    "    return X\n",
    "\n",
    "def run_elastic_net_aggr(credible_authors, cols_std, categorical_cols, INCLUDE_YEAR, REMOVE_NONE_AUTHORS, dep_var):\n",
    "    X = prepare_data(credible_authors, cols_std, categorical_cols, REMOVE_NONE_AUTHORS, aggr=True)\n",
    "    Y = X[dep_var].copy()\n",
    "    X = X.drop(dep_var, axis=1)\n",
    "#     Y = credible_authors[dep_var]\n",
    "   \n",
    "    if not INCLUDE_YEAR:\n",
    "        X = X.drop('start_year' , axis=1)\n",
    "        \n",
    "    feat_table = run_elastic_net(X, Y)\n",
    "    feat_table = feat_table.set_index(0)\n",
    "    \n",
    "    if dep_var == 'dropped_after_10': \n",
    "        feat_table = feat_table.append(pd.DataFrame(index=['drop_percentage'], data=[dropped_percent_agg], columns=[1]))\n",
    "    return feat_table\n",
    "\n",
    "def run_elastic_net_cohort(credible_authors, cols_std, categorical_cols, REMOVE_NONE_AUTHORS, dep_var):\n",
    "    table_list = []\n",
    "    X = prepare_data(credible_authors, cols_std, categorical_cols, REMOVE_NONE_AUTHORS)\n",
    "    # TODO This means we are scaling data over whole dataset even for cohort analysis!\n",
    "    for year in COHORT_START_YEARS:\n",
    "        X_year = X[X.start_year == year]\n",
    "#         y_year = credible_authors[credible_authors.start_year == year][dep_var]\n",
    "        y_year = X_year[dep_var].copy()\n",
    "        X_year = X_year.drop(dep_var, axis=1)\n",
    "#         print(year, end=' ')\n",
    "        feat_data = run_elastic_net(X_year.drop('start_year', axis=1), y_year)\n",
    "        feat_data = feat_data.set_index(0)\n",
    "        feat_data.rename(index=str, columns={1: year}, inplace=True)\n",
    "        table_list.append(feat_data)\n",
    "       \n",
    "    table = pd.DataFrame(index=table_list[0].index)\n",
    "    for x in table_list: table=table.join(x)\n",
    "    if dep_var == 'dropped_after_10': table = table.append(dropped_percent)\n",
    "    return table\n",
    "\n",
    "def run_elastic_net(X, y):\n",
    "    # train model and do cross validation\n",
    "\n",
    "    # add dummy var if no features are given\n",
    "    # TODO is this still used?\n",
    "    if X.empty:\n",
    "        X = pd.DataFrame(1, index=np.arange(len(y)), columns=[\"dummy\"])\n",
    "    \n",
    "    kf = KFold(10, True)\n",
    "    \n",
    "    if y.nunique()==2:   \n",
    "        y = y.astype(int)\n",
    "        #f1, average_precision, roc_auc\n",
    "        cv_dict = cross_validate(LogisticRegressionCV(cv=10, penalty='l2', max_iter=200), X, y, \n",
    "                                 scoring=[\"f1_micro\",\"f1_macro\",\"f1_weighted\",\"average_precision\"], cv=kf, return_estimator=True, return_train_score=False)\n",
    "        net_coef = pd.DataFrame([es.coef_[0] for es in cv_dict['estimator']], columns=X.columns)\n",
    "        score = np.mean(cv_dict['test_f1_micro'])\n",
    "        score2 = np.mean(cv_dict['test_f1_macro'])\n",
    "        score3 = np.mean(cv_dict['test_f1_weighted'])\n",
    "        score4 = np.mean(cv_dict['test_average_precision'])\n",
    "    else:\n",
    "        adj_r2_scorer = make_scorer(adjusted_r2, num_feat=X.shape[1])\n",
    "        \n",
    "        cv_dict = cross_validate(ElasticNetCV(cv=10), X, y, scoring={\n",
    "            'r2':make_scorer(r2_score), 'neg_mean_squared_error': make_scorer(mean_squared_error), 'adj_r2': adj_r2_scorer},\n",
    "                                 cv=kf, return_estimator=True, return_train_score=False)\n",
    "\n",
    "        net_coef = pd.DataFrame([es.coef_ for es in cv_dict['estimator']], columns=X.columns)\n",
    "        score = np.mean(cv_dict['test_r2'])\n",
    "        score2 = abs(np.mean(cv_dict['test_neg_mean_squared_error']))\n",
    "        score3 = np.mean(cv_dict['test_adj_r2'])\n",
    "\n",
    "    # save the intercepts\n",
    "    net_intercept = np.mean([es.intercept_ for es in cv_dict['estimator']])\n",
    "    # take the mean and std from coefs\n",
    "    net_coef_mean = net_coef.mean()\n",
    "    net_coef_std = net_coef.std()\n",
    "    rounding = 2\n",
    "    net_coef_mean_std = list(zip(np.round(net_coef_mean.values,rounding), np.round(net_coef_std.values,rounding)))\n",
    "    net_coef_mean_std = [f\"{x[0]}({x[1]})\" for x in net_coef_mean_std]\n",
    "\n",
    "    cohort_size = len(y)\n",
    "    if y.nunique()!=2:\n",
    "        net_coef_mean_std.extend([np.round(net_intercept, rounding), np.round(score, rounding), np.round(score3, rounding), np.round(score2, rounding), cohort_size])\n",
    "        feat_table = pd.DataFrame(list(zip(np.append(X.columns, ['intercept', 'r2', 'adj_r2', 'neg_mean_squared_error', 'cohort_size']), net_coef_mean_std)))\n",
    "    else:\n",
    "        net_coef_mean_std.extend([np.round(net_intercept, rounding), np.round(score, rounding), np.round(score2, rounding), np.round(score3, rounding), np.round(score4, rounding), cohort_size])\n",
    "        feat_table = pd.DataFrame(list(zip(np.append(X.columns, ['intercept', 'f1_micro','f1_macro','f1_weighted', 'avg_precision', 'cohort_size']), net_coef_mean_std)))\n",
    "    return feat_table"
   ]
  },
  {
   "cell_type": "code",
   "execution_count": 34,
   "metadata": {
    "code_folding": []
   },
   "outputs": [],
   "source": [
    "# Stuff that we potentially use as outcome Vars\n",
    "# dv_hindex = 'h-index_15'\n",
    "# dv_citations = 'succ_after_15y'\n",
    "\n",
    "dv_hindex_incr = f'h_index_increase_15_{EARLY_CAREER}'\n",
    "dv_citations_incr = f'citation_increase_15_{EARLY_CAREER}'\n",
    "dv_dropped = 'dropped_after_10'\n",
    "\n",
    "DV = dv_hindex_incr\n",
    "\n",
    "# check if outcome vars are plausible\n",
    "# #print(credible_authors.columns)\n",
    "# credible_authors[[\"start_year\", \"succ_after_15y\"]].groupby(\"start_year\").mean().plot()\n",
    "# credible_authors[[\"start_year\", \"h_index_increase_15_3\"]].groupby(\"start_year\").mean().plot()\n",
    "# credible_authors[[\"start_year\", \"citation_increase_15_3\"]].groupby(\"start_year\").mean().plot()\n",
    "# credible_authors[[\"start_year\", \"avg_absence-0-15\"]].groupby(\"start_year\").mean().plot()\n",
    "# credible_authors[[\"start_year\", \"dropped_after_10\"]].groupby(\"start_year\").mean().plot()\n",
    "# credible_authors[[\"start_year\", \"total_num_pub\"]].groupby(\"start_year\").mean().plot()\n",
    "# credible_authors[[\"start_year\", \"career_length\"]].groupby(\"start_year\").mean().plot()"
   ]
  },
  {
   "cell_type": "markdown",
   "metadata": {},
   "source": [
    "## Cohort Elastic Net Models\n",
    "We compare the predictive performance across cohorts. We should plot R2 and F1 over cohorts.\n",
    "Is predictive performance stable?"
   ]
  },
  {
   "cell_type": "code",
   "execution_count": 35,
   "metadata": {
    "code_folding": []
   },
   "outputs": [],
   "source": [
    "def make_result_table(feature_table):\n",
    "    results = feature_table.transpose()\n",
    "    #shorten column names\n",
    "    new_cols = dict(zip(results.columns, [col.replace('early_career', 'ec') for col in results.columns]))\n",
    "\n",
    "    results.rename(new_cols, axis='columns', inplace=True)\n",
    "    results.rename({'feature':'cohort','ec_coauthor_max_cit_3': 'ec_coauth_max_cit_3', 'ec_recognition_EC3_RC5':'ec_recog_EC3_RC5'}, axis='columns', inplace=True)\n",
    "    return results\n",
    "def results_to_latex(results, name):\n",
    "    ltx_file = open(f\"results_{name}.tex\", \"w\")\n",
    "    ltx_file.write('\\n'.join(results.to_latex().split('\\n')[5:-7]))\n",
    "    ltx_file.write('\\hline \\n')\n",
    "    ltx_file.write('\\n'.join(results.to_latex().split('\\n')[-7:-3]))\n",
    "    ltx_file.close()"
   ]
  },
  {
   "cell_type": "code",
   "execution_count": 60,
   "metadata": {
    "code_folding": [
     0,
     10,
     20,
     30,
     40,
     50,
     116
    ]
   },
   "outputs": [],
   "source": [
    "def get_baseline_vars():\n",
    "    INCLUDE_PROD = 0\n",
    "    INCLUDE_SOCIAL = 0\n",
    "    INCLUDE_REC = 0\n",
    "    INCLUDE_QUALITY = 0\n",
    "    INCLUDE_GENDER = 0\n",
    "    REMOVE_NONE_AUTHORS = 0\n",
    "    INCLUDE_VENUE = 0\n",
    "    INCLUDE_YEAR = 1\n",
    "    return INCLUDE_PROD, INCLUDE_SOCIAL, INCLUDE_REC, INCLUDE_QUALITY, INCLUDE_GENDER, REMOVE_NONE_AUTHORS,INCLUDE_VENUE,INCLUDE_YEAR\n",
    "def get_human_cap_vars():\n",
    "    INCLUDE_PROD = 1\n",
    "    INCLUDE_SOCIAL = 0\n",
    "    INCLUDE_REC = 1\n",
    "    INCLUDE_QUALITY = 0\n",
    "    INCLUDE_GENDER = 0\n",
    "    REMOVE_NONE_AUTHORS = 0\n",
    "    INCLUDE_VENUE = 0\n",
    "    INCLUDE_YEAR = 1\n",
    "    return INCLUDE_PROD, INCLUDE_SOCIAL, INCLUDE_REC, INCLUDE_QUALITY, INCLUDE_GENDER, REMOVE_NONE_AUTHORS,INCLUDE_VENUE,INCLUDE_YEAR\n",
    "def get_gender_vars():\n",
    "    INCLUDE_PROD = 1\n",
    "    INCLUDE_SOCIAL = 0\n",
    "    INCLUDE_REC = 1\n",
    "    INCLUDE_GENDER = 1\n",
    "    INCLUDE_QUALITY = 0\n",
    "    REMOVE_NONE_AUTHORS = 0\n",
    "    INCLUDE_VENUE = 0\n",
    "    INCLUDE_YEAR = 1\n",
    "    return INCLUDE_PROD, INCLUDE_SOCIAL, INCLUDE_REC, INCLUDE_QUALITY, INCLUDE_GENDER, REMOVE_NONE_AUTHORS,INCLUDE_VENUE,INCLUDE_YEAR\n",
    "def get_social_vars():\n",
    "    INCLUDE_PROD = 1\n",
    "    INCLUDE_SOCIAL = 1\n",
    "    INCLUDE_REC = 1\n",
    "    INCLUDE_GENDER = 1\n",
    "    INCLUDE_QUALITY = 0\n",
    "    REMOVE_NONE_AUTHORS = 0\n",
    "    INCLUDE_VENUE = 0\n",
    "    INCLUDE_YEAR = 1\n",
    "    return INCLUDE_PROD, INCLUDE_SOCIAL, INCLUDE_REC, INCLUDE_QUALITY, INCLUDE_GENDER, REMOVE_NONE_AUTHORS,INCLUDE_VENUE,INCLUDE_YEAR\n",
    "def get_symbolic_vars():\n",
    "    INCLUDE_PROD = 1\n",
    "    INCLUDE_SOCIAL = 1\n",
    "    INCLUDE_REC = 1\n",
    "    INCLUDE_GENDER = 1\n",
    "    INCLUDE_QUALITY = 0\n",
    "    REMOVE_NONE_AUTHORS = 0\n",
    "    INCLUDE_VENUE = 1\n",
    "    INCLUDE_YEAR = 1\n",
    "    return INCLUDE_PROD, INCLUDE_SOCIAL, INCLUDE_REC, INCLUDE_QUALITY, INCLUDE_GENDER, REMOVE_NONE_AUTHORS,INCLUDE_VENUE,INCLUDE_YEAR\n",
    "def get_full_vars():\n",
    "    INCLUDE_PROD = 1\n",
    "    INCLUDE_SOCIAL = 1\n",
    "    INCLUDE_REC = 1\n",
    "    INCLUDE_GENDER = 1\n",
    "    INCLUDE_QUALITY = 1\n",
    "    REMOVE_NONE_AUTHORS = 0\n",
    "    INCLUDE_VENUE = 1\n",
    "    INCLUDE_YEAR = 1\n",
    "    return INCLUDE_PROD, INCLUDE_SOCIAL, INCLUDE_REC, INCLUDE_QUALITY, INCLUDE_GENDER, REMOVE_NONE_AUTHORS,INCLUDE_VENUE,INCLUDE_YEAR\n",
    "\n",
    "# Run the elastic net across cohorts\n",
    "def elastic_cohort(credible_authors, params_func, EARLY_CAREER, RECOGNITION_CUT, DV):\n",
    "    params = params_func()\n",
    "    cols_std, categorical_cols = make_cols_lists(*params, EARLY_CAREER, RECOGNITION_CUT, DV)\n",
    "#     print(cols_std)\n",
    "    REMOVE_NONE_AUTHORS = params[-3]\n",
    "    res = run_elastic_net_cohort(credible_authors, cols_std, categorical_cols, REMOVE_NONE_AUTHORS, DV)\n",
    "    res = make_result_table(res)\n",
    "    return res\n",
    "def elastic_agg(credible_authors, params_func, EARLY_CAREER, RECOGNITION_CUT, DV):\n",
    "    params = params_func()\n",
    "    cols_std, categorical_cols = make_cols_lists(*params, EARLY_CAREER, RECOGNITION_CUT, DV)\n",
    "    INCLUDE_YEAR = params[-1]\n",
    "    REMOVE_NONE_AUTHORS = params[-3]\n",
    "    res_agg = run_elastic_net_aggr(credible_authors, cols_std, categorical_cols, INCLUDE_YEAR, REMOVE_NONE_AUTHORS, DV)\n",
    "    return res_agg\n",
    "# Run the elastic net across grouped data, for all variations\n",
    "def elastic_agg_all(credible_authors, EARLY_CAREER, RECOGNITION_CUT, DV):\n",
    "    params_func_list = [get_baseline_vars, get_human_cap_vars, get_gender_vars, get_social_vars, get_symbolic_vars, get_full_vars]\n",
    "    res_agg_list = [elastic_agg(credible_authors, params_func, EARLY_CAREER, RECOGNITION_CUT, DV) for params_func in params_func_list]\n",
    "    res_all_agg = pd.DataFrame(index=res_agg_list[-1].index, data=[])\n",
    "    res_all_agg['baseline'] = res_agg_list[0]\n",
    "    res_all_agg['human'] = res_agg_list[1]\n",
    "    res_all_agg['gender'] = res_agg_list[2]\n",
    "    res_all_agg['social'] = res_agg_list[3]\n",
    "    res_all_agg['symbolic'] = res_agg_list[4]\n",
    "    res_all_agg['full_model'] = res_agg_list[5]\n",
    "    if DV == 'dropped_after_10':\n",
    "        reorderlist = ['start_year', 'early_career_prod_3', 'ec_first_auth_3', 'early_career_recognition_EC3_RC3',\n",
    "                   'gender_f', 'gender_m', 'gender_none', \n",
    "                   'early_career_degree_3', 'early_career_coauthor_max_hindex_3', 'team_size_median_3',\n",
    "                   'quantiles_bin_3', 'early_career_qual_3', 'early_career_qual_first_3',\n",
    "                   'cohort_size', 'drop_percentage','avg_precision', 'f1_micro','f1_macro','f1_weighted']\n",
    "        res_all_agg = res_all_agg.reindex(reorderlist)\n",
    "        res_all_agg = res_all_agg.fillna('')\n",
    "        res_all_agg['names'] = ['Start year', 'Productivity', 'Productivity (1st)', 'Recognition',\n",
    "                       'Male', 'Female', 'Undetected',  \n",
    "                       'Social support', 'Senior support', 'Median team size',\n",
    "                       'Top venue', 'Ability', 'Ability (1st)',\n",
    "                       'Cohort size', '% dropouts','Average precision', 'F1 micro','F1 macro','F1 weighted']\n",
    "    else:\n",
    "        reorderlist = ['start_year', 'early_career_prod_3', 'ec_first_auth_3', 'early_career_recognition_EC3_RC3',\n",
    "                   'gender_f', 'gender_m', 'gender_none', \n",
    "                   'early_career_degree_3', 'early_career_coauthor_max_hindex_3', 'team_size_median_3',\n",
    "                   'quantiles_bin_3', 'early_career_qual_3',  'early_career_qual_first_3',\n",
    "                   'cohort_size', 'neg_mean_squared_error', 'intercept','r2', 'adjr2']\n",
    "        res_all_agg = res_all_agg.reindex(reorderlist)\n",
    "        res_all_agg = res_all_agg.fillna('')\n",
    "        res_all_agg['names'] = ['Start year', 'Productivity', 'Productivity (1st)', 'Recognition', \n",
    "                       'Male', 'Female', 'Undetected', \n",
    "                       'Social support', 'Senior support', 'Median team size',\n",
    "                       'Top venue', 'Ability', 'Ability (1st)',\n",
    "                       'Cohort size', 'MSE', 'intercept','R2', 'Adjusted R2']\n",
    "    res_all_agg = res_all_agg.set_index('names')\n",
    "    return res_all_agg\n",
    "def get_report_from_table(result_table):\n",
    "    report = []\n",
    "    for col in result_table.columns[:-4]:\n",
    "        float_vals = result_table[col].apply(lambda x: float(x.split('(')[0]))\n",
    "        num_positive = float_vals.gt(0).sum()\n",
    "        num_neg = float_vals.lt(0).sum()\n",
    "        report.append({\n",
    "            \"feature\": col, \n",
    "            'num_positive': num_positive, \n",
    "            'num_negative': num_neg,\n",
    "            'mean': float_vals.mean()})\n",
    "    return pd.DataFrame(report).set_index('feature')"
   ]
  },
  {
   "cell_type": "markdown",
   "metadata": {
    "heading_collapsed": true
   },
   "source": [
    "### Baseline Model"
   ]
  },
  {
   "cell_type": "code",
   "execution_count": null,
   "metadata": {
    "hidden": true
   },
   "outputs": [],
   "source": [
    "res_cohort_base_hind = elastic_cohort(credible_authors, get_baseline_vars, EARLY_CAREER, RECOGNITION_CUT,\n",
    "                                      dv_hindex_incr)\n",
    "# res_cohort_base_cita = elastic_cohort(credible_authors, get_baseline_vars, EARLY_CAREER, RECOGNITION_CUT,\n",
    "#                                       dv_citations_incr)\n",
    "# res_cohort_base_drop = elastic_cohort(get_baseline_vars, EARLY_CAREER, RECOGNITION_CUT, dv_dropped)"
   ]
  },
  {
   "cell_type": "code",
   "execution_count": null,
   "metadata": {
    "hidden": true
   },
   "outputs": [],
   "source": [
    "res_cohort_base_hind"
   ]
  },
  {
   "cell_type": "markdown",
   "metadata": {
    "heading_collapsed": true
   },
   "source": [
    "### Human Capital Model"
   ]
  },
  {
   "cell_type": "code",
   "execution_count": null,
   "metadata": {
    "hidden": true,
    "scrolled": false
   },
   "outputs": [],
   "source": [
    "res_cohort_humcap_hind = elastic_cohort(credible_authors, get_human_cap_vars, EARLY_CAREER, RECOGNITION_CUT,\n",
    "                                        dv_hindex_incr)\n",
    "# res_cohort_humcap_cita = elastic_cohort(credible_authors, get_human_cap_vars, EARLY_CAREER, RECOGNITION_CUT,\n",
    "#                                         dv_citations_incr)\n",
    "# res_cohort_humcap_drop = elastic_cohort(get_human_cap_vars, EARLY_CAREER, RECOGNITION_CUT, dv_dropped)"
   ]
  },
  {
   "cell_type": "code",
   "execution_count": null,
   "metadata": {
    "hidden": true
   },
   "outputs": [],
   "source": [
    "#no scale\n",
    "res_cohort_humcap_hind"
   ]
  },
  {
   "cell_type": "code",
   "execution_count": null,
   "metadata": {
    "hidden": true
   },
   "outputs": [],
   "source": [
    "#robust\n",
    "res_cohort_humcap_hind"
   ]
  },
  {
   "cell_type": "code",
   "execution_count": null,
   "metadata": {
    "hidden": true
   },
   "outputs": [],
   "source": [
    "#no scale\n",
    "# res_cohort_humcap_hind.apply(lambda x: float(x['ec_prod_3'].split('(')[0])+float(x['ec_prod_4'].split('(')[0]), axis=1)"
   ]
  },
  {
   "cell_type": "code",
   "execution_count": null,
   "metadata": {
    "hidden": true
   },
   "outputs": [],
   "source": [
    "#robust\n",
    "res_cohort_humcap_hind.apply(lambda x: float(x['ec_prod_3'].split('(')[0])+float(x['ec_prod_4'].split('(')[0]), axis=1)"
   ]
  },
  {
   "cell_type": "code",
   "execution_count": null,
   "metadata": {
    "hidden": true
   },
   "outputs": [],
   "source": [
    "r2_old_col = res_cohort_humcap_hind.r2.copy()"
   ]
  },
  {
   "cell_type": "markdown",
   "metadata": {
    "heading_collapsed": true
   },
   "source": [
    "### Gender Model"
   ]
  },
  {
   "cell_type": "code",
   "execution_count": null,
   "metadata": {
    "hidden": true
   },
   "outputs": [],
   "source": [
    "res_cohort_gender_hind = elastic_cohort(credible_authors, get_gender_vars, EARLY_CAREER, RECOGNITION_CUT,\n",
    "                                        dv_hindex_incr)\n",
    "res_cohort_gender_cita = elastic_cohort(credible_authors, get_gender_vars, EARLY_CAREER, RECOGNITION_CUT,\n",
    "                                        dv_citations_incr)\n",
    "# res_cohort_gender_drop = elastic_cohort(get_gender_vars, EARLY_CAREER, RECOGNITION_CUT, dv_dropped)"
   ]
  },
  {
   "cell_type": "code",
   "execution_count": null,
   "metadata": {
    "hidden": true
   },
   "outputs": [],
   "source": [
    "res_cohort_gender_hind"
   ]
  },
  {
   "cell_type": "markdown",
   "metadata": {
    "heading_collapsed": true
   },
   "source": [
    "### Social Capital Model"
   ]
  },
  {
   "cell_type": "code",
   "execution_count": null,
   "metadata": {
    "hidden": true
   },
   "outputs": [],
   "source": [
    "res_cohort_soccap_hind = elastic_cohort(credible_authors, get_social_vars, EARLY_CAREER, RECOGNITION_CUT,\n",
    "                                        dv_hindex_incr)\n",
    "res_cohort_soccap_cita = elastic_cohort(credible_authors, get_social_vars, EARLY_CAREER, RECOGNITION_CUT,\n",
    "                                        dv_citations_incr)\n",
    "# res_cohort_soccap_drop = elastic_cohort(get_social_vars, EARLY_CAREER, RECOGNITION_CUT, dv_dropped)"
   ]
  },
  {
   "cell_type": "code",
   "execution_count": null,
   "metadata": {
    "hidden": true
   },
   "outputs": [],
   "source": [
    "res_cohort_soccap_hind"
   ]
  },
  {
   "cell_type": "markdown",
   "metadata": {
    "heading_collapsed": true
   },
   "source": [
    "### Symbolic Capital"
   ]
  },
  {
   "cell_type": "code",
   "execution_count": null,
   "metadata": {
    "hidden": true
   },
   "outputs": [],
   "source": [
    "res_cohort_symcap_hind = elastic_cohort(credible_authors, get_symbolic_vars, EARLY_CAREER, RECOGNITION_CUT,\n",
    "                                        dv_hindex_incr)\n",
    "res_cohort_symcap_cita = elastic_cohort(credible_authors, get_symbolic_vars, EARLY_CAREER, RECOGNITION_CUT,\n",
    "                                        dv_citations_incr)\n",
    "# res_cohort_symcap_drop = elastic_cohort(get_symbolic_vars, EARLY_CAREER, RECOGNITION_CUT, dv_dropped)"
   ]
  },
  {
   "cell_type": "code",
   "execution_count": null,
   "metadata": {
    "hidden": true
   },
   "outputs": [],
   "source": [
    "res_cohort_symcap_hind"
   ]
  },
  {
   "cell_type": "markdown",
   "metadata": {
    "heading_collapsed": true
   },
   "source": [
    "### Full Model (Extended Human Capital)"
   ]
  },
  {
   "cell_type": "code",
   "execution_count": null,
   "metadata": {
    "hidden": true,
    "lines_to_next_cell": 2
   },
   "outputs": [],
   "source": [
    "res_cohort_full_hind = elastic_cohort(credible_authors, get_full_vars, EARLY_CAREER, RECOGNITION_CUT, dv_hindex_incr)"
   ]
  },
  {
   "cell_type": "code",
   "execution_count": null,
   "metadata": {
    "hidden": true
   },
   "outputs": [],
   "source": [
    "res_cohort_full_cita = elastic_cohort(credible_authors, get_full_vars, EARLY_CAREER, RECOGNITION_CUT, dv_citations_incr)"
   ]
  },
  {
   "cell_type": "code",
   "execution_count": null,
   "metadata": {
    "hidden": true
   },
   "outputs": [],
   "source": [
    "res_cohort_full_drop = elastic_cohort(credible_authors, get_full_vars, EARLY_CAREER, RECOGNITION_CUT, dv_dropped)\n",
    "res_cohort_full_drop"
   ]
  },
  {
   "cell_type": "code",
   "execution_count": null,
   "metadata": {
    "hidden": true
   },
   "outputs": [],
   "source": [
    "get_report_from_table(res_cohort_full_drop)"
   ]
  },
  {
   "cell_type": "code",
   "execution_count": null,
   "metadata": {
    "hidden": true
   },
   "outputs": [],
   "source": [
    "get_report_from_table(res_cohort_full_hind)"
   ]
  },
  {
   "cell_type": "code",
   "execution_count": null,
   "metadata": {
    "hidden": true
   },
   "outputs": [],
   "source": [
    "res_cohort_full_hind['r2']"
   ]
  },
  {
   "cell_type": "code",
   "execution_count": null,
   "metadata": {
    "hidden": true
   },
   "outputs": [],
   "source": [
    "res_cohort_full_hind = elastic_cohort(credible_authors, get_full_vars, EARLY_CAREER, RECOGNITION_CUT, 'h_index_increase_10_3')"
   ]
  },
  {
   "cell_type": "code",
   "execution_count": null,
   "metadata": {
    "hidden": true
   },
   "outputs": [],
   "source": [
    "res_cohort_full_hind"
   ]
  },
  {
   "cell_type": "markdown",
   "metadata": {
    "hidden": true
   },
   "source": [
    "#### Stayed"
   ]
  },
  {
   "cell_type": "code",
   "execution_count": null,
   "metadata": {
    "hidden": true
   },
   "outputs": [],
   "source": [
    "#stayed\n",
    "res_cohort_full_hind_stay = elastic_cohort(credible_authors_stayed, get_full_vars,\n",
    "                                           EARLY_CAREER, RECOGNITION_CUT, dv_hindex_incr)\n",
    "res_cohort_full_hind_stay"
   ]
  },
  {
   "cell_type": "code",
   "execution_count": null,
   "metadata": {
    "hidden": true
   },
   "outputs": [],
   "source": [
    "res_cohort_full_cita_stay = elastic_cohort(credible_authors_stayed, get_full_vars, EARLY_CAREER, RECOGNITION_CUT, \n",
    "                                           dv_citations_incr)\n",
    "res_cohort_full_cita_stay"
   ]
  },
  {
   "cell_type": "markdown",
   "metadata": {
    "hidden": true
   },
   "source": [
    "#### Plot prediction success over cohorts"
   ]
  },
  {
   "cell_type": "code",
   "execution_count": null,
   "metadata": {
    "hidden": true
   },
   "outputs": [],
   "source": [
    "sns.set_palette('deep')"
   ]
  },
  {
   "cell_type": "code",
   "execution_count": null,
   "metadata": {
    "hidden": true
   },
   "outputs": [],
   "source": [
    "def plot_metric_over_cohorts(data, criteria, criteria_name, title, letter, filename, legend=False):\n",
    "    linewidth = 2\n",
    "    fontsize = 18\n",
    "    fig = plt.figure(figsize=(4, 4))\n",
    "    ax = fig.add_subplot(111)\n",
    "    labels = ['h_index']\n",
    "    i=0\n",
    "    ax.plot(data.index, data[criteria], linewidth=linewidth, label=labels[i], color=sns.color_palette()[0])\n",
    "    ax.xaxis.set_ticks_position('both')\n",
    "    ax.yaxis.set_ticks_position('both')\n",
    "    if 'r2' in criteria:\n",
    "        ax.set_ylim([0.18, 0.65])\n",
    "    if 'precision' in criteria:\n",
    "        ax.set_ylim([0.7, 1.05])\n",
    "    ax.set_xlabel('Cohort year', fontsize=fontsize)\n",
    "    ax.set_ylabel(f'{criteria_name}', fontsize=fontsize)\n",
    "    ax.set_title(title, fontsize=fontsize)\n",
    "    ax.tick_params(axis=\"x\", which='major', direction=\"in\", width=linewidth, size=4*linewidth, labelsize=fontsize, pad=7)\n",
    "    ax.tick_params(axis=\"x\", which='minor', direction=\"in\", width=linewidth, size=2*linewidth, labelsize=fontsize, pad=7)\n",
    "    ax.tick_params(axis=\"y\", which='major', direction=\"in\", width=linewidth, size=4*linewidth, labelsize=fontsize)\n",
    "    ax.tick_params(axis=\"y\", which='minor', direction=\"in\", width=linewidth, size=2*linewidth, labelsize=fontsize)\n",
    "    ax.spines['left'].set_linewidth(linewidth)\n",
    "    ax.spines['right'].set_linewidth(linewidth)\n",
    "    ax.spines['bottom'].set_linewidth(linewidth)\n",
    "    ax.spines['top'].set_linewidth(linewidth)\n",
    "    if legend: ax.legend(fontsize=fontsize/2)\n",
    "    plt.gcf().text(0., 0.9, letter, fontsize=fontsize*2)\n",
    "    plt.subplots_adjust(left=0.25, right=0.95, bottom=0.2, top=0.9)\n",
    "    fig.savefig(f'./fig/{filename}.pdf')"
   ]
  },
  {
   "cell_type": "code",
   "execution_count": null,
   "metadata": {
    "hidden": true
   },
   "outputs": [],
   "source": [
    "plot_metric_over_cohorts(res_cohort_full_hind, 'r2', 'R squared', 'H index increase - full', 'A', 'pred_r2_hind_full')\n",
    "# plot_metric_over_cohorts(res_cohort_sym_hind, 'r2', 'R squared', 'H index increase prediction - symbolic', 'A')\n",
    "plot_metric_over_cohorts(res_cohort_full_cita, 'r2', 'R squared', 'Citation increase - full', 'B', 'pred_r2_cita_full')\n",
    "# plot_metric_over_cohorts(res_cohort_full_drop, 'avg_precision', 'Average precision', 'Dropout prediction - full', 'C', 'pred_avgp_drop_full')"
   ]
  },
  {
   "cell_type": "markdown",
   "metadata": {},
   "source": [
    "## Aggregated Elastic Net Models\n",
    "We test the effect of different groups of features (human capital, social capital and gender) on success/dropout"
   ]
  },
  {
   "cell_type": "code",
   "execution_count": 65,
   "metadata": {},
   "outputs": [],
   "source": [
    "RECOGNITION_CUT = 3\n",
    "EARLY_CAREER = 3"
   ]
  },
  {
   "cell_type": "code",
   "execution_count": 101,
   "metadata": {},
   "outputs": [
    {
     "data": {
      "text/html": [
       "<div>\n",
       "<style scoped>\n",
       "    .dataframe tbody tr th:only-of-type {\n",
       "        vertical-align: middle;\n",
       "    }\n",
       "\n",
       "    .dataframe tbody tr th {\n",
       "        vertical-align: top;\n",
       "    }\n",
       "\n",
       "    .dataframe thead th {\n",
       "        text-align: right;\n",
       "    }\n",
       "</style>\n",
       "<table border=\"1\" class=\"dataframe\">\n",
       "  <thead>\n",
       "    <tr style=\"text-align: right;\">\n",
       "      <th></th>\n",
       "      <th>baseline</th>\n",
       "      <th>human</th>\n",
       "      <th>gender</th>\n",
       "      <th>social</th>\n",
       "      <th>symbolic</th>\n",
       "      <th>full_model</th>\n",
       "    </tr>\n",
       "    <tr>\n",
       "      <th>names</th>\n",
       "      <th></th>\n",
       "      <th></th>\n",
       "      <th></th>\n",
       "      <th></th>\n",
       "      <th></th>\n",
       "      <th></th>\n",
       "    </tr>\n",
       "  </thead>\n",
       "  <tbody>\n",
       "    <tr>\n",
       "      <th>start year</th>\n",
       "      <td>0.0(0.0)</td>\n",
       "      <td>0.0(0.0)</td>\n",
       "      <td>0.0(0.0)</td>\n",
       "      <td>-0.0(0.0)</td>\n",
       "      <td>-0.0(0.0)</td>\n",
       "      <td>-0.0(0.0)</td>\n",
       "    </tr>\n",
       "    <tr>\n",
       "      <th>productivity</th>\n",
       "      <td></td>\n",
       "      <td>0.13(0.0)</td>\n",
       "      <td>0.13(0.0)</td>\n",
       "      <td>0.11(0.0)</td>\n",
       "      <td>0.1(0.0)</td>\n",
       "      <td>0.1(0.0)</td>\n",
       "    </tr>\n",
       "    <tr>\n",
       "      <th>recognition</th>\n",
       "      <td></td>\n",
       "      <td>-0.0(0.0)</td>\n",
       "      <td>-0.0(0.0)</td>\n",
       "      <td>-0.01(0.0)</td>\n",
       "      <td>-0.02(0.0)</td>\n",
       "      <td>-0.06(0.0)</td>\n",
       "    </tr>\n",
       "    <tr>\n",
       "      <th>prod first author</th>\n",
       "      <td></td>\n",
       "      <td>0.01(0.0)</td>\n",
       "      <td>0.01(0.0)</td>\n",
       "      <td>0.01(0.0)</td>\n",
       "      <td>0.01(0.0)</td>\n",
       "      <td>0.01(0.0)</td>\n",
       "    </tr>\n",
       "    <tr>\n",
       "      <th>male</th>\n",
       "      <td></td>\n",
       "      <td></td>\n",
       "      <td>0.0(0.0)</td>\n",
       "      <td>-0.0(0.0)</td>\n",
       "      <td>0.0(0.0)</td>\n",
       "      <td>0.0(0.0)</td>\n",
       "    </tr>\n",
       "    <tr>\n",
       "      <th>female</th>\n",
       "      <td></td>\n",
       "      <td></td>\n",
       "      <td>0.0(0.0)</td>\n",
       "      <td>0.0(0.0)</td>\n",
       "      <td>0.0(0.0)</td>\n",
       "      <td>0.0(0.0)</td>\n",
       "    </tr>\n",
       "    <tr>\n",
       "      <th>none</th>\n",
       "      <td></td>\n",
       "      <td></td>\n",
       "      <td>0.0(0.0)</td>\n",
       "      <td>0.0(0.0)</td>\n",
       "      <td>-0.0(0.0)</td>\n",
       "      <td>-0.0(0.0)</td>\n",
       "    </tr>\n",
       "    <tr>\n",
       "      <th>degree</th>\n",
       "      <td></td>\n",
       "      <td></td>\n",
       "      <td></td>\n",
       "      <td>0.02(0.0)</td>\n",
       "      <td>0.02(0.0)</td>\n",
       "      <td>0.01(0.0)</td>\n",
       "    </tr>\n",
       "    <tr>\n",
       "      <th>coauthor hindex</th>\n",
       "      <td></td>\n",
       "      <td></td>\n",
       "      <td></td>\n",
       "      <td>0.08(0.0)</td>\n",
       "      <td>0.08(0.0)</td>\n",
       "      <td>0.07(0.0)</td>\n",
       "    </tr>\n",
       "    <tr>\n",
       "      <th>median team size</th>\n",
       "      <td></td>\n",
       "      <td></td>\n",
       "      <td></td>\n",
       "      <td>-0.03(0.0)</td>\n",
       "      <td>-0.02(0.0)</td>\n",
       "      <td>-0.02(0.0)</td>\n",
       "    </tr>\n",
       "    <tr>\n",
       "      <th>top-venue</th>\n",
       "      <td></td>\n",
       "      <td></td>\n",
       "      <td></td>\n",
       "      <td></td>\n",
       "      <td>0.16(0.0)</td>\n",
       "      <td>0.15(0.0)</td>\n",
       "    </tr>\n",
       "    <tr>\n",
       "      <th>quality</th>\n",
       "      <td></td>\n",
       "      <td></td>\n",
       "      <td></td>\n",
       "      <td></td>\n",
       "      <td></td>\n",
       "      <td>0.02(0.0)</td>\n",
       "    </tr>\n",
       "    <tr>\n",
       "      <th>quality first author</th>\n",
       "      <td></td>\n",
       "      <td></td>\n",
       "      <td></td>\n",
       "      <td></td>\n",
       "      <td></td>\n",
       "      <td>-0.0(0.0)</td>\n",
       "    </tr>\n",
       "    <tr>\n",
       "      <th>cohort size</th>\n",
       "      <td>292443</td>\n",
       "      <td>292443</td>\n",
       "      <td>292443</td>\n",
       "      <td>292443</td>\n",
       "      <td>292443</td>\n",
       "      <td>292443</td>\n",
       "    </tr>\n",
       "    <tr>\n",
       "      <th>MSE</th>\n",
       "      <td>0.27</td>\n",
       "      <td>0.23</td>\n",
       "      <td>0.23</td>\n",
       "      <td>0.23</td>\n",
       "      <td>0.22</td>\n",
       "      <td>0.21</td>\n",
       "    </tr>\n",
       "    <tr>\n",
       "      <th>intercept</th>\n",
       "      <td>-5.9</td>\n",
       "      <td>-1.42</td>\n",
       "      <td>-1.39</td>\n",
       "      <td>2.64</td>\n",
       "      <td>3.44</td>\n",
       "      <td>4.87</td>\n",
       "    </tr>\n",
       "    <tr>\n",
       "      <th>R2</th>\n",
       "      <td>0</td>\n",
       "      <td>0.14</td>\n",
       "      <td>0.14</td>\n",
       "      <td>0.17</td>\n",
       "      <td>0.18</td>\n",
       "      <td>0.22</td>\n",
       "    </tr>\n",
       "    <tr>\n",
       "      <th>Adjusted R2</th>\n",
       "      <td>0</td>\n",
       "      <td>0.14</td>\n",
       "      <td>0.14</td>\n",
       "      <td>0.17</td>\n",
       "      <td>0.18</td>\n",
       "      <td>0.22</td>\n",
       "    </tr>\n",
       "  </tbody>\n",
       "</table>\n",
       "</div>"
      ],
      "text/plain": [
       "                      baseline      human     gender      social    symbolic  \\\n",
       "names                                                                          \n",
       "start year            0.0(0.0)   0.0(0.0)   0.0(0.0)   -0.0(0.0)   -0.0(0.0)   \n",
       "productivity                    0.13(0.0)  0.13(0.0)   0.11(0.0)    0.1(0.0)   \n",
       "recognition                     -0.0(0.0)  -0.0(0.0)  -0.01(0.0)  -0.02(0.0)   \n",
       "prod first author               0.01(0.0)  0.01(0.0)   0.01(0.0)   0.01(0.0)   \n",
       "male                                        0.0(0.0)   -0.0(0.0)    0.0(0.0)   \n",
       "female                                      0.0(0.0)    0.0(0.0)    0.0(0.0)   \n",
       "none                                        0.0(0.0)    0.0(0.0)   -0.0(0.0)   \n",
       "degree                                                 0.02(0.0)   0.02(0.0)   \n",
       "coauthor hindex                                        0.08(0.0)   0.08(0.0)   \n",
       "median team size                                      -0.03(0.0)  -0.02(0.0)   \n",
       "top-venue                                                          0.16(0.0)   \n",
       "quality                                                                        \n",
       "quality first author                                                           \n",
       "cohort size             292443     292443     292443      292443      292443   \n",
       "MSE                       0.27       0.23       0.23        0.23        0.22   \n",
       "intercept                 -5.9      -1.42      -1.39        2.64        3.44   \n",
       "R2                           0       0.14       0.14        0.17        0.18   \n",
       "Adjusted R2                  0       0.14       0.14        0.17        0.18   \n",
       "\n",
       "                      full_model  \n",
       "names                             \n",
       "start year             -0.0(0.0)  \n",
       "productivity            0.1(0.0)  \n",
       "recognition           -0.06(0.0)  \n",
       "prod first author      0.01(0.0)  \n",
       "male                    0.0(0.0)  \n",
       "female                  0.0(0.0)  \n",
       "none                   -0.0(0.0)  \n",
       "degree                 0.01(0.0)  \n",
       "coauthor hindex        0.07(0.0)  \n",
       "median team size      -0.02(0.0)  \n",
       "top-venue              0.15(0.0)  \n",
       "quality                0.02(0.0)  \n",
       "quality first author   -0.0(0.0)  \n",
       "cohort size               292443  \n",
       "MSE                         0.21  \n",
       "intercept                   4.87  \n",
       "R2                          0.22  \n",
       "Adjusted R2                 0.22  "
      ]
     },
     "execution_count": 101,
     "metadata": {},
     "output_type": "execute_result"
    }
   ],
   "source": [
    "dv_hindex_incr = 'h_index_increase_6_3'\n",
    "h_ind_agg_all_6_3 = elastic_agg_all(credible_authors, EARLY_CAREER, RECOGNITION_CUT, dv_hindex_incr)\n",
    "results_to_latex(h_ind_agg_all_6_3, 'agg_hindex_6_3')\n",
    "# h_ind_agg_all_6_3"
   ]
  },
  {
   "cell_type": "code",
   "execution_count": 102,
   "metadata": {},
   "outputs": [
    {
     "data": {
      "text/html": [
       "<div>\n",
       "<style scoped>\n",
       "    .dataframe tbody tr th:only-of-type {\n",
       "        vertical-align: middle;\n",
       "    }\n",
       "\n",
       "    .dataframe tbody tr th {\n",
       "        vertical-align: top;\n",
       "    }\n",
       "\n",
       "    .dataframe thead th {\n",
       "        text-align: right;\n",
       "    }\n",
       "</style>\n",
       "<table border=\"1\" class=\"dataframe\">\n",
       "  <thead>\n",
       "    <tr style=\"text-align: right;\">\n",
       "      <th></th>\n",
       "      <th>baseline</th>\n",
       "      <th>human</th>\n",
       "      <th>gender</th>\n",
       "      <th>social</th>\n",
       "      <th>symbolic</th>\n",
       "      <th>full_model</th>\n",
       "    </tr>\n",
       "    <tr>\n",
       "      <th>names</th>\n",
       "      <th></th>\n",
       "      <th></th>\n",
       "      <th></th>\n",
       "      <th></th>\n",
       "      <th></th>\n",
       "      <th></th>\n",
       "    </tr>\n",
       "  </thead>\n",
       "  <tbody>\n",
       "    <tr>\n",
       "      <th>start year</th>\n",
       "      <td>0.02(0.0)</td>\n",
       "      <td>0.02(0.0)</td>\n",
       "      <td>0.02(0.0)</td>\n",
       "      <td>0.02(0.0)</td>\n",
       "      <td>0.02(0.0)</td>\n",
       "      <td>0.01(0.0)</td>\n",
       "    </tr>\n",
       "    <tr>\n",
       "      <th>productivity</th>\n",
       "      <td></td>\n",
       "      <td>0.3(0.0)</td>\n",
       "      <td>0.3(0.0)</td>\n",
       "      <td>0.24(0.0)</td>\n",
       "      <td>0.23(0.0)</td>\n",
       "      <td>0.22(0.0)</td>\n",
       "    </tr>\n",
       "    <tr>\n",
       "      <th>recognition</th>\n",
       "      <td></td>\n",
       "      <td>0.04(0.0)</td>\n",
       "      <td>0.04(0.0)</td>\n",
       "      <td>0.02(0.0)</td>\n",
       "      <td>0.02(0.0)</td>\n",
       "      <td>-0.04(0.0)</td>\n",
       "    </tr>\n",
       "    <tr>\n",
       "      <th>prod first author</th>\n",
       "      <td></td>\n",
       "      <td>0.13(0.0)</td>\n",
       "      <td>0.13(0.0)</td>\n",
       "      <td>0.12(0.0)</td>\n",
       "      <td>0.12(0.0)</td>\n",
       "      <td>0.11(0.0)</td>\n",
       "    </tr>\n",
       "    <tr>\n",
       "      <th>male</th>\n",
       "      <td></td>\n",
       "      <td></td>\n",
       "      <td>0.0(0.0)</td>\n",
       "      <td>-0.0(0.0)</td>\n",
       "      <td>-0.0(0.0)</td>\n",
       "      <td>0.0(0.0)</td>\n",
       "    </tr>\n",
       "    <tr>\n",
       "      <th>female</th>\n",
       "      <td></td>\n",
       "      <td></td>\n",
       "      <td>0.0(0.0)</td>\n",
       "      <td>0.0(0.0)</td>\n",
       "      <td>0.0(0.0)</td>\n",
       "      <td>0.0(0.0)</td>\n",
       "    </tr>\n",
       "    <tr>\n",
       "      <th>none</th>\n",
       "      <td></td>\n",
       "      <td></td>\n",
       "      <td>0.02(0.0)</td>\n",
       "      <td>0.01(0.0)</td>\n",
       "      <td>0.0(0.0)</td>\n",
       "      <td>0.0(0.0)</td>\n",
       "    </tr>\n",
       "    <tr>\n",
       "      <th>degree</th>\n",
       "      <td></td>\n",
       "      <td></td>\n",
       "      <td></td>\n",
       "      <td>0.02(0.0)</td>\n",
       "      <td>0.02(0.0)</td>\n",
       "      <td>0.02(0.0)</td>\n",
       "    </tr>\n",
       "    <tr>\n",
       "      <th>coauthor hindex</th>\n",
       "      <td></td>\n",
       "      <td></td>\n",
       "      <td></td>\n",
       "      <td>0.17(0.0)</td>\n",
       "      <td>0.17(0.0)</td>\n",
       "      <td>0.15(0.0)</td>\n",
       "    </tr>\n",
       "    <tr>\n",
       "      <th>median team size</th>\n",
       "      <td></td>\n",
       "      <td></td>\n",
       "      <td></td>\n",
       "      <td>-0.08(0.0)</td>\n",
       "      <td>-0.07(0.0)</td>\n",
       "      <td>-0.07(0.0)</td>\n",
       "    </tr>\n",
       "    <tr>\n",
       "      <th>top-venue</th>\n",
       "      <td></td>\n",
       "      <td></td>\n",
       "      <td></td>\n",
       "      <td></td>\n",
       "      <td>0.14(0.0)</td>\n",
       "      <td>0.13(0.0)</td>\n",
       "    </tr>\n",
       "    <tr>\n",
       "      <th>quality</th>\n",
       "      <td></td>\n",
       "      <td></td>\n",
       "      <td></td>\n",
       "      <td></td>\n",
       "      <td></td>\n",
       "      <td>0.06(0.01)</td>\n",
       "    </tr>\n",
       "    <tr>\n",
       "      <th>quality first author</th>\n",
       "      <td></td>\n",
       "      <td></td>\n",
       "      <td></td>\n",
       "      <td></td>\n",
       "      <td></td>\n",
       "      <td>0.0(0.0)</td>\n",
       "    </tr>\n",
       "    <tr>\n",
       "      <th>cohort size</th>\n",
       "      <td>119113</td>\n",
       "      <td>119113</td>\n",
       "      <td>119113</td>\n",
       "      <td>119113</td>\n",
       "      <td>119113</td>\n",
       "      <td>119113</td>\n",
       "    </tr>\n",
       "    <tr>\n",
       "      <th>MSE</th>\n",
       "      <td>0.93</td>\n",
       "      <td>0.78</td>\n",
       "      <td>0.78</td>\n",
       "      <td>0.74</td>\n",
       "      <td>0.74</td>\n",
       "      <td>0.7</td>\n",
       "    </tr>\n",
       "    <tr>\n",
       "      <th>intercept</th>\n",
       "      <td>-45.06</td>\n",
       "      <td>-39.01</td>\n",
       "      <td>-38.95</td>\n",
       "      <td>-30.16</td>\n",
       "      <td>-30.01</td>\n",
       "      <td>-25.94</td>\n",
       "    </tr>\n",
       "    <tr>\n",
       "      <th>R2</th>\n",
       "      <td>0.02</td>\n",
       "      <td>0.18</td>\n",
       "      <td>0.18</td>\n",
       "      <td>0.22</td>\n",
       "      <td>0.22</td>\n",
       "      <td>0.26</td>\n",
       "    </tr>\n",
       "    <tr>\n",
       "      <th>Adjusted R2</th>\n",
       "      <td>0.02</td>\n",
       "      <td>0.18</td>\n",
       "      <td>0.18</td>\n",
       "      <td>0.22</td>\n",
       "      <td>0.22</td>\n",
       "      <td>0.26</td>\n",
       "    </tr>\n",
       "  </tbody>\n",
       "</table>\n",
       "</div>"
      ],
      "text/plain": [
       "                       baseline      human     gender      social    symbolic  \\\n",
       "names                                                                           \n",
       "start year            0.02(0.0)  0.02(0.0)  0.02(0.0)   0.02(0.0)   0.02(0.0)   \n",
       "productivity                      0.3(0.0)   0.3(0.0)   0.24(0.0)   0.23(0.0)   \n",
       "recognition                      0.04(0.0)  0.04(0.0)   0.02(0.0)   0.02(0.0)   \n",
       "prod first author                0.13(0.0)  0.13(0.0)   0.12(0.0)   0.12(0.0)   \n",
       "male                                         0.0(0.0)   -0.0(0.0)   -0.0(0.0)   \n",
       "female                                       0.0(0.0)    0.0(0.0)    0.0(0.0)   \n",
       "none                                        0.02(0.0)   0.01(0.0)    0.0(0.0)   \n",
       "degree                                                  0.02(0.0)   0.02(0.0)   \n",
       "coauthor hindex                                         0.17(0.0)   0.17(0.0)   \n",
       "median team size                                       -0.08(0.0)  -0.07(0.0)   \n",
       "top-venue                                                           0.14(0.0)   \n",
       "quality                                                                         \n",
       "quality first author                                                            \n",
       "cohort size              119113     119113     119113      119113      119113   \n",
       "MSE                        0.93       0.78       0.78        0.74        0.74   \n",
       "intercept                -45.06     -39.01     -38.95      -30.16      -30.01   \n",
       "R2                         0.02       0.18       0.18        0.22        0.22   \n",
       "Adjusted R2                0.02       0.18       0.18        0.22        0.22   \n",
       "\n",
       "                      full_model  \n",
       "names                             \n",
       "start year             0.01(0.0)  \n",
       "productivity           0.22(0.0)  \n",
       "recognition           -0.04(0.0)  \n",
       "prod first author      0.11(0.0)  \n",
       "male                    0.0(0.0)  \n",
       "female                  0.0(0.0)  \n",
       "none                    0.0(0.0)  \n",
       "degree                 0.02(0.0)  \n",
       "coauthor hindex        0.15(0.0)  \n",
       "median team size      -0.07(0.0)  \n",
       "top-venue              0.13(0.0)  \n",
       "quality               0.06(0.01)  \n",
       "quality first author    0.0(0.0)  \n",
       "cohort size               119113  \n",
       "MSE                          0.7  \n",
       "intercept                 -25.94  \n",
       "R2                          0.26  \n",
       "Adjusted R2                 0.26  "
      ]
     },
     "execution_count": 102,
     "metadata": {},
     "output_type": "execute_result"
    }
   ],
   "source": [
    "# STAYED!\n",
    "dv_hindex_incr = 'h_index_increase_15_3'\n",
    "h_ind_agg_all_15_3_stay = elastic_agg_all(credible_authors_stayed, EARLY_CAREER, RECOGNITION_CUT, dv_hindex_incr)\n",
    "results_to_latex(h_ind_agg_all_15_3_stay, 'agg_hindex_15_3_nodrop')\n",
    "h_ind_agg_all_15_3_stay"
   ]
  },
  {
   "cell_type": "code",
   "execution_count": 66,
   "metadata": {},
   "outputs": [
    {
     "data": {
      "text/html": [
       "<div>\n",
       "<style scoped>\n",
       "    .dataframe tbody tr th:only-of-type {\n",
       "        vertical-align: middle;\n",
       "    }\n",
       "\n",
       "    .dataframe tbody tr th {\n",
       "        vertical-align: top;\n",
       "    }\n",
       "\n",
       "    .dataframe thead th {\n",
       "        text-align: right;\n",
       "    }\n",
       "</style>\n",
       "<table border=\"1\" class=\"dataframe\">\n",
       "  <thead>\n",
       "    <tr style=\"text-align: right;\">\n",
       "      <th></th>\n",
       "      <th>baseline</th>\n",
       "      <th>human</th>\n",
       "      <th>gender</th>\n",
       "      <th>social</th>\n",
       "      <th>symbolic</th>\n",
       "      <th>full_model</th>\n",
       "    </tr>\n",
       "    <tr>\n",
       "      <th>names</th>\n",
       "      <th></th>\n",
       "      <th></th>\n",
       "      <th></th>\n",
       "      <th></th>\n",
       "      <th></th>\n",
       "      <th></th>\n",
       "    </tr>\n",
       "  </thead>\n",
       "  <tbody>\n",
       "    <tr>\n",
       "      <th>Start year</th>\n",
       "      <td>0.03(0.0)</td>\n",
       "      <td>0.02(0.0)</td>\n",
       "      <td>0.02(0.0)</td>\n",
       "      <td>0.02(0.0)</td>\n",
       "      <td>0.01(0.0)</td>\n",
       "      <td>0.01(0.0)</td>\n",
       "    </tr>\n",
       "    <tr>\n",
       "      <th>Productivity</th>\n",
       "      <td></td>\n",
       "      <td>0.43(0.0)</td>\n",
       "      <td>0.43(0.0)</td>\n",
       "      <td>0.38(0.0)</td>\n",
       "      <td>0.36(0.0)</td>\n",
       "      <td>0.34(0.0)</td>\n",
       "    </tr>\n",
       "    <tr>\n",
       "      <th>Productivity (1st)</th>\n",
       "      <td></td>\n",
       "      <td>0.15(0.0)</td>\n",
       "      <td>0.14(0.0)</td>\n",
       "      <td>0.14(0.0)</td>\n",
       "      <td>0.14(0.0)</td>\n",
       "      <td>0.13(0.0)</td>\n",
       "    </tr>\n",
       "    <tr>\n",
       "      <th>Recognition</th>\n",
       "      <td></td>\n",
       "      <td>0.03(0.0)</td>\n",
       "      <td>0.03(0.0)</td>\n",
       "      <td>0.0(0.0)</td>\n",
       "      <td>-0.01(0.0)</td>\n",
       "      <td>-0.12(0.0)</td>\n",
       "    </tr>\n",
       "    <tr>\n",
       "      <th>Male</th>\n",
       "      <td></td>\n",
       "      <td></td>\n",
       "      <td>-0.0(0.01)</td>\n",
       "      <td>-0.04(0.0)</td>\n",
       "      <td>-0.02(0.0)</td>\n",
       "      <td>-0.0(0.0)</td>\n",
       "    </tr>\n",
       "    <tr>\n",
       "      <th>Female</th>\n",
       "      <td></td>\n",
       "      <td></td>\n",
       "      <td>0.0(0.0)</td>\n",
       "      <td>0.0(0.0)</td>\n",
       "      <td>0.01(0.0)</td>\n",
       "      <td>0.01(0.0)</td>\n",
       "    </tr>\n",
       "    <tr>\n",
       "      <th>Undetected</th>\n",
       "      <td></td>\n",
       "      <td></td>\n",
       "      <td>0.0(0.0)</td>\n",
       "      <td>0.0(0.0)</td>\n",
       "      <td>0.0(0.0)</td>\n",
       "      <td>0.0(0.0)</td>\n",
       "    </tr>\n",
       "    <tr>\n",
       "      <th>Social support</th>\n",
       "      <td></td>\n",
       "      <td></td>\n",
       "      <td></td>\n",
       "      <td>0.04(0.0)</td>\n",
       "      <td>0.04(0.0)</td>\n",
       "      <td>0.04(0.0)</td>\n",
       "    </tr>\n",
       "    <tr>\n",
       "      <th>Senior support</th>\n",
       "      <td></td>\n",
       "      <td></td>\n",
       "      <td></td>\n",
       "      <td>0.23(0.0)</td>\n",
       "      <td>0.22(0.0)</td>\n",
       "      <td>0.2(0.0)</td>\n",
       "    </tr>\n",
       "    <tr>\n",
       "      <th>Median team size</th>\n",
       "      <td></td>\n",
       "      <td></td>\n",
       "      <td></td>\n",
       "      <td>-0.11(0.0)</td>\n",
       "      <td>-0.09(0.0)</td>\n",
       "      <td>-0.09(0.0)</td>\n",
       "    </tr>\n",
       "    <tr>\n",
       "      <th>Top venue</th>\n",
       "      <td></td>\n",
       "      <td></td>\n",
       "      <td></td>\n",
       "      <td></td>\n",
       "      <td>0.36(0.0)</td>\n",
       "      <td>0.34(0.0)</td>\n",
       "    </tr>\n",
       "    <tr>\n",
       "      <th>Ability</th>\n",
       "      <td></td>\n",
       "      <td></td>\n",
       "      <td></td>\n",
       "      <td></td>\n",
       "      <td></td>\n",
       "      <td>0.06(0.0)</td>\n",
       "    </tr>\n",
       "    <tr>\n",
       "      <th>Ability (1st)</th>\n",
       "      <td></td>\n",
       "      <td></td>\n",
       "      <td></td>\n",
       "      <td></td>\n",
       "      <td></td>\n",
       "      <td>0.01(0.0)</td>\n",
       "    </tr>\n",
       "    <tr>\n",
       "      <th>Cohort size</th>\n",
       "      <td>292443</td>\n",
       "      <td>292443</td>\n",
       "      <td>292443</td>\n",
       "      <td>292443</td>\n",
       "      <td>292443</td>\n",
       "      <td>292443</td>\n",
       "    </tr>\n",
       "    <tr>\n",
       "      <th>MSE</th>\n",
       "      <td>2.39</td>\n",
       "      <td>1.81</td>\n",
       "      <td>1.81</td>\n",
       "      <td>1.75</td>\n",
       "      <td>1.73</td>\n",
       "      <td>1.64</td>\n",
       "    </tr>\n",
       "    <tr>\n",
       "      <th>intercept</th>\n",
       "      <td>-56.42</td>\n",
       "      <td>-41.84</td>\n",
       "      <td>-41.63</td>\n",
       "      <td>-31.1</td>\n",
       "      <td>-29.27</td>\n",
       "      <td>-24.59</td>\n",
       "    </tr>\n",
       "    <tr>\n",
       "      <th>R2</th>\n",
       "      <td>0.01</td>\n",
       "      <td>0.25</td>\n",
       "      <td>0.25</td>\n",
       "      <td>0.28</td>\n",
       "      <td>0.29</td>\n",
       "      <td>0.33</td>\n",
       "    </tr>\n",
       "    <tr>\n",
       "      <th>Adjusted R2</th>\n",
       "      <td></td>\n",
       "      <td></td>\n",
       "      <td></td>\n",
       "      <td></td>\n",
       "      <td></td>\n",
       "      <td></td>\n",
       "    </tr>\n",
       "  </tbody>\n",
       "</table>\n",
       "</div>"
      ],
      "text/plain": [
       "                     baseline      human      gender      social    symbolic  \\\n",
       "names                                                                          \n",
       "Start year          0.03(0.0)  0.02(0.0)   0.02(0.0)   0.02(0.0)   0.01(0.0)   \n",
       "Productivity                   0.43(0.0)   0.43(0.0)   0.38(0.0)   0.36(0.0)   \n",
       "Productivity (1st)             0.15(0.0)   0.14(0.0)   0.14(0.0)   0.14(0.0)   \n",
       "Recognition                    0.03(0.0)   0.03(0.0)    0.0(0.0)  -0.01(0.0)   \n",
       "Male                                      -0.0(0.01)  -0.04(0.0)  -0.02(0.0)   \n",
       "Female                                      0.0(0.0)    0.0(0.0)   0.01(0.0)   \n",
       "Undetected                                  0.0(0.0)    0.0(0.0)    0.0(0.0)   \n",
       "Social support                                         0.04(0.0)   0.04(0.0)   \n",
       "Senior support                                         0.23(0.0)   0.22(0.0)   \n",
       "Median team size                                      -0.11(0.0)  -0.09(0.0)   \n",
       "Top venue                                                          0.36(0.0)   \n",
       "Ability                                                                        \n",
       "Ability (1st)                                                                  \n",
       "Cohort size            292443     292443      292443      292443      292443   \n",
       "MSE                      2.39       1.81        1.81        1.75        1.73   \n",
       "intercept              -56.42     -41.84      -41.63       -31.1      -29.27   \n",
       "R2                       0.01       0.25        0.25        0.28        0.29   \n",
       "Adjusted R2                                                                    \n",
       "\n",
       "                    full_model  \n",
       "names                           \n",
       "Start year           0.01(0.0)  \n",
       "Productivity         0.34(0.0)  \n",
       "Productivity (1st)   0.13(0.0)  \n",
       "Recognition         -0.12(0.0)  \n",
       "Male                 -0.0(0.0)  \n",
       "Female               0.01(0.0)  \n",
       "Undetected            0.0(0.0)  \n",
       "Social support       0.04(0.0)  \n",
       "Senior support        0.2(0.0)  \n",
       "Median team size    -0.09(0.0)  \n",
       "Top venue            0.34(0.0)  \n",
       "Ability              0.06(0.0)  \n",
       "Ability (1st)        0.01(0.0)  \n",
       "Cohort size             292443  \n",
       "MSE                       1.64  \n",
       "intercept               -24.59  \n",
       "R2                        0.33  \n",
       "Adjusted R2                     "
      ]
     },
     "execution_count": 66,
     "metadata": {},
     "output_type": "execute_result"
    }
   ],
   "source": [
    "dv_hindex_incr = 'h_index_increase_15_3'\n",
    "h_ind_agg_all_15_3 = elastic_agg_all(credible_authors, EARLY_CAREER, RECOGNITION_CUT, dv_hindex_incr)\n",
    "results_to_latex(h_ind_agg_all_15_3, 'agg_hindex_15_3')\n",
    "h_ind_agg_all_15_3"
   ]
  },
  {
   "cell_type": "code",
   "execution_count": 104,
   "metadata": {},
   "outputs": [
    {
     "data": {
      "text/html": [
       "<div>\n",
       "<style scoped>\n",
       "    .dataframe tbody tr th:only-of-type {\n",
       "        vertical-align: middle;\n",
       "    }\n",
       "\n",
       "    .dataframe tbody tr th {\n",
       "        vertical-align: top;\n",
       "    }\n",
       "\n",
       "    .dataframe thead th {\n",
       "        text-align: right;\n",
       "    }\n",
       "</style>\n",
       "<table border=\"1\" class=\"dataframe\">\n",
       "  <thead>\n",
       "    <tr style=\"text-align: right;\">\n",
       "      <th></th>\n",
       "      <th>baseline</th>\n",
       "      <th>human</th>\n",
       "      <th>gender</th>\n",
       "      <th>social</th>\n",
       "      <th>symbolic</th>\n",
       "      <th>full_model</th>\n",
       "    </tr>\n",
       "    <tr>\n",
       "      <th>names</th>\n",
       "      <th></th>\n",
       "      <th></th>\n",
       "      <th></th>\n",
       "      <th></th>\n",
       "      <th></th>\n",
       "      <th></th>\n",
       "    </tr>\n",
       "  </thead>\n",
       "  <tbody>\n",
       "    <tr>\n",
       "      <th>start year</th>\n",
       "      <td>0.02(0.0)</td>\n",
       "      <td>0.01(0.0)</td>\n",
       "      <td>0.01(0.0)</td>\n",
       "      <td>-0.01(0.0)</td>\n",
       "      <td>-0.01(0.0)</td>\n",
       "      <td>-0.02(0.0)</td>\n",
       "    </tr>\n",
       "    <tr>\n",
       "      <th>productivity</th>\n",
       "      <td></td>\n",
       "      <td>0.76(0.0)</td>\n",
       "      <td>0.76(0.0)</td>\n",
       "      <td>0.63(0.01)</td>\n",
       "      <td>0.63(0.01)</td>\n",
       "      <td>0.48(0.01)</td>\n",
       "    </tr>\n",
       "    <tr>\n",
       "      <th>recognition</th>\n",
       "      <td></td>\n",
       "      <td>1.68(0.01)</td>\n",
       "      <td>1.68(0.01)</td>\n",
       "      <td>1.6(0.01)</td>\n",
       "      <td>1.6(0.01)</td>\n",
       "      <td>0.74(0.03)</td>\n",
       "    </tr>\n",
       "    <tr>\n",
       "      <th>prod first author</th>\n",
       "      <td></td>\n",
       "      <td>0.09(0.0)</td>\n",
       "      <td>0.09(0.0)</td>\n",
       "      <td>0.11(0.01)</td>\n",
       "      <td>0.11(0.01)</td>\n",
       "      <td>0.07(0.02)</td>\n",
       "    </tr>\n",
       "    <tr>\n",
       "      <th>male</th>\n",
       "      <td></td>\n",
       "      <td></td>\n",
       "      <td>-0.0(0.0)</td>\n",
       "      <td>0.0(0.0)</td>\n",
       "      <td>-0.0(0.0)</td>\n",
       "      <td>0.0(0.0)</td>\n",
       "    </tr>\n",
       "    <tr>\n",
       "      <th>female</th>\n",
       "      <td></td>\n",
       "      <td></td>\n",
       "      <td>0.01(0.0)</td>\n",
       "      <td>0.03(0.0)</td>\n",
       "      <td>0.03(0.01)</td>\n",
       "      <td>0.0(0.0)</td>\n",
       "    </tr>\n",
       "    <tr>\n",
       "      <th>none</th>\n",
       "      <td></td>\n",
       "      <td></td>\n",
       "      <td>0.0(0.0)</td>\n",
       "      <td>0.0(0.0)</td>\n",
       "      <td>0.0(0.0)</td>\n",
       "      <td>0.0(0.0)</td>\n",
       "    </tr>\n",
       "    <tr>\n",
       "      <th>degree</th>\n",
       "      <td></td>\n",
       "      <td></td>\n",
       "      <td></td>\n",
       "      <td>0.1(0.01)</td>\n",
       "      <td>0.1(0.01)</td>\n",
       "      <td>0.06(0.01)</td>\n",
       "    </tr>\n",
       "    <tr>\n",
       "      <th>coauthor hindex</th>\n",
       "      <td></td>\n",
       "      <td></td>\n",
       "      <td></td>\n",
       "      <td>0.53(0.01)</td>\n",
       "      <td>0.53(0.0)</td>\n",
       "      <td>0.38(0.01)</td>\n",
       "    </tr>\n",
       "    <tr>\n",
       "      <th>median team size</th>\n",
       "      <td></td>\n",
       "      <td></td>\n",
       "      <td></td>\n",
       "      <td>-0.1(0.01)</td>\n",
       "      <td>-0.1(0.01)</td>\n",
       "      <td>-0.03(0.01)</td>\n",
       "    </tr>\n",
       "    <tr>\n",
       "      <th>top-venue</th>\n",
       "      <td></td>\n",
       "      <td></td>\n",
       "      <td></td>\n",
       "      <td></td>\n",
       "      <td>-0.02(0.01)</td>\n",
       "      <td>0.0(0.0)</td>\n",
       "    </tr>\n",
       "    <tr>\n",
       "      <th>quality</th>\n",
       "      <td></td>\n",
       "      <td></td>\n",
       "      <td></td>\n",
       "      <td></td>\n",
       "      <td></td>\n",
       "      <td>0.48(0.04)</td>\n",
       "    </tr>\n",
       "    <tr>\n",
       "      <th>quality first author</th>\n",
       "      <td></td>\n",
       "      <td></td>\n",
       "      <td></td>\n",
       "      <td></td>\n",
       "      <td></td>\n",
       "      <td>-0.01(0.02)</td>\n",
       "    </tr>\n",
       "    <tr>\n",
       "      <th>cohort size</th>\n",
       "      <td>292443</td>\n",
       "      <td>292443</td>\n",
       "      <td>292443</td>\n",
       "      <td>292443</td>\n",
       "      <td>292443</td>\n",
       "      <td>292443</td>\n",
       "    </tr>\n",
       "    <tr>\n",
       "      <th>MSE</th>\n",
       "      <td>24.61</td>\n",
       "      <td>13.26</td>\n",
       "      <td>13.26</td>\n",
       "      <td>13</td>\n",
       "      <td>12.99</td>\n",
       "      <td>8.43</td>\n",
       "    </tr>\n",
       "    <tr>\n",
       "      <th>intercept</th>\n",
       "      <td>-35.53</td>\n",
       "      <td>-14.14</td>\n",
       "      <td>-14.22</td>\n",
       "      <td>12.86</td>\n",
       "      <td>12.77</td>\n",
       "      <td>44.75</td>\n",
       "    </tr>\n",
       "    <tr>\n",
       "      <th>R2</th>\n",
       "      <td>0</td>\n",
       "      <td>0.46</td>\n",
       "      <td>0.46</td>\n",
       "      <td>0.47</td>\n",
       "      <td>0.47</td>\n",
       "      <td>0.66</td>\n",
       "    </tr>\n",
       "    <tr>\n",
       "      <th>Adjusted R2</th>\n",
       "      <td>0</td>\n",
       "      <td>0.46</td>\n",
       "      <td>0.46</td>\n",
       "      <td>0.47</td>\n",
       "      <td>0.47</td>\n",
       "      <td>0.66</td>\n",
       "    </tr>\n",
       "  </tbody>\n",
       "</table>\n",
       "</div>"
      ],
      "text/plain": [
       "                       baseline       human      gender      social  \\\n",
       "names                                                                 \n",
       "start year            0.02(0.0)   0.01(0.0)   0.01(0.0)  -0.01(0.0)   \n",
       "productivity                      0.76(0.0)   0.76(0.0)  0.63(0.01)   \n",
       "recognition                      1.68(0.01)  1.68(0.01)   1.6(0.01)   \n",
       "prod first author                 0.09(0.0)   0.09(0.0)  0.11(0.01)   \n",
       "male                                          -0.0(0.0)    0.0(0.0)   \n",
       "female                                        0.01(0.0)   0.03(0.0)   \n",
       "none                                           0.0(0.0)    0.0(0.0)   \n",
       "degree                                                    0.1(0.01)   \n",
       "coauthor hindex                                          0.53(0.01)   \n",
       "median team size                                         -0.1(0.01)   \n",
       "top-venue                                                             \n",
       "quality                                                               \n",
       "quality first author                                                  \n",
       "cohort size              292443      292443      292443      292443   \n",
       "MSE                       24.61       13.26       13.26          13   \n",
       "intercept                -35.53      -14.14      -14.22       12.86   \n",
       "R2                            0        0.46        0.46        0.47   \n",
       "Adjusted R2                   0        0.46        0.46        0.47   \n",
       "\n",
       "                         symbolic   full_model  \n",
       "names                                           \n",
       "start year             -0.01(0.0)   -0.02(0.0)  \n",
       "productivity           0.63(0.01)   0.48(0.01)  \n",
       "recognition             1.6(0.01)   0.74(0.03)  \n",
       "prod first author      0.11(0.01)   0.07(0.02)  \n",
       "male                    -0.0(0.0)     0.0(0.0)  \n",
       "female                 0.03(0.01)     0.0(0.0)  \n",
       "none                     0.0(0.0)     0.0(0.0)  \n",
       "degree                  0.1(0.01)   0.06(0.01)  \n",
       "coauthor hindex         0.53(0.0)   0.38(0.01)  \n",
       "median team size       -0.1(0.01)  -0.03(0.01)  \n",
       "top-venue             -0.02(0.01)     0.0(0.0)  \n",
       "quality                             0.48(0.04)  \n",
       "quality first author               -0.01(0.02)  \n",
       "cohort size                292443       292443  \n",
       "MSE                         12.99         8.43  \n",
       "intercept                   12.77        44.75  \n",
       "R2                           0.47         0.66  \n",
       "Adjusted R2                  0.47         0.66  "
      ]
     },
     "execution_count": 104,
     "metadata": {},
     "output_type": "execute_result"
    }
   ],
   "source": [
    "dv_citations_incr = 'citation_increase_6_3'\n",
    "cit_agg_all_6_3 = elastic_agg_all(credible_authors, EARLY_CAREER, RECOGNITION_CUT, dv_citations_incr)\n",
    "results_to_latex(cit_agg_all_6_3, 'agg_citations_6_3')\n",
    "# cit_agg_all_6_3"
   ]
  },
  {
   "cell_type": "code",
   "execution_count": 105,
   "metadata": {},
   "outputs": [
    {
     "data": {
      "text/html": [
       "<div>\n",
       "<style scoped>\n",
       "    .dataframe tbody tr th:only-of-type {\n",
       "        vertical-align: middle;\n",
       "    }\n",
       "\n",
       "    .dataframe tbody tr th {\n",
       "        vertical-align: top;\n",
       "    }\n",
       "\n",
       "    .dataframe thead th {\n",
       "        text-align: right;\n",
       "    }\n",
       "</style>\n",
       "<table border=\"1\" class=\"dataframe\">\n",
       "  <thead>\n",
       "    <tr style=\"text-align: right;\">\n",
       "      <th></th>\n",
       "      <th>baseline</th>\n",
       "      <th>human</th>\n",
       "      <th>gender</th>\n",
       "      <th>social</th>\n",
       "      <th>symbolic</th>\n",
       "      <th>full_model</th>\n",
       "    </tr>\n",
       "    <tr>\n",
       "      <th>names</th>\n",
       "      <th></th>\n",
       "      <th></th>\n",
       "      <th></th>\n",
       "      <th></th>\n",
       "      <th></th>\n",
       "      <th></th>\n",
       "    </tr>\n",
       "  </thead>\n",
       "  <tbody>\n",
       "    <tr>\n",
       "      <th>start year</th>\n",
       "      <td>0.08(0.0)</td>\n",
       "      <td>0.06(0.0)</td>\n",
       "      <td>0.06(0.0)</td>\n",
       "      <td>0.05(0.0)</td>\n",
       "      <td>0.05(0.0)</td>\n",
       "      <td>0.03(0.0)</td>\n",
       "    </tr>\n",
       "    <tr>\n",
       "      <th>productivity</th>\n",
       "      <td></td>\n",
       "      <td>1.01(0.01)</td>\n",
       "      <td>1.01(0.01)</td>\n",
       "      <td>0.88(0.01)</td>\n",
       "      <td>0.89(0.01)</td>\n",
       "      <td>0.68(0.01)</td>\n",
       "    </tr>\n",
       "    <tr>\n",
       "      <th>recognition</th>\n",
       "      <td></td>\n",
       "      <td>1.01(0.02)</td>\n",
       "      <td>1.0(0.01)</td>\n",
       "      <td>0.91(0.01)</td>\n",
       "      <td>0.91(0.01)</td>\n",
       "      <td>-0.2(0.01)</td>\n",
       "    </tr>\n",
       "    <tr>\n",
       "      <th>prod first author</th>\n",
       "      <td></td>\n",
       "      <td>0.45(0.01)</td>\n",
       "      <td>0.45(0.01)</td>\n",
       "      <td>0.45(0.01)</td>\n",
       "      <td>0.45(0.01)</td>\n",
       "      <td>0.36(0.01)</td>\n",
       "    </tr>\n",
       "    <tr>\n",
       "      <th>male</th>\n",
       "      <td></td>\n",
       "      <td></td>\n",
       "      <td>-0.09(0.01)</td>\n",
       "      <td>-0.1(0.01)</td>\n",
       "      <td>-0.1(0.01)</td>\n",
       "      <td>0.0(0.0)</td>\n",
       "    </tr>\n",
       "    <tr>\n",
       "      <th>female</th>\n",
       "      <td></td>\n",
       "      <td></td>\n",
       "      <td>0.0(0.0)</td>\n",
       "      <td>0.0(0.0)</td>\n",
       "      <td>0.0(0.0)</td>\n",
       "      <td>0.0(0.0)</td>\n",
       "    </tr>\n",
       "    <tr>\n",
       "      <th>none</th>\n",
       "      <td></td>\n",
       "      <td></td>\n",
       "      <td>0.07(0.01)</td>\n",
       "      <td>0.04(0.01)</td>\n",
       "      <td>0.04(0.01)</td>\n",
       "      <td>0.0(0.0)</td>\n",
       "    </tr>\n",
       "    <tr>\n",
       "      <th>degree</th>\n",
       "      <td></td>\n",
       "      <td></td>\n",
       "      <td></td>\n",
       "      <td>0.05(0.02)</td>\n",
       "      <td>0.05(0.01)</td>\n",
       "      <td>0.01(0.01)</td>\n",
       "    </tr>\n",
       "    <tr>\n",
       "      <th>coauthor hindex</th>\n",
       "      <td></td>\n",
       "      <td></td>\n",
       "      <td></td>\n",
       "      <td>0.7(0.01)</td>\n",
       "      <td>0.7(0.01)</td>\n",
       "      <td>0.5(0.01)</td>\n",
       "    </tr>\n",
       "    <tr>\n",
       "      <th>median team size</th>\n",
       "      <td></td>\n",
       "      <td></td>\n",
       "      <td></td>\n",
       "      <td>-0.09(0.01)</td>\n",
       "      <td>-0.09(0.01)</td>\n",
       "      <td>-0.02(0.01)</td>\n",
       "    </tr>\n",
       "    <tr>\n",
       "      <th>top-venue</th>\n",
       "      <td></td>\n",
       "      <td></td>\n",
       "      <td></td>\n",
       "      <td></td>\n",
       "      <td>-0.09(0.0)</td>\n",
       "      <td>0.0(0.0)</td>\n",
       "    </tr>\n",
       "    <tr>\n",
       "      <th>quality</th>\n",
       "      <td></td>\n",
       "      <td></td>\n",
       "      <td></td>\n",
       "      <td></td>\n",
       "      <td></td>\n",
       "      <td>0.58(0.01)</td>\n",
       "    </tr>\n",
       "    <tr>\n",
       "      <th>quality first author</th>\n",
       "      <td></td>\n",
       "      <td></td>\n",
       "      <td></td>\n",
       "      <td></td>\n",
       "      <td></td>\n",
       "      <td>0.04(0.01)</td>\n",
       "    </tr>\n",
       "    <tr>\n",
       "      <th>cohort size</th>\n",
       "      <td>292443</td>\n",
       "      <td>292443</td>\n",
       "      <td>292443</td>\n",
       "      <td>292443</td>\n",
       "      <td>292443</td>\n",
       "      <td>292443</td>\n",
       "    </tr>\n",
       "    <tr>\n",
       "      <th>MSE</th>\n",
       "      <td>40.17</td>\n",
       "      <td>31.98</td>\n",
       "      <td>31.97</td>\n",
       "      <td>31.54</td>\n",
       "      <td>31.54</td>\n",
       "      <td>22.95</td>\n",
       "    </tr>\n",
       "    <tr>\n",
       "      <th>intercept</th>\n",
       "      <td>-158.94</td>\n",
       "      <td>-127.67</td>\n",
       "      <td>-128.13</td>\n",
       "      <td>-94.94</td>\n",
       "      <td>-95.42</td>\n",
       "      <td>-50.37</td>\n",
       "    </tr>\n",
       "    <tr>\n",
       "      <th>R2</th>\n",
       "      <td>0.01</td>\n",
       "      <td>0.21</td>\n",
       "      <td>0.21</td>\n",
       "      <td>0.22</td>\n",
       "      <td>0.22</td>\n",
       "      <td>0.43</td>\n",
       "    </tr>\n",
       "    <tr>\n",
       "      <th>Adjusted R2</th>\n",
       "      <td>0.01</td>\n",
       "      <td>0.21</td>\n",
       "      <td>0.21</td>\n",
       "      <td>0.22</td>\n",
       "      <td>0.22</td>\n",
       "      <td>0.43</td>\n",
       "    </tr>\n",
       "  </tbody>\n",
       "</table>\n",
       "</div>"
      ],
      "text/plain": [
       "                       baseline       human       gender       social  \\\n",
       "names                                                                   \n",
       "start year            0.08(0.0)   0.06(0.0)    0.06(0.0)    0.05(0.0)   \n",
       "productivity                     1.01(0.01)   1.01(0.01)   0.88(0.01)   \n",
       "recognition                      1.01(0.02)    1.0(0.01)   0.91(0.01)   \n",
       "prod first author                0.45(0.01)   0.45(0.01)   0.45(0.01)   \n",
       "male                                         -0.09(0.01)   -0.1(0.01)   \n",
       "female                                          0.0(0.0)     0.0(0.0)   \n",
       "none                                          0.07(0.01)   0.04(0.01)   \n",
       "degree                                                     0.05(0.02)   \n",
       "coauthor hindex                                             0.7(0.01)   \n",
       "median team size                                          -0.09(0.01)   \n",
       "top-venue                                                               \n",
       "quality                                                                 \n",
       "quality first author                                                    \n",
       "cohort size              292443      292443       292443       292443   \n",
       "MSE                       40.17       31.98        31.97        31.54   \n",
       "intercept               -158.94     -127.67      -128.13       -94.94   \n",
       "R2                         0.01        0.21         0.21         0.22   \n",
       "Adjusted R2                0.01        0.21         0.21         0.22   \n",
       "\n",
       "                         symbolic   full_model  \n",
       "names                                           \n",
       "start year              0.05(0.0)    0.03(0.0)  \n",
       "productivity           0.89(0.01)   0.68(0.01)  \n",
       "recognition            0.91(0.01)   -0.2(0.01)  \n",
       "prod first author      0.45(0.01)   0.36(0.01)  \n",
       "male                   -0.1(0.01)     0.0(0.0)  \n",
       "female                   0.0(0.0)     0.0(0.0)  \n",
       "none                   0.04(0.01)     0.0(0.0)  \n",
       "degree                 0.05(0.01)   0.01(0.01)  \n",
       "coauthor hindex         0.7(0.01)    0.5(0.01)  \n",
       "median team size      -0.09(0.01)  -0.02(0.01)  \n",
       "top-venue              -0.09(0.0)     0.0(0.0)  \n",
       "quality                             0.58(0.01)  \n",
       "quality first author                0.04(0.01)  \n",
       "cohort size                292443       292443  \n",
       "MSE                         31.54        22.95  \n",
       "intercept                  -95.42       -50.37  \n",
       "R2                           0.22         0.43  \n",
       "Adjusted R2                  0.22         0.43  "
      ]
     },
     "execution_count": 105,
     "metadata": {},
     "output_type": "execute_result"
    }
   ],
   "source": [
    "# STAYED!\n",
    "dv_citations_incr = 'citation_increase_15_3'\n",
    "cit_agg_all_15_3_stay = elastic_agg_all(credible_authors, EARLY_CAREER, RECOGNITION_CUT, dv_citations_incr)\n",
    "results_to_latex(cit_agg_all_15_3_stay, 'agg_citations_15_3_nodrop')\n",
    "# cit_agg_all_15_3_stay"
   ]
  },
  {
   "cell_type": "code",
   "execution_count": 67,
   "metadata": {
    "scrolled": false
   },
   "outputs": [
    {
     "data": {
      "text/html": [
       "<div>\n",
       "<style scoped>\n",
       "    .dataframe tbody tr th:only-of-type {\n",
       "        vertical-align: middle;\n",
       "    }\n",
       "\n",
       "    .dataframe tbody tr th {\n",
       "        vertical-align: top;\n",
       "    }\n",
       "\n",
       "    .dataframe thead th {\n",
       "        text-align: right;\n",
       "    }\n",
       "</style>\n",
       "<table border=\"1\" class=\"dataframe\">\n",
       "  <thead>\n",
       "    <tr style=\"text-align: right;\">\n",
       "      <th></th>\n",
       "      <th>baseline</th>\n",
       "      <th>human</th>\n",
       "      <th>gender</th>\n",
       "      <th>social</th>\n",
       "      <th>symbolic</th>\n",
       "      <th>full_model</th>\n",
       "    </tr>\n",
       "    <tr>\n",
       "      <th>names</th>\n",
       "      <th></th>\n",
       "      <th></th>\n",
       "      <th></th>\n",
       "      <th></th>\n",
       "      <th></th>\n",
       "      <th></th>\n",
       "    </tr>\n",
       "  </thead>\n",
       "  <tbody>\n",
       "    <tr>\n",
       "      <th>Start year</th>\n",
       "      <td>0.08(0.0)</td>\n",
       "      <td>0.06(0.0)</td>\n",
       "      <td>0.06(0.0)</td>\n",
       "      <td>0.05(0.0)</td>\n",
       "      <td>0.05(0.0)</td>\n",
       "      <td>0.03(0.0)</td>\n",
       "    </tr>\n",
       "    <tr>\n",
       "      <th>Productivity</th>\n",
       "      <td></td>\n",
       "      <td>1.01(0.01)</td>\n",
       "      <td>1.01(0.01)</td>\n",
       "      <td>0.88(0.01)</td>\n",
       "      <td>0.89(0.01)</td>\n",
       "      <td>0.68(0.01)</td>\n",
       "    </tr>\n",
       "    <tr>\n",
       "      <th>Productivity (1st)</th>\n",
       "      <td></td>\n",
       "      <td>0.45(0.01)</td>\n",
       "      <td>0.45(0.01)</td>\n",
       "      <td>0.45(0.02)</td>\n",
       "      <td>0.45(0.0)</td>\n",
       "      <td>0.36(0.01)</td>\n",
       "    </tr>\n",
       "    <tr>\n",
       "      <th>Recognition</th>\n",
       "      <td></td>\n",
       "      <td>1.01(0.01)</td>\n",
       "      <td>1.0(0.01)</td>\n",
       "      <td>0.91(0.02)</td>\n",
       "      <td>0.91(0.02)</td>\n",
       "      <td>-0.2(0.01)</td>\n",
       "    </tr>\n",
       "    <tr>\n",
       "      <th>Male</th>\n",
       "      <td></td>\n",
       "      <td></td>\n",
       "      <td>-0.09(0.01)</td>\n",
       "      <td>-0.1(0.01)</td>\n",
       "      <td>-0.1(0.01)</td>\n",
       "      <td>0.0(0.0)</td>\n",
       "    </tr>\n",
       "    <tr>\n",
       "      <th>Female</th>\n",
       "      <td></td>\n",
       "      <td></td>\n",
       "      <td>0.0(0.0)</td>\n",
       "      <td>0.0(0.0)</td>\n",
       "      <td>0.0(0.0)</td>\n",
       "      <td>0.0(0.0)</td>\n",
       "    </tr>\n",
       "    <tr>\n",
       "      <th>Undetected</th>\n",
       "      <td></td>\n",
       "      <td></td>\n",
       "      <td>0.07(0.01)</td>\n",
       "      <td>0.04(0.01)</td>\n",
       "      <td>0.04(0.01)</td>\n",
       "      <td>0.0(0.0)</td>\n",
       "    </tr>\n",
       "    <tr>\n",
       "      <th>Social support</th>\n",
       "      <td></td>\n",
       "      <td></td>\n",
       "      <td></td>\n",
       "      <td>0.05(0.02)</td>\n",
       "      <td>0.05(0.01)</td>\n",
       "      <td>0.01(0.01)</td>\n",
       "    </tr>\n",
       "    <tr>\n",
       "      <th>Senior support</th>\n",
       "      <td></td>\n",
       "      <td></td>\n",
       "      <td></td>\n",
       "      <td>0.7(0.01)</td>\n",
       "      <td>0.7(0.01)</td>\n",
       "      <td>0.5(0.01)</td>\n",
       "    </tr>\n",
       "    <tr>\n",
       "      <th>Median team size</th>\n",
       "      <td></td>\n",
       "      <td></td>\n",
       "      <td></td>\n",
       "      <td>-0.09(0.01)</td>\n",
       "      <td>-0.09(0.01)</td>\n",
       "      <td>-0.02(0.01)</td>\n",
       "    </tr>\n",
       "    <tr>\n",
       "      <th>Top venue</th>\n",
       "      <td></td>\n",
       "      <td></td>\n",
       "      <td></td>\n",
       "      <td></td>\n",
       "      <td>-0.09(0.01)</td>\n",
       "      <td>0.0(0.0)</td>\n",
       "    </tr>\n",
       "    <tr>\n",
       "      <th>Ability</th>\n",
       "      <td></td>\n",
       "      <td></td>\n",
       "      <td></td>\n",
       "      <td></td>\n",
       "      <td></td>\n",
       "      <td>0.58(0.01)</td>\n",
       "    </tr>\n",
       "    <tr>\n",
       "      <th>Ability (1st)</th>\n",
       "      <td></td>\n",
       "      <td></td>\n",
       "      <td></td>\n",
       "      <td></td>\n",
       "      <td></td>\n",
       "      <td>0.04(0.01)</td>\n",
       "    </tr>\n",
       "    <tr>\n",
       "      <th>Cohort size</th>\n",
       "      <td>292443</td>\n",
       "      <td>292443</td>\n",
       "      <td>292443</td>\n",
       "      <td>292443</td>\n",
       "      <td>292443</td>\n",
       "      <td>292443</td>\n",
       "    </tr>\n",
       "    <tr>\n",
       "      <th>MSE</th>\n",
       "      <td>40.17</td>\n",
       "      <td>31.97</td>\n",
       "      <td>31.96</td>\n",
       "      <td>31.55</td>\n",
       "      <td>31.54</td>\n",
       "      <td>22.94</td>\n",
       "    </tr>\n",
       "    <tr>\n",
       "      <th>intercept</th>\n",
       "      <td>-158.94</td>\n",
       "      <td>-127.67</td>\n",
       "      <td>-128.13</td>\n",
       "      <td>-94.94</td>\n",
       "      <td>-95.43</td>\n",
       "      <td>-50.38</td>\n",
       "    </tr>\n",
       "    <tr>\n",
       "      <th>R2</th>\n",
       "      <td>0.01</td>\n",
       "      <td>0.21</td>\n",
       "      <td>0.21</td>\n",
       "      <td>0.22</td>\n",
       "      <td>0.22</td>\n",
       "      <td>0.43</td>\n",
       "    </tr>\n",
       "    <tr>\n",
       "      <th>Adjusted R2</th>\n",
       "      <td></td>\n",
       "      <td></td>\n",
       "      <td></td>\n",
       "      <td></td>\n",
       "      <td></td>\n",
       "      <td></td>\n",
       "    </tr>\n",
       "  </tbody>\n",
       "</table>\n",
       "</div>"
      ],
      "text/plain": [
       "                     baseline       human       gender       social  \\\n",
       "names                                                                 \n",
       "Start year          0.08(0.0)   0.06(0.0)    0.06(0.0)    0.05(0.0)   \n",
       "Productivity                   1.01(0.01)   1.01(0.01)   0.88(0.01)   \n",
       "Productivity (1st)             0.45(0.01)   0.45(0.01)   0.45(0.02)   \n",
       "Recognition                    1.01(0.01)    1.0(0.01)   0.91(0.02)   \n",
       "Male                                       -0.09(0.01)   -0.1(0.01)   \n",
       "Female                                        0.0(0.0)     0.0(0.0)   \n",
       "Undetected                                  0.07(0.01)   0.04(0.01)   \n",
       "Social support                                           0.05(0.02)   \n",
       "Senior support                                            0.7(0.01)   \n",
       "Median team size                                        -0.09(0.01)   \n",
       "Top venue                                                             \n",
       "Ability                                                               \n",
       "Ability (1st)                                                         \n",
       "Cohort size            292443      292443       292443       292443   \n",
       "MSE                     40.17       31.97        31.96        31.55   \n",
       "intercept             -158.94     -127.67      -128.13       -94.94   \n",
       "R2                       0.01        0.21         0.21         0.22   \n",
       "Adjusted R2                                                           \n",
       "\n",
       "                       symbolic   full_model  \n",
       "names                                         \n",
       "Start year            0.05(0.0)    0.03(0.0)  \n",
       "Productivity         0.89(0.01)   0.68(0.01)  \n",
       "Productivity (1st)    0.45(0.0)   0.36(0.01)  \n",
       "Recognition          0.91(0.02)   -0.2(0.01)  \n",
       "Male                 -0.1(0.01)     0.0(0.0)  \n",
       "Female                 0.0(0.0)     0.0(0.0)  \n",
       "Undetected           0.04(0.01)     0.0(0.0)  \n",
       "Social support       0.05(0.01)   0.01(0.01)  \n",
       "Senior support        0.7(0.01)    0.5(0.01)  \n",
       "Median team size    -0.09(0.01)  -0.02(0.01)  \n",
       "Top venue           -0.09(0.01)     0.0(0.0)  \n",
       "Ability                           0.58(0.01)  \n",
       "Ability (1st)                     0.04(0.01)  \n",
       "Cohort size              292443       292443  \n",
       "MSE                       31.54        22.94  \n",
       "intercept                -95.43       -50.38  \n",
       "R2                         0.22         0.43  \n",
       "Adjusted R2                                   "
      ]
     },
     "execution_count": 67,
     "metadata": {},
     "output_type": "execute_result"
    }
   ],
   "source": [
    "dv_citations_incr = 'citation_increase_15_3'\n",
    "cit_agg_all_15_3 = elastic_agg_all(credible_authors, EARLY_CAREER, RECOGNITION_CUT, dv_citations_incr)\n",
    "results_to_latex(cit_agg_all_15_3, 'agg_citations_15_3')\n",
    "cit_agg_all_15_3"
   ]
  },
  {
   "cell_type": "code",
   "execution_count": 68,
   "metadata": {},
   "outputs": [
    {
     "name": "stdout",
     "output_type": "stream",
     "text": [
      "CPU times: user 10h 35min 6s, sys: 18h 58min 21s, total: 1d 5h 33min 28s\n",
      "Wall time: 58min 12s\n"
     ]
    },
    {
     "data": {
      "text/html": [
       "<div>\n",
       "<style scoped>\n",
       "    .dataframe tbody tr th:only-of-type {\n",
       "        vertical-align: middle;\n",
       "    }\n",
       "\n",
       "    .dataframe tbody tr th {\n",
       "        vertical-align: top;\n",
       "    }\n",
       "\n",
       "    .dataframe thead th {\n",
       "        text-align: right;\n",
       "    }\n",
       "</style>\n",
       "<table border=\"1\" class=\"dataframe\">\n",
       "  <thead>\n",
       "    <tr style=\"text-align: right;\">\n",
       "      <th></th>\n",
       "      <th>baseline</th>\n",
       "      <th>human</th>\n",
       "      <th>gender</th>\n",
       "      <th>social</th>\n",
       "      <th>symbolic</th>\n",
       "      <th>full_model</th>\n",
       "    </tr>\n",
       "    <tr>\n",
       "      <th>names</th>\n",
       "      <th></th>\n",
       "      <th></th>\n",
       "      <th></th>\n",
       "      <th></th>\n",
       "      <th></th>\n",
       "      <th></th>\n",
       "    </tr>\n",
       "  </thead>\n",
       "  <tbody>\n",
       "    <tr>\n",
       "      <th>Start year</th>\n",
       "      <td>0.0(0.0)</td>\n",
       "      <td>0.0(0.0)</td>\n",
       "      <td>0.0(0.0)</td>\n",
       "      <td>0.0(0.0)</td>\n",
       "      <td>0.0(0.0)</td>\n",
       "      <td>0.0(0.0)</td>\n",
       "    </tr>\n",
       "    <tr>\n",
       "      <th>Productivity</th>\n",
       "      <td></td>\n",
       "      <td>-0.57(0.0)</td>\n",
       "      <td>-0.58(0.01)</td>\n",
       "      <td>-0.55(0.01)</td>\n",
       "      <td>-0.54(0.0)</td>\n",
       "      <td>-0.53(0.0)</td>\n",
       "    </tr>\n",
       "    <tr>\n",
       "      <th>Productivity (1st)</th>\n",
       "      <td></td>\n",
       "      <td>-0.27(0.01)</td>\n",
       "      <td>-0.27(0.01)</td>\n",
       "      <td>-0.22(0.01)</td>\n",
       "      <td>-0.21(0.01)</td>\n",
       "      <td>-0.2(0.01)</td>\n",
       "    </tr>\n",
       "    <tr>\n",
       "      <th>Recognition</th>\n",
       "      <td></td>\n",
       "      <td>-0.0(0.0)</td>\n",
       "      <td>-0.0(0.0)</td>\n",
       "      <td>0.0(0.0)</td>\n",
       "      <td>0.01(0.0)</td>\n",
       "      <td>0.07(0.0)</td>\n",
       "    </tr>\n",
       "    <tr>\n",
       "      <th>Male</th>\n",
       "      <td></td>\n",
       "      <td></td>\n",
       "      <td>0.05(0.01)</td>\n",
       "      <td>0.06(0.01)</td>\n",
       "      <td>0.06(0.0)</td>\n",
       "      <td>0.06(0.0)</td>\n",
       "    </tr>\n",
       "    <tr>\n",
       "      <th>Female</th>\n",
       "      <td></td>\n",
       "      <td></td>\n",
       "      <td>-0.07(0.01)</td>\n",
       "      <td>-0.07(0.0)</td>\n",
       "      <td>-0.08(0.0)</td>\n",
       "      <td>-0.08(0.0)</td>\n",
       "    </tr>\n",
       "    <tr>\n",
       "      <th>Undetected</th>\n",
       "      <td></td>\n",
       "      <td></td>\n",
       "      <td>0.02(0.0)</td>\n",
       "      <td>0.02(0.0)</td>\n",
       "      <td>0.02(0.0)</td>\n",
       "      <td>0.02(0.0)</td>\n",
       "    </tr>\n",
       "    <tr>\n",
       "      <th>Social support</th>\n",
       "      <td></td>\n",
       "      <td></td>\n",
       "      <td></td>\n",
       "      <td>-0.08(0.0)</td>\n",
       "      <td>-0.08(0.0)</td>\n",
       "      <td>-0.08(0.0)</td>\n",
       "    </tr>\n",
       "    <tr>\n",
       "      <th>Senior support</th>\n",
       "      <td></td>\n",
       "      <td></td>\n",
       "      <td></td>\n",
       "      <td>-0.03(0.0)</td>\n",
       "      <td>-0.01(0.0)</td>\n",
       "      <td>-0.0(0.0)</td>\n",
       "    </tr>\n",
       "    <tr>\n",
       "      <th>Median team size</th>\n",
       "      <td></td>\n",
       "      <td></td>\n",
       "      <td></td>\n",
       "      <td>0.22(0.01)</td>\n",
       "      <td>0.22(0.0)</td>\n",
       "      <td>0.22(0.0)</td>\n",
       "    </tr>\n",
       "    <tr>\n",
       "      <th>Top venue</th>\n",
       "      <td></td>\n",
       "      <td></td>\n",
       "      <td></td>\n",
       "      <td></td>\n",
       "      <td>-0.3(0.01)</td>\n",
       "      <td>-0.29(0.02)</td>\n",
       "    </tr>\n",
       "    <tr>\n",
       "      <th>Ability</th>\n",
       "      <td></td>\n",
       "      <td></td>\n",
       "      <td></td>\n",
       "      <td></td>\n",
       "      <td></td>\n",
       "      <td>-0.02(0.0)</td>\n",
       "    </tr>\n",
       "    <tr>\n",
       "      <th>Ability (1st)</th>\n",
       "      <td></td>\n",
       "      <td></td>\n",
       "      <td></td>\n",
       "      <td></td>\n",
       "      <td></td>\n",
       "      <td>-0.02(0.0)</td>\n",
       "    </tr>\n",
       "    <tr>\n",
       "      <th>Cohort size</th>\n",
       "      <td>292443</td>\n",
       "      <td>292443</td>\n",
       "      <td>292443</td>\n",
       "      <td>292443</td>\n",
       "      <td>292443</td>\n",
       "      <td>292443</td>\n",
       "    </tr>\n",
       "    <tr>\n",
       "      <th>% dropouts</th>\n",
       "      <td>0.592697</td>\n",
       "      <td>0.592697</td>\n",
       "      <td>0.592697</td>\n",
       "      <td>0.592697</td>\n",
       "      <td>0.592697</td>\n",
       "      <td>0.592697</td>\n",
       "    </tr>\n",
       "    <tr>\n",
       "      <th>Average precision</th>\n",
       "      <td>0.58</td>\n",
       "      <td>0.74</td>\n",
       "      <td>0.74</td>\n",
       "      <td>0.76</td>\n",
       "      <td>0.76</td>\n",
       "      <td>0.76</td>\n",
       "    </tr>\n",
       "    <tr>\n",
       "      <th>F1 micro</th>\n",
       "      <td>0.59</td>\n",
       "      <td>0.7</td>\n",
       "      <td>0.7</td>\n",
       "      <td>0.7</td>\n",
       "      <td>0.7</td>\n",
       "      <td>0.7</td>\n",
       "    </tr>\n",
       "    <tr>\n",
       "      <th>F1 macro</th>\n",
       "      <td>0.37</td>\n",
       "      <td>0.65</td>\n",
       "      <td>0.65</td>\n",
       "      <td>0.65</td>\n",
       "      <td>0.66</td>\n",
       "      <td>0.66</td>\n",
       "    </tr>\n",
       "    <tr>\n",
       "      <th>F1 weighted</th>\n",
       "      <td>0.44</td>\n",
       "      <td>0.68</td>\n",
       "      <td>0.68</td>\n",
       "      <td>0.68</td>\n",
       "      <td>0.68</td>\n",
       "      <td>0.68</td>\n",
       "    </tr>\n",
       "  </tbody>\n",
       "</table>\n",
       "</div>"
      ],
      "text/plain": [
       "                    baseline        human       gender       social  \\\n",
       "names                                                                 \n",
       "Start year          0.0(0.0)     0.0(0.0)     0.0(0.0)     0.0(0.0)   \n",
       "Productivity                   -0.57(0.0)  -0.58(0.01)  -0.55(0.01)   \n",
       "Productivity (1st)            -0.27(0.01)  -0.27(0.01)  -0.22(0.01)   \n",
       "Recognition                     -0.0(0.0)    -0.0(0.0)     0.0(0.0)   \n",
       "Male                                        0.05(0.01)   0.06(0.01)   \n",
       "Female                                     -0.07(0.01)   -0.07(0.0)   \n",
       "Undetected                                   0.02(0.0)    0.02(0.0)   \n",
       "Social support                                           -0.08(0.0)   \n",
       "Senior support                                           -0.03(0.0)   \n",
       "Median team size                                         0.22(0.01)   \n",
       "Top venue                                                             \n",
       "Ability                                                               \n",
       "Ability (1st)                                                         \n",
       "Cohort size           292443       292443       292443       292443   \n",
       "% dropouts          0.592697     0.592697     0.592697     0.592697   \n",
       "Average precision       0.58         0.74         0.74         0.76   \n",
       "F1 micro                0.59          0.7          0.7          0.7   \n",
       "F1 macro                0.37         0.65         0.65         0.65   \n",
       "F1 weighted             0.44         0.68         0.68         0.68   \n",
       "\n",
       "                       symbolic   full_model  \n",
       "names                                         \n",
       "Start year             0.0(0.0)     0.0(0.0)  \n",
       "Productivity         -0.54(0.0)   -0.53(0.0)  \n",
       "Productivity (1st)  -0.21(0.01)   -0.2(0.01)  \n",
       "Recognition           0.01(0.0)    0.07(0.0)  \n",
       "Male                  0.06(0.0)    0.06(0.0)  \n",
       "Female               -0.08(0.0)   -0.08(0.0)  \n",
       "Undetected            0.02(0.0)    0.02(0.0)  \n",
       "Social support       -0.08(0.0)   -0.08(0.0)  \n",
       "Senior support       -0.01(0.0)    -0.0(0.0)  \n",
       "Median team size      0.22(0.0)    0.22(0.0)  \n",
       "Top venue            -0.3(0.01)  -0.29(0.02)  \n",
       "Ability                           -0.02(0.0)  \n",
       "Ability (1st)                     -0.02(0.0)  \n",
       "Cohort size              292443       292443  \n",
       "% dropouts             0.592697     0.592697  \n",
       "Average precision          0.76         0.76  \n",
       "F1 micro                    0.7          0.7  \n",
       "F1 macro                   0.66         0.66  \n",
       "F1 weighted                0.68         0.68  "
      ]
     },
     "execution_count": 68,
     "metadata": {},
     "output_type": "execute_result"
    }
   ],
   "source": [
    "%%time\n",
    "drop_agg_all = elastic_agg_all(credible_authors, EARLY_CAREER, RECOGNITION_CUT, dv_dropped)\n",
    "results_to_latex(drop_agg_all, 'agg_dropout')\n",
    "drop_agg_all"
   ]
  },
  {
   "cell_type": "markdown",
   "metadata": {},
   "source": [
    "## Run different configs of the elastic model"
   ]
  },
  {
   "cell_type": "markdown",
   "metadata": {},
   "source": [
    "#### Test train split 80-20"
   ]
  },
  {
   "cell_type": "code",
   "execution_count": 37,
   "metadata": {
    "code_folding": []
   },
   "outputs": [],
   "source": [
    "def run_elastic_predictions_test_train(cols_all, cols_std, categorical_cols, REMOVE_NONE_AUTHORS, EARLY_CAREER):\n",
    "    feature_table = pd.DataFrame(cols_all, columns=['feature']).set_index('feature')\n",
    "    feature_table2 = pd.DataFrame(cols_all, columns=['feature']).set_index('feature')\n",
    "    feature_table3 = pd.DataFrame(cols_all, columns=['feature']).set_index('feature')\n",
    " \n",
    "    for year in [1970,1999,2000,2001,2002]:\n",
    "        credible_authors_year = credible_authors[credible_authors.start_year == year]\n",
    "\n",
    "        X = credible_authors_year.copy()\n",
    "\n",
    "        #remove non-gender rows\n",
    "        if REMOVE_NONE_AUTHORS:\n",
    "            X = X[X[\"gender\"]!=\"none\"]\n",
    "\n",
    "        # Make dummy values for categorical columns\n",
    "        gender_cols = pd.get_dummies(X[categorical_cols])\n",
    "\n",
    "        #if(not REMOVE_NONE_AUTHORS):\n",
    "            # drop gender none?\n",
    "            # this is removing rows gender_none col\n",
    "            #gender_cols.drop('gender_none', axis=1, inplace=True)\n",
    "\n",
    "        #standardize cols_std\n",
    "        if len(cols_std)>0:\n",
    "            standardized_cols = RobustScaler().fit_transform(X[cols_std])\n",
    "\n",
    "\n",
    "        # claudia: here we could do a 20:80 split and save 20% for later test\n",
    "\n",
    "        #combine\n",
    "        H = pd.DataFrame(standardized_cols, index=X.index, columns=cols_std)\n",
    "        if INCLUDE_GENDER:\n",
    "            H = H.join(gender_cols)\n",
    "\n",
    "        y = X[f'h_index_increase_15_{EARLY_CAREER}']\n",
    "        y2 = X[f'citation_increase_15_{EARLY_CAREER}']\n",
    "        y3 = X['dropped_after_10'].astype(int)\n",
    "        \n",
    "        f1_dropout_list=[]\n",
    "        r2_hindex_list=[]\n",
    "        for i in range(10):\n",
    "            #dropouts\n",
    "            X_train, X_test, y_train, y_test = train_test_split(H, y3, test_size=0.2)\n",
    "            rgs = LogisticRegressionCV(cv=3) #, penalty='l2', solver='liblinear'\n",
    "            #rgs = SGDClassifier(alpha=0.0001, average=False, class_weight=None,\n",
    "            #           early_stopping=False, epsilon=0.1, eta0=0.0, fit_intercept=True,\n",
    "            #           l1_ratio=0.15, learning_rate='optimal', loss='hinge', max_iter=1000,\n",
    "            #           n_iter=None, n_iter_no_change=5, n_jobs=None, penalty='l2',\n",
    "            #           power_t=0.5, random_state=None, shuffle=True, tol=0.001,\n",
    "            #           validation_fraction=0.1, verbose=0, warm_start=False)\n",
    "        \n",
    "            rgs.fit(X_train, y_train)\n",
    "            f1_dropout = f1_score(y_test, rgs.predict(X_test))\n",
    "            f1_dropout_list.append(f1_dropout)\n",
    "            \n",
    "            #h-index increase\n",
    "            X_train, X_test, y_train, y_test = train_test_split(H, y, test_size=0.2)\n",
    "            rgs = ElasticNetCV(cv=3)\n",
    "            #rgs = ElasticNetCV(cv=3, random_state=1000, max_iter=10000,\n",
    "            #       alphas=[1.0], l1_ratio=0.5)\n",
    "            rgs.fit(X_train, y_train)\n",
    "            r2_hindex = r2_score(y_test, rgs.predict(X_test))\n",
    "            print(rgs.alpha_)\n",
    "            r2_hindex_list.append(r2_hindex)\n",
    "            \n",
    "        print(f\"Year: {year}, f1_dropout: {np.mean(f1_dropout_list)}\")\n",
    "        print(f\"Year: {year}, r2_hindex: {np.mean(r2_hindex_list)}\")"
   ]
  },
  {
   "cell_type": "code",
   "execution_count": null,
   "metadata": {},
   "outputs": [],
   "source": [
    "INCLUDE_PROD = 1\n",
    "INCLUDE_SOCIAL = 1\n",
    "INCLUDE_REC = 1\n",
    "INCLUDE_GENDER = 1\n",
    "INCLUDE_QUALITY = 1\n",
    "REMOVE_NONE_AUTHORS = 0\n",
    "cols_all, cols_std, categorical_cols = make_cols_lists(INCLUDE_PROD, INCLUDE_SOCIAL, INCLUDE_REC,\n",
    "                                                       INCLUDE_QUALITY, INCLUDE_GENDER, REMOVE_NONE_AUTHORS, EARLY_CAREER, RECOGNITION_CUT)\n",
    "run_elastic_predictions_test_train(cols_all, cols_std, categorical_cols, REMOVE_NONE_AUTHORS, EARLY_CAREER)"
   ]
  },
  {
   "cell_type": "markdown",
   "metadata": {},
   "source": [
    "#### Test predictive power over different number of observed years\n",
    "\n",
    "The goal is to have 3 experiment setups:\n",
    "1. Increase the observed years, and at the same time decrease the prediction window  \n",
    "EC - 3,5,7,9,11,13; DV - 15_3, 15_5, 15_7, 15_9, 15_11, 15_13\n",
    "2. Increase the observed years, but the prediction window stays the same  \n",
    "EC - 3,5,7,9,11,13; DV - 5_3, 7_5, 9_7, 11_9, 13_11, 15_13  \n",
    "EC - 3,5,7,9,11;    DV - 7_3, 9_5, 11_7, 13_9, 15_11  \n",
    "3. Increase the observed years, but predict static dependent variable  \n",
    "EC - 3,5,7,9,11,13; DV - 15"
   ]
  },
  {
   "cell_type": "code",
   "execution_count": 28,
   "metadata": {},
   "outputs": [
    {
     "data": {
      "text/plain": [
       "Index(['author', 'start_year', 'end_year', 'total_num_pub', 'career_length',\n",
       "       'career_length_15', 'gender', 'early_career_qual_3',\n",
       "       'early_career_qual_first_3', 'early_career_qual_6',\n",
       "       'early_career_qual_first_6', 'early_career_qual_9',\n",
       "       'early_career_qual_first_9', 'early_career_qual_12',\n",
       "       'early_career_qual_first_12', 'early_career_recognition_EC3_RC3',\n",
       "       'early_career_recognition_EC6_RC6', 'early_career_recognition_EC9_RC9',\n",
       "       'early_career_recognition_EC12_RC12', 'citation_count_3',\n",
       "       'citation_count_6', 'citation_count_9', 'citation_count_12',\n",
       "       'citation_count_15', 'h-index_3', 'h-index_6', 'h-index_9',\n",
       "       'h-index_12', 'h-index_15', 'early_career_coauthor_max_hindex_3',\n",
       "       'early_career_coauthor_max_hindex_6',\n",
       "       'early_career_coauthor_max_hindex_9',\n",
       "       'early_career_coauthor_max_hindex_12', 'citation_increase_15_3',\n",
       "       'h_index_increase_15_3', 'citation_increase_15_6',\n",
       "       'h_index_increase_15_6', 'citation_increase_15_9',\n",
       "       'h_index_increase_15_9', 'citation_increase_15_12',\n",
       "       'h_index_increase_15_12', 'max_absence_0_15', 'avg_absence_0_15',\n",
       "       'last_consec_ca_0_15', 'dropped_after_5', 'dropped_after_10',\n",
       "       'team_size_median_3', 'team_size_mean_3', 'team_size_median_6',\n",
       "       'team_size_mean_6', 'team_size_median_9', 'team_size_mean_9',\n",
       "       'team_size_median_12', 'team_size_mean_12', 'early_career_degree_3',\n",
       "       'early_career_degree_6', 'early_career_degree_9',\n",
       "       'early_career_degree_12', 'early_career_prod_3', 'early_career_prod_6',\n",
       "       'early_career_prod_9', 'early_career_prod_12', 'h5_index_max_3',\n",
       "       'deciles_min_3', 'quantiles_min_3', 'quantiles_bin_3', 'h5_index_max_6',\n",
       "       'deciles_min_6', 'quantiles_min_6', 'quantiles_bin_6', 'h5_index_max_9',\n",
       "       'deciles_min_9', 'quantiles_min_9', 'quantiles_bin_9',\n",
       "       'h5_index_max_12', 'deciles_min_12', 'quantiles_min_12',\n",
       "       'quantiles_bin_12', 'ec_first_auth_3', 'ec_first_auth_6',\n",
       "       'ec_first_auth_9', 'ec_first_auth_12'],\n",
       "      dtype='object')"
      ]
     },
     "execution_count": 28,
     "metadata": {},
     "output_type": "execute_result"
    }
   ],
   "source": [
    "credible_authors.columns"
   ]
  },
  {
   "cell_type": "code",
   "execution_count": 29,
   "metadata": {},
   "outputs": [],
   "source": [
    "EC_LEN_LIST_EXT = [3,6,9,12]\n",
    "RC_LIST_EXT = [3,6,9,12]\n",
    "step = 3\n",
    "\n",
    "for EARLY_CAREER in EC_LEN_LIST_EXT[:-1]:\n",
    "    credible_authors[f'citation_increase_{EARLY_CAREER+step}_{EARLY_CAREER}'] = credible_authors[\n",
    "        f'citation_count_{EARLY_CAREER+step}'] - credible_authors[f'citation_count_{EARLY_CAREER}']\n",
    "    credible_authors[f'h_index_increase_{EARLY_CAREER+step}_{EARLY_CAREER}'] = credible_authors[\n",
    "        f'h-index_{EARLY_CAREER+step}'] - credible_authors[f'h-index_{EARLY_CAREER}']"
   ]
  },
  {
   "cell_type": "code",
   "execution_count": 30,
   "metadata": {},
   "outputs": [],
   "source": [
    "def get_r2_increase(COHORT_START_YEARS, EARLY_CAREER_LEN_LIST_EXT, RECOGNITION_CUT_OFF_LIST_EXT, DV, dv_mode, data):\n",
    "    r2_increase = pd.DataFrame(index=COHORT_START_YEARS)\n",
    "    for EARLY_CAREER, RECOGNITION_CUT in zip(EARLY_CAREER_LEN_LIST_EXT, RECOGNITION_CUT_OFF_LIST_EXT):\n",
    "#         print(f'{EARLY_CAREER}, {RECOGNITION_CUT}')\n",
    "        if dv_mode == 'fixed': \n",
    "            DV_ = DV\n",
    "        elif dv_mode == 'moving':\n",
    "            DV_ = f'{DV}_{EARLY_CAREER+3}_{EARLY_CAREER}'\n",
    "        elif dv_mode == 'increase': \n",
    "            DV_ = f'{DV}_15_{EARLY_CAREER}'\n",
    "        else: \n",
    "            print('ERROR')\n",
    "            print(DV_)\n",
    "            return\n",
    "        print(DV_)\n",
    "        r2_increase[f'{DV_}_{EARLY_CAREER}'] = elastic_cohort(data, get_full_vars, EARLY_CAREER, RECOGNITION_CUT, DV_)['adj_r2']\n",
    "    return r2_increase"
   ]
  },
  {
   "cell_type": "code",
   "execution_count": 31,
   "metadata": {},
   "outputs": [],
   "source": [
    "credible_authors_no_drop10 = credible_authors[credible_authors.dropped_after_10 == False]"
   ]
  },
  {
   "cell_type": "code",
   "execution_count": 38,
   "metadata": {},
   "outputs": [
    {
     "name": "stdout",
     "output_type": "stream",
     "text": [
      "citation_increase_15_3\n",
      "citation_increase_15_6\n",
      "citation_increase_15_9\n",
      "citation_increase_15_12\n",
      "h_index_increase_15_3\n",
      "h_index_increase_15_6\n",
      "h_index_increase_15_9\n",
      "h_index_increase_15_12\n"
     ]
    },
    {
     "name": "stderr",
     "output_type": "stream",
     "text": [
      "/home/danielkostic/miniconda3/envs/css_default/lib/python3.7/site-packages/sklearn/linear_model/_coordinate_descent.py:476: ConvergenceWarning: Objective did not converge. You might want to increase the number of iterations. Duality gap: 0.07325158229517115, tolerance: 0.017739285714285707\n",
      "  positive)\n",
      "/home/danielkostic/miniconda3/envs/css_default/lib/python3.7/site-packages/sklearn/linear_model/_coordinate_descent.py:472: ConvergenceWarning: Objective did not converge. You might want to increase the number of iterations. Duality gap: 0.026257806184872834, tolerance: 0.016289329805996455\n",
      "  tol, rng, random, positive)\n",
      "/home/danielkostic/miniconda3/envs/css_default/lib/python3.7/site-packages/sklearn/linear_model/_coordinate_descent.py:472: ConvergenceWarning: Objective did not converge. You might want to increase the number of iterations. Duality gap: 0.03012052296607237, tolerance: 0.016289329805996455\n",
      "  tol, rng, random, positive)\n",
      "/home/danielkostic/miniconda3/envs/css_default/lib/python3.7/site-packages/sklearn/linear_model/_coordinate_descent.py:472: ConvergenceWarning: Objective did not converge. You might want to increase the number of iterations. Duality gap: 0.030606385064686492, tolerance: 0.016289329805996455\n",
      "  tol, rng, random, positive)\n",
      "/home/danielkostic/miniconda3/envs/css_default/lib/python3.7/site-packages/sklearn/linear_model/_coordinate_descent.py:472: ConvergenceWarning: Objective did not converge. You might want to increase the number of iterations. Duality gap: 0.03066077336154649, tolerance: 0.016289329805996455\n",
      "  tol, rng, random, positive)\n",
      "/home/danielkostic/miniconda3/envs/css_default/lib/python3.7/site-packages/sklearn/linear_model/_coordinate_descent.py:472: ConvergenceWarning: Objective did not converge. You might want to increase the number of iterations. Duality gap: 0.030646299372037333, tolerance: 0.016289329805996455\n",
      "  tol, rng, random, positive)\n",
      "/home/danielkostic/miniconda3/envs/css_default/lib/python3.7/site-packages/sklearn/linear_model/_coordinate_descent.py:472: ConvergenceWarning: Objective did not converge. You might want to increase the number of iterations. Duality gap: 0.03060892317274977, tolerance: 0.016289329805996455\n",
      "  tol, rng, random, positive)\n",
      "/home/danielkostic/miniconda3/envs/css_default/lib/python3.7/site-packages/sklearn/linear_model/_coordinate_descent.py:472: ConvergenceWarning: Objective did not converge. You might want to increase the number of iterations. Duality gap: 0.03055674128354724, tolerance: 0.016289329805996455\n",
      "  tol, rng, random, positive)\n",
      "/home/danielkostic/miniconda3/envs/css_default/lib/python3.7/site-packages/sklearn/linear_model/_coordinate_descent.py:472: ConvergenceWarning: Objective did not converge. You might want to increase the number of iterations. Duality gap: 0.030493036923715522, tolerance: 0.016289329805996455\n",
      "  tol, rng, random, positive)\n",
      "/home/danielkostic/miniconda3/envs/css_default/lib/python3.7/site-packages/sklearn/linear_model/_coordinate_descent.py:472: ConvergenceWarning: Objective did not converge. You might want to increase the number of iterations. Duality gap: 0.030420231219551397, tolerance: 0.016289329805996455\n",
      "  tol, rng, random, positive)\n",
      "/home/danielkostic/miniconda3/envs/css_default/lib/python3.7/site-packages/sklearn/linear_model/_coordinate_descent.py:472: ConvergenceWarning: Objective did not converge. You might want to increase the number of iterations. Duality gap: 0.030340381087995638, tolerance: 0.016289329805996455\n",
      "  tol, rng, random, positive)\n",
      "/home/danielkostic/miniconda3/envs/css_default/lib/python3.7/site-packages/sklearn/linear_model/_coordinate_descent.py:472: ConvergenceWarning: Objective did not converge. You might want to increase the number of iterations. Duality gap: 0.030255263800611942, tolerance: 0.016289329805996455\n",
      "  tol, rng, random, positive)\n",
      "/home/danielkostic/miniconda3/envs/css_default/lib/python3.7/site-packages/sklearn/linear_model/_coordinate_descent.py:472: ConvergenceWarning: Objective did not converge. You might want to increase the number of iterations. Duality gap: 0.03016641075436155, tolerance: 0.016289329805996455\n",
      "  tol, rng, random, positive)\n",
      "/home/danielkostic/miniconda3/envs/css_default/lib/python3.7/site-packages/sklearn/linear_model/_coordinate_descent.py:472: ConvergenceWarning: Objective did not converge. You might want to increase the number of iterations. Duality gap: 0.030075133588866265, tolerance: 0.016289329805996455\n",
      "  tol, rng, random, positive)\n",
      "/home/danielkostic/miniconda3/envs/css_default/lib/python3.7/site-packages/sklearn/linear_model/_coordinate_descent.py:472: ConvergenceWarning: Objective did not converge. You might want to increase the number of iterations. Duality gap: 0.029982547991096453, tolerance: 0.016289329805996455\n",
      "  tol, rng, random, positive)\n",
      "/home/danielkostic/miniconda3/envs/css_default/lib/python3.7/site-packages/sklearn/linear_model/_coordinate_descent.py:472: ConvergenceWarning: Objective did not converge. You might want to increase the number of iterations. Duality gap: 0.01816916705757876, tolerance: 0.016362610229276885\n",
      "  tol, rng, random, positive)\n",
      "/home/danielkostic/miniconda3/envs/css_default/lib/python3.7/site-packages/sklearn/linear_model/_coordinate_descent.py:472: ConvergenceWarning: Objective did not converge. You might want to increase the number of iterations. Duality gap: 0.02447940299013851, tolerance: 0.016362610229276885\n",
      "  tol, rng, random, positive)\n",
      "/home/danielkostic/miniconda3/envs/css_default/lib/python3.7/site-packages/sklearn/linear_model/_coordinate_descent.py:472: ConvergenceWarning: Objective did not converge. You might want to increase the number of iterations. Duality gap: 0.025167243890976465, tolerance: 0.016362610229276885\n",
      "  tol, rng, random, positive)\n",
      "/home/danielkostic/miniconda3/envs/css_default/lib/python3.7/site-packages/sklearn/linear_model/_coordinate_descent.py:472: ConvergenceWarning: Objective did not converge. You might want to increase the number of iterations. Duality gap: 0.025217127287277208, tolerance: 0.016362610229276885\n",
      "  tol, rng, random, positive)\n",
      "/home/danielkostic/miniconda3/envs/css_default/lib/python3.7/site-packages/sklearn/linear_model/_coordinate_descent.py:472: ConvergenceWarning: Objective did not converge. You might want to increase the number of iterations. Duality gap: 0.025184085475586926, tolerance: 0.016362610229276885\n",
      "  tol, rng, random, positive)\n",
      "/home/danielkostic/miniconda3/envs/css_default/lib/python3.7/site-packages/sklearn/linear_model/_coordinate_descent.py:472: ConvergenceWarning: Objective did not converge. You might want to increase the number of iterations. Duality gap: 0.025128543837780626, tolerance: 0.016362610229276885\n",
      "  tol, rng, random, positive)\n",
      "/home/danielkostic/miniconda3/envs/css_default/lib/python3.7/site-packages/sklearn/linear_model/_coordinate_descent.py:472: ConvergenceWarning: Objective did not converge. You might want to increase the number of iterations. Duality gap: 0.025059323564335045, tolerance: 0.016362610229276885\n",
      "  tol, rng, random, positive)\n",
      "/home/danielkostic/miniconda3/envs/css_default/lib/python3.7/site-packages/sklearn/linear_model/_coordinate_descent.py:472: ConvergenceWarning: Objective did not converge. You might want to increase the number of iterations. Duality gap: 0.024979596892094946, tolerance: 0.016362610229276885\n",
      "  tol, rng, random, positive)\n",
      "/home/danielkostic/miniconda3/envs/css_default/lib/python3.7/site-packages/sklearn/linear_model/_coordinate_descent.py:472: ConvergenceWarning: Objective did not converge. You might want to increase the number of iterations. Duality gap: 0.024891674651073004, tolerance: 0.016362610229276885\n",
      "  tol, rng, random, positive)\n",
      "/home/danielkostic/miniconda3/envs/css_default/lib/python3.7/site-packages/sklearn/linear_model/_coordinate_descent.py:472: ConvergenceWarning: Objective did not converge. You might want to increase the number of iterations. Duality gap: 0.024797528566821825, tolerance: 0.016362610229276885\n",
      "  tol, rng, random, positive)\n",
      "/home/danielkostic/miniconda3/envs/css_default/lib/python3.7/site-packages/sklearn/linear_model/_coordinate_descent.py:472: ConvergenceWarning: Objective did not converge. You might want to increase the number of iterations. Duality gap: 0.024698867919795475, tolerance: 0.016362610229276885\n",
      "  tol, rng, random, positive)\n",
      "/home/danielkostic/miniconda3/envs/css_default/lib/python3.7/site-packages/sklearn/linear_model/_coordinate_descent.py:472: ConvergenceWarning: Objective did not converge. You might want to increase the number of iterations. Duality gap: 0.024597191173711508, tolerance: 0.016362610229276885\n",
      "  tol, rng, random, positive)\n",
      "/home/danielkostic/miniconda3/envs/css_default/lib/python3.7/site-packages/sklearn/linear_model/_coordinate_descent.py:472: ConvergenceWarning: Objective did not converge. You might want to increase the number of iterations. Duality gap: 0.02444268533385241, tolerance: 0.016362610229276885\n",
      "  tol, rng, random, positive)\n",
      "/home/danielkostic/miniconda3/envs/css_default/lib/python3.7/site-packages/sklearn/linear_model/_coordinate_descent.py:472: ConvergenceWarning: Objective did not converge. You might want to increase the number of iterations. Duality gap: 0.024334546796524137, tolerance: 0.016362610229276885\n",
      "  tol, rng, random, positive)\n",
      "/home/danielkostic/miniconda3/envs/css_default/lib/python3.7/site-packages/sklearn/linear_model/_coordinate_descent.py:472: ConvergenceWarning: Objective did not converge. You might want to increase the number of iterations. Duality gap: 0.02423470618360568, tolerance: 0.016362610229276885\n",
      "  tol, rng, random, positive)\n",
      "/home/danielkostic/miniconda3/envs/css_default/lib/python3.7/site-packages/sklearn/linear_model/_coordinate_descent.py:472: ConvergenceWarning: Objective did not converge. You might want to increase the number of iterations. Duality gap: 0.02413572673023623, tolerance: 0.016362610229276885\n",
      "  tol, rng, random, positive)\n",
      "/home/danielkostic/miniconda3/envs/css_default/lib/python3.7/site-packages/sklearn/linear_model/_coordinate_descent.py:472: ConvergenceWarning: Objective did not converge. You might want to increase the number of iterations. Duality gap: 0.017858787416955124, tolerance: 0.01719858906525575\n",
      "  tol, rng, random, positive)\n",
      "/home/danielkostic/miniconda3/envs/css_default/lib/python3.7/site-packages/sklearn/linear_model/_coordinate_descent.py:472: ConvergenceWarning: Objective did not converge. You might want to increase the number of iterations. Duality gap: 0.017812431470687784, tolerance: 0.01719858906525575\n",
      "  tol, rng, random, positive)\n",
      "/home/danielkostic/miniconda3/envs/css_default/lib/python3.7/site-packages/sklearn/linear_model/_coordinate_descent.py:472: ConvergenceWarning: Objective did not converge. You might want to increase the number of iterations. Duality gap: 0.017692746667165693, tolerance: 0.01719858906525575\n",
      "  tol, rng, random, positive)\n",
      "/home/danielkostic/miniconda3/envs/css_default/lib/python3.7/site-packages/sklearn/linear_model/_coordinate_descent.py:472: ConvergenceWarning: Objective did not converge. You might want to increase the number of iterations. Duality gap: 0.017554522231719716, tolerance: 0.01719858906525575\n",
      "  tol, rng, random, positive)\n",
      "/home/danielkostic/miniconda3/envs/css_default/lib/python3.7/site-packages/sklearn/linear_model/_coordinate_descent.py:472: ConvergenceWarning: Objective did not converge. You might want to increase the number of iterations. Duality gap: 0.017404911547615143, tolerance: 0.01719858906525575\n",
      "  tol, rng, random, positive)\n",
      "/home/danielkostic/miniconda3/envs/css_default/lib/python3.7/site-packages/sklearn/linear_model/_coordinate_descent.py:472: ConvergenceWarning: Objective did not converge. You might want to increase the number of iterations. Duality gap: 0.017246986734008374, tolerance: 0.01719858906525575\n",
      "  tol, rng, random, positive)\n",
      "/home/danielkostic/miniconda3/envs/css_default/lib/python3.7/site-packages/sklearn/linear_model/_coordinate_descent.py:472: ConvergenceWarning: Objective did not converge. You might want to increase the number of iterations. Duality gap: 0.017258926938524155, tolerance: 0.01719858906525575\n",
      "  tol, rng, random, positive)\n"
     ]
    },
    {
     "name": "stderr",
     "output_type": "stream",
     "text": [
      "/home/danielkostic/miniconda3/envs/css_default/lib/python3.7/site-packages/sklearn/linear_model/_coordinate_descent.py:472: ConvergenceWarning: Objective did not converge. You might want to increase the number of iterations. Duality gap: 0.01840791343563808, tolerance: 0.016926366843033527\n",
      "  tol, rng, random, positive)\n",
      "/home/danielkostic/miniconda3/envs/css_default/lib/python3.7/site-packages/sklearn/linear_model/_coordinate_descent.py:472: ConvergenceWarning: Objective did not converge. You might want to increase the number of iterations. Duality gap: 0.018410710166335775, tolerance: 0.016926366843033527\n",
      "  tol, rng, random, positive)\n",
      "/home/danielkostic/miniconda3/envs/css_default/lib/python3.7/site-packages/sklearn/linear_model/_coordinate_descent.py:472: ConvergenceWarning: Objective did not converge. You might want to increase the number of iterations. Duality gap: 0.01828098850103288, tolerance: 0.016926366843033527\n",
      "  tol, rng, random, positive)\n",
      "/home/danielkostic/miniconda3/envs/css_default/lib/python3.7/site-packages/sklearn/linear_model/_coordinate_descent.py:472: ConvergenceWarning: Objective did not converge. You might want to increase the number of iterations. Duality gap: 0.018131377002887916, tolerance: 0.016926366843033527\n",
      "  tol, rng, random, positive)\n",
      "/home/danielkostic/miniconda3/envs/css_default/lib/python3.7/site-packages/sklearn/linear_model/_coordinate_descent.py:472: ConvergenceWarning: Objective did not converge. You might want to increase the number of iterations. Duality gap: 0.01797376647256499, tolerance: 0.016926366843033527\n",
      "  tol, rng, random, positive)\n",
      "/home/danielkostic/miniconda3/envs/css_default/lib/python3.7/site-packages/sklearn/linear_model/_coordinate_descent.py:472: ConvergenceWarning: Objective did not converge. You might want to increase the number of iterations. Duality gap: 0.017811180327186094, tolerance: 0.016926366843033527\n",
      "  tol, rng, random, positive)\n",
      "/home/danielkostic/miniconda3/envs/css_default/lib/python3.7/site-packages/sklearn/linear_model/_coordinate_descent.py:472: ConvergenceWarning: Objective did not converge. You might want to increase the number of iterations. Duality gap: 0.017645616983799073, tolerance: 0.016926366843033527\n",
      "  tol, rng, random, positive)\n",
      "/home/danielkostic/miniconda3/envs/css_default/lib/python3.7/site-packages/sklearn/linear_model/_coordinate_descent.py:472: ConvergenceWarning: Objective did not converge. You might want to increase the number of iterations. Duality gap: 0.017478744553244496, tolerance: 0.016926366843033527\n",
      "  tol, rng, random, positive)\n",
      "/home/danielkostic/miniconda3/envs/css_default/lib/python3.7/site-packages/sklearn/linear_model/_coordinate_descent.py:472: ConvergenceWarning: Objective did not converge. You might want to increase the number of iterations. Duality gap: 0.017311983269223674, tolerance: 0.016926366843033527\n",
      "  tol, rng, random, positive)\n",
      "/home/danielkostic/miniconda3/envs/css_default/lib/python3.7/site-packages/sklearn/linear_model/_coordinate_descent.py:472: ConvergenceWarning: Objective did not converge. You might want to increase the number of iterations. Duality gap: 0.017112878591831304, tolerance: 0.016926366843033527\n",
      "  tol, rng, random, positive)\n",
      "/home/danielkostic/miniconda3/envs/css_default/lib/python3.7/site-packages/sklearn/linear_model/_coordinate_descent.py:472: ConvergenceWarning: Objective did not converge. You might want to increase the number of iterations. Duality gap: 0.02574459092463144, tolerance: 0.016708641975308632\n",
      "  tol, rng, random, positive)\n",
      "/home/danielkostic/miniconda3/envs/css_default/lib/python3.7/site-packages/sklearn/linear_model/_coordinate_descent.py:472: ConvergenceWarning: Objective did not converge. You might want to increase the number of iterations. Duality gap: 0.02669495534446753, tolerance: 0.016708641975308632\n",
      "  tol, rng, random, positive)\n",
      "/home/danielkostic/miniconda3/envs/css_default/lib/python3.7/site-packages/sklearn/linear_model/_coordinate_descent.py:472: ConvergenceWarning: Objective did not converge. You might want to increase the number of iterations. Duality gap: 0.02665950532458794, tolerance: 0.016708641975308632\n",
      "  tol, rng, random, positive)\n",
      "/home/danielkostic/miniconda3/envs/css_default/lib/python3.7/site-packages/sklearn/linear_model/_coordinate_descent.py:472: ConvergenceWarning: Objective did not converge. You might want to increase the number of iterations. Duality gap: 0.026507576145121448, tolerance: 0.016708641975308632\n",
      "  tol, rng, random, positive)\n",
      "/home/danielkostic/miniconda3/envs/css_default/lib/python3.7/site-packages/sklearn/linear_model/_coordinate_descent.py:472: ConvergenceWarning: Objective did not converge. You might want to increase the number of iterations. Duality gap: 0.026336843785898623, tolerance: 0.016708641975308632\n",
      "  tol, rng, random, positive)\n",
      "/home/danielkostic/miniconda3/envs/css_default/lib/python3.7/site-packages/sklearn/linear_model/_coordinate_descent.py:472: ConvergenceWarning: Objective did not converge. You might want to increase the number of iterations. Duality gap: 0.026160080055419144, tolerance: 0.016708641975308632\n",
      "  tol, rng, random, positive)\n",
      "/home/danielkostic/miniconda3/envs/css_default/lib/python3.7/site-packages/sklearn/linear_model/_coordinate_descent.py:472: ConvergenceWarning: Objective did not converge. You might want to increase the number of iterations. Duality gap: 0.025980498881665426, tolerance: 0.016708641975308632\n",
      "  tol, rng, random, positive)\n",
      "/home/danielkostic/miniconda3/envs/css_default/lib/python3.7/site-packages/sklearn/linear_model/_coordinate_descent.py:472: ConvergenceWarning: Objective did not converge. You might want to increase the number of iterations. Duality gap: 0.02579999827933932, tolerance: 0.016708641975308632\n",
      "  tol, rng, random, positive)\n",
      "/home/danielkostic/miniconda3/envs/css_default/lib/python3.7/site-packages/sklearn/linear_model/_coordinate_descent.py:472: ConvergenceWarning: Objective did not converge. You might want to increase the number of iterations. Duality gap: 0.025620091469832573, tolerance: 0.016708641975308632\n",
      "  tol, rng, random, positive)\n",
      "/home/danielkostic/miniconda3/envs/css_default/lib/python3.7/site-packages/sklearn/linear_model/_coordinate_descent.py:472: ConvergenceWarning: Objective did not converge. You might want to increase the number of iterations. Duality gap: 0.025442035513862038, tolerance: 0.016708641975308632\n",
      "  tol, rng, random, positive)\n",
      "/home/danielkostic/miniconda3/envs/css_default/lib/python3.7/site-packages/sklearn/linear_model/_coordinate_descent.py:472: ConvergenceWarning: Objective did not converge. You might want to increase the number of iterations. Duality gap: 0.02526686971194181, tolerance: 0.016708641975308632\n",
      "  tol, rng, random, positive)\n",
      "/home/danielkostic/miniconda3/envs/css_default/lib/python3.7/site-packages/sklearn/linear_model/_coordinate_descent.py:472: ConvergenceWarning: Objective did not converge. You might want to increase the number of iterations. Duality gap: 0.025095442326829698, tolerance: 0.016708641975308632\n",
      "  tol, rng, random, positive)\n",
      "/home/danielkostic/miniconda3/envs/css_default/lib/python3.7/site-packages/sklearn/linear_model/_coordinate_descent.py:472: ConvergenceWarning: Objective did not converge. You might want to increase the number of iterations. Duality gap: 0.028478735162792645, tolerance: 0.016926366843033527\n",
      "  tol, rng, random, positive)\n",
      "/home/danielkostic/miniconda3/envs/css_default/lib/python3.7/site-packages/sklearn/linear_model/_coordinate_descent.py:472: ConvergenceWarning: Objective did not converge. You might want to increase the number of iterations. Duality gap: 0.030079727893735253, tolerance: 0.016926366843033527\n",
      "  tol, rng, random, positive)\n",
      "/home/danielkostic/miniconda3/envs/css_default/lib/python3.7/site-packages/sklearn/linear_model/_coordinate_descent.py:472: ConvergenceWarning: Objective did not converge. You might want to increase the number of iterations. Duality gap: 0.03019377291725789, tolerance: 0.016926366843033527\n",
      "  tol, rng, random, positive)\n",
      "/home/danielkostic/miniconda3/envs/css_default/lib/python3.7/site-packages/sklearn/linear_model/_coordinate_descent.py:472: ConvergenceWarning: Objective did not converge. You might want to increase the number of iterations. Duality gap: 0.030110543333208284, tolerance: 0.016926366843033527\n",
      "  tol, rng, random, positive)\n",
      "/home/danielkostic/miniconda3/envs/css_default/lib/python3.7/site-packages/sklearn/linear_model/_coordinate_descent.py:476: ConvergenceWarning: Objective did not converge. You might want to increase the number of iterations. Duality gap: 3.090222992431052, tolerance: 0.018452063492063478\n",
      "  positive)\n"
     ]
    },
    {
     "name": "stderr",
     "output_type": "stream",
     "text": [
      "/home/danielkostic/miniconda3/envs/css_default/lib/python3.7/site-packages/sklearn/linear_model/_coordinate_descent.py:476: ConvergenceWarning: Objective did not converge. You might want to increase the number of iterations. Duality gap: 0.12461969573270437, tolerance: 0.019357063492063516\n",
      "  positive)\n"
     ]
    }
   ],
   "source": [
    "# setup 1. mode - increase. \n",
    "r2_increase_cit_inc = get_r2_increase(COHORT_START_YEARS, EC_LEN_LIST_EXT, RC_LIST_EXT, 'citation_increase', \n",
    "                                  'increase', credible_authors)\n",
    "r2_increase_hind_inc = get_r2_increase(COHORT_START_YEARS, EC_LEN_LIST_EXT, RC_LIST_EXT, 'h_index_increase', \n",
    "                                   'increase', credible_authors)"
   ]
  },
  {
   "cell_type": "code",
   "execution_count": 39,
   "metadata": {},
   "outputs": [
    {
     "name": "stdout",
     "output_type": "stream",
     "text": [
      "citation_increase_15_3\n",
      "citation_increase_15_6\n",
      "citation_increase_15_9\n",
      "citation_increase_15_12\n",
      "h_index_increase_15_3\n",
      "h_index_increase_15_6\n",
      "h_index_increase_15_9\n",
      "h_index_increase_15_12\n"
     ]
    },
    {
     "name": "stderr",
     "output_type": "stream",
     "text": [
      "/home/danielkostic/miniconda3/envs/css_default/lib/python3.7/site-packages/sklearn/linear_model/_coordinate_descent.py:472: ConvergenceWarning: Objective did not converge. You might want to increase the number of iterations. Duality gap: 0.013939738193300855, tolerance: 0.010971907216494842\n",
      "  tol, rng, random, positive)\n",
      "/home/danielkostic/miniconda3/envs/css_default/lib/python3.7/site-packages/sklearn/linear_model/_coordinate_descent.py:472: ConvergenceWarning: Objective did not converge. You might want to increase the number of iterations. Duality gap: 0.014593626619202382, tolerance: 0.010971907216494842\n",
      "  tol, rng, random, positive)\n",
      "/home/danielkostic/miniconda3/envs/css_default/lib/python3.7/site-packages/sklearn/linear_model/_coordinate_descent.py:472: ConvergenceWarning: Objective did not converge. You might want to increase the number of iterations. Duality gap: 0.015023350222620024, tolerance: 0.010971907216494842\n",
      "  tol, rng, random, positive)\n",
      "/home/danielkostic/miniconda3/envs/css_default/lib/python3.7/site-packages/sklearn/linear_model/_coordinate_descent.py:472: ConvergenceWarning: Objective did not converge. You might want to increase the number of iterations. Duality gap: 0.015418358009540611, tolerance: 0.010971907216494842\n",
      "  tol, rng, random, positive)\n",
      "/home/danielkostic/miniconda3/envs/css_default/lib/python3.7/site-packages/sklearn/linear_model/_coordinate_descent.py:472: ConvergenceWarning: Objective did not converge. You might want to increase the number of iterations. Duality gap: 0.015795362691378045, tolerance: 0.010971907216494842\n",
      "  tol, rng, random, positive)\n",
      "/home/danielkostic/miniconda3/envs/css_default/lib/python3.7/site-packages/sklearn/linear_model/_coordinate_descent.py:472: ConvergenceWarning: Objective did not converge. You might want to increase the number of iterations. Duality gap: 0.016156012034258538, tolerance: 0.010971907216494842\n",
      "  tol, rng, random, positive)\n",
      "/home/danielkostic/miniconda3/envs/css_default/lib/python3.7/site-packages/sklearn/linear_model/_coordinate_descent.py:472: ConvergenceWarning: Objective did not converge. You might want to increase the number of iterations. Duality gap: 0.016500668143933694, tolerance: 0.010971907216494842\n",
      "  tol, rng, random, positive)\n",
      "/home/danielkostic/miniconda3/envs/css_default/lib/python3.7/site-packages/sklearn/linear_model/_coordinate_descent.py:472: ConvergenceWarning: Objective did not converge. You might want to increase the number of iterations. Duality gap: 0.016829623475175026, tolerance: 0.010971907216494842\n",
      "  tol, rng, random, positive)\n",
      "/home/danielkostic/miniconda3/envs/css_default/lib/python3.7/site-packages/sklearn/linear_model/_coordinate_descent.py:472: ConvergenceWarning: Objective did not converge. You might want to increase the number of iterations. Duality gap: 0.017143204239005172, tolerance: 0.010971907216494842\n",
      "  tol, rng, random, positive)\n",
      "/home/danielkostic/miniconda3/envs/css_default/lib/python3.7/site-packages/sklearn/linear_model/_coordinate_descent.py:472: ConvergenceWarning: Objective did not converge. You might want to increase the number of iterations. Duality gap: 0.017441774088055695, tolerance: 0.010971907216494842\n",
      "  tol, rng, random, positive)\n",
      "/home/danielkostic/miniconda3/envs/css_default/lib/python3.7/site-packages/sklearn/linear_model/_coordinate_descent.py:472: ConvergenceWarning: Objective did not converge. You might want to increase the number of iterations. Duality gap: 0.017725728889971037, tolerance: 0.010971907216494842\n",
      "  tol, rng, random, positive)\n",
      "/home/danielkostic/miniconda3/envs/css_default/lib/python3.7/site-packages/sklearn/linear_model/_coordinate_descent.py:472: ConvergenceWarning: Objective did not converge. You might want to increase the number of iterations. Duality gap: 0.017995491377732264, tolerance: 0.010971907216494842\n",
      "  tol, rng, random, positive)\n",
      "/home/danielkostic/miniconda3/envs/css_default/lib/python3.7/site-packages/sklearn/linear_model/_coordinate_descent.py:472: ConvergenceWarning: Objective did not converge. You might want to increase the number of iterations. Duality gap: 0.018251505589475414, tolerance: 0.010971907216494842\n",
      "  tol, rng, random, positive)\n",
      "/home/danielkostic/miniconda3/envs/css_default/lib/python3.7/site-packages/sklearn/linear_model/_coordinate_descent.py:472: ConvergenceWarning: Objective did not converge. You might want to increase the number of iterations. Duality gap: 0.018494232534635557, tolerance: 0.010971907216494842\n",
      "  tol, rng, random, positive)\n",
      "/home/danielkostic/miniconda3/envs/css_default/lib/python3.7/site-packages/sklearn/linear_model/_coordinate_descent.py:472: ConvergenceWarning: Objective did not converge. You might want to increase the number of iterations. Duality gap: 0.018724145338964604, tolerance: 0.010971907216494842\n",
      "  tol, rng, random, positive)\n",
      "/home/danielkostic/miniconda3/envs/css_default/lib/python3.7/site-packages/sklearn/linear_model/_coordinate_descent.py:472: ConvergenceWarning: Objective did not converge. You might want to increase the number of iterations. Duality gap: 0.012943559175880637, tolerance: 0.011536246786632393\n",
      "  tol, rng, random, positive)\n",
      "/home/danielkostic/miniconda3/envs/css_default/lib/python3.7/site-packages/sklearn/linear_model/_coordinate_descent.py:472: ConvergenceWarning: Objective did not converge. You might want to increase the number of iterations. Duality gap: 0.01324662382870656, tolerance: 0.011536246786632393\n",
      "  tol, rng, random, positive)\n",
      "/home/danielkostic/miniconda3/envs/css_default/lib/python3.7/site-packages/sklearn/linear_model/_coordinate_descent.py:472: ConvergenceWarning: Objective did not converge. You might want to increase the number of iterations. Duality gap: 0.013436479994851425, tolerance: 0.011536246786632393\n",
      "  tol, rng, random, positive)\n",
      "/home/danielkostic/miniconda3/envs/css_default/lib/python3.7/site-packages/sklearn/linear_model/_coordinate_descent.py:472: ConvergenceWarning: Objective did not converge. You might want to increase the number of iterations. Duality gap: 0.013607066142597546, tolerance: 0.011536246786632393\n",
      "  tol, rng, random, positive)\n",
      "/home/danielkostic/miniconda3/envs/css_default/lib/python3.7/site-packages/sklearn/linear_model/_coordinate_descent.py:472: ConvergenceWarning: Objective did not converge. You might want to increase the number of iterations. Duality gap: 0.013767164158622336, tolerance: 0.011536246786632393\n",
      "  tol, rng, random, positive)\n",
      "/home/danielkostic/miniconda3/envs/css_default/lib/python3.7/site-packages/sklearn/linear_model/_coordinate_descent.py:472: ConvergenceWarning: Objective did not converge. You might want to increase the number of iterations. Duality gap: 0.013917981539250945, tolerance: 0.011536246786632393\n",
      "  tol, rng, random, positive)\n",
      "/home/danielkostic/miniconda3/envs/css_default/lib/python3.7/site-packages/sklearn/linear_model/_coordinate_descent.py:472: ConvergenceWarning: Objective did not converge. You might want to increase the number of iterations. Duality gap: 0.01406003558840041, tolerance: 0.011536246786632393\n",
      "  tol, rng, random, positive)\n",
      "/home/danielkostic/miniconda3/envs/css_default/lib/python3.7/site-packages/sklearn/linear_model/_coordinate_descent.py:472: ConvergenceWarning: Objective did not converge. You might want to increase the number of iterations. Duality gap: 0.014193768950406138, tolerance: 0.011536246786632393\n",
      "  tol, rng, random, positive)\n",
      "/home/danielkostic/miniconda3/envs/css_default/lib/python3.7/site-packages/sklearn/linear_model/_coordinate_descent.py:472: ConvergenceWarning: Objective did not converge. You might want to increase the number of iterations. Duality gap: 0.011247410139475278, tolerance: 0.011220565552699227\n",
      "  tol, rng, random, positive)\n",
      "/home/danielkostic/miniconda3/envs/css_default/lib/python3.7/site-packages/sklearn/linear_model/_coordinate_descent.py:472: ConvergenceWarning: Objective did not converge. You might want to increase the number of iterations. Duality gap: 0.011349744426283337, tolerance: 0.011220565552699227\n",
      "  tol, rng, random, positive)\n",
      "/home/danielkostic/miniconda3/envs/css_default/lib/python3.7/site-packages/sklearn/linear_model/_coordinate_descent.py:472: ConvergenceWarning: Objective did not converge. You might want to increase the number of iterations. Duality gap: 0.011449428373396131, tolerance: 0.011220565552699227\n",
      "  tol, rng, random, positive)\n",
      "/home/danielkostic/miniconda3/envs/css_default/lib/python3.7/site-packages/sklearn/linear_model/_coordinate_descent.py:472: ConvergenceWarning: Objective did not converge. You might want to increase the number of iterations. Duality gap: 0.011542927528651603, tolerance: 0.011220565552699227\n",
      "  tol, rng, random, positive)\n",
      "/home/danielkostic/miniconda3/envs/css_default/lib/python3.7/site-packages/sklearn/linear_model/_coordinate_descent.py:472: ConvergenceWarning: Objective did not converge. You might want to increase the number of iterations. Duality gap: 0.011630322094418943, tolerance: 0.011220565552699227\n",
      "  tol, rng, random, positive)\n"
     ]
    },
    {
     "name": "stderr",
     "output_type": "stream",
     "text": [
      "/home/danielkostic/miniconda3/envs/css_default/lib/python3.7/site-packages/sklearn/linear_model/_coordinate_descent.py:472: ConvergenceWarning: Objective did not converge. You might want to increase the number of iterations. Duality gap: 0.011617162632333589, tolerance: 0.011536246786632393\n",
      "  tol, rng, random, positive)\n",
      "/home/danielkostic/miniconda3/envs/css_default/lib/python3.7/site-packages/sklearn/linear_model/_coordinate_descent.py:472: ConvergenceWarning: Objective did not converge. You might want to increase the number of iterations. Duality gap: 0.011832173941428437, tolerance: 0.011536246786632393\n",
      "  tol, rng, random, positive)\n",
      "/home/danielkostic/miniconda3/envs/css_default/lib/python3.7/site-packages/sklearn/linear_model/_coordinate_descent.py:472: ConvergenceWarning: Objective did not converge. You might want to increase the number of iterations. Duality gap: 0.01204183255694602, tolerance: 0.011536246786632393\n",
      "  tol, rng, random, positive)\n",
      "/home/danielkostic/miniconda3/envs/css_default/lib/python3.7/site-packages/sklearn/linear_model/_coordinate_descent.py:472: ConvergenceWarning: Objective did not converge. You might want to increase the number of iterations. Duality gap: 0.01223960776195554, tolerance: 0.011536246786632393\n",
      "  tol, rng, random, positive)\n",
      "/home/danielkostic/miniconda3/envs/css_default/lib/python3.7/site-packages/sklearn/linear_model/_coordinate_descent.py:472: ConvergenceWarning: Objective did not converge. You might want to increase the number of iterations. Duality gap: 0.012425581351223514, tolerance: 0.011536246786632393\n",
      "  tol, rng, random, positive)\n",
      "/home/danielkostic/miniconda3/envs/css_default/lib/python3.7/site-packages/sklearn/linear_model/_coordinate_descent.py:472: ConvergenceWarning: Objective did not converge. You might want to increase the number of iterations. Duality gap: 0.01260031197098499, tolerance: 0.011536246786632393\n",
      "  tol, rng, random, positive)\n",
      "/home/danielkostic/miniconda3/envs/css_default/lib/python3.7/site-packages/sklearn/linear_model/_coordinate_descent.py:472: ConvergenceWarning: Objective did not converge. You might want to increase the number of iterations. Duality gap: 0.012764382393513074, tolerance: 0.011536246786632393\n",
      "  tol, rng, random, positive)\n",
      "/home/danielkostic/miniconda3/envs/css_default/lib/python3.7/site-packages/sklearn/linear_model/_coordinate_descent.py:472: ConvergenceWarning: Objective did not converge. You might want to increase the number of iterations. Duality gap: 0.01291836286119974, tolerance: 0.011536246786632393\n",
      "  tol, rng, random, positive)\n",
      "/home/danielkostic/miniconda3/envs/css_default/lib/python3.7/site-packages/sklearn/linear_model/_coordinate_descent.py:472: ConvergenceWarning: Objective did not converge. You might want to increase the number of iterations. Duality gap: 0.013062805905619257, tolerance: 0.011536246786632393\n",
      "  tol, rng, random, positive)\n",
      "/home/danielkostic/miniconda3/envs/css_default/lib/python3.7/site-packages/sklearn/linear_model/_coordinate_descent.py:472: ConvergenceWarning: Objective did not converge. You might want to increase the number of iterations. Duality gap: 0.013198244366577683, tolerance: 0.011536246786632393\n",
      "  tol, rng, random, positive)\n",
      "/home/danielkostic/miniconda3/envs/css_default/lib/python3.7/site-packages/sklearn/linear_model/_coordinate_descent.py:472: ConvergenceWarning: Objective did not converge. You might want to increase the number of iterations. Duality gap: 0.013325190210011328, tolerance: 0.011536246786632393\n",
      "  tol, rng, random, positive)\n",
      "/home/danielkostic/miniconda3/envs/css_default/lib/python3.7/site-packages/sklearn/linear_model/_coordinate_descent.py:472: ConvergenceWarning: Objective did not converge. You might want to increase the number of iterations. Duality gap: 0.01344413368880737, tolerance: 0.011536246786632393\n",
      "  tol, rng, random, positive)\n",
      "/home/danielkostic/miniconda3/envs/css_default/lib/python3.7/site-packages/sklearn/linear_model/_coordinate_descent.py:472: ConvergenceWarning: Objective did not converge. You might want to increase the number of iterations. Duality gap: 0.014842255174443153, tolerance: 0.011059640102827758\n",
      "  tol, rng, random, positive)\n",
      "/home/danielkostic/miniconda3/envs/css_default/lib/python3.7/site-packages/sklearn/linear_model/_coordinate_descent.py:472: ConvergenceWarning: Objective did not converge. You might want to increase the number of iterations. Duality gap: 0.015497030270111622, tolerance: 0.011059640102827758\n",
      "  tol, rng, random, positive)\n",
      "/home/danielkostic/miniconda3/envs/css_default/lib/python3.7/site-packages/sklearn/linear_model/_coordinate_descent.py:472: ConvergenceWarning: Objective did not converge. You might want to increase the number of iterations. Duality gap: 0.015860890736533406, tolerance: 0.011059640102827758\n",
      "  tol, rng, random, positive)\n",
      "/home/danielkostic/miniconda3/envs/css_default/lib/python3.7/site-packages/sklearn/linear_model/_coordinate_descent.py:472: ConvergenceWarning: Objective did not converge. You might want to increase the number of iterations. Duality gap: 0.0161824675571296, tolerance: 0.011059640102827758\n",
      "  tol, rng, random, positive)\n",
      "/home/danielkostic/miniconda3/envs/css_default/lib/python3.7/site-packages/sklearn/linear_model/_coordinate_descent.py:472: ConvergenceWarning: Objective did not converge. You might want to increase the number of iterations. Duality gap: 0.016483054716161405, tolerance: 0.011059640102827758\n",
      "  tol, rng, random, positive)\n",
      "/home/danielkostic/miniconda3/envs/css_default/lib/python3.7/site-packages/sklearn/linear_model/_coordinate_descent.py:472: ConvergenceWarning: Objective did not converge. You might want to increase the number of iterations. Duality gap: 0.016765262873903453, tolerance: 0.011059640102827758\n",
      "  tol, rng, random, positive)\n",
      "/home/danielkostic/miniconda3/envs/css_default/lib/python3.7/site-packages/sklearn/linear_model/_coordinate_descent.py:472: ConvergenceWarning: Objective did not converge. You might want to increase the number of iterations. Duality gap: 0.017030146077360087, tolerance: 0.011059640102827758\n",
      "  tol, rng, random, positive)\n",
      "/home/danielkostic/miniconda3/envs/css_default/lib/python3.7/site-packages/sklearn/linear_model/_coordinate_descent.py:472: ConvergenceWarning: Objective did not converge. You might want to increase the number of iterations. Duality gap: 0.01727861604982195, tolerance: 0.011059640102827758\n",
      "  tol, rng, random, positive)\n",
      "/home/danielkostic/miniconda3/envs/css_default/lib/python3.7/site-packages/sklearn/linear_model/_coordinate_descent.py:472: ConvergenceWarning: Objective did not converge. You might want to increase the number of iterations. Duality gap: 0.017511555302192505, tolerance: 0.011059640102827758\n",
      "  tol, rng, random, positive)\n",
      "/home/danielkostic/miniconda3/envs/css_default/lib/python3.7/site-packages/sklearn/linear_model/_coordinate_descent.py:472: ConvergenceWarning: Objective did not converge. You might want to increase the number of iterations. Duality gap: 0.017729821952258362, tolerance: 0.011059640102827758\n",
      "  tol, rng, random, positive)\n",
      "/home/danielkostic/miniconda3/envs/css_default/lib/python3.7/site-packages/sklearn/linear_model/_coordinate_descent.py:472: ConvergenceWarning: Objective did not converge. You might want to increase the number of iterations. Duality gap: 0.01793493133799018, tolerance: 0.011059640102827758\n",
      "  tol, rng, random, positive)\n",
      "/home/danielkostic/miniconda3/envs/css_default/lib/python3.7/site-packages/sklearn/linear_model/_coordinate_descent.py:472: ConvergenceWarning: Objective did not converge. You might want to increase the number of iterations. Duality gap: 0.018123577555300585, tolerance: 0.011059640102827758\n",
      "  tol, rng, random, positive)\n",
      "/home/danielkostic/miniconda3/envs/css_default/lib/python3.7/site-packages/sklearn/linear_model/_coordinate_descent.py:472: ConvergenceWarning: Objective did not converge. You might want to increase the number of iterations. Duality gap: 0.018303017798771748, tolerance: 0.011059640102827758\n",
      "  tol, rng, random, positive)\n",
      "/home/danielkostic/miniconda3/envs/css_default/lib/python3.7/site-packages/sklearn/linear_model/_coordinate_descent.py:472: ConvergenceWarning: Objective did not converge. You might want to increase the number of iterations. Duality gap: 0.011336762798393352, tolerance: 0.011259640102827758\n",
      "  tol, rng, random, positive)\n",
      "/home/danielkostic/miniconda3/envs/css_default/lib/python3.7/site-packages/sklearn/linear_model/_coordinate_descent.py:472: ConvergenceWarning: Objective did not converge. You might want to increase the number of iterations. Duality gap: 0.011493074346859089, tolerance: 0.011259640102827758\n",
      "  tol, rng, random, positive)\n",
      "/home/danielkostic/miniconda3/envs/css_default/lib/python3.7/site-packages/sklearn/linear_model/_coordinate_descent.py:472: ConvergenceWarning: Objective did not converge. You might want to increase the number of iterations. Duality gap: 0.011639405100225986, tolerance: 0.011259640102827758\n",
      "  tol, rng, random, positive)\n",
      "/home/danielkostic/miniconda3/envs/css_default/lib/python3.7/site-packages/sklearn/linear_model/_coordinate_descent.py:472: ConvergenceWarning: Objective did not converge. You might want to increase the number of iterations. Duality gap: 0.011773263590029615, tolerance: 0.011259640102827758\n",
      "  tol, rng, random, positive)\n",
      "/home/danielkostic/miniconda3/envs/css_default/lib/python3.7/site-packages/sklearn/linear_model/_coordinate_descent.py:472: ConvergenceWarning: Objective did not converge. You might want to increase the number of iterations. Duality gap: 0.011895426068960546, tolerance: 0.011259640102827758\n",
      "  tol, rng, random, positive)\n",
      "/home/danielkostic/miniconda3/envs/css_default/lib/python3.7/site-packages/sklearn/linear_model/_coordinate_descent.py:472: ConvergenceWarning: Objective did not converge. You might want to increase the number of iterations. Duality gap: 0.012006834272298761, tolerance: 0.011259640102827758\n",
      "  tol, rng, random, positive)\n",
      "/home/danielkostic/miniconda3/envs/css_default/lib/python3.7/site-packages/sklearn/linear_model/_coordinate_descent.py:472: ConvergenceWarning: Objective did not converge. You might want to increase the number of iterations. Duality gap: 0.012108387174379232, tolerance: 0.011259640102827758\n",
      "  tol, rng, random, positive)\n",
      "/home/danielkostic/miniconda3/envs/css_default/lib/python3.7/site-packages/sklearn/linear_model/_coordinate_descent.py:472: ConvergenceWarning: Objective did not converge. You might want to increase the number of iterations. Duality gap: 0.012200925819229269, tolerance: 0.011259640102827758\n",
      "  tol, rng, random, positive)\n",
      "/home/danielkostic/miniconda3/envs/css_default/lib/python3.7/site-packages/sklearn/linear_model/_coordinate_descent.py:472: ConvergenceWarning: Objective did not converge. You might want to increase the number of iterations. Duality gap: 0.01228523251363356, tolerance: 0.011259640102827758\n",
      "  tol, rng, random, positive)\n",
      "/home/danielkostic/miniconda3/envs/css_default/lib/python3.7/site-packages/sklearn/linear_model/_coordinate_descent.py:472: ConvergenceWarning: Objective did not converge. You might want to increase the number of iterations. Duality gap: 0.012362031882830138, tolerance: 0.011259640102827758\n",
      "  tol, rng, random, positive)\n",
      "/home/danielkostic/miniconda3/envs/css_default/lib/python3.7/site-packages/sklearn/linear_model/_coordinate_descent.py:472: ConvergenceWarning: Objective did not converge. You might want to increase the number of iterations. Duality gap: 0.014537711146658694, tolerance: 0.011068974358974363\n",
      "  tol, rng, random, positive)\n",
      "/home/danielkostic/miniconda3/envs/css_default/lib/python3.7/site-packages/sklearn/linear_model/_coordinate_descent.py:472: ConvergenceWarning: Objective did not converge. You might want to increase the number of iterations. Duality gap: 0.01776156550840824, tolerance: 0.011068974358974363\n",
      "  tol, rng, random, positive)\n",
      "/home/danielkostic/miniconda3/envs/css_default/lib/python3.7/site-packages/sklearn/linear_model/_coordinate_descent.py:472: ConvergenceWarning: Objective did not converge. You might want to increase the number of iterations. Duality gap: 0.018480848128575644, tolerance: 0.011068974358974363\n",
      "  tol, rng, random, positive)\n",
      "/home/danielkostic/miniconda3/envs/css_default/lib/python3.7/site-packages/sklearn/linear_model/_coordinate_descent.py:472: ConvergenceWarning: Objective did not converge. You might want to increase the number of iterations. Duality gap: 0.01891928093564843, tolerance: 0.011068974358974363\n",
      "  tol, rng, random, positive)\n",
      "/home/danielkostic/miniconda3/envs/css_default/lib/python3.7/site-packages/sklearn/linear_model/_coordinate_descent.py:472: ConvergenceWarning: Objective did not converge. You might want to increase the number of iterations. Duality gap: 0.019312664981100625, tolerance: 0.011068974358974363\n",
      "  tol, rng, random, positive)\n",
      "/home/danielkostic/miniconda3/envs/css_default/lib/python3.7/site-packages/sklearn/linear_model/_coordinate_descent.py:472: ConvergenceWarning: Objective did not converge. You might want to increase the number of iterations. Duality gap: 0.01968545441432923, tolerance: 0.011068974358974363\n",
      "  tol, rng, random, positive)\n",
      "/home/danielkostic/miniconda3/envs/css_default/lib/python3.7/site-packages/sklearn/linear_model/_coordinate_descent.py:472: ConvergenceWarning: Objective did not converge. You might want to increase the number of iterations. Duality gap: 0.020040508021253345, tolerance: 0.011068974358974363\n",
      "  tol, rng, random, positive)\n",
      "/home/danielkostic/miniconda3/envs/css_default/lib/python3.7/site-packages/sklearn/linear_model/_coordinate_descent.py:472: ConvergenceWarning: Objective did not converge. You might want to increase the number of iterations. Duality gap: 0.020378493305145184, tolerance: 0.011068974358974363\n",
      "  tol, rng, random, positive)\n",
      "/home/danielkostic/miniconda3/envs/css_default/lib/python3.7/site-packages/sklearn/linear_model/_coordinate_descent.py:472: ConvergenceWarning: Objective did not converge. You might want to increase the number of iterations. Duality gap: 0.020699882534131575, tolerance: 0.011068974358974363\n",
      "  tol, rng, random, positive)\n",
      "/home/danielkostic/miniconda3/envs/css_default/lib/python3.7/site-packages/sklearn/linear_model/_coordinate_descent.py:472: ConvergenceWarning: Objective did not converge. You might want to increase the number of iterations. Duality gap: 0.021005155199006253, tolerance: 0.011068974358974363\n",
      "  tol, rng, random, positive)\n",
      "/home/danielkostic/miniconda3/envs/css_default/lib/python3.7/site-packages/sklearn/linear_model/_coordinate_descent.py:472: ConvergenceWarning: Objective did not converge. You might want to increase the number of iterations. Duality gap: 0.014090761177541822, tolerance: 0.011107692307692306\n",
      "  tol, rng, random, positive)\n",
      "/home/danielkostic/miniconda3/envs/css_default/lib/python3.7/site-packages/sklearn/linear_model/_coordinate_descent.py:472: ConvergenceWarning: Objective did not converge. You might want to increase the number of iterations. Duality gap: 0.019736372114209644, tolerance: 0.011107692307692306\n",
      "  tol, rng, random, positive)\n",
      "/home/danielkostic/miniconda3/envs/css_default/lib/python3.7/site-packages/sklearn/linear_model/_coordinate_descent.py:472: ConvergenceWarning: Objective did not converge. You might want to increase the number of iterations. Duality gap: 0.02064250785976185, tolerance: 0.011107692307692306\n",
      "  tol, rng, random, positive)\n"
     ]
    },
    {
     "name": "stderr",
     "output_type": "stream",
     "text": [
      "/home/danielkostic/miniconda3/envs/css_default/lib/python3.7/site-packages/sklearn/linear_model/_coordinate_descent.py:476: ConvergenceWarning: Objective did not converge. You might want to increase the number of iterations. Duality gap: 0.017168867528894793, tolerance: 0.013201847575057738\n",
      "  positive)\n",
      "/home/danielkostic/miniconda3/envs/css_default/lib/python3.7/site-packages/sklearn/linear_model/_coordinate_descent.py:472: ConvergenceWarning: Objective did not converge. You might want to increase the number of iterations. Duality gap: 0.015433100778054154, tolerance: 0.011745897435897436\n",
      "  tol, rng, random, positive)\n",
      "/home/danielkostic/miniconda3/envs/css_default/lib/python3.7/site-packages/sklearn/linear_model/_coordinate_descent.py:472: ConvergenceWarning: Objective did not converge. You might want to increase the number of iterations. Duality gap: 0.016047187013498387, tolerance: 0.011745897435897436\n",
      "  tol, rng, random, positive)\n",
      "/home/danielkostic/miniconda3/envs/css_default/lib/python3.7/site-packages/sklearn/linear_model/_coordinate_descent.py:472: ConvergenceWarning: Objective did not converge. You might want to increase the number of iterations. Duality gap: 0.016327373504509524, tolerance: 0.011745897435897436\n",
      "  tol, rng, random, positive)\n",
      "/home/danielkostic/miniconda3/envs/css_default/lib/python3.7/site-packages/sklearn/linear_model/_coordinate_descent.py:472: ConvergenceWarning: Objective did not converge. You might want to increase the number of iterations. Duality gap: 0.01656334310612806, tolerance: 0.011745897435897436\n",
      "  tol, rng, random, positive)\n",
      "/home/danielkostic/miniconda3/envs/css_default/lib/python3.7/site-packages/sklearn/linear_model/_coordinate_descent.py:472: ConvergenceWarning: Objective did not converge. You might want to increase the number of iterations. Duality gap: 0.016784037267314034, tolerance: 0.011745897435897436\n",
      "  tol, rng, random, positive)\n"
     ]
    }
   ],
   "source": [
    "# setup 1. mode - increase. no drop\n",
    "r2_increase_cit_inc_nodrop = get_r2_increase(COHORT_START_YEARS, EC_LEN_LIST_EXT, RC_LIST_EXT, 'citation_increase', \n",
    "                                  'increase', credible_authors_no_drop10)\n",
    "r2_increase_hind_inc_nodrop = get_r2_increase(COHORT_START_YEARS, EC_LEN_LIST_EXT, RC_LIST_EXT, 'h_index_increase', \n",
    "                                   'increase', credible_authors_no_drop10)"
   ]
  },
  {
   "cell_type": "code",
   "execution_count": 40,
   "metadata": {},
   "outputs": [
    {
     "name": "stdout",
     "output_type": "stream",
     "text": [
      "citation_increase_6_3\n",
      "citation_increase_9_6\n",
      "citation_increase_12_9\n",
      "citation_increase_15_12\n",
      "h_index_increase_6_3\n",
      "h_index_increase_9_6\n",
      "h_index_increase_12_9\n",
      "h_index_increase_15_12\n"
     ]
    },
    {
     "name": "stderr",
     "output_type": "stream",
     "text": [
      "/home/danielkostic/miniconda3/envs/css_default/lib/python3.7/site-packages/sklearn/linear_model/_coordinate_descent.py:476: ConvergenceWarning: Objective did not converge. You might want to increase the number of iterations. Duality gap: 0.10650885251607178, tolerance: 0.018452063492063474\n",
      "  positive)\n",
      "/home/danielkostic/miniconda3/envs/css_default/lib/python3.7/site-packages/sklearn/linear_model/_coordinate_descent.py:472: ConvergenceWarning: Objective did not converge. You might want to increase the number of iterations. Duality gap: 0.01792356373148607, tolerance: 0.016289329805996455\n",
      "  tol, rng, random, positive)\n",
      "/home/danielkostic/miniconda3/envs/css_default/lib/python3.7/site-packages/sklearn/linear_model/_coordinate_descent.py:472: ConvergenceWarning: Objective did not converge. You might want to increase the number of iterations. Duality gap: 0.017922484407876027, tolerance: 0.016289329805996455\n",
      "  tol, rng, random, positive)\n",
      "/home/danielkostic/miniconda3/envs/css_default/lib/python3.7/site-packages/sklearn/linear_model/_coordinate_descent.py:472: ConvergenceWarning: Objective did not converge. You might want to increase the number of iterations. Duality gap: 0.01776893339578578, tolerance: 0.016289329805996455\n",
      "  tol, rng, random, positive)\n",
      "/home/danielkostic/miniconda3/envs/css_default/lib/python3.7/site-packages/sklearn/linear_model/_coordinate_descent.py:472: ConvergenceWarning: Objective did not converge. You might want to increase the number of iterations. Duality gap: 0.017599915124463905, tolerance: 0.016289329805996455\n",
      "  tol, rng, random, positive)\n",
      "/home/danielkostic/miniconda3/envs/css_default/lib/python3.7/site-packages/sklearn/linear_model/_coordinate_descent.py:472: ConvergenceWarning: Objective did not converge. You might want to increase the number of iterations. Duality gap: 0.017428855066000892, tolerance: 0.016289329805996455\n",
      "  tol, rng, random, positive)\n",
      "/home/danielkostic/miniconda3/envs/css_default/lib/python3.7/site-packages/sklearn/linear_model/_coordinate_descent.py:472: ConvergenceWarning: Objective did not converge. You might want to increase the number of iterations. Duality gap: 0.01725931667820646, tolerance: 0.016289329805996455\n",
      "  tol, rng, random, positive)\n",
      "/home/danielkostic/miniconda3/envs/css_default/lib/python3.7/site-packages/sklearn/linear_model/_coordinate_descent.py:472: ConvergenceWarning: Objective did not converge. You might want to increase the number of iterations. Duality gap: 0.016945430535585615, tolerance: 0.016289329805996455\n",
      "  tol, rng, random, positive)\n",
      "/home/danielkostic/miniconda3/envs/css_default/lib/python3.7/site-packages/sklearn/linear_model/_coordinate_descent.py:472: ConvergenceWarning: Objective did not converge. You might want to increase the number of iterations. Duality gap: 0.016771689761711173, tolerance: 0.016289329805996455\n",
      "  tol, rng, random, positive)\n",
      "/home/danielkostic/miniconda3/envs/css_default/lib/python3.7/site-packages/sklearn/linear_model/_coordinate_descent.py:472: ConvergenceWarning: Objective did not converge. You might want to increase the number of iterations. Duality gap: 0.01661263161371096, tolerance: 0.016289329805996455\n",
      "  tol, rng, random, positive)\n",
      "/home/danielkostic/miniconda3/envs/css_default/lib/python3.7/site-packages/sklearn/linear_model/_coordinate_descent.py:472: ConvergenceWarning: Objective did not converge. You might want to increase the number of iterations. Duality gap: 0.01645771520878725, tolerance: 0.016289329805996455\n",
      "  tol, rng, random, positive)\n",
      "/home/danielkostic/miniconda3/envs/css_default/lib/python3.7/site-packages/sklearn/linear_model/_coordinate_descent.py:472: ConvergenceWarning: Objective did not converge. You might want to increase the number of iterations. Duality gap: 0.01630657864912166, tolerance: 0.016289329805996455\n",
      "  tol, rng, random, positive)\n",
      "/home/danielkostic/miniconda3/envs/css_default/lib/python3.7/site-packages/sklearn/linear_model/_coordinate_descent.py:476: ConvergenceWarning: Objective did not converge. You might want to increase the number of iterations. Duality gap: 0.10512493162401881, tolerance: 0.018397142857142845\n",
      "  positive)\n"
     ]
    }
   ],
   "source": [
    "# setup 2. mode - moving. \n",
    "r2_increase_cit_mov = get_r2_increase(COHORT_START_YEARS, EC_LEN_LIST_EXT, RC_LIST_EXT, 'citation_increase', \n",
    "                                  'moving', credible_authors)\n",
    "r2_increase_hind_mov = get_r2_increase(COHORT_START_YEARS, EC_LEN_LIST_EXT, RC_LIST_EXT, 'h_index_increase', \n",
    "                                   'moving', credible_authors)"
   ]
  },
  {
   "cell_type": "code",
   "execution_count": 41,
   "metadata": {},
   "outputs": [
    {
     "name": "stdout",
     "output_type": "stream",
     "text": [
      "citation_increase_6_3\n",
      "citation_increase_9_6\n",
      "citation_increase_12_9\n",
      "citation_increase_15_12\n"
     ]
    },
    {
     "name": "stderr",
     "output_type": "stream",
     "text": [
      "/home/danielkostic/miniconda3/envs/css_default/lib/python3.7/site-packages/sklearn/linear_model/_coordinate_descent.py:476: ConvergenceWarning: Objective did not converge. You might want to increase the number of iterations. Duality gap: 0.30232075766453903, tolerance: 0.2634906338208879\n",
      "  positive)\n"
     ]
    },
    {
     "name": "stdout",
     "output_type": "stream",
     "text": [
      "h_index_increase_6_3\n",
      "h_index_increase_9_6\n",
      "h_index_increase_12_9\n",
      "h_index_increase_15_12\n"
     ]
    },
    {
     "name": "stderr",
     "output_type": "stream",
     "text": [
      "/home/danielkostic/miniconda3/envs/css_default/lib/python3.7/site-packages/sklearn/linear_model/_coordinate_descent.py:472: ConvergenceWarning: Objective did not converge. You might want to increase the number of iterations. Duality gap: 0.010736034216570545, tolerance: 0.010625897435897435\n",
      "  tol, rng, random, positive)\n",
      "/home/danielkostic/miniconda3/envs/css_default/lib/python3.7/site-packages/sklearn/linear_model/_coordinate_descent.py:472: ConvergenceWarning: Objective did not converge. You might want to increase the number of iterations. Duality gap: 0.01223494086301713, tolerance: 0.010625897435897435\n",
      "  tol, rng, random, positive)\n",
      "/home/danielkostic/miniconda3/envs/css_default/lib/python3.7/site-packages/sklearn/linear_model/_coordinate_descent.py:472: ConvergenceWarning: Objective did not converge. You might want to increase the number of iterations. Duality gap: 0.01249206132599312, tolerance: 0.010625897435897435\n",
      "  tol, rng, random, positive)\n",
      "/home/danielkostic/miniconda3/envs/css_default/lib/python3.7/site-packages/sklearn/linear_model/_coordinate_descent.py:472: ConvergenceWarning: Objective did not converge. You might want to increase the number of iterations. Duality gap: 0.012629583378192422, tolerance: 0.010625897435897435\n",
      "  tol, rng, random, positive)\n",
      "/home/danielkostic/miniconda3/envs/css_default/lib/python3.7/site-packages/sklearn/linear_model/_coordinate_descent.py:472: ConvergenceWarning: Objective did not converge. You might want to increase the number of iterations. Duality gap: 0.012749293268569772, tolerance: 0.010625897435897435\n",
      "  tol, rng, random, positive)\n",
      "/home/danielkostic/miniconda3/envs/css_default/lib/python3.7/site-packages/sklearn/linear_model/_coordinate_descent.py:472: ConvergenceWarning: Objective did not converge. You might want to increase the number of iterations. Duality gap: 0.012860611241450215, tolerance: 0.010625897435897435\n",
      "  tol, rng, random, positive)\n",
      "/home/danielkostic/miniconda3/envs/css_default/lib/python3.7/site-packages/sklearn/linear_model/_coordinate_descent.py:472: ConvergenceWarning: Objective did not converge. You might want to increase the number of iterations. Duality gap: 0.012079460632548944, tolerance: 0.011893589743589743\n",
      "  tol, rng, random, positive)\n",
      "/home/danielkostic/miniconda3/envs/css_default/lib/python3.7/site-packages/sklearn/linear_model/_coordinate_descent.py:472: ConvergenceWarning: Objective did not converge. You might want to increase the number of iterations. Duality gap: 0.012229885038735233, tolerance: 0.011893589743589743\n",
      "  tol, rng, random, positive)\n",
      "/home/danielkostic/miniconda3/envs/css_default/lib/python3.7/site-packages/sklearn/linear_model/_coordinate_descent.py:472: ConvergenceWarning: Objective did not converge. You might want to increase the number of iterations. Duality gap: 0.0123677961251758, tolerance: 0.011893589743589743\n",
      "  tol, rng, random, positive)\n",
      "/home/danielkostic/miniconda3/envs/css_default/lib/python3.7/site-packages/sklearn/linear_model/_coordinate_descent.py:472: ConvergenceWarning: Objective did not converge. You might want to increase the number of iterations. Duality gap: 0.012497364770041486, tolerance: 0.011893589743589743\n",
      "  tol, rng, random, positive)\n",
      "/home/danielkostic/miniconda3/envs/css_default/lib/python3.7/site-packages/sklearn/linear_model/_coordinate_descent.py:472: ConvergenceWarning: Objective did not converge. You might want to increase the number of iterations. Duality gap: 0.0261857178717122, tolerance: 0.011883290488431878\n",
      "  tol, rng, random, positive)\n",
      "/home/danielkostic/miniconda3/envs/css_default/lib/python3.7/site-packages/sklearn/linear_model/_coordinate_descent.py:472: ConvergenceWarning: Objective did not converge. You might want to increase the number of iterations. Duality gap: 0.028816377783414282, tolerance: 0.011883290488431878\n",
      "  tol, rng, random, positive)\n",
      "/home/danielkostic/miniconda3/envs/css_default/lib/python3.7/site-packages/sklearn/linear_model/_coordinate_descent.py:472: ConvergenceWarning: Objective did not converge. You might want to increase the number of iterations. Duality gap: 0.029544983275741288, tolerance: 0.011883290488431878\n",
      "  tol, rng, random, positive)\n",
      "/home/danielkostic/miniconda3/envs/css_default/lib/python3.7/site-packages/sklearn/linear_model/_coordinate_descent.py:472: ConvergenceWarning: Objective did not converge. You might want to increase the number of iterations. Duality gap: 0.029997706463703366, tolerance: 0.011883290488431878\n",
      "  tol, rng, random, positive)\n",
      "/home/danielkostic/miniconda3/envs/css_default/lib/python3.7/site-packages/sklearn/linear_model/_coordinate_descent.py:472: ConvergenceWarning: Objective did not converge. You might want to increase the number of iterations. Duality gap: 0.01849755845516654, tolerance: 0.012083290488431877\n",
      "  tol, rng, random, positive)\n",
      "/home/danielkostic/miniconda3/envs/css_default/lib/python3.7/site-packages/sklearn/linear_model/_coordinate_descent.py:472: ConvergenceWarning: Objective did not converge. You might want to increase the number of iterations. Duality gap: 0.01961934493644435, tolerance: 0.012083290488431877\n",
      "  tol, rng, random, positive)\n",
      "/home/danielkostic/miniconda3/envs/css_default/lib/python3.7/site-packages/sklearn/linear_model/_coordinate_descent.py:472: ConvergenceWarning: Objective did not converge. You might want to increase the number of iterations. Duality gap: 0.020156735772829393, tolerance: 0.012083290488431877\n",
      "  tol, rng, random, positive)\n",
      "/home/danielkostic/miniconda3/envs/css_default/lib/python3.7/site-packages/sklearn/linear_model/_coordinate_descent.py:472: ConvergenceWarning: Objective did not converge. You might want to increase the number of iterations. Duality gap: 0.020617529493904385, tolerance: 0.012083290488431877\n",
      "  tol, rng, random, positive)\n",
      "/home/danielkostic/miniconda3/envs/css_default/lib/python3.7/site-packages/sklearn/linear_model/_coordinate_descent.py:472: ConvergenceWarning: Objective did not converge. You might want to increase the number of iterations. Duality gap: 0.02105197065108655, tolerance: 0.012083290488431877\n",
      "  tol, rng, random, positive)\n",
      "/home/danielkostic/miniconda3/envs/css_default/lib/python3.7/site-packages/sklearn/linear_model/_coordinate_descent.py:472: ConvergenceWarning: Objective did not converge. You might want to increase the number of iterations. Duality gap: 0.02146545214333173, tolerance: 0.012083290488431877\n",
      "  tol, rng, random, positive)\n",
      "/home/danielkostic/miniconda3/envs/css_default/lib/python3.7/site-packages/sklearn/linear_model/_coordinate_descent.py:472: ConvergenceWarning: Objective did not converge. You might want to increase the number of iterations. Duality gap: 0.021858975381320533, tolerance: 0.012083290488431877\n",
      "  tol, rng, random, positive)\n",
      "/home/danielkostic/miniconda3/envs/css_default/lib/python3.7/site-packages/sklearn/linear_model/_coordinate_descent.py:472: ConvergenceWarning: Objective did not converge. You might want to increase the number of iterations. Duality gap: 0.022233136306368806, tolerance: 0.012083290488431877\n",
      "  tol, rng, random, positive)\n",
      "/home/danielkostic/miniconda3/envs/css_default/lib/python3.7/site-packages/sklearn/linear_model/_coordinate_descent.py:472: ConvergenceWarning: Objective did not converge. You might want to increase the number of iterations. Duality gap: 0.02258851826064756, tolerance: 0.012083290488431877\n",
      "  tol, rng, random, positive)\n",
      "/home/danielkostic/miniconda3/envs/css_default/lib/python3.7/site-packages/sklearn/linear_model/_coordinate_descent.py:472: ConvergenceWarning: Objective did not converge. You might want to increase the number of iterations. Duality gap: 0.022925725197808333, tolerance: 0.012083290488431877\n",
      "  tol, rng, random, positive)\n",
      "/home/danielkostic/miniconda3/envs/css_default/lib/python3.7/site-packages/sklearn/linear_model/_coordinate_descent.py:472: ConvergenceWarning: Objective did not converge. You might want to increase the number of iterations. Duality gap: 0.02324538050153535, tolerance: 0.012083290488431877\n",
      "  tol, rng, random, positive)\n",
      "/home/danielkostic/miniconda3/envs/css_default/lib/python3.7/site-packages/sklearn/linear_model/_coordinate_descent.py:472: ConvergenceWarning: Objective did not converge. You might want to increase the number of iterations. Duality gap: 0.023548120854499643, tolerance: 0.012083290488431877\n",
      "  tol, rng, random, positive)\n",
      "/home/danielkostic/miniconda3/envs/css_default/lib/python3.7/site-packages/sklearn/linear_model/_coordinate_descent.py:472: ConvergenceWarning: Objective did not converge. You might want to increase the number of iterations. Duality gap: 0.023834591846679132, tolerance: 0.012083290488431877\n",
      "  tol, rng, random, positive)\n",
      "/home/danielkostic/miniconda3/envs/css_default/lib/python3.7/site-packages/sklearn/linear_model/_coordinate_descent.py:472: ConvergenceWarning: Objective did not converge. You might want to increase the number of iterations. Duality gap: 0.016116009822013666, tolerance: 0.012188174807197949\n",
      "  tol, rng, random, positive)\n",
      "/home/danielkostic/miniconda3/envs/css_default/lib/python3.7/site-packages/sklearn/linear_model/_coordinate_descent.py:472: ConvergenceWarning: Objective did not converge. You might want to increase the number of iterations. Duality gap: 0.01687433222782886, tolerance: 0.012188174807197949\n",
      "  tol, rng, random, positive)\n",
      "/home/danielkostic/miniconda3/envs/css_default/lib/python3.7/site-packages/sklearn/linear_model/_coordinate_descent.py:472: ConvergenceWarning: Objective did not converge. You might want to increase the number of iterations. Duality gap: 0.017328475825209466, tolerance: 0.012188174807197949\n",
      "  tol, rng, random, positive)\n",
      "/home/danielkostic/miniconda3/envs/css_default/lib/python3.7/site-packages/sklearn/linear_model/_coordinate_descent.py:472: ConvergenceWarning: Objective did not converge. You might want to increase the number of iterations. Duality gap: 0.0177381165753161, tolerance: 0.012188174807197949\n",
      "  tol, rng, random, positive)\n",
      "/home/danielkostic/miniconda3/envs/css_default/lib/python3.7/site-packages/sklearn/linear_model/_coordinate_descent.py:472: ConvergenceWarning: Objective did not converge. You might want to increase the number of iterations. Duality gap: 0.018126367874046423, tolerance: 0.012188174807197949\n",
      "  tol, rng, random, positive)\n",
      "/home/danielkostic/miniconda3/envs/css_default/lib/python3.7/site-packages/sklearn/linear_model/_coordinate_descent.py:472: ConvergenceWarning: Objective did not converge. You might want to increase the number of iterations. Duality gap: 0.01849572421026835, tolerance: 0.012188174807197949\n",
      "  tol, rng, random, positive)\n",
      "/home/danielkostic/miniconda3/envs/css_default/lib/python3.7/site-packages/sklearn/linear_model/_coordinate_descent.py:472: ConvergenceWarning: Objective did not converge. You might want to increase the number of iterations. Duality gap: 0.01884688849338545, tolerance: 0.012188174807197949\n",
      "  tol, rng, random, positive)\n",
      "/home/danielkostic/miniconda3/envs/css_default/lib/python3.7/site-packages/sklearn/linear_model/_coordinate_descent.py:472: ConvergenceWarning: Objective did not converge. You might want to increase the number of iterations. Duality gap: 0.019180429448567793, tolerance: 0.012188174807197949\n",
      "  tol, rng, random, positive)\n",
      "/home/danielkostic/miniconda3/envs/css_default/lib/python3.7/site-packages/sklearn/linear_model/_coordinate_descent.py:472: ConvergenceWarning: Objective did not converge. You might want to increase the number of iterations. Duality gap: 0.01949692429197114, tolerance: 0.012188174807197949\n",
      "  tol, rng, random, positive)\n",
      "/home/danielkostic/miniconda3/envs/css_default/lib/python3.7/site-packages/sklearn/linear_model/_coordinate_descent.py:472: ConvergenceWarning: Objective did not converge. You might want to increase the number of iterations. Duality gap: 0.0197969657034065, tolerance: 0.012188174807197949\n",
      "  tol, rng, random, positive)\n",
      "/home/danielkostic/miniconda3/envs/css_default/lib/python3.7/site-packages/sklearn/linear_model/_coordinate_descent.py:472: ConvergenceWarning: Objective did not converge. You might want to increase the number of iterations. Duality gap: 0.020081157669665117, tolerance: 0.012188174807197949\n",
      "  tol, rng, random, positive)\n",
      "/home/danielkostic/miniconda3/envs/css_default/lib/python3.7/site-packages/sklearn/linear_model/_coordinate_descent.py:472: ConvergenceWarning: Objective did not converge. You might want to increase the number of iterations. Duality gap: 0.020350110665873444, tolerance: 0.012188174807197949\n",
      "  tol, rng, random, positive)\n",
      "/home/danielkostic/miniconda3/envs/css_default/lib/python3.7/site-packages/sklearn/linear_model/_coordinate_descent.py:472: ConvergenceWarning: Objective did not converge. You might want to increase the number of iterations. Duality gap: 0.02060443725477512, tolerance: 0.012188174807197949\n",
      "  tol, rng, random, positive)\n",
      "/home/danielkostic/miniconda3/envs/css_default/lib/python3.7/site-packages/sklearn/linear_model/_coordinate_descent.py:472: ConvergenceWarning: Objective did not converge. You might want to increase the number of iterations. Duality gap: 0.020844748881572173, tolerance: 0.012188174807197949\n",
      "  tol, rng, random, positive)\n",
      "/home/danielkostic/miniconda3/envs/css_default/lib/python3.7/site-packages/sklearn/linear_model/_coordinate_descent.py:472: ConvergenceWarning: Objective did not converge. You might want to increase the number of iterations. Duality gap: 0.021071651762980537, tolerance: 0.012188174807197949\n",
      "  tol, rng, random, positive)\n",
      "/home/danielkostic/miniconda3/envs/css_default/lib/python3.7/site-packages/sklearn/linear_model/_coordinate_descent.py:472: ConvergenceWarning: Objective did not converge. You might want to increase the number of iterations. Duality gap: 0.012359800490628459, tolerance: 0.012332307692307688\n",
      "  tol, rng, random, positive)\n",
      "/home/danielkostic/miniconda3/envs/css_default/lib/python3.7/site-packages/sklearn/linear_model/_coordinate_descent.py:472: ConvergenceWarning: Objective did not converge. You might want to increase the number of iterations. Duality gap: 0.01249383262432957, tolerance: 0.012332307692307688\n",
      "  tol, rng, random, positive)\n",
      "/home/danielkostic/miniconda3/envs/css_default/lib/python3.7/site-packages/sklearn/linear_model/_coordinate_descent.py:472: ConvergenceWarning: Objective did not converge. You might want to increase the number of iterations. Duality gap: 0.012624271890160799, tolerance: 0.012332307692307688\n",
      "  tol, rng, random, positive)\n",
      "/home/danielkostic/miniconda3/envs/css_default/lib/python3.7/site-packages/sklearn/linear_model/_coordinate_descent.py:472: ConvergenceWarning: Objective did not converge. You might want to increase the number of iterations. Duality gap: 0.012746793303961113, tolerance: 0.012332307692307688\n",
      "  tol, rng, random, positive)\n",
      "/home/danielkostic/miniconda3/envs/css_default/lib/python3.7/site-packages/sklearn/linear_model/_coordinate_descent.py:472: ConvergenceWarning: Objective did not converge. You might want to increase the number of iterations. Duality gap: 0.012861500774150159, tolerance: 0.012332307692307688\n",
      "  tol, rng, random, positive)\n",
      "/home/danielkostic/miniconda3/envs/css_default/lib/python3.7/site-packages/sklearn/linear_model/_coordinate_descent.py:472: ConvergenceWarning: Objective did not converge. You might want to increase the number of iterations. Duality gap: 0.01296883636373991, tolerance: 0.012332307692307688\n",
      "  tol, rng, random, positive)\n",
      "/home/danielkostic/miniconda3/envs/css_default/lib/python3.7/site-packages/sklearn/linear_model/_coordinate_descent.py:472: ConvergenceWarning: Objective did not converge. You might want to increase the number of iterations. Duality gap: 0.01306924783871466, tolerance: 0.012332307692307688\n",
      "  tol, rng, random, positive)\n"
     ]
    },
    {
     "name": "stderr",
     "output_type": "stream",
     "text": [
      "/home/danielkostic/miniconda3/envs/css_default/lib/python3.7/site-packages/sklearn/linear_model/_coordinate_descent.py:472: ConvergenceWarning: Objective did not converge. You might want to increase the number of iterations. Duality gap: 0.014871391163808312, tolerance: 0.011707692307692308\n",
      "  tol, rng, random, positive)\n",
      "/home/danielkostic/miniconda3/envs/css_default/lib/python3.7/site-packages/sklearn/linear_model/_coordinate_descent.py:472: ConvergenceWarning: Objective did not converge. You might want to increase the number of iterations. Duality gap: 0.01538492745234521, tolerance: 0.011707692307692308\n",
      "  tol, rng, random, positive)\n",
      "/home/danielkostic/miniconda3/envs/css_default/lib/python3.7/site-packages/sklearn/linear_model/_coordinate_descent.py:472: ConvergenceWarning: Objective did not converge. You might want to increase the number of iterations. Duality gap: 0.013228417275769289, tolerance: 0.011100257069408738\n",
      "  tol, rng, random, positive)\n",
      "/home/danielkostic/miniconda3/envs/css_default/lib/python3.7/site-packages/sklearn/linear_model/_coordinate_descent.py:472: ConvergenceWarning: Objective did not converge. You might want to increase the number of iterations. Duality gap: 0.015965852121922808, tolerance: 0.011100257069408738\n",
      "  tol, rng, random, positive)\n",
      "/home/danielkostic/miniconda3/envs/css_default/lib/python3.7/site-packages/sklearn/linear_model/_coordinate_descent.py:472: ConvergenceWarning: Objective did not converge. You might want to increase the number of iterations. Duality gap: 0.01663437887866337, tolerance: 0.011100257069408738\n",
      "  tol, rng, random, positive)\n",
      "/home/danielkostic/miniconda3/envs/css_default/lib/python3.7/site-packages/sklearn/linear_model/_coordinate_descent.py:472: ConvergenceWarning: Objective did not converge. You might want to increase the number of iterations. Duality gap: 0.017098210881698606, tolerance: 0.011100257069408738\n",
      "  tol, rng, random, positive)\n",
      "/home/danielkostic/miniconda3/envs/css_default/lib/python3.7/site-packages/sklearn/linear_model/_coordinate_descent.py:472: ConvergenceWarning: Objective did not converge. You might want to increase the number of iterations. Duality gap: 0.017525597456938158, tolerance: 0.011100257069408738\n",
      "  tol, rng, random, positive)\n",
      "/home/danielkostic/miniconda3/envs/css_default/lib/python3.7/site-packages/sklearn/linear_model/_coordinate_descent.py:472: ConvergenceWarning: Objective did not converge. You might want to increase the number of iterations. Duality gap: 0.017931754360120067, tolerance: 0.011100257069408738\n",
      "  tol, rng, random, positive)\n",
      "/home/danielkostic/miniconda3/envs/css_default/lib/python3.7/site-packages/sklearn/linear_model/_coordinate_descent.py:472: ConvergenceWarning: Objective did not converge. You might want to increase the number of iterations. Duality gap: 0.018318452643242722, tolerance: 0.011100257069408738\n",
      "  tol, rng, random, positive)\n",
      "/home/danielkostic/miniconda3/envs/css_default/lib/python3.7/site-packages/sklearn/linear_model/_coordinate_descent.py:472: ConvergenceWarning: Objective did not converge. You might want to increase the number of iterations. Duality gap: 0.018686304264733167, tolerance: 0.011100257069408738\n",
      "  tol, rng, random, positive)\n",
      "/home/danielkostic/miniconda3/envs/css_default/lib/python3.7/site-packages/sklearn/linear_model/_coordinate_descent.py:472: ConvergenceWarning: Objective did not converge. You might want to increase the number of iterations. Duality gap: 0.019035852116360275, tolerance: 0.011100257069408738\n",
      "  tol, rng, random, positive)\n",
      "/home/danielkostic/miniconda3/envs/css_default/lib/python3.7/site-packages/sklearn/linear_model/_coordinate_descent.py:472: ConvergenceWarning: Objective did not converge. You might want to increase the number of iterations. Duality gap: 0.01936766137797008, tolerance: 0.011100257069408738\n",
      "  tol, rng, random, positive)\n",
      "/home/danielkostic/miniconda3/envs/css_default/lib/python3.7/site-packages/sklearn/linear_model/_coordinate_descent.py:472: ConvergenceWarning: Objective did not converge. You might want to increase the number of iterations. Duality gap: 0.019682320906682094, tolerance: 0.011100257069408738\n",
      "  tol, rng, random, positive)\n",
      "/home/danielkostic/miniconda3/envs/css_default/lib/python3.7/site-packages/sklearn/linear_model/_coordinate_descent.py:472: ConvergenceWarning: Objective did not converge. You might want to increase the number of iterations. Duality gap: 0.019980437323908973, tolerance: 0.011100257069408738\n",
      "  tol, rng, random, positive)\n",
      "/home/danielkostic/miniconda3/envs/css_default/lib/python3.7/site-packages/sklearn/linear_model/_coordinate_descent.py:472: ConvergenceWarning: Objective did not converge. You might want to increase the number of iterations. Duality gap: 0.020262629091760687, tolerance: 0.011100257069408738\n",
      "  tol, rng, random, positive)\n",
      "/home/danielkostic/miniconda3/envs/css_default/lib/python3.7/site-packages/sklearn/linear_model/_coordinate_descent.py:472: ConvergenceWarning: Objective did not converge. You might want to increase the number of iterations. Duality gap: 0.020529521191534172, tolerance: 0.011100257069408738\n",
      "  tol, rng, random, positive)\n",
      "/home/danielkostic/miniconda3/envs/css_default/lib/python3.7/site-packages/sklearn/linear_model/_coordinate_descent.py:472: ConvergenceWarning: Objective did not converge. You might want to increase the number of iterations. Duality gap: 0.020781740725013265, tolerance: 0.011100257069408738\n",
      "  tol, rng, random, positive)\n",
      "/home/danielkostic/miniconda3/envs/css_default/lib/python3.7/site-packages/sklearn/linear_model/_coordinate_descent.py:472: ConvergenceWarning: Objective did not converge. You might want to increase the number of iterations. Duality gap: 0.021019912911953043, tolerance: 0.011100257069408738\n",
      "  tol, rng, random, positive)\n",
      "/home/danielkostic/miniconda3/envs/css_default/lib/python3.7/site-packages/sklearn/linear_model/_coordinate_descent.py:472: ConvergenceWarning: Objective did not converge. You might want to increase the number of iterations. Duality gap: 0.021244657652175647, tolerance: 0.011100257069408738\n",
      "  tol, rng, random, positive)\n",
      "/home/danielkostic/miniconda3/envs/css_default/lib/python3.7/site-packages/sklearn/linear_model/_coordinate_descent.py:472: ConvergenceWarning: Objective did not converge. You might want to increase the number of iterations. Duality gap: 0.01422441983838496, tolerance: 0.011580976863753213\n",
      "  tol, rng, random, positive)\n",
      "/home/danielkostic/miniconda3/envs/css_default/lib/python3.7/site-packages/sklearn/linear_model/_coordinate_descent.py:472: ConvergenceWarning: Objective did not converge. You might want to increase the number of iterations. Duality gap: 0.014731498711824997, tolerance: 0.011580976863753213\n",
      "  tol, rng, random, positive)\n",
      "/home/danielkostic/miniconda3/envs/css_default/lib/python3.7/site-packages/sklearn/linear_model/_coordinate_descent.py:472: ConvergenceWarning: Objective did not converge. You might want to increase the number of iterations. Duality gap: 0.015034854942129527, tolerance: 0.011580976863753213\n",
      "  tol, rng, random, positive)\n",
      "/home/danielkostic/miniconda3/envs/css_default/lib/python3.7/site-packages/sklearn/linear_model/_coordinate_descent.py:472: ConvergenceWarning: Objective did not converge. You might want to increase the number of iterations. Duality gap: 0.015307028970056535, tolerance: 0.011580976863753213\n",
      "  tol, rng, random, positive)\n",
      "/home/danielkostic/miniconda3/envs/css_default/lib/python3.7/site-packages/sklearn/linear_model/_coordinate_descent.py:472: ConvergenceWarning: Objective did not converge. You might want to increase the number of iterations. Duality gap: 0.015563354145541552, tolerance: 0.011580976863753213\n",
      "  tol, rng, random, positive)\n",
      "/home/danielkostic/miniconda3/envs/css_default/lib/python3.7/site-packages/sklearn/linear_model/_coordinate_descent.py:472: ConvergenceWarning: Objective did not converge. You might want to increase the number of iterations. Duality gap: 0.015805679215006307, tolerance: 0.011580976863753213\n",
      "  tol, rng, random, positive)\n",
      "/home/danielkostic/miniconda3/envs/css_default/lib/python3.7/site-packages/sklearn/linear_model/_coordinate_descent.py:472: ConvergenceWarning: Objective did not converge. You might want to increase the number of iterations. Duality gap: 0.016034685399574755, tolerance: 0.011580976863753213\n",
      "  tol, rng, random, positive)\n",
      "/home/danielkostic/miniconda3/envs/css_default/lib/python3.7/site-packages/sklearn/linear_model/_coordinate_descent.py:472: ConvergenceWarning: Objective did not converge. You might want to increase the number of iterations. Duality gap: 0.016250950148474885, tolerance: 0.011580976863753213\n",
      "  tol, rng, random, positive)\n",
      "/home/danielkostic/miniconda3/envs/css_default/lib/python3.7/site-packages/sklearn/linear_model/_coordinate_descent.py:472: ConvergenceWarning: Objective did not converge. You might want to increase the number of iterations. Duality gap: 0.01645503740502363, tolerance: 0.011580976863753213\n",
      "  tol, rng, random, positive)\n",
      "/home/danielkostic/miniconda3/envs/css_default/lib/python3.7/site-packages/sklearn/linear_model/_coordinate_descent.py:472: ConvergenceWarning: Objective did not converge. You might want to increase the number of iterations. Duality gap: 0.016647503096521632, tolerance: 0.011580976863753213\n",
      "  tol, rng, random, positive)\n",
      "/home/danielkostic/miniconda3/envs/css_default/lib/python3.7/site-packages/sklearn/linear_model/_coordinate_descent.py:472: ConvergenceWarning: Objective did not converge. You might want to increase the number of iterations. Duality gap: 0.016828893173411075, tolerance: 0.011580976863753213\n",
      "  tol, rng, random, positive)\n",
      "/home/danielkostic/miniconda3/envs/css_default/lib/python3.7/site-packages/sklearn/linear_model/_coordinate_descent.py:472: ConvergenceWarning: Objective did not converge. You might want to increase the number of iterations. Duality gap: 0.01699974159070905, tolerance: 0.011580976863753213\n",
      "  tol, rng, random, positive)\n",
      "/home/danielkostic/miniconda3/envs/css_default/lib/python3.7/site-packages/sklearn/linear_model/_coordinate_descent.py:472: ConvergenceWarning: Objective did not converge. You might want to increase the number of iterations. Duality gap: 0.017160568893686445, tolerance: 0.011580976863753213\n",
      "  tol, rng, random, positive)\n"
     ]
    }
   ],
   "source": [
    "# setup 2. mode - moving. no drop\n",
    "r2_increase_cit_mov_nodrop = get_r2_increase(COHORT_START_YEARS, EC_LEN_LIST_EXT, RC_LIST_EXT, 'citation_increase', \n",
    "                                  'moving', credible_authors_no_drop10)\n",
    "r2_increase_hind_mov_nodrop = get_r2_increase(COHORT_START_YEARS, EC_LEN_LIST_EXT, RC_LIST_EXT, 'h_index_increase', \n",
    "                                   'moving', credible_authors_no_drop10)"
   ]
  },
  {
   "cell_type": "code",
   "execution_count": 42,
   "metadata": {},
   "outputs": [
    {
     "name": "stdout",
     "output_type": "stream",
     "text": [
      "citation_count_15\n",
      "citation_count_15\n",
      "citation_count_15\n",
      "citation_count_15\n",
      "h-index_15\n",
      "h-index_15\n",
      "h-index_15\n",
      "h-index_15\n"
     ]
    }
   ],
   "source": [
    "# setup 3. mode - fixed. \n",
    "r2_increase_cit_fix = get_r2_increase(COHORT_START_YEARS, EC_LEN_LIST_EXT, RC_LIST_EXT, 'citation_count_15', \n",
    "                                  'fixed', credible_authors)\n",
    "r2_increase_hind_fix = get_r2_increase(COHORT_START_YEARS, EC_LEN_LIST_EXT, RC_LIST_EXT, 'h-index_15', \n",
    "                                   'fixed', credible_authors)"
   ]
  },
  {
   "cell_type": "code",
   "execution_count": 43,
   "metadata": {},
   "outputs": [
    {
     "name": "stdout",
     "output_type": "stream",
     "text": [
      "citation_count_15\n",
      "citation_count_15\n",
      "citation_count_15\n",
      "citation_count_15\n",
      "h-index_15\n",
      "h-index_15\n",
      "h-index_15\n",
      "h-index_15\n"
     ]
    }
   ],
   "source": [
    "# setup 3. mode - fixed. no drop\n",
    "r2_increase_cit_fix_nodrop = get_r2_increase(COHORT_START_YEARS, EC_LEN_LIST_EXT, RC_LIST_EXT, 'citation_count_15', \n",
    "                                  'fixed', credible_authors_no_drop10)\n",
    "r2_increase_hind_fix_nodrop = get_r2_increase(COHORT_START_YEARS, EC_LEN_LIST_EXT, RC_LIST_EXT, 'h-index_15', \n",
    "                                   'fixed', credible_authors_no_drop10)"
   ]
  },
  {
   "cell_type": "code",
   "execution_count": 57,
   "metadata": {},
   "outputs": [],
   "source": [
    "def plot_r2_over_obs_years(r2_increase_cit, r2_increase_hind, letter='', ext=''): #, last_ca=12\n",
    "    linewidth = 2\n",
    "    fontsize = 18\n",
    "    career_ages = [3,6,9,12]\n",
    "    #career_ages = list(range(1, last_ca+1))\n",
    "    fig = plt.figure(figsize=(6, 4))\n",
    "    ax = fig.add_subplot(111)\n",
    "    \n",
    "    if 'inc' in ext: # A\n",
    "        ax.plot(career_ages, r2_increase_cit.mean().values, label='citations $(t,15)$')\n",
    "        ax.plot(career_ages, r2_increase_hind.mean().values, label='h-index $(t,15)$')\n",
    "    elif 'fix' in ext: # B\n",
    "        ax.plot(career_ages, r2_increase_cit.mean().values, label='citations (15)')\n",
    "        ax.plot(career_ages, r2_increase_hind.mean().values, label='h-index (15)')\n",
    "    elif 'mov' in ext: #C\n",
    "        ax.plot(career_ages, r2_increase_cit.mean().values, label='citations $(t,t+3)$')\n",
    "        ax.plot(career_ages, r2_increase_hind.mean().values, label='h-index $(t,t+3)$')\n",
    "\n",
    "    ax.xaxis.set_ticks_position('both')\n",
    "    ax.yaxis.set_ticks_position('both')\n",
    "    ax.set_xticks(career_ages)\n",
    "    ax.set_ylim([0.0, 1.1])\n",
    "\n",
    "    ax.set_xlabel('Number of observed years $t$', fontsize=fontsize)\n",
    "    ax.set_ylabel('Avg. adj. R2 over cohorts', fontsize=fontsize)\n",
    "#     ax.set_title(\"Prediction R2 vs observed years\", fontsize=fontsize)\n",
    "    ax.tick_params(axis=\"x\", which='major', direction=\"in\", width=linewidth, size=4*linewidth, labelsize=fontsize, pad=7)\n",
    "    ax.tick_params(axis=\"x\", which='minor', direction=\"in\", width=linewidth, size=2*linewidth, labelsize=fontsize, pad=7)\n",
    "    ax.tick_params(axis=\"y\", which='major', direction=\"in\", width=linewidth, size=4*linewidth, labelsize=fontsize)\n",
    "    ax.tick_params(axis=\"y\", which='minor', direction=\"in\", width=linewidth, size=2*linewidth, labelsize=fontsize)\n",
    "    ax.spines['left'].set_linewidth(linewidth)\n",
    "    ax.spines['right'].set_linewidth(linewidth)\n",
    "    ax.spines['bottom'].set_linewidth(linewidth)\n",
    "    ax.spines['top'].set_linewidth(linewidth)\n",
    "    ax.legend(fontsize=fontsize/1.5)\n",
    "    plt.gcf().text(0., 0.9, letter, fontsize=fontsize*2)\n",
    "    plt.subplots_adjust(left=0.25, right=0.95, bottom=0.2, top=0.9)\n",
    "    plt.savefig(f'./fig/pred_r2_obs_years_{ext}.pdf')"
   ]
  },
  {
   "cell_type": "code",
   "execution_count": 45,
   "metadata": {},
   "outputs": [
    {
     "data": {
      "image/png": "[encoded data removed]",
      "text/plain": [
       "<Figure size 432x288 with 1 Axes>"
      ]
     },
     "metadata": {
      "needs_background": "light"
     },
     "output_type": "display_data"
    },
    {
     "data": {
      "image/png": "[encoded data removed]",
      "text/plain": [
       "<Figure size 432x288 with 1 Axes>"
      ]
     },
     "metadata": {
      "needs_background": "light"
     },
     "output_type": "display_data"
    },
    {
     "data": {
      "image/png": "[encoded data removed]",
      "text/plain": [
       "<Figure size 432x288 with 1 Axes>"
      ]
     },
     "metadata": {
      "needs_background": "light"
     },
     "output_type": "display_data"
    }
   ],
   "source": [
    "plot_r2_over_obs_years(r2_increase_cit_inc, r2_increase_hind_inc, 'A', ext='inc')\n",
    "plot_r2_over_obs_years(r2_increase_cit_fix, r2_increase_hind_fix, 'B', ext='fix')\n",
    "plot_r2_over_obs_years(r2_increase_cit_mov, r2_increase_hind_mov, 'C', ext='mov')"
   ]
  },
  {
   "cell_type": "code",
   "execution_count": 47,
   "metadata": {},
   "outputs": [
    {
     "data": {
      "image/png": "[encoded data removed]",
      "text/plain": [
       "<Figure size 432x288 with 1 Axes>"
      ]
     },
     "metadata": {
      "needs_background": "light"
     },
     "output_type": "display_data"
    },
    {
     "data": {
      "image/png": "[encoded data removed]",
      "text/plain": [
       "<Figure size 432x288 with 1 Axes>"
      ]
     },
     "metadata": {
      "needs_background": "light"
     },
     "output_type": "display_data"
    },
    {
     "data": {
      "image/png": "[encoded data removed]",
      "text/plain": [
       "<Figure size 432x288 with 1 Axes>"
      ]
     },
     "metadata": {
      "needs_background": "light"
     },
     "output_type": "display_data"
    }
   ],
   "source": [
    "plot_r2_over_obs_years(r2_increase_cit_inc_nodrop, r2_increase_hind_inc_nodrop, 'D', ext='inc_nodrop')\n",
    "plot_r2_over_obs_years(r2_increase_cit_fix_nodrop, r2_increase_hind_fix_nodrop, 'E', ext='fix_nodrop')\n",
    "plot_r2_over_obs_years(r2_increase_cit_mov_nodrop, r2_increase_hind_mov_nodrop, 'F', ext='mov_nodrop')"
   ]
  },
  {
   "cell_type": "markdown",
   "metadata": {
    "heading_collapsed": true
   },
   "source": [
    "#### Test predictive power over different number of years being predicted"
   ]
  },
  {
   "cell_type": "code",
   "execution_count": null,
   "metadata": {
    "hidden": true
   },
   "outputs": [],
   "source": [
    "EARLY_CAREER_LEN_LIST_EXT = [3,5,7,9,11,12]\n",
    "RECOGNITION_CUT_OFF_LIST_EXT = [3,5,7,9,11,12]"
   ]
  },
  {
   "cell_type": "code",
   "execution_count": null,
   "metadata": {
    "hidden": true
   },
   "outputs": [],
   "source": [
    "def get_r2_increase_(COHORT_START_YEARS, EARLY_CAREER_LEN_LIST_EXT, RECOGNITION_CUT_OFF_LIST_EXT, DV):\n",
    "    r2_increase = pd.DataFrame(index=COHORT_START_YEARS)\n",
    "    for EARLY_CAREER, RECOGNITION_CUT in zip(EARLY_CAREER_LEN_LIST_EXT[1:], RECOGNITION_CUT_OFF_LIST_EXT[1:]):\n",
    "        print(f'{EARLY_CAREER}, {RECOGNITION_CUT}')\n",
    "        DV_ = f'{DV}_{EARLY_CAREER}_3'\n",
    "        print(DV_)\n",
    "        r2_increase[f'{DV}_{EARLY_CAREER}_3'] = elastic_cohort(credible_authors, get_full_vars, 3, 3, DV_)['r2']\n",
    "    return r2_increase\n",
    "r2_increase_cit_pred = get_r2_increase_(COHORT_START_YEARS, EARLY_CAREER_LEN_LIST_EXT, RECOGNITION_CUT_OFF_LIST_EXT, 'citation_increase')\n",
    "r2_increase_hind_pred = get_r2_increase_(COHORT_START_YEARS, EARLY_CAREER_LEN_LIST_EXT, RECOGNITION_CUT_OFF_LIST_EXT, 'h_index_increase')"
   ]
  },
  {
   "cell_type": "code",
   "execution_count": null,
   "metadata": {
    "hidden": true
   },
   "outputs": [],
   "source": [
    "linewidth = 2\n",
    "fontsize = 18\n",
    "fig = plt.figure(figsize=(6, 4))\n",
    "ax = fig.add_subplot(111)\n",
    "\n",
    "ax.plot([2,4,6,8,9], r2_increase_cit_pred.mean().values, label='citation inc.')\n",
    "ax.plot([2,4,6,8,9], r2_increase_hind_pred.mean().values, label='h-index inc.')\n",
    "\n",
    "ax.xaxis.set_ticks_position('both')\n",
    "ax.yaxis.set_ticks_position('both')\n",
    "ax.set_xticks([2,4,6,8,9])\n",
    "\n",
    "ax.set_xlabel('Number of years predicted ahead', fontsize=fontsize)\n",
    "ax.set_ylabel('Avg. R2 over cohorts', fontsize=fontsize)\n",
    "ax.set_title(\"Prediction R2 vs years ahead\", fontsize=fontsize)\n",
    "ax.tick_params(axis=\"x\", which='major', direction=\"in\", width=linewidth, size=4*linewidth, labelsize=fontsize, pad=7)\n",
    "ax.tick_params(axis=\"x\", which='minor', direction=\"in\", width=linewidth, size=2*linewidth, labelsize=fontsize, pad=7)\n",
    "ax.tick_params(axis=\"y\", which='major', direction=\"in\", width=linewidth, size=4*linewidth, labelsize=fontsize)\n",
    "ax.tick_params(axis=\"y\", which='minor', direction=\"in\", width=linewidth, size=2*linewidth, labelsize=fontsize)\n",
    "ax.spines['left'].set_linewidth(linewidth)\n",
    "ax.spines['right'].set_linewidth(linewidth)\n",
    "ax.spines['bottom'].set_linewidth(linewidth)\n",
    "ax.spines['top'].set_linewidth(linewidth)\n",
    "ax.legend(fontsize=fontsize/1.5)\n",
    "plt.gcf().text(0., 0.9, 'D', fontsize=fontsize*2)\n",
    "plt.subplots_adjust(left=0.25, right=0.95, bottom=0.2, top=0.9)\n",
    "plt.savefig('./fig/pred_r2_per_years.pdf')"
   ]
  },
  {
   "cell_type": "code",
   "execution_count": null,
   "metadata": {
    "hidden": true
   },
   "outputs": [],
   "source": [
    "stop"
   ]
  },
  {
   "cell_type": "markdown",
   "metadata": {
    "heading_collapsed": true
   },
   "source": [
    "#### predictor diffs"
   ]
  },
  {
   "cell_type": "code",
   "execution_count": null,
   "metadata": {
    "hidden": true
   },
   "outputs": [],
   "source": [
    "h_index = res_cohort_full_hind\n",
    "citations = res_cohort_full_cita"
   ]
  },
  {
   "cell_type": "code",
   "execution_count": null,
   "metadata": {
    "hidden": true
   },
   "outputs": [],
   "source": [
    "plt.plot(h_index['r2'], label='Increase H index')\n",
    "plt.plot(citations['r2'], label='Increase Citations')\n",
    "print(\"Average difference in r squared\", sum(citations['r2']-h_index['r2'])/len(h_index['r2']))\n",
    "# quality was used as a feature!\n",
    "plt.legend()\n",
    "plt.show()"
   ]
  },
  {
   "cell_type": "markdown",
   "metadata": {
    "heading_collapsed": true
   },
   "source": [
    "#### gender diffs"
   ]
  },
  {
   "cell_type": "code",
   "execution_count": null,
   "metadata": {
    "hidden": true
   },
   "outputs": [],
   "source": [
    "# gender coefs\n",
    "plt.plot(res_cohort_full_hind['gender_m'], label=\"Male\")\n",
    "plt.plot(res_cohort_full_hind['gender_f'], label=\"Female\")\n",
    "plt.legend()\n",
    "plt.show()"
   ]
  },
  {
   "cell_type": "code",
   "execution_count": null,
   "metadata": {
    "hidden": true
   },
   "outputs": [],
   "source": [
    "plt.plot(res_cohort_full_hind['gender_m'] - res_cohort_full_hind['gender_f'], label=\"Male-Female diff\")\n",
    "plt.plot(res_cohort_full_hind.index ,np.zeros(len(res_cohort_full_hind)))\n",
    "plt.legend()\n",
    "plt.show()"
   ]
  },
  {
   "cell_type": "markdown",
   "metadata": {
    "heading_collapsed": true
   },
   "source": [
    "#### cohort size diffs"
   ]
  },
  {
   "cell_type": "code",
   "execution_count": null,
   "metadata": {
    "hidden": true
   },
   "outputs": [],
   "source": [
    "fig, ax1 = plt.subplots()\n",
    "# ax1.plot(results['r2'], label='r2')\n",
    "ax1.plot(res_cohort_full_hind['r2'], label='adjusted r2', color='C2')\n",
    "ax1.set_ylim([0,1])\n",
    "ax1.set_xlabel('Years')\n",
    "ax1.set_ylabel('R squared', color='C2')\n",
    "ax1.legend(loc=2)\n",
    "\n",
    "ax2 = ax1.twinx()\n",
    "ax2.plot(res_cohort_full_hind['cohort_size'], label='Cohort size', color='C3')\n",
    "ax2.set_ylabel('Cohort size', color='C3')\n",
    "ax2.legend(loc=4)\n",
    "plt.show()"
   ]
  },
  {
   "cell_type": "markdown",
   "metadata": {
    "heading_collapsed": true
   },
   "source": [
    "#### cheating diffs"
   ]
  },
  {
   "cell_type": "code",
   "execution_count": null,
   "metadata": {
    "hidden": true
   },
   "outputs": [],
   "source": [
    "no_cheating = feature_table2.transpose().copy()"
   ]
  },
  {
   "cell_type": "code",
   "execution_count": null,
   "metadata": {
    "hidden": true
   },
   "outputs": [],
   "source": [
    "cheat_RC5 = feature_table2.transpose().copy()"
   ]
  },
  {
   "cell_type": "code",
   "execution_count": null,
   "metadata": {
    "hidden": true
   },
   "outputs": [],
   "source": [
    "cheat_quality = feature_table2.transpose().copy()"
   ]
  },
  {
   "cell_type": "code",
   "execution_count": null,
   "metadata": {
    "hidden": true
   },
   "outputs": [],
   "source": [
    "# How does removing the quality affect the r squared?\n",
    "plt.plot(with_quality['adj_r2'], label='With quality')\n",
    "plt.plot(cheat_RC5['adj_r2'], label='With recognition year 5')\n",
    "plt.plot(no_cheating['adj_r2'], label='No cheating')\n",
    "print(\"Average difference in r squared\", sum(with_quality['adj_r2']-no_cheating['adj_r2'])/len(cheat_quality))\n",
    "print(np.mean)\n",
    "plt.legend()\n",
    "plt.show()\n",
    "\n",
    "avg = sum(cheat_quality['adj_r2']-no_cheating['adj_r2'])/len(no_cheating)\n",
    "plt.plot(cheat_quality['adj_r2']-no_cheating['adj_r2'], label='Difference')\n",
    "plt.plot(no_cheating.index, [avg]*len(no_cheating), label='Average diff')\n",
    "plt.title(\"Difference between quality(15y) and recognition(3y)\")\n",
    "plt.legend()\n",
    "plt.show()"
   ]
  },
  {
   "cell_type": "markdown",
   "metadata": {
    "heading_collapsed": true
   },
   "source": [
    "#### scaler diffs"
   ]
  },
  {
   "cell_type": "code",
   "execution_count": null,
   "metadata": {
    "hidden": true
   },
   "outputs": [],
   "source": [
    "std_scaler = feature_table2.transpose().copy()"
   ]
  },
  {
   "cell_type": "code",
   "execution_count": null,
   "metadata": {
    "hidden": true
   },
   "outputs": [],
   "source": [
    "rob_scaler = feature_table2.transpose().copy()"
   ]
  },
  {
   "cell_type": "code",
   "execution_count": null,
   "metadata": {
    "hidden": true
   },
   "outputs": [],
   "source": [
    "# How does changing the scaler affect the r squared?\n",
    "plt.plot(std_scaler['adj_r2'], label='Std')\n",
    "plt.plot(rob_scaler['adj_r2'], label='Rob')\n",
    "print(\"Average difference in r squared\", sum(std_scaler['adj_r2']-rob_scaler['adj_r2'])/len(rob_scaler))\n",
    "plt.legend()\n",
    "plt.show()\n",
    "# almost no difference\n",
    "\n",
    "avg = sum(std_scaler['adj_r2']-rob_scaler['adj_r2'])/len(std_scaler)\n",
    "plt.plot(std_scaler['adj_r2']-rob_scaler['adj_r2'], label='Difference')\n",
    "plt.plot(std_scaler.index, [avg]*len(std_scaler), label='Average diff')\n",
    "plt.legend()\n",
    "plt.show()"
   ]
  },
  {
   "cell_type": "code",
   "execution_count": null,
   "metadata": {
    "hidden": true
   },
   "outputs": [],
   "source": [
    "# feature_table3.transpose()"
   ]
  },
  {
   "cell_type": "markdown",
   "metadata": {
    "heading_collapsed": true
   },
   "source": [
    "### Best feature selection"
   ]
  },
  {
   "cell_type": "code",
   "execution_count": null,
   "metadata": {
    "hidden": true
   },
   "outputs": [],
   "source": [
    "from sklearn.feature_selection import SelectKBest, f_regression, mutual_info_regression, RFE, RFECV\n",
    "from collections import defaultdict"
   ]
  },
  {
   "cell_type": "code",
   "execution_count": null,
   "metadata": {
    "hidden": true
   },
   "outputs": [],
   "source": [
    "def show_kbest(data_frame, target, linear_rel=True, k=4):\n",
    "    \"\"\"\n",
    "    Selecting K-Best features for classification\n",
    "    :param data_frame: A pandas dataFrame with the training data\n",
    "    :param target: target variable name in DataFrame\n",
    "    :param k: desired number of features from the data\n",
    "    :returns feature_scores: scores for each feature in the data as \n",
    "    pandas DataFrame\n",
    "    \"\"\"\n",
    "    scores = []\n",
    "    if linear_rel == True: \n",
    "        feat_selector = SelectKBest(f_regression, k=k)\n",
    "        col_name = \"F Score\"\n",
    "    else:\n",
    "        feat_selector = SelectKBest(mutual_info_regression, k=k)\n",
    "        col_name = \"Mutual Information\"\n",
    "    \n",
    "    feat_selector = feat_selector.fit(data_frame, target)\n",
    "    feat_scores = pd.DataFrame()\n",
    "    feat_scores[col_name] = feat_selector.scores_\n",
    "    feat_scores[\"P Value\"] = feat_selector.pvalues_\n",
    "    feat_scores[\"Support\"] = feat_selector.get_support()\n",
    "    feat_scores[\"Attribute\"] = data_frame.columns\n",
    "    \n",
    "    return feat_scores \n",
    "\n",
    "def get_features_rfe(data_frame, target, model,k=5):\n",
    "    \"\"\"\n",
    "    Returns list of features (k specified) selected using RFE for\n",
    "    :param data_frame: A pandas dataFrame with features and labels\n",
    "    :param k: top k features to select  \n",
    "    :returns list: most relevant features \n",
    "    \"\"\"\n",
    "    X = data_frame\n",
    "    y = target\n",
    "    selector = RFE(model, k, step=1)\n",
    "    selector = selector.fit(X, y)\n",
    "#     print(selector.support_)\n",
    "    df = pd.DataFrame({\n",
    "        \"feature\": X.columns,\n",
    "        \"support\": selector.support_\n",
    "    })\n",
    "    return df\n",
    "\n",
    "def get_features_rfecv(data_frame, target, model, cv=3):\n",
    "    \"\"\"\n",
    "    Returns list of features (k specified) selected using RFE for\n",
    "    :param data_frame: A pandas dataFrame with features and labels\n",
    "    :param k: top k features to select  \n",
    "    :returns list: most relevant features \n",
    "    \"\"\"\n",
    "    X = data_frame\n",
    "    y = target\n",
    "    selector = RFECV(model, step=1, cv=cv)\n",
    "    selector = selector.fit(X, y)\n",
    "#     print(selector.support_)\n",
    "    df = pd.DataFrame({\n",
    "        \"feature\": X.columns,\n",
    "        \"support\": selector.support_\n",
    "    })\n",
    "    return df"
   ]
  },
  {
   "cell_type": "code",
   "execution_count": null,
   "metadata": {
    "hidden": true
   },
   "outputs": [],
   "source": [
    "years = credible_authors.start_year.unique()\n",
    "years = sorted(years)"
   ]
  },
  {
   "cell_type": "code",
   "execution_count": null,
   "metadata": {
    "hidden": true
   },
   "outputs": [],
   "source": [
    "df = credible_authors.copy()"
   ]
  },
  {
   "cell_type": "code",
   "execution_count": null,
   "metadata": {
    "hidden": true
   },
   "outputs": [],
   "source": [
    "categorical_cols = ['gender']\n",
    "\n",
    "for col in categorical_cols:\n",
    "    df = df.join(pd.get_dummies(df[categorical_cols]))\n",
    "\n",
    "df.drop(categorical_cols, axis=1, inplace=True)"
   ]
  },
  {
   "cell_type": "markdown",
   "metadata": {
    "hidden": true
   },
   "source": [
    "#### Show k best - F regression or mutual information"
   ]
  },
  {
   "cell_type": "code",
   "execution_count": null,
   "metadata": {
    "hidden": true
   },
   "outputs": [],
   "source": [
    "linear = True\n",
    "# true - fregression\n",
    "# false - mutual info"
   ]
  },
  {
   "cell_type": "code",
   "execution_count": null,
   "metadata": {
    "hidden": true
   },
   "outputs": [],
   "source": [
    "params = []\n",
    "for year in years:\n",
    "    df_year = df[df.start_year == year]\n",
    "    df_year = df_year.drop('start_year', axis=1)\n",
    "#     for EARLY_CAREER in EARLY_CAREER_LEN_LIST:\n",
    "#         for RECOGNITION_CUT in RECOGNITION_CUT_OFF_LIST:\n",
    "#             if RECOGNITION_CUT < EARLY_CAREER: continue\n",
    "    EARLY_CAREER = 3\n",
    "    RECOGNITION_CUT= 5\n",
    "    X_year = df_year[['max_absence-0-3', 'avg_absence-0-3', \n",
    "           'gender_f', 'gender_m', 'gender_none',\n",
    "           f'early_career_degree_{EARLY_CAREER}', \n",
    "           f'early_career_prod_{EARLY_CAREER}',\n",
    "           f'early_career_qual_{EARLY_CAREER}', f'early_career_recognition_EC{EARLY_CAREER}_RC{RECOGNITION_CUT}']]\n",
    "    y_year = df_year['succ_after_15y']\n",
    "    params.append(show_kbest(X_year, y_year, linear, 5))"
   ]
  },
  {
   "cell_type": "code",
   "execution_count": null,
   "metadata": {
    "hidden": true
   },
   "outputs": [],
   "source": [
    "params[0]"
   ]
  },
  {
   "cell_type": "code",
   "execution_count": null,
   "metadata": {
    "hidden": true
   },
   "outputs": [],
   "source": [
    "selected_f = defaultdict(int)\n",
    "for param in params:\n",
    "    selected = param[param.Support == True]['Attribute'].values\n",
    "    selected_f['total'] += 1\n",
    "#     print(selected)\n",
    "    for select in selected:\n",
    "        selected_f[select] += 1"
   ]
  },
  {
   "cell_type": "code",
   "execution_count": null,
   "metadata": {
    "hidden": true
   },
   "outputs": [],
   "source": [
    "selected_f"
   ]
  },
  {
   "cell_type": "markdown",
   "metadata": {
    "hidden": true
   },
   "source": [
    "#### RFE"
   ]
  },
  {
   "cell_type": "code",
   "execution_count": null,
   "metadata": {
    "hidden": true
   },
   "outputs": [],
   "source": [
    "params_rfe = []\n",
    "for year in years:\n",
    "    df_year = df[df.start_year == year]\n",
    "    df_year = df_year.drop('start_year', axis=1)\n",
    "#     for EARLY_CAREER in EARLY_CAREER_LEN_LIST:\n",
    "#         for RECOGNITION_CUT in RECOGNITION_CUT_OFF_LIST:\n",
    "#             if RECOGNITION_CUT < EARLY_CAREER: continue\n",
    "    EARLY_CAREER = 3\n",
    "    RECOGNITION_CUT= 5\n",
    "    X_year = df_year[[\n",
    "        #'max_absence-0-3', 'avg_absence-0-3', \n",
    "           'gender_f', 'gender_m', 'gender_none',\n",
    "           f'early_career_degree_{EARLY_CAREER}', \n",
    "           f'early_career_prod_{EARLY_CAREER}',\n",
    "           f'early_career_qual_{EARLY_CAREER}', f'early_career_recognition_EC{EARLY_CAREER}_RC{RECOGNITION_CUT}']]\n",
    "    y_year = df_year['succ_after_15y']\n",
    "    params_rfe.append(get_features_rfe(X_year, y_year, LinearRegression(),k=5))"
   ]
  },
  {
   "cell_type": "code",
   "execution_count": null,
   "metadata": {
    "hidden": true
   },
   "outputs": [],
   "source": [
    "selected_f = defaultdict(int)\n",
    "for param in params_rfe:\n",
    "    selected = param[param.support == True]['feature'].values\n",
    "    selected_f['total'] += 1\n",
    "#     print(selected)\n",
    "    for select in selected:\n",
    "        selected_f[select] += 1"
   ]
  },
  {
   "cell_type": "code",
   "execution_count": null,
   "metadata": {
    "hidden": true
   },
   "outputs": [],
   "source": [
    "selected_f"
   ]
  },
  {
   "cell_type": "markdown",
   "metadata": {
    "hidden": true
   },
   "source": [
    "#### RFE CV"
   ]
  },
  {
   "cell_type": "code",
   "execution_count": null,
   "metadata": {
    "hidden": true
   },
   "outputs": [],
   "source": [
    "params_rfecv = []\n",
    "for year in years:\n",
    "    df_year = df[df.start_year == year]\n",
    "    df_year = df_year.drop('start_year', axis=1)\n",
    "#     for EARLY_CAREER in EARLY_CAREER_LEN_LIST:\n",
    "#         for RECOGNITION_CUT in RECOGNITION_CUT_OFF_LIST:\n",
    "#             if RECOGNITION_CUT < EARLY_CAREER: continue\n",
    "    EARLY_CAREER = 3\n",
    "    RECOGNITION_CUT= 5\n",
    "    X_year = df_year[['max_absence-0-3', 'avg_absence-0-3', \n",
    "           'gender_f', 'gender_m', 'gender_none',\n",
    "           f'early_career_degree_{EARLY_CAREER}', \n",
    "           f'early_career_prod_{EARLY_CAREER}',\n",
    "           f'early_career_qual_{EARLY_CAREER}', f'early_career_recognition_EC{EARLY_CAREER}_RC{RECOGNITION_CUT}']]\n",
    "    y_year = df_year['succ_after_15y']\n",
    "    params_rfecv.append(get_features_rfecv(X_year, y_year, LinearRegression(),cv=3))"
   ]
  },
  {
   "cell_type": "code",
   "execution_count": null,
   "metadata": {
    "hidden": true
   },
   "outputs": [],
   "source": [
    "selected_f = defaultdict(int)\n",
    "for param in params_rfecv:\n",
    "    selected = param[param.support == True]['feature'].values\n",
    "    selected_f['total'] += 1\n",
    "#     print(selected)\n",
    "    for select in selected:\n",
    "        selected_f[select] += 1"
   ]
  },
  {
   "cell_type": "code",
   "execution_count": null,
   "metadata": {
    "hidden": true
   },
   "outputs": [],
   "source": [
    "selected_f"
   ]
  },
  {
   "cell_type": "markdown",
   "metadata": {
    "heading_collapsed": true
   },
   "source": [
    "### Null experiment"
   ]
  },
  {
   "cell_type": "code",
   "execution_count": null,
   "metadata": {
    "hidden": true
   },
   "outputs": [],
   "source": [
    "citations_per_year = pd.read_csv('derived-data/paper-citation-count.csv', header=None, names=['pub_id', 'cit_count'])"
   ]
  },
  {
   "cell_type": "code",
   "execution_count": null,
   "metadata": {
    "hidden": true
   },
   "outputs": [],
   "source": [
    "publications = pd.read_csv('derived-data/author-publications.csv')"
   ]
  },
  {
   "cell_type": "code",
   "execution_count": null,
   "metadata": {
    "hidden": true
   },
   "outputs": [],
   "source": [
    "# publications.sort_values(by='author').head()"
   ]
  },
  {
   "cell_type": "code",
   "execution_count": null,
   "metadata": {
    "hidden": true
   },
   "outputs": [],
   "source": [
    "# remove authors by career_len, and add start year\n",
    "publications = publications.merge(credible_authors[['author', 'start_year']], on='author')"
   ]
  },
  {
   "cell_type": "code",
   "execution_count": null,
   "metadata": {
    "hidden": true
   },
   "outputs": [],
   "source": [
    "publications = publications[publications.year <= publications.year + MAX_CAREER_LEN]"
   ]
  },
  {
   "cell_type": "code",
   "execution_count": null,
   "metadata": {
    "hidden": true
   },
   "outputs": [],
   "source": [
    "# citations_per_year.head()"
   ]
  },
  {
   "cell_type": "code",
   "execution_count": null,
   "metadata": {
    "hidden": true
   },
   "outputs": [],
   "source": [
    "publications['pub_id'] = shuffle(publications['pub_id']).reset_index(drop=True)"
   ]
  },
  {
   "cell_type": "code",
   "execution_count": null,
   "metadata": {
    "hidden": true
   },
   "outputs": [],
   "source": [
    "# publications.sort_values(by='author').head()"
   ]
  },
  {
   "cell_type": "code",
   "execution_count": null,
   "metadata": {
    "hidden": true
   },
   "outputs": [],
   "source": [
    "publications = publications.merge(citations_per_year, on='pub_id', how='left')\n",
    "publications = publications.fillna(0)"
   ]
  },
  {
   "cell_type": "code",
   "execution_count": null,
   "metadata": {
    "hidden": true
   },
   "outputs": [],
   "source": [
    "publications.sort_values(by='author').head(20)"
   ]
  },
  {
   "cell_type": "code",
   "execution_count": null,
   "metadata": {
    "hidden": true
   },
   "outputs": [],
   "source": [
    "credible_authors[credible_authors.author == \"a min tjoa\"]['succ_after_15y']"
   ]
  },
  {
   "cell_type": "code",
   "execution_count": null,
   "metadata": {
    "hidden": true
   },
   "outputs": [],
   "source": [
    "credible_authors.set_index('author', inplace=True)"
   ]
  },
  {
   "cell_type": "code",
   "execution_count": null,
   "metadata": {
    "hidden": true
   },
   "outputs": [],
   "source": [
    "credible_authors['succ_shuffled'] = publications.groupby('author')['cit_count'].sum()"
   ]
  },
  {
   "cell_type": "code",
   "execution_count": null,
   "metadata": {
    "hidden": true
   },
   "outputs": [],
   "source": [
    "credible_authors[['succ_shuffled', 'succ_after_15y']].head()"
   ]
  },
  {
   "cell_type": "code",
   "execution_count": null,
   "metadata": {
    "hidden": true
   },
   "outputs": [],
   "source": [
    "credible_authors.columns"
   ]
  }
 ],
 "metadata": {
  "jupytext": {
   "cell_metadata_json": true,
   "formats": "ipynb,py:light"
  },
  "kernelspec": {
   "display_name": "Python 3",
   "language": "python",
   "name": "python3"
  },
  "language_info": {
   "codemirror_mode": {
    "name": "ipython",
    "version": 3
   },
   "file_extension": ".py",
   "mimetype": "text/x-python",
   "name": "python",
   "nbconvert_exporter": "python",
   "pygments_lexer": "ipython3",
   "version": "3.7.8"
  },
  "pycharm": {
   "stem_cell": {
    "cell_type": "raw",
    "metadata": {
     "collapsed": false
    },
    "source": []
   }
  }
 },
 "nbformat": 4,
 "nbformat_minor": 2
}
