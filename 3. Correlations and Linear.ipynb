{
 "cells": [
  {
   "cell_type": "code",
   "execution_count": 1,
   "metadata": {},
   "outputs": [],
   "source": [
    "import pandas as pd\n",
    "from matplotlib import pyplot as plt\n",
    "import seaborn as sns\n",
    "\n",
    "import numpy as np"
   ]
  },
  {
   "cell_type": "code",
   "execution_count": 2,
   "metadata": {},
   "outputs": [],
   "source": [
    "CAREER_LENGTH = 1\n",
    "\n",
    "#EARLY_CAREER_LEN_LIST = [1, 2, 3, 4, 5]\n",
    "EARLY_CAREER_LEN_LIST = [3]\n",
    "#RECOGNITION_CUT_OFF_LIST = [3, 4, 5, 6, 7, 8, 9]\n",
    "RECOGNITION_CUT_OFF_LIST = [5]\n",
    "\n",
    "MAX_CAREER_LEN = 15\n",
    "END_YEAR = 2018"
   ]
  },
  {
   "cell_type": "code",
   "execution_count": 78,
   "metadata": {},
   "outputs": [],
   "source": [
    "credible_authors = pd.read_csv('derived-data/authors-scientific-extended.csv')"
   ]
  },
  {
   "cell_type": "code",
   "execution_count": 79,
   "metadata": {},
   "outputs": [
    {
     "data": {
      "text/plain": [
       "Index(['author', 'start_year', 'end_year', 'total_num_pub', 'career_length',\n",
       "       'max_absence-0-15', 'avg_absence-0-15', 'dropped_after_10', 'gender',\n",
       "       'early_career_degree_3', 'early_career_qual_3', 'succ_after_15y',\n",
       "       'early_career_prod_3', 'early_career_coauthor_max_cit_3',\n",
       "       'early_career_recognition_EC3_RC3', 'early_career_recognition_EC3_RC5',\n",
       "       'h-index_15', 'h-index_3'],\n",
       "      dtype='object')"
      ]
     },
     "execution_count": 79,
     "metadata": {},
     "output_type": "execute_result"
    }
   ],
   "source": [
    "credible_authors.columns"
   ]
  },
  {
   "cell_type": "code",
   "execution_count": 80,
   "metadata": {},
   "outputs": [],
   "source": [
    "credible_authors = credible_authors[credible_authors.career_length >= CAREER_LENGTH]"
   ]
  },
  {
   "cell_type": "code",
   "execution_count": 81,
   "metadata": {},
   "outputs": [],
   "source": [
    "credible_authors['citation_increase_15_3'] = credible_authors['succ_after_15y'] - credible_authors[\n",
    "    'early_career_recognition_EC3_RC3']"
   ]
  },
  {
   "cell_type": "code",
   "execution_count": 82,
   "metadata": {},
   "outputs": [],
   "source": [
    "credible_authors['h_index_increase_15_3'] = credible_authors['h-index_15'] - credible_authors['h-index_3']"
   ]
  },
  {
   "cell_type": "markdown",
   "metadata": {},
   "source": [
    "## Data first look"
   ]
  },
  {
   "cell_type": "code",
   "execution_count": 94,
   "metadata": {},
   "outputs": [
    {
     "data": {
      "text/plain": [
       "Index(['author', 'start_year', 'end_year', 'total_num_pub', 'career_length',\n",
       "       'max_absence-0-15', 'avg_absence-0-15', 'dropped_after_10', 'gender',\n",
       "       'early_career_degree_3', 'early_career_qual_3', 'succ_after_15y',\n",
       "       'early_career_prod_3', 'early_career_coauthor_max_cit_3',\n",
       "       'early_career_recognition_EC3_RC3', 'early_career_recognition_EC3_RC5',\n",
       "       'h-index_15', 'h-index_3', 'citation_increase_15_3',\n",
       "       'h_index_increase_15_3'],\n",
       "      dtype='object')"
      ]
     },
     "execution_count": 94,
     "metadata": {},
     "output_type": "execute_result"
    }
   ],
   "source": [
    "credible_authors.columns"
   ]
  },
  {
   "cell_type": "code",
   "execution_count": 8,
   "metadata": {},
   "outputs": [
    {
     "data": {
      "text/html": [
       "<div>\n",
       "<style scoped>\n",
       "    .dataframe tbody tr th:only-of-type {\n",
       "        vertical-align: middle;\n",
       "    }\n",
       "\n",
       "    .dataframe tbody tr th {\n",
       "        vertical-align: top;\n",
       "    }\n",
       "\n",
       "    .dataframe thead th {\n",
       "        text-align: right;\n",
       "    }\n",
       "</style>\n",
       "<table border=\"1\" class=\"dataframe\">\n",
       "  <thead>\n",
       "    <tr style=\"text-align: right;\">\n",
       "      <th></th>\n",
       "      <th>author</th>\n",
       "      <th>start_year</th>\n",
       "      <th>end_year</th>\n",
       "      <th>total_num_pub</th>\n",
       "      <th>career_length</th>\n",
       "      <th>max_absence-0-15</th>\n",
       "      <th>avg_absence-0-15</th>\n",
       "      <th>dropped_after_10</th>\n",
       "      <th>gender</th>\n",
       "      <th>early_career_degree_3</th>\n",
       "      <th>early_career_qual_3</th>\n",
       "      <th>early_career_recognition_EC3_RC3</th>\n",
       "      <th>early_career_recognition_EC3_RC5</th>\n",
       "      <th>succ_after_15y</th>\n",
       "      <th>h-index_15</th>\n",
       "      <th>early_career_prod_3</th>\n",
       "      <th>early_career_coauthor_max_cit_3</th>\n",
       "      <th>citation_increase_15_3</th>\n",
       "    </tr>\n",
       "  </thead>\n",
       "  <tbody>\n",
       "    <tr>\n",
       "      <th>0</th>\n",
       "      <td>'maseka lesaoana</td>\n",
       "      <td>2001</td>\n",
       "      <td>2015</td>\n",
       "      <td>2</td>\n",
       "      <td>15</td>\n",
       "      <td>14</td>\n",
       "      <td>5.0</td>\n",
       "      <td>True</td>\n",
       "      <td>none</td>\n",
       "      <td>0.0</td>\n",
       "      <td>23.0</td>\n",
       "      <td>2.0</td>\n",
       "      <td>5.0</td>\n",
       "      <td>23.0</td>\n",
       "      <td>1.0</td>\n",
       "      <td>1</td>\n",
       "      <td>0.0</td>\n",
       "      <td>21.0</td>\n",
       "    </tr>\n",
       "    <tr>\n",
       "      <th>1</th>\n",
       "      <td>(max) zong-ming cheng</td>\n",
       "      <td>2009</td>\n",
       "      <td>2011</td>\n",
       "      <td>2</td>\n",
       "      <td>3</td>\n",
       "      <td>13</td>\n",
       "      <td>5.0</td>\n",
       "      <td>True</td>\n",
       "      <td>none</td>\n",
       "      <td>14.0</td>\n",
       "      <td>4.0</td>\n",
       "      <td>3.0</td>\n",
       "      <td>4.0</td>\n",
       "      <td>4.0</td>\n",
       "      <td>1.0</td>\n",
       "      <td>2</td>\n",
       "      <td>8.0</td>\n",
       "      <td>1.0</td>\n",
       "    </tr>\n",
       "    <tr>\n",
       "      <th>2</th>\n",
       "      <td>(zhou) bryan bai</td>\n",
       "      <td>2011</td>\n",
       "      <td>2012</td>\n",
       "      <td>2</td>\n",
       "      <td>2</td>\n",
       "      <td>14</td>\n",
       "      <td>5.0</td>\n",
       "      <td>True</td>\n",
       "      <td>none</td>\n",
       "      <td>0.0</td>\n",
       "      <td>0.0</td>\n",
       "      <td>0.0</td>\n",
       "      <td>0.0</td>\n",
       "      <td>0.0</td>\n",
       "      <td>0.0</td>\n",
       "      <td>2</td>\n",
       "      <td>0.0</td>\n",
       "      <td>0.0</td>\n",
       "    </tr>\n",
       "    <tr>\n",
       "      <th>3</th>\n",
       "      <td>a aart blokhuis</td>\n",
       "      <td>1992</td>\n",
       "      <td>2005</td>\n",
       "      <td>2</td>\n",
       "      <td>14</td>\n",
       "      <td>13</td>\n",
       "      <td>5.0</td>\n",
       "      <td>True</td>\n",
       "      <td>none</td>\n",
       "      <td>0.0</td>\n",
       "      <td>0.0</td>\n",
       "      <td>0.0</td>\n",
       "      <td>0.0</td>\n",
       "      <td>0.0</td>\n",
       "      <td>0.0</td>\n",
       "      <td>1</td>\n",
       "      <td>0.0</td>\n",
       "      <td>0.0</td>\n",
       "    </tr>\n",
       "    <tr>\n",
       "      <th>4</th>\n",
       "      <td>a ahrabian</td>\n",
       "      <td>2017</td>\n",
       "      <td>2017</td>\n",
       "      <td>1</td>\n",
       "      <td>1</td>\n",
       "      <td>15</td>\n",
       "      <td>7.5</td>\n",
       "      <td>True</td>\n",
       "      <td>none</td>\n",
       "      <td>0.0</td>\n",
       "      <td>0.0</td>\n",
       "      <td>0.0</td>\n",
       "      <td>0.0</td>\n",
       "      <td>0.0</td>\n",
       "      <td>0.0</td>\n",
       "      <td>1</td>\n",
       "      <td>0.0</td>\n",
       "      <td>0.0</td>\n",
       "    </tr>\n",
       "  </tbody>\n",
       "</table>\n",
       "</div>"
      ],
      "text/plain": [
       "                  author  start_year  end_year  total_num_pub  career_length  \\\n",
       "0       'maseka lesaoana        2001      2015              2             15   \n",
       "1  (max) zong-ming cheng        2009      2011              2              3   \n",
       "2       (zhou) bryan bai        2011      2012              2              2   \n",
       "3        a aart blokhuis        1992      2005              2             14   \n",
       "4             a ahrabian        2017      2017              1              1   \n",
       "\n",
       "   max_absence-0-15  avg_absence-0-15  dropped_after_10 gender  \\\n",
       "0                14               5.0              True   none   \n",
       "1                13               5.0              True   none   \n",
       "2                14               5.0              True   none   \n",
       "3                13               5.0              True   none   \n",
       "4                15               7.5              True   none   \n",
       "\n",
       "   early_career_degree_3  early_career_qual_3  \\\n",
       "0                    0.0                 23.0   \n",
       "1                   14.0                  4.0   \n",
       "2                    0.0                  0.0   \n",
       "3                    0.0                  0.0   \n",
       "4                    0.0                  0.0   \n",
       "\n",
       "   early_career_recognition_EC3_RC3  early_career_recognition_EC3_RC5  \\\n",
       "0                               2.0                               5.0   \n",
       "1                               3.0                               4.0   \n",
       "2                               0.0                               0.0   \n",
       "3                               0.0                               0.0   \n",
       "4                               0.0                               0.0   \n",
       "\n",
       "   succ_after_15y  h-index_15  early_career_prod_3  \\\n",
       "0            23.0         1.0                    1   \n",
       "1             4.0         1.0                    2   \n",
       "2             0.0         0.0                    2   \n",
       "3             0.0         0.0                    1   \n",
       "4             0.0         0.0                    1   \n",
       "\n",
       "   early_career_coauthor_max_cit_3  citation_increase_15_3  \n",
       "0                              0.0                    21.0  \n",
       "1                              8.0                     1.0  \n",
       "2                              0.0                     0.0  \n",
       "3                              0.0                     0.0  \n",
       "4                              0.0                     0.0  "
      ]
     },
     "execution_count": 8,
     "metadata": {},
     "output_type": "execute_result"
    }
   ],
   "source": [
    "credible_authors.head()"
   ]
  },
  {
   "cell_type": "markdown",
   "metadata": {
    "heading_collapsed": true
   },
   "source": [
    "## Correlations"
   ]
  },
  {
   "cell_type": "code",
   "execution_count": null,
   "metadata": {
    "hidden": true
   },
   "outputs": [],
   "source": [
    "cor_qual = credible_authors.corr()"
   ]
  },
  {
   "cell_type": "code",
   "execution_count": null,
   "metadata": {
    "hidden": true
   },
   "outputs": [],
   "source": [
    "cor_qual\n",
    "#cor_qual['succ_after_15y'].sort_values()"
   ]
  },
  {
   "cell_type": "code",
   "execution_count": null,
   "metadata": {
    "hidden": true
   },
   "outputs": [],
   "source": [
    "#cor_rec = credible_authors[['early_career_recognition_EC1_RC3', 'early_career_recognition_EC1_RC5',\n",
    "#       'early_career_recognition_EC1_RC7', 'early_career_recognition_EC1_RC9',\n",
    "#       'early_career_recognition_EC2_RC3', 'early_career_recognition_EC2_RC5',\n",
    "#       'early_career_recognition_EC2_RC7', 'early_career_recognition_EC2_RC9',\n",
    "#       'early_career_recognition_EC3_RC3', 'early_career_recognition_EC3_RC5',\n",
    "#       'early_career_recognition_EC3_RC7', 'early_career_recognition_EC3_RC9',\n",
    "#       'early_career_recognition_EC4_RC5', 'early_career_recognition_EC4_RC7',\n",
    "#       'early_career_recognition_EC4_RC9', 'early_career_recognition_EC5_RC5',\n",
    "#       'early_career_recognition_EC5_RC7', 'early_career_recognition_EC5_RC9',\n",
    "#       'succ_after_15y']].corr()"
   ]
  },
  {
   "cell_type": "code",
   "execution_count": null,
   "metadata": {
    "hidden": true
   },
   "outputs": [],
   "source": [
    "#cor_rec['succ_after_15y'].sort_values()"
   ]
  },
  {
   "cell_type": "code",
   "execution_count": null,
   "metadata": {
    "hidden": true
   },
   "outputs": [],
   "source": [
    "cor = credible_authors.corr()"
   ]
  },
  {
   "cell_type": "code",
   "execution_count": null,
   "metadata": {
    "hidden": true
   },
   "outputs": [],
   "source": [
    "cor['citation_increase_15_3'].sort_values()"
   ]
  },
  {
   "cell_type": "code",
   "execution_count": null,
   "metadata": {
    "hidden": true
   },
   "outputs": [],
   "source": [
    "sns.heatmap(cor, center=0,\n",
    "            square=True, linewidths=.5, cbar_kws={\"shrink\": .5})"
   ]
  },
  {
   "cell_type": "markdown",
   "metadata": {},
   "source": [
    "## Linear reg"
   ]
  },
  {
   "cell_type": "code",
   "execution_count": 9,
   "metadata": {},
   "outputs": [],
   "source": [
    "from sklearn.linear_model import LinearRegression, ElasticNet, ElasticNetCV, Lasso\n",
    "from sklearn.tree import DecisionTreeRegressor\n",
    "from sklearn.ensemble import RandomForestRegressor\n",
    "from sklearn.linear_model import LogisticRegressionCV\n",
    "from sklearn.metrics import r2_score\n",
    "\n",
    "from sklearn.model_selection import cross_val_score\n",
    "\n",
    "from sklearn.utils import shuffle"
   ]
  },
  {
   "cell_type": "code",
   "execution_count": 10,
   "metadata": {},
   "outputs": [],
   "source": [
    "# test different early career lenghts"
   ]
  },
  {
   "cell_type": "code",
   "execution_count": 11,
   "metadata": {},
   "outputs": [],
   "source": [
    "year = 1995\n",
    "\n",
    "credible_authors_1991 = credible_authors[credible_authors.start_year == year]"
   ]
  },
  {
   "cell_type": "code",
   "execution_count": 12,
   "metadata": {},
   "outputs": [],
   "source": [
    "X = credible_authors_1991.copy()\n"
   ]
  },
  {
   "cell_type": "code",
   "execution_count": 13,
   "metadata": {},
   "outputs": [],
   "source": [
    "categorical_cols = ['gender']\n",
    "\n",
    "for col in categorical_cols:\n",
    "    X = X.join(pd.get_dummies(X[categorical_cols]))\n",
    "\n",
    "X.drop(categorical_cols, axis=1, inplace=True)"
   ]
  },
  {
   "cell_type": "markdown",
   "metadata": {
    "heading_collapsed": true
   },
   "source": [
    "### Test different predictors"
   ]
  },
  {
   "cell_type": "code",
   "execution_count": null,
   "metadata": {
    "hidden": true
   },
   "outputs": [],
   "source": [
    "def run_linear(func, name):\n",
    "    df = pd.DataFrame(columns=['params', f'r_squared_{name}'])\n",
    "    for EARLY_CAREER in EARLY_CAREER_LEN_LIST:\n",
    "        for RECOGNITION_CUT in RECOGNITION_CUT_OFF_LIST:\n",
    "            if RECOGNITION_CUT < EARLY_CAREER: continue\n",
    "            H = X[[\n",
    "                #'max_absence-0-3', 'avg_absence-0-3',\n",
    "                   'gender_f', 'gender_m', 'gender_none',\n",
    "                   f'early_career_degree_{EARLY_CAREER}', \n",
    "                   f'early_career_prod_{EARLY_CAREER}',\n",
    "                   f'early_career_qual_{EARLY_CAREER}', f'early_career_recognition_EC{EARLY_CAREER}_RC{RECOGNITION_CUT}']]\n",
    "            reg = func.fit(H, y)\n",
    "            df = df.append({'params': f'EC:{EARLY_CAREER},REC:{RECOGNITION_CUT}',\n",
    "                            f'r_squared_{name}': reg.score(H, y)}, ignore_index=True)\n",
    "    return df"
   ]
  },
  {
   "cell_type": "code",
   "execution_count": null,
   "metadata": {
    "hidden": true
   },
   "outputs": [],
   "source": [
    "def run_cv(func, name, cv, y_col='succ_after_15y'):\n",
    "    df = pd.DataFrame(columns=['params', f'r_squared_{name}'])\n",
    "    for EARLY_CAREER in EARLY_CAREER_LEN_LIST:\n",
    "        for RECOGNITION_CUT in RECOGNITION_CUT_OFF_LIST:\n",
    "            if RECOGNITION_CUT < EARLY_CAREER: continue\n",
    "            H = X[[\n",
    "                #'max_absence-0-3', 'avg_absence-0-3',\n",
    "                   'gender_f', 'gender_m', 'gender_none',\n",
    "                   f'early_career_degree_{EARLY_CAREER}', \n",
    "                   f'early_career_prod_{EARLY_CAREER}',\n",
    "                   f'early_career_qual_{EARLY_CAREER}', f'early_career_recognition_EC{EARLY_CAREER}_RC{RECOGNITION_CUT}']]\n",
    "            y = X[y_col]\n",
    "            score = np.mean(cross_val_score(func, H, y, cv=cv, scoring='r2'))\n",
    "            df = df.append({'params': f'EC:{EARLY_CAREER},REC:{RECOGNITION_CUT}',\n",
    "                            f'r_squared_{name}': score}, ignore_index=True)\n",
    "    return df"
   ]
  },
  {
   "cell_type": "code",
   "execution_count": null,
   "metadata": {
    "hidden": true
   },
   "outputs": [],
   "source": [
    "df1 = run_cv(LinearRegression(), 'linear', cv=3)"
   ]
  },
  {
   "cell_type": "code",
   "execution_count": null,
   "metadata": {
    "hidden": true
   },
   "outputs": [],
   "source": [
    "# df1_null = run_cv(LinearRegression(), 'linear_null', cv=3, y_col='succ_shuffled')"
   ]
  },
  {
   "cell_type": "code",
   "execution_count": null,
   "metadata": {
    "hidden": true
   },
   "outputs": [],
   "source": [
    "df2 = run_cv(ElasticNet(), 'elastic', cv=3)"
   ]
  },
  {
   "cell_type": "code",
   "execution_count": null,
   "metadata": {
    "hidden": true
   },
   "outputs": [],
   "source": [
    "df3 = run_cv(ElasticNetCV(cv=3), 'elastic_CV', cv=3)"
   ]
  },
  {
   "cell_type": "code",
   "execution_count": null,
   "metadata": {
    "hidden": true
   },
   "outputs": [],
   "source": [
    "df4 = run_cv(Lasso(alpha=0.1), 'lasso', cv=3)"
   ]
  },
  {
   "cell_type": "code",
   "execution_count": null,
   "metadata": {
    "hidden": true
   },
   "outputs": [],
   "source": [
    "# Decision tree overfits pretty bad. Maybe GridParam Search?\n",
    "df5 = run_cv(DecisionTreeRegressor(), 'tree', cv=3)"
   ]
  },
  {
   "cell_type": "code",
   "execution_count": null,
   "metadata": {
    "hidden": true
   },
   "outputs": [],
   "source": [
    "df6 = run_cv(RandomForestRegressor(), 'forest', cv=3)"
   ]
  },
  {
   "cell_type": "code",
   "execution_count": null,
   "metadata": {
    "hidden": true
   },
   "outputs": [],
   "source": [
    "# df6_null = run_cv(RandomForestRegressor(), 'forest_null', cv=3, y_col='succ_shuffled')"
   ]
  },
  {
   "cell_type": "code",
   "execution_count": null,
   "metadata": {
    "hidden": true
   },
   "outputs": [],
   "source": [
    "dfs = [df1, df2, df3, df4, df5, df6] #df1_null, df6_null\n",
    "for df_ in dfs: df_.set_index('params', inplace=True)"
   ]
  },
  {
   "cell_type": "code",
   "execution_count": null,
   "metadata": {
    "hidden": true
   },
   "outputs": [],
   "source": [
    "dfs[0].join(dfs[1:])"
   ]
  },
  {
   "cell_type": "markdown",
   "metadata": {},
   "source": [
    "### Elastic net"
   ]
  },
  {
   "cell_type": "code",
   "execution_count": 45,
   "metadata": {},
   "outputs": [],
   "source": [
    "years = sorted(credible_authors.start_year.unique())\n",
    "cohort_start_years = [y for y in years if y < (END_YEAR - MAX_CAREER_LEN)]\n",
    "EARLY_CAREER = EARLY_CAREER_LEN_LIST[0]\n",
    "RECOGNITION_CUT = RECOGNITION_CUT_OFF_LIST[0]\n"
   ]
  },
  {
   "cell_type": "code",
   "execution_count": 46,
   "metadata": {},
   "outputs": [],
   "source": [
    "from sklearn.preprocessing import StandardScaler,RobustScaler\n",
    "from sklearn.metrics import accuracy_score"
   ]
  },
  {
   "cell_type": "code",
   "execution_count": 64,
   "metadata": {},
   "outputs": [],
   "source": [
    "cols_std = [f'early_career_degree_{EARLY_CAREER}',\n",
    "       f'early_career_prod_{EARLY_CAREER}', f'early_career_coauthor_max_cit_{EARLY_CAREER}',\n",
    "       f'early_career_qual_{EARLY_CAREER}', \n",
    "#             f'early_career_recognition_EC3_RC3',\n",
    "#             f'early_career_recognition_EC{EARLY_CAREER}_RC{RECOGNITION_CUT}'\n",
    "           ] \n",
    "cols_all = [f'early_career_degree_{EARLY_CAREER}',\n",
    "       f'early_career_prod_{EARLY_CAREER}', f'early_career_coauthor_max_cit_{EARLY_CAREER}',\n",
    "       f'early_career_qual_{EARLY_CAREER}', \n",
    "#             f'early_career_recognition_EC3_RC3',\n",
    "#         f'early_career_recognition_EC{EARLY_CAREER}_RC{RECOGNITION_CUT}',\n",
    "       'gender_m', 'gender_f',  'intercept', 'r2', 'adj_r2', 'cohort_size'] #'gender_none', \n",
    "categorical_cols = ['gender']"
   ]
  },
  {
   "cell_type": "code",
   "execution_count": 125,
   "metadata": {
    "scrolled": true
   },
   "outputs": [],
   "source": [
    "feature_table = pd.DataFrame(cols_all, columns=['feature']).set_index('feature')\n",
    "feature_table2 = pd.DataFrame(cols_all, columns=['feature']).set_index('feature')\n",
    "feature_table3 = pd.DataFrame(cols_all, columns=['feature']).set_index('feature')\n",
    "\n",
    "for year in cohort_start_years:\n",
    "    credible_authors_year = credible_authors[credible_authors.start_year == year]\n",
    "    #std all\n",
    "    #credible_authors_year = credible_authors_std[credible_authors_std.start_year == year]\n",
    "    X = credible_authors_year.copy()\n",
    "    \n",
    "    # Make dummy values for categorical columns\n",
    "    gender_cols = pd.get_dummies(X[categorical_cols])\n",
    "    # drop gender none?\n",
    "    gender_cols.drop('gender_none', axis=1, inplace=True)\n",
    "      \n",
    "    #standardize cols_std\n",
    "    # Maybe RobustScaler leads to better results????\n",
    "    standardized_cols = RobustScaler().fit_transform(X[cols_std])\n",
    "    #std all\n",
    "    #standardized_cols = X[cols_std]\n",
    "    \n",
    "    #combine\n",
    "    H = pd.DataFrame(standardized_cols, index=X.index, columns=cols_std)\n",
    "    H = H.join(gender_cols)\n",
    "\n",
    "    y = X['h_index_increase_15_3']\n",
    "    y2 = X['citation_increase_15_3']\n",
    "    y3 = X['dropped_after_10'].astype(int)\n",
    "\n",
    "\n",
    "    net = ElasticNetCV(cv=3)\n",
    "    net.fit(H, y)\n",
    "    net2 = ElasticNetCV(cv=3)\n",
    "    net2.fit(H, y2)\n",
    "#     net3 = ElasticNetCV(cv=3)\n",
    "    net3 = LogisticRegressionCV(cv=3)\n",
    "    net3.fit(H, y3)\n",
    "    score = np.mean(cross_val_score(net, H, y, cv=3, scoring='r2'))\n",
    "    score2 = np.mean(cross_val_score(net2, H, y2, cv=3, scoring='r2'))\n",
    "    cohort_size = len(y2)\n",
    "    num_nonzero_coefs = sum(net2.coef_ != 0)\n",
    "    adj_score2 = 1 - (1-score2)*(cohort_size-1)/(cohort_size-num_nonzero_coefs-1)\n",
    "    score3 = np.mean(cross_val_score(net3, H, y3, cv=3, scoring='accuracy'))\n",
    "    \n",
    "    net_coef = pd.DataFrame(list(zip(np.append(H.columns, ['intercept', 'r2', 'cohort_size']), \n",
    "                                      np.append(net.coef_, [net.intercept_, score, cohort_size]))), \n",
    "                             columns=['year', year]).set_index('year')\n",
    "    net_coef2 = pd.DataFrame(list(zip(np.append(H.columns, ['intercept', 'r2', 'adj_r2', 'cohort_size']), \n",
    "                                      np.append(net2.coef_, [net2.intercept_, score2, adj_score2, cohort_size]))), \n",
    "                             columns=['year', year]).set_index('year')\n",
    "    net_coef3 = pd.DataFrame(list(zip(np.append(H.columns, ['intercept', 'r2', 'cohort_size']), \n",
    "                                      np.append(net3.coef_, [net3.intercept_, score3, cohort_size]))),\n",
    "                             columns=['year', year]).set_index('year')\n",
    "\n",
    "    feature_table = feature_table.join(net_coef)\n",
    "    feature_table2 = feature_table2.join(net_coef2)\n",
    "    feature_table3 = feature_table3.join(net_coef3)"
   ]
  },
  {
   "cell_type": "markdown",
   "metadata": {},
   "source": [
    "#### Feature tables"
   ]
  },
  {
   "cell_type": "code",
   "execution_count": 126,
   "metadata": {},
   "outputs": [],
   "source": [
    "results = feature_table.transpose()\n",
    "#shorten column names\n",
    "new_cols = dict(zip(results.columns, [col.replace('early_career', 'ec') for col in results.columns]))\n",
    "\n",
    "results.rename(new_cols, axis='columns', inplace=True)\n",
    "results.rename({'ec_coauthor_max_cit_3': 'ec_coauth_max_cit_3', 'ec_recognition_EC3_RC5':'ec_recog_EC3_RC5'}, axis='columns', inplace=True)"
   ]
  },
  {
   "cell_type": "code",
   "execution_count": 127,
   "metadata": {},
   "outputs": [],
   "source": [
    "results2 = feature_table2.transpose()\n",
    "results2.rename(new_cols, axis='columns', inplace=True)\n",
    "results2.rename({'ec_coauthor_max_cit_3': 'ec_coauth_max_cit_3', 'ec_recognition_EC3_RC5':'ec_recog_EC3_RC5'}, axis='columns', inplace=True)"
   ]
  },
  {
   "cell_type": "code",
   "execution_count": 128,
   "metadata": {},
   "outputs": [],
   "source": [
    "results3 = feature_table3.transpose()\n",
    "results3.rename(new_cols, axis='columns', inplace=True)\n",
    "results3.rename({'ec_coauthor_max_cit_3': 'ec_coauth_max_cit_3', 'ec_recognition_EC3_RC5':'ec_recog_EC3_RC5'}, axis='columns', inplace=True)"
   ]
  },
  {
   "cell_type": "code",
   "execution_count": 129,
   "metadata": {},
   "outputs": [
    {
     "data": {
      "text/html": [
       "<div>\n",
       "<style scoped>\n",
       "    .dataframe tbody tr th:only-of-type {\n",
       "        vertical-align: middle;\n",
       "    }\n",
       "\n",
       "    .dataframe tbody tr th {\n",
       "        vertical-align: top;\n",
       "    }\n",
       "\n",
       "    .dataframe thead th {\n",
       "        text-align: right;\n",
       "    }\n",
       "</style>\n",
       "<table border=\"1\" class=\"dataframe\">\n",
       "  <thead>\n",
       "    <tr style=\"text-align: right;\">\n",
       "      <th>feature</th>\n",
       "      <th>ec_degree_3</th>\n",
       "      <th>ec_prod_3</th>\n",
       "      <th>ec_coauth_max_cit_3</th>\n",
       "      <th>ec_qual_3</th>\n",
       "      <th>gender_m</th>\n",
       "      <th>gender_f</th>\n",
       "      <th>intercept</th>\n",
       "      <th>r2</th>\n",
       "      <th>adj_r2</th>\n",
       "      <th>cohort_size</th>\n",
       "    </tr>\n",
       "  </thead>\n",
       "  <tbody>\n",
       "    <tr>\n",
       "      <th>1970</th>\n",
       "      <td>0.0752296</td>\n",
       "      <td>-0.78748</td>\n",
       "      <td>-9.45851e-05</td>\n",
       "      <td>-0.138942</td>\n",
       "      <td>-0.31606</td>\n",
       "      <td>-0.311877</td>\n",
       "      <td>[1.7496758863474868]</td>\n",
       "      <td>0.770619</td>\n",
       "      <td>NaN</td>\n",
       "      <td>763</td>\n",
       "    </tr>\n",
       "    <tr>\n",
       "      <th>1971</th>\n",
       "      <td>0.138295</td>\n",
       "      <td>-1.15434</td>\n",
       "      <td>0.00204204</td>\n",
       "      <td>-0.0514901</td>\n",
       "      <td>-0.208816</td>\n",
       "      <td>-0.0446864</td>\n",
       "      <td>[1.5471181105830158]</td>\n",
       "      <td>0.75841</td>\n",
       "      <td>NaN</td>\n",
       "      <td>981</td>\n",
       "    </tr>\n",
       "    <tr>\n",
       "      <th>1972</th>\n",
       "      <td>0.302208</td>\n",
       "      <td>-0.67829</td>\n",
       "      <td>-0.0220214</td>\n",
       "      <td>-0.109685</td>\n",
       "      <td>-0.237628</td>\n",
       "      <td>-0.0276104</td>\n",
       "      <td>[1.4338075719366674]</td>\n",
       "      <td>0.762221</td>\n",
       "      <td>NaN</td>\n",
       "      <td>1207</td>\n",
       "    </tr>\n",
       "    <tr>\n",
       "      <th>1973</th>\n",
       "      <td>0.121317</td>\n",
       "      <td>-0.705225</td>\n",
       "      <td>-0.00871995</td>\n",
       "      <td>-0.107362</td>\n",
       "      <td>-0.104822</td>\n",
       "      <td>0.0424904</td>\n",
       "      <td>[1.3049191120707997]</td>\n",
       "      <td>0.744256</td>\n",
       "      <td>NaN</td>\n",
       "      <td>1400</td>\n",
       "    </tr>\n",
       "    <tr>\n",
       "      <th>1974</th>\n",
       "      <td>-0.0113207</td>\n",
       "      <td>-0.810605</td>\n",
       "      <td>-0.00404019</td>\n",
       "      <td>-0.0547519</td>\n",
       "      <td>-0.0936687</td>\n",
       "      <td>0.0475974</td>\n",
       "      <td>[1.6747606897108902]</td>\n",
       "      <td>0.796721</td>\n",
       "      <td>NaN</td>\n",
       "      <td>1830</td>\n",
       "    </tr>\n",
       "    <tr>\n",
       "      <th>1975</th>\n",
       "      <td>0.0576827</td>\n",
       "      <td>-1.01108</td>\n",
       "      <td>0.00276337</td>\n",
       "      <td>-0.0160765</td>\n",
       "      <td>-0.207582</td>\n",
       "      <td>-0.0311499</td>\n",
       "      <td>[1.5069599689738549]</td>\n",
       "      <td>0.773606</td>\n",
       "      <td>NaN</td>\n",
       "      <td>1599</td>\n",
       "    </tr>\n",
       "    <tr>\n",
       "      <th>1976</th>\n",
       "      <td>-0.0243055</td>\n",
       "      <td>-0.834427</td>\n",
       "      <td>-0.00459469</td>\n",
       "      <td>-0.0127419</td>\n",
       "      <td>-0.277597</td>\n",
       "      <td>0.0189087</td>\n",
       "      <td>[1.5888212555693795]</td>\n",
       "      <td>0.763527</td>\n",
       "      <td>NaN</td>\n",
       "      <td>1996</td>\n",
       "    </tr>\n",
       "    <tr>\n",
       "      <th>1977</th>\n",
       "      <td>0.0130997</td>\n",
       "      <td>-1.01052</td>\n",
       "      <td>-0.002199</td>\n",
       "      <td>-0.0372838</td>\n",
       "      <td>-0.382112</td>\n",
       "      <td>0.0278034</td>\n",
       "      <td>[1.455579731544274]</td>\n",
       "      <td>0.735601</td>\n",
       "      <td>NaN</td>\n",
       "      <td>1929</td>\n",
       "    </tr>\n",
       "    <tr>\n",
       "      <th>1978</th>\n",
       "      <td>0.0714681</td>\n",
       "      <td>-0.793546</td>\n",
       "      <td>-0.0140056</td>\n",
       "      <td>0.00453009</td>\n",
       "      <td>-0.289359</td>\n",
       "      <td>0.231414</td>\n",
       "      <td>[1.3469134980256259]</td>\n",
       "      <td>0.738333</td>\n",
       "      <td>NaN</td>\n",
       "      <td>1907</td>\n",
       "    </tr>\n",
       "    <tr>\n",
       "      <th>1979</th>\n",
       "      <td>0.100116</td>\n",
       "      <td>-1.00919</td>\n",
       "      <td>-0.0187478</td>\n",
       "      <td>-0.0551468</td>\n",
       "      <td>-0.256024</td>\n",
       "      <td>-0.147024</td>\n",
       "      <td>[1.423154190321462]</td>\n",
       "      <td>0.73767</td>\n",
       "      <td>NaN</td>\n",
       "      <td>2352</td>\n",
       "    </tr>\n",
       "    <tr>\n",
       "      <th>1980</th>\n",
       "      <td>0.102415</td>\n",
       "      <td>-0.87523</td>\n",
       "      <td>-0.00348345</td>\n",
       "      <td>-0.0114603</td>\n",
       "      <td>-0.268988</td>\n",
       "      <td>0.131562</td>\n",
       "      <td>[1.2513963719000065]</td>\n",
       "      <td>0.727816</td>\n",
       "      <td>NaN</td>\n",
       "      <td>2458</td>\n",
       "    </tr>\n",
       "    <tr>\n",
       "      <th>1981</th>\n",
       "      <td>0.140681</td>\n",
       "      <td>-0.874629</td>\n",
       "      <td>-0.0106011</td>\n",
       "      <td>-0.0706856</td>\n",
       "      <td>-0.189992</td>\n",
       "      <td>0.148794</td>\n",
       "      <td>[1.3279413410593297]</td>\n",
       "      <td>0.745829</td>\n",
       "      <td>NaN</td>\n",
       "      <td>2817</td>\n",
       "    </tr>\n",
       "    <tr>\n",
       "      <th>1982</th>\n",
       "      <td>0.0193176</td>\n",
       "      <td>-0.864961</td>\n",
       "      <td>-0.00815736</td>\n",
       "      <td>-0.0788093</td>\n",
       "      <td>-0.225686</td>\n",
       "      <td>-0.226517</td>\n",
       "      <td>[1.3493888529863411]</td>\n",
       "      <td>0.728083</td>\n",
       "      <td>NaN</td>\n",
       "      <td>3262</td>\n",
       "    </tr>\n",
       "    <tr>\n",
       "      <th>1983</th>\n",
       "      <td>0.090425</td>\n",
       "      <td>-0.904569</td>\n",
       "      <td>-0.0205466</td>\n",
       "      <td>-0.0593692</td>\n",
       "      <td>-0.337057</td>\n",
       "      <td>-0.472593</td>\n",
       "      <td>[1.328181330577935]</td>\n",
       "      <td>0.728029</td>\n",
       "      <td>NaN</td>\n",
       "      <td>3721</td>\n",
       "    </tr>\n",
       "    <tr>\n",
       "      <th>1984</th>\n",
       "      <td>0.0695958</td>\n",
       "      <td>-0.896166</td>\n",
       "      <td>-0.0152706</td>\n",
       "      <td>-0.0762311</td>\n",
       "      <td>-0.25868</td>\n",
       "      <td>-0.17269</td>\n",
       "      <td>[1.2926920813236953]</td>\n",
       "      <td>0.726006</td>\n",
       "      <td>NaN</td>\n",
       "      <td>4668</td>\n",
       "    </tr>\n",
       "    <tr>\n",
       "      <th>1985</th>\n",
       "      <td>0.0755884</td>\n",
       "      <td>-0.899557</td>\n",
       "      <td>-0.0176701</td>\n",
       "      <td>-0.0581899</td>\n",
       "      <td>-0.297994</td>\n",
       "      <td>0.0392634</td>\n",
       "      <td>[1.2621610540133894]</td>\n",
       "      <td>0.726827</td>\n",
       "      <td>NaN</td>\n",
       "      <td>4821</td>\n",
       "    </tr>\n",
       "    <tr>\n",
       "      <th>1986</th>\n",
       "      <td>0.204736</td>\n",
       "      <td>-0.884327</td>\n",
       "      <td>-0.0177191</td>\n",
       "      <td>-0.00529607</td>\n",
       "      <td>-0.232764</td>\n",
       "      <td>-0.0435537</td>\n",
       "      <td>[1.1685599724981386]</td>\n",
       "      <td>0.70992</td>\n",
       "      <td>NaN</td>\n",
       "      <td>5857</td>\n",
       "    </tr>\n",
       "    <tr>\n",
       "      <th>1987</th>\n",
       "      <td>0.143298</td>\n",
       "      <td>-0.825263</td>\n",
       "      <td>-0.00877868</td>\n",
       "      <td>-0.061125</td>\n",
       "      <td>-0.152807</td>\n",
       "      <td>-0.0574135</td>\n",
       "      <td>[1.1344496625794525]</td>\n",
       "      <td>0.711504</td>\n",
       "      <td>NaN</td>\n",
       "      <td>6624</td>\n",
       "    </tr>\n",
       "    <tr>\n",
       "      <th>1988</th>\n",
       "      <td>0.132302</td>\n",
       "      <td>-0.744294</td>\n",
       "      <td>-0.00765446</td>\n",
       "      <td>-0.0393694</td>\n",
       "      <td>-0.178262</td>\n",
       "      <td>0.0588453</td>\n",
       "      <td>[1.123352581605023]</td>\n",
       "      <td>0.708034</td>\n",
       "      <td>NaN</td>\n",
       "      <td>8364</td>\n",
       "    </tr>\n",
       "    <tr>\n",
       "      <th>1989</th>\n",
       "      <td>0.234791</td>\n",
       "      <td>-0.862371</td>\n",
       "      <td>-0.025626</td>\n",
       "      <td>-0.00515037</td>\n",
       "      <td>-0.134393</td>\n",
       "      <td>-0.17592</td>\n",
       "      <td>[1.2373934510879394]</td>\n",
       "      <td>0.715269</td>\n",
       "      <td>NaN</td>\n",
       "      <td>9293</td>\n",
       "    </tr>\n",
       "    <tr>\n",
       "      <th>1990</th>\n",
       "      <td>0.0665967</td>\n",
       "      <td>-0.772476</td>\n",
       "      <td>-0.00672149</td>\n",
       "      <td>-0.0340264</td>\n",
       "      <td>-0.174278</td>\n",
       "      <td>0.0658892</td>\n",
       "      <td>[1.2267438455044404]</td>\n",
       "      <td>0.720357</td>\n",
       "      <td>NaN</td>\n",
       "      <td>10871</td>\n",
       "    </tr>\n",
       "    <tr>\n",
       "      <th>1991</th>\n",
       "      <td>0.0835907</td>\n",
       "      <td>-0.695662</td>\n",
       "      <td>-0.00578433</td>\n",
       "      <td>-0.0290942</td>\n",
       "      <td>-0.0992114</td>\n",
       "      <td>-0.00782059</td>\n",
       "      <td>[1.1236014748431362]</td>\n",
       "      <td>0.712791</td>\n",
       "      <td>NaN</td>\n",
       "      <td>12430</td>\n",
       "    </tr>\n",
       "    <tr>\n",
       "      <th>1992</th>\n",
       "      <td>0.0499982</td>\n",
       "      <td>-0.640955</td>\n",
       "      <td>-0.011565</td>\n",
       "      <td>-0.00887452</td>\n",
       "      <td>-0.104183</td>\n",
       "      <td>0.0316766</td>\n",
       "      <td>[1.1074803937541424]</td>\n",
       "      <td>0.708331</td>\n",
       "      <td>NaN</td>\n",
       "      <td>13769</td>\n",
       "    </tr>\n",
       "    <tr>\n",
       "      <th>1993</th>\n",
       "      <td>0.0858644</td>\n",
       "      <td>-0.661204</td>\n",
       "      <td>-0.000232735</td>\n",
       "      <td>-0.0182342</td>\n",
       "      <td>-0.129695</td>\n",
       "      <td>0.104405</td>\n",
       "      <td>[1.1483235726212353]</td>\n",
       "      <td>0.707186</td>\n",
       "      <td>NaN</td>\n",
       "      <td>16379</td>\n",
       "    </tr>\n",
       "    <tr>\n",
       "      <th>1994</th>\n",
       "      <td>0.0394388</td>\n",
       "      <td>-0.598885</td>\n",
       "      <td>-0.00190234</td>\n",
       "      <td>-0.0224518</td>\n",
       "      <td>-0.0474207</td>\n",
       "      <td>0.102828</td>\n",
       "      <td>[1.0887232873308756]</td>\n",
       "      <td>0.704988</td>\n",
       "      <td>NaN</td>\n",
       "      <td>18423</td>\n",
       "    </tr>\n",
       "    <tr>\n",
       "      <th>1995</th>\n",
       "      <td>0.0518719</td>\n",
       "      <td>-0.587833</td>\n",
       "      <td>-0.00833055</td>\n",
       "      <td>-0.00579847</td>\n",
       "      <td>-0.0671653</td>\n",
       "      <td>-0.0116163</td>\n",
       "      <td>[1.0969962855728779]</td>\n",
       "      <td>0.707278</td>\n",
       "      <td>NaN</td>\n",
       "      <td>19223</td>\n",
       "    </tr>\n",
       "    <tr>\n",
       "      <th>1996</th>\n",
       "      <td>0.0924666</td>\n",
       "      <td>-0.585865</td>\n",
       "      <td>-0.00744284</td>\n",
       "      <td>-0.00857951</td>\n",
       "      <td>-0.062662</td>\n",
       "      <td>0.0859522</td>\n",
       "      <td>[1.0458890576948778]</td>\n",
       "      <td>0.701292</td>\n",
       "      <td>NaN</td>\n",
       "      <td>20823</td>\n",
       "    </tr>\n",
       "    <tr>\n",
       "      <th>1997</th>\n",
       "      <td>0.0678553</td>\n",
       "      <td>-0.609883</td>\n",
       "      <td>-0.00617581</td>\n",
       "      <td>-0.00949222</td>\n",
       "      <td>-0.0377507</td>\n",
       "      <td>0.0424862</td>\n",
       "      <td>[1.0607547820039471]</td>\n",
       "      <td>0.70438</td>\n",
       "      <td>NaN</td>\n",
       "      <td>23263</td>\n",
       "    </tr>\n",
       "    <tr>\n",
       "      <th>1998</th>\n",
       "      <td>0.0848521</td>\n",
       "      <td>-0.62034</td>\n",
       "      <td>-0.00490327</td>\n",
       "      <td>-0.013677</td>\n",
       "      <td>-0.0323323</td>\n",
       "      <td>0.164257</td>\n",
       "      <td>[1.0122492783848478]</td>\n",
       "      <td>0.703614</td>\n",
       "      <td>NaN</td>\n",
       "      <td>26813</td>\n",
       "    </tr>\n",
       "    <tr>\n",
       "      <th>1999</th>\n",
       "      <td>0.060849</td>\n",
       "      <td>-0.635039</td>\n",
       "      <td>-0.0110802</td>\n",
       "      <td>-0.0138746</td>\n",
       "      <td>0.0587634</td>\n",
       "      <td>0.166849</td>\n",
       "      <td>[0.946767049587327]</td>\n",
       "      <td>0.699367</td>\n",
       "      <td>NaN</td>\n",
       "      <td>29225</td>\n",
       "    </tr>\n",
       "    <tr>\n",
       "      <th>2000</th>\n",
       "      <td>0.0363692</td>\n",
       "      <td>-0.622785</td>\n",
       "      <td>-0.00814343</td>\n",
       "      <td>-0.012465</td>\n",
       "      <td>0.0347385</td>\n",
       "      <td>0.286017</td>\n",
       "      <td>[0.8813520645181916]</td>\n",
       "      <td>0.693757</td>\n",
       "      <td>NaN</td>\n",
       "      <td>33591</td>\n",
       "    </tr>\n",
       "    <tr>\n",
       "      <th>2001</th>\n",
       "      <td>0.0139864</td>\n",
       "      <td>-0.510938</td>\n",
       "      <td>-0.00839389</td>\n",
       "      <td>-0.0144174</td>\n",
       "      <td>0.000602505</td>\n",
       "      <td>0.0845845</td>\n",
       "      <td>[0.879500481657023]</td>\n",
       "      <td>0.692447</td>\n",
       "      <td>NaN</td>\n",
       "      <td>37405</td>\n",
       "    </tr>\n",
       "    <tr>\n",
       "      <th>2002</th>\n",
       "      <td>0.0307732</td>\n",
       "      <td>-0.526634</td>\n",
       "      <td>-0.00528412</td>\n",
       "      <td>-0.011417</td>\n",
       "      <td>0.0687503</td>\n",
       "      <td>0.257177</td>\n",
       "      <td>[0.8664768180975712]</td>\n",
       "      <td>0.694874</td>\n",
       "      <td>NaN</td>\n",
       "      <td>41432</td>\n",
       "    </tr>\n",
       "  </tbody>\n",
       "</table>\n",
       "</div>"
      ],
      "text/plain": [
       "feature ec_degree_3 ec_prod_3 ec_coauth_max_cit_3   ec_qual_3     gender_m  \\\n",
       "1970      0.0752296  -0.78748        -9.45851e-05   -0.138942     -0.31606   \n",
       "1971       0.138295  -1.15434          0.00204204  -0.0514901    -0.208816   \n",
       "1972       0.302208  -0.67829          -0.0220214   -0.109685    -0.237628   \n",
       "1973       0.121317 -0.705225         -0.00871995   -0.107362    -0.104822   \n",
       "1974     -0.0113207 -0.810605         -0.00404019  -0.0547519   -0.0936687   \n",
       "1975      0.0576827  -1.01108          0.00276337  -0.0160765    -0.207582   \n",
       "1976     -0.0243055 -0.834427         -0.00459469  -0.0127419    -0.277597   \n",
       "1977      0.0130997  -1.01052           -0.002199  -0.0372838    -0.382112   \n",
       "1978      0.0714681 -0.793546          -0.0140056  0.00453009    -0.289359   \n",
       "1979       0.100116  -1.00919          -0.0187478  -0.0551468    -0.256024   \n",
       "1980       0.102415  -0.87523         -0.00348345  -0.0114603    -0.268988   \n",
       "1981       0.140681 -0.874629          -0.0106011  -0.0706856    -0.189992   \n",
       "1982      0.0193176 -0.864961         -0.00815736  -0.0788093    -0.225686   \n",
       "1983       0.090425 -0.904569          -0.0205466  -0.0593692    -0.337057   \n",
       "1984      0.0695958 -0.896166          -0.0152706  -0.0762311     -0.25868   \n",
       "1985      0.0755884 -0.899557          -0.0176701  -0.0581899    -0.297994   \n",
       "1986       0.204736 -0.884327          -0.0177191 -0.00529607    -0.232764   \n",
       "1987       0.143298 -0.825263         -0.00877868   -0.061125    -0.152807   \n",
       "1988       0.132302 -0.744294         -0.00765446  -0.0393694    -0.178262   \n",
       "1989       0.234791 -0.862371           -0.025626 -0.00515037    -0.134393   \n",
       "1990      0.0665967 -0.772476         -0.00672149  -0.0340264    -0.174278   \n",
       "1991      0.0835907 -0.695662         -0.00578433  -0.0290942   -0.0992114   \n",
       "1992      0.0499982 -0.640955           -0.011565 -0.00887452    -0.104183   \n",
       "1993      0.0858644 -0.661204        -0.000232735  -0.0182342    -0.129695   \n",
       "1994      0.0394388 -0.598885         -0.00190234  -0.0224518   -0.0474207   \n",
       "1995      0.0518719 -0.587833         -0.00833055 -0.00579847   -0.0671653   \n",
       "1996      0.0924666 -0.585865         -0.00744284 -0.00857951    -0.062662   \n",
       "1997      0.0678553 -0.609883         -0.00617581 -0.00949222   -0.0377507   \n",
       "1998      0.0848521  -0.62034         -0.00490327   -0.013677   -0.0323323   \n",
       "1999       0.060849 -0.635039          -0.0110802  -0.0138746    0.0587634   \n",
       "2000      0.0363692 -0.622785         -0.00814343   -0.012465    0.0347385   \n",
       "2001      0.0139864 -0.510938         -0.00839389  -0.0144174  0.000602505   \n",
       "2002      0.0307732 -0.526634         -0.00528412   -0.011417    0.0687503   \n",
       "\n",
       "feature    gender_f             intercept        r2 adj_r2 cohort_size  \n",
       "1970      -0.311877  [1.7496758863474868]  0.770619    NaN         763  \n",
       "1971     -0.0446864  [1.5471181105830158]   0.75841    NaN         981  \n",
       "1972     -0.0276104  [1.4338075719366674]  0.762221    NaN        1207  \n",
       "1973      0.0424904  [1.3049191120707997]  0.744256    NaN        1400  \n",
       "1974      0.0475974  [1.6747606897108902]  0.796721    NaN        1830  \n",
       "1975     -0.0311499  [1.5069599689738549]  0.773606    NaN        1599  \n",
       "1976      0.0189087  [1.5888212555693795]  0.763527    NaN        1996  \n",
       "1977      0.0278034   [1.455579731544274]  0.735601    NaN        1929  \n",
       "1978       0.231414  [1.3469134980256259]  0.738333    NaN        1907  \n",
       "1979      -0.147024   [1.423154190321462]   0.73767    NaN        2352  \n",
       "1980       0.131562  [1.2513963719000065]  0.727816    NaN        2458  \n",
       "1981       0.148794  [1.3279413410593297]  0.745829    NaN        2817  \n",
       "1982      -0.226517  [1.3493888529863411]  0.728083    NaN        3262  \n",
       "1983      -0.472593   [1.328181330577935]  0.728029    NaN        3721  \n",
       "1984       -0.17269  [1.2926920813236953]  0.726006    NaN        4668  \n",
       "1985      0.0392634  [1.2621610540133894]  0.726827    NaN        4821  \n",
       "1986     -0.0435537  [1.1685599724981386]   0.70992    NaN        5857  \n",
       "1987     -0.0574135  [1.1344496625794525]  0.711504    NaN        6624  \n",
       "1988      0.0588453   [1.123352581605023]  0.708034    NaN        8364  \n",
       "1989       -0.17592  [1.2373934510879394]  0.715269    NaN        9293  \n",
       "1990      0.0658892  [1.2267438455044404]  0.720357    NaN       10871  \n",
       "1991    -0.00782059  [1.1236014748431362]  0.712791    NaN       12430  \n",
       "1992      0.0316766  [1.1074803937541424]  0.708331    NaN       13769  \n",
       "1993       0.104405  [1.1483235726212353]  0.707186    NaN       16379  \n",
       "1994       0.102828  [1.0887232873308756]  0.704988    NaN       18423  \n",
       "1995     -0.0116163  [1.0969962855728779]  0.707278    NaN       19223  \n",
       "1996      0.0859522  [1.0458890576948778]  0.701292    NaN       20823  \n",
       "1997      0.0424862  [1.0607547820039471]   0.70438    NaN       23263  \n",
       "1998       0.164257  [1.0122492783848478]  0.703614    NaN       26813  \n",
       "1999       0.166849   [0.946767049587327]  0.699367    NaN       29225  \n",
       "2000       0.286017  [0.8813520645181916]  0.693757    NaN       33591  \n",
       "2001      0.0845845   [0.879500481657023]  0.692447    NaN       37405  \n",
       "2002       0.257177  [0.8664768180975712]  0.694874    NaN       41432  "
      ]
     },
     "execution_count": 129,
     "metadata": {},
     "output_type": "execute_result"
    }
   ],
   "source": [
    "results3"
   ]
  },
  {
   "cell_type": "markdown",
   "metadata": {},
   "source": [
    "#### predictor diffs"
   ]
  },
  {
   "cell_type": "code",
   "execution_count": 92,
   "metadata": {},
   "outputs": [],
   "source": [
    "h_index = feature_table.transpose().copy()\n",
    "citations = feature_table2.transpose().copy()"
   ]
  },
  {
   "cell_type": "code",
   "execution_count": 93,
   "metadata": {},
   "outputs": [
    {
     "name": "stdout",
     "output_type": "stream",
     "text": [
      "Average difference in r squared 0.15023032218523338\n"
     ]
    },
    {
     "data": {
      "image/png": "[encoded data removed]",
      "text/plain": [
       "<matplotlib.figure.Figure at 0x7f69a303c940>"
      ]
     },
     "metadata": {},
     "output_type": "display_data"
    }
   ],
   "source": [
    "plt.plot(h_index['r2'], label='H index')\n",
    "plt.plot(citations['r2'], label='Citations')\n",
    "print(\"Average difference in r squared\", sum(citations['r2']-h_index['r2'])/len(h_index['r2']))\n",
    "# quality was used as a feature!\n",
    "plt.legend()\n",
    "plt.show()"
   ]
  },
  {
   "cell_type": "markdown",
   "metadata": {},
   "source": [
    "#### gender diffs"
   ]
  },
  {
   "cell_type": "code",
   "execution_count": 21,
   "metadata": {},
   "outputs": [
    {
     "data": {
      "image/png": "[encoded data removed]",
      "text/plain": [
       "<matplotlib.figure.Figure at 0x7f69d569e9e8>"
      ]
     },
     "metadata": {},
     "output_type": "display_data"
    }
   ],
   "source": [
    "# gender coefs\n",
    "plt.plot(results['gender_m'], label=\"Male\")\n",
    "plt.plot(results['gender_f'], label=\"Female\")\n",
    "plt.legend()\n",
    "plt.show()"
   ]
  },
  {
   "cell_type": "code",
   "execution_count": 22,
   "metadata": {},
   "outputs": [
    {
     "data": {
      "image/png": "[encoded data removed]",
      "text/plain": [
       "<matplotlib.figure.Figure at 0x7f69d5589e10>"
      ]
     },
     "metadata": {},
     "output_type": "display_data"
    }
   ],
   "source": [
    "plt.plot(results['gender_m'] - results['gender_f'], label=\"Male-Female diff\")\n",
    "plt.plot(results.index ,np.zeros(len(results)))\n",
    "plt.legend()\n",
    "plt.show()"
   ]
  },
  {
   "cell_type": "markdown",
   "metadata": {},
   "source": [
    "#### cohort size diffs"
   ]
  },
  {
   "cell_type": "code",
   "execution_count": 30,
   "metadata": {},
   "outputs": [
    {
     "data": {
      "image/png": "[encoded data removed]",
      "text/plain": [
       "<matplotlib.figure.Figure at 0x7f69d645ec88>"
      ]
     },
     "metadata": {},
     "output_type": "display_data"
    }
   ],
   "source": [
    "fig, ax1 = plt.subplots()\n",
    "# ax1.plot(results['r2'], label='r2')\n",
    "ax1.plot(results['adj_r2'], label='adjusted r2', color='C2')\n",
    "ax1.set_ylim([0,1])\n",
    "ax1.set_xlabel('Years')\n",
    "ax1.set_ylabel('R squared', color='C2')\n",
    "ax1.legend(loc=2)\n",
    "\n",
    "ax2 = ax1.twinx()\n",
    "ax2.plot(results['cohort_size'], label='Cohort size', color='C3')\n",
    "ax2.set_ylabel('Cohort size', color='C3')\n",
    "ax2.legend(loc=4)\n",
    "plt.show()"
   ]
  },
  {
   "cell_type": "markdown",
   "metadata": {},
   "source": [
    "#### cheating diffs"
   ]
  },
  {
   "cell_type": "code",
   "execution_count": 58,
   "metadata": {},
   "outputs": [],
   "source": [
    "no_cheating = feature_table2.transpose().copy()"
   ]
  },
  {
   "cell_type": "code",
   "execution_count": 63,
   "metadata": {},
   "outputs": [],
   "source": [
    "cheat_RC5 = feature_table2.transpose().copy()"
   ]
  },
  {
   "cell_type": "code",
   "execution_count": 68,
   "metadata": {},
   "outputs": [],
   "source": [
    "cheat_quality = feature_table2.transpose().copy()"
   ]
  },
  {
   "cell_type": "code",
   "execution_count": 74,
   "metadata": {},
   "outputs": [
    {
     "name": "stdout",
     "output_type": "stream",
     "text": [
      "Average difference in r squared 0.13851742097370592\n"
     ]
    },
    {
     "data": {
      "image/png": "[encoded data removed]",
      "text/plain": [
       "<matplotlib.figure.Figure at 0x7f69c72fe908>"
      ]
     },
     "metadata": {},
     "output_type": "display_data"
    },
    {
     "data": {
      "image/png": "[encoded data removed]",
      "text/plain": [
       "<matplotlib.figure.Figure at 0x7f69d6265c88>"
      ]
     },
     "metadata": {},
     "output_type": "display_data"
    }
   ],
   "source": [
    "# How does removing the quality affect the r squared?\n",
    "plt.plot(with_quality['adj_r2'], label='With quality')\n",
    "plt.plot(cheat_RC5['adj_r2'], label='With recognition year 5')\n",
    "plt.plot(no_cheating['adj_r2'], label='No cheating')\n",
    "print(\"Average difference in r squared\", sum(with_quality['adj_r2']-no_cheating['adj_r2'])/len(cheat_quality))\n",
    "print(np.mean)\n",
    "plt.legend()\n",
    "plt.show()\n",
    "\n",
    "avg = sum(cheat_quality['adj_r2']-no_cheating['adj_r2'])/len(no_cheating)\n",
    "plt.plot(cheat_quality['adj_r2']-no_cheating['adj_r2'], label='Difference')\n",
    "plt.plot(no_cheating.index, [avg]*len(no_cheating), label='Average diff')\n",
    "plt.title(\"Difference between quality(15y) and recognition(3y)\")\n",
    "plt.legend()\n",
    "plt.show()"
   ]
  },
  {
   "cell_type": "markdown",
   "metadata": {},
   "source": [
    "#### scaler diffs"
   ]
  },
  {
   "cell_type": "code",
   "execution_count": 31,
   "metadata": {},
   "outputs": [],
   "source": [
    "std_scaler = feature_table2.transpose().copy()"
   ]
  },
  {
   "cell_type": "code",
   "execution_count": 35,
   "metadata": {},
   "outputs": [],
   "source": [
    "rob_scaler = feature_table2.transpose().copy()"
   ]
  },
  {
   "cell_type": "code",
   "execution_count": 40,
   "metadata": {},
   "outputs": [
    {
     "name": "stdout",
     "output_type": "stream",
     "text": [
      "Average difference in r squared 0.00047819684153926564\n"
     ]
    },
    {
     "data": {
      "image/png": "[encoded data removed]",
      "text/plain": [
       "<matplotlib.figure.Figure at 0x7f69d63e9908>"
      ]
     },
     "metadata": {},
     "output_type": "display_data"
    },
    {
     "data": {
      "image/png": "[encoded data removed]",
      "text/plain": [
       "<matplotlib.figure.Figure at 0x7f69d62865f8>"
      ]
     },
     "metadata": {},
     "output_type": "display_data"
    }
   ],
   "source": [
    "# How does changing the scaler affect the r squared?\n",
    "plt.plot(std_scaler['adj_r2'], label='Std')\n",
    "plt.plot(rob_scaler['adj_r2'], label='Rob')\n",
    "print(\"Average difference in r squared\", sum(std_scaler['adj_r2']-rob_scaler['adj_r2'])/len(rob_scaler))\n",
    "plt.legend()\n",
    "plt.show()\n",
    "# almost no difference\n",
    "\n",
    "avg = sum(std_scaler['adj_r2']-rob_scaler['adj_r2'])/len(std_scaler)\n",
    "plt.plot(std_scaler['adj_r2']-rob_scaler['adj_r2'], label='Difference')\n",
    "plt.plot(std_scaler.index, [avg]*len(std_scaler), label='Average diff')\n",
    "plt.legend()\n",
    "plt.show()"
   ]
  },
  {
   "cell_type": "code",
   "execution_count": null,
   "metadata": {},
   "outputs": [],
   "source": [
    "# feature_table3.transpose()"
   ]
  },
  {
   "cell_type": "markdown",
   "metadata": {
    "heading_collapsed": true
   },
   "source": [
    "### Best feature selection"
   ]
  },
  {
   "cell_type": "code",
   "execution_count": null,
   "metadata": {
    "hidden": true
   },
   "outputs": [],
   "source": [
    "from sklearn.feature_selection import SelectKBest, f_regression, mutual_info_regression, RFE, RFECV\n",
    "from collections import defaultdict"
   ]
  },
  {
   "cell_type": "code",
   "execution_count": null,
   "metadata": {
    "hidden": true
   },
   "outputs": [],
   "source": [
    "def show_kbest(data_frame, target, linear_rel=True, k=4):\n",
    "    \"\"\"\n",
    "    Selecting K-Best features for classification\n",
    "    :param data_frame: A pandas dataFrame with the training data\n",
    "    :param target: target variable name in DataFrame\n",
    "    :param k: desired number of features from the data\n",
    "    :returns feature_scores: scores for each feature in the data as \n",
    "    pandas DataFrame\n",
    "    \"\"\"\n",
    "    scores = []\n",
    "    if linear_rel == True: \n",
    "        feat_selector = SelectKBest(f_regression, k=k)\n",
    "        col_name = \"F Score\"\n",
    "    else:\n",
    "        feat_selector = SelectKBest(mutual_info_regression, k=k)\n",
    "        col_name = \"Mutual Information\"\n",
    "    \n",
    "    feat_selector = feat_selector.fit(data_frame, target)\n",
    "    feat_scores = pd.DataFrame()\n",
    "    feat_scores[col_name] = feat_selector.scores_\n",
    "    feat_scores[\"P Value\"] = feat_selector.pvalues_\n",
    "    feat_scores[\"Support\"] = feat_selector.get_support()\n",
    "    feat_scores[\"Attribute\"] = data_frame.columns\n",
    "    \n",
    "    return feat_scores \n",
    "\n",
    "def get_features_rfe(data_frame, target, model,k=5):\n",
    "    \"\"\"\n",
    "    Returns list of features (k specified) selected using RFE for\n",
    "    :param data_frame: A pandas dataFrame with features and labels\n",
    "    :param k: top k features to select  \n",
    "    :returns list: most relevant features \n",
    "    \"\"\"\n",
    "    X = data_frame\n",
    "    y = target\n",
    "    selector = RFE(model, k, step=1)\n",
    "    selector = selector.fit(X, y)\n",
    "#     print(selector.support_)\n",
    "    df = pd.DataFrame({\n",
    "        \"feature\": X.columns,\n",
    "        \"support\": selector.support_\n",
    "    })\n",
    "    return df\n",
    "\n",
    "def get_features_rfecv(data_frame, target, model, cv=3):\n",
    "    \"\"\"\n",
    "    Returns list of features (k specified) selected using RFE for\n",
    "    :param data_frame: A pandas dataFrame with features and labels\n",
    "    :param k: top k features to select  \n",
    "    :returns list: most relevant features \n",
    "    \"\"\"\n",
    "    X = data_frame\n",
    "    y = target\n",
    "    selector = RFECV(model, step=1, cv=cv)\n",
    "    selector = selector.fit(X, y)\n",
    "#     print(selector.support_)\n",
    "    df = pd.DataFrame({\n",
    "        \"feature\": X.columns,\n",
    "        \"support\": selector.support_\n",
    "    })\n",
    "    return df"
   ]
  },
  {
   "cell_type": "code",
   "execution_count": null,
   "metadata": {
    "hidden": true
   },
   "outputs": [],
   "source": [
    "years = credible_authors.start_year.unique()\n",
    "years = sorted(years)"
   ]
  },
  {
   "cell_type": "code",
   "execution_count": null,
   "metadata": {
    "hidden": true
   },
   "outputs": [],
   "source": [
    "df = credible_authors.copy()"
   ]
  },
  {
   "cell_type": "code",
   "execution_count": null,
   "metadata": {
    "hidden": true
   },
   "outputs": [],
   "source": [
    "categorical_cols = ['gender']\n",
    "\n",
    "for col in categorical_cols:\n",
    "    df = df.join(pd.get_dummies(df[categorical_cols]))\n",
    "\n",
    "df.drop(categorical_cols, axis=1, inplace=True)"
   ]
  },
  {
   "cell_type": "markdown",
   "metadata": {
    "hidden": true
   },
   "source": [
    "#### Show k best - F regression or mutual information"
   ]
  },
  {
   "cell_type": "code",
   "execution_count": null,
   "metadata": {
    "hidden": true
   },
   "outputs": [],
   "source": [
    "linear = True\n",
    "# true - fregression\n",
    "# false - mutual info"
   ]
  },
  {
   "cell_type": "code",
   "execution_count": null,
   "metadata": {
    "hidden": true
   },
   "outputs": [],
   "source": [
    "params = []\n",
    "for year in years:\n",
    "    df_year = df[df.start_year == year]\n",
    "    df_year = df_year.drop('start_year', axis=1)\n",
    "#     for EARLY_CAREER in EARLY_CAREER_LEN_LIST:\n",
    "#         for RECOGNITION_CUT in RECOGNITION_CUT_OFF_LIST:\n",
    "#             if RECOGNITION_CUT < EARLY_CAREER: continue\n",
    "    EARLY_CAREER = 3\n",
    "    RECOGNITION_CUT= 5\n",
    "    X_year = df_year[['max_absence-0-3', 'avg_absence-0-3', \n",
    "           'gender_f', 'gender_m', 'gender_none',\n",
    "           f'early_career_degree_{EARLY_CAREER}', \n",
    "           f'early_career_prod_{EARLY_CAREER}',\n",
    "           f'early_career_qual_{EARLY_CAREER}', f'early_career_recognition_EC{EARLY_CAREER}_RC{RECOGNITION_CUT}']]\n",
    "    y_year = df_year['succ_after_15y']\n",
    "    params.append(show_kbest(X_year, y_year, linear, 5))"
   ]
  },
  {
   "cell_type": "code",
   "execution_count": null,
   "metadata": {
    "hidden": true
   },
   "outputs": [],
   "source": [
    "params[0]"
   ]
  },
  {
   "cell_type": "code",
   "execution_count": null,
   "metadata": {
    "hidden": true
   },
   "outputs": [],
   "source": [
    "selected_f = defaultdict(int)\n",
    "for param in params:\n",
    "    selected = param[param.Support == True]['Attribute'].values\n",
    "    selected_f['total'] += 1\n",
    "#     print(selected)\n",
    "    for select in selected:\n",
    "        selected_f[select] += 1"
   ]
  },
  {
   "cell_type": "code",
   "execution_count": null,
   "metadata": {
    "hidden": true
   },
   "outputs": [],
   "source": [
    "selected_f"
   ]
  },
  {
   "cell_type": "markdown",
   "metadata": {
    "hidden": true
   },
   "source": [
    "#### RFE"
   ]
  },
  {
   "cell_type": "code",
   "execution_count": null,
   "metadata": {
    "hidden": true
   },
   "outputs": [],
   "source": [
    "params_rfe = []\n",
    "for year in years:\n",
    "    df_year = df[df.start_year == year]\n",
    "    df_year = df_year.drop('start_year', axis=1)\n",
    "#     for EARLY_CAREER in EARLY_CAREER_LEN_LIST:\n",
    "#         for RECOGNITION_CUT in RECOGNITION_CUT_OFF_LIST:\n",
    "#             if RECOGNITION_CUT < EARLY_CAREER: continue\n",
    "    EARLY_CAREER = 3\n",
    "    RECOGNITION_CUT= 5\n",
    "    X_year = df_year[[\n",
    "        #'max_absence-0-3', 'avg_absence-0-3', \n",
    "           'gender_f', 'gender_m', 'gender_none',\n",
    "           f'early_career_degree_{EARLY_CAREER}', \n",
    "           f'early_career_prod_{EARLY_CAREER}',\n",
    "           f'early_career_qual_{EARLY_CAREER}', f'early_career_recognition_EC{EARLY_CAREER}_RC{RECOGNITION_CUT}']]\n",
    "    y_year = df_year['succ_after_15y']\n",
    "    params_rfe.append(get_features_rfe(X_year, y_year, LinearRegression(),k=5))"
   ]
  },
  {
   "cell_type": "code",
   "execution_count": null,
   "metadata": {
    "hidden": true
   },
   "outputs": [],
   "source": [
    "selected_f = defaultdict(int)\n",
    "for param in params_rfe:\n",
    "    selected = param[param.support == True]['feature'].values\n",
    "    selected_f['total'] += 1\n",
    "#     print(selected)\n",
    "    for select in selected:\n",
    "        selected_f[select] += 1"
   ]
  },
  {
   "cell_type": "code",
   "execution_count": null,
   "metadata": {
    "hidden": true
   },
   "outputs": [],
   "source": [
    "selected_f"
   ]
  },
  {
   "cell_type": "markdown",
   "metadata": {
    "hidden": true
   },
   "source": [
    "#### RFE CV"
   ]
  },
  {
   "cell_type": "code",
   "execution_count": null,
   "metadata": {
    "hidden": true
   },
   "outputs": [],
   "source": [
    "params_rfecv = []\n",
    "for year in years:\n",
    "    df_year = df[df.start_year == year]\n",
    "    df_year = df_year.drop('start_year', axis=1)\n",
    "#     for EARLY_CAREER in EARLY_CAREER_LEN_LIST:\n",
    "#         for RECOGNITION_CUT in RECOGNITION_CUT_OFF_LIST:\n",
    "#             if RECOGNITION_CUT < EARLY_CAREER: continue\n",
    "    EARLY_CAREER = 3\n",
    "    RECOGNITION_CUT= 5\n",
    "    X_year = df_year[['max_absence-0-3', 'avg_absence-0-3', \n",
    "           'gender_f', 'gender_m', 'gender_none',\n",
    "           f'early_career_degree_{EARLY_CAREER}', \n",
    "           f'early_career_prod_{EARLY_CAREER}',\n",
    "           f'early_career_qual_{EARLY_CAREER}', f'early_career_recognition_EC{EARLY_CAREER}_RC{RECOGNITION_CUT}']]\n",
    "    y_year = df_year['succ_after_15y']\n",
    "    params_rfecv.append(get_features_rfecv(X_year, y_year, LinearRegression(),cv=3))"
   ]
  },
  {
   "cell_type": "code",
   "execution_count": null,
   "metadata": {
    "hidden": true
   },
   "outputs": [],
   "source": [
    "selected_f = defaultdict(int)\n",
    "for param in params_rfecv:\n",
    "    selected = param[param.support == True]['feature'].values\n",
    "    selected_f['total'] += 1\n",
    "#     print(selected)\n",
    "    for select in selected:\n",
    "        selected_f[select] += 1"
   ]
  },
  {
   "cell_type": "code",
   "execution_count": null,
   "metadata": {
    "hidden": true
   },
   "outputs": [],
   "source": [
    "selected_f"
   ]
  },
  {
   "cell_type": "markdown",
   "metadata": {
    "heading_collapsed": true
   },
   "source": [
    "### Null experiment"
   ]
  },
  {
   "cell_type": "code",
   "execution_count": null,
   "metadata": {
    "hidden": true
   },
   "outputs": [],
   "source": [
    "citations_per_year = pd.read_csv('derived-data/paper-citation-count.csv', header=None, names=['pub_id', 'cit_count'])"
   ]
  },
  {
   "cell_type": "code",
   "execution_count": null,
   "metadata": {
    "hidden": true
   },
   "outputs": [],
   "source": [
    "publications = pd.read_csv('derived-data/author-publications.csv')"
   ]
  },
  {
   "cell_type": "code",
   "execution_count": null,
   "metadata": {
    "hidden": true
   },
   "outputs": [],
   "source": [
    "# publications.sort_values(by='author').head()"
   ]
  },
  {
   "cell_type": "code",
   "execution_count": null,
   "metadata": {
    "hidden": true
   },
   "outputs": [],
   "source": [
    "# remove authors by career_len, and add start year\n",
    "publications = publications.merge(credible_authors[['author', 'start_year']], on='author')"
   ]
  },
  {
   "cell_type": "code",
   "execution_count": null,
   "metadata": {
    "hidden": true
   },
   "outputs": [],
   "source": [
    "publications = publications[publications.year <= publications.year + MAX_CAREER_LEN]"
   ]
  },
  {
   "cell_type": "code",
   "execution_count": null,
   "metadata": {
    "hidden": true
   },
   "outputs": [],
   "source": [
    "# citations_per_year.head()"
   ]
  },
  {
   "cell_type": "code",
   "execution_count": null,
   "metadata": {
    "hidden": true
   },
   "outputs": [],
   "source": [
    "publications['pub_id'] = shuffle(publications['pub_id']).reset_index(drop=True)"
   ]
  },
  {
   "cell_type": "code",
   "execution_count": null,
   "metadata": {
    "hidden": true
   },
   "outputs": [],
   "source": [
    "# publications.sort_values(by='author').head()"
   ]
  },
  {
   "cell_type": "code",
   "execution_count": null,
   "metadata": {
    "hidden": true
   },
   "outputs": [],
   "source": [
    "publications = publications.merge(citations_per_year, on='pub_id', how='left')\n",
    "publications = publications.fillna(0)"
   ]
  },
  {
   "cell_type": "code",
   "execution_count": null,
   "metadata": {
    "hidden": true
   },
   "outputs": [],
   "source": [
    "publications.sort_values(by='author').head(20)"
   ]
  },
  {
   "cell_type": "code",
   "execution_count": null,
   "metadata": {
    "hidden": true
   },
   "outputs": [],
   "source": [
    "credible_authors[credible_authors.author == \"a min tjoa\"]['succ_after_15y']"
   ]
  },
  {
   "cell_type": "code",
   "execution_count": null,
   "metadata": {
    "hidden": true
   },
   "outputs": [],
   "source": [
    "credible_authors.set_index('author', inplace=True)"
   ]
  },
  {
   "cell_type": "code",
   "execution_count": null,
   "metadata": {
    "hidden": true
   },
   "outputs": [],
   "source": [
    "credible_authors['succ_shuffled'] = publications.groupby('author')['cit_count'].sum()"
   ]
  },
  {
   "cell_type": "code",
   "execution_count": null,
   "metadata": {
    "hidden": true
   },
   "outputs": [],
   "source": [
    "credible_authors[['succ_shuffled', 'succ_after_15y']].head()"
   ]
  },
  {
   "cell_type": "code",
   "execution_count": null,
   "metadata": {
    "hidden": true
   },
   "outputs": [],
   "source": [
    "credible_authors.columns"
   ]
  }
 ],
 "metadata": {
  "kernelspec": {
   "display_name": "Python 3",
   "language": "python",
   "name": "python3"
  },
  "language_info": {
   "codemirror_mode": {
    "name": "ipython",
    "version": 3
   },
   "file_extension": ".py",
   "mimetype": "text/x-python",
   "name": "python",
   "nbconvert_exporter": "python",
   "pygments_lexer": "ipython3",
   "version": "3.6.4"
  }
 },
 "nbformat": 4,
 "nbformat_minor": 2
}
