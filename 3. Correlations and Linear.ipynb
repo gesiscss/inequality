{
 "cells": [
  {
   "cell_type": "code",
   "execution_count": 7,
   "metadata": {},
   "outputs": [],
   "source": [
    "import pandas as pd\n",
    "from matplotlib import pyplot as plt\n",
    "import seaborn as sns"
   ]
  },
  {
   "cell_type": "code",
   "execution_count": 22,
   "metadata": {},
   "outputs": [],
   "source": [
    "credible_authors = pd.read_csv('derived-data/authors-scientific-extended.csv')"
   ]
  },
  {
   "cell_type": "code",
   "execution_count": 23,
   "metadata": {},
   "outputs": [
    {
     "data": {
      "text/html": [
       "<div>\n",
       "<style scoped>\n",
       "    .dataframe tbody tr th:only-of-type {\n",
       "        vertical-align: middle;\n",
       "    }\n",
       "\n",
       "    .dataframe tbody tr th {\n",
       "        vertical-align: top;\n",
       "    }\n",
       "\n",
       "    .dataframe thead th {\n",
       "        text-align: right;\n",
       "    }\n",
       "</style>\n",
       "<table border=\"1\" class=\"dataframe\">\n",
       "  <thead>\n",
       "    <tr style=\"text-align: right;\">\n",
       "      <th></th>\n",
       "      <th>author</th>\n",
       "      <th>start_year</th>\n",
       "      <th>end_year</th>\n",
       "      <th>total_num_pub</th>\n",
       "      <th>career_length</th>\n",
       "      <th>max_absence-0-15</th>\n",
       "      <th>avg_absence-0-15</th>\n",
       "      <th>dropped_after_10</th>\n",
       "      <th>gender</th>\n",
       "      <th>early_career_degree</th>\n",
       "      <th>...</th>\n",
       "      <th>early_career_recognition_EC4_RC5</th>\n",
       "      <th>early_career_recognition_EC4_RC7</th>\n",
       "      <th>early_career_recognition_EC4_RC9</th>\n",
       "      <th>early_career_recognition_EC5_RC5</th>\n",
       "      <th>early_career_recognition_EC5_RC7</th>\n",
       "      <th>early_career_recognition_EC5_RC9</th>\n",
       "      <th>early_career_recognition_EC6_RC7</th>\n",
       "      <th>early_career_recognition_EC6_RC9</th>\n",
       "      <th>early_career_recognition_EC7_RC7</th>\n",
       "      <th>early_career_recognition_EC7_RC9</th>\n",
       "    </tr>\n",
       "  </thead>\n",
       "  <tbody>\n",
       "    <tr>\n",
       "      <th>0</th>\n",
       "      <td>'maseka lesaoana</td>\n",
       "      <td>2001</td>\n",
       "      <td>2015</td>\n",
       "      <td>2</td>\n",
       "      <td>15</td>\n",
       "      <td>14</td>\n",
       "      <td>7.5</td>\n",
       "      <td>True</td>\n",
       "      <td>none</td>\n",
       "      <td>0.0</td>\n",
       "      <td>...</td>\n",
       "      <td>5.0</td>\n",
       "      <td>10.0</td>\n",
       "      <td>14.0</td>\n",
       "      <td>5.0</td>\n",
       "      <td>10.0</td>\n",
       "      <td>14.0</td>\n",
       "      <td>10.0</td>\n",
       "      <td>14.0</td>\n",
       "      <td>10.0</td>\n",
       "      <td>14.0</td>\n",
       "    </tr>\n",
       "    <tr>\n",
       "      <th>1</th>\n",
       "      <td>(max) zong-ming cheng</td>\n",
       "      <td>2009</td>\n",
       "      <td>2011</td>\n",
       "      <td>2</td>\n",
       "      <td>3</td>\n",
       "      <td>13</td>\n",
       "      <td>7.5</td>\n",
       "      <td>True</td>\n",
       "      <td>none</td>\n",
       "      <td>14.0</td>\n",
       "      <td>...</td>\n",
       "      <td>4.0</td>\n",
       "      <td>4.0</td>\n",
       "      <td>4.0</td>\n",
       "      <td>4.0</td>\n",
       "      <td>4.0</td>\n",
       "      <td>4.0</td>\n",
       "      <td>4.0</td>\n",
       "      <td>4.0</td>\n",
       "      <td>4.0</td>\n",
       "      <td>4.0</td>\n",
       "    </tr>\n",
       "    <tr>\n",
       "      <th>2</th>\n",
       "      <td>(zhou) bryan bai</td>\n",
       "      <td>2011</td>\n",
       "      <td>2012</td>\n",
       "      <td>2</td>\n",
       "      <td>2</td>\n",
       "      <td>14</td>\n",
       "      <td>7.5</td>\n",
       "      <td>True</td>\n",
       "      <td>none</td>\n",
       "      <td>0.0</td>\n",
       "      <td>...</td>\n",
       "      <td>0.0</td>\n",
       "      <td>0.0</td>\n",
       "      <td>0.0</td>\n",
       "      <td>0.0</td>\n",
       "      <td>0.0</td>\n",
       "      <td>0.0</td>\n",
       "      <td>0.0</td>\n",
       "      <td>0.0</td>\n",
       "      <td>0.0</td>\n",
       "      <td>0.0</td>\n",
       "    </tr>\n",
       "    <tr>\n",
       "      <th>3</th>\n",
       "      <td>a aart blokhuis</td>\n",
       "      <td>1992</td>\n",
       "      <td>2005</td>\n",
       "      <td>2</td>\n",
       "      <td>14</td>\n",
       "      <td>13</td>\n",
       "      <td>7.5</td>\n",
       "      <td>True</td>\n",
       "      <td>none</td>\n",
       "      <td>0.0</td>\n",
       "      <td>...</td>\n",
       "      <td>0.0</td>\n",
       "      <td>0.0</td>\n",
       "      <td>0.0</td>\n",
       "      <td>0.0</td>\n",
       "      <td>0.0</td>\n",
       "      <td>0.0</td>\n",
       "      <td>0.0</td>\n",
       "      <td>0.0</td>\n",
       "      <td>0.0</td>\n",
       "      <td>0.0</td>\n",
       "    </tr>\n",
       "    <tr>\n",
       "      <th>4</th>\n",
       "      <td>a ahrabian</td>\n",
       "      <td>2017</td>\n",
       "      <td>2017</td>\n",
       "      <td>1</td>\n",
       "      <td>1</td>\n",
       "      <td>15</td>\n",
       "      <td>15.0</td>\n",
       "      <td>True</td>\n",
       "      <td>none</td>\n",
       "      <td>0.0</td>\n",
       "      <td>...</td>\n",
       "      <td>0.0</td>\n",
       "      <td>0.0</td>\n",
       "      <td>0.0</td>\n",
       "      <td>0.0</td>\n",
       "      <td>0.0</td>\n",
       "      <td>0.0</td>\n",
       "      <td>0.0</td>\n",
       "      <td>0.0</td>\n",
       "      <td>0.0</td>\n",
       "      <td>0.0</td>\n",
       "    </tr>\n",
       "  </tbody>\n",
       "</table>\n",
       "<p>5 rows × 43 columns</p>\n",
       "</div>"
      ],
      "text/plain": [
       "                  author  start_year  end_year  total_num_pub  career_length  \\\n",
       "0       'maseka lesaoana        2001      2015              2             15   \n",
       "1  (max) zong-ming cheng        2009      2011              2              3   \n",
       "2       (zhou) bryan bai        2011      2012              2              2   \n",
       "3        a aart blokhuis        1992      2005              2             14   \n",
       "4             a ahrabian        2017      2017              1              1   \n",
       "\n",
       "   max_absence-0-15  avg_absence-0-15  dropped_after_10 gender  \\\n",
       "0                14               7.5              True   none   \n",
       "1                13               7.5              True   none   \n",
       "2                14               7.5              True   none   \n",
       "3                13               7.5              True   none   \n",
       "4                15              15.0              True   none   \n",
       "\n",
       "   early_career_degree                ...                 \\\n",
       "0                  0.0                ...                  \n",
       "1                 14.0                ...                  \n",
       "2                  0.0                ...                  \n",
       "3                  0.0                ...                  \n",
       "4                  0.0                ...                  \n",
       "\n",
       "   early_career_recognition_EC4_RC5  early_career_recognition_EC4_RC7  \\\n",
       "0                               5.0                              10.0   \n",
       "1                               4.0                               4.0   \n",
       "2                               0.0                               0.0   \n",
       "3                               0.0                               0.0   \n",
       "4                               0.0                               0.0   \n",
       "\n",
       "   early_career_recognition_EC4_RC9  early_career_recognition_EC5_RC5  \\\n",
       "0                              14.0                               5.0   \n",
       "1                               4.0                               4.0   \n",
       "2                               0.0                               0.0   \n",
       "3                               0.0                               0.0   \n",
       "4                               0.0                               0.0   \n",
       "\n",
       "   early_career_recognition_EC5_RC7  early_career_recognition_EC5_RC9  \\\n",
       "0                              10.0                              14.0   \n",
       "1                               4.0                               4.0   \n",
       "2                               0.0                               0.0   \n",
       "3                               0.0                               0.0   \n",
       "4                               0.0                               0.0   \n",
       "\n",
       "   early_career_recognition_EC6_RC7  early_career_recognition_EC6_RC9  \\\n",
       "0                              10.0                              14.0   \n",
       "1                               4.0                               4.0   \n",
       "2                               0.0                               0.0   \n",
       "3                               0.0                               0.0   \n",
       "4                               0.0                               0.0   \n",
       "\n",
       "   early_career_recognition_EC7_RC7  early_career_recognition_EC7_RC9  \n",
       "0                              10.0                              14.0  \n",
       "1                               4.0                               4.0  \n",
       "2                               0.0                               0.0  \n",
       "3                               0.0                               0.0  \n",
       "4                               0.0                               0.0  \n",
       "\n",
       "[5 rows x 43 columns]"
      ]
     },
     "execution_count": 23,
     "metadata": {},
     "output_type": "execute_result"
    }
   ],
   "source": [
    "credible_authors.head()"
   ]
  },
  {
   "cell_type": "code",
   "execution_count": 18,
   "metadata": {},
   "outputs": [],
   "source": [
    "cor_qual = credible_authors[['author', 'early_career_qual_1', 'early_career_qual_3', 'early_career_qual_5', 'early_career_qual_7', 'succ_after_15y']].corr()"
   ]
  },
  {
   "cell_type": "code",
   "execution_count": 20,
   "metadata": {},
   "outputs": [
    {
     "data": {
      "text/plain": [
       "early_career_qual_1    0.429542\n",
       "early_career_qual_3    0.678851\n",
       "early_career_qual_5    0.827569\n",
       "early_career_qual_7    0.922532\n",
       "succ_after_15y         1.000000\n",
       "Name: succ_after_15y, dtype: float64"
      ]
     },
     "execution_count": 20,
     "metadata": {},
     "output_type": "execute_result"
    }
   ],
   "source": [
    "cor_qual['succ_after_15y'].sort_values()"
   ]
  },
  {
   "cell_type": "code",
   "execution_count": 27,
   "metadata": {},
   "outputs": [],
   "source": [
    "cor_rec = credible_authors[['early_career_recognition_EC1_RC3', 'early_career_recognition_EC1_RC5',\n",
    "       'early_career_recognition_EC1_RC7', 'early_career_recognition_EC1_RC9',\n",
    "       'early_career_recognition_EC2_RC3', 'early_career_recognition_EC2_RC5',\n",
    "       'early_career_recognition_EC2_RC7', 'early_career_recognition_EC2_RC9',\n",
    "       'early_career_recognition_EC3_RC3', 'early_career_recognition_EC3_RC5',\n",
    "       'early_career_recognition_EC3_RC7', 'early_career_recognition_EC3_RC9',\n",
    "       'early_career_recognition_EC4_RC5', 'early_career_recognition_EC4_RC7',\n",
    "       'early_career_recognition_EC4_RC9', 'early_career_recognition_EC5_RC5',\n",
    "       'early_career_recognition_EC5_RC7', 'early_career_recognition_EC5_RC9',\n",
    "       'early_career_recognition_EC6_RC7', 'early_career_recognition_EC6_RC9',\n",
    "       'early_career_recognition_EC7_RC7', 'early_career_recognition_EC7_RC9', 'succ_after_15y']].corr()"
   ]
  },
  {
   "cell_type": "code",
   "execution_count": 28,
   "metadata": {},
   "outputs": [
    {
     "data": {
      "text/plain": [
       "early_career_recognition_EC1_RC3    0.300320\n",
       "early_career_recognition_EC2_RC3    0.352407\n",
       "early_career_recognition_EC1_RC5    0.361793\n",
       "early_career_recognition_EC3_RC3    0.367654\n",
       "early_career_recognition_EC1_RC7    0.395333\n",
       "early_career_recognition_EC1_RC9    0.417202\n",
       "early_career_recognition_EC2_RC5    0.454953\n",
       "early_career_recognition_EC2_RC7    0.507234\n",
       "early_career_recognition_EC3_RC5    0.519877\n",
       "early_career_recognition_EC2_RC9    0.539288\n",
       "early_career_recognition_EC4_RC5    0.552257\n",
       "early_career_recognition_EC5_RC5    0.560182\n",
       "early_career_recognition_EC3_RC7    0.591065\n",
       "early_career_recognition_EC3_RC9    0.636034\n",
       "early_career_recognition_EC4_RC7    0.645770\n",
       "early_career_recognition_EC5_RC7    0.679102\n",
       "early_career_recognition_EC6_RC7    0.698645\n",
       "early_career_recognition_EC7_RC7    0.703478\n",
       "early_career_recognition_EC4_RC9    0.703638\n",
       "early_career_recognition_EC5_RC9    0.750529\n",
       "early_career_recognition_EC6_RC9    0.789420\n",
       "early_career_recognition_EC7_RC9    0.813354\n",
       "succ_after_15y                      1.000000\n",
       "Name: succ_after_15y, dtype: float64"
      ]
     },
     "execution_count": 28,
     "metadata": {},
     "output_type": "execute_result"
    }
   ],
   "source": [
    "cor_rec['succ_after_15y'].sort_values()"
   ]
  },
  {
   "cell_type": "code",
   "execution_count": 9,
   "metadata": {},
   "outputs": [],
   "source": [
    "cor = credible_authors.corr()"
   ]
  },
  {
   "cell_type": "code",
   "execution_count": 21,
   "metadata": {},
   "outputs": [
    {
     "data": {
      "text/plain": [
       "max_absence-0-15           -0.356933\n",
       "dropped_after_10           -0.284464\n",
       "avg_absence-0-15           -0.262379\n",
       "start_year                 -0.132691\n",
       "end_year                    0.082452\n",
       "early_career_degree         0.099697\n",
       "career_length               0.270344\n",
       "early_career_prod           0.312531\n",
       "total_num_pub               0.473889\n",
       "early_career_recognition    0.519877\n",
       "early_career_qual           0.678851\n",
       "succ_after_15y              1.000000\n",
       "Name: succ_after_15y, dtype: float64"
      ]
     },
     "execution_count": 21,
     "metadata": {},
     "output_type": "execute_result"
    }
   ],
   "source": [
    "cor['succ_after_15y'].sort_values()"
   ]
  },
  {
   "cell_type": "code",
   "execution_count": 11,
   "metadata": {},
   "outputs": [
    {
     "data": {
      "text/plain": [
       "<matplotlib.axes._subplots.AxesSubplot at 0x7f2bf38073c8>"
      ]
     },
     "execution_count": 11,
     "metadata": {},
     "output_type": "execute_result"
    },
    {
     "data": {
      "image/png": "[encoded data removed]",
      "text/plain": [
       "<matplotlib.figure.Figure at 0x7f2bf3826860>"
      ]
     },
     "metadata": {},
     "output_type": "display_data"
    }
   ],
   "source": [
    "sns.heatmap(cor, center=0,\n",
    "            square=True, linewidths=.5, cbar_kws={\"shrink\": .5})"
   ]
  }
 ],
 "metadata": {
  "kernelspec": {
   "display_name": "Python 3",
   "language": "python",
   "name": "python3"
  },
  "language_info": {
   "codemirror_mode": {
    "name": "ipython",
    "version": 3
   },
   "file_extension": ".py",
   "mimetype": "text/x-python",
   "name": "python",
   "nbconvert_exporter": "python",
   "pygments_lexer": "ipython3",
   "version": "3.6.4"
  }
 },
 "nbformat": 4,
 "nbformat_minor": 2
}
